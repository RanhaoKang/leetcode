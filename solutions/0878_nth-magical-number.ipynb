{
 "cells": [
  {
   "cell_type": "markdown",
   "metadata": {},
   "source": [
    "[878. Nth Magical Number](https://leetcode.com/problems/nth-magical-number/)"
   ]
  },
  {
   "cell_type": "code",
   "execution_count": 3,
   "metadata": {},
   "outputs": [],
   "source": [
    "class Solution:\n",
    "    def nthMagicalNumber(self, N: int, A: int, B: int) -> int:\n",
    "        from math import gcd\n",
    "        MOD = 10**9 + 7\n",
    "        L = A // gcd(A,B) * B\n",
    "\n",
    "        def magic_below_x(x):\n",
    "            #How many magical numbers are <= x?\n",
    "            return x // A + x // B - x // L\n",
    "\n",
    "        lo = 0\n",
    "        hi = 10**15\n",
    "        while lo < hi:\n",
    "            mi = (lo + hi) // 2\n",
    "            if magic_below_x(mi) < N:\n",
    "                lo = mi + 1\n",
    "            else:\n",
    "                hi = mi\n",
    "\n",
    "        return lo % MOD"
   ]
  },
  {
   "cell_type": "code",
   "execution_count": 4,
   "metadata": {},
   "outputs": [
    {
     "data": {
      "text/plain": [
       "6"
      ]
     },
     "execution_count": 4,
     "metadata": {},
     "output_type": "execute_result"
    }
   ],
   "source": [
    "Solution().nthMagicalNumber(4, 2, 3)"
   ]
  },
  {
   "cell_type": "code",
   "execution_count": null,
   "metadata": {},
   "outputs": [],
   "source": []
  }
 ],
 "metadata": {
  "kernelspec": {
   "display_name": "Python 3",
   "language": "python",
   "name": "python3"
  },
  "language_info": {
   "codemirror_mode": {
    "name": "ipython",
    "version": 3
   },
   "file_extension": ".py",
   "mimetype": "text/x-python",
   "name": "python",
   "nbconvert_exporter": "python",
   "pygments_lexer": "ipython3",
   "version": "3.8.1"
  }
 },
 "nbformat": 4,
 "nbformat_minor": 4
}
