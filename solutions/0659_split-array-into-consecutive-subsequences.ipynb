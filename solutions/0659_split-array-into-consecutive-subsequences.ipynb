{
 "cells": [
  {
   "cell_type": "markdown",
   "metadata": {},
   "source": [
    "[659. Split Array into Consecutive Subsequences](https://leetcode.com/problems/split-array-into-consecutive-subsequences/)"
   ]
  },
  {
   "cell_type": "markdown",
   "metadata": {},
   "source": [
    "本土化一下题意: 打牌三个或以上连续的算顺子, 求解手牌能否拆成几条顺子."
   ]
  },
  {
   "cell_type": "markdown",
   "metadata": {},
   "source": [
    "贪心的想法应该是可行的: 如果一条顺子由4/5张牌组成, 它不能被拆为2条顺子, 如果一条顺子由6张以上牌组成, 那么拆不拆对结果没有影响.\n",
    "\n",
    "`[1, 2, 3, 4], [4, 5, 6]`"
   ]
  },
  {
   "cell_type": "markdown",
   "metadata": {},
   "source": [
    "麻将里算牌的技巧应该可以挪用过来: 重点不在于边张的数量, 而是中间牌的数量"
   ]
  },
  {
   "cell_type": "markdown",
   "metadata": {},
   "source": [
    "重点在于每种元素的数量, 可以先用`Counter`对原始输入做处理"
   ]
  },
  {
   "cell_type": "markdown",
   "metadata": {},
   "source": [
    "最后得出一个很难写的代码"
   ]
  },
  {
   "cell_type": "code",
   "execution_count": 36,
   "metadata": {},
   "outputs": [],
   "source": [
    "class Solution:\n",
    "    def isPossible(self, nums) -> bool:\n",
    "        from collections import Counter\n",
    "        nums = Counter(nums)\n",
    "        seq = Counter()\n",
    "\n",
    "        for k in nums:\n",
    "            if nums[k] == 0:\n",
    "                continue\n",
    "\n",
    "            if seq[k]:\n",
    "                val = min(seq[k], nums[k])\n",
    "                seq[k] -= val\n",
    "                seq[k+1] += val\n",
    "\n",
    "            elif nums[k+1] and nums[k+2]:\n",
    "                val = min(nums[k+1], nums[k+2])\n",
    "                nums[k+1] -= val\n",
    "                nums[k+2] -= val\n",
    "                seq[k+3]  += val\n",
    "            else:\n",
    "                return False\n",
    "            nums[k] -= val\n",
    "        \n",
    "        print(nums, seq)\n",
    "        return True"
   ]
  },
  {
   "cell_type": "code",
   "execution_count": 37,
   "metadata": {},
   "outputs": [
    {
     "name": "stdout",
     "output_type": "stream",
     "text": [
      "Counter({1: 0, 2: 0, 3: 0, 4: 0, 5: 0}) Counter({4: 1, 6: 1})\n"
     ]
    },
    {
     "data": {
      "text/plain": [
       "True"
      ]
     },
     "execution_count": 37,
     "metadata": {},
     "output_type": "execute_result"
    }
   ],
   "source": [
    "Solution().isPossible([1,2,3,3,4,5])"
   ]
  },
  {
   "cell_type": "code",
   "execution_count": 38,
   "metadata": {},
   "outputs": [
    {
     "name": "stdout",
     "output_type": "stream",
     "text": [
      "Counter({1: 0, 2: 0, 4: 0, 5: 0, 3: -1}) Counter({6: 2, 4: 1})\n"
     ]
    },
    {
     "data": {
      "text/plain": [
       "True"
      ]
     },
     "execution_count": 38,
     "metadata": {},
     "output_type": "execute_result"
    }
   ],
   "source": [
    "Solution().isPossible([1,2,3,3,4,4,5,5])"
   ]
  },
  {
   "cell_type": "code",
   "execution_count": 39,
   "metadata": {},
   "outputs": [
    {
     "name": "stdout",
     "output_type": "stream",
     "text": [
      "Counter({4: 1, 1: 0, 2: 0, 3: 0, 5: 0}) Counter({6: 1, 4: 0, 5: 0})\n"
     ]
    },
    {
     "data": {
      "text/plain": [
       "True"
      ]
     },
     "execution_count": 39,
     "metadata": {},
     "output_type": "execute_result"
    }
   ],
   "source": [
    "Solution().isPossible([1,2,3,4,4,5])"
   ]
  },
  {
   "cell_type": "code",
   "execution_count": 40,
   "metadata": {},
   "outputs": [],
   "source": [
    "class Solution:\n",
    "    def isPossible(self, nums):\n",
    "        count = collections.Counter(nums)\n",
    "        tails = collections.Counter()\n",
    "        for x in nums:\n",
    "            if count[x] == 0:\n",
    "                continue\n",
    "            elif tails[x] > 0:\n",
    "                tails[x] -= 1\n",
    "                tails[x+1] += 1\n",
    "            elif count[x+1] > 0 and count[x+2] > 0:\n",
    "                count[x+1] -= 1\n",
    "                count[x+2] -= 1\n",
    "                tails[x+3] += 1\n",
    "            else:\n",
    "                return False\n",
    "            count[x] -= 1\n",
    "        return True"
   ]
  },
  {
   "cell_type": "code",
   "execution_count": null,
   "metadata": {},
   "outputs": [],
   "source": []
  }
 ],
 "metadata": {
  "kernelspec": {
   "display_name": "Python 3",
   "language": "python",
   "name": "python3"
  },
  "language_info": {
   "codemirror_mode": {
    "name": "ipython",
    "version": 3
   },
   "file_extension": ".py",
   "mimetype": "text/x-python",
   "name": "python",
   "nbconvert_exporter": "python",
   "pygments_lexer": "ipython3",
   "version": "3.8.1"
  }
 },
 "nbformat": 4,
 "nbformat_minor": 2
}
