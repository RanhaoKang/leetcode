{
 "cells": [
  {
   "cell_type": "markdown",
   "metadata": {},
   "source": [
    "[659. Split Array into Consecutive Subsequences](https://leetcode.com/problems/split-array-into-consecutive-subsequences/)"
   ]
  },
  {
   "cell_type": "markdown",
   "metadata": {},
   "source": [
    "本土化一下题意: 打牌三个或以上连续的算顺子, 求解手牌能否拆成几条顺子."
   ]
  },
  {
   "cell_type": "markdown",
   "metadata": {},
   "source": [
    "贪心的想法应该是可行的: 如果一条顺子由4/5张牌组成, 它不能被拆为2条顺子, 如果一条顺子由6张以上牌组成, 那么拆不拆对结果没有影响.\n",
    "\n",
    "`[1, 2, 3, 4], [4, 5, 6]`"
   ]
  },
  {
   "cell_type": "markdown",
   "metadata": {},
   "source": [
    "麻将里算牌的技巧应该可以挪用过来: 重点不在于边张的数量, 而是中间牌的数量"
   ]
  },
  {
   "cell_type": "markdown",
   "metadata": {},
   "source": [
    "重点在于每种元素的数量, 可以先用`Counter`对原始输入做处理"
   ]
  },
  {
   "cell_type": "code",
   "execution_count": 2,
   "metadata": {},
   "outputs": [],
   "source": [
    "class Solution:\n",
    "    def isPossible(self, nums) -> bool:\n",
    "        from collections import Counter\n",
    "        nums = Counter(nums)\n",
    "        \n",
    "        "
   ]
  },
  {
   "cell_type": "code",
   "execution_count": null,
   "metadata": {},
   "outputs": [],
   "source": []
  }
 ],
 "metadata": {
  "kernelspec": {
   "display_name": "Python 3",
   "language": "python",
   "name": "python3"
  },
  "language_info": {
   "codemirror_mode": {
    "name": "ipython",
    "version": 3
   },
   "file_extension": ".py",
   "mimetype": "text/x-python",
   "name": "python",
   "nbconvert_exporter": "python",
   "pygments_lexer": "ipython3",
   "version": "3.7.3"
  }
 },
 "nbformat": 4,
 "nbformat_minor": 2
}
