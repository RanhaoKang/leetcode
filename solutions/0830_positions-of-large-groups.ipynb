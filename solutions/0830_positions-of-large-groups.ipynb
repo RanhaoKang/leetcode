{
 "cells": [
  {
   "cell_type": "markdown",
   "metadata": {},
   "source": [
    "[830. Positions of Large Groups](https://leetcode.com/problems/positions-of-large-groups/)"
   ]
  },
  {
   "cell_type": "markdown",
   "metadata": {},
   "source": [
    "抄的作业, 自己的话会卖弄一下`groupby`"
   ]
  },
  {
   "cell_type": "code",
   "execution_count": 3,
   "metadata": {},
   "outputs": [
    {
     "data": {
      "text/plain": [
       "[['a', 'a', 'a'], ['b', 'b'], ['c', 'c'], ['d', 'd'], ['e']]"
      ]
     },
     "execution_count": 3,
     "metadata": {},
     "output_type": "execute_result"
    }
   ],
   "source": [
    "from itertools import groupby\n",
    "[list(g) for k, g in groupby('aaabbccdde')]"
   ]
  },
  {
   "cell_type": "code",
   "execution_count": 4,
   "metadata": {},
   "outputs": [],
   "source": [
    "class Solution:\n",
    "    def largeGroupPositions(self, S):\n",
    "        ans = []\n",
    "        i = 0 # The start of each group\n",
    "        for j in range(len(S)):\n",
    "            if j == len(S) - 1 or S[j] != S[j+1]:\n",
    "                # Here, [i, j] represents a group.\n",
    "                if j-i+1 >= 3:\n",
    "                    ans.append([i, j])\n",
    "                i = j+1\n",
    "        return ans"
   ]
  },
  {
   "cell_type": "code",
   "execution_count": null,
   "metadata": {},
   "outputs": [],
   "source": []
  }
 ],
 "metadata": {
  "kernelspec": {
   "display_name": "Python 3",
   "language": "python",
   "name": "python3"
  },
  "language_info": {
   "codemirror_mode": {
    "name": "ipython",
    "version": 3
   },
   "file_extension": ".py",
   "mimetype": "text/x-python",
   "name": "python",
   "nbconvert_exporter": "python",
   "pygments_lexer": "ipython3",
   "version": "3.6.7"
  }
 },
 "nbformat": 4,
 "nbformat_minor": 2
}
