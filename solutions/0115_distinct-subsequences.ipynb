{
 "cells": [
  {
   "cell_type": "markdown",
   "metadata": {},
   "source": [
    "[115. Distinct Subsequences](https://leetcode.com/problems/distinct-subsequences/)"
   ]
  },
  {
   "cell_type": "code",
   "execution_count": 1,
   "metadata": {},
   "outputs": [],
   "source": [
    "class Solution:\n",
    "    def numDistinct(self, s: str, t: str) -> int:\n",
    "        N1, N2 = len(s) + 1, len(t) + 1\n",
    "        cur = [0] * N2\n",
    "        cur[0] = 1\n",
    "        for i in range(1, N1):\n",
    "            pre = cur[:]\n",
    "            for j in range(1, N2):\n",
    "                cur[j] = pre[j] + pre[j-1] * (s[i-1] == t[j-1])\n",
    "        return cur[-1]"
   ]
  },
  {
   "cell_type": "code",
   "execution_count": null,
   "metadata": {},
   "outputs": [],
   "source": []
  }
 ],
 "metadata": {
  "kernelspec": {
   "display_name": "Python 3",
   "language": "python",
   "name": "python3"
  },
  "language_info": {
   "codemirror_mode": {
    "name": "ipython",
    "version": 3
   },
   "file_extension": ".py",
   "mimetype": "text/x-python",
   "name": "python",
   "nbconvert_exporter": "python",
   "pygments_lexer": "ipython3",
   "version": "3.6.7"
  }
 },
 "nbformat": 4,
 "nbformat_minor": 2
}
