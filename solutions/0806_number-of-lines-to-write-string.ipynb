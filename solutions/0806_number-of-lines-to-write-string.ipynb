{
 "cells": [
  {
   "cell_type": "markdown",
   "metadata": {},
   "source": [
    "[806. Number of Lines To Write String](https://leetcode.com/problems/number-of-lines-to-write-string/)"
   ]
  },
  {
   "cell_type": "markdown",
   "metadata": {},
   "source": [
    "> More time is wasted understanding the question than solving it.\n",
    "Thumbs down for a poor description. Needs more explanation."
   ]
  },
  {
   "cell_type": "code",
   "execution_count": 1,
   "metadata": {},
   "outputs": [],
   "source": [
    "class Solution:\n",
    "    def numberOfLines(self, widths, S: str):\n",
    "        lines, width = 1, 0\n",
    "        for c in S:\n",
    "            w = widths[ord(c) - ord('a')]\n",
    "            width += w\n",
    "            if width > 100:\n",
    "                lines += 1\n",
    "                width = w\n",
    "\n",
    "        return lines, width"
   ]
  },
  {
   "cell_type": "code",
   "execution_count": null,
   "metadata": {},
   "outputs": [],
   "source": []
  }
 ],
 "metadata": {
  "kernelspec": {
   "display_name": "Python 3",
   "language": "python",
   "name": "python3"
  },
  "language_info": {
   "codemirror_mode": {
    "name": "ipython",
    "version": 3
   },
   "file_extension": ".py",
   "mimetype": "text/x-python",
   "name": "python",
   "nbconvert_exporter": "python",
   "pygments_lexer": "ipython3",
   "version": "3.7.3"
  }
 },
 "nbformat": 4,
 "nbformat_minor": 2
}
