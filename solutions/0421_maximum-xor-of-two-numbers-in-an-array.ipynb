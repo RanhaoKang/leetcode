{
 "cells": [
  {
   "cell_type": "markdown",
   "metadata": {},
   "source": [
    "[421. Maximum XOR of Two Numbers in an Array](https://leetcode.com/problems/maximum-xor-of-two-numbers-in-an-array/)"
   ]
  },
  {
   "cell_type": "markdown",
   "metadata": {},
   "source": [
    "建模为前缀树:\n",
    "![](https://assets.leetcode.com/users/kniost/image_1540195211.png)\n",
    "\n",
    "进一步求解本题, 问题已经被建模为在前缀树中高位优先尽可能找每一位不一样的.\n",
    "\n",
    "在中间状态, 我们有两棵前缀树, 一支前缀为`*1`, 一支前缀为`*0`, 其中的`*`是已匹配的位数(尽可能不同).\n",
    "\n",
    "- 如果其中一支只有左子树或右子树, 那么在另一支优先找不同的位.\n",
    "- 如果两个分支均有两个下一位, 分治法."
   ]
  },
  {
   "cell_type": "code",
   "execution_count": 2,
   "metadata": {},
   "outputs": [],
   "source": [
    "class Solution:\n",
    "    def findMaximumXOR(self, nums) -> int:\n",
    "        xor = 0\n",
    "        for num in nums:\n",
    "            print(xor, num)\n",
    "            xor ^= num\n",
    "        \n",
    "        # for nums in nums:"
   ]
  },
  {
   "cell_type": "code",
   "execution_count": 3,
   "metadata": {},
   "outputs": [
    {
     "name": "stdout",
     "output_type": "stream",
     "text": [
      "0 3\n",
      "3 10\n",
      "9 5\n",
      "12 25\n",
      "21 2\n",
      "23 8\n"
     ]
    }
   ],
   "source": [
    "Solution().findMaximumXOR([3,10,5,25,2,8])"
   ]
  },
  {
   "cell_type": "code",
   "execution_count": 1,
   "metadata": {},
   "outputs": [],
   "source": [
    "class Solution:\n",
    "    def findMaximumXOR(self, nums):\n",
    "        answer = 0\n",
    "        for i in range(32)[::-1]:\n",
    "            answer <<= 1\n",
    "            prefixes = {num >> i for num in nums}\n",
    "            answer += any(answer^1 ^ p in prefixes for p in prefixes)\n",
    "        return answer"
   ]
  },
  {
   "cell_type": "code",
   "execution_count": null,
   "metadata": {},
   "outputs": [],
   "source": []
  }
 ],
 "metadata": {
  "kernelspec": {
   "display_name": "Python 3",
   "language": "python",
   "name": "python3"
  },
  "language_info": {
   "codemirror_mode": {
    "name": "ipython",
    "version": 3
   },
   "file_extension": ".py",
   "mimetype": "text/x-python",
   "name": "python",
   "nbconvert_exporter": "python",
   "pygments_lexer": "ipython3",
   "version": "3.6.7"
  }
 },
 "nbformat": 4,
 "nbformat_minor": 2
}
