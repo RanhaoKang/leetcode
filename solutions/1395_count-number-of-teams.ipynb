{
 "cells": [
  {
   "cell_type": "markdown",
   "metadata": {},
   "source": [
    "[1395. Count Number of Teams](https://leetcode.com/problems/count-number-of-teams/)"
   ]
  },
  {
   "cell_type": "code",
   "execution_count": 1,
   "metadata": {},
   "outputs": [],
   "source": [
    "class Solution:\n",
    "    def numTeams(self, rating) -> int:\n",
    "        if len(rating) < 3:\n",
    "            return 0\n",
    "        \n",
    "        from collections import Counter\n",
    "        res, greater, less = 0, Counter(), Counter()\n",
    "        \n",
    "        for i in range(len(rating) - 1):\n",
    "            for j in range(i + 1, len(rating)):\n",
    "                if rating[j] > rating[i]:\n",
    "                    greater[i] += 1\n",
    "                else:\n",
    "                    less[i] += 1\n",
    "        \n",
    "        for i in range(len(rating) - 2):\n",
    "            for j in range(i + 1, len(rating)):\n",
    "                if rating[i] < rating[j]:\n",
    "                    res += greater[j]\n",
    "                else:\n",
    "                    res += less[j]\n",
    "        \n",
    "        return res"
   ]
  },
  {
   "cell_type": "code",
   "execution_count": null,
   "metadata": {},
   "outputs": [],
   "source": []
  }
 ],
 "metadata": {
  "kernelspec": {
   "display_name": "Python 3",
   "language": "python",
   "name": "python3"
  },
  "language_info": {
   "codemirror_mode": {
    "name": "ipython",
    "version": 3
   },
   "file_extension": ".py",
   "mimetype": "text/x-python",
   "name": "python",
   "nbconvert_exporter": "python",
   "pygments_lexer": "ipython3",
   "version": "3.8.1"
  }
 },
 "nbformat": 4,
 "nbformat_minor": 4
}
