{
 "cells": [
  {
   "cell_type": "markdown",
   "metadata": {},
   "source": [
    "[984. String Without AAA or BBB](https://leetcode.com/problems/string-without-aaa-or-bbb/)"
   ]
  },
  {
   "cell_type": "code",
   "execution_count": 1,
   "metadata": {},
   "outputs": [],
   "source": [
    "class Solution:\n",
    "    def strWithout3a3b(self, A: int, B: int, a = \"a\", b = \"b\") -> str:\n",
    "        if B > A:\n",
    "            return self.strWithout3a3b(B, A, b, a)\n",
    "        if A >= B * 2:\n",
    "            return (a + a + b) * B + a * (A - B * 2)\n",
    "        return (a + a + b) * (A - B) + (a + b) * (B * 2 - A)"
   ]
  },
  {
   "cell_type": "code",
   "execution_count": null,
   "metadata": {},
   "outputs": [],
   "source": []
  }
 ],
 "metadata": {
  "kernelspec": {
   "display_name": "Python 3",
   "language": "python",
   "name": "python3"
  },
  "language_info": {
   "codemirror_mode": {
    "name": "ipython",
    "version": 3
   },
   "file_extension": ".py",
   "mimetype": "text/x-python",
   "name": "python",
   "nbconvert_exporter": "python",
   "pygments_lexer": "ipython3",
   "version": "3.8.1"
  }
 },
 "nbformat": 4,
 "nbformat_minor": 4
}
