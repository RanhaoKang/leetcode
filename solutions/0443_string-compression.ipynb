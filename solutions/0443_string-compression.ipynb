{
 "cells": [
  {
   "cell_type": "markdown",
   "metadata": {},
   "source": [
    "[443. String Compression](https://leetcode.com/problems/string-compression/)"
   ]
  },
  {
   "cell_type": "code",
   "execution_count": 1,
   "metadata": {},
   "outputs": [],
   "source": [
    "class Solution:\n",
    "    def compress(self, chars):\n",
    "        left = i = 0\n",
    "        while i < len(chars):\n",
    "            char, length = chars[i], 1\n",
    "            while (i + 1) < len(chars) and char == chars[i + 1]:\n",
    "                length, i = length + 1, i + 1\n",
    "            chars[left] = char\n",
    "            if length > 1:\n",
    "                len_str = str(length)\n",
    "                chars[left + 1:left + 1 + len(len_str)] = len_str\n",
    "                left += len(len_str)\n",
    "            left, i = left + 1, i + 1\n",
    "        return left"
   ]
  },
  {
   "cell_type": "code",
   "execution_count": null,
   "metadata": {},
   "outputs": [],
   "source": []
  }
 ],
 "metadata": {
  "kernelspec": {
   "display_name": "Python 3",
   "language": "python",
   "name": "python3"
  },
  "language_info": {
   "codemirror_mode": {
    "name": "ipython",
    "version": 3
   },
   "file_extension": ".py",
   "mimetype": "text/x-python",
   "name": "python",
   "nbconvert_exporter": "python",
   "pygments_lexer": "ipython3",
   "version": "3.6.7"
  }
 },
 "nbformat": 4,
 "nbformat_minor": 2
}
