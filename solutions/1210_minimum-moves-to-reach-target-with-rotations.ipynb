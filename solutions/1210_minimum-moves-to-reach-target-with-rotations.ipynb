{
 "cells": [
  {
   "cell_type": "markdown",
   "metadata": {},
   "source": [
    "[1210. Minimum Moves to Reach Target with Rotations](https://leetcode.com/problems/minimum-moves-to-reach-target-with-rotations/)"
   ]
  },
  {
   "cell_type": "code",
   "execution_count": 1,
   "metadata": {},
   "outputs": [],
   "source": [
    "class Solution:\n",
    "    def minimumMoves(self, grid) -> int:\n",
    "        n = len(grid)\n",
    "        start = (0, 0, 0, 1)\n",
    "        end = (n - 1, n - 2, n - 1, n - 1)\n",
    "        curr_level = {start}\n",
    "        moves = 0\n",
    "        visited = set()\n",
    "        while curr_level:\n",
    "            next_level = set()\n",
    "            for pos in curr_level:\n",
    "                visited.add(pos)\n",
    "                r1, c1, r2, c2 = pos\n",
    "                if c1 + 1 < n and grid[r1][c1+1] == 0 and c2 + 1 < n and grid[r2][c2+1] == 0:\n",
    "                    if (r1, c1 + 1, r2, c2 + 1) not in visited:\n",
    "                        next_level.add((r1, c1 + 1, r2, c2 + 1))\n",
    "                if r1 + 1 < n and grid[r1+1][c1] == 0 and r2 + 1 < n and grid[r2+1][c2] == 0:\n",
    "                    if (r1 + 1, c1, r2 + 1, c1) not in visited:\n",
    "                        next_level.add((r1 + 1, c1, r2 + 1, c2))\n",
    "                if r1 == r2 and c2 == c1 + 1 and r1 + 1 < n and grid[r1+1][c1] + grid[r1+1][c1+1] == 0 :\n",
    "                    if (r1, c1, r1 + 1, c1) not in visited:\n",
    "                        next_level.add((r1, c1, r1 + 1, c1))\n",
    "                if c1 == c2 and r2 == r1 + 1 and c1 + 1 < n and grid[r1][c1+1] + grid[r1+1][c1+1] == 0:\n",
    "                    if (r1, c1, r1, c1 + 1) not in visited:\n",
    "                        next_level.add((r1, c1, r1, c1 + 1))\n",
    "            if end in next_level:\n",
    "                return moves + 1\n",
    "            curr_level = next_level\n",
    "            moves += 1\n",
    "        return -1"
   ]
  },
  {
   "cell_type": "code",
   "execution_count": null,
   "metadata": {},
   "outputs": [],
   "source": []
  }
 ],
 "metadata": {
  "kernelspec": {
   "display_name": "Python 3",
   "language": "python",
   "name": "python3"
  },
  "language_info": {
   "codemirror_mode": {
    "name": "ipython",
    "version": 3
   },
   "file_extension": ".py",
   "mimetype": "text/x-python",
   "name": "python",
   "nbconvert_exporter": "python",
   "pygments_lexer": "ipython3",
   "version": "3.8.1"
  }
 },
 "nbformat": 4,
 "nbformat_minor": 4
}
