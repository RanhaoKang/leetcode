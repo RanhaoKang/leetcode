{
 "cells": [
  {
   "cell_type": "markdown",
   "metadata": {},
   "source": [
    "[792. Number of Matching Subsequences](https://leetcode.com/problems/number-of-matching-subsequences/)"
   ]
  },
  {
   "cell_type": "markdown",
   "metadata": {},
   "source": [
    "对于S来说只走一遍"
   ]
  },
  {
   "cell_type": "code",
   "execution_count": 1,
   "metadata": {},
   "outputs": [],
   "source": [
    "class Solution:\n",
    "    def numMatchingSubseq(self, S: str, words) -> int:\n",
    "        for char in S:\n",
    "            for i in range(len(words)):\n",
    "                if words[i] and words[i][0] == char:\n",
    "                    words[i] = words[i][1:]\n",
    "        \n",
    "        return sum(word == '' for word in words)"
   ]
  },
  {
   "cell_type": "code",
   "execution_count": 2,
   "metadata": {},
   "outputs": [
    {
     "data": {
      "text/plain": [
       "3"
      ]
     },
     "execution_count": 2,
     "metadata": {},
     "output_type": "execute_result"
    }
   ],
   "source": [
    "Solution().numMatchingSubseq('abcde', [\"a\", \"bb\", \"acd\", \"ace\"])"
   ]
  },
  {
   "cell_type": "markdown",
   "metadata": {},
   "source": [
    "TLE了, 果然还是有非常多候选词的case, 瞅了一眼Stefan的答案"
   ]
  },
  {
   "cell_type": "code",
   "execution_count": 3,
   "metadata": {},
   "outputs": [],
   "source": [
    "import collections\n",
    "\n",
    "class Solution:\n",
    "    def numMatchingSubseq(self, S, words):\n",
    "        waiting = collections.defaultdict(list)\n",
    "        for w in words:\n",
    "            waiting[w[0]].append(iter(w[1:]))\n",
    "        for c in S:\n",
    "            for it in waiting.pop(c, ()):\n",
    "                waiting[next(it, None)].append(it)\n",
    "        return len(waiting[None])"
   ]
  },
  {
   "cell_type": "markdown",
   "metadata": {},
   "source": [
    "想表达的并行处理候选词的意思差不多, 感觉差距主要不是`iter`, 而是利用`dict`记录首字母并维护索引和进度, 这样每个字母时的操作就是$O(1)$而不是$O(N)$, 当然在这个基础上使用`iter`是非常巧妙的做法, 换我估计想不起来."
   ]
  }
 ],
 "metadata": {
  "kernelspec": {
   "display_name": "Python 3",
   "language": "python",
   "name": "python3"
  },
  "language_info": {
   "codemirror_mode": {
    "name": "ipython",
    "version": 3
   },
   "file_extension": ".py",
   "mimetype": "text/x-python",
   "name": "python",
   "nbconvert_exporter": "python",
   "pygments_lexer": "ipython3",
   "version": "3.6.7"
  }
 },
 "nbformat": 4,
 "nbformat_minor": 2
}
