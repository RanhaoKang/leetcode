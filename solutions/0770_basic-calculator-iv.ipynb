{
 "cells": [
  {
   "cell_type": "markdown",
   "metadata": {},
   "source": [
    "[770. Basic Calculator IV](https://leetcode.com/problems/basic-calculator-iv/)"
   ]
  },
  {
   "cell_type": "markdown",
   "metadata": {},
   "source": [
    "化简式子为polynomial形式"
   ]
  },
  {
   "cell_type": "markdown",
   "metadata": {},
   "source": [
    "- 没有意识到乘法优先级高于加减法\n",
    "- 没有意识到-(-)的问题\n",
    "\n",
    "导致一直按朴素的从左向右处理思想写了，不知道为什么和题目杠上了又添加了`add_parentheses`, `g`这些奇怪的函数，不准备再搞了，复制了一个答案"
   ]
  },
  {
   "cell_type": "code",
   "execution_count": 531,
   "metadata": {},
   "outputs": [],
   "source": [
    "from collections import Counter\n",
    "from operator import __add__, __sub__, __mul__\n",
    "\n",
    "OP = {\n",
    "    '+': __add__,\n",
    "    '-': __sub__,\n",
    "    '*': __mul__\n",
    "}\n",
    "\n",
    "# 基于Counter做一个表达式的类\n",
    "class Exp(Counter):\n",
    "    def __add__(self, other):\n",
    "        self.update(other)\n",
    "        return self\n",
    "\n",
    "    def __sub__(self, other):\n",
    "        self.update({k: -v for k, v in other.items()})\n",
    "        return self\n",
    "\n",
    "    def __mul__(self, other):\n",
    "        res = Exp()\n",
    "        for k1, v1 in self.items():\n",
    "            for k2, v2 in other.items():\n",
    "                # print(k1, v1, k2, v2)\n",
    "                if isinstance(k1, int) and isinstance(k2, int):\n",
    "                    res.update({k1 * v1 * k2 * v2: 1})\n",
    "                elif isinstance(k1, int):\n",
    "                    res.update({k2: k1 * v1 * v2})\n",
    "                elif isinstance(k2, int):\n",
    "                    res.update({k1: k2 * v1 * v2})\n",
    "                else:\n",
    "                    res.update({tuple(sorted(k1 + k2)): v1 * v2})\n",
    "        return res\n",
    "        \n",
    "    def to_list(self):\n",
    "        C = 0\n",
    "        res = []\n",
    "        for k, v in self.items():\n",
    "            if v == 0:\n",
    "                continue\n",
    "            if isinstance(k, int):\n",
    "                C += k * v\n",
    "            else:\n",
    "                res.append((k, \"*\".join((str(v),) + k)))\n",
    "        \n",
    "        return [j for i, j in sorted(res, key = lambda x: (-len(x[0]), x[0], x[1]))] + ([str(C)] if C else [])\n",
    "        \n",
    "class Solution:\n",
    "    def basicCalculatorIV(self, s: str, evalvars, evalints):\n",
    "        VARS = {i: j for i, j in zip(evalvars, evalints)}\n",
    "        # stack[i]: (exp, op)\n",
    "        stack, num, var = [[Exp(), __add__]], \"\", \"\"\n",
    "        \n",
    "        def add_parentheses(s):\n",
    "            res = \"#\"\n",
    "            stack = [0]\n",
    "            flag = [False]\n",
    "            for i, c in enumerate(s):\n",
    "                res += c\n",
    "                if c in '+-*':\n",
    "                    if c == '*' and res[stack[-1]] in '+-':\n",
    "                        flag.append(True)\n",
    "                        res = res[:stack[-1]+2] + '(' + res[stack[-1]+2:]\n",
    "\n",
    "                    elif c in '+-' and res[stack[-1]] == '*' and flag[-1]:\n",
    "                        flag.pop()\n",
    "                        res = res[:-2] + ') ' + c\n",
    "\n",
    "                    stack[-1] = len(res) - 1\n",
    "                elif c == '(':\n",
    "                    flag.append(False)\n",
    "                    stack.append(0)\n",
    "                elif c == ')':\n",
    "                    stack.pop()\n",
    "                    if flag.pop():\n",
    "                        res += ')'\n",
    "                    while flag and flag[-1]:\n",
    "                        res += ')'\n",
    "                        flag.pop()\n",
    "\n",
    "            return res[1:] + (')' if flag[-1] else '')\n",
    "        def g(s):\n",
    "            res = ''\n",
    "            stack = 0\n",
    "            flag = True\n",
    "            for i, c in enumerate(s[::-1]):\n",
    "                if c.isdigit() or c.isalpha():\n",
    "                    if flag:\n",
    "                        flag = False\n",
    "                        stack += 1\n",
    "                        res += ')'\n",
    "                else:\n",
    "                    flag = True\n",
    "                res += c\n",
    "\n",
    "            res += '(' * stack\n",
    "\n",
    "            return res[::-1]\n",
    "\n",
    "        s = g(add_parentheses(s).replace(\")\", \" )\") + \" \")\n",
    "\n",
    "        for i,c in enumerate(s):\n",
    "            if c == \" \":\n",
    "                exp, op = stack[-1]\n",
    "                if num:\n",
    "                    exp = op(exp, Exp([int(num)]))\n",
    "                \n",
    "                if var in VARS:\n",
    "                    exp = op(exp, Exp([VARS[var]]))\n",
    "                elif var:\n",
    "                    exp = op(exp, Exp([(var,)]))\n",
    "                stack[-1] = [exp, op]\n",
    "                \n",
    "                num = var = \"\"\n",
    "            \n",
    "            elif c.isdigit():\n",
    "                num += c\n",
    "            elif c.isalpha():\n",
    "                var += c\n",
    "            elif c in \"+-*\":\n",
    "                stack[-1][1] = OP[c]\n",
    "            elif c == '(':\n",
    "                stack.append([Exp(), __add__])\n",
    "            else: # c == ')'\n",
    "                expa, opa = stack.pop()\n",
    "                expb, opb = stack[-1]\n",
    "                stack[-1] = [opb(expb, expa), opb]\n",
    "            #print(c)\n",
    "            #print(s[i:])\n",
    "            #for i in stack:\n",
    "            #    print(i)\n",
    "            #print('---------------------------------------------')\n",
    "        \n",
    "        return stack[-1][0].to_list()"
   ]
  },
  {
   "cell_type": "code",
   "execution_count": 532,
   "metadata": {},
   "outputs": [
    {
     "data": {
      "text/plain": [
       "['1*a', '14']"
      ]
     },
     "execution_count": 532,
     "metadata": {},
     "output_type": "execute_result"
    }
   ],
   "source": [
    "Solution().basicCalculatorIV(\"e + 8 - a + 5\", [\"e\"], [1])"
   ]
  },
  {
   "cell_type": "code",
   "execution_count": 480,
   "metadata": {},
   "outputs": [
    {
     "data": {
      "text/plain": [
       "['-1*pressure', '5']"
      ]
     },
     "execution_count": 480,
     "metadata": {},
     "output_type": "execute_result"
    }
   ],
   "source": [
    "Solution().basicCalculatorIV(\"e - 8 + temperature - pressure\", [\"e\", \"temperature\"], [1, 12])"
   ]
  },
  {
   "cell_type": "code",
   "execution_count": 481,
   "metadata": {},
   "outputs": [
    {
     "data": {
      "text/plain": [
       "['1*e*e', '-64']"
      ]
     },
     "execution_count": 481,
     "metadata": {},
     "output_type": "execute_result"
    }
   ],
   "source": [
    "Solution().basicCalculatorIV(\"(e + 8) * (e - 8)\", [], [])"
   ]
  },
  {
   "cell_type": "code",
   "execution_count": 482,
   "metadata": {},
   "outputs": [
    {
     "data": {
      "text/plain": [
       "[]"
      ]
     },
     "execution_count": 482,
     "metadata": {},
     "output_type": "execute_result"
    }
   ],
   "source": [
    "Solution().basicCalculatorIV(\"7 - 7\", [], [])"
   ]
  },
  {
   "cell_type": "code",
   "execution_count": 483,
   "metadata": {
    "scrolled": true
   },
   "outputs": [
    {
     "data": {
      "text/plain": [
       "['-1*a*a*b*b',\n",
       " '2*a*a*b*c',\n",
       " '-1*a*a*c*c',\n",
       " '1*a*b*b*b',\n",
       " '-1*a*b*b*c',\n",
       " '-1*a*b*c*c',\n",
       " '1*a*c*c*c',\n",
       " '-1*b*b*b*c',\n",
       " '2*b*b*c*c',\n",
       " '-1*b*c*c*c',\n",
       " '2*a*a*b',\n",
       " '-2*a*a*c',\n",
       " '-2*a*b*b',\n",
       " '2*a*c*c',\n",
       " '1*b*b*b',\n",
       " '-1*b*b*c',\n",
       " '1*b*c*c',\n",
       " '-1*c*c*c',\n",
       " '-1*a*a',\n",
       " '1*a*b',\n",
       " '1*a*c',\n",
       " '-1*b*c']"
      ]
     },
     "execution_count": 483,
     "metadata": {},
     "output_type": "execute_result"
    }
   ],
   "source": [
    "Solution().basicCalculatorIV(\"((a - b) * (b - c) + (c - a)) * ((a - b) + (b - c) * (c - a))\", [], [])"
   ]
  },
  {
   "cell_type": "code",
   "execution_count": 484,
   "metadata": {},
   "outputs": [
    {
     "data": {
      "text/plain": [
       "['5*a*b*c']"
      ]
     },
     "execution_count": 484,
     "metadata": {},
     "output_type": "execute_result"
    }
   ],
   "source": [
    "Solution().basicCalculatorIV(\"a * b * c + b * a * c * 4\", [], [])"
   ]
  },
  {
   "cell_type": "code",
   "execution_count": 485,
   "metadata": {},
   "outputs": [
    {
     "data": {
      "text/plain": [
       "['-8']"
      ]
     },
     "execution_count": 485,
     "metadata": {},
     "output_type": "execute_result"
    }
   ],
   "source": [
    "Solution().basicCalculatorIV(\n",
    "    \"5 - (0 - bg * 5) - cb + (aw * 11 + at - cu - 8)\",\n",
    "    [\"a\", \"b\", \"c\", \"d\", \"e\", \"f\", \"g\", \"h\", \"i\", \"j\", \"k\", \"l\", \"m\", \"n\", \"o\", \"p\", \"q\", \"r\", \"s\", \"t\", \"u\", \"v\", \"w\", \"x\", \"y\", \"z\", \"aa\", \"ab\", \"ac\", \"ad\", \"ae\", \"af\", \"ag\", \"ah\", \"ai\", \"aj\", \"ak\", \"al\", \"am\", \"an\", \"ao\", \"ap\", \"aq\", \"ar\", \"as\", \"at\", \"au\", \"av\", \"aw\", \"ax\", \"ay\", \"az\", \"ba\", \"bb\", \"bc\", \"bd\", \"be\", \"bf\", \"bg\", \"bh\", \"bi\", \"bj\", \"bk\", \"bl\", \"bm\", \"bn\", \"bo\", \"bp\", \"bq\", \"br\", \"bs\", \"bt\", \"bu\", \"bv\", \"bw\", \"bx\", \"by\", \"bz\", \"ca\", \"cb\", \"cc\", \"cd\", \"ce\", \"cf\", \"cg\", \"ch\", \"ci\", \"cj\", \"ck\", \"cl\", \"cm\", \"cn\", \"co\", \"cp\", \"cq\", \"cr\", \"cs\", \"ct\", \"cu\", \"cv\"],\n",
    "    [0, 1, 2, 3, 4, 5, 6, 7, 8, 9, 10, 11, 12, 0, 1, 2, 3, 4, 5, 6, 7, 8, 9, 10, 11, 12, 5, 6, 7, 8, 9, 10, 11, 12, 0, 1, 2, 3, 4, 5, 6, 7, 8, 9, 10, 11, 12, 0, 1, 2, 3, 4, 10, 11, 12, 0, 1, 2, 3, 4, 5, 6, 7, 8, 9, 10, 11, 12, 0, 1, 2, 3, 4, 5, 6, 7, 8, 9, 2, 3, 4, 5, 6, 7, 8, 9, 10, 11, 12, 0, 1, 2, 3, 4, 5, 6, 7, 8, 9, 10]\n",
    ")"
   ]
  },
  {
   "cell_type": "code",
   "execution_count": 423,
   "metadata": {},
   "outputs": [],
   "source": [
    "A = \"((bm - bq - 8 - 3) * (by - 0 - 0) + (ae + ch) + 9) - (bq - cv) * (0 - bg * 5) - cv * (n + (q + 2) * (ag + 0 - 4) + 1)\"\n",
    "B = [\"a\", \"b\", \"c\", \"d\", \"e\", \"f\", \"g\", \"h\", \"i\", \"j\", \"k\", \"l\", \"m\", \"n\", \"o\", \"p\", \"q\", \"r\", \"s\", \"t\", \"u\", \"v\", \"w\", \"x\", \"y\", \"z\", \"aa\", \"ab\", \"ac\", \"ad\", \"ae\", \"af\", \"ag\", \"ah\", \"ai\", \"aj\", \"ak\", \"al\", \"am\", \"an\", \"ao\", \"ap\", \"aq\", \"ar\", \"ast\", \"at\", \"au\", \"av\", \"aw\", \"ax\", \"ay\", \"az\", \"ba\", \"bb\", \"bc\", \"bd\", \"be\", \"bf\", \"bg\", \"bh\", \"bi\", \"bj\", \"bk\", \"bl\", \"bm\", \"bn\", \"bo\", \"bp\", \"bq\", \"br\", \"bs\", \"bt\", \"bu\", \"bv\", \"bw\", \"bx\", \"by\", \"bz\", \"ca\", \"cb\", \"cc\", \"cd\", \"ce\", \"cf\", \"cg\", \"ch\", \"ci\", \"cj\", \"ck\", \"cl\", \"cm\", \"cn\", \"co\", \"cp\", \"cq\", \"cr\", \"cs\", \"ct\", \"cu\", \"cv\"]\n",
    "C = [0, 1, 2, 3, 4, 5, 6, 7, 8, 9, 10, 11, 12, 0, 1, 2, 3, 4, 5, 6, 7, 8, 9, 10, 11, 12, 5, 6, 7, 8, 9, 10, 11, 12, 0, 1, 2, 3, 4, 5, 6, 7, 8, 9, 10, 11, 12, 0, 1, 2, 3, 4, 10, 11, 12, 0, 1, 2, 3, 4, 5, 6, 7, 8, 9, 10, 11, 12, 0, 1, 2, 3, 4, 5, 6, 7, 8, 9, 2, 3, 4, 5, 6, 7, 8, 9, 10, 11, 12, 0, 1, 2, 3, 4, 5, 6, 7, 8, 9, 10]"
   ]
  },
  {
   "cell_type": "code",
   "execution_count": 424,
   "metadata": {},
   "outputs": [],
   "source": [
    "for I, J in zip(B, C):\n",
    "    exec(f'{I}={J}')"
   ]
  },
  {
   "cell_type": "code",
   "execution_count": 458,
   "metadata": {},
   "outputs": [
    {
     "data": {
      "text/plain": [
       "150"
      ]
     },
     "execution_count": 458,
     "metadata": {},
     "output_type": "execute_result"
    }
   ],
   "source": [
    "eval(\"(bq - cv) * (0 - bg * 5)\")"
   ]
  },
  {
   "cell_type": "code",
   "execution_count": 426,
   "metadata": {},
   "outputs": [
    {
     "data": {
      "text/plain": [
       "11"
      ]
     },
     "execution_count": 426,
     "metadata": {},
     "output_type": "execute_result"
    }
   ],
   "source": [
    "eval(\"((bm - bq - 8 - 3) * (by - 0 - 0) + (ae + ch) + 9)\")"
   ]
  },
  {
   "cell_type": "code",
   "execution_count": 431,
   "metadata": {},
   "outputs": [
    {
     "data": {
      "text/plain": [
       "360"
      ]
     },
     "execution_count": 431,
     "metadata": {},
     "output_type": "execute_result"
    }
   ],
   "source": [
    "eval(\"cv * (n + (q + 2) * (ag + 0 - 4) + 1)\")"
   ]
  },
  {
   "cell_type": "code",
   "execution_count": 459,
   "metadata": {},
   "outputs": [
    {
     "data": {
      "text/plain": [
       "-499"
      ]
     },
     "execution_count": 459,
     "metadata": {},
     "output_type": "execute_result"
    }
   ],
   "source": [
    "11 - 360 - 150"
   ]
  },
  {
   "cell_type": "code",
   "execution_count": 408,
   "metadata": {},
   "outputs": [],
   "source": [
    "d = {i: j for i, j in zip(b, c)}"
   ]
  },
  {
   "cell_type": "code",
   "execution_count": null,
   "metadata": {},
   "outputs": [],
   "source": [
    "for "
   ]
  },
  {
   "cell_type": "code",
   "execution_count": 417,
   "metadata": {},
   "outputs": [
    {
     "data": {
      "text/plain": [
       "9"
      ]
     },
     "execution_count": 417,
     "metadata": {},
     "output_type": "execute_result"
    }
   ],
   "source": [
    "d['ch']"
   ]
  },
  {
   "cell_type": "code",
   "execution_count": 475,
   "metadata": {},
   "outputs": [
    {
     "name": "stdout",
     "output_type": "stream",
     "text": [
      "(\n",
      "((bm - bq - 8 - 3 ) * (by - 0 - 0 ) + (ae + ch ) + 9 ) - ((bq - cv ) * (0 - (bg * 5 ) ) - (cv * (n + ((q + 2 ) * (ag + 0 - 4 ) ) + 1 ) ) \n",
      "[Exp(), <built-in function add>]\n",
      "[Exp(), <built-in function add>]\n",
      "---------------------------------------------\n",
      "(\n",
      "(bm - bq - 8 - 3 ) * (by - 0 - 0 ) + (ae + ch ) + 9 ) - ((bq - cv ) * (0 - (bg * 5 ) ) - (cv * (n + ((q + 2 ) * (ag + 0 - 4 ) ) + 1 ) ) \n",
      "[Exp(), <built-in function add>]\n",
      "[Exp(), <built-in function add>]\n",
      "[Exp(), <built-in function add>]\n",
      "---------------------------------------------\n",
      "b\n",
      "bm - bq - 8 - 3 ) * (by - 0 - 0 ) + (ae + ch ) + 9 ) - ((bq - cv ) * (0 - (bg * 5 ) ) - (cv * (n + ((q + 2 ) * (ag + 0 - 4 ) ) + 1 ) ) \n",
      "[Exp(), <built-in function add>]\n",
      "[Exp(), <built-in function add>]\n",
      "[Exp(), <built-in function add>]\n",
      "---------------------------------------------\n",
      "m\n",
      "m - bq - 8 - 3 ) * (by - 0 - 0 ) + (ae + ch ) + 9 ) - ((bq - cv ) * (0 - (bg * 5 ) ) - (cv * (n + ((q + 2 ) * (ag + 0 - 4 ) ) + 1 ) ) \n",
      "[Exp(), <built-in function add>]\n",
      "[Exp(), <built-in function add>]\n",
      "[Exp(), <built-in function add>]\n",
      "---------------------------------------------\n",
      " \n",
      " - bq - 8 - 3 ) * (by - 0 - 0 ) + (ae + ch ) + 9 ) - ((bq - cv ) * (0 - (bg * 5 ) ) - (cv * (n + ((q + 2 ) * (ag + 0 - 4 ) ) + 1 ) ) \n",
      "[Exp(), <built-in function add>]\n",
      "[Exp(), <built-in function add>]\n",
      "[Exp({9: 1}), <built-in function add>]\n",
      "---------------------------------------------\n",
      "-\n",
      "- bq - 8 - 3 ) * (by - 0 - 0 ) + (ae + ch ) + 9 ) - ((bq - cv ) * (0 - (bg * 5 ) ) - (cv * (n + ((q + 2 ) * (ag + 0 - 4 ) ) + 1 ) ) \n",
      "[Exp(), <built-in function add>]\n",
      "[Exp(), <built-in function add>]\n",
      "[Exp({9: 1}), <built-in function sub>]\n",
      "---------------------------------------------\n",
      " \n",
      " bq - 8 - 3 ) * (by - 0 - 0 ) + (ae + ch ) + 9 ) - ((bq - cv ) * (0 - (bg * 5 ) ) - (cv * (n + ((q + 2 ) * (ag + 0 - 4 ) ) + 1 ) ) \n",
      "[Exp(), <built-in function add>]\n",
      "[Exp(), <built-in function add>]\n",
      "[Exp({9: 1}), <built-in function sub>]\n",
      "---------------------------------------------\n",
      "b\n",
      "bq - 8 - 3 ) * (by - 0 - 0 ) + (ae + ch ) + 9 ) - ((bq - cv ) * (0 - (bg * 5 ) ) - (cv * (n + ((q + 2 ) * (ag + 0 - 4 ) ) + 1 ) ) \n",
      "[Exp(), <built-in function add>]\n",
      "[Exp(), <built-in function add>]\n",
      "[Exp({9: 1}), <built-in function sub>]\n",
      "---------------------------------------------\n",
      "q\n",
      "q - 8 - 3 ) * (by - 0 - 0 ) + (ae + ch ) + 9 ) - ((bq - cv ) * (0 - (bg * 5 ) ) - (cv * (n + ((q + 2 ) * (ag + 0 - 4 ) ) + 1 ) ) \n",
      "[Exp(), <built-in function add>]\n",
      "[Exp(), <built-in function add>]\n",
      "[Exp({9: 1}), <built-in function sub>]\n",
      "---------------------------------------------\n",
      " \n",
      " - 8 - 3 ) * (by - 0 - 0 ) + (ae + ch ) + 9 ) - ((bq - cv ) * (0 - (bg * 5 ) ) - (cv * (n + ((q + 2 ) * (ag + 0 - 4 ) ) + 1 ) ) \n",
      "[Exp(), <built-in function add>]\n",
      "[Exp(), <built-in function add>]\n",
      "[Exp({9: 1, 0: -1}), <built-in function sub>]\n",
      "---------------------------------------------\n",
      "-\n",
      "- 8 - 3 ) * (by - 0 - 0 ) + (ae + ch ) + 9 ) - ((bq - cv ) * (0 - (bg * 5 ) ) - (cv * (n + ((q + 2 ) * (ag + 0 - 4 ) ) + 1 ) ) \n",
      "[Exp(), <built-in function add>]\n",
      "[Exp(), <built-in function add>]\n",
      "[Exp({9: 1, 0: -1}), <built-in function sub>]\n",
      "---------------------------------------------\n",
      " \n",
      " 8 - 3 ) * (by - 0 - 0 ) + (ae + ch ) + 9 ) - ((bq - cv ) * (0 - (bg * 5 ) ) - (cv * (n + ((q + 2 ) * (ag + 0 - 4 ) ) + 1 ) ) \n",
      "[Exp(), <built-in function add>]\n",
      "[Exp(), <built-in function add>]\n",
      "[Exp({9: 1, 0: -1}), <built-in function sub>]\n",
      "---------------------------------------------\n",
      "8\n",
      "8 - 3 ) * (by - 0 - 0 ) + (ae + ch ) + 9 ) - ((bq - cv ) * (0 - (bg * 5 ) ) - (cv * (n + ((q + 2 ) * (ag + 0 - 4 ) ) + 1 ) ) \n",
      "[Exp(), <built-in function add>]\n",
      "[Exp(), <built-in function add>]\n",
      "[Exp({9: 1, 0: -1}), <built-in function sub>]\n",
      "---------------------------------------------\n",
      " \n",
      " - 3 ) * (by - 0 - 0 ) + (ae + ch ) + 9 ) - ((bq - cv ) * (0 - (bg * 5 ) ) - (cv * (n + ((q + 2 ) * (ag + 0 - 4 ) ) + 1 ) ) \n",
      "[Exp(), <built-in function add>]\n",
      "[Exp(), <built-in function add>]\n",
      "[Exp({9: 1, 0: -1, 8: -1}), <built-in function sub>]\n",
      "---------------------------------------------\n",
      "-\n",
      "- 3 ) * (by - 0 - 0 ) + (ae + ch ) + 9 ) - ((bq - cv ) * (0 - (bg * 5 ) ) - (cv * (n + ((q + 2 ) * (ag + 0 - 4 ) ) + 1 ) ) \n",
      "[Exp(), <built-in function add>]\n",
      "[Exp(), <built-in function add>]\n",
      "[Exp({9: 1, 0: -1, 8: -1}), <built-in function sub>]\n",
      "---------------------------------------------\n",
      " \n",
      " 3 ) * (by - 0 - 0 ) + (ae + ch ) + 9 ) - ((bq - cv ) * (0 - (bg * 5 ) ) - (cv * (n + ((q + 2 ) * (ag + 0 - 4 ) ) + 1 ) ) \n",
      "[Exp(), <built-in function add>]\n",
      "[Exp(), <built-in function add>]\n",
      "[Exp({9: 1, 0: -1, 8: -1}), <built-in function sub>]\n",
      "---------------------------------------------\n",
      "3\n",
      "3 ) * (by - 0 - 0 ) + (ae + ch ) + 9 ) - ((bq - cv ) * (0 - (bg * 5 ) ) - (cv * (n + ((q + 2 ) * (ag + 0 - 4 ) ) + 1 ) ) \n",
      "[Exp(), <built-in function add>]\n",
      "[Exp(), <built-in function add>]\n",
      "[Exp({9: 1, 0: -1, 8: -1}), <built-in function sub>]\n",
      "---------------------------------------------\n",
      " \n",
      " ) * (by - 0 - 0 ) + (ae + ch ) + 9 ) - ((bq - cv ) * (0 - (bg * 5 ) ) - (cv * (n + ((q + 2 ) * (ag + 0 - 4 ) ) + 1 ) ) \n",
      "[Exp(), <built-in function add>]\n",
      "[Exp(), <built-in function add>]\n",
      "[Exp({9: 1, 0: -1, 8: -1, 3: -1}), <built-in function sub>]\n",
      "---------------------------------------------\n",
      ")\n",
      ") * (by - 0 - 0 ) + (ae + ch ) + 9 ) - ((bq - cv ) * (0 - (bg * 5 ) ) - (cv * (n + ((q + 2 ) * (ag + 0 - 4 ) ) + 1 ) ) \n",
      "[Exp(), <built-in function add>]\n",
      "[Exp({9: 1, 0: -1, 8: -1, 3: -1}), <built-in function add>]\n",
      "---------------------------------------------\n",
      " \n",
      " * (by - 0 - 0 ) + (ae + ch ) + 9 ) - ((bq - cv ) * (0 - (bg * 5 ) ) - (cv * (n + ((q + 2 ) * (ag + 0 - 4 ) ) + 1 ) ) \n",
      "[Exp(), <built-in function add>]\n",
      "[Exp({9: 1, 0: -1, 8: -1, 3: -1}), <built-in function add>]\n",
      "---------------------------------------------\n",
      "*\n",
      "* (by - 0 - 0 ) + (ae + ch ) + 9 ) - ((bq - cv ) * (0 - (bg * 5 ) ) - (cv * (n + ((q + 2 ) * (ag + 0 - 4 ) ) + 1 ) ) \n",
      "[Exp(), <built-in function add>]\n",
      "[Exp({9: 1, 0: -1, 8: -1, 3: -1}), <built-in function mul>]\n",
      "---------------------------------------------\n",
      " \n",
      " (by - 0 - 0 ) + (ae + ch ) + 9 ) - ((bq - cv ) * (0 - (bg * 5 ) ) - (cv * (n + ((q + 2 ) * (ag + 0 - 4 ) ) + 1 ) ) \n",
      "[Exp(), <built-in function add>]\n",
      "[Exp({9: 1, 0: -1, 8: -1, 3: -1}), <built-in function mul>]\n",
      "---------------------------------------------\n",
      "(\n",
      "(by - 0 - 0 ) + (ae + ch ) + 9 ) - ((bq - cv ) * (0 - (bg * 5 ) ) - (cv * (n + ((q + 2 ) * (ag + 0 - 4 ) ) + 1 ) ) \n",
      "[Exp(), <built-in function add>]\n",
      "[Exp({9: 1, 0: -1, 8: -1, 3: -1}), <built-in function mul>]\n",
      "[Exp(), <built-in function add>]\n",
      "---------------------------------------------\n",
      "b\n",
      "by - 0 - 0 ) + (ae + ch ) + 9 ) - ((bq - cv ) * (0 - (bg * 5 ) ) - (cv * (n + ((q + 2 ) * (ag + 0 - 4 ) ) + 1 ) ) \n",
      "[Exp(), <built-in function add>]\n",
      "[Exp({9: 1, 0: -1, 8: -1, 3: -1}), <built-in function mul>]\n",
      "[Exp(), <built-in function add>]\n",
      "---------------------------------------------\n",
      "y\n",
      "y - 0 - 0 ) + (ae + ch ) + 9 ) - ((bq - cv ) * (0 - (bg * 5 ) ) - (cv * (n + ((q + 2 ) * (ag + 0 - 4 ) ) + 1 ) ) \n",
      "[Exp(), <built-in function add>]\n",
      "[Exp({9: 1, 0: -1, 8: -1, 3: -1}), <built-in function mul>]\n",
      "[Exp(), <built-in function add>]\n",
      "---------------------------------------------\n",
      " \n",
      " - 0 - 0 ) + (ae + ch ) + 9 ) - ((bq - cv ) * (0 - (bg * 5 ) ) - (cv * (n + ((q + 2 ) * (ag + 0 - 4 ) ) + 1 ) ) \n",
      "[Exp(), <built-in function add>]\n",
      "[Exp({9: 1, 0: -1, 8: -1, 3: -1}), <built-in function mul>]\n",
      "[Exp({8: 1}), <built-in function add>]\n",
      "---------------------------------------------\n",
      "-\n",
      "- 0 - 0 ) + (ae + ch ) + 9 ) - ((bq - cv ) * (0 - (bg * 5 ) ) - (cv * (n + ((q + 2 ) * (ag + 0 - 4 ) ) + 1 ) ) \n",
      "[Exp(), <built-in function add>]\n",
      "[Exp({9: 1, 0: -1, 8: -1, 3: -1}), <built-in function mul>]\n",
      "[Exp({8: 1}), <built-in function sub>]\n",
      "---------------------------------------------\n",
      " \n",
      " 0 - 0 ) + (ae + ch ) + 9 ) - ((bq - cv ) * (0 - (bg * 5 ) ) - (cv * (n + ((q + 2 ) * (ag + 0 - 4 ) ) + 1 ) ) \n",
      "[Exp(), <built-in function add>]\n",
      "[Exp({9: 1, 0: -1, 8: -1, 3: -1}), <built-in function mul>]\n",
      "[Exp({8: 1}), <built-in function sub>]\n",
      "---------------------------------------------\n",
      "0\n",
      "0 - 0 ) + (ae + ch ) + 9 ) - ((bq - cv ) * (0 - (bg * 5 ) ) - (cv * (n + ((q + 2 ) * (ag + 0 - 4 ) ) + 1 ) ) \n",
      "[Exp(), <built-in function add>]\n",
      "[Exp({9: 1, 0: -1, 8: -1, 3: -1}), <built-in function mul>]\n",
      "[Exp({8: 1}), <built-in function sub>]\n",
      "---------------------------------------------\n",
      " \n",
      " - 0 ) + (ae + ch ) + 9 ) - ((bq - cv ) * (0 - (bg * 5 ) ) - (cv * (n + ((q + 2 ) * (ag + 0 - 4 ) ) + 1 ) ) \n",
      "[Exp(), <built-in function add>]\n",
      "[Exp({9: 1, 0: -1, 8: -1, 3: -1}), <built-in function mul>]\n",
      "[Exp({8: 1, 0: -1}), <built-in function sub>]\n",
      "---------------------------------------------\n",
      "-\n",
      "- 0 ) + (ae + ch ) + 9 ) - ((bq - cv ) * (0 - (bg * 5 ) ) - (cv * (n + ((q + 2 ) * (ag + 0 - 4 ) ) + 1 ) ) \n",
      "[Exp(), <built-in function add>]\n",
      "[Exp({9: 1, 0: -1, 8: -1, 3: -1}), <built-in function mul>]\n",
      "[Exp({8: 1, 0: -1}), <built-in function sub>]\n",
      "---------------------------------------------\n",
      " \n",
      " 0 ) + (ae + ch ) + 9 ) - ((bq - cv ) * (0 - (bg * 5 ) ) - (cv * (n + ((q + 2 ) * (ag + 0 - 4 ) ) + 1 ) ) \n",
      "[Exp(), <built-in function add>]\n",
      "[Exp({9: 1, 0: -1, 8: -1, 3: -1}), <built-in function mul>]\n",
      "[Exp({8: 1, 0: -1}), <built-in function sub>]\n",
      "---------------------------------------------\n",
      "0\n",
      "0 ) + (ae + ch ) + 9 ) - ((bq - cv ) * (0 - (bg * 5 ) ) - (cv * (n + ((q + 2 ) * (ag + 0 - 4 ) ) + 1 ) ) \n",
      "[Exp(), <built-in function add>]\n",
      "[Exp({9: 1, 0: -1, 8: -1, 3: -1}), <built-in function mul>]\n",
      "[Exp({8: 1, 0: -1}), <built-in function sub>]\n",
      "---------------------------------------------\n",
      " \n",
      " ) + (ae + ch ) + 9 ) - ((bq - cv ) * (0 - (bg * 5 ) ) - (cv * (n + ((q + 2 ) * (ag + 0 - 4 ) ) + 1 ) ) \n",
      "[Exp(), <built-in function add>]\n",
      "[Exp({9: 1, 0: -1, 8: -1, 3: -1}), <built-in function mul>]\n",
      "[Exp({8: 1, 0: -2}), <built-in function sub>]\n",
      "---------------------------------------------\n",
      ")\n",
      ") + (ae + ch ) + 9 ) - ((bq - cv ) * (0 - (bg * 5 ) ) - (cv * (n + ((q + 2 ) * (ag + 0 - 4 ) ) + 1 ) ) \n",
      "[Exp(), <built-in function add>]\n",
      "[Exp({0: 5, 72: 1, -64: 1, -24: 1}), <built-in function mul>]\n",
      "---------------------------------------------\n",
      " \n",
      " + (ae + ch ) + 9 ) - ((bq - cv ) * (0 - (bg * 5 ) ) - (cv * (n + ((q + 2 ) * (ag + 0 - 4 ) ) + 1 ) ) \n",
      "[Exp(), <built-in function add>]\n",
      "[Exp({0: 5, 72: 1, -64: 1, -24: 1}), <built-in function mul>]\n",
      "---------------------------------------------\n",
      "+\n",
      "+ (ae + ch ) + 9 ) - ((bq - cv ) * (0 - (bg * 5 ) ) - (cv * (n + ((q + 2 ) * (ag + 0 - 4 ) ) + 1 ) ) \n",
      "[Exp(), <built-in function add>]\n",
      "[Exp({0: 5, 72: 1, -64: 1, -24: 1}), <built-in function add>]\n",
      "---------------------------------------------\n",
      " \n",
      " (ae + ch ) + 9 ) - ((bq - cv ) * (0 - (bg * 5 ) ) - (cv * (n + ((q + 2 ) * (ag + 0 - 4 ) ) + 1 ) ) \n",
      "[Exp(), <built-in function add>]\n",
      "[Exp({0: 5, 72: 1, -64: 1, -24: 1}), <built-in function add>]\n",
      "---------------------------------------------\n",
      "(\n",
      "(ae + ch ) + 9 ) - ((bq - cv ) * (0 - (bg * 5 ) ) - (cv * (n + ((q + 2 ) * (ag + 0 - 4 ) ) + 1 ) ) \n",
      "[Exp(), <built-in function add>]\n",
      "[Exp({0: 5, 72: 1, -64: 1, -24: 1}), <built-in function add>]\n",
      "[Exp(), <built-in function add>]\n",
      "---------------------------------------------\n",
      "a\n",
      "ae + ch ) + 9 ) - ((bq - cv ) * (0 - (bg * 5 ) ) - (cv * (n + ((q + 2 ) * (ag + 0 - 4 ) ) + 1 ) ) \n",
      "[Exp(), <built-in function add>]\n",
      "[Exp({0: 5, 72: 1, -64: 1, -24: 1}), <built-in function add>]\n",
      "[Exp(), <built-in function add>]\n",
      "---------------------------------------------\n",
      "e\n",
      "e + ch ) + 9 ) - ((bq - cv ) * (0 - (bg * 5 ) ) - (cv * (n + ((q + 2 ) * (ag + 0 - 4 ) ) + 1 ) ) \n",
      "[Exp(), <built-in function add>]\n",
      "[Exp({0: 5, 72: 1, -64: 1, -24: 1}), <built-in function add>]\n",
      "[Exp(), <built-in function add>]\n",
      "---------------------------------------------\n",
      " \n",
      " + ch ) + 9 ) - ((bq - cv ) * (0 - (bg * 5 ) ) - (cv * (n + ((q + 2 ) * (ag + 0 - 4 ) ) + 1 ) ) \n",
      "[Exp(), <built-in function add>]\n",
      "[Exp({0: 5, 72: 1, -64: 1, -24: 1}), <built-in function add>]\n",
      "[Exp({9: 1}), <built-in function add>]\n",
      "---------------------------------------------\n",
      "+\n",
      "+ ch ) + 9 ) - ((bq - cv ) * (0 - (bg * 5 ) ) - (cv * (n + ((q + 2 ) * (ag + 0 - 4 ) ) + 1 ) ) \n",
      "[Exp(), <built-in function add>]\n",
      "[Exp({0: 5, 72: 1, -64: 1, -24: 1}), <built-in function add>]\n",
      "[Exp({9: 1}), <built-in function add>]\n",
      "---------------------------------------------\n",
      " \n",
      " ch ) + 9 ) - ((bq - cv ) * (0 - (bg * 5 ) ) - (cv * (n + ((q + 2 ) * (ag + 0 - 4 ) ) + 1 ) ) \n",
      "[Exp(), <built-in function add>]\n",
      "[Exp({0: 5, 72: 1, -64: 1, -24: 1}), <built-in function add>]\n",
      "[Exp({9: 1}), <built-in function add>]\n",
      "---------------------------------------------\n",
      "c\n",
      "ch ) + 9 ) - ((bq - cv ) * (0 - (bg * 5 ) ) - (cv * (n + ((q + 2 ) * (ag + 0 - 4 ) ) + 1 ) ) \n",
      "[Exp(), <built-in function add>]\n",
      "[Exp({0: 5, 72: 1, -64: 1, -24: 1}), <built-in function add>]\n",
      "[Exp({9: 1}), <built-in function add>]\n",
      "---------------------------------------------\n",
      "h\n",
      "h ) + 9 ) - ((bq - cv ) * (0 - (bg * 5 ) ) - (cv * (n + ((q + 2 ) * (ag + 0 - 4 ) ) + 1 ) ) \n",
      "[Exp(), <built-in function add>]\n",
      "[Exp({0: 5, 72: 1, -64: 1, -24: 1}), <built-in function add>]\n",
      "[Exp({9: 1}), <built-in function add>]\n",
      "---------------------------------------------\n",
      " \n",
      " ) + 9 ) - ((bq - cv ) * (0 - (bg * 5 ) ) - (cv * (n + ((q + 2 ) * (ag + 0 - 4 ) ) + 1 ) ) \n",
      "[Exp(), <built-in function add>]\n",
      "[Exp({0: 5, 72: 1, -64: 1, -24: 1}), <built-in function add>]\n",
      "[Exp({9: 2}), <built-in function add>]\n",
      "---------------------------------------------\n",
      ")\n",
      ") + 9 ) - ((bq - cv ) * (0 - (bg * 5 ) ) - (cv * (n + ((q + 2 ) * (ag + 0 - 4 ) ) + 1 ) ) \n",
      "[Exp(), <built-in function add>]\n",
      "[Exp({0: 5, 9: 2, 72: 1, -64: 1, -24: 1}), <built-in function add>]\n",
      "---------------------------------------------\n",
      " \n",
      " + 9 ) - ((bq - cv ) * (0 - (bg * 5 ) ) - (cv * (n + ((q + 2 ) * (ag + 0 - 4 ) ) + 1 ) ) \n",
      "[Exp(), <built-in function add>]\n",
      "[Exp({0: 5, 9: 2, 72: 1, -64: 1, -24: 1}), <built-in function add>]\n",
      "---------------------------------------------\n",
      "+\n",
      "+ 9 ) - ((bq - cv ) * (0 - (bg * 5 ) ) - (cv * (n + ((q + 2 ) * (ag + 0 - 4 ) ) + 1 ) ) \n",
      "[Exp(), <built-in function add>]\n",
      "[Exp({0: 5, 9: 2, 72: 1, -64: 1, -24: 1}), <built-in function add>]\n",
      "---------------------------------------------\n",
      " \n",
      " 9 ) - ((bq - cv ) * (0 - (bg * 5 ) ) - (cv * (n + ((q + 2 ) * (ag + 0 - 4 ) ) + 1 ) ) \n",
      "[Exp(), <built-in function add>]\n",
      "[Exp({0: 5, 9: 2, 72: 1, -64: 1, -24: 1}), <built-in function add>]\n",
      "---------------------------------------------\n",
      "9\n",
      "9 ) - ((bq - cv ) * (0 - (bg * 5 ) ) - (cv * (n + ((q + 2 ) * (ag + 0 - 4 ) ) + 1 ) ) \n",
      "[Exp(), <built-in function add>]\n",
      "[Exp({0: 5, 9: 2, 72: 1, -64: 1, -24: 1}), <built-in function add>]\n",
      "---------------------------------------------\n",
      " \n",
      " ) - ((bq - cv ) * (0 - (bg * 5 ) ) - (cv * (n + ((q + 2 ) * (ag + 0 - 4 ) ) + 1 ) ) \n",
      "[Exp(), <built-in function add>]\n",
      "[Exp({0: 5, 9: 3, 72: 1, -64: 1, -24: 1}), <built-in function add>]\n",
      "---------------------------------------------\n",
      ")\n",
      ") - ((bq - cv ) * (0 - (bg * 5 ) ) - (cv * (n + ((q + 2 ) * (ag + 0 - 4 ) ) + 1 ) ) \n",
      "[Exp({0: 5, 9: 3, 72: 1, -64: 1, -24: 1}), <built-in function add>]\n",
      "---------------------------------------------\n",
      " \n",
      " - ((bq - cv ) * (0 - (bg * 5 ) ) - (cv * (n + ((q + 2 ) * (ag + 0 - 4 ) ) + 1 ) ) \n",
      "[Exp({0: 5, 9: 3, 72: 1, -64: 1, -24: 1}), <built-in function add>]\n",
      "---------------------------------------------\n",
      "-\n",
      "- ((bq - cv ) * (0 - (bg * 5 ) ) - (cv * (n + ((q + 2 ) * (ag + 0 - 4 ) ) + 1 ) ) \n",
      "[Exp({0: 5, 9: 3, 72: 1, -64: 1, -24: 1}), <built-in function sub>]\n",
      "---------------------------------------------\n",
      " \n",
      " ((bq - cv ) * (0 - (bg * 5 ) ) - (cv * (n + ((q + 2 ) * (ag + 0 - 4 ) ) + 1 ) ) \n",
      "[Exp({0: 5, 9: 3, 72: 1, -64: 1, -24: 1}), <built-in function sub>]\n",
      "---------------------------------------------\n",
      "(\n",
      "((bq - cv ) * (0 - (bg * 5 ) ) - (cv * (n + ((q + 2 ) * (ag + 0 - 4 ) ) + 1 ) ) \n",
      "[Exp({0: 5, 9: 3, 72: 1, -64: 1, -24: 1}), <built-in function sub>]\n",
      "[Exp(), <built-in function add>]\n",
      "---------------------------------------------\n",
      "(\n",
      "(bq - cv ) * (0 - (bg * 5 ) ) - (cv * (n + ((q + 2 ) * (ag + 0 - 4 ) ) + 1 ) ) \n",
      "[Exp({0: 5, 9: 3, 72: 1, -64: 1, -24: 1}), <built-in function sub>]\n",
      "[Exp(), <built-in function add>]\n",
      "[Exp(), <built-in function add>]\n",
      "---------------------------------------------\n",
      "b\n",
      "bq - cv ) * (0 - (bg * 5 ) ) - (cv * (n + ((q + 2 ) * (ag + 0 - 4 ) ) + 1 ) ) \n",
      "[Exp({0: 5, 9: 3, 72: 1, -64: 1, -24: 1}), <built-in function sub>]\n",
      "[Exp(), <built-in function add>]\n",
      "[Exp(), <built-in function add>]\n",
      "---------------------------------------------\n",
      "q\n",
      "q - cv ) * (0 - (bg * 5 ) ) - (cv * (n + ((q + 2 ) * (ag + 0 - 4 ) ) + 1 ) ) \n",
      "[Exp({0: 5, 9: 3, 72: 1, -64: 1, -24: 1}), <built-in function sub>]\n",
      "[Exp(), <built-in function add>]\n",
      "[Exp(), <built-in function add>]\n",
      "---------------------------------------------\n",
      " \n",
      " - cv ) * (0 - (bg * 5 ) ) - (cv * (n + ((q + 2 ) * (ag + 0 - 4 ) ) + 1 ) ) \n",
      "[Exp({0: 5, 9: 3, 72: 1, -64: 1, -24: 1}), <built-in function sub>]\n",
      "[Exp(), <built-in function add>]\n",
      "[Exp({0: 1}), <built-in function add>]\n",
      "---------------------------------------------\n",
      "-\n",
      "- cv ) * (0 - (bg * 5 ) ) - (cv * (n + ((q + 2 ) * (ag + 0 - 4 ) ) + 1 ) ) \n",
      "[Exp({0: 5, 9: 3, 72: 1, -64: 1, -24: 1}), <built-in function sub>]\n",
      "[Exp(), <built-in function add>]\n",
      "[Exp({0: 1}), <built-in function sub>]\n",
      "---------------------------------------------\n",
      " \n",
      " cv ) * (0 - (bg * 5 ) ) - (cv * (n + ((q + 2 ) * (ag + 0 - 4 ) ) + 1 ) ) \n",
      "[Exp({0: 5, 9: 3, 72: 1, -64: 1, -24: 1}), <built-in function sub>]\n",
      "[Exp(), <built-in function add>]\n",
      "[Exp({0: 1}), <built-in function sub>]\n",
      "---------------------------------------------\n",
      "c\n",
      "cv ) * (0 - (bg * 5 ) ) - (cv * (n + ((q + 2 ) * (ag + 0 - 4 ) ) + 1 ) ) \n",
      "[Exp({0: 5, 9: 3, 72: 1, -64: 1, -24: 1}), <built-in function sub>]\n",
      "[Exp(), <built-in function add>]\n",
      "[Exp({0: 1}), <built-in function sub>]\n",
      "---------------------------------------------\n",
      "v\n",
      "v ) * (0 - (bg * 5 ) ) - (cv * (n + ((q + 2 ) * (ag + 0 - 4 ) ) + 1 ) ) \n",
      "[Exp({0: 5, 9: 3, 72: 1, -64: 1, -24: 1}), <built-in function sub>]\n",
      "[Exp(), <built-in function add>]\n",
      "[Exp({0: 1}), <built-in function sub>]\n",
      "---------------------------------------------\n",
      " \n",
      " ) * (0 - (bg * 5 ) ) - (cv * (n + ((q + 2 ) * (ag + 0 - 4 ) ) + 1 ) ) \n",
      "[Exp({0: 5, 9: 3, 72: 1, -64: 1, -24: 1}), <built-in function sub>]\n",
      "[Exp(), <built-in function add>]\n",
      "[Exp({0: 1, 10: -1}), <built-in function sub>]\n",
      "---------------------------------------------\n",
      ")\n",
      ") * (0 - (bg * 5 ) ) - (cv * (n + ((q + 2 ) * (ag + 0 - 4 ) ) + 1 ) ) \n",
      "[Exp({0: 5, 9: 3, 72: 1, -64: 1, -24: 1}), <built-in function sub>]\n",
      "[Exp({0: 1, 10: -1}), <built-in function add>]\n",
      "---------------------------------------------\n",
      " \n",
      " * (0 - (bg * 5 ) ) - (cv * (n + ((q + 2 ) * (ag + 0 - 4 ) ) + 1 ) ) \n",
      "[Exp({0: 5, 9: 3, 72: 1, -64: 1, -24: 1}), <built-in function sub>]\n",
      "[Exp({0: 1, 10: -1}), <built-in function add>]\n",
      "---------------------------------------------\n",
      "*\n",
      "* (0 - (bg * 5 ) ) - (cv * (n + ((q + 2 ) * (ag + 0 - 4 ) ) + 1 ) ) \n",
      "[Exp({0: 5, 9: 3, 72: 1, -64: 1, -24: 1}), <built-in function sub>]\n",
      "[Exp({0: 1, 10: -1}), <built-in function mul>]\n",
      "---------------------------------------------\n",
      " \n",
      " (0 - (bg * 5 ) ) - (cv * (n + ((q + 2 ) * (ag + 0 - 4 ) ) + 1 ) ) \n",
      "[Exp({0: 5, 9: 3, 72: 1, -64: 1, -24: 1}), <built-in function sub>]\n",
      "[Exp({0: 1, 10: -1}), <built-in function mul>]\n",
      "---------------------------------------------\n",
      "(\n",
      "(0 - (bg * 5 ) ) - (cv * (n + ((q + 2 ) * (ag + 0 - 4 ) ) + 1 ) ) \n",
      "[Exp({0: 5, 9: 3, 72: 1, -64: 1, -24: 1}), <built-in function sub>]\n",
      "[Exp({0: 1, 10: -1}), <built-in function mul>]\n",
      "[Exp(), <built-in function add>]\n",
      "---------------------------------------------\n",
      "0\n",
      "0 - (bg * 5 ) ) - (cv * (n + ((q + 2 ) * (ag + 0 - 4 ) ) + 1 ) ) \n",
      "[Exp({0: 5, 9: 3, 72: 1, -64: 1, -24: 1}), <built-in function sub>]\n",
      "[Exp({0: 1, 10: -1}), <built-in function mul>]\n",
      "[Exp(), <built-in function add>]\n",
      "---------------------------------------------\n",
      " \n",
      " - (bg * 5 ) ) - (cv * (n + ((q + 2 ) * (ag + 0 - 4 ) ) + 1 ) ) \n",
      "[Exp({0: 5, 9: 3, 72: 1, -64: 1, -24: 1}), <built-in function sub>]\n",
      "[Exp({0: 1, 10: -1}), <built-in function mul>]\n",
      "[Exp({0: 1}), <built-in function add>]\n",
      "---------------------------------------------\n",
      "-\n",
      "- (bg * 5 ) ) - (cv * (n + ((q + 2 ) * (ag + 0 - 4 ) ) + 1 ) ) \n",
      "[Exp({0: 5, 9: 3, 72: 1, -64: 1, -24: 1}), <built-in function sub>]\n",
      "[Exp({0: 1, 10: -1}), <built-in function mul>]\n",
      "[Exp({0: 1}), <built-in function sub>]\n",
      "---------------------------------------------\n",
      " \n",
      " (bg * 5 ) ) - (cv * (n + ((q + 2 ) * (ag + 0 - 4 ) ) + 1 ) ) \n",
      "[Exp({0: 5, 9: 3, 72: 1, -64: 1, -24: 1}), <built-in function sub>]\n",
      "[Exp({0: 1, 10: -1}), <built-in function mul>]\n",
      "[Exp({0: 1}), <built-in function sub>]\n",
      "---------------------------------------------\n",
      "(\n",
      "(bg * 5 ) ) - (cv * (n + ((q + 2 ) * (ag + 0 - 4 ) ) + 1 ) ) \n",
      "[Exp({0: 5, 9: 3, 72: 1, -64: 1, -24: 1}), <built-in function sub>]\n",
      "[Exp({0: 1, 10: -1}), <built-in function mul>]\n",
      "[Exp({0: 1}), <built-in function sub>]\n",
      "[Exp(), <built-in function add>]\n",
      "---------------------------------------------\n",
      "b\n",
      "bg * 5 ) ) - (cv * (n + ((q + 2 ) * (ag + 0 - 4 ) ) + 1 ) ) \n",
      "[Exp({0: 5, 9: 3, 72: 1, -64: 1, -24: 1}), <built-in function sub>]\n",
      "[Exp({0: 1, 10: -1}), <built-in function mul>]\n",
      "[Exp({0: 1}), <built-in function sub>]\n",
      "[Exp(), <built-in function add>]\n",
      "---------------------------------------------\n",
      "g\n",
      "g * 5 ) ) - (cv * (n + ((q + 2 ) * (ag + 0 - 4 ) ) + 1 ) ) \n",
      "[Exp({0: 5, 9: 3, 72: 1, -64: 1, -24: 1}), <built-in function sub>]\n",
      "[Exp({0: 1, 10: -1}), <built-in function mul>]\n",
      "[Exp({0: 1}), <built-in function sub>]\n",
      "[Exp(), <built-in function add>]\n",
      "---------------------------------------------\n",
      " \n",
      " * 5 ) ) - (cv * (n + ((q + 2 ) * (ag + 0 - 4 ) ) + 1 ) ) \n",
      "[Exp({0: 5, 9: 3, 72: 1, -64: 1, -24: 1}), <built-in function sub>]\n",
      "[Exp({0: 1, 10: -1}), <built-in function mul>]\n",
      "[Exp({0: 1}), <built-in function sub>]\n",
      "[Exp({3: 1}), <built-in function add>]\n",
      "---------------------------------------------\n",
      "*\n",
      "* 5 ) ) - (cv * (n + ((q + 2 ) * (ag + 0 - 4 ) ) + 1 ) ) \n",
      "[Exp({0: 5, 9: 3, 72: 1, -64: 1, -24: 1}), <built-in function sub>]\n",
      "[Exp({0: 1, 10: -1}), <built-in function mul>]\n",
      "[Exp({0: 1}), <built-in function sub>]\n",
      "[Exp({3: 1}), <built-in function mul>]\n",
      "---------------------------------------------\n",
      " \n",
      " 5 ) ) - (cv * (n + ((q + 2 ) * (ag + 0 - 4 ) ) + 1 ) ) \n",
      "[Exp({0: 5, 9: 3, 72: 1, -64: 1, -24: 1}), <built-in function sub>]\n",
      "[Exp({0: 1, 10: -1}), <built-in function mul>]\n",
      "[Exp({0: 1}), <built-in function sub>]\n",
      "[Exp({3: 1}), <built-in function mul>]\n",
      "---------------------------------------------\n",
      "5\n",
      "5 ) ) - (cv * (n + ((q + 2 ) * (ag + 0 - 4 ) ) + 1 ) ) \n",
      "[Exp({0: 5, 9: 3, 72: 1, -64: 1, -24: 1}), <built-in function sub>]\n",
      "[Exp({0: 1, 10: -1}), <built-in function mul>]\n",
      "[Exp({0: 1}), <built-in function sub>]\n",
      "[Exp({3: 1}), <built-in function mul>]\n",
      "---------------------------------------------\n",
      " \n",
      " ) ) - (cv * (n + ((q + 2 ) * (ag + 0 - 4 ) ) + 1 ) ) \n",
      "[Exp({0: 5, 9: 3, 72: 1, -64: 1, -24: 1}), <built-in function sub>]\n",
      "[Exp({0: 1, 10: -1}), <built-in function mul>]\n",
      "[Exp({0: 1}), <built-in function sub>]\n",
      "[Exp({15: 1}), <built-in function mul>]\n",
      "---------------------------------------------\n",
      ")\n",
      ") ) - (cv * (n + ((q + 2 ) * (ag + 0 - 4 ) ) + 1 ) ) \n",
      "[Exp({0: 5, 9: 3, 72: 1, -64: 1, -24: 1}), <built-in function sub>]\n",
      "[Exp({0: 1, 10: -1}), <built-in function mul>]\n",
      "[Exp({0: 1, 15: -1}), <built-in function sub>]\n",
      "---------------------------------------------\n",
      " \n",
      " ) - (cv * (n + ((q + 2 ) * (ag + 0 - 4 ) ) + 1 ) ) \n",
      "[Exp({0: 5, 9: 3, 72: 1, -64: 1, -24: 1}), <built-in function sub>]\n",
      "[Exp({0: 1, 10: -1}), <built-in function mul>]\n",
      "[Exp({0: 1, 15: -1}), <built-in function sub>]\n",
      "---------------------------------------------\n",
      ")\n",
      ") - (cv * (n + ((q + 2 ) * (ag + 0 - 4 ) ) + 1 ) ) \n",
      "[Exp({0: 5, 9: 3, 72: 1, -64: 1, -24: 1}), <built-in function sub>]\n",
      "[Exp({0: 3, 150: 1}), <built-in function mul>]\n",
      "---------------------------------------------\n",
      " \n",
      " - (cv * (n + ((q + 2 ) * (ag + 0 - 4 ) ) + 1 ) ) \n",
      "[Exp({0: 5, 9: 3, 72: 1, -64: 1, -24: 1}), <built-in function sub>]\n",
      "[Exp({0: 3, 150: 1}), <built-in function mul>]\n",
      "---------------------------------------------\n",
      "-\n",
      "- (cv * (n + ((q + 2 ) * (ag + 0 - 4 ) ) + 1 ) ) \n",
      "[Exp({0: 5, 9: 3, 72: 1, -64: 1, -24: 1}), <built-in function sub>]\n",
      "[Exp({0: 3, 150: 1}), <built-in function sub>]\n",
      "---------------------------------------------\n",
      " \n",
      " (cv * (n + ((q + 2 ) * (ag + 0 - 4 ) ) + 1 ) ) \n",
      "[Exp({0: 5, 9: 3, 72: 1, -64: 1, -24: 1}), <built-in function sub>]\n",
      "[Exp({0: 3, 150: 1}), <built-in function sub>]\n",
      "---------------------------------------------\n",
      "(\n",
      "(cv * (n + ((q + 2 ) * (ag + 0 - 4 ) ) + 1 ) ) \n",
      "[Exp({0: 5, 9: 3, 72: 1, -64: 1, -24: 1}), <built-in function sub>]\n",
      "[Exp({0: 3, 150: 1}), <built-in function sub>]\n",
      "[Exp(), <built-in function add>]\n",
      "---------------------------------------------\n",
      "c\n",
      "cv * (n + ((q + 2 ) * (ag + 0 - 4 ) ) + 1 ) ) \n",
      "[Exp({0: 5, 9: 3, 72: 1, -64: 1, -24: 1}), <built-in function sub>]\n",
      "[Exp({0: 3, 150: 1}), <built-in function sub>]\n",
      "[Exp(), <built-in function add>]\n",
      "---------------------------------------------\n",
      "v\n",
      "v * (n + ((q + 2 ) * (ag + 0 - 4 ) ) + 1 ) ) \n",
      "[Exp({0: 5, 9: 3, 72: 1, -64: 1, -24: 1}), <built-in function sub>]\n",
      "[Exp({0: 3, 150: 1}), <built-in function sub>]\n",
      "[Exp(), <built-in function add>]\n",
      "---------------------------------------------\n",
      " \n",
      " * (n + ((q + 2 ) * (ag + 0 - 4 ) ) + 1 ) ) \n",
      "[Exp({0: 5, 9: 3, 72: 1, -64: 1, -24: 1}), <built-in function sub>]\n",
      "[Exp({0: 3, 150: 1}), <built-in function sub>]\n",
      "[Exp({10: 1}), <built-in function add>]\n",
      "---------------------------------------------\n",
      "*\n",
      "* (n + ((q + 2 ) * (ag + 0 - 4 ) ) + 1 ) ) \n",
      "[Exp({0: 5, 9: 3, 72: 1, -64: 1, -24: 1}), <built-in function sub>]\n",
      "[Exp({0: 3, 150: 1}), <built-in function sub>]\n",
      "[Exp({10: 1}), <built-in function mul>]\n",
      "---------------------------------------------\n",
      " \n",
      " (n + ((q + 2 ) * (ag + 0 - 4 ) ) + 1 ) ) \n",
      "[Exp({0: 5, 9: 3, 72: 1, -64: 1, -24: 1}), <built-in function sub>]\n",
      "[Exp({0: 3, 150: 1}), <built-in function sub>]\n",
      "[Exp({10: 1}), <built-in function mul>]\n",
      "---------------------------------------------\n",
      "(\n",
      "(n + ((q + 2 ) * (ag + 0 - 4 ) ) + 1 ) ) \n",
      "[Exp({0: 5, 9: 3, 72: 1, -64: 1, -24: 1}), <built-in function sub>]\n",
      "[Exp({0: 3, 150: 1}), <built-in function sub>]\n",
      "[Exp({10: 1}), <built-in function mul>]\n",
      "[Exp(), <built-in function add>]\n",
      "---------------------------------------------\n",
      "n\n",
      "n + ((q + 2 ) * (ag + 0 - 4 ) ) + 1 ) ) \n",
      "[Exp({0: 5, 9: 3, 72: 1, -64: 1, -24: 1}), <built-in function sub>]\n",
      "[Exp({0: 3, 150: 1}), <built-in function sub>]\n",
      "[Exp({10: 1}), <built-in function mul>]\n",
      "[Exp(), <built-in function add>]\n",
      "---------------------------------------------\n",
      " \n",
      " + ((q + 2 ) * (ag + 0 - 4 ) ) + 1 ) ) \n",
      "[Exp({0: 5, 9: 3, 72: 1, -64: 1, -24: 1}), <built-in function sub>]\n",
      "[Exp({0: 3, 150: 1}), <built-in function sub>]\n",
      "[Exp({10: 1}), <built-in function mul>]\n",
      "[Exp({0: 1}), <built-in function add>]\n",
      "---------------------------------------------\n",
      "+\n",
      "+ ((q + 2 ) * (ag + 0 - 4 ) ) + 1 ) ) \n",
      "[Exp({0: 5, 9: 3, 72: 1, -64: 1, -24: 1}), <built-in function sub>]\n",
      "[Exp({0: 3, 150: 1}), <built-in function sub>]\n",
      "[Exp({10: 1}), <built-in function mul>]\n",
      "[Exp({0: 1}), <built-in function add>]\n",
      "---------------------------------------------\n",
      " \n",
      " ((q + 2 ) * (ag + 0 - 4 ) ) + 1 ) ) \n",
      "[Exp({0: 5, 9: 3, 72: 1, -64: 1, -24: 1}), <built-in function sub>]\n",
      "[Exp({0: 3, 150: 1}), <built-in function sub>]\n",
      "[Exp({10: 1}), <built-in function mul>]\n",
      "[Exp({0: 1}), <built-in function add>]\n",
      "---------------------------------------------\n",
      "(\n",
      "((q + 2 ) * (ag + 0 - 4 ) ) + 1 ) ) \n",
      "[Exp({0: 5, 9: 3, 72: 1, -64: 1, -24: 1}), <built-in function sub>]\n",
      "[Exp({0: 3, 150: 1}), <built-in function sub>]\n",
      "[Exp({10: 1}), <built-in function mul>]\n",
      "[Exp({0: 1}), <built-in function add>]\n",
      "[Exp(), <built-in function add>]\n",
      "---------------------------------------------\n",
      "(\n",
      "(q + 2 ) * (ag + 0 - 4 ) ) + 1 ) ) \n",
      "[Exp({0: 5, 9: 3, 72: 1, -64: 1, -24: 1}), <built-in function sub>]\n",
      "[Exp({0: 3, 150: 1}), <built-in function sub>]\n",
      "[Exp({10: 1}), <built-in function mul>]\n",
      "[Exp({0: 1}), <built-in function add>]\n",
      "[Exp(), <built-in function add>]\n",
      "[Exp(), <built-in function add>]\n",
      "---------------------------------------------\n",
      "q\n",
      "q + 2 ) * (ag + 0 - 4 ) ) + 1 ) ) \n",
      "[Exp({0: 5, 9: 3, 72: 1, -64: 1, -24: 1}), <built-in function sub>]\n",
      "[Exp({0: 3, 150: 1}), <built-in function sub>]\n",
      "[Exp({10: 1}), <built-in function mul>]\n",
      "[Exp({0: 1}), <built-in function add>]\n",
      "[Exp(), <built-in function add>]\n",
      "[Exp(), <built-in function add>]\n",
      "---------------------------------------------\n",
      " \n",
      " + 2 ) * (ag + 0 - 4 ) ) + 1 ) ) \n",
      "[Exp({0: 5, 9: 3, 72: 1, -64: 1, -24: 1}), <built-in function sub>]\n",
      "[Exp({0: 3, 150: 1}), <built-in function sub>]\n",
      "[Exp({10: 1}), <built-in function mul>]\n",
      "[Exp({0: 1}), <built-in function add>]\n",
      "[Exp(), <built-in function add>]\n",
      "[Exp({3: 1}), <built-in function add>]\n",
      "---------------------------------------------\n",
      "+\n",
      "+ 2 ) * (ag + 0 - 4 ) ) + 1 ) ) \n",
      "[Exp({0: 5, 9: 3, 72: 1, -64: 1, -24: 1}), <built-in function sub>]\n",
      "[Exp({0: 3, 150: 1}), <built-in function sub>]\n",
      "[Exp({10: 1}), <built-in function mul>]\n",
      "[Exp({0: 1}), <built-in function add>]\n",
      "[Exp(), <built-in function add>]\n",
      "[Exp({3: 1}), <built-in function add>]\n",
      "---------------------------------------------\n",
      " \n",
      " 2 ) * (ag + 0 - 4 ) ) + 1 ) ) \n",
      "[Exp({0: 5, 9: 3, 72: 1, -64: 1, -24: 1}), <built-in function sub>]\n",
      "[Exp({0: 3, 150: 1}), <built-in function sub>]\n",
      "[Exp({10: 1}), <built-in function mul>]\n",
      "[Exp({0: 1}), <built-in function add>]\n",
      "[Exp(), <built-in function add>]\n",
      "[Exp({3: 1}), <built-in function add>]\n",
      "---------------------------------------------\n",
      "2\n",
      "2 ) * (ag + 0 - 4 ) ) + 1 ) ) \n",
      "[Exp({0: 5, 9: 3, 72: 1, -64: 1, -24: 1}), <built-in function sub>]\n",
      "[Exp({0: 3, 150: 1}), <built-in function sub>]\n",
      "[Exp({10: 1}), <built-in function mul>]\n",
      "[Exp({0: 1}), <built-in function add>]\n",
      "[Exp(), <built-in function add>]\n",
      "[Exp({3: 1}), <built-in function add>]\n",
      "---------------------------------------------\n",
      " \n",
      " ) * (ag + 0 - 4 ) ) + 1 ) ) \n",
      "[Exp({0: 5, 9: 3, 72: 1, -64: 1, -24: 1}), <built-in function sub>]\n",
      "[Exp({0: 3, 150: 1}), <built-in function sub>]\n",
      "[Exp({10: 1}), <built-in function mul>]\n",
      "[Exp({0: 1}), <built-in function add>]\n",
      "[Exp(), <built-in function add>]\n",
      "[Exp({3: 1, 2: 1}), <built-in function add>]\n",
      "---------------------------------------------\n",
      ")\n",
      ") * (ag + 0 - 4 ) ) + 1 ) ) \n",
      "[Exp({0: 5, 9: 3, 72: 1, -64: 1, -24: 1}), <built-in function sub>]\n",
      "[Exp({0: 3, 150: 1}), <built-in function sub>]\n",
      "[Exp({10: 1}), <built-in function mul>]\n",
      "[Exp({0: 1}), <built-in function add>]\n",
      "[Exp({3: 1, 2: 1}), <built-in function add>]\n",
      "---------------------------------------------\n",
      " \n",
      " * (ag + 0 - 4 ) ) + 1 ) ) \n",
      "[Exp({0: 5, 9: 3, 72: 1, -64: 1, -24: 1}), <built-in function sub>]\n",
      "[Exp({0: 3, 150: 1}), <built-in function sub>]\n",
      "[Exp({10: 1}), <built-in function mul>]\n",
      "[Exp({0: 1}), <built-in function add>]\n",
      "[Exp({3: 1, 2: 1}), <built-in function add>]\n",
      "---------------------------------------------\n",
      "*\n",
      "* (ag + 0 - 4 ) ) + 1 ) ) \n",
      "[Exp({0: 5, 9: 3, 72: 1, -64: 1, -24: 1}), <built-in function sub>]\n",
      "[Exp({0: 3, 150: 1}), <built-in function sub>]\n",
      "[Exp({10: 1}), <built-in function mul>]\n",
      "[Exp({0: 1}), <built-in function add>]\n",
      "[Exp({3: 1, 2: 1}), <built-in function mul>]\n",
      "---------------------------------------------\n",
      " \n",
      " (ag + 0 - 4 ) ) + 1 ) ) \n",
      "[Exp({0: 5, 9: 3, 72: 1, -64: 1, -24: 1}), <built-in function sub>]\n",
      "[Exp({0: 3, 150: 1}), <built-in function sub>]\n",
      "[Exp({10: 1}), <built-in function mul>]\n",
      "[Exp({0: 1}), <built-in function add>]\n",
      "[Exp({3: 1, 2: 1}), <built-in function mul>]\n",
      "---------------------------------------------\n",
      "(\n",
      "(ag + 0 - 4 ) ) + 1 ) ) \n",
      "[Exp({0: 5, 9: 3, 72: 1, -64: 1, -24: 1}), <built-in function sub>]\n",
      "[Exp({0: 3, 150: 1}), <built-in function sub>]\n",
      "[Exp({10: 1}), <built-in function mul>]\n",
      "[Exp({0: 1}), <built-in function add>]\n",
      "[Exp({3: 1, 2: 1}), <built-in function mul>]\n",
      "[Exp(), <built-in function add>]\n",
      "---------------------------------------------\n",
      "a\n",
      "ag + 0 - 4 ) ) + 1 ) ) \n",
      "[Exp({0: 5, 9: 3, 72: 1, -64: 1, -24: 1}), <built-in function sub>]\n",
      "[Exp({0: 3, 150: 1}), <built-in function sub>]\n",
      "[Exp({10: 1}), <built-in function mul>]\n",
      "[Exp({0: 1}), <built-in function add>]\n",
      "[Exp({3: 1, 2: 1}), <built-in function mul>]\n",
      "[Exp(), <built-in function add>]\n",
      "---------------------------------------------\n",
      "g\n",
      "g + 0 - 4 ) ) + 1 ) ) \n",
      "[Exp({0: 5, 9: 3, 72: 1, -64: 1, -24: 1}), <built-in function sub>]\n",
      "[Exp({0: 3, 150: 1}), <built-in function sub>]\n",
      "[Exp({10: 1}), <built-in function mul>]\n",
      "[Exp({0: 1}), <built-in function add>]\n",
      "[Exp({3: 1, 2: 1}), <built-in function mul>]\n",
      "[Exp(), <built-in function add>]\n",
      "---------------------------------------------\n",
      " \n",
      " + 0 - 4 ) ) + 1 ) ) \n",
      "[Exp({0: 5, 9: 3, 72: 1, -64: 1, -24: 1}), <built-in function sub>]\n",
      "[Exp({0: 3, 150: 1}), <built-in function sub>]\n",
      "[Exp({10: 1}), <built-in function mul>]\n",
      "[Exp({0: 1}), <built-in function add>]\n",
      "[Exp({3: 1, 2: 1}), <built-in function mul>]\n",
      "[Exp({11: 1}), <built-in function add>]\n",
      "---------------------------------------------\n",
      "+\n",
      "+ 0 - 4 ) ) + 1 ) ) \n",
      "[Exp({0: 5, 9: 3, 72: 1, -64: 1, -24: 1}), <built-in function sub>]\n",
      "[Exp({0: 3, 150: 1}), <built-in function sub>]\n",
      "[Exp({10: 1}), <built-in function mul>]\n",
      "[Exp({0: 1}), <built-in function add>]\n",
      "[Exp({3: 1, 2: 1}), <built-in function mul>]\n",
      "[Exp({11: 1}), <built-in function add>]\n",
      "---------------------------------------------\n",
      " \n",
      " 0 - 4 ) ) + 1 ) ) \n",
      "[Exp({0: 5, 9: 3, 72: 1, -64: 1, -24: 1}), <built-in function sub>]\n",
      "[Exp({0: 3, 150: 1}), <built-in function sub>]\n",
      "[Exp({10: 1}), <built-in function mul>]\n",
      "[Exp({0: 1}), <built-in function add>]\n",
      "[Exp({3: 1, 2: 1}), <built-in function mul>]\n",
      "[Exp({11: 1}), <built-in function add>]\n",
      "---------------------------------------------\n",
      "0\n",
      "0 - 4 ) ) + 1 ) ) \n",
      "[Exp({0: 5, 9: 3, 72: 1, -64: 1, -24: 1}), <built-in function sub>]\n",
      "[Exp({0: 3, 150: 1}), <built-in function sub>]\n",
      "[Exp({10: 1}), <built-in function mul>]\n",
      "[Exp({0: 1}), <built-in function add>]\n",
      "[Exp({3: 1, 2: 1}), <built-in function mul>]\n",
      "[Exp({11: 1}), <built-in function add>]\n",
      "---------------------------------------------\n",
      " \n",
      " - 4 ) ) + 1 ) ) \n",
      "[Exp({0: 5, 9: 3, 72: 1, -64: 1, -24: 1}), <built-in function sub>]\n",
      "[Exp({0: 3, 150: 1}), <built-in function sub>]\n",
      "[Exp({10: 1}), <built-in function mul>]\n",
      "[Exp({0: 1}), <built-in function add>]\n",
      "[Exp({3: 1, 2: 1}), <built-in function mul>]\n",
      "[Exp({11: 1, 0: 1}), <built-in function add>]\n",
      "---------------------------------------------\n",
      "-\n",
      "- 4 ) ) + 1 ) ) \n",
      "[Exp({0: 5, 9: 3, 72: 1, -64: 1, -24: 1}), <built-in function sub>]\n",
      "[Exp({0: 3, 150: 1}), <built-in function sub>]\n",
      "[Exp({10: 1}), <built-in function mul>]\n",
      "[Exp({0: 1}), <built-in function add>]\n",
      "[Exp({3: 1, 2: 1}), <built-in function mul>]\n",
      "[Exp({11: 1, 0: 1}), <built-in function sub>]\n",
      "---------------------------------------------\n",
      " \n",
      " 4 ) ) + 1 ) ) \n",
      "[Exp({0: 5, 9: 3, 72: 1, -64: 1, -24: 1}), <built-in function sub>]\n",
      "[Exp({0: 3, 150: 1}), <built-in function sub>]\n",
      "[Exp({10: 1}), <built-in function mul>]\n",
      "[Exp({0: 1}), <built-in function add>]\n",
      "[Exp({3: 1, 2: 1}), <built-in function mul>]\n",
      "[Exp({11: 1, 0: 1}), <built-in function sub>]\n",
      "---------------------------------------------\n",
      "4\n",
      "4 ) ) + 1 ) ) \n",
      "[Exp({0: 5, 9: 3, 72: 1, -64: 1, -24: 1}), <built-in function sub>]\n",
      "[Exp({0: 3, 150: 1}), <built-in function sub>]\n",
      "[Exp({10: 1}), <built-in function mul>]\n",
      "[Exp({0: 1}), <built-in function add>]\n",
      "[Exp({3: 1, 2: 1}), <built-in function mul>]\n",
      "[Exp({11: 1, 0: 1}), <built-in function sub>]\n",
      "---------------------------------------------\n",
      " \n",
      " ) ) + 1 ) ) \n",
      "[Exp({0: 5, 9: 3, 72: 1, -64: 1, -24: 1}), <built-in function sub>]\n",
      "[Exp({0: 3, 150: 1}), <built-in function sub>]\n",
      "[Exp({10: 1}), <built-in function mul>]\n",
      "[Exp({0: 1}), <built-in function add>]\n",
      "[Exp({3: 1, 2: 1}), <built-in function mul>]\n",
      "[Exp({11: 1, 0: 1, 4: -1}), <built-in function sub>]\n",
      "---------------------------------------------\n",
      ")\n",
      ") ) + 1 ) ) \n",
      "[Exp({0: 5, 9: 3, 72: 1, -64: 1, -24: 1}), <built-in function sub>]\n",
      "[Exp({0: 3, 150: 1}), <built-in function sub>]\n",
      "[Exp({10: 1}), <built-in function mul>]\n",
      "[Exp({0: 1}), <built-in function add>]\n",
      "[Exp({0: 2, 33: 1, -12: 1, 22: 1, -8: 1}), <built-in function mul>]\n",
      "---------------------------------------------\n",
      " \n",
      " ) + 1 ) ) \n",
      "[Exp({0: 5, 9: 3, 72: 1, -64: 1, -24: 1}), <built-in function sub>]\n",
      "[Exp({0: 3, 150: 1}), <built-in function sub>]\n",
      "[Exp({10: 1}), <built-in function mul>]\n",
      "[Exp({0: 1}), <built-in function add>]\n",
      "[Exp({0: 2, 33: 1, -12: 1, 22: 1, -8: 1}), <built-in function mul>]\n",
      "---------------------------------------------\n",
      ")\n",
      ") + 1 ) ) \n",
      "[Exp({0: 5, 9: 3, 72: 1, -64: 1, -24: 1}), <built-in function sub>]\n",
      "[Exp({0: 3, 150: 1}), <built-in function sub>]\n",
      "[Exp({10: 1}), <built-in function mul>]\n",
      "[Exp({0: 3, 33: 1, -12: 1, 22: 1, -8: 1}), <built-in function add>]\n",
      "---------------------------------------------\n",
      " \n",
      " + 1 ) ) \n",
      "[Exp({0: 5, 9: 3, 72: 1, -64: 1, -24: 1}), <built-in function sub>]\n",
      "[Exp({0: 3, 150: 1}), <built-in function sub>]\n",
      "[Exp({10: 1}), <built-in function mul>]\n",
      "[Exp({0: 3, 33: 1, -12: 1, 22: 1, -8: 1}), <built-in function add>]\n",
      "---------------------------------------------\n",
      "+\n",
      "+ 1 ) ) \n",
      "[Exp({0: 5, 9: 3, 72: 1, -64: 1, -24: 1}), <built-in function sub>]\n",
      "[Exp({0: 3, 150: 1}), <built-in function sub>]\n",
      "[Exp({10: 1}), <built-in function mul>]\n",
      "[Exp({0: 3, 33: 1, -12: 1, 22: 1, -8: 1}), <built-in function add>]\n",
      "---------------------------------------------\n",
      " \n",
      " 1 ) ) \n",
      "[Exp({0: 5, 9: 3, 72: 1, -64: 1, -24: 1}), <built-in function sub>]\n",
      "[Exp({0: 3, 150: 1}), <built-in function sub>]\n",
      "[Exp({10: 1}), <built-in function mul>]\n",
      "[Exp({0: 3, 33: 1, -12: 1, 22: 1, -8: 1}), <built-in function add>]\n",
      "---------------------------------------------\n",
      "1\n",
      "1 ) ) \n",
      "[Exp({0: 5, 9: 3, 72: 1, -64: 1, -24: 1}), <built-in function sub>]\n",
      "[Exp({0: 3, 150: 1}), <built-in function sub>]\n",
      "[Exp({10: 1}), <built-in function mul>]\n",
      "[Exp({0: 3, 33: 1, -12: 1, 22: 1, -8: 1}), <built-in function add>]\n",
      "---------------------------------------------\n",
      " \n",
      " ) ) \n",
      "[Exp({0: 5, 9: 3, 72: 1, -64: 1, -24: 1}), <built-in function sub>]\n",
      "[Exp({0: 3, 150: 1}), <built-in function sub>]\n",
      "[Exp({10: 1}), <built-in function mul>]\n",
      "[Exp({0: 3, 33: 1, -12: 1, 22: 1, -8: 1, 1: 1}), <built-in function add>]\n",
      "---------------------------------------------\n",
      ")\n",
      ") ) \n",
      "[Exp({0: 5, 9: 3, 72: 1, -64: 1, -24: 1}), <built-in function sub>]\n",
      "[Exp({0: 3, 150: 1}), <built-in function sub>]\n",
      "[Exp({0: 1, 330: 1, -120: 1, 220: 1, -80: 1, 10: 1}), <built-in function mul>]\n",
      "---------------------------------------------\n",
      " \n",
      " ) \n",
      "[Exp({0: 5, 9: 3, 72: 1, -64: 1, -24: 1}), <built-in function sub>]\n",
      "[Exp({0: 3, 150: 1}), <built-in function sub>]\n",
      "[Exp({0: 1, 330: 1, -120: 1, 220: 1, -80: 1, 10: 1}), <built-in function mul>]\n",
      "---------------------------------------------\n",
      ")\n",
      ") \n",
      "[Exp({0: 5, 9: 3, 72: 1, -64: 1, -24: 1}), <built-in function sub>]\n",
      "[Exp({0: 2, 150: 1, 330: -1, -120: -1, 220: -1, -80: -1, 10: -1}), <built-in function sub>]\n",
      "---------------------------------------------\n",
      " \n",
      " \n",
      "[Exp({0: 5, 9: 3, 72: 1, -64: 1, -24: 1}), <built-in function sub>]\n",
      "[Exp({0: 2, 150: 1, 330: -1, -120: -1, 220: -1, -80: -1, 10: -1}), <built-in function sub>]\n",
      "---------------------------------------------\n"
     ]
    },
    {
     "data": {
      "text/plain": [
       "['-210']"
      ]
     },
     "execution_count": 475,
     "metadata": {},
     "output_type": "execute_result"
    }
   ],
   "source": [
    "Solution().basicCalculatorIV(A, B, C)"
   ]
  },
  {
   "cell_type": "code",
   "execution_count": 461,
   "metadata": {},
   "outputs": [
    {
     "data": {
      "text/plain": [
       "['360']"
      ]
     },
     "execution_count": 461,
     "metadata": {},
     "output_type": "execute_result"
    }
   ],
   "source": [
    "Exp({0: 1, 330: 1, -120: 1, 220: 1, -80: 1, 10: 1}).to_list()"
   ]
  },
  {
   "cell_type": "code",
   "execution_count": 457,
   "metadata": {},
   "outputs": [
    {
     "data": {
      "text/plain": [
       "['-210']"
      ]
     },
     "execution_count": 457,
     "metadata": {},
     "output_type": "execute_result"
    }
   ],
   "source": [
    "Exp({0: 2, 150: 1, 330: -1, -120: -1, 220: -1, -80: -1, 10: -1}).to_list()"
   ]
  },
  {
   "cell_type": "code",
   "execution_count": 403,
   "metadata": {},
   "outputs": [
    {
     "data": {
      "text/plain": [
       "-210"
      ]
     },
     "execution_count": 403,
     "metadata": {},
     "output_type": "execute_result"
    }
   ],
   "source": [
    "150 - 330 + 120 - 220 +80 -10"
   ]
  },
  {
   "cell_type": "code",
   "execution_count": 397,
   "metadata": {},
   "outputs": [
    {
     "data": {
      "text/plain": [
       "'cv * (n + (q + 2) * (ag + 0 - 4) + 1)'"
      ]
     },
     "execution_count": 397,
     "metadata": {},
     "output_type": "execute_result"
    }
   ],
   "source": [
    "\"cv * (n + (q + 2) * (ag + 0 - 4) + 1)\""
   ]
  },
  {
   "cell_type": "code",
   "execution_count": 398,
   "metadata": {},
   "outputs": [
    {
     "data": {
      "text/plain": [
       "'cv * (n + ((q + 2) * (ag + 0 - 4)) + 1)'"
      ]
     },
     "execution_count": 398,
     "metadata": {},
     "output_type": "execute_result"
    }
   ],
   "source": [
    "f(\"cv * (n + (q + 2) * (ag + 0 - 4) + 1)\")"
   ]
  },
  {
   "cell_type": "code",
   "execution_count": 390,
   "metadata": {},
   "outputs": [
    {
     "data": {
      "text/plain": [
       "'(bk * 8 + (6 * cg * r))'"
      ]
     },
     "execution_count": 390,
     "metadata": {},
     "output_type": "execute_result"
    }
   ],
   "source": [
    "f(\"(bk * 8 + 6 * cg * r)\")"
   ]
  },
  {
   "cell_type": "code",
   "execution_count": 391,
   "metadata": {},
   "outputs": [
    {
     "data": {
      "text/plain": [
       "'5 - (0 - (bg * 5)) - cb + (aw * 11 + at - cu - 8)'"
      ]
     },
     "execution_count": 391,
     "metadata": {},
     "output_type": "execute_result"
    }
   ],
   "source": [
    "f(\"5 - (0 - bg * 5) - cb + (aw * 11 + at - cu - 8)\")"
   ]
  },
  {
   "cell_type": "code",
   "execution_count": 392,
   "metadata": {},
   "outputs": [
    {
     "data": {
      "text/plain": [
       "'a * b * c + (b * a * c * 4)'"
      ]
     },
     "execution_count": 392,
     "metadata": {},
     "output_type": "execute_result"
    }
   ],
   "source": [
    "f(\"a * b * c + b * a * c * 4\")"
   ]
  },
  {
   "cell_type": "code",
   "execution_count": 393,
   "metadata": {},
   "outputs": [
    {
     "data": {
      "text/plain": [
       "'((a - b) * (b - c) + (c - a)) * ((a - b) + ((b - c) * (c - a)))'"
      ]
     },
     "execution_count": 393,
     "metadata": {},
     "output_type": "execute_result"
    }
   ],
   "source": [
    "f(\"((a - b) * (b - c) + (c - a)) * ((a - b) + (b - c) * (c - a))\")"
   ]
  },
  {
   "cell_type": "code",
   "execution_count": 345,
   "metadata": {},
   "outputs": [
    {
     "data": {
      "text/plain": [
       "'((a - b) * (b - c) + (c - a)) * ((a - b) + ((b - c) * (c - a))'"
      ]
     },
     "execution_count": 345,
     "metadata": {},
     "output_type": "execute_result"
    }
   ],
   "source": [
    "f(\"((a - b) * (b - c) + (c - a)) * ((a - b) + (b - c) * (c - a))\")"
   ]
  },
  {
   "cell_type": "code",
   "execution_count": 394,
   "metadata": {},
   "outputs": [
    {
     "data": {
      "text/plain": [
       "'e + 8 - a + 5'"
      ]
     },
     "execution_count": 394,
     "metadata": {},
     "output_type": "execute_result"
    }
   ],
   "source": [
    "f(\"e + 8 - a + 5\")"
   ]
  },
  {
   "cell_type": "code",
   "execution_count": 310,
   "metadata": {},
   "outputs": [],
   "source": [
    "a = [\"2*b*b*c*c\",\"2*a*a*b*c\",\"1*a*c*c*c\",\"1*a*b*b*b\",\"-1*b*c*c*c\",\"-1*b*b*b*c\",\"-1*a*b*c*c\",\"-1*a*b*b*c\",\"-1*a*a*c*c\",\"-1*a*a*b*b\",\"2*a*c*c\",\"2*a*a*b\",\"1*b*c*c\",\"1*b*b*b\",\"-2*a*b*b\",\"-2*a*a*c\",\"-1*c*c*c\",\"-1*b*b*c\",\"1*a*c\",\"1*a*b\",\"-1*b*c\",\"-1*a*a\"]"
   ]
  },
  {
   "cell_type": "code",
   "execution_count": 311,
   "metadata": {},
   "outputs": [],
   "source": [
    "b = [\"-1*a*a*b*b\",\"2*a*a*b*c\",\"-1*a*a*c*c\",\"1*a*b*b*b\",\"-1*a*b*b*c\",\"-1*a*b*c*c\",\"1*a*c*c*c\",\"-1*b*b*b*c\",\"2*b*b*c*c\",\"-1*b*c*c*c\",\"2*a*a*b\",\"-2*a*a*c\",\"-2*a*b*b\",\"2*a*c*c\",\"1*b*b*b\",\"-1*b*b*c\",\"1*b*c*c\",\"-1*c*c*c\",\"-1*a*a\",\"1*a*b\",\"1*a*c\",\"-1*b*c\"]"
   ]
  },
  {
   "cell_type": "code",
   "execution_count": 312,
   "metadata": {},
   "outputs": [
    {
     "data": {
      "text/plain": [
       "False"
      ]
     },
     "execution_count": 312,
     "metadata": {},
     "output_type": "execute_result"
    }
   ],
   "source": [
    "a == b"
   ]
  },
  {
   "cell_type": "code",
   "execution_count": 313,
   "metadata": {},
   "outputs": [
    {
     "data": {
      "text/plain": [
       "True"
      ]
     },
     "execution_count": 313,
     "metadata": {},
     "output_type": "execute_result"
    }
   ],
   "source": [
    "sorted(a) == sorted(b)"
   ]
  },
  {
   "cell_type": "code",
   "execution_count": 488,
   "metadata": {},
   "outputs": [],
   "source": [
    "def f(s):\n",
    "            res = \"#\"\n",
    "            stack = [0]\n",
    "            flag = [False]\n",
    "            for i, c in enumerate(s):\n",
    "                res += c\n",
    "                if c in '+-*':\n",
    "                    if c == '*' and res[stack[-1]] in '+-':\n",
    "                        flag.append(True)\n",
    "                        res = res[:stack[-1]+2] + '(' + res[stack[-1]+2:]\n",
    "\n",
    "                    elif c in '+-' and res[stack[-1]] == '*' and flag[-1]:\n",
    "                        flag.popf()\n",
    "                        res = res[:-2] + ') ' + c\n",
    "\n",
    "                    stack[-1] = len(res) - 1\n",
    "                elif c == '(':\n",
    "                    flag.append(False)\n",
    "                    stack.append(0)\n",
    "                elif c == ')':\n",
    "                    stack.pop()\n",
    "                    if flag.pop():\n",
    "                        res += ')'\n",
    "                    while flag and flag[-1]:\n",
    "                        res += ')'\n",
    "                        flag.pop()\n",
    "\n",
    "            return res[1:] + (')' if flag[-1] else '')"
   ]
  },
  {
   "cell_type": "code",
   "execution_count": 529,
   "metadata": {},
   "outputs": [],
   "source": [
    "def g(s):\n",
    "    res = ''\n",
    "    stack = 0\n",
    "    flag = True\n",
    "    for i, c in enumerate(s[::-1]):\n",
    "        if c.isdigit() or c.isalpha():\n",
    "            if flag:\n",
    "                flag = False\n",
    "                stack += 1\n",
    "                res += ')'\n",
    "        else:\n",
    "            flag = True\n",
    "        res += c\n",
    "    \n",
    "    res += '(' * stack\n",
    "    \n",
    "    return res[::-1]"
   ]
  },
  {
   "cell_type": "code",
   "execution_count": 530,
   "metadata": {},
   "outputs": [
    {
     "data": {
      "text/plain": [
       "'((((ett) + 8) - a) + 5)'"
      ]
     },
     "execution_count": 530,
     "metadata": {},
     "output_type": "execute_result"
    }
   ],
   "source": [
    "g('ett + 8 - a + 5')"
   ]
  },
  {
   "cell_type": "code",
   "execution_count": 533,
   "metadata": {},
   "outputs": [
    {
     "data": {
      "text/plain": [
       "'((((e) + 8) - a) + 5)'"
      ]
     },
     "execution_count": 533,
     "metadata": {},
     "output_type": "execute_result"
    }
   ],
   "source": [
    "g('e + 8 - a + 5')"
   ]
  },
  {
   "cell_type": "code",
   "execution_count": 534,
   "metadata": {},
   "outputs": [
    {
     "data": {
      "text/plain": [
       "'e + 8 - a + 5'"
      ]
     },
     "execution_count": 534,
     "metadata": {},
     "output_type": "execute_result"
    }
   ],
   "source": [
    "f('e + 8 - a + 5')"
   ]
  },
  {
   "cell_type": "code",
   "execution_count": null,
   "metadata": {},
   "outputs": [],
   "source": []
  }
 ],
 "metadata": {
  "kernelspec": {
   "display_name": "Python 3",
   "language": "python",
   "name": "python3"
  },
  "language_info": {
   "codemirror_mode": {
    "name": "ipython",
    "version": 3
   },
   "file_extension": ".py",
   "mimetype": "text/x-python",
   "name": "python",
   "nbconvert_exporter": "python",
   "pygments_lexer": "ipython3",
   "version": "3.8.0b3"
  }
 },
 "nbformat": 4,
 "nbformat_minor": 2
}
