{
 "cells": [
  {
   "cell_type": "markdown",
   "metadata": {},
   "source": [
    "[729. My Calendar I](https://leetcode.com/problems/my-calendar-i/)"
   ]
  },
  {
   "cell_type": "markdown",
   "metadata": {},
   "source": [
    "纯Brute Force, 548ms"
   ]
  },
  {
   "cell_type": "code",
   "execution_count": null,
   "metadata": {},
   "outputs": [],
   "source": [
    "class MyCalendar(object):\n",
    "    def __init__(self):\n",
    "        self.calendar = []\n",
    "\n",
    "    def book(self, start, end):\n",
    "        for s, e in self.calendar:\n",
    "            if s < end and start < e:\n",
    "                return False\n",
    "        self.calendar.append((start, end))\n",
    "        return True"
   ]
  },
  {
   "cell_type": "markdown",
   "metadata": {},
   "source": [
    "想的复杂了点, 没什么用, 816ms"
   ]
  },
  {
   "cell_type": "code",
   "execution_count": 5,
   "metadata": {},
   "outputs": [],
   "source": [
    "from bisect import bisect\n",
    "\n",
    "class MyCalendar:\n",
    "\n",
    "    def __init__(self):\n",
    "        self.booked = []\n",
    "\n",
    "    def book(self, start: int, end: int) -> bool:\n",
    "        if self.booked:\n",
    "            idx = bisect(self.booked, (start,))\n",
    "            \n",
    "            for i in range(idx):\n",
    "                if self.booked[i][1] > start:\n",
    "                    return False\n",
    "            \n",
    "            for i in range(idx, len(self.booked)):\n",
    "                if  self.booked[i][0] < end:\n",
    "                    return False\n",
    "\n",
    "            self.booked.insert(idx, (start, end))\n",
    "            return True\n",
    "        else:\n",
    "            self.booked.append((start, end))\n",
    "            return True\n",
    "\n",
    "\n",
    "# Your MyCalendar object will be instantiated and called as such:\n",
    "# obj = MyCalendar()\n",
    "# param_1 = obj.book(start,end)"
   ]
  },
  {
   "cell_type": "markdown",
   "metadata": {},
   "source": [
    "二叉树, 216ms"
   ]
  },
  {
   "cell_type": "code",
   "execution_count": 6,
   "metadata": {},
   "outputs": [],
   "source": [
    "class Node:\n",
    "    __slots__ = 'start', 'end', 'left', 'right'\n",
    "    def __init__(self, start, end):\n",
    "        self.start = start\n",
    "        self.end = end\n",
    "        self.left = self.right = None\n",
    "\n",
    "    def insert(self, node):\n",
    "        if node.start >= self.end:\n",
    "            if not self.right:\n",
    "                self.right = node\n",
    "                return True\n",
    "            return self.right.insert(node)\n",
    "        elif node.end <= self.start:\n",
    "            if not self.left:\n",
    "                self.left = node\n",
    "                return True\n",
    "            return self.left.insert(node)\n",
    "        else:\n",
    "            return False\n",
    "\n",
    "class MyCalendar(object):\n",
    "    def __init__(self):\n",
    "        self.root = None\n",
    "\n",
    "    def book(self, start, end):\n",
    "        if self.root is None:\n",
    "            self.root = Node(start, end)\n",
    "            return True\n",
    "        return self.root.insert(Node(start, end))"
   ]
  },
  {
   "cell_type": "code",
   "execution_count": null,
   "metadata": {},
   "outputs": [],
   "source": []
  }
 ],
 "metadata": {
  "kernelspec": {
   "display_name": "Python 3",
   "language": "python",
   "name": "python3"
  },
  "language_info": {
   "codemirror_mode": {
    "name": "ipython",
    "version": 3
   },
   "file_extension": ".py",
   "mimetype": "text/x-python",
   "name": "python",
   "nbconvert_exporter": "python",
   "pygments_lexer": "ipython3",
   "version": "3.6.7"
  }
 },
 "nbformat": 4,
 "nbformat_minor": 2
}
