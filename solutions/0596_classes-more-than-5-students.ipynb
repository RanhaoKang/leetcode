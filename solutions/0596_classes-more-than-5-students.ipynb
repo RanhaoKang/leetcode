{
 "cells": [
  {
   "cell_type": "markdown",
   "metadata": {},
   "source": [
    "[596. Classes More Than 5 Students](https://leetcode.com/problems/classes-more-than-5-students/)"
   ]
  },
  {
   "cell_type": "markdown",
   "metadata": {},
   "source": [
    "```sql\n",
    "# Write your MySQL query statement below\n",
    "select\n",
    "    class\n",
    "from\n",
    "    courses\n",
    "group by class\n",
    "having count(distinct student) >= 5\n",
    "```"
   ]
  },
  {
   "cell_type": "code",
   "execution_count": 3,
   "metadata": {},
   "outputs": [
    {
     "data": {
      "text/plain": [
       "<sqlite3.Cursor at 0x7f6a589a8d50>"
      ]
     },
     "execution_count": 3,
     "metadata": {},
     "output_type": "execute_result"
    }
   ],
   "source": [
    "import sqlite3\n",
    "con = sqlite3.connect(':memory:')\n",
    "c = con.cursor()\n",
    "c.execute('''\n",
    "CREATE TABLE courses\n",
    "    (student varchar(1), class varchar(256))\n",
    "''')\n",
    "c.execute(\"insert into courses (student, class) values ('A', 'Math')\")\n",
    "c.execute(\"insert into courses (student, class) values ('B', 'English')\")\n",
    "c.execute(\"insert into courses (student, class) values ('C', 'Math')\")\n",
    "c.execute(\"insert into courses (student, class) values ('D', 'Biology')\")\n",
    "c.execute(\"insert into courses (student, class) values ('E', 'Math')\")\n",
    "c.execute(\"insert into courses (student, class) values ('F', 'Computer')\")\n",
    "c.execute(\"insert into courses (student, class) values ('G', 'Math')\")\n",
    "c.execute(\"insert into courses (student, class) values ('H', 'Math')\")\n",
    "c.execute(\"insert into courses (student, class) values ('I', 'Math')\")"
   ]
  },
  {
   "cell_type": "code",
   "execution_count": 4,
   "metadata": {},
   "outputs": [
    {
     "data": {
      "text/plain": [
       "[('A', 'Math'),\n",
       " ('B', 'English'),\n",
       " ('C', 'Math'),\n",
       " ('D', 'Biology'),\n",
       " ('E', 'Math'),\n",
       " ('F', 'Computer'),\n",
       " ('G', 'Math'),\n",
       " ('H', 'Math'),\n",
       " ('I', 'Math')]"
      ]
     },
     "execution_count": 4,
     "metadata": {},
     "output_type": "execute_result"
    }
   ],
   "source": [
    "c.execute('select * from courses').fetchall()"
   ]
  },
  {
   "cell_type": "code",
   "execution_count": 8,
   "metadata": {},
   "outputs": [
    {
     "data": {
      "text/plain": [
       "[('Math',)]"
      ]
     },
     "execution_count": 8,
     "metadata": {},
     "output_type": "execute_result"
    }
   ],
   "source": [
    "c.execute('''\n",
    "select\n",
    "    class\n",
    "from\n",
    "    courses\n",
    "group by class\n",
    "having count(distinct student) >= 5\n",
    "''').fetchall()"
   ]
  },
  {
   "cell_type": "code",
   "execution_count": null,
   "metadata": {},
   "outputs": [],
   "source": []
  }
 ],
 "metadata": {
  "kernelspec": {
   "display_name": "Python 3",
   "language": "python",
   "name": "python3"
  },
  "language_info": {
   "codemirror_mode": {
    "name": "ipython",
    "version": 3
   },
   "file_extension": ".py",
   "mimetype": "text/x-python",
   "name": "python",
   "nbconvert_exporter": "python",
   "pygments_lexer": "ipython3",
   "version": "3.6.7"
  }
 },
 "nbformat": 4,
 "nbformat_minor": 2
}
