{
 "cells": [
  {
   "cell_type": "markdown",
   "metadata": {},
   "source": [
    "[986. Interval List Intersections](https://leetcode.com/problems/interval-list-intersections/)"
   ]
  },
  {
   "cell_type": "code",
   "execution_count": 14,
   "metadata": {},
   "outputs": [],
   "source": [
    "class Solution:\n",
    "    def intervalIntersection(self, A, B):\n",
    "        N1, N2 = len(A), len(B)\n",
    "        i = j = 0\n",
    "        res = []\n",
    "        \n",
    "        while i < N1 and j < N2:\n",
    "            s1, e1, s2, e2 = *A[i], *B[j]\n",
    "        \n",
    "            if s1 > e2:\n",
    "                j += 1\n",
    "            elif s2 > e1:\n",
    "                i += 1\n",
    "            else:\n",
    "                intersect = [max(s1, s2), min(e1, e2)]\n",
    "                res.append(intersect)\n",
    "                \n",
    "                if e2 > e1:\n",
    "                    i += 1\n",
    "                else:\n",
    "                    j += 1\n",
    "        \n",
    "        return res"
   ]
  },
  {
   "cell_type": "code",
   "execution_count": 15,
   "metadata": {},
   "outputs": [
    {
     "data": {
      "text/plain": [
       "[[1, 2], [5, 5], [8, 10], [15, 23], [24, 24], [25, 25]]"
      ]
     },
     "execution_count": 15,
     "metadata": {},
     "output_type": "execute_result"
    }
   ],
   "source": [
    "A = [[0,2],[5,10],[13,23],[24,25]]\n",
    "B = [[1,5],[8,12],[15,24],[25,26]]\n",
    "Solution().intervalIntersection(A, B)"
   ]
  },
  {
   "cell_type": "code",
   "execution_count": 4,
   "metadata": {},
   "outputs": [],
   "source": [
    "a,b,c,d = *[2,3], *[4,5]"
   ]
  },
  {
   "cell_type": "code",
   "execution_count": 5,
   "metadata": {},
   "outputs": [
    {
     "data": {
      "text/plain": [
       "(2, 3, 4, 5)"
      ]
     },
     "execution_count": 5,
     "metadata": {},
     "output_type": "execute_result"
    }
   ],
   "source": [
    "a,b,c,d"
   ]
  },
  {
   "cell_type": "code",
   "execution_count": null,
   "metadata": {},
   "outputs": [],
   "source": []
  }
 ],
 "metadata": {
  "kernelspec": {
   "display_name": "Python 3",
   "language": "python",
   "name": "python3"
  },
  "language_info": {
   "codemirror_mode": {
    "name": "ipython",
    "version": 3
   },
   "file_extension": ".py",
   "mimetype": "text/x-python",
   "name": "python",
   "nbconvert_exporter": "python",
   "pygments_lexer": "ipython3",
   "version": "3.6.7"
  }
 },
 "nbformat": 4,
 "nbformat_minor": 2
}
