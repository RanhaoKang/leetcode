{
 "cells": [
  {
   "cell_type": "markdown",
   "metadata": {},
   "source": [
    "[438. Find All Anagrams in a String](https://leetcode.com/problems/find-all-anagrams-in-a-string/)"
   ]
  },
  {
   "cell_type": "code",
   "execution_count": 17,
   "metadata": {},
   "outputs": [],
   "source": [
    "class Solution:\n",
    "\n",
    "    def findAnagrams(self, s, p):\n",
    "        \"\"\"\n",
    "        :type s: str\n",
    "        :type p: str\n",
    "        :rtype: List[int]\n",
    "        \"\"\"\n",
    "        from collections import Counter\n",
    "        res = []\n",
    "        pCounter = Counter(p)\n",
    "        sCounter = Counter(s[:len(p)-1])\n",
    "        for i in range(len(p)-1,len(s)):\n",
    "            sCounter[s[i]] += 1   # include a new char in the window\n",
    "            if sCounter == pCounter:    # This step is O(1), since there are at most 26 English letters \n",
    "                res.append(i-len(p)+1)   # append the starting index\n",
    "            sCounter[s[i-len(p)+1]] -= 1   # decrease the count of oldest char in the window\n",
    "            if sCounter[s[i-len(p)+1]] == 0:\n",
    "                del sCounter[s[i-len(p)+1]]   # remove the count if it is 0\n",
    "        return res"
   ]
  },
  {
   "cell_type": "code",
   "execution_count": null,
   "metadata": {},
   "outputs": [],
   "source": []
  }
 ],
 "metadata": {
  "kernelspec": {
   "display_name": "Python 3",
   "language": "python",
   "name": "python3"
  },
  "language_info": {
   "codemirror_mode": {
    "name": "ipython",
    "version": 3
   },
   "file_extension": ".py",
   "mimetype": "text/x-python",
   "name": "python",
   "nbconvert_exporter": "python",
   "pygments_lexer": "ipython3",
   "version": "3.6.7"
  }
 },
 "nbformat": 4,
 "nbformat_minor": 2
}
