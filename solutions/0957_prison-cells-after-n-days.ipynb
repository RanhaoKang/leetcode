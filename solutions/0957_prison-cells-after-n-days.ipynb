{
 "cells": [
  {
   "cell_type": "markdown",
   "metadata": {},
   "source": [
    "[957. Prison Cells After N Days](https://leetcode.com/problems/prison-cells-after-n-days/)"
   ]
  },
  {
   "cell_type": "markdown",
   "metadata": {},
   "source": [
    "找到14这个pattern, 具体证明再看讨论区吧"
   ]
  },
  {
   "cell_type": "code",
   "execution_count": 12,
   "metadata": {},
   "outputs": [],
   "source": [
    "from functools import lru_cache\n",
    "class Solution:\n",
    "    def prisonAfterNDays(self, cells, N: int):\n",
    "        @lru_cache(None)\n",
    "        def next_day(cells):\n",
    "            new_cells = [0] * 8\n",
    "            for i in range(1, 7):\n",
    "                if cells[i-1] == cells[i+1]:\n",
    "                    new_cells[i] = 1\n",
    "            return new_cells\n",
    "            \n",
    "        for day in range((N-1) % 14 + 1):\n",
    "            cells = next_day(tuple(cells))\n",
    "        return cells"
   ]
  },
  {
   "cell_type": "code",
   "execution_count": 13,
   "metadata": {},
   "outputs": [
    {
     "data": {
      "text/plain": [
       "[0, 0, 1, 1, 0, 0, 0, 0]"
      ]
     },
     "execution_count": 13,
     "metadata": {},
     "output_type": "execute_result"
    }
   ],
   "source": [
    "Solution().prisonAfterNDays([0,1,0,1,1,0,0,1], 7)"
   ]
  },
  {
   "cell_type": "code",
   "execution_count": null,
   "metadata": {},
   "outputs": [],
   "source": []
  }
 ],
 "metadata": {
  "kernelspec": {
   "display_name": "Python 3",
   "language": "python",
   "name": "python3"
  },
  "language_info": {
   "codemirror_mode": {
    "name": "ipython",
    "version": 3
   },
   "file_extension": ".py",
   "mimetype": "text/x-python",
   "name": "python",
   "nbconvert_exporter": "python",
   "pygments_lexer": "ipython3",
   "version": "3.6.7"
  }
 },
 "nbformat": 4,
 "nbformat_minor": 2
}
