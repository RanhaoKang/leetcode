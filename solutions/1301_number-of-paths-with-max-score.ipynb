{
 "cells": [
  {
   "cell_type": "markdown",
   "metadata": {},
   "source": [
    "[1301. Number of Paths with Max Score](https://leetcode.com/problems/number-of-paths-with-max-score/)"
   ]
  },
  {
   "cell_type": "code",
   "execution_count": 52,
   "metadata": {},
   "outputs": [],
   "source": [
    "class Solution:\n",
    "    def pathsWithMaxScore(self, A):\n",
    "        N, MOD, inf = len(A), 10**9+7, float('inf')\n",
    "        \n",
    "        from functools import lru_cache\n",
    "        @lru_cache(None)\n",
    "        def dp(x, y, c):\n",
    "            if x < 0 or y < 0 or A[x][y] == 'X':\n",
    "                return -inf, -inf\n",
    "            if A[x][y] == 'E':\n",
    "                return 0, 1\n",
    "            \n",
    "            count = 0\n",
    "            c1, r1 = dp(x-1,y,count+1)\n",
    "            c2, r2 = dp(x,y-1,count+1)\n",
    "            c3, r3 = dp(x-1,y-1,count+1)\n",
    "            \n",
    "            max_path = max(c1,c2,c3)\n",
    "            \n",
    "            for c, r in ((c1,r1),(c2,r2),(c3,r3)):\n",
    "                if c == max_path:\n",
    "                    count += r\n",
    "            return (int(A[x][y]) if A[x][y] != 'S' else 0) + max_path, count\n",
    "        \n",
    "        a, b = dp(N - 1, N - 1, 0)\n",
    "        print(a, b)\n",
    "        if a == -inf or b == -inf:\n",
    "            return 0, 0\n",
    "        else:\n",
    "            return a % MOD, b % MOD"
   ]
  },
  {
   "cell_type": "code",
   "execution_count": 53,
   "metadata": {},
   "outputs": [
    {
     "name": "stdout",
     "output_type": "stream",
     "text": [
      "7 1\n"
     ]
    },
    {
     "data": {
      "text/plain": [
       "(7, 1)"
      ]
     },
     "execution_count": 53,
     "metadata": {},
     "output_type": "execute_result"
    }
   ],
   "source": [
    "Solution().pathsWithMaxScore([\"E23\",\"2X2\",\"12S\"])"
   ]
  },
  {
   "cell_type": "code",
   "execution_count": 54,
   "metadata": {},
   "outputs": [
    {
     "name": "stdout",
     "output_type": "stream",
     "text": [
      "-inf -inf\n"
     ]
    },
    {
     "data": {
      "text/plain": [
       "(0, 0)"
      ]
     },
     "execution_count": 54,
     "metadata": {},
     "output_type": "execute_result"
    }
   ],
   "source": [
    "Solution().pathsWithMaxScore([\"E11\",\"XXX\",\"11S\"])"
   ]
  },
  {
   "cell_type": "code",
   "execution_count": null,
   "metadata": {},
   "outputs": [],
   "source": []
  }
 ],
 "metadata": {
  "kernelspec": {
   "display_name": "Python 3",
   "language": "python",
   "name": "python3"
  },
  "language_info": {
   "codemirror_mode": {
    "name": "ipython",
    "version": 3
   },
   "file_extension": ".py",
   "mimetype": "text/x-python",
   "name": "python",
   "nbconvert_exporter": "python",
   "pygments_lexer": "ipython3",
   "version": "3.8.1"
  }
 },
 "nbformat": 4,
 "nbformat_minor": 4
}
