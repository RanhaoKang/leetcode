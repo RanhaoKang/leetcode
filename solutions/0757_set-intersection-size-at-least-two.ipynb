{
 "cells": [
  {
   "cell_type": "markdown",
   "metadata": {},
   "source": [
    "[757. Set Intersection Size At Least Two](https://leetcode.com/problems/set-intersection-size-at-least-two/)"
   ]
  },
  {
   "cell_type": "markdown",
   "metadata": {},
   "source": [
    "写简单的`for`感受到，贪心策略隐约存在于对于靠左的`interval`，尽力地选取靠右的元素"
   ]
  },
  {
   "cell_type": "code",
   "execution_count": 8,
   "metadata": {},
   "outputs": [],
   "source": [
    "class Solution:\n",
    "    def intersectionSizeTwo(self, intervals) -> int:\n",
    "        res, a, b = 0, -1, -1\n",
    "        \n",
    "        for s, e in sorted(intervals, key = lambda x: x[1]):\n",
    "            # 不能复用，2个新点尽可能靠右\n",
    "            if s > b:\n",
    "                a, b = e - 1, e\n",
    "                res += 2\n",
    "            # 能复用一个，另一个尽可能靠右\n",
    "            elif a < s <= b:\n",
    "                a, b = b, e\n",
    "                res += 1\n",
    "        return res"
   ]
  },
  {
   "cell_type": "code",
   "execution_count": 9,
   "metadata": {},
   "outputs": [
    {
     "data": {
      "text/plain": [
       "3"
      ]
     },
     "execution_count": 9,
     "metadata": {},
     "output_type": "execute_result"
    }
   ],
   "source": [
    "Solution().intersectionSizeTwo([[1, 3], [1, 4], [2, 5], [3, 5]])"
   ]
  },
  {
   "cell_type": "code",
   "execution_count": null,
   "metadata": {},
   "outputs": [],
   "source": []
  }
 ],
 "metadata": {
  "kernelspec": {
   "display_name": "Python 3",
   "language": "python",
   "name": "python3"
  },
  "language_info": {
   "codemirror_mode": {
    "name": "ipython",
    "version": 3
   },
   "file_extension": ".py",
   "mimetype": "text/x-python",
   "name": "python",
   "nbconvert_exporter": "python",
   "pygments_lexer": "ipython3",
   "version": "3.8.1"
  }
 },
 "nbformat": 4,
 "nbformat_minor": 4
}
