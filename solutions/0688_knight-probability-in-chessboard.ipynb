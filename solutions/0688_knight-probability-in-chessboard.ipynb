{
 "cells": [
  {
   "cell_type": "markdown",
   "metadata": {},
   "source": [
    "[688. Knight Probability in Chessboard](https://leetcode.com/problems/knight-probability-in-chessboard/)"
   ]
  },
  {
   "cell_type": "markdown",
   "metadata": {},
   "source": [
    "会TLE"
   ]
  },
  {
   "cell_type": "code",
   "execution_count": null,
   "metadata": {},
   "outputs": [],
   "source": [
    "class Solution:\n",
    "    def knightProbability(self, N: int, K: int, r: int, c: int) -> float:\n",
    "        def dp(i, j, k):\n",
    "            if k == 0:\n",
    "                return not 0 <= i < N or not 0 <= j < N\n",
    "            res = 0\n",
    "            for I, J in ((i-2,j-1), (i-1,j-2), (i+1,j-2), (i+2,j-1),\n",
    "                         (i-2,j+1), (i-1,j+2), (i+1,j+2), (i+2,j+1)):\n",
    "                if not 0 <= I < N or not 0 <= J < N:\n",
    "                    res += 0.125\n",
    "                else:\n",
    "                    res += 0.125 * dp(I, J, k - 1)\n",
    "            return res\n",
    "        \n",
    "        return 1 - dp(r, c, K)"
   ]
  },
  {
   "cell_type": "code",
   "execution_count": 23,
   "metadata": {},
   "outputs": [
    {
     "ename": "TypeError",
     "evalue": "unsupported operand type(s) for *: 'float' and 'generator'",
     "output_type": "error",
     "traceback": [
      "\u001b[0;31m---------------------------------------------------------------------------\u001b[0m",
      "\u001b[0;31mTypeError\u001b[0m                                 Traceback (most recent call last)",
      "\u001b[0;32m<ipython-input-23-a88fa7e9cf22>\u001b[0m in \u001b[0;36m<module>\u001b[0;34m\u001b[0m\n\u001b[0;32m----> 1\u001b[0;31m \u001b[0mSolution\u001b[0m\u001b[0;34m(\u001b[0m\u001b[0;34m)\u001b[0m\u001b[0;34m.\u001b[0m\u001b[0mknightProbability\u001b[0m\u001b[0;34m(\u001b[0m\u001b[0;36m3\u001b[0m\u001b[0;34m,\u001b[0m\u001b[0;36m2\u001b[0m\u001b[0;34m,\u001b[0m\u001b[0;36m0\u001b[0m\u001b[0;34m,\u001b[0m\u001b[0;36m0\u001b[0m\u001b[0;34m)\u001b[0m\u001b[0;34m\u001b[0m\u001b[0;34m\u001b[0m\u001b[0m\n\u001b[0m",
      "\u001b[0;32m<ipython-input-22-f7653eb5ff15>\u001b[0m in \u001b[0;36mknightProbability\u001b[0;34m(self, N, K, r, c)\u001b[0m\n\u001b[1;32m      8\u001b[0m                        for I, J in ((i-2,j-1), (i-1,j-2), (i+1,j-2), (i+2,j-1),\n\u001b[1;32m      9\u001b[0m                          (i-2,j+1), (i-1,j+2), (i+1,j+2), (i+2,j+1))))\n\u001b[0;32m---> 10\u001b[0;31m         \u001b[0;32mreturn\u001b[0m \u001b[0;36m1\u001b[0m \u001b[0;34m-\u001b[0m \u001b[0mdp\u001b[0m\u001b[0;34m(\u001b[0m\u001b[0mr\u001b[0m\u001b[0;34m,\u001b[0m \u001b[0mc\u001b[0m\u001b[0;34m,\u001b[0m \u001b[0mK\u001b[0m\u001b[0;34m)\u001b[0m\u001b[0;34m\u001b[0m\u001b[0;34m\u001b[0m\u001b[0m\n\u001b[0m",
      "\u001b[0;32m<ipython-input-22-f7653eb5ff15>\u001b[0m in \u001b[0;36mdp\u001b[0;34m(i, j, k)\u001b[0m\n\u001b[1;32m      5\u001b[0m                 \u001b[0;32mreturn\u001b[0m \u001b[0;32mnot\u001b[0m \u001b[0;36m0\u001b[0m \u001b[0;34m<=\u001b[0m \u001b[0mi\u001b[0m \u001b[0;34m<\u001b[0m \u001b[0mN\u001b[0m \u001b[0;32mor\u001b[0m \u001b[0;32mnot\u001b[0m \u001b[0;36m0\u001b[0m \u001b[0;34m<=\u001b[0m \u001b[0mj\u001b[0m \u001b[0;34m<\u001b[0m \u001b[0mN\u001b[0m\u001b[0;34m\u001b[0m\u001b[0;34m\u001b[0m\u001b[0m\n\u001b[1;32m      6\u001b[0m \u001b[0;34m\u001b[0m\u001b[0m\n\u001b[0;32m----> 7\u001b[0;31m             return sum(0.125 * (not 0 <= I < N or not 0 <= J < N or dp(I, J, k - 1)\n\u001b[0m\u001b[1;32m      8\u001b[0m                        for I, J in ((i-2,j-1), (i-1,j-2), (i+1,j-2), (i+2,j-1),\n\u001b[1;32m      9\u001b[0m                          (i-2,j+1), (i-1,j+2), (i+1,j+2), (i+2,j+1))))\n",
      "\u001b[0;31mTypeError\u001b[0m: unsupported operand type(s) for *: 'float' and 'generator'"
     ]
    }
   ],
   "source": [
    "Solution().knightProbability(3,2,0,0)"
   ]
  },
  {
   "cell_type": "markdown",
   "metadata": {},
   "source": [
    "Stefan的就可以呜呜呜"
   ]
  },
  {
   "cell_type": "code",
   "execution_count": null,
   "metadata": {},
   "outputs": [],
   "source": [
    "class Solution:\n",
    "    def knightProbability(self, N: int, K: int, r: int, c: int) -> float:\n",
    "        p = {(r, c): 1}\n",
    "        for _ in range(K):\n",
    "            p = {(r, c): sum(p.get((r+i, c+j), 0) for x in (1, 2) for i in (x, -x) for j in (3-x, x-3)) / 8\n",
    "                 for r in range(N) for c in range(N)}\n",
    "        return sum(p.values())"
   ]
  },
  {
   "cell_type": "code",
   "execution_count": null,
   "metadata": {},
   "outputs": [],
   "source": []
  }
 ],
 "metadata": {
  "kernelspec": {
   "display_name": "Python 3",
   "language": "python",
   "name": "python3"
  },
  "language_info": {
   "codemirror_mode": {
    "name": "ipython",
    "version": 3
   },
   "file_extension": ".py",
   "mimetype": "text/x-python",
   "name": "python",
   "nbconvert_exporter": "python",
   "pygments_lexer": "ipython3",
   "version": "3.8.1"
  }
 },
 "nbformat": 4,
 "nbformat_minor": 4
}
