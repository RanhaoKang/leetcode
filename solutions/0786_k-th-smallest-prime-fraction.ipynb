{
 "cells": [
  {
   "cell_type": "markdown",
   "metadata": {},
   "source": [
    "[786. K-th Smallest Prime Fraction](https://leetcode.com/problems/k-th-smallest-prime-fraction/)"
   ]
  },
  {
   "cell_type": "code",
   "execution_count": 1,
   "metadata": {},
   "outputs": [],
   "source": [
    "class Solution:\n",
    "    def kthSmallestPrimeFraction(self, A, K: int):\n",
    "        l, r, N = 0, 1, len(A)\n",
    "        while True:\n",
    "            m = (l + r) / 2\n",
    "            border = [bisect.bisect(A, A[i] / m) for i in range(N)]\n",
    "            cur = sum(N - i for i in border)\n",
    "            if cur > K:\n",
    "                r = m\n",
    "            elif cur < K:\n",
    "                l = m\n",
    "            else:\n",
    "                return max([(A[i], A[j]) for i, j in enumerate(border) if j < N], key=lambda x: x[0] / x[1])"
   ]
  },
  {
   "cell_type": "code",
   "execution_count": null,
   "metadata": {},
   "outputs": [],
   "source": []
  }
 ],
 "metadata": {
  "kernelspec": {
   "display_name": "Python 3",
   "language": "python",
   "name": "python3"
  },
  "language_info": {
   "codemirror_mode": {
    "name": "ipython",
    "version": 3
   },
   "file_extension": ".py",
   "mimetype": "text/x-python",
   "name": "python",
   "nbconvert_exporter": "python",
   "pygments_lexer": "ipython3",
   "version": "3.8.1"
  }
 },
 "nbformat": 4,
 "nbformat_minor": 2
}
