{
 "cells": [
  {
   "cell_type": "markdown",
   "metadata": {},
   "source": [
    "[86. Partition List](https://leetcode.com/problems/partition-list/)"
   ]
  },
  {
   "cell_type": "code",
   "execution_count": 1,
   "metadata": {},
   "outputs": [],
   "source": [
    "# Definition for singly-linked list.\n",
    "# class ListNode:\n",
    "#     def __init__(self, x):\n",
    "#         self.val = x\n",
    "#         self.next = None\n",
    "\n",
    "class Solution:\n",
    "    def partition(self, head: 'ListNode', x: 'int') -> 'ListNode':\n",
    "        head1 = ListNode(-1)\n",
    "        head2 = ListNode(-1)\n",
    "        p1 = head1\n",
    "        p2 = head2\n",
    "        \n",
    "        p = head\n",
    "        while p:\n",
    "            if p.val < x:\n",
    "                p1.next = p\n",
    "                p1 = p1.next\n",
    "            else:\n",
    "                p2.next = p\n",
    "                p2 = p2.next\n",
    "            p = p.next\n",
    "        \n",
    "        p1.next = head2.next\n",
    "        p2.next = None\n",
    "        return head1.next"
   ]
  },
  {
   "cell_type": "code",
   "execution_count": null,
   "metadata": {},
   "outputs": [],
   "source": []
  }
 ],
 "metadata": {
  "kernelspec": {
   "display_name": "Python 3",
   "language": "python",
   "name": "python3"
  },
  "language_info": {
   "codemirror_mode": {
    "name": "ipython",
    "version": 3
   },
   "file_extension": ".py",
   "mimetype": "text/x-python",
   "name": "python",
   "nbconvert_exporter": "python",
   "pygments_lexer": "ipython3",
   "version": "3.6.7"
  }
 },
 "nbformat": 4,
 "nbformat_minor": 2
}
