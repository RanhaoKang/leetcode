{
 "cells": [
  {
   "cell_type": "markdown",
   "metadata": {},
   "source": [
    "[377. Combination Sum IV](https://leetcode.com/problems/combination-sum-iv/)"
   ]
  },
  {
   "cell_type": "code",
   "execution_count": 31,
   "metadata": {},
   "outputs": [],
   "source": [
    "class Solution:\n",
    "    def combinationSum4(self, nums, target: int) -> int:\n",
    "        dp = [0] * (1 + target)\n",
    "        for num in nums:\n",
    "            if num <= target:\n",
    "                dp[num] = 1\n",
    "\n",
    "        for i in range(target+1):\n",
    "            for num in nums:\n",
    "                if i - num > 0:\n",
    "                    dp[i] += dp[i-num]\n",
    "        return dp[-1]"
   ]
  },
  {
   "cell_type": "code",
   "execution_count": 32,
   "metadata": {},
   "outputs": [
    {
     "data": {
      "text/plain": [
       "7"
      ]
     },
     "execution_count": 32,
     "metadata": {},
     "output_type": "execute_result"
    }
   ],
   "source": [
    "Solution().combinationSum4([1, 2, 3], 4)"
   ]
  }
 ],
 "metadata": {
  "kernelspec": {
   "display_name": "Python 3",
   "language": "python",
   "name": "python3"
  },
  "language_info": {
   "codemirror_mode": {
    "name": "ipython",
    "version": 3
   },
   "file_extension": ".py",
   "mimetype": "text/x-python",
   "name": "python",
   "nbconvert_exporter": "python",
   "pygments_lexer": "ipython3",
   "version": "3.6.7"
  }
 },
 "nbformat": 4,
 "nbformat_minor": 2
}
