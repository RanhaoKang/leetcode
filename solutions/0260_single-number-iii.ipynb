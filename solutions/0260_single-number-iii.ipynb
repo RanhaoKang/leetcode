{
 "cells": [
  {
   "cell_type": "markdown",
   "metadata": {},
   "source": [
    "[260. Single Number III](https://leetcode.com/problems/single-number-iii/)"
   ]
  },
  {
   "cell_type": "markdown",
   "metadata": {},
   "source": [
    "如果使用Single Number 1的方法, 最后的结果是两个Single Number `a`, `b`的异或`a^b`.\n",
    "\n",
    "有了`a^b`之后我们可以进行第二轮查找, 不过这一次我们要防止`a`和`b`又出现在同一个变量的异或操作中. 去重的方法之一是记录`a^b`最低位出现的`1`, 然后用两个变量来分别存储`a`, `b`."
   ]
  },
  {
   "cell_type": "code",
   "execution_count": 45,
   "metadata": {},
   "outputs": [],
   "source": [
    "class Solution:\n",
    "    def singleNumber(self, nums):\n",
    "        bits = 0\n",
    "        for num in nums:\n",
    "            bits ^= num\n",
    "        # 取最后一位\n",
    "        n = bits & (~(bits - 1))\n",
    "        res1 = res2 = 0\n",
    "        \n",
    "        for num in nums:\n",
    "            if num & n == 0:\n",
    "                res1 ^= num\n",
    "            else:\n",
    "                res2 ^= num\n",
    "        \n",
    "        return [res1, res2]"
   ]
  },
  {
   "cell_type": "code",
   "execution_count": 46,
   "metadata": {},
   "outputs": [
    {
     "data": {
      "text/plain": [
       "[5, 3]"
      ]
     },
     "execution_count": 46,
     "metadata": {},
     "output_type": "execute_result"
    }
   ],
   "source": [
    "Solution().singleNumber([1,2,1,3,2,5])"
   ]
  },
  {
   "cell_type": "code",
   "execution_count": 24,
   "metadata": {},
   "outputs": [
    {
     "data": {
      "text/plain": [
       "'-0b1111111111111111111111111111111111111111'"
      ]
     },
     "execution_count": 24,
     "metadata": {},
     "output_type": "execute_result"
    }
   ],
   "source": [
    "bin(40 - (1 << 40 ^ 39))"
   ]
  },
  {
   "cell_type": "code",
   "execution_count": 25,
   "metadata": {},
   "outputs": [
    {
     "data": {
      "text/plain": [
       "8"
      ]
     },
     "execution_count": 25,
     "metadata": {},
     "output_type": "execute_result"
    }
   ],
   "source": [
    "int(0b1000)"
   ]
  },
  {
   "cell_type": "code",
   "execution_count": null,
   "metadata": {},
   "outputs": [],
   "source": []
  }
 ],
 "metadata": {
  "kernelspec": {
   "display_name": "Python 3",
   "language": "python",
   "name": "python3"
  },
  "language_info": {
   "codemirror_mode": {
    "name": "ipython",
    "version": 3
   },
   "file_extension": ".py",
   "mimetype": "text/x-python",
   "name": "python",
   "nbconvert_exporter": "python",
   "pygments_lexer": "ipython3",
   "version": "3.6.7"
  }
 },
 "nbformat": 4,
 "nbformat_minor": 2
}
