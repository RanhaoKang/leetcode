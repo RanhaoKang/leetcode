{
 "cells": [
  {
   "cell_type": "markdown",
   "metadata": {},
   "source": [
    "[847. Shortest Path Visiting All Nodes](https://leetcode.com/problems/shortest-path-visiting-all-nodes/)"
   ]
  },
  {
   "cell_type": "code",
   "execution_count": 11,
   "metadata": {},
   "outputs": [],
   "source": [
    "class Solution:\n",
    "    def shortestPathLength(self, graph) -> int:\n",
    "        from collections import deque, defaultdict\n",
    "        N = len(graph)\n",
    "        # 队列中的每一个状态都有所在的位置和已走过的节点两个内容要记录\n",
    "        # 通过位操作, 可以用一个整型来记录走过的节点\n",
    "        queue = deque((1 << i, i) for i in range(N))\n",
    "        \n",
    "        # 之后会使用tuple作为key, N*N是N个节点的连通图的最长访问路径\n",
    "        dist = defaultdict(lambda: N * N)\n",
    "        for i in range(N):\n",
    "            dist[1 << i, i] = 0\n",
    "        \n",
    "        while queue:\n",
    "            visited, node = queue.popleft()\n",
    "            d = dist[visited, node]\n",
    "            print(bin(visited), node, d)\n",
    "            if visited == 2 ** N - 1:\n",
    "                return d\n",
    "            for point_to in graph[node]:\n",
    "                visited2 = visited | (1 << point_to)\n",
    "                if d + 1 < dist[visited2, point_to]:\n",
    "                    dist[visited2, point_to] = d + 1\n",
    "                    queue.append((visited2, point_to))"
   ]
  },
  {
   "cell_type": "code",
   "execution_count": 12,
   "metadata": {},
   "outputs": [
    {
     "name": "stdout",
     "output_type": "stream",
     "text": [
      "0b1 0 0\n",
      "0b10 1 0\n",
      "0b100 2 0\n",
      "0b1000 3 0\n",
      "0b10000 4 0\n",
      "0b11 1 1\n",
      "0b11 0 1\n",
      "0b110 2 1\n",
      "0b10010 4 1\n",
      "0b110 1 1\n",
      "0b1100 3 1\n",
      "0b10100 4 1\n",
      "0b1100 2 1\n",
      "0b10010 1 1\n",
      "0b10100 2 1\n",
      "0b111 2 2\n",
      "0b10011 4 2\n",
      "0b1110 3 2\n",
      "0b10110 4 2\n",
      "0b10110 2 2\n",
      "0b111 0 2\n",
      "0b10110 1 2\n",
      "0b1110 1 2\n",
      "0b11100 4 2\n",
      "0b10011 0 2\n",
      "0b11100 3 2\n",
      "0b111 1 3\n",
      "0b1111 3 3\n",
      "0b10111 4 3\n",
      "0b10011 1 3\n",
      "0b10111 2 3\n",
      "0b1110 2 3\n",
      "0b11110 3 3\n",
      "0b10111 0 3\n",
      "0b1111 0 3\n",
      "0b11110 4 3\n",
      "0b11110 1 3\n",
      "0b11100 2 3\n",
      "0b1111 2 4\n",
      "0b10111 1 4\n",
      "0b11111 3 4\n"
     ]
    },
    {
     "data": {
      "text/plain": [
       "4"
      ]
     },
     "execution_count": 12,
     "metadata": {},
     "output_type": "execute_result"
    }
   ],
   "source": [
    "Solution().shortestPathLength(\n",
    "[[1],[0,2,4],[1,3,4],[2],[1,2]])"
   ]
  },
  {
   "cell_type": "code",
   "execution_count": null,
   "metadata": {},
   "outputs": [],
   "source": []
  }
 ],
 "metadata": {
  "kernelspec": {
   "display_name": "Python 3",
   "language": "python",
   "name": "python3"
  },
  "language_info": {
   "codemirror_mode": {
    "name": "ipython",
    "version": 3
   },
   "file_extension": ".py",
   "mimetype": "text/x-python",
   "name": "python",
   "nbconvert_exporter": "python",
   "pygments_lexer": "ipython3",
   "version": "3.6.7"
  }
 },
 "nbformat": 4,
 "nbformat_minor": 2
}
