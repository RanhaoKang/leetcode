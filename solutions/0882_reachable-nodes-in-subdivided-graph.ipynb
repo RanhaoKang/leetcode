{
 "cells": [
  {
   "cell_type": "markdown",
   "metadata": {},
   "source": [
    "[882. Reachable Nodes In Subdivided Graph](https://leetcode.com/problems/reachable-nodes-in-subdivided-graph/)"
   ]
  },
  {
   "cell_type": "code",
   "execution_count": 1,
   "metadata": {},
   "outputs": [],
   "source": [
    "class Solution:\n",
    "    def reachableNodes(self, edges, M: int, N: int) -> int:\n",
    "        e = collections.defaultdict(dict)\n",
    "        for i, j, l in edges: e[i][j] = e[j][i] = l\n",
    "        pq = [(-M, 0)]\n",
    "        seen = {}\n",
    "        while pq:\n",
    "            moves, i = heapq.heappop(pq)\n",
    "            if i not in seen:\n",
    "                seen[i] = -moves\n",
    "                for j in e[i]:\n",
    "                    moves2 = -moves - e[i][j] - 1\n",
    "                    if j not in seen and moves2 >= 0:\n",
    "                        heapq.heappush(pq, (-moves2, j))\n",
    "        res = len(seen)\n",
    "        for i, j, k in edges:\n",
    "            res += min(seen.get(i, 0) + seen.get(j, 0), e[i][j])\n",
    "        return res"
   ]
  },
  {
   "cell_type": "code",
   "execution_count": null,
   "metadata": {},
   "outputs": [],
   "source": []
  }
 ],
 "metadata": {
  "kernelspec": {
   "display_name": "Python 3",
   "language": "python",
   "name": "python3"
  },
  "language_info": {
   "codemirror_mode": {
    "name": "ipython",
    "version": 3
   },
   "file_extension": ".py",
   "mimetype": "text/x-python",
   "name": "python",
   "nbconvert_exporter": "python",
   "pygments_lexer": "ipython3",
   "version": "3.8.1"
  }
 },
 "nbformat": 4,
 "nbformat_minor": 4
}
