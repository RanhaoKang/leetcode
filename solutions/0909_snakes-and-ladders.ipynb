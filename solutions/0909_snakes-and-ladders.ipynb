{
 "cells": [
  {
   "cell_type": "markdown",
   "metadata": {},
   "source": [
    "[909. Snakes and Ladders](https://leetcode.com/problems/snakes-and-ladders/)"
   ]
  },
  {
   "cell_type": "code",
   "execution_count": 7,
   "metadata": {},
   "outputs": [],
   "source": [
    "class Solution:\n",
    "    def snakesAndLadders(self, board) -> int:\n",
    "        N, need, bfs = len(board), {1: 0}, [1]\n",
    "        for x in bfs:\n",
    "            for i in range(x + 1, x + 7):\n",
    "                a, b = divmod(i - 1, N)\n",
    "                next = board[~a][b if a % 2 == 0 else ~b]\n",
    "                if next > 0:\n",
    "                    i = next\n",
    "                if i == N * N:\n",
    "                    return need[x] + 1\n",
    "                if i not in need:\n",
    "                    need[i] = need[x] + 1\n",
    "                    bfs.append(i)\n",
    "        \n",
    "        return -1"
   ]
  },
  {
   "cell_type": "code",
   "execution_count": null,
   "metadata": {},
   "outputs": [],
   "source": []
  }
 ],
 "metadata": {
  "kernelspec": {
   "display_name": "Python 3",
   "language": "python",
   "name": "python3"
  },
  "language_info": {
   "codemirror_mode": {
    "name": "ipython",
    "version": 3
   },
   "file_extension": ".py",
   "mimetype": "text/x-python",
   "name": "python",
   "nbconvert_exporter": "python",
   "pygments_lexer": "ipython3",
   "version": "3.8.1"
  }
 },
 "nbformat": 4,
 "nbformat_minor": 4
}
