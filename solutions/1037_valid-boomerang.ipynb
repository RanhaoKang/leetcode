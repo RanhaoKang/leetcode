{
 "cells": [
  {
   "cell_type": "markdown",
   "metadata": {},
   "source": [
    "[1037. Valid Boomerang](https://leetcode.com/problems/valid-boomerang/)"
   ]
  },
  {
   "cell_type": "markdown",
   "metadata": {},
   "source": [
    "用本地变量先存了一下避免多次indexing"
   ]
  },
  {
   "cell_type": "code",
   "execution_count": 1,
   "metadata": {},
   "outputs": [],
   "source": [
    "class Solution:\n",
    "    def isBoomerang(self, points) -> bool:\n",
    "        (x0, y0), (x1, y1), (x2, y2) = points\n",
    "        return (x0 - x1) * (y0 - y2) != (x0 - x2) * (y0 - y1)"
   ]
  }
 ],
 "metadata": {
  "kernelspec": {
   "display_name": "Python 3",
   "language": "python",
   "name": "python3"
  },
  "language_info": {
   "codemirror_mode": {
    "name": "ipython",
    "version": 3
   },
   "file_extension": ".py",
   "mimetype": "text/x-python",
   "name": "python",
   "nbconvert_exporter": "python",
   "pygments_lexer": "ipython3",
   "version": "3.8.0b3"
  }
 },
 "nbformat": 4,
 "nbformat_minor": 2
}
