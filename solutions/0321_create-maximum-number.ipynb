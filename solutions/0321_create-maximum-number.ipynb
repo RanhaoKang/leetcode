{
 "cells": [
  {
   "cell_type": "markdown",
   "metadata": {},
   "source": [
    "[321. Create Maximum Number](https://leetcode.com/problems/create-maximum-number/)"
   ]
  },
  {
   "cell_type": "code",
   "execution_count": 21,
   "metadata": {},
   "outputs": [],
   "source": [
    "class Solution:\n",
    "    def maxNumber(self, nums1, nums2, k):\n",
    "\n",
    "        def prep(nums, k):\n",
    "            drop = len(nums) - k\n",
    "            out = []\n",
    "            for num in nums:\n",
    "                while drop and out and out[-1] < num:\n",
    "                    out.pop()\n",
    "                    drop -= 1\n",
    "                out.append(num)\n",
    "            return out[:k]\n",
    "\n",
    "        def merge(a, b):\n",
    "            return [max(a, b).pop(0) for _ in a+b]\n",
    "\n",
    "        return max(merge(prep(nums1, i), prep(nums2, k-i))\n",
    "                   for i in range(k+1)\n",
    "                   if i <= len(nums1) and k-i <= len(nums2))"
   ]
  },
  {
   "cell_type": "code",
   "execution_count": 22,
   "metadata": {},
   "outputs": [
    {
     "data": {
      "text/plain": [
       "[9, 8, 6, 5, 3]"
      ]
     },
     "execution_count": 22,
     "metadata": {},
     "output_type": "execute_result"
    }
   ],
   "source": [
    "Solution().maxNumber([3,4,6,5], [9,1,2,5,8,3], 5)"
   ]
  },
  {
   "cell_type": "code",
   "execution_count": null,
   "metadata": {},
   "outputs": [],
   "source": []
  }
 ],
 "metadata": {
  "kernelspec": {
   "display_name": "Python 3",
   "language": "python",
   "name": "python3"
  },
  "language_info": {
   "codemirror_mode": {
    "name": "ipython",
    "version": 3
   },
   "file_extension": ".py",
   "mimetype": "text/x-python",
   "name": "python",
   "nbconvert_exporter": "python",
   "pygments_lexer": "ipython3",
   "version": "3.8.1"
  }
 },
 "nbformat": 4,
 "nbformat_minor": 4
}
