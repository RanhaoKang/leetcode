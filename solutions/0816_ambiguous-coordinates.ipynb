{
 "cells": [
  {
   "cell_type": "markdown",
   "metadata": {},
   "source": [
    "[816. Ambiguous Coordinates](https://leetcode.com/problems/ambiguous-coordinates/)"
   ]
  },
  {
   "cell_type": "code",
   "execution_count": 2,
   "metadata": {},
   "outputs": [],
   "source": [
    "class Solution:\n",
    "    def ambiguousCoordinates(self, S: str):\n",
    "        S = S[1:-1]\n",
    "        def f(S):\n",
    "            if not S or len(S) > 1 and S[0] == S[-1] == '0': return []\n",
    "            if S[-1] == '0': return [S]\n",
    "            if S[0] == '0': return [S[0] + '.' + S[1:]]\n",
    "            return [S] + [S[:i] + '.' + S[i:] for i in range(1, len(S))]\n",
    "        return ['(%s, %s)' % (a, b) for i in range(len(S)) for a, b in itertools.product(f(S[:i]), f(S[i:]))]"
   ]
  },
  {
   "cell_type": "code",
   "execution_count": null,
   "metadata": {},
   "outputs": [],
   "source": []
  }
 ],
 "metadata": {
  "kernelspec": {
   "display_name": "Python 3",
   "language": "python",
   "name": "python3"
  },
  "language_info": {
   "codemirror_mode": {
    "name": "ipython",
    "version": 3
   },
   "file_extension": ".py",
   "mimetype": "text/x-python",
   "name": "python",
   "nbconvert_exporter": "python",
   "pygments_lexer": "ipython3",
   "version": "3.8.1"
  }
 },
 "nbformat": 4,
 "nbformat_minor": 4
}
