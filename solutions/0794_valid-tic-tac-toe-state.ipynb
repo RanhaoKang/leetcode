{
 "cells": [
  {
   "cell_type": "markdown",
   "metadata": {},
   "source": [
    "[794. Valid Tic-Tac-Toe State](https://leetcode.com/problems/valid-tic-tac-toe-state/)"
   ]
  },
  {
   "cell_type": "code",
   "execution_count": 1,
   "metadata": {},
   "outputs": [],
   "source": [
    "class Solution:\n",
    "    def validTicTacToe(self, board) -> bool:\n",
    "        # concat后可以通过一维的slicing取到行/列/斜线, 会有多余的, 但可以进一步filter\n",
    "        b = '|'.join(board)\n",
    "        \n",
    "        # x, o是否有获胜\n",
    "        x, o = (any(p*3 in b[s::d] for s in range(9) for d in (1,3,4,5)) for p in 'XO')\n",
    "        \n",
    "        m = b.count('X') - b.count('O')\n",
    "        return m == (not o) if m else not x"
   ]
  },
  {
   "cell_type": "code",
   "execution_count": null,
   "metadata": {},
   "outputs": [],
   "source": []
  }
 ],
 "metadata": {
  "kernelspec": {
   "display_name": "Python 3",
   "language": "python",
   "name": "python3"
  },
  "language_info": {
   "codemirror_mode": {
    "name": "ipython",
    "version": 3
   },
   "file_extension": ".py",
   "mimetype": "text/x-python",
   "name": "python",
   "nbconvert_exporter": "python",
   "pygments_lexer": "ipython3",
   "version": "3.6.7"
  }
 },
 "nbformat": 4,
 "nbformat_minor": 2
}
