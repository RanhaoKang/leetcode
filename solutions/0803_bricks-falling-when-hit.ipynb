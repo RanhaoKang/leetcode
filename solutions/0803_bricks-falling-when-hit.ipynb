{
 "cells": [
  {
   "cell_type": "markdown",
   "metadata": {},
   "source": [
    "[803. Bricks Falling When Hit](https://leetcode.com/problems/bricks-falling-when-hit/)"
   ]
  },
  {
   "cell_type": "code",
   "execution_count": 1,
   "metadata": {},
   "outputs": [],
   "source": [
    "class Solution:\n",
    "    def hitBricks(self, grid, hits):\n",
    "        \"\"\"\n",
    "        :type grid: List[List[int]]\n",
    "        :type hits: List[List[int]]\n",
    "        :rtype: List[int]\n",
    "        \"\"\"\n",
    "\n",
    "        m, n = len(grid), len(grid[0])\n",
    "        \n",
    "        # Connect unconnected bricks and \n",
    "        def dfs(i, j):\n",
    "            if not (0<=i<m and 0<=j<n) or grid[i][j]!=1:\n",
    "                return 0\n",
    "            ret = 1\n",
    "            grid[i][j] = 2\n",
    "            ret += sum(dfs(x, y) for x, y in [(i-1, j), (i+1, j), (i, j-1), (i, j+1)])\n",
    "            return ret\n",
    "        \n",
    "        # Check whether (i, j) is connected to Not Falling Bricks\n",
    "        def is_connected(i, j):\n",
    "            return i==0 or any([0<=x<m and 0<=y<n and grid[x][y]==2 for x, y in [(i-1, j), (i+1, j), (i, j-1), (i, j+1)]])\n",
    "        \n",
    "        # Mark whether there is a brick at the each hit\n",
    "        for i, j in hits:\n",
    "            grid[i][j] -= 1\n",
    "                \n",
    "        # Get grid after all hits\n",
    "        for i in range(n):\n",
    "            dfs(0, i)\n",
    "        \n",
    "        # Reversely add the block of each hits and get count of newly add bricks\n",
    "        ret = [0]*len(hits)\n",
    "        for k in reversed(range(len(hits))):\n",
    "            i, j = hits[k]\n",
    "            grid[i][j] += 1\n",
    "            if grid[i][j]==1 and is_connected(i, j):\n",
    "                ret[k] = dfs(i, j)-1\n",
    "            \n",
    "        return ret"
   ]
  },
  {
   "cell_type": "code",
   "execution_count": null,
   "metadata": {},
   "outputs": [],
   "source": []
  }
 ],
 "metadata": {
  "kernelspec": {
   "display_name": "Python 3",
   "language": "python",
   "name": "python3"
  },
  "language_info": {
   "codemirror_mode": {
    "name": "ipython",
    "version": 3
   },
   "file_extension": ".py",
   "mimetype": "text/x-python",
   "name": "python",
   "nbconvert_exporter": "python",
   "pygments_lexer": "ipython3",
   "version": "3.8.1"
  }
 },
 "nbformat": 4,
 "nbformat_minor": 4
}
