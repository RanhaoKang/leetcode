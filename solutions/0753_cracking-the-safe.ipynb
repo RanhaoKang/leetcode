{
 "cells": [
  {
   "cell_type": "markdown",
   "metadata": {},
   "source": [
    "[753. Cracking the Safe](https://leetcode.com/problems/cracking-the-safe/)"
   ]
  },
  {
   "cell_type": "markdown",
   "metadata": {},
   "source": [
    "自如密码锁开锁啦（不是"
   ]
  },
  {
   "cell_type": "markdown",
   "metadata": {},
   "source": [
    "In order to guarantee to open the box at last, the input password ought to contain all length-n combinations on digits `[0..k-1]` - there should be `k^n` combinations in total.\n",
    "\n"
   ]
  },
  {
   "cell_type": "code",
   "execution_count": 1,
   "metadata": {},
   "outputs": [],
   "source": [
    "class Solution:\n",
    "    def crackSafe(self, n: int, k: int) -> str:\n",
    "        res, seen = [], set()\n",
    "        \n",
    "        def dfs(node):\n",
    "            for x in map(str, range(k)):\n",
    "                nei = node + x\n",
    "                if nei not in seen:\n",
    "                    seen.add(nei)\n",
    "                    dfs(nei[1:])\n",
    "                    res.append(x)\n",
    "        \n",
    "        dfs('0' * (n - 1))\n",
    "        return ''.join(res) + '0' * (n - 1)"
   ]
  },
  {
   "cell_type": "code",
   "execution_count": null,
   "metadata": {},
   "outputs": [],
   "source": []
  }
 ],
 "metadata": {
  "kernelspec": {
   "display_name": "Python 3",
   "language": "python",
   "name": "python3"
  },
  "language_info": {
   "codemirror_mode": {
    "name": "ipython",
    "version": 3
   },
   "file_extension": ".py",
   "mimetype": "text/x-python",
   "name": "python",
   "nbconvert_exporter": "python",
   "pygments_lexer": "ipython3",
   "version": "3.8.1"
  }
 },
 "nbformat": 4,
 "nbformat_minor": 4
}
