{
 "cells": [
  {
   "cell_type": "markdown",
   "metadata": {},
   "source": [
    "[15. 3Sum](https://leetcode.com/problems/3sum/)"
   ]
  },
  {
   "cell_type": "markdown",
   "metadata": {},
   "source": [
    "最后去重好麻烦"
   ]
  },
  {
   "cell_type": "code",
   "execution_count": 11,
   "metadata": {},
   "outputs": [],
   "source": [
    "class Solution:\n",
    "    def threeSum(self, nums: 'List[int]') -> 'List[List[int]]':\n",
    "        return self.k_sum(nums, 3, 0)\n",
    "    def k_sum(self, nums, k, target):\n",
    "        from collections import Counter\n",
    "        counter = Counter(nums)\n",
    "        if len(nums) < 3:\n",
    "            return []\n",
    "        \n",
    "        def solve(l, r, k, path, target):\n",
    "            if k == 2:\n",
    "                for i in range(l, r):\n",
    "                    if counter[target - nums[i]]:\n",
    "                        yield path + [nums[i], target - nums[i]]\n",
    "            else:\n",
    "                for i in range(len(nums)):\n",
    "                    counter[nums[i]] -= 1\n",
    "                    yield from solve(i + 1, r, k - 1, path + [nums[i]], target - nums[i])\n",
    "                    counter[nums[i]] += 1\n",
    "\n",
    "        return list(set(tuple(sorted(i)) for i in solve(0, len(nums), k, [], target)))"
   ]
  },
  {
   "cell_type": "code",
   "execution_count": 14,
   "metadata": {},
   "outputs": [
    {
     "data": {
      "text/plain": [
       "[(-1, -1, 2), (-1, 0, 1)]"
      ]
     },
     "execution_count": 14,
     "metadata": {},
     "output_type": "execute_result"
    }
   ],
   "source": [
    "Solution().threeSum([-1,0,1,2,-1,-4])"
   ]
  },
  {
   "cell_type": "markdown",
   "metadata": {},
   "source": [
    "896ms"
   ]
  },
  {
   "cell_type": "code",
   "execution_count": 13,
   "metadata": {},
   "outputs": [],
   "source": [
    "class Solution:\n",
    "    def threeSum(self, nums: 'List[int]') -> 'List[List[int]]':\n",
    "        res = []\n",
    "        nums.sort()\n",
    "        for i in range(len(nums)-2):\n",
    "            if i > 0 and nums[i] == nums[i-1]:\n",
    "                continue\n",
    "            l, r = i+1, len(nums)-1\n",
    "            while l < r:\n",
    "                s = nums[i] + nums[l] + nums[r]\n",
    "                if s < 0:\n",
    "                    l +=1 \n",
    "                elif s > 0:\n",
    "                    r -= 1\n",
    "                else:\n",
    "                    res.append((nums[i], nums[l], nums[r]))\n",
    "                    while l < r and nums[l] == nums[l+1]:\n",
    "                        l += 1\n",
    "                    while l < r and nums[r] == nums[r-1]:\n",
    "                        r -= 1\n",
    "                    l += 1; r -= 1\n",
    "        return res"
   ]
  },
  {
   "cell_type": "code",
   "execution_count": null,
   "metadata": {},
   "outputs": [],
   "source": []
  }
 ],
 "metadata": {
  "kernelspec": {
   "display_name": "Python 3",
   "language": "python",
   "name": "python3"
  },
  "language_info": {
   "codemirror_mode": {
    "name": "ipython",
    "version": 3
   },
   "file_extension": ".py",
   "mimetype": "text/x-python",
   "name": "python",
   "nbconvert_exporter": "python",
   "pygments_lexer": "ipython3",
   "version": "3.8.1"
  }
 },
 "nbformat": 4,
 "nbformat_minor": 2
}
