{
 "cells": [
  {
   "cell_type": "markdown",
   "metadata": {},
   "source": [
    "[140. Word Break II](https://leetcode.com/problems/word-break-ii/)"
   ]
  },
  {
   "cell_type": "markdown",
   "metadata": {},
   "source": [
    "直接这样存会MLE"
   ]
  },
  {
   "cell_type": "code",
   "execution_count": 1,
   "metadata": {},
   "outputs": [],
   "source": [
    "class Solution:\n",
    "    def wordBreak(self, s: str, wordDict):\n",
    "        # dp[i]: s[:i]可以被解析的种类\n",
    "        dp = [[] for _ in range(len(s)+1)]\n",
    "        dp[0] = ['']\n",
    "        \n",
    "        for i in range(1, len(s)+1):\n",
    "            for j in range(i):\n",
    "                if dp[j] and s[j:i] in wordDict:\n",
    "                    dp[i].extend([f'{prefix} {s[j:i]}' if prefix else s[j:i] for prefix in dp[j]])\n",
    "                    \n",
    "        return dp[-1]\n",
    "        \n",
    "        "
   ]
  },
  {
   "cell_type": "code",
   "execution_count": 2,
   "metadata": {},
   "outputs": [
    {
     "data": {
      "text/plain": [
       "['pine applepen apple', 'pineapple pen apple', 'pine apple pen apple']"
      ]
     },
     "execution_count": 2,
     "metadata": {},
     "output_type": "execute_result"
    }
   ],
   "source": [
    "Solution().wordBreak('pineapplepenapple', [\"apple\", \"pen\", \"applepen\", \"pine\", \"pineapple\"])"
   ]
  },
  {
   "cell_type": "code",
   "execution_count": 3,
   "metadata": {
    "scrolled": true
   },
   "outputs": [
    {
     "data": {
      "text/plain": [
       "['a aa aaaa',\n",
       " 'aa a aaaa',\n",
       " 'a a a aaaa',\n",
       " 'a aaaa aa',\n",
       " 'a aa aa aa',\n",
       " 'aa a aa aa',\n",
       " 'a a a aa aa',\n",
       " 'aaaa a aa',\n",
       " 'aa aa a aa',\n",
       " 'a a aa a aa',\n",
       " 'a aa a a aa',\n",
       " 'aa a a a aa',\n",
       " 'a a a a a aa',\n",
       " 'aa aaaa a',\n",
       " 'a a aaaa a',\n",
       " 'aaaa aa a',\n",
       " 'aa aa aa a',\n",
       " 'a a aa aa a',\n",
       " 'a aa a aa a',\n",
       " 'aa a a aa a',\n",
       " 'a a a a aa a',\n",
       " 'a aaaa a a',\n",
       " 'a aa aa a a',\n",
       " 'aa a aa a a',\n",
       " 'a a a aa a a',\n",
       " 'aaaa a a a',\n",
       " 'aa aa a a a',\n",
       " 'a a aa a a a',\n",
       " 'a aa a a a a',\n",
       " 'aa a a a a a',\n",
       " 'a a a a a a a']"
      ]
     },
     "execution_count": 3,
     "metadata": {},
     "output_type": "execute_result"
    }
   ],
   "source": [
    "Solution().wordBreak(\"aaaaaaa\", [\"aaaa\",\"aa\",\"a\"])"
   ]
  },
  {
   "cell_type": "markdown",
   "metadata": {},
   "source": [
    "为什么Stefan的solution就可以不MLE呢????"
   ]
  },
  {
   "cell_type": "code",
   "execution_count": 4,
   "metadata": {},
   "outputs": [],
   "source": [
    "class Solution:\n",
    "    def wordBreak(self, s, wordDict):\n",
    "        memo = {len(s): ['']}\n",
    "        def sentences(i):\n",
    "            if i not in memo:\n",
    "                memo[i] = [s[i:j] + (tail and ' ' + tail)\n",
    "                           for j in range(i+1, len(s)+1)\n",
    "                           if s[i:j] in wordDict\n",
    "                           for tail in sentences(j)]\n",
    "            return memo[i]\n",
    "        return sentences(0)"
   ]
  },
  {
   "cell_type": "code",
   "execution_count": null,
   "metadata": {},
   "outputs": [],
   "source": []
  }
 ],
 "metadata": {
  "kernelspec": {
   "display_name": "Python 3",
   "language": "python",
   "name": "python3"
  },
  "language_info": {
   "codemirror_mode": {
    "name": "ipython",
    "version": 3
   },
   "file_extension": ".py",
   "mimetype": "text/x-python",
   "name": "python",
   "nbconvert_exporter": "python",
   "pygments_lexer": "ipython3",
   "version": "3.6.7"
  }
 },
 "nbformat": 4,
 "nbformat_minor": 2
}
