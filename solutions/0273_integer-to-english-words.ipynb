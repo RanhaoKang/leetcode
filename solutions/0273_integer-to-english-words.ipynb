{
 "cells": [
  {
   "cell_type": "markdown",
   "metadata": {},
   "source": [
    "[273. Integer to English Words](https://leetcode.com/problems/integer-to-english-words/)"
   ]
  },
  {
   "cell_type": "markdown",
   "metadata": {},
   "source": [
    "803踩，2266赞，也有点怕"
   ]
  },
  {
   "cell_type": "code",
   "execution_count": 2,
   "metadata": {},
   "outputs": [],
   "source": [
    "class Solution:\n",
    "    def numberToWords(self, num: int) -> str:\n",
    "        to19 = 'One Two Three Four Five Six Seven Eight Nine Ten Eleven Twelve ' \\\n",
    "           'Thirteen Fourteen Fifteen Sixteen Seventeen Eighteen Nineteen'.split()\n",
    "        tens = 'Twenty Thirty Forty Fifty Sixty Seventy Eighty Ninety'.split()\n",
    "        def words(n):\n",
    "            if n < 20:\n",
    "                return to19[n-1:n]\n",
    "            if n < 100:\n",
    "                return [tens[n//10-2]] + words(n%10)\n",
    "            if n < 1000:\n",
    "                return [to19[n//100-1]] + ['Hundred'] + words(n%100)\n",
    "            for p, w in enumerate(('Thousand', 'Million', 'Billion'), 1):\n",
    "                if n < 1000**(p+1):\n",
    "                    return words(n//1000**p) + [w] + words(n%1000**p)\n",
    "        return ' '.join(words(num)) or 'Zero'"
   ]
  },
  {
   "cell_type": "code",
   "execution_count": null,
   "metadata": {},
   "outputs": [],
   "source": []
  }
 ],
 "metadata": {
  "kernelspec": {
   "display_name": "Python 3",
   "language": "python",
   "name": "python3"
  },
  "language_info": {
   "codemirror_mode": {
    "name": "ipython",
    "version": 3
   },
   "file_extension": ".py",
   "mimetype": "text/x-python",
   "name": "python",
   "nbconvert_exporter": "python",
   "pygments_lexer": "ipython3",
   "version": "3.8.1"
  }
 },
 "nbformat": 4,
 "nbformat_minor": 4
}
