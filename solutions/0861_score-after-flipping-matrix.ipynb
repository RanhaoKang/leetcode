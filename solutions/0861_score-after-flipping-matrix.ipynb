{
 "cells": [
  {
   "cell_type": "markdown",
   "metadata": {},
   "source": [
    "[861. Score After Flipping Matrix](https://leetcode.com/problems/score-after-flipping-matrix/)"
   ]
  },
  {
   "cell_type": "markdown",
   "metadata": {},
   "source": [
    "贪心，优先把每一行的第一列置为`1`，然后逐列处理，看这列翻转和不翻转哪种收益较高"
   ]
  },
  {
   "cell_type": "code",
   "execution_count": 1,
   "metadata": {},
   "outputs": [],
   "source": [
    "class Solution:\n",
    "    def matrixScore(self, A) -> int:\n",
    "        H, W = len(A), len(A and A[0])\n",
    "        res = 0\n",
    "        \n",
    "        for j in range(W):\n",
    "            col = sum(A[i][j] ^ A[i][0] for i in range(H))\n",
    "            res += max(col, H - col) * 2 ** (W - 1 - j)\n",
    "        \n",
    "        return res"
   ]
  },
  {
   "cell_type": "code",
   "execution_count": null,
   "metadata": {},
   "outputs": [],
   "source": []
  }
 ],
 "metadata": {
  "kernelspec": {
   "display_name": "Python 3",
   "language": "python",
   "name": "python3"
  },
  "language_info": {
   "codemirror_mode": {
    "name": "ipython",
    "version": 3
   },
   "file_extension": ".py",
   "mimetype": "text/x-python",
   "name": "python",
   "nbconvert_exporter": "python",
   "pygments_lexer": "ipython3",
   "version": "3.8.0b3"
  }
 },
 "nbformat": 4,
 "nbformat_minor": 2
}
