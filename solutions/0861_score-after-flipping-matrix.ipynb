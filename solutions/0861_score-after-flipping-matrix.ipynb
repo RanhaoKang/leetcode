{
 "cells": [
  {
   "cell_type": "markdown",
   "metadata": {},
   "source": [
    "[861. Score After Flipping Matrix](https://leetcode.com/problems/score-after-flipping-matrix/)"
   ]
  },
  {
   "cell_type": "code",
   "execution_count": null,
   "metadata": {},
   "outputs": [],
   "source": [
    "class Solution:\n",
    "    def matrixScore(self, A) -> int:\n",
    "        h, w = len(A), len(A and A[0])\n",
    "        \n",
    "        for i in range(h):\n",
    "            if A[i][0] = 0:\n",
    "                A[i] = [1 if A[i][j] == 0 else 0 for j in range(w)]\n",
    "        \n",
    "        for j in range(w):\n",
    "            cnt = sum(1 if A[i][j] == 1 for i in range(h))\n",
    "            if cnt <= w // 2:\n",
    "                for i in range(h):\n",
    "                    A[i][j] = 0 if A[i][j] else 1\n",
    "        \n",
    "        "
   ]
  }
 ],
 "metadata": {
  "kernelspec": {
   "display_name": "Python 3",
   "language": "python",
   "name": "python3"
  },
  "language_info": {
   "codemirror_mode": {
    "name": "ipython",
    "version": 3
   },
   "file_extension": ".py",
   "mimetype": "text/x-python",
   "name": "python",
   "nbconvert_exporter": "python",
   "pygments_lexer": "ipython3",
   "version": "3.6.7"
  }
 },
 "nbformat": 4,
 "nbformat_minor": 2
}
