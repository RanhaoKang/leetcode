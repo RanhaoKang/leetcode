{
 "cells": [
  {
   "cell_type": "markdown",
   "metadata": {},
   "source": [
    "[523. Continuous Subarray Sum](https://leetcode.com/problems/continuous-subarray-sum/)"
   ]
  },
  {
   "cell_type": "code",
   "execution_count": 11,
   "metadata": {},
   "outputs": [],
   "source": [
    "class Solution:\n",
    "    def checkSubarraySum(self, nums, k: int) -> bool:\n",
    "        # dp[i]: (0, i)的和\n",
    "        dp = [0] * (length + 1)\n",
    "        \n",
    "        for i in range(length):\n",
    "            dp[i + 1] = dp[i] + nums[i]\n",
    "            if k:\n",
    "                dp[i + 1] %= abs(k)\n",
    "\n",
    "        seen = set()\n",
    "        for i in range(len(dp) - 3, -1, -1):\n",
    "            seen.add(dp[i + 2])\n",
    "            if dp[i] in seen:\n",
    "                return True\n",
    "\n",
    "        return False"
   ]
  },
  {
   "cell_type": "code",
   "execution_count": 9,
   "metadata": {},
   "outputs": [
    {
     "name": "stdout",
     "output_type": "stream",
     "text": [
      "[0, 0, 0]\n"
     ]
    },
    {
     "data": {
      "text/plain": [
       "True"
      ]
     },
     "execution_count": 9,
     "metadata": {},
     "output_type": "execute_result"
    }
   ],
   "source": [
    "Solution().checkSubarraySum([0,0], 0)"
   ]
  },
  {
   "cell_type": "code",
   "execution_count": null,
   "metadata": {},
   "outputs": [],
   "source": []
  }
 ],
 "metadata": {
  "kernelspec": {
   "display_name": "Python 3",
   "language": "python",
   "name": "python3"
  },
  "language_info": {
   "codemirror_mode": {
    "name": "ipython",
    "version": 3
   },
   "file_extension": ".py",
   "mimetype": "text/x-python",
   "name": "python",
   "nbconvert_exporter": "python",
   "pygments_lexer": "ipython3",
   "version": "3.6.7"
  }
 },
 "nbformat": 4,
 "nbformat_minor": 2
}
