{
 "cells": [
  {
   "cell_type": "markdown",
   "metadata": {},
   "source": [
    "[523. Continuous Subarray Sum](https://leetcode.com/problems/continuous-subarray-sum/)"
   ]
  },
  {
   "cell_type": "code",
   "execution_count": 4,
   "metadata": {},
   "outputs": [],
   "source": [
    "class Solution:\n",
    "    def checkSubarraySum(self, nums, k: int) -> bool:\n",
    "        length = len(nums)\n",
    "        \n",
    "        # dp[i]: (0, i)的和\n",
    "        dp = [0] * (length + 1)\n",
    "        \n",
    "        for i in range(length):\n",
    "            dp[i + 1] = dp[i] + nums[i]\n",
    "            if k:\n",
    "                dp[i + 1] %= abs(k)\n",
    "        \n",
    "        seen = set()\n",
    "        for i in range(length - 3, -1, -1):\n",
    "            seen.add(dp[i + 2])\n",
    "            if dp[i] in seen:\n",
    "                return True\n",
    "            \n",
    "        return False"
   ]
  },
  {
   "cell_type": "code",
   "execution_count": 1,
   "metadata": {},
   "outputs": [
    {
     "data": {
      "text/plain": [
       "0"
      ]
     },
     "execution_count": 1,
     "metadata": {},
     "output_type": "execute_result"
    }
   ],
   "source": [
    "5 % 5"
   ]
  },
  {
   "cell_type": "code",
   "execution_count": null,
   "metadata": {},
   "outputs": [],
   "source": []
  }
 ],
 "metadata": {
  "kernelspec": {
   "display_name": "Python 3",
   "language": "python",
   "name": "python3"
  },
  "language_info": {
   "codemirror_mode": {
    "name": "ipython",
    "version": 3
   },
   "file_extension": ".py",
   "mimetype": "text/x-python",
   "name": "python",
   "nbconvert_exporter": "python",
   "pygments_lexer": "ipython3",
   "version": "3.6.7"
  }
 },
 "nbformat": 4,
 "nbformat_minor": 2
}
