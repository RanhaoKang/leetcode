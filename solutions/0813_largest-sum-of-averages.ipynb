{
 "cells": [
  {
   "cell_type": "markdown",
   "metadata": {},
   "source": [
    "[813. Largest Sum of Averages](https://leetcode.com/problems/largest-sum-of-averages/)"
   ]
  },
  {
   "cell_type": "code",
   "execution_count": 1,
   "metadata": {},
   "outputs": [],
   "source": [
    "class Solution:\n",
    "    def largestSumOfAverages(self, A, K: int) -> float:\n",
    "        memo = {}\n",
    "        def search(n, k):\n",
    "            if (n, k) in memo: return memo[n, k]\n",
    "            if n < k: return 0\n",
    "            if k == 1:\n",
    "                memo[n, k] = sum(A[:n]) / float(n)\n",
    "                return memo[n, k]\n",
    "            cur, memo[n, k] = 0, 0\n",
    "            for i in range(n - 1, 0, -1):\n",
    "                cur += A[i]\n",
    "                memo[n, k] = max(memo[n, k], search(i, k - 1) + cur / float(n - i))\n",
    "            return memo[n, k]\n",
    "        return search(len(A), K)"
   ]
  },
  {
   "cell_type": "code",
   "execution_count": null,
   "metadata": {},
   "outputs": [],
   "source": []
  }
 ],
 "metadata": {
  "kernelspec": {
   "display_name": "Python 3",
   "language": "python",
   "name": "python3"
  },
  "language_info": {
   "codemirror_mode": {
    "name": "ipython",
    "version": 3
   },
   "file_extension": ".py",
   "mimetype": "text/x-python",
   "name": "python",
   "nbconvert_exporter": "python",
   "pygments_lexer": "ipython3",
   "version": "3.8.1"
  }
 },
 "nbformat": 4,
 "nbformat_minor": 4
}
