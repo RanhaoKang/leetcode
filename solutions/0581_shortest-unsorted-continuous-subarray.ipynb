{
 "cells": [
  {
   "cell_type": "markdown",
   "metadata": {},
   "source": [
    "[581. Shortest Unsorted Continuous Subarray](https://leetcode.com/problems/shortest-unsorted-continuous-subarray/)"
   ]
  },
  {
   "cell_type": "markdown",
   "metadata": {},
   "source": [
    "[Ideas behind the O(n) two-pass and one-pass solutions](https://leetcode.com/problems/shortest-unsorted-continuous-subarray/discuss/103066/Ideas-behind-the-O(n)-two-pass-and-one-pass-solutions), 高赞答案总结很全了"
   ]
  },
  {
   "cell_type": "markdown",
   "metadata": {},
   "source": [
    "头尾双指针, 可以保持的有序数组的条件为: 保持单调性. 当我们做完头尾部分的检测时, 我们仍不能直接将中间部分认定是最终结果, 如`[2,6,4,8,10,9,15]`, 头尾指针会各自移动到`4`和`10`, 然而我们不能仅排序`[4, 8, 10]`就完成任务, 因为其中的`4`比头部的最大值还要小, `10`比尾部的最小值还要大. 中间的数据, 如果按这种想法, 是尚且没访问过的. 所以在此基础上我们要增加一个步骤, 再去判断`[l, r]`部分的值域, 并压缩头尾部分."
   ]
  },
  {
   "cell_type": "code",
   "execution_count": 31,
   "metadata": {},
   "outputs": [],
   "source": [
    "class Solution:\n",
    "    def findUnsortedSubarray(self, nums) -> int:\n",
    "        l, r = 0, len(nums) - 1\n",
    "        \n",
    "        while l < r and nums[l] <= nums[l + 1]:\n",
    "            l += 1\n",
    "        if l >= r:\n",
    "            return 0\n",
    "        while nums[r - 1] <= nums[r]:\n",
    "            r -= 1\n",
    "        \n",
    "        min_, max_ = float('inf'), float('-inf')\n",
    "        for i in range(l, r + 1):\n",
    "            min_ = min(min_, nums[i])\n",
    "            max_ = max(max_, nums[i])\n",
    "        \n",
    "        while l >= 0 and nums[l] > min_:\n",
    "            l -= 1\n",
    "        while r < len(nums) and nums[r] < max_:\n",
    "            r += 1\n",
    "        return r - l - 1"
   ]
  },
  {
   "cell_type": "code",
   "execution_count": 30,
   "metadata": {},
   "outputs": [
    {
     "name": "stdout",
     "output_type": "stream",
     "text": [
      "5 9\n"
     ]
    },
    {
     "data": {
      "text/plain": [
       "9"
      ]
     },
     "execution_count": 30,
     "metadata": {},
     "output_type": "execute_result"
    }
   ],
   "source": [
    "Solution().findUnsortedSubarray([1,2,3,4,5,5,4,3,2,1])"
   ]
  },
  {
   "cell_type": "code",
   "execution_count": null,
   "metadata": {},
   "outputs": [],
   "source": []
  }
 ],
 "metadata": {
  "kernelspec": {
   "display_name": "Python 3",
   "language": "python",
   "name": "python3"
  },
  "language_info": {
   "codemirror_mode": {
    "name": "ipython",
    "version": 3
   },
   "file_extension": ".py",
   "mimetype": "text/x-python",
   "name": "python",
   "nbconvert_exporter": "python",
   "pygments_lexer": "ipython3",
   "version": "3.6.7"
  }
 },
 "nbformat": 4,
 "nbformat_minor": 2
}
