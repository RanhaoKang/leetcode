{
 "cells": [
  {
   "cell_type": "markdown",
   "metadata": {},
   "source": [
    "[207. Course Schedule](https://leetcode.com/problems/course-schedule/)"
   ]
  },
  {
   "cell_type": "markdown",
   "metadata": {},
   "source": [
    "经典问题: 有向图是否有环, (Course Schedule II就变成了有向无环图的拓扑排序)\n",
    "- Kahn’s algorithm\n",
    "- DFS"
   ]
  },
  {
   "cell_type": "markdown",
   "metadata": {},
   "source": [
    "## Kahn’s algorithm\n",
    "每次删掉入度为0的一个点以及连接它的边, 更新入度, 直至没有入度为0的点, 如果所有点都遍历了, 说明存在拓扑排序, 否则说明有环."
   ]
  },
  {
   "cell_type": "code",
   "execution_count": 29,
   "metadata": {},
   "outputs": [],
   "source": [
    "class Solution:\n",
    "    def canFinish(self, numCourses: int, prerequisites) -> bool:\n",
    "        \n",
    "        from collections import deque\n",
    "        q = deque()\n",
    "        \n",
    "        res = 0\n",
    "        \n",
    "        from collections import defaultdict\n",
    "        g = defaultdict(set)\n",
    "        in_ = [0] * numCourses\n",
    "        for i, j in prerequisites:\n",
    "            in_[j] += 1\n",
    "            g[i].add(j)\n",
    "        \n",
    "        for i in range(numCourses):\n",
    "            if in_[i] == 0:\n",
    "                q.appendleft(i)\n",
    "                res += 1\n",
    "        \n",
    "        while q:\n",
    "            i = q.pop()\n",
    "            \n",
    "            for j in g[i]:\n",
    "                in_[j] -= 1\n",
    "                if in_[j] == 0:\n",
    "                    q.appendleft(j)\n",
    "                    res += 1\n",
    "       \n",
    "        return res == numCourses"
   ]
  },
  {
   "cell_type": "code",
   "execution_count": 30,
   "metadata": {},
   "outputs": [
    {
     "data": {
      "text/plain": [
       "True"
      ]
     },
     "execution_count": 30,
     "metadata": {},
     "output_type": "execute_result"
    }
   ],
   "source": [
    "Solution().canFinish(3, [[1,0],[2,1]])"
   ]
  },
  {
   "cell_type": "markdown",
   "metadata": {},
   "source": [
    "## DFS\n",
    "看visited, 判断一条访问路径中是否存在节点被多次访问"
   ]
  },
  {
   "cell_type": "code",
   "execution_count": null,
   "metadata": {},
   "outputs": [],
   "source": []
  }
 ],
 "metadata": {
  "kernelspec": {
   "display_name": "Python 3",
   "language": "python",
   "name": "python3"
  },
  "language_info": {
   "codemirror_mode": {
    "name": "ipython",
    "version": 3
   },
   "file_extension": ".py",
   "mimetype": "text/x-python",
   "name": "python",
   "nbconvert_exporter": "python",
   "pygments_lexer": "ipython3",
   "version": "3.6.7"
  }
 },
 "nbformat": 4,
 "nbformat_minor": 2
}
