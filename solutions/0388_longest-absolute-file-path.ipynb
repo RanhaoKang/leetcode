{
 "cells": [
  {
   "cell_type": "markdown",
   "metadata": {},
   "source": [
    "[388. Longest Absolute File Path](https://leetcode.com/problems/longest-absolute-file-path/)"
   ]
  },
  {
   "cell_type": "markdown",
   "metadata": {},
   "source": [
    "差评如潮, 不冤"
   ]
  },
  {
   "cell_type": "code",
   "execution_count": 1,
   "metadata": {},
   "outputs": [],
   "source": [
    "class Solution:\n",
    "    def lengthLongestPath(self, input: str) -> int:\n",
    "        maxlen = 0\n",
    "        pathlen = {0: 0}\n",
    "        for line in input.splitlines():\n",
    "            name = line.lstrip('\\t')\n",
    "            depth = len(line) - len(name)\n",
    "            if '.' in name:\n",
    "                maxlen = max(maxlen, pathlen[depth] + len(name))\n",
    "            else:\n",
    "                pathlen[depth + 1] = pathlen[depth] + len(name) + 1\n",
    "        return maxlen"
   ]
  },
  {
   "cell_type": "code",
   "execution_count": null,
   "metadata": {},
   "outputs": [],
   "source": []
  }
 ],
 "metadata": {
  "kernelspec": {
   "display_name": "Python 3",
   "language": "python",
   "name": "python3"
  },
  "language_info": {
   "codemirror_mode": {
    "name": "ipython",
    "version": 3
   },
   "file_extension": ".py",
   "mimetype": "text/x-python",
   "name": "python",
   "nbconvert_exporter": "python",
   "pygments_lexer": "ipython3",
   "version": "3.6.7"
  }
 },
 "nbformat": 4,
 "nbformat_minor": 2
}
