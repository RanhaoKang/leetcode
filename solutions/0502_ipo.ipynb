{
 "cells": [
  {
   "cell_type": "markdown",
   "metadata": {},
   "source": [
    "[502. IPO](https://leetcode.com/problems/ipo/)"
   ]
  },
  {
   "cell_type": "code",
   "execution_count": null,
   "metadata": {},
   "outputs": [],
   "source": [
    "class Solution:\n",
    "    def findMaximizedCapital(self, k: int, W: int, Profits, Capital) -> int:\n",
    "        heap = []\n",
    "        projects = sorted(zip(Profits, Capital), key=lambda l: l[1])\n",
    "        i = 0\n",
    "        for _ in range(k):\n",
    "            while i < len(projects) and projects[i][1] <= W:\n",
    "                heapq.heappush(heap, -projects[i][0])\n",
    "                i += 1\n",
    "            if heap:\n",
    "                W -= heapq.heappop(heap)\n",
    "        return W"
   ]
  }
 ],
 "metadata": {
  "kernelspec": {
   "display_name": "Python 3",
   "language": "python",
   "name": "python3"
  },
  "language_info": {
   "codemirror_mode": {
    "name": "ipython",
    "version": 3
   },
   "file_extension": ".py",
   "mimetype": "text/x-python",
   "name": "python",
   "nbconvert_exporter": "python",
   "pygments_lexer": "ipython3",
   "version": "3.8.1"
  }
 },
 "nbformat": 4,
 "nbformat_minor": 4
}
