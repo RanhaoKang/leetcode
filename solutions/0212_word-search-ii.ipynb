{
 "cells": [
  {
   "cell_type": "markdown",
   "metadata": {},
   "source": [
    "[212. Word Search II](https://leetcode.com/problems/word-search-ii/)"
   ]
  },
  {
   "cell_type": "code",
   "execution_count": 68,
   "metadata": {},
   "outputs": [],
   "source": [
    "class Solution:\n",
    "    def findWords(self, board, words):\n",
    "        # Trie & Save\n",
    "        from collections import defaultdict\n",
    "        from functools import reduce\n",
    "        Trie = lambda: defaultdict(Trie)\n",
    "        trie = Trie()\n",
    "        nodes = {id(reduce(dict.__getitem__, word[::-1], trie)): word for word in words}\n",
    "        \n",
    "        H, W = len(board), len(board and board[0])\n",
    "        res = set()\n",
    "        \n",
    "        def dfs(i, j, node, path):\n",
    "            if id(node) in nodes:\n",
    "                res.add(nodes[id(node)])\n",
    "            for I, J in ((i-1,j),(i+1,j),(i,j-1),(i,j+1)):\n",
    "                if (0 <= I < H and \n",
    "                    0 <= J < W and \n",
    "                    (I, J) not in path):\n",
    "                    c = board[I][J]\n",
    "                    if c in node:\n",
    "                        dfs(I, J, node[c], path | {(I, J)})\n",
    "                    \n",
    "        for i in range(H):\n",
    "            for j in range(W):\n",
    "                c = board[i][j]\n",
    "                dfs(i, j, trie[c], {(i, j)})\n",
    "        \n",
    "        return res"
   ]
  },
  {
   "cell_type": "code",
   "execution_count": 69,
   "metadata": {},
   "outputs": [
    {
     "data": {
      "text/plain": [
       "{'eat', 'oath'}"
      ]
     },
     "execution_count": 69,
     "metadata": {},
     "output_type": "execute_result"
    }
   ],
   "source": [
    "Solution().findWords(words = [\"oath\",\"pea\",\"eat\",\"rain\"], board = [\n",
    "  ['o','a','a','n'],\n",
    "  ['e','t','a','e'],\n",
    "  ['i','h','k','r'],\n",
    "  ['i','f','l','v']\n",
    "])"
   ]
  },
  {
   "cell_type": "code",
   "execution_count": 70,
   "metadata": {},
   "outputs": [
    {
     "data": {
      "text/plain": [
       "{'a'}"
      ]
     },
     "execution_count": 70,
     "metadata": {},
     "output_type": "execute_result"
    }
   ],
   "source": [
    "Solution().findWords(words = [\"a\"], board = [[\"a\"]])"
   ]
  },
  {
   "cell_type": "code",
   "execution_count": null,
   "metadata": {},
   "outputs": [],
   "source": []
  }
 ],
 "metadata": {
  "kernelspec": {
   "display_name": "Python 3",
   "language": "python",
   "name": "python3"
  },
  "language_info": {
   "codemirror_mode": {
    "name": "ipython",
    "version": 3
   },
   "file_extension": ".py",
   "mimetype": "text/x-python",
   "name": "python",
   "nbconvert_exporter": "python",
   "pygments_lexer": "ipython3",
   "version": "3.8.1"
  }
 },
 "nbformat": 4,
 "nbformat_minor": 2
}
