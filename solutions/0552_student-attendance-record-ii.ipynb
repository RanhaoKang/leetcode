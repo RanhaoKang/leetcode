{
 "cells": [
  {
   "cell_type": "markdown",
   "metadata": {},
   "source": [
    "[552. Student Attendance Record II](https://leetcode.com/problems/student-attendance-record-ii/)"
   ]
  },
  {
   "cell_type": "code",
   "execution_count": 3,
   "metadata": {},
   "outputs": [],
   "source": [
    "class Solution:\n",
    "    def checkRecord(self, n: int) -> int:\n",
    "        if n == 1:\n",
    "            return 3\n",
    "        if n == 0:\n",
    "            return 0\n",
    "        nums = [1, 1, 2]\n",
    "        i = 2\n",
    "        while i < n:\n",
    "            nums.append((nums[i] + nums[i-1] + nums[i-2])% 1000000007)\n",
    "            i += 1\n",
    "        result = (nums[n] + nums[n-1] + nums[n-2]) % 1000000007\n",
    "        for i in range(n):\n",
    "            result += nums[i+1] * nums[n-i] % 1000000007\n",
    "            result %= 1000000007\n",
    "        return result"
   ]
  },
  {
   "cell_type": "code",
   "execution_count": 4,
   "metadata": {},
   "outputs": [
    {
     "data": {
      "text/plain": [
       "8"
      ]
     },
     "execution_count": 4,
     "metadata": {},
     "output_type": "execute_result"
    }
   ],
   "source": [
    "Solution().checkRecord(2)"
   ]
  },
  {
   "cell_type": "code",
   "execution_count": null,
   "metadata": {},
   "outputs": [],
   "source": []
  }
 ],
 "metadata": {
  "kernelspec": {
   "display_name": "Python 3",
   "language": "python",
   "name": "python3"
  },
  "language_info": {
   "codemirror_mode": {
    "name": "ipython",
    "version": 3
   },
   "file_extension": ".py",
   "mimetype": "text/x-python",
   "name": "python",
   "nbconvert_exporter": "python",
   "pygments_lexer": "ipython3",
   "version": "3.8.1"
  }
 },
 "nbformat": 4,
 "nbformat_minor": 4
}
