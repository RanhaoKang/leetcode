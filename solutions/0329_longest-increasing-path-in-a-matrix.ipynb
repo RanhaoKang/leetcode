{
 "cells": [
  {
   "cell_type": "markdown",
   "metadata": {},
   "source": [
    "[329. Longest Increasing Path in a Matrix](https://leetcode.com/problems/longest-increasing-path-in-a-matrix/)"
   ]
  },
  {
   "cell_type": "markdown",
   "metadata": {},
   "source": [
    "一开始想到用DFS, 可是回溯起来比较麻烦, 而且不做memo肯定TLE了.\n",
    "\n",
    "为什么可以用DP呢? 因为如果路径$A_0 \\dots A_i \\dots A_k$是最长路径, 那么$A_i \\dots A_k$必定是以$A_i$开头的最长路径"
   ]
  },
  {
   "cell_type": "code",
   "execution_count": 2,
   "metadata": {},
   "outputs": [],
   "source": [
    "from functools import lru_cache\n",
    "\n",
    "class Solution:\n",
    "    def longestIncreasingPath(self, M) -> int:\n",
    "        H, W = len(M), len(M and M[0])\n",
    "        \n",
    "        @lru_cache(None)\n",
    "        def dp(i, j):\n",
    "            return 1 + max(\n",
    "                dp(i-1, j) if i and M[i][j] > M[i-1][j] else 0,\n",
    "                dp(i+1, j) if i<H-1 and M[i][j] > M[i+1][j] else 0,\n",
    "                dp(i, j-1) if j and M[i][j] > M[i][j-1] else 0,\n",
    "                dp(i, j+1) if j<W-1 and M[i][j] > M[i][j+1] else 0\n",
    "            )\n",
    "    \n",
    "        return max((dp(i, j) for i in range(H) for j in range(W)), default = 0)"
   ]
  },
  {
   "cell_type": "code",
   "execution_count": null,
   "metadata": {},
   "outputs": [],
   "source": []
  }
 ],
 "metadata": {
  "kernelspec": {
   "display_name": "Python 3",
   "language": "python",
   "name": "python3"
  },
  "language_info": {
   "codemirror_mode": {
    "name": "ipython",
    "version": 3
   },
   "file_extension": ".py",
   "mimetype": "text/x-python",
   "name": "python",
   "nbconvert_exporter": "python",
   "pygments_lexer": "ipython3",
   "version": "3.6.7"
  }
 },
 "nbformat": 4,
 "nbformat_minor": 2
}
