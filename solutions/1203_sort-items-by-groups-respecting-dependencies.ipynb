{
 "cells": [
  {
   "cell_type": "markdown",
   "metadata": {},
   "source": [
    "[1203. Sort Items by Groups Respecting Dependencies](https://leetcode.com/problems/sort-items-by-groups-respecting-dependencies/)"
   ]
  },
  {
   "cell_type": "code",
   "execution_count": 1,
   "metadata": {},
   "outputs": [],
   "source": [
    "class Solution:\n",
    "    def sortItems(self, n: int, m: int, group, beforeItems):\n",
    "        # Helper function: returns topological order of a graph, if it exists.\n",
    "        def get_top_order(graph, indegree):\n",
    "            top_order = []\n",
    "            stack = [node for node in range(len(graph)) if indegree[node] == 0]\n",
    "            while stack:\n",
    "                v = stack.pop()\n",
    "                top_order.append(v)\n",
    "                for u in graph[v]:\n",
    "                    indegree[u] -= 1\n",
    "                    if indegree[u] == 0:\n",
    "                        stack.append(u)\n",
    "            return top_order if len(top_order) == len(graph) else []\n",
    "\n",
    "        # STEP 1: Create a new group for each item that belongs to no group. \n",
    "        for u in range(len(group)):\n",
    "            if group[u] == -1:\n",
    "                group[u] = m\n",
    "                m+=1\n",
    "\n",
    "        # STEP 2: Build directed graphs for items and groups.\n",
    "        graph_items = [[] for _ in range(n)]\n",
    "        indegree_items = [0] * n\n",
    "        graph_groups = [[] for _ in range(m)]\n",
    "        indegree_groups = [0] * m        \n",
    "        for u in range(n):\n",
    "            for v in beforeItems[u]:                \n",
    "                graph_items[v].append(u)\n",
    "                indegree_items[u] += 1\n",
    "                if group[u]!=group[v]:\n",
    "                    graph_groups[group[v]].append(group[u])\n",
    "                    indegree_groups[group[u]] += 1                    \n",
    "\n",
    "        # STEP 3: Find topological orders of items and groups.\n",
    "        item_order = get_top_order(graph_items, indegree_items)\n",
    "        group_order = get_top_order(graph_groups, indegree_groups)\n",
    "        if not item_order or not group_order: return []\n",
    "\n",
    "        # STEP 4: Find order of items within each group.\n",
    "        order_within_group = collections.defaultdict(list)\n",
    "        for v in item_order:\n",
    "            order_within_group[group[v]].append(v)\n",
    "\n",
    "        # STEP 5. Combine ordered groups.\n",
    "        res = []\n",
    "        for group in group_order:\n",
    "            res += order_within_group[group]\n",
    "        return res"
   ]
  },
  {
   "cell_type": "code",
   "execution_count": null,
   "metadata": {},
   "outputs": [],
   "source": []
  }
 ],
 "metadata": {
  "kernelspec": {
   "display_name": "Python 3",
   "language": "python",
   "name": "python3"
  },
  "language_info": {
   "codemirror_mode": {
    "name": "ipython",
    "version": 3
   },
   "file_extension": ".py",
   "mimetype": "text/x-python",
   "name": "python",
   "nbconvert_exporter": "python",
   "pygments_lexer": "ipython3",
   "version": "3.8.1"
  }
 },
 "nbformat": 4,
 "nbformat_minor": 4
}
