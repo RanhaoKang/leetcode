{
 "cells": [
  {
   "cell_type": "markdown",
   "metadata": {},
   "source": [
    "[399. Evaluate Division](https://leetcode.com/problems/evaluate-division/)"
   ]
  },
  {
   "cell_type": "markdown",
   "metadata": {},
   "source": [
    "将问题建模为图, query的过程是在graph中找两节点之间的路径, 为BFS, 复杂度为.\n",
    "\n",
    "也可在构建图时构建出完全图, 每添加一个等式便更新所有其他节点, 在query时复杂度为$O(1)$\n",
    "\n",
    "两个想法都自己想到了, 值得学习的是[9 lines \"Floyd-Warshall\" in Python](https://leetcode.com/problems/evaluate-division/discuss/88175/9-lines-%22Floydu2013Warshall%22-in-Python)"
   ]
  },
  {
   "cell_type": "code",
   "execution_count": 19,
   "metadata": {},
   "outputs": [],
   "source": [
    "class Solution:\n",
    "    def calcEquation(self, equations, values, queries):\n",
    "        from collections import defaultdict, deque\n",
    "        g = defaultdict(dict)\n",
    "        \n",
    "        for (v1, v2), e in zip(equations, values):\n",
    "            \n",
    "            g[v1][v2] = e\n",
    "            g[v2][v1] = 1 / e\n",
    "        \n",
    "        def query(b, e):\n",
    "            if b not in g or e not in g:\n",
    "                return -1.0\n",
    "            q = deque([(b, 1.0)])\n",
    "            visited = set()\n",
    "            \n",
    "            while q:\n",
    "                front, product = q.pop()\n",
    "                if front == e:\n",
    "                    return product\n",
    "                visited.add(front)\n",
    "                for neighbor in g[front]:\n",
    "                    if neighbor not in visited:\n",
    "                        q.appendleft((neighbor,  product * g[front][neighbor]))\n",
    "                \n",
    "            return -1.0\n",
    "        \n",
    "        return [query(v1, v2) for v1, v2 in queries]\n",
    "            "
   ]
  },
  {
   "cell_type": "code",
   "execution_count": 21,
   "metadata": {},
   "outputs": [
    {
     "data": {
      "text/plain": [
       "[(2, 3, 1), (2, 1, 3), (3, 2, 1), (3, 1, 2), (1, 2, 3), (1, 3, 2)]"
      ]
     },
     "execution_count": 21,
     "metadata": {},
     "output_type": "execute_result"
    }
   ],
   "source": [
    "from collections import defaultdict\n",
    "from itertools import permutations\n",
    "\n",
    "d = defaultdict(dict)\n",
    "d[2][3] = 4\n",
    "d[3][2] = 1 / 4\n",
    "\n",
    "d[1][3] = 2\n",
    "d[3][1] = 1 / 2\n",
    "\n",
    "list(permutations(d, 3))"
   ]
  },
  {
   "cell_type": "code",
   "execution_count": 22,
   "metadata": {},
   "outputs": [
    {
     "data": {
      "text/plain": [
       "[(2, 3, 1), (2, 1, 3), (3, 2, 1), (3, 1, 2), (1, 2, 3), (1, 3, 2)]"
      ]
     },
     "execution_count": 22,
     "metadata": {},
     "output_type": "execute_result"
    }
   ],
   "source": [
    "list(permutations(d))"
   ]
  },
  {
   "cell_type": "code",
   "execution_count": null,
   "metadata": {},
   "outputs": [],
   "source": []
  }
 ],
 "metadata": {
  "kernelspec": {
   "display_name": "Python 3",
   "language": "python",
   "name": "python3"
  },
  "language_info": {
   "codemirror_mode": {
    "name": "ipython",
    "version": 3
   },
   "file_extension": ".py",
   "mimetype": "text/x-python",
   "name": "python",
   "nbconvert_exporter": "python",
   "pygments_lexer": "ipython3",
   "version": "3.6.7"
  }
 },
 "nbformat": 4,
 "nbformat_minor": 2
}
