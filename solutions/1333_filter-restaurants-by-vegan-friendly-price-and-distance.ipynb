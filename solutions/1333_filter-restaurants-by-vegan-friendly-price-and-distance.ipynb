{
 "cells": [
  {
   "cell_type": "markdown",
   "metadata": {},
   "source": [
    "[1333. Filter Restaurants by Vegan-Friendly, Price and Distance](https://leetcode.com/problems/filter-restaurants-by-vegan-friendly-price-and-distance/)"
   ]
  },
  {
   "cell_type": "code",
   "execution_count": 5,
   "metadata": {},
   "outputs": [],
   "source": [
    "class Solution:\n",
    "    def filterRestaurants(self, restaurants, veganFriendly: int, maxPrice: int, maxDistance: int):\n",
    "        return [i[0] for i in sorted(((i for i in restaurants if i[2] and i[3] <= maxPrice and i[4] <= maxDistance) if veganFriendly else\n",
    "                        (i for i in restaurants if i[3] <= maxPrice and i[4] <= maxDistance)),\n",
    "                      key = lambda x: (x[1], x[0]), reverse = True\n",
    "                    )]"
   ]
  },
  {
   "cell_type": "code",
   "execution_count": null,
   "metadata": {},
   "outputs": [],
   "source": []
  }
 ],
 "metadata": {
  "kernelspec": {
   "display_name": "Python 3",
   "language": "python",
   "name": "python3"
  },
  "language_info": {
   "codemirror_mode": {
    "name": "ipython",
    "version": 3
   },
   "file_extension": ".py",
   "mimetype": "text/x-python",
   "name": "python",
   "nbconvert_exporter": "python",
   "pygments_lexer": "ipython3",
   "version": "3.8.1"
  }
 },
 "nbformat": 4,
 "nbformat_minor": 4
}
