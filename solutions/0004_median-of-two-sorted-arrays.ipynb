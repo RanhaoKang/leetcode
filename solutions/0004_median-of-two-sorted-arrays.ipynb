{
 "cells": [
  {
   "cell_type": "markdown",
   "metadata": {},
   "source": [
    "[4. Median of Two Sorted Arrays](https://leetcode.com/problems/median-of-two-sorted-arrays/)"
   ]
  },
  {
   "cell_type": "markdown",
   "metadata": {},
   "source": [
    "找中位数的方案"
   ]
  },
  {
   "cell_type": "code",
   "execution_count": 1,
   "metadata": {},
   "outputs": [
    {
     "ename": "IndentationError",
     "evalue": "expected an indented block (<ipython-input-1-d48be057911b>, line 18)",
     "output_type": "error",
     "traceback": [
      "\u001b[0;36m  File \u001b[0;32m\"<ipython-input-1-d48be057911b>\"\u001b[0;36m, line \u001b[0;32m18\u001b[0m\n\u001b[0;31m    else:\u001b[0m\n\u001b[0m       ^\u001b[0m\n\u001b[0;31mIndentationError\u001b[0m\u001b[0;31m:\u001b[0m expected an indented block\n"
     ]
    }
   ],
   "source": [
    "class Solution:\n",
    "    def findMedianSortedArrays(self, nums1: 'List[int]', nums2: 'List[int]') -> 'float':\n",
    "        len1, len2 = len(nums1), len(nums2)\n",
    "        \n",
    "        i, j = 0, 0\n",
    "        while i < len1 and j < len2:\n",
    "            if nums1[i] < nums2[j]:\n",
    "                i += 1\n",
    "            else:\n",
    "                j += 1\n",
    "            \n",
    "            # 到达中位数\n",
    "            if i + j == (len1 + len2) // 2:\n",
    "                # 偶数\n",
    "                if (len1 + len2) % 2 == 0:\n",
    "                    \n",
    "                # 奇数\n",
    "                else:\n",
    "                    return nums1[i] if nums1[i] < nums2[j] else nums2[j]\n",
    "                        \n",
    "        \n",
    "        # nums1有剩余\n",
    "        if i < len1:\n",
    "        \n",
    "        # nums2有剩余\n",
    "        else:\n",
    "            "
   ]
  },
  {
   "cell_type": "markdown",
   "metadata": {},
   "source": [
    "顺序遍历"
   ]
  },
  {
   "cell_type": "code",
   "execution_count": null,
   "metadata": {},
   "outputs": [],
   "source": [
    "class Solution:\n",
    "    def findMedianSortedArrays(self, nums1: 'List[int]', nums2: 'List[int]') -> 'float':\n",
    "        len1, len2 = len(nums1), len(nums2)\n",
    "        \n",
    "        i, j = 0, 0\n",
    "        first, second = 0, 0\n",
    "        while i < len1 and j < len2:\n",
    "            if nums1[i] < nums2[j]:\n",
    "                i += 1\n",
    "            else:\n",
    "                j += 1\n",
    "            \n",
    "            if first:\n",
    "                second = nums1[i] if nums1[i] < nums2[j] else nums2[j]\n",
    "                return (first + second) / 2\n",
    "            \n",
    "            # 到达中位数\n",
    "            if i + j == (len1 + len2) // 2:\n",
    "                # 偶数\n",
    "                if (len1 + len2) % 2 == 0:\n",
    "                    first = nums1[i] if nums1[i] < nums2[j] else nums2[j]\n",
    "                # 奇数\n",
    "                else:\n",
    "                    return nums1[i] if nums1[i] < nums2[j] else nums2[j]\n",
    "               \n",
    "        \n",
    "        # nums1有剩余\n",
    "        if i < len1:\n",
    "            if first:\n",
    "                second = nums1[i]\n",
    "                return (first + second) / 2\n",
    "            # 偶数\n",
    "            if (len1 + len2) % 2 == 0:\n",
    "                first = (len1 + len2) // 2 \n",
    "                second = \n",
    "                return (first + second) / 2\n",
    "            # 奇数\n",
    "            else:\n",
    "                return nums1[i] if nums1[i] < nums2[j] else nums2[j]\n",
    "            \n",
    "            \n",
    "        \n",
    "        # nums2有剩余\n",
    "        else:\n",
    "            if first:\n",
    "                second = nums2[j]\n",
    "                return (first + second) / 2\n",
    "            # 偶数\n",
    "            if (len1 + len2) % 2 == 0:\n",
    "                first = nums1[i] if nums1[i] < nums2[j] else nums2[j]\n",
    "                second = \n",
    "                return (first + second) / 2\n",
    "            # 奇数\n",
    "            else:\n",
    "                return nums1[i] if nums1[i] < nums2[j] else nums2[j]\n",
    "            \n",
    "            "
   ]
  },
  {
   "cell_type": "markdown",
   "metadata": {},
   "source": [
    "3 % 2"
   ]
  },
  {
   "cell_type": "code",
   "execution_count": 1,
   "metadata": {},
   "outputs": [],
   "source": [
    "import bisect"
   ]
  },
  {
   "cell_type": "code",
   "execution_count": 2,
   "metadata": {},
   "outputs": [
    {
     "name": "stdout",
     "output_type": "stream",
     "text": [
      "Help on module bisect:\n",
      "\n",
      "NAME\n",
      "    bisect - Bisection algorithms.\n",
      "\n",
      "MODULE REFERENCE\n",
      "    https://docs.python.org/3.6/library/bisect\n",
      "    \n",
      "    The following documentation is automatically generated from the Python\n",
      "    source files.  It may be incomplete, incorrect or include features that\n",
      "    are considered implementation detail and may vary between Python\n",
      "    implementations.  When in doubt, consult the module reference at the\n",
      "    location listed above.\n",
      "\n",
      "FUNCTIONS\n",
      "    bisect(...)\n",
      "        Alias for bisect_right().\n",
      "    \n",
      "    bisect_left(...)\n",
      "        bisect_left(a, x[, lo[, hi]]) -> index\n",
      "        \n",
      "        Return the index where to insert item x in list a, assuming a is sorted.\n",
      "        \n",
      "        The return value i is such that all e in a[:i] have e < x, and all e in\n",
      "        a[i:] have e >= x.  So if x already appears in the list, i points just\n",
      "        before the leftmost x already there.\n",
      "        \n",
      "        Optional args lo (default 0) and hi (default len(a)) bound the\n",
      "        slice of a to be searched.\n",
      "    \n",
      "    bisect_right(...)\n",
      "        bisect_right(a, x[, lo[, hi]]) -> index\n",
      "        \n",
      "        Return the index where to insert item x in list a, assuming a is sorted.\n",
      "        \n",
      "        The return value i is such that all e in a[:i] have e <= x, and all e in\n",
      "        a[i:] have e > x.  So if x already appears in the list, i points just\n",
      "        beyond the rightmost x already there\n",
      "        \n",
      "        Optional args lo (default 0) and hi (default len(a)) bound the\n",
      "        slice of a to be searched.\n",
      "    \n",
      "    insort(...)\n",
      "        Alias for insort_right().\n",
      "    \n",
      "    insort_left(...)\n",
      "        insort_left(a, x[, lo[, hi]])\n",
      "        \n",
      "        Insert item x in list a, and keep it sorted assuming a is sorted.\n",
      "        \n",
      "        If x is already in a, insert it to the left of the leftmost x.\n",
      "        \n",
      "        Optional args lo (default 0) and hi (default len(a)) bound the\n",
      "        slice of a to be searched.\n",
      "    \n",
      "    insort_right(...)\n",
      "        insort_right(a, x[, lo[, hi]])\n",
      "        \n",
      "        Insert item x in list a, and keep it sorted assuming a is sorted.\n",
      "        \n",
      "        If x is already in a, insert it to the right of the rightmost x.\n",
      "        \n",
      "        Optional args lo (default 0) and hi (default len(a)) bound the\n",
      "        slice of a to be searched.\n",
      "\n",
      "FILE\n",
      "    /usr/lib/python3.6/bisect.py\n",
      "\n",
      "\n"
     ]
    }
   ],
   "source": [
    "help(bisect)"
   ]
  },
  {
   "cell_type": "code",
   "execution_count": null,
   "metadata": {},
   "outputs": [],
   "source": []
  }
 ],
 "metadata": {
  "kernelspec": {
   "display_name": "Python 3",
   "language": "python",
   "name": "python3"
  },
  "language_info": {
   "codemirror_mode": {
    "name": "ipython",
    "version": 3
   },
   "file_extension": ".py",
   "mimetype": "text/x-python",
   "name": "python",
   "nbconvert_exporter": "python",
   "pygments_lexer": "ipython3",
   "version": "3.6.7"
  }
 },
 "nbformat": 4,
 "nbformat_minor": 2
}
