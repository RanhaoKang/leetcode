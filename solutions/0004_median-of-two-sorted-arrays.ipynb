{
 "cells": [
  {
   "cell_type": "markdown",
   "metadata": {},
   "source": [
    "[4. Median of Two Sorted Arrays](https://leetcode.com/problems/median-of-two-sorted-arrays/)"
   ]
  },
  {
   "cell_type": "markdown",
   "metadata": {},
   "source": [
    "这题涉及数学比较多, 抄作业了, 这个解释不错: https://zhuanlan.zhihu.com/p/70654378"
   ]
  },
  {
   "cell_type": "markdown",
   "metadata": {},
   "source": [
    "可以在随机位置把`A`, `B`分别分为两部分.\n",
    "```\n",
    "      left_part          |        right_part\n",
    "A[0], A[1], ..., A[i-1]  |  A[i], A[i+1], ..., A[m-1]\n",
    "B[0], B[1], ..., B[j-1]  |  B[j], B[j+1], ..., B[n-1]\n",
    "```\n",
    "\n",
    "目的是达成这两个条件\n",
    "```\n",
    "1) len(left_part) == len(right_part)\n",
    "2) max(left_part) <= min(right_part)\n",
    "```\n",
    "如果上述条件满足, 是不是和单个有序数组的情况很相似了? 取两个最中间的数进行计算, 也就是.\n",
    "\n",
    "median = (max(left_part) + min(right_part))/2\n",
    "\n",
    "```\n",
    "(1) i + j == m - i + n - j (或者: m - i + n - j + 1) 即让左半边元素数量等于与右半边\n",
    "    对于 n >= m 的情况，我们只需要让 : i = 0 ~ m, j = (m + n + 1)/2 - i\n",
    "(2) B[j-1] <= A[i] 并且 A[i-1] <= B[j]  即让左边最大元素小于右边最小元素\n",
    "```"
   ]
  },
  {
   "cell_type": "code",
   "execution_count": 1,
   "metadata": {},
   "outputs": [],
   "source": [
    "class Solution:\n",
    "    def findMedianSortedArrays(self, A, B) -> float:\n",
    "        m, n = len(A), len(B)\n",
    "        if m > n:\n",
    "            A, B, m, n = B, A, n, m\n",
    "        if n == 0:\n",
    "            raise ValueError\n",
    "\n",
    "        imin, imax, half_len = 0, m, (m + n + 1) // 2\n",
    "        while imin <= imax:\n",
    "            i = (imin + imax) // 2\n",
    "            j = half_len - i\n",
    "            if i < m and B[j-1] > A[i]:\n",
    "                # i 的值太小， 增加它\n",
    "                imin = i + 1\n",
    "            elif i > 0 and A[i-1] > B[j]:\n",
    "                # i 的值过大， 减小它\n",
    "                imax = i - 1\n",
    "            else:\n",
    "                # i is perfect\n",
    "\n",
    "                if i == 0: max_of_left = B[j-1]\n",
    "                elif j == 0: max_of_left = A[i-1]\n",
    "                else: max_of_left = max(A[i-1], B[j-1])\n",
    "\n",
    "                if (m + n) % 2 == 1:\n",
    "                    return max_of_left\n",
    "\n",
    "                if i == m: min_of_right = B[j]\n",
    "                elif j == n: min_of_right = A[i]\n",
    "                else: min_of_right = min(A[i], B[j])\n",
    "\n",
    "                return (max_of_left + min_of_right) / 2.0"
   ]
  },
  {
   "cell_type": "markdown",
   "metadata": {},
   "source": [
    "旧"
   ]
  },
  {
   "cell_type": "markdown",
   "metadata": {},
   "source": [
    "找中位数的方案"
   ]
  },
  {
   "cell_type": "code",
   "execution_count": 1,
   "metadata": {},
   "outputs": [
    {
     "ename": "IndentationError",
     "evalue": "expected an indented block (<ipython-input-1-d48be057911b>, line 18)",
     "output_type": "error",
     "traceback": [
      "\u001b[0;36m  File \u001b[0;32m\"<ipython-input-1-d48be057911b>\"\u001b[0;36m, line \u001b[0;32m18\u001b[0m\n\u001b[0;31m    else:\u001b[0m\n\u001b[0m       ^\u001b[0m\n\u001b[0;31mIndentationError\u001b[0m\u001b[0;31m:\u001b[0m expected an indented block\n"
     ]
    }
   ],
   "source": [
    "class Solution:\n",
    "    def findMedianSortedArrays(self, nums1: 'List[int]', nums2: 'List[int]') -> 'float':\n",
    "        len1, len2 = len(nums1), len(nums2)\n",
    "        \n",
    "        i, j = 0, 0\n",
    "        while i < len1 and j < len2:\n",
    "            if nums1[i] < nums2[j]:\n",
    "                i += 1\n",
    "            else:\n",
    "                j += 1\n",
    "            \n",
    "            # 到达中位数\n",
    "            if i + j == (len1 + len2) // 2:\n",
    "                # 偶数\n",
    "                if (len1 + len2) % 2 == 0:\n",
    "                    \n",
    "                # 奇数\n",
    "                else:\n",
    "                    return nums1[i] if nums1[i] < nums2[j] else nums2[j]\n",
    "                        \n",
    "        \n",
    "        # nums1有剩余\n",
    "        if i < len1:\n",
    "        \n",
    "        # nums2有剩余\n",
    "        else:\n",
    "            "
   ]
  },
  {
   "cell_type": "markdown",
   "metadata": {},
   "source": [
    "顺序遍历"
   ]
  },
  {
   "cell_type": "code",
   "execution_count": null,
   "metadata": {},
   "outputs": [],
   "source": [
    "class Solution:\n",
    "    def findMedianSortedArrays(self, nums1: 'List[int]', nums2: 'List[int]') -> 'float':\n",
    "        len1, len2 = len(nums1), len(nums2)\n",
    "        \n",
    "        i, j = 0, 0\n",
    "        first, second = 0, 0\n",
    "        while i < len1 and j < len2:\n",
    "            if nums1[i] < nums2[j]:\n",
    "                i += 1\n",
    "            else:\n",
    "                j += 1\n",
    "            \n",
    "            if first:\n",
    "                second = nums1[i] if nums1[i] < nums2[j] else nums2[j]\n",
    "                return (first + second) / 2\n",
    "            \n",
    "            # 到达中位数\n",
    "            if i + j == (len1 + len2) // 2:\n",
    "                # 偶数\n",
    "                if (len1 + len2) % 2 == 0:\n",
    "                    first = nums1[i] if nums1[i] < nums2[j] else nums2[j]\n",
    "                # 奇数\n",
    "                else:\n",
    "                    return nums1[i] if nums1[i] < nums2[j] else nums2[j]\n",
    "               \n",
    "        \n",
    "        # nums1有剩余\n",
    "        if i < len1:\n",
    "            if first:\n",
    "                second = nums1[i]\n",
    "                return (first + second) / 2\n",
    "            # 偶数\n",
    "            if (len1 + len2) % 2 == 0:\n",
    "                first = (len1 + len2) // 2 \n",
    "                second = \n",
    "                return (first + second) / 2\n",
    "            # 奇数\n",
    "            else:\n",
    "                return nums1[i] if nums1[i] < nums2[j] else nums2[j]\n",
    "            \n",
    "            \n",
    "        \n",
    "        # nums2有剩余\n",
    "        else:\n",
    "            if first:\n",
    "                second = nums2[j]\n",
    "                return (first + second) / 2\n",
    "            # 偶数\n",
    "            if (len1 + len2) % 2 == 0:\n",
    "                first = nums1[i] if nums1[i] < nums2[j] else nums2[j]\n",
    "                second = \n",
    "                return (first + second) / 2\n",
    "            # 奇数\n",
    "            else:\n",
    "                return nums1[i] if nums1[i] < nums2[j] else nums2[j]\n",
    "            \n",
    "            "
   ]
  },
  {
   "cell_type": "markdown",
   "metadata": {},
   "source": [
    "3 % 2"
   ]
  },
  {
   "cell_type": "code",
   "execution_count": null,
   "metadata": {},
   "outputs": [],
   "source": []
  }
 ],
 "metadata": {
  "kernelspec": {
   "display_name": "Python 3",
   "language": "python",
   "name": "python3"
  },
  "language_info": {
   "codemirror_mode": {
    "name": "ipython",
    "version": 3
   },
   "file_extension": ".py",
   "mimetype": "text/x-python",
   "name": "python",
   "nbconvert_exporter": "python",
   "pygments_lexer": "ipython3",
   "version": "3.6.7"
  }
 },
 "nbformat": 4,
 "nbformat_minor": 2
}
