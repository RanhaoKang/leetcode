{
 "cells": [
  {
   "cell_type": "markdown",
   "metadata": {},
   "source": [
    "[124. Binary Tree Maximum Path Sum](https://leetcode.com/problems/binary-tree-maximum-path-sum/)"
   ]
  },
  {
   "cell_type": "markdown",
   "metadata": {},
   "source": [
    "核心思想: 最终的路径呈现出\"^\"的形状, 对于\"道路\"节点, 只需要向上返回: 选取本节点和左子树, 选取本节点和右子树, 以及不选取这三种情况的最大值. 而对于\"路口\"节点, 这样的做法则行不通, 因为这种类似剪枝的做法会让节点丧失掉作为\"路口\"的可能性. 由于每个节点都有可能是\"路口\", 我们需要记录最大值."
   ]
  },
  {
   "cell_type": "code",
   "execution_count": 24,
   "metadata": {},
   "outputs": [],
   "source": [
    "# Definition for a binary tree node.\n",
    "class TreeNode:\n",
    "    def __init__(self, x):\n",
    "        self.val = x\n",
    "        self.left = None\n",
    "        self.right = None\n",
    "\n",
    "class Solution:\n",
    "    def maxPathSum(self, root: TreeNode) -> int:\n",
    "        def solve(node):\n",
    "            if not node:\n",
    "                return 0\n",
    "            \n",
    "            l, r = solve(node.left), solve(node.right)\n",
    "            self.max = max(self.max, l + node.val + r)\n",
    "            return max(node.val + max(l, r), 0)\n",
    "        \n",
    "        self.max = float('-inf')\n",
    "        solve(root)\n",
    "        return self.max"
   ]
  },
  {
   "cell_type": "code",
   "execution_count": 25,
   "metadata": {},
   "outputs": [
    {
     "data": {
      "text/plain": [
       "6"
      ]
     },
     "execution_count": 25,
     "metadata": {},
     "output_type": "execute_result"
    }
   ],
   "source": [
    "p = TreeNode(1)\n",
    "p.left = TreeNode(2)\n",
    "p.right = TreeNode(3)\n",
    "\n",
    "Solution().maxPathSum(p)"
   ]
  },
  {
   "cell_type": "code",
   "execution_count": 26,
   "metadata": {},
   "outputs": [
    {
     "data": {
      "text/plain": [
       "42"
      ]
     },
     "execution_count": 26,
     "metadata": {},
     "output_type": "execute_result"
    }
   ],
   "source": [
    "p = TreeNode(-10)\n",
    "p.left = TreeNode(9)\n",
    "p.right = TreeNode(20)\n",
    "p.right.left = TreeNode(15)\n",
    "p.right.right = TreeNode(7)\n",
    "\n",
    "Solution().maxPathSum(p)"
   ]
  },
  {
   "cell_type": "code",
   "execution_count": 27,
   "metadata": {},
   "outputs": [
    {
     "data": {
      "text/plain": [
       "27"
      ]
     },
     "execution_count": 27,
     "metadata": {},
     "output_type": "execute_result"
    }
   ],
   "source": [
    "p = TreeNode(-10)\n",
    "p.left = TreeNode(9)\n",
    "p.right = TreeNode(20)\n",
    "p.right.left = TreeNode(-15)\n",
    "p.right.right = TreeNode(7)\n",
    "\n",
    "Solution().maxPathSum(p)"
   ]
  },
  {
   "cell_type": "code",
   "execution_count": 10,
   "metadata": {},
   "outputs": [
    {
     "name": "stdout",
     "output_type": "stream",
     "text": [
      "-inf\n",
      "87\n",
      "-9\n",
      "10\n"
     ]
    }
   ],
   "source": [
    "p = TreeNode(10)\n",
    "p.left = TreeNode(-9)\n",
    "p.left.left = TreeNode(-15)\n",
    "p.left.right = TreeNode(87)\n",
    "\n",
    "Solution().maxPathSum(p)"
   ]
  },
  {
   "cell_type": "code",
   "execution_count": null,
   "metadata": {},
   "outputs": [],
   "source": []
  }
 ],
 "metadata": {
  "kernelspec": {
   "display_name": "Python 3",
   "language": "python",
   "name": "python3"
  },
  "language_info": {
   "codemirror_mode": {
    "name": "ipython",
    "version": 3
   },
   "file_extension": ".py",
   "mimetype": "text/x-python",
   "name": "python",
   "nbconvert_exporter": "python",
   "pygments_lexer": "ipython3",
   "version": "3.6.7"
  }
 },
 "nbformat": 4,
 "nbformat_minor": 2
}
