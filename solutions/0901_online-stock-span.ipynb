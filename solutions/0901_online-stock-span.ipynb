{
 "cells": [
  {
   "cell_type": "markdown",
   "metadata": {},
   "source": [
    "[901. Online Stock Span](https://leetcode.com/problems/online-stock-span/)"
   ]
  },
  {
   "cell_type": "markdown",
   "metadata": {},
   "source": [
    "`A[i]`的`span`指与`A[i]`连续且小于等于`A[i]`的序列长度"
   ]
  },
  {
   "cell_type": "code",
   "execution_count": 4,
   "metadata": {},
   "outputs": [],
   "source": [
    "class StockSpanner:\n",
    "    def __init__(self):\n",
    "        self._stack = []\n",
    "\n",
    "    def next(self, price: int) -> int:\n",
    "        res = 1\n",
    "        stack = self._stack\n",
    "        while stack and stack[-1][0] <= price:\n",
    "            res += stack.pop()[1]\n",
    "        stack.append((price, res))\n",
    "        \n",
    "        return res\n",
    "\n",
    "\n",
    "# Your StockSpanner object will be instantiated and called as such:\n",
    "# obj = StockSpanner()\n",
    "# param_1 = obj.next(price)"
   ]
  },
  {
   "cell_type": "code",
   "execution_count": 7,
   "metadata": {},
   "outputs": [
    {
     "name": "stdout",
     "output_type": "stream",
     "text": [
      "100 1 [(100, 1)]\n",
      "80 1 [(100, 1), (80, 1)]\n",
      "60 1 [(100, 1), (80, 1), (60, 1)]\n",
      "70 2 [(100, 1), (80, 1), (70, 2)]\n",
      "70 3 [(100, 1), (80, 1), (70, 3)]\n",
      "75 4 [(100, 1), (80, 1), (75, 4)]\n",
      "85 6 [(100, 1), (85, 6)]\n"
     ]
    }
   ],
   "source": [
    "obj = StockSpanner()\n",
    "for i in [100, 80, 60, 70, 70, 75, 85]:\n",
    "    print(i, obj.next(i), obj._stack)"
   ]
  },
  {
   "cell_type": "code",
   "execution_count": null,
   "metadata": {},
   "outputs": [],
   "source": []
  }
 ],
 "metadata": {
  "kernelspec": {
   "display_name": "Python 3",
   "language": "python",
   "name": "python3"
  },
  "language_info": {
   "codemirror_mode": {
    "name": "ipython",
    "version": 3
   },
   "file_extension": ".py",
   "mimetype": "text/x-python",
   "name": "python",
   "nbconvert_exporter": "python",
   "pygments_lexer": "ipython3",
   "version": "3.8.0b3"
  }
 },
 "nbformat": 4,
 "nbformat_minor": 2
}
