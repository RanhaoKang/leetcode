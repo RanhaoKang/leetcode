{
 "cells": [
  {
   "cell_type": "markdown",
   "metadata": {},
   "source": [
    "[416. Partition Equal Subset Sum](https://leetcode.com/problems/partition-equal-subset-sum/)"
   ]
  },
  {
   "cell_type": "markdown",
   "metadata": {},
   "source": [
    "996ms"
   ]
  },
  {
   "cell_type": "code",
   "execution_count": 16,
   "metadata": {},
   "outputs": [],
   "source": [
    "class Solution:\n",
    "    def canPartition(self, nums) -> bool:\n",
    "        sum_ = sum(nums)\n",
    "        return sum_ % 2 == 0 and self.subset_sum(nums, sum_ // 2) > 0\n",
    "    \n",
    "    def subset_sum(self, nums, S):\n",
    "        dp = [0] * (S + 1)\n",
    "        dp[0] = 1\n",
    "        # dp[i]意义为和为i的subset解的个数\n",
    "        for i in nums:\n",
    "            # 每新增一个数字\n",
    "            # 如目前的子问题是[1], 取与不取的区别在于1在不在目标subset中\n",
    "            # 目标subset的和就有可能是 j+1或 j\n",
    "            # j+1的解的个数就应当加上j的解的个数, 因为取1可以从j状态转移到j+1状态\n",
    "            for j in range(S, i - 1, -1):\n",
    "                dp[j] += dp[j - i]\n",
    "        \n",
    "        return dp[S]"
   ]
  },
  {
   "cell_type": "code",
   "execution_count": 15,
   "metadata": {},
   "outputs": [
    {
     "name": "stdout",
     "output_type": "stream",
     "text": [
      "11\n"
     ]
    },
    {
     "data": {
      "text/plain": [
       "True"
      ]
     },
     "execution_count": 15,
     "metadata": {},
     "output_type": "execute_result"
    }
   ],
   "source": [
    "Solution().canPartition([1,5,11,5])"
   ]
  },
  {
   "cell_type": "code",
   "execution_count": null,
   "metadata": {},
   "outputs": [],
   "source": []
  }
 ],
 "metadata": {
  "kernelspec": {
   "display_name": "Python 3",
   "language": "python",
   "name": "python3"
  },
  "language_info": {
   "codemirror_mode": {
    "name": "ipython",
    "version": 3
   },
   "file_extension": ".py",
   "mimetype": "text/x-python",
   "name": "python",
   "nbconvert_exporter": "python",
   "pygments_lexer": "ipython3",
   "version": "3.6.7"
  }
 },
 "nbformat": 4,
 "nbformat_minor": 2
}
