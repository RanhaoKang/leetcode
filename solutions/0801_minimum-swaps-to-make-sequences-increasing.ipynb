{
 "cells": [
  {
   "cell_type": "markdown",
   "metadata": {},
   "source": [
    "[801. Minimum Swaps To Make Sequences Increasing](https://leetcode.com/problems/minimum-swaps-to-make-sequences-increasing/)"
   ]
  },
  {
   "cell_type": "code",
   "execution_count": 2,
   "metadata": {},
   "outputs": [],
   "source": [
    "class Solution:\n",
    "    def minSwap(self, A, B) -> int:\n",
    "        keep, swap = 0, 1\n",
    "        \n",
    "        for i in range(1, len(A)):\n",
    "            _keep = _swap = float('inf')\n",
    "\n",
    "            # 均符合则不需交换\n",
    "            if A[i-1] < A[i] and B[i-1] < B[i]:\n",
    "                _keep = keep\n",
    "                _swap = swap + 1\n",
    "            \n",
    "            # 需要交换时\n",
    "            if A[i-1] < B[i] and B[i-1] < A[i]:\n",
    "                _keep = min(_keep, swap)\n",
    "                _swap = min(_swap, keep + 1)\n",
    "            \n",
    "            keep, swap = _keep, _swap\n",
    "        \n",
    "        return min(keep, swap)"
   ]
  },
  {
   "cell_type": "code",
   "execution_count": null,
   "metadata": {},
   "outputs": [],
   "source": []
  }
 ],
 "metadata": {
  "kernelspec": {
   "display_name": "Python 3",
   "language": "python",
   "name": "python3"
  },
  "language_info": {
   "codemirror_mode": {
    "name": "ipython",
    "version": 3
   },
   "file_extension": ".py",
   "mimetype": "text/x-python",
   "name": "python",
   "nbconvert_exporter": "python",
   "pygments_lexer": "ipython3",
   "version": "3.8.1"
  }
 },
 "nbformat": 4,
 "nbformat_minor": 4
}
