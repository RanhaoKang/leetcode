{
 "cells": [
  {
   "cell_type": "markdown",
   "metadata": {},
   "source": [
    "[1006. Clumsy Factorial](https://leetcode.com/problems/clumsy-factorial/)"
   ]
  },
  {
   "cell_type": "markdown",
   "metadata": {},
   "source": [
    "cheat with `eval`"
   ]
  },
  {
   "cell_type": "code",
   "execution_count": 15,
   "metadata": {},
   "outputs": [],
   "source": [
    "class Solution:\n",
    "    def clumsy(self, N: int) -> int:\n",
    "        from itertools import cycle\n",
    "        s = ''\n",
    "        for n, sign in zip(range(N, 0, -1), cycle(['*', '//', '+', '-'])):\n",
    "            s += f'{n}{sign}'\n",
    "        \n",
    "        if s[-1] == '/':\n",
    "            return eval(s[:-2])\n",
    "        else:\n",
    "            return eval(s[:-1])"
   ]
  },
  {
   "cell_type": "markdown",
   "metadata": {},
   "source": [
    "不需要`zip`, 只需要不断`next`就好了"
   ]
  },
  {
   "cell_type": "code",
   "execution_count": 17,
   "metadata": {},
   "outputs": [],
   "source": [
    "class Solution:\n",
    "    def clumsy(self, N: int) -> int:\n",
    "        from itertools import cycle\n",
    "        op = itertools.cycle(['*', '//', '+', '-'])\n",
    "        return eval(''.join(str(n)+next(op) if n!=1 else str(n) \n",
    "                            for n in range(N, 0, -1)))"
   ]
  },
  {
   "cell_type": "code",
   "execution_count": 16,
   "metadata": {},
   "outputs": [
    {
     "data": {
      "text/plain": [
       "12"
      ]
     },
     "execution_count": 16,
     "metadata": {},
     "output_type": "execute_result"
    }
   ],
   "source": [
    "Solution().clumsy(10)"
   ]
  },
  {
   "cell_type": "markdown",
   "metadata": {},
   "source": [
    "https://leetcode.com/problems/clumsy-factorial/discuss/252279/You-never-think-of-this-amazing-O(1)-solution"
   ]
  },
  {
   "cell_type": "code",
   "execution_count": 8,
   "metadata": {},
   "outputs": [
    {
     "data": {
      "text/plain": [
       "range(6, 0, -1)"
      ]
     },
     "execution_count": 8,
     "metadata": {},
     "output_type": "execute_result"
    }
   ],
   "source": [
    "class Solution:\n",
    "    def clumsy(self, N: int) -> int:\n",
    "        magic = [1, 2, 2, -1, 0, 0, 3, 3]\n",
    "        return N + (magic[N % 4] if N > 4 else magic[N + 3])"
   ]
  }
 ],
 "metadata": {
  "kernelspec": {
   "display_name": "Python 3",
   "language": "python",
   "name": "python3"
  },
  "language_info": {
   "codemirror_mode": {
    "name": "ipython",
    "version": 3
   },
   "file_extension": ".py",
   "mimetype": "text/x-python",
   "name": "python",
   "nbconvert_exporter": "python",
   "pygments_lexer": "ipython3",
   "version": "3.8.1"
  }
 },
 "nbformat": 4,
 "nbformat_minor": 4
}
