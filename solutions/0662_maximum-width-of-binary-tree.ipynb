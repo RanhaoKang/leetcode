{
 "cells": [
  {
   "cell_type": "markdown",
   "metadata": {},
   "source": [
    "[662. Maximum Width of Binary Tree](https://leetcode.com/problems/maximum-width-of-binary-tree/)"
   ]
  },
  {
   "cell_type": "code",
   "execution_count": 4,
   "metadata": {},
   "outputs": [],
   "source": [
    "# Definition for a binary tree node.\n",
    "class TreeNode:\n",
    "    def __init__(self, x):\n",
    "        self.val = x\n",
    "        self.left = None\n",
    "        self.right = None"
   ]
  },
  {
   "cell_type": "markdown",
   "metadata": {},
   "source": [
    "原来width不是指这个意思……"
   ]
  },
  {
   "cell_type": "code",
   "execution_count": 7,
   "metadata": {},
   "outputs": [],
   "source": [
    "class Solution:\n",
    "    def widthOfBinaryTree(self, root: 'TreeNode') -> 'int':\n",
    "        res = 0\n",
    "        \n",
    "        cur_level, next_level = [root], []\n",
    "        while cur_level:\n",
    "            cnt = 0\n",
    "            for node in cur_level:\n",
    "                if node:\n",
    "                    cnt += 1\n",
    "                    next_level.extend([node.left, node.right])\n",
    "            res = max(res, cnt)\n",
    "            \n",
    "            if next_level:\n",
    "                cur_level, next_level = next_level, []\n",
    "            else:\n",
    "                cur_level = None\n",
    "        \n",
    "        return res"
   ]
  },
  {
   "cell_type": "markdown",
   "metadata": {},
   "source": [
    "弄清楚了width的意思后重新写……"
   ]
  },
  {
   "cell_type": "code",
   "execution_count": 8,
   "metadata": {},
   "outputs": [],
   "source": [
    "class Solution:\n",
    "    def widthOfBinaryTree(self, root: 'TreeNode') -> 'int':\n",
    "        self.res = 0\n",
    "        left = {}\n",
    "        def solve(node, depth = 0, idx = 0):\n",
    "            if node:\n",
    "                left.setdefault(depth, idx)\n",
    "                self.res = max(self.res, idx - left[depth] + 1)\n",
    "                solve(node.left, depth + 1, idx * 2)\n",
    "                solve(node.right, depth + 1, idx * 2 + 1)\n",
    "        \n",
    "        solve(root)\n",
    "        return self.res"
   ]
  },
  {
   "cell_type": "markdown",
   "metadata": {},
   "source": [
    "Stefan好爱用列表生成式……"
   ]
  },
  {
   "cell_type": "code",
   "execution_count": 5,
   "metadata": {},
   "outputs": [],
   "source": [
    "class Solution:\n",
    "    def widthOfBinaryTree(self, root: 'TreeNode') -> 'int':\n",
    "        width = 0\n",
    "        level = [(1, root)]\n",
    "        while level:\n",
    "            width = max(width, level[-1][0] - level[0][0] + 1)\n",
    "            level = [kid\n",
    "                     for number, node in level\n",
    "                     for kid in enumerate((node.left, node.right), 2 * number)\n",
    "                     if kid[1]]\n",
    "        return width"
   ]
  },
  {
   "cell_type": "code",
   "execution_count": null,
   "metadata": {},
   "outputs": [],
   "source": []
  }
 ],
 "metadata": {
  "kernelspec": {
   "display_name": "Python 3",
   "language": "python",
   "name": "python3"
  },
  "language_info": {
   "codemirror_mode": {
    "name": "ipython",
    "version": 3
   },
   "file_extension": ".py",
   "mimetype": "text/x-python",
   "name": "python",
   "nbconvert_exporter": "python",
   "pygments_lexer": "ipython3",
   "version": "3.6.7"
  }
 },
 "nbformat": 4,
 "nbformat_minor": 2
}
