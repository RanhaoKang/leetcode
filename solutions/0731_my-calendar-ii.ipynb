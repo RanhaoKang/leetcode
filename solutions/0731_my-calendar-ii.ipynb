{
 "cells": [
  {
   "cell_type": "markdown",
   "metadata": {},
   "source": [
    "[731. My Calendar II](https://leetcode.com/problems/my-calendar-ii/)"
   ]
  },
  {
   "cell_type": "code",
   "execution_count": null,
   "metadata": {},
   "outputs": [],
   "source": [
    "class Node:\n",
    "    __slots__ = 'start', 'end', 'left', 'right'\n",
    "    def __init__(self, start, end):\n",
    "        self.start = start\n",
    "        self.end = end\n",
    "        self.left = self.right = None\n",
    "\n",
    "    def insert(self, node, chance = True):\n",
    "        if node.start >= self.end:\n",
    "            if not self.right:\n",
    "                self.right = node\n",
    "                return True\n",
    "            return self.right.insert(node)\n",
    "        elif node.end <= self.start:\n",
    "            if not self.left:\n",
    "                self.left = node\n",
    "                return True\n",
    "            return self.left.insert(node)\n",
    "        else:\n",
    "            if chance:\n",
    "                if self.left:\n",
    "                    return self.left.insert(node, False)\n",
    "                else:\n",
    "                    self.left = node\n",
    "                    return True\n",
    "            else:\n",
    "                return False\n",
    "\n",
    "\n",
    "class MyCalendarTwo:\n",
    "\n",
    "    def __init__(self):\n",
    "        self.root = None\n",
    "        \n",
    "\n",
    "    def book(self, start, end):\n",
    "        if self.root is None:\n",
    "            self.root = Node(start, end)\n",
    "            return True\n",
    "        return self.root.insert(Node(start, end))\n",
    "\n",
    "\n",
    "# Your MyCalendarTwo object will be instantiated and called as such:\n",
    "# obj = MyCalendarTwo()\n",
    "# param_1 = obj.book(start,end)"
   ]
  }
 ],
 "metadata": {
  "kernelspec": {
   "display_name": "Python 3",
   "language": "python",
   "name": "python3"
  },
  "language_info": {
   "codemirror_mode": {
    "name": "ipython",
    "version": 3
   },
   "file_extension": ".py",
   "mimetype": "text/x-python",
   "name": "python",
   "nbconvert_exporter": "python",
   "pygments_lexer": "ipython3",
   "version": "3.6.7"
  }
 },
 "nbformat": 4,
 "nbformat_minor": 2
}
