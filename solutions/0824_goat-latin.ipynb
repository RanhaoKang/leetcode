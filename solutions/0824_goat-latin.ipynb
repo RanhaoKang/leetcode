{
 "cells": [
  {
   "cell_type": "markdown",
   "metadata": {},
   "source": [
    "[824. Goat Latin](https://leetcode.com/problems/goat-latin/)"
   ]
  },
  {
   "cell_type": "code",
   "execution_count": 1,
   "metadata": {},
   "outputs": [],
   "source": [
    "class Solution:\n",
    "    def toGoatLatin(self, S: str) -> str:\n",
    "        vowel = set('aeiouAEIOU')\n",
    "        def latin(w, i):\n",
    "            if w[0] not in vowel:\n",
    "                w = w[1:] + w[0]\n",
    "            return w + 'ma' + 'a' * (i + 1)\n",
    "        return ' '.join(latin(w, i) for i, w in enumerate(S.split()))"
   ]
  },
  {
   "cell_type": "code",
   "execution_count": null,
   "metadata": {},
   "outputs": [],
   "source": []
  }
 ],
 "metadata": {
  "kernelspec": {
   "display_name": "Python 3",
   "language": "python",
   "name": "python3"
  },
  "language_info": {
   "codemirror_mode": {
    "name": "ipython",
    "version": 3
   },
   "file_extension": ".py",
   "mimetype": "text/x-python",
   "name": "python",
   "nbconvert_exporter": "python",
   "pygments_lexer": "ipython3",
   "version": "3.8.0b3"
  }
 },
 "nbformat": 4,
 "nbformat_minor": 2
}
