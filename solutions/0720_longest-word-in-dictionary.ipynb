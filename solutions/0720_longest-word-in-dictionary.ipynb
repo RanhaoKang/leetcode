{
 "cells": [
  {
   "cell_type": "markdown",
   "metadata": {},
   "source": [
    "[720. Longest Word in Dictionary](https://leetcode.com/problems/longest-word-in-dictionary/)"
   ]
  },
  {
   "cell_type": "markdown",
   "metadata": {},
   "source": [
    "简单写法"
   ]
  },
  {
   "cell_type": "code",
   "execution_count": 14,
   "metadata": {},
   "outputs": [],
   "source": [
    "class Solution:\n",
    "    def longestWord(self, words) -> str:\n",
    "        def compare(a, b):\n",
    "            if a == '':\n",
    "                return b\n",
    "            if len(a) == len(b):\n",
    "                return a < b and a or b\n",
    "            else:\n",
    "                return len(a) > len(b) and a or b\n",
    "        \n",
    "        def check(word):\n",
    "            print(word)\n",
    "            for i in range(1, len(word)):\n",
    "                if word[:i] not in words:\n",
    "                    return False\n",
    "            return True\n",
    "            \n",
    "        \n",
    "        words = set(words)\n",
    "        res = ''\n",
    "        \n",
    "        for word in words:\n",
    "            if check(word):\n",
    "                res = compare(res, word)\n",
    "        \n",
    "        return res"
   ]
  },
  {
   "cell_type": "code",
   "execution_count": 15,
   "metadata": {},
   "outputs": [
    {
     "name": "stdout",
     "output_type": "stream",
     "text": [
      "wo\n",
      "worl\n",
      "world\n",
      "wor\n",
      "w\n"
     ]
    },
    {
     "data": {
      "text/plain": [
       "'world'"
      ]
     },
     "execution_count": 15,
     "metadata": {},
     "output_type": "execute_result"
    }
   ],
   "source": [
    "Solution().longestWord([\"w\",\"wo\",\"wor\",\"worl\", \"world\"])"
   ]
  },
  {
   "cell_type": "code",
   "execution_count": 16,
   "metadata": {},
   "outputs": [
    {
     "name": "stdout",
     "output_type": "stream",
     "text": [
      "apply\n",
      "appl\n",
      "banana\n",
      "ap\n",
      "apple\n",
      "a\n",
      "app\n"
     ]
    },
    {
     "data": {
      "text/plain": [
       "'apple'"
      ]
     },
     "execution_count": 16,
     "metadata": {},
     "output_type": "execute_result"
    }
   ],
   "source": [
    "Solution().longestWord([\"a\", \"banana\", \"app\", \"appl\", \"ap\", \"apply\", \"apple\"])"
   ]
  },
  {
   "cell_type": "code",
   "execution_count": null,
   "metadata": {},
   "outputs": [],
   "source": []
  }
 ],
 "metadata": {
  "kernelspec": {
   "display_name": "Python 3",
   "language": "python",
   "name": "python3"
  },
  "language_info": {
   "codemirror_mode": {
    "name": "ipython",
    "version": 3
   },
   "file_extension": ".py",
   "mimetype": "text/x-python",
   "name": "python",
   "nbconvert_exporter": "python",
   "pygments_lexer": "ipython3",
   "version": "3.6.7"
  }
 },
 "nbformat": 4,
 "nbformat_minor": 2
}
