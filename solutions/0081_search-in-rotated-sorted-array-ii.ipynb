{
 "cells": [
  {
   "cell_type": "markdown",
   "metadata": {},
   "source": [
    "[81. Search in Rotated Sorted Array II](https://leetcode.com/problems/search-in-rotated-sorted-array-ii/)"
   ]
  },
  {
   "cell_type": "markdown",
   "metadata": {},
   "source": [
    "与上一题不同, 这次的输入包含重复的元素. 直接把上一题的解法搬过来也过了大部分用例. failed case则是因为对有序部分的判断出了问题, 在`nums[l] == nums[m]`时不再能肯定`(l, m)`是有序的了, 解决方案自然是linear search一下看是否单调, 也就是说大部分情况时间复杂度为$O(logn)$, 当`nums[l] == nums[m]`时, 时间复杂度退化到$O(n)$."
   ]
  },
  {
   "cell_type": "code",
   "execution_count": 9,
   "metadata": {},
   "outputs": [],
   "source": [
    "class Solution:\n",
    "    def search(self, nums, target) -> bool:\n",
    "        l, r = 0, len(nums) - 1\n",
    "        \n",
    "        while l <= r:\n",
    "            m = (l + r) // 2\n",
    "            if nums[m] == target:\n",
    "                return True\n",
    "            \n",
    "            # 左边有序\n",
    "            if nums[l] < nums[m]:\n",
    "                # 目标在有序部分\n",
    "                if nums[l] <= target < nums[m]:\n",
    "                    r = m - 1\n",
    "                else:\n",
    "                    l = m + 1\n",
    "            # 右边有序\n",
    "            elif nums[l] > nums[m]:\n",
    "                # 目标在有序部分\n",
    "                if nums[m] < target <= nums[r]:\n",
    "                    l = m + 1\n",
    "                else:\n",
    "                    r = m - 1\n",
    "            else:\n",
    "                ll = l\n",
    "                while ll < m and nums[ll] <= nums[m]:\n",
    "                    print(ll, m)\n",
    "                    ll += 1\n",
    "                    \n",
    "                if ll == m:\n",
    "                    # 目标在有序部分\n",
    "                    if nums[l] <= target < nums[m]:\n",
    "                        r = m - 1\n",
    "                    else:\n",
    "                        l = m + 1\n",
    "                else:\n",
    "                    # 目标在有序部分\n",
    "                    if nums[m] < target <= nums[r]:\n",
    "                        l = m + 1\n",
    "                    else:\n",
    "                        r = m - 1\n",
    "        \n",
    "        return False"
   ]
  },
  {
   "cell_type": "code",
   "execution_count": 10,
   "metadata": {},
   "outputs": [
    {
     "name": "stdout",
     "output_type": "stream",
     "text": [
      "0 2\n"
     ]
    },
    {
     "data": {
      "text/plain": [
       "True"
      ]
     },
     "execution_count": 10,
     "metadata": {},
     "output_type": "execute_result"
    }
   ],
   "source": [
    "Solution().search([1,3,1,1,1], 3)"
   ]
  },
  {
   "cell_type": "code",
   "execution_count": null,
   "metadata": {},
   "outputs": [],
   "source": []
  }
 ],
 "metadata": {
  "kernelspec": {
   "display_name": "Python 3",
   "language": "python",
   "name": "python3"
  },
  "language_info": {
   "codemirror_mode": {
    "name": "ipython",
    "version": 3
   },
   "file_extension": ".py",
   "mimetype": "text/x-python",
   "name": "python",
   "nbconvert_exporter": "python",
   "pygments_lexer": "ipython3",
   "version": "3.6.7"
  }
 },
 "nbformat": 4,
 "nbformat_minor": 2
}
