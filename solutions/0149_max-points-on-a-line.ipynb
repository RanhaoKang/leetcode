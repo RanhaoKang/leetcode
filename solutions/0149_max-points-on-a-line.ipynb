{
 "cells": [
  {
   "cell_type": "markdown",
   "metadata": {},
   "source": [
    "[149. Max Points on a Line](https://leetcode.com/problems/max-points-on-a-line/)"
   ]
  },
  {
   "cell_type": "markdown",
   "metadata": {},
   "source": [
    "需要依赖Fraction解决精度问题, 1224, 1248, 1264 ms"
   ]
  },
  {
   "cell_type": "code",
   "execution_count": 38,
   "metadata": {},
   "outputs": [],
   "source": [
    "class Solution:\n",
    "    def maxPoints(self, pts) -> int:\n",
    "        from fractions import Fraction\n",
    "        from collections import defaultdict\n",
    "\n",
    "        N, res = len(pts), 0\n",
    "        for i, (x, y) in enumerate(pts):\n",
    "            d, same = defaultdict(lambda: 1), 0\n",
    "            for j in range(i + 1, N):\n",
    "                tx, ty = pts[j]\n",
    "                if (x, y) == (tx, ty):\n",
    "                    same += 1\n",
    "                    continue\n",
    "                slope = 'i' if x == tx else Fraction(y - ty, x - tx)\n",
    "                d[slope] += 1\n",
    "\n",
    "            res = max(res, max(d.values(), default = 1) + same)\n",
    "    \n",
    "        return res"
   ]
  },
  {
   "cell_type": "code",
   "execution_count": 39,
   "metadata": {},
   "outputs": [
    {
     "data": {
      "text/plain": [
       "4"
      ]
     },
     "execution_count": 39,
     "metadata": {},
     "output_type": "execute_result"
    }
   ],
   "source": [
    "Solution().maxPoints([[1,1],[3,2],[5,3],[4,1],[2,3],[1,4]])"
   ]
  },
  {
   "cell_type": "code",
   "execution_count": 37,
   "metadata": {},
   "outputs": [
    {
     "data": {
      "text/plain": [
       "0"
      ]
     },
     "execution_count": 37,
     "metadata": {},
     "output_type": "execute_result"
    }
   ],
   "source": [
    "Solution().maxPoints([])"
   ]
  },
  {
   "cell_type": "markdown",
   "metadata": {},
   "source": [
    "584 ms"
   ]
  },
  {
   "cell_type": "code",
   "execution_count": 69,
   "metadata": {},
   "outputs": [],
   "source": [
    "class Solution:\n",
    "    def maxPoints(self, pts) -> int:\n",
    "        N, res = len(pts), 0\n",
    "        if N <= 2:\n",
    "            return N\n",
    "        \n",
    "        for i, (x, y) in enumerate(pts):\n",
    "            for j in range(i + 1, N):\n",
    "                x1, y1 = pts[j]\n",
    "                dx, dy = x - x1, y - y1\n",
    "                if dx: inter = dx * y - dy * x\n",
    "                cnt = 0\n",
    "                for x2, y2 in pts:\n",
    "                    cnt += inter == dx * y2 - dy * x2 if dx else x2 == x\n",
    "\n",
    "                res = max(res, cnt)\n",
    "\n",
    "        return res"
   ]
  },
  {
   "cell_type": "code",
   "execution_count": 70,
   "metadata": {},
   "outputs": [
    {
     "data": {
      "text/plain": [
       "4"
      ]
     },
     "execution_count": 70,
     "metadata": {},
     "output_type": "execute_result"
    }
   ],
   "source": [
    "Solution().maxPoints([[1,1],[3,2],[5,3],[4,1],[2,3],[1,4]])"
   ]
  },
  {
   "cell_type": "code",
   "execution_count": 71,
   "metadata": {},
   "outputs": [
    {
     "data": {
      "text/plain": [
       "4"
      ]
     },
     "execution_count": 71,
     "metadata": {},
     "output_type": "execute_result"
    }
   ],
   "source": [
    "Solution().maxPoints([[1,1],[3,2],[5,3],[4,1],[2,3],[1,4]])"
   ]
  },
  {
   "cell_type": "markdown",
   "metadata": {},
   "source": [
    "44 ms"
   ]
  },
  {
   "cell_type": "code",
   "execution_count": 72,
   "metadata": {},
   "outputs": [],
   "source": [
    "from math import gcd\n",
    "from collections import Counter, defaultdict\n",
    "\n",
    "class Solution:\n",
    "    def maxPoints(self, points):\n",
    "        weights = Counter(map(tuple, points))\n",
    "        points = list(weights)\n",
    "        res = 0\n",
    "        for i, P in enumerate(points):\n",
    "            d = defaultdict(int)\n",
    "            for Q in points[i+1:]:\n",
    "                d[self.normalised_delta(P, Q)] += weights[Q]\n",
    "            res = max(res, weights[P] + max(d.values(), default=0))\n",
    "        return res\n",
    "    \n",
    "    def normalised_delta(self, A, B):\n",
    "        dx = B[0] - A[0]\n",
    "        dy = B[1] - A[1]\n",
    "        g = gcd(dx, dy)\n",
    "        k = g if (dx, dy) > (0, 0) else 1 if g == 0 else -g\n",
    "        return (dx//k, dy//k)"
   ]
  },
  {
   "cell_type": "code",
   "execution_count": null,
   "metadata": {},
   "outputs": [],
   "source": []
  }
 ],
 "metadata": {
  "kernelspec": {
   "display_name": "Python 3",
   "language": "python",
   "name": "python3"
  },
  "language_info": {
   "codemirror_mode": {
    "name": "ipython",
    "version": 3
   },
   "file_extension": ".py",
   "mimetype": "text/x-python",
   "name": "python",
   "nbconvert_exporter": "python",
   "pygments_lexer": "ipython3",
   "version": "3.8.1"
  }
 },
 "nbformat": 4,
 "nbformat_minor": 4
}
