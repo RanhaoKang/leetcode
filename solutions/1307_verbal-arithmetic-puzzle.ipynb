{
 "cells": [
  {
   "cell_type": "markdown",
   "metadata": {},
   "source": [
    "[1307. Verbal Arithmetic Puzzle](https://leetcode.com/problems/verbal-arithmetic-puzzle/)"
   ]
  },
  {
   "cell_type": "code",
   "execution_count": null,
   "metadata": {},
   "outputs": [],
   "source": [
    "class Solution:\n",
    "    def isSolvable(self, words, result: str) -> bool:\n",
    "        start = set()\n",
    "        for word in words + [result]:\n",
    "            if len(word) > 1:\n",
    "                start.add(word[0])\n",
    "\n",
    "\n",
    "        n = max(map(len, words + [result]))\n",
    "        if len(result) < n:\n",
    "            return False\n",
    "\n",
    "        def dfs(idx, i, carry, visited, mp):\n",
    "            if idx == n:\n",
    "                return carry == 0\n",
    "            if i == len(words) + 1:\n",
    "                sums = sum(mp[word[-idx - 1]] if idx < len(word) else 0 for word in words) + carry\n",
    "                if sums % 10 == mp[result[-idx - 1]]:\n",
    "                    carry = sums // 10\n",
    "                    return dfs(idx + 1, 0, carry, visited, mp)\n",
    "                return False\n",
    "\n",
    "            if (i < len(words) and idx >= len(words[i])):\n",
    "                return dfs(idx, i + 1, carry, visited, mp)\n",
    "            tmp = words + [result]\n",
    "            ch = tmp[i][-idx-1]\n",
    "            if ch in mp:\n",
    "                return dfs(idx, i + 1, carry, visited, mp)\n",
    "            begin = 0\n",
    "            if ch in start:\n",
    "                begin = 1\n",
    "            for x in range(begin, 10):\n",
    "                if x not in visited:\n",
    "                    visited.add(x)\n",
    "                    mp[ch] = x\n",
    "                    if dfs(idx, i + 1, carry, visited, mp.copy()):\n",
    "                        return True\n",
    "                    visited.remove(x)\n",
    "            return False\n",
    "\n",
    "        return dfs(0, 0, 0, set(), {})"
   ]
  }
 ],
 "metadata": {
  "kernelspec": {
   "display_name": "Python 3",
   "language": "python",
   "name": "python3"
  },
  "language_info": {
   "codemirror_mode": {
    "name": "ipython",
    "version": 3
   },
   "file_extension": ".py",
   "mimetype": "text/x-python",
   "name": "python",
   "nbconvert_exporter": "python",
   "pygments_lexer": "ipython3",
   "version": "3.8.1"
  }
 },
 "nbformat": 4,
 "nbformat_minor": 4
}
