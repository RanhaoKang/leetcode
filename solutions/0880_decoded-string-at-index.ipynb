{
 "cells": [
  {
   "cell_type": "markdown",
   "metadata": {},
   "source": [
    "[880. Decoded String at Index](https://leetcode.com/problems/decoded-string-at-index/)"
   ]
  },
  {
   "cell_type": "markdown",
   "metadata": {},
   "source": [
    "如果是自己写, 大概会构造出来字符串, 直到`K`为止, $O(N)$ time, $O(N)$ space"
   ]
  },
  {
   "cell_type": "markdown",
   "metadata": {},
   "source": [
    "反过来处理, 做到了$O(1)$ space"
   ]
  },
  {
   "cell_type": "code",
   "execution_count": 6,
   "metadata": {},
   "outputs": [],
   "source": [
    "class Solution:\n",
    "    def decodeAtIndex(self, S: str, K: int) -> str:\n",
    "        length = 0\n",
    "        for char in S:\n",
    "            if char.isdigit():\n",
    "                length *= int(char)\n",
    "            else:\n",
    "                length += 1\n",
    "            \n",
    "        for char in reversed(S):\n",
    "            K %= length\n",
    "            if K == 0 and char.isalpha():\n",
    "                return char\n",
    "            \n",
    "            if char.isdigit():\n",
    "                length //= int(char)\n",
    "            else:\n",
    "                length -= 1"
   ]
  },
  {
   "cell_type": "code",
   "execution_count": 8,
   "metadata": {},
   "outputs": [
    {
     "data": {
      "text/plain": [
       "'o'"
      ]
     },
     "execution_count": 8,
     "metadata": {},
     "output_type": "execute_result"
    }
   ],
   "source": [
    "Solution().decodeAtIndex('leet2code3', 10)"
   ]
  },
  {
   "cell_type": "code",
   "execution_count": null,
   "metadata": {},
   "outputs": [],
   "source": []
  }
 ],
 "metadata": {
  "kernelspec": {
   "display_name": "Python 3",
   "language": "python",
   "name": "python3"
  },
  "language_info": {
   "codemirror_mode": {
    "name": "ipython",
    "version": 3
   },
   "file_extension": ".py",
   "mimetype": "text/x-python",
   "name": "python",
   "nbconvert_exporter": "python",
   "pygments_lexer": "ipython3",
   "version": "3.7.3"
  }
 },
 "nbformat": 4,
 "nbformat_minor": 2
}
