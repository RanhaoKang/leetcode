{
 "cells": [
  {
   "cell_type": "markdown",
   "metadata": {},
   "source": [
    "[224. Basic Calculator](https://leetcode.com/problems/basic-calculator/)"
   ]
  },
  {
   "cell_type": "code",
   "execution_count": 27,
   "metadata": {},
   "outputs": [],
   "source": [
    "class Solution:\n",
    "    def calculate(self, s: str) -> int:\n",
    "        stack = []\n",
    "        operand = 0\n",
    "        res = 0\n",
    "        sign = 1\n",
    "\n",
    "        for ch in s:\n",
    "            if ch.isdigit():\n",
    "                operand = (operand * 10) + int(ch)\n",
    "\n",
    "            elif ch == '+':\n",
    "                res += sign * operand\n",
    "                sign = 1\n",
    "                operand = 0\n",
    "\n",
    "            elif ch == '-':\n",
    "                res += sign * operand\n",
    "                sign = -1\n",
    "                operand = 0\n",
    "\n",
    "            elif ch == '(':\n",
    "                stack.append(res)\n",
    "                stack.append(sign)\n",
    "                sign = 1\n",
    "                res = 0\n",
    "\n",
    "            elif ch == ')':\n",
    "                res += sign * operand\n",
    "                res *= stack.pop()\n",
    "                res += stack.pop()\n",
    "                operand = 0\n",
    "\n",
    "        return res + sign * operand"
   ]
  },
  {
   "cell_type": "code",
   "execution_count": 24,
   "metadata": {},
   "outputs": [],
   "source": [
    "class Solution:\n",
    "    def calculate(self, s: str) -> int:\n",
    "        from operator import __add__ as add, __sub__ as sub\n",
    "        \n",
    "        st = [[None, 0, 0]] # [操作符, 操作数1, 操作数2(读取中)]\n",
    "        \n",
    "        for c in s:\n",
    "            print(c, st)\n",
    "            if c == '(':\n",
    "                st.append([None, 0, 0])\n",
    "            elif c == ')':\n",
    "                tmp = st.pop()\n",
    "                if st[-1]:\n",
    "                    pass\n",
    "            elif c.isdigit():\n",
    "                st[-1][2] *= 10\n",
    "                st[-1][2] += int(c)\n",
    "            elif c in ('+', '-'):\n",
    "                if st[-1][0]:\n",
    "                    st[-1][1] = st[-1][0](st[-1][1], st[-1][2])\n",
    "                st[-1][0] = add if c == '+' else sub\n",
    "                \n",
    "        "
   ]
  },
  {
   "cell_type": "code",
   "execution_count": 28,
   "metadata": {},
   "outputs": [
    {
     "data": {
      "text/plain": [
       "2"
      ]
     },
     "execution_count": 28,
     "metadata": {},
     "output_type": "execute_result"
    }
   ],
   "source": [
    "Solution().calculate('1 + 1')"
   ]
  },
  {
   "cell_type": "code",
   "execution_count": 29,
   "metadata": {},
   "outputs": [
    {
     "data": {
      "text/plain": [
       "3"
      ]
     },
     "execution_count": 29,
     "metadata": {},
     "output_type": "execute_result"
    }
   ],
   "source": [
    "Solution().calculate('2-1 + 2 ')"
   ]
  },
  {
   "cell_type": "code",
   "execution_count": 30,
   "metadata": {
    "scrolled": true
   },
   "outputs": [
    {
     "data": {
      "text/plain": [
       "23"
      ]
     },
     "execution_count": 30,
     "metadata": {},
     "output_type": "execute_result"
    }
   ],
   "source": [
    "Solution().calculate('(1+(4+5+2)-3)+(6+8)')"
   ]
  },
  {
   "cell_type": "code",
   "execution_count": null,
   "metadata": {},
   "outputs": [],
   "source": []
  }
 ],
 "metadata": {
  "kernelspec": {
   "display_name": "Python 3",
   "language": "python",
   "name": "python3"
  },
  "language_info": {
   "codemirror_mode": {
    "name": "ipython",
    "version": 3
   },
   "file_extension": ".py",
   "mimetype": "text/x-python",
   "name": "python",
   "nbconvert_exporter": "python",
   "pygments_lexer": "ipython3",
   "version": "3.8.0b3"
  }
 },
 "nbformat": 4,
 "nbformat_minor": 2
}
