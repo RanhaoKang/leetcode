{
 "cells": [
  {
   "cell_type": "markdown",
   "metadata": {},
   "source": [
    "[591. Tag Validator](https://leetcode.com/problems/tag-validator/)"
   ]
  },
  {
   "cell_type": "markdown",
   "metadata": {},
   "source": [
    "需要前看的编译方法，需要注意先看长的后看短的"
   ]
  },
  {
   "cell_type": "markdown",
   "metadata": {},
   "source": [
    "差评如潮大概是因为\n",
    "- valid rule的描述太繁琐了\n",
    "- 太复杂，不是面试用题"
   ]
  },
  {
   "cell_type": "code",
   "execution_count": 7,
   "metadata": {},
   "outputs": [],
   "source": [
    "class Solution:\n",
    "    def isValid(self, code: str) -> bool:\n",
    "        stack = []\n",
    "        \n",
    "        PLAIN, OPEN, CLOSE, CDATA = 0, 1, 2, 3\n",
    "        cur, token, i, N = PLAIN, \"\", 0, len(code)\n",
    "\n",
    "        while i < N:\n",
    "            c = code[i]\n",
    "\n",
    "            if cur == PLAIN:\n",
    "                # 应该有根节点(这是XML吧……)\n",
    "                if not stack and i > 0:\n",
    "                    return False\n",
    "                \n",
    "                if code[i: i + 9] == \"<![CDATA[\":\n",
    "                    cur = CDATA\n",
    "                    i += 9\n",
    "                    continue\n",
    "                elif code[i: i + 2] == \"</\":\n",
    "                    cur = CLOSE\n",
    "                    i += 2\n",
    "                    continue\n",
    "                elif c == \"<\":\n",
    "                    cur = OPEN\n",
    "                    \n",
    "            elif cur == OPEN:\n",
    "                \n",
    "                if c == \">\":\n",
    "                    if len(token) > 9 or len(token) < 1:\n",
    "                        return False\n",
    "                    \n",
    "                    stack.append(token)\n",
    "                    token = \"\"\n",
    "                    cur = PLAIN\n",
    "                    i += 1\n",
    "                    continue\n",
    "                \n",
    "                if not c.isupper():\n",
    "                    return False\n",
    "            \n",
    "                token += c\n",
    "                \n",
    "            elif cur == CLOSE:\n",
    "                if c == \">\":\n",
    "                    if len(token) > 9 or len(token) < 1:\n",
    "                        return False\n",
    "                \n",
    "                    if not stack or stack[-1] != token:\n",
    "                        return False\n",
    "                    else:\n",
    "                        stack.pop()\n",
    "                    \n",
    "                    token = \"\"\n",
    "                    cur = PLAIN\n",
    "                    i += 1\n",
    "                    continue\n",
    "                    \n",
    "                if not c.isupper():\n",
    "                    return False\n",
    "\n",
    "                token += c\n",
    "                    \n",
    "            else: # cur == CDATA\n",
    "                if code[i: i + 3] == ']]>':\n",
    "                    i += 3\n",
    "                    cur = PLAIN\n",
    "                    continue\n",
    "            \n",
    "            i += 1\n",
    "        \n",
    "        return not stack and cur == PLAIN"
   ]
  },
  {
   "cell_type": "code",
   "execution_count": 8,
   "metadata": {},
   "outputs": [
    {
     "data": {
      "text/plain": [
       "True"
      ]
     },
     "execution_count": 8,
     "metadata": {},
     "output_type": "execute_result"
    }
   ],
   "source": [
    "Solution().isValid(\"<DIV>This is the first line <![CDATA[<div>]]></DIV>\")"
   ]
  },
  {
   "cell_type": "code",
   "execution_count": null,
   "metadata": {},
   "outputs": [],
   "source": []
  }
 ],
 "metadata": {
  "kernelspec": {
   "display_name": "Python 3",
   "language": "python",
   "name": "python3"
  },
  "language_info": {
   "codemirror_mode": {
    "name": "ipython",
    "version": 3
   },
   "file_extension": ".py",
   "mimetype": "text/x-python",
   "name": "python",
   "nbconvert_exporter": "python",
   "pygments_lexer": "ipython3",
   "version": "3.8.0b3"
  }
 },
 "nbformat": 4,
 "nbformat_minor": 2
}
