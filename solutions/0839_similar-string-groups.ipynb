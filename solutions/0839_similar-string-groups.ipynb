{
 "cells": [
  {
   "cell_type": "markdown",
   "metadata": {},
   "source": [
    "[839. Similar String Groups](https://leetcode.com/problems/similar-string-groups/)"
   ]
  },
  {
   "cell_type": "code",
   "execution_count": null,
   "metadata": {},
   "outputs": [],
   "source": [
    "class Solution:\n",
    "    def numSimilarGroups(self, A) -> int:\n",
    "        m, n = len(A[0]), len(A)\n",
    "        A = set(A)\n",
    "        p, res = {s : s for s in A}, len(A) # p: parent\n",
    "        def find(s):\n",
    "            while s != p[s]: \n",
    "                p[s] = p[p[s]]\n",
    "                s = p[s]\n",
    "            return s\n",
    "        def judge(a, b):\n",
    "            cnt = 0\n",
    "            for i, j in zip(a, b):\n",
    "                if i != j:\n",
    "                    if cnt < 2: cnt += 1\n",
    "                    else: return False\n",
    "            return cnt == 2\n",
    "        if m > n:\n",
    "            for a, b in itertools.combinations(A, 2): # O(m * n ^ 2)\n",
    "                if judge(a, b):\n",
    "                    ra, rb = find(a), find(b)\n",
    "                    if ra != rb: res, p[ra] = res - 1, rb\n",
    "        else: \n",
    "            for a in A: # O(n * m ^ 2)\n",
    "                for i, j in itertools.combinations(range(m), 2):\n",
    "                    b = a[:i] + a[j] + a[i + 1: j] + a[i] + a[j + 1:]\n",
    "                    if b in A: \n",
    "                        ra, rb = find(a), find(b)\n",
    "                        if ra != rb: res, p[ra] = res - 1, rb\n",
    "        return res"
   ]
  }
 ],
 "metadata": {
  "kernelspec": {
   "display_name": "Python 3",
   "language": "python",
   "name": "python3"
  },
  "language_info": {
   "codemirror_mode": {
    "name": "ipython",
    "version": 3
   },
   "file_extension": ".py",
   "mimetype": "text/x-python",
   "name": "python",
   "nbconvert_exporter": "python",
   "pygments_lexer": "ipython3",
   "version": "3.8.1"
  }
 },
 "nbformat": 4,
 "nbformat_minor": 4
}
