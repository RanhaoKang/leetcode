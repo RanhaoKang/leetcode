{
 "cells": [
  {
   "cell_type": "markdown",
   "metadata": {},
   "source": [
    "[450. Delete Node in a BST](https://leetcode.com/problems/delete-node-in-a-bst/)"
   ]
  },
  {
   "cell_type": "code",
   "execution_count": 1,
   "metadata": {},
   "outputs": [],
   "source": [
    "# Definition for a binary tree node.\n",
    "class TreeNode:\n",
    "    def __init__(self, x):\n",
    "        self.val = x\n",
    "        self.left = None\n",
    "        self.right = None\n",
    "\n",
    "class Solution:\n",
    "    \n",
    "    def findNode(self, root: TreeNode, key: int, father = None) -> TreeNode:\n",
    "        if root:\n",
    "            if root.val == key:\n",
    "                return root\n",
    "            elif root.val < key:\n",
    "                return self.findNode(root.right, key, root)\n",
    "            else:\n",
    "                return self.findNode(root.left, key, root)\n",
    "        else:\n",
    "            return None\n",
    "    \n",
    "    def deleteNode(self, root: TreeNode, key: int) -> TreeNode:\n",
    "        target = self.findNode(root, key)\n",
    "        if target is None:\n",
    "            return root\n",
    "        \n",
    "        if target.left and target.right:\n",
    "        elif target.left:\n",
    "        elif target.right:\n",
    "            \n",
    "        else:\n",
    "            \n",
    "            father"
   ]
  },
  {
   "cell_type": "code",
   "execution_count": null,
   "metadata": {},
   "outputs": [],
   "source": []
  }
 ],
 "metadata": {
  "kernelspec": {
   "display_name": "Python 3",
   "language": "python",
   "name": "python3"
  },
  "language_info": {
   "codemirror_mode": {
    "name": "ipython",
    "version": 3
   },
   "file_extension": ".py",
   "mimetype": "text/x-python",
   "name": "python",
   "nbconvert_exporter": "python",
   "pygments_lexer": "ipython3",
   "version": "3.6.7"
  }
 },
 "nbformat": 4,
 "nbformat_minor": 2
}
