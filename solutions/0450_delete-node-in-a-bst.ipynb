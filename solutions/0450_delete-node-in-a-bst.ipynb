{
 "cells": [
  {
   "cell_type": "markdown",
   "metadata": {},
   "source": [
    "[450. Delete Node in a BST](https://leetcode.com/problems/delete-node-in-a-bst/)"
   ]
  },
  {
   "cell_type": "code",
   "execution_count": 1,
   "metadata": {},
   "outputs": [],
   "source": [
    "# Definition for a binary tree node.\n",
    "class TreeNode:\n",
    "    def __init__(self, x):\n",
    "        self.val = x\n",
    "        self.left = None\n",
    "        self.right = None\n",
    "\n",
    "class Solution:\n",
    "    def deleteNode(self, root: TreeNode, key: int) -> TreeNode:\n",
    "        \n",
    "        def solve(root, attach):\n",
    "            if root:\n",
    "                if root.val == key:\n",
    "                    if root.left and root.right:\n",
    "                        attach(root.right)\n",
    "                        p = root.right\n",
    "                        while p.left:\n",
    "                            p = p.left\n",
    "                        p.left = root.left\n",
    "                    elif root.left or root.right:\n",
    "                        attach(root.left or root.right)\n",
    "                    else:\n",
    "                        attach(None)\n",
    "                elif root.val < key:\n",
    "                    def f(node):\n",
    "                        root.right = node\n",
    "                    solve(root.right, f)\n",
    "                else:\n",
    "                    def f(node):\n",
    "                        root.left = node\n",
    "                    solve(root.left, f)\n",
    "            return\n",
    "    \n",
    "    \n",
    "    \n",
    "        dummy = TreeNode(None)\n",
    "        dummy.left = root\n",
    "        def f(node):\n",
    "            dummy.left = node\n",
    "        solve(root, f)\n",
    "        return dummy.left"
   ]
  },
  {
   "cell_type": "code",
   "execution_count": null,
   "metadata": {},
   "outputs": [],
   "source": []
  }
 ],
 "metadata": {
  "kernelspec": {
   "display_name": "Python 3",
   "language": "python",
   "name": "python3"
  },
  "language_info": {
   "codemirror_mode": {
    "name": "ipython",
    "version": 3
   },
   "file_extension": ".py",
   "mimetype": "text/x-python",
   "name": "python",
   "nbconvert_exporter": "python",
   "pygments_lexer": "ipython3",
   "version": "3.6.7"
  }
 },
 "nbformat": 4,
 "nbformat_minor": 2
}
