{
 "cells": [
  {
   "cell_type": "markdown",
   "metadata": {},
   "source": [
    "[239. Sliding Window Maximum](https://leetcode.com/problems/sliding-window-maximum/)"
   ]
  },
  {
   "cell_type": "markdown",
   "metadata": {},
   "source": [
    "$O(n*k)$的二重循环就不写了"
   ]
  },
  {
   "cell_type": "markdown",
   "metadata": {},
   "source": []
  },
  {
   "cell_type": "code",
   "execution_count": 16,
   "metadata": {},
   "outputs": [],
   "source": [
    "class Solution:\n",
    "    def maxSlidingWindow(self, nums, k: int):\n",
    "        length = len(nums)\n",
    "        \n",
    "        max_left, max_right, max_ = [[0] * length for _ in range(3)]\n",
    "        max_left[0], max_right[-1] = nums[0], nums[-1]\n",
    "        \n",
    "        for i in range(1, length):\n",
    "            j = length - i - 1\n",
    "            max_left[i] = max(max_left[i - 1], nums[i]) if i % k else nums[i]\n",
    "            max_right[j] = max(max_right[j + 1], nums[j]) if j % k else nums[j]\n",
    "        \n",
    "        print(max_left)\n",
    "        print(max_right)\n",
    "        \n",
    "        for i in range(length - k + 1):\n",
    "            max_[i] = max(max_right[i], max_left[i + k - 1])\n",
    "        \n",
    "        return max_"
   ]
  },
  {
   "cell_type": "code",
   "execution_count": 28,
   "metadata": {},
   "outputs": [
    {
     "data": {
      "text/plain": [
       "[4, 6, 6, 8, 9, 10, 12, 56]"
      ]
     },
     "execution_count": 28,
     "metadata": {},
     "output_type": "execute_result"
    }
   ],
   "source": [
    "Solution().maxSlidingWindow([2,1,3,4,6,3,8,9,10,12,56], 4)"
   ]
  },
  {
   "cell_type": "markdown",
   "metadata": {},
   "source": [
    "使用deque保持目前存储的window, 如果只用`maxlen=k`的`deque`, 每次仍需要在`deque`中查找最大值."
   ]
  },
  {
   "cell_type": "markdown",
   "metadata": {},
   "source": [
    "普通地使用`deque`来充当sliding window, 虽然是one-pass, 但是`max(q)`又有$O(k)$的复杂度, 所以总体是$O(n*k)$. 508ms"
   ]
  },
  {
   "cell_type": "code",
   "execution_count": 23,
   "metadata": {},
   "outputs": [],
   "source": [
    "class Solution:\n",
    "    def maxSlidingWindow(self, nums, k: int):\n",
    "        from collections import deque\n",
    "        q = deque(maxlen = k)\n",
    "        res = []\n",
    "        for idx, i in enumerate(nums):\n",
    "            q.append(i)\n",
    "            \n",
    "            if idx >= k - 1:\n",
    "                res.append(max(q))\n",
    "        \n",
    "        return res"
   ]
  },
  {
   "cell_type": "markdown",
   "metadata": {},
   "source": [
    "其中`max(q)`的操作其实是重复的, 因为每两次`max()`操作前只入队出队了一个元素. 所以下一步改进时, 优先考虑在`deque`中只存储需要的元素. 120ms"
   ]
  },
  {
   "cell_type": "code",
   "execution_count": 29,
   "metadata": {},
   "outputs": [],
   "source": [
    "class Solution:\n",
    "    def maxSlidingWindow(self, nums, k: int):\n",
    "        from collections import deque\n",
    "        q = deque()\n",
    "        res = []\n",
    "        for idx, i in enumerate(nums):\n",
    "            \n",
    "            # 小于入队元素的其他元素pop掉, 因为它们已经不可能为最大值做贡献\n",
    "            while q and nums[q[-1]] < i:\n",
    "                q.pop()\n",
    "            \n",
    "            q.append(idx)\n",
    "            \n",
    "            # 已经超出window的元素pop掉\n",
    "            if q[0] == idx - k:\n",
    "                q.popleft()\n",
    "            \n",
    "            if idx >= k - 1:\n",
    "                res.append(nums[q[0]])\n",
    "        \n",
    "        return res"
   ]
  },
  {
   "cell_type": "code",
   "execution_count": null,
   "metadata": {},
   "outputs": [],
   "source": []
  }
 ],
 "metadata": {
  "kernelspec": {
   "display_name": "Python 3",
   "language": "python",
   "name": "python3"
  },
  "language_info": {
   "codemirror_mode": {
    "name": "ipython",
    "version": 3
   },
   "file_extension": ".py",
   "mimetype": "text/x-python",
   "name": "python",
   "nbconvert_exporter": "python",
   "pygments_lexer": "ipython3",
   "version": "3.6.7"
  }
 },
 "nbformat": 4,
 "nbformat_minor": 2
}
