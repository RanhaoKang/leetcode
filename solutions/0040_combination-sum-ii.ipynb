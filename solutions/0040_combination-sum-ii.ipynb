{
 "cells": [
  {
   "cell_type": "markdown",
   "metadata": {},
   "source": [
    "[40. Combination Sum II](https://leetcode.com/problems/combination-sum-ii/)"
   ]
  },
  {
   "cell_type": "markdown",
   "metadata": {},
   "source": [
    "注意`yield from`这一句, 我们使用了`l[i]`, 但在下一层寻找时, 寻找范围缩小到了`l[i+1:]`而非`l[:i] + l[i+1:]`. 避免了重复"
   ]
  },
  {
   "cell_type": "code",
   "execution_count": 43,
   "metadata": {},
   "outputs": [],
   "source": [
    "class Solution:\n",
    "    def combinationSum2(self, candidates, target: int):         \n",
    "        candidates = sorted(x for x in candidates if x <= target)\n",
    "        def iterate(l, target, path):\n",
    "            if target == 0:\n",
    "                yield path\n",
    "            elif l:\n",
    "                seen = set()\n",
    "                for i in range(len(l)):\n",
    "                    num = l[i]\n",
    "                    if num not in seen and target >= num:\n",
    "                        seen.add(num)\n",
    "                        yield from iterate(l[i + 1:], target - num, path + [num])\n",
    "\n",
    "        return list(iterate(candidates, target, []))"
   ]
  },
  {
   "cell_type": "code",
   "execution_count": 44,
   "metadata": {},
   "outputs": [
    {
     "data": {
      "text/plain": [
       "[[1, 1, 6], [1, 2, 5], [1, 7], [2, 6]]"
      ]
     },
     "execution_count": 44,
     "metadata": {},
     "output_type": "execute_result"
    }
   ],
   "source": [
    "Solution().combinationSum2([10,1,2,7,6,1,5], 8)"
   ]
  },
  {
   "cell_type": "code",
   "execution_count": 38,
   "metadata": {},
   "outputs": [],
   "source": [
    "class Solution:\n",
    "    def combinationSum2(self, candidates, target):\n",
    "        # Sorting is really helpful, se we can avoid over counting easily\n",
    "        candidates.sort()                      \n",
    "        result = []\n",
    "        self.combine_sum_2(candidates, 0, [], result, target)\n",
    "        return result\n",
    "\n",
    "    def combine_sum_2(self, nums, start, path, result, target):\n",
    "        # Base case: if the sum of the path satisfies the target, we will consider \n",
    "        # it as a solution, and stop there\n",
    "        if not target:\n",
    "            result.append(path)\n",
    "            return\n",
    "        print(nums[start:])\n",
    "        for i in range(start, len(nums)):\n",
    "            # Very important here! We don't use `i > 0` because we always want \n",
    "            # to count the first element in this recursive step even if it is the same \n",
    "            # as one before. To avoid overcounting, we just ignore the duplicates\n",
    "            # after the first element.\n",
    "            if i > start and nums[i] == nums[i - 1]:\n",
    "                continue\n",
    "\n",
    "            # If the current element is bigger than the assigned target, there is \n",
    "            # no need to keep searching, since all the numbers are positive\n",
    "            if nums[i] > target:\n",
    "                break\n",
    "\n",
    "            # We change the start to `i + 1` because one element only could\n",
    "            # be used once\n",
    "            self.combine_sum_2(nums, i + 1, path + [nums[i]], \n",
    "                               result, target - nums[i])"
   ]
  },
  {
   "cell_type": "code",
   "execution_count": null,
   "metadata": {},
   "outputs": [],
   "source": []
  }
 ],
 "metadata": {
  "kernelspec": {
   "display_name": "Python 3",
   "language": "python",
   "name": "python3"
  },
  "language_info": {
   "codemirror_mode": {
    "name": "ipython",
    "version": 3
   },
   "file_extension": ".py",
   "mimetype": "text/x-python",
   "name": "python",
   "nbconvert_exporter": "python",
   "pygments_lexer": "ipython3",
   "version": "3.6.7"
  }
 },
 "nbformat": 4,
 "nbformat_minor": 2
}
