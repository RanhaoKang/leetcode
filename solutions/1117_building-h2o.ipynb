{
 "cells": [
  {
   "cell_type": "markdown",
   "metadata": {},
   "source": [
    "[1117. Building H2O](https://leetcode.com/problems/building-h2o/)"
   ]
  },
  {
   "cell_type": "code",
   "execution_count": 1,
   "metadata": {},
   "outputs": [],
   "source": [
    "from threading import Barrier, Semaphore\n",
    "\n",
    "class H2O:\n",
    "    def __init__(self):\n",
    "        self.b = Barrier(3)\n",
    "        self.h = Semaphore(2)\n",
    "        self.o = Semaphore(1)\n",
    "\n",
    "\n",
    "    def hydrogen(self, releaseHydrogen: 'Callable[[], None]') -> None:\n",
    "        self.h.acquire()\n",
    "        self.b.wait()\n",
    "        # releaseHydrogen() outputs \"H\". Do not change or remove this line.\n",
    "        releaseHydrogen()\n",
    "        self.h.release()\n",
    "\n",
    "\n",
    "    def oxygen(self, releaseOxygen: 'Callable[[], None]') -> None:\n",
    "        self.o.acquire()\n",
    "        self.b.wait()\n",
    "        # releaseOxygen() outputs \"O\". Do not change or remove this line.\n",
    "        releaseOxygen()\n",
    "        self.o.release()"
   ]
  },
  {
   "cell_type": "code",
   "execution_count": null,
   "metadata": {},
   "outputs": [],
   "source": []
  }
 ],
 "metadata": {
  "kernelspec": {
   "display_name": "Python 3",
   "language": "python",
   "name": "python3"
  },
  "language_info": {
   "codemirror_mode": {
    "name": "ipython",
    "version": 3
   },
   "file_extension": ".py",
   "mimetype": "text/x-python",
   "name": "python",
   "nbconvert_exporter": "python",
   "pygments_lexer": "ipython3",
   "version": "3.8.0b3"
  }
 },
 "nbformat": 4,
 "nbformat_minor": 2
}
