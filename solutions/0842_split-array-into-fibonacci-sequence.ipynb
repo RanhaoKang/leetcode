{
 "cells": [
  {
   "cell_type": "markdown",
   "metadata": {},
   "source": [
    "[842. Split Array into Fibonacci Sequence](https://leetcode.com/problems/split-array-into-fibonacci-sequence/)"
   ]
  },
  {
   "cell_type": "markdown",
   "metadata": {},
   "source": [
    "自己硬憋的，特别慢，664ms"
   ]
  },
  {
   "cell_type": "code",
   "execution_count": 86,
   "metadata": {},
   "outputs": [],
   "source": [
    "class Solution:\n",
    "    def splitIntoFibonacci(self, S: str):\n",
    "        N, res = len(S), []\n",
    "        \n",
    "        def dfs(i, a, b):\n",
    "            # print(i, a, b)\n",
    "            for j in range(i + 1, N + 1):\n",
    "                if j > i + 1 and S[i] == '0':\n",
    "                    break\n",
    "                n = int(S[i: j])\n",
    "                if n > 2 ** 31 - 1:\n",
    "                    break\n",
    "                if n == a + b:\n",
    "                    res.append(n)\n",
    "                    if j == N:\n",
    "                        raise StopIteration\n",
    "                    dfs(j, b, n)\n",
    "                    res.pop()\n",
    "\n",
    "        try:\n",
    "            for i in range(1, N):\n",
    "                if i > 1 and S[0] == '0':\n",
    "                    break\n",
    "                a = int(S[:i])\n",
    "                for j in range(i + 1, N + 1):\n",
    "                    if j > i + 1 and S[i] == '0':\n",
    "                        break\n",
    "                    b = int(S[i:j])\n",
    "                    res.extend([a, b])\n",
    "                    dfs(j, a, b)\n",
    "                    res.pop(); res.pop()\n",
    "\n",
    "        except StopIteration:\n",
    "            return res\n",
    "            \n",
    "        return []"
   ]
  },
  {
   "cell_type": "code",
   "execution_count": 80,
   "metadata": {},
   "outputs": [
    {
     "data": {
      "text/plain": [
       "[123, 456, 579]"
      ]
     },
     "execution_count": 80,
     "metadata": {},
     "output_type": "execute_result"
    }
   ],
   "source": [
    "Solution().splitIntoFibonacci('123456579')"
   ]
  },
  {
   "cell_type": "code",
   "execution_count": 81,
   "metadata": {},
   "outputs": [
    {
     "data": {
      "text/plain": [
       "[]"
      ]
     },
     "execution_count": 81,
     "metadata": {},
     "output_type": "execute_result"
    }
   ],
   "source": [
    "Solution().splitIntoFibonacci('0123')"
   ]
  },
  {
   "cell_type": "code",
   "execution_count": 87,
   "metadata": {},
   "outputs": [
    {
     "data": {
      "text/plain": [
       "[]"
      ]
     },
     "execution_count": 87,
     "metadata": {},
     "output_type": "execute_result"
    }
   ],
   "source": [
    "Solution().splitIntoFibonacci(\"539834657215398346785398346991079669377161950407626991734534318677529701785098211336528511\")"
   ]
  },
  {
   "cell_type": "markdown",
   "metadata": {},
   "source": [
    "抄的，28ms"
   ]
  },
  {
   "cell_type": "code",
   "execution_count": 88,
   "metadata": {},
   "outputs": [],
   "source": [
    "class Solution:\n",
    "    def splitIntoFibonacci(self, S):\n",
    "        \"\"\"\n",
    "        :type S: str\n",
    "        :rtype: List[int]\n",
    "        \"\"\"\n",
    "        n = len(S)\n",
    "        for i in range(1, 11):\n",
    "            for j in range(1, 11):\n",
    "                if i + j >= n:\n",
    "                    break\n",
    "                L = self.buildFibo(S, i, j)\n",
    "                if L:\n",
    "                    return L\n",
    "        return []\n",
    "    \n",
    "    def buildFibo(self, s, i, j):\n",
    "        a = s[:i]\n",
    "        b = s[i:i+j]\n",
    "        if a[0] == '0' and i > 1:\n",
    "            return []\n",
    "        if b[0] == '0' and j > 1:\n",
    "            return []\n",
    "        \n",
    "        offset = i + j\n",
    "        n = len(s)\n",
    "        x, y = int(a), int(b)\n",
    "        arr = [x, y]\n",
    "        while offset < n:\n",
    "            z = x + y\n",
    "            if z > 2147483647:\n",
    "                return []\n",
    "            \n",
    "            c = str(z)\n",
    "            k = len(c)\n",
    "            if offset + k > n or s[offset:offset+k] != c:\n",
    "                return []\n",
    "            offset += k\n",
    "            arr.append(z)\n",
    "            x, y = y, z\n",
    "        return arr"
   ]
  }
 ],
 "metadata": {
  "kernelspec": {
   "display_name": "Python 3",
   "language": "python",
   "name": "python3"
  },
  "language_info": {
   "codemirror_mode": {
    "name": "ipython",
    "version": 3
   },
   "file_extension": ".py",
   "mimetype": "text/x-python",
   "name": "python",
   "nbconvert_exporter": "python",
   "pygments_lexer": "ipython3",
   "version": "3.8.1"
  }
 },
 "nbformat": 4,
 "nbformat_minor": 4
}
