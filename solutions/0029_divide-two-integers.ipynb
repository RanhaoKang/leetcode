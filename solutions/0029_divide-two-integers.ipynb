{
 "cells": [
  {
   "cell_type": "markdown",
   "metadata": {},
   "source": [
    "[29. Divide Two Integers](https://leetcode.com/problems/divide-two-integers/)"
   ]
  },
  {
   "cell_type": "markdown",
   "metadata": {},
   "source": [
    "最朴素的想法, 被除数还大于除数的话, 就减一次除数并让计数器加一. TLE"
   ]
  },
  {
   "cell_type": "code",
   "execution_count": 2,
   "metadata": {},
   "outputs": [],
   "source": [
    "class Solution:\n",
    "    def divide(self, dividend: int, divisor: int) -> int:\n",
    "        sign = -1 if (dividend > 0) ^ (divisor > 0) else 1\n",
    "        dividend, divisor = abs(dividend), abs(divisor)\n",
    "        res = 0\n",
    "        while dividend >= divisor:\n",
    "            dividend -= divisor\n",
    "            res += 1\n",
    "        \n",
    "        return sign * res"
   ]
  },
  {
   "cell_type": "markdown",
   "metadata": {},
   "source": [
    "TLE的failed case都是`dividend`特别大, `divisor`特别小的, 进一步想到先尝试减去多倍的`divisor`. 由于禁止使用乘法, 所以通过移位操作实现`2`的`n`次幂"
   ]
  },
  {
   "cell_type": "code",
   "execution_count": 3,
   "metadata": {},
   "outputs": [],
   "source": [
    "class Solution:\n",
    "    def divide(self, dividend: int, divisor: int) -> int:\n",
    "        positive = (dividend < 0) is (divisor < 0)\n",
    "        \n",
    "        a, b = abs(dividend), abs(divisor)\n",
    "        res = 0\n",
    "        while a >= b:\n",
    "            tmp, i = b, 1\n",
    "            while a >= tmp:\n",
    "                a -= tmp\n",
    "                res += i\n",
    "                i <<= 1\n",
    "                tmp <<= 1\n",
    "        \n",
    "        \n",
    "        if not positive:\n",
    "            res = -res\n",
    "        return min(max(-2147483648, res), 2147483647)"
   ]
  },
  {
   "cell_type": "code",
   "execution_count": null,
   "metadata": {},
   "outputs": [],
   "source": []
  }
 ],
 "metadata": {
  "kernelspec": {
   "display_name": "Python 3",
   "language": "python",
   "name": "python3"
  },
  "language_info": {
   "codemirror_mode": {
    "name": "ipython",
    "version": 3
   },
   "file_extension": ".py",
   "mimetype": "text/x-python",
   "name": "python",
   "nbconvert_exporter": "python",
   "pygments_lexer": "ipython3",
   "version": "3.6.7"
  }
 },
 "nbformat": 4,
 "nbformat_minor": 2
}
