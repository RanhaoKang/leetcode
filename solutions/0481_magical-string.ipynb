{
 "cells": [
  {
   "cell_type": "markdown",
   "metadata": {},
   "source": [
    "[481. Magical String](https://leetcode.com/problems/magical-string/)"
   ]
  },
  {
   "cell_type": "code",
   "execution_count": 1,
   "metadata": {},
   "outputs": [],
   "source": [
    "class Solution:\n",
    "    def magicalString(self, n: int) -> int:\n",
    "        def gen():\n",
    "            for x in 1, 2, 2:\n",
    "                yield x\n",
    "            for i, x in enumerate(gen()):\n",
    "                if i > 1:\n",
    "                    for _ in range(x):\n",
    "                        yield i % 2 + 1\n",
    "        return sum(x & 1 for x in itertools.islice(gen(), n))"
   ]
  },
  {
   "cell_type": "code",
   "execution_count": null,
   "metadata": {},
   "outputs": [],
   "source": []
  }
 ],
 "metadata": {
  "kernelspec": {
   "display_name": "Python 3",
   "language": "python",
   "name": "python3"
  },
  "language_info": {
   "codemirror_mode": {
    "name": "ipython",
    "version": 3
   },
   "file_extension": ".py",
   "mimetype": "text/x-python",
   "name": "python",
   "nbconvert_exporter": "python",
   "pygments_lexer": "ipython3",
   "version": "3.8.1"
  }
 },
 "nbformat": 4,
 "nbformat_minor": 4
}
