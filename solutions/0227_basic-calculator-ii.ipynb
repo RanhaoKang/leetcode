{
 "cells": [
  {
   "cell_type": "markdown",
   "metadata": {},
   "source": [
    "[227. Basic Calculator II](https://leetcode.com/problems/basic-calculator-ii/)"
   ]
  },
  {
   "cell_type": "markdown",
   "metadata": {},
   "source": [
    "标准的中缀表达式转后缀表达式并求值"
   ]
  },
  {
   "cell_type": "code",
   "execution_count": 95,
   "metadata": {},
   "outputs": [],
   "source": [
    "from operator import add, sub, mul, floordiv\n",
    "from collections import deque\n",
    "\n",
    "class Solution:\n",
    "    def higher(self, a, b):\n",
    "        return (a in {mul, floordiv}) or (a in {add, sub} and b in {add, sub})\n",
    "    \n",
    "    def infix_to_postfix(self, L):\n",
    "        res = []\n",
    "        from collections import deque\n",
    "        stack = deque()\n",
    "        \n",
    "        for i in L:\n",
    "            # 操作数直接输出\n",
    "            if isinstance(i, int):\n",
    "                res.append(i)\n",
    "            \n",
    "            # 操作符进行优先级的判断\n",
    "            else:\n",
    "                # 栈为空时直接压入栈\n",
    "                if not stack:\n",
    "                    stack.append(i)\n",
    "                \n",
    "                # 栈顶操作符优先级更高\n",
    "                elif self.higher(stack[-1], i):\n",
    "                    while stack and self.higher(stack[-1], i):\n",
    "                        res.append(stack.pop())\n",
    "                    stack.append(i)\n",
    "                \n",
    "                # 当前操作符优先级更高\n",
    "                else:\n",
    "                    stack.append(i)\n",
    "  \n",
    "        # 扫描的中缀表达式结束时, 栈中所有运算符出栈\n",
    "        while stack:\n",
    "            res.append(stack.pop())\n",
    "        \n",
    "        return res\n",
    "\n",
    "    def str_to_list(self, s: str) -> list:\n",
    "        operators = {\n",
    "            '+': add,\n",
    "            '-': sub,\n",
    "            '*': mul,\n",
    "            '/': floordiv\n",
    "        }\n",
    "        res = []\n",
    "        num = None\n",
    "        for char in s:\n",
    "            if char.isnumeric():\n",
    "                if num is None:\n",
    "                    num = ord(char) - 48\n",
    "                else:\n",
    "                    num = num * 10 + ord(char) - 48\n",
    "            elif char in operators:\n",
    "                res.append(num)\n",
    "                res.append(operators[char])\n",
    "                num = None\n",
    "        \n",
    "        if num is not None:\n",
    "            res.append(num)\n",
    "        return res\n",
    "    \n",
    "    def calculate_postfix(self, L) -> int:\n",
    "        stack = deque()\n",
    "        \n",
    "        for i in L:\n",
    "            if isinstance(i, int):\n",
    "                stack.append(i)\n",
    "            else:\n",
    "                a = stack.pop()\n",
    "                b = stack.pop()\n",
    "                stack.append(i(b, a))\n",
    "        \n",
    "        return stack.pop()\n",
    "    \n",
    "    def calculate(self, s: str) -> int:\n",
    "        infix = self.str_to_list(s)\n",
    "        postfix = self.infix_to_postfix(infix)\n",
    "        return self.calculate_postfix(postfix)"
   ]
  },
  {
   "cell_type": "code",
   "execution_count": 96,
   "metadata": {},
   "outputs": [
    {
     "data": {
      "text/plain": [
       "7"
      ]
     },
     "execution_count": 96,
     "metadata": {},
     "output_type": "execute_result"
    }
   ],
   "source": [
    "Solution().calculate('3+2*2')"
   ]
  },
  {
   "cell_type": "code",
   "execution_count": 97,
   "metadata": {},
   "outputs": [
    {
     "data": {
      "text/plain": [
       "2499"
      ]
     },
     "execution_count": 97,
     "metadata": {},
     "output_type": "execute_result"
    }
   ],
   "source": [
    "Solution().calculate(\"1787+2136/3/2*2\")"
   ]
  },
  {
   "cell_type": "code",
   "execution_count": null,
   "metadata": {},
   "outputs": [],
   "source": []
  }
 ],
 "metadata": {
  "kernelspec": {
   "display_name": "Python 3",
   "language": "python",
   "name": "python3"
  },
  "language_info": {
   "codemirror_mode": {
    "name": "ipython",
    "version": 3
   },
   "file_extension": ".py",
   "mimetype": "text/x-python",
   "name": "python",
   "nbconvert_exporter": "python",
   "pygments_lexer": "ipython3",
   "version": "3.6.7"
  }
 },
 "nbformat": 4,
 "nbformat_minor": 2
}
