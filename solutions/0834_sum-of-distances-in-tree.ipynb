{
 "cells": [
  {
   "cell_type": "markdown",
   "metadata": {},
   "source": [
    "[834. Sum of Distances in Tree](https://leetcode.com/problems/sum-of-distances-in-tree/)"
   ]
  },
  {
   "cell_type": "markdown",
   "metadata": {},
   "source": [
    "在[1145. Binary Tree Coloring Game](https://nbviewer.jupyter.org/github/RanhaoKang/leetcode/blob/master/solutions/1145_binary-tree-coloring-game.ipynb)所感受到的，二叉树拥有单一的通路，选取位置移动一个节点，会让它离树的一部分更近，离另一部分更远。\n",
    "\n",
    "lee的答案"
   ]
  },
  {
   "cell_type": "code",
   "execution_count": 1,
   "metadata": {},
   "outputs": [],
   "source": [
    "class Solution:\n",
    "    def sumOfDistancesInTree(self, N: int, edges):\n",
    "        tree = collections.defaultdict(set)\n",
    "        res = [0] * N\n",
    "        count = [1] * N\n",
    "        for i, j in edges:\n",
    "            tree[i].add(j)\n",
    "            tree[j].add(i)\n",
    "\n",
    "        def dfs(root, pre):\n",
    "            for i in tree[root]:\n",
    "                if i != pre:\n",
    "                    dfs(i, root)\n",
    "                    count[root] += count[i]\n",
    "                    res[root] += res[i] + count[i]\n",
    "\n",
    "        def dfs2(root, pre):\n",
    "            for i in tree[root]:\n",
    "                if i != pre:\n",
    "                    res[i] = res[root] - count[i] + N - count[i]\n",
    "                    dfs2(i, root)\n",
    "        dfs(0, -1)\n",
    "        dfs2(0, -1)\n",
    "        return res"
   ]
  },
  {
   "cell_type": "code",
   "execution_count": null,
   "metadata": {},
   "outputs": [],
   "source": []
  }
 ],
 "metadata": {
  "kernelspec": {
   "display_name": "Python 3",
   "language": "python",
   "name": "python3"
  },
  "language_info": {
   "codemirror_mode": {
    "name": "ipython",
    "version": 3
   },
   "file_extension": ".py",
   "mimetype": "text/x-python",
   "name": "python",
   "nbconvert_exporter": "python",
   "pygments_lexer": "ipython3",
   "version": "3.8.1"
  }
 },
 "nbformat": 4,
 "nbformat_minor": 4
}
