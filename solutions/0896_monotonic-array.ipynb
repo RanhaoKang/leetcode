{
 "cells": [
  {
   "cell_type": "markdown",
   "metadata": {},
   "source": [
    "[896. Monotonic Array](https://leetcode.com/problems/monotonic-array/)"
   ]
  },
  {
   "cell_type": "markdown",
   "metadata": {},
   "source": [
    "92ms"
   ]
  },
  {
   "cell_type": "code",
   "execution_count": 8,
   "metadata": {},
   "outputs": [],
   "source": [
    "class Solution:\n",
    "    def isMonotonic(self, A) -> bool:\n",
    "        length = len(A)\n",
    "        \n",
    "        if length <= 2:\n",
    "            return True\n",
    "        \n",
    "        pattern = A[-1] >= A[0]\n",
    "            \n",
    "        for i in range(1, length):\n",
    "            if A[i] == A[i-1]:\n",
    "                continue\n",
    "            if pattern ^ (A[i] > A[i-1]):\n",
    "                return False\n",
    "            \n",
    "        return True"
   ]
  }
 ],
 "metadata": {
  "kernelspec": {
   "display_name": "Python 3",
   "language": "python",
   "name": "python3"
  },
  "language_info": {
   "codemirror_mode": {
    "name": "ipython",
    "version": 3
   },
   "file_extension": ".py",
   "mimetype": "text/x-python",
   "name": "python",
   "nbconvert_exporter": "python",
   "pygments_lexer": "ipython3",
   "version": "3.6.7"
  }
 },
 "nbformat": 4,
 "nbformat_minor": 2
}
