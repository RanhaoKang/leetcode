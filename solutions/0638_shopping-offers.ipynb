{
 "cells": [
  {
   "cell_type": "markdown",
   "metadata": {},
   "source": [
    "[638. Shopping Offers](https://leetcode.com/problems/shopping-offers/)"
   ]
  },
  {
   "cell_type": "markdown",
   "metadata": {},
   "source": [
    "DFS with memo"
   ]
  },
  {
   "cell_type": "code",
   "execution_count": 15,
   "metadata": {},
   "outputs": [],
   "source": [
    "class Solution:\n",
    "    def shoppingOffers(self, price, special, needs):\n",
    "        d = {}\n",
    "        def dfs(cur):\n",
    "            val = sum(cur[i]*price[i] for i in range(len(needs))) #cost without special\n",
    "            for spec in special:\n",
    "                tmp = [cur[j] - spec[j] for j in range(len(needs))]\n",
    "                if min(tmp) >= 0: # skip deals that exceed needs\n",
    "                    val = min(val, d.get(tuple(tmp), dfs(tmp)) + spec[-1]) # .get check the dictionary first for result, otherwise perform dfs.\n",
    "            d[tuple(cur)] = val\n",
    "            return val\n",
    "        return dfs(needs)"
   ]
  },
  {
   "cell_type": "code",
   "execution_count": 17,
   "metadata": {},
   "outputs": [
    {
     "name": "stdout",
     "output_type": "stream",
     "text": [
      "[[3, 0, 5], [1, 2, 10], [1, 0, 2], [0, 1, 5]]\n"
     ]
    }
   ],
   "source": [
    "Solution().shoppingOffers([2,5], [[3,0,5],[1,2,10]], [3,2])"
   ]
  },
  {
   "cell_type": "code",
   "execution_count": null,
   "metadata": {},
   "outputs": [],
   "source": []
  }
 ],
 "metadata": {
  "kernelspec": {
   "display_name": "Python 3",
   "language": "python",
   "name": "python3"
  },
  "language_info": {
   "codemirror_mode": {
    "name": "ipython",
    "version": 3
   },
   "file_extension": ".py",
   "mimetype": "text/x-python",
   "name": "python",
   "nbconvert_exporter": "python",
   "pygments_lexer": "ipython3",
   "version": "3.8.1"
  }
 },
 "nbformat": 4,
 "nbformat_minor": 4
}
