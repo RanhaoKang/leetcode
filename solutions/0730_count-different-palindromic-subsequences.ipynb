{
 "cells": [
  {
   "cell_type": "markdown",
   "metadata": {},
   "source": [
    "[730. Count Different Palindromic Subsequences](https://leetcode.com/problems/count-different-palindromic-subsequences/)"
   ]
  },
  {
   "cell_type": "code",
   "execution_count": 7,
   "metadata": {},
   "outputs": [],
   "source": [
    "class Solution:\n",
    "    def countPalindromicSubsequences(self, S: str) -> int:\n",
    "        M = 10**9 + 7\n",
    "        from functools import lru_cache\n",
    "        @lru_cache(None)\n",
    "        def DFS(start, end):\n",
    "            count = 0\n",
    "            s = S[start:end+1]\n",
    "            for x in 'abcd':\n",
    "                try:\n",
    "                    i = s.index(x) + start\n",
    "                    j = s.rindex(x) + start\n",
    "                except:\n",
    "                    continue\n",
    "                    \n",
    "                count += DFS(i+1, j-1) + 2 if i!=j else 1\n",
    "                \n",
    "            return count % M\n",
    "        return DFS(0, len(S)-1)"
   ]
  },
  {
   "cell_type": "code",
   "execution_count": 8,
   "metadata": {},
   "outputs": [
    {
     "data": {
      "text/plain": [
       "6"
      ]
     },
     "execution_count": 8,
     "metadata": {},
     "output_type": "execute_result"
    }
   ],
   "source": [
    "Solution().countPalindromicSubsequences('bccb')"
   ]
  },
  {
   "cell_type": "code",
   "execution_count": null,
   "metadata": {},
   "outputs": [],
   "source": []
  }
 ],
 "metadata": {
  "kernelspec": {
   "display_name": "Python 3",
   "language": "python",
   "name": "python3"
  },
  "language_info": {
   "codemirror_mode": {
    "name": "ipython",
    "version": 3
   },
   "file_extension": ".py",
   "mimetype": "text/x-python",
   "name": "python",
   "nbconvert_exporter": "python",
   "pygments_lexer": "ipython3",
   "version": "3.8.1"
  }
 },
 "nbformat": 4,
 "nbformat_minor": 4
}
