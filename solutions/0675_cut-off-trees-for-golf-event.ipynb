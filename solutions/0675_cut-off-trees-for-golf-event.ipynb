{
 "cells": [
  {
   "cell_type": "markdown",
   "metadata": {},
   "source": [
    "[675. Cut Off Trees for Golf Event](https://leetcode.com/problems/cut-off-trees-for-golf-event/)"
   ]
  },
  {
   "cell_type": "code",
   "execution_count": 1,
   "metadata": {},
   "outputs": [],
   "source": [
    "class Solution:\n",
    "    def cutOffTree(self, forest) -> int:\n",
    "        # Add sentinels (a border of zeros) so we don't need index-checks later on.\n",
    "        forest.append([0] * len(forest[0]))\n",
    "        for row in forest:\n",
    "            row.append(0)\n",
    "\n",
    "        # Find the trees.\n",
    "        trees = [(height, i, j)\n",
    "                 for i, row in enumerate(forest)\n",
    "                 for j, height in enumerate(row)\n",
    "                 if height > 1]\n",
    "\n",
    "        # Can we reach every tree? If not, return -1 right away.\n",
    "        queue = [(0, 0)]\n",
    "        reached = set()\n",
    "        for i, j in queue:\n",
    "            if (i, j) not in reached and forest[i][j]:\n",
    "                reached.add((i, j))\n",
    "                queue += (i+1, j), (i-1, j), (i, j+1), (i, j-1)\n",
    "        if not all((i, j) in reached for (_, i, j) in trees):\n",
    "            return -1\n",
    "\n",
    "        # Distance from (i, j) to (I, J).\n",
    "        def distance(i, j, I, J):\n",
    "            now, soon = [(i, j)], []\n",
    "            expanded = set()\n",
    "            manhattan = abs(i - I) + abs(j - J)\n",
    "            detours = 0\n",
    "            while True:\n",
    "                if not now:\n",
    "                    now, soon = soon, []\n",
    "                    detours += 1\n",
    "                i, j = now.pop()\n",
    "                if (i, j) == (I, J):\n",
    "                    return manhattan + 2 * detours\n",
    "                if (i, j) not in expanded:\n",
    "                    expanded.add((i, j))\n",
    "                    for i, j, closer in (i+1, j, i < I), (i-1, j, i > I), (i, j+1, j < J), (i, j-1, j > J):\n",
    "                        if forest[i][j]:\n",
    "                            (now if closer else soon).append((i, j))\n",
    "\n",
    "        # Sum the distances from one tree to the next (sorted by height).\n",
    "        trees.sort()\n",
    "        return sum(distance(i, j, I, J) for (_, i, j), (_, I, J) in zip([(0, 0, 0)] + trees, trees))"
   ]
  },
  {
   "cell_type": "code",
   "execution_count": null,
   "metadata": {},
   "outputs": [],
   "source": []
  }
 ],
 "metadata": {
  "kernelspec": {
   "display_name": "Python 3",
   "language": "python",
   "name": "python3"
  },
  "language_info": {
   "codemirror_mode": {
    "name": "ipython",
    "version": 3
   },
   "file_extension": ".py",
   "mimetype": "text/x-python",
   "name": "python",
   "nbconvert_exporter": "python",
   "pygments_lexer": "ipython3",
   "version": "3.8.1"
  }
 },
 "nbformat": 4,
 "nbformat_minor": 4
}
