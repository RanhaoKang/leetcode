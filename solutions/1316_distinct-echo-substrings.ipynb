{
 "cells": [
  {
   "cell_type": "markdown",
   "metadata": {},
   "source": [
    "[1316. Distinct Echo Substrings](https://leetcode.com/problems/distinct-echo-substrings/)"
   ]
  },
  {
   "cell_type": "code",
   "execution_count": 1,
   "metadata": {},
   "outputs": [],
   "source": [
    "class Solution:\n",
    "    def distinctEchoSubstrings(self, s: str) -> int:\n",
    "        n = len(s)\n",
    "        s += '.'\n",
    "        some_string = set()\n",
    "        for k in range(1, n // 2 + 1):\n",
    "            same = sum(c == d for c, d in zip(s, s[k: k+k]))\n",
    "            for i in range(n - 2*k + 1):\n",
    "                if same == k:\n",
    "                    some_string.add(s[i:i+k])\n",
    "                same += (s[i+k] == s[i+k+k]) - (s[i] == s[i+k])\n",
    "        return len(some_string)"
   ]
  },
  {
   "cell_type": "code",
   "execution_count": null,
   "metadata": {},
   "outputs": [],
   "source": []
  }
 ],
 "metadata": {
  "kernelspec": {
   "display_name": "Python 3",
   "language": "python",
   "name": "python3"
  },
  "language_info": {
   "codemirror_mode": {
    "name": "ipython",
    "version": 3
   },
   "file_extension": ".py",
   "mimetype": "text/x-python",
   "name": "python",
   "nbconvert_exporter": "python",
   "pygments_lexer": "ipython3",
   "version": "3.8.1"
  }
 },
 "nbformat": 4,
 "nbformat_minor": 4
}
