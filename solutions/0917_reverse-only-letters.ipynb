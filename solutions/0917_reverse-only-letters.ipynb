{
 "cells": [
  {
   "cell_type": "markdown",
   "metadata": {},
   "source": [
    "[917. Reverse Only Letters](https://leetcode.com/problems/reverse-only-letters/)"
   ]
  },
  {
   "cell_type": "code",
   "execution_count": 11,
   "metadata": {},
   "outputs": [],
   "source": [
    "class Solution:\n",
    "    def reverseOnlyLetters(self, S: 'str') -> 'str':\n",
    "        S = list(S)\n",
    "        l, r = 0, len(S) - 1\n",
    "        \n",
    "        while l < r:\n",
    "            if S[l].isalpha() and S[r].isalpha():\n",
    "                S[l], S[r] = S[r], S[l]\n",
    "                l += 1\n",
    "                r -= 1\n",
    "            while l < r and not S[l].isalpha():\n",
    "                l += 1\n",
    "            while l < r and not S[r].isalpha():\n",
    "                r -= 1\n",
    "        \n",
    "        return ''.join(S)"
   ]
  },
  {
   "cell_type": "code",
   "execution_count": 2,
   "metadata": {},
   "outputs": [],
   "source": [
    "a = \"Test1ng-Leet=code-Q!\""
   ]
  },
  {
   "cell_type": "code",
   "execution_count": 12,
   "metadata": {},
   "outputs": [
    {
     "data": {
      "text/plain": [
       "'Qedo1ct-eeLg=ntse-T!'"
      ]
     },
     "execution_count": 12,
     "metadata": {},
     "output_type": "execute_result"
    }
   ],
   "source": [
    "Solution().reverseOnlyLetters(a)"
   ]
  },
  {
   "cell_type": "code",
   "execution_count": 7,
   "metadata": {},
   "outputs": [
    {
     "name": "stdout",
     "output_type": "stream",
     "text": [
      "islower\n",
      "isupper\n",
      "istitle\n",
      "isspace\n",
      "isdecimal\n",
      "isdigit\n",
      "isnumeric\n",
      "isalpha\n",
      "isalnum\n",
      "isidentifier\n",
      "isprintable\n"
     ]
    }
   ],
   "source": [
    "for i in str.__dict__:\n",
    "    if i.find('is') != -1:\n",
    "        print(i)"
   ]
  },
  {
   "cell_type": "code",
   "execution_count": 8,
   "metadata": {},
   "outputs": [
    {
     "data": {
      "text/plain": [
       "True"
      ]
     },
     "execution_count": 8,
     "metadata": {},
     "output_type": "execute_result"
    }
   ],
   "source": [
    "'aB'.isalpha()"
   ]
  },
  {
   "cell_type": "code",
   "execution_count": null,
   "metadata": {},
   "outputs": [],
   "source": []
  }
 ],
 "metadata": {
  "kernelspec": {
   "display_name": "Python 3",
   "language": "python",
   "name": "python3"
  },
  "language_info": {
   "codemirror_mode": {
    "name": "ipython",
    "version": 3
   },
   "file_extension": ".py",
   "mimetype": "text/x-python",
   "name": "python",
   "nbconvert_exporter": "python",
   "pygments_lexer": "ipython3",
   "version": "3.6.7"
  }
 },
 "nbformat": 4,
 "nbformat_minor": 2
}
