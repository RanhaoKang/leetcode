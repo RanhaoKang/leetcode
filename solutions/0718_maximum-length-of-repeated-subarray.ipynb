{
 "cells": [
  {
   "cell_type": "markdown",
   "metadata": {},
   "source": [
    "[718. Maximum Length of Repeated Subarray](https://leetcode.com/problems/maximum-length-of-repeated-subarray/)"
   ]
  },
  {
   "cell_type": "code",
   "execution_count": 5,
   "metadata": {},
   "outputs": [],
   "source": [
    "class Solution:\n",
    "    def findLength(self, A, B) -> int:\n",
    "        N1, N2 = len(A), len(B)\n",
    "        dp = [[0] * (N2 + 1) for _ in range(N1 + 1)]\n",
    "        \n",
    "        for i in range(N1 - 1, -1, -1):\n",
    "            for j in range(N2 - 1, -1, -1):\n",
    "                if A[i] == B[j]:\n",
    "                    dp[i][j] = dp[i+1][j+1] + 1\n",
    "        \n",
    "        return max(max(row) for row in dp)"
   ]
  },
  {
   "cell_type": "code",
   "execution_count": null,
   "metadata": {},
   "outputs": [],
   "source": []
  }
 ],
 "metadata": {
  "kernelspec": {
   "display_name": "Python 3",
   "language": "python",
   "name": "python3"
  },
  "language_info": {
   "codemirror_mode": {
    "name": "ipython",
    "version": 3
   },
   "file_extension": ".py",
   "mimetype": "text/x-python",
   "name": "python",
   "nbconvert_exporter": "python",
   "pygments_lexer": "ipython3",
   "version": "3.6.7"
  }
 },
 "nbformat": 4,
 "nbformat_minor": 2
}
