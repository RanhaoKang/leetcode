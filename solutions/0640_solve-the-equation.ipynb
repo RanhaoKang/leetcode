{
 "cells": [
  {
   "cell_type": "markdown",
   "metadata": {},
   "source": [
    "[640. Solve the Equation](https://leetcode.com/problems/solve-the-equation/)"
   ]
  },
  {
   "cell_type": "markdown",
   "metadata": {},
   "source": [
    "字符串处理……"
   ]
  },
  {
   "cell_type": "code",
   "execution_count": 46,
   "metadata": {},
   "outputs": [],
   "source": [
    "class Solution:\n",
    "    def solveEquation(self, equation: str) -> str:\n",
    "        # 最后会化简为ax + b = 0\n",
    "        a = b = 0\n",
    "        sign = 1\n",
    "        parts = ((' ' + equation).replace('+', ' +').replace('-', ' -')\n",
    "                .replace(' +x', ' +1x').replace(' -x', ' -1x').replace(' x', ' 1x').replace('=x', '= 1x')\n",
    "                .replace('=', ' = ').split())\n",
    "        \n",
    "        for part in parts:\n",
    "            if part == '=':\n",
    "                sign = -1\n",
    "            elif part[-1] == 'x':\n",
    "                a += sign * int(part[:-1])\n",
    "            else:\n",
    "                b += sign * int(part)\n",
    "\n",
    "        if a != 0:\n",
    "            return f\"x={-b//a}\"\n",
    "        elif b == 0:\n",
    "            return \"Infinite solutions\"\n",
    "        else:\n",
    "            return \"No solution\""
   ]
  },
  {
   "cell_type": "code",
   "execution_count": 47,
   "metadata": {},
   "outputs": [
    {
     "data": {
      "text/plain": [
       "'x=2'"
      ]
     },
     "execution_count": 47,
     "metadata": {},
     "output_type": "execute_result"
    }
   ],
   "source": [
    "Solution().solveEquation('x+5-3+x=6+x-2')"
   ]
  },
  {
   "cell_type": "code",
   "execution_count": 7,
   "metadata": {},
   "outputs": [
    {
     "data": {
      "text/plain": [
       "4"
      ]
     },
     "execution_count": 7,
     "metadata": {},
     "output_type": "execute_result"
    }
   ],
   "source": [
    "['4x', '+5', '-3', '+x', '=', '6', '+x', '-2'].index('=')"
   ]
  },
  {
   "cell_type": "code",
   "execution_count": 9,
   "metadata": {},
   "outputs": [
    {
     "data": {
      "text/plain": [
       "'-4'"
      ]
     },
     "execution_count": 9,
     "metadata": {},
     "output_type": "execute_result"
    }
   ],
   "source": [
    "'-4x'[:-1]"
   ]
  },
  {
   "cell_type": "code",
   "execution_count": 13,
   "metadata": {},
   "outputs": [
    {
     "data": {
      "text/plain": [
       "10"
      ]
     },
     "execution_count": 13,
     "metadata": {},
     "output_type": "execute_result"
    }
   ],
   "source": [
    "int('+10')"
   ]
  },
  {
   "cell_type": "code",
   "execution_count": null,
   "metadata": {},
   "outputs": [],
   "source": []
  }
 ],
 "metadata": {
  "kernelspec": {
   "display_name": "Python 3",
   "language": "python",
   "name": "python3"
  },
  "language_info": {
   "codemirror_mode": {
    "name": "ipython",
    "version": 3
   },
   "file_extension": ".py",
   "mimetype": "text/x-python",
   "name": "python",
   "nbconvert_exporter": "python",
   "pygments_lexer": "ipython3",
   "version": "3.6.7"
  }
 },
 "nbformat": 4,
 "nbformat_minor": 2
}
