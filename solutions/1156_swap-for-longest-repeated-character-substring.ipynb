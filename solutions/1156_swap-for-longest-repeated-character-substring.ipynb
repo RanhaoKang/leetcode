{
 "cells": [
  {
   "cell_type": "markdown",
   "metadata": {},
   "source": [
    "[1156. Swap For Longest Repeated Character Substring](https://leetcode.com/problems/swap-for-longest-repeated-character-substring/)"
   ]
  },
  {
   "cell_type": "code",
   "execution_count": 1,
   "metadata": {},
   "outputs": [],
   "source": [
    "class Solution:\n",
    "    def maxRepOpt1(self, S: str) -> int:\n",
    "        A = [[c, len(list(g))] for c, g in itertools.groupby(S)]\n",
    "        count = collections.Counter(S)\n",
    "        \n",
    "        # extend 1 more\n",
    "        res = max(min(k + 1, count[c]) for c, k in A)\n",
    "        \n",
    "        # merge 2\n",
    "        for i in range(1, len(A) - 1):\n",
    "            # if both sides have the same char and are separated by only 1 char\n",
    "            if A[i - 1][0] == A[i + 1][0] and A[i][1] == 1:\n",
    "                # min here serves the same purpose\n",
    "                res = max(res, min(A[i - 1][1] + A[i + 1][1] + 1, count[A[i + 1][0]]))\n",
    "        return res"
   ]
  },
  {
   "cell_type": "code",
   "execution_count": null,
   "metadata": {},
   "outputs": [],
   "source": []
  }
 ],
 "metadata": {
  "kernelspec": {
   "display_name": "Python 3",
   "language": "python",
   "name": "python3"
  },
  "language_info": {
   "codemirror_mode": {
    "name": "ipython",
    "version": 3
   },
   "file_extension": ".py",
   "mimetype": "text/x-python",
   "name": "python",
   "nbconvert_exporter": "python",
   "pygments_lexer": "ipython3",
   "version": "3.8.1"
  }
 },
 "nbformat": 4,
 "nbformat_minor": 4
}
