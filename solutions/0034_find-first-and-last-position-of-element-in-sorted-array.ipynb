{
 "cells": [
  {
   "cell_type": "markdown",
   "metadata": {},
   "source": [
    "[34. Find First and Last Position of Element in Sorted Array](https://leetcode.com/problems/find-first-and-last-position-of-element-in-sorted-array/)"
   ]
  },
  {
   "cell_type": "code",
   "execution_count": 1,
   "metadata": {},
   "outputs": [],
   "source": [
    "class Solution:\n",
    "    def searchRange(self, nums, target: int):\n",
    "        l, r = 0, len(nums) - 1\n",
    "        while l < r:\n",
    "            m = (l + r) // 2\n",
    "        \n",
    "            if nums[m] == target:\n",
    "                L = m - 1\n",
    "                while L >= l and nums[L] == target:\n",
    "                    L -= 1\n",
    "                R = m + 1\n",
    "                while R <= r and nums[R] == target:\n",
    "                    R += 1\n",
    "                \n",
    "                return [L + 1, R - 1]\n",
    "            elif nums[m] < target:\n",
    "                l = m + 1\n",
    "            else:\n",
    "                r = m - 1\n",
    "        \n",
    "        return [-1, -1]"
   ]
  },
  {
   "cell_type": "markdown",
   "metadata": {},
   "source": [
    "44ms"
   ]
  },
  {
   "cell_type": "code",
   "execution_count": 5,
   "metadata": {},
   "outputs": [],
   "source": [
    "class Solution:\n",
    "    def searchRange(self, nums, target: int):\n",
    "        \n",
    "        def solve(l, r):\n",
    "            if l > r:\n",
    "                return [-1, -1]\n",
    "            \n",
    "            if nums[l] == target == nums[r]:\n",
    "                return [l, r]\n",
    "            \n",
    "            if nums[l] <= target <= nums[r]:\n",
    "                m = (l + r) // 2\n",
    "                l, r = solve(l, m), solve(m + 1, r)\n",
    "                return max(l, r) if -1 in l + r else [l[0], r[1]]\n",
    "            \n",
    "            return [-1, -1]\n",
    "        \n",
    "        return solve(0, len(nums) - 1)"
   ]
  },
  {
   "cell_type": "code",
   "execution_count": 3,
   "metadata": {},
   "outputs": [],
   "source": [
    "import bisect"
   ]
  },
  {
   "cell_type": "code",
   "execution_count": 4,
   "metadata": {},
   "outputs": [
    {
     "name": "stdout",
     "output_type": "stream",
     "text": [
      "Help on module bisect:\n",
      "\n",
      "NAME\n",
      "    bisect - Bisection algorithms.\n",
      "\n",
      "MODULE REFERENCE\n",
      "    https://docs.python.org/3.6/library/bisect\n",
      "    \n",
      "    The following documentation is automatically generated from the Python\n",
      "    source files.  It may be incomplete, incorrect or include features that\n",
      "    are considered implementation detail and may vary between Python\n",
      "    implementations.  When in doubt, consult the module reference at the\n",
      "    location listed above.\n",
      "\n",
      "FUNCTIONS\n",
      "    bisect(...)\n",
      "        Alias for bisect_right().\n",
      "    \n",
      "    bisect_left(...)\n",
      "        bisect_left(a, x[, lo[, hi]]) -> index\n",
      "        \n",
      "        Return the index where to insert item x in list a, assuming a is sorted.\n",
      "        \n",
      "        The return value i is such that all e in a[:i] have e < x, and all e in\n",
      "        a[i:] have e >= x.  So if x already appears in the list, i points just\n",
      "        before the leftmost x already there.\n",
      "        \n",
      "        Optional args lo (default 0) and hi (default len(a)) bound the\n",
      "        slice of a to be searched.\n",
      "    \n",
      "    bisect_right(...)\n",
      "        bisect_right(a, x[, lo[, hi]]) -> index\n",
      "        \n",
      "        Return the index where to insert item x in list a, assuming a is sorted.\n",
      "        \n",
      "        The return value i is such that all e in a[:i] have e <= x, and all e in\n",
      "        a[i:] have e > x.  So if x already appears in the list, i points just\n",
      "        beyond the rightmost x already there\n",
      "        \n",
      "        Optional args lo (default 0) and hi (default len(a)) bound the\n",
      "        slice of a to be searched.\n",
      "    \n",
      "    insort(...)\n",
      "        Alias for insort_right().\n",
      "    \n",
      "    insort_left(...)\n",
      "        insort_left(a, x[, lo[, hi]])\n",
      "        \n",
      "        Insert item x in list a, and keep it sorted assuming a is sorted.\n",
      "        \n",
      "        If x is already in a, insert it to the left of the leftmost x.\n",
      "        \n",
      "        Optional args lo (default 0) and hi (default len(a)) bound the\n",
      "        slice of a to be searched.\n",
      "    \n",
      "    insort_right(...)\n",
      "        insort_right(a, x[, lo[, hi]])\n",
      "        \n",
      "        Insert item x in list a, and keep it sorted assuming a is sorted.\n",
      "        \n",
      "        If x is already in a, insert it to the right of the rightmost x.\n",
      "        \n",
      "        Optional args lo (default 0) and hi (default len(a)) bound the\n",
      "        slice of a to be searched.\n",
      "\n",
      "FILE\n",
      "    /usr/lib/python3.6/bisect.py\n",
      "\n",
      "\n"
     ]
    }
   ],
   "source": [
    "help(bisect)"
   ]
  },
  {
   "cell_type": "code",
   "execution_count": null,
   "metadata": {},
   "outputs": [],
   "source": []
  }
 ],
 "metadata": {
  "kernelspec": {
   "display_name": "Python 3",
   "language": "python",
   "name": "python3"
  },
  "language_info": {
   "codemirror_mode": {
    "name": "ipython",
    "version": 3
   },
   "file_extension": ".py",
   "mimetype": "text/x-python",
   "name": "python",
   "nbconvert_exporter": "python",
   "pygments_lexer": "ipython3",
   "version": "3.6.7"
  }
 },
 "nbformat": 4,
 "nbformat_minor": 2
}
