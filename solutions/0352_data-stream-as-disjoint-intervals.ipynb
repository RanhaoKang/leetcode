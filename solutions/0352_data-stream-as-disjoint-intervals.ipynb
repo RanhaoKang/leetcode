{
 "cells": [
  {
   "cell_type": "markdown",
   "metadata": {},
   "source": [
    "[352. Data Stream as Disjoint Intervals](https://leetcode.com/problems/data-stream-as-disjoint-intervals/)"
   ]
  },
  {
   "cell_type": "code",
   "execution_count": 48,
   "metadata": {},
   "outputs": [],
   "source": [
    "from bisect import bisect\n",
    "\n",
    "class SummaryRanges:\n",
    "\n",
    "    def __init__(self):\n",
    "        \"\"\"\n",
    "        Initialize your data structure here.\n",
    "        \"\"\"\n",
    "        self.A = []\n",
    "\n",
    "    def addNum(self, val: int) -> None:\n",
    "        i = bisect(self.A, [val + 1])\n",
    "\n",
    "        if 0 <= i - 1 < len(self.A) and self.A[i-1][0] <= val <= self.A[i-1][1]:\n",
    "            return\n",
    "        \n",
    "        self.A[i:i] = [[val, val]]\n",
    "        \n",
    "        # merge with next interval\n",
    "        if i + 1 < len(self.A) and val == self.A[i + 1][0] - 1:\n",
    "            self.A[i][1] = self.A[i + 1][1]\n",
    "            self.A[i + 1:i + 2] = []\n",
    "\n",
    "        # merge with prev interval\n",
    "        if i - 1 >= 0 and val == self.A[i - 1][1] + 1:\n",
    "            self.A[i - 1][1] = self.A[i][1]\n",
    "            self.A[i:i + 1] = []\n",
    "\n",
    "    def getIntervals(self):\n",
    "        return self.A\n",
    "\n",
    "\n",
    "# Your SummaryRanges object will be instantiated and called as such:\n",
    "# obj = SummaryRanges()\n",
    "# obj.addNum(val)\n",
    "# param_2 = obj.getIntervals()"
   ]
  },
  {
   "cell_type": "code",
   "execution_count": 49,
   "metadata": {},
   "outputs": [
    {
     "name": "stdout",
     "output_type": "stream",
     "text": [
      "6 [[6, 6]]\n",
      "6 [[6, 6]]\n",
      "0 [[0, 0], [6, 6]]\n",
      "4 [[0, 0], [4, 4], [6, 6]]\n",
      "8 [[0, 0], [4, 4], [6, 6], [8, 8]]\n",
      "7 [[0, 0], [4, 4], [6, 8]]\n",
      "6 [[0, 0], [4, 4], [6, 8]]\n",
      "4 [[0, 0], [4, 4], [6, 8]]\n",
      "7 [[0, 0], [4, 4], [6, 8]]\n",
      "5 [[0, 0], [4, 8]]\n"
     ]
    }
   ],
   "source": [
    "sr = SummaryRanges()\n",
    "for i in [6,6,0,4,8,7,6,4,7,5]:\n",
    "    sr.addNum(i)\n",
    "    print(i, sr.getIntervals())"
   ]
  },
  {
   "cell_type": "code",
   "execution_count": null,
   "metadata": {},
   "outputs": [],
   "source": []
  }
 ],
 "metadata": {
  "kernelspec": {
   "display_name": "Python 3",
   "language": "python",
   "name": "python3"
  },
  "language_info": {
   "codemirror_mode": {
    "name": "ipython",
    "version": 3
   },
   "file_extension": ".py",
   "mimetype": "text/x-python",
   "name": "python",
   "nbconvert_exporter": "python",
   "pygments_lexer": "ipython3",
   "version": "3.8.1"
  }
 },
 "nbformat": 4,
 "nbformat_minor": 4
}
