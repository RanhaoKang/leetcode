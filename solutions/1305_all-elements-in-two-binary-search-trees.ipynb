{
 "cells": [
  {
   "cell_type": "markdown",
   "metadata": {},
   "source": [
    "[1305. All Elements in Two Binary Search Trees](https://leetcode.com/problems/all-elements-in-two-binary-search-trees/)"
   ]
  },
  {
   "cell_type": "markdown",
   "metadata": {},
   "source": [
    "`yield`不知道为什么耗时变多了，TLE了"
   ]
  },
  {
   "cell_type": "code",
   "execution_count": 41,
   "metadata": {},
   "outputs": [],
   "source": [
    "# Definition for a binary tree node.\n",
    "class TreeNode:\n",
    "    def __init__(self, x):\n",
    "        self.val = x\n",
    "        self.left = None\n",
    "        self.right = None\n",
    "\n",
    "class Solution:\n",
    "    def getAllElements(self, root1: TreeNode, root2: TreeNode):\n",
    "        from itertools import chain\n",
    "        def iterate(p):\n",
    "            if p:\n",
    "                yield from iterate(p.left)\n",
    "                yield p.val\n",
    "                yield from iterate(p.right)\n",
    "        \n",
    "        return sorted(chain(iterate(root1), iterate(root2)))"
   ]
  },
  {
   "cell_type": "code",
   "execution_count": 42,
   "metadata": {
    "scrolled": true
   },
   "outputs": [
    {
     "data": {
      "text/plain": [
       "[0, 1, 1, 2, 3, 4]"
      ]
     },
     "execution_count": 42,
     "metadata": {},
     "output_type": "execute_result"
    }
   ],
   "source": [
    "p = TreeNode(2)\n",
    "p.left = TreeNode(1)\n",
    "p.right = TreeNode(4)\n",
    "\n",
    "q = TreeNode(1)\n",
    "q.left = TreeNode(0)\n",
    "q.right = TreeNode(3)\n",
    "\n",
    "Solution().getAllElements(p, q)"
   ]
  },
  {
   "cell_type": "markdown",
   "metadata": {},
   "source": [
    "抄一个用`list`的"
   ]
  },
  {
   "cell_type": "code",
   "execution_count": 43,
   "metadata": {},
   "outputs": [],
   "source": [
    "class Solution:\n",
    "    def getAllElements(self, root1, root2):\n",
    "        values = []\n",
    "        def collect(root):\n",
    "            if root:\n",
    "                collect(root.left)\n",
    "                values.append(root.val)\n",
    "                collect(root.right)\n",
    "        collect(root1)\n",
    "        collect(root2)\n",
    "        return sorted(values)"
   ]
  },
  {
   "cell_type": "code",
   "execution_count": null,
   "metadata": {},
   "outputs": [],
   "source": []
  }
 ],
 "metadata": {
  "kernelspec": {
   "display_name": "Python 3",
   "language": "python",
   "name": "python3"
  },
  "language_info": {
   "codemirror_mode": {
    "name": "ipython",
    "version": 3
   },
   "file_extension": ".py",
   "mimetype": "text/x-python",
   "name": "python",
   "nbconvert_exporter": "python",
   "pygments_lexer": "ipython3",
   "version": "3.8.0b3"
  }
 },
 "nbformat": 4,
 "nbformat_minor": 2
}
