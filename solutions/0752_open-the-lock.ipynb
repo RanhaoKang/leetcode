{
 "cells": [
  {
   "cell_type": "markdown",
   "metadata": {},
   "source": [
    "[752. Open the Lock](https://leetcode.com/problems/open-the-lock/)"
   ]
  },
  {
   "cell_type": "markdown",
   "metadata": {},
   "source": [
    "是一道好评很多的题目\n",
    "- 应用场景很合适，很容易理解需求，比起原型也算是包装得不错\n",
    "- 题目本身是一道图的最短路径问题（把不可达点去除），比较经典"
   ]
  },
  {
   "cell_type": "markdown",
   "metadata": {},
   "source": [
    "1244ms"
   ]
  },
  {
   "cell_type": "code",
   "execution_count": 27,
   "metadata": {},
   "outputs": [],
   "source": [
    "class Solution:\n",
    "    def openLock(self, deadends, target: str) -> int:\n",
    "\n",
    "        from itertools import chain\n",
    "        visited, q = set(deadends), iter([('0000', 0)])\n",
    "        \n",
    "        def successors(s, depth):\n",
    "            for i, c in enumerate(s):\n",
    "                num = int(c)\n",
    "                node = s[:i] + str((num - 1) % 10) + s[i+1:]\n",
    "                if node not in visited:\n",
    "                    yield node, depth + 1\n",
    "                node = s[:i] + str((num + 1) % 10) + s[i+1:]\n",
    "                if node not in visited:\n",
    "                    yield node, depth + 1\n",
    "        \n",
    "        while True:\n",
    "            try:\n",
    "                node, depth = next(q)\n",
    "            except StopIteration as e:\n",
    "                return -1\n",
    "            if node == target:\n",
    "                return depth\n",
    "            if node in visited:\n",
    "                continue\n",
    "            visited.add(node)\n",
    "            q = chain(q, successors(node, depth))\n",
    "        \n",
    "        return -1"
   ]
  },
  {
   "cell_type": "code",
   "execution_count": 28,
   "metadata": {},
   "outputs": [
    {
     "data": {
      "text/plain": [
       "6"
      ]
     },
     "execution_count": 28,
     "metadata": {},
     "output_type": "execute_result"
    }
   ],
   "source": [
    "Solution().openLock([\"0201\",\"0101\",\"0102\",\"1212\",\"2002\"], \"0202\")"
   ]
  },
  {
   "cell_type": "markdown",
   "metadata": {},
   "source": [
    "340ms，为什么！！"
   ]
  },
  {
   "cell_type": "code",
   "execution_count": 29,
   "metadata": {},
   "outputs": [],
   "source": [
    "class Solution:\n",
    "    def openLock(self, deadends, target):\n",
    "        moved, q, cnt, move = set(deadends), [\"0000\"], 0, {str(i): [str((i + 1) % 10), str((i - 1) % 10)] for i in range(10)}\n",
    "        if \"0000\" in moved:\n",
    "            return -1\n",
    "        while q:\n",
    "            new = []\n",
    "            cnt += 1\n",
    "            for s in q:\n",
    "                for i, c in enumerate(s):\n",
    "                    for cur in (s[:i] + move[c][0] + s[i + 1:], s[:i] + move[c][1] + s[i + 1:]):\n",
    "                        if cur not in moved:\n",
    "                            if cur == target:\n",
    "                                return cnt\n",
    "                            new.append(cur)\n",
    "                            moved.add(cur)\n",
    "            q = new\n",
    "        return -1"
   ]
  },
  {
   "cell_type": "code",
   "execution_count": null,
   "metadata": {},
   "outputs": [],
   "source": []
  }
 ],
 "metadata": {
  "kernelspec": {
   "display_name": "Python 3",
   "language": "python",
   "name": "python3"
  },
  "language_info": {
   "codemirror_mode": {
    "name": "ipython",
    "version": 3
   },
   "file_extension": ".py",
   "mimetype": "text/x-python",
   "name": "python",
   "nbconvert_exporter": "python",
   "pygments_lexer": "ipython3",
   "version": "3.8.0b3"
  }
 },
 "nbformat": 4,
 "nbformat_minor": 2
}
