{
 "cells": [
  {
   "cell_type": "markdown",
   "metadata": {},
   "source": [
    "[229. Majority Element II](https://leetcode.com/problems/majority-element-ii/)"
   ]
  },
  {
   "cell_type": "code",
   "execution_count": 8,
   "metadata": {},
   "outputs": [],
   "source": [
    "class Solution:\n",
    "    def majorityElement(self, nums):\n",
    "        from collections import Counter\n",
    "        cnt = Counter()\n",
    "        for n in nums:\n",
    "            cnt[n] += 1\n",
    "            if len(cnt) == 3:\n",
    "                cnt -= Counter(set(cnt))\n",
    "        return [n for n in cnt if nums.count(n) > len(nums) // 3]"
   ]
  },
  {
   "cell_type": "code",
   "execution_count": null,
   "metadata": {},
   "outputs": [],
   "source": []
  }
 ],
 "metadata": {
  "kernelspec": {
   "display_name": "Python 3",
   "language": "python",
   "name": "python3"
  },
  "language_info": {
   "codemirror_mode": {
    "name": "ipython",
    "version": 3
   },
   "file_extension": ".py",
   "mimetype": "text/x-python",
   "name": "python",
   "nbconvert_exporter": "python",
   "pygments_lexer": "ipython3",
   "version": "3.8.1"
  }
 },
 "nbformat": 4,
 "nbformat_minor": 2
}
