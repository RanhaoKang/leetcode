{
 "cells": [
  {
   "cell_type": "markdown",
   "metadata": {},
   "source": [
    "[890. Find and Replace Pattern](https://leetcode.com/problems/find-and-replace-pattern/)"
   ]
  },
  {
   "cell_type": "code",
   "execution_count": 3,
   "metadata": {},
   "outputs": [],
   "source": [
    "class Solution:\n",
    "    def findAndReplacePattern(self, words, pattern: str):\n",
    "        \n",
    "        def check(word):\n",
    "            word_to_pattern = {}\n",
    "            pattern_to_word = {}\n",
    "            for i, j in zip(word, pattern):\n",
    "                if j not in pattern_to_word and i not in word_to_pattern:\n",
    "                    word_to_pattern[i] = j\n",
    "                    pattern_to_word[j] = i\n",
    "                elif j in pattern_to_word and i in word_to_pattern:\n",
    "                    if j != word_to_pattern[i] or i != pattern_to_word[j]:\n",
    "                        return False\n",
    "                else:\n",
    "                    return False\n",
    "            return True\n",
    "    \n",
    "        return [word for word in words if check(word)]\n",
    "                    "
   ]
  },
  {
   "cell_type": "code",
   "execution_count": 4,
   "metadata": {},
   "outputs": [
    {
     "data": {
      "text/plain": [
       "['mee', 'aqq']"
      ]
     },
     "execution_count": 4,
     "metadata": {},
     "output_type": "execute_result"
    }
   ],
   "source": [
    "Solution().findAndReplacePattern([\"abc\",\"deq\",\"mee\",\"aqq\",\"dkd\",\"ccc\"], 'abb')"
   ]
  },
  {
   "cell_type": "code",
   "execution_count": null,
   "metadata": {},
   "outputs": [],
   "source": []
  }
 ],
 "metadata": {
  "kernelspec": {
   "display_name": "Python 3",
   "language": "python",
   "name": "python3"
  },
  "language_info": {
   "codemirror_mode": {
    "name": "ipython",
    "version": 3
   },
   "file_extension": ".py",
   "mimetype": "text/x-python",
   "name": "python",
   "nbconvert_exporter": "python",
   "pygments_lexer": "ipython3",
   "version": "3.6.7"
  }
 },
 "nbformat": 4,
 "nbformat_minor": 2
}
