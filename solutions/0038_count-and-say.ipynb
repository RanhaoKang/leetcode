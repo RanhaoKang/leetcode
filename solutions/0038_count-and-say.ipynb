{
 "cells": [
  {
   "cell_type": "markdown",
   "metadata": {},
   "source": [
    "[38. Count and Say](https://leetcode.com/problems/count-and-say/)"
   ]
  },
  {
   "cell_type": "markdown",
   "metadata": {},
   "source": [
    "5000多踩名不虚传, 实在搞不懂example, 抄了一个"
   ]
  },
  {
   "cell_type": "code",
   "execution_count": null,
   "metadata": {},
   "outputs": [],
   "source": [
    "class Solution:\n",
    "    def countAndSay(self, n: int) -> str:\n",
    "        s = '1'\n",
    "        for _ in range(n - 1):\n",
    "            s = re.sub(r'(.)\\1*', lambda m: str(len(m.group(0))) + m.group(1), s)\n",
    "        return s"
   ]
  }
 ],
 "metadata": {
  "kernelspec": {
   "display_name": "Python 3",
   "language": "python",
   "name": "python3"
  },
  "language_info": {
   "codemirror_mode": {
    "name": "ipython",
    "version": 3
   },
   "file_extension": ".py",
   "mimetype": "text/x-python",
   "name": "python",
   "nbconvert_exporter": "python",
   "pygments_lexer": "ipython3",
   "version": "3.6.7"
  }
 },
 "nbformat": 4,
 "nbformat_minor": 2
}
