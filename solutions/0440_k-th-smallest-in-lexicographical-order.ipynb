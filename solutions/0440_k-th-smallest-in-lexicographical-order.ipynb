{
 "cells": [
  {
   "cell_type": "markdown",
   "metadata": {},
   "source": [
    "[440. K-th Smallest in Lexicographical Order](https://leetcode.com/problems/k-th-smallest-in-lexicographical-order/)"
   ]
  },
  {
   "cell_type": "code",
   "execution_count": 1,
   "metadata": {},
   "outputs": [],
   "source": [
    "class Solution:\n",
    "    def findKthNumber(self, n: int, k: int) -> int:\n",
    "        result = 1;\n",
    "        k -= 1\n",
    "        while k > 0:\n",
    "            count = 0\n",
    "            interval = [result, result+1]\n",
    "            while interval[0] <= n:\n",
    "                count += (min(n+1, interval[1]) - interval[0])\n",
    "                interval = [10*interval[0], 10*interval[1]]\n",
    "            \n",
    "            if k >= count:\n",
    "                result += 1\n",
    "                k -= count\n",
    "            else:\n",
    "                result *= 10\n",
    "                k -= 1\n",
    "        return result"
   ]
  },
  {
   "cell_type": "code",
   "execution_count": null,
   "metadata": {},
   "outputs": [],
   "source": []
  }
 ],
 "metadata": {
  "kernelspec": {
   "display_name": "Python 3",
   "language": "python",
   "name": "python3"
  },
  "language_info": {
   "codemirror_mode": {
    "name": "ipython",
    "version": 3
   },
   "file_extension": ".py",
   "mimetype": "text/x-python",
   "name": "python",
   "nbconvert_exporter": "python",
   "pygments_lexer": "ipython3",
   "version": "3.8.1"
  }
 },
 "nbformat": 4,
 "nbformat_minor": 4
}
