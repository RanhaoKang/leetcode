{
 "cells": [
  {
   "cell_type": "markdown",
   "metadata": {},
   "source": [
    "[572. Subtree of Another Tree](https://leetcode.com/problems/subtree-of-another-tree/)"
   ]
  },
  {
   "cell_type": "code",
   "execution_count": 22,
   "metadata": {},
   "outputs": [],
   "source": [
    "# Definition for a binary tree node.\n",
    "class TreeNode:\n",
    "    def __init__(self, x):\n",
    "        self.val = x\n",
    "        self.left = None\n",
    "        self.right = None\n",
    "\n",
    "class Solution:\n",
    "    def isSubtree(self, s: TreeNode, t: TreeNode) -> bool:\n",
    "        \n",
    "        def isMatch(s, t):\n",
    "            if not(s and t):\n",
    "                return s is t\n",
    "            return (s.val == t.val and \n",
    "                    isMatch(s.left, t.left) and \n",
    "                    isMatch(s.right, t.right))\n",
    "        \n",
    "        if isMatch(s, t): return True\n",
    "        if not s: return False\n",
    "        return self.isSubtree(s.left, t) or self.isSubtree(s.right, t)"
   ]
  },
  {
   "cell_type": "code",
   "execution_count": 21,
   "metadata": {},
   "outputs": [
    {
     "name": "stdout",
     "output_type": "stream",
     "text": [
      "<__main__.TreeNode object at 0x7fb888191b00> <__main__.TreeNode object at 0x7fb888191a58>\n",
      "<__main__.TreeNode object at 0x7fb8881e7da0> <__main__.TreeNode object at 0x7fb888191a58>\n",
      "<__main__.TreeNode object at 0x7fb88820f390> <__main__.TreeNode object at 0x7fb8881e7b00>\n",
      "<__main__.TreeNode object at 0x7fb888191a20> None\n",
      "<__main__.TreeNode object at 0x7fb888191a20> <__main__.TreeNode object at 0x7fb8881e7b00>\n",
      "None <__main__.TreeNode object at 0x7fb8881e7b00>\n",
      "None <__main__.TreeNode object at 0x7fb8881e7b00>\n",
      "None <__main__.TreeNode object at 0x7fb8881e7b00>\n",
      "<__main__.TreeNode object at 0x7fb88820f390> <__main__.TreeNode object at 0x7fb888191a58>\n",
      "<__main__.TreeNode object at 0x7fb888191a20> <__main__.TreeNode object at 0x7fb888191a58>\n",
      "None <__main__.TreeNode object at 0x7fb888191a58>\n",
      "None <__main__.TreeNode object at 0x7fb888191a58>\n",
      "None <__main__.TreeNode object at 0x7fb888191a58>\n",
      "<__main__.TreeNode object at 0x7fb88820fb00> <__main__.TreeNode object at 0x7fb888191a58>\n",
      "None <__main__.TreeNode object at 0x7fb888191a58>\n",
      "None <__main__.TreeNode object at 0x7fb888191a58>\n",
      "<__main__.TreeNode object at 0x7fb888183d30> <__main__.TreeNode object at 0x7fb888191a58>\n",
      "None <__main__.TreeNode object at 0x7fb888191a58>\n",
      "None <__main__.TreeNode object at 0x7fb888191a58>\n"
     ]
    },
    {
     "data": {
      "text/plain": [
       "False"
      ]
     },
     "execution_count": 21,
     "metadata": {},
     "output_type": "execute_result"
    }
   ],
   "source": [
    "s = TreeNode(3)\n",
    "s.left = TreeNode(4)\n",
    "s.right = TreeNode(5)\n",
    "s.left.left = TreeNode(1)\n",
    "s.left.right = TreeNode(2)\n",
    "s.left.left.left = TreeNode(0)\n",
    "\n",
    "t = TreeNode(4)\n",
    "t.left = TreeNode(1)\n",
    "t.right = TreeNode(2)\n",
    "\n",
    "Solution().isSubtree(s, t)"
   ]
  },
  {
   "cell_type": "code",
   "execution_count": 20,
   "metadata": {},
   "outputs": [
    {
     "name": "stdout",
     "output_type": "stream",
     "text": [
      "<__main__.TreeNode object at 0x7fb888191828> <__main__.TreeNode object at 0x7fb888191860>\n",
      "<__main__.TreeNode object at 0x7fb88820f390> <__main__.TreeNode object at 0x7fb8881e7b00>\n",
      "<__main__.TreeNode object at 0x7fb88820fb00> <__main__.TreeNode object at 0x7fb8881e7b00>\n",
      "None None\n",
      "None <__main__.TreeNode object at 0x7fb8881e7b00>\n",
      "None <__main__.TreeNode object at 0x7fb8881e7b00>\n",
      "None <__main__.TreeNode object at 0x7fb8881e7b00>\n",
      "<__main__.TreeNode object at 0x7fb88820f390> <__main__.TreeNode object at 0x7fb888191860>\n",
      "<__main__.TreeNode object at 0x7fb88820fb00> <__main__.TreeNode object at 0x7fb888191860>\n",
      "None <__main__.TreeNode object at 0x7fb888191860>\n",
      "None <__main__.TreeNode object at 0x7fb888191860>\n",
      "None <__main__.TreeNode object at 0x7fb888191860>\n",
      "<__main__.TreeNode object at 0x7fb888183d30> <__main__.TreeNode object at 0x7fb888191860>\n",
      "<__main__.TreeNode object at 0x7fb8881e7da0> <__main__.TreeNode object at 0x7fb888191860>\n",
      "None <__main__.TreeNode object at 0x7fb888191860>\n",
      "None <__main__.TreeNode object at 0x7fb888191860>\n",
      "None <__main__.TreeNode object at 0x7fb888191860>\n"
     ]
    },
    {
     "data": {
      "text/plain": [
       "False"
      ]
     },
     "execution_count": 20,
     "metadata": {},
     "output_type": "execute_result"
    }
   ],
   "source": [
    "s = TreeNode(3)\n",
    "s.left = TreeNode(4)\n",
    "s.right = TreeNode(5)\n",
    "s.left.left = TreeNode(1)\n",
    "s.right.left = TreeNode(2)\n",
    "\n",
    "t = TreeNode(3)\n",
    "t.left = TreeNode(1)\n",
    "t.right = TreeNode(2)\n",
    "\n",
    "Solution().isSubtree(s, t)"
   ]
  },
  {
   "cell_type": "code",
   "execution_count": null,
   "metadata": {},
   "outputs": [],
   "source": []
  }
 ],
 "metadata": {
  "kernelspec": {
   "display_name": "Python 3",
   "language": "python",
   "name": "python3"
  },
  "language_info": {
   "codemirror_mode": {
    "name": "ipython",
    "version": 3
   },
   "file_extension": ".py",
   "mimetype": "text/x-python",
   "name": "python",
   "nbconvert_exporter": "python",
   "pygments_lexer": "ipython3",
   "version": "3.6.7"
  }
 },
 "nbformat": 4,
 "nbformat_minor": 2
}
