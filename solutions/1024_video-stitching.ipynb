{
 "cells": [
  {
   "cell_type": "markdown",
   "metadata": {},
   "source": [
    "[1024. Video Stitching](https://leetcode.com/problems/video-stitching/)"
   ]
  },
  {
   "cell_type": "markdown",
   "metadata": {},
   "source": [
    "将`clips`按`start`排序, 尽可能选用长的片段, `[0, 9]`\n",
    "\n",
    "\n",
    "\n",
    "- `last_end`记录\"不得不选用时的结束时间\"\n",
    "- "
   ]
  },
  {
   "cell_type": "code",
   "execution_count": 21,
   "metadata": {},
   "outputs": [],
   "source": [
    "class Solution:\n",
    "    def videoStitching(self, clips, T: int) -> int:\n",
    "        last_end = -1\n",
    "        total_end = cnt = 0\n",
    "        for start, end in sorted(clips, key = lambda x: (x[0], x[1])):\n",
    "            # 已经完成或无法合并\n",
    "            if total_end >= T or start > total_end:\n",
    "                break\n",
    "\n",
    "            # 不选用的话就会出现漏掉的帧, 先选上\n",
    "            if start > last_end:\n",
    "                cnt += 1\n",
    "                last_end = total_end\n",
    "            \n",
    "            # 不管是选用了更长的片段或新增了片段, 更新可以cover的区间\n",
    "            total_end = max(total_end, end)\n",
    "        \n",
    "        return cnt if total_end >= T else -1"
   ]
  },
  {
   "cell_type": "code",
   "execution_count": 22,
   "metadata": {},
   "outputs": [
    {
     "data": {
      "text/plain": [
       "3"
      ]
     },
     "execution_count": 22,
     "metadata": {},
     "output_type": "execute_result"
    }
   ],
   "source": [
    "Solution().videoStitching([[0,2],[4,6],[8,10],[1,9],[1,5],[5,9]], 10)"
   ]
  },
  {
   "cell_type": "code",
   "execution_count": null,
   "metadata": {},
   "outputs": [],
   "source": []
  }
 ],
 "metadata": {
  "kernelspec": {
   "display_name": "Python 3",
   "language": "python",
   "name": "python3"
  },
  "language_info": {
   "codemirror_mode": {
    "name": "ipython",
    "version": 3
   },
   "file_extension": ".py",
   "mimetype": "text/x-python",
   "name": "python",
   "nbconvert_exporter": "python",
   "pygments_lexer": "ipython3",
   "version": "3.6.7"
  }
 },
 "nbformat": 4,
 "nbformat_minor": 2
}
