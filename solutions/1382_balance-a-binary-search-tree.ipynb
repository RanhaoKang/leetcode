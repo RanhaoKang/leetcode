{
 "cells": [
  {
   "cell_type": "markdown",
   "metadata": {},
   "source": [
    "[1382. Balance a Binary Search Tree](https://leetcode.com/problems/balance-a-binary-search-tree/)"
   ]
  },
  {
   "cell_type": "code",
   "execution_count": 21,
   "metadata": {},
   "outputs": [],
   "source": [
    "# Definition for a binary tree node.\n",
    "class TreeNode:\n",
    "    def __init__(self, x):\n",
    "        self.val = x\n",
    "        self.left = None\n",
    "        self.right = None\n",
    "\n",
    "class Solution:\n",
    "    def balanceBST(self, root: TreeNode) -> TreeNode:\n",
    "        def inorder(node):\n",
    "            if node:\n",
    "                yield from inorder(node.left)\n",
    "                yield node\n",
    "                yield from inorder(node.right)\n",
    "        \n",
    "        nodes = list(inorder(root))\n",
    "        \n",
    "        def build(l, r):\n",
    "            if l > r:\n",
    "                return None\n",
    "            m = (l + r) // 2\n",
    "            node = nodes[m]\n",
    "            node.left = build(l, m - 1)\n",
    "            node.right = build(m + 1, r)\n",
    "            return node\n",
    "    \n",
    "        return build(0, len(nodes)-1)"
   ]
  },
  {
   "cell_type": "code",
   "execution_count": 22,
   "metadata": {},
   "outputs": [
    {
     "name": "stdout",
     "output_type": "stream",
     "text": [
      "2\n",
      "1\n",
      "3\n",
      "4\n"
     ]
    }
   ],
   "source": [
    "p = TreeNode(1)\n",
    "p.right = TreeNode(2)\n",
    "p.right.right = TreeNode(3)\n",
    "p.right.right.right = TreeNode(4)\n",
    "\n",
    "bfs = [Solution().balanceBST(p)]\n",
    "for node in bfs:\n",
    "    print(node.val)\n",
    "    if node.left: bfs.append(node.left)\n",
    "    if node.right: bfs.append(node.right)"
   ]
  },
  {
   "cell_type": "code",
   "execution_count": null,
   "metadata": {},
   "outputs": [],
   "source": []
  }
 ],
 "metadata": {
  "kernelspec": {
   "display_name": "Python 3",
   "language": "python",
   "name": "python3"
  },
  "language_info": {
   "codemirror_mode": {
    "name": "ipython",
    "version": 3
   },
   "file_extension": ".py",
   "mimetype": "text/x-python",
   "name": "python",
   "nbconvert_exporter": "python",
   "pygments_lexer": "ipython3",
   "version": "3.8.1"
  }
 },
 "nbformat": 4,
 "nbformat_minor": 4
}
