{
 "cells": [
  {
   "cell_type": "markdown",
   "metadata": {},
   "source": [
    "[1090. Largest Values From Labels](https://leetcode.com/problems/largest-values-from-labels/)"
   ]
  },
  {
   "cell_type": "markdown",
   "metadata": {},
   "source": [
    "花里胡哨，贪心就好\n",
    "\n",
    "虽然有`use_limit`的限制，但同`label`我们依然希望使用更大的"
   ]
  },
  {
   "cell_type": "code",
   "execution_count": 1,
   "metadata": {},
   "outputs": [],
   "source": [
    "class Solution:\n",
    "    def largestValsFromLabels(self, values, labels, num_wanted, use_limit):\n",
    "        ct, res = 0, 0\n",
    "        label_counts = collections.defaultdict(int)\n",
    "\n",
    "        for value, label in sorted(zip(values, labels), reverse=True):\n",
    "            \n",
    "            if ct == num_wanted: break\n",
    "            if label_counts[label] == use_limit: continue\n",
    "            \n",
    "            ct += 1\n",
    "            res += value\n",
    "            label_counts[label] += 1\n",
    "\n",
    "        return res"
   ]
  },
  {
   "cell_type": "code",
   "execution_count": null,
   "metadata": {},
   "outputs": [],
   "source": []
  }
 ],
 "metadata": {
  "kernelspec": {
   "display_name": "Python 3",
   "language": "python",
   "name": "python3"
  },
  "language_info": {
   "codemirror_mode": {
    "name": "ipython",
    "version": 3
   },
   "file_extension": ".py",
   "mimetype": "text/x-python",
   "name": "python",
   "nbconvert_exporter": "python",
   "pygments_lexer": "ipython3",
   "version": "3.8.1"
  }
 },
 "nbformat": 4,
 "nbformat_minor": 4
}
