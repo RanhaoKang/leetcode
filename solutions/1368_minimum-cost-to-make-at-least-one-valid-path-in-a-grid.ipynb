{
 "cells": [
  {
   "cell_type": "markdown",
   "metadata": {},
   "source": [
    "[1368. Minimum Cost to Make at Least One Valid Path in a Grid](https://leetcode.com/problems/minimum-cost-to-make-at-least-one-valid-path-in-a-grid/)"
   ]
  },
  {
   "cell_type": "markdown",
   "metadata": {},
   "source": [
    "单纯BFS解决不了按`cost`优先"
   ]
  },
  {
   "cell_type": "code",
   "execution_count": 9,
   "metadata": {},
   "outputs": [],
   "source": [
    "class Solution:\n",
    "    def minCost(self, A) -> int:\n",
    "        H, W = len(A), len(A and A[0])\n",
    "        directions = [(0,1), (0,-1), (1,0), (-1,0)]\n",
    "        costs = {(0,0): 0}\n",
    "        \n",
    "        # bfs[i] = (i, j, cost)\n",
    "        bfs = [(0, 0, 0)]\n",
    "        for i, j, cost in bfs:\n",
    "            for dy, dx in directions:\n",
    "                I, J = i + dy, j + dx\n",
    "                if (I, J) not in costs and 0 <= I < H and 0 <= J < W:\n",
    "                    costs[I, J] = cost + ((dy, dx) == directions[A[i][j] - 1])\n",
    "                    bfs.append((I, J, costs[I, J]))\n",
    "         \n",
    "        return costs[H - 1, W - 1]"
   ]
  },
  {
   "cell_type": "code",
   "execution_count": 10,
   "metadata": {},
   "outputs": [
    {
     "data": {
      "text/plain": [
       "3"
      ]
     },
     "execution_count": 10,
     "metadata": {},
     "output_type": "execute_result"
    }
   ],
   "source": [
    "Solution().minCost([[1,1,1,1],[2,2,2,2],[1,1,1,1],[2,2,2,2]])"
   ]
  },
  {
   "cell_type": "code",
   "execution_count": 12,
   "metadata": {},
   "outputs": [
    {
     "data": {
      "text/plain": [
       "3"
      ]
     },
     "execution_count": 12,
     "metadata": {},
     "output_type": "execute_result"
    }
   ],
   "source": [
    "Solution().minCost([[1,1,3],[3,2,2],[1,1,4]])"
   ]
  },
  {
   "cell_type": "code",
   "execution_count": null,
   "metadata": {},
   "outputs": [],
   "source": [
    "class Solution:\n",
    "    def minCost(self, A) -> int:\n",
    "        n, m, inf, k = len(A), len(A[0]), 10**9, 0\n",
    "        dp = [[inf] * m for i in range(n)]\n",
    "        dirt = [[0, 1], [0, -1], [1, 0], [-1, 0]]\n",
    "        bfs = []\n",
    "\n",
    "        def dfs(x, y):\n",
    "            if not (0 <= x < n and 0 <= y < m and dp[x][y] == inf):\n",
    "                return\n",
    "            dp[x][y] = k\n",
    "            bfs.append([x, y])\n",
    "            dfs(x + dirt[A[x][y] - 1][0], y + dirt[A[x][y] - 1][1])\n",
    "\n",
    "        dfs(0, 0)\n",
    "        while bfs:\n",
    "            k += 1\n",
    "            bfs, bfs2 = [], bfs\n",
    "            [dfs(x + i, y + j) for x, y in bfs2 for i, j in dirt]\n",
    "        return dp[-1][-1]"
   ]
  }
 ],
 "metadata": {
  "kernelspec": {
   "display_name": "Python 3",
   "language": "python",
   "name": "python3"
  },
  "language_info": {
   "codemirror_mode": {
    "name": "ipython",
    "version": 3
   },
   "file_extension": ".py",
   "mimetype": "text/x-python",
   "name": "python",
   "nbconvert_exporter": "python",
   "pygments_lexer": "ipython3",
   "version": "3.8.1"
  }
 },
 "nbformat": 4,
 "nbformat_minor": 4
}
