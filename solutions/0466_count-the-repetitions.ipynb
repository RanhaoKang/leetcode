{
 "cells": [
  {
   "cell_type": "markdown",
   "metadata": {},
   "source": [
    "[466. Count The Repetitions](https://leetcode.com/problems/count-the-repetitions/)"
   ]
  },
  {
   "cell_type": "markdown",
   "metadata": {},
   "source": [
    "Brute-Force, TLE"
   ]
  },
  {
   "cell_type": "code",
   "execution_count": 22,
   "metadata": {},
   "outputs": [],
   "source": [
    "class Solution:\n",
    "    def getMaxRepetitions(self, s1: str, n1: int, s2: str, n2: int) -> int:\n",
    "        from itertools import cycle\n",
    "        it = iter(s1 * n1)\n",
    "        for i, c in enumerate(cycle(s2)):\n",
    "            if c not in it:\n",
    "                return i // len(s2) // n2"
   ]
  },
  {
   "cell_type": "code",
   "execution_count": 23,
   "metadata": {},
   "outputs": [
    {
     "data": {
      "text/plain": [
       "2"
      ]
     },
     "execution_count": 23,
     "metadata": {},
     "output_type": "execute_result"
    }
   ],
   "source": [
    "Solution().getMaxRepetitions('acb',4,'ab',2)"
   ]
  },
  {
   "cell_type": "markdown",
   "metadata": {},
   "source": [
    "抄的"
   ]
  },
  {
   "cell_type": "code",
   "execution_count": 63,
   "metadata": {},
   "outputs": [],
   "source": [
    "class Solution(object):\n",
    "    def getMaxRepetitions(self, s1, n1, s2, n2):\n",
    "        start = {} # s2_idx : s1_round, s2_round\n",
    "        s1_round, s2_round, s2_idx = 0, 0, 0\n",
    "        while s1_round < n1:\n",
    "            s1_round += 1\n",
    "            for ch in s1:\n",
    "                if ch == s2[s2_idx]:\n",
    "                    s2_idx += 1\n",
    "                    if s2_idx == len(s2):\n",
    "                        s2_round += 1\n",
    "                        s2_idx = 0\n",
    "            if s2_idx in start:\n",
    "                prev_s1_round, prev_s2_round = start[s2_idx]\n",
    "                circle_s1_round, circle_s2_round = s1_round - prev_s1_round, s2_round - prev_s2_round\n",
    "                res = (n1 - prev_s1_round) // circle_s1_round * circle_s2_round\n",
    "                left_s1_round = (n1 - prev_s1_round) % circle_s1_round + prev_s1_round\n",
    "                for key, val in start.items():\n",
    "                    if val[0] == left_s1_round:\n",
    "                        res += val[1]\n",
    "                        break\n",
    "                return res // n2\n",
    "            else:\n",
    "                start[s2_idx] = (s1_round, s2_round)\n",
    "        return s2_round // n2"
   ]
  },
  {
   "cell_type": "code",
   "execution_count": 65,
   "metadata": {},
   "outputs": [
    {
     "data": {
      "text/plain": [
       "2"
      ]
     },
     "execution_count": 65,
     "metadata": {},
     "output_type": "execute_result"
    }
   ],
   "source": [
    "Solution().getMaxRepetitions('acb',4,'ab',2)"
   ]
  },
  {
   "cell_type": "markdown",
   "metadata": {},
   "source": [
    "我有一个梦想！"
   ]
  },
  {
   "cell_type": "code",
   "execution_count": 157,
   "metadata": {},
   "outputs": [],
   "source": [
    "class Solution:\n",
    "    def getMaxRepetitions(self, s1: str, n1: int, s2: str, n2: int) -> int:\n",
    "        self.m, N1, N2 = 1, len(s1), len(s2)\n",
    "        it = iter(c for self.m, c in enumerate(cycle(s1)))\n",
    "\n",
    "        any(all(c in it for c in s2) and self.m % N1 == 0 for self.n in range(1, n2 + 1))\n",
    "               \n",
    "        print(self.m, self.n)\n",
    "        from math import gcd\n",
    "        return self.m * n1 // gcd(self.m, n1) // self.n\n",
    "    \n",
    "    \n",
    "    "
   ]
  },
  {
   "cell_type": "code",
   "execution_count": 158,
   "metadata": {},
   "outputs": [
    {
     "name": "stdout",
     "output_type": "stream",
     "text": [
      "5 2\n"
     ]
    },
    {
     "data": {
      "text/plain": [
       "10"
      ]
     },
     "execution_count": 158,
     "metadata": {},
     "output_type": "execute_result"
    }
   ],
   "source": [
    "Solution().getMaxRepetitions('acb',4,'ab',2)"
   ]
  },
  {
   "cell_type": "code",
   "execution_count": 159,
   "metadata": {},
   "outputs": [
    {
     "name": "stdout",
     "output_type": "stream",
     "text": [
      "4 1\n"
     ]
    },
    {
     "data": {
      "text/plain": [
       "44"
      ]
     },
     "execution_count": 159,
     "metadata": {},
     "output_type": "execute_result"
    }
   ],
   "source": [
    "Solution().getMaxRepetitions('baba',11,'baab',1)"
   ]
  },
  {
   "cell_type": "code",
   "execution_count": 120,
   "metadata": {},
   "outputs": [],
   "source": [
    "from math import gcd"
   ]
  },
  {
   "cell_type": "code",
   "execution_count": 121,
   "metadata": {},
   "outputs": [
    {
     "data": {
      "text/plain": [
       "1"
      ]
     },
     "execution_count": 121,
     "metadata": {},
     "output_type": "execute_result"
    }
   ],
   "source": [
    "gcd(11, 4)"
   ]
  },
  {
   "cell_type": "code",
   "execution_count": null,
   "metadata": {},
   "outputs": [],
   "source": []
  }
 ],
 "metadata": {
  "kernelspec": {
   "display_name": "Python 3",
   "language": "python",
   "name": "python3"
  },
  "language_info": {
   "codemirror_mode": {
    "name": "ipython",
    "version": 3
   },
   "file_extension": ".py",
   "mimetype": "text/x-python",
   "name": "python",
   "nbconvert_exporter": "python",
   "pygments_lexer": "ipython3",
   "version": "3.8.1"
  }
 },
 "nbformat": 4,
 "nbformat_minor": 4
}
