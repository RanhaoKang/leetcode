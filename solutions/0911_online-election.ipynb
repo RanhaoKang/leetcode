{
 "cells": [
  {
   "cell_type": "markdown",
   "metadata": {},
   "source": [
    "[911. Online Election](https://leetcode.com/problems/online-election/)"
   ]
  },
  {
   "cell_type": "code",
   "execution_count": 1,
   "metadata": {},
   "outputs": [],
   "source": [
    "import bisect, collections\n",
    "\n",
    "class TopVotedCandidate:\n",
    "    def __init__(self, persons, times):\n",
    "        self.A = []\n",
    "        count = collections.Counter()\n",
    "        leader, m = None, 0  # leader, num votes for leader\n",
    "\n",
    "        for p, t in zip(persons, times):\n",
    "            count[p] += 1\n",
    "            c = count[p]\n",
    "            if c >= m:\n",
    "                if p != leader:  # lead change\n",
    "                    leader = p\n",
    "                    self.A.append((t, leader))\n",
    "\n",
    "                if c > m:\n",
    "                    m = c\n",
    "\n",
    "    def q(self, t):\n",
    "        i = bisect.bisect(self.A, (t, float('inf')), 1)\n",
    "        return self.A[i-1][1]"
   ]
  },
  {
   "cell_type": "code",
   "execution_count": null,
   "metadata": {},
   "outputs": [],
   "source": []
  }
 ],
 "metadata": {
  "kernelspec": {
   "display_name": "Python 3",
   "language": "python",
   "name": "python3"
  },
  "language_info": {
   "codemirror_mode": {
    "name": "ipython",
    "version": 3
   },
   "file_extension": ".py",
   "mimetype": "text/x-python",
   "name": "python",
   "nbconvert_exporter": "python",
   "pygments_lexer": "ipython3",
   "version": "3.8.1"
  }
 },
 "nbformat": 4,
 "nbformat_minor": 4
}
