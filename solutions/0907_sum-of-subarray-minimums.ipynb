{
 "cells": [
  {
   "cell_type": "markdown",
   "metadata": {},
   "source": [
    "[907. Sum of Subarray Minimums](https://leetcode.com/problems/sum-of-subarray-minimums/submissions/)"
   ]
  },
  {
   "cell_type": "markdown",
   "metadata": {},
   "source": [
    "每个subarray的最小值求和"
   ]
  },
  {
   "cell_type": "markdown",
   "metadata": {},
   "source": [
    "naive解当然是遍历每个subarray, 高级一点应该考虑每个数对于结果的贡献值"
   ]
  },
  {
   "cell_type": "code",
   "execution_count": null,
   "metadata": {},
   "outputs": [],
   "source": [
    "from collections import deque\n",
    "class Solution:\n",
    "    def sumSubarrayMins(self, A) -> int:\n",
    "        def get_length(nums):\n",
    "            stack = deque()\n",
    "            res = []\n",
    "            \n",
    "            for num in nums:\n",
    "                while stack and stack[-1] \n",
    "                res.append(len(stack))\n",
    "            \n",
    "            \n",
    "            \n",
    "        left = get_length(nums)\n",
    "        right = get_length(nums[::-1])\n",
    "        print(left, right, sep = '\\n')"
   ]
  }
 ],
 "metadata": {
  "kernelspec": {
   "display_name": "Python 3",
   "language": "python",
   "name": "python3"
  },
  "language_info": {
   "codemirror_mode": {
    "name": "ipython",
    "version": 3
   },
   "file_extension": ".py",
   "mimetype": "text/x-python",
   "name": "python",
   "nbconvert_exporter": "python",
   "pygments_lexer": "ipython3",
   "version": "3.6.7"
  }
 },
 "nbformat": 4,
 "nbformat_minor": 2
}
