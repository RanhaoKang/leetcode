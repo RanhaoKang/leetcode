{
 "cells": [
  {
   "cell_type": "markdown",
   "metadata": {},
   "source": [
    "[907. Sum of Subarray Minimums](https://leetcode.com/problems/sum-of-subarray-minimums/submissions/)"
   ]
  },
  {
   "cell_type": "markdown",
   "metadata": {},
   "source": [
    "每个subarray的最小值求和"
   ]
  },
  {
   "cell_type": "markdown",
   "metadata": {},
   "source": [
    "naive解当然是遍历每个subarray, 高级一点应该考虑每个数对于结果的贡献值"
   ]
  },
  {
   "cell_type": "code",
   "execution_count": 1,
   "metadata": {},
   "outputs": [],
   "source": [
    "class Solution:\n",
    "    def sumSubarrayMins(self, A) -> int:\n",
    "        MOD = 10 ** 9 + 7\n",
    "        \n",
    "        # stack[i] = (x, cnt), 上一个\n",
    "        stack = []\n",
    "        res = dot = 0\n",
    "        for i, y in enumerate(A):\n",
    "            cnt = 1\n",
    "            while stack and stack[-1][0] >= y:\n",
    "                x, c = stack.pop()\n",
    "                cnt += c\n",
    "                dot -= x * c\n",
    "            \n",
    "            stack.append((y, cnt))\n",
    "            dot += y * cnt\n",
    "            res += dot\n",
    "        \n",
    "        return res % MOD"
   ]
  },
  {
   "cell_type": "code",
   "execution_count": null,
   "metadata": {},
   "outputs": [],
   "source": [
    "class Solution:\n",
    "    def sumSubarrayMins(self, A) -> int:\n",
    "        res = 0\n",
    "        stack = []  #  non-decreasing \n",
    "        A = [float('-inf')] + A + [float('-inf')]\n",
    "        for i, n in enumerate(A):\n",
    "            while stack and A[stack[-1]] > n:\n",
    "                cur = stack.pop()\n",
    "                res += A[cur] * (i - cur) * (cur - stack[-1]) \n",
    "            stack.append(i)\n",
    "        return res % (10**9 + 7)"
   ]
  }
 ],
 "metadata": {
  "kernelspec": {
   "display_name": "Python 3",
   "language": "python",
   "name": "python3"
  },
  "language_info": {
   "codemirror_mode": {
    "name": "ipython",
    "version": 3
   },
   "file_extension": ".py",
   "mimetype": "text/x-python",
   "name": "python",
   "nbconvert_exporter": "python",
   "pygments_lexer": "ipython3",
   "version": "3.8.0b3"
  }
 },
 "nbformat": 4,
 "nbformat_minor": 2
}
