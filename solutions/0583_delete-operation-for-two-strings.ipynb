{
 "cells": [
  {
   "cell_type": "markdown",
   "metadata": {},
   "source": [
    "[583. Delete Operation for Two Strings](https://leetcode.com/problems/delete-operation-for-two-strings/)"
   ]
  },
  {
   "cell_type": "code",
   "execution_count": null,
   "metadata": {},
   "outputs": [],
   "source": [
    "class Solution:\n",
    "    def minDistance(self, w1: str, w2: str) -> int:\n",
    "        m, n = len(w1), len(w2)\n",
    "        dp = [[0] * (n + 1) for _ in range(m + 1)]\n",
    "        \n",
    "        for i in range(m):\n",
    "            for j in range(n):\n",
    "                dp[i + 1][j + 1] = max(dp[i][j + 1],\n",
    "                                        dp[i + 1][j],\n",
    "                                       dp[i][j] + (w1[i] == w2[j]))\n",
    "        \n",
    "        return m + n - 2 * dp[m][n]"
   ]
  }
 ],
 "metadata": {
  "kernelspec": {
   "display_name": "Python 3",
   "language": "python",
   "name": "python3"
  },
  "language_info": {
   "codemirror_mode": {
    "name": "ipython",
    "version": 3
   },
   "file_extension": ".py",
   "mimetype": "text/x-python",
   "name": "python",
   "nbconvert_exporter": "python",
   "pygments_lexer": "ipython3",
   "version": "3.8.1"
  }
 },
 "nbformat": 4,
 "nbformat_minor": 4
}
