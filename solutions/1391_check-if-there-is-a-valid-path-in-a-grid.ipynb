{
 "cells": [
  {
   "cell_type": "markdown",
   "metadata": {},
   "source": [
    "[1391. Check if There is a Valid Path in a Grid](https://leetcode.com/problems/check-if-there-is-a-valid-path-in-a-grid/)"
   ]
  },
  {
   "cell_type": "markdown",
   "metadata": {},
   "source": [
    "不是只允许向右下方前进的，所以写DFS比较繁琐。\n",
    "\n",
    "转变思路：union-find看起点和终点能不能在一起"
   ]
  },
  {
   "cell_type": "code",
   "execution_count": 1,
   "metadata": {},
   "outputs": [],
   "source": [
    "class Solution:\n",
    "    def hasValidPath(self, A) -> bool:\n",
    "        m, n = len(A), len(A and A[0])\n",
    "        uf = {(i,j): (i,j) for i in range(-1, m*2+1) for j in range(-1, n*2+1)}\n",
    "        \n",
    "        def find(x):\n",
    "            if uf[x] != x:\n",
    "                uf[x] = find(uf[x])\n",
    "            return uf[x]\n",
    "    \n",
    "        def merge(i, j, di, dj):\n",
    "            uf[find((i,j))] = find((i+di, j+dj))\n",
    "        \n",
    "        for i in range(m):\n",
    "            for j in range(n):\n",
    "                if A[i][j] in [2, 5, 6]: merge(i * 2, j * 2, -1, 0)\n",
    "                if A[i][j] in [1, 3, 5]: merge(i * 2, j * 2, 0, -1)\n",
    "                if A[i][j] in [2, 3, 4]: merge(i * 2, j * 2, 1, 0)\n",
    "                if A[i][j] in [1, 4, 6]: merge(i * 2, j * 2, 0, 1)\n",
    "    \n",
    "        return find((0, 0)) == find((m * 2 - 2, n * 2 - 2))"
   ]
  },
  {
   "cell_type": "code",
   "execution_count": null,
   "metadata": {},
   "outputs": [],
   "source": []
  }
 ],
 "metadata": {
  "kernelspec": {
   "display_name": "Python 3",
   "language": "python",
   "name": "python3"
  },
  "language_info": {
   "codemirror_mode": {
    "name": "ipython",
    "version": 3
   },
   "file_extension": ".py",
   "mimetype": "text/x-python",
   "name": "python",
   "nbconvert_exporter": "python",
   "pygments_lexer": "ipython3",
   "version": "3.8.1"
  }
 },
 "nbformat": 4,
 "nbformat_minor": 4
}
