{
 "cells": [
  {
   "cell_type": "markdown",
   "metadata": {},
   "source": [
    "[956. Tallest Billboard](https://leetcode.com/problems/tallest-billboard/)"
   ]
  },
  {
   "cell_type": "markdown",
   "metadata": {},
   "source": [
    "https://leetcode.com/problems/tallest-billboard/discuss/203181/JavaC%2B%2BPython-DP-min(O(SN2)-O(3N2-*-N)"
   ]
  },
  {
   "cell_type": "code",
   "execution_count": 2,
   "metadata": {},
   "outputs": [],
   "source": [
    "class Solution:\n",
    "    def tallestBillboard(self, rods) -> int:\n",
    "        dp = {0: 0}\n",
    "        for x in rods:\n",
    "            for d, y in list(dp.items()):\n",
    "                dp[d + x] = max(dp.get(x + d, 0), y)\n",
    "                dp[abs(d - x)] = max(dp.get(abs(d - x), 0), y + min(d, x))\n",
    "        return dp[0]"
   ]
  },
  {
   "cell_type": "code",
   "execution_count": null,
   "metadata": {},
   "outputs": [],
   "source": []
  }
 ],
 "metadata": {
  "kernelspec": {
   "display_name": "Python 3",
   "language": "python",
   "name": "python3"
  },
  "language_info": {
   "codemirror_mode": {
    "name": "ipython",
    "version": 3
   },
   "file_extension": ".py",
   "mimetype": "text/x-python",
   "name": "python",
   "nbconvert_exporter": "python",
   "pygments_lexer": "ipython3",
   "version": "3.8.1"
  }
 },
 "nbformat": 4,
 "nbformat_minor": 4
}
