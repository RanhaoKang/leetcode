{
 "cells": [
  {
   "cell_type": "markdown",
   "metadata": {},
   "source": [
    "[971. Flip Binary Tree To Match Preorder Traversal](https://leetcode.com/problems/flip-binary-tree-to-match-preorder-traversal/)"
   ]
  },
  {
   "cell_type": "markdown",
   "metadata": {},
   "source": [
    "要最小的`flip`次数, 只要preorder去找就好了"
   ]
  },
  {
   "cell_type": "code",
   "execution_count": 13,
   "metadata": {},
   "outputs": [],
   "source": [
    "# Definition for a binary tree node.\n",
    "class TreeNode:\n",
    "    def __init__(self, x):\n",
    "        self.val = x\n",
    "        self.left = None\n",
    "        self.right = None\n",
    "\n",
    "class Solution:\n",
    "    def flipMatchVoyage(self, root: TreeNode, voyage):\n",
    "        def helper(node,  seq):\n",
    "            # None or leaf node\n",
    "            if node is None or len(seq) == 1:\n",
    "                return\n",
    "            if node.val != seq[0]:\n",
    "                raise RunError\n",
    "            \n",
    "            if node.left and node.right:\n",
    "                if node.right.val == seq[1]:\n",
    "                    node.left, node.right = node.right, node.left\n",
    "                    res.append(node.val)\n",
    "                i = seq.index(node.right.val)\n",
    "                helper(node.left, seq[1:i])\n",
    "                helper(node.right, seq[i:])\n",
    "                    \n",
    "            else:\n",
    "                helper(node.left or node.right, seq[1:])\n",
    "\n",
    "        try:\n",
    "            res = []\n",
    "            helper(root, voyage)\n",
    "            return res\n",
    "        except:\n",
    "            return [-1]"
   ]
  },
  {
   "cell_type": "code",
   "execution_count": 14,
   "metadata": {},
   "outputs": [
    {
     "data": {
      "text/plain": [
       "[-1]"
      ]
     },
     "execution_count": 14,
     "metadata": {},
     "output_type": "execute_result"
    }
   ],
   "source": [
    "root = TreeNode(1)\n",
    "root.left = TreeNode(2)\n",
    "\n",
    "Solution().flipMatchVoyage(root, [2,1])"
   ]
  },
  {
   "cell_type": "code",
   "execution_count": null,
   "metadata": {},
   "outputs": [],
   "source": []
  }
 ],
 "metadata": {
  "kernelspec": {
   "display_name": "Python 3",
   "language": "python",
   "name": "python3"
  },
  "language_info": {
   "codemirror_mode": {
    "name": "ipython",
    "version": 3
   },
   "file_extension": ".py",
   "mimetype": "text/x-python",
   "name": "python",
   "nbconvert_exporter": "python",
   "pygments_lexer": "ipython3",
   "version": "3.6.7"
  }
 },
 "nbformat": 4,
 "nbformat_minor": 2
}
