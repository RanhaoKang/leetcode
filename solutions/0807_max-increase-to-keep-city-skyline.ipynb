{
 "cells": [
  {
   "cell_type": "markdown",
   "metadata": {},
   "source": [
    "[807. Max Increase to Keep City Skyline](https://leetcode.com/problems/max-increase-to-keep-city-skyline/)"
   ]
  },
  {
   "cell_type": "markdown",
   "metadata": {},
   "source": [
    "100ms, 只存一遍max, 可以提速到24ms"
   ]
  },
  {
   "cell_type": "code",
   "execution_count": 10,
   "metadata": {},
   "outputs": [],
   "source": [
    "class Solution:\n",
    "    def maxIncreaseKeepingSkyline(self, grid) -> int:\n",
    "        increasing = 0\n",
    "        grid_T = list(map(list, zip(*grid)))\n",
    "        h, w = len(grid), len(grid[0])\n",
    "        for i in range(h):\n",
    "            for j in range(w):\n",
    "                increasing += min(max(grid[i]), max(grid_T[j])) - grid[i][j]\n",
    "        \n",
    "        return increasing"
   ]
  },
  {
   "cell_type": "code",
   "execution_count": 11,
   "metadata": {},
   "outputs": [],
   "source": [
    "a = [ [3, 0, 8, 4], \n",
    "  [2, 4, 5, 7],\n",
    "  [9, 2, 6, 3],\n",
    "  [0, 3, 1, 0] ]"
   ]
  },
  {
   "cell_type": "code",
   "execution_count": 12,
   "metadata": {},
   "outputs": [
    {
     "data": {
      "text/plain": [
       "35"
      ]
     },
     "execution_count": 12,
     "metadata": {},
     "output_type": "execute_result"
    }
   ],
   "source": [
    "Solution().maxIncreaseKeepingSkyline(a)"
   ]
  },
  {
   "cell_type": "code",
   "execution_count": null,
   "metadata": {},
   "outputs": [],
   "source": []
  }
 ],
 "metadata": {
  "kernelspec": {
   "display_name": "Python 3",
   "language": "python",
   "name": "python3"
  },
  "language_info": {
   "codemirror_mode": {
    "name": "ipython",
    "version": 3
   },
   "file_extension": ".py",
   "mimetype": "text/x-python",
   "name": "python",
   "nbconvert_exporter": "python",
   "pygments_lexer": "ipython3",
   "version": "3.6.7"
  }
 },
 "nbformat": 4,
 "nbformat_minor": 2
}
