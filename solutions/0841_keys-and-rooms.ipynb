{
 "cells": [
  {
   "cell_type": "markdown",
   "metadata": {},
   "source": [
    "[841. Keys and Rooms](https://leetcode.com/problems/keys-and-rooms/)"
   ]
  },
  {
   "cell_type": "markdown",
   "metadata": {},
   "source": [
    "BFS"
   ]
  },
  {
   "cell_type": "code",
   "execution_count": 3,
   "metadata": {},
   "outputs": [],
   "source": [
    "class Solution:\n",
    "    def canVisitAllRooms(self, rooms) -> bool:\n",
    "        from collections import deque\n",
    "        visited, N = 1, len(rooms)\n",
    "        queue = deque([0])\n",
    "        \n",
    "        while queue:\n",
    "            room = queue.popleft()\n",
    "            keys = rooms[room]\n",
    "            for key in keys:\n",
    "                if (1 << key) & visited == 0:\n",
    "                    queue.append(key)\n",
    "                    visited |= 1 << key\n",
    "\n",
    "        return visited == 2 ** N - 1"
   ]
  },
  {
   "cell_type": "code",
   "execution_count": 4,
   "metadata": {},
   "outputs": [
    {
     "data": {
      "text/plain": [
       "True"
      ]
     },
     "execution_count": 4,
     "metadata": {},
     "output_type": "execute_result"
    }
   ],
   "source": [
    "Solution().canVisitAllRooms([[1],[2],[3],[]])"
   ]
  },
  {
   "cell_type": "code",
   "execution_count": null,
   "metadata": {},
   "outputs": [],
   "source": []
  }
 ],
 "metadata": {
  "kernelspec": {
   "display_name": "Python 3",
   "language": "python",
   "name": "python3"
  },
  "language_info": {
   "codemirror_mode": {
    "name": "ipython",
    "version": 3
   },
   "file_extension": ".py",
   "mimetype": "text/x-python",
   "name": "python",
   "nbconvert_exporter": "python",
   "pygments_lexer": "ipython3",
   "version": "3.6.7"
  }
 },
 "nbformat": 4,
 "nbformat_minor": 2
}
