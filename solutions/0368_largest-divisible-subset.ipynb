{
 "cells": [
  {
   "cell_type": "markdown",
   "metadata": {},
   "source": [
    "[368. Largest Divisible Subset](https://leetcode.com/problems/largest-divisible-subset/)"
   ]
  },
  {
   "cell_type": "code",
   "execution_count": 3,
   "metadata": {},
   "outputs": [],
   "source": [
    "class Solution:\n",
    "    def largestDivisibleSubset(self, nums):\n",
    "        S = {-1: set()}\n",
    "        for x in sorted(nums):\n",
    "            S[x] = max((S[d] for d in S if x % d == 0), key = len) | {x}\n",
    "            print(x, S[x])\n",
    "\n",
    "        return list(max(S.values(), key = len))"
   ]
  },
  {
   "cell_type": "code",
   "execution_count": 4,
   "metadata": {},
   "outputs": [
    {
     "name": "stdout",
     "output_type": "stream",
     "text": [
      "1 {1}\n",
      "2 {1, 2}\n",
      "4 {1, 2, 4}\n",
      "8 {8, 1, 2, 4}\n"
     ]
    },
    {
     "data": {
      "text/plain": [
       "[8, 1, 2, 4]"
      ]
     },
     "execution_count": 4,
     "metadata": {},
     "output_type": "execute_result"
    }
   ],
   "source": [
    "Solution().largestDivisibleSubset([1,2,4,8])"
   ]
  },
  {
   "cell_type": "code",
   "execution_count": null,
   "metadata": {},
   "outputs": [],
   "source": []
  }
 ],
 "metadata": {
  "kernelspec": {
   "display_name": "Python 3",
   "language": "python",
   "name": "python3"
  },
  "language_info": {
   "codemirror_mode": {
    "name": "ipython",
    "version": 3
   },
   "file_extension": ".py",
   "mimetype": "text/x-python",
   "name": "python",
   "nbconvert_exporter": "python",
   "pygments_lexer": "ipython3",
   "version": "3.8.1"
  }
 },
 "nbformat": 4,
 "nbformat_minor": 4
}
