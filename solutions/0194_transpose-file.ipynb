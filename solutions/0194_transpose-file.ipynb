{
 "cells": [
  {
   "cell_type": "markdown",
   "metadata": {},
   "source": [
    "[194. Transpose File](https://leetcode.com/problems/transpose-file/)"
   ]
  },
  {
   "cell_type": "code",
   "execution_count": 1,
   "metadata": {},
   "outputs": [
    {
     "ename": "SyntaxError",
     "evalue": "EOL while scanning string literal (<ipython-input-1-7fdebf1bcc80>, line 2)",
     "output_type": "error",
     "traceback": [
      "\u001b[0;36m  File \u001b[0;32m\"<ipython-input-1-7fdebf1bcc80>\"\u001b[0;36m, line \u001b[0;32m2\u001b[0m\n\u001b[0;31m    awk '\u001b[0m\n\u001b[0m         ^\u001b[0m\n\u001b[0;31mSyntaxError\u001b[0m\u001b[0;31m:\u001b[0m EOL while scanning string literal\n"
     ]
    }
   ],
   "source": [
    "# Read from the file file.txt and print its transposed content to stdout.\n",
    "awk '\n",
    "{\n",
    "    for (i = 1; i <= NF; i++) {\n",
    "        if(NR == 1) {\n",
    "            s[i] = $i;\n",
    "        } else {\n",
    "            s[i] = s[i] \" \" $i;\n",
    "        }\n",
    "    }\n",
    "}\n",
    "END {\n",
    "    for (i = 1; s[i] != \"\"; i++) {\n",
    "        print s[i];\n",
    "    }\n",
    "}' file.txt"
   ]
  },
  {
   "cell_type": "code",
   "execution_count": null,
   "metadata": {},
   "outputs": [],
   "source": []
  }
 ],
 "metadata": {
  "kernelspec": {
   "display_name": "Python 3",
   "language": "python",
   "name": "python3"
  },
  "language_info": {
   "codemirror_mode": {
    "name": "ipython",
    "version": 3
   },
   "file_extension": ".py",
   "mimetype": "text/x-python",
   "name": "python",
   "nbconvert_exporter": "python",
   "pygments_lexer": "ipython3",
   "version": "3.6.7"
  }
 },
 "nbformat": 4,
 "nbformat_minor": 2
}
