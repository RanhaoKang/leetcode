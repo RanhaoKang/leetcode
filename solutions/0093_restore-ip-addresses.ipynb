{
 "cells": [
  {
   "cell_type": "markdown",
   "metadata": {},
   "source": [
    "[93. Restore IP Addresses](https://leetcode.com/problems/restore-ip-addresses/)"
   ]
  },
  {
   "cell_type": "code",
   "execution_count": 11,
   "metadata": {},
   "outputs": [],
   "source": [
    "class Solution:\n",
    "    def restoreIpAddresses(self, s):\n",
    "        return list(self.dfs(s, 0, \"\"))\n",
    "\n",
    "    def dfs(self, s, index, path):\n",
    "        if index == 4:\n",
    "            if not s:\n",
    "                yield path[:-1]\n",
    "        else:\n",
    "            # return # backtracking\n",
    "            for i in range(1, 4):\n",
    "                # the digits we choose should no more than the length of s\n",
    "                if i <= len(s):\n",
    "                    #choose one digit\n",
    "                    if i == 1: \n",
    "                        yield from self.dfs(s[i:], index+1, path+s[:i]+\".\")\n",
    "                    #choose two digits, the first one should not be \"0\"\n",
    "                    elif i == 2 and s[0] != \"0\": \n",
    "                        yield from self.dfs(s[i:], index+1, path+s[:i]+\".\")\n",
    "                    #choose three digits, the first one should not be \"0\", and should less than 256\n",
    "                    elif i == 3 and s[0] != \"0\" and int(s[:3]) <= 255:\n",
    "                        yield from self.dfs(s[i:], index+1, path+s[:i]+\".\")"
   ]
  },
  {
   "cell_type": "code",
   "execution_count": 12,
   "metadata": {},
   "outputs": [
    {
     "data": {
      "text/plain": [
       "['255.255.11.135', '255.255.111.35']"
      ]
     },
     "execution_count": 12,
     "metadata": {},
     "output_type": "execute_result"
    }
   ],
   "source": [
    "Solution().restoreIpAddresses('25525511135')"
   ]
  },
  {
   "cell_type": "code",
   "execution_count": null,
   "metadata": {},
   "outputs": [],
   "source": []
  }
 ],
 "metadata": {
  "kernelspec": {
   "display_name": "Python 3",
   "language": "python",
   "name": "python3"
  },
  "language_info": {
   "codemirror_mode": {
    "name": "ipython",
    "version": 3
   },
   "file_extension": ".py",
   "mimetype": "text/x-python",
   "name": "python",
   "nbconvert_exporter": "python",
   "pygments_lexer": "ipython3",
   "version": "3.6.7"
  }
 },
 "nbformat": 4,
 "nbformat_minor": 2
}
