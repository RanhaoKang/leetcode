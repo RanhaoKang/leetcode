{
 "cells": [
  {
   "cell_type": "markdown",
   "metadata": {},
   "source": [
    "[1036. Escape a Large Maze](https://leetcode.com/problems/escape-a-large-maze/)"
   ]
  },
  {
   "cell_type": "code",
   "execution_count": 1,
   "metadata": {},
   "outputs": [],
   "source": [
    "class Solution:\n",
    "    def isEscapePossible(self, blocked, source, target) -> bool:\n",
    "        blocked = set(map(tuple, blocked))\n",
    "\n",
    "        def dfs(x, y, target, seen):\n",
    "            if not (0 <= x < 10**6 and 0 <= y < 10**6) or (x, y) in blocked or (x, y) in seen: return False\n",
    "            seen.add((x, y))\n",
    "            if len(seen) > 20000 or [x, y] == target: return True\n",
    "            return dfs(x + 1, y, target, seen) or \\\n",
    "                dfs(x - 1, y, target, seen) or \\\n",
    "                dfs(x, y + 1, target, seen) or \\\n",
    "                dfs(x, y - 1, target, seen)\n",
    "        return dfs(source[0], source[1], target, set()) and dfs(target[0], target[1], source, set())"
   ]
  },
  {
   "cell_type": "code",
   "execution_count": null,
   "metadata": {},
   "outputs": [],
   "source": []
  }
 ],
 "metadata": {
  "kernelspec": {
   "display_name": "Python 3",
   "language": "python",
   "name": "python3"
  },
  "language_info": {
   "codemirror_mode": {
    "name": "ipython",
    "version": 3
   },
   "file_extension": ".py",
   "mimetype": "text/x-python",
   "name": "python",
   "nbconvert_exporter": "python",
   "pygments_lexer": "ipython3",
   "version": "3.8.1"
  }
 },
 "nbformat": 4,
 "nbformat_minor": 4
}
