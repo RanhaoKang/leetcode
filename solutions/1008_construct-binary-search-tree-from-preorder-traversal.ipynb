{
 "cells": [
  {
   "cell_type": "markdown",
   "metadata": {},
   "source": [
    "[1008. Construct Binary Search Tree from Preorder Traversal](https://leetcode.com/problems/construct-binary-search-tree-from-preorder-traversal/)"
   ]
  },
  {
   "cell_type": "code",
   "execution_count": 8,
   "metadata": {},
   "outputs": [],
   "source": [
    "# Definition for a binary tree node.\n",
    "class TreeNode:\n",
    "    def __init__(self, x):\n",
    "        self.val = x\n",
    "        self.left = None\n",
    "        self.right = None\n",
    "\n",
    "class Solution:\n",
    "    def bstFromPreorder(self, preorder) -> TreeNode:\n",
    "        from itertools import chain\n",
    "        self.iter = iter(preorder)\n",
    "        \n",
    "        def solve(min, max):\n",
    "            try:\n",
    "                val = next(self.iter)\n",
    "            except StopIteration:\n",
    "                return None\n",
    "            \n",
    "            if min <= val <= max:\n",
    "                node = TreeNode(val)\n",
    "                node.left = solve(min, val)\n",
    "                node.right = solve(val, max)\n",
    "                return node\n",
    "            else:\n",
    "                self.iter = chain([val], self.iter)\n",
    "                return None\n",
    "        \n",
    "        return solve(float('-inf'), float('inf'))"
   ]
  },
  {
   "cell_type": "code",
   "execution_count": 10,
   "metadata": {},
   "outputs": [],
   "source": [
    "p = Solution().bstFromPreorder([8,5,1,7,10,12])"
   ]
  },
  {
   "cell_type": "code",
   "execution_count": null,
   "metadata": {},
   "outputs": [],
   "source": [
    "# Definition for a binary tree node.\n",
    "class TreeNode:\n",
    "    def __init__(self, x):\n",
    "        self.val = x\n",
    "        self.left = None\n",
    "        self.right = None\n",
    "\n",
    "class Solution:\n",
    "    def bstFromPreorder(self, preorder) -> TreeNode:"
   ]
  }
 ],
 "metadata": {
  "kernelspec": {
   "display_name": "Python 3",
   "language": "python",
   "name": "python3"
  },
  "language_info": {
   "codemirror_mode": {
    "name": "ipython",
    "version": 3
   },
   "file_extension": ".py",
   "mimetype": "text/x-python",
   "name": "python",
   "nbconvert_exporter": "python",
   "pygments_lexer": "ipython3",
   "version": "3.6.7"
  }
 },
 "nbformat": 4,
 "nbformat_minor": 2
}
