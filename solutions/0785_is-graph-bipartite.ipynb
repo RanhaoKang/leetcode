{
 "cells": [
  {
   "cell_type": "markdown",
   "metadata": {},
   "source": [
    "[785. Is Graph Bipartite?](https://leetcode.com/problems/is-graph-bipartite/)"
   ]
  },
  {
   "cell_type": "code",
   "execution_count": 40,
   "metadata": {},
   "outputs": [],
   "source": [
    "class Solution:\n",
    "    def isBipartite(self, graph):\n",
    "        return all(self.dfs(graph, edges, v, 0) for v, edges in enumerate(graph) if isinstance(edges, list))\n",
    "\n",
    "    def dfs(self, graph, edges, v, c):\n",
    "        graph[v] = c\n",
    "        return not any(graph[e] == c or (graph[e] != ~c and not self.dfs(graph, graph[e], e, ~c)) for e in edges)"
   ]
  },
  {
   "cell_type": "code",
   "execution_count": 37,
   "metadata": {},
   "outputs": [],
   "source": [
    "class Solution:\n",
    "    def isBipartite(self, graph) -> bool:\n",
    "        from functools import reduce\n",
    "        from operator import __mul__\n",
    "\n",
    "        length = len(graph)\n",
    "        colors = [-1] * length\n",
    "        for v in range(length):\n",
    "            # 如果已经涂过, 不需要新涂颜色, 给它邻居涂异色\n",
    "            if colors[v] != -1:\n",
    "                color = colors[v]\n",
    "            else:\n",
    "                # 直接求乘积, 如果结果为0, 说明邻居里有0, 本节点置1\n",
    "                # 否则说明邻居中肯定没有0, 把本节点涂为0即可\n",
    "                if reduce(__mul__, (colors[i] for i in graph[v]), 1):\n",
    "                    colors[v] = color = 0\n",
    "                else:\n",
    "                    colors[v] = color = 1\n",
    "                \n",
    "            print(v, colors, color)\n",
    "            for neighbor in graph[v]:\n",
    "                # 如果存在同色则错误\n",
    "                if colors[neighbor] == color:\n",
    "                    return False\n",
    "                # 涂异色\n",
    "                colors[neighbor] = color ^ 1\n",
    "        \n",
    "        return True\n",
    "            "
   ]
  },
  {
   "cell_type": "code",
   "execution_count": 14,
   "metadata": {},
   "outputs": [],
   "source": [
    "class Solution:\n",
    "    def isBipartite(self, graph) -> bool:\n",
    "        from collections import deque\n",
    "        from functools import reduce\n",
    "from operator import __mul__\n",
    "        q = deque([0])\n",
    "        length = len(graph)\n",
    "        visited = [False] * length\n",
    "        colors = [-1] * length\n",
    "        \n",
    "        color = 0\n",
    "        while q:\n",
    "            v = q.pop()\n",
    "            print(v, q)\n",
    "            if visited[v]:\n",
    "                continue\n",
    "            \n",
    "            colors[v] = color\n",
    "            \n",
    "            for neighbor in graph[v]:\n",
    "                # 同色\n",
    "                if colors[neighbor] == color:\n",
    "                    return False\n",
    "            \n",
    "            color ^= 1\n",
    "            q.extend(graph[v])\n",
    "        \n",
    "        return True"
   ]
  },
  {
   "cell_type": "code",
   "execution_count": 18,
   "metadata": {},
   "outputs": [],
   "source": [
    "g = [[1,3], [0,2], [1,3], [0,2]]"
   ]
  },
  {
   "cell_type": "code",
   "execution_count": 38,
   "metadata": {},
   "outputs": [
    {
     "name": "stdout",
     "output_type": "stream",
     "text": [
      "0 [0, -1, -1, -1, -1] 0\n",
      "1 [0, 0, -1, 1, -1] 0\n",
      "2 [0, 0, 1, 1, 1] 1\n",
      "3 [0, 0, 1, 1, 1] 1\n"
     ]
    },
    {
     "data": {
      "text/plain": [
       "False"
      ]
     },
     "execution_count": 38,
     "metadata": {},
     "output_type": "execute_result"
    }
   ],
   "source": [
    "Solution().isBipartite([[3],[2,4],[1],[0,4],[1,3]])"
   ]
  },
  {
   "cell_type": "code",
   "execution_count": 24,
   "metadata": {},
   "outputs": [
    {
     "data": {
      "text/plain": [
       "0"
      ]
     },
     "execution_count": 24,
     "metadata": {},
     "output_type": "execute_result"
    }
   ],
   "source": [
    "1 ^ 1"
   ]
  },
  {
   "cell_type": "code",
   "execution_count": 27,
   "metadata": {},
   "outputs": [],
   "source": [
    "from functools import reduce\n",
    "from operator import __mul__"
   ]
  },
  {
   "cell_type": "code",
   "execution_count": null,
   "metadata": {},
   "outputs": [],
   "source": [
    "reduce(range(10), )"
   ]
  },
  {
   "cell_type": "code",
   "execution_count": 28,
   "metadata": {},
   "outputs": [
    {
     "name": "stdout",
     "output_type": "stream",
     "text": [
      "Help on built-in function reduce in module _functools:\n",
      "\n",
      "reduce(...)\n",
      "    reduce(function, sequence[, initial]) -> value\n",
      "    \n",
      "    Apply a function of two arguments cumulatively to the items of a sequence,\n",
      "    from left to right, so as to reduce the sequence to a single value.\n",
      "    For example, reduce(lambda x, y: x+y, [1, 2, 3, 4, 5]) calculates\n",
      "    ((((1+2)+3)+4)+5).  If initial is present, it is placed before the items\n",
      "    of the sequence in the calculation, and serves as a default when the\n",
      "    sequence is empty.\n",
      "\n"
     ]
    }
   ],
   "source": [
    "help(reduce)"
   ]
  },
  {
   "cell_type": "code",
   "execution_count": null,
   "metadata": {},
   "outputs": [],
   "source": []
  }
 ],
 "metadata": {
  "kernelspec": {
   "display_name": "Python 3",
   "language": "python",
   "name": "python3"
  },
  "language_info": {
   "codemirror_mode": {
    "name": "ipython",
    "version": 3
   },
   "file_extension": ".py",
   "mimetype": "text/x-python",
   "name": "python",
   "nbconvert_exporter": "python",
   "pygments_lexer": "ipython3",
   "version": "3.6.7"
  }
 },
 "nbformat": 4,
 "nbformat_minor": 2
}
