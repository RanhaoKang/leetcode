{
 "cells": [
  {
   "cell_type": "markdown",
   "metadata": {},
   "source": [
    "[685. Redundant Connection II](https://leetcode.com/problems/redundant-connection-ii/)"
   ]
  },
  {
   "cell_type": "markdown",
   "metadata": {},
   "source": [
    "https://leetcode.com/problems/redundant-connection-ii/discuss/278105/topic"
   ]
  },
  {
   "cell_type": "code",
   "execution_count": 5,
   "metadata": {},
   "outputs": [],
   "source": [
    "class Solution:\n",
    "    def findRedundantDirectedConnection(self, edges):\n",
    "        # 统计出入度\n",
    "        from collections import Counter\n",
    "        _in, _out = Counter(), Counter()\n",
    "        for i, j in edges:\n",
    "            _in[i] += 1\n",
    "            _out[j] += 1\n",
    "        \n",
    "        print(_in)\n",
    "        print(_out)\n",
    "        "
   ]
  },
  {
   "cell_type": "code",
   "execution_count": 6,
   "metadata": {},
   "outputs": [
    {
     "name": "stdout",
     "output_type": "stream",
     "text": [
      "Counter({1: 2, 2: 1})\n",
      "Counter({3: 2, 2: 1})\n"
     ]
    }
   ],
   "source": [
    "Solution().findRedundantDirectedConnection([[1,2], [1,3], [2,3]])"
   ]
  },
  {
   "cell_type": "code",
   "execution_count": 7,
   "metadata": {},
   "outputs": [
    {
     "name": "stdout",
     "output_type": "stream",
     "text": [
      "Counter({1: 2, 2: 1, 3: 1, 4: 1})\n",
      "Counter({2: 1, 3: 1, 4: 1, 1: 1, 5: 1})\n"
     ]
    }
   ],
   "source": [
    "Solution().findRedundantDirectedConnection([[1,2], [2,3], [3,4], [4,1], [1,5]])"
   ]
  },
  {
   "cell_type": "code",
   "execution_count": null,
   "metadata": {},
   "outputs": [],
   "source": [
    "class Solution:\n",
    "    def union(self, a, b):\n",
    "        self.uf[self.find(b)] = self.find(a)\n",
    "\n",
    "    def find(self, a):\n",
    "        while self.uf[a] != a:\n",
    "            a = self.uf[a]\n",
    "        return a\n",
    "    \n",
    "    def detectCycle(self, V):\n",
    "        self.visited[V] = True\n",
    "        for i in range(len(self.adjList[V])):\n",
    "            nextV = self.adjList[V][i]\n",
    "            if self.visited[nextV]:\n",
    "                return (V, nextV)\n",
    "            ret = self.detectCycle(nextV)\n",
    "            if ret[0]:\n",
    "                return ret\n",
    "        return (None, None)\n",
    "    \n",
    "    def findRedundantDirectedConnection(self, edges):\n",
    "        \"\"\"\n",
    "        :type edges: List[List[int]]\n",
    "        :rtype: List[int]\n",
    "        \"\"\"\n",
    "        self.uf = [0] + [i + 1 for i in range(len(edges))]\n",
    "        self.adjList = [[] for i in range(len(edges) + 1)]      # Adjancency List\n",
    "        hasFather = [False] * (len(edges) + 1)                  # Whether a vertex has already got a parent\n",
    "        criticalEdge = None\n",
    "\n",
    "        for i, edge in enumerate(edges):\n",
    "            w, v = edge[0], edge[1]\n",
    "            self.adjList[w].append(v)\n",
    "            if hasFather[v]:\n",
    "                criticalEdge = (w, v)                           # If a vertex has more than one parent, record the last edge\n",
    "            hasFather[v] = True\n",
    "            if self.find(w) == self.find(v):                    # If a loop is found, record the edge that occurs last\n",
    "                cycleEdge = (w, v)\n",
    "            self.union(w, v)\n",
    "\n",
    "        if not criticalEdge:                                    # Case 1\n",
    "            return cycleEdge\n",
    "        self.visited = [False] * (len(edges) + 1)\n",
    "        (w, v) = self.detectCycle(criticalEdge[1])\n",
    "        return (w, v) if w else criticalEdge                    # Case 2 and 3"
   ]
  }
 ],
 "metadata": {
  "kernelspec": {
   "display_name": "Python 3",
   "language": "python",
   "name": "python3"
  },
  "language_info": {
   "codemirror_mode": {
    "name": "ipython",
    "version": 3
   },
   "file_extension": ".py",
   "mimetype": "text/x-python",
   "name": "python",
   "nbconvert_exporter": "python",
   "pygments_lexer": "ipython3",
   "version": "3.8.1"
  }
 },
 "nbformat": 4,
 "nbformat_minor": 4
}
