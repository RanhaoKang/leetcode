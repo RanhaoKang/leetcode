{
 "cells": [
  {
   "cell_type": "markdown",
   "metadata": {},
   "source": [
    "[289. Game of Life](https://leetcode.com/problems/game-of-life/)"
   ]
  },
  {
   "cell_type": "code",
   "execution_count": 20,
   "metadata": {},
   "outputs": [],
   "source": [
    "class Solution:\n",
    "    def gameOfLife(self, board) -> None:\n",
    "        \"\"\"\n",
    "        Do not return anything, modify board in-place instead.\n",
    "        \"\"\"\n",
    "        def next_state(i, j, time):\n",
    "            if time == 1:\n",
    "                # -1: 1->0\n",
    "                if board[i][j] == -1:\n",
    "                    return 0\n",
    "                # -2: 0->1\n",
    "                elif board[i][j] == -2:\n",
    "                    return 1\n",
    "                else:\n",
    "                    return board[i][j]\n",
    "\n",
    "            cnt = 0\n",
    "            for I, J in [(i-1, j-1), (i-1,j), (i-1,j+1), (i,j-1), (i,j+1), (i+1,j-1), (i+1,j), (i+1,j+1)]:\n",
    "                if 0 <= I < h and 0 <= J < w and board[I][J] in (1, -1):\n",
    "                    cnt += 1\n",
    "            # 少于2个邻居, 超过3个邻居的死掉\n",
    "            if board[i][j] == 1:\n",
    "                if 2 <= cnt <= 3:\n",
    "                    return 1\n",
    "                else:\n",
    "                    return -1\n",
    "        \n",
    "            # 正好3个邻居的活\n",
    "            else:\n",
    "                if cnt == 3:\n",
    "                    return -2\n",
    "                else:\n",
    "                    return 0\n",
    "        \n",
    "        \n",
    "        h, w = len(board), len(board and board[0])\n",
    "        \n",
    "        for time in range(2):\n",
    "            for i in range(h):\n",
    "                for j in range(w):\n",
    "                    board[i][j] = next_state(i, j, time)"
   ]
  },
  {
   "cell_type": "code",
   "execution_count": 21,
   "metadata": {},
   "outputs": [
    {
     "data": {
      "text/plain": [
       "[[0, 0, 0], [1, 0, 1], [0, 1, 1], [0, 1, 0]]"
      ]
     },
     "execution_count": 21,
     "metadata": {},
     "output_type": "execute_result"
    }
   ],
   "source": [
    "a = [\n",
    "  [0,1,0],\n",
    "  [0,0,1],\n",
    "  [1,1,1],\n",
    "  [0,0,0]\n",
    "]\n",
    "Solution().gameOfLife(a)\n",
    "a"
   ]
  },
  {
   "cell_type": "code",
   "execution_count": null,
   "metadata": {},
   "outputs": [],
   "source": []
  }
 ],
 "metadata": {
  "kernelspec": {
   "display_name": "Python 3",
   "language": "python",
   "name": "python3"
  },
  "language_info": {
   "codemirror_mode": {
    "name": "ipython",
    "version": 3
   },
   "file_extension": ".py",
   "mimetype": "text/x-python",
   "name": "python",
   "nbconvert_exporter": "python",
   "pygments_lexer": "ipython3",
   "version": "3.6.7"
  }
 },
 "nbformat": 4,
 "nbformat_minor": 2
}
