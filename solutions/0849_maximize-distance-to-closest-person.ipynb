{
 "cells": [
  {
   "cell_type": "markdown",
   "metadata": {},
   "source": [
    "[849. Maximize Distance to Closest Person](https://leetcode.com/problems/maximize-distance-to-closest-person/)"
   ]
  },
  {
   "cell_type": "markdown",
   "metadata": {},
   "source": [
    "two-pass类型的题目"
   ]
  },
  {
   "cell_type": "code",
   "execution_count": 10,
   "metadata": {},
   "outputs": [],
   "source": [
    "class Solution:\n",
    "    def maxDistToClosest(self, seats) -> int:\n",
    "        length = len(seats)\n",
    "        \n",
    "        left_to_right, right_to_left = [[0] * length for _ in range(2)]\n",
    "        \n",
    "        left_to_right[0] = 0 if seats[0] else length\n",
    "        for i in range(1, length):\n",
    "            left_to_right[i] = 0 if seats[i] else left_to_right[i - 1] + 1\n",
    "        \n",
    "        right_to_left[-1] = 0 if seats[-1] else length\n",
    "        for i in range(length - 2, -1, -1):\n",
    "            right_to_left[i] = 0 if seats[i] else right_to_left[i + 1] + 1\n",
    "        \n",
    "        print(seats)\n",
    "        print(left_to_right)\n",
    "        print(right_to_left)\n",
    "        return max(min(i, j) for i, j in zip(left_to_right, right_to_left) if i != 0)"
   ]
  },
  {
   "cell_type": "code",
   "execution_count": 11,
   "metadata": {},
   "outputs": [
    {
     "name": "stdout",
     "output_type": "stream",
     "text": [
      "[1, 0, 0, 0, 1, 0, 1]\n",
      "[0, 1, 2, 3, 0, 1, 0]\n",
      "[0, 3, 2, 1, 0, 1, 0]\n"
     ]
    },
    {
     "data": {
      "text/plain": [
       "2"
      ]
     },
     "execution_count": 11,
     "metadata": {},
     "output_type": "execute_result"
    }
   ],
   "source": [
    "Solution().maxDistToClosest([1,0,0,0,1,0,1])"
   ]
  },
  {
   "cell_type": "code",
   "execution_count": null,
   "metadata": {},
   "outputs": [],
   "source": []
  }
 ],
 "metadata": {
  "kernelspec": {
   "display_name": "Python 3",
   "language": "python",
   "name": "python3"
  },
  "language_info": {
   "codemirror_mode": {
    "name": "ipython",
    "version": 3
   },
   "file_extension": ".py",
   "mimetype": "text/x-python",
   "name": "python",
   "nbconvert_exporter": "python",
   "pygments_lexer": "ipython3",
   "version": "3.6.7"
  }
 },
 "nbformat": 4,
 "nbformat_minor": 2
}
