{
 "cells": [
  {
   "cell_type": "markdown",
   "metadata": {},
   "source": [
    "[134. Gas Station](https://leetcode.com/problems/gas-station/)"
   ]
  },
  {
   "cell_type": "markdown",
   "metadata": {},
   "source": [
    "题干较长, 这里精简一下:\n",
    "- 油箱不限容量\n",
    "- 只能顺时针行驶, 头节点算作尾节点的下一个, 能够从一个节点出发再回到该节点算作成功\n",
    "- 从`i`出发到`i+1`需要消耗`cost[i]`的汽油\n",
    "- 到达`i`可以得到`gas[i]`的汽油"
   ]
  },
  {
   "cell_type": "markdown",
   "metadata": {},
   "source": [
    "题目中提到如果存在解, 解是唯一的, 贪心策略为\"在初期尽可能地收集燃料\""
   ]
  },
  {
   "cell_type": "markdown",
   "metadata": {},
   "source": [
    "`gas[i]`是到达`i`可获得的汽油, `cost[i]`则是从`i`出发消耗的汽油(因为行驶方向单一, 也是到达`i+1`消耗的汽油), 所以其实`gas`和`cost`错了一位. 把它们对齐后, 稳"
   ]
  },
  {
   "cell_type": "code",
   "execution_count": null,
   "metadata": {},
   "outputs": [],
   "source": [
    "class Solution:\n",
    "    def canCompleteCircuit(self, gas, cost) -> int: \n",
    "        cost = cost[-1:] + cost[1:]\n",
    "        \n",
    "        l = [i - j for i, j in zip(gas, cost)]\n",
    "        \n",
    "        \n",
    "        length = len(gas)\n",
    "        tank = 0\n",
    "        for i in range(length):\n",
    "            if l[i] < 0:\n",
    "                continue\n",
    "            else:\n",
    "                break\n",
    "            "
   ]
  },
  {
   "cell_type": "code",
   "execution_count": 2,
   "metadata": {},
   "outputs": [
    {
     "data": {
      "text/plain": [
       "[3]"
      ]
     },
     "execution_count": 2,
     "metadata": {},
     "output_type": "execute_result"
    }
   ],
   "source": [
    "[1,2,3][-1:]"
   ]
  },
  {
   "cell_type": "code",
   "execution_count": null,
   "metadata": {},
   "outputs": [],
   "source": []
  }
 ],
 "metadata": {
  "kernelspec": {
   "display_name": "Python 3",
   "language": "python",
   "name": "python3"
  },
  "language_info": {
   "codemirror_mode": {
    "name": "ipython",
    "version": 3
   },
   "file_extension": ".py",
   "mimetype": "text/x-python",
   "name": "python",
   "nbconvert_exporter": "python",
   "pygments_lexer": "ipython3",
   "version": "3.6.7"
  }
 },
 "nbformat": 4,
 "nbformat_minor": 2
}
