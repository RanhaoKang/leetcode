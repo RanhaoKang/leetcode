{
 "cells": [
  {
   "cell_type": "markdown",
   "metadata": {},
   "source": [
    "[134. Gas Station](https://leetcode.com/problems/gas-station/)"
   ]
  },
  {
   "cell_type": "markdown",
   "metadata": {},
   "source": [
    "题干较长, 这里精简一下:\n",
    "- 油箱不限容量\n",
    "- 只能顺时针行驶, 头节点算作尾节点的下一个, 能够从一个节点出发再回到该节点算作成功\n",
    "- 从`i`出发到`i+1`需要消耗`cost[i]`的汽油\n",
    "- 到达`i`可以得到`gas[i]`的汽油"
   ]
  },
  {
   "cell_type": "markdown",
   "metadata": {},
   "source": [
    "如果从`a`无法到达`b`, 那么从`a`, `b`间的其他站点出发同样无法抵达`b`, 以`a`, `b`间站点`c`为例, 从`c`出发时油箱余量为`0 + gas[c]`, 而从`c`之前的站点出发并到达`c`时, 油箱余量`>=0`."
   ]
  },
  {
   "cell_type": "code",
   "execution_count": 23,
   "metadata": {},
   "outputs": [],
   "source": [
    "class Solution:\n",
    "    def canCompleteCircuit(self, gas, cost) -> int:\n",
    "        tank = gap = start = 0\n",
    "        for i in range(len(gas)):\n",
    "            # 加油\n",
    "            tank += gas[i]\n",
    "            # 前往下一个站点\n",
    "            if tank >= cost[i]:\n",
    "                tank -= cost[i]\n",
    "            else:\n",
    "                gap += cost[i] - tank\n",
    "                start = i + 1\n",
    "                tank = 0\n",
    "        if start == len(gas) or tank < gap:\n",
    "            return -1\n",
    "        return start\n",
    "            "
   ]
  },
  {
   "cell_type": "code",
   "execution_count": 21,
   "metadata": {},
   "outputs": [
    {
     "name": "stdout",
     "output_type": "stream",
     "text": [
      "[-1, 0, 0]\n"
     ]
    },
    {
     "data": {
      "text/plain": [
       "-1"
      ]
     },
     "execution_count": 21,
     "metadata": {},
     "output_type": "execute_result"
    }
   ],
   "source": [
    "Solution().canCompleteCircuit([3,3,4], [3,4,4])"
   ]
  },
  {
   "cell_type": "code",
   "execution_count": null,
   "metadata": {},
   "outputs": [],
   "source": []
  }
 ],
 "metadata": {
  "kernelspec": {
   "display_name": "Python 3",
   "language": "python",
   "name": "python3"
  },
  "language_info": {
   "codemirror_mode": {
    "name": "ipython",
    "version": 3
   },
   "file_extension": ".py",
   "mimetype": "text/x-python",
   "name": "python",
   "nbconvert_exporter": "python",
   "pygments_lexer": "ipython3",
   "version": "3.6.7"
  }
 },
 "nbformat": 4,
 "nbformat_minor": 2
}
