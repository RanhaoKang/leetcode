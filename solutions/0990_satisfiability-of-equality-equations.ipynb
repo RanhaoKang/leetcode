{
 "cells": [
  {
   "cell_type": "markdown",
   "metadata": {},
   "source": [
    "[990. Satisfiability of Equality Equations](https://leetcode.com/problems/satisfiability-of-equality-equations/)"
   ]
  },
  {
   "cell_type": "markdown",
   "metadata": {},
   "source": [
    "这题有趣!! 期待完全体的出现, 手写Prolog"
   ]
  },
  {
   "cell_type": "code",
   "execution_count": 114,
   "metadata": {},
   "outputs": [],
   "source": [
    "import string\n",
    "\n",
    "class Solution:\n",
    "    def equationsPossible(self, equations) -> bool:\n",
    "        def find(x):\n",
    "            if x != uf[x]: uf[x] = find(uf[x])\n",
    "            return uf[x]\n",
    "        uf = {a: a for a in string.ascii_lowercase}\n",
    "        for a, e, _, b in equations:\n",
    "            if e == \"=\":\n",
    "                uf[find(a)] = find(b)\n",
    "        return not any(e == \"!\" and find(a) == find(b) for a, e, _, b in equations)"
   ]
  },
  {
   "cell_type": "code",
   "execution_count": null,
   "metadata": {},
   "outputs": [],
   "source": [
    "[990. Satisfiability of Equality Equations](https://leetcode.com/problems/satisfiability-of-equality-equations/)\n",
    "\n",
    "这题有趣!! 期待完全体的出现, 手写Prolog\n",
    "\n",
    "import string\n",
    "\n",
    "class Solution:\n",
    "    def equationsPossible(self, equations) -> bool:\n",
    "        def find(x):\n",
    "            if x != uf[x]: uf[x] = find(uf[x])\n",
    "            return uf[x]\n",
    "        uf = {a: a for a in string.ascii_lowercase}\n",
    "        for a, e, _, b in equations:\n",
    "            if e == \"=\":\n",
    "                uf[find(a)] = find(b)\n",
    "        return not any(e == \"!\" and find(a) == find(b) for a, e, _, b in equations)"
   ]
  }
 ],
 "metadata": {
  "kernelspec": {
   "display_name": "Python 3",
   "language": "python",
   "name": "python3"
  },
  "language_info": {
   "codemirror_mode": {
    "name": "ipython",
    "version": 3
   },
   "file_extension": ".py",
   "mimetype": "text/x-python",
   "name": "python",
   "nbconvert_exporter": "python",
   "pygments_lexer": "ipython3",
   "version": "3.6.7"
  }
 },
 "nbformat": 4,
 "nbformat_minor": 2
}
