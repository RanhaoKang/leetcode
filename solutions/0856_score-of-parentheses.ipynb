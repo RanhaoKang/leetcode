{
 "cells": [
  {
   "cell_type": "markdown",
   "metadata": {},
   "source": [
    "[856. Score of Parentheses](https://leetcode.com/problems/score-of-parentheses/)"
   ]
  },
  {
   "cell_type": "markdown",
   "metadata": {},
   "source": [
    "感觉可以用stack做, 因为只有两种`()`, 直接用计数器了"
   ]
  },
  {
   "cell_type": "code",
   "execution_count": 129,
   "metadata": {},
   "outputs": [],
   "source": [
    "class Solution:\n",
    "    def scoreOfParentheses(self, S: str) -> int:\n",
    "        cnt = res = cur = 0\n",
    "        nested = False\n",
    "        \n",
    "        for char in S:\n",
    "            if char == '(':\n",
    "                cnt += 1\n",
    "                nested = False\n",
    "            elif cnt:\n",
    "                cnt -= 1\n",
    "                if nested:\n",
    "                    cur *= 2\n",
    "                else:\n",
    "                    cur += 1\n",
    "                nested = cnt > 0\n",
    "            \n",
    "            if cnt \n",
    "            print(char, nested, res)\n",
    "        \n",
    "        return res"
   ]
  },
  {
   "cell_type": "code",
   "execution_count": 121,
   "metadata": {},
   "outputs": [
    {
     "data": {
      "text/plain": [
       "1"
      ]
     },
     "execution_count": 121,
     "metadata": {},
     "output_type": "execute_result"
    }
   ],
   "source": [
    "Solution().scoreOfParentheses('()')"
   ]
  },
  {
   "cell_type": "code",
   "execution_count": 122,
   "metadata": {},
   "outputs": [
    {
     "data": {
      "text/plain": [
       "2"
      ]
     },
     "execution_count": 122,
     "metadata": {},
     "output_type": "execute_result"
    }
   ],
   "source": [
    "Solution().scoreOfParentheses('(())')"
   ]
  },
  {
   "cell_type": "code",
   "execution_count": 123,
   "metadata": {},
   "outputs": [
    {
     "data": {
      "text/plain": [
       "2"
      ]
     },
     "execution_count": 123,
     "metadata": {},
     "output_type": "execute_result"
    }
   ],
   "source": [
    "Solution().scoreOfParentheses('()()')"
   ]
  },
  {
   "cell_type": "markdown",
   "metadata": {},
   "source": [
    "问题出在这里, 不得不再加一个`cur`"
   ]
  },
  {
   "cell_type": "code",
   "execution_count": 130,
   "metadata": {},
   "outputs": [
    {
     "name": "stdout",
     "output_type": "stream",
     "text": [
      "( False 0\n",
      "( False 0\n",
      ") True 1\n",
      "( False 1\n",
      "( False 1\n",
      ") True 2\n",
      ") True 4\n",
      ") False 8\n"
     ]
    },
    {
     "data": {
      "text/plain": [
       "8"
      ]
     },
     "execution_count": 130,
     "metadata": {},
     "output_type": "execute_result"
    }
   ],
   "source": [
    "Solution().scoreOfParentheses('(()(()))')"
   ]
  },
  {
   "cell_type": "code",
   "execution_count": 131,
   "metadata": {},
   "outputs": [],
   "source": [
    "class Solution:\n",
    "    def scoreOfParentheses(self, S):\n",
    "        ans = bal = 0\n",
    "        for i, x in enumerate(S):\n",
    "            if x == '(':\n",
    "                bal += 1\n",
    "            else:\n",
    "                bal -= 1\n",
    "                if S[i-1] == '(':\n",
    "                    ans += 1 << bal\n",
    "        return ans"
   ]
  },
  {
   "cell_type": "code",
   "execution_count": null,
   "metadata": {},
   "outputs": [],
   "source": []
  }
 ],
 "metadata": {
  "kernelspec": {
   "display_name": "Python 3",
   "language": "python",
   "name": "python3"
  },
  "language_info": {
   "codemirror_mode": {
    "name": "ipython",
    "version": 3
   },
   "file_extension": ".py",
   "mimetype": "text/x-python",
   "name": "python",
   "nbconvert_exporter": "python",
   "pygments_lexer": "ipython3",
   "version": "3.6.7"
  }
 },
 "nbformat": 4,
 "nbformat_minor": 2
}
