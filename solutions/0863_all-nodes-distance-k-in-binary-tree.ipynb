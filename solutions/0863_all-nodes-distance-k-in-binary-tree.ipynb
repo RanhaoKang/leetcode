{
 "cells": [
  {
   "cell_type": "markdown",
   "metadata": {},
   "source": [
    "[863. All Nodes Distance K in Binary Tree](https://leetcode.com/problems/all-nodes-distance-k-in-binary-tree/)"
   ]
  },
  {
   "cell_type": "markdown",
   "metadata": {},
   "source": [
    "从自己常用的模板改过来的一个, 递归函数承载了过多功能, 思考起来比较麻烦, 不如solution的第一种简单, 和第二种比较像."
   ]
  },
  {
   "cell_type": "code",
   "execution_count": 18,
   "metadata": {},
   "outputs": [],
   "source": [
    "# Definition for a binary tree node.\n",
    "class TreeNode:\n",
    "    def __init__(self, x):\n",
    "        self.val = x\n",
    "        self.left = None\n",
    "        self.right = None\n",
    "\n",
    "class Solution:\n",
    "    def distanceK(self, root, target, K):\n",
    "        \"\"\"\n",
    "        :type root: TreeNode\n",
    "        :type target: TreeNode\n",
    "        :type K: int\n",
    "        :rtype: List[int]\n",
    "        \"\"\"\n",
    "        res = []\n",
    "        \n",
    "        def solve(node, dist = None):\n",
    "            # 如果遍历到空指针, 无论找target还是dist都该返回None\n",
    "            if not node:\n",
    "                return\n",
    "            \n",
    "            # 如果在找target\n",
    "            if dist is None:\n",
    "                # 找到target了, 向下找dist, 向上汇报找到了\n",
    "                if node is target:\n",
    "                    if K == 0:\n",
    "                        res.append(node.val)\n",
    "                        return\n",
    "                    solve(node.left, K - 1)\n",
    "                    solve(node.right, K - 1)\n",
    "                    \n",
    "                    return K - 1\n",
    "                \n",
    "                # 没找到, 向下接着找target\n",
    "                else:\n",
    "                    left = solve(node.left)\n",
    "                    right = solve(node.right)\n",
    "                    print(left, right)\n",
    "                    if left == 0 or right == 0:\n",
    "                        res.append(node.val)\n",
    "                    elif left:\n",
    "                        solve(node.right, left - 1)\n",
    "                        return left - 1\n",
    "                    elif right:\n",
    "                        solve(node.left, right - 1)\n",
    "                        return right - 1\n",
    "            \n",
    "            # 如果在找dist\n",
    "            else:\n",
    "                # 不需要向下找了\n",
    "                if dist == 0:\n",
    "                    res.append(node.val)\n",
    "                else:\n",
    "                    solve(node.left, dist - 1)\n",
    "                    solve(node.right, dist - 1)\n",
    "\n",
    "        solve(root)\n",
    "        return res"
   ]
  },
  {
   "cell_type": "code",
   "execution_count": 11,
   "metadata": {},
   "outputs": [],
   "source": [
    "root = TreeNode(3)\n",
    "root.left = TreeNode(5)\n",
    "root.left.left = TreeNode(6)\n",
    "root.left.right = TreeNode(2)\n",
    "root.left.right.left = TreeNode(7)\n",
    "root.left.right.right = TreeNode(4)\n",
    "root.right = TreeNode(1)\n",
    "root.right.left = TreeNode(0)\n",
    "root.right.right = TreeNode(8)"
   ]
  },
  {
   "cell_type": "code",
   "execution_count": 13,
   "metadata": {},
   "outputs": [],
   "source": [
    "root = TreeNode(0)\n",
    "root.left = TreeNode(2)\n",
    "root.right = TreeNode(1)\n",
    "root.right.left = TreeNode(3)"
   ]
  },
  {
   "cell_type": "code",
   "execution_count": 19,
   "metadata": {},
   "outputs": [
    {
     "name": "stdout",
     "output_type": "stream",
     "text": [
      "None None\n",
      "2 None\n",
      "None 1\n"
     ]
    },
    {
     "data": {
      "text/plain": [
       "[2]"
      ]
     },
     "execution_count": 19,
     "metadata": {},
     "output_type": "execute_result"
    }
   ],
   "source": [
    "Solution().distanceK(root, root.right.left, 3)"
   ]
  },
  {
   "cell_type": "code",
   "execution_count": null,
   "metadata": {},
   "outputs": [],
   "source": []
  }
 ],
 "metadata": {
  "kernelspec": {
   "display_name": "Python 3",
   "language": "python",
   "name": "python3"
  },
  "language_info": {
   "codemirror_mode": {
    "name": "ipython",
    "version": 3
   },
   "file_extension": ".py",
   "mimetype": "text/x-python",
   "name": "python",
   "nbconvert_exporter": "python",
   "pygments_lexer": "ipython3",
   "version": "3.6.7"
  }
 },
 "nbformat": 4,
 "nbformat_minor": 2
}
