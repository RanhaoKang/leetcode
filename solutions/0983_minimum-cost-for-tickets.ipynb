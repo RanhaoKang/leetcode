{
 "cells": [
  {
   "cell_type": "markdown",
   "metadata": {},
   "source": [
    "[983. Minimum Cost For Tickets](https://leetcode.com/problems/minimum-cost-for-tickets/)"
   ]
  },
  {
   "cell_type": "code",
   "execution_count": 1,
   "metadata": {},
   "outputs": [],
   "source": [
    "class Solution:\n",
    "    def mincostTickets(self, days, costs) -> int:\n",
    "        from functools import lru_cache\n",
    "        \n",
    "        N, durations = len(days), [1, 7, 30]\n",
    "        \n",
    "        @lru_cache(None)\n",
    "        def dp(i):\n",
    "            if i >= N:\n",
    "                return 0\n",
    "            \n",
    "            res, j = float('inf'), i\n",
    "            for c, d in zip(costs, durations):\n",
    "                while j < N and days[j] < days[i] + d:\n",
    "                    j += 1\n",
    "                res = min(res, dp(j) + c)\n",
    "            \n",
    "            return res\n",
    "    \n",
    "        return dp(0)"
   ]
  },
  {
   "cell_type": "code",
   "execution_count": 2,
   "metadata": {},
   "outputs": [
    {
     "data": {
      "text/plain": [
       "11"
      ]
     },
     "execution_count": 2,
     "metadata": {},
     "output_type": "execute_result"
    }
   ],
   "source": [
    "Solution().mincostTickets([1,4,6,7,8,20], [2, 7, 15])"
   ]
  },
  {
   "cell_type": "code",
   "execution_count": null,
   "metadata": {},
   "outputs": [],
   "source": []
  }
 ],
 "metadata": {
  "kernelspec": {
   "display_name": "Python 3",
   "language": "python",
   "name": "python3"
  },
  "language_info": {
   "codemirror_mode": {
    "name": "ipython",
    "version": 3
   },
   "file_extension": ".py",
   "mimetype": "text/x-python",
   "name": "python",
   "nbconvert_exporter": "python",
   "pygments_lexer": "ipython3",
   "version": "3.8.1"
  }
 },
 "nbformat": 4,
 "nbformat_minor": 2
}
