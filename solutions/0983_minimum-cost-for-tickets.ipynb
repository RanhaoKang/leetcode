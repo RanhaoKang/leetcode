{
 "cells": [
  {
   "cell_type": "markdown",
   "metadata": {},
   "source": [
    "[983. Minimum Cost For Tickets](https://leetcode.com/problems/minimum-cost-for-tickets/)"
   ]
  },
  {
   "cell_type": "code",
   "execution_count": 9,
   "metadata": {},
   "outputs": [],
   "source": [
    "class Solution:\n",
    "    def mincostTickets(self, days, costs) -> int:\n",
    "        length = len(days)\n",
    "        # dp[i][j]: 在第days[i]天使用j方式的总消费\n",
    "        dp = [[0] * 3 for _ in range(length)]\n",
    "        dp[0] = [2, 7, 15]\n",
    "        \n",
    "        max_ = float('inf')\n",
    "        \n",
    "        for i in range(1, length):\n",
    "            dp[i][0] = dp[i-1][0] + costs[0]\n",
    "            dp[i][1] = dp[i-1][1] if days[i] - days[i-1] <= 7 else dp[i-1][1] + costs[1]\n",
    "            dp[i][2] = dp[i-1][2] if days[i] - days[i-1] <= 30 else dp[i-1][2] + costs[2]\n",
    "            \n",
    "            \n",
    "            \n",
    "        print(dp)\n",
    "        return min(dp[-1])"
   ]
  },
  {
   "cell_type": "code",
   "execution_count": 8,
   "metadata": {},
   "outputs": [
    {
     "name": "stdout",
     "output_type": "stream",
     "text": [
      "[[2, 7, 15], [4, 7, 15], [6, 7, 15], [8, 7, 15], [10, 7, 15], [12, 14, 15]]\n"
     ]
    },
    {
     "data": {
      "text/plain": [
       "12"
      ]
     },
     "execution_count": 8,
     "metadata": {},
     "output_type": "execute_result"
    }
   ],
   "source": [
    "Solution().mincostTickets([1,4,6,7,8,20], [2, 7, 15])"
   ]
  },
  {
   "cell_type": "code",
   "execution_count": null,
   "metadata": {},
   "outputs": [],
   "source": [
    "\n",
    "            for j in range(3):\n",
    "                dp[i][j] = dp[i-1][0] + costs[j]\n",
    "                if days[i] - days[i-1] > 7:\n",
    "                    dp[i][j] = min(dp[i][j], dp[i-1][1] + costs[j])\n",
    "                else:\n",
    "                    dp[i][j] = min(dp[i][j], dp[i-1][1])\n",
    "                if days[i] - days[i-1] > 30:\n",
    "                    dp[i][j] = min(dp[i][j], dp[i-1][2] + costs[j])\n",
    "                else:\n",
    "                    dp[i][j] = min(dp[i][j], dp[i-1][2])"
   ]
  }
 ],
 "metadata": {
  "kernelspec": {
   "display_name": "Python 3",
   "language": "python",
   "name": "python3"
  },
  "language_info": {
   "codemirror_mode": {
    "name": "ipython",
    "version": 3
   },
   "file_extension": ".py",
   "mimetype": "text/x-python",
   "name": "python",
   "nbconvert_exporter": "python",
   "pygments_lexer": "ipython3",
   "version": "3.6.7"
  }
 },
 "nbformat": 4,
 "nbformat_minor": 2
}
