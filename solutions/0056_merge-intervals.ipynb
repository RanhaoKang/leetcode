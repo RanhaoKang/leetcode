{
 "cells": [
  {
   "cell_type": "markdown",
   "metadata": {},
   "source": [
    "[56. Merge Intervals](https://leetcode.com/problems/merge-intervals/)"
   ]
  },
  {
   "cell_type": "markdown",
   "metadata": {},
   "source": [
    "先做的字节跳动真题, 所以这里随便改了改就acc了"
   ]
  },
  {
   "cell_type": "code",
   "execution_count": 3,
   "metadata": {},
   "outputs": [],
   "source": [
    "# Definition for an interval.\n",
    "# class Interval:\n",
    "#     def __init__(self, s=0, e=0):\n",
    "#         self.start = s\n",
    "#         self.end = e\n",
    "\n",
    "class Solution:\n",
    "    def merge(self, intervals):\n",
    "        l = intervals\n",
    "        l.sort(key = lambda x: x.start)\n",
    "        if not l:\n",
    "            return []\n",
    "        res = [l[0]]\n",
    "        for i in l[1:]:\n",
    "            if i.start > res[-1].end: # 无重叠, 如(1,3) (5,7)\n",
    "                res.append(i)\n",
    "            else: # 有重叠\n",
    "                res[-1] = Interval(min(i.start, res[-1].start), max(i.end, res[-1].end))\n",
    "        return res"
   ]
  },
  {
   "cell_type": "markdown",
   "metadata": {},
   "source": [
    "大神的写法, 自己之前缺少考虑的是, 排序后不再需要更改`res[-1].start`了"
   ]
  },
  {
   "cell_type": "code",
   "execution_count": 4,
   "metadata": {},
   "outputs": [],
   "source": [
    "# Definition for an interval.\n",
    "# class Interval:\n",
    "#     def __init__(self, s=0, e=0):\n",
    "#         self.start = s\n",
    "#         self.end = e\n",
    "\n",
    "class Solution:\n",
    "    def merge(self, intervals):\n",
    "        out = []\n",
    "        for i in sorted(intervals, key=lambda i: i.start):\n",
    "            if out and i.start <= out[-1].end:\n",
    "                out[-1].end = max(out[-1].end, i.end)\n",
    "            else:\n",
    "                out += i,\n",
    "        return out"
   ]
  },
  {
   "cell_type": "markdown",
   "metadata": {},
   "source": [
    "- [252 Meeting Rooms](https://leetcode.com/problems/meeting-rooms/)\n",
    "- [253 Meeting Rooms II](https://leetcode.com/problems/meeting-rooms-ii/)\n",
    "- [435 Non-overlapping Intervals](https://leetcode.com/problems/non-overlapping-intervals/) <- very similar, i did it with just 3 lines different\n",
    "\n",
    "Practice them in a row for better understanding 😉"
   ]
  },
  {
   "cell_type": "code",
   "execution_count": null,
   "metadata": {},
   "outputs": [],
   "source": []
  }
 ],
 "metadata": {
  "kernelspec": {
   "display_name": "Python 3",
   "language": "python",
   "name": "python3"
  },
  "language_info": {
   "codemirror_mode": {
    "name": "ipython",
    "version": 3
   },
   "file_extension": ".py",
   "mimetype": "text/x-python",
   "name": "python",
   "nbconvert_exporter": "python",
   "pygments_lexer": "ipython3",
   "version": "3.6.7"
  }
 },
 "nbformat": 4,
 "nbformat_minor": 2
}
