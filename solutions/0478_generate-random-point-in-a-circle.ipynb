{
 "cells": [
  {
   "cell_type": "markdown",
   "metadata": {},
   "source": [
    "[478. Generate Random Point in a Circle](https://leetcode.com/problems/generate-random-point-in-a-circle/)"
   ]
  },
  {
   "cell_type": "markdown",
   "metadata": {},
   "source": [
    "sqrt解释: https://leetcode.com/problems/generate-random-point-in-a-circle/discuss/155650/Explanation-with-Graphs-why-using-Math.sqrt()\n",
    "\n",
    "还是有些困惑, 这个只是粗略的补正? 还是概率的表达式化简后真的是线性的?"
   ]
  },
  {
   "cell_type": "code",
   "execution_count": 13,
   "metadata": {},
   "outputs": [],
   "source": [
    "import random\n",
    "import math\n",
    "\n",
    "class Solution:\n",
    "\n",
    "    def __init__(self, radius: float, x_center: float, y_center: float):\n",
    "        self.radius = radius\n",
    "        self.x_center = x_center\n",
    "        self.y_center = y_center\n",
    "\n",
    "    def randPoint(self):\n",
    "        # magic\n",
    "        p = random.random() ** 0.5 * self.radius\n",
    "        \n",
    "        # 360度\n",
    "        deg = random.random() * 2 * math.pi\n",
    "        \n",
    "        return [\n",
    "            self.x_center + p * math.cos(deg),\n",
    "            self.y_center + p * math.sin(deg)\n",
    "        ]\n",
    "\n",
    "\n",
    "# Your Solution object will be instantiated and called as such:\n",
    "# obj = Solution(radius, x_center, y_center)\n",
    "# param_1 = obj.randPoint()"
   ]
  },
  {
   "cell_type": "code",
   "execution_count": 12,
   "metadata": {},
   "outputs": [
    {
     "data": {
      "text/plain": [
       "[0.7759781861367075, 0.11293906449605133]"
      ]
     },
     "execution_count": 12,
     "metadata": {},
     "output_type": "execute_result"
    }
   ],
   "source": [
    "Solution(1, 0, 0).randPoint()"
   ]
  },
  {
   "cell_type": "code",
   "execution_count": 7,
   "metadata": {},
   "outputs": [
    {
     "data": {
      "text/plain": [
       "-1.0"
      ]
     },
     "execution_count": 7,
     "metadata": {},
     "output_type": "execute_result"
    }
   ],
   "source": [
    "math.cos(math.pi)"
   ]
  },
  {
   "cell_type": "code",
   "execution_count": null,
   "metadata": {},
   "outputs": [],
   "source": []
  }
 ],
 "metadata": {
  "kernelspec": {
   "display_name": "Python 3",
   "language": "python",
   "name": "python3"
  },
  "language_info": {
   "codemirror_mode": {
    "name": "ipython",
    "version": 3
   },
   "file_extension": ".py",
   "mimetype": "text/x-python",
   "name": "python",
   "nbconvert_exporter": "python",
   "pygments_lexer": "ipython3",
   "version": "3.7.3"
  }
 },
 "nbformat": 4,
 "nbformat_minor": 2
}
