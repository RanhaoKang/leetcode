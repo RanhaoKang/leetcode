{
 "cells": [
  {
   "cell_type": "markdown",
   "metadata": {},
   "source": [
    "[1187. Make Array Strictly Increasing](https://leetcode.com/problems/make-array-strictly-increasing/)"
   ]
  },
  {
   "cell_type": "code",
   "execution_count": 7,
   "metadata": {},
   "outputs": [],
   "source": [
    "from math import inf\n",
    "from bisect import bisect_right\n",
    "from functools import lru_cache\n",
    "\n",
    "\n",
    "class Solution:\n",
    "    def makeArrayIncreasing(self, A, B) -> int:\n",
    "        B = sorted(set(B))\n",
    "        NA, NB = len(A), len(B)\n",
    "        \n",
    "        @lru_cache(None)\n",
    "        def dp(i, prev):\n",
    "            if i >= NA:\n",
    "                return 0\n",
    "            j = bisect_right(B, prev)\n",
    "            swap = 1 + dp(i + 1, B[j]) if j < NB else inf\n",
    "            noswap = dp(i + 1, A[i]) if A[i] > prev else inf\n",
    "            return min(swap,noswap)\n",
    "\n",
    "        return dp(0, -inf) if dp(0, -inf) != inf else -1"
   ]
  },
  {
   "cell_type": "code",
   "execution_count": 8,
   "metadata": {},
   "outputs": [
    {
     "data": {
      "text/plain": [
       "1"
      ]
     },
     "execution_count": 8,
     "metadata": {},
     "output_type": "execute_result"
    }
   ],
   "source": [
    "Solution().makeArrayIncreasing([1,5,3,6,7], [1,3,2,4])"
   ]
  },
  {
   "cell_type": "code",
   "execution_count": null,
   "metadata": {},
   "outputs": [],
   "source": []
  }
 ],
 "metadata": {
  "kernelspec": {
   "display_name": "Python 3",
   "language": "python",
   "name": "python3"
  },
  "language_info": {
   "codemirror_mode": {
    "name": "ipython",
    "version": 3
   },
   "file_extension": ".py",
   "mimetype": "text/x-python",
   "name": "python",
   "nbconvert_exporter": "python",
   "pygments_lexer": "ipython3",
   "version": "3.8.1"
  }
 },
 "nbformat": 4,
 "nbformat_minor": 4
}
