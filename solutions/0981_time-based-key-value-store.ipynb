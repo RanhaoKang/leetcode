{
 "cells": [
  {
   "cell_type": "markdown",
   "metadata": {},
   "source": [
    "[981. Time Based Key-Value Store](https://leetcode.com/problems/time-based-key-value-store/)"
   ]
  },
  {
   "cell_type": "code",
   "execution_count": 22,
   "metadata": {},
   "outputs": [],
   "source": [
    "import collections, bisect\n",
    "\n",
    "\n",
    "class TimeMap:\n",
    "\n",
    "    def __init__(self):\n",
    "        self.times = collections.defaultdict(list)\n",
    "        self.values = collections.defaultdict(list)\n",
    "\n",
    "    def set(self, key: str, value: str, timestamp: int) -> None:\n",
    "        self.times[key].append(timestamp)\n",
    "        self.values[key].append(value)\n",
    "\n",
    "    def get(self, key: str, timestamp: int) -> str:\n",
    "        i = bisect.bisect(self.times[key], timestamp)\n",
    "        return self.values[key][i - 1] if i else ''"
   ]
  },
  {
   "cell_type": "code",
   "execution_count": null,
   "metadata": {},
   "outputs": [],
   "source": []
  }
 ],
 "metadata": {
  "kernelspec": {
   "display_name": "Python 3",
   "language": "python",
   "name": "python3"
  },
  "language_info": {
   "codemirror_mode": {
    "name": "ipython",
    "version": 3
   },
   "file_extension": ".py",
   "mimetype": "text/x-python",
   "name": "python",
   "nbconvert_exporter": "python",
   "pygments_lexer": "ipython3",
   "version": "3.8.1"
  }
 },
 "nbformat": 4,
 "nbformat_minor": 4
}
