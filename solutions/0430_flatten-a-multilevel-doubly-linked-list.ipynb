{
 "cells": [
  {
   "cell_type": "markdown",
   "metadata": {},
   "source": [
    "[430. Flatten a Multilevel Doubly Linked List](https://leetcode.com/problems/flatten-a-multilevel-doubly-linked-list/)"
   ]
  },
  {
   "cell_type": "code",
   "execution_count": 31,
   "metadata": {},
   "outputs": [],
   "source": [
    "class Node:\n",
    "    def __init__(self, val, prev, next, child):\n",
    "        self.val = val\n",
    "        self.prev = prev\n",
    "        self.next = next\n",
    "        self.child = child\n",
    "\n",
    "\n",
    "class Solution:\n",
    "    def flatten(self, head: 'Node', last = None) -> 'Node':\n",
    "        if head is None:\n",
    "            return None\n",
    "        \n",
    "        p, q = head, head.next\n",
    "        while p and q:\n",
    "            if p.child:\n",
    "                p.next = self.flatten(p.child, q)\n",
    "                p.child.prev = p\n",
    "                p.child = None\n",
    "            p, q = q, q.next\n",
    "        \n",
    "        if p.child:\n",
    "            p.next = self.flatten(p.child, q)\n",
    "            p.child.prev = p\n",
    "            p.child = None\n",
    "        else:\n",
    "            p.next = last\n",
    "            if last:\n",
    "                last.prev = p\n",
    "            \n",
    "        return head"
   ]
  },
  {
   "cell_type": "code",
   "execution_count": 40,
   "metadata": {},
   "outputs": [],
   "source": [
    "p = Node(1, None, None, None)\n",
    "p.next = Node(2, p, None, None)\n",
    "p.next.next = Node(3, p.next, None, None)\n",
    "p.next.next.next = Node(4, p.next.next, None, None)\n",
    "p.next.next.next.next = Node(5, p.next.next.next, None, None)\n",
    "p.next.next.next.next.next = Node(6, p.next.next.next.next, None, None)\n",
    "p.next.next.child = Node(7, p.next.next, None, None)\n",
    "p.next.next.child.next = Node(8, p.next.next.child, None, None)\n",
    "p.next.next.child.next.next = Node(9, p.next.next.child.next, None, None)\n",
    "p.next.next.child.next.next.next = Node(10, p.next.next.child.next.next, None, None)\n",
    "p.next.next.child.next.child = Node(11, p.next.next.child.next, None, None)\n",
    "p.next.next.child.next.child.next = Node(12, p.next.next.child.next.child, None, None)"
   ]
  },
  {
   "cell_type": "code",
   "execution_count": 44,
   "metadata": {},
   "outputs": [],
   "source": [
    "q = Solution().flatten(p)"
   ]
  },
  {
   "cell_type": "code",
   "execution_count": 45,
   "metadata": {},
   "outputs": [
    {
     "name": "stdout",
     "output_type": "stream",
     "text": [
      "1 None\n",
      "2 1\n",
      "3 2\n",
      "7 3\n",
      "8 7\n",
      "11 8\n",
      "12 11\n",
      "9 8\n",
      "10 9\n",
      "4 3\n",
      "5 4\n",
      "6 5\n"
     ]
    }
   ],
   "source": [
    "while q:\n",
    "    print(q.val, q.prev.val if q.prev else None)\n",
    "    q = q.next"
   ]
  },
  {
   "cell_type": "code",
   "execution_count": null,
   "metadata": {},
   "outputs": [],
   "source": []
  }
 ],
 "metadata": {
  "kernelspec": {
   "display_name": "Python 3",
   "language": "python",
   "name": "python3"
  },
  "language_info": {
   "codemirror_mode": {
    "name": "ipython",
    "version": 3
   },
   "file_extension": ".py",
   "mimetype": "text/x-python",
   "name": "python",
   "nbconvert_exporter": "python",
   "pygments_lexer": "ipython3",
   "version": "3.6.7"
  }
 },
 "nbformat": 4,
 "nbformat_minor": 2
}
