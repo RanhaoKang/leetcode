{
 "cells": [
  {
   "cell_type": "markdown",
   "metadata": {},
   "source": [
    "[1139. Largest 1-Bordered Square](https://leetcode.com/problems/largest-1-bordered-square/)"
   ]
  },
  {
   "cell_type": "code",
   "execution_count": 2,
   "metadata": {},
   "outputs": [],
   "source": [
    "class Solution:\n",
    "    def largest1BorderedSquare(self, A) -> int:\n",
    "        H, W = len(A), len(A and A[0])\n",
    "        res = 0\n",
    "        top, left = [a[:] for a in A], [a[:] for a in A]\n",
    "        for i in range(H):\n",
    "            for j in range(W):\n",
    "                if A[i][j]:\n",
    "                    if i: top[i][j] = top[i - 1][j] + 1\n",
    "                    if j: left[i][j] = left[i][j - 1] + 1\n",
    "        \n",
    "        for r in range(min(H, W), 0, -1):\n",
    "            for i in range(H - r + 1):\n",
    "                for j in range(W - r + 1):\n",
    "                    if min(top[i + r - 1][j], top[i + r - 1][j + r - 1], left[i]\n",
    "                           [j + r - 1], left[i + r - 1][j + r - 1]) >= r:\n",
    "                        return r * r\n",
    "        \n",
    "        return 0"
   ]
  },
  {
   "cell_type": "code",
   "execution_count": null,
   "metadata": {},
   "outputs": [],
   "source": []
  }
 ],
 "metadata": {
  "kernelspec": {
   "display_name": "Python 3",
   "language": "python",
   "name": "python3"
  },
  "language_info": {
   "codemirror_mode": {
    "name": "ipython",
    "version": 3
   },
   "file_extension": ".py",
   "mimetype": "text/x-python",
   "name": "python",
   "nbconvert_exporter": "python",
   "pygments_lexer": "ipython3",
   "version": "3.8.1"
  }
 },
 "nbformat": 4,
 "nbformat_minor": 4
}
