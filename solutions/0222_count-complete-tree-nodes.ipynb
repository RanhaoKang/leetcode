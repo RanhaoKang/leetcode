{
 "cells": [
  {
   "cell_type": "markdown",
   "metadata": {},
   "source": [
    "[222. Count Complete Tree Nodes](https://leetcode.com/problems/count-complete-tree-nodes/)"
   ]
  },
  {
   "cell_type": "code",
   "execution_count": 2,
   "metadata": {},
   "outputs": [],
   "source": [
    "# Definition for a binary tree node.\n",
    "class TreeNode:\n",
    "    def __init__(self, x):\n",
    "        self.val = x\n",
    "        self.left = None\n",
    "        self.right = None\n",
    "\n",
    "class Solution:\n",
    "    def countNodes(self, root: TreeNode) -> int:\n",
    "        \n",
    "        def height(node):\n",
    "            return -1 if not node else 1 + height(node.left)\n",
    "        \n",
    "        h = height(root)\n",
    "        num_nodes = 0\n",
    "        \n",
    "        node = root\n",
    "        while node:\n",
    "            # 右子树为完全二叉树\n",
    "            if height(node.right) == h - 1:\n",
    "                num_nodes += 2 ** h\n",
    "                node = node.right\n",
    "            # 右子树已经缺了一层, 说明叶节点没铺到右子树去\n",
    "            else:\n",
    "                num_nodes += 2 ** (h - 1)\n",
    "                node = node.left\n",
    "            \n",
    "            h -= 1\n",
    "        \n",
    "        return num_nodes"
   ]
  },
  {
   "cell_type": "code",
   "execution_count": null,
   "metadata": {},
   "outputs": [],
   "source": []
  }
 ],
 "metadata": {
  "kernelspec": {
   "display_name": "Python 3",
   "language": "python",
   "name": "python3"
  },
  "language_info": {
   "codemirror_mode": {
    "name": "ipython",
    "version": 3
   },
   "file_extension": ".py",
   "mimetype": "text/x-python",
   "name": "python",
   "nbconvert_exporter": "python",
   "pygments_lexer": "ipython3",
   "version": "3.6.7"
  }
 },
 "nbformat": 4,
 "nbformat_minor": 2
}
