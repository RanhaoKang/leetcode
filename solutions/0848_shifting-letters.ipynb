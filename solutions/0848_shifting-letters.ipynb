{
 "cells": [
  {
   "cell_type": "markdown",
   "metadata": {},
   "source": [
    "[848. Shifting Letters](https://leetcode.com/problems/shifting-letters/)"
   ]
  },
  {
   "cell_type": "markdown",
   "metadata": {},
   "source": [
    "这样对每一次shift做处理会TLE"
   ]
  },
  {
   "cell_type": "code",
   "execution_count": 82,
   "metadata": {},
   "outputs": [],
   "source": [
    "class Solution:\n",
    "    def shiftingLetters(self, S: str, shifts) -> str:\n",
    "        def shift(char, i):\n",
    "            char = ord(char) + i % 26\n",
    "            if char > 122:\n",
    "                char = 96 + char - 122\n",
    "            \n",
    "            return chr(char)\n",
    "        \n",
    "        S =  list(S)\n",
    "        for idx, each_shift in enumerate(shifts, 1):\n",
    "            S[:idx] = [shift(char, each_shift) for char in S[:idx]]\n",
    "        \n",
    "        return ''.join(S)"
   ]
  },
  {
   "cell_type": "code",
   "execution_count": 83,
   "metadata": {},
   "outputs": [
    {
     "data": {
      "text/plain": [
       "'jyh'"
      ]
     },
     "execution_count": 83,
     "metadata": {},
     "output_type": "execute_result"
    }
   ],
   "source": [
    "Solution().shiftingLetters('bad', [10, 20, 30])"
   ]
  },
  {
   "cell_type": "markdown",
   "metadata": {},
   "source": [
    "统一处理就好了"
   ]
  },
  {
   "cell_type": "code",
   "execution_count": 84,
   "metadata": {},
   "outputs": [],
   "source": [
    "import itertools\n",
    "\n",
    "class Solution:\n",
    "    def shiftingLetters(self, S: str, shifts) -> str:\n",
    "        def shift(char, i):\n",
    "            char = ord(char) + i % 26\n",
    "            if char > 122:\n",
    "                char = 96 + char - 122\n",
    "            \n",
    "            return chr(char)\n",
    "        \n",
    "        S =  list(S)\n",
    "        shifts = reversed(list(itertools.accumulate(reversed(shifts))))\n",
    "        for idx, each_shift in enumerate(shifts):\n",
    "            S[idx] = shift(S[idx], each_shift)\n",
    "            print(S[idx])\n",
    "        \n",
    "        return ''.join(S)"
   ]
  },
  {
   "cell_type": "code",
   "execution_count": 85,
   "metadata": {},
   "outputs": [
    {
     "name": "stdout",
     "output_type": "stream",
     "text": [
      "j\n",
      "y\n",
      "h\n"
     ]
    },
    {
     "data": {
      "text/plain": [
       "'jyh'"
      ]
     },
     "execution_count": 85,
     "metadata": {},
     "output_type": "execute_result"
    }
   ],
   "source": [
    "Solution().shiftingLetters('bad', [10, 20, 30])"
   ]
  },
  {
   "cell_type": "code",
   "execution_count": null,
   "metadata": {},
   "outputs": [],
   "source": []
  }
 ],
 "metadata": {
  "kernelspec": {
   "display_name": "Python 3",
   "language": "python",
   "name": "python3"
  },
  "language_info": {
   "codemirror_mode": {
    "name": "ipython",
    "version": 3
   },
   "file_extension": ".py",
   "mimetype": "text/x-python",
   "name": "python",
   "nbconvert_exporter": "python",
   "pygments_lexer": "ipython3",
   "version": "3.6.7"
  }
 },
 "nbformat": 4,
 "nbformat_minor": 2
}
