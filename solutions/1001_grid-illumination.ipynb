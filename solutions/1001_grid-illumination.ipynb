{
 "cells": [
  {
   "cell_type": "markdown",
   "metadata": {},
   "source": [
    "[1001. Grid Illumination](https://leetcode.com/problems/grid-illumination/)"
   ]
  },
  {
   "cell_type": "code",
   "execution_count": 76,
   "metadata": {},
   "outputs": [],
   "source": [
    "class Solution:\n",
    "    def gridIllumination(self, N: int, lamps, queries):\n",
    "        from collections import Counter\n",
    "        lamps = set(tuple(i) for i in lamps)\n",
    "        row, col, dig, idig = [Counter() for _ in range(4)]\n",
    "\n",
    "        for i, j in lamps:\n",
    "            row[i] += 1\n",
    "            col[j] += 1\n",
    "            dig[j-i] += 1\n",
    "            idig[j+i] += 1\n",
    "        \n",
    "        def neighbors(i, j):\n",
    "            return ((i+di, j+dj) for di in range(-1, 2) for dj in range(-1, 2))\n",
    "\n",
    "        def query(x, y):\n",
    "            res = row[x]>0 or col[y]>0 or dig[y-x]>0 or idig[y+x]>0\n",
    "            for i, j in neighbors(x, y):\n",
    "                if (i, j) in lamps:\n",
    "                    lamps.remove((i, j))\n",
    "                    row[i] -= 1\n",
    "                    col[j] -= 1\n",
    "                    dig[j-i] -= 1\n",
    "                    idig[j+i] -= 1\n",
    "                    \n",
    "            return int(res)\n",
    "        \n",
    "        \n",
    "        return [query(i, j) for i, j in queries]"
   ]
  },
  {
   "cell_type": "code",
   "execution_count": 77,
   "metadata": {},
   "outputs": [
    {
     "data": {
      "text/plain": [
       "[1, 0]"
      ]
     },
     "execution_count": 77,
     "metadata": {},
     "output_type": "execute_result"
    }
   ],
   "source": [
    "Solution().gridIllumination(N = 5, lamps = [[0,0],[4,4]], queries = [[1,1],[1,0]])"
   ]
  },
  {
   "cell_type": "code",
   "execution_count": 78,
   "metadata": {},
   "outputs": [
    {
     "data": {
      "text/plain": [
       "[1, 1, 1, 1]"
      ]
     },
     "execution_count": 78,
     "metadata": {},
     "output_type": "execute_result"
    }
   ],
   "source": [
    "Solution().gridIllumination(10, [[3,9],[3,6],[8,3],[5,3],[8,1],[1,3],[5,9],[4,2]]\n",
    ",[[1,9],[4,9],[7,1],[6,9]])"
   ]
  },
  {
   "cell_type": "code",
   "execution_count": null,
   "metadata": {},
   "outputs": [],
   "source": []
  }
 ],
 "metadata": {
  "kernelspec": {
   "display_name": "Python 3",
   "language": "python",
   "name": "python3"
  },
  "language_info": {
   "codemirror_mode": {
    "name": "ipython",
    "version": 3
   },
   "file_extension": ".py",
   "mimetype": "text/x-python",
   "name": "python",
   "nbconvert_exporter": "python",
   "pygments_lexer": "ipython3",
   "version": "3.8.1"
  }
 },
 "nbformat": 4,
 "nbformat_minor": 4
}
