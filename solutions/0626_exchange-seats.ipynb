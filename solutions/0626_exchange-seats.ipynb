{
 "cells": [
  {
   "cell_type": "markdown",
   "metadata": {},
   "source": [
    "[626. Exchange Seats](https://leetcode.com/problems/exchange-seats/)"
   ]
  },
  {
   "cell_type": "markdown",
   "metadata": {},
   "source": [
    "```sql\n",
    "# Write your MySQL query statement below\n",
    "SELECT\n",
    "    s1.id, COALESCE(s2.student, s1.student) AS student\n",
    "FROM\n",
    "    seat s1\n",
    "        LEFT JOIN\n",
    "    seat s2 ON ((s1.id + 1) ^ 1) - 1 = s2.id\n",
    "ORDER BY s1.id;\n",
    "```"
   ]
  },
  {
   "cell_type": "code",
   "execution_count": 1,
   "metadata": {},
   "outputs": [
    {
     "data": {
      "text/plain": [
       "<sqlite3.Cursor at 0x7f713c4d4c70>"
      ]
     },
     "execution_count": 1,
     "metadata": {},
     "output_type": "execute_result"
    }
   ],
   "source": [
    "import sqlite3\n",
    "con = sqlite3.connect(':memory:')\n",
    "c = con.cursor()\n",
    "c.execute('''\n",
    "Create table If Not Exists seat(id int, student varchar(255))\n",
    "''')\n",
    "c.execute('''\n",
    "insert into seat (id, student) values ('1', 'Abbot')\n",
    "''')\n",
    "c.execute('''\n",
    "insert into seat (id, student) values ('2', 'Doris')\n",
    "''')\n",
    "c.execute('''\n",
    "insert into seat (id, student) values ('3', 'Emerson')\n",
    "''')\n",
    "c.execute('''\n",
    "insert into seat (id, student) values ('4', 'Green')\n",
    "''')\n",
    "c.execute('''\n",
    "insert into seat (id, student) values ('5', 'Jeames')\n",
    "''')"
   ]
  },
  {
   "cell_type": "code",
   "execution_count": 2,
   "metadata": {},
   "outputs": [
    {
     "ename": "OperationalError",
     "evalue": "unrecognized token: \"^\"",
     "output_type": "error",
     "traceback": [
      "\u001b[0;31m---------------------------------------------------------------------------\u001b[0m",
      "\u001b[0;31mOperationalError\u001b[0m                          Traceback (most recent call last)",
      "\u001b[0;32m<ipython-input-2-7a9a097b0cf6>\u001b[0m in \u001b[0;36m<module>\u001b[0;34m\u001b[0m\n\u001b[1;32m      7\u001b[0m     \u001b[0mseat\u001b[0m \u001b[0ms2\u001b[0m \u001b[0mON\u001b[0m \u001b[0;34m(\u001b[0m\u001b[0;34m(\u001b[0m\u001b[0ms1\u001b[0m\u001b[0;34m.\u001b[0m\u001b[0mid\u001b[0m \u001b[0;34m+\u001b[0m \u001b[0;36m1\u001b[0m\u001b[0;34m)\u001b[0m \u001b[0;34m^\u001b[0m \u001b[0;36m1\u001b[0m\u001b[0;34m)\u001b[0m \u001b[0;34m-\u001b[0m \u001b[0;36m1\u001b[0m \u001b[0;34m=\u001b[0m \u001b[0ms2\u001b[0m\u001b[0;34m.\u001b[0m\u001b[0mid\u001b[0m\u001b[0;34m\u001b[0m\u001b[0;34m\u001b[0m\u001b[0m\n\u001b[1;32m      8\u001b[0m \u001b[0mORDER\u001b[0m \u001b[0mBY\u001b[0m \u001b[0ms1\u001b[0m\u001b[0;34m.\u001b[0m\u001b[0mid\u001b[0m\u001b[0;34m;\u001b[0m\u001b[0;34m\u001b[0m\u001b[0;34m\u001b[0m\u001b[0m\n\u001b[0;32m----> 9\u001b[0;31m ''').fetchall()\n\u001b[0m",
      "\u001b[0;31mOperationalError\u001b[0m: unrecognized token: \"^\""
     ]
    }
   ],
   "source": [
    "c.execute('''\n",
    "SELECT\n",
    "    s1.id, COALESCE(s2.student, s1.student) AS student\n",
    "FROM\n",
    "    seat s1\n",
    "        LEFT JOIN\n",
    "    seat s2 ON ((s1.id + 1) ^ 1) - 1 = s2.id\n",
    "ORDER BY s1.id;\n",
    "''').fetchall()"
   ]
  },
  {
   "cell_type": "code",
   "execution_count": null,
   "metadata": {},
   "outputs": [],
   "source": []
  }
 ],
 "metadata": {
  "kernelspec": {
   "display_name": "Python 3",
   "language": "python",
   "name": "python3"
  },
  "language_info": {
   "codemirror_mode": {
    "name": "ipython",
    "version": 3
   },
   "file_extension": ".py",
   "mimetype": "text/x-python",
   "name": "python",
   "nbconvert_exporter": "python",
   "pygments_lexer": "ipython3",
   "version": "3.6.7"
  }
 },
 "nbformat": 4,
 "nbformat_minor": 2
}
