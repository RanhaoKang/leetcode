{
 "cells": [
  {
   "cell_type": "markdown",
   "metadata": {},
   "source": [
    "[132. Palindrome Partitioning II](https://leetcode.com/problems/palindrome-partitioning-ii/)"
   ]
  },
  {
   "cell_type": "code",
   "execution_count": 1,
   "metadata": {},
   "outputs": [],
   "source": [
    "class Solution:\n",
    "    def minCut(self, s: str) -> int:\n",
    "        N = len(s)\n",
    "        cut = list(range(-1, N))\n",
    "        for i in range(0, N):\n",
    "            for j in range(i, N):\n",
    "                if s[i: j] == s[j: i: -1]:\n",
    "                    cut[j+1] = min(cut[j + 1], cut[i] + 1)\n",
    "        return cut[-1]"
   ]
  },
  {
   "cell_type": "code",
   "execution_count": null,
   "metadata": {},
   "outputs": [],
   "source": []
  }
 ],
 "metadata": {
  "kernelspec": {
   "display_name": "Python 3",
   "language": "python",
   "name": "python3"
  },
  "language_info": {
   "codemirror_mode": {
    "name": "ipython",
    "version": 3
   },
   "file_extension": ".py",
   "mimetype": "text/x-python",
   "name": "python",
   "nbconvert_exporter": "python",
   "pygments_lexer": "ipython3",
   "version": "3.8.1"
  }
 },
 "nbformat": 4,
 "nbformat_minor": 2
}
