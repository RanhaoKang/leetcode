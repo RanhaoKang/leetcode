{
 "cells": [
  {
   "cell_type": "markdown",
   "metadata": {},
   "source": [
    "[30. Substring with Concatenation of All Words](https://leetcode.com/problems/substring-with-concatenation-of-all-words/)"
   ]
  },
  {
   "cell_type": "markdown",
   "metadata": {},
   "source": [
    "思路上比较简单, 用map记录目前的结果避免排列组合, 然而需要弹出多余的`record`, 还得得到新的`start_idx`, 这样就得记录`start_idx`"
   ]
  },
  {
   "cell_type": "code",
   "execution_count": 1,
   "metadata": {},
   "outputs": [],
   "source": [
    "from collections import Counter\n",
    "\n",
    "class Solution:\n",
    "    def findSubstring(self, s: str, words):\n",
    "        res = []\n",
    "        k = len(words and words[0])\n",
    "        words = Counter(words)\n",
    "        N = len(s)\n",
    "        \n",
    "        i = 0\n",
    "        record = Counter()\n",
    "        start_idx = 0\n",
    "        while i < N:\n",
    "            word = s[i: i+k]\n",
    "            if word not in words:\n",
    "                record = Counter()\n",
    "                start_idx = i + k\n",
    "            else:\n",
    "                # 需要弹出多余的record, 还得得到新的start_idx, 好烦\n",
    "                record[word] += 1\n",
    "                if record == words:\n",
    "                    res.append(start_idx)\n",
    "                    record = Counter()\n",
    "        \n",
    "            i += k\n",
    "            \n",
    "        return res"
   ]
  },
  {
   "cell_type": "code",
   "execution_count": 2,
   "metadata": {},
   "outputs": [
    {
     "data": {
      "text/plain": [
       "[]"
      ]
     },
     "execution_count": 2,
     "metadata": {},
     "output_type": "execute_result"
    }
   ],
   "source": [
    "Solution().findSubstring('', [])"
   ]
  },
  {
   "cell_type": "code",
   "execution_count": 3,
   "metadata": {},
   "outputs": [
    {
     "data": {
      "text/plain": [
       "[0, 9]"
      ]
     },
     "execution_count": 3,
     "metadata": {},
     "output_type": "execute_result"
    }
   ],
   "source": [
    "Solution().findSubstring('barfoothefoobarman', ['foo', 'bar'])"
   ]
  },
  {
   "cell_type": "code",
   "execution_count": 4,
   "metadata": {},
   "outputs": [
    {
     "data": {
      "text/plain": [
       "[]"
      ]
     },
     "execution_count": 4,
     "metadata": {},
     "output_type": "execute_result"
    }
   ],
   "source": [
    "Solution().findSubstring('wordgoodgoodgoodbestword', [\"word\",\"good\",\"best\",\"word\"])"
   ]
  },
  {
   "cell_type": "code",
   "execution_count": 5,
   "metadata": {},
   "outputs": [
    {
     "data": {
      "text/plain": [
       "[]"
      ]
     },
     "execution_count": 5,
     "metadata": {},
     "output_type": "execute_result"
    }
   ],
   "source": [
    "Solution().findSubstring('barfoofoobarthefoobarman', [\"bar\",\"foo\",\"the\"])"
   ]
  },
  {
   "cell_type": "markdown",
   "metadata": {},
   "source": [
    "所以抄作业了, 也没有弹出多余的操作, 而是又从头做了一次(for循环), 没想到也挺快的"
   ]
  },
  {
   "cell_type": "code",
   "execution_count": 6,
   "metadata": {},
   "outputs": [],
   "source": [
    "class Solution:\n",
    "    def _findSubstring(self, l, r, n, k, t, s, req, ans):\n",
    "        curr = {}\n",
    "        while r + k <= n:\n",
    "            w = s[r:r + k]\n",
    "            r += k\n",
    "            if w not in req:\n",
    "                l = r\n",
    "                curr.clear()\n",
    "            else:\n",
    "                curr[w] = curr[w] + 1 if w in curr else 1\n",
    "                while curr[w] > req[w]:\n",
    "                    curr[s[l:l + k]] -= 1\n",
    "                    l += k\n",
    "                if r - l == t:\n",
    "                    ans.append(l)\n",
    "\n",
    "    def findSubstring(self, s, words):\n",
    "        if not s or not words or not words[0]:\n",
    "            return []\n",
    "        n = len(s)\n",
    "        k = len(words[0])\n",
    "        t = len(words) * k\n",
    "        req = {}\n",
    "        for w in words:\n",
    "            req[w] = req[w] + 1 if w in req else 1\n",
    "        ans = []\n",
    "        for i in range(min(k, n - t + 1)):\n",
    "            self._findSubstring(i, i, n, k, t, s, req, ans)\n",
    "        return ans"
   ]
  },
  {
   "cell_type": "code",
   "execution_count": null,
   "metadata": {},
   "outputs": [],
   "source": []
  }
 ],
 "metadata": {
  "kernelspec": {
   "display_name": "Python 3",
   "language": "python",
   "name": "python3"
  },
  "language_info": {
   "codemirror_mode": {
    "name": "ipython",
    "version": 3
   },
   "file_extension": ".py",
   "mimetype": "text/x-python",
   "name": "python",
   "nbconvert_exporter": "python",
   "pygments_lexer": "ipython3",
   "version": "3.6.7"
  }
 },
 "nbformat": 4,
 "nbformat_minor": 2
}
