{
 "cells": [
  {
   "cell_type": "markdown",
   "metadata": {},
   "source": [
    "[767. Reorganize String](https://leetcode.com/problems/reorganize-string/)"
   ]
  },
  {
   "cell_type": "code",
   "execution_count": 32,
   "metadata": {},
   "outputs": [],
   "source": [
    "class Solution:\n",
    "    def reorganizeString(self, S: str) -> str:\n",
    "        from collections import Counter\n",
    "        N = len(S)\n",
    "        \n",
    "        c = Counter(S)\n",
    "        if c.most_common(1)[0][1] > (N+1)//2:\n",
    "            return ''\n",
    "        \n",
    "        alternates = []\n",
    "        for char, count in c.most_common()[::-1]:\n",
    "            alternates.extend(char * count)\n",
    "        \n",
    "        res = [None] * N\n",
    "        res[::2], res[1::2] = alternates[N//2:], alternates[:N//2]\n",
    "        \n",
    "        return ''.join(res)"
   ]
  },
  {
   "cell_type": "code",
   "execution_count": 33,
   "metadata": {},
   "outputs": [
    {
     "data": {
      "text/plain": [
       "'aba'"
      ]
     },
     "execution_count": 33,
     "metadata": {},
     "output_type": "execute_result"
    }
   ],
   "source": [
    "Solution().reorganizeString('aab')"
   ]
  },
  {
   "cell_type": "code",
   "execution_count": null,
   "metadata": {},
   "outputs": [],
   "source": []
  }
 ],
 "metadata": {
  "kernelspec": {
   "display_name": "Python 3",
   "language": "python",
   "name": "python3"
  },
  "language_info": {
   "codemirror_mode": {
    "name": "ipython",
    "version": 3
   },
   "file_extension": ".py",
   "mimetype": "text/x-python",
   "name": "python",
   "nbconvert_exporter": "python",
   "pygments_lexer": "ipython3",
   "version": "3.7.3"
  }
 },
 "nbformat": 4,
 "nbformat_minor": 2
}
