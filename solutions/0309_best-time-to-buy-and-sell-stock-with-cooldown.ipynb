{
 "cells": [
  {
   "cell_type": "markdown",
   "metadata": {},
   "source": [
    "[309. Best Time to Buy and Sell Stock with Cooldown](https://leetcode.com/problems/best-time-to-buy-and-sell-stock-with-cooldown/)"
   ]
  },
  {
   "cell_type": "markdown",
   "metadata": {},
   "source": [
    "在第`i`天做`buy`/`cooldown`/`sell`操作获得的最大收益。\n",
    "\n",
    "- 如果在第`i`天`buy`, 前一天则只能做`cooldown`一个操作, 并且要减去当天的股价(买入), 所以是`buy[i] = max(cooldown[i-1] - prices[i], buy[i-1])`\n",
    "- 如果在第`i`天`sell`, 之前必须先进行过`buy`, 这一点如何保证呢? 从第一条我们得出, 在第`i`天, `buy[i-1]`是所有`buy`中收益最高的, 所以只需要把`buy[i-1]`当做\"之前\"即可. `sell[i] = max(buy[i-1] + prices[i], sell[i-1])`\n",
    "- 如果在第`i`天`cooldown`, 之前三种可能都有, 故`cooldown[i] = max(sell[i-1], buy[i-1], cooldown[i-1])`"
   ]
  },
  {
   "cell_type": "markdown",
   "metadata": {},
   "source": [
    "44ms"
   ]
  },
  {
   "cell_type": "code",
   "execution_count": 7,
   "metadata": {},
   "outputs": [],
   "source": [
    "class Solution:\n",
    "    def maxProfit(self, prices) -> int:\n",
    "        length = len(prices)\n",
    "        if length == 0:\n",
    "            return 0\n",
    "        # 在第i天做buy/cooldown/sell操作获得的最大收益\n",
    "        buy, cooldown, sell = [[0] * length for _ in range(3)]\n",
    "        buy[0] = -prices[0]\n",
    "        \n",
    "        for i in range(1, length):\n",
    "            buy[i] = max(sell[i - 2] - prices[i], buy[i - 1])\n",
    "            \n",
    "            sell[i] = max(buy[i - 1] + prices[i], sell[i - 1])\n",
    "    \n",
    "        return sell[-1]"
   ]
  },
  {
   "cell_type": "code",
   "execution_count": 8,
   "metadata": {},
   "outputs": [
    {
     "data": {
      "text/plain": [
       "3"
      ]
     },
     "execution_count": 8,
     "metadata": {},
     "output_type": "execute_result"
    }
   ],
   "source": [
    "Solution().maxProfit([1,2,3,0,2])"
   ]
  },
  {
   "cell_type": "code",
   "execution_count": null,
   "metadata": {},
   "outputs": [],
   "source": []
  }
 ],
 "metadata": {
  "kernelspec": {
   "display_name": "Python 3",
   "language": "python",
   "name": "python3"
  },
  "language_info": {
   "codemirror_mode": {
    "name": "ipython",
    "version": 3
   },
   "file_extension": ".py",
   "mimetype": "text/x-python",
   "name": "python",
   "nbconvert_exporter": "python",
   "pygments_lexer": "ipython3",
   "version": "3.6.7"
  }
 },
 "nbformat": 4,
 "nbformat_minor": 2
}
