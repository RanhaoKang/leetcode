{
 "cells": [
  {
   "cell_type": "markdown",
   "metadata": {},
   "source": [
    "[1370. Increasing Decreasing String](https://leetcode.com/problems/increasing-decreasing-string/)"
   ]
  },
  {
   "cell_type": "code",
   "execution_count": 1,
   "metadata": {},
   "outputs": [],
   "source": [
    "class Solution:\n",
    "    def sortString(self, s: str) -> str:\n",
    "        cnt, ans, asc = collections.Counter(s), [], True\n",
    "        while cnt:                                                                  # if Counter not empty.\n",
    "            for c in sorted(cnt.keys()) if asc else reversed(sorted(cnt.keys())):   # traverse keys in ascending/descending order.\n",
    "                ans.append(c)                                                       # append the key.\n",
    "                cnt[c] -= 1                                                         # decrease the count.\n",
    "                if cnt[c] == 0:                                                     # if the count reaches to 0.\n",
    "                    del cnt[c]                                                      # remove the key from the Counter.\n",
    "            asc ^= True                                                             # change the order.\n",
    "        return ''.join(ans)"
   ]
  },
  {
   "cell_type": "code",
   "execution_count": null,
   "metadata": {},
   "outputs": [],
   "source": []
  }
 ],
 "metadata": {
  "kernelspec": {
   "display_name": "Python 3",
   "language": "python",
   "name": "python3"
  },
  "language_info": {
   "codemirror_mode": {
    "name": "ipython",
    "version": 3
   },
   "file_extension": ".py",
   "mimetype": "text/x-python",
   "name": "python",
   "nbconvert_exporter": "python",
   "pygments_lexer": "ipython3",
   "version": "3.8.1"
  }
 },
 "nbformat": 4,
 "nbformat_minor": 4
}
