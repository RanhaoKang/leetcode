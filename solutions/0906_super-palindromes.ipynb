{
 "cells": [
  {
   "cell_type": "markdown",
   "metadata": {},
   "source": [
    "[906. Super Palindromes](https://leetcode.com/problems/super-palindromes/)"
   ]
  },
  {
   "cell_type": "code",
   "execution_count": 2,
   "metadata": {},
   "outputs": [],
   "source": [
    "class Solution:\n",
    "    def superpalindromesInRange(self, L: str, R: str) -> int:\n",
    "        \n",
    "        L, R = int(L), int(R)\n",
    "        left = int(math.floor(math.sqrt(L)))\n",
    "        right = int(math.ceil(math.sqrt(R)))\n",
    "        \n",
    "        n1, n2 = len(str(left)), len(str(right))\n",
    "        \n",
    "        n1 = n1//2 if n1%2==0 else n1//2+1\n",
    "        n2 = n2//2 if n2%2==0 else n2//2+1\n",
    "        \n",
    "        start = int('1' + '0' * (n1 - 1))\n",
    "        end = int('9' * n2) + 1\n",
    "        \n",
    "        ans = 0\n",
    "        for i in range(start, end):\n",
    "            x = str(i)\n",
    "            num1 = int(x + x[::-1])\n",
    "            num2 = int(x + x[:-1][::-1])\n",
    "            for num in [num1, num2]:\n",
    "                cand = num * num\n",
    "                if cand >= L and cand <= R and str(cand) == str(cand)[::-1]:\n",
    "                    ans += 1\n",
    "        return ans"
   ]
  },
  {
   "cell_type": "code",
   "execution_count": null,
   "metadata": {},
   "outputs": [],
   "source": []
  }
 ],
 "metadata": {
  "kernelspec": {
   "display_name": "Python 3",
   "language": "python",
   "name": "python3"
  },
  "language_info": {
   "codemirror_mode": {
    "name": "ipython",
    "version": 3
   },
   "file_extension": ".py",
   "mimetype": "text/x-python",
   "name": "python",
   "nbconvert_exporter": "python",
   "pygments_lexer": "ipython3",
   "version": "3.8.1"
  }
 },
 "nbformat": 4,
 "nbformat_minor": 4
}
