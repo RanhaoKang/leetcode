{
 "cells": [
  {
   "cell_type": "markdown",
   "metadata": {},
   "source": [
    "[215. Kth Largest Element in an Array](https://leetcode.com/problems/kth-largest-element-in-an-array/)"
   ]
  },
  {
   "cell_type": "code",
   "execution_count": 1,
   "metadata": {},
   "outputs": [],
   "source": [
    "class Solution:\n",
    "    def findKthLargest(self, nums, k: int) -> int:\n",
    "        length = len(nums)\n",
    "        k = length + 1 - k\n",
    "        print('k: ', k)\n",
    "        l, r = 0, length - 1\n",
    "\n",
    "        def f(l, r):\n",
    "            pivot = nums[l]\n",
    "            print('pivot:', pivot)\n",
    "            while l < r:\n",
    "                while l < r and nums[r] >= pivot:\n",
    "                    r -= 1\n",
    "                nums[l] = nums[r]\n",
    "                while l < r and nums[l] <= pivot:\n",
    "                    l += 1\n",
    "                nums[r] = nums[l]\n",
    "            nums[l] = pivot\n",
    "            return l\n",
    "        \n",
    "        if l == r:\n",
    "            return nums[0]\n",
    "        while l < r:\n",
    "            m = f(l, r)\n",
    "            print(nums, l, m, r)\n",
    "            if m == k:\n",
    "                break\n",
    "            elif m > k:\n",
    "                r = m - 1\n",
    "            else:\n",
    "                l = m + 1\n",
    "        print('l, m, r:', l,m,r)\n",
    "        print(nums)\n",
    "        return nums[m]"
   ]
  },
  {
   "cell_type": "code",
   "execution_count": 3,
   "metadata": {},
   "outputs": [],
   "source": [
    "class Solution:\n",
    "    def partition(self, xs, lo, hi):\n",
    "        mid = lo + (hi-lo)//2\n",
    "        xs[mid], xs[hi] = xs[hi], xs[mid]\n",
    "        # invariant:\n",
    "        #\n",
    "        #   xs[j] <= xs[hi] for all j <= i\n",
    "        #   xs[j] >  xs[hi] for all j >  i\n",
    "        i = lo\n",
    "        for j in range(lo, hi):\n",
    "            if xs[j] <= xs[hi]:\n",
    "                xs[j], xs[i] = xs[i], xs[j]\n",
    "                i += 1\n",
    "        xs[i], xs[hi] = xs[hi], xs[i]\n",
    "        return i\n",
    "\n",
    "    def findKthLargest(self, xs, k):\n",
    "        '''kth largest element in O(n) time and O(1) space.'''\n",
    "        n = len(xs)\n",
    "        lo, hi = 0, n-1\n",
    "        while lo <= hi:\n",
    "            p = self.partition(xs, lo, hi)\n",
    "            if p == n-k:\n",
    "                return xs[p]\n",
    "            elif p < n-k:\n",
    "                lo = p+1\n",
    "            else:\n",
    "                hi = p-1\n",
    "        raise ValueError(xs, k)"
   ]
  },
  {
   "cell_type": "code",
   "execution_count": 2,
   "metadata": {},
   "outputs": [
    {
     "name": "stdout",
     "output_type": "stream",
     "text": [
      "k:  6\n",
      "pivot: 3\n",
      "[2, 2, 3, 1, 3, 4, 5, 5, 6] 0 4 8\n",
      "pivot: 4\n",
      "[2, 2, 3, 1, 3, 4, 5, 5, 6] 5 5 8\n",
      "pivot: 5\n",
      "[2, 2, 3, 1, 3, 4, 5, 5, 6] 6 6 8\n",
      "l, m, r: 6 6 8\n",
      "[2, 2, 3, 1, 3, 4, 5, 5, 6]\n"
     ]
    },
    {
     "data": {
      "text/plain": [
       "5"
      ]
     },
     "execution_count": 2,
     "metadata": {},
     "output_type": "execute_result"
    }
   ],
   "source": [
    "Solution().findKthLargest([3,2,3,1,2,4,5,5,6], 4)"
   ]
  },
  {
   "cell_type": "code",
   "execution_count": null,
   "metadata": {},
   "outputs": [],
   "source": []
  }
 ],
 "metadata": {
  "kernelspec": {
   "display_name": "Python 3",
   "language": "python",
   "name": "python3"
  },
  "language_info": {
   "codemirror_mode": {
    "name": "ipython",
    "version": 3
   },
   "file_extension": ".py",
   "mimetype": "text/x-python",
   "name": "python",
   "nbconvert_exporter": "python",
   "pygments_lexer": "ipython3",
   "version": "3.8.1"
  }
 },
 "nbformat": 4,
 "nbformat_minor": 2
}
