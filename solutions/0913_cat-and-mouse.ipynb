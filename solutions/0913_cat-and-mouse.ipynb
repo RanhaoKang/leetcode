{
 "cells": [
  {
   "cell_type": "markdown",
   "metadata": {},
   "source": [
    "[913. Cat and Mouse](https://leetcode.com/problems/cat-and-mouse/)"
   ]
  },
  {
   "cell_type": "code",
   "execution_count": 4,
   "metadata": {},
   "outputs": [],
   "source": [
    "class Solution:\n",
    "    def catMouseGame(self, graph) -> int:\n",
    "        N = len(graph)\n",
    "\n",
    "        # What nodes could play their turn to\n",
    "        # arrive at node (m, c, t) ?\n",
    "        def parents(m, c, t):\n",
    "            if t == 2:\n",
    "                for m2 in graph[m]:\n",
    "                    yield m2, c, 3-t\n",
    "            else:\n",
    "                for c2 in graph[c]:\n",
    "                    if c2:\n",
    "                        yield m, c2, 3-t\n",
    "\n",
    "        DRAW, MOUSE, CAT = 0, 1, 2\n",
    "        color = collections.defaultdict(int)\n",
    "\n",
    "        # degree[node] : the number of neutral children of this node\n",
    "        degree = {}\n",
    "        for m in range(N):\n",
    "            for c in range(N):\n",
    "                degree[m,c,1] = len(graph[m])\n",
    "                degree[m,c,2] = len(graph[c]) - (0 in graph[c])\n",
    "\n",
    "        # enqueued : all nodes that are colored\n",
    "        queue = collections.deque([])\n",
    "        for i in range(N):\n",
    "            for t in range(1, 3):\n",
    "                color[0, i, t] = MOUSE\n",
    "                queue.append((0, i, t, MOUSE))\n",
    "                if i > 0:\n",
    "                    color[i, i, t] = CAT\n",
    "                    queue.append((i, i, t, CAT))\n",
    "\n",
    "        # percolate\n",
    "        while queue:\n",
    "            # for nodes that are colored :\n",
    "            i, j, t, c = queue.popleft()\n",
    "            # for every parent of this node i, j, t :\n",
    "            for i2, j2, t2 in parents(i, j, t):\n",
    "                # if this parent is not colored :\n",
    "                if color[i2, j2, t2] is DRAW:\n",
    "                    # if the parent can make a winning move (ie. mouse to MOUSE), do so\n",
    "                    if t2 == c: # winning move\n",
    "                        color[i2, j2, t2] = c\n",
    "                        queue.append((i2, j2, t2, c))\n",
    "                    # else, this parent has degree[parent]--, and enqueue if all children\n",
    "                    # of this parent are colored as losing moves\n",
    "                    else:\n",
    "                        degree[i2, j2, t2] -= 1\n",
    "                        if degree[i2, j2, t2] == 0:\n",
    "                            color[i2, j2, t2] = 3 - t2\n",
    "                            queue.append((i2, j2, t2, 3 - t2))\n",
    "\n",
    "        return color[1, 2, 1]"
   ]
  },
  {
   "cell_type": "code",
   "execution_count": null,
   "metadata": {},
   "outputs": [],
   "source": []
  }
 ],
 "metadata": {
  "kernelspec": {
   "display_name": "Python 3",
   "language": "python",
   "name": "python3"
  },
  "language_info": {
   "codemirror_mode": {
    "name": "ipython",
    "version": 3
   },
   "file_extension": ".py",
   "mimetype": "text/x-python",
   "name": "python",
   "nbconvert_exporter": "python",
   "pygments_lexer": "ipython3",
   "version": "3.8.1"
  }
 },
 "nbformat": 4,
 "nbformat_minor": 4
}
