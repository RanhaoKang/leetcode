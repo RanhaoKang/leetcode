{
 "cells": [
  {
   "cell_type": "markdown",
   "metadata": {},
   "source": [
    "[1340. Jump Game V](https://leetcode.com/problems/jump-game-v/)"
   ]
  },
  {
   "cell_type": "markdown",
   "metadata": {},
   "source": [
    "题目：任意位置开始，在`i +- x`的基础上，只能从高处跳到低处，且中途不能被撞到！"
   ]
  },
  {
   "cell_type": "markdown",
   "metadata": {},
   "source": [
    "lee的答案"
   ]
  },
  {
   "cell_type": "code",
   "execution_count": 1,
   "metadata": {},
   "outputs": [],
   "source": [
    "class Solution:\n",
    "    def maxJumps(self, A, d: int) -> int:\n",
    "        N = len(A)\n",
    "        dp, st = [1] * (n + 1), []\n",
    "        \n",
    "        for i, a in enumerate(A + [float('inf')]):\n",
    "            while st and A[st[-1]] < a:\n",
    "                L = [st.pop()]\n",
    "                while st and A[st[-1]] == A[L[0]]:\n",
    "                    L.append(st.pop())\n",
    "                for j in L:\n",
    "                    if i - j <= d:\n",
    "                        dp[i] = max(dp[i], dp[j] + 1)\n",
    "                    if st and j - st[-1] <= d:\n",
    "                        dp[st[-1]] = max(dp[st[-1]], dp[j] + 1)\n",
    "            st.append(i)\n",
    "        \n",
    "        return max(dp[:-1])"
   ]
  },
  {
   "cell_type": "code",
   "execution_count": null,
   "metadata": {},
   "outputs": [],
   "source": []
  }
 ],
 "metadata": {
  "kernelspec": {
   "display_name": "Python 3",
   "language": "python",
   "name": "python3"
  },
  "language_info": {
   "codemirror_mode": {
    "name": "ipython",
    "version": 3
   },
   "file_extension": ".py",
   "mimetype": "text/x-python",
   "name": "python",
   "nbconvert_exporter": "python",
   "pygments_lexer": "ipython3",
   "version": "3.8.1"
  }
 },
 "nbformat": 4,
 "nbformat_minor": 4
}
