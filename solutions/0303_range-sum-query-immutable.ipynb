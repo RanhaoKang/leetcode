{
 "cells": [
  {
   "cell_type": "markdown",
   "metadata": {},
   "source": [
    "[303. Range Sum Query - Immutable](https://leetcode.com/problems/range-sum-query-immutable/)"
   ]
  },
  {
   "cell_type": "code",
   "execution_count": 27,
   "metadata": {},
   "outputs": [],
   "source": [
    "class NumArray:\n",
    "\n",
    "    def __init__(self, nums):\n",
    "        self.length = length = len(nums)\n",
    "        self.dp = [0] * length\n",
    "        if not length:\n",
    "            return\n",
    "        self.dp[0] = nums[0]\n",
    "        for i in range(1, length):\n",
    "            self.dp[i] = self.dp[i - 1] + nums[i]\n",
    "        self.dp = [0] + self.dp\n",
    "        print(self.dp)\n",
    "\n",
    "    def sumRange(self, i: int, j: int) -> int:\n",
    "        if not self.length:\n",
    "            return 0\n",
    "        if i < 0:\n",
    "            i = 0\n",
    "        if j > self.length - 1:\n",
    "            j = self.length - 1\n",
    "        print(i, j)\n",
    "        return self.dp[j + 1] - self.dp[i]\n",
    "\n",
    "# Your NumArray object will be instantiated and called as such:\n",
    "# obj = NumArray(nums)\n",
    "# param_1 = obj.sumRange(i,j)"
   ]
  },
  {
   "cell_type": "code",
   "execution_count": 37,
   "metadata": {},
   "outputs": [
    {
     "name": "stdout",
     "output_type": "stream",
     "text": [
      "[-2, -2, 1, -4, -2, -3]\n"
     ]
    }
   ],
   "source": [
    "obj = NumArray([-2, 0, 3, -5, 2, -1])"
   ]
  },
  {
   "cell_type": "code",
   "execution_count": 38,
   "metadata": {},
   "outputs": [
    {
     "data": {
      "text/plain": [
       "(0, -1, 0)"
      ]
     },
     "execution_count": 38,
     "metadata": {},
     "output_type": "execute_result"
    }
   ],
   "source": [
    "obj.sumRange(0, 2),\\\n",
    "obj.sumRange(2, 5),\\\n",
    "obj.sumRange(0, 5)"
   ]
  },
  {
   "cell_type": "markdown",
   "metadata": {},
   "source": [
    "这个哨兵设的有些蠢, 不如不设"
   ]
  },
  {
   "cell_type": "code",
   "execution_count": 36,
   "metadata": {},
   "outputs": [],
   "source": [
    "class NumArray:\n",
    "\n",
    "    def __init__(self, nums):\n",
    "        self.nums, self.length = nums, len(nums)\n",
    "        for i in range(1, self.length):\n",
    "            self.nums[i] += self.nums[i - 1]\n",
    "        print(self.nums)\n",
    "    def sumRange(self, i: int, j: int) -> int:\n",
    "        if j > self.length - 1:\n",
    "            j = -1\n",
    "        return self.nums[j] - (self.nums[i - 1] if i > 0 else 0)\n",
    "\n",
    "# Your NumArray object will be instantiated and called as such:\n",
    "# obj = NumArray(nums)\n",
    "# param_1 = obj.sumRange(i,j)"
   ]
  },
  {
   "cell_type": "code",
   "execution_count": null,
   "metadata": {},
   "outputs": [],
   "source": []
  },
  {
   "cell_type": "code",
   "execution_count": null,
   "metadata": {},
   "outputs": [],
   "source": []
  }
 ],
 "metadata": {
  "kernelspec": {
   "display_name": "Python 3",
   "language": "python",
   "name": "python3"
  },
  "language_info": {
   "codemirror_mode": {
    "name": "ipython",
    "version": 3
   },
   "file_extension": ".py",
   "mimetype": "text/x-python",
   "name": "python",
   "nbconvert_exporter": "python",
   "pygments_lexer": "ipython3",
   "version": "3.6.7"
  }
 },
 "nbformat": 4,
 "nbformat_minor": 2
}
