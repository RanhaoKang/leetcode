{
 "cells": [
  {
   "cell_type": "markdown",
   "metadata": {},
   "source": [
    "[989. Add to Array-Form of Integer](https://leetcode.com/problems/add-to-array-form-of-integer/)"
   ]
  },
  {
   "cell_type": "markdown",
   "metadata": {},
   "source": [
    "被边界条件搞得好臃肿的写法, 比起讨论区take K as carry的思想看起来复杂太多了.\n",
    "\n",
    "比较喜欢的点:\n",
    "- 从低到高输出每一位数字, 之后无限输出`False`的生成器"
   ]
  },
  {
   "cell_type": "code",
   "execution_count": 35,
   "metadata": {},
   "outputs": [],
   "source": [
    "class Solution:\n",
    "    def addToArrayForm(self, A, K: int):\n",
    "        def iterate(N):\n",
    "            while N:\n",
    "                yield N % 10\n",
    "                N //= 10\n",
    "            while True:\n",
    "                yield False\n",
    "    \n",
    "        next_bit = iterate(K)\n",
    "        carry = 0\n",
    "        for i in range(len(A) - 1, -1, -1):\n",
    "            carry, A[i] = divmod(A[i] + next(next_bit) + carry, 10)\n",
    "        \n",
    "        digit = next(next_bit)\n",
    "        while digit is not False or carry:\n",
    "            carry, new_digit = divmod(digit + carry, 10)\n",
    "            A = [new_digit] + A\n",
    "            digit = next(next_bit)\n",
    "            \n",
    "        \n",
    "        return ([carry] + A) if carry else A"
   ]
  },
  {
   "cell_type": "code",
   "execution_count": 34,
   "metadata": {},
   "outputs": [
    {
     "name": "stdout",
     "output_type": "stream",
     "text": [
      "0 0\n"
     ]
    },
    {
     "data": {
      "text/plain": [
       "[1, 0, 0, 0, 0]"
      ]
     },
     "execution_count": 34,
     "metadata": {},
     "output_type": "execute_result"
    }
   ],
   "source": [
    "Solution().addToArrayForm([0], 10000)"
   ]
  },
  {
   "cell_type": "code",
   "execution_count": null,
   "metadata": {},
   "outputs": [],
   "source": []
  }
 ],
 "metadata": {
  "kernelspec": {
   "display_name": "Python 3",
   "language": "python",
   "name": "python3"
  },
  "language_info": {
   "codemirror_mode": {
    "name": "ipython",
    "version": 3
   },
   "file_extension": ".py",
   "mimetype": "text/x-python",
   "name": "python",
   "nbconvert_exporter": "python",
   "pygments_lexer": "ipython3",
   "version": "3.6.7"
  }
 },
 "nbformat": 4,
 "nbformat_minor": 2
}
