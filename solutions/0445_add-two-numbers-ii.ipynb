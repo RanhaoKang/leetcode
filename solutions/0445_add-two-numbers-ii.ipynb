{
 "cells": [
  {
   "cell_type": "markdown",
   "metadata": {},
   "source": [
    "[445. Add Two Numbers II](https://leetcode.com/problems/add-two-numbers-ii/)"
   ]
  },
  {
   "cell_type": "markdown",
   "metadata": {},
   "source": [
    "基于链表的两数求和，数字高位处于头部\n",
    "\n",
    "Follow up: 不对传入链表做修改，特别是reverse"
   ]
  },
  {
   "cell_type": "markdown",
   "metadata": {},
   "source": [
    "对于原生支持大数的Python，性能最好的做法就是单纯转为两个`int`相加"
   ]
  },
  {
   "cell_type": "code",
   "execution_count": 1,
   "metadata": {},
   "outputs": [],
   "source": [
    "# Definition for singly-linked list.\n",
    "class ListNode:\n",
    "    def __init__(self, x):\n",
    "        self.val = x\n",
    "        self.next = None\n",
    "\n",
    "class Solution:\n",
    "    def addTwoNumbers(self, l1: ListNode, l2: ListNode) -> ListNode:\n",
    "        n1 = n2 = 0\n",
    "\n",
    "        while l1:\n",
    "            n1 = n1 * 10 + l1.val\n",
    "            l1 = l1.next\n",
    "\n",
    "        while l2:\n",
    "            n2 = n2 * 10 + l2.val\n",
    "            l2 = l2.next\n",
    "        \n",
    "        n = n1 + n2\n",
    "        p = tail = None\n",
    "        \n",
    "        while n:\n",
    "            p = ListNode(n % 10)\n",
    "            p.next, tail = tail, p\n",
    "            n //= 10\n",
    "        \n",
    "        return p or ListNode(0)"
   ]
  },
  {
   "cell_type": "code",
   "execution_count": null,
   "metadata": {},
   "outputs": [],
   "source": []
  }
 ],
 "metadata": {
  "kernelspec": {
   "display_name": "Python 3",
   "language": "python",
   "name": "python3"
  },
  "language_info": {
   "codemirror_mode": {
    "name": "ipython",
    "version": 3
   },
   "file_extension": ".py",
   "mimetype": "text/x-python",
   "name": "python",
   "nbconvert_exporter": "python",
   "pygments_lexer": "ipython3",
   "version": "3.8.0b3"
  }
 },
 "nbformat": 4,
 "nbformat_minor": 2
}
