{
 "cells": [
  {
   "cell_type": "markdown",
   "metadata": {},
   "source": [
    "[211. Add and Search Word - Data structure design](https://leetcode.com/problems/add-and-search-word-data-structure-design/)"
   ]
  },
  {
   "cell_type": "markdown",
   "metadata": {},
   "source": [
    "制作一个`Any`类，其余采用列表数据结构，TLE"
   ]
  },
  {
   "cell_type": "code",
   "execution_count": 33,
   "metadata": {},
   "outputs": [],
   "source": [
    "class Any:\n",
    "    def __eq__(self, a):\n",
    "        return True\n",
    "\n",
    "\n",
    "class WordDictionary:\n",
    "\n",
    "    def __init__(self):\n",
    "        \"\"\"\n",
    "        Initialize your data structure here.\n",
    "        \"\"\"\n",
    "        self._words = []\n",
    "        \n",
    "\n",
    "    def addWord(self, word: str) -> None:\n",
    "        \"\"\"\n",
    "        Adds a word into the data structure.\n",
    "        \"\"\"\n",
    "        self._words.append(tuple(word))\n",
    "        \n",
    "\n",
    "    def search(self, word: str) -> bool:\n",
    "        \"\"\"\n",
    "        Returns if the word is in the data structure. A word could contain the dot character '.' to represent any one letter.\n",
    "        \"\"\"\n",
    "        any = Any()\n",
    "        word = tuple(c if c != '.' else any for c in word)\n",
    "        print(word)\n",
    "        return self._words.count(word) > 0\n",
    "        \n",
    "\n",
    "\n",
    "# Your WordDictionary object will be instantiated and called as such:\n",
    "# obj = WordDictionary()\n",
    "# obj.addWord(word)\n",
    "# param_2 = obj.search(word)"
   ]
  },
  {
   "cell_type": "markdown",
   "metadata": {},
   "source": [
    "Trie"
   ]
  },
  {
   "cell_type": "code",
   "execution_count": 37,
   "metadata": {},
   "outputs": [],
   "source": [
    "class WordDictionary:\n",
    "\n",
    "    def __init__(self):\n",
    "        self.root = {}\n",
    "    \n",
    "    def addWord(self, word):\n",
    "        node = self.root\n",
    "        for char in word:\n",
    "            node = node.setdefault(char, {})\n",
    "        node['$'] = None\n",
    "\n",
    "    def search(self, word):\n",
    "        nodes = [self.root]\n",
    "        for char in word + '$':\n",
    "            nodes = [kid for node in nodes for kid in\n",
    "                     ([node[char]] if char in node else\n",
    "                      filter(None, node.values()) if char == '.' else [])]\n",
    "        return bool(nodes)"
   ]
  },
  {
   "cell_type": "code",
   "execution_count": null,
   "metadata": {},
   "outputs": [],
   "source": []
  }
 ],
 "metadata": {
  "kernelspec": {
   "display_name": "Python 3",
   "language": "python",
   "name": "python3"
  },
  "language_info": {
   "codemirror_mode": {
    "name": "ipython",
    "version": 3
   },
   "file_extension": ".py",
   "mimetype": "text/x-python",
   "name": "python",
   "nbconvert_exporter": "python",
   "pygments_lexer": "ipython3",
   "version": "3.8.0b3"
  }
 },
 "nbformat": 4,
 "nbformat_minor": 2
}
