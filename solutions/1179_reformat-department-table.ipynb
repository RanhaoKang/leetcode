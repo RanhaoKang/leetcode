{
 "cells": [
  {
   "cell_type": "markdown",
   "metadata": {},
   "source": [
    "[1179. Reformat Department Table](https://leetcode.com/problems/reformat-department-table/)"
   ]
  },
  {
   "cell_type": "markdown",
   "metadata": {},
   "source": [
    "```sql\n",
    "# Write your MySQL query statement below\n",
    "SELECT\n",
    "    id,\n",
    "    MAX(IF(month = 'Jan', revenue, null)) AS Jan_Revenue,\n",
    "    MAX(IF(month = 'Feb', revenue, null)) AS Feb_Revenue,\n",
    "    MAX(IF(month = 'Mar', revenue, null)) AS Mar_Revenue,\n",
    "    MAX(IF(month = 'Apr', revenue, null)) AS Apr_Revenue,\n",
    "    MAX(IF(month = 'May', revenue, null)) AS May_Revenue,\n",
    "    MAX(IF(month = 'Jun', revenue, null)) AS Jun_Revenue,\n",
    "    MAX(IF(month = 'Jul', revenue, null)) AS Jul_Revenue,\n",
    "    MAX(IF(month = 'Aug', revenue, null)) AS Aug_Revenue,\n",
    "    MAX(IF(month = 'Sep', revenue, null)) AS Sep_Revenue,\n",
    "    MAX(IF(month = 'Oct', revenue, null)) AS Oct_Revenue,\n",
    "    MAX(IF(month = 'Nov', revenue, null)) AS Nov_Revenue,\n",
    "    MAX(IF(month = 'Dec', revenue, null)) AS Dec_Revenue\n",
    "FROM Department\n",
    "GROUP BY id\n",
    "```"
   ]
  },
  {
   "cell_type": "code",
   "execution_count": null,
   "metadata": {},
   "outputs": [],
   "source": []
  }
 ],
 "metadata": {
  "kernelspec": {
   "display_name": "Python 3",
   "language": "python",
   "name": "python3"
  },
  "language_info": {
   "codemirror_mode": {
    "name": "ipython",
    "version": 3
   },
   "file_extension": ".py",
   "mimetype": "text/x-python",
   "name": "python",
   "nbconvert_exporter": "python",
   "pygments_lexer": "ipython3",
   "version": "3.7.3"
  }
 },
 "nbformat": 4,
 "nbformat_minor": 2
}
