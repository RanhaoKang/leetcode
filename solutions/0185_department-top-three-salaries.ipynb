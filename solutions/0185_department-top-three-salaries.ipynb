{
 "cells": [
  {
   "cell_type": "markdown",
   "metadata": {},
   "source": [
    "[185. Department Top Three Salaries](https://leetcode.com/problems/department-top-three-salaries/)"
   ]
  },
  {
   "cell_type": "markdown",
   "metadata": {},
   "source": [
    "```sql\n",
    "# Write your MySQL query statement below\n",
    "SELECT\n",
    "    d.Name AS 'Department', e1.Name AS 'Employee', e1.Salary\n",
    "FROM\n",
    "    Employee e1\n",
    "        JOIN\n",
    "    Department d ON e1.DepartmentId = d.Id\n",
    "WHERE\n",
    "    3 > (SELECT\n",
    "            COUNT(DISTINCT e2.Salary)\n",
    "        FROM\n",
    "            Employee e2\n",
    "        WHERE\n",
    "            e2.Salary > e1.Salary\n",
    "                AND e1.DepartmentId = e2.DepartmentId\n",
    "        )\n",
    ";\n",
    "```"
   ]
  },
  {
   "cell_type": "code",
   "execution_count": null,
   "metadata": {},
   "outputs": [],
   "source": []
  }
 ],
 "metadata": {
  "kernelspec": {
   "display_name": "Python 3",
   "language": "python",
   "name": "python3"
  },
  "language_info": {
   "codemirror_mode": {
    "name": "ipython",
    "version": 3
   },
   "file_extension": ".py",
   "mimetype": "text/x-python",
   "name": "python",
   "nbconvert_exporter": "python",
   "pygments_lexer": "ipython3",
   "version": "3.6.7"
  }
 },
 "nbformat": 4,
 "nbformat_minor": 2
}
