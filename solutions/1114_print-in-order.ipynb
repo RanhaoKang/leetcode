{
 "cells": [
  {
   "cell_type": "markdown",
   "metadata": {},
   "source": [
    "[1114. Print in Order](https://leetcode.com/problems/print-in-order/)"
   ]
  },
  {
   "cell_type": "markdown",
   "metadata": {},
   "source": [
    "没有拿Python多进程开发的需求，留一个精选discuss\n",
    "\n",
    "https://leetcode.com/problems/print-in-order/discuss/335939/5-Python-threading-solutions-(Barrier-Lock-Event-Semaphore-Condition)-with-explanation"
   ]
  },
  {
   "cell_type": "code",
   "execution_count": 1,
   "metadata": {},
   "outputs": [],
   "source": [
    "from threading import Barrier\n",
    "\n",
    "class Foo:\n",
    "    def __init__(self):\n",
    "        self.first_barrier = Barrier(2)\n",
    "        self.second_barrier = Barrier(2)\n",
    "\n",
    "\n",
    "    def first(self, printFirst: 'Callable[[], None]') -> None:\n",
    "        \n",
    "        # printFirst() outputs \"first\". Do not change or remove this line.\n",
    "        printFirst()\n",
    "        self.first_barrier.wait()\n",
    "\n",
    "\n",
    "    def second(self, printSecond: 'Callable[[], None]') -> None:\n",
    "        \n",
    "        # printSecond() outputs \"second\". Do not change or remove this line.\n",
    "        self.first_barrier.wait()\n",
    "        printSecond()\n",
    "        self.second_barrier.wait()\n",
    "\n",
    "\n",
    "    def third(self, printThird: 'Callable[[], None]') -> None:\n",
    "        \n",
    "        # printThird() outputs \"third\". Do not change or remove this line.\n",
    "        self.second_barrier.wait()\n",
    "        printThird()"
   ]
  },
  {
   "cell_type": "code",
   "execution_count": null,
   "metadata": {},
   "outputs": [],
   "source": []
  }
 ],
 "metadata": {
  "kernelspec": {
   "display_name": "Python 3",
   "language": "python",
   "name": "python3"
  },
  "language_info": {
   "codemirror_mode": {
    "name": "ipython",
    "version": 3
   },
   "file_extension": ".py",
   "mimetype": "text/x-python",
   "name": "python",
   "nbconvert_exporter": "python",
   "pygments_lexer": "ipython3",
   "version": "3.7.3"
  }
 },
 "nbformat": 4,
 "nbformat_minor": 2
}
