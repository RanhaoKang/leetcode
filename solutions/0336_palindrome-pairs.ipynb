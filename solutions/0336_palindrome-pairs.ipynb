{
 "cells": [
  {
   "cell_type": "markdown",
   "metadata": {},
   "source": [
    "[336. Palindrome Pairs](https://leetcode.com/problems/palindrome-pairs/)"
   ]
  },
  {
   "cell_type": "code",
   "execution_count": 4,
   "metadata": {},
   "outputs": [],
   "source": [
    "class Solution:\n",
    "    def palindromePairs(self, words):\n",
    "        def is_palindrome(check):\n",
    "            return check == check[::-1]\n",
    "\n",
    "        words = {word: i for i, word in enumerate(words)}\n",
    "        valid_pals = []\n",
    "        for word, k in words.items():\n",
    "            n = len(word)\n",
    "            for j in range(n+1):\n",
    "                pref = word[:j]\n",
    "                suf = word[j:]\n",
    "                if is_palindrome(pref):\n",
    "                    back = suf[::-1]\n",
    "                    if back != word and back in words:\n",
    "                        valid_pals.append([words[back],  k])\n",
    "                if j != n and is_palindrome(suf):\n",
    "                    back = pref[::-1]\n",
    "                    if back != word and back in words:\n",
    "                        valid_pals.append([k, words[back]])\n",
    "        return valid_pals"
   ]
  },
  {
   "cell_type": "code",
   "execution_count": null,
   "metadata": {},
   "outputs": [],
   "source": []
  }
 ],
 "metadata": {
  "kernelspec": {
   "display_name": "Python 3",
   "language": "python",
   "name": "python3"
  },
  "language_info": {
   "codemirror_mode": {
    "name": "ipython",
    "version": 3
   },
   "file_extension": ".py",
   "mimetype": "text/x-python",
   "name": "python",
   "nbconvert_exporter": "python",
   "pygments_lexer": "ipython3",
   "version": "3.8.1"
  }
 },
 "nbformat": 4,
 "nbformat_minor": 4
}
