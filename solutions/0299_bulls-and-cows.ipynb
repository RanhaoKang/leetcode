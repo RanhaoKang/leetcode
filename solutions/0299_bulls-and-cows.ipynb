{
 "cells": [
  {
   "cell_type": "markdown",
   "metadata": {},
   "source": [
    "[299. Bulls and Cows](https://leetcode.com/problems/bulls-and-cows/)"
   ]
  },
  {
   "cell_type": "markdown",
   "metadata": {},
   "source": [
    "小时候玩的[猜数字](https://zh.wikipedia.org/wiki/%E7%8C%9C%E6%95%B0%E5%AD%97)，原名叫[Bulls and Cows](https://en.wikipedia.org/wiki/Bulls_and_Cows)。不过这里只是一道字符串处理的题目了。"
   ]
  },
  {
   "cell_type": "code",
   "execution_count": 7,
   "metadata": {},
   "outputs": [],
   "source": [
    "class Solution:\n",
    "    def getHint(self, secret: str, guess: str) -> str:\n",
    "        from collections import Counter\n",
    "        \n",
    "        i = sum(1 for c1, c2 in zip(secret, guess) if c1 == c2)\n",
    "        j = sum((Counter(secret) & Counter(guess)).values()) - i\n",
    "        \n",
    "        return f'{i}A{j}B'"
   ]
  },
  {
   "cell_type": "code",
   "execution_count": 8,
   "metadata": {},
   "outputs": [
    {
     "data": {
      "text/plain": [
       "'1A3B'"
      ]
     },
     "execution_count": 8,
     "metadata": {},
     "output_type": "execute_result"
    }
   ],
   "source": [
    "Solution().getHint(\"1807\", \"7810\")"
   ]
  },
  {
   "cell_type": "code",
   "execution_count": null,
   "metadata": {},
   "outputs": [],
   "source": []
  }
 ],
 "metadata": {
  "kernelspec": {
   "display_name": "Python 3",
   "language": "python",
   "name": "python3"
  },
  "language_info": {
   "codemirror_mode": {
    "name": "ipython",
    "version": 3
   },
   "file_extension": ".py",
   "mimetype": "text/x-python",
   "name": "python",
   "nbconvert_exporter": "python",
   "pygments_lexer": "ipython3",
   "version": "3.8.1"
  }
 },
 "nbformat": 4,
 "nbformat_minor": 2
}
