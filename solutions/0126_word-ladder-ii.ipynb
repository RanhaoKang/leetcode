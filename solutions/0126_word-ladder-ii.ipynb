{
 "cells": [
  {
   "cell_type": "markdown",
   "metadata": {},
   "source": [
    "[126. Word Ladder II](https://leetcode.com/problems/word-ladder-ii/)"
   ]
  },
  {
   "cell_type": "code",
   "execution_count": 35,
   "metadata": {},
   "outputs": [],
   "source": [
    "from collections import defaultdict, deque\n",
    "\n",
    "class Solution:\n",
    "    def findLadders(self, beginWord: str, endWord: str, wordList):\n",
    "        if endWord not in wordList or not endWord or not beginWord or not wordList:\n",
    "            return []\n",
    "        \n",
    "        length = len(beginWord)\n",
    "        \n",
    "        d = defaultdict(list)\n",
    "        for word in wordList:\n",
    "            for i in range(length):\n",
    "                pattern = word[:i] + '*' + word[i + 1:]\n",
    "                d[pattern].append(word)\n",
    "        # print(d)\n",
    "        \n",
    "        queue = deque([[beginWord]])\n",
    "        can_reach = []\n",
    "        visited = set([beginWord])\n",
    "        min_dist = float('inf')\n",
    "        while queue:\n",
    "            path = queue.pop()\n",
    "            cur_word = path[-1]\n",
    "            \n",
    "            if cur_word == endWord:\n",
    "                can_reach.append(path)\n",
    "                min_dist = min(min_dist, len(path))\n",
    "                continue\n",
    "                \n",
    "            if len(path) >= min_dist:\n",
    "                continue\n",
    "            \n",
    "            for i in range(length):\n",
    "                cur_pattern = cur_word[:i] + '*' + cur_word[i + 1:]\n",
    "                print(visited)\n",
    "                for word in d[cur_pattern]:\n",
    "                    # if word not in path:\n",
    "                    if word not in visited:\n",
    "                        queue.appendleft(path + [word])\n",
    "                    visited.add(word)\n",
    "                \n",
    "        return [i for i in can_reach if len(i) == min_dist]"
   ]
  },
  {
   "cell_type": "code",
   "execution_count": 36,
   "metadata": {},
   "outputs": [
    {
     "name": "stdout",
     "output_type": "stream",
     "text": [
      "{'hit'}\n",
      "{'hit'}\n",
      "{'hit', 'hot'}\n",
      "{'hit', 'hot'}\n",
      "{'hit', 'lot', 'hot', 'dot'}\n",
      "{'hit', 'lot', 'hot', 'dot'}\n",
      "{'hit', 'lot', 'hot', 'dot'}\n",
      "{'hit', 'lot', 'hot', 'dot'}\n",
      "{'hit', 'lot', 'hot', 'dot'}\n",
      "{'lot', 'hit', 'dot', 'hot', 'dog'}\n",
      "{'lot', 'hit', 'dot', 'hot', 'dog'}\n",
      "{'lot', 'hit', 'dot', 'hot', 'dog'}\n",
      "{'log', 'lot', 'hit', 'dot', 'hot', 'dog'}\n",
      "{'log', 'lot', 'hit', 'dot', 'hot', 'cog', 'dog'}\n",
      "{'log', 'lot', 'hit', 'dot', 'hot', 'cog', 'dog'}\n",
      "{'log', 'lot', 'hit', 'dot', 'hot', 'cog', 'dog'}\n",
      "{'log', 'lot', 'hit', 'dot', 'hot', 'cog', 'dog'}\n",
      "{'log', 'lot', 'hit', 'dot', 'hot', 'cog', 'dog'}\n"
     ]
    },
    {
     "data": {
      "text/plain": [
       "[['hit', 'hot', 'dot', 'dog', 'cog']]"
      ]
     },
     "execution_count": 36,
     "metadata": {},
     "output_type": "execute_result"
    }
   ],
   "source": [
    "Solution().findLadders('hit', 'cog', [\"hot\",\"dot\",\"dog\",\"lot\",\"log\",\"cog\"])"
   ]
  },
  {
   "cell_type": "code",
   "execution_count": null,
   "metadata": {},
   "outputs": [],
   "source": []
  }
 ],
 "metadata": {
  "kernelspec": {
   "display_name": "Python 3",
   "language": "python",
   "name": "python3"
  },
  "language_info": {
   "codemirror_mode": {
    "name": "ipython",
    "version": 3
   },
   "file_extension": ".py",
   "mimetype": "text/x-python",
   "name": "python",
   "nbconvert_exporter": "python",
   "pygments_lexer": "ipython3",
   "version": "3.6.7"
  }
 },
 "nbformat": 4,
 "nbformat_minor": 2
}
