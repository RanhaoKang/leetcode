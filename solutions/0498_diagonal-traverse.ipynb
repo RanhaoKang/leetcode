{
 "cells": [
  {
   "cell_type": "markdown",
   "metadata": {},
   "source": [
    "[498. Diagonal Traverse](https://leetcode.com/problems/diagonal-traverse/)"
   ]
  },
  {
   "cell_type": "code",
   "execution_count": 2,
   "metadata": {},
   "outputs": [],
   "source": [
    "class Solution:\n",
    "    def findDiagonalOrder(self, matrix):\n",
    "        h, w = len(matrix), len(matrix and matrix[0])\n",
    "        from collections import deque\n",
    "        res = [deque() for _ in range(h + w - 1)]\n",
    "        for i in range(h):\n",
    "            for j in range(w):\n",
    "                if (i + j) % 2:\n",
    "                    res[i+j].append(matrix[i][j])\n",
    "                else:\n",
    "                    res[i+j].appendleft(matrix[i][j])\n",
    "        \n",
    "        fin = []\n",
    "        for i in res:\n",
    "            fin.extend(i)\n",
    "        return fin"
   ]
  },
  {
   "cell_type": "code",
   "execution_count": 3,
   "metadata": {},
   "outputs": [
    {
     "data": {
      "text/plain": [
       "[1, 2, 4, 7, 5, 3, 6, 8, 9]"
      ]
     },
     "execution_count": 3,
     "metadata": {},
     "output_type": "execute_result"
    }
   ],
   "source": [
    "Solution().findDiagonalOrder([\n",
    " [ 1, 2, 3 ],\n",
    " [ 4, 5, 6 ],\n",
    " [ 7, 8, 9 ]\n",
    "])"
   ]
  },
  {
   "cell_type": "code",
   "execution_count": 11,
   "metadata": {},
   "outputs": [],
   "source": [
    "class Solution:\n",
    "    def findDiagonalOrder(self, matrix):\n",
    "        \n",
    "        def iterate():\n",
    "            i = j = 0\n",
    "            while i != h and j != w:\n",
    "                yield matrix[i][j]\n",
    "                print(i, j)\n",
    "                \n",
    "                # ↗\n",
    "                if (i + j) % 2:\n",
    "                    # 掉头判断\n",
    "                    if i == h - 1 and j == 0:\n",
    "                        j += 1\n",
    "                    elif j == 0:\n",
    "                        i += 1\n",
    "                    elif i == h - 1:\n",
    "                        j += 1\n",
    "                    else:\n",
    "                        i, j = i + 1, j - 1\n",
    "                # ↙\n",
    "                else:\n",
    "                    # 掉头判断\n",
    "                    if i == 0 and j == w - 1:\n",
    "                        i += 1\n",
    "                    elif i == 0:\n",
    "                        j += 1\n",
    "                    elif j == w - 1:\n",
    "                        i += 1\n",
    "                    else:\n",
    "                        i, j = i - 1, j + 1\n",
    "        \n",
    "        \n",
    "        h, w = len(matrix), len(matrix and matrix[0])\n",
    "        return list(iterate())"
   ]
  },
  {
   "cell_type": "code",
   "execution_count": 12,
   "metadata": {},
   "outputs": [
    {
     "name": "stdout",
     "output_type": "stream",
     "text": [
      "0 0\n",
      "0 1\n",
      "1 0\n",
      "2 0\n",
      "1 1\n",
      "0 2\n",
      "1 2\n",
      "2 1\n",
      "2 2\n"
     ]
    },
    {
     "data": {
      "text/plain": [
       "[1, 2, 4, 7, 5, 3, 6, 8, 9]"
      ]
     },
     "execution_count": 12,
     "metadata": {},
     "output_type": "execute_result"
    }
   ],
   "source": [
    "Solution().findDiagonalOrder([\n",
    " [ 1, 2, 3 ],\n",
    " [ 4, 5, 6 ],\n",
    " [ 7, 8, 9 ]\n",
    "])"
   ]
  },
  {
   "cell_type": "code",
   "execution_count": null,
   "metadata": {},
   "outputs": [],
   "source": []
  }
 ],
 "metadata": {
  "kernelspec": {
   "display_name": "Python 3",
   "language": "python",
   "name": "python3"
  },
  "language_info": {
   "codemirror_mode": {
    "name": "ipython",
    "version": 3
   },
   "file_extension": ".py",
   "mimetype": "text/x-python",
   "name": "python",
   "nbconvert_exporter": "python",
   "pygments_lexer": "ipython3",
   "version": "3.6.7"
  }
 },
 "nbformat": 4,
 "nbformat_minor": 2
}
