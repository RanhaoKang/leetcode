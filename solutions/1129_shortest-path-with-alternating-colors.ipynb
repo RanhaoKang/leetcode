{
 "cells": [
  {
   "cell_type": "markdown",
   "metadata": {},
   "source": [
    "[1129. Shortest Path with Alternating Colors](https://leetcode.com/problems/shortest-path-with-alternating-colors/)"
   ]
  },
  {
   "cell_type": "markdown",
   "metadata": {},
   "source": [
    "没有发现到达同一个节点时有两种状态，导致了后续不好改"
   ]
  },
  {
   "cell_type": "code",
   "execution_count": 41,
   "metadata": {},
   "outputs": [],
   "source": [
    "class Solution:\n",
    "    def shortestAlternatingPaths(self, N: int, red_edges, blue_edges):\n",
    "        res = [-1] * N\n",
    "        \n",
    "        # edges[i][j] = k: i到j有\n",
    "        # k=0b00: 无边\n",
    "        # k=0b01: 红边\n",
    "        # k=0b10: 蓝边\n",
    "        # k=0b11: 红蓝边\n",
    "        edges = [[0] * N for _ in range(N)]\n",
    "        for i, j in red_edges:\n",
    "            edges[i][j] |= 0b01\n",
    "        for i, j in blue_edges:\n",
    "            edges[i][j] |= 0b10\n",
    "        \n",
    "        # Q[_] = (i, j): 目前为i且下一个边需要j\n",
    "        Q, d = [[0, 0b01], [0, 0b10]], 0\n",
    "        while Q:\n",
    "            new_Q = []\n",
    "            for i, needed in Q:\n",
    "                if res[i] != -1:\n",
    "                    continue\n",
    "\n",
    "                res[i] = d\n",
    "                new_Q = [[j, needed == 0b01 and 0b10 or 0b01] for j, v in enumerate(edges[i]) if v & needed]\n",
    "            \n",
    "            Q, d = new_Q, d + 1\n",
    "        \n",
    "        return res"
   ]
  },
  {
   "cell_type": "code",
   "execution_count": 5,
   "metadata": {},
   "outputs": [
    {
     "data": {
      "text/plain": [
       "[0, 1, -1]"
      ]
     },
     "execution_count": 5,
     "metadata": {},
     "output_type": "execute_result"
    }
   ],
   "source": [
    "Solution().shortestAlternatingPaths(3, red_edges = [[0,1],[1,2]], blue_edges = [])"
   ]
  },
  {
   "cell_type": "code",
   "execution_count": 6,
   "metadata": {},
   "outputs": [
    {
     "data": {
      "text/plain": [
       "[0, 1, -1]"
      ]
     },
     "execution_count": 6,
     "metadata": {},
     "output_type": "execute_result"
    }
   ],
   "source": [
    "Solution().shortestAlternatingPaths(3, red_edges = [[0,1]], blue_edges = [[2,1]])"
   ]
  },
  {
   "cell_type": "code",
   "execution_count": 7,
   "metadata": {},
   "outputs": [
    {
     "data": {
      "text/plain": [
       "[0, 1, 2]"
      ]
     },
     "execution_count": 7,
     "metadata": {},
     "output_type": "execute_result"
    }
   ],
   "source": [
    "Solution().shortestAlternatingPaths(3, red_edges = [[0,1]], blue_edges = [[1,2]])"
   ]
  },
  {
   "cell_type": "markdown",
   "metadata": {},
   "source": [
    "导致了这个case错误"
   ]
  },
  {
   "cell_type": "code",
   "execution_count": 42,
   "metadata": {},
   "outputs": [
    {
     "data": {
      "text/plain": [
       "[0, 1, 2, 3, -1]"
      ]
     },
     "execution_count": 42,
     "metadata": {},
     "output_type": "execute_result"
    }
   ],
   "source": [
    "Solution().shortestAlternatingPaths(\n",
    "    5,\n",
    "    [[0,1],[1,2],[2,3],[3,4]],\n",
    "    [[1,2],[2,3],[3,1]]\n",
    ")"
   ]
  },
  {
   "cell_type": "markdown",
   "metadata": {},
   "source": [
    "lee的"
   ]
  },
  {
   "cell_type": "code",
   "execution_count": 33,
   "metadata": {},
   "outputs": [],
   "source": [
    "class Solution:\n",
    "    def shortestAlternatingPaths(self, n, red_edges, blue_edges):\n",
    "        G = [[[], []] for i in range(n)]\n",
    "        for i, j in red_edges: G[i][0].append(j)\n",
    "        for i, j in blue_edges: G[i][1].append(j)\n",
    "        res = [[0, 0]] + [[n * 2, n * 2] for i in range(n - 1)]\n",
    "        bfs = [[0, 0], [0, 1]]\n",
    "        for i, c in bfs:\n",
    "            for j in G[i][c]:\n",
    "                if res[j][c] == n * 2:\n",
    "                    res[j][c] = res[i][1 - c] + 1\n",
    "                    bfs.append([j, 1 - c])\n",
    "        return [x if x < n * 2 else -1 for x in map(min, res)]"
   ]
  },
  {
   "cell_type": "code",
   "execution_count": 24,
   "metadata": {},
   "outputs": [
    {
     "data": {
      "text/plain": [
       "[0, 1, 2, 3, 7]"
      ]
     },
     "execution_count": 24,
     "metadata": {},
     "output_type": "execute_result"
    }
   ],
   "source": [
    "Solution().shortestAlternatingPaths(\n",
    "    5,\n",
    "    [[0,1],[1,2],[2,3],[3,4]],\n",
    "    [[1,2],[2,3],[3,1]]\n",
    ")"
   ]
  },
  {
   "cell_type": "code",
   "execution_count": null,
   "metadata": {},
   "outputs": [],
   "source": []
  }
 ],
 "metadata": {
  "kernelspec": {
   "display_name": "Python 3",
   "language": "python",
   "name": "python3"
  },
  "language_info": {
   "codemirror_mode": {
    "name": "ipython",
    "version": 3
   },
   "file_extension": ".py",
   "mimetype": "text/x-python",
   "name": "python",
   "nbconvert_exporter": "python",
   "pygments_lexer": "ipython3",
   "version": "3.8.1"
  }
 },
 "nbformat": 4,
 "nbformat_minor": 4
}
