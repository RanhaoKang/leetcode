{
 "cells": [
  {
   "cell_type": "markdown",
   "metadata": {},
   "source": [
    "[122. Best Time to Buy and Sell Stock II](https://leetcode.com/problems/best-time-to-buy-and-sell-stock-ii/)"
   ]
  },
  {
   "cell_type": "markdown",
   "metadata": {},
   "source": [
    "最粗暴的方式是挣到每一个差值, 然而题目不允许进行交错的买卖, 如当天的卖出买进, 所以在思考时这个答案容易被否决掉. 实际上对于数轴上的两个点, 我们在其中插入中间点并求距离和, 依然等于两个端点之间的距离.\n",
    "\n",
    "如`[1, 50, 100, 1000]`, `distance = 999`, `50-1 + 100-50 + 1000-100 = 999`"
   ]
  },
  {
   "cell_type": "code",
   "execution_count": 1,
   "metadata": {},
   "outputs": [],
   "source": [
    "class Solution:\n",
    "    def maxProfit(self, prices) -> int:\n",
    "        res = 0\n",
    "        for i in range(1, len(prices)):\n",
    "            if prices[i] > prices[i-1]:\n",
    "                res += prices[i] - prices[i-1]\n",
    "        return res"
   ]
  },
  {
   "cell_type": "markdown",
   "metadata": {},
   "source": [
    "如果拒绝这样的答案, 我们则需要还原直觉中的答案: 在每个低点买进, 在每个高点卖出"
   ]
  },
  {
   "cell_type": "code",
   "execution_count": 2,
   "metadata": {},
   "outputs": [],
   "source": [
    "class Solution:\n",
    "    def maxProfit(self, prices) -> int:\n",
    "        profit = 0\n",
    "        i = 0\n",
    "        length = len(prices)\n",
    "        while i < length:\n",
    "            while i < length - 1 and prices[i+1] <= prices[i]:\n",
    "                i += 1\n",
    "            minimum = prices[i]\n",
    "            i += 1\n",
    "\n",
    "            while i < length - 1 and prices[i+1] >= prices[i]:\n",
    "                i += 1\n",
    "            maximum = prices[i] if i < length else minimum\n",
    "\n",
    "            profit += maximum - minimum\n",
    "        \n",
    "        return profit\n",
    "            "
   ]
  },
  {
   "cell_type": "code",
   "execution_count": null,
   "metadata": {},
   "outputs": [],
   "source": []
  }
 ],
 "metadata": {
  "kernelspec": {
   "display_name": "Python 3",
   "language": "python",
   "name": "python3"
  },
  "language_info": {
   "codemirror_mode": {
    "name": "ipython",
    "version": 3
   },
   "file_extension": ".py",
   "mimetype": "text/x-python",
   "name": "python",
   "nbconvert_exporter": "python",
   "pygments_lexer": "ipython3",
   "version": "3.6.7"
  }
 },
 "nbformat": 4,
 "nbformat_minor": 2
}
