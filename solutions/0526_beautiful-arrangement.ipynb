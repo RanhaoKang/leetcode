{
 "cells": [
  {
   "cell_type": "markdown",
   "metadata": {},
   "source": [
    "[526. Beautiful Arrangement](https://leetcode.com/problems/beautiful-arrangement/)"
   ]
  },
  {
   "cell_type": "code",
   "execution_count": 3,
   "metadata": {},
   "outputs": [],
   "source": [
    "cache = {}\n",
    "class Solution(object):\n",
    "    def countArrangement(self, N):\n",
    "        def helper(i, X):\n",
    "            if i == 1:\n",
    "                return 1\n",
    "            key = i, X\n",
    "            if key in cache:\n",
    "                return cache[key]\n",
    "            total = sum(helper(i - 1, X[:j] + X[j + 1:])\n",
    "                        for j, x in enumerate(X)\n",
    "                        if x % i == 0 or i % x == 0)\n",
    "            cache[key] = total\n",
    "            return total\n",
    "        return helper(N, tuple(range(1, N + 1)))"
   ]
  },
  {
   "cell_type": "code",
   "execution_count": null,
   "metadata": {},
   "outputs": [],
   "source": []
  }
 ],
 "metadata": {
  "kernelspec": {
   "display_name": "Python 3",
   "language": "python",
   "name": "python3"
  }
 },
 "nbformat": 4,
 "nbformat_minor": 4
}
