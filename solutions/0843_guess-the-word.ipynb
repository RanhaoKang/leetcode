{
 "cells": [
  {
   "cell_type": "markdown",
   "metadata": {},
   "source": [
    "[843. Guess the Word](https://leetcode.com/problems/guess-the-word/)"
   ]
  },
  {
   "cell_type": "code",
   "execution_count": 1,
   "metadata": {},
   "outputs": [],
   "source": [
    "# \"\"\"\n",
    "# This is Master's API interface.\n",
    "# You should not implement it, or speculate about its implementation\n",
    "# \"\"\"\n",
    "# class Master:\n",
    "#     def guess(self, word: str) -> int:\n",
    "\n",
    "class Solution:\n",
    "    def findSecretWord(self, wordlist, master: 'Master') -> None:\n",
    "        for i in range(10):\n",
    "            guess = random.choice(wordlist)\n",
    "            x = master.guess(guess)\n",
    "            wordlist = [w for w in wordlist if sum(i == j for i, j in zip(guess, w)) == x]"
   ]
  },
  {
   "cell_type": "code",
   "execution_count": null,
   "metadata": {},
   "outputs": [],
   "source": []
  }
 ],
 "metadata": {
  "kernelspec": {
   "display_name": "Python 3",
   "language": "python",
   "name": "python3"
  },
  "language_info": {
   "codemirror_mode": {
    "name": "ipython",
    "version": 3
   },
   "file_extension": ".py",
   "mimetype": "text/x-python",
   "name": "python",
   "nbconvert_exporter": "python",
   "pygments_lexer": "ipython3",
   "version": "3.8.1"
  }
 },
 "nbformat": 4,
 "nbformat_minor": 4
}
