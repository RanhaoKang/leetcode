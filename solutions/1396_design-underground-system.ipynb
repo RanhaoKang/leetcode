{
 "cells": [
  {
   "cell_type": "markdown",
   "metadata": {},
   "source": [
    "[1396. Design Underground System](https://leetcode.com/problems/design-underground-system/)"
   ]
  },
  {
   "cell_type": "code",
   "execution_count": 1,
   "metadata": {},
   "outputs": [],
   "source": [
    "class UndergroundSystem:\n",
    "\n",
    "    def __init__(self):\n",
    "        self.times = defaultdict(lambda : defaultdict(lambda : [0, 0]))\n",
    "        self.transit = defaultdict(list)\n",
    "\n",
    "    def checkIn(self, id: int, sname: str, t: int) -> None:\n",
    "        self.transit[id].extend([sname, t])\n",
    "\n",
    "    def checkOut(self, id: int, stationName: str, t: int) -> None:\n",
    "        srcname, srct = self.transit[id]\n",
    "        count, val = self.times[srcname][stationName] \n",
    "        self.times[srcname][stationName] = [count+1, val+t-srct] \n",
    "        self.transit[id] = []\n",
    "\n",
    "    def getAverageTime(self, startStation: str, endStation: str) -> float:\n",
    "        count, val = self.times[startStation][endStation] \n",
    "        return val / count\n",
    "\n",
    "\n",
    "# Your UndergroundSystem object will be instantiated and called as such:\n",
    "# obj = UndergroundSystem()\n",
    "# obj.checkIn(id,stationName,t)\n",
    "# obj.checkOut(id,stationName,t)\n",
    "# param_3 = obj.getAverageTime(startStation,endStation)"
   ]
  },
  {
   "cell_type": "code",
   "execution_count": null,
   "metadata": {},
   "outputs": [],
   "source": []
  }
 ],
 "metadata": {
  "kernelspec": {
   "display_name": "Python 3",
   "language": "python",
   "name": "python3"
  },
  "language_info": {
   "codemirror_mode": {
    "name": "ipython",
    "version": 3
   },
   "file_extension": ".py",
   "mimetype": "text/x-python",
   "name": "python",
   "nbconvert_exporter": "python",
   "pygments_lexer": "ipython3",
   "version": "3.8.1"
  }
 },
 "nbformat": 4,
 "nbformat_minor": 4
}
