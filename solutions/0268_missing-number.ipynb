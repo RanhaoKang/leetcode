{
 "cells": [
  {
   "cell_type": "markdown",
   "metadata": {},
   "source": [
    "[268. Missing Number](https://leetcode.com/problems/missing-number/)"
   ]
  },
  {
   "cell_type": "markdown",
   "metadata": {},
   "source": [
    "通用方法, 因为`0`比较麻烦, 给数组整体加`1`"
   ]
  },
  {
   "cell_type": "code",
   "execution_count": 45,
   "metadata": {},
   "outputs": [],
   "source": [
    "class Solution:\n",
    "    def missingNumber(self, nums) -> int:\n",
    "        length = len(nums)\n",
    "        nums = [i + 1 for i in nums]\n",
    "        \n",
    "        for i in range(length):\n",
    "            idx = abs(nums[i]) - 1\n",
    "            if idx == length:\n",
    "                continue\n",
    "\n",
    "            if nums[idx] > 0:\n",
    "                nums[idx] = -nums[idx]\n",
    "\n",
    "        for i in range(length):\n",
    "            if nums[i] > 0:\n",
    "                return i\n",
    "        \n",
    "        return length"
   ]
  },
  {
   "cell_type": "code",
   "execution_count": 49,
   "metadata": {},
   "outputs": [
    {
     "data": {
      "text/plain": [
       "2"
      ]
     },
     "execution_count": 49,
     "metadata": {},
     "output_type": "execute_result"
    }
   ],
   "source": [
    "Solution().missingNumber([3,0,1])"
   ]
  },
  {
   "cell_type": "markdown",
   "metadata": {},
   "source": [
    "`xor`"
   ]
  },
  {
   "cell_type": "code",
   "execution_count": 48,
   "metadata": {},
   "outputs": [],
   "source": [
    "class Solution:\n",
    "    def missingNumber(self, nums) -> int:\n",
    "        res = 0\n",
    "        for idx, num in enumerate(nums):\n",
    "            res ^= idx ^ num\n",
    "        \n",
    "        return res ^ (idx + 1)"
   ]
  },
  {
   "cell_type": "code",
   "execution_count": null,
   "metadata": {},
   "outputs": [],
   "source": []
  }
 ],
 "metadata": {
  "kernelspec": {
   "display_name": "Python 3",
   "language": "python",
   "name": "python3"
  },
  "language_info": {
   "codemirror_mode": {
    "name": "ipython",
    "version": 3
   },
   "file_extension": ".py",
   "mimetype": "text/x-python",
   "name": "python",
   "nbconvert_exporter": "python",
   "pygments_lexer": "ipython3",
   "version": "3.6.7"
  }
 },
 "nbformat": 4,
 "nbformat_minor": 2
}
