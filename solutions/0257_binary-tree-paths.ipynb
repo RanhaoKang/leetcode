{
 "cells": [
  {
   "cell_type": "markdown",
   "metadata": {},
   "source": [
    "[257. Binary Tree Paths](https://leetcode.com/problems/binary-tree-paths/)"
   ]
  },
  {
   "cell_type": "code",
   "execution_count": null,
   "metadata": {},
   "outputs": [],
   "source": [
    "# Definition for a binary tree node.\n",
    "# class TreeNode:\n",
    "#     def __init__(self, x):\n",
    "#         self.val = x\n",
    "#         self.left = None\n",
    "#         self.right = None\n",
    "\n",
    "class Solution:\n",
    "\n",
    "    def binaryTreePaths(self, root: 'TreeNode') -> 'List[str]':\n",
    "        self.result = []\n",
    "        self._solve(root, '')\n",
    "        return self.result\n",
    "\n",
    "    def _solve(self, p, path):\n",
    "        # 边界条件\n",
    "        if p is None:\n",
    "            return\n",
    "        \n",
    "        # 判断是否是叶节点\n",
    "        if p.left is None and p.right is None:\n",
    "            return self.result.append(f'{path}->{p.val}'[2:])\n",
    "        \n",
    "        # 递归调用\n",
    "        self._solve(p.left, f'{path}->{p.val}')\n",
    "        self._solve(p.right, f'{path}->{p.val}')"
   ]
  }
 ],
 "metadata": {
  "kernelspec": {
   "display_name": "Python 3",
   "language": "python",
   "name": "python3"
  },
  "language_info": {
   "codemirror_mode": {
    "name": "ipython",
    "version": 3
   },
   "file_extension": ".py",
   "mimetype": "text/x-python",
   "name": "python",
   "nbconvert_exporter": "python",
   "pygments_lexer": "ipython3",
   "version": "3.6.7"
  }
 },
 "nbformat": 4,
 "nbformat_minor": 2
}
