{
 "cells": [
  {
   "cell_type": "markdown",
   "metadata": {},
   "source": [
    "[407. Trapping Rain Water II](https://leetcode.com/problems/trapping-rain-water-ii/)"
   ]
  },
  {
   "cell_type": "code",
   "execution_count": 1,
   "metadata": {},
   "outputs": [],
   "source": [
    "class Solution:\n",
    "    def trapRainWater(self, grid) -> int:\n",
    "        \"\"\"\n",
    "        :type heightMap: List[List[int]]\n",
    "        :rtype: int\n",
    "        \"\"\"\n",
    "        if len(grid) == 0:\n",
    "            return 0\n",
    "\n",
    "        m, n = len(grid), len(grid[0])\n",
    "        heap = []\n",
    "        vst = set()\n",
    "\n",
    "        # init , put surrounding into heap\n",
    "        for i in [0, m - 1]:\n",
    "            for j in range(n):\n",
    "                heap.append((grid[i][j], i, j))\n",
    "                vst.add((i, j))\n",
    "\n",
    "        for j in [0, n - 1]:\n",
    "            for i in range(m):\n",
    "                if (i, j) in vst:\n",
    "                    continue\n",
    "\n",
    "                heap.append((grid[i][j], i, j))\n",
    "                vst.add((i, j))\n",
    "\n",
    "        heapq.heapify(heap)\n",
    "\n",
    "        dxy = [[0, 1], [1, 0], [0, -1], [-1, 0]]\n",
    "        ans = 0\n",
    "        mx = float('-inf')\n",
    "\n",
    "        while heap:\n",
    "\n",
    "            h, x, y = heapq.heappop(heap)\n",
    "            mx = max(h, mx)\n",
    "\n",
    "            for dx, dy in dxy:\n",
    "                nx = x + dx\n",
    "                ny = y + dy\n",
    "\n",
    "                if not (0 <= nx < m and 0 <= ny < n):\n",
    "                    continue\n",
    "\n",
    "                if (nx, ny) in vst:\n",
    "                    continue\n",
    "\n",
    "                if mx > grid[nx][ny]:\n",
    "                    ans += mx - grid[nx][ny]\n",
    "\n",
    "                itm = (grid[nx][ny], nx, ny)\n",
    "                heapq.heappush(heap, itm)\n",
    "                vst.add((nx, ny))\n",
    "\n",
    "        return ans"
   ]
  },
  {
   "cell_type": "code",
   "execution_count": null,
   "metadata": {},
   "outputs": [],
   "source": []
  }
 ],
 "metadata": {
  "kernelspec": {
   "display_name": "Python 3",
   "language": "python",
   "name": "python3"
  },
  "language_info": {
   "codemirror_mode": {
    "name": "ipython",
    "version": 3
   },
   "file_extension": ".py",
   "mimetype": "text/x-python",
   "name": "python",
   "nbconvert_exporter": "python",
   "pygments_lexer": "ipython3",
   "version": "3.8.1"
  }
 },
 "nbformat": 4,
 "nbformat_minor": 4
}
