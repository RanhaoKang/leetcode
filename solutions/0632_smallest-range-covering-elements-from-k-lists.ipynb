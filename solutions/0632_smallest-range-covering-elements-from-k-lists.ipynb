{
 "cells": [
  {
   "cell_type": "markdown",
   "metadata": {},
   "source": [
    "[632. Smallest Range Covering Elements from K Lists](https://leetcode.com/problems/smallest-range-covering-elements-from-k-lists/)"
   ]
  },
  {
   "cell_type": "code",
   "execution_count": 1,
   "metadata": {},
   "outputs": [],
   "source": [
    "import heapq\n",
    "\n",
    "class Solution:\n",
    "    def smallestRange(self, nums):\n",
    "        pq = [(row[0], i, 0) for i, row in enumerate(nums)]\n",
    "        heapq.heapify(pq)\n",
    "        \n",
    "        res = -1e9, 1e9\n",
    "        right = max(row[0] for row in nums)\n",
    "        \n",
    "        while pq:\n",
    "            left, i, j = heapq.heappop(pq)\n",
    "            \n",
    "            if right - left < res[1] - res[0]:\n",
    "                res = left, right\n",
    "            \n",
    "            if j + 1 == len(nums[i]):\n",
    "                return res\n",
    "            \n",
    "            v = nums[i][j+1]\n",
    "            right = max(right, v)\n",
    "            heapq.heappush(pq, (v, i, j+1))"
   ]
  },
  {
   "cell_type": "code",
   "execution_count": null,
   "metadata": {},
   "outputs": [],
   "source": []
  }
 ],
 "metadata": {
  "kernelspec": {
   "display_name": "Python 3",
   "language": "python",
   "name": "python3"
  },
  "language_info": {
   "codemirror_mode": {
    "name": "ipython",
    "version": 3
   },
   "file_extension": ".py",
   "mimetype": "text/x-python",
   "name": "python",
   "nbconvert_exporter": "python",
   "pygments_lexer": "ipython3",
   "version": "3.8.1"
  }
 },
 "nbformat": 4,
 "nbformat_minor": 4
}
