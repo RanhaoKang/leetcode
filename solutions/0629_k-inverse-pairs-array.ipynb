{
 "cells": [
  {
   "cell_type": "markdown",
   "metadata": {},
   "source": [
    "[629. K Inverse Pairs Array](https://leetcode.com/problems/k-inverse-pairs-array/)"
   ]
  },
  {
   "cell_type": "raw",
   "metadata": {},
   "source": [
    "f(n,k) = sum(f(n-1,i)), where max(k-n+1,0) <= i <= k\n",
    "f(0,k) = 0\n",
    "f(n,0) = 1"
   ]
  },
  {
   "cell_type": "code",
   "execution_count": 2,
   "metadata": {},
   "outputs": [],
   "source": [
    "class Solution:\n",
    "    def kInversePairs(self, n: int, k: int) -> int:\n",
    "        dp = [1] + [0] * k\n",
    "        for i in range(2, n + 1):\n",
    "            for j in range(1, k + 1):\n",
    "                dp[j] += dp[j - 1]\n",
    "            for j in range(k, 0, -1):\n",
    "                dp[j] -= j - i >= 0 and dp[j - i]\n",
    "        \n",
    "        return dp[k] % (10 ** 9 + 7)"
   ]
  },
  {
   "cell_type": "code",
   "execution_count": null,
   "metadata": {},
   "outputs": [],
   "source": []
  }
 ],
 "metadata": {
  "kernelspec": {
   "display_name": "Python 3",
   "language": "python",
   "name": "python3"
  },
  "language_info": {
   "codemirror_mode": {
    "name": "ipython",
    "version": 3
   },
   "file_extension": ".py",
   "mimetype": "text/x-python",
   "name": "python",
   "nbconvert_exporter": "python",
   "pygments_lexer": "ipython3",
   "version": "3.8.1"
  }
 },
 "nbformat": 4,
 "nbformat_minor": 4
}
