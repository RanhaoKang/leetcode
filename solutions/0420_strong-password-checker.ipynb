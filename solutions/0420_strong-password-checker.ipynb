{
 "cells": [
  {
   "cell_type": "markdown",
   "metadata": {},
   "source": [
    "[420. Strong Password Checker](https://leetcode.com/problems/strong-password-checker/)"
   ]
  },
  {
   "cell_type": "code",
   "execution_count": 6,
   "metadata": {},
   "outputs": [],
   "source": [
    "class Solution:\n",
    "    def strongPasswordChecker(self, s: str) -> int:\n",
    "        missing_type = (3 - any('a' <= c <= 'z' for c in s)\n",
    "                          - any('A' <= c <= 'Z' for c in s)\n",
    "                          - any(c.isdigit() for c in s))\n",
    "        \n",
    "        change = 0\n",
    "        one = two = 0\n",
    "        p = 2\n",
    "        while p < len(s):\n",
    "            if s[p] == s[p - 1] == s[p - 2]:\n",
    "                length = 2\n",
    "                while p < len(s) and s[p] == s[p - 1]:\n",
    "                    length += 1\n",
    "                    p += 1\n",
    "                \n",
    "                change += length // 3\n",
    "                one += length % 3 == 0\n",
    "                two += length % 3 == 1\n",
    "            else:\n",
    "                p += 1\n",
    "        \n",
    "        if len(s) < 6:\n",
    "            return max(missing_type, 6 - len(s))\n",
    "        elif len(s) <= 20:\n",
    "            return max(missing_type, change)\n",
    "        else:\n",
    "            delete = len(s) - 20\n",
    "            \n",
    "            change -= min(delete, one)\n",
    "            change -= min(max(delete - one, 0), two * 2) // 2\n",
    "            change -= max(delete - one - 2 * two, 0) // 3\n",
    "                \n",
    "            return delete + max(missing_type, change)"
   ]
  },
  {
   "cell_type": "code",
   "execution_count": null,
   "metadata": {},
   "outputs": [],
   "source": []
  }
 ],
 "metadata": {
  "kernelspec": {
   "display_name": "Python 3",
   "language": "python",
   "name": "python3"
  },
  "language_info": {
   "codemirror_mode": {
    "name": "ipython",
    "version": 3
   },
   "file_extension": ".py",
   "mimetype": "text/x-python",
   "name": "python",
   "nbconvert_exporter": "python",
   "pygments_lexer": "ipython3",
   "version": "3.8.1"
  }
 },
 "nbformat": 4,
 "nbformat_minor": 4
}
