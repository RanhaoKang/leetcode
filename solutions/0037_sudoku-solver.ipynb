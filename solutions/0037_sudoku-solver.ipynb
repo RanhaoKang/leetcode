{
 "cells": [
  {
   "cell_type": "markdown",
   "metadata": {},
   "source": [
    "[37. Sudoku Solver](https://leetcode.com/problems/sudoku-solver/)"
   ]
  },
  {
   "cell_type": "code",
   "execution_count": 87,
   "metadata": {},
   "outputs": [],
   "source": [
    "class Solution:\n",
    "    \n",
    "    def solveSudoku(self, board) -> None:\n",
    "        \"\"\"\n",
    "        Do not return anything, modify board in-place instead.\n",
    "        \"\"\"\n",
    "        self.board = board\n",
    "        self.rows, self.cols, self.cels = [[0] * 9 for _ in range(3)]\n",
    "        \n",
    "        for i in range(9):\n",
    "            for j in range(9):\n",
    "                if board[i][j] != '.':\n",
    "                    cel = i // 3 * 3 + j // 3\n",
    "                    self.fill(int(board[i][j]), i, j, cel)\n",
    "        print(self.rows)\n",
    "        try:\n",
    "            self.solve()\n",
    "        except StopIteration:\n",
    "            return \n",
    "        \n",
    "    def fill(self, num, row, col, cel):\n",
    "        self.board[row][col] = str(num)\n",
    "        num = 1 << (num - 1)\n",
    "        self.rows[row] |= num\n",
    "        self.cols[col] |= num\n",
    "        self.cels[cel] |= num\n",
    "    \n",
    "    def reset(self, num, row, col, cel):\n",
    "        self.board[row][col] = str('.')\n",
    "        num = 1 << (num - 1)\n",
    "        self.rows[row] &= (self.rows[row] - num)\n",
    "        self.cols[col] &= (self.cols[col] - num)\n",
    "        self.cels[cel] &= (self.cels[cel] - num)\n",
    "    \n",
    "    def find_blank(self):\n",
    "        for row in range(9):\n",
    "            for col in range(9):\n",
    "                if self.board[row][col] == '.':\n",
    "                    cel = row // 3 * 3 + col // 3\n",
    "                    return row, col, cel\n",
    "        \n",
    "        raise StopIteration\n",
    "\n",
    "    def is_valid(self, num, row, col, cel):\n",
    "        num = 1 << (num - 1)\n",
    "        if (self.rows[row] & num) or\\\n",
    "            (self.cols[col] & num) or\\\n",
    "            (self.cels[cel] & num):\n",
    "            return False\n",
    "        else:\n",
    "            return True\n",
    "    \n",
    "    def solve(self):\n",
    "        row, col, cel = self.find_blank()\n",
    "        \n",
    "        for i in range(1, 10):\n",
    "            if self.is_valid(i, row, col, cel):\n",
    "                self.fill(i, row, col, cel)\n",
    "                self.solve()\n",
    "                self.reset(i, row, col, cel)"
   ]
  },
  {
   "cell_type": "code",
   "execution_count": 88,
   "metadata": {},
   "outputs": [
    {
     "data": {
      "text/plain": [
       "[['5', '3', '.', '.', '7', '.', '.', '.', '.'],\n",
       " ['6', '.', '.', '1', '9', '5', '.', '.', '.'],\n",
       " ['.', '9', '8', '.', '.', '.', '.', '6', '.'],\n",
       " ['8', '.', '.', '.', '6', '.', '.', '.', '3'],\n",
       " ['4', '.', '.', '8', '.', '3', '.', '.', '1'],\n",
       " ['7', '.', '.', '.', '2', '.', '.', '.', '6'],\n",
       " ['.', '6', '.', '.', '.', '.', '2', '8', '.'],\n",
       " ['.', '.', '.', '4', '1', '9', '.', '.', '5'],\n",
       " ['.', '.', '.', '.', '8', '.', '.', '7', '9']]"
      ]
     },
     "execution_count": 88,
     "metadata": {},
     "output_type": "execute_result"
    }
   ],
   "source": [
    "a = [[\"5\",\"3\",\".\",\".\",\"7\",\".\",\".\",\".\",\".\"],[\"6\",\".\",\".\",\"1\",\"9\",\"5\",\".\",\".\",\".\"],[\".\",\"9\",\"8\",\".\",\".\",\".\",\".\",\"6\",\".\"],[\"8\",\".\",\".\",\".\",\"6\",\".\",\".\",\".\",\"3\"],[\"4\",\".\",\".\",\"8\",\".\",\"3\",\".\",\".\",\"1\"],[\"7\",\".\",\".\",\".\",\"2\",\".\",\".\",\".\",\"6\"],[\".\",\"6\",\".\",\".\",\".\",\".\",\"2\",\"8\",\".\"],[\".\",\".\",\".\",\"4\",\"1\",\"9\",\".\",\".\",\"5\"],[\".\",\".\",\".\",\".\",\"8\",\".\",\".\",\"7\",\"9\"]]\n",
    "a"
   ]
  },
  {
   "cell_type": "code",
   "execution_count": 89,
   "metadata": {},
   "outputs": [
    {
     "name": "stdout",
     "output_type": "stream",
     "text": [
      "[84, 305, 416, 164, 141, 98, 162, 281, 448]\n"
     ]
    },
    {
     "data": {
      "text/plain": [
       "[['5', '3', '4', '6', '7', '8', '9', '1', '2'],\n",
       " ['6', '7', '2', '1', '9', '5', '3', '4', '8'],\n",
       " ['1', '9', '8', '3', '4', '2', '5', '6', '7'],\n",
       " ['8', '5', '9', '7', '6', '1', '4', '2', '3'],\n",
       " ['4', '2', '6', '8', '5', '3', '7', '9', '1'],\n",
       " ['7', '1', '3', '9', '2', '4', '8', '5', '6'],\n",
       " ['9', '6', '1', '5', '3', '7', '2', '8', '4'],\n",
       " ['2', '8', '7', '4', '1', '9', '6', '3', '5'],\n",
       " ['3', '4', '5', '2', '8', '6', '1', '7', '9']]"
      ]
     },
     "execution_count": 89,
     "metadata": {},
     "output_type": "execute_result"
    }
   ],
   "source": [
    "Solution().solveSudoku(a)\n",
    "a"
   ]
  }
 ],
 "metadata": {
  "kernelspec": {
   "display_name": "Python 3",
   "language": "python",
   "name": "python3"
  },
  "language_info": {
   "codemirror_mode": {
    "name": "ipython",
    "version": 3
   },
   "file_extension": ".py",
   "mimetype": "text/x-python",
   "name": "python",
   "nbconvert_exporter": "python",
   "pygments_lexer": "ipython3",
   "version": "3.6.7"
  }
 },
 "nbformat": 4,
 "nbformat_minor": 2
}
