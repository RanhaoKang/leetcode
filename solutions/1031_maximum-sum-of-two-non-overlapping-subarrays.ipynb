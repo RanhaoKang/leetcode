{
 "cells": [
  {
   "cell_type": "markdown",
   "metadata": {},
   "source": [
    "[1031. Maximum Sum of Two Non-Overlapping Subarrays](https://leetcode.com/problems/maximum-sum-of-two-non-overlapping-subarrays/)"
   ]
  },
  {
   "cell_type": "markdown",
   "metadata": {},
   "source": [
    "$O(N^2)$，边界条件好像有些问题"
   ]
  },
  {
   "cell_type": "code",
   "execution_count": 20,
   "metadata": {},
   "outputs": [],
   "source": [
    "class Solution:\n",
    "    def maxSumTwoNoOverlap(self, A, L: int, M: int) -> int:\n",
    "        for i in range(1, len(A)):\n",
    "            A[i] += A[i - 1]\n",
    "        \n",
    "        res, N = 0, len(A)\n",
    "        for i in range(N - L):\n",
    "            sum_L = A[i + L] - A[i]\n",
    "            sum_M = max([A[j+M] - A[j] for j in range(i)] +\n",
    "                        [A[j-M] - A[j] for j in range(i + L + M, N)], default = 0)\n",
    "            res = max(res, sum_L + sum_M)\n",
    "\n",
    "        return res"
   ]
  },
  {
   "cell_type": "code",
   "execution_count": 21,
   "metadata": {},
   "outputs": [
    {
     "data": {
      "text/plain": [
       "20"
      ]
     },
     "execution_count": 21,
     "metadata": {},
     "output_type": "execute_result"
    }
   ],
   "source": [
    "Solution().maxSumTwoNoOverlap(A = [0,6,5,2,2,5,1,9,4], L = 1, M = 2)"
   ]
  },
  {
   "cell_type": "code",
   "execution_count": 22,
   "metadata": {},
   "outputs": [
    {
     "data": {
      "text/plain": [
       "27"
      ]
     },
     "execution_count": 22,
     "metadata": {},
     "output_type": "execute_result"
    }
   ],
   "source": [
    "Solution().maxSumTwoNoOverlap(A = [3,8,1,3,2,1,8,9,0], L = 3, M = 2)"
   ]
  },
  {
   "cell_type": "code",
   "execution_count": 23,
   "metadata": {},
   "outputs": [],
   "source": [
    "class Solution:\n",
    "    def maxSumTwoNoOverlap(self, A, L: int, M: int) -> int:\n",
    "        for i in range(1, len(A)):\n",
    "            A[i] += A[i - 1]\n",
    "        \n",
    "\n",
    "        res, Lmax, Mmax = A[L + M - 1], A[L - 1], A[M - 1]\n",
    "\n",
    "\n",
    "        # window  | --- L --- | --- M --- |\n",
    "        for i in range(L + M, len(A)):\n",
    "            Lmax = max(Lmax, A[i - M] - A[i - L - M])\n",
    "            res = max(res, Lmax + A[i] - A[i - M])\n",
    "\n",
    "        # window  | --- M --- | --- L --- |\n",
    "        for i in range(L + M, len(A)):\n",
    "            Mmax = max(Mmax, A[i - L] - A[i - L - M])\n",
    "            res = max(res, Mmax + A[i] - A[i - L])\n",
    "\n",
    "        return res"
   ]
  },
  {
   "cell_type": "code",
   "execution_count": 24,
   "metadata": {},
   "outputs": [
    {
     "data": {
      "text/plain": [
       "29"
      ]
     },
     "execution_count": 24,
     "metadata": {},
     "output_type": "execute_result"
    }
   ],
   "source": [
    "Solution().maxSumTwoNoOverlap(A = [3,8,1,3,2,1,8,9,0], L = 3, M = 2)"
   ]
  },
  {
   "cell_type": "code",
   "execution_count": null,
   "metadata": {},
   "outputs": [],
   "source": []
  }
 ],
 "metadata": {
  "kernelspec": {
   "display_name": "Python 3",
   "language": "python",
   "name": "python3"
  },
  "language_info": {
   "codemirror_mode": {
    "name": "ipython",
    "version": 3
   },
   "file_extension": ".py",
   "mimetype": "text/x-python",
   "name": "python",
   "nbconvert_exporter": "python",
   "pygments_lexer": "ipython3",
   "version": "3.8.1"
  }
 },
 "nbformat": 4,
 "nbformat_minor": 4
}
