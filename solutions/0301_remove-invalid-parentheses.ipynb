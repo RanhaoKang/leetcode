{
 "cells": [
  {
   "cell_type": "markdown",
   "metadata": {},
   "source": [
    "[301. Remove Invalid Parentheses](https://leetcode.com/problems/remove-invalid-parentheses/)"
   ]
  },
  {
   "cell_type": "code",
   "execution_count": 5,
   "metadata": {},
   "outputs": [
    {
     "ename": "ImportError",
     "evalue": "cannot import name 'filter'",
     "output_type": "error",
     "traceback": [
      "\u001b[0;31m---------------------------------------------------------------------------\u001b[0m",
      "\u001b[0;31mImportError\u001b[0m                               Traceback (most recent call last)",
      "\u001b[0;32m<ipython-input-5-f70a2637bdce>\u001b[0m in \u001b[0;36m<module>\u001b[0;34m\u001b[0m\n\u001b[0;32m----> 1\u001b[0;31m \u001b[0;32mfrom\u001b[0m \u001b[0mitertools\u001b[0m \u001b[0;32mimport\u001b[0m \u001b[0mfilter\u001b[0m\u001b[0;34m\u001b[0m\u001b[0;34m\u001b[0m\u001b[0m\n\u001b[0m",
      "\u001b[0;31mImportError\u001b[0m: cannot import name 'filter'"
     ]
    }
   ],
   "source": [
    "from itertools import filter"
   ]
  },
  {
   "cell_type": "code",
   "execution_count": 6,
   "metadata": {},
   "outputs": [],
   "source": [
    "class Solution:\n",
    "    def removeInvalidParentheses(self, s):\n",
    "        def isvalid(s):\n",
    "            ctr = 0\n",
    "            for c in s:\n",
    "                if c == '(':\n",
    "                    ctr += 1\n",
    "                elif c == ')':\n",
    "                    ctr -= 1\n",
    "                    if ctr < 0:\n",
    "                        return False\n",
    "            return ctr == 0\n",
    "\n",
    "        level = {s}\n",
    "        while True:\n",
    "            valid = [i for i in level if isvalid(i)]\n",
    "            if valid:\n",
    "                return valid\n",
    "            level = {s[:i] + s[i+1:] for s in level for i in range(len(s))}"
   ]
  },
  {
   "cell_type": "code",
   "execution_count": 1,
   "metadata": {},
   "outputs": [],
   "source": [
    "class Solution:\n",
    "    def removeInvalidParentheses(self, s: str):\n",
    "        res = []\n",
    "        \n",
    "        def solve(s, prefix, candidates):\n",
    "            length = len(s)\n",
    "            from collections import deque\n",
    "            stack = deque(['#'])\n",
    "            cnt = 0\n",
    "            for i in range(length):\n",
    "                # print(stack, s, i)\n",
    "                if s[i] == candidates[0]:\n",
    "                    cnt += 1\n",
    "                elif s[i] == candidates[1]:\n",
    "                    cnt -= 1\n",
    "                \n",
    "                if cnt < 0:\n",
    "                    # 去掉最后一个')', 继续做后续的字符串拼接\n",
    "                    while i < length and s[i] == candidates[1]:\n",
    "                        i += 1\n",
    "                    solve(s[i:], prefix + s[: i - 1], candidates)\n",
    "                    return\n",
    "            \n",
    "            res.append(prefix + s)\n",
    "                     \n",
    "        solve(s, '', '()')\n",
    "        return res"
   ]
  },
  {
   "cell_type": "code",
   "execution_count": 2,
   "metadata": {
    "scrolled": false
   },
   "outputs": [
    {
     "data": {
      "text/plain": [
       "['()()()']"
      ]
     },
     "execution_count": 2,
     "metadata": {},
     "output_type": "execute_result"
    }
   ],
   "source": [
    "Solution().removeInvalidParentheses(\"()())()\")"
   ]
  },
  {
   "cell_type": "code",
   "execution_count": null,
   "metadata": {},
   "outputs": [],
   "source": []
  }
 ],
 "metadata": {
  "kernelspec": {
   "display_name": "Python 3",
   "language": "python",
   "name": "python3"
  },
  "language_info": {
   "codemirror_mode": {
    "name": "ipython",
    "version": 3
   },
   "file_extension": ".py",
   "mimetype": "text/x-python",
   "name": "python",
   "nbconvert_exporter": "python",
   "pygments_lexer": "ipython3",
   "version": "3.6.7"
  }
 },
 "nbformat": 4,
 "nbformat_minor": 2
}
