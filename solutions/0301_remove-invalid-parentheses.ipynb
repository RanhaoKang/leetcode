{
 "cells": [
  {
   "cell_type": "markdown",
   "metadata": {},
   "source": [
    "[301. Remove Invalid Parentheses](https://leetcode.com/problems/remove-invalid-parentheses/)"
   ]
  },
  {
   "cell_type": "code",
   "execution_count": 101,
   "metadata": {},
   "outputs": [],
   "source": [
    "class Solution:\n",
    "    def removeInvalidParentheses(self, s: str):\n",
    "        res = []\n",
    "        \n",
    "        def solve(s, prefix, candidates):\n",
    "            length = len(s)\n",
    "            from collections import deque\n",
    "            stack = deque(['#'])\n",
    "            cnt = 0\n",
    "            for i in range(length):\n",
    "                # print(stack, s, i)\n",
    "                if s[i] == candidates[0]:\n",
    "                    cnt += 1\n",
    "                elif s[i] == candidates[1]:\n",
    "                    cnt -= 1\n",
    "                \n",
    "                if cnt < 0:\n",
    "                    # 去掉最后一个')', 继续做后续的字符串拼接\n",
    "                    while i < length and s[i] == candidates[1]:\n",
    "                        i += 1\n",
    "                    solve(s[i:], prefix + s[: i - 1], candidates)\n",
    "                    return\n",
    "            \n",
    "            res.append(prefix + s)\n",
    "                     \n",
    "        solve(s, '', '()')\n",
    "        return res"
   ]
  },
  {
   "cell_type": "code",
   "execution_count": 102,
   "metadata": {
    "scrolled": false
   },
   "outputs": [
    {
     "data": {
      "text/plain": [
       "['()()()']"
      ]
     },
     "execution_count": 102,
     "metadata": {},
     "output_type": "execute_result"
    }
   ],
   "source": [
    "Solution().removeInvalidParentheses(\"()())()\")"
   ]
  },
  {
   "cell_type": "code",
   "execution_count": null,
   "metadata": {},
   "outputs": [],
   "source": []
  }
 ],
 "metadata": {
  "kernelspec": {
   "display_name": "Python 3",
   "language": "python",
   "name": "python3"
  },
  "language_info": {
   "codemirror_mode": {
    "name": "ipython",
    "version": 3
   },
   "file_extension": ".py",
   "mimetype": "text/x-python",
   "name": "python",
   "nbconvert_exporter": "python",
   "pygments_lexer": "ipython3",
   "version": "3.6.7"
  }
 },
 "nbformat": 4,
 "nbformat_minor": 2
}
