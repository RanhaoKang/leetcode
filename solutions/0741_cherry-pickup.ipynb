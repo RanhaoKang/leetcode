{
 "cells": [
  {
   "cell_type": "markdown",
   "metadata": {},
   "source": [
    "[741. Cherry Pickup](https://leetcode.com/problems/cherry-pickup/)"
   ]
  },
  {
   "cell_type": "code",
   "execution_count": 2,
   "metadata": {},
   "outputs": [],
   "source": [
    "class Solution:\n",
    "    def cherryPickup(self, A) -> int:\n",
    "        N = len(A)\n",
    "        \n",
    "        from functools import lru_cache\n",
    "        @lru_cache(None)\n",
    "        def dp(*coords):\n",
    "            if N in coords:\n",
    "                return -1\n",
    "            if (N-1, N-1, N-1, N-1) == coords:\n",
    "                return A[-1][-1]\n",
    "            \n",
    "            x1, y1, x2, y2 = coords\n",
    "            if A[x1][y1] == -1 or A[x2][y2] == -1:\n",
    "                return -1\n",
    "            \n",
    "            res = max((\n",
    "                dp(x1+1, y1, x2+1, y2),\n",
    "                dp(x1+1, y1, x2, y2+1),\n",
    "                dp(x1, y1+1, x2+1, y2),\n",
    "                dp(x1, y1+1, x2, y2+1),\n",
    "            ))\n",
    "            \n",
    "            if res == -1:\n",
    "                return res\n",
    "            else:\n",
    "                return res + A[x1][y1] + (A[x2][y2] if (x1, y1) != (x2, y2) else 0)\n",
    "        \n",
    "        return max(dp(0, 0, 0, 0), 0)"
   ]
  },
  {
   "cell_type": "code",
   "execution_count": 3,
   "metadata": {},
   "outputs": [
    {
     "data": {
      "text/plain": [
       "5"
      ]
     },
     "execution_count": 3,
     "metadata": {},
     "output_type": "execute_result"
    }
   ],
   "source": [
    "Solution().cherryPickup([[0, 1, -1],\n",
    " [1, 0, -1],\n",
    " [1, 1,  1]])"
   ]
  },
  {
   "cell_type": "code",
   "execution_count": null,
   "metadata": {},
   "outputs": [],
   "source": []
  }
 ],
 "metadata": {
  "kernelspec": {
   "display_name": "Python 3",
   "language": "python",
   "name": "python3"
  },
  "language_info": {
   "codemirror_mode": {
    "name": "ipython",
    "version": 3
   },
   "file_extension": ".py",
   "mimetype": "text/x-python",
   "name": "python",
   "nbconvert_exporter": "python",
   "pygments_lexer": "ipython3",
   "version": "3.8.1"
  }
 },
 "nbformat": 4,
 "nbformat_minor": 4
}
