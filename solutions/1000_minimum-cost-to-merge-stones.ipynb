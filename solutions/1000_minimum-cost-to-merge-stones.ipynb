{
 "cells": [
  {
   "cell_type": "markdown",
   "metadata": {},
   "source": [
    "[1000. Minimum Cost to Merge Stones](https://leetcode.com/problems/minimum-cost-to-merge-stones/)"
   ]
  },
  {
   "cell_type": "code",
   "execution_count": 1,
   "metadata": {},
   "outputs": [],
   "source": [
    "class Solution:\n",
    "    def mergeStones(self, stones, K: int) -> int:\n",
    "        n = len(stones)\n",
    "        inf = float('inf')\n",
    "        prefix = [0] * (n + 1)\n",
    "        for i in range(n):\n",
    "            prefix[i + 1] = prefix[i] + stones[i]\n",
    "\n",
    "        import functools\n",
    "\n",
    "        @functools.lru_cache(None)\n",
    "        def dp(i, j, m):\n",
    "            if (j - i + 1 - m) % (K - 1):\n",
    "                return inf\n",
    "            if i == j:\n",
    "                return 0 if m == 1 else inf\n",
    "            if m == 1:\n",
    "                return dp(i, j, K) + prefix[j + 1] - prefix[i]\n",
    "            return min(dp(i, mid, 1) + dp(mid + 1, j, m - 1) for mid in range(i, j, K - 1))\n",
    "        res = dp(0, n - 1, 1)\n",
    "        return res if res < inf else -1"
   ]
  },
  {
   "cell_type": "code",
   "execution_count": null,
   "metadata": {},
   "outputs": [],
   "source": []
  }
 ],
 "metadata": {
  "kernelspec": {
   "display_name": "Python 3",
   "language": "python",
   "name": "python3"
  },
  "language_info": {
   "codemirror_mode": {
    "name": "ipython",
    "version": 3
   },
   "file_extension": ".py",
   "mimetype": "text/x-python",
   "name": "python",
   "nbconvert_exporter": "python",
   "pygments_lexer": "ipython3",
   "version": "3.8.1"
  }
 },
 "nbformat": 4,
 "nbformat_minor": 2
}
