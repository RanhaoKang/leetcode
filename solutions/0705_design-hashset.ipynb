{
 "cells": [
  {
   "cell_type": "markdown",
   "metadata": {},
   "source": [
    "[705. Design HashSet](https://leetcode.com/problems/design-hashset/)"
   ]
  },
  {
   "cell_type": "markdown",
   "metadata": {},
   "source": [
    "我就是这个代码作者[口中](https://leetcode.com/problems/design-hashset/discuss/210494/Real-Python-Solution-no-cheating-open-addressing)的不爱学习的人……"
   ]
  },
  {
   "cell_type": "code",
   "execution_count": null,
   "metadata": {},
   "outputs": [],
   "source": [
    "class MyHashSet:\n",
    "\n",
    "    def __init__(self):\n",
    "        \"\"\"\n",
    "        Initialize your data structure here.\n",
    "        \"\"\"\n",
    "        self.capacity = 8\n",
    "        self.size = 0\n",
    "        self.s = [None] * 8\n",
    "        self.lf = 2 / 3\n",
    "\n",
    "\n",
    "    def myhash(self, key): # can be modified to hash other hashable objects like built in python hash function\n",
    "        return key % self.capacity\n",
    "\n",
    "\n",
    "    def add(self, key: int) -> None:\n",
    "        # 超过2/3则扩容\n",
    "        if self.size / self.capacity >= self.lf:\n",
    "            self.capacity <<= 1\n",
    "            ns = [None] * self.capacity\n",
    "            for i in range(self.capacity >> 1):\n",
    "                if self.s[i] and self.s[i] != \"==TOMBSTONE==\":\n",
    "                    n = self.myhash(self.s[i])\n",
    "                    while ns[n] is not None:\n",
    "                        n = (5 * n + 1) % self.capacity\n",
    "                    ns[n] = self.s[i]\n",
    "            self.s = ns\n",
    "\n",
    "        h = self.myhash(key)\n",
    "        while self.s[h] is not None:\n",
    "            if self.s[h] == key:\n",
    "                return\n",
    "            h = (5 * h + 1) % self.capacity\n",
    "            if self.s[h] == \"==TOMBSTONE==\":\n",
    "                break\n",
    "        self.s[h] = key\n",
    "        self.size += 1\n",
    "\n",
    "\n",
    "    def remove(self, key: int) -> None:\n",
    "        h = self.myhash(key)\n",
    "        while self.s[h]:\n",
    "            if self.s[h] == key:\n",
    "                self.s[h] = \"==TOMBSTONE==\"\n",
    "                self.size -= 1\n",
    "                return\n",
    "            h = (5 * h + 1) % self.capacity\n",
    "\n",
    "\n",
    "    def contains(self, key: int) -> bool:\n",
    "        \"\"\"\n",
    "        Returns true if this set contains the specified element\n",
    "        \"\"\"\n",
    "        h = self.myhash(key)\n",
    "        while self.s[h] is not None:\n",
    "            if self.s[h] == key:\n",
    "                return True\n",
    "            h = (5 * h + 1) % self.capacity\n",
    "        return False\n",
    "        \n",
    "\n",
    "\n",
    "# Your MyHashSet object will be instantiated and called as such:\n",
    "# obj = MyHashSet()\n",
    "# obj.add(key)\n",
    "# obj.remove(key)\n",
    "# param_3 = obj.contains(key)"
   ]
  }
 ],
 "metadata": {
  "kernelspec": {
   "display_name": "Python 3",
   "language": "python",
   "name": "python3"
  },
  "language_info": {
   "codemirror_mode": {
    "name": "ipython",
    "version": 3
   },
   "file_extension": ".py",
   "mimetype": "text/x-python",
   "name": "python",
   "nbconvert_exporter": "python",
   "pygments_lexer": "ipython3",
   "version": "3.7.3"
  }
 },
 "nbformat": 4,
 "nbformat_minor": 2
}
