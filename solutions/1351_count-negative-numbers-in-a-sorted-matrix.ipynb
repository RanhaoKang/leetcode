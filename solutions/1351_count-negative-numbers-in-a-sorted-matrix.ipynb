{
 "cells": [
  {
   "cell_type": "markdown",
   "metadata": {},
   "source": [
    "[1351. Count Negative Numbers in a Sorted Matrix](https://leetcode.com/problems/count-negative-numbers-in-a-sorted-matrix/)"
   ]
  },
  {
   "cell_type": "markdown",
   "metadata": {},
   "source": [
    "在row-wise的基础上，可以进一步缩小`lo`和`hi`的范围\n",
    "\n",
    "处理完`[1, 1, -1, -2]`之后得到`hi = 2`, 在处理`[-1, -1, -2, -3]`的时候可以减少一半计算"
   ]
  },
  {
   "cell_type": "code",
   "execution_count": 59,
   "metadata": {},
   "outputs": [],
   "source": [
    "class Solution:\n",
    "    def countNegatives(self, A) -> int:\n",
    "        from bisect import bisect_left\n",
    "        H, W = len(A), len(A and A[0])\n",
    "        res = hi = 0\n",
    "        \n",
    "        for i in range(H):\n",
    "            hi = bisect_left(A[i][::-1], 0, hi, W)\n",
    "            res += hi\n",
    "        \n",
    "        return res"
   ]
  },
  {
   "cell_type": "code",
   "execution_count": 60,
   "metadata": {},
   "outputs": [
    {
     "data": {
      "text/plain": [
       "8"
      ]
     },
     "execution_count": 60,
     "metadata": {},
     "output_type": "execute_result"
    }
   ],
   "source": [
    "Solution().countNegatives([\n",
    "    [4 , 3, 2,-1],\n",
    "    [3 , 2, 1,-1],\n",
    "    [1 , 1,-1,-2],\n",
    "    [-1,-1,-2,-3]])"
   ]
  },
  {
   "cell_type": "code",
   "execution_count": 61,
   "metadata": {},
   "outputs": [
    {
     "data": {
      "text/plain": [
       "0"
      ]
     },
     "execution_count": 61,
     "metadata": {},
     "output_type": "execute_result"
    }
   ],
   "source": [
    "Solution().countNegatives([\n",
    "    [3,2],\n",
    "    [1,0]])"
   ]
  },
  {
   "cell_type": "code",
   "execution_count": null,
   "metadata": {},
   "outputs": [],
   "source": []
  }
 ],
 "metadata": {
  "kernelspec": {
   "display_name": "Python 3",
   "language": "python",
   "name": "python3"
  },
  "language_info": {
   "codemirror_mode": {
    "name": "ipython",
    "version": 3
   },
   "file_extension": ".py",
   "mimetype": "text/x-python",
   "name": "python",
   "nbconvert_exporter": "python",
   "pygments_lexer": "ipython3",
   "version": "3.8.1"
  }
 },
 "nbformat": 4,
 "nbformat_minor": 4
}
