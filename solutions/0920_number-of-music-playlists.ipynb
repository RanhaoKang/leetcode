{
 "cells": [
  {
   "cell_type": "markdown",
   "metadata": {},
   "source": [
    "[920. Number of Music Playlists](https://leetcode.com/problems/number-of-music-playlists/)"
   ]
  },
  {
   "cell_type": "markdown",
   "metadata": {},
   "source": [
    "https://leetcode.com/problems/number-of-music-playlists/discuss/178415/C%2B%2BJavaPython-DP-Solution"
   ]
  },
  {
   "cell_type": "code",
   "execution_count": 1,
   "metadata": {},
   "outputs": [],
   "source": [
    "class Solution:\n",
    "    def numMusicPlaylists(self, N: int, L: int, K: int) -> int:\n",
    "        from functools import lru_cache\n",
    "        \n",
    "        # dp(i, j): 长度为i的播放列表，已有j首不一样的歌曲\n",
    "        # i-1, j-1: 将剩余的歌加入末尾，可能方案数为N\n",
    "        # i-1, j:   将重复的歌加入末尾，可能方案数为N-K\n",
    "        @lru_cache(None)\n",
    "        def dp(i, j):\n",
    "            if i == 0:\n",
    "                return +(j == 0)\n",
    "            return dp(i-1, j-1) * (N - j + 1) + dp(i-1, j) * max(j - K, 0)\n",
    "        \n",
    "        return dp(L, N) % (10 ** 9 + 7)"
   ]
  },
  {
   "cell_type": "code",
   "execution_count": null,
   "metadata": {},
   "outputs": [],
   "source": []
  }
 ],
 "metadata": {
  "kernelspec": {
   "display_name": "Python 3",
   "language": "python",
   "name": "python3"
  },
  "language_info": {
   "codemirror_mode": {
    "name": "ipython",
    "version": 3
   },
   "file_extension": ".py",
   "mimetype": "text/x-python",
   "name": "python",
   "nbconvert_exporter": "python",
   "pygments_lexer": "ipython3",
   "version": "3.8.1"
  }
 },
 "nbformat": 4,
 "nbformat_minor": 4
}
