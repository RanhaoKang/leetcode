{
 "cells": [
  {
   "cell_type": "markdown",
   "metadata": {},
   "source": [
    "[10. Regular Expression Matching](https://leetcode.com/problems/regular-expression-matching/)"
   ]
  },
  {
   "cell_type": "code",
   "execution_count": 1,
   "metadata": {},
   "outputs": [],
   "source": [
    "from functools import lru_cache\n",
    "\n",
    "class Solution:\n",
    "    def isMatch(self, s: str, p: str) -> bool:\n",
    "        \n",
    "        @lru_cache(None)\n",
    "        def dp(i, j):\n",
    "            if j == len(p):\n",
    "                return i == len(s)\n",
    "            else:\n",
    "                first_match = i < len(s) and p[j] in {s[i], '.'}\n",
    "                if j+1 < len(p) and p[j+1] == '*':\n",
    "                    return dp(i, j+2) or first_match and dp(i+1, j)\n",
    "                else:\n",
    "                    return first_match and dp(i+1, j+1)\n",
    "        \n",
    "        return dp(0, 0)"
   ]
  },
  {
   "cell_type": "code",
   "execution_count": null,
   "metadata": {},
   "outputs": [],
   "source": []
  }
 ],
 "metadata": {
  "kernelspec": {
   "display_name": "Python 3",
   "language": "python",
   "name": "python3"
  },
  "language_info": {
   "codemirror_mode": {
    "name": "ipython",
    "version": 3
   },
   "file_extension": ".py",
   "mimetype": "text/x-python",
   "name": "python",
   "nbconvert_exporter": "python",
   "pygments_lexer": "ipython3",
   "version": "3.6.7"
  }
 },
 "nbformat": 4,
 "nbformat_minor": 2
}
