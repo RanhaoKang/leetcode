{
 "cells": [
  {
   "cell_type": "markdown",
   "metadata": {},
   "source": [
    "[419. Battleships in a Board](https://leetcode.com/problems/battleships-in-a-board/)"
   ]
  },
  {
   "cell_type": "code",
   "execution_count": 11,
   "metadata": {},
   "outputs": [],
   "source": [
    "class Solution:\n",
    "    def countBattleships(self, board) -> int:\n",
    "        h, w = len(board), len(board and board[0])\n",
    "        cnt = 0\n",
    "        for i in range(h):\n",
    "            for j in range(w):\n",
    "                if board[i][j] == 'X':\n",
    "                    if i == 0 and j == 0:\n",
    "                        cnt += 1\n",
    "                        continue\n",
    "                    if i > 0 and board[i-1][j] == 'X':\n",
    "                        continue\n",
    "                    if j > 0 and board[i][j-1] == 'X':\n",
    "                        continue\n",
    "                    cnt += 1\n",
    "        \n",
    "        return cnt     "
   ]
  },
  {
   "cell_type": "code",
   "execution_count": 12,
   "metadata": {},
   "outputs": [
    {
     "data": {
      "text/plain": [
       "2"
      ]
     },
     "execution_count": 12,
     "metadata": {},
     "output_type": "execute_result"
    }
   ],
   "source": [
    "Solution().countBattleships([[\"X\",\".\",\".\",\"X\"],[\".\",\".\",\".\",\"X\"],[\".\",\".\",\".\",\"X\"]])"
   ]
  },
  {
   "cell_type": "code",
   "execution_count": null,
   "metadata": {},
   "outputs": [],
   "source": []
  }
 ],
 "metadata": {
  "kernelspec": {
   "display_name": "Python 3",
   "language": "python",
   "name": "python3"
  },
  "language_info": {
   "codemirror_mode": {
    "name": "ipython",
    "version": 3
   },
   "file_extension": ".py",
   "mimetype": "text/x-python",
   "name": "python",
   "nbconvert_exporter": "python",
   "pygments_lexer": "ipython3",
   "version": "3.6.7"
  }
 },
 "nbformat": 4,
 "nbformat_minor": 2
}
