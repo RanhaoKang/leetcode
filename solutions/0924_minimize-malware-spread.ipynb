{
 "cells": [
  {
   "cell_type": "markdown",
   "metadata": {},
   "source": [
    "[924. Minimize Malware Spread](https://leetcode.com/problems/minimize-malware-spread/)"
   ]
  },
  {
   "cell_type": "code",
   "execution_count": 2,
   "metadata": {},
   "outputs": [],
   "source": [
    "class Solution:\n",
    "    def minMalwareSpread(self, graph, initial):\n",
    "        def find(x):\n",
    "            if x != parents[x]:\n",
    "                parents[x] = find(parents[x])\n",
    "            return parents[x]\n",
    "        def union(x, y):\n",
    "            parents[find(x)] = find(y)\n",
    "        n = len(graph)\n",
    "        parents = list(range(n))\n",
    "        for i in range(n):\n",
    "            for j in range(i + 1, n):\n",
    "                if graph[i][j] == 1:\n",
    "                    union(i, j)\n",
    "        union = collections.Counter(find(i) for i in range(n))\n",
    "        malware = collections.Counter(find(i) for i in initial)\n",
    "        \n",
    "        return min(initial, key=lambda x: [(malware[find(x)] == 1) * -union[find(x)], x])"
   ]
  },
  {
   "cell_type": "code",
   "execution_count": null,
   "metadata": {},
   "outputs": [],
   "source": []
  }
 ],
 "metadata": {
  "kernelspec": {
   "display_name": "Python 3",
   "language": "python",
   "name": "python3"
  },
  "language_info": {
   "codemirror_mode": {
    "name": "ipython",
    "version": 3
   },
   "file_extension": ".py",
   "mimetype": "text/x-python",
   "name": "python",
   "nbconvert_exporter": "python",
   "pygments_lexer": "ipython3",
   "version": "3.8.1"
  }
 },
 "nbformat": 4,
 "nbformat_minor": 4
}
