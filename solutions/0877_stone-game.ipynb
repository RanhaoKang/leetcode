{
 "cells": [
  {
   "cell_type": "markdown",
   "metadata": {},
   "source": [
    "[877. Stone Game](https://leetcode.com/problems/stone-game/)"
   ]
  },
  {
   "cell_type": "markdown",
   "metadata": {},
   "source": [
    "题意转述: 如下列表, 双方轮流取, 每次只能取最左或最右的元素, 并得到相应的得分. 假设双方都以最优策略对局, 判断先手方在游戏结束时能否取胜.\n",
    "```python3\n",
    "a = [5, 3, 4, 5]\n",
    "```\n",
    "- `len(a)`为偶数, 也就是说由后手方终盘.\n",
    "- `sum(a)`为奇数, 也就是说不存在平局."
   ]
  },
  {
   "cell_type": "code",
   "execution_count": 5,
   "metadata": {},
   "outputs": [],
   "source": [
    "class Solution:\n",
    "    def stoneGame(self, piles) -> bool:\n",
    "        from functools import lru_cache\n",
    "        length = len(piles)\n",
    "        \n",
    "        @lru_cache(None)\n",
    "        def solve(l, r):\n",
    "            if l > r:\n",
    "                return 0\n",
    "            \n",
    "            # 先手方\n",
    "            if (r - l - length) % 2 == 1:\n",
    "                return max(piles[l] + solve(l + 1, r), piles[r], solve(l, r - 1))\n",
    "            # 后手方\n",
    "            else:\n",
    "                # 后手方会选择尽可能缩小差距的方案\n",
    "                # 在l + 1 == r的情况这两种结果是一样的, 所以不需要担心min(负数)的问题\n",
    "                return min(solve(l + 1, r) - piles[l], solve(l, r - 1) - piles[r])\n",
    "        \n",
    "        return solve(0, length - 1) > 0"
   ]
  },
  {
   "cell_type": "markdown",
   "metadata": {},
   "source": [
    "Math, 降维打击是真的牛批.\n",
    "\n",
    "- `len(piles) == 2`: 先手取较大的元素即可获胜.\n",
    "- `len(piles) == 4`: 如果先手取`piles[0]`, 他必定能取到`piles[2]`. 如果先手取`piles[3]`, 则必定也能取到`piles[1]`. 那么先手只需要选`max(piles[0] + piles[2], piles[1] + piles[3])`的方案即可.\n",
    "- 把这个规律拓展到`len(piles) == N`, 先手可以取到所有下标为奇数或偶数的元素, 那么只需要选择和较大的方案即可必胜."
   ]
  },
  {
   "cell_type": "code",
   "execution_count": 1,
   "metadata": {},
   "outputs": [],
   "source": [
    "class Solution:\n",
    "    def stoneGame(self, piles) -> bool:\n",
    "        return True"
   ]
  },
  {
   "cell_type": "code",
   "execution_count": 3,
   "metadata": {},
   "outputs": [
    {
     "data": {
      "text/plain": [
       "1"
      ]
     },
     "execution_count": 3,
     "metadata": {},
     "output_type": "execute_result"
    }
   ],
   "source": [
    "(5 - 0 - 6) % 2"
   ]
  },
  {
   "cell_type": "code",
   "execution_count": null,
   "metadata": {},
   "outputs": [],
   "source": []
  }
 ],
 "metadata": {
  "kernelspec": {
   "display_name": "Python 3",
   "language": "python",
   "name": "python3"
  },
  "language_info": {
   "codemirror_mode": {
    "name": "ipython",
    "version": 3
   },
   "file_extension": ".py",
   "mimetype": "text/x-python",
   "name": "python",
   "nbconvert_exporter": "python",
   "pygments_lexer": "ipython3",
   "version": "3.6.7"
  }
 },
 "nbformat": 4,
 "nbformat_minor": 2
}
