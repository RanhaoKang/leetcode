{
 "cells": [
  {
   "cell_type": "markdown",
   "metadata": {},
   "source": [
    "[1284. Minimum Number of Flips to Convert Binary Matrix to Zero Matrix](https://leetcode.com/problems/minimum-number-of-flips-to-convert-binary-matrix-to-zero-matrix/)"
   ]
  },
  {
   "cell_type": "code",
   "execution_count": 2,
   "metadata": {},
   "outputs": [],
   "source": [
    "class Solution:\n",
    "    def minFlips(self, mat) -> int:\n",
    "        m, n = len(mat), len(mat and mat[0])\n",
    "\n",
    "        def flip(i, j):\n",
    "            for i, j in (i, j), (i+1, j), (i-1, j), (i, j+1), (i, j-1):\n",
    "                if 0 <= i < m and 0 <= j < n:\n",
    "                    mat[i][j] ^= 1\n",
    "\n",
    "        possible = set()\n",
    "\n",
    "        def dfs(i = 0, j = 0, flips = 0):\n",
    "            if j == n:\n",
    "                i, j = i + 1, 0\n",
    "            if i == m:\n",
    "                if not any(mat[-1]):\n",
    "                    possible.add(flips)\n",
    "                return\n",
    "\n",
    "            if i == 0 or mat[i - 1][j] == 0:\n",
    "                dfs(i, j + 1, flips)\n",
    "            if i == 0 or mat[i - 1][j] == 1:\n",
    "                flip(i, j)\n",
    "                dfs(i, j + 1, flips + 1)\n",
    "                flip(i, j)\n",
    "\n",
    "        dfs()\n",
    "        return min(possible, default = -1)"
   ]
  },
  {
   "cell_type": "code",
   "execution_count": null,
   "metadata": {},
   "outputs": [],
   "source": []
  },
  {
   "cell_type": "code",
   "execution_count": null,
   "metadata": {},
   "outputs": [],
   "source": []
  }
 ],
 "metadata": {
  "kernelspec": {
   "display_name": "Python 3",
   "language": "python",
   "name": "python3"
  },
  "language_info": {
   "codemirror_mode": {
    "name": "ipython",
    "version": 3
   },
   "file_extension": ".py",
   "mimetype": "text/x-python",
   "name": "python",
   "nbconvert_exporter": "python",
   "pygments_lexer": "ipython3",
   "version": "3.8.0b3"
  }
 },
 "nbformat": 4,
 "nbformat_minor": 2
}
