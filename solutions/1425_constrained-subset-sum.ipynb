{
 "cells": [
  {
   "cell_type": "markdown",
   "metadata": {},
   "source": [
    "[1425. Constrained Subset Sum](https://leetcode.com/problems/constrained-subset-sum/)"
   ]
  },
  {
   "cell_type": "code",
   "execution_count": 1,
   "metadata": {},
   "outputs": [],
   "source": [
    "class Solution:\n",
    "    def constrainedSubsetSum(self, A, k: int) -> int:\n",
    "        deque = collections.deque()\n",
    "        for i in range(len(A)):\n",
    "            A[i] += deque[0] if deque else 0\n",
    "            while len(deque) and A[i] > deque[-1]:\n",
    "                deque.pop()\n",
    "            if A[i] > 0:\n",
    "                deque.append(A[i])\n",
    "            if i >= k and deque and deque[0] == A[i - k]:\n",
    "                deque.popleft()\n",
    "        return max(A)"
   ]
  },
  {
   "cell_type": "code",
   "execution_count": null,
   "metadata": {},
   "outputs": [],
   "source": []
  }
 ],
 "metadata": {
  "kernelspec": {
   "display_name": "Python 3",
   "language": "python",
   "name": "python3"
  },
  "language_info": {
   "codemirror_mode": {
    "name": "ipython",
    "version": 3
   },
   "file_extension": ".py",
   "mimetype": "text/x-python",
   "name": "python",
   "nbconvert_exporter": "python",
   "pygments_lexer": "ipython3",
   "version": "3.8.0b3"
  }
 },
 "nbformat": 4,
 "nbformat_minor": 2
}
