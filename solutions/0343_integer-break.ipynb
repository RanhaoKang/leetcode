{
 "cells": [
  {
   "cell_type": "markdown",
   "metadata": {},
   "source": [
    "[343. Integer Break](https://leetcode.com/problems/integer-break/)"
   ]
  },
  {
   "cell_type": "markdown",
   "metadata": {},
   "source": [
    "从`7`拆为`3+4`无端想到拆质数, 进一步比较`2+5`和`3+4`, 想到拆为`2`和`3`而且尽可能拆`3`, 原理想不出来. [Why factor 2 or 3? The math behind this problem. - LeetCode Discuss](https://leetcode.com/problems/integer-break/discuss/80721/Why-factor-2-or-3-The-math-behind-this-problem.)这个数学解释直接往出拆同一个数`x`让我觉得有些突兀, 其他地方真的强, 导数论证部分固然是降维打击. 下面的评论里对拆同一个数`x`的解释说清楚了这一点. 一个数拆为两个数的和, 使得两数乘积最大, 这种情况下拆成较平均的两个数是常识. 潜在的数学证明是\n",
    "$$(x+k)(y-k) = xy + k(y-x) - k^2 < xy$$\n",
    "向拆为`n`个数拓展时, 则需要`n`项乘积的化简."
   ]
  },
  {
   "cell_type": "code",
   "execution_count": 6,
   "metadata": {},
   "outputs": [],
   "source": [
    "class Solution:\n",
    "    def integerBreak(self, n: int) -> int:\n",
    "        if n == 2 or n == 3:\n",
    "            return n - 1\n",
    "        \n",
    "        res = 1\n",
    "        while n > 4:\n",
    "            n -= 3\n",
    "            res *= 3\n",
    "        \n",
    "        return n * res"
   ]
  },
  {
   "cell_type": "code",
   "execution_count": 7,
   "metadata": {},
   "outputs": [
    {
     "data": {
      "text/plain": [
       "36"
      ]
     },
     "execution_count": 7,
     "metadata": {},
     "output_type": "execute_result"
    }
   ],
   "source": [
    "Solution().integerBreak(10)"
   ]
  },
  {
   "cell_type": "code",
   "execution_count": null,
   "metadata": {},
   "outputs": [],
   "source": []
  }
 ],
 "metadata": {
  "kernelspec": {
   "display_name": "Python 3",
   "language": "python",
   "name": "python3"
  },
  "language_info": {
   "codemirror_mode": {
    "name": "ipython",
    "version": 3
   },
   "file_extension": ".py",
   "mimetype": "text/x-python",
   "name": "python",
   "nbconvert_exporter": "python",
   "pygments_lexer": "ipython3",
   "version": "3.6.7"
  }
 },
 "nbformat": 4,
 "nbformat_minor": 2
}
