{
 "cells": [
  {
   "cell_type": "markdown",
   "metadata": {},
   "source": [
    "[221. Maximal Square](https://leetcode.com/problems/maximal-square/)"
   ]
  },
  {
   "cell_type": "markdown",
   "metadata": {},
   "source": [
    "稍作修改"
   ]
  },
  {
   "cell_type": "code",
   "execution_count": 2,
   "metadata": {},
   "outputs": [],
   "source": [
    "class Solution:\n",
    "\n",
    "    def largestRectangleArea(self, heights) -> int:\n",
    "\n",
    "        length = len(heights)\n",
    "        if not length:\n",
    "            return 0\n",
    "        less_left, less_right = [0] * length, [0] * length\n",
    "        less_left[0] = -1\n",
    "        less_right[-1] = length\n",
    "        \n",
    "        for i in range(1, length):\n",
    "            p = i - 1\n",
    "            while p >= 0 and heights[p] >= heights[i]:\n",
    "                p = less_left[p]\n",
    "            less_left[i] = p\n",
    "            \n",
    "        for i in range(length - 2, -1, -1):\n",
    "            p = i + 1\n",
    "            while p < length and heights[p] >= heights[i]:\n",
    "                p = less_right[p]\n",
    "            less_right[i] = p\n",
    "\n",
    "        return max(min(h, r - l - 1) ** 2 for h, l, r in zip(heights, less_left, less_right))\n",
    "\n",
    "    \n",
    "    def maximalSquare(self, matrix) -> int:\n",
    "        h, w = len(matrix), len(matrix and matrix[0])\n",
    "        res = 0\n",
    "        height = [0] * w\n",
    "        for i in range(h):\n",
    "            for j in range(w):\n",
    "                if matrix[i][j] == '1':\n",
    "                    height[j] += 1\n",
    "                else:\n",
    "                    height[j] = 0\n",
    "            \n",
    "            res = max(res, self.largestRectangleArea(height))\n",
    "        \n",
    "        return res"
   ]
  },
  {
   "cell_type": "code",
   "execution_count": null,
   "metadata": {},
   "outputs": [],
   "source": []
  }
 ],
 "metadata": {
  "kernelspec": {
   "display_name": "Python 3",
   "language": "python",
   "name": "python3"
  },
  "language_info": {
   "codemirror_mode": {
    "name": "ipython",
    "version": 3
   },
   "file_extension": ".py",
   "mimetype": "text/x-python",
   "name": "python",
   "nbconvert_exporter": "python",
   "pygments_lexer": "ipython3",
   "version": "3.6.7"
  }
 },
 "nbformat": 4,
 "nbformat_minor": 2
}
