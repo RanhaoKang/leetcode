{
 "cells": [
  {
   "cell_type": "markdown",
   "metadata": {},
   "source": [
    "[1023. Camelcase Matching](https://leetcode.com/problems/camelcase-matching/)"
   ]
  },
  {
   "cell_type": "markdown",
   "metadata": {},
   "source": [
    "自己的写法, 不符合题意了, `query=\"ControlPanel\", pattern=\"CooP\"`题意是`True`的"
   ]
  },
  {
   "cell_type": "code",
   "execution_count": 1,
   "metadata": {},
   "outputs": [],
   "source": [
    "class Solution:\n",
    "    def camelMatch(self, queries, pattern: str):\n",
    "        def check(query, pattern):\n",
    "            query, pattern = iter(query), iter(pattern)\n",
    "            i, j = next(query, None), next(pattern, None)\n",
    "\n",
    "            while i and j:\n",
    "                if i == j:\n",
    "                    i, j = next(query, None), next(pattern, None)\n",
    "                elif i.islower() and j.isupper():\n",
    "                    i = next(query, None)\n",
    "                else:\n",
    "                    return False\n",
    "\n",
    "            return j is None and all(_.islower() for _ in query)\n",
    "        \n",
    "        return [check(query, pattern) for query in queries]"
   ]
  },
  {
   "cell_type": "code",
   "execution_count": 2,
   "metadata": {},
   "outputs": [
    {
     "data": {
      "text/plain": [
       "[False]"
      ]
     },
     "execution_count": 2,
     "metadata": {},
     "output_type": "execute_result"
    }
   ],
   "source": [
    "Solution().camelMatch(['ControlPanel'], 'CooP')"
   ]
  },
  {
   "cell_type": "markdown",
   "metadata": {},
   "source": [
    "Lee的解法"
   ]
  },
  {
   "cell_type": "code",
   "execution_count": 3,
   "metadata": {},
   "outputs": [],
   "source": [
    "class Solution:\n",
    "    def camelMatch(self, qs, p):\n",
    "        def u(s):\n",
    "            return [c for c in s if c.isupper()]\n",
    "\n",
    "        def issup(s, t):\n",
    "            it = iter(t)\n",
    "            return all(c in it for c in s)\n",
    "        return [u(p) == u(q) and issup(p, q) for q in qs]"
   ]
  },
  {
   "cell_type": "code",
   "execution_count": 4,
   "metadata": {},
   "outputs": [
    {
     "data": {
      "text/plain": [
       "[True]"
      ]
     },
     "execution_count": 4,
     "metadata": {},
     "output_type": "execute_result"
    }
   ],
   "source": [
    "Solution().camelMatch(['ControlPanel'], 'CooP')"
   ]
  }
 ],
 "metadata": {
  "kernelspec": {
   "display_name": "Python 3",
   "language": "python",
   "name": "python3"
  },
  "language_info": {
   "codemirror_mode": {
    "name": "ipython",
    "version": 3
   },
   "file_extension": ".py",
   "mimetype": "text/x-python",
   "name": "python",
   "nbconvert_exporter": "python",
   "pygments_lexer": "ipython3",
   "version": "3.8.0b3"
  }
 },
 "nbformat": 4,
 "nbformat_minor": 2
}
