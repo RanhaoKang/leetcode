{
 "cells": [
  {
   "cell_type": "markdown",
   "metadata": {},
   "source": [
    "[947. Most Stones Removed with Same Row or Column](https://leetcode.com/problems/most-stones-removed-with-same-row-or-column/)"
   ]
  },
  {
   "cell_type": "code",
   "execution_count": 1,
   "metadata": {},
   "outputs": [],
   "source": [
    "class Solution:\n",
    "    def removeStones(self, stones) -> int:\n",
    "        UF = {}\n",
    "        def find(x):\n",
    "            if x != UF[x]:\n",
    "                UF[x] = find(UF[x])\n",
    "            return UF[x]\n",
    "        def union(x, y):\n",
    "            UF.setdefault(x, x)\n",
    "            UF.setdefault(y, y)\n",
    "            UF[find(x)] = find(y)\n",
    "\n",
    "        for i, j in points:\n",
    "            union(i, ~j)\n",
    "        return len(points) - len({find(x) for x in UF})"
   ]
  },
  {
   "cell_type": "code",
   "execution_count": null,
   "metadata": {},
   "outputs": [],
   "source": []
  }
 ],
 "metadata": {
  "kernelspec": {
   "display_name": "Python 3",
   "language": "python",
   "name": "python3"
  },
  "language_info": {
   "codemirror_mode": {
    "name": "ipython",
    "version": 3
   },
   "file_extension": ".py",
   "mimetype": "text/x-python",
   "name": "python",
   "nbconvert_exporter": "python",
   "pygments_lexer": "ipython3",
   "version": "3.8.0b3"
  }
 },
 "nbformat": 4,
 "nbformat_minor": 2
}
