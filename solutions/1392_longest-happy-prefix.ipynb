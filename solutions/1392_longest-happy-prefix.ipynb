{
 "cells": [
  {
   "cell_type": "markdown",
   "metadata": {},
   "source": [
    "[1392. Longest Happy Prefix](https://leetcode.com/problems/longest-happy-prefix/)"
   ]
  },
  {
   "cell_type": "markdown",
   "metadata": {},
   "source": [
    "good intro problem to rolling hash: https://leetcode.com/problems/distinct-echo-substrings/"
   ]
  },
  {
   "cell_type": "markdown",
   "metadata": {},
   "source": [
    "https://leetcode.com/problems/longest-happy-prefix/discuss/547237/Python-Rolling-Hash"
   ]
  },
  {
   "cell_type": "markdown",
   "metadata": {},
   "source": [
    "Rolling Hash"
   ]
  },
  {
   "cell_type": "code",
   "execution_count": 1,
   "metadata": {},
   "outputs": [],
   "source": [
    "class Solution:\n",
    "    def longestPrefix(self, s: str) -> str:\n",
    "        res, l, r, MOD = 0, 0, 0, 10 ** 9 + 7\n",
    "        for i in range(len(s) - 1):\n",
    "            l = (l * 128 + ord(s[i])) % MOD\n",
    "            r = (r + pow(128, i, MOD) * ord(s[~i])) % MOD\n",
    "            if l == r:\n",
    "                res = i + 1\n",
    "        \n",
    "        return s[:res]"
   ]
  },
  {
   "cell_type": "code",
   "execution_count": null,
   "metadata": {},
   "outputs": [],
   "source": []
  }
 ],
 "metadata": {
  "kernelspec": {
   "display_name": "Python 3",
   "language": "python",
   "name": "python3"
  },
  "language_info": {
   "codemirror_mode": {
    "name": "ipython",
    "version": 3
   },
   "file_extension": ".py",
   "mimetype": "text/x-python",
   "name": "python",
   "nbconvert_exporter": "python",
   "pygments_lexer": "ipython3",
   "version": "3.8.1"
  }
 },
 "nbformat": 4,
 "nbformat_minor": 4
}
