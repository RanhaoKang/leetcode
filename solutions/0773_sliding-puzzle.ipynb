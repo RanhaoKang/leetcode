{
 "cells": [
  {
   "cell_type": "markdown",
   "metadata": {},
   "source": [
    "[773. Sliding Puzzle](https://leetcode.com/problems/sliding-puzzle/)"
   ]
  },
  {
   "cell_type": "markdown",
   "metadata": {},
   "source": [
    "写起来太繁琐了，抄！"
   ]
  },
  {
   "cell_type": "code",
   "execution_count": 13,
   "metadata": {},
   "outputs": [],
   "source": [
    "class Solution:\n",
    "    def slidingPuzzle(self, board) -> int:\n",
    "        start_str = ''.join([str(i) for i in (board[0] + board[1])])\n",
    "        swap_pos = [[1, 3], [0, 2, 4], [1, 5], [0, 4], [1, 3, 5], [2, 4]]\n",
    "        visited, step = set(), 0\n",
    "        cur_list, next_list = [start_str], []\n",
    "        while cur_list:\n",
    "            for cur in cur_list:\n",
    "                if cur == '123450':\n",
    "                    return step\n",
    "                ind = cur.index('0')\n",
    "                for pos in swap_pos[ind]:\n",
    "                    next_str_list = [ch for ch in cur]\n",
    "                    next_str_list[ind], next_str_list[pos] = next_str_list[pos], next_str_list[ind]\n",
    "                    next_str = ''.join(next_str_list)\n",
    "                    if next_str not in visited:\n",
    "                        visited.add(next_str)\n",
    "                        next_list.append(next_str)\n",
    "            cur_list, next_list = next_list, []\n",
    "            step += 1\n",
    "        return -1"
   ]
  },
  {
   "cell_type": "code",
   "execution_count": 14,
   "metadata": {},
   "outputs": [
    {
     "data": {
      "text/plain": [
       "0"
      ]
     },
     "execution_count": 14,
     "metadata": {},
     "output_type": "execute_result"
    }
   ],
   "source": [
    "Solution().slidingPuzzle([[1,2,3], [4,5,0]])"
   ]
  },
  {
   "cell_type": "code",
   "execution_count": null,
   "metadata": {},
   "outputs": [],
   "source": []
  }
 ],
 "metadata": {
  "kernelspec": {
   "display_name": "Python 3",
   "language": "python",
   "name": "python3"
  },
  "language_info": {
   "codemirror_mode": {
    "name": "ipython",
    "version": 3
   },
   "file_extension": ".py",
   "mimetype": "text/x-python",
   "name": "python",
   "nbconvert_exporter": "python",
   "pygments_lexer": "ipython3",
   "version": "3.8.1"
  }
 },
 "nbformat": 4,
 "nbformat_minor": 4
}
