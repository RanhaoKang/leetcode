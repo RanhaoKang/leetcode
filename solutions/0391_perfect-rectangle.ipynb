{
 "cells": [
  {
   "cell_type": "markdown",
   "metadata": {},
   "source": [
    "[391. Perfect Rectangle](https://leetcode.com/problems/perfect-rectangle/)"
   ]
  },
  {
   "cell_type": "code",
   "execution_count": 4,
   "metadata": {},
   "outputs": [],
   "source": [
    "class Solution:\n",
    "    def isRectangleCover(self, rectangles) -> bool:\n",
    "        area = 0\n",
    "        corners = set()\n",
    "        a, c = lambda: (X - x) * (Y - y), lambda: {(x, y), (x, Y), (X, y), (X, Y)}\n",
    "        for x, y, X, Y in rectangles:\n",
    "            area += a()\n",
    "            corners ^= c()\n",
    "        x, y, X, Y = (f(z) for f, z in zip((min, min, max, max), zip(*rectangles)))\n",
    "        return area == a() and corners == c()"
   ]
  },
  {
   "cell_type": "code",
   "execution_count": null,
   "metadata": {},
   "outputs": [],
   "source": []
  }
 ],
 "metadata": {
  "kernelspec": {
   "display_name": "Python 3",
   "language": "python",
   "name": "python3"
  },
  "language_info": {
   "codemirror_mode": {
    "name": "ipython",
    "version": 3
   },
   "file_extension": ".py",
   "mimetype": "text/x-python",
   "name": "python",
   "nbconvert_exporter": "python",
   "pygments_lexer": "ipython3",
   "version": "3.8.1"
  }
 },
 "nbformat": 4,
 "nbformat_minor": 4
}
