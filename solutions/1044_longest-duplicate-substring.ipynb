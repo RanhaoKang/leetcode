{
 "cells": [
  {
   "cell_type": "markdown",
   "metadata": {},
   "source": [
    "[1044. Longest Duplicate Substring](https://leetcode.com/problems/longest-duplicate-substring/)"
   ]
  },
  {
   "cell_type": "code",
   "execution_count": 5,
   "metadata": {},
   "outputs": [],
   "source": [
    "class Solution:\n",
    "    def longestDupSubstring(self, S: str) -> str:\n",
    "        from functools import reduce\n",
    "        \n",
    "        A = [ord(c) - ord('a') for c in S]\n",
    "        mod = 2 ** 63 - 1\n",
    "\n",
    "        def test(L):\n",
    "            p = pow(26, L, mod)\n",
    "            cur = reduce(lambda x, y: (x * 26 + y) % mod, A[:L], 0)\n",
    "            seen = {cur}\n",
    "            for i in range(L, len(S)):\n",
    "                cur = (cur * 26 + A[i] - A[i - L] * p) % mod\n",
    "                if cur in seen: return i - L + 1\n",
    "                seen.add(cur)\n",
    "        res, lo, hi = 0, 0, len(S)\n",
    "        while lo < hi:\n",
    "            mi = (lo + hi + 1) // 2\n",
    "            pos = test(mi)\n",
    "            if pos:\n",
    "                lo = mi\n",
    "                res = pos\n",
    "            else:\n",
    "                hi = mi - 1\n",
    "        return S[res:res + lo]"
   ]
  },
  {
   "cell_type": "code",
   "execution_count": null,
   "metadata": {},
   "outputs": [],
   "source": []
  }
 ],
 "metadata": {
  "kernelspec": {
   "display_name": "Python 3",
   "language": "python",
   "name": "python3"
  },
  "language_info": {
   "codemirror_mode": {
    "name": "ipython",
    "version": 3
   },
   "file_extension": ".py",
   "mimetype": "text/x-python",
   "name": "python",
   "nbconvert_exporter": "python",
   "pygments_lexer": "ipython3",
   "version": "3.8.1"
  }
 },
 "nbformat": 4,
 "nbformat_minor": 4
}
