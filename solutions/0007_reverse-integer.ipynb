{
 "cells": [
  {
   "cell_type": "markdown",
   "metadata": {},
   "source": [
    "[7. Reverse Integer](https://leetcode.com/problems/reverse-integer/)"
   ]
  },
  {
   "cell_type": "markdown",
   "metadata": {},
   "source": [
    "与题目要求有些不一致, 题目中在计算过程中就有可能出现溢出的可能, 而Python支持大数, 所以我们只在返回时做判断, 56ms,.\n",
    "\n",
    "如果溢出的话, 可以在循环时用`(res * 10 + i) // 1- != res`来判断"
   ]
  },
  {
   "cell_type": "code",
   "execution_count": 6,
   "metadata": {},
   "outputs": [],
   "source": [
    "class Solution:\n",
    "    def reverse(self, x: 'int') -> 'int':\n",
    "        pos = 1 if x >= 0 else -1\n",
    "        \n",
    "        def iterate(n):\n",
    "            while n:\n",
    "                yield n % 10\n",
    "                n //= 10\n",
    "        \n",
    "        res = 0\n",
    "        for i in iterate(abs(x)):\n",
    "            res = res * 10 + i\n",
    "        \n",
    "        return pos * res if res < 2 ** 31 - 1 else 0"
   ]
  },
  {
   "cell_type": "code",
   "execution_count": null,
   "metadata": {},
   "outputs": [],
   "source": []
  }
 ],
 "metadata": {
  "kernelspec": {
   "display_name": "Python 3",
   "language": "python",
   "name": "python3"
  },
  "language_info": {
   "codemirror_mode": {
    "name": "ipython",
    "version": 3
   },
   "file_extension": ".py",
   "mimetype": "text/x-python",
   "name": "python",
   "nbconvert_exporter": "python",
   "pygments_lexer": "ipython3",
   "version": "3.6.7"
  }
 },
 "nbformat": 4,
 "nbformat_minor": 2
}
