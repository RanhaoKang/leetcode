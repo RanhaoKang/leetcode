{
 "cells": [
  {
   "cell_type": "markdown",
   "metadata": {},
   "source": [
    "[1019. Next Greater Node In Linked List](https://leetcode.com/problems/next-greater-node-in-linked-list/)"
   ]
  },
  {
   "cell_type": "code",
   "execution_count": 43,
   "metadata": {},
   "outputs": [],
   "source": [
    "# Definition for singly-linked list.\n",
    "class ListNode:\n",
    "    def __init__(self, x):\n",
    "        self.val = x\n",
    "        self.next = None\n",
    "\n",
    "class Solution:\n",
    "    def nextLargerNodes(self, head: ListNode):\n",
    "        \n",
    "        from collections import deque\n",
    "        stack = deque()\n",
    "        length = 0\n",
    "        p = head\n",
    "        while p:\n",
    "            length += 1\n",
    "            p = p.next\n",
    "        res = [0] * length\n",
    "        \n",
    "        p = head\n",
    "        idx = 0\n",
    "        while p:\n",
    "            while stack and stack[-1][0] < p.val:\n",
    "                val, index = stack.pop()\n",
    "                res[index] = p.val\n",
    "            stack.append((p.val, idx))\n",
    "            p = p.next\n",
    "            idx += 1\n",
    "\n",
    "        return res"
   ]
  },
  {
   "cell_type": "code",
   "execution_count": 44,
   "metadata": {},
   "outputs": [],
   "source": [
    "def build_list(l):\n",
    "    head = ListNode(None)\n",
    "    p = head\n",
    "    for i in l:\n",
    "        p.next = p = ListNode(i)\n",
    "    \n",
    "    return head.next"
   ]
  },
  {
   "cell_type": "code",
   "execution_count": 45,
   "metadata": {},
   "outputs": [],
   "source": [
    "p = build_list([2,7,4,3,5])"
   ]
  },
  {
   "cell_type": "code",
   "execution_count": 46,
   "metadata": {},
   "outputs": [
    {
     "data": {
      "text/plain": [
       "[7, 0, 5, 5, 0]"
      ]
     },
     "execution_count": 46,
     "metadata": {},
     "output_type": "execute_result"
    }
   ],
   "source": [
    "Solution().nextLargerNodes(p)"
   ]
  },
  {
   "cell_type": "code",
   "execution_count": null,
   "metadata": {},
   "outputs": [],
   "source": []
  }
 ],
 "metadata": {
  "kernelspec": {
   "display_name": "Python 3",
   "language": "python",
   "name": "python3"
  },
  "language_info": {
   "codemirror_mode": {
    "name": "ipython",
    "version": 3
   },
   "file_extension": ".py",
   "mimetype": "text/x-python",
   "name": "python",
   "nbconvert_exporter": "python",
   "pygments_lexer": "ipython3",
   "version": "3.6.7"
  }
 },
 "nbformat": 4,
 "nbformat_minor": 2
}
