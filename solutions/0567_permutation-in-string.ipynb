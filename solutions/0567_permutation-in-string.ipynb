{
 "cells": [
  {
   "cell_type": "markdown",
   "metadata": {},
   "source": [
    "[567. Permutation in String](https://leetcode.com/problems/permutation-in-string/)"
   ]
  },
  {
   "cell_type": "markdown",
   "metadata": {},
   "source": [
    "- 如果出现了`s1`不存在的字符, 那么直接跳到结尾\n",
    "- 如果出现了`s1`中存在但是计数器超过出现次数的字符, 那么已匹配的第一次出现这个字符之前的都作废了"
   ]
  },
  {
   "cell_type": "code",
   "execution_count": 56,
   "metadata": {},
   "outputs": [],
   "source": [
    "class Solution:\n",
    "    def checkInclusion(self, s1: str, s2: str) -> bool:\n",
    "        from collections import Counter\n",
    "        s1 = Counter(s1)\n",
    "        poped = set()\n",
    "        \n",
    "        N1, N2 = len(s1), len(s2)\n",
    "        \n",
    "        def check(i):\n",
    "            cnt1, cnt2 = Counter(s1), Counter()\n",
    "            j = i\n",
    "            while j in range(N2):\n",
    "                # print(j, cnt1, cnt2)\n",
    "                # 完 全 一 致\n",
    "                if cnt1 == cnt2:\n",
    "                    return True\n",
    "                # s1不存在的字符\n",
    "                elif s2[j] not in cnt1:\n",
    "                    # print('不存在的字符')\n",
    "                    return j + 1\n",
    "                # 次数过多的字符\n",
    "                elif cnt1[s2[j]] == cnt2[s2[j]]:\n",
    "                    # print('次数过多的字符')\n",
    "                    for k in range(i, j):\n",
    "                        if s2[k] == s2[j]:\n",
    "                            return k + 1\n",
    "                # 正常情况\n",
    "                else:\n",
    "                    # print('正常')\n",
    "                    cnt2[s2[j]] += 1\n",
    "                    j += 1\n",
    "            return cnt1 == cnt2\n",
    "            \n",
    "\n",
    "        i = 0\n",
    "        while i in range(N2 - N1 + 1):\n",
    "            i = check(i)\n",
    "            if i is True:\n",
    "                return True\n",
    "            elif i is False:\n",
    "                return False\n",
    "        \n",
    "        return False "
   ]
  },
  {
   "cell_type": "code",
   "execution_count": 57,
   "metadata": {},
   "outputs": [
    {
     "name": "stdout",
     "output_type": "stream",
     "text": [
      "0 Counter({'l': 2, 'h': 1, 'e': 1, 'o': 1}) Counter()\n",
      "正常\n",
      "1 Counter({'l': 2, 'h': 1, 'e': 1, 'o': 1}) Counter({'o': 1})\n",
      "次数过多的字符\n",
      "1 Counter({'l': 2, 'h': 1, 'e': 1, 'o': 1}) Counter()\n",
      "正常\n",
      "2 Counter({'l': 2, 'h': 1, 'e': 1, 'o': 1}) Counter({'o': 1})\n",
      "次数过多的字符\n",
      "2 Counter({'l': 2, 'h': 1, 'e': 1, 'o': 1}) Counter()\n",
      "正常\n",
      "3 Counter({'l': 2, 'h': 1, 'e': 1, 'o': 1}) Counter({'o': 1})\n",
      "正常\n",
      "4 Counter({'l': 2, 'h': 1, 'e': 1, 'o': 1}) Counter({'o': 1, 'l': 1})\n",
      "正常\n",
      "5 Counter({'l': 2, 'h': 1, 'e': 1, 'o': 1}) Counter({'l': 2, 'o': 1})\n",
      "正常\n",
      "6 Counter({'l': 2, 'h': 1, 'e': 1, 'o': 1}) Counter({'l': 2, 'o': 1, 'e': 1})\n",
      "次数过多的字符\n",
      "3 Counter({'l': 2, 'h': 1, 'e': 1, 'o': 1}) Counter()\n",
      "正常\n",
      "4 Counter({'l': 2, 'h': 1, 'e': 1, 'o': 1}) Counter({'l': 1})\n",
      "正常\n",
      "5 Counter({'l': 2, 'h': 1, 'e': 1, 'o': 1}) Counter({'l': 2})\n",
      "正常\n",
      "6 Counter({'l': 2, 'h': 1, 'e': 1, 'o': 1}) Counter({'l': 2, 'e': 1})\n",
      "正常\n",
      "7 Counter({'l': 2, 'h': 1, 'e': 1, 'o': 1}) Counter({'l': 2, 'e': 1, 'o': 1})\n",
      "次数过多的字符\n",
      "7 Counter({'l': 2, 'h': 1, 'e': 1, 'o': 1}) Counter()\n",
      "正常\n",
      "8 Counter({'l': 2, 'h': 1, 'e': 1, 'o': 1}) Counter({'o': 1})\n",
      "次数过多的字符\n",
      "8 Counter({'l': 2, 'h': 1, 'e': 1, 'o': 1}) Counter()\n",
      "正常\n",
      "9 Counter({'l': 2, 'h': 1, 'e': 1, 'o': 1}) Counter({'o': 1})\n",
      "正常\n",
      "10 Counter({'l': 2, 'h': 1, 'e': 1, 'o': 1}) Counter({'o': 1, 'l': 1})\n",
      "正常\n",
      "11 Counter({'l': 2, 'h': 1, 'e': 1, 'o': 1}) Counter({'o': 1, 'l': 1, 'e': 1})\n",
      "正常\n"
     ]
    },
    {
     "data": {
      "text/plain": [
       "False"
      ]
     },
     "execution_count": 57,
     "metadata": {},
     "output_type": "execute_result"
    }
   ],
   "source": [
    "Solution().checkInclusion('hello', 'ooolleoooleh')"
   ]
  },
  {
   "cell_type": "code",
   "execution_count": null,
   "metadata": {},
   "outputs": [],
   "source": []
  }
 ],
 "metadata": {
  "kernelspec": {
   "display_name": "Python 3",
   "language": "python",
   "name": "python3"
  },
  "language_info": {
   "codemirror_mode": {
    "name": "ipython",
    "version": 3
   },
   "file_extension": ".py",
   "mimetype": "text/x-python",
   "name": "python",
   "nbconvert_exporter": "python",
   "pygments_lexer": "ipython3",
   "version": "3.6.7"
  }
 },
 "nbformat": 4,
 "nbformat_minor": 2
}
