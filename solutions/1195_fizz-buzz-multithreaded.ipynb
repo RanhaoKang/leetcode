{
 "cells": [
  {
   "cell_type": "markdown",
   "metadata": {},
   "source": [
    "[1195. Fizz Buzz Multithreaded](https://leetcode.com/problems/fizz-buzz-multithreaded/)"
   ]
  },
  {
   "cell_type": "code",
   "execution_count": 1,
   "metadata": {},
   "outputs": [],
   "source": [
    "import threading\n",
    "\n",
    "\n",
    "class FizzBuzz:\n",
    "    def __init__(self, n: int):\n",
    "        self.n = n\n",
    "\n",
    "        self.k = 0\n",
    "        self.div_3 = None\n",
    "        self.div_5 = None\n",
    "\n",
    "        def step():\n",
    "            self.k += 1\n",
    "            self.div_3 = not self.k % 3\n",
    "            self.div_5 = not self.k % 5\n",
    "\n",
    "        self.sync = threading.Barrier(4, action=step)\n",
    "\n",
    "    def _thread(self, printer, div_3=False, div_5=False):\n",
    "        while self.k < self.n:\n",
    "            self.sync.wait()\n",
    "            if self.div_3 == div_3 and self.div_5 == div_5:\n",
    "                printer()\n",
    "\n",
    "    def fizz(self, printFizz: 'Callable[[], None]') -> None:\n",
    "        self._thread(printFizz, div_3=True)\n",
    "\n",
    "    def buzz(self, printBuzz: 'Callable[[], None]') -> None:\n",
    "        self._thread(printBuzz, div_5=True)\n",
    "\n",
    "    def fizzbuzz(self, printFizzBuzz: 'Callable[[], None]') -> None:\n",
    "        self._thread(printFizzBuzz, div_3=True, div_5=True)\n",
    "\n",
    "    def number(self, printNumber: 'Callable[[int], None]') -> None:\n",
    "        self._thread(lambda: printNumber(self.k))"
   ]
  },
  {
   "cell_type": "code",
   "execution_count": null,
   "metadata": {},
   "outputs": [],
   "source": []
  }
 ],
 "metadata": {
  "kernelspec": {
   "display_name": "Python 3",
   "language": "python",
   "name": "python3"
  },
  "language_info": {
   "codemirror_mode": {
    "name": "ipython",
    "version": 3
   },
   "file_extension": ".py",
   "mimetype": "text/x-python",
   "name": "python",
   "nbconvert_exporter": "python",
   "pygments_lexer": "ipython3",
   "version": "3.8.0b3"
  }
 },
 "nbformat": 4,
 "nbformat_minor": 2
}
