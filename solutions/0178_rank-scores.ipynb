{
 "cells": [
  {
   "cell_type": "markdown",
   "metadata": {},
   "source": [
    "[178. Rank Scores](https://leetcode.com/problems/rank-scores/)"
   ]
  },
  {
   "cell_type": "markdown",
   "metadata": {},
   "source": [
    "```sql\n",
    "# Write your MySQL query statement below\n",
    "SELECT\n",
    "  Score,\n",
    "  @rank := @rank + (@prev <> (@prev := Score)) Rank\n",
    "FROM\n",
    "  Scores,\n",
    "  (SELECT @rank := 0, @prev := -1) init\n",
    "ORDER BY Score desc\n",
    "```"
   ]
  },
  {
   "cell_type": "code",
   "execution_count": 1,
   "metadata": {},
   "outputs": [],
   "source": [
    "import sqlite3\n",
    "con = sqlite3.connect(':memory:')\n",
    "cur = con.cursor()\n",
    "cur.execute(\"Create table If Not Exists Scores (Id int, Score DECIMAL(3,2))\")\n",
    "\n",
    "cur.execute(\"insert into Scores (Id, Score) values ('1', '3.5')\")\n",
    "cur.execute(\"insert into Scores (Id, Score) values ('2', '3.65')\")\n",
    "cur.execute(\"insert into Scores (Id, Score) values ('3', '4.0')\")\n",
    "cur.execute(\"insert into Scores (Id, Score) values ('4', '3.85')\")\n",
    "cur.execute(\"insert into Scores (Id, Score) values ('5', '4.0')\")\n",
    "cur.execute(\"insert into Scores (Id, Score) values ('6', '3.65')\")\n",
    "\n",
    "con.commit()"
   ]
  },
  {
   "cell_type": "code",
   "execution_count": 2,
   "metadata": {},
   "outputs": [
    {
     "data": {
      "text/plain": [
       "[(1, 3.5), (2, 3.65), (3, 4), (4, 3.85), (5, 4), (6, 3.65)]"
      ]
     },
     "execution_count": 2,
     "metadata": {},
     "output_type": "execute_result"
    }
   ],
   "source": [
    "cur.execute('select * from Scores;').fetchall()"
   ]
  },
  {
   "cell_type": "code",
   "execution_count": 3,
   "metadata": {},
   "outputs": [
    {
     "ename": "OperationalError",
     "evalue": "unrecognized token: \":\"",
     "output_type": "error",
     "traceback": [
      "\u001b[0;31m---------------------------------------------------------------------------\u001b[0m",
      "\u001b[0;31mOperationalError\u001b[0m                          Traceback (most recent call last)",
      "\u001b[0;32m<ipython-input-3-34cccb58af88>\u001b[0m in \u001b[0;36m<module>\u001b[0;34m\u001b[0m\n\u001b[1;32m      7\u001b[0m   \u001b[0;34m(\u001b[0m\u001b[0mSELECT\u001b[0m \u001b[0;34m@\u001b[0m\u001b[0mrank\u001b[0m \u001b[0;34m:\u001b[0m\u001b[0;34m=\u001b[0m \u001b[0;36m0\u001b[0m\u001b[0;34m,\u001b[0m \u001b[0;34m@\u001b[0m\u001b[0mprev\u001b[0m \u001b[0;34m:\u001b[0m\u001b[0;34m=\u001b[0m \u001b[0;34m-\u001b[0m\u001b[0;36m1\u001b[0m\u001b[0;34m)\u001b[0m \u001b[0minit\u001b[0m\u001b[0;34m\u001b[0m\u001b[0;34m\u001b[0m\u001b[0m\n\u001b[1;32m      8\u001b[0m \u001b[0mORDER\u001b[0m \u001b[0mBY\u001b[0m \u001b[0mScore\u001b[0m \u001b[0mdesc\u001b[0m\u001b[0;34m\u001b[0m\u001b[0;34m\u001b[0m\u001b[0m\n\u001b[0;32m----> 9\u001b[0;31m ''').fetchall()\n\u001b[0m",
      "\u001b[0;31mOperationalError\u001b[0m: unrecognized token: \":\""
     ]
    }
   ],
   "source": [
    "cur.execute('''\n",
    "SELECT\n",
    "  Score,\n",
    "  @rank := @rank + (@prev <> (@prev := Score)) Rank\n",
    "FROM\n",
    "  Scores,\n",
    "  (SELECT @rank := 0, @prev := -1) init\n",
    "ORDER BY Score desc\n",
    "''').fetchall()"
   ]
  },
  {
   "cell_type": "code",
   "execution_count": null,
   "metadata": {},
   "outputs": [],
   "source": []
  }
 ],
 "metadata": {
  "kernelspec": {
   "display_name": "Python 3",
   "language": "python",
   "name": "python3"
  },
  "language_info": {
   "codemirror_mode": {
    "name": "ipython",
    "version": 3
   },
   "file_extension": ".py",
   "mimetype": "text/x-python",
   "name": "python",
   "nbconvert_exporter": "python",
   "pygments_lexer": "ipython3",
   "version": "3.6.7"
  }
 },
 "nbformat": 4,
 "nbformat_minor": 2
}
