{
 "cells": [
  {
   "cell_type": "markdown",
   "metadata": {},
   "source": [
    "[855. Exam Room](https://leetcode.com/problems/exam-room/)"
   ]
  },
  {
   "cell_type": "code",
   "execution_count": 10,
   "metadata": {},
   "outputs": [],
   "source": [
    "from bisect import insort\n",
    "\n",
    "class ExamRoom:\n",
    "\n",
    "    def __init__(self, N: int):\n",
    "        self.N, self.L = N, []\n",
    "\n",
    "\n",
    "    def seat(self) -> int:\n",
    "        N, L = self.N, self.L\n",
    "        if not L:\n",
    "            L.append(0)\n",
    "            return 0\n",
    "        else:\n",
    "            d, res = L[0], 0\n",
    "            l1, l2 = iter(L), iter(L); next(l2)\n",
    "            for a, b in zip(l1, l2):\n",
    "                if (b - a) // 2 > d:\n",
    "                    d, res = (b - a) // 2, (b + a) // 2\n",
    "            \n",
    "            if N - 1 - L[-1] > d:\n",
    "                res = N - 1\n",
    "\n",
    "            insort(self.L, res)\n",
    "            return res\n",
    "        \n",
    "\n",
    "    def leave(self, p: int) -> None:\n",
    "        self.L.remove(p)\n",
    "\n",
    "\n",
    "# Your ExamRoom object will be instantiated and called as such:\n",
    "# obj = ExamRoom(N)\n",
    "# param_1 = obj.seat()\n",
    "# obj.leave(p)"
   ]
  },
  {
   "cell_type": "code",
   "execution_count": 11,
   "metadata": {},
   "outputs": [
    {
     "name": "stdout",
     "output_type": "stream",
     "text": [
      "[0]\n",
      "[0, 9]\n",
      "[0, 4, 9]\n"
     ]
    }
   ],
   "source": [
    "s = ExamRoom(10)\n",
    "s.seat()\n",
    "print(s.L)\n",
    "s.seat()\n",
    "print(s.L)\n",
    "s.seat()\n",
    "print(s.L)"
   ]
  },
  {
   "cell_type": "code",
   "execution_count": null,
   "metadata": {},
   "outputs": [],
   "source": []
  }
 ],
 "metadata": {
  "kernelspec": {
   "display_name": "Python 3",
   "language": "python",
   "name": "python3"
  },
  "language_info": {
   "codemirror_mode": {
    "name": "ipython",
    "version": 3
   },
   "file_extension": ".py",
   "mimetype": "text/x-python",
   "name": "python",
   "nbconvert_exporter": "python",
   "pygments_lexer": "ipython3",
   "version": "3.8.1"
  }
 },
 "nbformat": 4,
 "nbformat_minor": 4
}
