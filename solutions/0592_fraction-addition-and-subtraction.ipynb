{
 "cells": [
  {
   "cell_type": "markdown",
   "metadata": {},
   "source": [
    "[592. Fraction Addition and Subtraction](https://leetcode.com/problems/fraction-addition-and-subtraction/)"
   ]
  },
  {
   "cell_type": "markdown",
   "metadata": {},
   "source": [
    "分数的加减法, 主要还是字符串处理, 还不是共通的题型, 做了没什么用"
   ]
  },
  {
   "cell_type": "markdown",
   "metadata": {},
   "source": [
    "- 如果使用`re.split`做切分, 需要把`-`写成过滤掉开头的\n",
    "- 使用`replace`的写法, 加空格挺巧妙的"
   ]
  },
  {
   "cell_type": "code",
   "execution_count": 14,
   "metadata": {},
   "outputs": [
    {
     "data": {
      "text/plain": [
       "['a', 'b', 'c']"
      ]
     },
     "execution_count": 14,
     "metadata": {},
     "output_type": "execute_result"
    }
   ],
   "source": [
    "import re\n",
    "re.split('\\+|-', 'a+b-c')"
   ]
  },
  {
   "cell_type": "code",
   "execution_count": 13,
   "metadata": {},
   "outputs": [],
   "source": [
    "class Solution:\n",
    "    def fractionAddition(self, expression):\n",
    "        def gcd(i, j):\n",
    "            while j: i, j = j, i%j\n",
    "            return i\n",
    "        lst = expression.replace(\"+\", \" +\").replace(\"-\", \" -\").split()\n",
    "        A, B = 0, 1\n",
    "        for num in lst:\n",
    "            a, b = num.split(\"/\")\n",
    "            a, b = int(a), int(b)\n",
    "            A = A*b+B*a\n",
    "            B *= b\n",
    "            devisor = gcd(A, B)\n",
    "            A //= devisor; B //= devisor\n",
    "            \n",
    "        return f'{A}/{B}'"
   ]
  },
  {
   "cell_type": "code",
   "execution_count": null,
   "metadata": {},
   "outputs": [],
   "source": []
  }
 ],
 "metadata": {
  "kernelspec": {
   "display_name": "Python 3",
   "language": "python",
   "name": "python3"
  },
  "language_info": {
   "codemirror_mode": {
    "name": "ipython",
    "version": 3
   },
   "file_extension": ".py",
   "mimetype": "text/x-python",
   "name": "python",
   "nbconvert_exporter": "python",
   "pygments_lexer": "ipython3",
   "version": "3.6.7"
  }
 },
 "nbformat": 4,
 "nbformat_minor": 2
}
