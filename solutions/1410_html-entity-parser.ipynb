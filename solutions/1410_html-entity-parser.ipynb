{
 "cells": [
  {
   "cell_type": "markdown",
   "metadata": {},
   "source": [
    "[1410. HTML Entity Parser](https://leetcode.com/problems/html-entity-parser/)"
   ]
  },
  {
   "cell_type": "code",
   "execution_count": 3,
   "metadata": {},
   "outputs": [],
   "source": [
    "class Solution:\n",
    "    def entityParser(self, text: str) -> str:\n",
    "        entities = [('&quot;', '\\\"'),  ('&apos;', '\\''), ('&gt;', '>'), ('&lt;', '<'), ('&frasl;', '/'),('&amp;', '&')]\n",
    "        for pat, repl in entities:\n",
    "            text = re.sub(pat, repl,text)\n",
    "\n",
    "        return text"
   ]
  },
  {
   "cell_type": "code",
   "execution_count": 19,
   "metadata": {},
   "outputs": [],
   "source": [
    "class Solution:\n",
    "    def entityParser(self, s: str) -> str:\n",
    "        tokens = {\n",
    "            \"&quot;\": '\"',\n",
    "            \"&apos;\": \"'\",\n",
    "            \"&amp;\": \"&\",\n",
    "            \"&gt;\": \">\",\n",
    "            \"&lt;\": \"<\",\n",
    "            \"&frasl;\": \"/\"\n",
    "        }\n",
    "        \n",
    "        ENTITY, NORMAL = 0, 1\n",
    "        caching, state = [[], []], NORMAL\n",
    "        for c in s:\n",
    "            if c == '&':\n",
    "                caching[NORMAL].extend(caching[ENTITY])\n",
    "                caching[ENTITY] = ['&']\n",
    "                state = ENTITY\n",
    "            elif c == ';':\n",
    "                key = ''.join(caching[ENTITY]) + ';'\n",
    "                caching[NORMAL].extend(tokens.get(key, key))\n",
    "                caching[ENTITY] = ['']\n",
    "                state = NORMAL\n",
    "            else:\n",
    "                caching[state].append(c)\n",
    "\n",
    "        return ''.join(caching[NORMAL]) + ''.join(caching[ENTITY])"
   ]
  },
  {
   "cell_type": "code",
   "execution_count": 20,
   "metadata": {},
   "outputs": [
    {
     "data": {
      "text/plain": [
       "'and I quote: \"...\"&;;'"
      ]
     },
     "execution_count": 20,
     "metadata": {},
     "output_type": "execute_result"
    }
   ],
   "source": [
    "Solution().entityParser(\"and I quote: &quot;...&quot;&;;\")"
   ]
  }
 ],
 "metadata": {
  "kernelspec": {
   "display_name": "Python 3",
   "language": "python",
   "name": "python3"
  },
  "language_info": {
   "codemirror_mode": {
    "name": "ipython",
    "version": 3
   },
   "file_extension": ".py",
   "mimetype": "text/x-python",
   "name": "python",
   "nbconvert_exporter": "python",
   "pygments_lexer": "ipython3",
   "version": "3.8.0b3"
  }
 },
 "nbformat": 4,
 "nbformat_minor": 2
}
