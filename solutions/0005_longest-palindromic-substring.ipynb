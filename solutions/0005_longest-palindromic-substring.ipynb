{
 "cells": [
  {
   "cell_type": "markdown",
   "metadata": {},
   "source": [
    "[5. Longest Palindromic Substring](https://leetcode.com/problems/longest-palindromic-substring/)"
   ]
  },
  {
   "cell_type": "markdown",
   "metadata": {},
   "source": [
    "TLE, 从failed case来看, 在处理大量相同字符的字符串时效率过低"
   ]
  },
  {
   "cell_type": "code",
   "execution_count": 11,
   "metadata": {},
   "outputs": [],
   "source": [
    "class Solution:\n",
    "    def longestPalindrome(self, s: str) -> str:\n",
    "        length = len(s)\n",
    "        if length == 0:\n",
    "            return ''\n",
    "        l, r = 0, length - 1\n",
    "        dp = [[None] * length for _ in range(length)]\n",
    "        \n",
    "        # 判断l到r是否为回文串, 并返回该区间最大的回文串\n",
    "        def solve(l, r):\n",
    "            # memo\n",
    "            if dp[l][r] is not None:\n",
    "                return dp[l][r]\n",
    "\n",
    "            # 单字符的回文串\n",
    "            if l == r:\n",
    "                dp[l][r] = s[l]\n",
    "                return s[l]\n",
    "            \n",
    "            # 双字符的回文串\n",
    "            if r - l == 1:\n",
    "                if s[l] == s[r]:\n",
    "                    dp[l][r] = s[l: r + 1]\n",
    "                    return s[l: r + 1]\n",
    "                else:\n",
    "                    dp[l][r] = s[l]\n",
    "                    return s[l]\n",
    "            \n",
    "            res = ''\n",
    "            if s[l] == s[r] and solve(l+1, r-1) == s[l+1:r]:\n",
    "                res = s[l: r+1]\n",
    "            res = max([res, solve(l+1, r), solve(l, r-1)], key = len)\n",
    "            dp[l][r] = res\n",
    "            return res\n",
    "        \n",
    "        return solve(0, length - 1)"
   ]
  },
  {
   "cell_type": "code",
   "execution_count": 12,
   "metadata": {},
   "outputs": [
    {
     "data": {
      "text/plain": [
       "'bb'"
      ]
     },
     "execution_count": 12,
     "metadata": {},
     "output_type": "execute_result"
    }
   ],
   "source": [
    "Solution().longestPalindrome('cbbd')"
   ]
  },
  {
   "cell_type": "code",
   "execution_count": 69,
   "metadata": {},
   "outputs": [],
   "source": [
    "class Solution:\n",
    "    def longestPalindrome(self, s: str) -> str:\n",
    "        # dp[i][j]: s[i: j + 1]是回文串\n",
    "        length = len(s)\n",
    "        dp = [[False] * length for _ in range(length)]\n",
    "        \n",
    "        s = '#' + s + '#'\n",
    "        \n",
    "        # 单个字符的字符串看作是回文串\n",
    "        for i in range(length):\n",
    "            dp[i][i] = True\n",
    "        \n",
    "        for i in range(1, length + 1):\n",
    "            j = 1\n",
    "            while i + j < length and i - j >= 0:\n",
    "                if dp[i][j]:\n",
    "                    print(i, j)\n",
    "                    \n",
    "                    # 检测奇数长度回文串\n",
    "                    dp[i-j][i+j] = s[i-j] == s[i+j]\n",
    "                    \n",
    "                    # print(i-j+1, i+j)\n",
    "                    # 检测偶数长度回文串\n",
    "                    dp[i-j+1][i+j] = s[i-j+1] == s[i+j]\n",
    "                j += 1\n",
    "\n",
    "        res = ''\n",
    "        import numpy as np\n",
    "        print(np.array(dp))\n",
    "        for i in range(length):\n",
    "            for j in range(length - 1, -1, -1):\n",
    "                if dp[i][j] and j - i >= len(res):\n",
    "                    res = s[i: j + 1]\n",
    "        \n",
    "        return res"
   ]
  },
  {
   "cell_type": "markdown",
   "metadata": {},
   "source": [
    "Manacher algorithm, 108ms"
   ]
  },
  {
   "cell_type": "code",
   "execution_count": 13,
   "metadata": {},
   "outputs": [],
   "source": [
    "class Solution:\n",
    "    #Manacher algorithm\n",
    "    #http://en.wikipedia.org/wiki/Longest_palindromic_substring\n",
    "    \n",
    "    def longestPalindrome(self, s):\n",
    "        # Transform S into T.\n",
    "        # For example, S = \"abba\", T = \"^#a#b#b#a#$\".\n",
    "        # ^ and $ signs are sentinels appended to each end to avoid bounds checking\n",
    "        T = '#'.join('^{}$'.format(s))\n",
    "        n = len(T)\n",
    "        P = [0] * n\n",
    "        C = R = 0\n",
    "        for i in range (1, n-1):\n",
    "            P[i] = (R > i) and min(R - i, P[2*C - i]) # equals to i' = C - (i-C)\n",
    "            # Attempt to expand palindrome centered at i\n",
    "            while T[i + 1 + P[i]] == T[i - 1 - P[i]]:\n",
    "                P[i] += 1\n",
    "    \n",
    "            # If palindrome centered at i expand past R,\n",
    "            # adjust center based on expanded palindrome.\n",
    "            if i + P[i] > R:\n",
    "                C, R = i, i + P[i]\n",
    "    \n",
    "        # Find the maximum element in P.\n",
    "        maxLen, centerIndex = max((n, i) for i, n in enumerate(P))\n",
    "        return s[(centerIndex  - maxLen)//2: (centerIndex  + maxLen)//2]"
   ]
  },
  {
   "cell_type": "code",
   "execution_count": null,
   "metadata": {},
   "outputs": [],
   "source": []
  }
 ],
 "metadata": {
  "kernelspec": {
   "display_name": "Python 3",
   "language": "python",
   "name": "python3"
  },
  "language_info": {
   "codemirror_mode": {
    "name": "ipython",
    "version": 3
   },
   "file_extension": ".py",
   "mimetype": "text/x-python",
   "name": "python",
   "nbconvert_exporter": "python",
   "pygments_lexer": "ipython3",
   "version": "3.6.7"
  }
 },
 "nbformat": 4,
 "nbformat_minor": 2
}
