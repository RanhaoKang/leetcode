{
 "cells": [
  {
   "cell_type": "markdown",
   "metadata": {},
   "source": [
    "[537. Complex Number Multiplication](https://leetcode.com/problems/complex-number-multiplication/)"
   ]
  },
  {
   "cell_type": "code",
   "execution_count": 5,
   "metadata": {},
   "outputs": [],
   "source": [
    "class Solution:\n",
    "    def complexNumberMultiply(self, a: str, b: str) -> str:\n",
    "        a_a, a_b = a.split('+')\n",
    "        a_a, a_b = int(a_a), int(a_b[:-1])\n",
    "        \n",
    "        b_a, b_b = b.split('+')\n",
    "        b_a, b_b = int(b_a), int(b_b[:-1])\n",
    "        \n",
    "        print(a_a, a_b, b_a, b_b)\n",
    "        \n",
    "        c_a = a_a * b_a - a_b * b_b\n",
    "        c_b = a_b * b_a + a_a * b_b\n",
    "        \n",
    "        return f'{c_a}+{c_b}i'"
   ]
  },
  {
   "cell_type": "code",
   "execution_count": 7,
   "metadata": {},
   "outputs": [
    {
     "name": "stdout",
     "output_type": "stream",
     "text": [
      "1 -1 1 -1\n"
     ]
    },
    {
     "data": {
      "text/plain": [
       "'0+-2i'"
      ]
     },
     "execution_count": 7,
     "metadata": {},
     "output_type": "execute_result"
    }
   ],
   "source": [
    "Solution().complexNumberMultiply(\"1+-1i\", \"1+-1i\")"
   ]
  },
  {
   "cell_type": "code",
   "execution_count": null,
   "metadata": {},
   "outputs": [],
   "source": []
  }
 ],
 "metadata": {
  "kernelspec": {
   "display_name": "Python 3",
   "language": "python",
   "name": "python3"
  },
  "language_info": {
   "codemirror_mode": {
    "name": "ipython",
    "version": 3
   },
   "file_extension": ".py",
   "mimetype": "text/x-python",
   "name": "python",
   "nbconvert_exporter": "python",
   "pygments_lexer": "ipython3",
   "version": "3.6.7"
  }
 },
 "nbformat": 4,
 "nbformat_minor": 2
}
