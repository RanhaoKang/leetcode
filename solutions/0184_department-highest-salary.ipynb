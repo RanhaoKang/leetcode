{
 "cells": [
  {
   "cell_type": "markdown",
   "metadata": {},
   "source": [
    "[184. Department Highest Salary](https://leetcode.com/problems/department-highest-salary/)"
   ]
  },
  {
   "cell_type": "markdown",
   "metadata": {},
   "source": [
    "```sql\n",
    "# Write your MySQL query statement below\n",
    "select\n",
    "    Department.Name, Employee.Name, Employee.Salary\n",
    "from\n",
    "    Employee left join Department on Employee.DepartmentId = Department.Id\n",
    "group by\n",
    "    Department.Name\n",
    "```"
   ]
  },
  {
   "cell_type": "code",
   "execution_count": 17,
   "metadata": {},
   "outputs": [],
   "source": [
    "import sqlite3\n",
    "con = sqlite3.connect(':memory:')\n",
    "cur = con.cursor()\n",
    "cur.execute('create table Employee (Id int, Name varchar(256), Salary int, DepartmentId int);')\n",
    "cur.execute('create table Department (Id int, Name varchar(256));')\n",
    "\n",
    "cur.execute('insert into Employee values(1, \"Joe\", 70000, 1);')\n",
    "cur.execute('insert into Employee values(1, \"Jim\", 90000, 1);')\n",
    "cur.execute('insert into Employee values(1, \"Henry\", 80000, 2);')\n",
    "cur.execute('insert into Employee values(1, \"Sam\", 60000, 2);')\n",
    "cur.execute('insert into Employee values(1, \"Max\", 90000, 1);')\n",
    "\n",
    "cur.execute('insert into Department values(1, \"IT\");')\n",
    "cur.execute('insert into Department values(2, \"Sales\");')\n",
    "con.commit()"
   ]
  },
  {
   "cell_type": "code",
   "execution_count": 21,
   "metadata": {},
   "outputs": [
    {
     "data": {
      "text/plain": [
       "[(1, 'Joe', 70000, 1),\n",
       " (1, 'Jim', 90000, 1),\n",
       " (1, 'Henry', 80000, 2),\n",
       " (1, 'Sam', 60000, 2),\n",
       " (1, 'Max', 90000, 1)]"
      ]
     },
     "execution_count": 21,
     "metadata": {},
     "output_type": "execute_result"
    }
   ],
   "source": [
    "cur.execute('select * from Employee;').fetchall()"
   ]
  },
  {
   "cell_type": "code",
   "execution_count": 22,
   "metadata": {},
   "outputs": [
    {
     "data": {
      "text/plain": [
       "[(1, 'IT'), (2, 'Sales')]"
      ]
     },
     "execution_count": 22,
     "metadata": {},
     "output_type": "execute_result"
    }
   ],
   "source": [
    "cur.execute('select * from Department;').fetchall()"
   ]
  },
  {
   "cell_type": "code",
   "execution_count": 1,
   "metadata": {},
   "outputs": [
    {
     "ename": "NameError",
     "evalue": "name 'cur' is not defined",
     "output_type": "error",
     "traceback": [
      "\u001b[0;31m---------------------------------------------------------------------------\u001b[0m",
      "\u001b[0;31mNameError\u001b[0m                                 Traceback (most recent call last)",
      "\u001b[0;32m<ipython-input-1-45b198b414f6>\u001b[0m in \u001b[0;36m<module>\u001b[0;34m\u001b[0m\n\u001b[0;32m----> 1\u001b[0;31m cur.execute('''\n\u001b[0m\u001b[1;32m      2\u001b[0m \u001b[0mselect\u001b[0m\u001b[0;34m\u001b[0m\u001b[0;34m\u001b[0m\u001b[0m\n\u001b[1;32m      3\u001b[0m     \u001b[0mDepartment\u001b[0m\u001b[0;34m.\u001b[0m\u001b[0mName\u001b[0m\u001b[0;34m,\u001b[0m \u001b[0mEmployee\u001b[0m\u001b[0;34m.\u001b[0m\u001b[0mName\u001b[0m\u001b[0;34m,\u001b[0m \u001b[0mEmployee\u001b[0m\u001b[0;34m.\u001b[0m\u001b[0mSalary\u001b[0m\u001b[0;34m\u001b[0m\u001b[0;34m\u001b[0m\u001b[0m\n\u001b[1;32m      4\u001b[0m \u001b[0;32mfrom\u001b[0m\u001b[0;34m\u001b[0m\u001b[0;34m\u001b[0m\u001b[0m\n\u001b[1;32m      5\u001b[0m     \u001b[0mEmployee\u001b[0m \u001b[0mleft\u001b[0m \u001b[0mjoin\u001b[0m \u001b[0mDepartment\u001b[0m \u001b[0mon\u001b[0m \u001b[0mEmployee\u001b[0m\u001b[0;34m.\u001b[0m\u001b[0mDepartmentId\u001b[0m \u001b[0;34m=\u001b[0m \u001b[0mDepartment\u001b[0m\u001b[0;34m.\u001b[0m\u001b[0mId\u001b[0m\u001b[0;34m\u001b[0m\u001b[0;34m\u001b[0m\u001b[0m\n",
      "\u001b[0;31mNameError\u001b[0m: name 'cur' is not defined"
     ]
    }
   ],
   "source": [
    "cur.execute('''\n",
    "select\n",
    "    Department.Name, Employee.Name, Employee.Salary\n",
    "from\n",
    "    Employee left join Department on Employee.DepartmentId = Department.Id\n",
    "group by\n",
    "    Department.Name\n",
    "\n",
    "''').fetchall()"
   ]
  },
  {
   "cell_type": "code",
   "execution_count": null,
   "metadata": {},
   "outputs": [],
   "source": []
  }
 ],
 "metadata": {
  "kernelspec": {
   "display_name": "Python 3",
   "language": "python",
   "name": "python3"
  },
  "language_info": {
   "codemirror_mode": {
    "name": "ipython",
    "version": 3
   },
   "file_extension": ".py",
   "mimetype": "text/x-python",
   "name": "python",
   "nbconvert_exporter": "python",
   "pygments_lexer": "ipython3",
   "version": "3.6.7"
  }
 },
 "nbformat": 4,
 "nbformat_minor": 2
}
