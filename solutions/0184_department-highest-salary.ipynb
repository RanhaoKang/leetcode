{
 "cells": [
  {
   "cell_type": "markdown",
   "metadata": {},
   "source": [
    "[184. Department Highest Salary](https://leetcode.com/problems/department-highest-salary/)"
   ]
  },
  {
   "cell_type": "markdown",
   "metadata": {},
   "source": [
    "```sql\n",
    "# Write your MySQL query statement below\n",
    "SELECT\n",
    "    Department.name AS 'Department',\n",
    "    Employee.name AS 'Employee',\n",
    "    Salary\n",
    "FROM\n",
    "    Employee\n",
    "        JOIN\n",
    "    Department ON Employee.DepartmentId = Department.Id\n",
    "WHERE\n",
    "    (Employee.DepartmentId , Salary) IN\n",
    "    (   SELECT\n",
    "            DepartmentId, MAX(Salary)\n",
    "        FROM\n",
    "            Employee\n",
    "        GROUP BY DepartmentId\n",
    "\t)\n",
    ";\n",
    "```"
   ]
  },
  {
   "cell_type": "code",
   "execution_count": 2,
   "metadata": {},
   "outputs": [],
   "source": [
    "import sqlite3\n",
    "con = sqlite3.connect(':memory:')\n",
    "cur = con.cursor()\n",
    "cur.execute('create table Employee (Id int, Name varchar(256), Salary int, DepartmentId int);')\n",
    "cur.execute('create table Department (Id int, Name varchar(256));')\n",
    "\n",
    "cur.execute('insert into Employee values(1, \"Joe\", 70000, 1);')\n",
    "cur.execute('insert into Employee values(1, \"Jim\", 90000, 1);')\n",
    "cur.execute('insert into Employee values(1, \"Henry\", 80000, 2);')\n",
    "cur.execute('insert into Employee values(1, \"Sam\", 60000, 2);')\n",
    "cur.execute('insert into Employee values(1, \"Max\", 90000, 1);')\n",
    "\n",
    "cur.execute('insert into Department values(1, \"IT\");')\n",
    "cur.execute('insert into Department values(2, \"Sales\");')\n",
    "con.commit()"
   ]
  },
  {
   "cell_type": "code",
   "execution_count": 3,
   "metadata": {},
   "outputs": [
    {
     "data": {
      "text/plain": [
       "[(1, 'Joe', 70000, 1),\n",
       " (1, 'Jim', 90000, 1),\n",
       " (1, 'Henry', 80000, 2),\n",
       " (1, 'Sam', 60000, 2),\n",
       " (1, 'Max', 90000, 1)]"
      ]
     },
     "execution_count": 3,
     "metadata": {},
     "output_type": "execute_result"
    }
   ],
   "source": [
    "cur.execute('select * from Employee;').fetchall()"
   ]
  },
  {
   "cell_type": "code",
   "execution_count": 4,
   "metadata": {},
   "outputs": [
    {
     "data": {
      "text/plain": [
       "[(1, 'IT'), (2, 'Sales')]"
      ]
     },
     "execution_count": 4,
     "metadata": {},
     "output_type": "execute_result"
    }
   ],
   "source": [
    "cur.execute('select * from Department;').fetchall()"
   ]
  },
  {
   "cell_type": "code",
   "execution_count": 5,
   "metadata": {},
   "outputs": [
    {
     "ename": "OperationalError",
     "evalue": "sub-select returns 2 columns - expected 1",
     "output_type": "error",
     "traceback": [
      "\u001b[0;31m---------------------------------------------------------------------------\u001b[0m",
      "\u001b[0;31mOperationalError\u001b[0m                          Traceback (most recent call last)",
      "\u001b[0;32m<ipython-input-5-21487093ea6a>\u001b[0m in \u001b[0;36m<module>\u001b[0;34m\u001b[0m\n\u001b[1;32m     17\u001b[0m \t)\n\u001b[1;32m     18\u001b[0m \u001b[0;34m;\u001b[0m\u001b[0;34m\u001b[0m\u001b[0;34m\u001b[0m\u001b[0m\n\u001b[0;32m---> 19\u001b[0;31m ''').fetchall()\n\u001b[0m",
      "\u001b[0;31mOperationalError\u001b[0m: sub-select returns 2 columns - expected 1"
     ]
    }
   ],
   "source": [
    "cur.execute('''\n",
    "SELECT\n",
    "    Department.name AS 'Department',\n",
    "    Employee.name AS 'Employee',\n",
    "    Salary\n",
    "FROM\n",
    "    Employee\n",
    "        JOIN\n",
    "    Department ON Employee.DepartmentId = Department.Id\n",
    "WHERE\n",
    "    (Employee.DepartmentId , Salary) IN\n",
    "    (   SELECT\n",
    "            DepartmentId, MAX(Salary)\n",
    "        FROM\n",
    "            Employee\n",
    "        GROUP BY DepartmentId\n",
    "\t)\n",
    ";\n",
    "''').fetchall()"
   ]
  },
  {
   "cell_type": "code",
   "execution_count": null,
   "metadata": {},
   "outputs": [],
   "source": []
  }
 ],
 "metadata": {
  "kernelspec": {
   "display_name": "Python 3",
   "language": "python",
   "name": "python3"
  },
  "language_info": {
   "codemirror_mode": {
    "name": "ipython",
    "version": 3
   },
   "file_extension": ".py",
   "mimetype": "text/x-python",
   "name": "python",
   "nbconvert_exporter": "python",
   "pygments_lexer": "ipython3",
   "version": "3.6.7"
  }
 },
 "nbformat": 4,
 "nbformat_minor": 2
}
