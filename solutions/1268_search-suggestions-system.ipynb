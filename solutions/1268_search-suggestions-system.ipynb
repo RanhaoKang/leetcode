{
 "cells": [
  {
   "cell_type": "markdown",
   "metadata": {},
   "source": [
    "[1268. Search Suggestions System](https://leetcode.com/problems/search-suggestions-system/)"
   ]
  },
  {
   "cell_type": "markdown",
   "metadata": {},
   "source": [
    "92ms"
   ]
  },
  {
   "cell_type": "code",
   "execution_count": 41,
   "metadata": {},
   "outputs": [],
   "source": [
    "class Solution:\n",
    "    def suggestedProducts(self, products, searchWord: str):\n",
    "        from collections import defaultdict\n",
    "        from heapq import nsmallest\n",
    "\n",
    "        p = root = {}\n",
    "        res = [[] for _ in range(len(searchWord))]\n",
    "\n",
    "        for c in searchWord:\n",
    "            p = p.setdefault(c, {})\n",
    "        \n",
    "        for word in products:\n",
    "            p = root\n",
    "            for i, c in enumerate(word):\n",
    "                if c not in p:\n",
    "                    break\n",
    "                p = p[c]\n",
    "                res[i].append(word)\n",
    "        \n",
    "        return [nsmallest(3, i) for i in res]"
   ]
  },
  {
   "cell_type": "markdown",
   "metadata": {},
   "source": [
    "96ms"
   ]
  },
  {
   "cell_type": "code",
   "execution_count": 39,
   "metadata": {},
   "outputs": [],
   "source": [
    "class Solution:\n",
    "    def suggestedProducts(self, products, searchWord: str):\n",
    "        from collections import defaultdict\n",
    "\n",
    "        p = root = {}\n",
    "        res = [[] for _ in range(len(searchWord))]\n",
    "\n",
    "        for c in searchWord:\n",
    "            p = p.setdefault(c, {})\n",
    "        \n",
    "        for word in sorted(products):\n",
    "            p = root\n",
    "            for i, c in enumerate(word):\n",
    "                if c not in p:\n",
    "                    break\n",
    "                p = p[c]\n",
    "                res[i].append(word)\n",
    "        \n",
    "        return [i[:3] for i in res]"
   ]
  },
  {
   "cell_type": "code",
   "execution_count": 42,
   "metadata": {},
   "outputs": [
    {
     "data": {
      "text/plain": [
       "[['mobile', 'moneypot', 'monitor'],\n",
       " ['mobile', 'moneypot', 'monitor'],\n",
       " ['mouse', 'mousepad'],\n",
       " ['mouse', 'mousepad'],\n",
       " ['mouse', 'mousepad']]"
      ]
     },
     "execution_count": 42,
     "metadata": {},
     "output_type": "execute_result"
    }
   ],
   "source": [
    "Solution().suggestedProducts([\"mobile\",\"mouse\",\"moneypot\",\"monitor\",\"mousepad\"], \"mouse\")"
   ]
  },
  {
   "cell_type": "code",
   "execution_count": 36,
   "metadata": {},
   "outputs": [
    {
     "data": {
      "text/plain": [
       "True"
      ]
     },
     "execution_count": 36,
     "metadata": {},
     "output_type": "execute_result"
    }
   ],
   "source": [
    "\"moneypot\" < \"monitor\""
   ]
  },
  {
   "cell_type": "code",
   "execution_count": null,
   "metadata": {},
   "outputs": [],
   "source": []
  }
 ],
 "metadata": {
  "kernelspec": {
   "display_name": "Python 3",
   "language": "python",
   "name": "python3"
  },
  "language_info": {
   "codemirror_mode": {
    "name": "ipython",
    "version": 3
   },
   "file_extension": ".py",
   "mimetype": "text/x-python",
   "name": "python",
   "nbconvert_exporter": "python",
   "pygments_lexer": "ipython3",
   "version": "3.8.0b3"
  }
 },
 "nbformat": 4,
 "nbformat_minor": 2
}
