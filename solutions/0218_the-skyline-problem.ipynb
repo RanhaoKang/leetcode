{
 "cells": [
  {
   "cell_type": "markdown",
   "metadata": {},
   "source": [
    "[218. The Skyline Problem](https://leetcode.com/problems/the-skyline-problem/)"
   ]
  },
  {
   "cell_type": "code",
   "execution_count": null,
   "metadata": {},
   "outputs": [],
   "source": [
    "class Solution:\n",
    "    def getSkyline(self, buildings):\n",
    "        events = sorted([(L, -H, R) for L, R, H in buildings] + list({(R, 0, None) for _, R, _ in buildings}))\n",
    "        res, hp = [[0, 0]], [(0, float(\"inf\"))]\n",
    "        for x, negH, R in events:\n",
    "            while x >= hp[0][1]: \n",
    "                heapq.heappop(hp)\n",
    "            if negH: \n",
    "                heapq.heappush(hp, (negH, R))\n",
    "            if res[-1][1] + hp[0][0]: \n",
    "                res += [x, -hp[0][0]],\n",
    "        return res[1:]"
   ]
  }
 ],
 "metadata": {
  "kernelspec": {
   "display_name": "Python 3",
   "language": "python",
   "name": "python3"
  },
  "language_info": {
   "codemirror_mode": {
    "name": "ipython",
    "version": 3
   },
   "file_extension": ".py",
   "mimetype": "text/x-python",
   "name": "python",
   "nbconvert_exporter": "python",
   "pygments_lexer": "ipython3",
   "version": "3.8.1"
  }
 },
 "nbformat": 4,
 "nbformat_minor": 4
}
