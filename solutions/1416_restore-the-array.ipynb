{
 "cells": [
  {
   "cell_type": "markdown",
   "metadata": {},
   "source": [
    "[1416. Restore The Array](https://leetcode.com/problems/restore-the-array/)"
   ]
  },
  {
   "cell_type": "markdown",
   "metadata": {},
   "source": [
    "`%`操作放在each step，数字过于庞大开始调用大数逻辑"
   ]
  },
  {
   "cell_type": "code",
   "execution_count": 1,
   "metadata": {},
   "outputs": [],
   "source": [
    "class Solution:\n",
    "    def numberOfArrays(self, s: str, k: int) -> int:\n",
    "        n = len(s)\n",
    "        s = list(map(int, s)) + [math.inf] # for easier implementation\n",
    "        dp = [0] * n + [1]\n",
    "        for i in range(n - 1, -1, -1):\n",
    "            num, j = s[i], i + 1\n",
    "            while 1 <= num <= k and j < n + 1:\n",
    "                dp[i] = (dp[i] + dp[j]) % 1000000007\n",
    "                num = 10 * num + s[j]\n",
    "                j += 1\n",
    "        return dp[0]"
   ]
  },
  {
   "cell_type": "code",
   "execution_count": null,
   "metadata": {},
   "outputs": [],
   "source": []
  }
 ],
 "metadata": {
  "kernelspec": {
   "display_name": "Python 3",
   "language": "python",
   "name": "python3"
  },
  "language_info": {
   "codemirror_mode": {
    "name": "ipython",
    "version": 3
   },
   "file_extension": ".py",
   "mimetype": "text/x-python",
   "name": "python",
   "nbconvert_exporter": "python",
   "pygments_lexer": "ipython3",
   "version": "3.8.0b3"
  }
 },
 "nbformat": 4,
 "nbformat_minor": 2
}
