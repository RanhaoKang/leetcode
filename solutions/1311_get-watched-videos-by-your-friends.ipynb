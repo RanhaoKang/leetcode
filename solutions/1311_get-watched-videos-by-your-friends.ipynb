{
 "cells": [
  {
   "cell_type": "markdown",
   "metadata": {},
   "source": [
    "[1311. Get Watched Videos by Your Friends](https://leetcode.com/problems/get-watched-videos-by-your-friends/)"
   ]
  },
  {
   "cell_type": "markdown",
   "metadata": {},
   "source": [
    "初版，错在出结果的地方不光要看`freq`还需要看`x`，修改后320ms"
   ]
  },
  {
   "cell_type": "code",
   "execution_count": 21,
   "metadata": {},
   "outputs": [],
   "source": [
    "class Solution:\n",
    "    def watchedVideosByFriends(self, watchedVideos, friends, id: int, level: int):\n",
    "        from collections import Counter\n",
    "        bfs = seen = {id}\n",
    "        \n",
    "        while bfs:\n",
    "            bfs = {j for i in bfs for j in friends[i] if j not in seen}\n",
    "            seen |= bfs\n",
    "            level -= 1\n",
    "            if level == 0:\n",
    "                res = Counter()\n",
    "                for i in bfs:\n",
    "                    for j in watchedVideos[i]:\n",
    "                        res[j] += 1\n",
    "                \n",
    "                freq = Counter([v for idx in bfs for v in watchedVideos[idx]])\n",
    "                return sorted(freq.keys(),key=lambda x: (freq[x],x))\n",
    "        # return res"
   ]
  },
  {
   "cell_type": "code",
   "execution_count": 22,
   "metadata": {},
   "outputs": [
    {
     "data": {
      "text/plain": [
       "['B', 'C']"
      ]
     },
     "execution_count": 22,
     "metadata": {},
     "output_type": "execute_result"
    }
   ],
   "source": [
    "Solution().watchedVideosByFriends(watchedVideos = [[\"A\",\"B\"],[\"C\"],[\"B\",\"C\"],[\"D\"]], friends = [[1,2],[0,3],[0,3],[1,2]], id = 0, level = 1)"
   ]
  },
  {
   "cell_type": "markdown",
   "metadata": {},
   "source": [
    "更简洁，300ms"
   ]
  },
  {
   "cell_type": "code",
   "execution_count": 23,
   "metadata": {},
   "outputs": [],
   "source": [
    "class Solution:\n",
    "    def watchedVideosByFriends(self, watchedVideos, friends, id: int, level: int):\n",
    "        from collections import Counter\n",
    "        bfs = seen = {id}\n",
    "        \n",
    "        for _ in range(level):\n",
    "            bfs = {j for i in bfs for j in friends[i] if j not in seen}\n",
    "            seen |= bfs\n",
    "        \n",
    "        \n",
    "        freq = Counter([v for idx in bfs for v in watchedVideos[idx]])\n",
    "        return sorted(freq.keys(),key=lambda x: (freq[x],x))"
   ]
  },
  {
   "cell_type": "code",
   "execution_count": null,
   "metadata": {},
   "outputs": [],
   "source": []
  }
 ],
 "metadata": {
  "kernelspec": {
   "display_name": "Python 3",
   "language": "python",
   "name": "python3"
  },
  "language_info": {
   "codemirror_mode": {
    "name": "ipython",
    "version": 3
   },
   "file_extension": ".py",
   "mimetype": "text/x-python",
   "name": "python",
   "nbconvert_exporter": "python",
   "pygments_lexer": "ipython3",
   "version": "3.8.1"
  }
 },
 "nbformat": 4,
 "nbformat_minor": 4
}
