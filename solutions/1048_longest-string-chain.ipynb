{
 "cells": [
  {
   "cell_type": "markdown",
   "metadata": {},
   "source": [
    "[1048. Longest String Chain](https://leetcode.com/problems/longest-string-chain/)"
   ]
  },
  {
   "cell_type": "markdown",
   "metadata": {},
   "source": [
    "以为是连续的序列, 写了个好蠢的. 明确是不连续后, 不知道怎么就想用删字符+树的结构做了..."
   ]
  },
  {
   "cell_type": "code",
   "execution_count": 8,
   "metadata": {},
   "outputs": [],
   "source": [
    "class Solution:\n",
    "    def longestStrChain(self, words) -> int:\n",
    "        def is_predecessor(w1, w2):\n",
    "            N1, N2 = len(w1), len(w2)\n",
    "            if N1 + 1 != N2:\n",
    "                return False\n",
    "            i = j = 0\n",
    "            while i < N1:\n",
    "                \n",
    "                # 相同的字符, OK\n",
    "                if w1[i] == w2[j]:\n",
    "                    i, j = i + 1, j + 1\n",
    "                    continue\n",
    "                \n",
    "                # 可能遇到了增加的字符, 将j右移\n",
    "                j += 1\n",
    "                # 最多只能多1个字符\n",
    "                if j - i >= 2:\n",
    "                    return False\n",
    "            print(f'{w1}是{w2}祖先')\n",
    "            return True\n",
    "                \n",
    "                \n",
    "                \n",
    "                \n",
    "        res = cur = 1\n",
    "        last_word = words[0]\n",
    "        for word in words[1:]:\n",
    "            if is_predecessor(last_word, word):\n",
    "                cur += 1\n",
    "            else:\n",
    "                res = max(res, cur)\n",
    "                cur = 1\n",
    "        \n",
    "        return max(res, cur)"
   ]
  },
  {
   "cell_type": "code",
   "execution_count": 9,
   "metadata": {},
   "outputs": [
    {
     "name": "stdout",
     "output_type": "stream",
     "text": [
      "a是ba祖先\n"
     ]
    },
    {
     "data": {
      "text/plain": [
       "2"
      ]
     },
     "execution_count": 9,
     "metadata": {},
     "output_type": "execute_result"
    }
   ],
   "source": [
    "Solution().longestStrChain([\"a\",\"b\",\"ba\",\"bca\",\"bda\",\"bdca\"])"
   ]
  },
  {
   "cell_type": "code",
   "execution_count": 26,
   "metadata": {},
   "outputs": [],
   "source": [
    "class Node:\n",
    "    def __init__(self, word):\n",
    "        self.word = word\n",
    "        self.predecessors = []\n",
    "\n",
    "class Solution:\n",
    "    def check(self, w1, w2):\n",
    "        N1, N2 = len(w1), len(w2)\n",
    "        if N1 - 1 != N2:\n",
    "            return False\n",
    "        for i in range(N1):\n",
    "            if w1[:i] + w1[i+1:] == w2:\n",
    "                return True\n",
    "        return False\n",
    "        \n",
    "        \n",
    "    def longestStrChain(self, words) -> int:\n",
    "        root = Node(None)\n",
    "        \n",
    "        for word in reversed(words):\n",
    "            flag = True\n",
    "            for node in root.predecessors:\n",
    "                if self.check(node.word, word):\n",
    "                    flag = False\n",
    "                    node.predecessors.append(Node(word)) # 这个地方还得递归地写, 有些蠢了\n",
    "            if flag:\n",
    "                root.predecessors.append(Node(word))\n",
    "        \n",
    "        return root"
   ]
  },
  {
   "cell_type": "markdown",
   "metadata": {},
   "source": [
    "DP, 呜呜呜我之前写的怎么这么蠢"
   ]
  },
  {
   "cell_type": "code",
   "execution_count": 27,
   "metadata": {},
   "outputs": [],
   "source": [
    "class Solution:\n",
    "    def longestStrChain(self, words) -> int:\n",
    "        from collections import defaultdict\n",
    "        dp = defaultdict(int)\n",
    "        for word in sorted(words, key = len):\n",
    "            dp[word] = max(dp[word[:i] + word[i+1:]] for i in range(len(word))) + 1\n",
    "        \n",
    "        return max(dp.values())"
   ]
  },
  {
   "cell_type": "code",
   "execution_count": 28,
   "metadata": {},
   "outputs": [
    {
     "data": {
      "text/plain": [
       "4"
      ]
     },
     "execution_count": 28,
     "metadata": {},
     "output_type": "execute_result"
    }
   ],
   "source": [
    "Solution().longestStrChain([\"a\",\"b\",\"ba\",\"bca\",\"bda\",\"bdca\"])"
   ]
  },
  {
   "cell_type": "code",
   "execution_count": null,
   "metadata": {},
   "outputs": [],
   "source": []
  }
 ],
 "metadata": {
  "kernelspec": {
   "display_name": "Python 3",
   "language": "python",
   "name": "python3"
  },
  "language_info": {
   "codemirror_mode": {
    "name": "ipython",
    "version": 3
   },
   "file_extension": ".py",
   "mimetype": "text/x-python",
   "name": "python",
   "nbconvert_exporter": "python",
   "pygments_lexer": "ipython3",
   "version": "3.7.3"
  }
 },
 "nbformat": 4,
 "nbformat_minor": 2
}
