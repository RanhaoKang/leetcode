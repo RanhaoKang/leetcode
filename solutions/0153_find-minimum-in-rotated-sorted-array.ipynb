{
 "cells": [
  {
   "cell_type": "markdown",
   "metadata": {},
   "source": [
    "[153. Find Minimum in Rotated Sorted Array](https://leetcode.com/problems/find-minimum-in-rotated-sorted-array/)"
   ]
  },
  {
   "cell_type": "markdown",
   "metadata": {},
   "source": [
    "要点\n",
    "- 因为是找最小值, 所以`nums[m]`要与`nums[r]`比较而非`nums[l]`.\n",
    "    - 当`nums[m] <= nums[r]`即`(m, r)`有序时, 我们可以直接缩小搜索范围`(l, r)`为`(l, m)`, 因为`nums[m] <= nums[r]`.\n",
    "    - 当`nums[l] <= nums[m]`即`(l, m)`有序时, 存在两种可能, 一是`(l, m)`在`pivot`右, 此时最小值为`nums[l]` . 二是`(l, m)`在`pivot`左如`[3,4,5,1,2]`, 第一次查找时`3<5`, 然而最值并非`nums[0]`\n"
   ]
  },
  {
   "cell_type": "code",
   "execution_count": 1,
   "metadata": {},
   "outputs": [],
   "source": [
    "class Solution:\n",
    "    def findMin(self, nums) -> int:\n",
    "        l, r = 0, len(nums) - 1\n",
    "        while l < r:\n",
    "            m = (l + r) // 2\n",
    "            # (m, r)有序\n",
    "            if nums[m] <= nums[r]:\n",
    "                r = m\n",
    "            # (m, r)中存在pivot\n",
    "            else:\n",
    "                l = m + 1\n",
    "        \n",
    "        return nums[l]"
   ]
  },
  {
   "cell_type": "code",
   "execution_count": null,
   "metadata": {},
   "outputs": [],
   "source": []
  }
 ],
 "metadata": {
  "kernelspec": {
   "display_name": "Python 3",
   "language": "python",
   "name": "python3"
  },
  "language_info": {
   "codemirror_mode": {
    "name": "ipython",
    "version": 3
   },
   "file_extension": ".py",
   "mimetype": "text/x-python",
   "name": "python",
   "nbconvert_exporter": "python",
   "pygments_lexer": "ipython3",
   "version": "3.6.7"
  }
 },
 "nbformat": 4,
 "nbformat_minor": 2
}
