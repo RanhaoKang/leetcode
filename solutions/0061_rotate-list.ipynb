{
 "cells": [
  {
   "cell_type": "markdown",
   "metadata": {},
   "source": [
    "[61. Rotate List](https://leetcode.com/problems/rotate-list/)\n",
    "\n",
    "[article](https://leetcode.com/articles/rotate-list/)"
   ]
  },
  {
   "cell_type": "code",
   "execution_count": null,
   "metadata": {},
   "outputs": [],
   "source": [
    "# Definition for singly-linked list.\n",
    "# class ListNode:\n",
    "#     def __init__(self, x):\n",
    "#         self.val = x\n",
    "#         self.next = None\n",
    "\n",
    "class Solution:\n",
    "    def rotateRight(self, head: ListNode, k: int) -> ListNode:\n",
    "        p = head\n",
    "        if p is None:\n",
    "            return p\n",
    "        i = 1\n",
    "        while p.next:\n",
    "            if i == k:\n",
    "                break\n",
    "            p = p.next\n",
    "            i += 1\n",
    "        if i != k:\n",
    "            return head\n",
    "        \n",
    "        q = p.next\n",
    "        p.next = None\n",
    "        p = q\n",
    "        \n",
    "        while p.next:\n",
    "            p = p.next\n",
    "        \n",
    "        p.next = head\n",
    "        \n",
    "        return q\n",
    "        "
   ]
  },
  {
   "cell_type": "markdown",
   "metadata": {},
   "source": [
    "先成环后拆环"
   ]
  },
  {
   "cell_type": "code",
   "execution_count": 3,
   "metadata": {},
   "outputs": [],
   "source": [
    "class ListNode:\n",
    "    def __init__(self, x):\n",
    "        self.val = x\n",
    "        self.next = None"
   ]
  },
  {
   "cell_type": "code",
   "execution_count": 6,
   "metadata": {},
   "outputs": [],
   "source": [
    "# Definition for singly-linked list.\n",
    "# class ListNode:\n",
    "#     def __init__(self, x):\n",
    "#         self.val = x\n",
    "#         self.next = None\n",
    "\n",
    "class Solution:\n",
    "    def rotateRight(self, head, k: int):\n",
    "        p, q = head, None\n",
    "        i = 0\n",
    "        \n",
    "        if p is None:\n",
    "            return head\n",
    "        \n",
    "        while p.next:\n",
    "            if i == k:\n",
    "                q = p\n",
    "            p = p.next\n",
    "            i += 1\n",
    "        \n",
    "        if q is None:\n",
    "            return head\n",
    "        p.next = head\n",
    "        res = q.next\n",
    "        q.next = None\n",
    "        \n",
    "        return res"
   ]
  },
  {
   "cell_type": "code",
   "execution_count": 7,
   "metadata": {},
   "outputs": [
    {
     "data": {
      "text/plain": [
       "<__main__.ListNode at 0x7f6e106b0b00>"
      ]
     },
     "execution_count": 7,
     "metadata": {},
     "output_type": "execute_result"
    }
   ],
   "source": [
    "x = ListNode(0)\n",
    "x.next = ListNode(1)\n",
    "x.next.next = ListNode(2)\n",
    "Solution().rotateRight(x, 4)"
   ]
  },
  {
   "cell_type": "code",
   "execution_count": null,
   "metadata": {},
   "outputs": [],
   "source": []
  }
 ],
 "metadata": {
  "kernelspec": {
   "display_name": "Python 3",
   "language": "python",
   "name": "python3"
  },
  "language_info": {
   "codemirror_mode": {
    "name": "ipython",
    "version": 3
   },
   "file_extension": ".py",
   "mimetype": "text/x-python",
   "name": "python",
   "nbconvert_exporter": "python",
   "pygments_lexer": "ipython3",
   "version": "3.6.7"
  }
 },
 "nbformat": 4,
 "nbformat_minor": 2
}
