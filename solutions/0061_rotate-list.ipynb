{
 "cells": [
  {
   "cell_type": "markdown",
   "metadata": {},
   "source": [
    "[61. Rotate List](https://leetcode.com/problems/rotate-list/)\n",
    "\n",
    "[article](https://leetcode.com/articles/rotate-list/)"
   ]
  },
  {
   "cell_type": "code",
   "execution_count": null,
   "metadata": {},
   "outputs": [],
   "source": [
    "# Definition for singly-linked list.\n",
    "# class ListNode:\n",
    "#     def __init__(self, x):\n",
    "#         self.val = x\n",
    "#         self.next = None\n",
    "\n",
    "class Solution:\n",
    "    def rotateRight(self, head: ListNode, k: int) -> ListNode:\n",
    "        p = head\n",
    "        if p is None:\n",
    "            return p\n",
    "        i = 1\n",
    "        while p.next:\n",
    "            if i == k:\n",
    "                break\n",
    "            p = p.next\n",
    "            i += 1\n",
    "        if i != k:\n",
    "            return head\n",
    "        \n",
    "        q = p.next\n",
    "        p.next = None\n",
    "        p = q\n",
    "        \n",
    "        while p.next:\n",
    "            p = p.next\n",
    "        \n",
    "        p.next = head\n",
    "        \n",
    "        return q\n",
    "        "
   ]
  },
  {
   "cell_type": "markdown",
   "metadata": {},
   "source": [
    "先成环后拆环"
   ]
  },
  {
   "cell_type": "code",
   "execution_count": 3,
   "metadata": {},
   "outputs": [],
   "source": [
    "class ListNode:\n",
    "    def __init__(self, x):\n",
    "        self.val = x\n",
    "        self.next = None"
   ]
  },
  {
   "cell_type": "code",
   "execution_count": 6,
   "metadata": {},
   "outputs": [],
   "source": [
    "# Definition for singly-linked list.\n",
    "# class ListNode:\n",
    "#     def __init__(self, x):\n",
    "#         self.val = x\n",
    "#         self.next = None\n",
    "\n",
    "class Solution:\n",
    "    def rotateRight(self, head, k: int):\n",
    "        p, q = head, None\n",
    "        i = 0\n",
    "        \n",
    "        if p is None:\n",
    "            return head\n",
    "        \n",
    "        while p.next:\n",
    "            if i == k:\n",
    "                q = p\n",
    "            p = p.next\n",
    "            i += 1\n",
    "        \n",
    "        if q is None:\n",
    "            return head\n",
    "        p.next = head\n",
    "        res = q.next\n",
    "        q.next = None\n",
    "        \n",
    "        return res"
   ]
  },
  {
   "cell_type": "code",
   "execution_count": 7,
   "metadata": {},
   "outputs": [
    {
     "data": {
      "text/plain": [
       "<__main__.ListNode at 0x7f6e106b0b00>"
      ]
     },
     "execution_count": 7,
     "metadata": {},
     "output_type": "execute_result"
    }
   ],
   "source": [
    "x = ListNode(0)\n",
    "x.next = ListNode(1)\n",
    "x.next.next = ListNode(2)\n",
    "Solution().rotateRight(x, 4)"
   ]
  },
  {
   "cell_type": "markdown",
   "metadata": {},
   "source": [
    "- 先成环, 得到链表长度\n",
    "- 在合适的位置拆环"
   ]
  },
  {
   "cell_type": "code",
   "execution_count": 26,
   "metadata": {},
   "outputs": [],
   "source": [
    "# Definition for singly-linked list.\n",
    "class ListNode:\n",
    "    def __init__(self, x):\n",
    "        self.val = x\n",
    "        self.next = None\n",
    "\n",
    "class Solution:\n",
    "    def rotateRight(self, head, k: int):\n",
    "        p = head\n",
    "        if not p:\n",
    "            return None\n",
    "        \n",
    "        length = 1\n",
    "        while p.next:\n",
    "            p = p.next\n",
    "            length += 1\n",
    "        print(length)\n",
    "        # 成环\n",
    "        p.next = head\n",
    "        \n",
    "        # 拆环\n",
    "        k %= length\n",
    "        for i in range(length - k):\n",
    "            p = p.next\n",
    "        \n",
    "        head, p.next = p.next, None\n",
    "        \n",
    "        return head"
   ]
  },
  {
   "cell_type": "code",
   "execution_count": 27,
   "metadata": {},
   "outputs": [],
   "source": [
    "def list_to_linked_list(l):\n",
    "    p = dummy = ListNode(None)\n",
    "    for i in l:\n",
    "        p.next = p = ListNode(i)\n",
    "    \n",
    "    return dummy.next"
   ]
  },
  {
   "cell_type": "code",
   "execution_count": 28,
   "metadata": {},
   "outputs": [
    {
     "name": "stdout",
     "output_type": "stream",
     "text": [
      "5\n"
     ]
    }
   ],
   "source": [
    "p = Solution().rotateRight(list_to_linked_list(range(1, 6)), 2)"
   ]
  },
  {
   "cell_type": "code",
   "execution_count": 29,
   "metadata": {},
   "outputs": [
    {
     "name": "stdout",
     "output_type": "stream",
     "text": [
      "4\n",
      "5\n",
      "1\n",
      "2\n",
      "3\n"
     ]
    }
   ],
   "source": [
    "while p:\n",
    "    print(p.val)\n",
    "    p = p.next"
   ]
  },
  {
   "cell_type": "code",
   "execution_count": null,
   "metadata": {},
   "outputs": [],
   "source": []
  }
 ],
 "metadata": {
  "kernelspec": {
   "display_name": "Python 3",
   "language": "python",
   "name": "python3"
  },
  "language_info": {
   "codemirror_mode": {
    "name": "ipython",
    "version": 3
   },
   "file_extension": ".py",
   "mimetype": "text/x-python",
   "name": "python",
   "nbconvert_exporter": "python",
   "pygments_lexer": "ipython3",
   "version": "3.6.7"
  }
 },
 "nbformat": 4,
 "nbformat_minor": 2
}
