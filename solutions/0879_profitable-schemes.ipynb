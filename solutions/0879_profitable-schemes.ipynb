{
 "cells": [
  {
   "cell_type": "markdown",
   "metadata": {},
   "source": [
    "[879. Profitable Schemes](https://leetcode.com/problems/profitable-schemes/)"
   ]
  },
  {
   "cell_type": "markdown",
   "metadata": {},
   "source": [
    "背包！"
   ]
  },
  {
   "cell_type": "code",
   "execution_count": 1,
   "metadata": {},
   "outputs": [],
   "source": [
    "class Solution:\n",
    "    def profitableSchemes(self, G: int, P: int, group, profit) -> int:\n",
    "        dp = [[0] * (G + 1) for _ in range(P + 1)]\n",
    "        dp[0][0] = 1\n",
    "        for p, g in zip(profit, group):\n",
    "            for i in range(P, -1, -1):\n",
    "                for j in range(G - g, -1, -1):\n",
    "                    dp[min(i + p, P)][j + g] += dp[i][j]\n",
    "        \n",
    "        return sum(dp[P]) % (10 ** 9 + 7)"
   ]
  },
  {
   "cell_type": "code",
   "execution_count": null,
   "metadata": {},
   "outputs": [],
   "source": []
  }
 ],
 "metadata": {
  "kernelspec": {
   "display_name": "Python 3",
   "language": "python",
   "name": "python3"
  },
  "language_info": {
   "codemirror_mode": {
    "name": "ipython",
    "version": 3
   },
   "file_extension": ".py",
   "mimetype": "text/x-python",
   "name": "python",
   "nbconvert_exporter": "python",
   "pygments_lexer": "ipython3",
   "version": "3.8.1"
  }
 },
 "nbformat": 4,
 "nbformat_minor": 4
}
