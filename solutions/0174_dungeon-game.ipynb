{
 "cells": [
  {
   "cell_type": "markdown",
   "metadata": {},
   "source": [
    "[174. Dungeon Game](https://leetcode.com/problems/dungeon-game/)"
   ]
  },
  {
   "cell_type": "markdown",
   "metadata": {},
   "source": [
    "不光是代价最小路线，而且是起始值最小。比如\n",
    "\n",
    "- 路线A: `1 -> -3`, 起始值为`3`即可, 总代价`-2`\n",
    "- 路线B: `-30 -> 100`, 起始值为`31`, 总代价`70`"
   ]
  },
  {
   "cell_type": "code",
   "execution_count": 26,
   "metadata": {},
   "outputs": [],
   "source": [
    "class Solution:\n",
    "    def calculateMinimumHP(self, dungeon) -> int:\n",
    "        from functools import lru_cache\n",
    "        H, W = len(dungeon), len(dungeon and dungeon[0])\n",
    "\n",
    "        @lru_cache(None)\n",
    "        def dp(i = 0, j = 0):\n",
    "            if i == H - 1 and j == W - 1:\n",
    "                return max(0, -dungeon[i][j])\n",
    "            elif i == H - 1:\n",
    "                return max(0,dp(i, j+1) - dungeon[i][j])\n",
    "            elif j == W - 1:\n",
    "                return max(0,dp(i+1, j) - dungeon[i][j])\n",
    "            else:\n",
    "                return max(0,min(dp(i, j+1),dp(i+1, j))- dungeon[i][j])\n",
    "        \n",
    "        return dp() + 1"
   ]
  },
  {
   "cell_type": "code",
   "execution_count": 27,
   "metadata": {
    "scrolled": true
   },
   "outputs": [
    {
     "data": {
      "text/plain": [
       "7"
      ]
     },
     "execution_count": 27,
     "metadata": {},
     "output_type": "execute_result"
    }
   ],
   "source": [
    "Solution().calculateMinimumHP([\n",
    "    [-2,  -3,  3],\n",
    "    [-5, -10,  1],\n",
    "    [10,  30, -5],\n",
    "])"
   ]
  },
  {
   "cell_type": "code",
   "execution_count": null,
   "metadata": {},
   "outputs": [],
   "source": []
  }
 ],
 "metadata": {
  "kernelspec": {
   "display_name": "Python 3",
   "language": "python",
   "name": "python3"
  },
  "language_info": {
   "codemirror_mode": {
    "name": "ipython",
    "version": 3
   },
   "file_extension": ".py",
   "mimetype": "text/x-python",
   "name": "python",
   "nbconvert_exporter": "python",
   "pygments_lexer": "ipython3",
   "version": "3.8.0b3"
  }
 },
 "nbformat": 4,
 "nbformat_minor": 2
}
