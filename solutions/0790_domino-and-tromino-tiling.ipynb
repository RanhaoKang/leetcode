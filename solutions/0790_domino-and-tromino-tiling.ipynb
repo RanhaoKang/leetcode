{
 "cells": [
  {
   "cell_type": "markdown",
   "metadata": {},
   "source": [
    "[790. Domino and Tromino Tiling](https://leetcode.com/problems/domino-and-tromino-tiling/)"
   ]
  },
  {
   "cell_type": "code",
   "execution_count": 2,
   "metadata": {},
   "outputs": [],
   "source": [
    "class Solution:\n",
    "    def numTilings(self, N: int) -> int:\n",
    "        A = [0] * (N + 1)\n",
    "        B = [1, 1] + [0] * (N - 1)\n",
    "\n",
    "        for i in range(2, N + 1):\n",
    "            A[i] = (B[i - 2] + A[i - 1]) % int(1e9 + 7)\n",
    "            B[i] = (B[i - 1] + B[i - 2] + A[i - 1] * 2) % int(1e9 + 7)\n",
    "        return B[N]"
   ]
  },
  {
   "cell_type": "code",
   "execution_count": 3,
   "metadata": {},
   "outputs": [],
   "source": [
    "class Solution:\n",
    "    def numTilings(self, N: int) -> int:\n",
    "        a, b, c = 0, 1, 1\n",
    "        for i in range(N - 1):\n",
    "            a, b, c = b, c, (c + c + a) % int(1e9 + 7)\n",
    "        return c"
   ]
  },
  {
   "cell_type": "code",
   "execution_count": null,
   "metadata": {},
   "outputs": [],
   "source": []
  }
 ],
 "metadata": {
  "kernelspec": {
   "display_name": "Python 3",
   "language": "python",
   "name": "python3"
  },
  "language_info": {
   "codemirror_mode": {
    "name": "ipython",
    "version": 3
   },
   "file_extension": ".py",
   "mimetype": "text/x-python",
   "name": "python",
   "nbconvert_exporter": "python",
   "pygments_lexer": "ipython3",
   "version": "3.8.1"
  }
 },
 "nbformat": 4,
 "nbformat_minor": 4
}
