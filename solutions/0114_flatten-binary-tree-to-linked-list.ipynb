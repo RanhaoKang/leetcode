{
 "cells": [
  {
   "cell_type": "markdown",
   "metadata": {},
   "source": [
    "[114. Flatten Binary Tree to Linked List](https://leetcode.com/problems/flatten-binary-tree-to-linked-list/)"
   ]
  },
  {
   "cell_type": "code",
   "execution_count": 23,
   "metadata": {},
   "outputs": [],
   "source": [
    "# Definition for a binary tree node.\n",
    "class TreeNode:\n",
    "    def __init__(self, x):\n",
    "        self.val = x\n",
    "        self.left = None\n",
    "        self.right = None\n",
    "\n",
    "class Solution:\n",
    "    def flatten(self, root: TreeNode) -> None:\n",
    "        \"\"\"\n",
    "        Do not return anything, modify root in-place instead.\n",
    "        \"\"\"\n",
    "        def iterate(node):\n",
    "            if node:\n",
    "                yield node\n",
    "                yield from iterate(node.left)\n",
    "                yield from iterate(node.right)\n",
    "        \n",
    "        p = dummy = TreeNode(None)\n",
    "        \n",
    "        for i in list(iterate(root)):\n",
    "            print(i.val)\n",
    "            i.left = i.right = None\n",
    "            p.right = p = i"
   ]
  },
  {
   "cell_type": "code",
   "execution_count": 24,
   "metadata": {},
   "outputs": [
    {
     "name": "stdout",
     "output_type": "stream",
     "text": [
      "1\n",
      "2\n",
      "3\n",
      "4\n",
      "5\n",
      "6\n"
     ]
    }
   ],
   "source": [
    "p = TreeNode(1)\n",
    "p.left = TreeNode(2)\n",
    "p.left.left = TreeNode(3)\n",
    "p.left.left.right = TreeNode(4)\n",
    "p.right = TreeNode(5)\n",
    "p.right.right = TreeNode(6)\n",
    "\n",
    "Solution().flatten(p)"
   ]
  },
  {
   "cell_type": "markdown",
   "metadata": {},
   "source": [
    "由于题目特性, 使用类似后序遍历会很方便"
   ]
  },
  {
   "cell_type": "code",
   "execution_count": 31,
   "metadata": {},
   "outputs": [],
   "source": [
    "# Definition for a binary tree node.\n",
    "class TreeNode:\n",
    "    def __init__(self, x):\n",
    "        self.val = x\n",
    "        self.left = None\n",
    "        self.right = None\n",
    "\n",
    "class Solution:\n",
    "    def flatten(self, root: TreeNode) -> None:\n",
    "        \"\"\"\n",
    "        Do not return anything, modify root in-place instead.\n",
    "        \"\"\"\n",
    "        self.prev = None\n",
    "        def solve(node):\n",
    "            if node:\n",
    "                solve(node.right)\n",
    "                solve(node.left)\n",
    "                node.right, node.left, self.prev = self.prev, None, root\n",
    "        solve(root)"
   ]
  },
  {
   "cell_type": "code",
   "execution_count": 32,
   "metadata": {},
   "outputs": [],
   "source": [
    "p = TreeNode(1)\n",
    "p.left = TreeNode(2)\n",
    "p.left.left = TreeNode(3)\n",
    "p.left.left.right = TreeNode(4)\n",
    "p.right = TreeNode(5)\n",
    "p.right.right = TreeNode(6)\n",
    "\n",
    "Solution().flatten(p)"
   ]
  },
  {
   "cell_type": "code",
   "execution_count": null,
   "metadata": {},
   "outputs": [],
   "source": []
  }
 ],
 "metadata": {
  "kernelspec": {
   "display_name": "Python 3",
   "language": "python",
   "name": "python3"
  },
  "language_info": {
   "codemirror_mode": {
    "name": "ipython",
    "version": 3
   },
   "file_extension": ".py",
   "mimetype": "text/x-python",
   "name": "python",
   "nbconvert_exporter": "python",
   "pygments_lexer": "ipython3",
   "version": "3.6.7"
  }
 },
 "nbformat": 4,
 "nbformat_minor": 2
}
