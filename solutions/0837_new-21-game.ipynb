{
 "cells": [
  {
   "cell_type": "markdown",
   "metadata": {},
   "source": [
    "[837. New 21 Game](https://leetcode.com/problems/new-21-game/)"
   ]
  },
  {
   "cell_type": "markdown",
   "metadata": {},
   "source": [
    "TLE"
   ]
  },
  {
   "cell_type": "code",
   "execution_count": 1,
   "metadata": {},
   "outputs": [],
   "source": [
    "class Solution:\n",
    "    def new21Game(self, N: int, K: int, W: int) -> float:\n",
    "        f = 1 / W\n",
    "        \n",
    "        from functools import lru_cache\n",
    "        @lru_cache(None)\n",
    "        def dp(n):\n",
    "            if n >= K:\n",
    "                return n <= N\n",
    "            return f * sum(dp(n + i) for i in range(1, W + 1))\n",
    "                \n",
    "        return dp(0)"
   ]
  },
  {
   "cell_type": "code",
   "execution_count": 2,
   "metadata": {},
   "outputs": [
    {
     "data": {
      "text/plain": [
       "0.9999999999999999"
      ]
     },
     "execution_count": 2,
     "metadata": {},
     "output_type": "execute_result"
    }
   ],
   "source": [
    "Solution().new21Game(10, 1, 10)"
   ]
  },
  {
   "cell_type": "code",
   "execution_count": 3,
   "metadata": {},
   "outputs": [
    {
     "data": {
      "text/plain": [
       "0.6"
      ]
     },
     "execution_count": 3,
     "metadata": {},
     "output_type": "execute_result"
    }
   ],
   "source": [
    "Solution().new21Game(6, 1, 10)"
   ]
  },
  {
   "cell_type": "code",
   "execution_count": 4,
   "metadata": {},
   "outputs": [
    {
     "data": {
      "text/plain": [
       "0.7327777870686081"
      ]
     },
     "execution_count": 4,
     "metadata": {},
     "output_type": "execute_result"
    }
   ],
   "source": [
    "Solution().new21Game(21, 17, 10)"
   ]
  },
  {
   "cell_type": "code",
   "execution_count": 5,
   "metadata": {},
   "outputs": [],
   "source": [
    "class Solution:\n",
    "    def new21Game(self, N: int, K: int, W: int) -> float:\n",
    "        dp = [0] * (N + W + 1)\n",
    "        for k in range(K, N + 1):\n",
    "            dp[k] = 1\n",
    "        \n",
    "        S = min(N - K + 1, W)\n",
    "        for k in range(K - 1, -1, -1):\n",
    "            dp[k] = S / W\n",
    "            S += dp[k] - dp[k + W]\n",
    "        \n",
    "        return dp[0]"
   ]
  },
  {
   "cell_type": "code",
   "execution_count": null,
   "metadata": {},
   "outputs": [],
   "source": []
  }
 ],
 "metadata": {
  "kernelspec": {
   "display_name": "Python 3",
   "language": "python",
   "name": "python3"
  },
  "language_info": {
   "codemirror_mode": {
    "name": "ipython",
    "version": 3
   },
   "file_extension": ".py",
   "mimetype": "text/x-python",
   "name": "python",
   "nbconvert_exporter": "python",
   "pygments_lexer": "ipython3",
   "version": "3.8.1"
  }
 },
 "nbformat": 4,
 "nbformat_minor": 4
}
