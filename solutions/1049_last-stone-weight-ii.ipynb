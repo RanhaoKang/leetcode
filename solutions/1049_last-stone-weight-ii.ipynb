{
 "cells": [
  {
   "cell_type": "markdown",
   "metadata": {},
   "source": [
    "[1049. Last Stone Weight II](https://leetcode.com/problems/last-stone-weight-ii/)"
   ]
  },
  {
   "cell_type": "markdown",
   "metadata": {},
   "source": [
    "照着hint做出来的，但是没太理解"
   ]
  },
  {
   "cell_type": "code",
   "execution_count": 6,
   "metadata": {},
   "outputs": [],
   "source": [
    "class Solution:\n",
    "    def lastStoneWeightII(self, A) -> int:\n",
    "        dp = {0}\n",
    "        for a in A:\n",
    "            dp = {i + a for i in dp} | {i - a for i in dp}\n",
    "            print(dp)\n",
    "        return min(abs(i) for i in dp)"
   ]
  },
  {
   "cell_type": "code",
   "execution_count": 7,
   "metadata": {},
   "outputs": [
    {
     "name": "stdout",
     "output_type": "stream",
     "text": [
      "{2, -2}\n",
      "{9, -5, 5, -9}\n",
      "{1, 5, 9, 13, -13, -9, -5, -1}\n",
      "{0, 2, 4, 6, 8, 10, 12, 14, -14, -12, -10, -8, -6, -4, -2}\n",
      "{0, 2, 4, 6, 8, 10, 12, 14, 16, 18, 20, 22, -22, -20, -18, -16, -14, -12, -10, -8, -6, -4, -2}\n",
      "{1, 3, 5, 7, 9, 11, 13, 15, 17, 19, 21, 23, -23, -21, -19, -17, -15, -13, -11, -9, -7, -5, -3, -1}\n"
     ]
    },
    {
     "data": {
      "text/plain": [
       "1"
      ]
     },
     "execution_count": 7,
     "metadata": {},
     "output_type": "execute_result"
    }
   ],
   "source": [
    "Solution().lastStoneWeightII([2,7,4,1,8,1])"
   ]
  }
 ],
 "metadata": {
  "kernelspec": {
   "display_name": "Python 3",
   "language": "python",
   "name": "python3"
  },
  "language_info": {
   "codemirror_mode": {
    "name": "ipython",
    "version": 3
   },
   "file_extension": ".py",
   "mimetype": "text/x-python",
   "name": "python",
   "nbconvert_exporter": "python",
   "pygments_lexer": "ipython3",
   "version": "3.8.1"
  }
 },
 "nbformat": 4,
 "nbformat_minor": 4
}
