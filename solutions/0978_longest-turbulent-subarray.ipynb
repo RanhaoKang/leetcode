{
 "cells": [
  {
   "cell_type": "markdown",
   "metadata": {},
   "source": [
    "[978. Longest Turbulent Subarray](https://leetcode.com/problems/longest-turbulent-subarray/)"
   ]
  },
  {
   "cell_type": "code",
   "execution_count": 90,
   "metadata": {},
   "outputs": [],
   "source": [
    "class Solution:\n",
    "    def maxTurbulenceSize(self, A) -> int:\n",
    "        N = len(A)\n",
    "        res = min(N, 2)\n",
    "        odd = even = 1\n",
    "        \n",
    "        for i in range(1, N - 1, 2):\n",
    "            print(i, (A[i - 1], A[i], A[i + 1]))\n",
    "            if A[i - 1] <= A[i] >= A[i + 1]:\n",
    "                even += 2\n",
    "            elif A[i - 1] >= A[i] <= A[i + 1]:\n",
    "                odd += 2\n",
    "            else:\n",
    "                res = max([res, odd, even])\n",
    "                odd = even = 1\n",
    "\n",
    "        print(even, odd)\n",
    "        if N % 2 == 0:\n",
    "            print('here', A[-3] , A[-2] , A[-1])\n",
    "            even += A[-3] <= A[-2] >= A[-1] \n",
    "            odd += A[-3] >= A[-2] <= A[-1] \n",
    "            \n",
    "        return max([res, odd, even])"
   ]
  },
  {
   "cell_type": "code",
   "execution_count": 91,
   "metadata": {},
   "outputs": [
    {
     "data": {
      "text/plain": [
       "9"
      ]
     },
     "execution_count": 91,
     "metadata": {},
     "output_type": "execute_result"
    }
   ],
   "source": [
    "len([9,4,2,10,7,8,8,1,9])"
   ]
  },
  {
   "cell_type": "code",
   "execution_count": 92,
   "metadata": {},
   "outputs": [
    {
     "name": "stdout",
     "output_type": "stream",
     "text": [
      "1 (9, 4, 2)\n",
      "3 (2, 10, 7)\n",
      "5 (7, 8, 8)\n",
      "7 (8, 1, 9)\n",
      "5 3\n"
     ]
    },
    {
     "data": {
      "text/plain": [
       "5"
      ]
     },
     "execution_count": 92,
     "metadata": {},
     "output_type": "execute_result"
    }
   ],
   "source": [
    "Solution().maxTurbulenceSize([9,4,2,10,7,8,8,1,9])"
   ]
  },
  {
   "cell_type": "code",
   "execution_count": 93,
   "metadata": {},
   "outputs": [
    {
     "name": "stdout",
     "output_type": "stream",
     "text": [
      "1 (4, 8, 12)\n",
      "1 1\n",
      "here 8 12 16\n"
     ]
    },
    {
     "data": {
      "text/plain": [
       "2"
      ]
     },
     "execution_count": 93,
     "metadata": {},
     "output_type": "execute_result"
    }
   ],
   "source": [
    "Solution().maxTurbulenceSize([4,8,12,16])"
   ]
  },
  {
   "cell_type": "code",
   "execution_count": 94,
   "metadata": {},
   "outputs": [
    {
     "name": "stdout",
     "output_type": "stream",
     "text": [
      "1 1\n"
     ]
    },
    {
     "data": {
      "text/plain": [
       "1"
      ]
     },
     "execution_count": 94,
     "metadata": {},
     "output_type": "execute_result"
    }
   ],
   "source": [
    "Solution().maxTurbulenceSize([100])"
   ]
  },
  {
   "cell_type": "code",
   "execution_count": 96,
   "metadata": {},
   "outputs": [],
   "source": [
    "class Solution:\n",
    "    def maxTurbulenceSize(self, A):\n",
    "        best = clen = 0\n",
    "\n",
    "        for i in range(len(A)):\n",
    "            if i >= 2 and (A[i-2] > A[i-1] < A[i] or A[i-2] < A[i-1] > A[i]):\n",
    "                clen += 1\n",
    "            elif i >= 1 and A[i-1] != A[i]:\n",
    "                clen = 2\n",
    "            else:\n",
    "                clen = 1\n",
    "            best = max(best, clen)\n",
    "        return best"
   ]
  },
  {
   "cell_type": "code",
   "execution_count": 97,
   "metadata": {},
   "outputs": [
    {
     "ename": "NameError",
     "evalue": "name 'cmp' is not defined",
     "output_type": "error",
     "traceback": [
      "\u001b[0;31m---------------------------------------------------------------------------\u001b[0m",
      "\u001b[0;31mNameError\u001b[0m                                 Traceback (most recent call last)",
      "\u001b[0;32m<ipython-input-97-c1adf8efc435>\u001b[0m in \u001b[0;36m<module>\u001b[0;34m\u001b[0m\n\u001b[0;32m----> 1\u001b[0;31m \u001b[0mcmp\u001b[0m\u001b[0;34m\u001b[0m\u001b[0;34m\u001b[0m\u001b[0m\n\u001b[0m",
      "\u001b[0;31mNameError\u001b[0m: name 'cmp' is not defined"
     ]
    }
   ],
   "source": [
    "cmp"
   ]
  },
  {
   "cell_type": "code",
   "execution_count": null,
   "metadata": {},
   "outputs": [],
   "source": []
  }
 ],
 "metadata": {
  "kernelspec": {
   "display_name": "Python 3",
   "language": "python",
   "name": "python3"
  },
  "language_info": {
   "codemirror_mode": {
    "name": "ipython",
    "version": 3
   },
   "file_extension": ".py",
   "mimetype": "text/x-python",
   "name": "python",
   "nbconvert_exporter": "python",
   "pygments_lexer": "ipython3",
   "version": "3.8.1"
  }
 },
 "nbformat": 4,
 "nbformat_minor": 4
}
