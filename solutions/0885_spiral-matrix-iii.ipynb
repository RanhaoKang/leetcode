{
 "cells": [
  {
   "cell_type": "markdown",
   "metadata": {},
   "source": [
    "[885. Spiral Matrix III](https://leetcode.com/problems/spiral-matrix-iii/)"
   ]
  },
  {
   "cell_type": "code",
   "execution_count": 38,
   "metadata": {},
   "outputs": [],
   "source": [
    "class Solution:\n",
    "    def spiralMatrixIII(self, R: int, C: int, r: int, c: int):\n",
    "\n",
    "        def walk():\n",
    "            from itertools import cycle, count\n",
    "            dirs = cycle(((0,1), (1,0), (0,-1), (-1,0)))\n",
    "            steps = (i//2 for i in count(2))\n",
    "            \n",
    "            for dir, step in zip(dirs, steps):\n",
    "                for i in range(step):\n",
    "                    yield dir\n",
    "\n",
    "\n",
    "        res, len = [[r, c]], 1\n",
    "        for i, j in walk():\n",
    "            r += i; c += j\n",
    "\n",
    "            if 0 <= r < R and 0 <= c < C:\n",
    "                res.append([r, c])\n",
    "                len += 1\n",
    "            if len == R * C:\n",
    "                break\n",
    "\n",
    "        return res"
   ]
  },
  {
   "cell_type": "code",
   "execution_count": 39,
   "metadata": {},
   "outputs": [
    {
     "data": {
      "text/plain": [
       "[[0, 0], [0, 1], [0, 2], [0, 3]]"
      ]
     },
     "execution_count": 39,
     "metadata": {},
     "output_type": "execute_result"
    }
   ],
   "source": [
    "Solution().spiralMatrixIII(1, 4, 0, 0)"
   ]
  },
  {
   "cell_type": "code",
   "execution_count": null,
   "metadata": {},
   "outputs": [],
   "source": []
  }
 ],
 "metadata": {
  "kernelspec": {
   "display_name": "Python 3",
   "language": "python",
   "name": "python3"
  },
  "language_info": {
   "codemirror_mode": {
    "name": "ipython",
    "version": 3
   },
   "file_extension": ".py",
   "mimetype": "text/x-python",
   "name": "python",
   "nbconvert_exporter": "python",
   "pygments_lexer": "ipython3",
   "version": "3.8.1"
  }
 },
 "nbformat": 4,
 "nbformat_minor": 4
}
