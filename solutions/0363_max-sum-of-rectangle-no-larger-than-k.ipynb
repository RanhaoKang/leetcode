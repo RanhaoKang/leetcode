{
 "cells": [
  {
   "cell_type": "markdown",
   "metadata": {},
   "source": [
    "[363. Max Sum of Rectangle No Larger Than K](https://leetcode.com/problems/max-sum-of-rectangle-no-larger-than-k/)"
   ]
  },
  {
   "cell_type": "code",
   "execution_count": 1,
   "metadata": {},
   "outputs": [],
   "source": [
    "class Solution:\n",
    "    def maxSumSubmatrix(self, matrix, k: int) -> int:\n",
    "        def maxSumSubarray(arr):\n",
    "            sub_s_max = float('-inf')\n",
    "            s_curr = 0\n",
    "            prefix_sums = [float('inf')]\n",
    "            for x in arr:\n",
    "                bisect.insort(prefix_sums, s_curr)\n",
    "                s_curr += x\n",
    "                i = bisect.bisect_left(prefix_sums, s_curr - k)\n",
    "                sub_s_max = max(sub_s_max, s_curr - prefix_sums[i])\n",
    "            return sub_s_max\n",
    "        \n",
    "        m, n = len(matrix), len(matrix[0])\n",
    "        for x in range(m):\n",
    "            for y in range(n - 1):\n",
    "                matrix[x][y+1] += matrix[x][y]\n",
    "        res = float('-inf')\n",
    "        for y1 in range(n):\n",
    "            for y2 in range(y1, n):\n",
    "                arr = [matrix[x][y2] - (matrix[x][y1-1] if y1 > 0 else 0) for x in range(m)]\n",
    "                res = max(res, maxSumSubarray(arr))\n",
    "        return res"
   ]
  },
  {
   "cell_type": "code",
   "execution_count": null,
   "metadata": {},
   "outputs": [],
   "source": []
  }
 ],
 "metadata": {
  "kernelspec": {
   "display_name": "Python 3",
   "language": "python",
   "name": "python3"
  },
  "language_info": {
   "codemirror_mode": {
    "name": "ipython",
    "version": 3
   },
   "file_extension": ".py",
   "mimetype": "text/x-python",
   "name": "python",
   "nbconvert_exporter": "python",
   "pygments_lexer": "ipython3",
   "version": "3.8.1"
  }
 },
 "nbformat": 4,
 "nbformat_minor": 4
}
