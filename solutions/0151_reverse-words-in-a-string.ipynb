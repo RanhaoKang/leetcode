{
 "cells": [
  {
   "cell_type": "markdown",
   "metadata": {},
   "source": [
    "[151. Reverse Words in a String](https://leetcode.com/problems/reverse-words-in-a-string/)"
   ]
  },
  {
   "cell_type": "code",
   "execution_count": 5,
   "metadata": {},
   "outputs": [],
   "source": [
    "class Solution:\n",
    "    def reverseWords(self, s: str) -> str:\n",
    "        return ' '.join(s.strip().split()[::-1])"
   ]
  },
  {
   "cell_type": "code",
   "execution_count": 13,
   "metadata": {},
   "outputs": [],
   "source": [
    "class Solution:\n",
    "    def reverseWords(self, s: str) -> str:\n",
    "        res = word = ''\n",
    "        \n",
    "        for char in s:\n",
    "            if char != ' ':\n",
    "                word = word + char\n",
    "            else:\n",
    "                if word:\n",
    "                    res = word + ' ' + res\n",
    "                    word = ''\n",
    "        \n",
    "        if word:\n",
    "            res = word + ' ' + res\n",
    "        \n",
    "        return res[:-1]"
   ]
  },
  {
   "cell_type": "code",
   "execution_count": 97,
   "metadata": {},
   "outputs": [],
   "source": [
    "class Solution:\n",
    "    def reverseWords(self, s: str) -> str:\n",
    "        # reverse string\n",
    "        s = list(s[::-1])\n",
    "        length = len(s)\n",
    "        \n",
    "        # reverse word, l/r mean left_idx/right_idx of word here\n",
    "        i = 0\n",
    "        while i < length:\n",
    "            if s[i] != ' ':\n",
    "                l = i\n",
    "                while i < length and s[i] != ' ':\n",
    "                    i += 1\n",
    "                r = i\n",
    "                s[l: r] = s[l:r][::-1]\n",
    "            i += 1\n",
    "        \n",
    "        # remove redundant space via two-pointer\n",
    "        slow = 0\n",
    "        for fast in range(length):\n",
    "            s[slow] = s[fast]\n",
    "            if s[fast] == ' ':\n",
    "                if (slow > 0 and s[slow-1] == ' ') or slow == 0:\n",
    "                    continue\n",
    "            slow += 1\n",
    "        \n",
    "        # one-pass from right to left to remove duplicate space at the end of the string\n",
    "        return ''.join(s[:slow]).rstrip()"
   ]
  },
  {
   "cell_type": "code",
   "execution_count": 98,
   "metadata": {},
   "outputs": [
    {
     "data": {
      "text/plain": [
       "''"
      ]
     },
     "execution_count": 98,
     "metadata": {},
     "output_type": "execute_result"
    }
   ],
   "source": [
    "Solution().reverseWords(\"\")"
   ]
  },
  {
   "cell_type": "code",
   "execution_count": null,
   "metadata": {},
   "outputs": [],
   "source": []
  }
 ],
 "metadata": {
  "kernelspec": {
   "display_name": "Python 3",
   "language": "python",
   "name": "python3"
  },
  "language_info": {
   "codemirror_mode": {
    "name": "ipython",
    "version": 3
   },
   "file_extension": ".py",
   "mimetype": "text/x-python",
   "name": "python",
   "nbconvert_exporter": "python",
   "pygments_lexer": "ipython3",
   "version": "3.6.7"
  }
 },
 "nbformat": 4,
 "nbformat_minor": 2
}
