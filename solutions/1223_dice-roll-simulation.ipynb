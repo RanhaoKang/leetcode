{
 "cells": [
  {
   "cell_type": "markdown",
   "metadata": {},
   "source": [
    "[1223. Dice Roll Simulation](https://leetcode.com/problems/dice-roll-simulation/)"
   ]
  },
  {
   "cell_type": "code",
   "execution_count": 2,
   "metadata": {},
   "outputs": [],
   "source": [
    "class Solution:\n",
    "    def dieSimulator(self, N: int, rollMax) -> int:\n",
    "        K = max(rollMax)\n",
    "        # dp[i][j][k]: 投i次且末尾j+1面朝上连续k-1次的次数\n",
    "        dp = [[[0] * K for _ in range(6)] for _ in range(N)]\n",
    "        \n",
    "        # 第一次: 各面朝上的次数均为1\n",
    "        for i in range(6):\n",
    "            dp[0][i][0] = 1\n",
    "        for i in range(1, N):\n",
    "            for j in range(6):\n",
    "                # 第i次: i-1次所有的加和！除非与这一次的相同\n",
    "                dp[i][j][0] += sum(dp[i-1][t][k]\n",
    "                                    for t in range(6) \n",
    "                                    for k in range(rollMax[t]) if t != j)\n",
    "                # 如果与这次相同，那就是i-1, k-1时的次数，往序列末尾加确定的数没有增加组合数\n",
    "                for k in range(1, rollMax[j]):\n",
    "                    dp[i][j][k] = dp[i-1][j][k-1]\n",
    "        \n",
    "        return sum(dp[N-1][j][k] for j in range(6) for k in range(K)) % (10 ** 9 + 7)"
   ]
  },
  {
   "cell_type": "code",
   "execution_count": null,
   "metadata": {},
   "outputs": [],
   "source": []
  }
 ],
 "metadata": {
  "kernelspec": {
   "display_name": "Python 3",
   "language": "python",
   "name": "python3"
  },
  "language_info": {
   "codemirror_mode": {
    "name": "ipython",
    "version": 3
   },
   "file_extension": ".py",
   "mimetype": "text/x-python",
   "name": "python",
   "nbconvert_exporter": "python",
   "pygments_lexer": "ipython3",
   "version": "3.8.1"
  }
 },
 "nbformat": 4,
 "nbformat_minor": 4
}
