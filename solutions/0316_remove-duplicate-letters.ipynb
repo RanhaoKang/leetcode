{
 "cells": [
  {
   "cell_type": "markdown",
   "metadata": {},
   "source": [
    "[316. Remove Duplicate Letters](https://leetcode.com/problems/remove-duplicate-letters/)"
   ]
  },
  {
   "cell_type": "markdown",
   "metadata": {},
   "source": [
    "贪心: 每次从字符串中找最靠左字典序最小的字母.\n",
    "\n",
    "- 比如`abcacb`, 既然`a`出现了两次, 我们当然要选第一个.\n",
    "- 之后得到`bccb`, 同样选第一个.\n",
    "- `cc`选`c`\n",
    "\n",
    "秒在移除选定字母之前的所有字符, 避免了找到的结果不是原字符串的子序列的问题"
   ]
  },
  {
   "cell_type": "code",
   "execution_count": 1,
   "metadata": {},
   "outputs": [],
   "source": [
    "import collections\n",
    "import string\n",
    "\n",
    "class Solution:\n",
    "    def removeDuplicateLetters(self, s: str) -> str:\n",
    "        \n",
    "        def dfs(s):\n",
    "            cnt = collections.Counter(s)\n",
    "            idx = 0\n",
    "            for i in range(len(s)):\n",
    "                if s[i] < s[idx]:\n",
    "                    idx = i\n",
    "                cnt[idx] -= 1\n",
    "                if cnt[idx] == 0:\n",
    "                    break\n",
    "        \n",
    "            return s[idx] + dfs(s[idx:].replace(s[idx], '')) if s else ''\n",
    "            \n",
    "        return dfs(s)"
   ]
  },
  {
   "cell_type": "code",
   "execution_count": 12,
   "metadata": {},
   "outputs": [],
   "source": [
    "class Solution:\n",
    "    def removeDuplicateLetters(self, s: str) -> str:\n",
    "        from collections import defaultdict\n",
    "        stack, cnt, used = [], defaultdict(int), defaultdict(bool)\n",
    "        \n",
    "        for c in s:\n",
    "            cnt[c] += 1\n",
    "        \n",
    "        for c in s:\n",
    "            cnt[c] -= 1\n",
    "            \n",
    "            if used[c]:\n",
    "                continue\n",
    "            \n",
    "            # 发现了比准备保留的字符更小的字符，而且该字符还有机会取到，\n",
    "            # 就应该等着下次取\n",
    "            while stack and c < stack[-1] and cnt[stack[-1]]:\n",
    "                used[stack[-1]] = False\n",
    "                stack.pop()\n",
    "            \n",
    "            stack.append(c)\n",
    "            used[c] = True\n",
    "        \n",
    "        return ''.join(stack)"
   ]
  },
  {
   "cell_type": "code",
   "execution_count": 13,
   "metadata": {},
   "outputs": [
    {
     "data": {
      "text/plain": [
       "'abc'"
      ]
     },
     "execution_count": 13,
     "metadata": {},
     "output_type": "execute_result"
    }
   ],
   "source": [
    "Solution().removeDuplicateLetters('abcacb')"
   ]
  },
  {
   "cell_type": "code",
   "execution_count": 14,
   "metadata": {},
   "outputs": [
    {
     "data": {
      "text/plain": [
       "'abc'"
      ]
     },
     "execution_count": 14,
     "metadata": {},
     "output_type": "execute_result"
    }
   ],
   "source": [
    "Solution().removeDuplicateLetters('bcabc')"
   ]
  },
  {
   "cell_type": "code",
   "execution_count": 15,
   "metadata": {},
   "outputs": [
    {
     "data": {
      "text/plain": [
       "'acdb'"
      ]
     },
     "execution_count": 15,
     "metadata": {},
     "output_type": "execute_result"
    }
   ],
   "source": [
    "Solution().removeDuplicateLetters('cbacdcbc')"
   ]
  },
  {
   "cell_type": "code",
   "execution_count": null,
   "metadata": {},
   "outputs": [],
   "source": []
  }
 ],
 "metadata": {
  "kernelspec": {
   "display_name": "Python 3",
   "language": "python",
   "name": "python3"
  },
  "language_info": {
   "codemirror_mode": {
    "name": "ipython",
    "version": 3
   },
   "file_extension": ".py",
   "mimetype": "text/x-python",
   "name": "python",
   "nbconvert_exporter": "python",
   "pygments_lexer": "ipython3",
   "version": "3.8.0b3"
  }
 },
 "nbformat": 4,
 "nbformat_minor": 2
}
