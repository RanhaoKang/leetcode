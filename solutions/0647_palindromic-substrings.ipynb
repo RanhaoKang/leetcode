{
 "cells": [
  {
   "cell_type": "markdown",
   "metadata": {},
   "source": [
    "[647. Palindromic Substrings](https://leetcode.com/problems/palindromic-substrings/)"
   ]
  },
  {
   "cell_type": "markdown",
   "metadata": {},
   "source": [
    "从中心向外扩散, $O(n^2)$, 巧妙地把回文的子问题特性建模成了提前`break`."
   ]
  },
  {
   "cell_type": "code",
   "execution_count": 2,
   "metadata": {},
   "outputs": [],
   "source": [
    "class Solution:\n",
    "    def countSubstrings(self, s: str) -> int:\n",
    "        length = len(s)\n",
    "        def iterate():\n",
    "            for i in range(length):\n",
    "                \n",
    "                for j in range(min(i + 1, length - i)):\n",
    "                    if s[i - j] != s[i + j]:\n",
    "                        break\n",
    "                    yield s[i - j: i + j]\n",
    "                    \n",
    "                for j in range(min(i, length - i)): \n",
    "                    if s[i - j - 1] != s[i + j]:\n",
    "                        break\n",
    "                    yield s[i - j - 1: i + j]\n",
    "        \n",
    "        return len(list(iterate()))"
   ]
  },
  {
   "cell_type": "markdown",
   "metadata": {},
   "source": [
    "[Manacher算法](https://www.cnblogs.com/z360/p/6375514.html)"
   ]
  },
  {
   "cell_type": "code",
   "execution_count": null,
   "metadata": {},
   "outputs": [],
   "source": [
    "class Solution:\n",
    "    def countSubstrings(self, s: str) -> int:\n",
    "        s = '#'.join(f'#{s}#')\n",
    "        "
   ]
  },
  {
   "cell_type": "code",
   "execution_count": 4,
   "metadata": {},
   "outputs": [
    {
     "data": {
      "text/plain": [
       "'##1#2#3##'"
      ]
     },
     "execution_count": 4,
     "metadata": {},
     "output_type": "execute_result"
    }
   ],
   "source": [
    "'#'.join('#123#')"
   ]
  },
  {
   "cell_type": "code",
   "execution_count": null,
   "metadata": {},
   "outputs": [],
   "source": []
  }
 ],
 "metadata": {
  "kernelspec": {
   "display_name": "Python 3",
   "language": "python",
   "name": "python3"
  },
  "language_info": {
   "codemirror_mode": {
    "name": "ipython",
    "version": 3
   },
   "file_extension": ".py",
   "mimetype": "text/x-python",
   "name": "python",
   "nbconvert_exporter": "python",
   "pygments_lexer": "ipython3",
   "version": "3.6.7"
  }
 },
 "nbformat": 4,
 "nbformat_minor": 2
}
