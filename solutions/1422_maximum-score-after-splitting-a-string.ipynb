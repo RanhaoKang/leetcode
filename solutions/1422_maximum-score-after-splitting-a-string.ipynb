{
 "cells": [
  {
   "cell_type": "markdown",
   "metadata": {},
   "source": [
    "[1422. Maximum Score After Splitting a String](https://leetcode.com/problems/maximum-score-after-splitting-a-string/)"
   ]
  },
  {
   "cell_type": "code",
   "execution_count": null,
   "metadata": {},
   "outputs": [],
   "source": [
    "class Solution:\n",
    "    def maxScore(self, s: str) -> int:\n",
    "        zeros = ones = 0\n",
    "        ans = float(\"-inf\")\n",
    "        \n",
    "        for i in range(len(s)-1):\n",
    "            if s[i] == \"0\": zeros += 1\n",
    "            else: ones -= 1\n",
    "            ans = max(ans, zeros + ones)\n",
    "        \n",
    "        return ans - ones + (1 if s[-1] == \"1\" else 0)"
   ]
  }
 ],
 "metadata": {
  "kernelspec": {
   "display_name": "Python 3",
   "language": "python",
   "name": "python3"
  },
  "language_info": {
   "codemirror_mode": {
    "name": "ipython",
    "version": 3
   },
   "file_extension": ".py",
   "mimetype": "text/x-python",
   "name": "python",
   "nbconvert_exporter": "python",
   "pygments_lexer": "ipython3",
   "version": "3.8.0b3"
  }
 },
 "nbformat": 4,
 "nbformat_minor": 2
}
