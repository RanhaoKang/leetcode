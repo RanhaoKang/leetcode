{
 "cells": [
  {
   "cell_type": "markdown",
   "metadata": {},
   "source": [
    "[556. Next Greater Element III](https://leetcode.com/problems/next-greater-element-iii/)"
   ]
  },
  {
   "cell_type": "markdown",
   "metadata": {},
   "source": [
    "Brute-Force，3216ms"
   ]
  },
  {
   "cell_type": "code",
   "execution_count": 8,
   "metadata": {},
   "outputs": [],
   "source": [
    "class Solution:\n",
    "    def nextGreaterElement(self, n: int) -> int:\n",
    "        from itertools import permutations\n",
    "        \n",
    "        res = float('inf')\n",
    "        for i in permutations(str(n)):\n",
    "            i = int(''.join(i))\n",
    "            if i > n:\n",
    "                res = min(res, i)\n",
    "        \n",
    "        return res if res <= ((1<<31)-1) else -1"
   ]
  },
  {
   "cell_type": "markdown",
   "metadata": {},
   "source": [
    "discuss的答案, 28ms"
   ]
  },
  {
   "cell_type": "code",
   "execution_count": 9,
   "metadata": {},
   "outputs": [],
   "source": [
    "class Solution:\n",
    "    def nextGreaterElement(self, n):\n",
    "        \"\"\"\n",
    "        :type n: int\n",
    "        :rtype: int\n",
    "        \"\"\"\n",
    "        s = list(map(int, str(n)))\n",
    "        i = len(s)-1\n",
    "        while i-1>=0 and s[i]<=s[i-1]:\n",
    "            i -= 1\n",
    "            \n",
    "        if i==0:\n",
    "            return -1\n",
    "        \n",
    "        j = i\n",
    "        while j+1<len(s) and s[j+1]>s[i-1]:\n",
    "            j += 1\n",
    "        \n",
    "        s[i-1], s[j] = s[j], s[i-1]\n",
    "        s[i:] = reversed(s[i:])\n",
    "        ret = int(''.join(map(str, s)))\n",
    "        \n",
    "        return ret if ret<=((1<<31)-1) else -1"
   ]
  },
  {
   "cell_type": "markdown",
   "metadata": {},
   "source": [
    "cpython的实现改一改, 28ms"
   ]
  },
  {
   "cell_type": "code",
   "execution_count": null,
   "metadata": {},
   "outputs": [],
   "source": [
    "class Solution:\n",
    "    def nextGreaterElement(self, n):\n",
    "        a = list(str(n))\n",
    "        \"\"\"Generate the lexicographically next permutation inplace.\n",
    "\n",
    "        https://en.wikipedia.org/wiki/Permutation#Generation_in_lexicographic_order\n",
    "        Return false if there is no next permutation.\n",
    "        \"\"\"\n",
    "        # Find the largest index i such that a[i] < a[i + 1]. If no such\n",
    "        # index exists, the permutation is the last permutation\n",
    "        for i in reversed(range(len(a) - 1)):\n",
    "            if a[i] < a[i + 1]:\n",
    "                break  # found\n",
    "        else:  # no break: not found\n",
    "            return -1  # no next permutation\n",
    "\n",
    "        # Find the largest index j greater than i such that a[i] < a[j]\n",
    "        j = next(j for j in reversed(range(i + 1, len(a))) if a[i] < a[j])\n",
    "\n",
    "        # Swap the value of a[i] with that of a[j]\n",
    "        a[i], a[j] = a[j], a[i]\n",
    "\n",
    "        # Reverse sequence from a[i + 1] up to and including the final element a[n]\n",
    "        a[i + 1:] = reversed(a[i + 1:])\n",
    "        \n",
    "        n = int(''.join(a))\n",
    "        return n if n <=((1<<31)-1) else -1"
   ]
  }
 ],
 "metadata": {
  "kernelspec": {
   "display_name": "Python 3",
   "language": "python",
   "name": "python3"
  },
  "language_info": {
   "codemirror_mode": {
    "name": "ipython",
    "version": 3
   },
   "file_extension": ".py",
   "mimetype": "text/x-python",
   "name": "python",
   "nbconvert_exporter": "python",
   "pygments_lexer": "ipython3",
   "version": "3.8.1"
  }
 },
 "nbformat": 4,
 "nbformat_minor": 4
}
