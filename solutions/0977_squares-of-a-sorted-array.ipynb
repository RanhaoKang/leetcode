{
 "cells": [
  {
   "cell_type": "markdown",
   "metadata": {},
   "source": [
    "[977. Squares of a Sorted Array](https://leetcode.com/problems/squares-of-a-sorted-array/)"
   ]
  },
  {
   "cell_type": "code",
   "execution_count": null,
   "metadata": {},
   "outputs": [],
   "source": [
    "class Solution:\n",
    "    def sortedSquares(self, A: List[int]) -> List[int]:\n",
    "        return sorted([x ** 2 for x in A])"
   ]
  },
  {
   "cell_type": "markdown",
   "metadata": {},
   "source": [
    "已经排序过的数组, 其平方后的数组其实是两边大中间小的"
   ]
  },
  {
   "cell_type": "code",
   "execution_count": 1,
   "metadata": {},
   "outputs": [],
   "source": [
    "class Solution:\n",
    "    def sortedSquares(self, A):\n",
    "        answer = [0] * len(A)\n",
    "        l, r = 0, len(A) - 1\n",
    "        while l <= r:\n",
    "            left, right = A[l] ** 2, A[r] ** 2\n",
    "            if left > right:\n",
    "                answer[r - l] = left\n",
    "                l += 1\n",
    "            else:\n",
    "                answer[r - l] = right\n",
    "                r -= 1\n",
    "        return answer"
   ]
  },
  {
   "cell_type": "code",
   "execution_count": null,
   "metadata": {},
   "outputs": [],
   "source": []
  }
 ],
 "metadata": {
  "kernelspec": {
   "display_name": "Python 3",
   "language": "python",
   "name": "python3"
  },
  "language_info": {
   "codemirror_mode": {
    "name": "ipython",
    "version": 3
   },
   "file_extension": ".py",
   "mimetype": "text/x-python",
   "name": "python",
   "nbconvert_exporter": "python",
   "pygments_lexer": "ipython3",
   "version": "3.6.7"
  }
 },
 "nbformat": 4,
 "nbformat_minor": 2
}
