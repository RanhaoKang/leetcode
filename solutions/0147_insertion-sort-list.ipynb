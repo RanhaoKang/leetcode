{
 "cells": [
  {
   "cell_type": "markdown",
   "metadata": {},
   "source": [
    "[147. Insertion Sort List](https://leetcode.com/problems/insertion-sort-list/)"
   ]
  },
  {
   "cell_type": "code",
   "execution_count": 44,
   "metadata": {},
   "outputs": [],
   "source": [
    "# Definition for singly-linked list.\n",
    "class ListNode:\n",
    "    def __init__(self, x):\n",
    "        self.val = x\n",
    "        self.next = None\n",
    "\n",
    "class Solution:\n",
    "    def insertionSortList(self, p: ListNode) -> ListNode:\n",
    "        \n",
    "        sorted = ListNode(float('-inf'))\n",
    "        \n",
    "        def insert(p):\n",
    "            q = sorted\n",
    "            while q.next and p.val > q.next.val:\n",
    "                q = q.next\n",
    "            p.next, q.next = q.next, p\n",
    "        \n",
    "        while p:\n",
    "            p, tmp = p.next, p\n",
    "            insert(tmp)\n",
    "        \n",
    "        return sorted.next"
   ]
  },
  {
   "cell_type": "code",
   "execution_count": 45,
   "metadata": {},
   "outputs": [
    {
     "name": "stdout",
     "output_type": "stream",
     "text": [
      "-1\n",
      "0\n",
      "3\n",
      "4\n",
      "5\n"
     ]
    }
   ],
   "source": [
    "p = ListNode(-1)\n",
    "p.next = ListNode(5)\n",
    "p.next.next = ListNode(3)\n",
    "p.next.next.next = ListNode(4)\n",
    "p.next.next.next.next = ListNode(0)\n",
    "\n",
    "q = Solution().insertionSortList(p)\n",
    "\n",
    "while q:\n",
    "    print(q.val)\n",
    "    q = q.next"
   ]
  },
  {
   "cell_type": "code",
   "execution_count": null,
   "metadata": {},
   "outputs": [],
   "source": []
  }
 ],
 "metadata": {
  "kernelspec": {
   "display_name": "Python 3",
   "language": "python",
   "name": "python3"
  },
  "language_info": {
   "codemirror_mode": {
    "name": "ipython",
    "version": 3
   },
   "file_extension": ".py",
   "mimetype": "text/x-python",
   "name": "python",
   "nbconvert_exporter": "python",
   "pygments_lexer": "ipython3",
   "version": "3.6.7"
  }
 },
 "nbformat": 4,
 "nbformat_minor": 2
}
