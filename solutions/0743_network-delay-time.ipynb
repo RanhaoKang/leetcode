{
 "cells": [
  {
   "cell_type": "markdown",
   "metadata": {},
   "source": [
    "[743. Network Delay Time](https://leetcode.com/problems/network-delay-time/)"
   ]
  },
  {
   "cell_type": "markdown",
   "metadata": {},
   "source": [
    "写成单条路径了"
   ]
  },
  {
   "cell_type": "code",
   "execution_count": 18,
   "metadata": {},
   "outputs": [],
   "source": [
    "class Solution:\n",
    "    def networkDelayTime(self, times, N: int, K: int) -> int:\n",
    "        INF, END = float('inf'), 2 ** (N + 1) - 1\n",
    "        res = INF\n",
    "        \n",
    "        G = [[INF] * N for _ in range(N)]\n",
    "        for u, v, w in times:\n",
    "            G[u-1][v-1] = w\n",
    "        \n",
    "        def dfs(i, time = 0, visited = 0):\n",
    "            print(i+1, bin(visited), bin(END))\n",
    "            if visited == END:\n",
    "                res = min(res, time)\n",
    "\n",
    "            for j, t in enumerate(G[i]):\n",
    "                if t < INF:\n",
    "                    dfs(j, time + t, visited | (1 << j))\n",
    "        dfs(K - 1)\n",
    "        return res if res != INF else -1"
   ]
  },
  {
   "cell_type": "code",
   "execution_count": 19,
   "metadata": {},
   "outputs": [
    {
     "name": "stdout",
     "output_type": "stream",
     "text": [
      "2 0b0 0b11111\n",
      "1 0b1 0b11111\n",
      "3 0b100 0b11111\n",
      "4 0b1100 0b11111\n"
     ]
    },
    {
     "data": {
      "text/plain": [
       "-1"
      ]
     },
     "execution_count": 19,
     "metadata": {},
     "output_type": "execute_result"
    }
   ],
   "source": [
    "Solution().networkDelayTime(times = [[2,1,1],[2,3,1],[3,4,1]], N = 4, K = 2)"
   ]
  },
  {
   "cell_type": "code",
   "execution_count": 11,
   "metadata": {},
   "outputs": [
    {
     "data": {
      "text/plain": [
       "'0b1000'"
      ]
     },
     "execution_count": 11,
     "metadata": {},
     "output_type": "execute_result"
    }
   ],
   "source": [
    "bin(8)"
   ]
  },
  {
   "cell_type": "markdown",
   "metadata": {},
   "source": [
    "`END`是一个`defaultdict`，我因为做错了思路只用了1 bit的信息量，所以改起来比较难了"
   ]
  },
  {
   "cell_type": "code",
   "execution_count": 20,
   "metadata": {},
   "outputs": [],
   "source": [
    "class Solution:\n",
    "    def networkDelayTime(self, times, N, K):\n",
    "        t, graph, q = [0] + [float(\"inf\")] * N, collections.defaultdict(list), collections.deque([(0, K)])\n",
    "        for u, v, w in times:\n",
    "            graph[u].append((v, w))\n",
    "        while q:\n",
    "            time, node = q.popleft()\n",
    "            if time < t[node]:\n",
    "                t[node] = time\n",
    "                for v, w in graph[node]:\n",
    "                    q.append((time + w, v))\n",
    "        mx = max(t)\n",
    "        return mx if mx < float(\"inf\") else -1"
   ]
  },
  {
   "cell_type": "code",
   "execution_count": null,
   "metadata": {},
   "outputs": [],
   "source": []
  }
 ],
 "metadata": {
  "kernelspec": {
   "display_name": "Python 3",
   "language": "python",
   "name": "python3"
  },
  "language_info": {
   "codemirror_mode": {
    "name": "ipython",
    "version": 3
   },
   "file_extension": ".py",
   "mimetype": "text/x-python",
   "name": "python",
   "nbconvert_exporter": "python",
   "pygments_lexer": "ipython3",
   "version": "3.8.1"
  }
 },
 "nbformat": 4,
 "nbformat_minor": 4
}
