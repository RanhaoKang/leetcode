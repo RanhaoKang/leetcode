{
 "cells": [
  {
   "cell_type": "markdown",
   "metadata": {},
   "source": [
    "[63. Unique Paths II](https://leetcode.com/problems/unique-paths-ii/)"
   ]
  },
  {
   "cell_type": "code",
   "execution_count": 18,
   "metadata": {},
   "outputs": [],
   "source": [
    "class Solution:\n",
    "    def uniquePathsWithObstacles(self, obstacleGrid) -> int:\n",
    "        h, w = len(obstacleGrid), len(obstacleGrid and obstacleGrid[0])\n",
    "        dp = [[0] * w for _ in range(h)]\n",
    "        \n",
    "        for i in range(h):\n",
    "            for j in range(w):\n",
    "                if obstacleGrid[i][j]:\n",
    "                    dp[i][j] = 0\n",
    "                    continue\n",
    "                \n",
    "                if i == 0 and j == 0:\n",
    "                    if obstacleGrid[i][j]:\n",
    "                        return 0\n",
    "                    else:\n",
    "                        dp[i][j] = 1\n",
    "                elif i == 0:\n",
    "                    dp[i][j] = dp[i][j - 1]\n",
    "                elif j == 0:\n",
    "                    dp[i][j] = dp[i - 1][j]\n",
    "                else:\n",
    "                    dp[i][j] = dp[i - 1][j] + dp[i][j - 1]\n",
    "        \n",
    "        return dp[-1][-1]"
   ]
  },
  {
   "cell_type": "code",
   "execution_count": 17,
   "metadata": {},
   "outputs": [
    {
     "data": {
      "text/plain": [
       "0"
      ]
     },
     "execution_count": 17,
     "metadata": {},
     "output_type": "execute_result"
    }
   ],
   "source": [
    "Solution().uniquePathsWithObstacles([[0,0],[1,1],[0,0]])"
   ]
  },
  {
   "cell_type": "code",
   "execution_count": null,
   "metadata": {},
   "outputs": [],
   "source": []
  }
 ],
 "metadata": {
  "kernelspec": {
   "display_name": "Python 3",
   "language": "python",
   "name": "python3"
  },
  "language_info": {
   "codemirror_mode": {
    "name": "ipython",
    "version": 3
   },
   "file_extension": ".py",
   "mimetype": "text/x-python",
   "name": "python",
   "nbconvert_exporter": "python",
   "pygments_lexer": "ipython3",
   "version": "3.6.7"
  }
 },
 "nbformat": 4,
 "nbformat_minor": 2
}
