{
 "cells": [
  {
   "cell_type": "markdown",
   "metadata": {},
   "source": [
    "[52. N-Queens II](https://leetcode.com/problems/n-queens-ii/)"
   ]
  },
  {
   "cell_type": "code",
   "execution_count": 1,
   "metadata": {},
   "outputs": [],
   "source": [
    "class Solution:\n",
    "    def totalNQueens(self, n: int):\n",
    "        def DFS(queens, xy_dif, xy_sum):\n",
    "            p = len(queens)\n",
    "            if p==n:\n",
    "                result.append(queens)\n",
    "                return None\n",
    "            for q in range(n):\n",
    "                if q not in queens and p-q not in xy_dif and p+q not in xy_sum: \n",
    "                    DFS(queens+[q], xy_dif+[p-q], xy_sum+[p+q])  \n",
    "        result = []\n",
    "        DFS([],[],[])\n",
    "        return len([ [\".\"*i + \"Q\" + \".\"*(n-i-1) for i in sol] for sol in result])"
   ]
  },
  {
   "cell_type": "code",
   "execution_count": null,
   "metadata": {},
   "outputs": [],
   "source": []
  }
 ],
 "metadata": {
  "kernelspec": {
   "display_name": "Python 3",
   "language": "python",
   "name": "python3"
  },
  "language_info": {
   "codemirror_mode": {
    "name": "ipython",
    "version": 3
   },
   "file_extension": ".py",
   "mimetype": "text/x-python",
   "name": "python",
   "nbconvert_exporter": "python",
   "pygments_lexer": "ipython3",
   "version": "3.6.7"
  }
 },
 "nbformat": 4,
 "nbformat_minor": 2
}
