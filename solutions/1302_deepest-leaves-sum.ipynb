{
 "cells": [
  {
   "cell_type": "markdown",
   "metadata": {},
   "source": [
    "[1302. Deepest Leaves Sum](https://leetcode.com/problems/deepest-leaves-sum/)"
   ]
  },
  {
   "cell_type": "markdown",
   "metadata": {},
   "source": [
    "按level来遍历，120ms"
   ]
  },
  {
   "cell_type": "code",
   "execution_count": 17,
   "metadata": {},
   "outputs": [],
   "source": [
    "# Definition for a binary tree node.\n",
    "class TreeNode:\n",
    "    def __init__(self, x):\n",
    "        self.val = x\n",
    "        self.left = None\n",
    "        self.right = None\n",
    "\n",
    "class Solution:\n",
    "    def deepestLeavesSum(self, root: TreeNode) -> int:\n",
    "        cur = [root]\n",
    "        while True:\n",
    "            next = []\n",
    "            for p in cur:\n",
    "                if p.left:\n",
    "                    next.append(p.left)\n",
    "                if p.right:\n",
    "                    next.append(p.right)\n",
    "            if not next:\n",
    "                break\n",
    "            cur = [i for i in next]\n",
    "\n",
    "        return sum([p.val for p in cur])"
   ]
  },
  {
   "cell_type": "code",
   "execution_count": 18,
   "metadata": {},
   "outputs": [
    {
     "data": {
      "text/plain": [
       "15"
      ]
     },
     "execution_count": 18,
     "metadata": {},
     "output_type": "execute_result"
    }
   ],
   "source": [
    "p = TreeNode(1)\n",
    "p.left = TreeNode(2)\n",
    "p.left.left = TreeNode(4)\n",
    "p.left.left.left = TreeNode(7)\n",
    "p.left.right = TreeNode(5)\n",
    "p.right = TreeNode(3)\n",
    "p.right.right = TreeNode(6)\n",
    "p.right.right.right = TreeNode(8)\n",
    "\n",
    "Solution().deepestLeavesSum(p)"
   ]
  },
  {
   "cell_type": "markdown",
   "metadata": {},
   "source": [
    "改`cur`和`next`为`pre`和`cur`就可以少这么多代码吗！（好像是强行合并了两个`for`）,72ms"
   ]
  },
  {
   "cell_type": "markdown",
   "metadata": {},
   "source": [
    "提速应该主要是因为生成式替代`append`"
   ]
  },
  {
   "cell_type": "code",
   "execution_count": 19,
   "metadata": {},
   "outputs": [],
   "source": [
    "class Solution:\n",
    "    def deepestLeavesSum(self, root: TreeNode) -> int:\n",
    "        pre, queue = [], [root]\n",
    "        while queue:\n",
    "            pre, queue = queue, [leaf for q in queue for leaf in [q.left, q.right] if leaf]\n",
    "        return sum([p.val for p in pre])"
   ]
  },
  {
   "cell_type": "markdown",
   "metadata": {},
   "source": [
    "另外发现\n",
    "- `return sum([p.val for p in pre])`: 88ms\n",
    "- `return sum(p.val for p in pre)`: 136ms\n",
    "\n",
    "？？？"
   ]
  },
  {
   "cell_type": "markdown",
   "metadata": {},
   "source": [
    "但是基于这个发现修改了自己的解法，反而更慢了……"
   ]
  },
  {
   "cell_type": "code",
   "execution_count": null,
   "metadata": {},
   "outputs": [],
   "source": []
  }
 ],
 "metadata": {
  "kernelspec": {
   "display_name": "Python 3",
   "language": "python",
   "name": "python3"
  },
  "language_info": {
   "codemirror_mode": {
    "name": "ipython",
    "version": 3
   },
   "file_extension": ".py",
   "mimetype": "text/x-python",
   "name": "python",
   "nbconvert_exporter": "python",
   "pygments_lexer": "ipython3",
   "version": "3.8.1"
  }
 },
 "nbformat": 4,
 "nbformat_minor": 2
}
