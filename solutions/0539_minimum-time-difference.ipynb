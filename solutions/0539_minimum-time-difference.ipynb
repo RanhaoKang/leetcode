{
 "cells": [
  {
   "cell_type": "markdown",
   "metadata": {},
   "source": [
    "[539. Minimum Time Difference](https://leetcode.com/problems/minimum-time-difference/)"
   ]
  },
  {
   "cell_type": "markdown",
   "metadata": {},
   "source": [
    "给定时间(HH:MM)序列, 输出最小的差"
   ]
  },
  {
   "cell_type": "code",
   "execution_count": null,
   "metadata": {},
   "outputs": [],
   "source": [
    "class Solution:\n",
    "    def findMinDifference(self, tps):\n",
    "        \"\"\"\n",
    "        :type timePoints: List[str]\n",
    "        :rtype: int\n",
    "        \"\"\"\n",
    "        def toint(s):\n",
    "            h, m = s.split(':')\n",
    "            return int(h)*60+int(m)\n",
    "        \n",
    "        arr = sorted(map(toint, tps))\n",
    "        \n",
    "        mini = sys.maxsize\n",
    "        for i in range(len(arr)-1):\n",
    "            mini = min(arr[i+1]-arr[i], mini)\n",
    "            if mini==0:\n",
    "                return 0\n",
    "        \n",
    "        mini = min(mini, 24*60-(arr[-1]-arr[0]))\n",
    "        return mini"
   ]
  }
 ],
 "metadata": {
  "kernelspec": {
   "display_name": "Python 3",
   "language": "python",
   "name": "python3"
  },
  "language_info": {
   "codemirror_mode": {
    "name": "ipython",
    "version": 3
   },
   "file_extension": ".py",
   "mimetype": "text/x-python",
   "name": "python",
   "nbconvert_exporter": "python",
   "pygments_lexer": "ipython3",
   "version": "3.6.7"
  }
 },
 "nbformat": 4,
 "nbformat_minor": 2
}
