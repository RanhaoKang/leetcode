{
 "cells": [
  {
   "cell_type": "markdown",
   "metadata": {},
   "source": [
    "[621. Task Scheduler](https://leetcode.com/problems/task-scheduler/)"
   ]
  },
  {
   "cell_type": "code",
   "execution_count": 1,
   "metadata": {},
   "outputs": [
    {
     "ename": "SyntaxError",
     "evalue": "invalid syntax (<ipython-input-1-64781e7a31a7>, line 17)",
     "output_type": "error",
     "traceback": [
      "\u001b[0;36m  File \u001b[0;32m\"<ipython-input-1-64781e7a31a7>\"\u001b[0;36m, line \u001b[0;32m17\u001b[0m\n\u001b[0;31m    if\u001b[0m\n\u001b[0m       ^\u001b[0m\n\u001b[0;31mSyntaxError\u001b[0m\u001b[0;31m:\u001b[0m invalid syntax\n"
     ]
    }
   ],
   "source": [
    "class Solution:\n",
    "    def leastInterval(self, tasks, n: int) -> int:\n",
    "        from collections import Counter\n",
    "        counter = Counter(tasks)\n",
    "        \n",
    "        most_common = counter.most_common()\n",
    "        \n",
    "        # 如(\"A\", 3), 则说明我们要花3个周期完成\n",
    "        num_intervals = most_common[0][1]\n",
    "        idle_per_interval = [n] * num_intervals\n",
    "        most_common.pop(0)\n",
    "        \n",
    "        for i, j in most_common:\n",
    "            # j个interval的idle可以减少1\n",
    "            for k in range(num_intervals):\n",
    "                idle_per_interval[k] -= 1\n",
    "                if \n",
    "            idle_per_interval -= 1\n",
    "        \n",
    "        # 在每一个周期内, 我们先进行A, 然后使用其他task和idle填满空白\n",
    "        \n",
    "        # 计算其他task够不够填充周期内的空白\n",
    "        num_others = len(tasks) - most_frequent[1]\n",
    "        \n",
    "        return max(n * (most_frequent[1] - 1) - num_others, 0) + len(tasks)"
   ]
  },
  {
   "cell_type": "code",
   "execution_count": 34,
   "metadata": {},
   "outputs": [
    {
     "name": "stdout",
     "output_type": "stream",
     "text": [
      "('A', 3)\n"
     ]
    },
    {
     "data": {
      "text/plain": [
       "7"
      ]
     },
     "execution_count": 34,
     "metadata": {},
     "output_type": "execute_result"
    }
   ],
   "source": [
    "Solution().leastInterval([\"A\",\"A\",\"A\",\"B\",\"B\",\"B\"], 2)"
   ]
  },
  {
   "cell_type": "code",
   "execution_count": 8,
   "metadata": {},
   "outputs": [],
   "source": [
    "a = [1,2,3,4,5]\n",
    "for i in a:\n",
    "    if i == 2:\n",
    "        a.remove(i)"
   ]
  },
  {
   "cell_type": "code",
   "execution_count": 9,
   "metadata": {},
   "outputs": [
    {
     "data": {
      "text/plain": [
       "[1, 3, 4, 5]"
      ]
     },
     "execution_count": 9,
     "metadata": {},
     "output_type": "execute_result"
    }
   ],
   "source": [
    "a"
   ]
  },
  {
   "cell_type": "code",
   "execution_count": null,
   "metadata": {},
   "outputs": [],
   "source": []
  }
 ],
 "metadata": {
  "kernelspec": {
   "display_name": "Python 3",
   "language": "python",
   "name": "python3"
  },
  "language_info": {
   "codemirror_mode": {
    "name": "ipython",
    "version": 3
   },
   "file_extension": ".py",
   "mimetype": "text/x-python",
   "name": "python",
   "nbconvert_exporter": "python",
   "pygments_lexer": "ipython3",
   "version": "3.6.7"
  }
 },
 "nbformat": 4,
 "nbformat_minor": 2
}
