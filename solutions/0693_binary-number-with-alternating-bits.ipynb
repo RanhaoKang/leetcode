{
 "cells": [
  {
   "cell_type": "markdown",
   "metadata": {},
   "source": [
    "[693. Binary Number with Alternating Bits](https://leetcode.com/problems/binary-number-with-alternating-bits/)"
   ]
  },
  {
   "cell_type": "markdown",
   "metadata": {},
   "source": [
    "移位1次"
   ]
  },
  {
   "cell_type": "code",
   "execution_count": 1,
   "metadata": {},
   "outputs": [],
   "source": [
    "class Solution:\n",
    "    def hasAlternatingBits(self, n: int) -> bool:\n",
    "        last = n & 1\n",
    "        n >>= 1\n",
    "        while n:\n",
    "            if last == (n & 1):\n",
    "                return False\n",
    "            last = n & 1\n",
    "            n >>= 1\n",
    "        return True"
   ]
  },
  {
   "cell_type": "markdown",
   "metadata": {},
   "source": [
    "不需要逐位判断, 因为Alternating Bits的pattern很简单, 010101或0101010. 特征有\n",
    "- 01交替出现 => 与自身移1位的结果做AND运算, 结果应为0\n",
    "- 重复的pattern"
   ]
  },
  {
   "cell_type": "code",
   "execution_count": 4,
   "metadata": {},
   "outputs": [],
   "source": [
    "class Solution:\n",
    "    def hasAlternatingBits(self, n: int) -> bool:\n",
    "        # (n & (n >> 1)) == 0: 如果是01交替出现, 移1位后是没有相等的位的\n",
    "        # (n & (n >> 2)) == (n >> 2): 如0b100移位后0b10, 也没有相等的位, 这个pattern要求的是重复性\n",
    "        return (n & (n >> 1)) == 0 and (n & (n >> 2)) == (n >> 2)"
   ]
  },
  {
   "cell_type": "code",
   "execution_count": null,
   "metadata": {},
   "outputs": [],
   "source": []
  }
 ],
 "metadata": {
  "kernelspec": {
   "display_name": "Python 3",
   "language": "python",
   "name": "python3"
  },
  "language_info": {
   "codemirror_mode": {
    "name": "ipython",
    "version": 3
   },
   "file_extension": ".py",
   "mimetype": "text/x-python",
   "name": "python",
   "nbconvert_exporter": "python",
   "pygments_lexer": "ipython3",
   "version": "3.6.7"
  }
 },
 "nbformat": 4,
 "nbformat_minor": 2
}
