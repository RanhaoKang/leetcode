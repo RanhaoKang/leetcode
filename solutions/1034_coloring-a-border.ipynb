{
 "cells": [
  {
   "cell_type": "markdown",
   "metadata": {},
   "source": [
    "[1034. Coloring A Border](https://leetcode.com/problems/coloring-a-border/)"
   ]
  },
  {
   "cell_type": "code",
   "execution_count": 1,
   "metadata": {},
   "outputs": [],
   "source": [
    "class Solution:\n",
    "    def colorBorder(self, grid, r0: int, c0: int, color: int):\n",
    "        seen, m, n = set(), len(grid), len(grid[0])\n",
    "\n",
    "        def dfs(x, y):\n",
    "            if (x, y) in seen:\n",
    "                return True\n",
    "            \n",
    "            if not (0 <= x < m and 0 <= y < n and grid[x][y] == grid[r0][c0]):\n",
    "                return False\n",
    "\n",
    "            seen.add((x, y))\n",
    "            if dfs(x + 1, y) + dfs(x - 1, y) + dfs(x, y + 1) + dfs(x, y - 1) < 4:\n",
    "                grid[x][y] = color\n",
    "\n",
    "            return True\n",
    "\n",
    "        dfs(r0, c0)\n",
    "        return grid"
   ]
  },
  {
   "cell_type": "code",
   "execution_count": null,
   "metadata": {},
   "outputs": [],
   "source": []
  }
 ],
 "metadata": {
  "kernelspec": {
   "display_name": "Python 3",
   "language": "python",
   "name": "python3"
  },
  "language_info": {
   "codemirror_mode": {
    "name": "ipython",
    "version": 3
   },
   "file_extension": ".py",
   "mimetype": "text/x-python",
   "name": "python",
   "nbconvert_exporter": "python",
   "pygments_lexer": "ipython3",
   "version": "3.8.1"
  }
 },
 "nbformat": 4,
 "nbformat_minor": 4
}
