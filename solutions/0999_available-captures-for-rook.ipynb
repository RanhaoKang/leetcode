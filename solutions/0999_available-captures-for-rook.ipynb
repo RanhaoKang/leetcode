{
 "cells": [
  {
   "cell_type": "markdown",
   "metadata": {},
   "source": [
    "[999. Available Captures for Rook](https://leetcode.com/problems/available-captures-for-rook/)"
   ]
  },
  {
   "cell_type": "code",
   "execution_count": 21,
   "metadata": {},
   "outputs": [],
   "source": [
    "class Solution:\n",
    "    def numRookCaptures(self, board) -> int:\n",
    "        \n",
    "        def find_rook():\n",
    "            for i in range(8):\n",
    "                for j in range(8):\n",
    "                    if board[i][j] == \"R\":\n",
    "                        return i, j\n",
    "        \n",
    "        def search(ii, ij):\n",
    "            i, j = I + ii, J + ij\n",
    "            while 0 <= i < 8 and 0 <= j < 8:\n",
    "                if board[i][j] != '.':\n",
    "                    return board[i][j] == 'p'\n",
    "                i, j = i + ii, j + ij\n",
    "            \n",
    "            return False\n",
    "\n",
    "        I, J = find_rook()\n",
    "        return sum([\n",
    "            search(-1,  0),\n",
    "            search( 1,  0),\n",
    "            search( 0, -1),\n",
    "            search( 0,  1),\n",
    "        ])"
   ]
  },
  {
   "cell_type": "code",
   "execution_count": 20,
   "metadata": {},
   "outputs": [
    {
     "data": {
      "text/plain": [
       "0"
      ]
     },
     "execution_count": 20,
     "metadata": {},
     "output_type": "execute_result"
    }
   ],
   "source": [
    "a = [\n",
    "    [\".\",\".\",\".\",\".\",\".\",\".\",\".\",\".\"],\n",
    "    [\".\",\"p\",\"p\",\"p\",\"p\",\"p\",\".\",\".\"],\n",
    "    [\".\",\"p\",\"p\",\"B\",\"p\",\"p\",\".\",\".\"],\n",
    "    [\".\",\"p\",\"B\",\"R\",\"B\",\"p\",\".\",\".\"],\n",
    "    [\".\",\"p\",\"p\",\"B\",\"p\",\"p\",\".\",\".\"],\n",
    "    [\".\",\"p\",\"p\",\"p\",\"p\",\"p\",\".\",\".\"],\n",
    "    [\".\",\".\",\".\",\".\",\".\",\".\",\".\",\".\"],\n",
    "    [\".\",\".\",\".\",\".\",\".\",\".\",\".\",\".\"]\n",
    "]\n",
    "Solution().numRookCaptures(a)"
   ]
  },
  {
   "cell_type": "code",
   "execution_count": null,
   "metadata": {},
   "outputs": [],
   "source": []
  }
 ],
 "metadata": {
  "kernelspec": {
   "display_name": "Python 3",
   "language": "python",
   "name": "python3"
  },
  "language_info": {
   "codemirror_mode": {
    "name": "ipython",
    "version": 3
   },
   "file_extension": ".py",
   "mimetype": "text/x-python",
   "name": "python",
   "nbconvert_exporter": "python",
   "pygments_lexer": "ipython3",
   "version": "3.8.0b3"
  }
 },
 "nbformat": 4,
 "nbformat_minor": 2
}
