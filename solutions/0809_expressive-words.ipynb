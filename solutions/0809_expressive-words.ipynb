{
 "cells": [
  {
   "cell_type": "markdown",
   "metadata": {},
   "source": [
    "[809. Expressive Words](https://leetcode.com/problems/expressive-words/)"
   ]
  },
  {
   "cell_type": "code",
   "execution_count": 28,
   "metadata": {},
   "outputs": [],
   "source": [
    "class Solution:\n",
    "    def expressiveWords(self, S: str, words) -> int:\n",
    "        from itertools import groupby\n",
    "        def group(s):\n",
    "            return [(k, len(list(g))) for k, g in groupby(s)]\n",
    "\n",
    "        S = group(S)\n",
    "        \n",
    "        def check(a):\n",
    "            if len(S) != len(a):\n",
    "                return False\n",
    "            for (k0, v0), (k, v) in zip(S, a):\n",
    "                if k0 != k:\n",
    "                    return False\n",
    "                if 3 > v0 > v:\n",
    "                    return False\n",
    "                if v > v0:\n",
    "                    return False\n",
    "            return True\n",
    "        \n",
    "        return sum(check(group(word)) for word in words)\n",
    "        "
   ]
  },
  {
   "cell_type": "code",
   "execution_count": 29,
   "metadata": {},
   "outputs": [
    {
     "data": {
      "text/plain": [
       "1"
      ]
     },
     "execution_count": 29,
     "metadata": {},
     "output_type": "execute_result"
    }
   ],
   "source": [
    "Solution().expressiveWords(S = \"heeellooo\", words = [\"hello\", \"hi\", \"helo\"])"
   ]
  },
  {
   "cell_type": "code",
   "execution_count": 30,
   "metadata": {},
   "outputs": [
    {
     "data": {
      "text/plain": [
       "['zzyy', 'zy', 'zyy']"
      ]
     },
     "execution_count": 30,
     "metadata": {},
     "output_type": "execute_result"
    }
   ],
   "source": [
    "\"zzzzzyyyyy\"\n",
    "[\"zzyy\",\"zy\",\"zyy\"]"
   ]
  },
  {
   "cell_type": "code",
   "execution_count": 27,
   "metadata": {},
   "outputs": [
    {
     "name": "stdout",
     "output_type": "stream",
     "text": [
      "[('z', 2), ('y', 2)]\n",
      "[('z', 1), ('y', 1)]\n",
      "[('z', 1), ('y', 2)]\n"
     ]
    },
    {
     "data": {
      "text/plain": [
       "3"
      ]
     },
     "execution_count": 27,
     "metadata": {},
     "output_type": "execute_result"
    }
   ],
   "source": [
    "Solution().expressiveWords('zzzzzyyyyy', [\"zzyy\",\"zy\",\"zyy\"])"
   ]
  },
  {
   "cell_type": "code",
   "execution_count": null,
   "metadata": {},
   "outputs": [],
   "source": []
  }
 ],
 "metadata": {
  "kernelspec": {
   "display_name": "Python 3",
   "language": "python",
   "name": "python3"
  },
  "language_info": {
   "codemirror_mode": {
    "name": "ipython",
    "version": 3
   },
   "file_extension": ".py",
   "mimetype": "text/x-python",
   "name": "python",
   "nbconvert_exporter": "python",
   "pygments_lexer": "ipython3",
   "version": "3.8.1"
  }
 },
 "nbformat": 4,
 "nbformat_minor": 4
}
