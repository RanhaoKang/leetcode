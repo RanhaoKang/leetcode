{
 "cells": [
  {
   "cell_type": "markdown",
   "metadata": {},
   "source": [
    "[860. Lemonade Change](https://leetcode.com/problems/lemonade-change/)"
   ]
  },
  {
   "cell_type": "code",
   "execution_count": 2,
   "metadata": {},
   "outputs": [],
   "source": [
    "class Solution:\n",
    "    def lemonadeChange(self, bills: 'List[int]') -> 'bool':\n",
    "        changes = {\n",
    "            5: 0,\n",
    "            10: 0\n",
    "        }\n",
    "        \n",
    "        for bill in bills:\n",
    "            if bill == 5:\n",
    "                changes[5] += 1\n",
    "            elif bill  == 10:\n",
    "                if changes[5]:\n",
    "                    changes[5] -= 1\n",
    "                    changes[10] += 1\n",
    "                else:\n",
    "                    return False\n",
    "            else:\n",
    "                if changes[10] and changes[5]:\n",
    "                    changes[10] -= 1\n",
    "                    changes[5] -= 1\n",
    "                elif changes[5] >= 3:\n",
    "                    changes[5] -= 3\n",
    "                else:\n",
    "                    return False\n",
    "        \n",
    "        return True"
   ]
  },
  {
   "cell_type": "code",
   "execution_count": null,
   "metadata": {},
   "outputs": [],
   "source": []
  }
 ],
 "metadata": {
  "kernelspec": {
   "display_name": "Python 3",
   "language": "python",
   "name": "python3"
  },
  "language_info": {
   "codemirror_mode": {
    "name": "ipython",
    "version": 3
   },
   "file_extension": ".py",
   "mimetype": "text/x-python",
   "name": "python",
   "nbconvert_exporter": "python",
   "pygments_lexer": "ipython3",
   "version": "3.6.7"
  }
 },
 "nbformat": 4,
 "nbformat_minor": 2
}
