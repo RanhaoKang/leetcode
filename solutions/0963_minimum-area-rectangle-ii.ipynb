{
 "cells": [
  {
   "cell_type": "markdown",
   "metadata": {},
   "source": [
    "[963. Minimum Area Rectangle II](https://leetcode.com/problems/minimum-area-rectangle-ii/)"
   ]
  },
  {
   "cell_type": "code",
   "execution_count": 5,
   "metadata": {},
   "outputs": [],
   "source": [
    "import itertools\n",
    "\n",
    "class Solution:\n",
    "    def minAreaFreeRect(self, points) -> float:\n",
    "        EPS = 1e-7\n",
    "        points = set(map(tuple, points))\n",
    "        res = float('inf')\n",
    "        \n",
    "        for p1, p2, p3 in itertools.permutations(points, 3):\n",
    "            p4 = p2[0] + p3[0] - p1[0], p2[1] + p3[1] - p1[1]\n",
    "            if p4 not in points:\n",
    "                continue\n",
    "            v21 = complex(p2[0] - p1[0], p2[1] - p1[1])\n",
    "            v31 = complex(p3[0] - p1[0], p3[1] - p1[1])\n",
    "            if abs(v21.real * v31.real + v21.imag * v31.imag) < EPS:\n",
    "                area = abs(v21) * abs(v31)\n",
    "                if area < res:\n",
    "                    res = area\n",
    "          \n",
    "        return res if res < float('inf') else 0  "
   ]
  },
  {
   "cell_type": "code",
   "execution_count": null,
   "metadata": {},
   "outputs": [],
   "source": []
  }
 ],
 "metadata": {
  "kernelspec": {
   "display_name": "Python 3",
   "language": "python",
   "name": "python3"
  },
  "language_info": {
   "codemirror_mode": {
    "name": "ipython",
    "version": 3
   },
   "file_extension": ".py",
   "mimetype": "text/x-python",
   "name": "python",
   "nbconvert_exporter": "python",
   "pygments_lexer": "ipython3",
   "version": "3.6.7"
  }
 },
 "nbformat": 4,
 "nbformat_minor": 2
}
