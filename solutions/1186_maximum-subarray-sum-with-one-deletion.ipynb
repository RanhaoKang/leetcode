{
 "cells": [
  {
   "cell_type": "markdown",
   "metadata": {},
   "source": [
    "[1186. Maximum Subarray Sum with One Deletion](https://leetcode.com/problems/maximum-subarray-sum-with-one-deletion/)"
   ]
  },
  {
   "cell_type": "code",
   "execution_count": 10,
   "metadata": {},
   "outputs": [],
   "source": [
    "class Solution:\n",
    "    def maximumSum(self, A) -> int:\n",
    "        ignored, not_ignored, res = 0, 0, A[0]\n",
    "        \n",
    "        for num in A:\n",
    "            if num >= 0:\n",
    "                ignored += num\n",
    "                not_ignored += num\n",
    "            else:\n",
    "                ignored = max(ignored + num, not_ignored)\n",
    "                not_ignored += num\n",
    "                \n",
    "            res = max([res, ignored if ignored != 0 else float('-inf'), not_ignored if not_ignored != 0 else float('-inf')])\n",
    "            ignored, not_ignored = max(0, ignored), max(0, not_ignored)\n",
    "\n",
    "        return max(res, max(A))"
   ]
  },
  {
   "cell_type": "code",
   "execution_count": 11,
   "metadata": {},
   "outputs": [
    {
     "data": {
      "text/plain": [
       "4"
      ]
     },
     "execution_count": 11,
     "metadata": {},
     "output_type": "execute_result"
    }
   ],
   "source": [
    "Solution().maximumSum([1,-2,0,3])"
   ]
  },
  {
   "cell_type": "code",
   "execution_count": null,
   "metadata": {},
   "outputs": [],
   "source": []
  }
 ],
 "metadata": {
  "kernelspec": {
   "display_name": "Python 3",
   "language": "python",
   "name": "python3"
  },
  "language_info": {
   "codemirror_mode": {
    "name": "ipython",
    "version": 3
   },
   "file_extension": ".py",
   "mimetype": "text/x-python",
   "name": "python",
   "nbconvert_exporter": "python",
   "pygments_lexer": "ipython3",
   "version": "3.8.1"
  }
 },
 "nbformat": 4,
 "nbformat_minor": 4
}
