{
 "cells": [
  {
   "cell_type": "markdown",
   "metadata": {},
   "source": [
    "[25. Reverse Nodes in k-Group](https://leetcode.com/problems/reverse-nodes-in-k-group/)"
   ]
  },
  {
   "cell_type": "code",
   "execution_count": 48,
   "metadata": {},
   "outputs": [],
   "source": [
    "# Definition for singly-linked list.\n",
    "class ListNode:\n",
    "    def __init__(self, x):\n",
    "        self.val = x\n",
    "        self.next = None\n",
    "\n",
    "class Solution:\n",
    "    \n",
    "    def reverseList(self, head: 'ListNode') -> 'ListNode':\n",
    "        new_head = ListNode(-1)\n",
    "\n",
    "        p = head\n",
    "        while p:\n",
    "            tmp = p.next\n",
    "            p.next = new_head.next\n",
    "            new_head.next = p\n",
    "            p = tmp\n",
    "        \n",
    "        return new_head.next\n",
    "    \n",
    "    \n",
    "    def reverseKGroup(self, head: ListNode, k: int) -> ListNode:\n",
    "        if k == 1:\n",
    "            return head\n",
    "        \n",
    "        dummy = ListNode(None)\n",
    "        dummy.next = head\n",
    "        \n",
    "        \n",
    "        def solve(node):\n",
    "            # jump to the end of group or early break\n",
    "            p = node\n",
    "            \n",
    "            for i in range(k):\n",
    "                try:\n",
    "                    p = p.next\n",
    "                except AttributeError:\n",
    "                    return node.next\n",
    "                \n",
    "            if p:\n",
    "                next_rev = solve(p)\n",
    "                # split the list\n",
    "                p.next = None\n",
    "                # the head node will be the tail after reversing\n",
    "                rev_tail = node.next\n",
    "                rev_head = self.reverseList(node.next)\n",
    "                rev_tail.next = next_rev\n",
    "\n",
    "                return rev_head\n",
    "            else:\n",
    "                return node.next\n",
    "        \n",
    "        return solve(dummy)\n",
    "        \n",
    "        \n",
    "        "
   ]
  },
  {
   "cell_type": "code",
   "execution_count": 49,
   "metadata": {},
   "outputs": [],
   "source": [
    "p = ListNode(1)\n",
    "p.next = ListNode(2)\n",
    "p.next.next = ListNode(3)\n",
    "p.next.next.next = ListNode(4)\n",
    "p.next.next.next.next = ListNode(5)\n",
    "\n",
    "q = Solution().reverseKGroup(p, 3)"
   ]
  },
  {
   "cell_type": "code",
   "execution_count": 50,
   "metadata": {},
   "outputs": [
    {
     "data": {
      "text/plain": [
       "3"
      ]
     },
     "execution_count": 50,
     "metadata": {},
     "output_type": "execute_result"
    }
   ],
   "source": [
    "q.val"
   ]
  },
  {
   "cell_type": "code",
   "execution_count": 51,
   "metadata": {},
   "outputs": [
    {
     "data": {
      "text/plain": [
       "2"
      ]
     },
     "execution_count": 51,
     "metadata": {},
     "output_type": "execute_result"
    }
   ],
   "source": [
    "q.next.val"
   ]
  },
  {
   "cell_type": "code",
   "execution_count": 52,
   "metadata": {},
   "outputs": [
    {
     "data": {
      "text/plain": [
       "1"
      ]
     },
     "execution_count": 52,
     "metadata": {},
     "output_type": "execute_result"
    }
   ],
   "source": [
    "q.next.next.val"
   ]
  },
  {
   "cell_type": "code",
   "execution_count": 53,
   "metadata": {},
   "outputs": [
    {
     "data": {
      "text/plain": [
       "4"
      ]
     },
     "execution_count": 53,
     "metadata": {},
     "output_type": "execute_result"
    }
   ],
   "source": [
    "q.next.next.next.val"
   ]
  },
  {
   "cell_type": "code",
   "execution_count": 54,
   "metadata": {},
   "outputs": [
    {
     "data": {
      "text/plain": [
       "5"
      ]
     },
     "execution_count": 54,
     "metadata": {},
     "output_type": "execute_result"
    }
   ],
   "source": [
    "q.next.next.next.next.val"
   ]
  },
  {
   "cell_type": "code",
   "execution_count": null,
   "metadata": {},
   "outputs": [],
   "source": []
  }
 ],
 "metadata": {
  "kernelspec": {
   "display_name": "Python 3",
   "language": "python",
   "name": "python3"
  },
  "language_info": {
   "codemirror_mode": {
    "name": "ipython",
    "version": 3
   },
   "file_extension": ".py",
   "mimetype": "text/x-python",
   "name": "python",
   "nbconvert_exporter": "python",
   "pygments_lexer": "ipython3",
   "version": "3.6.7"
  }
 },
 "nbformat": 4,
 "nbformat_minor": 2
}
