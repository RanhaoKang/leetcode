{
 "cells": [
  {
   "cell_type": "markdown",
   "metadata": {},
   "source": [
    "[690. Employee Importance](https://leetcode.com/problems/employee-importance/)"
   ]
  },
  {
   "cell_type": "markdown",
   "metadata": {},
   "source": [
    "DFS"
   ]
  },
  {
   "cell_type": "code",
   "execution_count": 2,
   "metadata": {},
   "outputs": [],
   "source": [
    "\"\"\"\n",
    "# Employee info\n",
    "class Employee:\n",
    "    def __init__(self, id: int, importance: int, subordinates: List[int]):\n",
    "        # It's the unique id of each node.\n",
    "        # unique id of this employee\n",
    "        self.id = id\n",
    "        # the importance value of this employee\n",
    "        self.importance = importance\n",
    "        # the id of direct subordinates\n",
    "        self.subordinates = subordinates\n",
    "\"\"\"\n",
    "class Solution:\n",
    "    def getImportance(self, employees, id: int) -> int:\n",
    "        res, stack = 0, [id]\n",
    "        employees = {i.id: i for i in employees}\n",
    "        \n",
    "        while stack:\n",
    "            id = stack.pop()\n",
    "            res += employees[id].importance\n",
    "            stack += employees[id].subordinates\n",
    "        \n",
    "        return res"
   ]
  },
  {
   "cell_type": "code",
   "execution_count": null,
   "metadata": {},
   "outputs": [],
   "source": []
  }
 ],
 "metadata": {
  "kernelspec": {
   "display_name": "Python 3",
   "language": "python",
   "name": "python3"
  },
  "language_info": {
   "codemirror_mode": {
    "name": "ipython",
    "version": 3
   },
   "file_extension": ".py",
   "mimetype": "text/x-python",
   "name": "python",
   "nbconvert_exporter": "python",
   "pygments_lexer": "ipython3",
   "version": "3.8.0b3"
  }
 },
 "nbformat": 4,
 "nbformat_minor": 2
}
