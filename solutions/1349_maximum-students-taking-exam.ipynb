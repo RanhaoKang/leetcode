{
 "cells": [
  {
   "cell_type": "markdown",
   "metadata": {},
   "source": [
    "[1349. Maximum Students Taking Exam](https://leetcode.com/problems/maximum-students-taking-exam/)"
   ]
  },
  {
   "cell_type": "markdown",
   "metadata": {},
   "source": [
    "https://leetcode.com/problems/maximum-students-taking-exam/discuss/503686/A-simple-tutorial-on-this-bitmasking-problem\n",
    "\n",
    "https://leetcode.com/problems/maximum-students-taking-exam/discuss/503790/Python-Hungarian-Time-O(m2*n2)-Space-O(m*n)-beat-100"
   ]
  },
  {
   "cell_type": "code",
   "execution_count": null,
   "metadata": {},
   "outputs": [],
   "source": [
    "class Solution:\n",
    "    def maxStudents(self, seats) -> int:\n",
    "        R, C = len(seats), len(seats[0])\n",
    "        \n",
    "        matching = [[-1] * C for _ in range(R)]\n",
    "        \n",
    "        def dfs(node, seen):\n",
    "            r, c = node\n",
    "            for nr, nc in [[r-1,c-1], [r,c-1],[r,c+1],[r-1,c+1],[r+1,c-1],[r+1,c+1]]: # assume a virtual edge connecting students who can spy\n",
    "                if 0 <= nr < R and 0 <= nc < C and seen[nr][nc] == False and seats[nr][nc] == '.':\n",
    "                    seen[nr][nc] = True\n",
    "                    if matching[nr][nc] == -1 or dfs(matching[nr][nc], seen):\n",
    "                        matching[nr][nc] = (r,c)\n",
    "                        return True\n",
    "            return False\n",
    "        \n",
    "        def Hungarian():\n",
    "            res = 0\n",
    "            for c in range(0,C,2):\n",
    "                for r in range(R):\n",
    "                    if seats[r][c] == '.':\n",
    "                        seen = [[False] * C for _ in range(R)]\n",
    "                        if dfs((r,c), seen):\n",
    "                            res += 1\n",
    "            return res\n",
    "        \n",
    "        res = Hungarian()\n",
    "                \n",
    "        count = 0\n",
    "        for r in range(R):\n",
    "            for c in range(C):\n",
    "                if seats[r][c] == '.':\n",
    "                    count += 1\n",
    "        return count - res"
   ]
  }
 ],
 "metadata": {
  "kernelspec": {
   "display_name": "Python 3",
   "language": "python",
   "name": "python3"
  },
  "language_info": {
   "codemirror_mode": {
    "name": "ipython",
    "version": 3
   },
   "file_extension": ".py",
   "mimetype": "text/x-python",
   "name": "python",
   "nbconvert_exporter": "python",
   "pygments_lexer": "ipython3",
   "version": "3.8.1"
  }
 },
 "nbformat": 4,
 "nbformat_minor": 4
}
