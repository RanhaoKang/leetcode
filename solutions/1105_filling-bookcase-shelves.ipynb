{
 "cells": [
  {
   "cell_type": "markdown",
   "metadata": {},
   "source": [
    "[1105. Filling Bookcase Shelves](https://leetcode.com/problems/filling-bookcase-shelves/)"
   ]
  },
  {
   "cell_type": "code",
   "execution_count": 47,
   "metadata": {},
   "outputs": [],
   "source": [
    "class Solution:\n",
    "    def minHeightShelves(self, books, shelf_width: int) -> int:\n",
    "        n = len(books)\n",
    "        dp = [float('inf') for _ in range(n + 1)]\n",
    "        dp[0] = 0\n",
    "        for i in range(1, n + 1):\n",
    "            max_width = shelf_width\n",
    "            max_height = 0\n",
    "            j = i - 1\n",
    "            while j >= 0 and max_width - books[j][0] >= 0:\n",
    "                max_width -= books[j][0]\n",
    "                max_height = max(max_height, books[j][1])\n",
    "                dp[i] = min(dp[i], dp[j] + max_height)\n",
    "                j -= 1\n",
    "        return dp[n]"
   ]
  },
  {
   "cell_type": "code",
   "execution_count": 48,
   "metadata": {},
   "outputs": [
    {
     "data": {
      "text/plain": [
       "6"
      ]
     },
     "execution_count": 48,
     "metadata": {},
     "output_type": "execute_result"
    }
   ],
   "source": [
    "Solution().minHeightShelves([[1,1],[2,3],[2,3],[1,1],[1,1],[1,1],[1,2]], shelf_width = 4)"
   ]
  },
  {
   "cell_type": "code",
   "execution_count": null,
   "metadata": {},
   "outputs": [],
   "source": []
  }
 ],
 "metadata": {
  "kernelspec": {
   "display_name": "Python 3",
   "language": "python",
   "name": "python3"
  },
  "language_info": {
   "codemirror_mode": {
    "name": "ipython",
    "version": 3
   },
   "file_extension": ".py",
   "mimetype": "text/x-python",
   "name": "python",
   "nbconvert_exporter": "python",
   "pygments_lexer": "ipython3",
   "version": "3.8.1"
  }
 },
 "nbformat": 4,
 "nbformat_minor": 4
}
