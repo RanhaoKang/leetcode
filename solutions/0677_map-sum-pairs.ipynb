{
 "cells": [
  {
   "cell_type": "markdown",
   "metadata": {},
   "source": [
    "[677. Map Sum Pairs](https://leetcode.com/problems/map-sum-pairs/)"
   ]
  },
  {
   "cell_type": "markdown",
   "metadata": {},
   "source": [
    "Trie"
   ]
  },
  {
   "cell_type": "code",
   "execution_count": 5,
   "metadata": {},
   "outputs": [],
   "source": [
    "import collections\n",
    "\n",
    "\n",
    "class TrieNode:\n",
    "    __slots__ = 'children', 'score'\n",
    "    def __init__(self):\n",
    "        self.children = collections.defaultdict(TrieNode)\n",
    "        self.score = 0\n",
    "\n",
    "        \n",
    "class MapSum:\n",
    "\n",
    "    def __init__(self):\n",
    "        \"\"\"\n",
    "        Initialize your data structure here.\n",
    "        \"\"\"\n",
    "        self.root = TrieNode()\n",
    "        self.map = collections.defaultdict(int)\n",
    "\n",
    "    def insert(self, key: str, val: int) -> None:\n",
    "        delta = val - self.map[key]\n",
    "        self.map[key] = val\n",
    "        p = self.root\n",
    "        for char in key:\n",
    "            p = p.children[char]\n",
    "            p.score += delta\n",
    "        \n",
    "\n",
    "    def sum(self, prefix: str) -> int:\n",
    "        p = self.root\n",
    "        for char in prefix:\n",
    "            if char not in p.children:\n",
    "                return 0\n",
    "            p = p.children[char]\n",
    "        \n",
    "        return p.score\n",
    "        \n",
    "\n",
    "\n",
    "# Your MapSum object will be instantiated and called as such:\n",
    "# obj = MapSum()\n",
    "# obj.insert(key,val)\n",
    "# param_2 = obj.sum(prefix)"
   ]
  },
  {
   "cell_type": "code",
   "execution_count": 6,
   "metadata": {},
   "outputs": [
    {
     "data": {
      "text/plain": [
       "5"
      ]
     },
     "execution_count": 6,
     "metadata": {},
     "output_type": "execute_result"
    }
   ],
   "source": [
    "ms = MapSum()\n",
    "ms.insert('apple', 3)\n",
    "ms.sum('ap')\n",
    "ms.insert('app', 2)\n",
    "ms.sum('ap')"
   ]
  },
  {
   "cell_type": "code",
   "execution_count": null,
   "metadata": {},
   "outputs": [],
   "source": []
  }
 ],
 "metadata": {
  "kernelspec": {
   "display_name": "Python 3",
   "language": "python",
   "name": "python3"
  },
  "language_info": {
   "codemirror_mode": {
    "name": "ipython",
    "version": 3
   },
   "file_extension": ".py",
   "mimetype": "text/x-python",
   "name": "python",
   "nbconvert_exporter": "python",
   "pygments_lexer": "ipython3",
   "version": "3.6.7"
  }
 },
 "nbformat": 4,
 "nbformat_minor": 2
}
