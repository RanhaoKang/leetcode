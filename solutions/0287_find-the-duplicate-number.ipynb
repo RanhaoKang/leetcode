{
 "cells": [
  {
   "cell_type": "markdown",
   "metadata": {},
   "source": [
    "[287. Find the Duplicate Number](https://leetcode.com/problems/find-the-duplicate-number/)"
   ]
  },
  {
   "cell_type": "markdown",
   "metadata": {},
   "source": [
    "比较直接地可以想到用`dict`\n",
    "题目要求的不魔改输入, $O(1)$额外空间, "
   ]
  },
  {
   "cell_type": "code",
   "execution_count": 12,
   "metadata": {},
   "outputs": [],
   "source": [
    "class Solution:\n",
    "    def findDuplicate(self, nums) -> int:\n",
    "        slow, fast = nums[0], nums[nums[0]]\n",
    "        \n",
    "        while slow != fast:\n",
    "            print(slow, fast)\n",
    "            slow, fast = nums[slow], nums[nums[fast]]\n",
    "            \n",
    "        \n",
    "        fast = 0\n",
    "        while slow != fast:\n",
    "            slow, fast = nums[slow], nums[fast]\n",
    "        \n",
    "        return slow\n",
    "    "
   ]
  },
  {
   "cell_type": "code",
   "execution_count": 13,
   "metadata": {},
   "outputs": [
    {
     "name": "stdout",
     "output_type": "stream",
     "text": [
      "1 3\n",
      "3 4\n",
      "2 4\n"
     ]
    },
    {
     "data": {
      "text/plain": [
       "2"
      ]
     },
     "execution_count": 13,
     "metadata": {},
     "output_type": "execute_result"
    }
   ],
   "source": [
    "Solution().findDuplicate([1,3,4,2,2])"
   ]
  },
  {
   "cell_type": "code",
   "execution_count": null,
   "metadata": {},
   "outputs": [],
   "source": []
  }
 ],
 "metadata": {
  "kernelspec": {
   "display_name": "Python 3",
   "language": "python",
   "name": "python3"
  },
  "language_info": {
   "codemirror_mode": {
    "name": "ipython",
    "version": 3
   },
   "file_extension": ".py",
   "mimetype": "text/x-python",
   "name": "python",
   "nbconvert_exporter": "python",
   "pygments_lexer": "ipython3",
   "version": "3.6.7"
  }
 },
 "nbformat": 4,
 "nbformat_minor": 2
}
