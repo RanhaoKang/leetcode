{
 "cells": [
  {
   "cell_type": "markdown",
   "metadata": {},
   "source": [
    "[148. Sort List](https://leetcode.com/problems/sort-list/)"
   ]
  },
  {
   "cell_type": "markdown",
   "metadata": {},
   "source": [
    "归并排序, 唯一讲究的点是, 如果`slow`, `fast`都从head开始, 在链表长度为2时会死循环, 需要使用`prev`, 所以做了这样的处理. 648ms"
   ]
  },
  {
   "cell_type": "code",
   "execution_count": 22,
   "metadata": {},
   "outputs": [],
   "source": [
    "# Definition for singly-linked list.\n",
    "class ListNode:\n",
    "    def __init__(self, x):\n",
    "        self.val = x\n",
    "        self.next = None\n",
    "\n",
    "class Solution:\n",
    "    \n",
    "    def mergeKLists(self, lists) -> ListNode:\n",
    "        p = self.dummy\n",
    "        while any(lists):\n",
    "            val, idx = min([(i.val, idx) for (idx, i) in enumerate(lists) if i])\n",
    "            p.next = lists[idx]\n",
    "            lists[idx] = lists[idx].next\n",
    "            p = p.next\n",
    "        \n",
    "        return self.dummy.next\n",
    "    \n",
    "    def sortList(self, head: ListNode) -> ListNode:\n",
    "        self.dummy = ListNode(0)\n",
    "        \n",
    "        \n",
    "        def solve(node):\n",
    "            # 单独节点时不需要排序\n",
    "            if node is None or node.next is None:\n",
    "                return node\n",
    "\n",
    "            # 找一个位置分开链表, 不需要太讲究\n",
    "            # 唯一讲究的点是, 如果slow, fast都从head开始, 在链表长度为2时会死循环, 所以做了这样的处理\n",
    "            slow, fast = node, node.next\n",
    "            while fast and fast.next:\n",
    "                slow, fast = slow.next, fast.next.next\n",
    "            \n",
    "            # 处理成两个链表\n",
    "            right = slow.next\n",
    "            slow.next = None\n",
    "            left = node\n",
    "            \n",
    "            left, right = solve(left), solve(right)\n",
    "            \n",
    "            # 归并\n",
    "            return self.mergeKLists([left, right])\n",
    "        \n",
    "        return solve(head)"
   ]
  },
  {
   "cell_type": "code",
   "execution_count": 21,
   "metadata": {
    "scrolled": true
   },
   "outputs": [
    {
     "name": "stdout",
     "output_type": "stream",
     "text": [
      "4->2->1->3->\n",
      "4->2->\n",
      "1->3->\n",
      "result\n",
      "1->2->3->4->"
     ]
    }
   ],
   "source": [
    "p = ListNode(4)\n",
    "p.next = ListNode(2)\n",
    "p.next.next = ListNode(1)\n",
    "p.next.next.next = ListNode(3)\n",
    "\n",
    "q = Solution().sortList(p)\n",
    "print('result')\n",
    "while q:\n",
    "    print(q.val, end = '->')\n",
    "    q = q.next"
   ]
  },
  {
   "cell_type": "markdown",
   "metadata": {},
   "source": [
    "这么慢都是辣鸡merge害的啦, 换成普通的写法, 228ms, beats 58.78% 算中等水平了"
   ]
  },
  {
   "cell_type": "code",
   "execution_count": 23,
   "metadata": {},
   "outputs": [],
   "source": [
    "# Definition for singly-linked list.\n",
    "class ListNode:\n",
    "    def __init__(self, x):\n",
    "        self.val = x\n",
    "        self.next = None\n",
    "\n",
    "class Solution:\n",
    "    \n",
    "    def merge2Lists(self, l1, l2) -> ListNode:\n",
    "        cur = self.dummy\n",
    "        \n",
    "        while l1 and l2:\n",
    "            if l1.val < l2.val:\n",
    "                cur.next = l1\n",
    "                l1 = l1.next\n",
    "            else:\n",
    "                cur.next = l2\n",
    "                l2 = l2.next\n",
    "            cur = cur.next\n",
    "        cur.next = l1 or l2\n",
    "        return self.dummy.next\n",
    "    \n",
    "    def sortList(self, head: ListNode) -> ListNode:\n",
    "        self.dummy = ListNode(0)\n",
    "        \n",
    "        \n",
    "        def solve(node):\n",
    "            # 单独节点时不需要排序\n",
    "            if node is None or node.next is None:\n",
    "                return node\n",
    "\n",
    "            # 找一个位置分开链表, 不需要太讲究\n",
    "            # 唯一讲究的点是, 如果slow, fast都从head开始, 在链表长度为2时会死循环, 所以做了这样的处理\n",
    "            slow, fast = node, node.next\n",
    "            while fast and fast.next:\n",
    "                slow, fast = slow.next, fast.next.next\n",
    "            \n",
    "            # 处理成两个链表\n",
    "            right = slow.next\n",
    "            slow.next = None\n",
    "            left = node\n",
    "            \n",
    "            left, right = solve(left), solve(right)\n",
    "            \n",
    "            # 归并\n",
    "            return self.merge2Lists(left, right)\n",
    "        \n",
    "        return solve(head)"
   ]
  },
  {
   "cell_type": "code",
   "execution_count": null,
   "metadata": {},
   "outputs": [],
   "source": []
  }
 ],
 "metadata": {
  "kernelspec": {
   "display_name": "Python 3",
   "language": "python",
   "name": "python3"
  },
  "language_info": {
   "codemirror_mode": {
    "name": "ipython",
    "version": 3
   },
   "file_extension": ".py",
   "mimetype": "text/x-python",
   "name": "python",
   "nbconvert_exporter": "python",
   "pygments_lexer": "ipython3",
   "version": "3.6.7"
  }
 },
 "nbformat": 4,
 "nbformat_minor": 2
}
