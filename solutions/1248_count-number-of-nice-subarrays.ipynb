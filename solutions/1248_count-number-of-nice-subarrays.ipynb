{
 "cells": [
  {
   "cell_type": "markdown",
   "metadata": {},
   "source": [
    "[1248. Count Number of Nice Subarrays](https://leetcode.com/problems/count-number-of-nice-subarrays/)"
   ]
  },
  {
   "cell_type": "markdown",
   "metadata": {},
   "source": [
    "Prefix Sum + Memo\n",
    "\n",
    "1076ms"
   ]
  },
  {
   "cell_type": "code",
   "execution_count": 11,
   "metadata": {},
   "outputs": [],
   "source": [
    "class Solution:\n",
    "    def numberOfSubarrays(self, nums, k: int) -> int:\n",
    "        nums[0] = nums[0] % 2\n",
    "        for i in range(1, len(nums)):\n",
    "            nums[i] = nums[i - 1] + nums[i] % 2\n",
    "        \n",
    "        from collections import Counter\n",
    "        cnt = Counter({0: 1})\n",
    "        res = 0\n",
    "        \n",
    "        for i in nums:\n",
    "            res += cnt[i - k]\n",
    "            cnt[i] += 1\n",
    "        print(cnt)\n",
    "        return res"
   ]
  },
  {
   "cell_type": "code",
   "execution_count": 12,
   "metadata": {},
   "outputs": [
    {
     "name": "stdout",
     "output_type": "stream",
     "text": [
      "Counter({2: 2, 0: 1, 1: 1, 3: 1, 4: 1})\n"
     ]
    },
    {
     "data": {
      "text/plain": [
       "2"
      ]
     },
     "execution_count": 12,
     "metadata": {},
     "output_type": "execute_result"
    }
   ],
   "source": [
    "Solution().numberOfSubarrays(nums = [1,1,2,1,1], k = 3)"
   ]
  },
  {
   "cell_type": "markdown",
   "metadata": {},
   "source": [
    "Prefix Sum + Two Pointers\n",
    "\n",
    "不太会写了"
   ]
  },
  {
   "cell_type": "code",
   "execution_count": 27,
   "metadata": {},
   "outputs": [],
   "source": [
    "class Solution:\n",
    "    def numberOfSubarrays(self, nums, k: int) -> int:\n",
    "        nums[0] = nums[0] % 2\n",
    "        for i in range(1, len(nums)):\n",
    "            nums[i] = nums[i - 1] + nums[i] % 2\n",
    "        nums = [0] + nums\n",
    "\n",
    "        res, i, j = 0, 0, k\n",
    "        # print(nums)\n",
    "        # print('----')\n",
    "        while j < len(nums):\n",
    "            while nums[j] - nums[i] == k:\n",
    "                res += 1\n",
    "                j += 1\n",
    "            if nums[j] - nums[i] > k:\n",
    "                i += 1\n",
    "            else:\n",
    "                j += 1\n",
    "\n",
    "        return res"
   ]
  },
  {
   "cell_type": "code",
   "execution_count": 28,
   "metadata": {},
   "outputs": [
    {
     "name": "stdout",
     "output_type": "stream",
     "text": [
      "0 3 2 3\n",
      "0 4 3 3\n",
      "0 5 4 3\n",
      "1 5 3 3\n"
     ]
    },
    {
     "data": {
      "text/plain": [
       "2"
      ]
     },
     "execution_count": 28,
     "metadata": {},
     "output_type": "execute_result"
    }
   ],
   "source": [
    "Solution().numberOfSubarrays(nums = [1,1,2,1,1], k = 3)"
   ]
  },
  {
   "cell_type": "markdown",
   "metadata": {},
   "source": [
    "Exactly `K` times = at most `K` times - at most `K - 1` times\n",
    "\n",
    "1040ms"
   ]
  },
  {
   "cell_type": "code",
   "execution_count": 14,
   "metadata": {},
   "outputs": [],
   "source": [
    "class Solution:\n",
    "    def numberOfSubarrays(self, A, k):\n",
    "        def atMost(k):\n",
    "            res = i = 0\n",
    "            for j in range(len(A)):\n",
    "                k -= A[j] % 2\n",
    "                while k < 0:\n",
    "                    k += A[i] % 2\n",
    "                    i += 1\n",
    "                res += j - i + 1\n",
    "            return res\n",
    "\n",
    "        return atMost(k) - atMost(k - 1)"
   ]
  },
  {
   "cell_type": "code",
   "execution_count": null,
   "metadata": {},
   "outputs": [],
   "source": []
  }
 ],
 "metadata": {
  "kernelspec": {
   "display_name": "Python 3",
   "language": "python",
   "name": "python3"
  },
  "language_info": {
   "codemirror_mode": {
    "name": "ipython",
    "version": 3
   },
   "file_extension": ".py",
   "mimetype": "text/x-python",
   "name": "python",
   "nbconvert_exporter": "python",
   "pygments_lexer": "ipython3",
   "version": "3.8.1"
  }
 },
 "nbformat": 4,
 "nbformat_minor": 4
}
