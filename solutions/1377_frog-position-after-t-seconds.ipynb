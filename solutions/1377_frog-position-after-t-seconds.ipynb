{
 "cells": [
  {
   "cell_type": "markdown",
   "metadata": {},
   "source": [
    "[1377. Frog Position After T Seconds](https://leetcode.com/problems/frog-position-after-t-seconds/)"
   ]
  },
  {
   "cell_type": "markdown",
   "metadata": {},
   "source": [
    "与之前动态规划算概率不同, 此处有不能复用节点限制, "
   ]
  },
  {
   "cell_type": "code",
   "execution_count": 8,
   "metadata": {},
   "outputs": [],
   "source": [
    "class Solution:\n",
    "    def frogPosition(self, n: int, edges, t: int, target: int) -> float:\n",
    "        if n == 1: return 1.0\n",
    "        \n",
    "        from collections import defaultdict\n",
    "        G = defaultdict(list)\n",
    "        for i, j in edges:\n",
    "            G[i].append(j)\n",
    "            G[j].append(i)\n",
    "        \n",
    "        visited = set()\n",
    "        def dfs(i, t):\n",
    "            if i != 1 and len(G[i]) == 1 or t == 0:\n",
    "                return i == target\n",
    "            visited.add(i)\n",
    "            res = sum(dfs(j, t - 1) for j in G[i] if j not in visited)\n",
    "            return res / (len(G[i]) - (i != 1))\n",
    "    \n",
    "        return dfs(1, t)"
   ]
  },
  {
   "cell_type": "code",
   "execution_count": null,
   "metadata": {},
   "outputs": [],
   "source": []
  }
 ],
 "metadata": {
  "kernelspec": {
   "display_name": "Python 3",
   "language": "python",
   "name": "python3"
  },
  "language_info": {
   "codemirror_mode": {
    "name": "ipython",
    "version": 3
   },
   "file_extension": ".py",
   "mimetype": "text/x-python",
   "name": "python",
   "nbconvert_exporter": "python",
   "pygments_lexer": "ipython3",
   "version": "3.8.1"
  }
 },
 "nbformat": 4,
 "nbformat_minor": 4
}
