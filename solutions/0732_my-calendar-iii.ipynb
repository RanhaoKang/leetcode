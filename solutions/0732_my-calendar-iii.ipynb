{
 "cells": [
  {
   "cell_type": "markdown",
   "metadata": {},
   "source": [
    "[732. My Calendar III](https://leetcode.com/problems/my-calendar-iii/)"
   ]
  },
  {
   "cell_type": "code",
   "execution_count": 6,
   "metadata": {},
   "outputs": [],
   "source": [
    "from bisect import insort\n",
    "\n",
    "class MyCalendarThree:\n",
    "\n",
    "    def __init__(self):\n",
    "        self._timeline = []\n",
    "        \n",
    "    \n",
    "    def book(self, start: int, end: int) -> int:\n",
    "        def get_k():\n",
    "            res = cur = 0\n",
    "            for t, x in self._timeline:\n",
    "                cur += x\n",
    "                res = max(res, cur)\n",
    "            return res\n",
    "        \n",
    "        insort(self._timeline, (start, 1))\n",
    "        insort(self._timeline, (end, -1))\n",
    "        \n",
    "        return get_k()\n",
    "\n",
    "\n",
    "# Your MyCalendarThree object will be instantiated and called as such:\n",
    "# obj = MyCalendarThree()\n",
    "# param_1 = obj.book(start,end)"
   ]
  },
  {
   "cell_type": "code",
   "execution_count": null,
   "metadata": {},
   "outputs": [],
   "source": []
  }
 ],
 "metadata": {
  "kernelspec": {
   "display_name": "Python 3",
   "language": "python",
   "name": "python3"
  },
  "language_info": {
   "codemirror_mode": {
    "name": "ipython",
    "version": 3
   },
   "file_extension": ".py",
   "mimetype": "text/x-python",
   "name": "python",
   "nbconvert_exporter": "python",
   "pygments_lexer": "ipython3",
   "version": "3.8.1"
  }
 },
 "nbformat": 4,
 "nbformat_minor": 4
}
