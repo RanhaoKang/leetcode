{
 "cells": [
  {
   "cell_type": "markdown",
   "metadata": {},
   "source": [
    "[284. Peeking Iterator](https://leetcode.com/problems/peeking-iterator/)"
   ]
  },
  {
   "cell_type": "code",
   "execution_count": 1,
   "metadata": {},
   "outputs": [],
   "source": [
    "# Below is the interface for Iterator, which is already defined for you.\n",
    "#\n",
    "# class Iterator:\n",
    "#     def __init__(self, nums):\n",
    "#         \"\"\"\n",
    "#         Initializes an iterator object to the beginning of a list.\n",
    "#         :type nums: List[int]\n",
    "#         \"\"\"\n",
    "#\n",
    "#     def hasNext(self):\n",
    "#         \"\"\"\n",
    "#         Returns true if the iteration has more elements.\n",
    "#         :rtype: bool\n",
    "#         \"\"\"\n",
    "#\n",
    "#     def next(self):\n",
    "#         \"\"\"\n",
    "#         Returns the next element in the iteration.\n",
    "#         :rtype: int\n",
    "#         \"\"\"\n",
    "\n",
    "class PeekingIterator:\n",
    "    def __init__(self, iterator):\n",
    "        \"\"\"\n",
    "        Initialize your data structure here.\n",
    "        :type iterator: Iterator\n",
    "        \"\"\"\n",
    "        self.iter = iterator\n",
    "        self.next_val = self.iter.next() if self.iter.hasNext() else None\n",
    "\n",
    "    def peek(self):\n",
    "        \"\"\"\n",
    "        Returns the next element in the iteration without advancing the iterator.\n",
    "        :rtype: int\n",
    "        \"\"\"\n",
    "        return self.next_val\n",
    "        \n",
    "\n",
    "    def next(self):\n",
    "        \"\"\"\n",
    "        :rtype: int\n",
    "        \"\"\"\n",
    "        res, self.next_val = self.next_val, self.iter.next() if self.iter.hasNext() else None\n",
    "        return res\n",
    "        \n",
    "\n",
    "    def hasNext(self):\n",
    "        \"\"\"\n",
    "        :rtype: bool\n",
    "        \"\"\"\n",
    "        return self.next_val is not None\n",
    "\n",
    "# Your PeekingIterator object will be instantiated and called as such:\n",
    "# iter = PeekingIterator(Iterator(nums))\n",
    "# while iter.hasNext():\n",
    "#     val = iter.peek()   # Get the next element but not advance the iterator.\n",
    "#     iter.next()         # Should return the same value as [val]."
   ]
  },
  {
   "cell_type": "code",
   "execution_count": null,
   "metadata": {},
   "outputs": [],
   "source": []
  }
 ],
 "metadata": {
  "kernelspec": {
   "display_name": "Python 3",
   "language": "python",
   "name": "python3"
  },
  "language_info": {
   "codemirror_mode": {
    "name": "ipython",
    "version": 3
   },
   "file_extension": ".py",
   "mimetype": "text/x-python",
   "name": "python",
   "nbconvert_exporter": "python",
   "pygments_lexer": "ipython3",
   "version": "3.6.7"
  }
 },
 "nbformat": 4,
 "nbformat_minor": 2
}
