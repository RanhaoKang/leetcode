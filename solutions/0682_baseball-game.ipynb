{
 "cells": [
  {
   "cell_type": "markdown",
   "metadata": {},
   "source": [
    "[682. Baseball Game](https://leetcode.com/problems/baseball-game/)"
   ]
  },
  {
   "cell_type": "markdown",
   "metadata": {},
   "source": [
    "感觉就是为了使用栈而编的应用题，然而应用场景的描述太复杂了，辣鸡题不冤"
   ]
  },
  {
   "cell_type": "code",
   "execution_count": 1,
   "metadata": {},
   "outputs": [
    {
     "data": {
      "text/plain": [
       "[2, 3]"
      ]
     },
     "execution_count": 1,
     "metadata": {},
     "output_type": "execute_result"
    }
   ],
   "source": [
    "a = [1,2,3]\n",
    "a[-2:]"
   ]
  },
  {
   "cell_type": "code",
   "execution_count": 12,
   "metadata": {},
   "outputs": [],
   "source": [
    "class Solution:\n",
    "    def calPoints(self, ops) -> int:\n",
    "        stack = []\n",
    "        for op in ops:\n",
    "            print(op, stack)\n",
    "            if op == 'C':\n",
    "                stack.pop()\n",
    "            elif op == '+':\n",
    "                stack.append(sum(stack[-2:]))\n",
    "            elif op == 'D':\n",
    "                stack.append(stack[-1] * 2)\n",
    "            else: # number\n",
    "                stack.append(int(op))\n",
    "        \n",
    "        return sum(stack)"
   ]
  },
  {
   "cell_type": "code",
   "execution_count": 13,
   "metadata": {},
   "outputs": [
    {
     "name": "stdout",
     "output_type": "stream",
     "text": [
      "5 []\n",
      "2 [5]\n",
      "C [5, 2]\n",
      "D [5]\n",
      "+ [5, 10]\n"
     ]
    },
    {
     "data": {
      "text/plain": [
       "30"
      ]
     },
     "execution_count": 13,
     "metadata": {},
     "output_type": "execute_result"
    }
   ],
   "source": [
    "Solution().calPoints([\"5\",\"2\",\"C\",\"D\",\"+\"])"
   ]
  },
  {
   "cell_type": "code",
   "execution_count": 14,
   "metadata": {},
   "outputs": [
    {
     "name": "stdout",
     "output_type": "stream",
     "text": [
      "5 []\n",
      "-2 [5]\n",
      "4 [5, -2]\n",
      "C [5, -2, 4]\n",
      "D [5, -2]\n",
      "9 [5, -2, -4]\n",
      "+ [5, -2, -4, 9]\n",
      "+ [5, -2, -4, 9, 5]\n"
     ]
    },
    {
     "data": {
      "text/plain": [
       "27"
      ]
     },
     "execution_count": 14,
     "metadata": {},
     "output_type": "execute_result"
    }
   ],
   "source": [
    "Solution().calPoints([\"5\",\"-2\",\"4\",\"C\",\"D\",\"9\",\"+\",\"+\"])"
   ]
  },
  {
   "cell_type": "code",
   "execution_count": null,
   "metadata": {},
   "outputs": [],
   "source": []
  }
 ],
 "metadata": {
  "kernelspec": {
   "display_name": "Python 3",
   "language": "python",
   "name": "python3"
  },
  "language_info": {
   "codemirror_mode": {
    "name": "ipython",
    "version": 3
   },
   "file_extension": ".py",
   "mimetype": "text/x-python",
   "name": "python",
   "nbconvert_exporter": "python",
   "pygments_lexer": "ipython3",
   "version": "3.8.0b3"
  }
 },
 "nbformat": 4,
 "nbformat_minor": 2
}
