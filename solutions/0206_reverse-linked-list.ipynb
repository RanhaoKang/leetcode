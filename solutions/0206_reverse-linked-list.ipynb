{
 "cells": [
  {
   "cell_type": "markdown",
   "metadata": {},
   "source": [
    "[206. Reverse Linked List](https://leetcode.com/problems/reverse-linked-list/)"
   ]
  },
  {
   "cell_type": "code",
   "execution_count": 1,
   "metadata": {},
   "outputs": [],
   "source": [
    "# Definition for singly-linked list.\n",
    "# class ListNode:\n",
    "#     def __init__(self, x):\n",
    "#         self.val = x\n",
    "#         self.next = None\n",
    "\n",
    "class Solution:\n",
    "    def reverseList(self, head: 'ListNode') -> 'ListNode':\n",
    "        new_head = ListNode(-1)\n",
    "\n",
    "        p = head\n",
    "        while p:\n",
    "            tmp = p.next\n",
    "            p.next = new_head.next\n",
    "            new_head.next = p\n",
    "            p = tmp\n",
    "        \n",
    "        return new_head.next\n",
    "        "
   ]
  },
  {
   "cell_type": "code",
   "execution_count": 1,
   "metadata": {},
   "outputs": [],
   "source": [
    "# Definition for singly-linked list.\n",
    "class ListNode:\n",
    "    def __init__(self, x):\n",
    "        self.val = x\n",
    "        self.next = None\n",
    "\n",
    "class Solution:\n",
    "    def reverseList(self, head: 'ListNode') -> 'ListNode':\n",
    "        p, prev = head, None\n",
    "        while p:\n",
    "            p.next, prev, p = prev, p, p.next\n",
    "        \n",
    "        return prev"
   ]
  },
  {
   "cell_type": "code",
   "execution_count": null,
   "metadata": {},
   "outputs": [],
   "source": [
    "class Solution:\n",
    "    def reverseList(self, head: 'ListNode') -> 'ListNode':\n",
    "        new_head = ListNode(-1)\n",
    "\n",
    "        p = head\n",
    "        while p:\n",
    "            tmp = p.next\n",
    "            p.next = new_head.next\n",
    "            new_head.next = p\n",
    "            p = tmp\n",
    "        \n",
    "        return new_head.next\n",
    "        "
   ]
  }
 ],
 "metadata": {
  "kernelspec": {
   "display_name": "Python 3",
   "language": "python",
   "name": "python3"
  },
  "language_info": {
   "codemirror_mode": {
    "name": "ipython",
    "version": 3
   },
   "file_extension": ".py",
   "mimetype": "text/x-python",
   "name": "python",
   "nbconvert_exporter": "python",
   "pygments_lexer": "ipython3",
   "version": "3.6.7"
  }
 },
 "nbformat": 4,
 "nbformat_minor": 2
}
