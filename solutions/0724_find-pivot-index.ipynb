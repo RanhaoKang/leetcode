{
 "cells": [
  {
   "cell_type": "markdown",
   "metadata": {},
   "source": [
    "[724. Find Pivot Index](https://leetcode.com/problems/find-pivot-index/)"
   ]
  },
  {
   "cell_type": "code",
   "execution_count": 58,
   "metadata": {},
   "outputs": [],
   "source": [
    "class Solution:\n",
    "    def pivotIndex(self, nums) -> int:\n",
    "        if not nums:\n",
    "            return -1\n",
    "        \n",
    "        left, right = 0, sum(nums) - nums[0]\n",
    "        \n",
    "        for i in range(1, len(nums)):\n",
    "            if left == right:\n",
    "                return i - 1\n",
    "            \n",
    "            left += nums[i-1]\n",
    "            right -= nums[i]\n",
    "            \n",
    "            print(left, i, right)\n",
    "            \n",
    "            \n",
    "        if left == right:\n",
    "            return i\n",
    "        \n",
    "        return -1"
   ]
  },
  {
   "cell_type": "code",
   "execution_count": 59,
   "metadata": {},
   "outputs": [
    {
     "name": "stdout",
     "output_type": "stream",
     "text": [
      "1 1 20\n",
      "8 2 17\n",
      "11 3 11\n"
     ]
    },
    {
     "data": {
      "text/plain": [
       "3"
      ]
     },
     "execution_count": 59,
     "metadata": {},
     "output_type": "execute_result"
    }
   ],
   "source": [
    "Solution().pivotIndex([1, 7, 3, 6, 5, 6])"
   ]
  },
  {
   "cell_type": "code",
   "execution_count": 60,
   "metadata": {},
   "outputs": [
    {
     "name": "stdout",
     "output_type": "stream",
     "text": [
      "-1 1 2\n",
      "-2 2 2\n",
      "-2 3 1\n",
      "-1 4 0\n",
      "0 5 0\n"
     ]
    },
    {
     "data": {
      "text/plain": [
       "5"
      ]
     },
     "execution_count": 60,
     "metadata": {},
     "output_type": "execute_result"
    }
   ],
   "source": [
    "Solution().pivotIndex([-1, -1, -0, 1, 1, 0])"
   ]
  },
  {
   "cell_type": "code",
   "execution_count": null,
   "metadata": {},
   "outputs": [],
   "source": []
  }
 ],
 "metadata": {
  "kernelspec": {
   "display_name": "Python 3",
   "language": "python",
   "name": "python3"
  },
  "language_info": {
   "codemirror_mode": {
    "name": "ipython",
    "version": 3
   },
   "file_extension": ".py",
   "mimetype": "text/x-python",
   "name": "python",
   "nbconvert_exporter": "python",
   "pygments_lexer": "ipython3",
   "version": "3.6.7"
  }
 },
 "nbformat": 4,
 "nbformat_minor": 2
}
