{
 "cells": [
  {
   "cell_type": "markdown",
   "metadata": {},
   "source": [
    "[560. Subarray Sum Equals K](https://leetcode.com/problems/subarray-sum-equals-k/)"
   ]
  },
  {
   "cell_type": "markdown",
   "metadata": {},
   "source": [
    "BruteForce的解法如下\n",
    "```python3\n",
    "for i in range(length):\n",
    "    for j in range(i, length):\n",
    "        if sum(nums[i:j]) == k:\n",
    "            res += 1\n",
    "```\n",
    "其中的关键是`sum`操作, 类似倍增的思路, `sum(i,j) = sum(0,j) - sum(0,i-1)`"
   ]
  },
  {
   "cell_type": "code",
   "execution_count": 5,
   "metadata": {},
   "outputs": [],
   "source": [
    "class Solution:\n",
    "    def subarraySum(self, nums, k: int) -> int:\n",
    "        # d[i] = j表示范围为(0, x)且和为i的解有j个\n",
    "        from collections import defaultdict\n",
    "        d = defaultdict(int)\n",
    "        d[0] = 1\n",
    "        \n",
    "        # total相当于sum(0, j)\n",
    "        res = total = 0\n",
    "        for i in nums:\n",
    "            total += i\n",
    "            # 假设此时遍历到10,\n",
    "            # 如果sum(0, 1) = sum(0, 10) - k, 说明sum(1, 10) = k\n",
    "            res += d[total - k]\n",
    "            d[total] += 1\n",
    "        \n",
    "        return res"
   ]
  },
  {
   "cell_type": "code",
   "execution_count": 6,
   "metadata": {},
   "outputs": [
    {
     "data": {
      "text/plain": [
       "2"
      ]
     },
     "execution_count": 6,
     "metadata": {},
     "output_type": "execute_result"
    }
   ],
   "source": [
    "Solution().subarraySum([1,1,1], 2)"
   ]
  },
  {
   "cell_type": "code",
   "execution_count": null,
   "metadata": {},
   "outputs": [],
   "source": []
  }
 ],
 "metadata": {
  "kernelspec": {
   "display_name": "Python 3",
   "language": "python",
   "name": "python3"
  },
  "language_info": {
   "codemirror_mode": {
    "name": "ipython",
    "version": 3
   },
   "file_extension": ".py",
   "mimetype": "text/x-python",
   "name": "python",
   "nbconvert_exporter": "python",
   "pygments_lexer": "ipython3",
   "version": "3.6.7"
  }
 },
 "nbformat": 4,
 "nbformat_minor": 2
}
