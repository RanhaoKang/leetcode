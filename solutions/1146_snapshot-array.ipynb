{
 "cells": [
  {
   "cell_type": "markdown",
   "metadata": {},
   "source": [
    "[1146. Snapshot Array](https://leetcode.com/problems/snapshot-array/)"
   ]
  },
  {
   "cell_type": "code",
   "execution_count": 2,
   "metadata": {},
   "outputs": [],
   "source": [
    "class SnapshotArray:\n",
    "\n",
    "    def __init__(self, n):\n",
    "        self.A = [[[-1, 0]] for _ in range(n)]\n",
    "        self.snap_id = 0\n",
    "        self.n = n\n",
    "\n",
    "    def set(self, index, val):\n",
    "        self.A[index].append([self.snap_id, val])\n",
    "\n",
    "    def snap(self):\n",
    "        self.snap_id += 1\n",
    "        return self.snap_id - 1\n",
    "\n",
    "    def get(self, index, snap_id):\n",
    "        i = bisect.bisect(self.A[index], [snap_id + 1]) - 1\n",
    "        return self.A[index][i][1]"
   ]
  },
  {
   "cell_type": "code",
   "execution_count": null,
   "metadata": {},
   "outputs": [],
   "source": []
  }
 ],
 "metadata": {
  "kernelspec": {
   "display_name": "Python 3",
   "language": "python",
   "name": "python3"
  },
  "language_info": {
   "codemirror_mode": {
    "name": "ipython",
    "version": 3
   },
   "file_extension": ".py",
   "mimetype": "text/x-python",
   "name": "python",
   "nbconvert_exporter": "python",
   "pygments_lexer": "ipython3",
   "version": "3.8.1"
  }
 },
 "nbformat": 4,
 "nbformat_minor": 4
}
