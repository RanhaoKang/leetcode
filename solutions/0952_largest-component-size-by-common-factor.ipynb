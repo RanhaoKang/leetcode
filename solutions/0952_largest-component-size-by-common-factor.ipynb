{
 "cells": [
  {
   "cell_type": "markdown",
   "metadata": {},
   "source": [
    "[952. Largest Component Size by Common Factor](https://leetcode.com/problems/largest-component-size-by-common-factor/)"
   ]
  },
  {
   "cell_type": "code",
   "execution_count": 1,
   "metadata": {},
   "outputs": [],
   "source": [
    "class UnionFind(object):\n",
    "    def uf(self, n):  \n",
    "        self.uf = [i for i in range(n)]\n",
    "        self.size = [1] * n\n",
    "        \n",
    "    def find(self, x):  \n",
    "        while x != self.uf[x]:\n",
    "            self.uf[x] = self.uf[self.uf[x]]\n",
    "            x = self.uf[x]\n",
    "        return self.uf[x]\n",
    "\n",
    "    def union(self, x, y):  \n",
    "        x_root = self.find(x)\n",
    "        y_root = self.find(y)\n",
    "        if x_root == y_root:\n",
    "            return\n",
    "        self.uf[x_root] = y_root\n",
    "        self.size[y_root] += self.size[x_root]\n",
    "        self.size[x_root] = 0\n",
    "\n",
    "\n",
    "class Solution(object):\n",
    "    def largestComponentSize(self, A):\n",
    "        \"\"\"\n",
    "        :type A: List[int]\n",
    "        :rtype: int\n",
    "        \"\"\"\n",
    "        def primeFactors(n):  # Prime factor decomposition\n",
    "            out = set()\n",
    "            while n % 2 == 0: \n",
    "                out.add(2)\n",
    "                n //= 2\n",
    "            for i in range(3, int(math.sqrt(n))+1, 2): \n",
    "                while n % i== 0: \n",
    "                    out.add(i) \n",
    "                    n //= i \n",
    "            if n > 2: \n",
    "                out.add(n)\n",
    "            return out\n",
    "        \n",
    "        uf = UnionFind()\n",
    "        uf.uf(len(A))\n",
    "        \n",
    "        primeToIndex = {} \n",
    "        for i,a in enumerate(A):\n",
    "            primes = primeFactors(a)\n",
    "            for p in primes:\n",
    "                if p in primeToIndex:\n",
    "                    uf.union(i, primeToIndex[p])\n",
    "                primeToIndex[p] = i\n",
    "        return max(uf.size)"
   ]
  },
  {
   "cell_type": "code",
   "execution_count": null,
   "metadata": {},
   "outputs": [],
   "source": []
  }
 ],
 "metadata": {
  "kernelspec": {
   "display_name": "Python 3",
   "language": "python",
   "name": "python3"
  },
  "language_info": {
   "codemirror_mode": {
    "name": "ipython",
    "version": 3
   },
   "file_extension": ".py",
   "mimetype": "text/x-python",
   "name": "python",
   "nbconvert_exporter": "python",
   "pygments_lexer": "ipython3",
   "version": "3.8.1"
  }
 },
 "nbformat": 4,
 "nbformat_minor": 4
}
