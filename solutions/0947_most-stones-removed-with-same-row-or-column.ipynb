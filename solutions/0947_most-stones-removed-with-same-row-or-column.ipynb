{
 "cells": [
  {
   "cell_type": "markdown",
   "metadata": {},
   "source": [
    "[947. Most Stones Removed with Same Row or Column](https://leetcode.com/problems/most-stones-removed-with-same-row-or-column/)"
   ]
  },
  {
   "cell_type": "code",
   "execution_count": 11,
   "metadata": {},
   "outputs": [],
   "source": [
    "class Solution:\n",
    "    def removeStones(self, points) -> int:\n",
    "        UF = {}\n",
    "        def find(x):\n",
    "            if x != UF[x]:\n",
    "                UF[x] = find(UF[x])\n",
    "            return UF[x]\n",
    "        def union(x, y):\n",
    "            UF.setdefault(x, x)\n",
    "            UF.setdefault(y, y)\n",
    "            UF[find(x)] = find(y)\n",
    "\n",
    "        for i, j in points:\n",
    "            union(i, ~j)\n",
    "            \n",
    "        # 所有点 - group数目\n",
    "        return len(points) - len({find(x) for x in UF})"
   ]
  },
  {
   "cell_type": "code",
   "execution_count": 12,
   "metadata": {},
   "outputs": [
    {
     "name": "stdout",
     "output_type": "stream",
     "text": [
      "{0: -1, -1: -2, -2: -3, 1: -2, -3: -3, 2: -3}\n",
      "{0, 1, 2, -2, -3, -1}\n",
      "{-3}\n",
      "{0: -3, -1: -3, -2: -3, 1: -3, -3: -3, 2: -3}\n"
     ]
    },
    {
     "data": {
      "text/plain": [
       "5"
      ]
     },
     "execution_count": 12,
     "metadata": {},
     "output_type": "execute_result"
    }
   ],
   "source": [
    "Solution().removeStones([[0,0],[0,1],[1,0],[1,2],[2,1],[2,2]])"
   ]
  },
  {
   "cell_type": "markdown",
   "metadata": {},
   "source": [
    "x x o\n",
    "x o x\n",
    "o x x"
   ]
  }
 ],
 "metadata": {
  "kernelspec": {
   "display_name": "Python 3",
   "language": "python",
   "name": "python3"
  },
  "language_info": {
   "codemirror_mode": {
    "name": "ipython",
    "version": 3
   },
   "file_extension": ".py",
   "mimetype": "text/x-python",
   "name": "python",
   "nbconvert_exporter": "python",
   "pygments_lexer": "ipython3",
   "version": "3.8.1"
  }
 },
 "nbformat": 4,
 "nbformat_minor": 2
}
