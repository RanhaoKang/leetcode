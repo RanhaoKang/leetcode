{
 "cells": [
  {
   "cell_type": "markdown",
   "metadata": {},
   "source": [
    "[782. Transform to Chessboard](https://leetcode.com/problems/transform-to-chessboard/)"
   ]
  },
  {
   "cell_type": "code",
   "execution_count": 1,
   "metadata": {},
   "outputs": [],
   "source": [
    "class Solution:\n",
    "    def movesToChessboard(self, b) -> int:\n",
    "        N = len(b)\n",
    "        if any(b[0][0] ^ b[i][0] ^ b[0][j] ^ b[i][j] for i in range(N) for j in range(N)): return -1\n",
    "        if not N // 2 <= sum(b[0]) <= (N + 1) // 2: return -1\n",
    "        if not N // 2 <= sum(b[i][0] for i in range(N)) <= (N + 1) // 2: return -1\n",
    "        col = sum(b[0][i] == i % 2 for i in range(N))\n",
    "        row = sum(b[i][0] == i % 2 for i in range(N))\n",
    "        if N % 2:\n",
    "            if col % 2: col = [col, N - col][col % 2]\n",
    "            if row % 2: row = N - row\n",
    "        else:\n",
    "            col = min(N - col, col)\n",
    "            row = min(N - row, row)\n",
    "        return (col + row) // 2"
   ]
  },
  {
   "cell_type": "code",
   "execution_count": null,
   "metadata": {},
   "outputs": [],
   "source": []
  }
 ],
 "metadata": {
  "kernelspec": {
   "display_name": "Python 3",
   "language": "python",
   "name": "python3"
  },
  "language_info": {
   "codemirror_mode": {
    "name": "ipython",
    "version": 3
   },
   "file_extension": ".py",
   "mimetype": "text/x-python",
   "name": "python",
   "nbconvert_exporter": "python",
   "pygments_lexer": "ipython3",
   "version": "3.8.1"
  }
 },
 "nbformat": 4,
 "nbformat_minor": 4
}
