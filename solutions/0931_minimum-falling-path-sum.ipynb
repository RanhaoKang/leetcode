{
 "cells": [
  {
   "cell_type": "markdown",
   "metadata": {},
   "source": [
    "[931. Minimum Falling Path Sum](https://leetcode.com/problems/minimum-falling-path-sum/)"
   ]
  },
  {
   "cell_type": "code",
   "execution_count": 8,
   "metadata": {},
   "outputs": [],
   "source": [
    "class Solution:\n",
    "    def minFallingPathSum(self, A) -> int:\n",
    "        h = w = len(A)\n",
    "        \n",
    "        # dp[i][j]表示在落到(i,j)的最小代价\n",
    "        dp = [[0] * h for _ in range(w)]\n",
    "        \n",
    "        dp[0] = A[0][:]\n",
    "        \n",
    "        for i in range(1, h):\n",
    "            for j in range(w):\n",
    "                if j >= 1:\n",
    "                    dp[i][j] = min(dp[i-1][j-1: j+2], default = 0) + A[i][j]\n",
    "                else:\n",
    "                    dp[i][j] = min(dp[i-1][j], dp[i-1][j+1]) + A[i][j]\n",
    "        \n",
    "        return min(dp[-1])"
   ]
  },
  {
   "cell_type": "code",
   "execution_count": 9,
   "metadata": {},
   "outputs": [
    {
     "data": {
      "text/plain": [
       "12"
      ]
     },
     "execution_count": 9,
     "metadata": {},
     "output_type": "execute_result"
    }
   ],
   "source": [
    "Solution().minFallingPathSum([[1,2,3],[4,5,6],[7,8,9]])"
   ]
  },
  {
   "cell_type": "code",
   "execution_count": 6,
   "metadata": {},
   "outputs": [
    {
     "data": {
      "text/plain": [
       "[]"
      ]
     },
     "execution_count": 6,
     "metadata": {},
     "output_type": "execute_result"
    }
   ],
   "source": [
    "[1,2,3,4,5,6][-1:3]"
   ]
  },
  {
   "cell_type": "code",
   "execution_count": null,
   "metadata": {},
   "outputs": [],
   "source": []
  }
 ],
 "metadata": {
  "kernelspec": {
   "display_name": "Python 3",
   "language": "python",
   "name": "python3"
  },
  "language_info": {
   "codemirror_mode": {
    "name": "ipython",
    "version": 3
   },
   "file_extension": ".py",
   "mimetype": "text/x-python",
   "name": "python",
   "nbconvert_exporter": "python",
   "pygments_lexer": "ipython3",
   "version": "3.6.7"
  }
 },
 "nbformat": 4,
 "nbformat_minor": 2
}
