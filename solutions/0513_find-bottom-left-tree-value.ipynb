{
 "cells": [
  {
   "cell_type": "markdown",
   "metadata": {},
   "source": [
    "[513. Find Bottom Left Tree Value](https://leetcode.com/problems/find-bottom-left-tree-value/)"
   ]
  },
  {
   "cell_type": "code",
   "execution_count": 1,
   "metadata": {},
   "outputs": [],
   "source": [
    "# Definition for a binary tree node.\n",
    "class TreeNode:\n",
    "    def __init__(self, x):\n",
    "        self.val = x\n",
    "        self.left = None\n",
    "        self.right = None"
   ]
  },
  {
   "cell_type": "code",
   "execution_count": 4,
   "metadata": {},
   "outputs": [],
   "source": [
    "class Solution:\n",
    "    def findBottomLeftValue(self, root: TreeNode) -> int:\n",
    "        self.res = self.depth = float('-inf')\n",
    "        \n",
    "        def solve(node, depth = 0):\n",
    "            if node is None:\n",
    "                return\n",
    "            if node.left or node.right:\n",
    "                solve(node.left, depth + 1)\n",
    "                solve(node.right, depth + 1)\n",
    "            else:\n",
    "                if depth > self.depth:\n",
    "                    self.res, self.depth = node.val, depth\n",
    "    \n",
    "        solve(root)\n",
    "        return self.res"
   ]
  }
 ],
 "metadata": {
  "kernelspec": {
   "display_name": "Python 3",
   "language": "python",
   "name": "python3"
  },
  "language_info": {
   "codemirror_mode": {
    "name": "ipython",
    "version": 3
   },
   "file_extension": ".py",
   "mimetype": "text/x-python",
   "name": "python",
   "nbconvert_exporter": "python",
   "pygments_lexer": "ipython3",
   "version": "3.6.7"
  }
 },
 "nbformat": 4,
 "nbformat_minor": 2
}
