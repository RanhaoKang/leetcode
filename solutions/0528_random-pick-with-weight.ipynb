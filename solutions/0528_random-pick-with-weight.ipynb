{
 "cells": [
  {
   "cell_type": "markdown",
   "metadata": {},
   "source": [
    "[528. Random Pick with Weight](https://leetcode.com/problems/random-pick-with-weight/)"
   ]
  },
  {
   "cell_type": "markdown",
   "metadata": {},
   "source": [
    "计算总样本容量, 抽样后按顺序减去权重. 似乎还有些问题OJ过不去."
   ]
  },
  {
   "cell_type": "code",
   "execution_count": 12,
   "metadata": {},
   "outputs": [],
   "source": [
    "import random\n",
    "\n",
    "class Solution:\n",
    "\n",
    "    def __init__(self, w):\n",
    "        self.w = w\n",
    "        self.N = 0\n",
    "        for i in w:\n",
    "            self.N += i\n",
    "\n",
    "    def pickIndex(self) -> int:\n",
    "        rand = random.randint(0, self.N)\n",
    "        print(rand, self.N)\n",
    "        for num, weight in enumerate(self.w):\n",
    "            rand -= weight\n",
    "            if rand < 0:\n",
    "                return num\n",
    "        \n",
    "        return num\n",
    "        \n",
    "\n",
    "# Your Solution object will be instantiated and called as such:\n",
    "# obj = Solution(w)\n",
    "# param_1 = obj.pickIndex()"
   ]
  },
  {
   "cell_type": "code",
   "execution_count": 13,
   "metadata": {},
   "outputs": [
    {
     "name": "stdout",
     "output_type": "stream",
     "text": [
      "18 25\n"
     ]
    },
    {
     "data": {
      "text/plain": [
       "4"
      ]
     },
     "execution_count": 13,
     "metadata": {},
     "output_type": "execute_result"
    }
   ],
   "source": [
    "Solution([1,3,5,7,9]).pickIndex()"
   ]
  },
  {
   "cell_type": "markdown",
   "metadata": {},
   "source": [
    "前面一致, 但是用二分查找替代了顺序查找, 进而将后半段的时间复杂度由$O(N)$降到了$O(\\log{N})$."
   ]
  },
  {
   "cell_type": "code",
   "execution_count": 15,
   "metadata": {},
   "outputs": [],
   "source": [
    "import bisect\n",
    "import itertools\n",
    "import random\n",
    "\n",
    "class Solution:\n",
    "\n",
    "    def __init__(self, w):\n",
    "        self.w = list(itertools.accumulate(w))\n",
    "\n",
    "\n",
    "    def pickIndex(self) -> int:\n",
    "        return bisect.bisect_left(self.w, random.randint(1, self.w[-1]))\n",
    "        \n",
    "\n",
    "# Your Solution object will be instantiated and called as such:\n",
    "# obj = Solution(w)\n",
    "# param_1 = obj.pickIndex()"
   ]
  },
  {
   "cell_type": "code",
   "execution_count": null,
   "metadata": {},
   "outputs": [],
   "source": []
  }
 ],
 "metadata": {
  "kernelspec": {
   "display_name": "Python 3",
   "language": "python",
   "name": "python3"
  },
  "language_info": {
   "codemirror_mode": {
    "name": "ipython",
    "version": 3
   },
   "file_extension": ".py",
   "mimetype": "text/x-python",
   "name": "python",
   "nbconvert_exporter": "python",
   "pygments_lexer": "ipython3",
   "version": "3.6.7"
  }
 },
 "nbformat": 4,
 "nbformat_minor": 2
}
