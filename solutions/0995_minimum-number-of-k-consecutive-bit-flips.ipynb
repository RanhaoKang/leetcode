{
 "cells": [
  {
   "cell_type": "markdown",
   "metadata": {},
   "source": [
    "[995. Minimum Number of K Consecutive Bit Flips](https://leetcode.com/problems/minimum-number-of-k-consecutive-bit-flips/)"
   ]
  },
  {
   "cell_type": "markdown",
   "metadata": {},
   "source": [
    "开关灯问题！"
   ]
  },
  {
   "cell_type": "markdown",
   "metadata": {},
   "source": [
    "lee\n",
    "\n",
    "There is only one way to filp `A[0]`,\n",
    "and `A[0]` will tell us if we need to filp the range `A[0] ~ A[K -1]`.\n",
    "So we start from the leftmost one by one using a greedy idea to solve this problem."
   ]
  },
  {
   "cell_type": "markdown",
   "metadata": {},
   "source": [
    "贪心下的模拟，TLE了"
   ]
  },
  {
   "cell_type": "code",
   "execution_count": 89,
   "metadata": {},
   "outputs": [],
   "source": [
    "class Solution:\n",
    "    def minKBitFlips(self, A, K: int) -> int:\n",
    "        N = len(A)\n",
    "        flip = [False] * N\n",
    "        for i in range(N):\n",
    "            #print(A)\n",
    "            if A[i] == 0:\n",
    "                flip[i] = True\n",
    "                \n",
    "                \n",
    "                r = min(i + K, N)\n",
    "                l = r - K\n",
    "                for j in range(l, r):\n",
    "                    A[j] ^= 1\n",
    "                \n",
    "        # print(A)\n",
    "        return sum(flip) if 0 not in A else -1"
   ]
  },
  {
   "cell_type": "code",
   "execution_count": 90,
   "metadata": {},
   "outputs": [
    {
     "data": {
      "text/plain": [
       "2"
      ]
     },
     "execution_count": 90,
     "metadata": {},
     "output_type": "execute_result"
    }
   ],
   "source": [
    "Solution().minKBitFlips([0,1,0], 1)"
   ]
  },
  {
   "cell_type": "code",
   "execution_count": 91,
   "metadata": {},
   "outputs": [
    {
     "data": {
      "text/plain": [
       "-1"
      ]
     },
     "execution_count": 91,
     "metadata": {},
     "output_type": "execute_result"
    }
   ],
   "source": [
    "Solution().minKBitFlips([1,1,0], 2)"
   ]
  },
  {
   "cell_type": "code",
   "execution_count": 92,
   "metadata": {},
   "outputs": [
    {
     "data": {
      "text/plain": [
       "3"
      ]
     },
     "execution_count": 92,
     "metadata": {},
     "output_type": "execute_result"
    }
   ],
   "source": [
    "Solution().minKBitFlips([0,0,0,1,0,1,1,0], 3)"
   ]
  },
  {
   "cell_type": "code",
   "execution_count": 93,
   "metadata": {},
   "outputs": [],
   "source": [
    "class Solution:\n",
    "    def minKBitFlips(self, A, K: int) -> int:\n",
    "        cur = res = 0\n",
    "        for i in range(len(A)):\n",
    "            if i >= K and A[i - K] == 2:\n",
    "                cur -= 1\n",
    "            if cur % 2 == A[i]:\n",
    "                if i + K > len(A):\n",
    "                    return -1\n",
    "                A[i] = 2\n",
    "                cur += 1; res += 1\n",
    "        \n",
    "        return res"
   ]
  },
  {
   "cell_type": "code",
   "execution_count": 7,
   "metadata": {},
   "outputs": [
    {
     "name": "stdout",
     "output_type": "stream",
     "text": [
      "[False, False, False]\n"
     ]
    },
    {
     "data": {
      "text/plain": [
       "0"
      ]
     },
     "execution_count": 7,
     "metadata": {},
     "output_type": "execute_result"
    }
   ],
   "source": [
    "Solution().minKBitFlips([0,1,0], 1)"
   ]
  },
  {
   "cell_type": "code",
   "execution_count": null,
   "metadata": {},
   "outputs": [],
   "source": []
  }
 ],
 "metadata": {
  "kernelspec": {
   "display_name": "Python 3",
   "language": "python",
   "name": "python3"
  },
  "language_info": {
   "codemirror_mode": {
    "name": "ipython",
    "version": 3
   },
   "file_extension": ".py",
   "mimetype": "text/x-python",
   "name": "python",
   "nbconvert_exporter": "python",
   "pygments_lexer": "ipython3",
   "version": "3.8.1"
  }
 },
 "nbformat": 4,
 "nbformat_minor": 4
}
