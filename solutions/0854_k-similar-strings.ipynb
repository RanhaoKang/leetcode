{
 "cells": [
  {
   "cell_type": "markdown",
   "metadata": {},
   "source": [
    "[854. K-Similar Strings](https://leetcode.com/problems/k-similar-strings/)"
   ]
  },
  {
   "cell_type": "code",
   "execution_count": null,
   "metadata": {},
   "outputs": [],
   "source": [
    "class Solution:\n",
    "    def kSimilarity(self, A: str, B: str) -> int:\n",
    "        def nei(x):\n",
    "            i = 0\n",
    "            while x[i] == B[i]:\n",
    "                i+=1\n",
    "            for j in range(i+1, len(x)):\n",
    "                if x[j] == B[i]:\n",
    "                    yield x[:i]+x[j]+x[i+1:j]+x[i]+x[j+1:]\n",
    "\n",
    "        bfs, seen = [(A, 0)], {A}\n",
    "        for x, d in bfs:\n",
    "            if x == B:\n",
    "                return d\n",
    "            for y in nei(x):\n",
    "                if y not in seen:\n",
    "                    seen.add(y)\n",
    "                    bfs.append((y, d + 1))"
   ]
  }
 ],
 "metadata": {
  "kernelspec": {
   "display_name": "Python 3",
   "language": "python",
   "name": "python3"
  },
  "language_info": {
   "codemirror_mode": {
    "name": "ipython",
    "version": 3
   },
   "file_extension": ".py",
   "mimetype": "text/x-python",
   "name": "python",
   "nbconvert_exporter": "python",
   "pygments_lexer": "ipython3",
   "version": "3.8.1"
  }
 },
 "nbformat": 4,
 "nbformat_minor": 4
}
