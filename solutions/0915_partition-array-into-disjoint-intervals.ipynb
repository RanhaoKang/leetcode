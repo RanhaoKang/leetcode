{
 "cells": [
  {
   "cell_type": "markdown",
   "metadata": {},
   "source": [
    "[915. Partition Array into Disjoint Intervals](https://leetcode.com/problems/partition-array-into-disjoint-intervals/)"
   ]
  },
  {
   "cell_type": "code",
   "execution_count": 7,
   "metadata": {},
   "outputs": [],
   "source": [
    "class Solution:\n",
    "    def partitionDisjoint(self, A) -> int:\n",
    "        i = 1\n",
    "        while max(A[:i]) >= min(A[i:]):\n",
    "            i += 1\n",
    "        \n",
    "        return i"
   ]
  },
  {
   "cell_type": "code",
   "execution_count": 13,
   "metadata": {},
   "outputs": [],
   "source": [
    "class Solution:\n",
    "    def partitionDisjoint(self, A) -> int:\n",
    "        N = len(A)\n",
    "        max_left, min_right = [None] * N, [None] * N\n",
    "        \n",
    "        m = A[0]\n",
    "        for i in range(N):\n",
    "            m = max(m, A[i])\n",
    "            max_left[i] = m\n",
    "        \n",
    "        m = A[-1]\n",
    "        for i in range(N - 1, -1, -1):\n",
    "            m = min(m, A[i])\n",
    "            min_right[i] = m\n",
    "        \n",
    "        for i in range(1, N):\n",
    "            if max_left[i - 1] < min_right[i]:\n",
    "                return i\n",
    "        \n",
    "        return 1"
   ]
  },
  {
   "cell_type": "code",
   "execution_count": null,
   "metadata": {},
   "outputs": [],
   "source": [
    "class Solution:\n",
    "    def partitionDisjoint(self, A) -> int:\n",
    "        disjoint = 0\n",
    "        v = A[disjoint]\n",
    "        max_so_far = v\n",
    "        for i in range(len(A)):\n",
    "            max_so_far = max(max_so_far, A[i])\n",
    "            if A[i] < v: \n",
    "                disjoint = i\n",
    "                v = max_so_far\n",
    "        return disjoint + 1"
   ]
  },
  {
   "cell_type": "code",
   "execution_count": 8,
   "metadata": {},
   "outputs": [
    {
     "data": {
      "text/plain": [
       "3"
      ]
     },
     "execution_count": 8,
     "metadata": {},
     "output_type": "execute_result"
    }
   ],
   "source": [
    "Solution().partitionDisjoint([5,0,3,8,6])"
   ]
  },
  {
   "cell_type": "code",
   "execution_count": 9,
   "metadata": {},
   "outputs": [
    {
     "data": {
      "text/plain": [
       "4"
      ]
     },
     "execution_count": 9,
     "metadata": {},
     "output_type": "execute_result"
    }
   ],
   "source": [
    "Solution().partitionDisjoint([1,1,1,0,6,12])"
   ]
  },
  {
   "cell_type": "code",
   "execution_count": 5,
   "metadata": {},
   "outputs": [
    {
     "data": {
      "text/plain": [
       "0"
      ]
     },
     "execution_count": 5,
     "metadata": {},
     "output_type": "execute_result"
    }
   ],
   "source": [
    "min([], default = 0)"
   ]
  },
  {
   "cell_type": "code",
   "execution_count": null,
   "metadata": {},
   "outputs": [],
   "source": []
  }
 ],
 "metadata": {
  "kernelspec": {
   "display_name": "Python 3",
   "language": "python",
   "name": "python3"
  },
  "language_info": {
   "codemirror_mode": {
    "name": "ipython",
    "version": 3
   },
   "file_extension": ".py",
   "mimetype": "text/x-python",
   "name": "python",
   "nbconvert_exporter": "python",
   "pygments_lexer": "ipython3",
   "version": "3.8.1"
  }
 },
 "nbformat": 4,
 "nbformat_minor": 4
}
