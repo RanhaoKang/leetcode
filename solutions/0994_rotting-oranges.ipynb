{
 "cells": [
  {
   "cell_type": "markdown",
   "metadata": {},
   "source": [
    "[994. Rotting Oranges](https://leetcode.com/problems/rotting-oranges/)"
   ]
  },
  {
   "cell_type": "markdown",
   "metadata": {},
   "source": [
    "有点元胞的意思, 规则只有一条被感染"
   ]
  },
  {
   "cell_type": "markdown",
   "metadata": {},
   "source": [
    "出现了\"一次性修改\"的问题, 导致计数错误."
   ]
  },
  {
   "cell_type": "code",
   "execution_count": 2,
   "metadata": {},
   "outputs": [],
   "source": [
    "class Solution:\n",
    "    def orangesRotting(self, grid) -> int:\n",
    "        h, w = len(grid), len(grid and grid[0])\n",
    "        \n",
    "        changed = True\n",
    "        num_rounds = -1\n",
    "        while changed:\n",
    "            changed = False\n",
    "            num_rounds += 1\n",
    "            for i in range(h):\n",
    "                for j in range(w):\n",
    "\n",
    "                    if grid[i][j] == 2:\n",
    "                        for I, J in ((i-1,j), (i,j-1), (i+1,j), (i,j+1)):\n",
    "                            if 0 <= I < h and 0 <= J < w and grid[I][J] == 1:\n",
    "                                grid[I][J] = 2\n",
    "                                changed = True\n",
    "                        # visited for rotten\n",
    "                        grid[i][j] = -1\n",
    "        \n",
    "        for i in range(h):\n",
    "            for j in range(w):\n",
    "                if grid[i][j] == 1:\n",
    "                    return -1\n",
    "        \n",
    "        return num_rounds"
   ]
  },
  {
   "cell_type": "code",
   "execution_count": 3,
   "metadata": {},
   "outputs": [
    {
     "data": {
      "text/plain": [
       "1"
      ]
     },
     "execution_count": 3,
     "metadata": {},
     "output_type": "execute_result"
    }
   ],
   "source": [
    "Solution().orangesRotting([[2,1,1],[1,1,0],[0,1,1]])"
   ]
  },
  {
   "cell_type": "markdown",
   "metadata": {},
   "source": [
    "改用队列存储的BFS, 队列中每个元素存放坐标和深度, 和上面`changed`和标记想法其实差不多."
   ]
  },
  {
   "cell_type": "code",
   "execution_count": 7,
   "metadata": {},
   "outputs": [],
   "source": [
    "from collections import deque\n",
    "\n",
    "class Solution:\n",
    "    def orangesRotting(self, grid) -> int:\n",
    "        def neighbors(r, c):\n",
    "                for nr, nc in ((r-1,c),(r,c-1),(r+1,c),(r,c+1)):\n",
    "                    if 0 <= nr < h and 0 <= nc < w:\n",
    "                        yield nr, nc\n",
    "                        \n",
    "        h, w = len(grid), len(grid and grid[0])\n",
    "        \n",
    "        queue = deque()\n",
    "        for i in range(h):\n",
    "            for j in range(w):\n",
    "                if grid[i][j] == 2:\n",
    "                    queue.append((i, j, 0))\n",
    "        # 防止queue一开始为空的边界情况\n",
    "        d = 0\n",
    "        while queue:\n",
    "            i, j, d = queue.popleft()\n",
    "            for I, J in neighbors(i, j):\n",
    "                if grid[I][J] == 1:\n",
    "                    grid[I][J] = 2\n",
    "                    queue.append((I, J, d+1))\n",
    "        \n",
    "        if any(1 in i for i in grid):\n",
    "            return -1\n",
    "\n",
    "        return d"
   ]
  },
  {
   "cell_type": "markdown",
   "metadata": {},
   "source": [
    "故地重游\n",
    "\n",
    "上方: 8 months, 1 week ago\n",
    "\n",
    "下方: 2020.2.29"
   ]
  },
  {
   "cell_type": "code",
   "execution_count": 5,
   "metadata": {},
   "outputs": [],
   "source": [
    "class Solution:\n",
    "    def orangesRotting(self, A) -> int:\n",
    "        def neighbors(r, c):\n",
    "            return ((nr, nc) for nr, nc in ((r-1,c),(r,c-1),(r+1,c),(r,c+1)) if 0 <= nr < H and 0 <= nc < W and A[nr][nc] == 1)\n",
    "        \n",
    "        H, W = len(A), len(A and A[0])\n",
    "\n",
    "        bfs = [(i, j, 0) for i in range(H) for j in range(W) if A[i][j] == 2]\n",
    "        d = 0\n",
    "        for i, j, d in bfs:\n",
    "            for I, J in neighbors(i, j):\n",
    "                A[I][J] = 2\n",
    "                bfs.append((I, J, d + 1))\n",
    "        \n",
    "        return -1 if any(1 in i for i in A) else d"
   ]
  },
  {
   "cell_type": "markdown",
   "metadata": {},
   "source": [
    "又抄了份答案，`set`可以方便的做减法"
   ]
  },
  {
   "cell_type": "code",
   "execution_count": 8,
   "metadata": {},
   "outputs": [],
   "source": [
    "class Solution:\n",
    "    def orangesRotting(self, grid) -> int:\n",
    "        row, col = len(grid), len(grid[0])\n",
    "        rotting = {(i, j) for i in range(row) for j in range(col) if grid[i][j] == 2}\n",
    "        fresh = {(i, j) for i in range(row) for j in range(col) if grid[i][j] == 1}\n",
    "        timer = 0\n",
    "        while fresh:\n",
    "            if not rotting: return -1\n",
    "            rotting = {(i+di, j+dj) for i, j in rotting for di, dj in [(0, 1), (1, 0), (0, -1), (-1, 0)] if (i+di, j+dj) in fresh}\n",
    "            fresh -= rotting\n",
    "            timer += 1\n",
    "        return timer"
   ]
  },
  {
   "cell_type": "code",
   "execution_count": null,
   "metadata": {},
   "outputs": [],
   "source": []
  }
 ],
 "metadata": {
  "kernelspec": {
   "display_name": "Python 3",
   "language": "python",
   "name": "python3"
  },
  "language_info": {
   "codemirror_mode": {
    "name": "ipython",
    "version": 3
   },
   "file_extension": ".py",
   "mimetype": "text/x-python",
   "name": "python",
   "nbconvert_exporter": "python",
   "pygments_lexer": "ipython3",
   "version": "3.8.1"
  }
 },
 "nbformat": 4,
 "nbformat_minor": 2
}
