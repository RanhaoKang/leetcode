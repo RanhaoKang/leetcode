{
 "cells": [
  {
   "cell_type": "markdown",
   "metadata": {},
   "source": [
    "[994. Rotting Oranges](https://leetcode.com/problems/rotting-oranges/)"
   ]
  },
  {
   "cell_type": "markdown",
   "metadata": {},
   "source": [
    "有点元胞的意思, 规则只有一条被感染"
   ]
  },
  {
   "cell_type": "markdown",
   "metadata": {},
   "source": [
    "出现了\"一次性修改\"的问题, 导致计数错误."
   ]
  },
  {
   "cell_type": "code",
   "execution_count": 2,
   "metadata": {},
   "outputs": [],
   "source": [
    "class Solution:\n",
    "    def orangesRotting(self, grid) -> int:\n",
    "        h, w = len(grid), len(grid and grid[0])\n",
    "        \n",
    "        changed = True\n",
    "        num_rounds = -1\n",
    "        while changed:\n",
    "            changed = False\n",
    "            num_rounds += 1\n",
    "            for i in range(h):\n",
    "                for j in range(w):\n",
    "\n",
    "                    if grid[i][j] == 2:\n",
    "                        for I, J in ((i-1,j), (i,j-1), (i+1,j), (i,j+1)):\n",
    "                            if 0 <= I < h and 0 <= J < w and grid[I][J] == 1:\n",
    "                                grid[I][J] = 2\n",
    "                                changed = True\n",
    "                        # visited for rotten\n",
    "                        grid[i][j] = -1\n",
    "        \n",
    "        for i in range(h):\n",
    "            for j in range(w):\n",
    "                if grid[i][j] == 1:\n",
    "                    return -1\n",
    "        \n",
    "        return num_rounds"
   ]
  },
  {
   "cell_type": "code",
   "execution_count": 3,
   "metadata": {},
   "outputs": [
    {
     "data": {
      "text/plain": [
       "1"
      ]
     },
     "execution_count": 3,
     "metadata": {},
     "output_type": "execute_result"
    }
   ],
   "source": [
    "Solution().orangesRotting([[2,1,1],[1,1,0],[0,1,1]])"
   ]
  },
  {
   "cell_type": "markdown",
   "metadata": {},
   "source": [
    "改用队列存储的BFS, 队列中每个元素存放坐标和深度, 和上面`changed`和标记想法其实差不多."
   ]
  },
  {
   "cell_type": "code",
   "execution_count": 7,
   "metadata": {},
   "outputs": [],
   "source": [
    "from collections import deque\n",
    "\n",
    "class Solution:\n",
    "    def orangesRotting(self, grid) -> int:\n",
    "        def neighbors(r, c):\n",
    "                for nr, nc in ((r-1,c),(r,c-1),(r+1,c),(r,c+1)):\n",
    "                    if 0 <= nr < h and 0 <= nc < w:\n",
    "                        yield nr, nc\n",
    "                        \n",
    "        h, w = len(grid), len(grid and grid[0])\n",
    "        \n",
    "        queue = deque()\n",
    "        for i in range(h):\n",
    "            for j in range(w):\n",
    "                if grid[i][j] == 2:\n",
    "                    queue.append((i, j, 0))\n",
    "        # 防止queue一开始为空的边界情况\n",
    "        d = 0\n",
    "        while queue:\n",
    "            i, j, d = queue.popleft()\n",
    "            for I, J in neighbors(i, j):\n",
    "                if grid[I][J] == 1:\n",
    "                    grid[I][J] = 2\n",
    "                    queue.append((I, J, d+1))\n",
    "        \n",
    "        if any(1 in i for i in grid):\n",
    "            return -1\n",
    "\n",
    "        return d"
   ]
  },
  {
   "cell_type": "code",
   "execution_count": null,
   "metadata": {},
   "outputs": [],
   "source": []
  }
 ],
 "metadata": {
  "kernelspec": {
   "display_name": "Python 3",
   "language": "python",
   "name": "python3"
  },
  "language_info": {
   "codemirror_mode": {
    "name": "ipython",
    "version": 3
   },
   "file_extension": ".py",
   "mimetype": "text/x-python",
   "name": "python",
   "nbconvert_exporter": "python",
   "pygments_lexer": "ipython3",
   "version": "3.6.7"
  }
 },
 "nbformat": 4,
 "nbformat_minor": 2
}
