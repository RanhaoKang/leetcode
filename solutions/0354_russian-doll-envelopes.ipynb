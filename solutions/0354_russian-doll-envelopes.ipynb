{
 "cells": [
  {
   "cell_type": "markdown",
   "metadata": {},
   "source": [
    "[354. Russian Doll Envelopes](https://leetcode.com/problems/russian-doll-envelopes/)"
   ]
  },
  {
   "cell_type": "markdown",
   "metadata": {},
   "source": [
    "从LIS改了改, 在长度为3772的case上TLE了."
   ]
  },
  {
   "cell_type": "code",
   "execution_count": 24,
   "metadata": {},
   "outputs": [],
   "source": [
    "class Solution:\n",
    "    def maxEnvelopes(self, envelopes) -> int:\n",
    "        # O(nlogn)\n",
    "        envelopes.sort()\n",
    "        N = len(envelopes)\n",
    "        \n",
    "        # dp[i]: 以envelopes[i]结尾时, 可达到的最大\"套娃数量\"\n",
    "        dp = [1] * N\n",
    "        \n",
    "        for i in range(1, N):\n",
    "            h1, w1 = envelopes[i]\n",
    "            for j in range(i):\n",
    "                h2, w2 = envelopes[j]\n",
    "                if h1 > h2 and w1 > w2:\n",
    "                    dp[i] = max(dp[i], dp[j] + 1)\n",
    "        return max(dp) if N else 0"
   ]
  },
  {
   "cell_type": "code",
   "execution_count": 25,
   "metadata": {},
   "outputs": [
    {
     "data": {
      "text/plain": [
       "3"
      ]
     },
     "execution_count": 25,
     "metadata": {},
     "output_type": "execute_result"
    }
   ],
   "source": [
    "Solution().maxEnvelopes([[5,4],[6,4],[6,7],[2,3]])"
   ]
  },
  {
   "cell_type": "markdown",
   "metadata": {},
   "source": [
    "如何将问题彻底退化成LIS问题.\n",
    "\n",
    "假设输入为`[(2,3), (6,4), (6,7)]`, 在`i[0]`有序的情况下只看`i[1]`, 会得到答案为`3`, 是因为把`(6,4)`和`(6,7)`套在一起了. 此处如果让`i[0]`相等时`i[1]`倒序, 得到的LIS输入为`[3,7,4]`, 就可以得到问题正确的解了."
   ]
  },
  {
   "cell_type": "code",
   "execution_count": 26,
   "metadata": {},
   "outputs": [],
   "source": [
    "class Solution:\n",
    "    def maxEnvelopes(self, envelopes):\n",
    "        des_ht = [a[1] for a in sorted(envelopes, key = lambda x: (x[0], -x[1]))]\n",
    "        dp, l = [0] * len(des_ht), 0\n",
    "        for x in des_ht:\n",
    "            i = bisect.bisect_left(dp, x, 0, l)\n",
    "            dp[i] = x\n",
    "            if i == l:\n",
    "                l+=1\n",
    "        return l"
   ]
  },
  {
   "cell_type": "code",
   "execution_count": null,
   "metadata": {},
   "outputs": [],
   "source": []
  }
 ],
 "metadata": {
  "kernelspec": {
   "display_name": "Python 3",
   "language": "python",
   "name": "python3"
  },
  "language_info": {
   "codemirror_mode": {
    "name": "ipython",
    "version": 3
   },
   "file_extension": ".py",
   "mimetype": "text/x-python",
   "name": "python",
   "nbconvert_exporter": "python",
   "pygments_lexer": "ipython3",
   "version": "3.6.7"
  }
 },
 "nbformat": 4,
 "nbformat_minor": 2
}
