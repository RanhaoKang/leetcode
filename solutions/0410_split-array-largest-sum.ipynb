{
 "cells": [
  {
   "cell_type": "markdown",
   "metadata": {},
   "source": [
    "[410. Split Array Largest Sum](https://leetcode.com/problems/split-array-largest-sum/)"
   ]
  },
  {
   "cell_type": "code",
   "execution_count": 4,
   "metadata": {},
   "outputs": [],
   "source": [
    "class Solution:\n",
    "    def splitArray(self, nums, m: int) -> int:\n",
    "        def valid(mid):\n",
    "            cnt = current = 0\n",
    "            for n in nums:\n",
    "                current += n\n",
    "                if current > mid:\n",
    "                    cnt += 1\n",
    "                    if cnt >= m:\n",
    "                        return False\n",
    "                    current = n\n",
    "            return True\n",
    "\n",
    "        l, r = max(nums), sum(nums)\n",
    "        while l < r:\n",
    "            mid = (l + r) // 2\n",
    "            if valid(mid):\n",
    "                r = mid\n",
    "            else:\n",
    "                l = mid + 1\n",
    "\n",
    "        return l"
   ]
  },
  {
   "cell_type": "code",
   "execution_count": 5,
   "metadata": {},
   "outputs": [
    {
     "data": {
      "text/plain": [
       "18"
      ]
     },
     "execution_count": 5,
     "metadata": {},
     "output_type": "execute_result"
    }
   ],
   "source": [
    "Solution().splitArray([7,2,5,10,8], 2)"
   ]
  },
  {
   "cell_type": "code",
   "execution_count": null,
   "metadata": {},
   "outputs": [],
   "source": []
  }
 ],
 "metadata": {
  "kernelspec": {
   "display_name": "Python 3",
   "language": "python",
   "name": "python3"
  },
  "language_info": {
   "codemirror_mode": {
    "name": "ipython",
    "version": 3
   },
   "file_extension": ".py",
   "mimetype": "text/x-python",
   "name": "python",
   "nbconvert_exporter": "python",
   "pygments_lexer": "ipython3",
   "version": "3.8.1"
  }
 },
 "nbformat": 4,
 "nbformat_minor": 4
}
