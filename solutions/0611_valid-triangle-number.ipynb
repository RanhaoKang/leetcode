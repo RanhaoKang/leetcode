{
 "cells": [
  {
   "cell_type": "markdown",
   "metadata": {},
   "source": [
    "[611. Valid Triangle Number](https://leetcode.com/problems/valid-triangle-number/)"
   ]
  },
  {
   "cell_type": "markdown",
   "metadata": {},
   "source": [
    "自己只想到粗略的双指针, 卡两侧然后判断中间的数的时候可以early break. 更详细的解法见https://leetcode.com/problems/valid-triangle-number/discuss/128135/A-similar-O(n2)-solution-to-3-Sum"
   ]
  },
  {
   "cell_type": "code",
   "execution_count": 1,
   "metadata": {},
   "outputs": [],
   "source": [
    "class Solution:\n",
    "    def triangleNumber(self, nums) -> int:\n",
    "        res = 0\n",
    "        nums = sorted(nums)\n",
    "        \n",
    "        for k in range(len(nums)-1, 1, -1):\n",
    "            i, j = 0, k - 1\n",
    "            while i < j:\n",
    "                if nums[i] + nums[j] > nums[k]:\n",
    "                    res += j - i\n",
    "                    j -= 1\n",
    "                else:\n",
    "                    i += 1\n",
    "        \n",
    "        return res"
   ]
  },
  {
   "cell_type": "code",
   "execution_count": null,
   "metadata": {},
   "outputs": [],
   "source": []
  }
 ],
 "metadata": {
  "kernelspec": {
   "display_name": "Python 3",
   "language": "python",
   "name": "python3"
  },
  "language_info": {
   "codemirror_mode": {
    "name": "ipython",
    "version": 3
   },
   "file_extension": ".py",
   "mimetype": "text/x-python",
   "name": "python",
   "nbconvert_exporter": "python",
   "pygments_lexer": "ipython3",
   "version": "3.6.7"
  }
 },
 "nbformat": 4,
 "nbformat_minor": 2
}
