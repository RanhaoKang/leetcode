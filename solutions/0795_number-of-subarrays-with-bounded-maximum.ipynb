{
 "cells": [
  {
   "cell_type": "markdown",
   "metadata": {},
   "source": [
    "[795. Number of Subarrays with Bounded Maximum](https://leetcode.com/problems/number-of-subarrays-with-bounded-maximum/)"
   ]
  },
  {
   "cell_type": "code",
   "execution_count": 1,
   "metadata": {},
   "outputs": [],
   "source": [
    "from itertools import accumulate\n",
    "\n",
    "class Solution:\n",
    "    def numSubarrayBoundedMax(self, A, L: int, R: int) -> int:\n",
    "        left = list(accumulate(A, func = max))\n",
    "        right = list(accumulate(reversed(A), func = max))[::-1]\n",
    "        \n",
    "        A = [L <= i <= R for i in A]\n",
    "        print('LEFT: ', left)\n",
    "        print('RIGHT:', right)\n",
    "        print(A)"
   ]
  },
  {
   "cell_type": "code",
   "execution_count": 2,
   "metadata": {},
   "outputs": [
    {
     "name": "stdout",
     "output_type": "stream",
     "text": [
      "LEFT:  [2, 2, 4, 4]\n",
      "RIGHT: [4, 4, 4, 3]\n",
      "[True, False, False, True]\n"
     ]
    }
   ],
   "source": [
    "Solution().numSubarrayBoundedMax([2,1,4,3],2,3)"
   ]
  },
  {
   "cell_type": "code",
   "execution_count": 3,
   "metadata": {},
   "outputs": [],
   "source": [
    "class Solution(object):\n",
    "    def numSubarrayBoundedMax(self, A, L, R):\n",
    "        \"\"\"\n",
    "        :type A: List[int]\n",
    "        :type L: int\n",
    "        :type R: int\n",
    "        :rtype: int\n",
    "        \"\"\"\n",
    "        res, dp = 0, 0\n",
    "        prev = -1\n",
    "        for i in range(len(A)):\n",
    "            if A[i] < L and i > 0:\n",
    "                res += dp\n",
    "            if A[i] > R:\n",
    "                dp = 0\n",
    "                prev = i\n",
    "            if L <= A[i] <= R:\n",
    "                dp = i - prev\n",
    "                res += dp\n",
    "        return res"
   ]
  },
  {
   "cell_type": "code",
   "execution_count": 4,
   "metadata": {},
   "outputs": [
    {
     "data": {
      "text/plain": [
       "3"
      ]
     },
     "execution_count": 4,
     "metadata": {},
     "output_type": "execute_result"
    }
   ],
   "source": [
    "Solution().numSubarrayBoundedMax([2,1,4,3],2,3)"
   ]
  },
  {
   "cell_type": "code",
   "execution_count": null,
   "metadata": {},
   "outputs": [],
   "source": []
  }
 ],
 "metadata": {
  "kernelspec": {
   "display_name": "Python 3",
   "language": "python",
   "name": "python3"
  },
  "language_info": {
   "codemirror_mode": {
    "name": "ipython",
    "version": 3
   },
   "file_extension": ".py",
   "mimetype": "text/x-python",
   "name": "python",
   "nbconvert_exporter": "python",
   "pygments_lexer": "ipython3",
   "version": "3.6.7"
  }
 },
 "nbformat": 4,
 "nbformat_minor": 2
}
