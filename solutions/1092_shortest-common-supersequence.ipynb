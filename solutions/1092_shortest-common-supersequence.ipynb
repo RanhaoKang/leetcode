{
 "cells": [
  {
   "cell_type": "markdown",
   "metadata": {},
   "source": [
    "[1092. Shortest Common Supersequence](https://leetcode.com/problems/shortest-common-supersequence/)"
   ]
  },
  {
   "cell_type": "code",
   "execution_count": 2,
   "metadata": {},
   "outputs": [],
   "source": [
    "class Solution:\n",
    "    def longestCommonSubsequence(self, w1: str, w2: str) -> int:\n",
    "        m, n = len(w1), len(w2)\n",
    "        dp = [[\"\"] * (n + 1) for _ in range(m + 1)]\n",
    "        \n",
    "        for i in range(m):\n",
    "            for j in range(n):\n",
    "                if w1[i] == w2[j]:\n",
    "                    dp[i + 1][j + 1] = dp[i][j] + w1[i]\n",
    "                else:\n",
    "                    dp[i + 1][j + 1] = max(dp[i + 1][j], dp[i][j + 1], key=len)\n",
    "        \n",
    "        return dp[-1][-1]\n",
    "\n",
    "    def shortestCommonSupersequence(self, A: str, B: str) -> str:\n",
    "        res, i, j = \"\", 0, 0\n",
    "        for c in self.longestCommonSubsequence(A, B):\n",
    "            while A[i] != c:\n",
    "                res += A[i]\n",
    "                i += 1\n",
    "            while B[j] != c:\n",
    "                res += B[j]\n",
    "                j += 1\n",
    "            res += c\n",
    "            i += 1; j += 1\n",
    "        \n",
    "        return res + A[i:] + B[j:]"
   ]
  },
  {
   "cell_type": "code",
   "execution_count": null,
   "metadata": {},
   "outputs": [],
   "source": []
  }
 ],
 "metadata": {
  "kernelspec": {
   "display_name": "Python 3",
   "language": "python",
   "name": "python3"
  },
  "language_info": {
   "codemirror_mode": {
    "name": "ipython",
    "version": 3
   },
   "file_extension": ".py",
   "mimetype": "text/x-python",
   "name": "python",
   "nbconvert_exporter": "python",
   "pygments_lexer": "ipython3",
   "version": "3.8.1"
  }
 },
 "nbformat": 4,
 "nbformat_minor": 4
}
