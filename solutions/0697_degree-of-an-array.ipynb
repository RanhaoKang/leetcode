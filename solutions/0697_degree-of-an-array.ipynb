{
 "cells": [
  {
   "cell_type": "markdown",
   "metadata": {},
   "source": [
    "[697. Degree of an Array](https://leetcode.com/problems/degree-of-an-array/)"
   ]
  },
  {
   "cell_type": "markdown",
   "metadata": {},
   "source": [
    "自己的想法记录了`first`和`last`, 遍历完了去对每一个出现次数最多的数求一下长度取最小值.\n",
    "\n",
    "lee的追求了一下one-pass"
   ]
  },
  {
   "cell_type": "code",
   "execution_count": 2,
   "metadata": {},
   "outputs": [],
   "source": [
    "class Solution:\n",
    "    def findShortestSubArray(self, A) -> int:\n",
    "        first, count, res, degree = {}, {}, 0, 0\n",
    "\n",
    "        for i, a in enumerate(A):\n",
    "            first.setdefault(a, i)\n",
    "            count[a] = count.get(a, 0) + 1\n",
    "            if count[a] > degree:\n",
    "                degree = count[a]\n",
    "                res = i - first[a] + 1\n",
    "            elif count[a] == degree:\n",
    "                res = min(res, i - first[a] + 1)\n",
    "        return res"
   ]
  },
  {
   "cell_type": "code",
   "execution_count": null,
   "metadata": {},
   "outputs": [],
   "source": []
  }
 ],
 "metadata": {
  "kernelspec": {
   "display_name": "Python 3",
   "language": "python",
   "name": "python3"
  },
  "language_info": {
   "codemirror_mode": {
    "name": "ipython",
    "version": 3
   },
   "file_extension": ".py",
   "mimetype": "text/x-python",
   "name": "python",
   "nbconvert_exporter": "python",
   "pygments_lexer": "ipython3",
   "version": "3.7.3"
  }
 },
 "nbformat": 4,
 "nbformat_minor": 2
}
