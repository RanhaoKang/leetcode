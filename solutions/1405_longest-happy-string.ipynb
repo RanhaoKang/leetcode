{
 "cells": [
  {
   "cell_type": "markdown",
   "metadata": {},
   "source": [
    "[1405. Longest Happy String](https://leetcode.com/problems/longest-happy-string/)"
   ]
  },
  {
   "cell_type": "markdown",
   "metadata": {},
   "source": [
    "还记得用指代性变量替代字面量减少代码量的方法，没想到是在每次递归都在用"
   ]
  },
  {
   "cell_type": "code",
   "execution_count": 28,
   "metadata": {},
   "outputs": [],
   "source": [
    "class Solution:\n",
    "    def longestDiverseString(self, a, b, c, A='a', B='b', C='c') -> str:\n",
    "        if a < b:\n",
    "            return self.longestDiverseString(b,a,c,B,A,C)\n",
    "        elif b < c:\n",
    "            return self.longestDiverseString(a,c,b,A,C,B)\n",
    "        elif b == 0:\n",
    "            return A * min(2, a)\n",
    "        \n",
    "        aa = min(2, a)\n",
    "        bb = a - aa >= b\n",
    "        \n",
    "        return A * aa + B * bb + self.longestDiverseString(a - aa, b - bb, c, A, B, C)"
   ]
  },
  {
   "cell_type": "code",
   "execution_count": 29,
   "metadata": {},
   "outputs": [
    {
     "data": {
      "text/plain": [
       "'ccaccbcc'"
      ]
     },
     "execution_count": 29,
     "metadata": {},
     "output_type": "execute_result"
    }
   ],
   "source": [
    "Solution().longestDiverseString(1,1,7)"
   ]
  },
  {
   "cell_type": "code",
   "execution_count": 30,
   "metadata": {},
   "outputs": [
    {
     "data": {
      "text/plain": [
       "'aaccaaccaaccab'"
      ]
     },
     "execution_count": 30,
     "metadata": {},
     "output_type": "execute_result"
    }
   ],
   "source": [
    "Solution().longestDiverseString(7,1,6)"
   ]
  },
  {
   "cell_type": "code",
   "execution_count": null,
   "metadata": {},
   "outputs": [],
   "source": []
  }
 ],
 "metadata": {
  "kernelspec": {
   "display_name": "Python 3",
   "language": "python",
   "name": "python3"
  },
  "language_info": {
   "codemirror_mode": {
    "name": "ipython",
    "version": 3
   },
   "file_extension": ".py",
   "mimetype": "text/x-python",
   "name": "python",
   "nbconvert_exporter": "python",
   "pygments_lexer": "ipython3",
   "version": "3.8.0b3"
  }
 },
 "nbformat": 4,
 "nbformat_minor": 2
}
