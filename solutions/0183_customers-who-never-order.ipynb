{
 "cells": [
  {
   "cell_type": "markdown",
   "metadata": {},
   "source": [
    "[183. Customers Who Never Order](https://leetcode.com/problems/customers-who-never-order/)"
   ]
  },
  {
   "cell_type": "markdown",
   "metadata": {},
   "source": [
    "```sql\n",
    "# Write your MySQL query statement below\n",
    "select customers.name as 'Customers'\n",
    "from customers\n",
    "where customers.id not in\n",
    "(\n",
    "    select customerid from orders\n",
    ");\n",
    "```"
   ]
  },
  {
   "cell_type": "code",
   "execution_count": 3,
   "metadata": {},
   "outputs": [],
   "source": [
    "import sqlite3\n",
    "con = sqlite3.connect(':memory:')\n",
    "cur = con.cursor()\n",
    "cur.execute('Create table If Not Exists Customers (Id int, Name varchar(255))')\n",
    "cur.execute('Create table If Not Exists Orders (Id int, CustomerId int)')\n",
    "\n",
    "cur.execute(\"insert into Customers (Id, Name) values ('1', 'Joe')\")\n",
    "cur.execute(\"insert into Customers (Id, Name) values ('2', 'Henry')\")\n",
    "cur.execute(\"insert into Customers (Id, Name) values ('3', 'Sam')\")\n",
    "cur.execute(\"insert into Customers (Id, Name) values ('4', 'Max')\")\n",
    "\n",
    "cur.execute(\"insert into Orders (Id, CustomerId) values ('1', '3')\")\n",
    "cur.execute(\"insert into Orders (Id, CustomerId) values ('2', '1')\")\n",
    "con.commit()"
   ]
  },
  {
   "cell_type": "code",
   "execution_count": 4,
   "metadata": {},
   "outputs": [
    {
     "data": {
      "text/plain": [
       "[(1, 'Joe'), (2, 'Henry'), (3, 'Sam'), (4, 'Max')]"
      ]
     },
     "execution_count": 4,
     "metadata": {},
     "output_type": "execute_result"
    }
   ],
   "source": [
    "cur.execute('select * from Customers;').fetchall()"
   ]
  },
  {
   "cell_type": "code",
   "execution_count": 5,
   "metadata": {},
   "outputs": [
    {
     "data": {
      "text/plain": [
       "[(1, 3), (2, 1)]"
      ]
     },
     "execution_count": 5,
     "metadata": {},
     "output_type": "execute_result"
    }
   ],
   "source": [
    "cur.execute('select * from Orders;').fetchall()"
   ]
  },
  {
   "cell_type": "code",
   "execution_count": 6,
   "metadata": {},
   "outputs": [
    {
     "data": {
      "text/plain": [
       "[('Henry',), ('Max',)]"
      ]
     },
     "execution_count": 6,
     "metadata": {},
     "output_type": "execute_result"
    }
   ],
   "source": [
    "cur.execute('''\n",
    "select customers.name as 'Customers'\n",
    "from customers\n",
    "where customers.id not in\n",
    "(\n",
    "    select customerid from orders\n",
    ");\n",
    "''').fetchall()"
   ]
  },
  {
   "cell_type": "code",
   "execution_count": null,
   "metadata": {},
   "outputs": [],
   "source": []
  }
 ],
 "metadata": {
  "kernelspec": {
   "display_name": "Python 3",
   "language": "python",
   "name": "python3"
  },
  "language_info": {
   "codemirror_mode": {
    "name": "ipython",
    "version": 3
   },
   "file_extension": ".py",
   "mimetype": "text/x-python",
   "name": "python",
   "nbconvert_exporter": "python",
   "pygments_lexer": "ipython3",
   "version": "3.6.7"
  }
 },
 "nbformat": 4,
 "nbformat_minor": 2
}
