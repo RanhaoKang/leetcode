{
 "cells": [
  {
   "cell_type": "markdown",
   "metadata": {},
   "source": [
    "[279. Perfect Squares](https://leetcode.com/problems/perfect-squares/)"
   ]
  },
  {
   "cell_type": "code",
   "execution_count": null,
   "metadata": {},
   "outputs": [],
   "source": [
    "class Solution:\n",
    "    def numSquares(self, n: int) -> int:\n",
    "        dp = list(range(n + 1))\n",
    "        i = 0\n",
    "        while i * i <= n:\n",
    "            dp[i * i] = 1\n",
    "            for j in range(i * i, min(n, (i + 1) * (i * 1)) + 1):\n",
    "                dp[j] = j - i * i +\n",
    "            \n",
    "            i += 1\n",
    "        \n",
    "        return dp[n]"
   ]
  },
  {
   "cell_type": "markdown",
   "metadata": {},
   "source": [
    "根据[Lagrange's four-square theorem](https://en.wikipedia.org/wiki/Lagrange%27s_four-square_theorem), 每个自然数都可以拆分成四个整数平方的和(包括$0^2$)\n",
    "\n",
    "根据[Legendre's three-square theorem](https://en.wikipedia.org/wiki/Legendre%27s_three-square_theorem), 当且仅当$n$不满足$n = 4^a(8b + 7)$的形式时, $n$可以被拆分为三个整数平方的和."
   ]
  },
  {
   "cell_type": "code",
   "execution_count": 32,
   "metadata": {},
   "outputs": [],
   "source": [
    "class Solution:\n",
    "    def numSquares(self, n: int) -> int:\n",
    "        is_square = lambda x: int(x ** 0.5) * int(x ** 0.5) == x\n",
    "        \n",
    "        if is_square(n):\n",
    "            return 1\n",
    "        \n",
    "        \n",
    "        # 根据Legendre's three-square theorem, 若n = 4^a(8b + 7), 则只能被拆分为4个数的和\n",
    "        while n % 4 == 0:\n",
    "            n //= 4\n",
    "        if n % 8 == 7:\n",
    "            return 4\n",
    "        \n",
    "        \n",
    "        # 即便此处的n有可能已经被//=4过, 依然不影响结果\n",
    "        # a^2 + b^2 = n / 4^k\n",
    "        # n = 4^k * (a^2 + b^2)\n",
    "        #   = (2^k * a)^2 + (2^k * b)^2\n",
    "        for i in range(1, int(n ** 0.5) + 1):\n",
    "            if is_square(n - i * i):\n",
    "                return 2\n",
    "\n",
    "        return 3"
   ]
  },
  {
   "cell_type": "code",
   "execution_count": 26,
   "metadata": {},
   "outputs": [],
   "source": [
    "is_square = lambda x: int(x ** 0.5) * int(x ** 0.5) == x"
   ]
  },
  {
   "cell_type": "code",
   "execution_count": 27,
   "metadata": {},
   "outputs": [
    {
     "name": "stdout",
     "output_type": "stream",
     "text": [
      "here 2 1\n"
     ]
    },
    {
     "data": {
      "text/plain": [
       "2"
      ]
     },
     "execution_count": 27,
     "metadata": {},
     "output_type": "execute_result"
    }
   ],
   "source": [
    "Solution().numSquares(2)"
   ]
  },
  {
   "cell_type": "code",
   "execution_count": 14,
   "metadata": {},
   "outputs": [
    {
     "name": "stdout",
     "output_type": "stream",
     "text": [
      "18.2 ns ± 0.201 ns per loop (mean ± std. dev. of 7 runs, 100000000 loops each)\n"
     ]
    }
   ],
   "source": [
    "%timeit 100 & 3 == 0"
   ]
  },
  {
   "cell_type": "code",
   "execution_count": 15,
   "metadata": {},
   "outputs": [
    {
     "name": "stdout",
     "output_type": "stream",
     "text": [
      "18.8 ns ± 0.241 ns per loop (mean ± std. dev. of 7 runs, 100000000 loops each)\n"
     ]
    }
   ],
   "source": [
    "%timeit 100 % 4 == 0"
   ]
  },
  {
   "cell_type": "code",
   "execution_count": 19,
   "metadata": {},
   "outputs": [
    {
     "data": {
      "text/plain": [
       "2"
      ]
     },
     "execution_count": 19,
     "metadata": {},
     "output_type": "execute_result"
    }
   ],
   "source": [
    "8 >> 2"
   ]
  },
  {
   "cell_type": "code",
   "execution_count": 21,
   "metadata": {},
   "outputs": [
    {
     "data": {
      "text/plain": [
       "True"
      ]
     },
     "execution_count": 21,
     "metadata": {},
     "output_type": "execute_result"
    }
   ],
   "source": [
    "is_square(1)"
   ]
  },
  {
   "cell_type": "code",
   "execution_count": null,
   "metadata": {},
   "outputs": [],
   "source": []
  }
 ],
 "metadata": {
  "kernelspec": {
   "display_name": "Python 3",
   "language": "python",
   "name": "python3"
  },
  "language_info": {
   "codemirror_mode": {
    "name": "ipython",
    "version": 3
   },
   "file_extension": ".py",
   "mimetype": "text/x-python",
   "name": "python",
   "nbconvert_exporter": "python",
   "pygments_lexer": "ipython3",
   "version": "3.6.7"
  }
 },
 "nbformat": 4,
 "nbformat_minor": 2
}
