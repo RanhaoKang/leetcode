{
 "cells": [
  {
   "cell_type": "markdown",
   "metadata": {},
   "source": [
    "[74. Search a 2D Matrix](https://leetcode.com/problems/search-a-2d-matrix/)"
   ]
  },
  {
   "cell_type": "markdown",
   "metadata": {},
   "source": [
    "两次二分, $O(mlogn)$, 44ms"
   ]
  },
  {
   "cell_type": "code",
   "execution_count": 2,
   "metadata": {},
   "outputs": [],
   "source": [
    "class Solution:\n",
    "    def searchMatrix(self, matrix, target: int) -> bool:\n",
    "        h, w = len(matrix), len(matrix and matrix[0])\n",
    "        if not h or not w:\n",
    "            return False\n",
    "        \n",
    "        top, bottom = 0, h - 1\n",
    "        \n",
    "        while top < bottom:\n",
    "            mid = (top + bottom) // 2\n",
    "            if matrix[mid][0] == target:\n",
    "                return True\n",
    "            elif matrix[mid][0] < target < matrix[mid + 1][0]:\n",
    "                bottom = mid\n",
    "                break\n",
    "            elif matrix[mid][0] > target:\n",
    "                bottom = mid - 1\n",
    "            else:\n",
    "                top = mid + 1\n",
    "        \n",
    "        if h == 1:\n",
    "            bottom = 0\n",
    "        \n",
    "        left, right = 0, w - 1\n",
    "        while left < right:\n",
    "            mid = (left + right) // 2\n",
    "            if matrix[bottom][mid] == target:\n",
    "                return True\n",
    "            elif matrix[bottom][mid] > target:\n",
    "                right = mid - 1\n",
    "            else:\n",
    "                left = mid + 1\n",
    "        \n",
    "        if w == 1:\n",
    "            return matrix[bottom][0] == target\n",
    "        return matrix[bottom][right] == target"
   ]
  },
  {
   "cell_type": "markdown",
   "metadata": {},
   "source": [
    "当作列表处理, 二分, $O(logmn)$, 56ms"
   ]
  },
  {
   "cell_type": "code",
   "execution_count": 3,
   "metadata": {},
   "outputs": [],
   "source": [
    "class Solution:\n",
    "    def searchMatrix(self, matrix, target: int) -> bool:\n",
    "        h, w = len(matrix), len(matrix and matrix[0])\n",
    "        l, r = 0, h * w - 1\n",
    "        if not h or not w:\n",
    "            return False\n",
    "        while l != r:\n",
    "            m = (l + r - 1) // 2\n",
    "            if matrix[m // w][m % w] < target:\n",
    "                l = m + 1\n",
    "            else:\n",
    "                r = m\n",
    "        \n",
    "        return matrix[r // w][r % w] == target"
   ]
  },
  {
   "cell_type": "code",
   "execution_count": null,
   "metadata": {},
   "outputs": [],
   "source": []
  }
 ],
 "metadata": {
  "kernelspec": {
   "display_name": "Python 3",
   "language": "python",
   "name": "python3"
  },
  "language_info": {
   "codemirror_mode": {
    "name": "ipython",
    "version": 3
   },
   "file_extension": ".py",
   "mimetype": "text/x-python",
   "name": "python",
   "nbconvert_exporter": "python",
   "pygments_lexer": "ipython3",
   "version": "3.6.7"
  }
 },
 "nbformat": 4,
 "nbformat_minor": 2
}
