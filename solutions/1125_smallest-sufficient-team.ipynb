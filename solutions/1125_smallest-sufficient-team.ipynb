{
 "cells": [
  {
   "cell_type": "markdown",
   "metadata": {},
   "source": [
    "[1125. Smallest Sufficient Team](https://leetcode.com/problems/smallest-sufficient-team/)"
   ]
  },
  {
   "cell_type": "markdown",
   "metadata": {},
   "source": [
    "https://leetcode.com/problems/smallest-sufficient-team/discuss/334572/Python-DP-Solution\n",
    "\n",
    "讨论区回复提到了与Bellman-Ford很像"
   ]
  },
  {
   "cell_type": "code",
   "execution_count": 1,
   "metadata": {},
   "outputs": [],
   "source": [
    "class Solution:\n",
    "    def smallestSufficientTeam(self, req_skills, people):\n",
    "        n, m = len(req_skills), len(people)\n",
    "        key = {v: i for i, v in enumerate(req_skills)}\n",
    "        # dp[i]: team covering skill_sets i\n",
    "        dp = {0: []}\n",
    "        \n",
    "        for i, p in enumerate(people):\n",
    "            skill = 0\n",
    "            for s in p:\n",
    "                if s in key:\n",
    "                    skill |= 1 << key[s]\n",
    "            \n",
    "            items = list(dp.items()) # dict can't change during iteration\n",
    "            for skill_set, need in items:\n",
    "                join_in = skill_set | skill\n",
    "                \n",
    "                if join_in == skill_set:\n",
    "                    continue\n",
    "                \n",
    "                if join_in not in dp or len(dp[join_in]) > len(need) + 1:\n",
    "                    dp[join_in] = need + [i]\n",
    "            \n",
    "        return dp[(1 << n) - 1]"
   ]
  },
  {
   "cell_type": "code",
   "execution_count": null,
   "metadata": {},
   "outputs": [],
   "source": []
  }
 ],
 "metadata": {
  "kernelspec": {
   "display_name": "Python 3",
   "language": "python",
   "name": "python3"
  },
  "language_info": {
   "codemirror_mode": {
    "name": "ipython",
    "version": 3
   },
   "file_extension": ".py",
   "mimetype": "text/x-python",
   "name": "python",
   "nbconvert_exporter": "python",
   "pygments_lexer": "ipython3",
   "version": "3.8.0b3"
  }
 },
 "nbformat": 4,
 "nbformat_minor": 2
}
