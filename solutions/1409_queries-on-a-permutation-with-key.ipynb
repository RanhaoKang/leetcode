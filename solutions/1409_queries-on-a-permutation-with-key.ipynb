{
 "cells": [
  {
   "cell_type": "markdown",
   "metadata": {},
   "source": [
    "[1409. Queries on a Permutation With Key](https://leetcode.com/problems/queries-on-a-permutation-with-key/)"
   ]
  },
  {
   "cell_type": "code",
   "execution_count": 1,
   "metadata": {},
   "outputs": [],
   "source": [
    "class Fenwick:\n",
    "    def __init__(self, n):\n",
    "        sz = 1\n",
    "        while sz <= n:\n",
    "            sz *= 2\n",
    "        self.size = sz\n",
    "        self.data = [0] * sz\n",
    "\n",
    "    def sum(self, i):\n",
    "        s = 0\n",
    "        while i > 0:\n",
    "            s += self.data[i]\n",
    "            i -= i & -i\n",
    "        return s\n",
    "\n",
    "    def add(self, i, x):\n",
    "        while i < self.size:\n",
    "            self.data[i] += x\n",
    "            i += i & -i\n",
    "\n",
    "class Solution:\n",
    "    def processQueries(self, queries, n):\n",
    "        fenw = Fenwick(2 * n)\n",
    "        vimap = {}\n",
    "        for i in range(1, n + 1):\n",
    "            fenw.add(i + n, 1)\n",
    "            vimap[i] = i + n\n",
    "        cur = n\n",
    "        \n",
    "        ans = []\n",
    "        for q in queries:\n",
    "            i = vimap.pop(q)\n",
    "            rank = fenw.sum(i-1)\n",
    "            ans.append(rank)\n",
    "            \n",
    "            vimap[q] = cur\n",
    "            fenw.add(i, -1)\n",
    "            fenw.add(cur, 1)\n",
    "            cur -= 1\n",
    "        return ans"
   ]
  }
 ],
 "metadata": {
  "kernelspec": {
   "display_name": "Python 3",
   "language": "python",
   "name": "python3"
  },
  "language_info": {
   "codemirror_mode": {
    "name": "ipython",
    "version": 3
   },
   "file_extension": ".py",
   "mimetype": "text/x-python",
   "name": "python",
   "nbconvert_exporter": "python",
   "pygments_lexer": "ipython3",
   "version": "3.8.0b3"
  }
 },
 "nbformat": 4,
 "nbformat_minor": 2
}
