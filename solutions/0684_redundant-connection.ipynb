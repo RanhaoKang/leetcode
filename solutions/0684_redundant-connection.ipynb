{
 "cells": [
  {
   "cell_type": "markdown",
   "metadata": {},
   "source": [
    "[684. Redundant Connection](https://leetcode.com/problems/redundant-connection/)"
   ]
  },
  {
   "cell_type": "markdown",
   "metadata": {},
   "source": [
    "对每个edge都dfs判断成环"
   ]
  },
  {
   "cell_type": "code",
   "execution_count": 1,
   "metadata": {},
   "outputs": [],
   "source": [
    "from collections import defaultdict\n",
    "\n",
    "class Solution:\n",
    "    def findRedundantConnection(self, edges):\n",
    "        G = defaultdict(set)\n",
    "        \n",
    "        def dfs(s, t):\n",
    "            if s not in seen:\n",
    "                seen.add(s)\n",
    "                if s == t:\n",
    "                    return True\n",
    "                return any(dfs(n, t) for n in G[s])\n",
    "        \n",
    "        for u, v in edges:\n",
    "            seen = set()\n",
    "            if u in G and v in G and dfs(u, v):\n",
    "                return u, v\n",
    "            G[u].add(v)\n",
    "            G[v].add(u)"
   ]
  },
  {
   "cell_type": "code",
   "execution_count": null,
   "metadata": {},
   "outputs": [],
   "source": []
  }
 ],
 "metadata": {
  "kernelspec": {
   "display_name": "Python 3",
   "language": "python",
   "name": "python3"
  },
  "language_info": {
   "codemirror_mode": {
    "name": "ipython",
    "version": 3
   },
   "file_extension": ".py",
   "mimetype": "text/x-python",
   "name": "python",
   "nbconvert_exporter": "python",
   "pygments_lexer": "ipython3",
   "version": "3.6.7"
  }
 },
 "nbformat": 4,
 "nbformat_minor": 2
}
