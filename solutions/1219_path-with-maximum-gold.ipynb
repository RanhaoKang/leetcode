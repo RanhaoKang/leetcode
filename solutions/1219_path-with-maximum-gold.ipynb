{
 "cells": [
  {
   "cell_type": "markdown",
   "metadata": {},
   "source": [
    "[1219. Path with Maximum Gold](https://leetcode.com/problems/path-with-maximum-gold/)"
   ]
  },
  {
   "cell_type": "markdown",
   "metadata": {},
   "source": [
    "错了"
   ]
  },
  {
   "cell_type": "code",
   "execution_count": 27,
   "metadata": {},
   "outputs": [],
   "source": [
    "class Solution:\n",
    "    def getMaximumGold(self, A) -> int:\n",
    "        H, W = len(A), len(A and A[0])\n",
    "        \n",
    "        def dfs(i, j, cur = 0):\n",
    "            print(i, j)\n",
    "            res = cur\n",
    "            for di, dj in ((0, 1), (1, 0), (-1, 0), (0, -1)):\n",
    "                ii, jj = i + di, j + dj\n",
    "                if 0 <= ii < H and 0 <= jj < W and A[ii][jj]:\n",
    "                    tmp, A[ii][jj] = A[ii][jj], 0\n",
    "                    res = max(res, dfs(ii, jj, cur + tmp))\n",
    "                    A[ii][jj] = tmp\n",
    "            \n",
    "            return res\n",
    "        \n",
    "        return max(dfs(i, j) for i in range(H) for j in range(W) if 0 <= i < H and 0 <= j < W and A[i][j])"
   ]
  },
  {
   "cell_type": "markdown",
   "metadata": {},
   "source": [
    "改了以后对了"
   ]
  },
  {
   "cell_type": "code",
   "execution_count": 25,
   "metadata": {},
   "outputs": [],
   "source": [
    "class Solution:\n",
    "    def getMaximumGold(self, A) -> int:\n",
    "        H, W = len(A), len(A and A[0])\n",
    "        \n",
    "        def dfs(i, j, cur = 0):\n",
    "            print(i, j)\n",
    "            tmp, A[i][j] = A[i][j], 0\n",
    "            res = cur + tmp\n",
    "            for di, dj in ((0, 1), (1, 0), (-1, 0), (0, -1)):\n",
    "                ii, jj = i + di, j + dj\n",
    "                if 0 <= ii < H and 0 <= jj < W and A[ii][jj]:\n",
    "                    res = max(res, dfs(ii, jj, cur + tmp))\n",
    "\n",
    "            A[i][j] = tmp\n",
    "            return res\n",
    "        \n",
    "        return max(dfs(i, j) for i in range(H) for j in range(W) if 0 <= i < H and 0 <= j < W and A[i][j])"
   ]
  },
  {
   "cell_type": "code",
   "execution_count": 17,
   "metadata": {},
   "outputs": [
    {
     "data": {
      "text/plain": [
       "24"
      ]
     },
     "execution_count": 17,
     "metadata": {},
     "output_type": "execute_result"
    }
   ],
   "source": [
    "Solution().getMaximumGold([[0,6,0],[5,8,7],[0,9,0]])"
   ]
  },
  {
   "cell_type": "code",
   "execution_count": 18,
   "metadata": {},
   "outputs": [
    {
     "data": {
      "text/plain": [
       "28"
      ]
     },
     "execution_count": 18,
     "metadata": {},
     "output_type": "execute_result"
    }
   ],
   "source": [
    "Solution().getMaximumGold([[1,0,7],[2,0,6],[3,4,5],[0,3,0],[9,0,20]])"
   ]
  },
  {
   "cell_type": "code",
   "execution_count": 29,
   "metadata": {},
   "outputs": [],
   "source": [
    "A = [\n",
    "    [0,0,34,0,5,0,7,0,0,0],\n",
    "    [0,0,0,0,21,0,0,0,0,0],\n",
    "    [0,18,0,0,8,0,0,0,4,0],\n",
    "    [0,0,0,0,0,0,0,0,0,0],\n",
    "    [15,0,0,0,0,22,0,0,0,21],\n",
    "    [0,0,0,0,0,0,0,0,0,0],\n",
    "    [0,7,0,0,0,0,0,0,38,0]\n",
    "]"
   ]
  },
  {
   "cell_type": "code",
   "execution_count": 22,
   "metadata": {},
   "outputs": [
    {
     "data": {
      "text/plain": [
       "34"
      ]
     },
     "execution_count": 22,
     "metadata": {},
     "output_type": "execute_result"
    }
   ],
   "source": [
    "Solution().getMaximumGold(A)"
   ]
  },
  {
   "cell_type": "code",
   "execution_count": 26,
   "metadata": {},
   "outputs": [
    {
     "name": "stdout",
     "output_type": "stream",
     "text": [
      "0 2\n",
      "0 4\n",
      "1 4\n",
      "2 4\n",
      "0 6\n",
      "1 4\n",
      "2 4\n",
      "0 4\n",
      "2 1\n",
      "2 4\n",
      "1 4\n",
      "0 4\n",
      "2 8\n",
      "4 0\n",
      "4 5\n",
      "4 9\n",
      "6 1\n",
      "6 8\n"
     ]
    },
    {
     "data": {
      "text/plain": [
       "38"
      ]
     },
     "execution_count": 26,
     "metadata": {},
     "output_type": "execute_result"
    }
   ],
   "source": [
    "Solution().getMaximumGold(A)"
   ]
  },
  {
   "cell_type": "code",
   "execution_count": 28,
   "metadata": {},
   "outputs": [
    {
     "name": "stdout",
     "output_type": "stream",
     "text": [
      "0 2\n",
      "0 4\n",
      "1 4\n",
      "2 4\n",
      "0 4\n",
      "0 6\n",
      "1 4\n",
      "2 4\n",
      "1 4\n",
      "0 4\n",
      "0 4\n",
      "1 4\n",
      "2 4\n",
      "2 1\n",
      "2 4\n",
      "1 4\n",
      "2 4\n",
      "0 4\n",
      "2 8\n",
      "4 0\n",
      "4 5\n",
      "4 9\n",
      "6 1\n",
      "6 8\n"
     ]
    },
    {
     "data": {
      "text/plain": [
       "34"
      ]
     },
     "execution_count": 28,
     "metadata": {},
     "output_type": "execute_result"
    }
   ],
   "source": [
    "Solution().getMaximumGold(A)"
   ]
  },
  {
   "cell_type": "code",
   "execution_count": null,
   "metadata": {},
   "outputs": [],
   "source": []
  }
 ],
 "metadata": {
  "kernelspec": {
   "display_name": "Python 3",
   "language": "python",
   "name": "python3"
  },
  "language_info": {
   "codemirror_mode": {
    "name": "ipython",
    "version": 3
   },
   "file_extension": ".py",
   "mimetype": "text/x-python",
   "name": "python",
   "nbconvert_exporter": "python",
   "pygments_lexer": "ipython3",
   "version": "3.8.1"
  }
 },
 "nbformat": 4,
 "nbformat_minor": 4
}
