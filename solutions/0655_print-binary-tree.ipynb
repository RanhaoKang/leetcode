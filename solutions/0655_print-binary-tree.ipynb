{
 "cells": [
  {
   "cell_type": "markdown",
   "metadata": {},
   "source": [
    "[655. Print Binary Tree](https://leetcode.com/problems/print-binary-tree/)"
   ]
  },
  {
   "cell_type": "code",
   "execution_count": 3,
   "metadata": {},
   "outputs": [],
   "source": [
    "# Definition for a binary tree node.\n",
    "class TreeNode:\n",
    "    def __init__(self, x):\n",
    "        self.val = x\n",
    "        self.left = None\n",
    "        self.right = None\n",
    "\n",
    "class Solution:\n",
    "    def printTree(self, root):\n",
    "        if not root: return [\"\"]\n",
    "\n",
    "        def depth(root):\n",
    "            if not root: return 0\n",
    "            return max(depth(root.left), depth(root.right)) + 1\n",
    "\n",
    "        d = depth(root)\n",
    "        self.res = [[\"\"] * (2**d - 1) for _ in range(d)]\n",
    "\n",
    "        def helper(node, d, pos):\n",
    "            self.res[-d - 1][pos] = str(node.val)\n",
    "            if node.left: helper(node.left, d - 1, pos - 2**(d - 1))\n",
    "            if node.right: helper(node.right, d - 1, pos + 2**(d - 1))\n",
    "\n",
    "        helper(root, d - 1, 2**(d - 1) - 1)\n",
    "        return self.res"
   ]
  },
  {
   "cell_type": "code",
   "execution_count": null,
   "metadata": {},
   "outputs": [],
   "source": []
  }
 ],
 "metadata": {
  "kernelspec": {
   "display_name": "Python 3",
   "language": "python",
   "name": "python3"
  },
  "language_info": {
   "codemirror_mode": {
    "name": "ipython",
    "version": 3
   },
   "file_extension": ".py",
   "mimetype": "text/x-python",
   "name": "python",
   "nbconvert_exporter": "python",
   "pygments_lexer": "ipython3",
   "version": "3.8.0b3"
  }
 },
 "nbformat": 4,
 "nbformat_minor": 2
}
