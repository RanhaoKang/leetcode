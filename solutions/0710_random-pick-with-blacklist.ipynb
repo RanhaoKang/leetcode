{
 "cells": [
  {
   "cell_type": "markdown",
   "metadata": {},
   "source": [
    "[710. Random Pick with Blacklist](https://leetcode.com/problems/random-pick-with-blacklist/)"
   ]
  },
  {
   "cell_type": "code",
   "execution_count": 2,
   "metadata": {},
   "outputs": [],
   "source": [
    "class Solution:\n",
    "\n",
    "    def __init__(self, N: int, blacklist):\n",
    "        import random\n",
    "        self.N = N - len(blacklist) + 1\n",
    "        self.blacklist = blacklist\n",
    "\n",
    "    def pick(self) -> int:\n",
    "        idx = random.randrange(self.N)\n",
    "        \n",
    "        for num in self.blacklist:\n",
    "            if num < idx:\n",
    "                idx += 1\n",
    "        \n",
    "        return idx\n",
    "\n",
    "\n",
    "# Your Solution object will be instantiated and called as such:\n",
    "# obj = Solution(N, blacklist)\n",
    "# param_1 = obj.pick()"
   ]
  },
  {
   "cell_type": "code",
   "execution_count": null,
   "metadata": {},
   "outputs": [],
   "source": []
  }
 ],
 "metadata": {
  "kernelspec": {
   "display_name": "Python 3",
   "language": "python",
   "name": "python3"
  },
  "language_info": {
   "codemirror_mode": {
    "name": "ipython",
    "version": 3
   },
   "file_extension": ".py",
   "mimetype": "text/x-python",
   "name": "python",
   "nbconvert_exporter": "python",
   "pygments_lexer": "ipython3",
   "version": "3.6.7"
  }
 },
 "nbformat": 4,
 "nbformat_minor": 2
}
