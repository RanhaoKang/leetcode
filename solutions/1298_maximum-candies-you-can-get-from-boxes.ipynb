{
 "cells": [
  {
   "cell_type": "markdown",
   "metadata": {},
   "source": [
    "[1298. Maximum Candies You Can Get from Boxes](https://leetcode.com/problems/maximum-candies-you-can-get-from-boxes/)"
   ]
  },
  {
   "cell_type": "markdown",
   "metadata": {},
   "source": [
    "强行用集合，1008ms"
   ]
  },
  {
   "cell_type": "code",
   "execution_count": 33,
   "metadata": {},
   "outputs": [],
   "source": [
    "class Solution:\n",
    "    def maxCandies(self, status, candies, keys, containedBoxes, boxes) -> int:\n",
    "        # 对输入做处理改成集合\n",
    "        open = {i for i, s in enumerate(status) if s}\n",
    "        keys = [set(i) for i in keys]\n",
    "        containedBoxes = [set(i) for i in containedBoxes]\n",
    "        boxes = set(boxes)\n",
    "        used = set()\n",
    "        \n",
    "        res = 0\n",
    "        while boxes & open != used:\n",
    "            # 打开盒子获取糖果！\n",
    "            res += sum(candies[i] for i in boxes ^ used)\n",
    "            used |= boxes\n",
    "            \n",
    "            # 获得更多的钥匙！\n",
    "            for i in boxes:\n",
    "                open |= keys[i]\n",
    "            \n",
    "            # 获得更多的盒子！\n",
    "            new = set() | boxes\n",
    "            for i in new:\n",
    "                boxes |= containedBoxes[i]\n",
    "        \n",
    "        return res"
   ]
  },
  {
   "cell_type": "code",
   "execution_count": 34,
   "metadata": {},
   "outputs": [
    {
     "data": {
      "text/plain": [
       "16"
      ]
     },
     "execution_count": 34,
     "metadata": {},
     "output_type": "execute_result"
    }
   ],
   "source": [
    "Solution().maxCandies(\n",
    "    [1,0,1,0],\n",
    "    [7,5,4,100],\n",
    "    [[],[],[1],[]],\n",
    "    [[1,2],[3],[],[]],\n",
    "    [0])"
   ]
  },
  {
   "cell_type": "markdown",
   "metadata": {},
   "source": [
    "还是套BFS就好了, 864ms"
   ]
  },
  {
   "cell_type": "code",
   "execution_count": 35,
   "metadata": {},
   "outputs": [],
   "source": [
    "class Solution:\n",
    "    def maxCandies(self, status: List[int], candies: List[int], keys: List[List[int]], containedBoxes: List[List[int]], initialBoxes: List[int]) -> int:\n",
    "        boxes = set(initialBoxes)\n",
    "        bfs = [i for i in boxes if status[i]]\n",
    "        for i in bfs:\n",
    "            for j in containedBoxes[i]:\n",
    "                boxes.add(j)\n",
    "                if status[j]:\n",
    "                    bfs.append(j)\n",
    "            for j in keys[i]:\n",
    "                if status[j] == 0 and j in boxes:\n",
    "                    bfs.append(j)\n",
    "                status[j] = 1\n",
    "        return sum(candies[i] for i in bfs)"
   ]
  },
  {
   "cell_type": "code",
   "execution_count": null,
   "metadata": {},
   "outputs": [],
   "source": []
  }
 ],
 "metadata": {
  "kernelspec": {
   "display_name": "Python 3",
   "language": "python",
   "name": "python3"
  },
  "language_info": {
   "codemirror_mode": {
    "name": "ipython",
    "version": 3
   },
   "file_extension": ".py",
   "mimetype": "text/x-python",
   "name": "python",
   "nbconvert_exporter": "python",
   "pygments_lexer": "ipython3",
   "version": "3.8.1"
  }
 },
 "nbformat": 4,
 "nbformat_minor": 4
}
