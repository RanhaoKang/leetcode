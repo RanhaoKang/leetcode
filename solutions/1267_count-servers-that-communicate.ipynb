{
 "cells": [
  {
   "cell_type": "markdown",
   "metadata": {},
   "source": [
    "[1267. Count Servers that Communicate](https://leetcode.com/problems/count-servers-that-communicate/)"
   ]
  },
  {
   "cell_type": "markdown",
   "metadata": {},
   "source": [
    "用`iter`和`any`来实现early break, 516ms"
   ]
  },
  {
   "cell_type": "code",
   "execution_count": 32,
   "metadata": {},
   "outputs": [],
   "source": [
    "class Solution:\n",
    "    def countServers(self, grid) -> int:\n",
    "        H, W = len(grid), len(grid and grid[0])\n",
    "        row, col = set(), set()\n",
    "        \n",
    "        for i in range(H):\n",
    "            it = iter(grid[i])\n",
    "            if any(it) and any(it):\n",
    "                row.add(i)\n",
    "        \n",
    "        for j in range(W):\n",
    "            it = iter(grid[i][j] for i in range(H))\n",
    "            if any(it) and any(it):\n",
    "                col.add(j)\n",
    "\n",
    "        return sum(grid[i][j] and\n",
    "                   (i in row or j in col) for i in range(H) for j in range(W))                        \n",
    "                        "
   ]
  },
  {
   "cell_type": "code",
   "execution_count": 33,
   "metadata": {},
   "outputs": [
    {
     "data": {
      "text/plain": [
       "0"
      ]
     },
     "execution_count": 33,
     "metadata": {},
     "output_type": "execute_result"
    }
   ],
   "source": [
    "Solution().countServers([[1,0], [0,1]])"
   ]
  },
  {
   "cell_type": "code",
   "execution_count": 34,
   "metadata": {},
   "outputs": [
    {
     "data": {
      "text/plain": [
       "3"
      ]
     },
     "execution_count": 34,
     "metadata": {},
     "output_type": "execute_result"
    }
   ],
   "source": [
    "Solution().countServers([[1,0], [1,1]])"
   ]
  },
  {
   "cell_type": "code",
   "execution_count": 35,
   "metadata": {},
   "outputs": [
    {
     "data": {
      "text/plain": [
       "4"
      ]
     },
     "execution_count": 35,
     "metadata": {},
     "output_type": "execute_result"
    }
   ],
   "source": [
    "Solution().countServers([\n",
    "    [1,1,0,0],\n",
    "    [0,0,1,0],\n",
    "    [0,0,1,0],\n",
    "    [0,0,0,1]])"
   ]
  },
  {
   "cell_type": "markdown",
   "metadata": {},
   "source": [
    "lee用`sum`, 520ms"
   ]
  },
  {
   "cell_type": "code",
   "execution_count": 36,
   "metadata": {},
   "outputs": [],
   "source": [
    "class Solution:\n",
    "    def countServers(self, A):\n",
    "        x, y = tuple(map(sum, A)), tuple(map(sum, zip(*A)))\n",
    "        return sum(x[i] + y[j] > 2 for i in range(len(A)) for j in range(len(A[0])) if A[i][j])"
   ]
  },
  {
   "cell_type": "code",
   "execution_count": null,
   "metadata": {},
   "outputs": [],
   "source": []
  }
 ],
 "metadata": {
  "kernelspec": {
   "display_name": "Python 3",
   "language": "python",
   "name": "python3"
  },
  "language_info": {
   "codemirror_mode": {
    "name": "ipython",
    "version": 3
   },
   "file_extension": ".py",
   "mimetype": "text/x-python",
   "name": "python",
   "nbconvert_exporter": "python",
   "pygments_lexer": "ipython3",
   "version": "3.8.1"
  }
 },
 "nbformat": 4,
 "nbformat_minor": 4
}
