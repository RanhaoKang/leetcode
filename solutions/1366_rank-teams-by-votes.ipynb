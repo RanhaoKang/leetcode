{
 "cells": [
  {
   "cell_type": "markdown",
   "metadata": {},
   "source": [
    "[1366. Rank Teams by Votes](https://leetcode.com/problems/rank-teams-by-votes/)"
   ]
  },
  {
   "cell_type": "code",
   "execution_count": 1,
   "metadata": {},
   "outputs": [],
   "source": [
    "class Solution:\n",
    "    def rankTeams(self, votes) -> str:\n",
    "        teams = votes[0]\n",
    "        N = len(teams)\n",
    "        \n",
    "        cnt = {team: [0] * N + [team] for team in teams}\n",
    "        for vote in votes:\n",
    "            for i, team in enumerate(vote):\n",
    "                cnt[team][i] -= 1\n",
    "        \n",
    "        return ''.join(sorted(teams, key = cnt.get))"
   ]
  },
  {
   "cell_type": "code",
   "execution_count": null,
   "metadata": {},
   "outputs": [],
   "source": []
  }
 ],
 "metadata": {
  "kernelspec": {
   "display_name": "Python 3",
   "language": "python",
   "name": "python3"
  },
  "language_info": {
   "codemirror_mode": {
    "name": "ipython",
    "version": 3
   },
   "file_extension": ".py",
   "mimetype": "text/x-python",
   "name": "python",
   "nbconvert_exporter": "python",
   "pygments_lexer": "ipython3",
   "version": "3.8.1"
  }
 },
 "nbformat": 4,
 "nbformat_minor": 4
}
