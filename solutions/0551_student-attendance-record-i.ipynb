{
 "cells": [
  {
   "cell_type": "markdown",
   "metadata": {},
   "source": [
    "[551. Student Attendance Record I](https://leetcode.com/problems/student-attendance-record-i/)"
   ]
  },
  {
   "cell_type": "code",
   "execution_count": 2,
   "metadata": {},
   "outputs": [],
   "source": [
    "class Solution:\n",
    "    def checkRecord(self, s: str) -> bool:\n",
    "        pattern = ['*'] * 3\n",
    "        cnt = 0\n",
    "        targets = [\n",
    "            ['L'] * 3\n",
    "        ]\n",
    "        \n",
    "        for record in s:\n",
    "            cnt += record == 'A'\n",
    "            pattern = pattern[1:] + [record]\n",
    "            if pattern in targets or cnt > 1:\n",
    "                return False\n",
    "        \n",
    "        return True"
   ]
  },
  {
   "cell_type": "code",
   "execution_count": null,
   "metadata": {},
   "outputs": [],
   "source": []
  }
 ],
 "metadata": {
  "kernelspec": {
   "display_name": "Python 3",
   "language": "python",
   "name": "python3"
  },
  "language_info": {
   "codemirror_mode": {
    "name": "ipython",
    "version": 3
   },
   "file_extension": ".py",
   "mimetype": "text/x-python",
   "name": "python",
   "nbconvert_exporter": "python",
   "pygments_lexer": "ipython3",
   "version": "3.8.1"
  }
 },
 "nbformat": 4,
 "nbformat_minor": 4
}
