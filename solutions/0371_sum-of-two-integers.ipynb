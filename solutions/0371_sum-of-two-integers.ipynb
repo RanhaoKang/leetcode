{
 "cells": [
  {
   "cell_type": "markdown",
   "metadata": {},
   "source": [
    "[371. Sum of Two Integers](https://leetcode.com/problems/sum-of-two-integers/)"
   ]
  },
  {
   "cell_type": "code",
   "execution_count": 44,
   "metadata": {},
   "outputs": [],
   "source": [
    "class Solution:\n",
    "    def getSum(self, a: int, b: int) -> int:\n",
    "        res = carry = 0\n",
    "        print('i\\tj\\tcarry\\tdigit\\tnext')\n",
    "        while a or b or carry:\n",
    "            i, j = a & 1, b & 1\n",
    "            if i & j & carry:\n",
    "                digit = 1\n",
    "            elif i&j or i&carry or j&carry:\n",
    "                digit = 0\n",
    "            else:\n",
    "                digit = i | j | carry\n",
    "            \n",
    "            res |= digit\n",
    "            print(i, j, carry, digit, ((i | j) & carry) | (i&j), sep = '\\t')\n",
    "            carry = ((i | j) & carry) | (i&j)\n",
    "            \n",
    "            res <<= 1\n",
    "            a >>= 1\n",
    "            b >>= 1\n",
    "        \n",
    "        return eval('0b' + bin(res)[2:][::-1])"
   ]
  },
  {
   "cell_type": "code",
   "execution_count": 45,
   "metadata": {},
   "outputs": [
    {
     "name": "stdout",
     "output_type": "stream",
     "text": [
      "i\tj\tcarry\tdigit\tnext\n",
      "0\t0\t0\t0\t0\n",
      "0\t1\t0\t1\t0\n",
      "1\t1\t0\t0\t1\n",
      "0\t1\t1\t0\t1\n",
      "1\t1\t1\t1\t1\n",
      "0\t0\t1\t1\t0\n"
     ]
    },
    {
     "data": {
      "text/plain": [
       "25"
      ]
     },
     "execution_count": 45,
     "metadata": {},
     "output_type": "execute_result"
    }
   ],
   "source": [
    "Solution().getSum(20, 30)"
   ]
  },
  {
   "cell_type": "markdown",
   "metadata": {},
   "source": [
    "- bit-adder: https://leetcode.com/problems/sum-of-two-integers/discuss/132479/Simple-explanation-on-how-to-arrive-at-the-solution\n",
    "- mask: https://leetcode.com/problems/sum-of-two-integers/discuss/84282/Python-solution-with-no-%22%2B-*%22-completely-bit-manipulation-guaranteed"
   ]
  },
  {
   "cell_type": "code",
   "execution_count": null,
   "metadata": {},
   "outputs": [],
   "source": []
  }
 ],
 "metadata": {
  "kernelspec": {
   "display_name": "Python 3",
   "language": "python",
   "name": "python3"
  },
  "language_info": {
   "codemirror_mode": {
    "name": "ipython",
    "version": 3
   },
   "file_extension": ".py",
   "mimetype": "text/x-python",
   "name": "python",
   "nbconvert_exporter": "python",
   "pygments_lexer": "ipython3",
   "version": "3.6.7"
  }
 },
 "nbformat": 4,
 "nbformat_minor": 2
}
