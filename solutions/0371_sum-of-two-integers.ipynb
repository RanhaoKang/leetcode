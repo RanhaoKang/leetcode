{
 "cells": [
  {
   "cell_type": "markdown",
   "metadata": {},
   "source": [
    "[371. Sum of Two Integers](https://leetcode.com/problems/sum-of-two-integers/)"
   ]
  },
  {
   "cell_type": "code",
   "execution_count": 4,
   "metadata": {},
   "outputs": [],
   "source": [
    "class Solution:\n",
    "    def getSum(self, a: int, b: int) -> int:\n",
    "        # 32 bits integer max\n",
    "        MAX = 0x7FFFFFFF\n",
    "        # 32 bits interger min\n",
    "        MIN = 0x80000000\n",
    "        # mask to get last 32 bits\n",
    "        mask = 0xFFFFFFFF\n",
    "        while b:\n",
    "            # ^ get different bits and & gets double 1s, << moves carry\n",
    "            a, b = (a ^ b) & mask, ((a & b) << 1) & mask\n",
    "        # if a is negative, get a's 32 bits complement positive first\n",
    "        # then get 32-bit positive's Python complement negative\n",
    "        return a if a <= MAX else ~(a ^ mask)"
   ]
  },
  {
   "cell_type": "code",
   "execution_count": 5,
   "metadata": {},
   "outputs": [
    {
     "data": {
      "text/plain": [
       "0"
      ]
     },
     "execution_count": 5,
     "metadata": {},
     "output_type": "execute_result"
    }
   ],
   "source": [
    "Solution().getSum(-1, 1)"
   ]
  },
  {
   "cell_type": "markdown",
   "metadata": {},
   "source": [
    "- bit-adder: https://leetcode.com/problems/sum-of-two-integers/discuss/132479/Simple-explanation-on-how-to-arrive-at-the-solution\n",
    "- mask: https://leetcode.com/problems/sum-of-two-integers/discuss/84282/Python-solution-with-no-%22%2B-*%22-completely-bit-manipulation-guaranteed"
   ]
  },
  {
   "cell_type": "code",
   "execution_count": null,
   "metadata": {},
   "outputs": [],
   "source": []
  }
 ],
 "metadata": {
  "kernelspec": {
   "display_name": "Python 3",
   "language": "python",
   "name": "python3"
  },
  "language_info": {
   "codemirror_mode": {
    "name": "ipython",
    "version": 3
   },
   "file_extension": ".py",
   "mimetype": "text/x-python",
   "name": "python",
   "nbconvert_exporter": "python",
   "pygments_lexer": "ipython3",
   "version": "3.6.7"
  }
 },
 "nbformat": 4,
 "nbformat_minor": 2
}
