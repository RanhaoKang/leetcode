{
 "cells": [
  {
   "cell_type": "markdown",
   "metadata": {},
   "source": [
    "[1255. Maximum Score Words Formed by Letters](https://leetcode.com/problems/maximum-score-words-formed-by-letters/)"
   ]
  },
  {
   "cell_type": "markdown",
   "metadata": {},
   "source": [
    "因为`words`很小，所以DFS就够了。"
   ]
  },
  {
   "cell_type": "code",
   "execution_count": 1,
   "metadata": {},
   "outputs": [],
   "source": [
    "class Solution:\n",
    "    def maxScoreWords(self, words, letters, score) -> int:\n",
    "        self.max_score = 0\n",
    "        words_score = [sum(score[ord(c)-ord('a')] for c in word) for word in words]\n",
    "        words_counter = [collections.Counter(word) for word in words]\n",
    "        \n",
    "        def dfs(i, curr_score, counter):\n",
    "            if curr_score + sum(words_score[i:]) <= self.max_score:\n",
    "                return\n",
    "            self.max_score = max(self.max_score, curr_score)\n",
    "            for j, wcnt in enumerate(words_counter[i:], i):\n",
    "                if all(n <= counter.get(c,0) for c,n in wcnt.items()):\n",
    "                    dfs(j+1, curr_score+words_score[j], {c:n-wcnt.get(c,0) for c,n in counter.items()})\n",
    "        \n",
    "        dfs(0, 0, collections.Counter(letters))\n",
    "        return self.max_score"
   ]
  },
  {
   "cell_type": "code",
   "execution_count": null,
   "metadata": {},
   "outputs": [],
   "source": []
  }
 ],
 "metadata": {
  "kernelspec": {
   "display_name": "Python 3",
   "language": "python",
   "name": "python3"
  },
  "language_info": {
   "codemirror_mode": {
    "name": "ipython",
    "version": 3
   },
   "file_extension": ".py",
   "mimetype": "text/x-python",
   "name": "python",
   "nbconvert_exporter": "python",
   "pygments_lexer": "ipython3",
   "version": "3.8.1"
  }
 },
 "nbformat": 4,
 "nbformat_minor": 4
}
