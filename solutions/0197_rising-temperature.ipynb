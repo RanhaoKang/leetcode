{
 "cells": [
  {
   "cell_type": "markdown",
   "metadata": {},
   "source": [
    "[197. Rising Temperature](https://leetcode.com/problems/rising-temperature/)"
   ]
  },
  {
   "cell_type": "markdown",
   "metadata": {},
   "source": [
    "```sql\n",
    "# Write your MySQL query statement below\n",
    "SELECT w2.Id \n",
    "FROM Weather w1, Weather w2\n",
    "WHERE DATEDIFF(w2.RecordDate, w1.RecordDate) = 1\n",
    "AND w2.Temperature > w1.Temperature;\n",
    "```"
   ]
  },
  {
   "cell_type": "code",
   "execution_count": 2,
   "metadata": {},
   "outputs": [],
   "source": [
    "import sqlite3\n",
    "con = sqlite3.connect(':memory:')\n",
    "c = con.cursor()\n",
    "for i in [\"Create table If Not Exists Weather (Id int, RecordDate date, Temperature int)\",\n",
    "\"insert into Weather (Id, RecordDate, Temperature) values ('1', '2015-01-01', '10')\",\n",
    "\"insert into Weather (Id, RecordDate, Temperature) values ('2', '2015-01-02', '25')\",\n",
    "\"insert into Weather (Id, RecordDate, Temperature) values ('3', '2015-01-03', '20')\",\n",
    "\"insert into Weather (Id, RecordDate, Temperature) values ('4', '2015-01-04', '30')\",]:\n",
    "    c.execute(i)"
   ]
  },
  {
   "cell_type": "code",
   "execution_count": 7,
   "metadata": {},
   "outputs": [
    {
     "ename": "OperationalError",
     "evalue": "no such function: DATEDIFF",
     "output_type": "error",
     "traceback": [
      "\u001b[0;31m---------------------------------------------------------------------------\u001b[0m",
      "\u001b[0;31mOperationalError\u001b[0m                          Traceback (most recent call last)",
      "\u001b[0;32m<ipython-input-7-c6e1f33bb180>\u001b[0m in \u001b[0;36m<module>\u001b[0;34m\u001b[0m\n\u001b[1;32m      4\u001b[0m \u001b[0mWHERE\u001b[0m \u001b[0mDATEDIFF\u001b[0m\u001b[0;34m(\u001b[0m\u001b[0mw2\u001b[0m\u001b[0;34m.\u001b[0m\u001b[0mRecordDate\u001b[0m\u001b[0;34m,\u001b[0m \u001b[0mw1\u001b[0m\u001b[0;34m.\u001b[0m\u001b[0mRecordDate\u001b[0m\u001b[0;34m)\u001b[0m \u001b[0;34m=\u001b[0m \u001b[0;36m1\u001b[0m\u001b[0;34m\u001b[0m\u001b[0;34m\u001b[0m\u001b[0m\n\u001b[1;32m      5\u001b[0m \u001b[0mAND\u001b[0m \u001b[0mw2\u001b[0m\u001b[0;34m.\u001b[0m\u001b[0mTemperature\u001b[0m \u001b[0;34m>\u001b[0m \u001b[0mw1\u001b[0m\u001b[0;34m.\u001b[0m\u001b[0mTemperature\u001b[0m\u001b[0;34m;\u001b[0m\u001b[0;34m\u001b[0m\u001b[0;34m\u001b[0m\u001b[0m\n\u001b[0;32m----> 6\u001b[0;31m ''').fetchall()\n\u001b[0m",
      "\u001b[0;31mOperationalError\u001b[0m: no such function: DATEDIFF"
     ]
    }
   ],
   "source": [
    "c.execute('''\n",
    "SELECT w2.Id \n",
    "FROM Weather w1, Weather w2\n",
    "WHERE DATEDIFF(w2.RecordDate, w1.RecordDate) = 1\n",
    "AND w2.Temperature > w1.Temperature;\n",
    "''').fetchall()"
   ]
  },
  {
   "cell_type": "code",
   "execution_count": null,
   "metadata": {},
   "outputs": [],
   "source": []
  }
 ],
 "metadata": {
  "kernelspec": {
   "display_name": "Python 3",
   "language": "python",
   "name": "python3"
  },
  "language_info": {
   "codemirror_mode": {
    "name": "ipython",
    "version": 3
   },
   "file_extension": ".py",
   "mimetype": "text/x-python",
   "name": "python",
   "nbconvert_exporter": "python",
   "pygments_lexer": "ipython3",
   "version": "3.6.7"
  }
 },
 "nbformat": 4,
 "nbformat_minor": 2
}
