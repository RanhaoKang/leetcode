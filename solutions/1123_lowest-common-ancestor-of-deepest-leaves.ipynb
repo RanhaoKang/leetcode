{
 "cells": [
  {
   "cell_type": "markdown",
   "metadata": {},
   "source": [
    "[1123. Lowest Common Ancestor of Deepest Leaves](https://leetcode.com/problems/lowest-common-ancestor-of-deepest-leaves/)"
   ]
  },
  {
   "cell_type": "code",
   "execution_count": 8,
   "metadata": {},
   "outputs": [],
   "source": [
    "# Definition for a binary tree node.\n",
    "class TreeNode:\n",
    "    def __init__(self, x):\n",
    "        self.val = x\n",
    "        self.left = None\n",
    "        self.right = None\n",
    "\n",
    "class Solution:\n",
    "    def lcaDeepestLeaves(self, root: TreeNode) -> TreeNode:\n",
    "        \n",
    "        def solve(node):\n",
    "            if node:\n",
    "                h1, lca1 = solve(node.left)\n",
    "                h2, lca2 = solve(node.right)\n",
    "                \n",
    "                if h1 > h2:\n",
    "                    return h1 + 1, lca1\n",
    "                elif h1 < h2:\n",
    "                    return h2 + 1, lca2\n",
    "                else:\n",
    "                    return h1 + 1, node\n",
    "            else:\n",
    "                return 0, None\n",
    "        \n",
    "        return solve(root)[1]"
   ]
  },
  {
   "cell_type": "code",
   "execution_count": 9,
   "metadata": {},
   "outputs": [
    {
     "data": {
      "text/plain": [
       "4"
      ]
     },
     "execution_count": 9,
     "metadata": {},
     "output_type": "execute_result"
    }
   ],
   "source": [
    "r = TreeNode(1)\n",
    "r.left = TreeNode(2)\n",
    "r.right = TreeNode(3)\n",
    "r.left.left = TreeNode(4)\n",
    "\n",
    "Solution().lcaDeepestLeaves(r).val"
   ]
  },
  {
   "cell_type": "code",
   "execution_count": null,
   "metadata": {},
   "outputs": [],
   "source": []
  }
 ],
 "metadata": {
  "kernelspec": {
   "display_name": "Python 3",
   "language": "python",
   "name": "python3"
  },
  "language_info": {
   "codemirror_mode": {
    "name": "ipython",
    "version": 3
   },
   "file_extension": ".py",
   "mimetype": "text/x-python",
   "name": "python",
   "nbconvert_exporter": "python",
   "pygments_lexer": "ipython3",
   "version": "3.8.1"
  }
 },
 "nbformat": 4,
 "nbformat_minor": 2
}
