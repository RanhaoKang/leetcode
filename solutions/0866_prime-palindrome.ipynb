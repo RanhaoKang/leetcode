{
 "cells": [
  {
   "cell_type": "markdown",
   "metadata": {},
   "source": [
    "[866. Prime Palindrome](https://leetcode.com/problems/prime-palindrome/)"
   ]
  },
  {
   "cell_type": "markdown",
   "metadata": {},
   "source": [
    "要么在回文数里找素数，要么在素数里找回文"
   ]
  },
  {
   "cell_type": "code",
   "execution_count": 2,
   "metadata": {},
   "outputs": [],
   "source": [
    "class Solution:\n",
    "    def primePalindrome(self, N: int) -> int:\n",
    "        def isPrime(x):\n",
    "            if x < 2 or x % 2 == 0:\n",
    "                return x == 2\n",
    "            for i in range(3, int(x**0.5) + 1, 2):\n",
    "                if x % i == 0:\n",
    "                    return False\n",
    "            return True\n",
    "\n",
    "        if 8 <= N <= 11:\n",
    "            return 11\n",
    "        \n",
    "        for x in range(10 ** (len(str(N)) // 2), 10 ** 5):\n",
    "            y = int(str(x) + str(x)[-2::-1])\n",
    "            if y >= N and isPrime(y):\n",
    "                return y"
   ]
  },
  {
   "cell_type": "code",
   "execution_count": null,
   "metadata": {},
   "outputs": [],
   "source": []
  }
 ],
 "metadata": {
  "kernelspec": {
   "display_name": "Python 3",
   "language": "python",
   "name": "python3"
  },
  "language_info": {
   "codemirror_mode": {
    "name": "ipython",
    "version": 3
   },
   "file_extension": ".py",
   "mimetype": "text/x-python",
   "name": "python",
   "nbconvert_exporter": "python",
   "pygments_lexer": "ipython3",
   "version": "3.8.1"
  }
 },
 "nbformat": 4,
 "nbformat_minor": 4
}
