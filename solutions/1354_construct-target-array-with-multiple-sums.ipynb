{
 "cells": [
  {
   "cell_type": "markdown",
   "metadata": {},
   "source": [
    "[1354. Construct Target Array With Multiple Sums](https://leetcode.com/problems/construct-target-array-with-multiple-sums/)"
   ]
  },
  {
   "cell_type": "code",
   "execution_count": 6,
   "metadata": {},
   "outputs": [],
   "source": [
    "class Solution:\n",
    "    def isPossible(self, A) -> bool:\n",
    "        total = sum(A)\n",
    "        A = [-a for a in A]\n",
    "        heapq.heapify(A)\n",
    "        while True:\n",
    "            a = -heapq.heappop(A)\n",
    "            total -= a\n",
    "            if a == 1 or total == 1:\n",
    "                return True\n",
    "            if a < total or total == 0 or a % total == 0:\n",
    "                return False\n",
    "            a %= total\n",
    "            total += a\n",
    "            heapq.heappush(A, -a)"
   ]
  },
  {
   "cell_type": "code",
   "execution_count": null,
   "metadata": {},
   "outputs": [],
   "source": []
  }
 ],
 "metadata": {
  "kernelspec": {
   "display_name": "Python 3",
   "language": "python",
   "name": "python3"
  },
  "language_info": {
   "codemirror_mode": {
    "name": "ipython",
    "version": 3
   },
   "file_extension": ".py",
   "mimetype": "text/x-python",
   "name": "python",
   "nbconvert_exporter": "python",
   "pygments_lexer": "ipython3",
   "version": "3.8.1"
  }
 },
 "nbformat": 4,
 "nbformat_minor": 4
}
