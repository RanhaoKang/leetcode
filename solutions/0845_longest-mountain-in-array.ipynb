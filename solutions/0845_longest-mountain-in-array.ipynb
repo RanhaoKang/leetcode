{
 "cells": [
  {
   "cell_type": "markdown",
   "metadata": {},
   "source": [
    "[845. Longest Mountain in Array](https://leetcode.com/problems/longest-mountain-in-array/)"
   ]
  },
  {
   "cell_type": "markdown",
   "metadata": {},
   "source": [
    "- one-pass: 右侧的山脊不需要再处理, 不会出现重复.\n",
    "- $O(1)$ space: 两种吧, 一种在原始输入上做标记, 另一种使用K-variables. 我发现因为第一种很巧妙让人印象深刻, 自己老忘了第二种."
   ]
  },
  {
   "cell_type": "code",
   "execution_count": 38,
   "metadata": {},
   "outputs": [],
   "source": [
    "class Solution:\n",
    "    def longestMountain(self, A) -> int:\n",
    "        N = len(A)\n",
    "        res = s = 0\n",
    "        \n",
    "        while s < N:\n",
    "            e = s\n",
    "            \n",
    "            # 上山\n",
    "            if e + 1 < N and A[e] < A[e + 1]:\n",
    "                while e + 1 < N and A[e] < A[e + 1]:\n",
    "                    e += 1\n",
    "\n",
    "                # 确认是山顶\n",
    "                if e + 1 < N and A[e] > A[e + 1]:\n",
    "                    # 下山\n",
    "                    while e + 1 < N and A[e] > A[e + 1]:\n",
    "                        e += 1\n",
    "\n",
    "                    res = max(res, e - s + 1)\n",
    "            s = max(e, s + 1)\n",
    "        \n",
    "        return res"
   ]
  },
  {
   "cell_type": "code",
   "execution_count": 36,
   "metadata": {},
   "outputs": [],
   "source": [
    "class Solution:\n",
    "    def longestMountain(self, A) -> int:\n",
    "        left_to_right = [i < j for i, j in zip(A, A[1:])]\n",
    "        right_to_left = [i < j for i, j in zip(A[1:], A)]\n",
    "        print(left_to_right, right_to_left, sep = '\\n')\n",
    "        res = cur = 0\n",
    "        changed = False\n",
    "        for i in range(len(A)-1):\n",
    "            if not changed:\n",
    "                if left_to_right[i] and not right_to_left[i]:\n",
    "                    cur += 1\n",
    "                elif not left_to_right[i]  and right_to_left[i]:\n",
    "                    print(i)\n",
    "                    changed = True\n",
    "                    cur += 1\n",
    "                else:\n",
    "                    res = max(res, cur)\n",
    "                    cur = 0\n",
    "            else:\n",
    "                print(i)\n",
    "                if not left_to_right[i]  and right_to_left[i]:\n",
    "                    cur += 1\n",
    "                else:\n",
    "                    changed = False\n",
    "                    res = max(res, cur)\n",
    "                    cur = 0\n",
    "        \n",
    "        return 0 if res <= 3 else res"
   ]
  },
  {
   "cell_type": "code",
   "execution_count": 39,
   "metadata": {},
   "outputs": [
    {
     "data": {
      "text/plain": [
       "5"
      ]
     },
     "execution_count": 39,
     "metadata": {},
     "output_type": "execute_result"
    }
   ],
   "source": [
    "Solution().longestMountain([2,1,4,7,3,2,5])"
   ]
  },
  {
   "cell_type": "code",
   "execution_count": 23,
   "metadata": {},
   "outputs": [
    {
     "data": {
      "text/plain": [
       "False"
      ]
     },
     "execution_count": 23,
     "metadata": {},
     "output_type": "execute_result"
    }
   ],
   "source": [
    "False ^ False"
   ]
  },
  {
   "cell_type": "code",
   "execution_count": 21,
   "metadata": {},
   "outputs": [
    {
     "data": {
      "text/plain": [
       "0"
      ]
     },
     "execution_count": 21,
     "metadata": {},
     "output_type": "execute_result"
    }
   ],
   "source": [
    "1^1"
   ]
  },
  {
   "cell_type": "code",
   "execution_count": null,
   "metadata": {},
   "outputs": [],
   "source": []
  }
 ],
 "metadata": {
  "kernelspec": {
   "display_name": "Python 3",
   "language": "python",
   "name": "python3"
  },
  "language_info": {
   "codemirror_mode": {
    "name": "ipython",
    "version": 3
   },
   "file_extension": ".py",
   "mimetype": "text/x-python",
   "name": "python",
   "nbconvert_exporter": "python",
   "pygments_lexer": "ipython3",
   "version": "3.7.3"
  }
 },
 "nbformat": 4,
 "nbformat_minor": 2
}
