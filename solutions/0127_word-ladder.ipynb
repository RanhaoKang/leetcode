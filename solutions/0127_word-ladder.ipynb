{
 "cells": [
  {
   "cell_type": "markdown",
   "metadata": {},
   "source": [
    "[127. Word Ladder](https://leetcode.com/problems/word-ladder/)"
   ]
  },
  {
   "cell_type": "markdown",
   "metadata": {},
   "source": [
    "BFS"
   ]
  },
  {
   "cell_type": "code",
   "execution_count": 1,
   "metadata": {},
   "outputs": [],
   "source": [
    "from collections import defaultdict, deque\n",
    "\n",
    "class Solution:\n",
    "    def ladderLength(self, beginWord: str, endWord: str, wordList) -> int:\n",
    "        if endWord not in wordList or not endWord or not beginWord or not wordList:\n",
    "            return 0\n",
    "        \n",
    "        length = len(beginWord)\n",
    "        \n",
    "        d = defaultdict(list)\n",
    "        for word in wordList:\n",
    "            for i in range(length):\n",
    "                pattern = word[:i] + '*' + word[i + 1:]\n",
    "                d[pattern].append(word)\n",
    "        \n",
    "        queue = deque([(beginWord, 1)])\n",
    "        visited = set([beginWord])\n",
    "        \n",
    "        while queue:\n",
    "            cur_word, dist = queue.pop()\n",
    "            \n",
    "            for i in range(length):\n",
    "                cur_pattern = cur_word[:i] + '*' + cur_word[i + 1:]\n",
    "                \n",
    "                for word in d[cur_pattern]:\n",
    "                    if word == endWord:\n",
    "                        return dist + 1\n",
    "                    \n",
    "                    if word not in visited:\n",
    "                        visited.add(word)\n",
    "                        queue.appendleft((word, dist + 1))\n",
    "                \n",
    "                del d[cur_pattern]\n",
    "        \n",
    "        return 0"
   ]
  },
  {
   "cell_type": "markdown",
   "metadata": {},
   "source": [
    "没有做预处理的版本, TLE了"
   ]
  },
  {
   "cell_type": "code",
   "execution_count": 26,
   "metadata": {},
   "outputs": [],
   "source": [
    "class Solution:\n",
    "    def ladderLength(self, beginWord: str, endWord: str, wordList) -> int:\n",
    "        \n",
    "        self.res = float('inf')\n",
    "        \n",
    "        def can_transform(begin, end):\n",
    "            cnt = 0\n",
    "            for i, j in zip(begin, end):\n",
    "                if i != j:\n",
    "                    cnt += 1\n",
    "            return cnt == 1\n",
    "        \n",
    "        def solve(cur, path):\n",
    "            # print(cur, path)\n",
    "            if cur == endWord:\n",
    "                self.res = min(self.res, len(path))\n",
    "                return\n",
    "            if len(path) == len(wordList) + 1:\n",
    "                return\n",
    "            \n",
    "            in_ = False\n",
    "            for next in wordList:\n",
    "                if next not in path and can_transform(cur, next):\n",
    "                    solve(next, path + [next])\n",
    "                    in_ = True\n",
    "            if not in_:\n",
    "                return\n",
    "\n",
    "        solve(beginWord, [beginWord])\n",
    "        return self.res if self.res != float('inf') else 0"
   ]
  },
  {
   "cell_type": "code",
   "execution_count": 28,
   "metadata": {},
   "outputs": [],
   "source": [
    "a = \"qa\"\n",
    "b = \"sq\"\n",
    "c = [\"si\",\"go\",\"se\",\"cm\",\"so\",\"ph\",\"mt\",\"db\",\"mb\",\"sb\",\"kr\",\"ln\",\"tm\",\"le\",\"av\",\"sm\",\"ar\",\"ci\",\"ca\",\"br\",\"ti\",\"ba\",\"to\",\"ra\",\"fa\",\"yo\",\"ow\",\"sn\",\"ya\",\"cr\",\"po\",\"fe\",\"ho\",\"ma\",\"re\",\"or\",\"rn\",\"au\",\"ur\",\"rh\",\"sr\",\"tc\",\"lt\",\"lo\",\"as\",\"fr\",\"nb\",\"yb\",\"if\",\"pb\",\"ge\",\"th\",\"pm\",\"rb\",\"sh\",\"co\",\"ga\",\"li\",\"ha\",\"hz\",\"no\",\"bi\",\"di\",\"hi\",\"qa\",\"pi\",\"os\",\"uh\",\"wm\",\"an\",\"me\",\"mo\",\"na\",\"la\",\"st\",\"er\",\"sc\",\"ne\",\"mn\",\"mi\",\"am\",\"ex\",\"pt\",\"io\",\"be\",\"fm\",\"ta\",\"tb\",\"ni\",\"mr\",\"pa\",\"he\",\"lr\",\"sq\",\"ye\"]"
   ]
  },
  {
   "cell_type": "code",
   "execution_count": 44,
   "metadata": {
    "scrolled": true
   },
   "outputs": [
    {
     "name": "stdout",
     "output_type": "stream",
     "text": [
      "qa\n",
      "ca\n",
      "cm\n",
      "tm\n",
      "sm\n",
      "si\n",
      "se\n",
      "so\n",
      "go\n",
      "to\n",
      "ti\n",
      "ci\n",
      "cr\n",
      "kr\n",
      "ar\n",
      "av\n",
      "au\n",
      "as\n",
      "os\n",
      "ow\n",
      "or\n",
      "br\n",
      "ba\n",
      "ra\n",
      "fa\n",
      "ya\n",
      "yo\n",
      "po\n",
      "ph\n",
      "rh\n",
      "re\n",
      "le\n",
      "ln\n",
      "sn\n",
      "sb\n",
      "db\n",
      "mb\n",
      "mt\n",
      "ma\n",
      "ga\n",
      "ge\n",
      "fe\n",
      "fr\n",
      "ur\n",
      "sr\n",
      "sh\n",
      "th\n",
      "tc\n",
      "sc\n",
      "st\n",
      "lt\n",
      "lo\n",
      "ho\n",
      "co\n",
      "no\n",
      "nb\n",
      "yb\n",
      "pb\n",
      "pm\n",
      "pi\n",
      "li\n",
      "bi\n",
      "di\n",
      "hi\n",
      "ha\n",
      "hz\n",
      "he\n",
      "me\n",
      "mo\n",
      "mn\n",
      "rn\n",
      "rb\n",
      "tb\n",
      "ta\n",
      "na\n",
      "la\n",
      "pa\n",
      "pt\n",
      "lr\n",
      "er\n",
      "ex\n",
      "mr\n",
      "mi\n",
      "ni\n",
      "ne\n",
      "be\n",
      "ye\n",
      "an\n",
      "am\n",
      "wm\n",
      "fm\n",
      "io\n",
      "if\n",
      "sq\n",
      "uh\n"
     ]
    },
    {
     "data": {
      "text/plain": [
       "50"
      ]
     },
     "execution_count": 44,
     "metadata": {},
     "output_type": "execute_result"
    }
   ],
   "source": [
    "Solution().ladderLength(a, b, c)"
   ]
  },
  {
   "cell_type": "code",
   "execution_count": 85,
   "metadata": {},
   "outputs": [],
   "source": [
    "class Solution:\n",
    "    def ladderLength(self, beginWord: str, endWord: str, wordList) -> int:\n",
    "        \n",
    "        def can_transform(begin, end):\n",
    "            cnt = 0\n",
    "            for i, j in zip(begin, end):\n",
    "                if i != j:\n",
    "                    cnt += 1\n",
    "            return cnt == 1\n",
    "        \n",
    "        from collections import defaultdict\n",
    "        dp = defaultdict(int)\n",
    "        dp[beginWord] = 1\n",
    "        cur = beginWord\n",
    "        \n",
    "        while True:\n",
    "            old = dp.copy()\n",
    "            for word in wordList:\n",
    "                if can_transform(cur, word):\n",
    "                    if word in dp:\n",
    "                        dp[word] = min(dp[word], dp[cur] + 1)\n",
    "                    else:\n",
    "                        dp[word] = dp[cur] + 1\n",
    "                    cur = word\n",
    "            print(old, dp)\n",
    "            if old == dp:\n",
    "                break\n",
    "            \n",
    "        \n",
    "        return dp[endWord]"
   ]
  },
  {
   "cell_type": "code",
   "execution_count": 86,
   "metadata": {},
   "outputs": [
    {
     "name": "stdout",
     "output_type": "stream",
     "text": [
      "defaultdict(<class 'int'>, {'hit': 1}) defaultdict(<class 'int'>, {'hit': 1, 'hot': 2, 'dot': 3, 'dog': 4, 'log': 5, 'cog': 6})\n",
      "defaultdict(<class 'int'>, {'hit': 1, 'hot': 2, 'dot': 3, 'dog': 4, 'log': 5, 'cog': 6}) defaultdict(<class 'int'>, {'hit': 1, 'hot': 2, 'dot': 3, 'dog': 4, 'log': 5, 'cog': 6})\n"
     ]
    },
    {
     "data": {
      "text/plain": [
       "6"
      ]
     },
     "execution_count": 86,
     "metadata": {},
     "output_type": "execute_result"
    }
   ],
   "source": [
    "Solution().ladderLength('hit', 'cog', [\"hot\",\"dot\",\"dog\",\"lot\",\"log\",\"cog\"])"
   ]
  },
  {
   "cell_type": "code",
   "execution_count": 87,
   "metadata": {},
   "outputs": [
    {
     "name": "stdout",
     "output_type": "stream",
     "text": [
      "defaultdict(<class 'int'>, {'hot': 1}) defaultdict(<class 'int'>, {'hot': 1, 'dot': 2})\n",
      "defaultdict(<class 'int'>, {'hot': 1, 'dot': 2}) defaultdict(<class 'int'>, {'hot': 1, 'dot': 2})\n"
     ]
    },
    {
     "data": {
      "text/plain": [
       "0"
      ]
     },
     "execution_count": 87,
     "metadata": {},
     "output_type": "execute_result"
    }
   ],
   "source": [
    "Solution().ladderLength(\"hot\", \"dog\", [\"hot\",\"dog\",\"dot\"])"
   ]
  },
  {
   "cell_type": "code",
   "execution_count": 73,
   "metadata": {},
   "outputs": [
    {
     "data": {
      "text/plain": [
       "<function dict.copy>"
      ]
     },
     "execution_count": 73,
     "metadata": {},
     "output_type": "execute_result"
    }
   ],
   "source": [
    "{2: 3}.copy"
   ]
  },
  {
   "cell_type": "code",
   "execution_count": null,
   "metadata": {},
   "outputs": [],
   "source": []
  }
 ],
 "metadata": {
  "kernelspec": {
   "display_name": "Python 3",
   "language": "python",
   "name": "python3"
  },
  "language_info": {
   "codemirror_mode": {
    "name": "ipython",
    "version": 3
   },
   "file_extension": ".py",
   "mimetype": "text/x-python",
   "name": "python",
   "nbconvert_exporter": "python",
   "pygments_lexer": "ipython3",
   "version": "3.6.7"
  }
 },
 "nbformat": 4,
 "nbformat_minor": 2
}
