{
 "cells": [
  {
   "cell_type": "markdown",
   "metadata": {},
   "source": [
    "[919. Complete Binary Tree Inserter](https://leetcode.com/problems/complete-binary-tree-inserter/)"
   ]
  },
  {
   "cell_type": "code",
   "execution_count": 1,
   "metadata": {},
   "outputs": [],
   "source": [
    "class CBTInserter:\n",
    "    def __init__(self, root):\n",
    "        self.deque = collections.deque()\n",
    "        self.root = root\n",
    "        q = collections.deque([root])\n",
    "        while q:\n",
    "            node = q.popleft()\n",
    "            if not node.left or not node.right:\n",
    "                self.deque.append(node)\n",
    "            if node.left:\n",
    "                q.append(node.left)\n",
    "            if node.right:\n",
    "                q.append(node.right)\n",
    "\n",
    "    def insert(self, v):\n",
    "        node = self.deque[0]\n",
    "        self.deque.append(TreeNode(v))\n",
    "        if not node.left:\n",
    "            node.left = self.deque[-1]\n",
    "        else:\n",
    "            node.right = self.deque[-1]\n",
    "            self.deque.popleft()\n",
    "        return node.val\n",
    "\n",
    "    def get_root(self):\n",
    "        return self.root"
   ]
  },
  {
   "cell_type": "code",
   "execution_count": null,
   "metadata": {},
   "outputs": [],
   "source": []
  }
 ],
 "metadata": {
  "kernelspec": {
   "display_name": "Python 3",
   "language": "python",
   "name": "python3"
  },
  "language_info": {
   "codemirror_mode": {
    "name": "ipython",
    "version": 3
   },
   "file_extension": ".py",
   "mimetype": "text/x-python",
   "name": "python",
   "nbconvert_exporter": "python",
   "pygments_lexer": "ipython3",
   "version": "3.8.1"
  }
 },
 "nbformat": 4,
 "nbformat_minor": 2
}
