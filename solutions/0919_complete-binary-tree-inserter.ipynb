{
 "cells": [
  {
   "cell_type": "markdown",
   "metadata": {},
   "source": [
    "[919. Complete Binary Tree Inserter](https://leetcode.com/problems/complete-binary-tree-inserter/)"
   ]
  },
  {
   "cell_type": "code",
   "execution_count": 48,
   "metadata": {},
   "outputs": [],
   "source": [
    "# Definition for a binary tree node.\n",
    "class TreeNode:\n",
    "    def __init__(self, x):\n",
    "        self.val = x\n",
    "        self.left = None\n",
    "        self.right = None\n",
    "\n",
    "from collections import deque\n",
    "from functools import partial\n",
    "\n",
    "class CBTInserter:\n",
    "    \n",
    "    def attach_to_left(self, node, parent):\n",
    "        parent.left = node\n",
    "        return parent.val\n",
    "    \n",
    "    def attach_to_right(self, node, parent):\n",
    "        parent.right = node\n",
    "        return parent.val\n",
    "    \n",
    "    def level_order_traversal(self, root):\n",
    "        self.cur_level, self.next_level = deque([root]), deque()\n",
    "        def one_level():\n",
    "            res = []\n",
    "            while self.cur_level:\n",
    "                node = self.cur_level.pop()\n",
    "                if node:\n",
    "                    res.append(node.val)\n",
    "                    self.next_level.appendleft(node.left)\n",
    "                    self.next_level.appendleft(node.right)\n",
    "            if res:\n",
    "                yield res\n",
    "            if self.next_level:\n",
    "                self.cur_level, self.next_level = self.next_level, deque()\n",
    "                yield from one_level()\n",
    "\n",
    "    def __init__(self, root: TreeNode):\n",
    "        \n",
    "\n",
    "        \n",
    "        \n",
    "        \n",
    "        def iterate(node):\n",
    "            if node:\n",
    "                # leaf node\n",
    "                if node.left is None:\n",
    "                    self.queue.appendleft(partial(self.attach_to_left, parent = node))\n",
    "                if node.right is None:\n",
    "                    self.queue.appendleft(partial(self.attach_to_right, parent = node))\n",
    "                \n",
    "                iterate(node.left)\n",
    "                iterate(node.right)\n",
    "        \n",
    "        self.queue = deque()\n",
    "        iterate(root)\n",
    "        self.root = root\n",
    "\n",
    "    def insert(self, v: int) -> int:\n",
    "        node = TreeNode(v)\n",
    "        self.queue.appendleft(partial(self.attach_to_left, parent = node))\n",
    "        self.queue.appendleft(partial(self.attach_to_right, parent = node))\n",
    "        return self.queue.pop()(node)\n",
    "        \n",
    "\n",
    "    def get_root(self) -> TreeNode:\n",
    "        return self.root\n",
    "\n",
    "\n",
    "# Your CBTInserter object will be instantiated and called as such:\n",
    "# obj = CBTInserter(root)\n",
    "# param_1 = obj.insert(v)\n",
    "# param_2 = obj.get_root()"
   ]
  },
  {
   "cell_type": "code",
   "execution_count": 56,
   "metadata": {},
   "outputs": [],
   "source": [
    "root = TreeNode(1)\n",
    "root.left = TreeNode(2)\n",
    "root.right = TreeNode(3)\n",
    "root.left.left = TreeNode(4)\n",
    "root.left.right = TreeNode(5)\n",
    "root.right.left = TreeNode(6)\n",
    "obj = CBTInserter(root)\n"
   ]
  },
  {
   "cell_type": "code",
   "execution_count": 57,
   "metadata": {},
   "outputs": [
    {
     "data": {
      "text/plain": [
       "deque([functools.partial(<bound method CBTInserter.attach_to_right of <__main__.CBTInserter object at 0x7f7db44fcda0>>, parent=<__main__.TreeNode object at 0x7f7db44fc160>),\n",
       "       functools.partial(<bound method CBTInserter.attach_to_left of <__main__.CBTInserter object at 0x7f7db44fcda0>>, parent=<__main__.TreeNode object at 0x7f7db44fc160>),\n",
       "       functools.partial(<bound method CBTInserter.attach_to_right of <__main__.CBTInserter object at 0x7f7db44fcda0>>, parent=<__main__.TreeNode object at 0x7f7db44fc0f0>),\n",
       "       functools.partial(<bound method CBTInserter.attach_to_right of <__main__.CBTInserter object at 0x7f7db44fcda0>>, parent=<__main__.TreeNode object at 0x7f7db44fc3c8>),\n",
       "       functools.partial(<bound method CBTInserter.attach_to_left of <__main__.CBTInserter object at 0x7f7db44fcda0>>, parent=<__main__.TreeNode object at 0x7f7db44fc3c8>),\n",
       "       functools.partial(<bound method CBTInserter.attach_to_right of <__main__.CBTInserter object at 0x7f7db44fcda0>>, parent=<__main__.TreeNode object at 0x7f7db44fc128>),\n",
       "       functools.partial(<bound method CBTInserter.attach_to_left of <__main__.CBTInserter object at 0x7f7db44fcda0>>, parent=<__main__.TreeNode object at 0x7f7db44fc128>)])"
      ]
     },
     "execution_count": 57,
     "metadata": {},
     "output_type": "execute_result"
    }
   ],
   "source": [
    "obj.queue"
   ]
  },
  {
   "cell_type": "code",
   "execution_count": 52,
   "metadata": {},
   "outputs": [
    {
     "data": {
      "text/plain": [
       "4"
      ]
     },
     "execution_count": 52,
     "metadata": {},
     "output_type": "execute_result"
    }
   ],
   "source": [
    "param_1 = obj.insert(7)\n",
    "param_2 = obj.insert(8)\n",
    "param_3 = obj.get_root()"
   ]
  },
  {
   "cell_type": "code",
   "execution_count": 35,
   "metadata": {},
   "outputs": [
    {
     "data": {
      "text/plain": [
       "<__main__.TreeNode at 0x7f7db457a5f8>"
      ]
     },
     "execution_count": 35,
     "metadata": {},
     "output_type": "execute_result"
    }
   ],
   "source": [
    "param_2.left.val"
   ]
  },
  {
   "cell_type": "code",
   "execution_count": 15,
   "metadata": {},
   "outputs": [],
   "source": [
    "from collections import deque"
   ]
  },
  {
   "cell_type": "code",
   "execution_count": 20,
   "metadata": {},
   "outputs": [],
   "source": [
    "a = deque([2, 3])"
   ]
  },
  {
   "cell_type": "code",
   "execution_count": 17,
   "metadata": {},
   "outputs": [],
   "source": [
    "a.appendleft(2)"
   ]
  },
  {
   "cell_type": "code",
   "execution_count": 18,
   "metadata": {},
   "outputs": [],
   "source": [
    "a.appendleft(3)"
   ]
  },
  {
   "cell_type": "code",
   "execution_count": 21,
   "metadata": {},
   "outputs": [
    {
     "data": {
      "text/plain": [
       "deque([2, 3])"
      ]
     },
     "execution_count": 21,
     "metadata": {},
     "output_type": "execute_result"
    }
   ],
   "source": [
    "a"
   ]
  },
  {
   "cell_type": "code",
   "execution_count": null,
   "metadata": {},
   "outputs": [],
   "source": []
  }
 ],
 "metadata": {
  "kernelspec": {
   "display_name": "Python 3",
   "language": "python",
   "name": "python3"
  },
  "language_info": {
   "codemirror_mode": {
    "name": "ipython",
    "version": 3
   },
   "file_extension": ".py",
   "mimetype": "text/x-python",
   "name": "python",
   "nbconvert_exporter": "python",
   "pygments_lexer": "ipython3",
   "version": "3.6.7"
  }
 },
 "nbformat": 4,
 "nbformat_minor": 2
}
