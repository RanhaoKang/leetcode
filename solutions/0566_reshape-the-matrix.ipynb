{
 "cells": [
  {
   "cell_type": "markdown",
   "metadata": {},
   "source": [
    "[566. Reshape the Matrix](https://leetcode.com/problems/reshape-the-matrix/)"
   ]
  },
  {
   "cell_type": "code",
   "execution_count": 2,
   "metadata": {},
   "outputs": [],
   "source": [
    "class Solution:\n",
    "    def matrixReshape(self, nums, r: int, c: int):\n",
    "        h, w = len(nums), len(nums and nums[0])\n",
    "        if h * w != r * c:\n",
    "            return nums\n",
    "        \n",
    "        res = [[0] * c for _ in range(r)]\n",
    "        \n",
    "        for idx in range(h * w):\n",
    "            res[idx // c][idx % c] = nums[idx // w][idx % w]\n",
    "        \n",
    "        return res"
   ]
  },
  {
   "cell_type": "code",
   "execution_count": 3,
   "metadata": {},
   "outputs": [
    {
     "data": {
      "text/plain": [
       "[[1, 2, 3, 4]]"
      ]
     },
     "execution_count": 3,
     "metadata": {},
     "output_type": "execute_result"
    }
   ],
   "source": [
    "Solution().matrixReshape([[1,2], [3,4]], 1, 4)"
   ]
  },
  {
   "cell_type": "code",
   "execution_count": null,
   "metadata": {},
   "outputs": [],
   "source": []
  }
 ],
 "metadata": {
  "kernelspec": {
   "display_name": "Python 3",
   "language": "python",
   "name": "python3"
  },
  "language_info": {
   "codemirror_mode": {
    "name": "ipython",
    "version": 3
   },
   "file_extension": ".py",
   "mimetype": "text/x-python",
   "name": "python",
   "nbconvert_exporter": "python",
   "pygments_lexer": "ipython3",
   "version": "3.6.7"
  }
 },
 "nbformat": 4,
 "nbformat_minor": 2
}
