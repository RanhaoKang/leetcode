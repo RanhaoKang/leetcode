{
 "cells": [
  {
   "cell_type": "markdown",
   "metadata": {},
   "source": [
    "[601. Human Traffic of Stadium](https://leetcode.com/problems/human-traffic-of-stadium/)"
   ]
  },
  {
   "cell_type": "markdown",
   "metadata": {},
   "source": [
    "```sql\n",
    "select distinct t1.*\n",
    "from stadium t1, stadium t2, stadium t3\n",
    "where t1.people >= 100 and t2.people >= 100 and t3.people >= 100\n",
    "and\n",
    "(\n",
    "\t  (t1.id - t2.id = 1 and t1.id - t3.id = 2 and t2.id - t3.id =1)  -- t1, t2, t3\n",
    "    or\n",
    "    (t2.id - t1.id = 1 and t2.id - t3.id = 2 and t1.id - t3.id =1) -- t2, t1, t3\n",
    "    or\n",
    "    (t3.id - t2.id = 1 and t2.id - t1.id =1 and t3.id - t1.id = 2) -- t3, t2, t1\n",
    ")\n",
    "order by t1.id\n",
    ";\n",
    "```"
   ]
  },
  {
   "cell_type": "code",
   "execution_count": 5,
   "metadata": {},
   "outputs": [
    {
     "data": {
      "text/plain": [
       "<sqlite3.Cursor at 0x7f0f003b3a40>"
      ]
     },
     "execution_count": 5,
     "metadata": {},
     "output_type": "execute_result"
    }
   ],
   "source": [
    "import sqlite3\n",
    "con = sqlite3.connect(':memory:')\n",
    "c = con.cursor()\n",
    "c.execute('''\n",
    "Create table If Not Exists stadium (id int, visit_date DATE NULL, people int)\n",
    "''')\n",
    "c.execute(\"insert into stadium (id, visit_date, people) values ('1', '2017-01-01', '10')\")\n",
    "c.execute(\"insert into stadium (id, visit_date, people) values ('2', '2017-01-02', '109')\")\n",
    "c.execute(\"insert into stadium (id, visit_date, people) values ('3', '2017-01-03', '150')\")\n",
    "c.execute(\"insert into stadium (id, visit_date, people) values ('4', '2017-01-04', '99')\")\n",
    "c.execute(\"insert into stadium (id, visit_date, people) values ('5', '2017-01-05', '145')\")\n",
    "c.execute(\"insert into stadium (id, visit_date, people) values ('6', '2017-01-06', '1455')\")\n",
    "c.execute(\"insert into stadium (id, visit_date, people) values ('7', '2017-01-07', '199')\")\n",
    "c.execute(\"insert into stadium (id, visit_date, people) values ('8', '2017-01-08', '188')\")"
   ]
  },
  {
   "cell_type": "code",
   "execution_count": 6,
   "metadata": {},
   "outputs": [
    {
     "data": {
      "text/plain": [
       "[(1, '2017-01-01', 10),\n",
       " (2, '2017-01-02', 109),\n",
       " (3, '2017-01-03', 150),\n",
       " (4, '2017-01-04', 99),\n",
       " (5, '2017-01-05', 145),\n",
       " (6, '2017-01-06', 1455),\n",
       " (7, '2017-01-07', 199),\n",
       " (8, '2017-01-08', 188)]"
      ]
     },
     "execution_count": 6,
     "metadata": {},
     "output_type": "execute_result"
    }
   ],
   "source": [
    "c.execute('select * from stadium').fetchall()"
   ]
  },
  {
   "cell_type": "code",
   "execution_count": 7,
   "metadata": {},
   "outputs": [
    {
     "data": {
      "text/plain": [
       "[(5, '2017-01-05', 145),\n",
       " (6, '2017-01-06', 1455),\n",
       " (7, '2017-01-07', 199),\n",
       " (8, '2017-01-08', 188)]"
      ]
     },
     "execution_count": 7,
     "metadata": {},
     "output_type": "execute_result"
    }
   ],
   "source": [
    "c.execute('''\n",
    "select distinct t1.*\n",
    "from stadium t1, stadium t2, stadium t3\n",
    "where t1.people >= 100 and t2.people >= 100 and t3.people >= 100\n",
    "and\n",
    "(\n",
    "\t  (t1.id - t2.id = 1 and t1.id - t3.id = 2 and t2.id - t3.id =1)  -- t1, t2, t3\n",
    "    or\n",
    "    (t2.id - t1.id = 1 and t2.id - t3.id = 2 and t1.id - t3.id =1) -- t2, t1, t3\n",
    "    or\n",
    "    (t3.id - t2.id = 1 and t2.id - t1.id =1 and t3.id - t1.id = 2) -- t3, t2, t1\n",
    ")\n",
    "order by t1.id\n",
    ";\n",
    "''').fetchall()"
   ]
  },
  {
   "cell_type": "code",
   "execution_count": null,
   "metadata": {},
   "outputs": [],
   "source": []
  }
 ],
 "metadata": {
  "kernelspec": {
   "display_name": "Python 3",
   "language": "python",
   "name": "python3"
  },
  "language_info": {
   "codemirror_mode": {
    "name": "ipython",
    "version": 3
   },
   "file_extension": ".py",
   "mimetype": "text/x-python",
   "name": "python",
   "nbconvert_exporter": "python",
   "pygments_lexer": "ipython3",
   "version": "3.6.7"
  }
 },
 "nbformat": 4,
 "nbformat_minor": 2
}
