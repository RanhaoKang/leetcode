{
 "cells": [
  {
   "cell_type": "markdown",
   "metadata": {},
   "source": [
    "[935. Knight Dialer](https://leetcode.com/problems/knight-dialer/)"
   ]
  },
  {
   "cell_type": "code",
   "execution_count": 1,
   "metadata": {},
   "outputs": [],
   "source": [
    "class Solution:\n",
    "    def knightDialer(self, N: int) -> int:\n",
    "        MOD = 10**9 + 7\n",
    "        # moves[i]: numbers able to move to at number i\n",
    "        moves = [[4,6],[6,8],[7,9],[4,8],[3,9,0],[],\n",
    "                     [1,7,0],[2,6],[1,3],[2,4]]\n",
    "        \n",
    "        dp = [1] * 10\n",
    "        for _ in range(N-1):\n",
    "            dp2 = [0] * 10\n",
    "            for i in range(10):\n",
    "                for j in moves[i]:\n",
    "                    \n",
    "                    dp2[j] += dp[i]\n",
    "                    dp2[j] %= MOD\n",
    "            dp = dp2\n",
    "        \n",
    "        return sum(dp) % MOD"
   ]
  },
  {
   "cell_type": "code",
   "execution_count": null,
   "metadata": {},
   "outputs": [],
   "source": []
  }
 ],
 "metadata": {
  "kernelspec": {
   "display_name": "Python 3",
   "language": "python",
   "name": "python3"
  },
  "language_info": {
   "codemirror_mode": {
    "name": "ipython",
    "version": 3
   },
   "file_extension": ".py",
   "mimetype": "text/x-python",
   "name": "python",
   "nbconvert_exporter": "python",
   "pygments_lexer": "ipython3",
   "version": "3.8.1"
  }
 },
 "nbformat": 4,
 "nbformat_minor": 4
}
