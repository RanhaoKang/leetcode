{
 "cells": [
  {
   "cell_type": "markdown",
   "metadata": {},
   "source": [
    "[62. Unique Paths](https://leetcode.com/problems/unique-paths/)"
   ]
  },
  {
   "cell_type": "markdown",
   "metadata": {},
   "source": [
    "相当于有`m`个`Right`和`n`个`Down`, 进行排列组合, 含有同类元素的排列组合不知道有没有通项公式, 不过可以用DP来做.\n",
    "\n",
    "`m`个`Right`和`n`个`Down`时的种类数量, 等于`m-1`个Right, `n`个`Down`时的数量(再向右走一次), 加上`m`个Right, `n-1`个`Down`时的数量(再向下走一次)"
   ]
  },
  {
   "cell_type": "code",
   "execution_count": 14,
   "metadata": {},
   "outputs": [],
   "source": [
    "class Solution:\n",
    "    def uniquePaths(self, m: int, n: int) -> int:\n",
    "        l = [[1] * n] * m\n",
    "        \n",
    "        for i in range(1, m):\n",
    "            for j in range(1, n):\n",
    "                l[i][j] = l[i - 1][j] + l[i][j - 1]\n",
    "        \n",
    "        return l[-1][-1]"
   ]
  },
  {
   "cell_type": "code",
   "execution_count": 20,
   "metadata": {},
   "outputs": [
    {
     "data": {
      "text/plain": [
       "28"
      ]
     },
     "execution_count": 20,
     "metadata": {},
     "output_type": "execute_result"
    }
   ],
   "source": [
    "Solution().uniquePaths(3, 7)"
   ]
  },
  {
   "cell_type": "markdown",
   "metadata": {},
   "source": [
    "数学方法, 计算$C(m+n-2, n-1)$"
   ]
  },
  {
   "cell_type": "code",
   "execution_count": 19,
   "metadata": {},
   "outputs": [],
   "source": [
    "class Solution:\n",
    "    def uniquePaths(self, m: int, n: int) -> int:\n",
    "        import math\n",
    "        if not m or not n:\n",
    "            return 0\n",
    "        return int(math.factorial(m+n-2)/(math.factorial(n-1) * math.factorial(m-1)))"
   ]
  },
  {
   "cell_type": "code",
   "execution_count": null,
   "metadata": {},
   "outputs": [],
   "source": []
  }
 ],
 "metadata": {
  "kernelspec": {
   "display_name": "Python 3",
   "language": "python",
   "name": "python3"
  },
  "language_info": {
   "codemirror_mode": {
    "name": "ipython",
    "version": 3
   },
   "file_extension": ".py",
   "mimetype": "text/x-python",
   "name": "python",
   "nbconvert_exporter": "python",
   "pygments_lexer": "ipython3",
   "version": "3.6.7"
  }
 },
 "nbformat": 4,
 "nbformat_minor": 2
}
