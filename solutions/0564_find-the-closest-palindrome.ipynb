{
 "cells": [
  {
   "cell_type": "markdown",
   "metadata": {},
   "source": [
    "[564. Find the Closest Palindrome](https://leetcode.com/problems/find-the-closest-palindrome/)"
   ]
  },
  {
   "cell_type": "code",
   "execution_count": 1,
   "metadata": {},
   "outputs": [],
   "source": [
    "from math import log10\n",
    "class Solution:\n",
    "    def nearestPalindromic(self, n):\n",
    "        \"\"\"\n",
    "        :type n: str\n",
    "        :rtype: str\n",
    "        \"\"\"\n",
    "        if len(n) == 1: return str(int(n)-1)\n",
    "        elif log10(int(n)).is_integer() or log10(int(n)-1).is_integer(): return (len(n) - 1) * \"9\"\n",
    "        elif log10(int(n)+1).is_integer(): return \"1\" + \"0\"*(len(n) - 1) + \"1\"\n",
    "\n",
    "        mid_pos = [int(len(n)/2)] if len(n) % 2 == 1 else [int(len(n)/2)-1, int(len(n)/2)]\n",
    "        \n",
    "        reflected = [int(n[i]) if i < int(len(n)/2) else int(n[len(n)-1-i]) for i in range(len(n))]\n",
    "        upper = int(''.join(map(str,[reflected[i] if i not in mid_pos else (reflected[i]+1)%10 for i in range(len(n))])))\n",
    "        lower = int(''.join(map(str,[reflected[i] if i not in mid_pos else (reflected[i]-1)%10 for i in range(len(n))])))\n",
    "        reflected, n = int(''.join(map(str,reflected))) if n != n[::-1] else lower, int(n)\n",
    "          \n",
    "        return str(min(lower,reflected,upper, key=lambda num: abs(n-num))) "
   ]
  },
  {
   "cell_type": "code",
   "execution_count": null,
   "metadata": {},
   "outputs": [],
   "source": []
  }
 ],
 "metadata": {
  "kernelspec": {
   "display_name": "Python 3",
   "language": "python",
   "name": "python3"
  },
  "language_info": {
   "codemirror_mode": {
    "name": "ipython",
    "version": 3
   },
   "file_extension": ".py",
   "mimetype": "text/x-python",
   "name": "python",
   "nbconvert_exporter": "python",
   "pygments_lexer": "ipython3",
   "version": "3.8.1"
  }
 },
 "nbformat": 4,
 "nbformat_minor": 4
}
