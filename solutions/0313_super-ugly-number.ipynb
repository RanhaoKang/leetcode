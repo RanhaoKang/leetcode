{
 "cells": [
  {
   "cell_type": "markdown",
   "metadata": {},
   "source": [
    "[313. Super Ugly Number](https://leetcode.com/problems/super-ugly-number/)"
   ]
  },
  {
   "cell_type": "markdown",
   "metadata": {},
   "source": [
    "https://leetcode.com/problems/super-ugly-number/discuss/169815/Python-DP-solution-beats-93.7-extremely-detailed-explanation"
   ]
  },
  {
   "cell_type": "code",
   "execution_count": 2,
   "metadata": {},
   "outputs": [],
   "source": [
    "class Solution:\n",
    "    def nthSuperUglyNumber(self, n: int, primes) -> int:\n",
    "        size = len(primes)\n",
    "        ugly, dp, index, ugly_nums = 1, [1], [0] * size, [1] * size\n",
    "        for i in range(1, n):\n",
    "            # compute possibly ugly numbers and update index\n",
    "            for j in range(0, size):\n",
    "                if ugly_nums[j] == ugly:\n",
    "                    ugly_nums[j] = dp[index[j]] * primes[j]\n",
    "                    index[j] += 1\n",
    "            # get the minimum\n",
    "            ugly = min(ugly_nums)\n",
    "            dp.append(ugly)\n",
    "        return dp[-1]"
   ]
  },
  {
   "cell_type": "code",
   "execution_count": null,
   "metadata": {},
   "outputs": [],
   "source": []
  }
 ],
 "metadata": {
  "kernelspec": {
   "display_name": "Python 3",
   "language": "python",
   "name": "python3"
  },
  "language_info": {
   "codemirror_mode": {
    "name": "ipython",
    "version": 3
   },
   "file_extension": ".py",
   "mimetype": "text/x-python",
   "name": "python",
   "nbconvert_exporter": "python",
   "pygments_lexer": "ipython3",
   "version": "3.8.1"
  }
 },
 "nbformat": 4,
 "nbformat_minor": 4
}
