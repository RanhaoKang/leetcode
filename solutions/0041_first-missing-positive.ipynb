{
 "cells": [
  {
   "cell_type": "markdown",
   "metadata": {},
   "source": [
    "[41. First Missing Positive](https://leetcode.com/problems/first-missing-positive/)"
   ]
  },
  {
   "cell_type": "markdown",
   "metadata": {},
   "source": [
    "我们需要多大的数组来记录?\n",
    "- 对于连续的输入, 如`[1,2,3,4,5]`, 我们返回的结果为`6`是`len(nums) + 1`\n",
    "- 对于不连续的输入, 如`[1,3,4,5,6]`, 我们返回结果为`2`, 小于`len(nums) + 1`\n",
    "\n",
    "所以我们关心的只有`(1, len(nums)) + 1`这个区间有哪个数没有出现"
   ]
  },
  {
   "cell_type": "code",
   "execution_count": 12,
   "metadata": {},
   "outputs": [],
   "source": [
    "class Solution:\n",
    "    def firstMissingPositive(self, nums) -> int:\n",
    "        length = len(nums)\n",
    "        \n",
    "        # seen[i]: 看到过i + 1\n",
    "        seen = [False] * length\n",
    "        \n",
    "        for i in nums:\n",
    "            if 0 < i <= length:\n",
    "                seen[i - 1] = True\n",
    "        \n",
    "        for i in range(length):\n",
    "            if not seen[i]:\n",
    "                return i + 1\n",
    "        \n",
    "        return length + 1"
   ]
  },
  {
   "cell_type": "code",
   "execution_count": 11,
   "metadata": {},
   "outputs": [
    {
     "name": "stdout",
     "output_type": "stream",
     "text": [
      "3\n",
      "4\n",
      "-1\n",
      "1\n"
     ]
    },
    {
     "data": {
      "text/plain": [
       "2"
      ]
     },
     "execution_count": 11,
     "metadata": {},
     "output_type": "execute_result"
    }
   ],
   "source": [
    "Solution().firstMissingPositive([3, 4, -1, 1])"
   ]
  },
  {
   "cell_type": "markdown",
   "metadata": {},
   "source": [
    "由于需要记录`(1, len(nums)) + 1`, 空间复杂度为$O(n)$, 接下来考虑如何降低空间复杂度到$O(1)$.\n",
    "\n",
    "空间复杂度到$O(1)$一般有两种方式:\n",
    "- K Variables\n",
    "- 在输入上做修改\n",
    "\n",
    "这里正好需要记录`(1, len(nums)) + 1`, 所以优先尝试第二种思路."
   ]
  },
  {
   "cell_type": "markdown",
   "metadata": {},
   "source": [
    "修改输入时, 如果是`one-pass`, 一般直接修改即可, 如果是`two-pass`, 则需要考虑区分开做了修改的部分和没做修改的部分"
   ]
  },
  {
   "cell_type": "markdown",
   "metadata": {},
   "source": [
    "使用相反数来记录, 遍历正数部分看到`i`时, 就把`nums[i]`置负. 最后看哪一个元素是正的, 则说明没出现过."
   ]
  },
  {
   "cell_type": "code",
   "execution_count": 67,
   "metadata": {},
   "outputs": [],
   "source": [
    "class Solution:\n",
    "    def firstMissingPositive(self, nums) -> int:\n",
    "        length = len(nums)\n",
    "        \n",
    "        # 把所有正数放在前面, O(n)\n",
    "        l, r = 0, length - 1\n",
    "        while l <= r:\n",
    "            if nums[l] > 0:\n",
    "                l += 1\n",
    "            else:\n",
    "                nums[l], nums[r] = nums[r], nums[l]\n",
    "                r -= 1\n",
    "                \n",
    "        print(nums, r)\n",
    "        # 当r != -1时, nums[r]是最后一个正数\n",
    "        \n",
    "        for i in range(r + 1):\n",
    "            print(nums[i])\n",
    "            tmp = abs(nums[i])\n",
    "            if tmp <= r + 1 and nums[tmp - 1] > 0:\n",
    "                nums[tmp - 1] = -nums[tmp - 1]\n",
    "        print(nums)\n",
    "        for i in range(r + 1):\n",
    "            if nums[i] > 0:\n",
    "                return i + 1\n",
    "        \n",
    "        return r + 2"
   ]
  },
  {
   "cell_type": "code",
   "execution_count": 71,
   "metadata": {},
   "outputs": [
    {
     "data": {
      "text/plain": [
       "2"
      ]
     },
     "execution_count": 71,
     "metadata": {},
     "output_type": "execute_result"
    }
   ],
   "source": [
    "Solution().firstMissingPositive([1,1])"
   ]
  },
  {
   "cell_type": "markdown",
   "metadata": {},
   "source": [
    "使用`index == nums[index]`来记录, 当问题中数组元素和数组长度挂钩时, 一般可以用这个方法. 由于这里我们不需要记录`0`, 所以实际上用的是`index == nums[index - 1]`, 即在`0,1,2,3,4`的位置分别存`1,2,3,4,5`."
   ]
  },
  {
   "cell_type": "markdown",
   "metadata": {},
   "source": [
    "要点:\n",
    "\n",
    "- 交换而非赋值, 如果使用`nums[nums[i] - 1] = nums[i]`, `nums[nums[i] - 1]`原有的可能有用的信息就被覆盖了.\n",
    "- `while`循环, 在一次交换后, 我们把一开始`nums[i]`放到了合适的位置, 此时`i`的位置存放的数有可能仍是合法的, 我们应继续存放. 为了避免死循环, 循环头应写明`nums[nums[i] - 1] != nums[i]`"
   ]
  },
  {
   "cell_type": "code",
   "execution_count": 78,
   "metadata": {},
   "outputs": [],
   "source": [
    "class Solution:\n",
    "    def firstMissingPositive(self, nums) -> int:\n",
    "        length = len(nums)\n",
    "        \n",
    "        \n",
    "        for i in range(length):\n",
    "            while 0 < nums[i] <= length and nums[nums[i] - 1] != nums[i]:\n",
    "                nums[nums[i] - 1], nums[i] = nums[i], nums[nums[i] - 1]\n",
    "                print(nums)\n",
    "        for i in range(length):\n",
    "            if nums[i] != i + 1:\n",
    "                return i + 1\n",
    "        \n",
    "        return length + 1"
   ]
  },
  {
   "cell_type": "code",
   "execution_count": 79,
   "metadata": {},
   "outputs": [
    {
     "name": "stdout",
     "output_type": "stream",
     "text": [
      "[-1, 4, 3, 1]\n",
      "[-1, 1, 3, 4]\n",
      "[1, -1, 3, 4]\n"
     ]
    },
    {
     "data": {
      "text/plain": [
       "2"
      ]
     },
     "execution_count": 79,
     "metadata": {},
     "output_type": "execute_result"
    }
   ],
   "source": [
    "Solution().firstMissingPositive([3, 4, -1, 1])"
   ]
  },
  {
   "cell_type": "code",
   "execution_count": null,
   "metadata": {},
   "outputs": [],
   "source": []
  }
 ],
 "metadata": {
  "kernelspec": {
   "display_name": "Python 3",
   "language": "python",
   "name": "python3"
  },
  "language_info": {
   "codemirror_mode": {
    "name": "ipython",
    "version": 3
   },
   "file_extension": ".py",
   "mimetype": "text/x-python",
   "name": "python",
   "nbconvert_exporter": "python",
   "pygments_lexer": "ipython3",
   "version": "3.6.7"
  }
 },
 "nbformat": 4,
 "nbformat_minor": 2
}
