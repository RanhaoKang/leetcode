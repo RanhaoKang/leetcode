{
 "cells": [
  {
   "cell_type": "markdown",
   "metadata": {},
   "source": [
    "[538. Convert BST to Greater Tree](https://leetcode.com/problems/convert-bst-to-greater-tree/)"
   ]
  },
  {
   "cell_type": "code",
   "execution_count": 26,
   "metadata": {},
   "outputs": [],
   "source": [
    "# Definition for a binary tree node.\n",
    "class TreeNode:\n",
    "    def __init__(self, x):\n",
    "        self.val = x\n",
    "        self.left = None\n",
    "        self.right = None\n",
    "\n",
    "class Solution:\n",
    "    def convertBST(self, root: TreeNode) -> TreeNode:\n",
    "        \n",
    "        def iterate(node):\n",
    "            if node:\n",
    "                yield from iterate(node.right)\n",
    "                yield node\n",
    "                yield from iterate(node.left)\n",
    "        \n",
    "        total = 0\n",
    "        for i in iterate(root):\n",
    "            total = i.val = total + i.val\n",
    "            \n",
    "        return root"
   ]
  },
  {
   "cell_type": "code",
   "execution_count": 25,
   "metadata": {},
   "outputs": [
    {
     "data": {
      "text/plain": [
       "(5, 6, 3, 2, 6)"
      ]
     },
     "execution_count": 25,
     "metadata": {},
     "output_type": "execute_result"
    }
   ],
   "source": [
    "p = TreeNode(2)\n",
    "p.left = TreeNode(0)\n",
    "p.right = TreeNode(3)\n",
    "p.left.left = TreeNode(-4)\n",
    "p.left.right = TreeNode(1)\n",
    "\n",
    "q = Solution().convertBST(p)\n",
    "q.val, q.left.val, q.right.val, q.left.left.val, q.left.right.val"
   ]
  },
  {
   "cell_type": "code",
   "execution_count": null,
   "metadata": {},
   "outputs": [],
   "source": []
  }
 ],
 "metadata": {
  "kernelspec": {
   "display_name": "Python 3",
   "language": "python",
   "name": "python3"
  },
  "language_info": {
   "codemirror_mode": {
    "name": "ipython",
    "version": 3
   },
   "file_extension": ".py",
   "mimetype": "text/x-python",
   "name": "python",
   "nbconvert_exporter": "python",
   "pygments_lexer": "ipython3",
   "version": "3.6.7"
  }
 },
 "nbformat": 4,
 "nbformat_minor": 2
}
