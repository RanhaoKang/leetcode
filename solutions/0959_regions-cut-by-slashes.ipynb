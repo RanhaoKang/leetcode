{
 "cells": [
  {
   "cell_type": "markdown",
   "metadata": {},
   "source": [
    "[959. Regions Cut By Slashes](https://leetcode.com/problems/regions-cut-by-slashes/)"
   ]
  },
  {
   "cell_type": "code",
   "execution_count": 3,
   "metadata": {},
   "outputs": [],
   "source": [
    "class Solution:\n",
    "    def regionsBySlashes(self, grid):\n",
    "        f = {}\n",
    "        def find(x):\n",
    "            f.setdefault(x, x)\n",
    "            if x != f[x]:\n",
    "                f[x] = find(f[x])\n",
    "            return f[x]\n",
    "        def union(x, y):\n",
    "            f[find(x)] = find(y)\n",
    "\n",
    "        for i in xrange(len(grid)):\n",
    "            for j in xrange(len(grid)):\n",
    "                if i:\n",
    "                    union((i - 1, j, 2), (i, j, 0))\n",
    "                if j:\n",
    "                    union((i, j - 1, 1), (i, j, 3))\n",
    "                if grid[i][j] != \"/\":\n",
    "                    union((i, j, 0), (i, j, 1))\n",
    "                    union((i, j, 2), (i, j, 3))\n",
    "                if grid[i][j] != \"\\\\\":\n",
    "                    union((i, j, 3), (i, j, 0))\n",
    "                    union((i, j, 1), (i, j, 2))\n",
    "        return len(set(map(find, f)))"
   ]
  },
  {
   "cell_type": "code",
   "execution_count": null,
   "metadata": {},
   "outputs": [],
   "source": []
  }
 ],
 "metadata": {
  "kernelspec": {
   "display_name": "Python 3",
   "language": "python",
   "name": "python3"
  },
  "language_info": {
   "codemirror_mode": {
    "name": "ipython",
    "version": 3
   },
   "file_extension": ".py",
   "mimetype": "text/x-python",
   "name": "python",
   "nbconvert_exporter": "python",
   "pygments_lexer": "ipython3",
   "version": "3.8.1"
  }
 },
 "nbformat": 4,
 "nbformat_minor": 4
}
