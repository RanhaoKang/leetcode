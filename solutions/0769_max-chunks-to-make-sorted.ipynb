{
 "cells": [
  {
   "cell_type": "markdown",
   "metadata": {},
   "source": [
    "[769. Max Chunks To Make Sorted](https://leetcode.com/problems/max-chunks-to-make-sorted/)"
   ]
  },
  {
   "cell_type": "code",
   "execution_count": 29,
   "metadata": {},
   "outputs": [],
   "source": [
    "class Solution:\n",
    "    def maxChunksToSorted(self, arr):\n",
    "        # two-pass得到最大值(与左相比)和最小值(与右相比)\n",
    "        max_ = [float('-inf')]\n",
    "        for num in arr:\n",
    "            max_.append(max(max_[-1], num))\n",
    "        \n",
    "        min_ = [float('inf')]\n",
    "        for num in reversed(arr):\n",
    "            min_.append(min(min_[-1], num))\n",
    "        \n",
    "        max_ = max_[1:]\n",
    "        min_ = min_[1:][::-1]\n",
    "\n",
    "        return sum(1 for i in range(len(arr) - 1) if max_[i] <= min_[i + 1]) + 1"
   ]
  },
  {
   "cell_type": "code",
   "execution_count": 30,
   "metadata": {},
   "outputs": [
    {
     "data": {
      "text/plain": [
       "1"
      ]
     },
     "execution_count": 30,
     "metadata": {},
     "output_type": "execute_result"
    }
   ],
   "source": [
    "Solution().maxChunksToSorted([2,24,3,2,1,3])"
   ]
  },
  {
   "cell_type": "code",
   "execution_count": null,
   "metadata": {},
   "outputs": [],
   "source": []
  }
 ],
 "metadata": {
  "kernelspec": {
   "display_name": "Python 3",
   "language": "python",
   "name": "python3"
  },
  "language_info": {
   "codemirror_mode": {
    "name": "ipython",
    "version": 3
   },
   "file_extension": ".py",
   "mimetype": "text/x-python",
   "name": "python",
   "nbconvert_exporter": "python",
   "pygments_lexer": "ipython3",
   "version": "3.6.7"
  }
 },
 "nbformat": 4,
 "nbformat_minor": 2
}
