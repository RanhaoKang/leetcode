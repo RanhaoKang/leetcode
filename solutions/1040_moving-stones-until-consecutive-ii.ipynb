{
 "cells": [
  {
   "cell_type": "markdown",
   "metadata": {},
   "source": [
    "[1040. Moving Stones Until Consecutive II](https://leetcode.com/problems/moving-stones-until-consecutive-ii/)"
   ]
  },
  {
   "cell_type": "code",
   "execution_count": 1,
   "metadata": {},
   "outputs": [],
   "source": [
    "class Solution:\n",
    "    def numMovesStonesII(self, A):\n",
    "        A.sort()\n",
    "        i, n, low = 0, len(A), len(A)\n",
    "        high = max(A[-1] - n + 2 - A[1], A[-2] - A[0] - n + 2)\n",
    "        for j in range(n):\n",
    "            while A[j] - A[i] >= n: i += 1\n",
    "            if j - i + 1 == n - 1 and A[j] - A[i] == n - 2:\n",
    "                low = min(low, 2)\n",
    "            else:\n",
    "                low = min(low, n - (j - i + 1))\n",
    "        return [low, high]"
   ]
  },
  {
   "cell_type": "code",
   "execution_count": null,
   "metadata": {},
   "outputs": [],
   "source": []
  }
 ],
 "metadata": {
  "kernelspec": {
   "display_name": "Python 3",
   "language": "python",
   "name": "python3"
  },
  "language_info": {
   "codemirror_mode": {
    "name": "ipython",
    "version": 3
   },
   "file_extension": ".py",
   "mimetype": "text/x-python",
   "name": "python",
   "nbconvert_exporter": "python",
   "pygments_lexer": "ipython3",
   "version": "3.8.1"
  }
 },
 "nbformat": 4,
 "nbformat_minor": 4
}
