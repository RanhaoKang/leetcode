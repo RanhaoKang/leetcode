{
 "cells": [
  {
   "cell_type": "markdown",
   "metadata": {},
   "source": [
    "[234. Palindrome Linked List](https://leetcode.com/problems/palindrome-linked-list/)"
   ]
  },
  {
   "cell_type": "markdown",
   "metadata": {},
   "source": [
    "因为是链表, 只做了一个额外的dummy head, 也算是$O(1)$ space了"
   ]
  },
  {
   "cell_type": "code",
   "execution_count": 20,
   "metadata": {},
   "outputs": [],
   "source": [
    "# Definition for singly-linked list.\n",
    "class ListNode:\n",
    "    def __init__(self, x):\n",
    "        self.val = x\n",
    "        self.next = None\n",
    "\n",
    "class Solution:\n",
    "    def isPalindrome(self, head: 'ListNode') -> 'bool':\n",
    "        slow = fast = head\n",
    "        rev = ListNode(None)\n",
    "        while fast and fast.next:\n",
    "            tmp = slow\n",
    "            slow, fast = slow.next, fast.next.next\n",
    "            # 通过在头节点后插入的方式reverse\n",
    "            tmp.next = rev.next\n",
    "            rev.next = tmp\n",
    "        \n",
    "        # 这句比较经典\n",
    "        if fast: slow = slow.next\n",
    "        \n",
    "        rev = rev.next\n",
    "        while rev and slow:\n",
    "            if rev.val != slow.val:\n",
    "                return False\n",
    "            rev, slow = rev.next, slow.next\n",
    "        \n",
    "        return True"
   ]
  },
  {
   "cell_type": "code",
   "execution_count": 19,
   "metadata": {},
   "outputs": [
    {
     "data": {
      "text/plain": [
       "True"
      ]
     },
     "execution_count": 19,
     "metadata": {},
     "output_type": "execute_result"
    }
   ],
   "source": [
    "p = ListNode(1)\n",
    "p.next = ListNode(2)\n",
    "p.next.next = ListNode(2)\n",
    "p.next.next.next = ListNode(1)\n",
    "\n",
    "Solution().isPalindrome(p)"
   ]
  },
  {
   "cell_type": "markdown",
   "metadata": {},
   "source": [
    "大神的写法"
   ]
  },
  {
   "cell_type": "code",
   "execution_count": 22,
   "metadata": {},
   "outputs": [],
   "source": [
    "# Definition for singly-linked list.\n",
    "class ListNode:\n",
    "    def __init__(self, x):\n",
    "        self.val = x\n",
    "        self.next = None\n",
    "\n",
    "class Solution:\n",
    "    def isPalindrome(self, head):\n",
    "        rev = None\n",
    "        slow = fast = head\n",
    "        while fast and fast.next:\n",
    "            fast = fast.next.next\n",
    "            # 相当于 rev = slow; rev.next = re\n",
    "            rev, rev.next, slow = slow, rev, slow.next\n",
    "        if fast:\n",
    "            slow = slow.next\n",
    "        while rev and rev.val == slow.val:\n",
    "            slow = slow.next\n",
    "            rev = rev.next\n",
    "        return not rev"
   ]
  },
  {
   "cell_type": "code",
   "execution_count": null,
   "metadata": {},
   "outputs": [],
   "source": []
  }
 ],
 "metadata": {
  "kernelspec": {
   "display_name": "Python 3",
   "language": "python",
   "name": "python3"
  },
  "language_info": {
   "codemirror_mode": {
    "name": "ipython",
    "version": 3
   },
   "file_extension": ".py",
   "mimetype": "text/x-python",
   "name": "python",
   "nbconvert_exporter": "python",
   "pygments_lexer": "ipython3",
   "version": "3.6.7"
  }
 },
 "nbformat": 4,
 "nbformat_minor": 2
}
