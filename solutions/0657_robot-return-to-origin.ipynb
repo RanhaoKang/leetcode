{
 "cells": [
  {
   "cell_type": "markdown",
   "metadata": {},
   "source": [
    "[657. Robot Return to Origin](https://leetcode.com/problems/robot-return-to-origin/)"
   ]
  },
  {
   "cell_type": "markdown",
   "metadata": {},
   "source": [
    "中规中矩的O(N)"
   ]
  },
  {
   "cell_type": "code",
   "execution_count": null,
   "metadata": {},
   "outputs": [],
   "source": [
    "class Solution:\n",
    "    def judgeCircle(self, moves: str) -> bool:\n",
    "        vertical, horizontal = 0, 0\n",
    "        for move in moves:\n",
    "            if move == 'U':\n",
    "                vertical += 1\n",
    "            elif move == 'D':\n",
    "                vertical -= 1\n",
    "            elif move == 'L':\n",
    "                horizontal -= 1\n",
    "            else:\n",
    "                horizontal += 1\n",
    "                \n",
    "        return horizontal == 0 and vertical == 0"
   ]
  },
  {
   "cell_type": "markdown",
   "metadata": {},
   "source": [
    "用`collections.Counter`或`list.count`会快"
   ]
  },
  {
   "cell_type": "code",
   "execution_count": null,
   "metadata": {},
   "outputs": [],
   "source": []
  }
 ],
 "metadata": {
  "kernelspec": {
   "display_name": "Python 3",
   "language": "python",
   "name": "python3"
  },
  "language_info": {
   "codemirror_mode": {
    "name": "ipython",
    "version": 3
   },
   "file_extension": ".py",
   "mimetype": "text/x-python",
   "name": "python",
   "nbconvert_exporter": "python",
   "pygments_lexer": "ipython3",
   "version": "3.6.7"
  }
 },
 "nbformat": 4,
 "nbformat_minor": 2
}
