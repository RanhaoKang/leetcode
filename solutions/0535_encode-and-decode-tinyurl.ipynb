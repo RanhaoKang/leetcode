{
 "cells": [
  {
   "cell_type": "markdown",
   "metadata": {},
   "source": [
    "[535. Encode and Decode TinyURL](https://leetcode.com/problems/encode-and-decode-tinyurl/)"
   ]
  },
  {
   "cell_type": "code",
   "execution_count": null,
   "metadata": {},
   "outputs": [],
   "source": [
    "import string\n",
    "import random\n",
    "\n",
    "class Codec:\n",
    "    alphabet = string.ascii_letters + '0123456789'\n",
    "    \n",
    "    def __init__(self):\n",
    "        self.long_to_short = {}\n",
    "        self.short_to_long = {}\n",
    "\n",
    "        \n",
    "    def encode(self, longUrl):\n",
    "        \"\"\"Encodes a URL to a shortened URL.\n",
    "        \n",
    "        :type longUrl: str\n",
    "        :rtype: str\n",
    "        \"\"\"\n",
    "        while longUrl not in self.long_to_short:\n",
    "            short = ''.join(random.choice(Codec.alphabet) for _ in range(6))\n",
    "            if short not in self.long_to_short:\n",
    "                self.long_to_short[longUrl] = short\n",
    "                self.short_to_long[short] = longUrl\n",
    "        return self.long_to_short[longUrl]\n",
    "\n",
    "    \n",
    "    def decode(self, shortUrl):\n",
    "        \"\"\"Decodes a shortened URL to its original URL.\n",
    "        \n",
    "        :type shortUrl: str\n",
    "        :rtype: str\n",
    "        \"\"\"\n",
    "        return self.short_to_long[shortUrl]\n",
    "        \n",
    "\n",
    "# Your Codec object will be instantiated and called as such:\n",
    "# codec = Codec()\n",
    "# codec.decode(codec.encode(url))"
   ]
  },
  {
   "cell_type": "code",
   "execution_count": null,
   "metadata": {},
   "outputs": [],
   "source": []
  }
 ],
 "metadata": {
  "kernelspec": {
   "display_name": "Python 3",
   "language": "python",
   "name": "python3"
  },
  "language_info": {
   "codemirror_mode": {
    "name": "ipython",
    "version": 3
   },
   "file_extension": ".py",
   "mimetype": "text/x-python",
   "name": "python",
   "nbconvert_exporter": "python",
   "pygments_lexer": "ipython3",
   "version": "3.6.7"
  }
 },
 "nbformat": 4,
 "nbformat_minor": 2
}
