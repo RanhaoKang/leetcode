{
 "cells": [
  {
   "cell_type": "markdown",
   "metadata": {},
   "source": [
    "[733. Flood Fill](https://leetcode.com/problems/flood-fill/)"
   ]
  },
  {
   "cell_type": "markdown",
   "metadata": {},
   "source": [
    "这种局部改变会影响之后遍历的，一开始用了标记的方法"
   ]
  },
  {
   "cell_type": "code",
   "execution_count": 12,
   "metadata": {},
   "outputs": [],
   "source": [
    "class Solution:\n",
    "    def floodFill(self, image, sr: int, sc: int, newColor: int):\n",
    "        from functools import lru_cache\n",
    "        \n",
    "        H, W = len(image), len(image and image[0])\n",
    "        changing_color = image[sr][sc]\n",
    "        CHANGE = -1\n",
    "        \n",
    "        @lru_cache(None)\n",
    "        def f(i, j):\n",
    "            if image[i][j] == changing_color:\n",
    "                image[i][j] = CHANGE\n",
    "                list(f(I, J) for I, J in ((i-1, j), (i+1, j), (i, j-1), (i, j+1)) if 0 <= I < H and 0 <= J < W)\n",
    "        \n",
    "        def g():\n",
    "            for i in range(H):\n",
    "                for j in range(W):\n",
    "                    if image[i][j] == CHANGE:\n",
    "                        image[i][j] = newColor\n",
    "        \n",
    "        f(sr, sc); g()\n",
    "        return image"
   ]
  },
  {
   "cell_type": "code",
   "execution_count": 13,
   "metadata": {},
   "outputs": [
    {
     "data": {
      "text/plain": [
       "[[2, 2, 2], [2, 2, 0], [2, 0, 1]]"
      ]
     },
     "execution_count": 13,
     "metadata": {},
     "output_type": "execute_result"
    }
   ],
   "source": [
    "Solution().floodFill([[1,1,1],[1,1,0],[1,0,1]], 1, 1, 2)"
   ]
  },
  {
   "cell_type": "code",
   "execution_count": 14,
   "metadata": {},
   "outputs": [
    {
     "data": {
      "text/plain": [
       "[[0, 0, 0], [0, 1, 1]]"
      ]
     },
     "execution_count": 14,
     "metadata": {},
     "output_type": "execute_result"
    }
   ],
   "source": [
    "Solution().floodFill([[0,0,0],[0,1,1]], 1, 1, 1)"
   ]
  },
  {
   "cell_type": "markdown",
   "metadata": {},
   "source": [
    "后来发现如果`changing_color == newColor`就不需要做相关操作了。"
   ]
  },
  {
   "cell_type": "code",
   "execution_count": 15,
   "metadata": {},
   "outputs": [],
   "source": [
    "class Solution:\n",
    "    def floodFill(self, image, sr: int, sc: int, newColor: int):\n",
    "        from functools import lru_cache\n",
    "        \n",
    "        H, W = len(image), len(image and image[0])\n",
    "        changing_color = image[sr][sc]\n",
    "        \n",
    "        @lru_cache(None)\n",
    "        def f(i, j):\n",
    "            if image[i][j] == changing_color:\n",
    "                image[i][j] = newColor\n",
    "                list(f(I, J) for I, J in ((i-1, j), (i+1, j), (i, j-1), (i, j+1)) if 0 <= I < H and 0 <= J < W)\n",
    "\n",
    "        if changing_color != newColor:\n",
    "            f(sr, sc)\n",
    "        return image"
   ]
  },
  {
   "cell_type": "code",
   "execution_count": null,
   "metadata": {},
   "outputs": [],
   "source": []
  }
 ],
 "metadata": {
  "kernelspec": {
   "display_name": "Python 3",
   "language": "python",
   "name": "python3"
  },
  "language_info": {
   "codemirror_mode": {
    "name": "ipython",
    "version": 3
   },
   "file_extension": ".py",
   "mimetype": "text/x-python",
   "name": "python",
   "nbconvert_exporter": "python",
   "pygments_lexer": "ipython3",
   "version": "3.8.1"
  }
 },
 "nbformat": 4,
 "nbformat_minor": 2
}
