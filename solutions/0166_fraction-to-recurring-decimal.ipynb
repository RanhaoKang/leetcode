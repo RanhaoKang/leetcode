{
 "cells": [
  {
   "cell_type": "markdown",
   "metadata": {},
   "source": [
    "[166. Fraction to Recurring Decimal](https://leetcode.com/problems/fraction-to-recurring-decimal/)"
   ]
  },
  {
   "cell_type": "code",
   "execution_count": 6,
   "metadata": {},
   "outputs": [],
   "source": [
    "class Solution:\n",
    "    def fractionToDecimal(self, numerator: int, denominator: int) -> str:\n",
    "        if numerator % denominator == 0: return str(numerator // denominator)\n",
    "        p, q = map(abs, (numerator, denominator))\n",
    "        prefix = ('' if (numerator > 0) == (denominator > 0) else '-') + str(p // q) + '.' # everything before the decimal point\n",
    "        suffix = '' # everything after the decimal point\n",
    "        remainder = p % q\n",
    "        index = {}\n",
    "        while remainder not in index: # search for recurrence\n",
    "            index[remainder] = len(suffix)\n",
    "            suffix += str(remainder * 10 // q)\n",
    "            remainder = remainder * 10 % q\n",
    "            if remainder == 0: return prefix + suffix # no recurring decimal\n",
    "        return prefix + suffix[:index[remainder]] + '(' + suffix[index[remainder]:] + ')'"
   ]
  },
  {
   "cell_type": "code",
   "execution_count": null,
   "metadata": {},
   "outputs": [],
   "source": []
  }
 ],
 "metadata": {
  "kernelspec": {
   "display_name": "Python 3",
   "language": "python",
   "name": "python3"
  },
  "language_info": {
   "codemirror_mode": {
    "name": "ipython",
    "version": 3
   },
   "file_extension": ".py",
   "mimetype": "text/x-python",
   "name": "python",
   "nbconvert_exporter": "python",
   "pygments_lexer": "ipython3",
   "version": "3.8.1"
  }
 },
 "nbformat": 4,
 "nbformat_minor": 2
}
