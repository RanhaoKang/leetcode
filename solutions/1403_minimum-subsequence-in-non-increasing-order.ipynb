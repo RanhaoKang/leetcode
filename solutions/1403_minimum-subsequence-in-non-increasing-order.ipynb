{
 "cells": [
  {
   "cell_type": "markdown",
   "metadata": {},
   "source": [
    "[1403. Minimum Subsequence in Non-Increasing Order](https://leetcode.com/problems/minimum-subsequence-in-non-increasing-order/)"
   ]
  },
  {
   "cell_type": "code",
   "execution_count": null,
   "metadata": {},
   "outputs": [],
   "source": [
    "class Solution:\n",
    "    def minSubsequence(self, nums):\n",
    "        nums.sort()\n",
    "        res = []\n",
    "        numSum = sum(nums)\n",
    "        resSum = 0 \n",
    "        while resSum <= numSum:\n",
    "            v = nums.pop()\n",
    "            res.append(v)\n",
    "            resSum += v\n",
    "            numSum -= v \n",
    "        return res   "
   ]
  }
 ],
 "metadata": {
  "kernelspec": {
   "display_name": "Python 3",
   "language": "python",
   "name": "python3"
  },
  "language_info": {
   "codemirror_mode": {
    "name": "ipython",
    "version": 3
   },
   "file_extension": ".py",
   "mimetype": "text/x-python",
   "name": "python",
   "nbconvert_exporter": "python",
   "pygments_lexer": "ipython3",
   "version": "3.8.0b3"
  }
 },
 "nbformat": 4,
 "nbformat_minor": 2
}
