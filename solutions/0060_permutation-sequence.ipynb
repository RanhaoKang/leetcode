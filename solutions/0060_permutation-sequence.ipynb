{
 "cells": [
  {
   "cell_type": "markdown",
   "metadata": {},
   "source": [
    "[60. Permutation Sequence](https://leetcode.com/problems/permutation-sequence/)"
   ]
  },
  {
   "cell_type": "code",
   "execution_count": 31,
   "metadata": {},
   "outputs": [],
   "source": [
    "class Solution:\n",
    "    def getPermutation(self, n: int, k: int) -> str:\n",
    "        num_permutations = [1, 1, 1, 2, 6, 24, 120, 720, 5040, 40320]\n",
    "        \n",
    "        res = ''\n",
    "        candidates = list('123456789')[:n]\n",
    "        while n:\n",
    "            idx = 0\n",
    "            \n",
    "            print(candidates, k, idx)\n",
    "            while k > num_permutations[n]:\n",
    "                k -= num_permutations[n]\n",
    "                idx += 1\n",
    "            res += candidates.pop(idx)\n",
    "            n -= 1\n",
    "        \n",
    "        return res"
   ]
  },
  {
   "cell_type": "code",
   "execution_count": 32,
   "metadata": {},
   "outputs": [
    {
     "name": "stdout",
     "output_type": "stream",
     "text": [
      "['1', '2', '3', '4'] 9 0\n",
      "['1', '3', '4'] 3 0\n",
      "['1', '4'] 1 0\n",
      "['4'] 1 0\n"
     ]
    },
    {
     "data": {
      "text/plain": [
       "'2314'"
      ]
     },
     "execution_count": 32,
     "metadata": {},
     "output_type": "execute_result"
    }
   ],
   "source": [
    "Solution().getPermutation(4, 9)"
   ]
  },
  {
   "cell_type": "code",
   "execution_count": 22,
   "metadata": {},
   "outputs": [
    {
     "data": {
      "text/plain": [
       "[1, 1, 2, 6, 24, 120, 720, 5040, 40320]"
      ]
     },
     "execution_count": 22,
     "metadata": {},
     "output_type": "execute_result"
    }
   ],
   "source": [
    "list(i //  idx for idx, i in enumerate([1, 1, 2, 6, 24, 120, 720, 5040, 40320, 362880]) if idx)"
   ]
  },
  {
   "cell_type": "code",
   "execution_count": null,
   "metadata": {},
   "outputs": [],
   "source": []
  }
 ],
 "metadata": {
  "kernelspec": {
   "display_name": "Python 3",
   "language": "python",
   "name": "python3"
  },
  "language_info": {
   "codemirror_mode": {
    "name": "ipython",
    "version": 3
   },
   "file_extension": ".py",
   "mimetype": "text/x-python",
   "name": "python",
   "nbconvert_exporter": "python",
   "pygments_lexer": "ipython3",
   "version": "3.6.7"
  }
 },
 "nbformat": 4,
 "nbformat_minor": 2
}
