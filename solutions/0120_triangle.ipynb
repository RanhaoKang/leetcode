{
 "cells": [
  {
   "cell_type": "markdown",
   "metadata": {},
   "source": [
    "[120. Triangle](https://leetcode.com/problems/triangle/)"
   ]
  },
  {
   "cell_type": "code",
   "execution_count": 14,
   "metadata": {},
   "outputs": [],
   "source": [
    "class Solution:\n",
    "    def minimumTotal(self, triangle) -> int:\n",
    "        num_levels = len(triangle)\n",
    "        def solve(level = 0):\n",
    "            if level == num_levels - 1:\n",
    "                return min(triangle[-1])\n",
    "            for i in range(level + 2):\n",
    "                if i == 0 or i == level + 1:\n",
    "                    triangle[level + 1][i] += triangle[level][-1] if i else triangle[level][0]\n",
    "                else:\n",
    "                    triangle[level + 1][i] += min(triangle[level][i - 1: i + 1])\n",
    "            print(triangle)\n",
    "            return solve(level + 1)\n",
    "        \n",
    "        return solve()\n",
    "                \n",
    "                "
   ]
  },
  {
   "cell_type": "code",
   "execution_count": 15,
   "metadata": {},
   "outputs": [
    {
     "name": "stdout",
     "output_type": "stream",
     "text": [
      "[[2], [5, 6], [6, 5, 7], [4, 1, 8, 3]]\n",
      "[[2], [5, 6], [11, 10, 13], [4, 1, 8, 3]]\n",
      "[[2], [5, 6], [11, 10, 13], [15, 11, 18, 16]]\n"
     ]
    },
    {
     "data": {
      "text/plain": [
       "11"
      ]
     },
     "execution_count": 15,
     "metadata": {},
     "output_type": "execute_result"
    }
   ],
   "source": [
    "Solution().minimumTotal([\n",
    "     [2],\n",
    "    [3,4],\n",
    "   [6,5,7],\n",
    "  [4,1,8,3]\n",
    "])"
   ]
  },
  {
   "cell_type": "code",
   "execution_count": null,
   "metadata": {},
   "outputs": [],
   "source": []
  }
 ],
 "metadata": {
  "kernelspec": {
   "display_name": "Python 3",
   "language": "python",
   "name": "python3"
  },
  "language_info": {
   "codemirror_mode": {
    "name": "ipython",
    "version": 3
   },
   "file_extension": ".py",
   "mimetype": "text/x-python",
   "name": "python",
   "nbconvert_exporter": "python",
   "pygments_lexer": "ipython3",
   "version": "3.6.7"
  }
 },
 "nbformat": 4,
 "nbformat_minor": 2
}
