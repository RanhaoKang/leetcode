{
 "cells": [
  {
   "cell_type": "markdown",
   "metadata": {},
   "source": [
    "[102. Binary Tree Level Order Traversal](https://leetcode.com/problems/binary-tree-level-order-traversal/)"
   ]
  },
  {
   "cell_type": "code",
   "execution_count": 5,
   "metadata": {},
   "outputs": [],
   "source": [
    "class TreeNode:\n",
    "    def __init__(self, x):\n",
    "        self.val = x\n",
    "        self.left = None\n",
    "        self.right = None"
   ]
  },
  {
   "cell_type": "code",
   "execution_count": 17,
   "metadata": {},
   "outputs": [],
   "source": [
    "root = TreeNode(3)\n",
    "root.left = TreeNode(9)\n",
    "root.right = TreeNode(20)\n",
    "root.right.left = TreeNode(15)\n",
    "root.right.right = TreeNode(7)"
   ]
  },
  {
   "cell_type": "code",
   "execution_count": 30,
   "metadata": {},
   "outputs": [],
   "source": [
    "# Definition for a binary tree node.\n",
    "# class TreeNode:\n",
    "#     def __init__(self, x):\n",
    "#         self.val = x\n",
    "#         self.left = None\n",
    "#         self.right = None\n",
    "\n",
    "class Solution:\n",
    "    \n",
    "    def level_order_traversal(self, root):\n",
    "        from collections import deque\n",
    "        \n",
    "        self.cur_level, self.next_level = deque([root]), deque()\n",
    "\n",
    "        def one_level():\n",
    "            res = []\n",
    "            while self.cur_level:\n",
    "                node = self.cur_level.pop()\n",
    "                if node:\n",
    "                    res.append(node.val)\n",
    "                    self.next_level.appendleft(node.left)\n",
    "                    self.next_level.appendleft(node.right)\n",
    "            if res:\n",
    "                yield res\n",
    "            if self.next_level:\n",
    "                self.cur_level, self.next_level = self.next_level, deque()\n",
    "                yield from one_level()\n",
    "        \n",
    "        return list(one_level())"
   ]
  },
  {
   "cell_type": "code",
   "execution_count": null,
   "metadata": {},
   "outputs": [],
   "source": []
  }
 ],
 "metadata": {
  "kernelspec": {
   "display_name": "Python 3",
   "language": "python",
   "name": "python3"
  },
  "language_info": {
   "codemirror_mode": {
    "name": "ipython",
    "version": 3
   },
   "file_extension": ".py",
   "mimetype": "text/x-python",
   "name": "python",
   "nbconvert_exporter": "python",
   "pygments_lexer": "ipython3",
   "version": "3.6.7"
  }
 },
 "nbformat": 4,
 "nbformat_minor": 2
}
