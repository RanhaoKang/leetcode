{
 "cells": [
  {
   "cell_type": "markdown",
   "metadata": {},
   "source": [
    "[802. Find Eventual Safe States](https://leetcode.com/problems/find-eventual-safe-states/)"
   ]
  },
  {
   "cell_type": "markdown",
   "metadata": {},
   "source": [
    "TLE"
   ]
  },
  {
   "cell_type": "code",
   "execution_count": 23,
   "metadata": {},
   "outputs": [],
   "source": [
    "class Solution:\n",
    "    def eventualSafeNodes(self, G):\n",
    "        def dfs(i, path):\n",
    "            if not G[i]:\n",
    "                return True\n",
    "            if i in path:\n",
    "                return False\n",
    "            return all(dfs(j, path | {i}) for j in G[i])\n",
    "        \n",
    "        return [i for i in range(len(G)) if dfs(i, set())]"
   ]
  },
  {
   "cell_type": "code",
   "execution_count": 26,
   "metadata": {},
   "outputs": [
    {
     "data": {
      "text/plain": [
       "[4, 6]"
      ]
     },
     "execution_count": 26,
     "metadata": {},
     "output_type": "execute_result"
    }
   ],
   "source": [
    "Solution().eventualSafeNodes([[1,2],[2,3],[5],[0],[5],[],[]])"
   ]
  },
  {
   "cell_type": "markdown",
   "metadata": {},
   "source": [
    "填颜色"
   ]
  },
  {
   "cell_type": "code",
   "execution_count": 28,
   "metadata": {},
   "outputs": [],
   "source": [
    "class Solution:\n",
    "    def eventualSafeNodes(self, graph):\n",
    "\n",
    "        def explore(i):\n",
    "            visited[i] = 0\n",
    "            for v in graph[i]:\n",
    "                if visited[v] == 0 or (visited[v] == -1 and explore(v)):\n",
    "                    return True\n",
    "            visited[i] = 1\n",
    "            res.append(i)\n",
    "            return False\n",
    "\n",
    "        visited, res = [-1] * len(graph), []\n",
    "        for i in range(len(graph)):\n",
    "            if visited[i] == -1:\n",
    "                explore(i)\n",
    "        return sorted(res)"
   ]
  },
  {
   "cell_type": "code",
   "execution_count": null,
   "metadata": {},
   "outputs": [],
   "source": []
  }
 ],
 "metadata": {
  "kernelspec": {
   "display_name": "Python 3",
   "language": "python",
   "name": "python3"
  },
  "language_info": {
   "codemirror_mode": {
    "name": "ipython",
    "version": 3
   },
   "file_extension": ".py",
   "mimetype": "text/x-python",
   "name": "python",
   "nbconvert_exporter": "python",
   "pygments_lexer": "ipython3",
   "version": "3.8.1"
  }
 },
 "nbformat": 4,
 "nbformat_minor": 4
}
