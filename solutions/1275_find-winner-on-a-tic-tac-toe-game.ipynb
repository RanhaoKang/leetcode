{
 "cells": [
  {
   "cell_type": "markdown",
   "metadata": {},
   "source": [
    "[1275. Find Winner on a Tic Tac Toe Game](https://leetcode.com/problems/find-winner-on-a-tic-tac-toe-game/)"
   ]
  },
  {
   "cell_type": "markdown",
   "metadata": {},
   "source": [
    "不记录棋盘而是记录每个玩家获胜的进程"
   ]
  },
  {
   "cell_type": "code",
   "execution_count": 5,
   "metadata": {},
   "outputs": [],
   "source": [
    "class Solution:\n",
    "    def tictactoe(self, moves) -> str:\n",
    "        A, B = [0] * 8, [0] * 8\n",
    "        for i, (r, c) in enumerate(moves):\n",
    "            P = B if i % 2 else A\n",
    "            P[r] += 1\n",
    "            P[c + 3] += 1\n",
    "            if r == c:\n",
    "                P[6] += 1\n",
    "            if r == 2 - c:\n",
    "                P[7] += 1\n",
    "        \n",
    "        for i in range(8):\n",
    "            if A[i]==3:\n",
    "                return \"A\"\n",
    "            if B[i]==3:\n",
    "                return \"B\"\n",
    "        \n",
    "        return \"Draw\" if len(moves) == 9 else \"Pending\""
   ]
  },
  {
   "cell_type": "code",
   "execution_count": 6,
   "metadata": {},
   "outputs": [
    {
     "data": {
      "text/plain": [
       "'A'"
      ]
     },
     "execution_count": 6,
     "metadata": {},
     "output_type": "execute_result"
    }
   ],
   "source": [
    "Solution().tictactoe([[0,0],[2,0],[1,1],[2,1],[2,2]])"
   ]
  },
  {
   "cell_type": "code",
   "execution_count": null,
   "metadata": {},
   "outputs": [],
   "source": []
  }
 ],
 "metadata": {
  "kernelspec": {
   "display_name": "Python 3",
   "language": "python",
   "name": "python3"
  },
  "language_info": {
   "codemirror_mode": {
    "name": "ipython",
    "version": 3
   },
   "file_extension": ".py",
   "mimetype": "text/x-python",
   "name": "python",
   "nbconvert_exporter": "python",
   "pygments_lexer": "ipython3",
   "version": "3.8.0b3"
  }
 },
 "nbformat": 4,
 "nbformat_minor": 2
}
