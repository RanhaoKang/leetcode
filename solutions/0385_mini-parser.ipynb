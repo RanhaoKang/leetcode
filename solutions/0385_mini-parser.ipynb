{
 "cells": [
  {
   "cell_type": "markdown",
   "metadata": {},
   "source": [
    "[385. Mini Parser](https://leetcode.com/problems/mini-parser/)"
   ]
  },
  {
   "cell_type": "code",
   "execution_count": 4,
   "metadata": {},
   "outputs": [],
   "source": [
    "\"\"\"\n",
    "This is the interface that allows for creating nested lists.\n",
    "You should not implement it, or speculate about its implementation\n",
    "\"\"\"\n",
    "class NestedInteger:\n",
    "    def __init__(self, value=None):\n",
    "        \"\"\"\n",
    "        If value is not specified, initializes an empty list.\n",
    "        Otherwise initializes a single integer equal to value.\n",
    "        \"\"\"\n",
    "        pass\n",
    "\n",
    "    def isInteger(self):\n",
    "        \"\"\"\n",
    "        @return True if this NestedInteger holds a single integer, rather than a nested list.\n",
    "        :rtype bool\n",
    "        \"\"\"\n",
    "        pass\n",
    "\n",
    "    def add(self, elem):\n",
    "        \"\"\"\n",
    "        Set this NestedInteger to hold a nested list and adds a nested integer elem to it.\n",
    "        :rtype void\n",
    "        \"\"\"\n",
    "        pass\n",
    "\n",
    "    def setInteger(self, value):\n",
    "        \"\"\"\n",
    "        Set this NestedInteger to hold a single integer equal to value.\n",
    "        :rtype void\n",
    "        \"\"\"\n",
    "        pass\n",
    "\n",
    "    def getInteger(self):\n",
    "        \"\"\"\n",
    "        @return the single integer that this NestedInteger holds, if it holds a single integer\n",
    "        Return None if this NestedInteger holds a nested list\n",
    "        :rtype int\n",
    "        \"\"\"\n",
    "        pass\n",
    "\n",
    "    def getList(self):\n",
    "        \"\"\"\n",
    "        @return the nested list that this NestedInteger holds, if it holds a nested list\n",
    "        Return None if this NestedInteger holds a single integer\n",
    "        :rtype List[NestedInteger]\n",
    "        \"\"\"\n",
    "        pass\n",
    "\n",
    "class Solution:\n",
    "    def deserialize(self, s):\n",
    "        def nestedInteger(x):\n",
    "            if isinstance(x, int):\n",
    "                return NestedInteger(x)\n",
    "            lst = NestedInteger()\n",
    "            for y in x:\n",
    "                lst.add(nestedInteger(y))\n",
    "            return lst\n",
    "        return nestedInteger(eval(s))"
   ]
  },
  {
   "cell_type": "code",
   "execution_count": null,
   "metadata": {},
   "outputs": [],
   "source": []
  }
 ],
 "metadata": {
  "kernelspec": {
   "display_name": "Python 3",
   "language": "python",
   "name": "python3"
  },
  "language_info": {
   "codemirror_mode": {
    "name": "ipython",
    "version": 3
   },
   "file_extension": ".py",
   "mimetype": "text/x-python",
   "name": "python",
   "nbconvert_exporter": "python",
   "pygments_lexer": "ipython3",
   "version": "3.8.0b3"
  }
 },
 "nbformat": 4,
 "nbformat_minor": 2
}
