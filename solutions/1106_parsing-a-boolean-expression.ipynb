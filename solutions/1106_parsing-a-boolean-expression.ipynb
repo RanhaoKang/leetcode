{
 "cells": [
  {
   "cell_type": "markdown",
   "metadata": {},
   "source": [
    "[1106. Parsing A Boolean Expression](https://leetcode.com/problems/parsing-a-boolean-expression/)"
   ]
  },
  {
   "cell_type": "markdown",
   "metadata": {},
   "source": [
    "自己写的"
   ]
  },
  {
   "cell_type": "code",
   "execution_count": 1,
   "metadata": {},
   "outputs": [],
   "source": [
    "class Solution:\n",
    "    def parseBoolExpr(self, expression: str) -> bool:\n",
    "        \n",
    "        def _and(*args):\n",
    "            res = True\n",
    "            for exp in args:\n",
    "                res = res and exp\n",
    "                if not res:\n",
    "                    break\n",
    "            return res\n",
    "        \n",
    "        def _not(exp):\n",
    "            return not exp\n",
    "        \n",
    "        def _or(*args):\n",
    "            res = False\n",
    "            for exp in args:\n",
    "                res = res or exp\n",
    "                if res:\n",
    "                    break\n",
    "            return res\n",
    "        \n",
    "        exp = (expression\n",
    "                .replace('t', 'True')\n",
    "                .replace('f', 'False')\n",
    "                .replace('!', '_not')\n",
    "                .replace('|', '_or')\n",
    "                .replace('&', '_and'))\n",
    "        print(exp)\n",
    "        \n",
    "        return eval(exp)"
   ]
  },
  {
   "cell_type": "code",
   "execution_count": 2,
   "metadata": {},
   "outputs": [
    {
     "name": "stdout",
     "output_type": "stream",
     "text": [
      "_or(_and(True,False,True),_not(True))\n"
     ]
    },
    {
     "data": {
      "text/plain": [
       "False"
      ]
     },
     "execution_count": 2,
     "metadata": {},
     "output_type": "execute_result"
    }
   ],
   "source": [
    "Solution().parseBoolExpr('|(&(t,f,t),!(t))')"
   ]
  },
  {
   "cell_type": "markdown",
   "metadata": {},
   "source": [
    "Lee的, 我忘记了`all`和`any`的存在..., 而且拿参数默认值解决`t`和`f`有些骚"
   ]
  },
  {
   "cell_type": "code",
   "execution_count": 3,
   "metadata": {},
   "outputs": [],
   "source": [
    "class Solution:\n",
    "    def parseBoolExpr(self, S, t=True, f=False):\n",
    "        return eval(S.replace('!', 'not |').replace('&(', 'all([').replace('|(', 'any([').replace(')', '])'))"
   ]
  },
  {
   "cell_type": "code",
   "execution_count": null,
   "metadata": {},
   "outputs": [],
   "source": []
  }
 ],
 "metadata": {
  "kernelspec": {
   "display_name": "Python 3",
   "language": "python",
   "name": "python3"
  },
  "language_info": {
   "codemirror_mode": {
    "name": "ipython",
    "version": 3
   },
   "file_extension": ".py",
   "mimetype": "text/x-python",
   "name": "python",
   "nbconvert_exporter": "python",
   "pygments_lexer": "ipython3",
   "version": "3.6.7"
  }
 },
 "nbformat": 4,
 "nbformat_minor": 2
}
