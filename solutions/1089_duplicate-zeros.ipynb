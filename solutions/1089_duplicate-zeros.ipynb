{
 "cells": [
  {
   "cell_type": "markdown",
   "metadata": {},
   "source": [
    "[1089. Duplicate Zeros](https://leetcode.com/problems/duplicate-zeros/)"
   ]
  },
  {
   "cell_type": "markdown",
   "metadata": {},
   "source": [
    "two-pass, 注意`0`右侧元素会被顶掉，不需要扩容"
   ]
  },
  {
   "cell_type": "code",
   "execution_count": 11,
   "metadata": {},
   "outputs": [],
   "source": [
    "class Solution:\n",
    "    def duplicateZeros(self, arr) -> None:\n",
    "        \"\"\"\n",
    "        Do not return anything, modify arr in-place instead.\n",
    "        \"\"\"\n",
    "        zeroes = arr.count(0)\n",
    "        n = len(arr)\n",
    "        for i in range(n-1, -1, -1):\n",
    "            if i + zeroes < n:\n",
    "                arr[i + zeroes] = arr[i]\n",
    "            if arr[i] == 0: \n",
    "                zeroes -= 1\n",
    "                if i + zeroes < n:\n",
    "                    arr[i + zeroes] = 0"
   ]
  },
  {
   "cell_type": "code",
   "execution_count": null,
   "metadata": {},
   "outputs": [],
   "source": []
  }
 ],
 "metadata": {
  "kernelspec": {
   "display_name": "Python 3",
   "language": "python",
   "name": "python3"
  },
  "language_info": {
   "codemirror_mode": {
    "name": "ipython",
    "version": 3
   },
   "file_extension": ".py",
   "mimetype": "text/x-python",
   "name": "python",
   "nbconvert_exporter": "python",
   "pygments_lexer": "ipython3",
   "version": "3.7.3"
  }
 },
 "nbformat": 4,
 "nbformat_minor": 2
}
