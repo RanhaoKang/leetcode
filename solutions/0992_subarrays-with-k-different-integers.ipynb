{
 "cells": [
  {
   "cell_type": "markdown",
   "metadata": {},
   "source": [
    "[992. Subarrays with K Different Integers](https://leetcode.com/problems/subarrays-with-k-different-integers/)"
   ]
  },
  {
   "cell_type": "markdown",
   "metadata": {},
   "source": [
    "自己的答案，需要对`K = 1`做处理，还需要处理下方case，不继续写了"
   ]
  },
  {
   "cell_type": "code",
   "execution_count": 112,
   "metadata": {},
   "outputs": [],
   "source": [
    "class Solution:\n",
    "    def subarraysWithKDistinct(self, A, K: int) -> int:\n",
    "        if K == 1:\n",
    "            from itertools import groupby\n",
    "            res = 0\n",
    "            for k, g in groupby(A):\n",
    "                n = len(list(g))\n",
    "                res += (1 + n) * n // 2\n",
    "            return res\n",
    "        last = {}\n",
    "        res = i = 0\n",
    "        \n",
    "        for j in range(len(A)):\n",
    "            last[A[j]] = j\n",
    "            \n",
    "            if len(last) > K:\n",
    "                keys = list(last.keys())\n",
    "                i = last[keys[0]] + 1\n",
    "                for k in keys:\n",
    "                    if last[k] < i:\n",
    "                        last.pop(k)\n",
    "                \n",
    "            if len(last) == K:\n",
    "                res += j - i\n",
    "        \n",
    "        return res"
   ]
  },
  {
   "cell_type": "code",
   "execution_count": 113,
   "metadata": {},
   "outputs": [
    {
     "data": {
      "text/plain": [
       "27"
      ]
     },
     "execution_count": 113,
     "metadata": {},
     "output_type": "execute_result"
    }
   ],
   "source": [
    "Solution().subarraysWithKDistinct([2,2,1,2,2,2,1,1], 2)"
   ]
  },
  {
   "cell_type": "markdown",
   "metadata": {},
   "source": [
    "思路差不多，细节差挺多"
   ]
  },
  {
   "cell_type": "code",
   "execution_count": 114,
   "metadata": {},
   "outputs": [],
   "source": [
    "class Solution:\n",
    "    def subarraysWithKDistinct(self, A, K: int) -> int:\n",
    "        n = len(A)\n",
    "        i = k = 0\n",
    "        ans = 0\n",
    "        mMap = {}\n",
    "        for j in range(n):\n",
    "            if A[j] not in mMap:\n",
    "                mMap[A[j]] = 1\n",
    "            else:\n",
    "                mMap[A[j]] += 1\n",
    "            if len(mMap) < K:\n",
    "                continue\n",
    "            elif len(mMap) > K:\n",
    "                del mMap[A[k]]\n",
    "                i = k = k+1\n",
    "            while mMap[A[k]] > 1:\n",
    "                mMap[A[k]] -= 1\n",
    "                k += 1\n",
    "            ans += k - i + 1\n",
    "        return ans"
   ]
  },
  {
   "cell_type": "code",
   "execution_count": null,
   "metadata": {},
   "outputs": [],
   "source": []
  }
 ],
 "metadata": {
  "kernelspec": {
   "display_name": "Python 3",
   "language": "python",
   "name": "python3"
  },
  "language_info": {
   "codemirror_mode": {
    "name": "ipython",
    "version": 3
   },
   "file_extension": ".py",
   "mimetype": "text/x-python",
   "name": "python",
   "nbconvert_exporter": "python",
   "pygments_lexer": "ipython3",
   "version": "3.8.1"
  }
 },
 "nbformat": 4,
 "nbformat_minor": 2
}
