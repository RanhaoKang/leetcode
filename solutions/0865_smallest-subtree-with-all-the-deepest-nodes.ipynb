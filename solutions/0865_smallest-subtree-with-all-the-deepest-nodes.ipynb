{
 "cells": [
  {
   "cell_type": "markdown",
   "metadata": {},
   "source": [
    "[865. Smallest Subtree with all the Deepest Nodes](https://leetcode.com/problems/smallest-subtree-with-all-the-deepest-nodes/)"
   ]
  },
  {
   "cell_type": "code",
   "execution_count": 2,
   "metadata": {},
   "outputs": [],
   "source": [
    "# Definition for a binary tree node.\n",
    "class TreeNode:\n",
    "    def __init__(self, x):\n",
    "        self.val = x\n",
    "        self.left = None\n",
    "        self.right = None"
   ]
  },
  {
   "cell_type": "code",
   "execution_count": 12,
   "metadata": {},
   "outputs": [],
   "source": [
    "class Solution:\n",
    "    def subtreeWithAllDeepest(self, root: TreeNode) -> TreeNode:\n",
    "        self.max_depth = 0\n",
    "        def mark(node, depth = 0):\n",
    "            if node:\n",
    "                node.depth = depth + 1\n",
    "                mark(node.left, node.depth)\n",
    "                mark(node.right, node.depth)\n",
    "                self.max_depth = max(self.max_depth, node.depth)\n",
    "            else:\n",
    "                return 0\n",
    "\n",
    "        def solve(node):\n",
    "            if not node or node.depth == self.max_depth:\n",
    "                return node\n",
    "            left = solve(node.left)\n",
    "            right = solve(node.right)\n",
    "            # 如果左右子树都存在最深节点, 则返回本节点, 否则返回左/右子树\n",
    "            return node if left and right else left or right\n",
    "\n",
    "        mark(root)\n",
    "        return solve(root)"
   ]
  },
  {
   "cell_type": "code",
   "execution_count": 9,
   "metadata": {},
   "outputs": [],
   "source": [
    "p = TreeNode(3)\n",
    "p.left = TreeNode(5)\n",
    "p.right = TreeNode(1)\n",
    "p.left.left = TreeNode(6)\n",
    "p.left.right = TreeNode(2)\n",
    "p.left.right.left = TreeNode(7)\n",
    "p.left.right.right = TreeNode(4)\n",
    "p.right.left = TreeNode(0)\n",
    "p.right.right = TreeNode(8)\n",
    "\n",
    "q = Solution().subtreeWithAllDeepest(p)"
   ]
  },
  {
   "cell_type": "code",
   "execution_count": 10,
   "metadata": {},
   "outputs": [
    {
     "name": "stdout",
     "output_type": "stream",
     "text": [
      "2 3\n"
     ]
    }
   ],
   "source": [
    "print(q.val, q.depth)"
   ]
  },
  {
   "cell_type": "code",
   "execution_count": 11,
   "metadata": {},
   "outputs": [
    {
     "ename": "SyntaxError",
     "evalue": "invalid syntax (<ipython-input-11-caa8c61c0771>, line 1)",
     "output_type": "error",
     "traceback": [
      "\u001b[0;36m  File \u001b[0;32m\"<ipython-input-11-caa8c61c0771>\"\u001b[0;36m, line \u001b[0;32m1\u001b[0m\n\u001b[0;31m    p.\u001b[0m\n\u001b[0m      ^\u001b[0m\n\u001b[0;31mSyntaxError\u001b[0m\u001b[0;31m:\u001b[0m invalid syntax\n"
     ]
    }
   ],
   "source": [
    "p."
   ]
  },
  {
   "cell_type": "code",
   "execution_count": null,
   "metadata": {},
   "outputs": [],
   "source": []
  }
 ],
 "metadata": {
  "kernelspec": {
   "display_name": "Python 3",
   "language": "python",
   "name": "python3"
  },
  "language_info": {
   "codemirror_mode": {
    "name": "ipython",
    "version": 3
   },
   "file_extension": ".py",
   "mimetype": "text/x-python",
   "name": "python",
   "nbconvert_exporter": "python",
   "pygments_lexer": "ipython3",
   "version": "3.6.7"
  }
 },
 "nbformat": 4,
 "nbformat_minor": 2
}
