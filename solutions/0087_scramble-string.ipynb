{
 "cells": [
  {
   "cell_type": "markdown",
   "metadata": {},
   "source": [
    "[87. Scramble String](https://leetcode.com/problems/scramble-string/)"
   ]
  },
  {
   "cell_type": "markdown",
   "metadata": {},
   "source": [
    "用`abcde`和`caebd`思考一下就可以发现, 主要在于固定`s1`, 在`s2`里找可能的**轴**. 这个case是第一个轴就找不到.\n",
    "\n",
    "剩下就是起始条件有个没想到的地方, 就是长度小于等于`3`的串是绝对可以换来换去的."
   ]
  },
  {
   "cell_type": "code",
   "execution_count": 2,
   "metadata": {},
   "outputs": [],
   "source": [
    "from collections import Counter\n",
    "\n",
    "class Solution:\n",
    "    def isScramble(self, s1: str, s2: str) -> bool:\n",
    "        if Counter(s1) != Counter(s2):\n",
    "            return False\n",
    "        \n",
    "        if len(s1) < 4 or s1 == s2:\n",
    "            return True\n",
    "\n",
    "        f = self.isScramble\n",
    "        return any(((f(s1[:i], s2[:i]) and f(s1[i:], s2[i:])) or\n",
    "                (f(s1[:i], s2[-i:]) and f(s1[i:], s2[:-i]))) for i in range(1, len(s1)))"
   ]
  },
  {
   "cell_type": "code",
   "execution_count": 4,
   "metadata": {},
   "outputs": [
    {
     "data": {
      "text/plain": [
       "True"
      ]
     },
     "execution_count": 4,
     "metadata": {},
     "output_type": "execute_result"
    }
   ],
   "source": [
    "Solution().isScramble(s1 = \"great\", s2 = \"rgeat\")"
   ]
  },
  {
   "cell_type": "code",
   "execution_count": 3,
   "metadata": {},
   "outputs": [
    {
     "data": {
      "text/plain": [
       "False"
      ]
     },
     "execution_count": 3,
     "metadata": {},
     "output_type": "execute_result"
    }
   ],
   "source": [
    "Solution().isScramble(\"abcde\", s2 = \"caebd\")"
   ]
  },
  {
   "cell_type": "code",
   "execution_count": null,
   "metadata": {},
   "outputs": [],
   "source": []
  }
 ],
 "metadata": {
  "kernelspec": {
   "display_name": "Python 3",
   "language": "python",
   "name": "python3"
  },
  "language_info": {
   "codemirror_mode": {
    "name": "ipython",
    "version": 3
   },
   "file_extension": ".py",
   "mimetype": "text/x-python",
   "name": "python",
   "nbconvert_exporter": "python",
   "pygments_lexer": "ipython3",
   "version": "3.6.7"
  }
 },
 "nbformat": 4,
 "nbformat_minor": 2
}
