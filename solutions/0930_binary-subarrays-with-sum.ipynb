{
 "cells": [
  {
   "cell_type": "markdown",
   "metadata": {},
   "source": [
    "[930. Binary Subarrays With Sum](https://leetcode.com/problems/binary-subarrays-with-sum/)"
   ]
  },
  {
   "cell_type": "code",
   "execution_count": 1,
   "metadata": {},
   "outputs": [],
   "source": [
    "import collections\n",
    "\n",
    "class Solution:\n",
    "    def numSubarraysWithSum(self, A, S: int) -> int:\n",
    "        P = [0]\n",
    "        for i in A:\n",
    "            P.append(P[-1] + i)\n",
    "        \n",
    "        count = collections.Counter()\n",
    "\n",
    "        res = 0\n",
    "        for x in P:\n",
    "            res += count[x]\n",
    "            count[x + S] += 1\n",
    "        \n",
    "        return res"
   ]
  },
  {
   "cell_type": "code",
   "execution_count": 2,
   "metadata": {},
   "outputs": [
    {
     "data": {
      "text/plain": [
       "4"
      ]
     },
     "execution_count": 2,
     "metadata": {},
     "output_type": "execute_result"
    }
   ],
   "source": [
    "Solution().numSubarraysWithSum([1,0,1,0,1], 2)"
   ]
  },
  {
   "cell_type": "code",
   "execution_count": null,
   "metadata": {},
   "outputs": [],
   "source": []
  }
 ],
 "metadata": {
  "kernelspec": {
   "display_name": "Python 3",
   "language": "python",
   "name": "python3"
  },
  "language_info": {
   "codemirror_mode": {
    "name": "ipython",
    "version": 3
   },
   "file_extension": ".py",
   "mimetype": "text/x-python",
   "name": "python",
   "nbconvert_exporter": "python",
   "pygments_lexer": "ipython3",
   "version": "3.6.7"
  }
 },
 "nbformat": 4,
 "nbformat_minor": 2
}
