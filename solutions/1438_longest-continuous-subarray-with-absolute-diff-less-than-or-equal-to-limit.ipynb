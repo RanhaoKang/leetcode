{
 "cells": [
  {
   "cell_type": "markdown",
   "metadata": {},
   "source": [
    "[1438. Longest Continuous Subarray With Absolute Diff Less Than or Equal to Limit](https://leetcode.com/problems/longest-continuous-subarray-with-absolute-diff-less-than-or-equal-to-limit/)"
   ]
  },
  {
   "cell_type": "code",
   "execution_count": 1,
   "metadata": {},
   "outputs": [],
   "source": [
    "class Solution:\n",
    "    def longestSubarray(self, A, limit):\n",
    "        maxd = collections.deque()\n",
    "        mind = collections.deque()\n",
    "        i = 0\n",
    "        for a in A:\n",
    "            while len(maxd) and a > maxd[-1]: maxd.pop()\n",
    "            while len(mind) and a < mind[-1]: mind.pop()\n",
    "            maxd.append(a)\n",
    "            mind.append(a)\n",
    "            if maxd[0] - mind[0] > limit:\n",
    "                if maxd[0] == A[i]: maxd.popleft()\n",
    "                if mind[0] == A[i]: mind.popleft()\n",
    "                i += 1\n",
    "        return len(A) - i"
   ]
  },
  {
   "cell_type": "code",
   "execution_count": null,
   "metadata": {},
   "outputs": [],
   "source": []
  }
 ],
 "metadata": {
  "kernelspec": {
   "display_name": "Python 3",
   "language": "python",
   "name": "python3"
  },
  "language_info": {
   "codemirror_mode": {
    "name": "ipython",
    "version": 3
   },
   "file_extension": ".py",
   "mimetype": "text/x-python",
   "name": "python",
   "nbconvert_exporter": "python",
   "pygments_lexer": "ipython3",
   "version": "3.8.0b3"
  }
 },
 "nbformat": 4,
 "nbformat_minor": 2
}
