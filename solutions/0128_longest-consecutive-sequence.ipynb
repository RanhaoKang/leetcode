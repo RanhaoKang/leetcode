{
 "cells": [
  {
   "cell_type": "markdown",
   "metadata": {},
   "source": [
    "[128. Longest Consecutive Sequence](https://leetcode.com/problems/longest-consecutive-sequence/)"
   ]
  },
  {
   "cell_type": "markdown",
   "metadata": {},
   "source": [
    "核心在于转换为`set`, 40ms"
   ]
  },
  {
   "cell_type": "code",
   "execution_count": 9,
   "metadata": {},
   "outputs": [],
   "source": [
    "class Solution:\n",
    "    def longestConsecutive(self, nums) -> int:\n",
    "        nums = set(nums)\n",
    "        res = 0\n",
    "        while nums:\n",
    "            n = nums.pop()\n",
    "            print(n)\n",
    "            \n",
    "            l = n\n",
    "            while l - 1 in nums:\n",
    "                l -= 1\n",
    "                nums.remove(l)\n",
    "            \n",
    "            r = n\n",
    "            while r + 1 in nums:\n",
    "                r += 1\n",
    "                nums.remove(r)\n",
    "            \n",
    "            res = max(res, r - l + 1)\n",
    "        \n",
    "        return res"
   ]
  },
  {
   "cell_type": "code",
   "execution_count": 10,
   "metadata": {},
   "outputs": [
    {
     "name": "stdout",
     "output_type": "stream",
     "text": [
      "1\n",
      "100\n",
      "200\n"
     ]
    },
    {
     "data": {
      "text/plain": [
       "4"
      ]
     },
     "execution_count": 10,
     "metadata": {},
     "output_type": "execute_result"
    }
   ],
   "source": [
    "Solution().longestConsecutive([100, 4, 200, 1, 3, 2])"
   ]
  },
  {
   "cell_type": "markdown",
   "metadata": {},
   "source": [
    "反正大佬写的总是比我的好看55555555555, 思维上有些变换, 计算范围时只从下界开始算, 而我的是随便选一个然后向两侧延伸, 40ms"
   ]
  },
  {
   "cell_type": "code",
   "execution_count": 11,
   "metadata": {},
   "outputs": [],
   "source": [
    "class Solution:\n",
    "    def longestConsecutive(self, nums) -> int:\n",
    "        nums = set(nums)\n",
    "        best = 0\n",
    "        for x in nums:\n",
    "            if x - 1 not in nums:\n",
    "                y = x + 1\n",
    "                while y in nums:\n",
    "                    y += 1\n",
    "                best = max(best, y - x)\n",
    "        return best"
   ]
  },
  {
   "cell_type": "code",
   "execution_count": 18,
   "metadata": {},
   "outputs": [],
   "source": [
    "class Solution:\n",
    "    def longestConsecutive(self, nums) -> int:\n",
    "        from collections import defaultdict\n",
    "        d = defaultdict(int)\n",
    "        for i in nums:\n",
    "            if not d[i]:\n",
    "                d[i] = d[i + d[i + 1]] = d[i - d[i - 1]] = d[i + 1] + d[i - 1] + 1\n",
    "            print(i, d)\n",
    "        return max(d.values()) if d else 0"
   ]
  },
  {
   "cell_type": "markdown",
   "metadata": {},
   "source": [
    "[Possibly shortest cpp solution, only 6 lines.](https://leetcode.com/problems/longest-consecutive-sequence/discuss/41088/Possibly-shortest-cpp-solution-only-6-lines.)\n",
    "\n",
    "又是全新的思路, 48ms\n",
    "\n",
    "`d[i+d[i+1]]`和`d[i-d[i-1]]`的说明:\n",
    "\n",
    "首先`d[i]`表示的是`i`所在的子序列的长度, 由于consecutive的特殊性, `d[i]`又可以作为索引访问.\n",
    "\n",
    "如果看到了`i`, 那么总序列长度应为`d[i-1] + d[i+1] + 1`, 且这个赋值应同时更新到新序列的新序列的两端.\n",
    "- 为什么是两端, 如`[1,2,3,4,5]`, 看到3时, 那么`d[3-1]=2`, `d[3-d[3-2]]`恰好能访问到新序列的左端`1`\n",
    "\n",
    "更明确的写法是`d[(i+1) + d[i+1] - 1]`, 即`右边见过的序列的旧左边界 + 旧长度 - 1`\n",
    "\n",
    "\n",
    "- 如果`i-1`和`i+1`都没见过, `d[i] = 1`\n",
    "- 如果`i-1`和`i+1`都见过, ``\n",
    "- 如果`i+1`见过, `d[i+d[i+1]]`"
   ]
  },
  {
   "cell_type": "code",
   "execution_count": 20,
   "metadata": {},
   "outputs": [
    {
     "name": "stdout",
     "output_type": "stream",
     "text": [
      "1 defaultdict(<class 'int'>, {1: 1, 2: 0, 0: 0})\n",
      "5 defaultdict(<class 'int'>, {1: 1, 2: 0, 0: 0, 5: 1, 6: 0, 4: 0})\n",
      "3 defaultdict(<class 'int'>, {1: 1, 2: 0, 0: 0, 5: 1, 6: 0, 4: 0, 3: 1})\n",
      "2 defaultdict(<class 'int'>, {1: 3, 2: 3, 0: 0, 5: 1, 6: 0, 4: 0, 3: 3})\n",
      "4 defaultdict(<class 'int'>, {1: 5, 2: 3, 0: 0, 5: 5, 6: 0, 4: 5, 3: 3})\n"
     ]
    },
    {
     "data": {
      "text/plain": [
       "5"
      ]
     },
     "execution_count": 20,
     "metadata": {},
     "output_type": "execute_result"
    }
   ],
   "source": [
    "Solution().longestConsecutive([1,5,3,2,4])"
   ]
  },
  {
   "cell_type": "code",
   "execution_count": null,
   "metadata": {},
   "outputs": [],
   "source": []
  }
 ],
 "metadata": {
  "kernelspec": {
   "display_name": "Python 3",
   "language": "python",
   "name": "python3"
  },
  "language_info": {
   "codemirror_mode": {
    "name": "ipython",
    "version": 3
   },
   "file_extension": ".py",
   "mimetype": "text/x-python",
   "name": "python",
   "nbconvert_exporter": "python",
   "pygments_lexer": "ipython3",
   "version": "3.6.7"
  }
 },
 "nbformat": 4,
 "nbformat_minor": 2
}
