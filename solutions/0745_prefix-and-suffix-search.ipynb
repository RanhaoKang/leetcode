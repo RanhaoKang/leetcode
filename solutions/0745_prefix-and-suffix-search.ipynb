{
 "cells": [
  {
   "cell_type": "markdown",
   "metadata": {},
   "source": [
    "[745. Prefix and Suffix Search](https://leetcode.com/problems/prefix-and-suffix-search/)"
   ]
  },
  {
   "cell_type": "code",
   "execution_count": 1,
   "metadata": {},
   "outputs": [],
   "source": [
    "from collections import defaultdict\n",
    "Trie = lambda: defaultdict(Trie)\n",
    "WEIGHT = False\n",
    "\n",
    "class WordFilter:\n",
    "\n",
    "    def __init__(self, words):\n",
    "        self.trie = Trie()\n",
    "        \n",
    "        for weight, word in enumerate(words):\n",
    "            word += '#'\n",
    "            for i in range(len(word)):\n",
    "                cur = self.trie\n",
    "                cur[WEIGHT] = weight\n",
    "                for j in range(i, 2*len(word) - 1):\n",
    "                    cur = cur[word[j % len(word)]]\n",
    "                    cur[WEIGHT] = weight\n",
    "        \n",
    "\n",
    "    def f(self, prefix: str, suffix: str) -> int:\n",
    "        cur = self.trie\n",
    "        for letter in suffix + '#' + prefix:\n",
    "            if letter not in cur:\n",
    "                return -1\n",
    "            cur = cur[letter]\n",
    "        return cur[WEIGHT]\n",
    "        \n",
    "\n",
    "\n",
    "# Your WordFilter object will be instantiated and called as such:\n",
    "# obj = WordFilter(words)\n",
    "# param_1 = obj.f(prefix,suffix)"
   ]
  },
  {
   "cell_type": "code",
   "execution_count": null,
   "metadata": {},
   "outputs": [],
   "source": []
  }
 ],
 "metadata": {
  "kernelspec": {
   "display_name": "Python 3",
   "language": "python",
   "name": "python3"
  },
  "language_info": {
   "codemirror_mode": {
    "name": "ipython",
    "version": 3
   },
   "file_extension": ".py",
   "mimetype": "text/x-python",
   "name": "python",
   "nbconvert_exporter": "python",
   "pygments_lexer": "ipython3",
   "version": "3.8.1"
  }
 },
 "nbformat": 4,
 "nbformat_minor": 4
}
