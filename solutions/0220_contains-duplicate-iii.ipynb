{
 "cells": [
  {
   "cell_type": "markdown",
   "metadata": {},
   "source": [
    "[220. Contains Duplicate III](https://leetcode.com/problems/contains-duplicate-iii/)"
   ]
  },
  {
   "cell_type": "markdown",
   "metadata": {},
   "source": [
    "sliding window或者说是Brute-Force, TLE"
   ]
  },
  {
   "cell_type": "code",
   "execution_count": 48,
   "metadata": {},
   "outputs": [],
   "source": [
    "class Solution:\n",
    "    def containsNearbyAlmostDuplicate(self, nums, k: int, t: int) -> bool:\n",
    "        if k <= 0 or t < 0:\n",
    "            return False\n",
    "        \n",
    "        from collections import deque\n",
    "        Q = deque()\n",
    "\n",
    "        for n in nums:\n",
    "            for m in Q:\n",
    "                if abs(n - m) <= t:\n",
    "                    return True\n",
    "            if len(Q) == k:\n",
    "                Q.popleft()\n",
    "            Q.append(n)\n",
    "\n",
    "        return False"
   ]
  },
  {
   "cell_type": "code",
   "execution_count": 49,
   "metadata": {
    "scrolled": true
   },
   "outputs": [
    {
     "data": {
      "text/plain": [
       "False"
      ]
     },
     "execution_count": 49,
     "metadata": {},
     "output_type": "execute_result"
    }
   ],
   "source": [
    "Solution().containsNearbyAlmostDuplicate([1,5,9,1,5,9],2,3)"
   ]
  },
  {
   "cell_type": "markdown",
   "metadata": {},
   "source": [
    "bucket"
   ]
  },
  {
   "cell_type": "code",
   "execution_count": null,
   "metadata": {},
   "outputs": [],
   "source": [
    "class Solution(object):\n",
    "    def containsNearbyAlmostDuplicate(self, nums, k, t):\n",
    "        \"\"\"\n",
    "        :type nums: List[int]\n",
    "        :type k: int\n",
    "        :type t: int\n",
    "        :rtype: bool\n",
    "        \"\"\"\n",
    "        if t < 0:\n",
    "            return False\n",
    "        cache = {}\n",
    "        for i in range(len(nums)):\n",
    "            if i-k > 0:\n",
    "                bucket_id_to_delete = nums[i-k-1]//(t+1)\n",
    "                del cache[bucket_id_to_delete]\n",
    "            bucket_id = nums[i]//(t+1)\n",
    "            condition1 = (bucket_id in cache)\n",
    "            condition2 = ((bucket_id-1 in cache and abs(cache[bucket_id-1]-nums[i])<= t))\n",
    "            condition3 = ((bucket_id+1 in cache and abs(cache[bucket_id+1]-nums[i])<= t))\n",
    "            if condition1 or condition2 or condition3:\n",
    "                return True\n",
    "            cache[bucket_id] = nums[i]\n",
    "        return False"
   ]
  },
  {
   "cell_type": "code",
   "execution_count": null,
   "metadata": {},
   "outputs": [],
   "source": []
  }
 ],
 "metadata": {
  "kernelspec": {
   "display_name": "Python 3",
   "language": "python",
   "name": "python3"
  },
  "language_info": {
   "codemirror_mode": {
    "name": "ipython",
    "version": 3
   },
   "file_extension": ".py",
   "mimetype": "text/x-python",
   "name": "python",
   "nbconvert_exporter": "python",
   "pygments_lexer": "ipython3",
   "version": "3.8.1"
  }
 },
 "nbformat": 4,
 "nbformat_minor": 4
}
