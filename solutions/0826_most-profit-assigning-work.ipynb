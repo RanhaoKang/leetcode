{
 "cells": [
  {
   "cell_type": "markdown",
   "metadata": {},
   "source": [
    "[826. Most Profit Assigning Work](https://leetcode.com/problems/most-profit-assigning-work/)"
   ]
  },
  {
   "cell_type": "code",
   "execution_count": 21,
   "metadata": {},
   "outputs": [],
   "source": [
    "class Solution:\n",
    "    def maxProfitAssignment(self, difficulty, profit, worker) -> int:\n",
    "        tasks = sorted(list(i) for i in zip(difficulty, profit))\n",
    "        N = len(tasks)\n",
    "        \n",
    "        # tasks[i][1]变为能力高于tasks[i][0]时的最大收益\n",
    "        max_ = 0\n",
    "        for i in range(N):\n",
    "            max_ = max(max_, tasks[i][1])\n",
    "            tasks[i][1] = max_\n",
    "            \n",
    "        worker.sort()\n",
    "        res = j = 0\n",
    "        for i in worker:\n",
    "            while j < N and tasks[j][0] <= i:\n",
    "                j += 1\n",
    "            if 0 < j:\n",
    "                res += tasks[j-1][1]\n",
    "        \n",
    "        return res"
   ]
  },
  {
   "cell_type": "code",
   "execution_count": 19,
   "metadata": {},
   "outputs": [],
   "source": [
    "difficulty = [68,35,52,47,86]\n",
    "profit = [67,17,1,81,3]\n",
    "worker = [92,10,85,84,82]"
   ]
  },
  {
   "cell_type": "code",
   "execution_count": 20,
   "metadata": {},
   "outputs": [
    {
     "name": "stdout",
     "output_type": "stream",
     "text": [
      "[68, 81]\n",
      "[68, 81]\n",
      "[68, 81]\n",
      "[86, 81]\n"
     ]
    },
    {
     "data": {
      "text/plain": [
       "324"
      ]
     },
     "execution_count": 20,
     "metadata": {},
     "output_type": "execute_result"
    }
   ],
   "source": [
    "Solution().maxProfitAssignment(difficulty, profit, worker)"
   ]
  },
  {
   "cell_type": "code",
   "execution_count": null,
   "metadata": {},
   "outputs": [],
   "source": []
  }
 ],
 "metadata": {
  "kernelspec": {
   "display_name": "Python 3",
   "language": "python",
   "name": "python3"
  },
  "language_info": {
   "codemirror_mode": {
    "name": "ipython",
    "version": 3
   },
   "file_extension": ".py",
   "mimetype": "text/x-python",
   "name": "python",
   "nbconvert_exporter": "python",
   "pygments_lexer": "ipython3",
   "version": "3.6.7"
  }
 },
 "nbformat": 4,
 "nbformat_minor": 2
}
