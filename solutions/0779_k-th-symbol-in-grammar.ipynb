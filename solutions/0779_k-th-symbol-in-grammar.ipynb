{
 "cells": [
  {
   "cell_type": "markdown",
   "metadata": {},
   "source": [
    "[779. K-th Symbol in Grammar](https://leetcode.com/problems/k-th-symbol-in-grammar/)"
   ]
  },
  {
   "cell_type": "markdown",
   "metadata": {},
   "source": [
    "1. 0\n",
    "2. 01\n",
    "3. 0110\n",
    "4. 01101001\n",
    "5. 0110100110010110"
   ]
  },
  {
   "cell_type": "code",
   "execution_count": 1,
   "metadata": {},
   "outputs": [],
   "source": [
    "class Solution:\n",
    "    def kthGrammar(self, N: int, K: int) -> int:\n",
    "        if N == 1:\n",
    "            return [0, 1][K-1]\n",
    "        half = 2 ** (N - 1)\n",
    "        if K <= half:\n",
    "            return self.kthGrammar(N - 1, K)\n",
    "        else:\n",
    "            return [1,0][self.kthGrammar(N - 1, K - half)]"
   ]
  },
  {
   "cell_type": "markdown",
   "metadata": {},
   "source": [
    "奇妙的位运算, https://leetcode.com/problems/k-th-symbol-in-grammar/discuss/113736/PythonJavaC%2B%2B-Easy-1-line-Solution-with-detailed-explanation"
   ]
  },
  {
   "cell_type": "code",
   "execution_count": null,
   "metadata": {},
   "outputs": [],
   "source": []
  }
 ],
 "metadata": {
  "kernelspec": {
   "display_name": "Python 3",
   "language": "python",
   "name": "python3"
  },
  "language_info": {
   "codemirror_mode": {
    "name": "ipython",
    "version": 3
   },
   "file_extension": ".py",
   "mimetype": "text/x-python",
   "name": "python",
   "nbconvert_exporter": "python",
   "pygments_lexer": "ipython3",
   "version": "3.6.7"
  }
 },
 "nbformat": 4,
 "nbformat_minor": 2
}
