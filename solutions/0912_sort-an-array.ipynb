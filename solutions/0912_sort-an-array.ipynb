{
 "cells": [
  {
   "cell_type": "markdown",
   "metadata": {},
   "source": [
    "[912. Sort an Array](https://leetcode.com/problems/sort-an-array/)"
   ]
  },
  {
   "cell_type": "code",
   "execution_count": 24,
   "metadata": {},
   "outputs": [],
   "source": [
    "class Solution:\n",
    "    def quick_sort(self, nums):\n",
    "        # in-place的方法需要传递l,r来指示待排序的区间\n",
    "        def helper(l, r):\n",
    "            if l >= r:\n",
    "                return\n",
    "            \n",
    "            \n",
    "            # 选pivot, 可以选最左, 中间, random\n",
    "            pivot = nums[l]\n",
    "            i, j = l, r\n",
    "            \n",
    "            while i <= j:\n",
    "                while i <= j and nums[i] < pivot:\n",
    "                    i += 1\n",
    "                while i <= j and nums[j] > pivot:\n",
    "                    j -= 1\n",
    "                \n",
    "                if i <= j:\n",
    "                    nums[i], nums[j] = nums[j], nums[i]\n",
    "                    i += 1\n",
    "                    j -= 1\n",
    "            \n",
    "            \n",
    "            # 递归调用\n",
    "            helper(l, j)\n",
    "            helper(i, r)\n",
    "        \n",
    "        helper(0, len(nums) - 1)\n",
    "    def sortArray(self, nums: List[int]) -> List[int]:\n",
    "        self.quick_sort(nums)\n",
    "        return nums"
   ]
  },
  {
   "cell_type": "markdown",
   "metadata": {},
   "source": [
    "\n",
    "```Python\n",
    "# pivot选中间的情况\n",
    "m = (l + r) // 2\n",
    "pivot = nums[m]\n",
    "i, j = l, r\n",
    "\n",
    "while i <= j:\n",
    "    while i <= j and nums[i] < pivot:\n",
    "        i += 1\n",
    "    while i <= j and nums[j] > pivot:\n",
    "        j -= 1\n",
    "    \n",
    "    # 做互换的操作\n",
    "    if i <= j:\n",
    "        nums[i], nums[j] = nums[j], nums[i]\n",
    "        i += 1\n",
    "        j -= 1\n",
    "```\n",
    "\n",
    "\n",
    "```Python\n",
    "# pivot选最左的情况\n",
    "pivot = nums[l]\n",
    "i, j = l, r\n",
    "\n",
    "while i <= j:\n",
    "    while i <= j and nums[j] > pivot:\n",
    "        j -= 1\n",
    "    # 此时a[j]是较小的数, 赋值给左侧\n",
    "    # 在第一次时, pivot已保存了a[i]\n",
    "    # 所以不会丢失信息\n",
    "    a[i] = a[j]\n",
    "    \n",
    "    while i <= j and nums[i] < pivot:\n",
    "        i += 1\n",
    "    # 此时a[i]是更大的数, 赋值给右侧\n",
    "    a[j] = a[i]\n",
    "    \n",
    "a[i] = pivot\n",
    "```"
   ]
  },
  {
   "cell_type": "code",
   "execution_count": 25,
   "metadata": {},
   "outputs": [],
   "source": [
    "a = [5,1,1,2,0,0]\n",
    "Solution().quick_sort(a)"
   ]
  },
  {
   "cell_type": "code",
   "execution_count": 26,
   "metadata": {},
   "outputs": [
    {
     "data": {
      "text/plain": [
       "[0, 0, 1, 1, 2, 5]"
      ]
     },
     "execution_count": 26,
     "metadata": {},
     "output_type": "execute_result"
    }
   ],
   "source": [
    "a"
   ]
  },
  {
   "cell_type": "code",
   "execution_count": null,
   "metadata": {},
   "outputs": [],
   "source": []
  }
 ],
 "metadata": {
  "kernelspec": {
   "display_name": "Python 3",
   "language": "python",
   "name": "python3"
  },
  "language_info": {
   "codemirror_mode": {
    "name": "ipython",
    "version": 3
   },
   "file_extension": ".py",
   "mimetype": "text/x-python",
   "name": "python",
   "nbconvert_exporter": "python",
   "pygments_lexer": "ipython3",
   "version": "3.6.7"
  }
 },
 "nbformat": 4,
 "nbformat_minor": 2
}
