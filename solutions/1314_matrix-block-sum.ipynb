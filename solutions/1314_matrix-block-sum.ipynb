{
 "cells": [
  {
   "cell_type": "markdown",
   "metadata": {},
   "source": [
    "[1314. Matrix Block Sum](https://leetcode.com/problems/matrix-block-sum/)"
   ]
  },
  {
   "cell_type": "markdown",
   "metadata": {},
   "source": [
    "非常好的图解, prefix sum, https://leetcode.com/problems/matrix-block-sum/discuss/477036/JavaPython-3-PrefixRange-sum-w-analysis-similar-to-LC-30478"
   ]
  },
  {
   "cell_type": "code",
   "execution_count": 3,
   "metadata": {},
   "outputs": [],
   "source": [
    "class Solution:\n",
    "    def matrixBlockSum(self, mat, K: int):\n",
    "        H, W = len(mat), len(mat and mat[0])\n",
    "        sum = [[0] * (W + 1) for _ in range(H + 1)]\n",
    "        res = [[0] * W for _ in range(H)]\n",
    "        \n",
    "        for i in range(H):\n",
    "            for j in range(W):\n",
    "                sum[i + 1][j + 1] = sum[i + 1][j] + sum[i][j + 1] - sum[i][j] + mat[i][j]\n",
    "\n",
    "        for i in range(H):\n",
    "            for j in range(W):\n",
    "                r1, c1, r2, c2 = max(0, i - K), max(0, j - K), min(H, i + K + 1), min(W, j + K + 1)\n",
    "                res[i][j] = sum[r2][c2] - sum[r1][c2] - sum[r2][c1] + sum[r1][c1]\n",
    "        \n",
    "        return res"
   ]
  },
  {
   "cell_type": "code",
   "execution_count": null,
   "metadata": {},
   "outputs": [],
   "source": []
  }
 ],
 "metadata": {
  "kernelspec": {
   "display_name": "Python 3",
   "language": "python",
   "name": "python3"
  },
  "language_info": {
   "codemirror_mode": {
    "name": "ipython",
    "version": 3
   },
   "file_extension": ".py",
   "mimetype": "text/x-python",
   "name": "python",
   "nbconvert_exporter": "python",
   "pygments_lexer": "ipython3",
   "version": "3.8.1"
  }
 },
 "nbformat": 4,
 "nbformat_minor": 2
}
