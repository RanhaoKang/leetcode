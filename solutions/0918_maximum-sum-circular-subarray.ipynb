{
 "cells": [
  {
   "cell_type": "markdown",
   "metadata": {},
   "source": [
    "[918. Maximum Sum Circular Subarray](https://leetcode.com/problems/maximum-sum-circular-subarray/)"
   ]
  },
  {
   "cell_type": "markdown",
   "metadata": {},
   "source": [
    "Kadene的部分在subarray sum中见过, 写起来也比较容易.\n",
    "\n",
    "重点在于circular如何表达\n",
    "\n",
    "如果用chain走两遍输入的话, 会出现一个元素被求和了两次的情况\n",
    "\n",
    "写出下标来circular array会出现的额外情况是\n",
    "$$(A_0 + A_1 + \\dots + A_i) + (A_j + A_{j+1} + \\dots + A_{N-1})$$\n",
    "可以写为\n",
    "$$(\\sum^{N-1}_{k=0}{A_k}) - (A_{i+1} + A_{i+2} + \\dots + A_{j-1})$$\n",
    "\n",
    "总结一下, 因为考虑连续的数组会比较容易, 那么我们计算一下总和, 然后剔除掉中间的求和最小的部分就好了\n",
    "\n",
    "去除两端第一个元素各做一次Kadane算法的原因如下\n",
    "\n",
    "假设输入为`[-2, -3, -1]`, 对于这个输入, 我们会得到\"要剔除全部元素\"的结论, 因为`kadane(-i for i in A)`的结果是`6`, 进而得到了`0`的答案, 显然不符合subarray的意思.\n",
    "\n",
    "为了避免这种情况, 既然剔除的元素总是在中间, 那么在`[0:N-1]`和`[1:N]`两个范围各做一次就好了."
   ]
  },
  {
   "cell_type": "code",
   "execution_count": 36,
   "metadata": {},
   "outputs": [],
   "source": [
    "class Solution:\n",
    "    def maxSubarraySumCircular(self, A) -> int:\n",
    "        \n",
    "        def kadane(g):\n",
    "            res = cur = float('-inf')\n",
    "            for i in g:\n",
    "                cur = i + max(cur, 0)\n",
    "                res = max(res, cur)\n",
    "            return res\n",
    "        \n",
    "        \n",
    "        S = sum(A)\n",
    "        res1 = kadane(iter(A))\n",
    "        res2 = S + kadane(-A[i] for i in range(1, len(A)))\n",
    "        res3 = S + kadane(-A[i] for i in range(len(A) - 1))\n",
    "        res4 = S + kadane(-A[i] for i in range(len(A)))\n",
    "        print(res1, res2, res3, res4)\n",
    "        return max(res1, res2, res3)"
   ]
  },
  {
   "cell_type": "code",
   "execution_count": 37,
   "metadata": {},
   "outputs": [
    {
     "name": "stdout",
     "output_type": "stream",
     "text": [
      "-1 -2 -1 0\n"
     ]
    },
    {
     "data": {
      "text/plain": [
       "-1"
      ]
     },
     "execution_count": 37,
     "metadata": {},
     "output_type": "execute_result"
    }
   ],
   "source": [
    "Solution().maxSubarraySumCircular([-2, -3, -1])"
   ]
  },
  {
   "cell_type": "code",
   "execution_count": 30,
   "metadata": {},
   "outputs": [
    {
     "name": "stdout",
     "output_type": "stream",
     "text": [
      "13 10 10\n"
     ]
    },
    {
     "data": {
      "text/plain": [
       "13"
      ]
     },
     "execution_count": 30,
     "metadata": {},
     "output_type": "execute_result"
    }
   ],
   "source": [
    "Solution().maxSubarraySumCircular([5, 3, 5])"
   ]
  },
  {
   "cell_type": "code",
   "execution_count": 31,
   "metadata": {},
   "outputs": [
    {
     "name": "stdout",
     "output_type": "stream",
     "text": [
      "3 2 2\n"
     ]
    },
    {
     "data": {
      "text/plain": [
       "3"
      ]
     },
     "execution_count": 31,
     "metadata": {},
     "output_type": "execute_result"
    }
   ],
   "source": [
    "Solution().maxSubarraySumCircular([1, -2, 3, -2])"
   ]
  },
  {
   "cell_type": "markdown",
   "metadata": {},
   "source": [
    "明白了\"剔除\"这个原理, 可以改写为one-pass的形式追求更高的性能.\n",
    "\n",
    "当然由于Python比较慢, 这么写还不如多用几次针对整个数组的`max`, `sum`等等, 哭唧唧"
   ]
  },
  {
   "cell_type": "code",
   "execution_count": 40,
   "metadata": {},
   "outputs": [],
   "source": [
    "class Solution:\n",
    "    def maxSubarraySumCircular(self, A) -> int:\n",
    "        sum_ = 0\n",
    "        min_ = min_cur = float('inf')\n",
    "        max_ = max_cur = float('-inf')\n",
    "        all_neg = True\n",
    "        max_ele = float('-inf')\n",
    "        \n",
    "        for i in A:\n",
    "            sum_ += i\n",
    "            min_cur = i + min(min_cur, 0)\n",
    "            min_ = min(min_cur, min_)\n",
    "            max_cur = i + max(max_cur, 0)\n",
    "            max_ = max(max_cur, max_)\n",
    "            max_ele = max(max_ele, i)\n",
    "            \n",
    "            if i >= 0:\n",
    "                all_neg = False\n",
    "        \n",
    "        if all_neg:\n",
    "            return max_ele\n",
    "        else:\n",
    "            return max(max_, sum_ - min_)"
   ]
  },
  {
   "cell_type": "code",
   "execution_count": 41,
   "metadata": {},
   "outputs": [
    {
     "data": {
      "text/plain": [
       "-1"
      ]
     },
     "execution_count": 41,
     "metadata": {},
     "output_type": "execute_result"
    }
   ],
   "source": [
    "Solution().maxSubarraySumCircular([-2, -3, -1])"
   ]
  },
  {
   "cell_type": "code",
   "execution_count": 44,
   "metadata": {},
   "outputs": [
    {
     "data": {
      "text/plain": [
       "10"
      ]
     },
     "execution_count": 44,
     "metadata": {},
     "output_type": "execute_result"
    }
   ],
   "source": [
    "Solution().maxSubarraySumCircular([5, -3, 5])"
   ]
  },
  {
   "cell_type": "code",
   "execution_count": 45,
   "metadata": {},
   "outputs": [
    {
     "data": {
      "text/plain": [
       "3"
      ]
     },
     "execution_count": 45,
     "metadata": {},
     "output_type": "execute_result"
    }
   ],
   "source": [
    "Solution().maxSubarraySumCircular([1, -2, 3, -2])"
   ]
  },
  {
   "cell_type": "code",
   "execution_count": null,
   "metadata": {},
   "outputs": [],
   "source": []
  }
 ],
 "metadata": {
  "kernelspec": {
   "display_name": "Python 3",
   "language": "python",
   "name": "python3"
  },
  "language_info": {
   "codemirror_mode": {
    "name": "ipython",
    "version": 3
   },
   "file_extension": ".py",
   "mimetype": "text/x-python",
   "name": "python",
   "nbconvert_exporter": "python",
   "pygments_lexer": "ipython3",
   "version": "3.7.3"
  }
 },
 "nbformat": 4,
 "nbformat_minor": 2
}
