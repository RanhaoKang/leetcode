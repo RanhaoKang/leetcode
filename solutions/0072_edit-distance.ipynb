{
 "cells": [
  {
   "cell_type": "markdown",
   "metadata": {},
   "source": [
    "[72. Edit Distance](https://leetcode.com/problems/edit-distance/)"
   ]
  },
  {
   "cell_type": "code",
   "execution_count": 1,
   "metadata": {},
   "outputs": [],
   "source": [
    "from functools import lru_cache\n",
    "class Solution:\n",
    "    @lru_cache(None)\n",
    "    def minDistance(self, word1: str, word2: str) -> int:\n",
    "        if not word1 and not word2:\n",
    "            return 0\n",
    "        if not word1:\n",
    "            return len(word2)\n",
    "        if not word2:\n",
    "            return len(word1)\n",
    "        if word1[0] == word2[0]:\n",
    "            return self.minDistance(word1[1:], word2[1:])\n",
    "        \n",
    "        insert =  1 + self.minDistance(word1,     word2[1:])\n",
    "        delete =  1 + self.minDistance(word1[1:], word2)\n",
    "        replace = 1 + self.minDistance(word1[1:], word2[1:])\n",
    "        \n",
    "        return min(insert, delete, replace)"
   ]
  },
  {
   "cell_type": "code",
   "execution_count": null,
   "metadata": {},
   "outputs": [],
   "source": []
  }
 ],
 "metadata": {
  "kernelspec": {
   "display_name": "Python 3",
   "language": "python",
   "name": "python3"
  },
  "language_info": {
   "codemirror_mode": {
    "name": "ipython",
    "version": 3
   },
   "file_extension": ".py",
   "mimetype": "text/x-python",
   "name": "python",
   "nbconvert_exporter": "python",
   "pygments_lexer": "ipython3",
   "version": "3.6.7"
  }
 },
 "nbformat": 4,
 "nbformat_minor": 2
}
