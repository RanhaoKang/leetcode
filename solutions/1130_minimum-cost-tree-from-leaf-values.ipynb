{
 "cells": [
  {
   "cell_type": "markdown",
   "metadata": {},
   "source": [
    "[1130. Minimum Cost Tree From Leaf Values](https://leetcode.com/problems/minimum-cost-tree-from-leaf-values/)"
   ]
  },
  {
   "cell_type": "markdown",
   "metadata": {},
   "source": [
    "- 叶节点按给定数组顺序\n",
    "- 非叶节点的值等于左右子树中最大叶节点的积\n",
    "- 求生成树中非叶节点求和最小的"
   ]
  },
  {
   "cell_type": "code",
   "execution_count": 1,
   "metadata": {},
   "outputs": [],
   "source": [
    "class Solution:\n",
    "    def mctFromLeafValues(self, arr) -> int:\n",
    "        res = 0\n",
    "        while len(arr) > 1:\n",
    "            idx = arr.index(min(arr))\n",
    "            if 0 < idx < len(arr) - 1:\n",
    "                res += min(arr[idx-1], arr[idx+1]) * arr[idx]\n",
    "            else:\n",
    "                res += arr[1 if idx == 0 else -2] * arr[idx]\n",
    "            \n",
    "            arr.pop(idx)\n",
    "        \n",
    "        return res"
   ]
  },
  {
   "cell_type": "code",
   "execution_count": null,
   "metadata": {},
   "outputs": [],
   "source": []
  }
 ],
 "metadata": {
  "kernelspec": {
   "display_name": "Python 3",
   "language": "python",
   "name": "python3"
  },
  "language_info": {
   "codemirror_mode": {
    "name": "ipython",
    "version": 3
   },
   "file_extension": ".py",
   "mimetype": "text/x-python",
   "name": "python",
   "nbconvert_exporter": "python",
   "pygments_lexer": "ipython3",
   "version": "3.8.0b3"
  }
 },
 "nbformat": 4,
 "nbformat_minor": 2
}
