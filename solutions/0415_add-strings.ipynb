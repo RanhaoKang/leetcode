{
 "cells": [
  {
   "cell_type": "markdown",
   "metadata": {},
   "source": [
    "[415. Add Strings](https://leetcode.com/problems/add-strings/)"
   ]
  },
  {
   "cell_type": "markdown",
   "metadata": {},
   "source": [
    "对itertools不太熟悉, 更好的是使用`itertools.zip_longest`, 指定`fillvalue=0`"
   ]
  },
  {
   "cell_type": "code",
   "execution_count": 20,
   "metadata": {},
   "outputs": [],
   "source": [
    "import itertools\n",
    "\n",
    "class Solution:\n",
    "    def addStrings(self, num1: str, num2: str) -> str:\n",
    "\n",
    "        iter1, iter2 = (int(i) for i in reversed(num1)), (int(i) for i in reversed(num2))\n",
    "        if len(num1) > len(num2):\n",
    "            iter2 = itertools.chain(iter2, itertools.repeat(0))\n",
    "        else:\n",
    "            iter1 = itertools.chain(iter1, itertools.repeat(0))\n",
    "\n",
    "        res = []\n",
    "        c = 0\n",
    "        for i, j in zip(iter1, iter2):\n",
    "            s = i + j + c\n",
    "            res.append(str(s%10))\n",
    "            c = s >= 10 and 1 or 0\n",
    "        if c:\n",
    "            res.append('1')\n",
    "        return ''.join(reversed(res)) or '0'"
   ]
  },
  {
   "cell_type": "code",
   "execution_count": 21,
   "metadata": {},
   "outputs": [
    {
     "data": {
      "text/plain": [
       "'1357'"
      ]
     },
     "execution_count": 21,
     "metadata": {},
     "output_type": "execute_result"
    }
   ],
   "source": [
    "Solution().addStrings('1234', '123')"
   ]
  },
  {
   "cell_type": "code",
   "execution_count": null,
   "metadata": {},
   "outputs": [],
   "source": []
  }
 ],
 "metadata": {
  "kernelspec": {
   "display_name": "Python 3",
   "language": "python",
   "name": "python3"
  },
  "language_info": {
   "codemirror_mode": {
    "name": "ipython",
    "version": 3
   },
   "file_extension": ".py",
   "mimetype": "text/x-python",
   "name": "python",
   "nbconvert_exporter": "python",
   "pygments_lexer": "ipython3",
   "version": "3.6.7"
  }
 },
 "nbformat": 4,
 "nbformat_minor": 2
}
