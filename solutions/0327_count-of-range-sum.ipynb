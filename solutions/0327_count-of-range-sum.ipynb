{
 "cells": [
  {
   "cell_type": "markdown",
   "metadata": {},
   "source": [
    "[327. Count of Range Sum](https://leetcode.com/problems/count-of-range-sum/)"
   ]
  },
  {
   "cell_type": "code",
   "execution_count": 2,
   "metadata": {},
   "outputs": [],
   "source": [
    "class Solution:\n",
    "    def countRangeSum(self, nums, lower: int, upper: int) -> int:\n",
    "        first = [0]\n",
    "        for num in nums:\n",
    "            first.append(first[-1] + num)\n",
    "\n",
    "        def sort(lo, hi):\n",
    "            mid = (lo + hi) // 2\n",
    "            if mid == lo:\n",
    "                return 0\n",
    "            count = sort(lo, mid) + sort(mid, hi)\n",
    "            i = j = mid\n",
    "            for left in first[lo: mid]:\n",
    "                while i < hi and first[i] - left <  lower: i += 1\n",
    "                while j < hi and first[j] - left <= upper: j += 1\n",
    "                count += j - i\n",
    "            first[lo: hi] = sorted(first[lo: hi])\n",
    "            return count\n",
    "\n",
    "        return sort(0, len(first))"
   ]
  },
  {
   "cell_type": "code",
   "execution_count": null,
   "metadata": {},
   "outputs": [],
   "source": []
  }
 ],
 "metadata": {
  "kernelspec": {
   "display_name": "Python 3",
   "language": "python",
   "name": "python3"
  },
  "language_info": {
   "codemirror_mode": {
    "name": "ipython",
    "version": 3
   },
   "file_extension": ".py",
   "mimetype": "text/x-python",
   "name": "python",
   "nbconvert_exporter": "python",
   "pygments_lexer": "ipython3",
   "version": "3.8.1"
  }
 },
 "nbformat": 4,
 "nbformat_minor": 4
}
