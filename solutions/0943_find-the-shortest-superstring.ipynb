{
 "cells": [
  {
   "cell_type": "markdown",
   "metadata": {},
   "source": [
    "[943. Find the Shortest Superstring](https://leetcode.com/problems/find-the-shortest-superstring/)"
   ]
  },
  {
   "cell_type": "markdown",
   "metadata": {},
   "source": [
    "https://buptwc.com/2018/11/19/Leetcode-943-Find-the-Shortest-Superstring/"
   ]
  },
  {
   "cell_type": "code",
   "execution_count": 1,
   "metadata": {},
   "outputs": [],
   "source": [
    "class Solution:\n",
    "    def shortestSuperstring(self, A) -> str:\n",
    "        def getDistance(s1, s2):\n",
    "            for i in range(1, len(s1)):\n",
    "                if s2.startswith(s1[i:]):\n",
    "                    return len(s1) - i\n",
    "            return 0\n",
    "\n",
    "        def pathtoStr(A, G, path):\n",
    "            res = A[path[0]]\n",
    "            for i in range(1, len(path)):\n",
    "                res += A[path[i]][G[path[i-1]][path[i]]:]\n",
    "            return res\n",
    "\n",
    "        n = len(A)\n",
    "        G = [[0]*n for _ in range(n)]\n",
    "        for i in range(n):\n",
    "            for j in range(i+1, n):\n",
    "                G[i][j] = getDistance(A[i], A[j])\n",
    "                G[j][i] = getDistance(A[j], A[i])\n",
    "\n",
    "        d = [[0]*n for _ in range(1<<n)]\n",
    "        Q = collections.deque([(i, 1<<i, [i], 0) for i in range(n)])\n",
    "        l = -1 # 记录最大的repeat_len\n",
    "        P = [] # 记录对应的path\n",
    "        while Q:\n",
    "            node, mask, path, dis = Q.popleft()\n",
    "            if dis < d[mask][node]: continue\n",
    "            if mask == (1<<n) - 1 and dis > l:\n",
    "                P,l = path,dis\n",
    "                continue\n",
    "            for i in range(n):\n",
    "                nex_mask = mask | (1<<i)\n",
    "                # case1: 不能走回头路，因为每个结点只能遍历一次\n",
    "                # case2: 如果走当前这条路能够获得更大的重复长度，才继续考虑\n",
    "                if nex_mask != mask and d[mask][node] + G[node][i] >= d[nex_mask][i]:\n",
    "                    d[nex_mask][i] = d[mask][node] + G[node][i]\n",
    "                    Q.append((i, nex_mask, path+[i], d[nex_mask][i]))\n",
    "\n",
    "        return pathtoStr(A,G,P)"
   ]
  },
  {
   "cell_type": "code",
   "execution_count": null,
   "metadata": {},
   "outputs": [],
   "source": []
  }
 ],
 "metadata": {
  "kernelspec": {
   "display_name": "Python 3",
   "language": "python",
   "name": "python3"
  },
  "language_info": {
   "codemirror_mode": {
    "name": "ipython",
    "version": 3
   },
   "file_extension": ".py",
   "mimetype": "text/x-python",
   "name": "python",
   "nbconvert_exporter": "python",
   "pygments_lexer": "ipython3",
   "version": "3.8.1"
  }
 },
 "nbformat": 4,
 "nbformat_minor": 4
}
