{
 "cells": [
  {
   "cell_type": "markdown",
   "metadata": {},
   "source": [
    "[1206. Design Skiplist](https://leetcode.com/problems/design-skiplist/)"
   ]
  },
  {
   "cell_type": "code",
   "execution_count": 15,
   "metadata": {},
   "outputs": [],
   "source": [
    "from random import randint\n",
    "from math import log2, ceil\n",
    "\n",
    "\n",
    "class Skiplist:\n",
    "\n",
    "    class Node:\n",
    "        __slots__ = 'val', 'next', 'down'\n",
    "        def __init__(self, val):\n",
    "            self.val = val\n",
    "            self.next = None\n",
    "            self.down = None\n",
    "\n",
    "\n",
    "    def __init__(self):\n",
    "        self.levels = [self.Node(0)]\n",
    "\n",
    "\n",
    "    def search(self, target: int) -> bool:\n",
    "        return False if self._find(target) is None else True\n",
    "        \n",
    "\n",
    "    def add(self, num: int) -> None:\n",
    "        toskip = ceil(log2(randint(1, 2 ** (len(self.levels) - 1)))) - 1\n",
    "        lastinsert = None\n",
    "        if toskip == -1:\n",
    "            toskip = 0\n",
    "            t = self.Node(0)\n",
    "            t.down = self.levels[-1]\n",
    "            self.levels.append(t)\n",
    "        cur = self.levels[-2]\n",
    "        while cur:\n",
    "            while cur.next and cur.next.val < num:\n",
    "                cur = cur.next\n",
    "            if toskip > 0:\n",
    "                toskip -= 1\n",
    "            else:\n",
    "                t = self.Node(num)\n",
    "                t.next = cur.next\n",
    "                cur.next = t\n",
    "                if lastinsert:\n",
    "                    lastinsert.down = t\n",
    "                lastinsert = t\n",
    "            cur = cur.down\n",
    "        \n",
    "\n",
    "    def erase(self, num: int) -> bool:\n",
    "        option = self._find(num)\n",
    "        if option is None:\n",
    "            return False\n",
    "        while True:\n",
    "            option.next = option.next.next\n",
    "            option = option.down\n",
    "            if not option:\n",
    "                while len(self.levels) >= 2 and self.levels[-2].next is None:\n",
    "                    self.levels.pop()\n",
    "                return True\n",
    "            while option.next.val != num:\n",
    "                option = option.next\n",
    "\n",
    "\n",
    "    def _find(self, target):\n",
    "        '''\n",
    "        return Node that Node.next.val == target or None\n",
    "        '''\n",
    "        cur = self.levels[-1]\n",
    "        while True:\n",
    "            while cur.next is None or target < cur.next.val:\n",
    "                cur = cur.down\n",
    "                if not cur:\n",
    "                    return None\n",
    "            while cur.next and cur.next.val < target:\n",
    "                cur = cur.next\n",
    "            if cur.next and cur.next.val == target:\n",
    "                return cur\n",
    "\n",
    "\n",
    "# Your Skiplist object will be instantiated and called as such:\n",
    "# obj = Skiplist()\n",
    "# param_1 = obj.search(target)\n",
    "# obj.add(num)\n",
    "# param_3 = obj.erase(num)"
   ]
  },
  {
   "cell_type": "code",
   "execution_count": 7,
   "metadata": {},
   "outputs": [
    {
     "ename": "KeyboardInterrupt",
     "evalue": "",
     "output_type": "error",
     "traceback": [
      "\u001b[1;31m---------------------------------------------------------------------------\u001b[0m",
      "\u001b[1;31mKeyboardInterrupt\u001b[0m                         Traceback (most recent call last)",
      "\u001b[1;32m<ipython-input-7-a63b89e8bcf9>\u001b[0m in \u001b[0;36m<module>\u001b[1;34m\u001b[0m\n\u001b[0;32m      1\u001b[0m \u001b[0ma\u001b[0m \u001b[1;33m=\u001b[0m \u001b[0mSkiplist\u001b[0m\u001b[1;33m(\u001b[0m\u001b[1;33m)\u001b[0m\u001b[1;33m\u001b[0m\u001b[1;33m\u001b[0m\u001b[0m\n\u001b[1;32m----> 2\u001b[1;33m \u001b[0mprint\u001b[0m\u001b[1;33m(\u001b[0m\u001b[0ma\u001b[0m\u001b[1;33m.\u001b[0m\u001b[0madd\u001b[0m\u001b[1;33m(\u001b[0m\u001b[1;36m1\u001b[0m\u001b[1;33m)\u001b[0m\u001b[1;33m)\u001b[0m\u001b[1;33m\u001b[0m\u001b[1;33m\u001b[0m\u001b[0m\n\u001b[0m\u001b[0;32m      3\u001b[0m \u001b[0mprint\u001b[0m\u001b[1;33m(\u001b[0m\u001b[0ma\u001b[0m\u001b[1;33m.\u001b[0m\u001b[0madd\u001b[0m\u001b[1;33m(\u001b[0m\u001b[1;36m2\u001b[0m\u001b[1;33m)\u001b[0m\u001b[1;33m)\u001b[0m\u001b[1;33m\u001b[0m\u001b[1;33m\u001b[0m\u001b[0m\n\u001b[0;32m      4\u001b[0m \u001b[0mprint\u001b[0m\u001b[1;33m(\u001b[0m\u001b[0ma\u001b[0m\u001b[1;33m.\u001b[0m\u001b[0madd\u001b[0m\u001b[1;33m(\u001b[0m\u001b[1;36m3\u001b[0m\u001b[1;33m)\u001b[0m\u001b[1;33m)\u001b[0m\u001b[1;33m\u001b[0m\u001b[1;33m\u001b[0m\u001b[0m\n\u001b[0;32m      5\u001b[0m \u001b[0mprint\u001b[0m\u001b[1;33m(\u001b[0m\u001b[0ma\u001b[0m\u001b[1;33m.\u001b[0m\u001b[0msearch\u001b[0m\u001b[1;33m(\u001b[0m\u001b[1;36m0\u001b[0m\u001b[1;33m)\u001b[0m\u001b[1;33m)\u001b[0m\u001b[1;33m\u001b[0m\u001b[1;33m\u001b[0m\u001b[0m\n",
      "\u001b[1;32m<ipython-input-6-100a7dd0acda>\u001b[0m in \u001b[0;36madd\u001b[1;34m(self, num)\u001b[0m\n\u001b[0;32m     26\u001b[0m         \u001b[0mp\u001b[0m \u001b[1;33m=\u001b[0m \u001b[0mself\u001b[0m\u001b[1;33m.\u001b[0m\u001b[0mhead\u001b[0m\u001b[1;33m\u001b[0m\u001b[1;33m\u001b[0m\u001b[0m\n\u001b[0;32m     27\u001b[0m         \u001b[1;32mwhile\u001b[0m \u001b[0mp\u001b[0m\u001b[1;33m:\u001b[0m\u001b[1;33m\u001b[0m\u001b[1;33m\u001b[0m\u001b[0m\n\u001b[1;32m---> 28\u001b[1;33m             \u001b[1;32mif\u001b[0m \u001b[0mp\u001b[0m\u001b[1;33m.\u001b[0m\u001b[0mval\u001b[0m \u001b[1;33m==\u001b[0m \u001b[0mnum\u001b[0m\u001b[1;33m:\u001b[0m\u001b[1;33m\u001b[0m\u001b[1;33m\u001b[0m\u001b[0m\n\u001b[0m\u001b[0;32m     29\u001b[0m                 \u001b[1;32mpass\u001b[0m\u001b[1;33m\u001b[0m\u001b[1;33m\u001b[0m\u001b[0m\n\u001b[0;32m     30\u001b[0m \u001b[1;33m\u001b[0m\u001b[0m\n",
      "\u001b[1;31mKeyboardInterrupt\u001b[0m: "
     ]
    }
   ],
   "source": [
    "a = Skiplist()\n",
    "print(a.add(1))\n",
    "print(a.add(2))\n",
    "print(a.add(3))\n",
    "print(a.search(0))\n",
    "print(a.add(4))\n",
    "print(a.search(1))\n",
    "print(a.erase(0))\n",
    "print(a.erase(1))\n",
    "print(a.search(1))"
   ]
  },
  {
   "cell_type": "code",
   "execution_count": null,
   "metadata": {},
   "outputs": [],
   "source": []
  }
 ],
 "metadata": {
  "kernelspec": {
   "display_name": "Python 3",
   "language": "python",
   "name": "python3"
  },
  "language_info": {
   "codemirror_mode": {
    "name": "ipython",
    "version": 3
   },
   "file_extension": ".py",
   "mimetype": "text/x-python",
   "name": "python",
   "nbconvert_exporter": "python",
   "pygments_lexer": "ipython3",
   "version": "3.8.0b3"
  }
 },
 "nbformat": 4,
 "nbformat_minor": 2
}
