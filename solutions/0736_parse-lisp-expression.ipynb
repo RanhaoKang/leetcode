{
 "cells": [
  {
   "cell_type": "markdown",
   "metadata": {},
   "source": [
    "[736. Parse Lisp Expression](https://leetcode.com/problems/parse-lisp-expression/)"
   ]
  },
  {
   "cell_type": "code",
   "execution_count": 67,
   "metadata": {},
   "outputs": [],
   "source": [
    "class Solution:\n",
    "    def evaluate(self, expression: str) -> int:\n",
    "        st, d, tokens = [], {}, ['']\n",
    "\n",
    "        def get(x):\n",
    "            return d.get(x, x)\n",
    "\n",
    "        def evaluate(tokens):\n",
    "            if tokens[0] in ('add', 'mult'):\n",
    "                tmp = list(map(int, map(get, tokens[1:])))\n",
    "                return str(tmp[0] + tmp[1] if tokens[0] == 'add' else tmp[0] * tmp[1])\n",
    "            else:\n",
    "                for i in range(1, len(tokens)-1, 2):\n",
    "                    if tokens[i+1]:\n",
    "                        d[tokens[i]] = get(tokens[i+1])\n",
    "                return get(tokens[-1])\n",
    "\n",
    "        for c in expression:\n",
    "            if c == '(':\n",
    "                if tokens[0] == 'let':\n",
    "                    evaluate(tokens)\n",
    "                st.append((tokens, dict(d)))\n",
    "                tokens =  ['']\n",
    "            elif c == ' ':\n",
    "                tokens.append('')\n",
    "            elif c == ')':\n",
    "                val = evaluate(tokens)\n",
    "                tokens, d = st.pop()\n",
    "                tokens[-1] += val\n",
    "            else:\n",
    "                tokens[-1] += c\n",
    "        return int(tokens[0])\n"
   ]
  },
  {
   "cell_type": "code",
   "execution_count": 68,
   "metadata": {},
   "outputs": [
    {
     "data": {
      "text/plain": [
       "3"
      ]
     },
     "execution_count": 68,
     "metadata": {},
     "output_type": "execute_result"
    }
   ],
   "source": [
    "Solution().evaluate(\"(add 1 2)\")"
   ]
  },
  {
   "cell_type": "code",
   "execution_count": 69,
   "metadata": {},
   "outputs": [
    {
     "data": {
      "text/plain": [
       "15"
      ]
     },
     "execution_count": 69,
     "metadata": {},
     "output_type": "execute_result"
    }
   ],
   "source": [
    "Solution().evaluate(\"(mult 3 (add 2 3))\")"
   ]
  },
  {
   "cell_type": "code",
   "execution_count": null,
   "metadata": {},
   "outputs": [],
   "source": []
  }
 ],
 "metadata": {
  "kernelspec": {
   "display_name": "Python 3",
   "language": "python",
   "name": "python3"
  },
  "language_info": {
   "codemirror_mode": {
    "name": "ipython",
    "version": 3
   },
   "file_extension": ".py",
   "mimetype": "text/x-python",
   "name": "python",
   "nbconvert_exporter": "python",
   "pygments_lexer": "ipython3",
   "version": "3.8.0b3"
  }
 },
 "nbformat": 4,
 "nbformat_minor": 2
}
