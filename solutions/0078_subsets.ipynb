{
 "cells": [
  {
   "cell_type": "markdown",
   "metadata": {},
   "source": [
    "[78. Subsets](https://leetcode.com/problems/subsets/)"
   ]
  },
  {
   "cell_type": "markdown",
   "metadata": {},
   "source": [
    "DFS"
   ]
  },
  {
   "cell_type": "code",
   "execution_count": 48,
   "metadata": {},
   "outputs": [
    {
     "data": {
      "text/plain": [
       "[[], [1], [1, 2], [1, 2, 3], [1, 3], [2], [2, 3], [3]]"
      ]
     },
     "execution_count": 48,
     "metadata": {},
     "output_type": "execute_result"
    }
   ],
   "source": [
    "class Solution:\n",
    "    def subsets(self, nums):\n",
    "        def dfs(nums, index, path, res):\n",
    "            res.append(path)\n",
    "            for i in range(index, len(nums)):\n",
    "                dfs(nums, i+1, path+[nums[i]], res)\n",
    "        \n",
    "        res = []\n",
    "        dfs(nums, 0, [], res)\n",
    "        return res\n",
    "Solution().subsets([1, 2, 3])"
   ]
  },
  {
   "cell_type": "markdown",
   "metadata": {},
   "source": [
    "Iteratively"
   ]
  },
  {
   "cell_type": "code",
   "execution_count": 46,
   "metadata": {},
   "outputs": [
    {
     "data": {
      "text/plain": [
       "[[], [1], [2], [1, 2], [3], [1, 3], [2, 3], [1, 2, 3]]"
      ]
     },
     "execution_count": 46,
     "metadata": {},
     "output_type": "execute_result"
    }
   ],
   "source": [
    "class Solution:\n",
    "    def subsets(self, nums):\n",
    "        res = [[]]\n",
    "        for num in nums:\n",
    "            res += [item + [num] for item in res]\n",
    "        return res\n",
    "Solution().subsets([1, 2, 3])"
   ]
  },
  {
   "cell_type": "markdown",
   "metadata": {},
   "source": [
    "Bit Manipulation"
   ]
  },
  {
   "cell_type": "code",
   "execution_count": 52,
   "metadata": {},
   "outputs": [
    {
     "data": {
      "text/plain": [
       "[[], [1], [2], [1, 2], [3], [1, 3], [2, 3], [1, 2, 3]]"
      ]
     },
     "execution_count": 52,
     "metadata": {},
     "output_type": "execute_result"
    }
   ],
   "source": [
    "class Solution:\n",
    "    def subsets(self, nums):\n",
    "        res = []\n",
    "        nums.sort()\n",
    "        for i in range(1<<len(nums)):\n",
    "            tmp = []\n",
    "            for j in range(len(nums)):\n",
    "                if i & 1 << j:  # if i >> j & 1:\n",
    "                    tmp.append(nums[j])\n",
    "            res.append(tmp)\n",
    "        return res\n",
    "Solution().subsets([1, 2, 3])"
   ]
  },
  {
   "cell_type": "markdown",
   "metadata": {},
   "source": [
    "类似Bit Manipulation"
   ]
  },
  {
   "cell_type": "code",
   "execution_count": 43,
   "metadata": {},
   "outputs": [
    {
     "name": "stdout",
     "output_type": "stream",
     "text": [
      "[]\n",
      "[True]\n",
      "[True, True]\n",
      "[True, True, True]\n",
      "[True, True, True, True]\n",
      "[True, True, True, False]\n",
      "[True, True, False]\n",
      "[True, True, False, True]\n",
      "[True, True, False, False]\n",
      "[True, False]\n",
      "[True, False, True]\n",
      "[True, False, True, True]\n",
      "[True, False, True, False]\n",
      "[True, False, False]\n",
      "[True, False, False, True]\n",
      "[True, False, False, False]\n",
      "[False]\n",
      "[False, True]\n",
      "[False, True, True]\n",
      "[False, True, True, True]\n",
      "[False, True, True, False]\n",
      "[False, True, False]\n",
      "[False, True, False, True]\n",
      "[False, True, False, False]\n",
      "[False, False]\n",
      "[False, False, True]\n",
      "[False, False, True, True]\n",
      "[False, False, True, False]\n",
      "[False, False, False]\n",
      "[False, False, False, True]\n",
      "[False, False, False, False]\n"
     ]
    },
    {
     "data": {
      "text/plain": [
       "[[], [1], [1, 2], [1, 2, 3], [1, 3], [2], [2, 3], [3]]"
      ]
     },
     "execution_count": 43,
     "metadata": {},
     "output_type": "execute_result"
    }
   ],
   "source": [
    "class Solution:\n",
    "    def subsets(self, nums):\n",
    "        from itertools import compress\n",
    "        length = len(nums)\n",
    "        \n",
    "        def iterate(flags):\n",
    "            print(flags)\n",
    "            if len(flags) <= length:\n",
    "                if flags and flags[-1]:\n",
    "                    yield list(compress(nums, flags))\n",
    "                yield from iterate(flags + [True])\n",
    "                yield from iterate(flags + [False])\n",
    "                \n",
    "        return [[]] + list(iterate([]))\n",
    "Solution().subsets([1, 2, 3])"
   ]
  },
  {
   "cell_type": "code",
   "execution_count": null,
   "metadata": {},
   "outputs": [],
   "source": []
  }
 ],
 "metadata": {
  "kernelspec": {
   "display_name": "Python 3",
   "language": "python",
   "name": "python3"
  },
  "language_info": {
   "codemirror_mode": {
    "name": "ipython",
    "version": 3
   },
   "file_extension": ".py",
   "mimetype": "text/x-python",
   "name": "python",
   "nbconvert_exporter": "python",
   "pygments_lexer": "ipython3",
   "version": "3.6.7"
  }
 },
 "nbformat": 4,
 "nbformat_minor": 2
}
