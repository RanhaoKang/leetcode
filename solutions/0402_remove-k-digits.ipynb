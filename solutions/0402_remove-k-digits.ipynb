{
 "cells": [
  {
   "cell_type": "markdown",
   "metadata": {},
   "source": [
    "[402. Remove K Digits](https://leetcode.com/problems/remove-k-digits/)"
   ]
  },
  {
   "cell_type": "markdown",
   "metadata": {},
   "source": [
    "最贪的是能通过删字符在前面创造`0`, 这样相当于又做了次`//10`.\n",
    "\n",
    "做不到的话就删最大的digit? 但是很容易想到failure case, `[3,1,2,4]`"
   ]
  },
  {
   "cell_type": "markdown",
   "metadata": {},
   "source": [
    "从讨论区抄了个思路, 从左往右入栈, 如果当前digit比栈顶的小就pop栈顶的.\n",
    "\n",
    "这样考虑到了两方面:\n",
    "- 还是删大的digit\n",
    "- 删的digit右侧没有更优解, 如删除`3412`, 关键在于新的做首位的digit要小于被删除的"
   ]
  },
  {
   "cell_type": "code",
   "execution_count": 8,
   "metadata": {},
   "outputs": [],
   "source": [
    "import collections\n",
    "\n",
    "class Solution:\n",
    "    def removeKdigits(self, num: str, k: int) -> str:\n",
    "        s = collections.deque()\n",
    "        \n",
    "        for digit in num:\n",
    "            while k and s and digit < s[-1]:\n",
    "                s.pop()\n",
    "                k -= 1\n",
    "            s.append(digit)\n",
    "            \n",
    "        for _ in range(k):\n",
    "            s.pop()\n",
    "        \n",
    "        return ''.join(s).lstrip('0') or '0'"
   ]
  },
  {
   "cell_type": "code",
   "execution_count": 4,
   "metadata": {},
   "outputs": [
    {
     "data": {
      "text/plain": [
       "'1219'"
      ]
     },
     "execution_count": 4,
     "metadata": {},
     "output_type": "execute_result"
    }
   ],
   "source": [
    "Solution().removeKdigits(num = \"1432219\", k = 3)"
   ]
  },
  {
   "cell_type": "code",
   "execution_count": 9,
   "metadata": {},
   "outputs": [
    {
     "data": {
      "text/plain": [
       "'0'"
      ]
     },
     "execution_count": 9,
     "metadata": {},
     "output_type": "execute_result"
    }
   ],
   "source": [
    "Solution().removeKdigits(num = \"10\", k = 2)"
   ]
  },
  {
   "cell_type": "code",
   "execution_count": null,
   "metadata": {},
   "outputs": [],
   "source": []
  }
 ],
 "metadata": {
  "kernelspec": {
   "display_name": "Python 3",
   "language": "python",
   "name": "python3"
  },
  "language_info": {
   "codemirror_mode": {
    "name": "ipython",
    "version": 3
   },
   "file_extension": ".py",
   "mimetype": "text/x-python",
   "name": "python",
   "nbconvert_exporter": "python",
   "pygments_lexer": "ipython3",
   "version": "3.6.7"
  }
 },
 "nbformat": 4,
 "nbformat_minor": 2
}
