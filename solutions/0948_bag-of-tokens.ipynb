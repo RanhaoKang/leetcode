{
 "cells": [
  {
   "cell_type": "markdown",
   "metadata": {},
   "source": [
    "[948. Bag of Tokens](https://leetcode.com/problems/bag-of-tokens/)"
   ]
  },
  {
   "cell_type": "code",
   "execution_count": 1,
   "metadata": {},
   "outputs": [],
   "source": [
    "class Solution:\n",
    "    def bagOfTokensScore(self, tokens, P: int) -> int:\n",
    "        tokens.sort()\n",
    "        l, r, score = 0, len(tokens) - 1, 0\n",
    "        while l <= r:\n",
    "            if P >= tokens[l]:\n",
    "                P -= tokens[l]\n",
    "                score += 1\n",
    "                l += 1\n",
    "            elif score and l != r:\n",
    "                P += tokens[r]\n",
    "                score -= 1\n",
    "                r -= 1\n",
    "            else:\n",
    "                break\n",
    "        return score"
   ]
  },
  {
   "cell_type": "code",
   "execution_count": null,
   "metadata": {},
   "outputs": [],
   "source": []
  }
 ],
 "metadata": {
  "kernelspec": {
   "display_name": "Python 3",
   "language": "python",
   "name": "python3"
  },
  "language_info": {
   "codemirror_mode": {
    "name": "ipython",
    "version": 3
   },
   "file_extension": ".py",
   "mimetype": "text/x-python",
   "name": "python",
   "nbconvert_exporter": "python",
   "pygments_lexer": "ipython3",
   "version": "3.8.1"
  }
 },
 "nbformat": 4,
 "nbformat_minor": 4
}
