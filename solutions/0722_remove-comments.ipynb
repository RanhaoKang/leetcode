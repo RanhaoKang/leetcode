{
 "cells": [
  {
   "cell_type": "markdown",
   "metadata": {},
   "source": [
    "[722. Remove Comments](https://leetcode.com/problems/remove-comments/)"
   ]
  },
  {
   "cell_type": "code",
   "execution_count": null,
   "metadata": {},
   "outputs": [],
   "source": [
    "class Solution:\n",
    "    def removeComments(self, source):\n",
    "        res, source = [], iter(source)\n",
    "        \n",
    "        def solve(in_comment = False):\n",
    "            try:\n",
    "                s = next(source)\n",
    "                new = []\n",
    "            except StopIteration as e:\n",
    "                return res\n",
    "            \n",
    "            i, j, k = s.find('//'), s.find('/*'), s.find('*/')\n",
    "        \n",
    "        \n",
    "            solve(in_comment)\n",
    "        \n",
    "        return solve()"
   ]
  },
  {
   "cell_type": "code",
   "execution_count": null,
   "metadata": {},
   "outputs": [],
   "source": [
    "class Solution:\n",
    "    def removeComments(self, source):\n",
    "        return filter(None, re.sub('//.*|/\\*(.|\\n)*?\\*/', '', '\\n'.join(source)).split('\\n'))"
   ]
  },
  {
   "cell_type": "code",
   "execution_count": null,
   "metadata": {},
   "outputs": [],
   "source": []
  }
 ],
 "metadata": {
  "kernelspec": {
   "display_name": "Python 3",
   "language": "python",
   "name": "python3"
  },
  "language_info": {
   "codemirror_mode": {
    "name": "ipython",
    "version": 3
   },
   "file_extension": ".py",
   "mimetype": "text/x-python",
   "name": "python",
   "nbconvert_exporter": "python",
   "pygments_lexer": "ipython3",
   "version": "3.8.1"
  }
 },
 "nbformat": 4,
 "nbformat_minor": 4
}
