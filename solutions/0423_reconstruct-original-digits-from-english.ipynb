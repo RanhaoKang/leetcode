{
 "cells": [
  {
   "cell_type": "markdown",
   "metadata": {},
   "source": [
    "[423. Reconstruct Original Digits from English](https://leetcode.com/problems/reconstruct-original-digits-from-english/)"
   ]
  },
  {
   "cell_type": "code",
   "execution_count": 3,
   "metadata": {},
   "outputs": [],
   "source": [
    "class Solution:\n",
    "    def originalDigits(self, s: str) -> str:\n",
    "        from collections import Counter\n",
    "        s = Counter(s)\n",
    "        res = (\"\"\n",
    "        + '0' * s['z']\n",
    "        + '1' * (s['o'] - s['z'] - s['w'] - s['u'])\n",
    "        + '2' * s['w']\n",
    "        + '3' * (s['h'] - s['g'])\n",
    "        + '4' * s['u']\n",
    "        + '5' * (s['f'] - s['u'])\n",
    "        + '6' * s['x']\n",
    "        + '7' * (s['s'] - s['x'])\n",
    "        + '8' * s['g']\n",
    "        + '9' * (s['i'] - s['x'] - s['g'] - s['f'] + s['u']))\n",
    "\n",
    "        return res"
   ]
  },
  {
   "cell_type": "code",
   "execution_count": 4,
   "metadata": {},
   "outputs": [
    {
     "data": {
      "text/plain": [
       "'012'"
      ]
     },
     "execution_count": 4,
     "metadata": {},
     "output_type": "execute_result"
    }
   ],
   "source": [
    "Solution().originalDigits('owoztneoer')"
   ]
  },
  {
   "cell_type": "code",
   "execution_count": null,
   "metadata": {},
   "outputs": [],
   "source": []
  }
 ],
 "metadata": {
  "kernelspec": {
   "display_name": "Python 3",
   "language": "python",
   "name": "python3"
  },
  "language_info": {
   "codemirror_mode": {
    "name": "ipython",
    "version": 3
   },
   "file_extension": ".py",
   "mimetype": "text/x-python",
   "name": "python",
   "nbconvert_exporter": "python",
   "pygments_lexer": "ipython3",
   "version": "3.8.1"
  }
 },
 "nbformat": 4,
 "nbformat_minor": 4
}
