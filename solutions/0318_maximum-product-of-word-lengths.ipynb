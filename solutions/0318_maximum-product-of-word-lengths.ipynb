{
 "cells": [
  {
   "cell_type": "markdown",
   "metadata": {},
   "source": [
    "[318. Maximum Product of Word Lengths](https://leetcode.com/problems/maximum-product-of-word-lengths/)"
   ]
  },
  {
   "cell_type": "markdown",
   "metadata": {},
   "source": [
    "通过用位记录的方式，高效地计算“是否含有相同的字符”"
   ]
  },
  {
   "cell_type": "code",
   "execution_count": 7,
   "metadata": {},
   "outputs": [],
   "source": [
    "class Solution:\n",
    "    def maxProduct(self, words) -> int:\n",
    "        bits = []\n",
    "        for word in words:\n",
    "            bit = 0\n",
    "            for char in word:\n",
    "                bit |= 1 << (ord(char) - 97)\n",
    "            bits.append(bit)\n",
    "            \n",
    "        res = 0\n",
    "        for i in range(len(bits) - 1):\n",
    "            for j in range(i + 1, len(bits)):\n",
    "                if not (bits[i] & bits[j]):\n",
    "                    res = max(res, len(words[i]) * len(words[j]))\n",
    "        \n",
    "        return res"
   ]
  },
  {
   "cell_type": "code",
   "execution_count": 5,
   "metadata": {},
   "outputs": [
    {
     "data": {
      "text/plain": [
       "97"
      ]
     },
     "execution_count": 5,
     "metadata": {},
     "output_type": "execute_result"
    }
   ],
   "source": [
    "ord('a')"
   ]
  },
  {
   "cell_type": "code",
   "execution_count": null,
   "metadata": {},
   "outputs": [],
   "source": []
  }
 ],
 "metadata": {
  "kernelspec": {
   "display_name": "Python 3",
   "language": "python",
   "name": "python3"
  },
  "language_info": {
   "codemirror_mode": {
    "name": "ipython",
    "version": 3
   },
   "file_extension": ".py",
   "mimetype": "text/x-python",
   "name": "python",
   "nbconvert_exporter": "python",
   "pygments_lexer": "ipython3",
   "version": "3.6.7"
  }
 },
 "nbformat": 4,
 "nbformat_minor": 2
}
