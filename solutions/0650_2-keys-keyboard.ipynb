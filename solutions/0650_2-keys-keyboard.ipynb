{
 "cells": [
  {
   "cell_type": "markdown",
   "metadata": {},
   "source": [
    "[650. 2 Keys Keyboard](https://leetcode.com/problems/2-keys-keyboard/)"
   ]
  },
  {
   "cell_type": "code",
   "execution_count": 2,
   "metadata": {},
   "outputs": [],
   "source": [
    "class Solution:\n",
    "    def minSteps(self, n: int) -> int:\n",
    "        steps = 1\n",
    "        \n",
    "        # x = dp[i]的含义为, 出现i个'A'需要的步骤数为x\n",
    "        # 默认值为i, 即copy 'A', paste * (i-1)\n",
    "        dp = list(range(n+1))\n",
    "        dp[0] = dp[1] = 0\n",
    "        \n",
    "        \n",
    "        for i in range(2, n + 1):\n",
    "            dp[i] = i\n",
    "            \n",
    "            for j in range(i - 1, 1, -1):\n",
    "                if i % j == 0:\n",
    "                    # +1: copy all\n",
    "                    # +i//j-1: paste\n",
    "                    dp[i] = dp[j] + 1 + i // j - 1\n",
    "                    break\n",
    "        \n",
    "        return dp[n]"
   ]
  },
  {
   "cell_type": "code",
   "execution_count": null,
   "metadata": {},
   "outputs": [],
   "source": []
  }
 ],
 "metadata": {
  "kernelspec": {
   "display_name": "Python 3",
   "language": "python",
   "name": "python3"
  },
  "language_info": {
   "codemirror_mode": {
    "name": "ipython",
    "version": 3
   },
   "file_extension": ".py",
   "mimetype": "text/x-python",
   "name": "python",
   "nbconvert_exporter": "python",
   "pygments_lexer": "ipython3",
   "version": "3.6.7"
  }
 },
 "nbformat": 4,
 "nbformat_minor": 2
}
