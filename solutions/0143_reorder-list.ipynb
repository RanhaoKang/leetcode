{
 "cells": [
  {
   "cell_type": "markdown",
   "metadata": {},
   "source": [
    "[143. Reorder List](https://leetcode.com/problems/reorder-list/)"
   ]
  },
  {
   "cell_type": "code",
   "execution_count": 1,
   "metadata": {},
   "outputs": [],
   "source": [
    "# Definition for singly-linked list.\n",
    "class ListNode:\n",
    "    def __init__(self, x):\n",
    "        self.val = x\n",
    "        self.next = None\n",
    "\n",
    "class Solution:\n",
    "    def reorderList(self, head: ListNode) -> None:\n",
    "        \"\"\"\n",
    "        Do not return anything, modify head in-place instead.\n",
    "        \"\"\"\n",
    "        # get the middle of the list\n",
    "        slow = fast = head\n",
    "        while fast and fast.next:\n",
    "            slow, fast = slow.next, fast.next.next\n",
    "        \n",
    "        # reverse the second half\n",
    "        pre, node = None, slow\n",
    "        while node:\n",
    "            pre, node.next, node = node, pre, node.next\n",
    "        \n",
    "        # merge to reorder\n",
    "        p1, p2 = head, pre\n",
    "        while p2 and p2.next:\n",
    "            p1.next, p1 = p2, p1.next\n",
    "            p2.next, p2 = p1, p2.next"
   ]
  },
  {
   "cell_type": "code",
   "execution_count": 2,
   "metadata": {},
   "outputs": [
    {
     "name": "stdout",
     "output_type": "stream",
     "text": [
      "1\n",
      "4\n",
      "2\n",
      "3\n"
     ]
    }
   ],
   "source": [
    "p = ListNode(1)\n",
    "p.next = ListNode(2)\n",
    "p.next.next = ListNode(3)\n",
    "p.next.next.next = ListNode(4)\n",
    "\n",
    "Solution().reorderList(p)\n",
    "while p:\n",
    "    print(p.val)\n",
    "    p = p.next"
   ]
  },
  {
   "cell_type": "code",
   "execution_count": null,
   "metadata": {},
   "outputs": [],
   "source": []
  }
 ],
 "metadata": {
  "kernelspec": {
   "display_name": "Python 3",
   "language": "python",
   "name": "python3"
  },
  "language_info": {
   "codemirror_mode": {
    "name": "ipython",
    "version": 3
   },
   "file_extension": ".py",
   "mimetype": "text/x-python",
   "name": "python",
   "nbconvert_exporter": "python",
   "pygments_lexer": "ipython3",
   "version": "3.6.7"
  }
 },
 "nbformat": 4,
 "nbformat_minor": 2
}
