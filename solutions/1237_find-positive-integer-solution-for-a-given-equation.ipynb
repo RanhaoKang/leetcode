{
 "cells": [
  {
   "cell_type": "markdown",
   "metadata": {},
   "source": [
    "[1237. Find Positive Integer Solution for a Given Equation](https://leetcode.com/problems/find-positive-integer-solution-for-a-given-equation/)"
   ]
  },
  {
   "cell_type": "markdown",
   "metadata": {},
   "source": [
    "重点在于函数性质\n",
    "- `f(x, y) < f(x + 1, y)`\n",
    "- `f(x, y) < f(x, y + 1)`\n",
    "\n",
    "它帮助我们从`O(XY)`降低到了`O(X+Y)`"
   ]
  },
  {
   "cell_type": "code",
   "execution_count": 1,
   "metadata": {},
   "outputs": [],
   "source": [
    "\"\"\"\n",
    "   This is the custom function interface.\n",
    "   You should not implement it, or speculate about its implementation\n",
    "   class CustomFunction:\n",
    "       # Returns f(x, y) for any given positive integers x and y.\n",
    "       # Note that f(x, y) is increasing with respect to both x and y.\n",
    "       # i.e. f(x, y) < f(x + 1, y), f(x, y) < f(x, y + 1)\n",
    "       def f(self, x, y):\n",
    "  \n",
    "\"\"\"\n",
    "class Solution:\n",
    "    def findSolution(self, customfunction: 'CustomFunction', z: int):\n",
    "        res = []\n",
    "        y = 1000\n",
    "        for x in range(1, 1001):\n",
    "            while y > 1 and customfunction.f(x, y) > z:\n",
    "                y -= 1\n",
    "            if customfunction.f(x, y) == z:\n",
    "                res.append([x, y])\n",
    "        return res"
   ]
  },
  {
   "cell_type": "code",
   "execution_count": null,
   "metadata": {},
   "outputs": [],
   "source": []
  }
 ],
 "metadata": {
  "kernelspec": {
   "display_name": "Python 3",
   "language": "python",
   "name": "python3"
  },
  "language_info": {
   "codemirror_mode": {
    "name": "ipython",
    "version": 3
   },
   "file_extension": ".py",
   "mimetype": "text/x-python",
   "name": "python",
   "nbconvert_exporter": "python",
   "pygments_lexer": "ipython3",
   "version": "3.8.0b3"
  }
 },
 "nbformat": 4,
 "nbformat_minor": 2
}
