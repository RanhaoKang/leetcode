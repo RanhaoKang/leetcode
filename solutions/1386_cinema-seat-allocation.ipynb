{
 "cells": [
  {
   "cell_type": "markdown",
   "metadata": {},
   "source": [
    "[1386. Cinema Seat Allocation](https://leetcode.com/problems/cinema-seat-allocation/)"
   ]
  },
  {
   "cell_type": "code",
   "execution_count": 1,
   "metadata": {},
   "outputs": [],
   "source": [
    "class Solution:\n",
    "    def maxNumberOfFamilies(self, n: int, reservedSeats) -> int:\n",
    "        res = 2 * n\n",
    "        ht = collections.defaultdict(set)\n",
    "        for r, c in reservedSeats:\n",
    "            ht[r].add(c)\n",
    "        for x in ht:\n",
    "            cnt = 0\n",
    "            if 2 not in ht[x] and 3 not in ht[x] and 4 not in ht[x] and 5 not in ht[x]:\n",
    "                cnt +=1\n",
    "            if 6 not in ht[x] and 7 not in ht[x] and 8 not in ht[x] and 9 not in ht[x]:\n",
    "                cnt += 1\n",
    "            if 4 not in ht[x] and 5 not in ht[x] and 6 not in ht[x] and 7 not in ht[x] and cnt == 0:\n",
    "                cnt += 1\n",
    "            res += cnt - 2\n",
    "        \n",
    "        return res"
   ]
  },
  {
   "cell_type": "code",
   "execution_count": null,
   "metadata": {},
   "outputs": [],
   "source": []
  }
 ],
 "metadata": {
  "kernelspec": {
   "display_name": "Python 3",
   "language": "python",
   "name": "python3"
  },
  "language_info": {
   "codemirror_mode": {
    "name": "ipython",
    "version": 3
   },
   "file_extension": ".py",
   "mimetype": "text/x-python",
   "name": "python",
   "nbconvert_exporter": "python",
   "pygments_lexer": "ipython3",
   "version": "3.8.1"
  }
 },
 "nbformat": 4,
 "nbformat_minor": 4
}
