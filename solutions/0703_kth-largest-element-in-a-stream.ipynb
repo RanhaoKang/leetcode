{
 "cells": [
  {
   "cell_type": "markdown",
   "metadata": {},
   "source": [
    "[703. Kth Largest Element in a Stream](https://leetcode.com/problems/kth-largest-element-in-a-stream/)"
   ]
  },
  {
   "cell_type": "markdown",
   "metadata": {},
   "source": [
    "维护一个长度为`K`的小顶堆即可"
   ]
  },
  {
   "cell_type": "code",
   "execution_count": 1,
   "metadata": {},
   "outputs": [],
   "source": [
    "import heapq\n",
    "\n",
    "class KthLargest:\n",
    "\n",
    "    def __init__(self, k, nums):\n",
    "        self.pool = nums\n",
    "        self.k = k\n",
    "        heapq.heapify(self.pool)\n",
    "        while len(self.pool) > k:\n",
    "            heapq.heappop(self.pool)\n",
    "\n",
    "            \n",
    "    def add(self, val):\n",
    "        if len(self.pool) < self.k:\n",
    "            heapq.heappush(self.pool, val)\n",
    "        elif val > self.pool[0]:\n",
    "            heapq.heapreplace(self.pool, val)\n",
    "        return self.pool[0]"
   ]
  },
  {
   "cell_type": "code",
   "execution_count": null,
   "metadata": {},
   "outputs": [],
   "source": []
  }
 ],
 "metadata": {
  "kernelspec": {
   "display_name": "Python 3",
   "language": "python",
   "name": "python3"
  },
  "language_info": {
   "codemirror_mode": {
    "name": "ipython",
    "version": 3
   },
   "file_extension": ".py",
   "mimetype": "text/x-python",
   "name": "python",
   "nbconvert_exporter": "python",
   "pygments_lexer": "ipython3",
   "version": "3.6.7"
  }
 },
 "nbformat": 4,
 "nbformat_minor": 2
}
