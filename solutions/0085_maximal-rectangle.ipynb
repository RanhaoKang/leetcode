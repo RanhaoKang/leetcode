{
 "cells": [
  {
   "cell_type": "markdown",
   "metadata": {},
   "source": [
    "[85. Maximal Rectangle\n",
    "](https://leetcode.com/problems/maximal-rectangle/)"
   ]
  },
  {
   "cell_type": "markdown",
   "metadata": {},
   "source": [
    "- 能否用one-pass + modify in-space?\n",
    "\n",
    "    不可以, 对于以下数组, 我们在`(0,0)`尝试从右边和下边找到最大的矩形面积并置所有点为`0`, 将会失去找到`2*4`矩形的机会\n",
    "    ```python3\n",
    "    [\n",
    "        [1,1,1,0,0],\n",
    "        [1,1,1,0,0],\n",
    "        [0,1,1,1,0],\n",
    "        [0,1,1,1,0]\n",
    "    ]\n",
    "    ```\n",
    "    \n",
    "    ```python3\n",
    "    [\n",
    "        [1,2,3,0,0],\n",
    "        [1,2,3,0,0],\n",
    "        [0,1,2,3,0],\n",
    "        [0,1,2,3,0]\n",
    "    ]\n",
    "    ```\n",
    "    ```python3\n",
    "    [\n",
    "        [1,1,1,0,0],\n",
    "        [2,2,2,0,0],\n",
    "        [0,3,3,1,0],\n",
    "        [0,4,4,2,0]\n",
    "    ]\n",
    "    ```"
   ]
  },
  {
   "cell_type": "markdown",
   "metadata": {},
   "source": [
    "DP存储当前矩阵能达到的最大高与宽\n",
    "\n",
    "- `(0,0)`, `dp[i][j] = [[0,0]]`\n",
    "- `(0,1)`, `dp[i][j] = [[0,1]]`\n",
    "\n",
    "在`(0, 1)`"
   ]
  },
  {
   "cell_type": "markdown",
   "metadata": {},
   "source": [
    "$$\n",
    "  \\begin{matrix}\n",
    "   0 & 1 & 1 \\\\\n",
    "   1 & 1 & 1 \\\\\n",
    "   1 & 1 & 1 \\\\\n",
    "   0 & 1 & 1\n",
    "  \\end{matrix}\n",
    "$$"
   ]
  },
  {
   "cell_type": "markdown",
   "metadata": {},
   "source": [
    "\\begin{matrix}\n",
    "X=\\begin{bmatrix}\n",
    "0 &amp; 1 \\\\ \n",
    "1 &amp; 0 \n",
    "\\end{bmatrix} &amp;   H = \\frac{1}{\\sqrt{2}}\\begin{bmatrix}\n",
    "1 &amp; 1 \\\\ \n",
    "1 &amp; -1\n",
    "\\end{bmatrix}\n",
    "\\end{matrix}"
   ]
  },
  {
   "cell_type": "code",
   "execution_count": 32,
   "metadata": {},
   "outputs": [],
   "source": [
    "class Solution:\n",
    "\n",
    "    def largestRectangleArea(self, heights) -> int:\n",
    "\n",
    "        length = len(heights)\n",
    "        if not length:\n",
    "            return 0\n",
    "        less_left, less_right = [0] * length, [0] * length\n",
    "        less_left[0] = -1\n",
    "        less_right[-1] = length\n",
    "        \n",
    "        for i in range(1, length):\n",
    "            p = i - 1\n",
    "            while p >= 0 and heights[p] >= heights[i]:\n",
    "                p = less_left[p]\n",
    "            less_left[i] = p\n",
    "            \n",
    "        for i in range(length - 2, -1, -1):\n",
    "            p = i + 1\n",
    "            while p < length and heights[p] >= heights[i]:\n",
    "                p = less_right[p]\n",
    "            less_right[i] = p\n",
    "\n",
    "        return max(h * (r - l - 1) for h, l, r in zip(heights, less_left, less_right))\n",
    "\n",
    "    \n",
    "    def maximalRectangle(self, matrix) -> int:\n",
    "        h, w = len(matrix), len(matrix and matrix[0])\n",
    "        res = 0\n",
    "        height = [0] * w\n",
    "        for i in range(h):\n",
    "            for j in range(w):\n",
    "                if matrix[i][j] == '1':\n",
    "                    height[j] += 1\n",
    "                else:\n",
    "                    height[j] = 0\n",
    "            \n",
    "            res = max(res, self.largestRectangleArea(height))\n",
    "        \n",
    "        return res"
   ]
  },
  {
   "cell_type": "code",
   "execution_count": 20,
   "metadata": {},
   "outputs": [],
   "source": [
    "Solution().maximalRectangle([\n",
    "        [1,1,1,0,0],\n",
    "        [1,1,1,0,0],\n",
    "        [0,1,1,1,0],\n",
    "        [0,1,1,1,0]\n",
    "    ])"
   ]
  },
  {
   "cell_type": "code",
   "execution_count": 25,
   "metadata": {},
   "outputs": [
    {
     "data": {
      "text/plain": [
       "[2, 3]"
      ]
     },
     "execution_count": 25,
     "metadata": {},
     "output_type": "execute_result"
    }
   ],
   "source": [
    "max([[2,3],[1,4]], key = lambda x: x[0] * x[1])"
   ]
  },
  {
   "cell_type": "code",
   "execution_count": 26,
   "metadata": {},
   "outputs": [],
   "source": [
    "h = w =2\n",
    "dp = [[[[0, 0]] for i in range(h)] for j in range(w)]"
   ]
  },
  {
   "cell_type": "code",
   "execution_count": 29,
   "metadata": {},
   "outputs": [],
   "source": [
    "dp[0][0].append(2)"
   ]
  },
  {
   "cell_type": "code",
   "execution_count": 30,
   "metadata": {},
   "outputs": [
    {
     "data": {
      "text/plain": [
       "[[[[0, 0], 2], [[0, 0]]], [[[0, 0]], [[0, 0]]]]"
      ]
     },
     "execution_count": 30,
     "metadata": {},
     "output_type": "execute_result"
    }
   ],
   "source": [
    "dp"
   ]
  },
  {
   "cell_type": "code",
   "execution_count": null,
   "metadata": {},
   "outputs": [],
   "source": []
  }
 ],
 "metadata": {
  "kernelspec": {
   "display_name": "Python 3",
   "language": "python",
   "name": "python3"
  },
  "language_info": {
   "codemirror_mode": {
    "name": "ipython",
    "version": 3
   },
   "file_extension": ".py",
   "mimetype": "text/x-python",
   "name": "python",
   "nbconvert_exporter": "python",
   "pygments_lexer": "ipython3",
   "version": "3.6.7"
  }
 },
 "nbformat": 4,
 "nbformat_minor": 2
}
