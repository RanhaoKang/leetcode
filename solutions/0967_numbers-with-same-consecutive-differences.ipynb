{
 "cells": [
  {
   "cell_type": "markdown",
   "metadata": {},
   "source": [
    "[967. Numbers With Same Consecutive Differences](https://leetcode.com/problems/numbers-with-same-consecutive-differences/)"
   ]
  },
  {
   "cell_type": "markdown",
   "metadata": {},
   "source": [
    "40ms"
   ]
  },
  {
   "cell_type": "code",
   "execution_count": 11,
   "metadata": {},
   "outputs": [],
   "source": [
    "class Solution:\n",
    "    def numsSameConsecDiff(self, N: int, K: int):\n",
    "        if N == 1:\n",
    "            return list(range(10))\n",
    "\n",
    "        res = set()\n",
    "        \n",
    "        def dfs(n, num, a):\n",
    "            if n == 0:\n",
    "                res.add(num)\n",
    "                return\n",
    "            if a - K >= 0:\n",
    "                dfs(n - 1, num * 10 + a - K, a - K)\n",
    "            if a + K <= 9:\n",
    "                dfs(n - 1, num * 10 + a + K, a + K)\n",
    "            \n",
    "            \n",
    "        for i in range(1, 10):\n",
    "            dfs(N - 1, i, i)\n",
    "        \n",
    "        return list(res)"
   ]
  },
  {
   "cell_type": "code",
   "execution_count": 12,
   "metadata": {
    "scrolled": true
   },
   "outputs": [
    {
     "data": {
      "text/plain": [
       "[929, 707, 292, 818, 181]"
      ]
     },
     "execution_count": 12,
     "metadata": {},
     "output_type": "execute_result"
    }
   ],
   "source": [
    "Solution().numsSameConsecDiff(3, 7)"
   ]
  },
  {
   "cell_type": "markdown",
   "metadata": {},
   "source": [
    "lee的，36ms"
   ]
  },
  {
   "cell_type": "code",
   "execution_count": null,
   "metadata": {},
   "outputs": [],
   "source": [
    "class Solution:\n",
    "    def numsSameConsecDiff(self, N: int, K: int):\n",
    "        cur = range(10)\n",
    "        for i in range(N - 1):\n",
    "            cur = {x * 10 + y for x in cur for y in [x % 10 + K, x % 10 - K] if x and 0 <= y < 10}\n",
    "        return list(cur)"
   ]
  }
 ],
 "metadata": {
  "kernelspec": {
   "display_name": "Python 3",
   "language": "python",
   "name": "python3"
  },
  "language_info": {
   "codemirror_mode": {
    "name": "ipython",
    "version": 3
   },
   "file_extension": ".py",
   "mimetype": "text/x-python",
   "name": "python",
   "nbconvert_exporter": "python",
   "pygments_lexer": "ipython3",
   "version": "3.8.1"
  }
 },
 "nbformat": 4,
 "nbformat_minor": 4
}
