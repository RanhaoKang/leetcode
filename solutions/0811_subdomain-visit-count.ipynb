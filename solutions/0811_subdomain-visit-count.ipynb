{
 "cells": [
  {
   "cell_type": "markdown",
   "metadata": {},
   "source": [
    "[811. Subdomain Visit Count](https://leetcode.com/problems/subdomain-visit-count/)"
   ]
  },
  {
   "cell_type": "code",
   "execution_count": null,
   "metadata": {},
   "outputs": [],
   "source": [
    "import collections\n",
    "\n",
    "class Solution:\n",
    "    def subdomainVisits(self, cpdomains):\n",
    "        ans = collections.Counter()\n",
    "        \n",
    "        for domain in cpdomains:\n",
    "            count, domain = domain.split()\n",
    "            count = int(count)\n",
    "            frags = domain.split('.')\n",
    "            for i in range(len(frags)):\n",
    "                ans[\".\".join(frags[i:])] += count\n",
    "\n",
    "        return [\"{} {}\".format(ct, dom) for dom, ct in ans.items()]"
   ]
  }
 ],
 "metadata": {
  "kernelspec": {
   "display_name": "Python 3",
   "language": "python",
   "name": "python3"
  },
  "language_info": {
   "codemirror_mode": {
    "name": "ipython",
    "version": 3
   },
   "file_extension": ".py",
   "mimetype": "text/x-python",
   "name": "python",
   "nbconvert_exporter": "python",
   "pygments_lexer": "ipython3",
   "version": "3.6.7"
  }
 },
 "nbformat": 4,
 "nbformat_minor": 2
}
