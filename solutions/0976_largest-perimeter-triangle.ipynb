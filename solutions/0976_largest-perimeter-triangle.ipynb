{
 "cells": [
  {
   "cell_type": "markdown",
   "metadata": {},
   "source": [
    "[976. Largest Perimeter Triangle](https://leetcode.com/problems/largest-perimeter-triangle/)"
   ]
  },
  {
   "cell_type": "code",
   "execution_count": 10,
   "metadata": {},
   "outputs": [],
   "source": [
    "class Solution:\n",
    "    def largestPerimeter(self, A) -> int:\n",
    "        A.sort(reverse = True)\n",
    "        length = len(A)\n",
    "        \n",
    "        def solve(a):\n",
    "            if a >= length - 2:\n",
    "                return 0\n",
    "            for b in range(a + 1, length - 1):\n",
    "                for c in range(a + 2, length):\n",
    "                    # a选的太大了\n",
    "                    if A[a] >= A[b] + A[c]:\n",
    "                        return solve(a + 1)\n",
    "                    else:\n",
    "                        return A[a] + A[b] + A[c]\n",
    "\n",
    "            return 0\n",
    "    \n",
    "        return solve(0)"
   ]
  },
  {
   "cell_type": "code",
   "execution_count": 11,
   "metadata": {},
   "outputs": [
    {
     "data": {
      "text/plain": [
       "10"
      ]
     },
     "execution_count": 11,
     "metadata": {},
     "output_type": "execute_result"
    }
   ],
   "source": [
    "Solution().largestPerimeter([3,2,3,4])"
   ]
  },
  {
   "cell_type": "code",
   "execution_count": null,
   "metadata": {},
   "outputs": [],
   "source": []
  }
 ],
 "metadata": {
  "kernelspec": {
   "display_name": "Python 3",
   "language": "python",
   "name": "python3"
  },
  "language_info": {
   "codemirror_mode": {
    "name": "ipython",
    "version": 3
   },
   "file_extension": ".py",
   "mimetype": "text/x-python",
   "name": "python",
   "nbconvert_exporter": "python",
   "pygments_lexer": "ipython3",
   "version": "3.6.7"
  }
 },
 "nbformat": 4,
 "nbformat_minor": 2
}
