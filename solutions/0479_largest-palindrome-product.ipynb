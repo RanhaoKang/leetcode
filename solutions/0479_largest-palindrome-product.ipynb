{
 "cells": [
  {
   "cell_type": "markdown",
   "metadata": {},
   "source": [
    "[479. Largest Palindrome Product](https://leetcode.com/problems/largest-palindrome-product/)"
   ]
  },
  {
   "cell_type": "code",
   "execution_count": 1,
   "metadata": {},
   "outputs": [],
   "source": [
    "class Solution:\n",
    "    def largestPalindrome(self, n: int) -> int:\n",
    "        \n",
    "        if n == 1:\n",
    "            return 9\n",
    "        if n == 2:\n",
    "            return 987\n",
    "        for a in range(2, 9*10 ** (n-1)):\n",
    "            hi=(10**n)-a\n",
    "            lo=int(str(hi)[::-1])\n",
    "            if a**2-4*lo < 0: continue\n",
    "            if (a**2-4*lo)**.5 == int((a**2-4*lo)**.5):\n",
    "                return (lo+10**n*(10**n-a))%1337"
   ]
  },
  {
   "cell_type": "code",
   "execution_count": null,
   "metadata": {},
   "outputs": [],
   "source": []
  }
 ],
 "metadata": {
  "kernelspec": {
   "display_name": "Python 3",
   "language": "python",
   "name": "python3"
  },
  "language_info": {
   "codemirror_mode": {
    "name": "ipython",
    "version": 3
   },
   "file_extension": ".py",
   "mimetype": "text/x-python",
   "name": "python",
   "nbconvert_exporter": "python",
   "pygments_lexer": "ipython3",
   "version": "3.8.1"
  }
 },
 "nbformat": 4,
 "nbformat_minor": 4
}
