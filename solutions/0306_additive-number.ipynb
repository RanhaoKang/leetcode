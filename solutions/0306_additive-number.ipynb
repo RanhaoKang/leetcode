{
 "cells": [
  {
   "cell_type": "markdown",
   "metadata": {},
   "source": [
    "[306. Additive Number](https://leetcode.com/problems/additive-number/)"
   ]
  },
  {
   "cell_type": "code",
   "execution_count": 40,
   "metadata": {},
   "outputs": [],
   "source": [
    "class Solution:\n",
    "    def isAdditiveNumber(self, num: str) -> bool:\n",
    "        N = len(num)\n",
    "        \n",
    "        def dfs(i, a, b):\n",
    "            if i == N:\n",
    "                return True\n",
    "            res = False\n",
    "            for j in range(i + 1, N + 1):\n",
    "                if j > i + 1 and num[i] == '0':\n",
    "                    break\n",
    "                n = int(num[i: j])\n",
    "                if n == a + b:\n",
    "                    res |= dfs(j, b, n)\n",
    "            \n",
    "            return res\n",
    "                \n",
    "        return any(i + j < N and\n",
    "                   not (num[0] == '0' and i > 1) and\n",
    "                   not (num[i] == '0' and j > 1) and\n",
    "                   dfs(i + j, int(num[:i]), int(num[i: i + j]))\n",
    "                   for i in range(1, N)\n",
    "                   for j in range(1, N))"
   ]
  },
  {
   "cell_type": "code",
   "execution_count": 41,
   "metadata": {},
   "outputs": [
    {
     "data": {
      "text/plain": [
       "True"
      ]
     },
     "execution_count": 41,
     "metadata": {},
     "output_type": "execute_result"
    }
   ],
   "source": [
    "Solution().isAdditiveNumber('112358')"
   ]
  },
  {
   "cell_type": "code",
   "execution_count": 42,
   "metadata": {},
   "outputs": [
    {
     "data": {
      "text/plain": [
       "True"
      ]
     },
     "execution_count": 42,
     "metadata": {},
     "output_type": "execute_result"
    }
   ],
   "source": [
    "Solution().isAdditiveNumber('101')"
   ]
  },
  {
   "cell_type": "code",
   "execution_count": null,
   "metadata": {},
   "outputs": [],
   "source": []
  }
 ],
 "metadata": {
  "kernelspec": {
   "display_name": "Python 3",
   "language": "python",
   "name": "python3"
  },
  "language_info": {
   "codemirror_mode": {
    "name": "ipython",
    "version": 3
   },
   "file_extension": ".py",
   "mimetype": "text/x-python",
   "name": "python",
   "nbconvert_exporter": "python",
   "pygments_lexer": "ipython3",
   "version": "3.8.1"
  }
 },
 "nbformat": 4,
 "nbformat_minor": 4
}
