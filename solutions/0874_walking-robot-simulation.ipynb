{
 "cells": [
  {
   "cell_type": "markdown",
   "metadata": {},
   "source": [
    "[874. Walking Robot Simulation](https://leetcode.com/problems/walking-robot-simulation/)"
   ]
  },
  {
   "cell_type": "code",
   "execution_count": 1,
   "metadata": {},
   "outputs": [],
   "source": [
    "class Solution:\n",
    "    def robotSim(self, commands, obstacles) -> int:\n",
    "        # 后续会多次查询in, 所以先转换为set\n",
    "        obstacles = set(map(tuple, obstacles))\n",
    "        \n",
    "        # 速度向量\n",
    "        vx = [0, 1, 0, -1]\n",
    "        vy = [1, 0, -1, 0]\n",
    "        \n",
    "        x = y = di = 0\n",
    "        res = 0\n",
    "        for cmd in commands:\n",
    "            if cmd == -2:\n",
    "                di = (di - 1) % 4\n",
    "            elif cmd == -1:\n",
    "                di = (di + 1) % 4\n",
    "            else:\n",
    "                \n",
    "                for k in range(cmd):\n",
    "                    if (x + vx[di], y + vy[di]) not in obstacles:\n",
    "                        x += vx[di]\n",
    "                        y += vy[di]\n",
    "                        res = max(res, x**2 + y ** 2)\n",
    "        \n",
    "        return res"
   ]
  },
  {
   "cell_type": "code",
   "execution_count": null,
   "metadata": {},
   "outputs": [],
   "source": []
  }
 ],
 "metadata": {
  "kernelspec": {
   "display_name": "Python 3",
   "language": "python",
   "name": "python3"
  },
  "language_info": {
   "codemirror_mode": {
    "name": "ipython",
    "version": 3
   },
   "file_extension": ".py",
   "mimetype": "text/x-python",
   "name": "python",
   "nbconvert_exporter": "python",
   "pygments_lexer": "ipython3",
   "version": "3.6.7"
  }
 },
 "nbformat": 4,
 "nbformat_minor": 2
}
