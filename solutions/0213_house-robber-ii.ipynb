{
 "cells": [
  {
   "cell_type": "markdown",
   "metadata": {},
   "source": [
    "[213. House Robber II](https://leetcode.com/problems/house-robber-ii/)"
   ]
  },
  {
   "cell_type": "markdown",
   "metadata": {},
   "source": [
    "这样写好像LRU cache用掉了太多的空间, 而且对长度为1的数组的边界处理做的很难看."
   ]
  },
  {
   "cell_type": "code",
   "execution_count": 6,
   "metadata": {},
   "outputs": [],
   "source": [
    "from functools import lru_cache\n",
    "class Solution:\n",
    "    def rob(self, nums) -> int:\n",
    "        L = len(nums)\n",
    "        \n",
    "        @lru_cache(None)\n",
    "        def solve(idx, choosed_0):\n",
    "            if idx >= L:\n",
    "                return 0\n",
    "            elif idx == L - 1:\n",
    "                return 0 if choosed_0 else nums[idx]\n",
    "        \n",
    "            return max(solve(idx+1, choosed_0), solve(idx+2, choosed_0) + nums[idx])\n",
    "        \n",
    "        if L == 1:\n",
    "            return nums[0]\n",
    "        return max(solve(0, True), solve(1, False))"
   ]
  },
  {
   "cell_type": "code",
   "execution_count": 7,
   "metadata": {},
   "outputs": [
    {
     "data": {
      "text/plain": [
       "1"
      ]
     },
     "execution_count": 7,
     "metadata": {},
     "output_type": "execute_result"
    }
   ],
   "source": [
    "Solution().rob([1])"
   ]
  },
  {
   "cell_type": "code",
   "execution_count": null,
   "metadata": {},
   "outputs": [],
   "source": []
  }
 ],
 "metadata": {
  "kernelspec": {
   "display_name": "Python 3",
   "language": "python",
   "name": "python3"
  },
  "language_info": {
   "codemirror_mode": {
    "name": "ipython",
    "version": 3
   },
   "file_extension": ".py",
   "mimetype": "text/x-python",
   "name": "python",
   "nbconvert_exporter": "python",
   "pygments_lexer": "ipython3",
   "version": "3.6.7"
  }
 },
 "nbformat": 4,
 "nbformat_minor": 2
}
