{
 "cells": [
  {
   "cell_type": "markdown",
   "metadata": {},
   "source": [
    "[57. Insert Interval](https://leetcode.com/problems/insert-interval/)"
   ]
  },
  {
   "cell_type": "markdown",
   "metadata": {},
   "source": [
    "64ms"
   ]
  },
  {
   "cell_type": "code",
   "execution_count": 5,
   "metadata": {},
   "outputs": [],
   "source": [
    "# Definition for an interval.\n",
    "class Interval:\n",
    "    def __init__(self, s=0, e=0):\n",
    "        self.start = s\n",
    "        self.end = e\n",
    "\n",
    "class Solution:\n",
    "    def insert(self, intervals, newInterval: Interval):\n",
    "        \n",
    "        while True:\n",
    "            flag = True\n",
    "            need_pop = set()\n",
    "            for i in range(len(intervals)):\n",
    "                # 重叠判定:\n",
    "                # a.start <= b.end and a.end >= b.start\n",
    "                if intervals[i].start <= newInterval.end and\\\n",
    "                    intervals[i].end >= newInterval.start:\n",
    "                    newInterval.start = min(newInterval.start, intervals[i].start)\n",
    "                    newInterval.end = max(newInterval.end, intervals[i].end)\n",
    "                    flag = False\n",
    "                    need_pop.add(i)\n",
    "                    \n",
    "            intervals = [i for idx, i in enumerate(intervals) if idx not in need_pop]\n",
    "            if flag:\n",
    "                break\n",
    "        \n",
    "        return sorted(intervals + [newInterval], key = lambda x: x.start)"
   ]
  },
  {
   "cell_type": "markdown",
   "metadata": {},
   "source": [
    "$O(n)$"
   ]
  },
  {
   "cell_type": "code",
   "execution_count": 24,
   "metadata": {},
   "outputs": [],
   "source": [
    "# Definition for an interval.\n",
    "class Interval:\n",
    "    def __init__(self, s=0, e=0):\n",
    "        self.start = s\n",
    "        self.end = e\n",
    "\n",
    "class Solution:\n",
    "    def insert(self, intervals, newInterval: Interval):\n",
    "        intervals = [Interval(-1, -1)] + intervals + [Interval(999, 999)]\n",
    "        length = len(intervals)\n",
    "        \n",
    "        for l in range(length):\n",
    "            if intervals[l].end >= newInterval.start:\n",
    "                break\n",
    "        \n",
    "        for r in range(length - 1, -1, -1):\n",
    "            if intervals[r].start <= newInterval.end:\n",
    "                break\n",
    "        \n",
    "        newInterval.start = min(newInterval.start, intervals[l].start)\n",
    "        newInterval.end = max(newInterval.end, intervals[r].end)\n",
    "        \n",
    "        return intervals[1:l] + [newInterval] + intervals[r + 1: -1]"
   ]
  },
  {
   "cell_type": "code",
   "execution_count": 25,
   "metadata": {},
   "outputs": [],
   "source": [
    "res = Solution().insert([Interval(1, 3), Interval(6, 9)], Interval(2,5))"
   ]
  },
  {
   "cell_type": "code",
   "execution_count": 26,
   "metadata": {},
   "outputs": [
    {
     "name": "stdout",
     "output_type": "stream",
     "text": [
      "1 5\n",
      "6 9\n"
     ]
    }
   ],
   "source": [
    "for i in res:\n",
    "    print(i.start, i.end)"
   ]
  },
  {
   "cell_type": "code",
   "execution_count": null,
   "metadata": {},
   "outputs": [],
   "source": []
  }
 ],
 "metadata": {
  "kernelspec": {
   "display_name": "Python 3",
   "language": "python",
   "name": "python3"
  },
  "language_info": {
   "codemirror_mode": {
    "name": "ipython",
    "version": 3
   },
   "file_extension": ".py",
   "mimetype": "text/x-python",
   "name": "python",
   "nbconvert_exporter": "python",
   "pygments_lexer": "ipython3",
   "version": "3.6.7"
  }
 },
 "nbformat": 4,
 "nbformat_minor": 2
}
