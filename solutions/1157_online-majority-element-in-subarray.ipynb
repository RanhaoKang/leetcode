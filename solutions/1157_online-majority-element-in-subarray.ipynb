{
 "cells": [
  {
   "cell_type": "markdown",
   "metadata": {},
   "source": [
    "[1157. Online Majority Element In Subarray](https://leetcode.com/problems/online-majority-element-in-subarray/)"
   ]
  },
  {
   "cell_type": "code",
   "execution_count": 1,
   "metadata": {},
   "outputs": [],
   "source": [
    "class MajorityChecker:\n",
    "\n",
    "    def __init__(self, A):\n",
    "        a2i = collections.defaultdict(list)\n",
    "        for i, x in enumerate(A):\n",
    "            a2i[x].append(i)\n",
    "        self.A, self.a2i = A, a2i\n",
    "\n",
    "\n",
    "    def query(self, left, right, threshold):\n",
    "        for _ in range(10):\n",
    "            a = self.A[random.randint(left, right)]\n",
    "            l = bisect.bisect_left(self.a2i[a], left)\n",
    "            r = bisect.bisect_right(self.a2i[a], right)\n",
    "            if r - l >= threshold:\n",
    "                return a\n",
    "        return -1\n",
    "        \n",
    "\n",
    "\n",
    "# Your MajorityChecker object will be instantiated and called as such:\n",
    "# obj = MajorityChecker(arr)\n",
    "# param_1 = obj.query(left,right,threshold)"
   ]
  },
  {
   "cell_type": "code",
   "execution_count": null,
   "metadata": {},
   "outputs": [],
   "source": []
  }
 ],
 "metadata": {
  "kernelspec": {
   "display_name": "Python 3",
   "language": "python",
   "name": "python3"
  },
  "language_info": {
   "codemirror_mode": {
    "name": "ipython",
    "version": 3
   },
   "file_extension": ".py",
   "mimetype": "text/x-python",
   "name": "python",
   "nbconvert_exporter": "python",
   "pygments_lexer": "ipython3",
   "version": "3.8.1"
  }
 },
 "nbformat": 4,
 "nbformat_minor": 4
}
