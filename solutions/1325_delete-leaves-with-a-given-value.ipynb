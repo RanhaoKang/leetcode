{
 "cells": [
  {
   "cell_type": "markdown",
   "metadata": {},
   "source": [
    "[1325. Delete Leaves With a Given Value](https://leetcode.com/problems/delete-leaves-with-a-given-value/)"
   ]
  },
  {
   "cell_type": "markdown",
   "metadata": {},
   "source": [
    "体现出上下级的信息流通，60ms"
   ]
  },
  {
   "cell_type": "code",
   "execution_count": 1,
   "metadata": {},
   "outputs": [],
   "source": [
    "# Definition for a binary tree node.\n",
    "class TreeNode:\n",
    "    def __init__(self, x):\n",
    "        self.val = x\n",
    "        self.left = None\n",
    "        self.right = None\n",
    "\n",
    "class Solution:\n",
    "    def removeLeafNodes(self, root: TreeNode, target: int) -> TreeNode:\n",
    "        def solve(p):\n",
    "            if p:\n",
    "                if solve(p.left):\n",
    "                    p.left = None\n",
    "                if solve(p.right):\n",
    "                    p.right = None\n",
    "                \n",
    "                if not p.left and not p.right:\n",
    "                    return p.val == target\n",
    "        \n",
    "        dummy = TreeNode(target)\n",
    "        dummy.left = root\n",
    "        solve(dummy)\n",
    "        return dummy.left"
   ]
  },
  {
   "cell_type": "markdown",
   "metadata": {},
   "source": [
    "提高返回值的信息量，可以不用`dummy`了"
   ]
  },
  {
   "cell_type": "code",
   "execution_count": 2,
   "metadata": {},
   "outputs": [],
   "source": [
    "class Solution:\n",
    "    def removeLeafNodes(self, root: TreeNode, target: int) -> TreeNode:\n",
    "        def solve(p):\n",
    "            if p:\n",
    "                p.left, p.right = solve(p.left), solve(p.right)\n",
    "                if not p.left and not p.right and p.val == target:\n",
    "                    return None\n",
    "                return p\n",
    "\n",
    "        return solve(root)"
   ]
  },
  {
   "cell_type": "code",
   "execution_count": null,
   "metadata": {},
   "outputs": [],
   "source": []
  }
 ],
 "metadata": {
  "kernelspec": {
   "display_name": "Python 3",
   "language": "python",
   "name": "python3"
  },
  "language_info": {
   "codemirror_mode": {
    "name": "ipython",
    "version": 3
   },
   "file_extension": ".py",
   "mimetype": "text/x-python",
   "name": "python",
   "nbconvert_exporter": "python",
   "pygments_lexer": "ipython3",
   "version": "3.8.1"
  }
 },
 "nbformat": 4,
 "nbformat_minor": 2
}
