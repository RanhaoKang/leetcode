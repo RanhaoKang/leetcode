{
 "cells": [
  {
   "cell_type": "markdown",
   "metadata": {},
   "source": [
    "[725. Split Linked List in Parts](https://leetcode.com/problems/split-linked-list-in-parts/)"
   ]
  },
  {
   "cell_type": "markdown",
   "metadata": {},
   "source": [
    "不存在什么不需要先求`N`再split的奇技淫巧, 所以是一道中规中矩的题.\n",
    "\n",
    "- the first pass: get `N`, therefore get `width` and `remainder`\n",
    "- the second pass: set `tail.next` to `None`"
   ]
  },
  {
   "cell_type": "code",
   "execution_count": 1,
   "metadata": {},
   "outputs": [],
   "source": [
    "# Definition for singly-linked list.\n",
    "class ListNode:\n",
    "    def __init__(self, x):\n",
    "        self.val = x\n",
    "        self.next = None\n",
    "\n",
    "class Solution:\n",
    "    def splitListToParts(self, root: ListNode, k: int):\n",
    "        cur = root\n",
    "        for N in range(1001):\n",
    "            if not cur: break\n",
    "            cur = cur.next\n",
    "        width, remainder = divmod(N, k)\n",
    "\n",
    "        ans = []\n",
    "        cur = root\n",
    "        for i in range(k):\n",
    "            head = cur\n",
    "            for j in range(width + (i < remainder) - 1):\n",
    "                if cur: cur = cur.next\n",
    "            if cur:\n",
    "                cur.next, cur = None, cur.next\n",
    "            ans.append(head)\n",
    "        return ans"
   ]
  },
  {
   "cell_type": "code",
   "execution_count": null,
   "metadata": {},
   "outputs": [],
   "source": []
  }
 ],
 "metadata": {
  "kernelspec": {
   "display_name": "Python 3",
   "language": "python",
   "name": "python3"
  },
  "language_info": {
   "codemirror_mode": {
    "name": "ipython",
    "version": 3
   },
   "file_extension": ".py",
   "mimetype": "text/x-python",
   "name": "python",
   "nbconvert_exporter": "python",
   "pygments_lexer": "ipython3",
   "version": "3.6.7"
  }
 },
 "nbformat": 4,
 "nbformat_minor": 2
}
