{
 "cells": [
  {
   "cell_type": "markdown",
   "metadata": {},
   "source": [
    "[437. Path Sum III](https://leetcode.com/problems/path-sum-iii/)"
   ]
  },
  {
   "cell_type": "markdown",
   "metadata": {},
   "source": [
    "一般的top-down, 加了个标志位, TLE了"
   ]
  },
  {
   "cell_type": "code",
   "execution_count": 6,
   "metadata": {},
   "outputs": [],
   "source": [
    "# Definition for a binary tree node.\n",
    "class TreeNode:\n",
    "    def __init__(self, x):\n",
    "        self.val = x\n",
    "        self.left = None\n",
    "        self.right = None\n",
    "\n",
    "class Solution:\n",
    "    def pathSum(self, root: TreeNode, sum_: int) -> int:\n",
    "        \n",
    "        def solve(node, needed, in_path):\n",
    "            if node:\n",
    "                if node.val == needed:\n",
    "                    yield 1\n",
    "                yield from solve(node.left, needed - node.val, True)\n",
    "                yield from solve(node.right, needed - node.val, True)\n",
    "                if not in_path:\n",
    "                    yield from solve(node.left, needed, False)\n",
    "                    yield from solve(node.right, needed, False)\n",
    "        \n",
    "        return sum(solve(root, sum_, False))"
   ]
  },
  {
   "cell_type": "markdown",
   "metadata": {},
   "source": [
    "top-down换成两个函数, 1040ms勉强通过, 最优依然是prefix sum, 之后学习下"
   ]
  },
  {
   "cell_type": "code",
   "execution_count": 10,
   "metadata": {},
   "outputs": [],
   "source": [
    "# Definition for a binary tree node.\n",
    "class TreeNode:\n",
    "    def __init__(self, x):\n",
    "        self.val = x\n",
    "        self.left = None\n",
    "        self.right = None\n",
    "\n",
    "class Solution:\n",
    "    def pathSum(self, root: TreeNode, sum_: int) -> int:\n",
    "        \n",
    "        def begin_from_root(node, needed):\n",
    "            if node:\n",
    "                return begin_from_root(node.left, needed) + begin_from_root(node.right, needed) + not_from_root(node, needed)\n",
    "            else:\n",
    "                return 0\n",
    "            \n",
    "        \n",
    "        def not_from_root(node, needed):\n",
    "            if node:\n",
    "                return int(node.val == needed) + not_from_root(node.left, needed - node.val) + not_from_root(node.right, needed - node.val)\n",
    "            else:\n",
    "                return 0\n",
    "        \n",
    "        return begin_from_root(root, sum_)"
   ]
  },
  {
   "cell_type": "code",
   "execution_count": 11,
   "metadata": {},
   "outputs": [
    {
     "data": {
      "text/plain": [
       "3"
      ]
     },
     "execution_count": 11,
     "metadata": {},
     "output_type": "execute_result"
    }
   ],
   "source": [
    "p = TreeNode(10)\n",
    "p.left = TreeNode(5); p.right = TreeNode(-3)\n",
    "p.left.left = TreeNode(3); p.left.right = TreeNode(2); p.right.right = TreeNode(11)\n",
    "p.left.left.left = TreeNode(3)\n",
    "p.left.left.right = TreeNode(-2)\n",
    "p.left.right.right = TreeNode(1)\n",
    "\n",
    "Solution().pathSum(p, 8)"
   ]
  },
  {
   "cell_type": "code",
   "execution_count": null,
   "metadata": {},
   "outputs": [],
   "source": []
  }
 ],
 "metadata": {
  "kernelspec": {
   "display_name": "Python 3",
   "language": "python",
   "name": "python3"
  },
  "language_info": {
   "codemirror_mode": {
    "name": "ipython",
    "version": 3
   },
   "file_extension": ".py",
   "mimetype": "text/x-python",
   "name": "python",
   "nbconvert_exporter": "python",
   "pygments_lexer": "ipython3",
   "version": "3.6.7"
  }
 },
 "nbformat": 4,
 "nbformat_minor": 2
}
