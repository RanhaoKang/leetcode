{
 "cells": [
  {
   "cell_type": "markdown",
   "metadata": {},
   "source": [
    "[593. Valid Square](https://leetcode.com/problems/valid-square/)"
   ]
  },
  {
   "cell_type": "code",
   "execution_count": 13,
   "metadata": {},
   "outputs": [],
   "source": [
    "class Solution:\n",
    "    def validSquare(self, p1, p2, p3, p4):\n",
    "        def D(args):\n",
    "            P, Q = args\n",
    "            return (P[0] - Q[0]) ** 2 + (P[1] - Q[1]) ** 2\n",
    "        S = set(map(D, itertools.combinations((p1, p2, p3, p4), 2)))\n",
    "        return len(S) == 2 and 0 not in S"
   ]
  },
  {
   "cell_type": "code",
   "execution_count": 14,
   "metadata": {},
   "outputs": [
    {
     "data": {
      "text/plain": [
       "True"
      ]
     },
     "execution_count": 14,
     "metadata": {},
     "output_type": "execute_result"
    }
   ],
   "source": [
    "Solution().validSquare([0,0],[1,0],[1,1],[0,1])"
   ]
  },
  {
   "cell_type": "code",
   "execution_count": null,
   "metadata": {},
   "outputs": [],
   "source": []
  }
 ],
 "metadata": {
  "kernelspec": {
   "display_name": "Python 3",
   "language": "python",
   "name": "python3"
  },
  "language_info": {
   "codemirror_mode": {
    "name": "ipython",
    "version": 3
   },
   "file_extension": ".py",
   "mimetype": "text/x-python",
   "name": "python",
   "nbconvert_exporter": "python",
   "pygments_lexer": "ipython3",
   "version": "3.8.1"
  }
 },
 "nbformat": 4,
 "nbformat_minor": 4
}
