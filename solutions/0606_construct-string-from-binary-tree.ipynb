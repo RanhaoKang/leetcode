{
 "cells": [
  {
   "cell_type": "markdown",
   "metadata": {},
   "source": [
    "[606. Construct String from Binary Tree](https://leetcode.com/problems/construct-string-from-binary-tree/)"
   ]
  },
  {
   "cell_type": "code",
   "execution_count": 1,
   "metadata": {},
   "outputs": [],
   "source": [
    "# Definition for a binary tree node.\n",
    "class TreeNode:\n",
    "    def __init__(self, x):\n",
    "        self.val = x\n",
    "        self.left = None\n",
    "        self.right = None"
   ]
  },
  {
   "cell_type": "code",
   "execution_count": 8,
   "metadata": {},
   "outputs": [],
   "source": [
    "class Solution:\n",
    "    def tree2str(self, t: TreeNode) -> str:\n",
    "        def solve(node):\n",
    "            if node:\n",
    "                left = solve(node.left)\n",
    "                right = solve(node.right)\n",
    "                \n",
    "                if left and right:\n",
    "                    return f'{node.val}({left})({right})'\n",
    "                elif left:\n",
    "                    return f'{node.val}({left})'\n",
    "                elif right:\n",
    "                    return f'{node.val}()({right})'\n",
    "                else:\n",
    "                    return f'{node.val}'\n",
    "            else:\n",
    "                return ''\n",
    "        \n",
    "        return solve(t)"
   ]
  },
  {
   "cell_type": "code",
   "execution_count": 9,
   "metadata": {},
   "outputs": [
    {
     "data": {
      "text/plain": [
       "'1(2(4))(3)'"
      ]
     },
     "execution_count": 9,
     "metadata": {},
     "output_type": "execute_result"
    }
   ],
   "source": [
    "t = TreeNode(1)\n",
    "t.left = TreeNode(2)\n",
    "t.right = TreeNode(3)\n",
    "t.left.left = TreeNode(4)\n",
    "\n",
    "Solution().tree2str(t)"
   ]
  },
  {
   "cell_type": "code",
   "execution_count": null,
   "metadata": {},
   "outputs": [],
   "source": []
  }
 ],
 "metadata": {
  "kernelspec": {
   "display_name": "Python 3",
   "language": "python",
   "name": "python3"
  },
  "language_info": {
   "codemirror_mode": {
    "name": "ipython",
    "version": 3
   },
   "file_extension": ".py",
   "mimetype": "text/x-python",
   "name": "python",
   "nbconvert_exporter": "python",
   "pygments_lexer": "ipython3",
   "version": "3.6.7"
  }
 },
 "nbformat": 4,
 "nbformat_minor": 2
}
