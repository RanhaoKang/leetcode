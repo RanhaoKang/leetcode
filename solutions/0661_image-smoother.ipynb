{
 "cells": [
  {
   "cell_type": "markdown",
   "metadata": {},
   "source": [
    "[661. Image Smoother](https://leetcode.com/problems/image-smoother/)"
   ]
  },
  {
   "cell_type": "code",
   "execution_count": 23,
   "metadata": {},
   "outputs": [],
   "source": [
    "class Solution:\n",
    "    def imageSmoother(self, M):\n",
    "        h, w = len(M), len(M and M[0])\n",
    "        \n",
    "        def sum(i, j):\n",
    "            res = cnt = 0\n",
    "            \n",
    "            for I in (i-1, i, i+1):\n",
    "                for J in (j-1, j, j+1):\n",
    "                    if 0 <= I < h and 0 <= J < w:\n",
    "                        res += M[I][J]\n",
    "                        cnt += 1\n",
    "                        \n",
    "            return res // cnt\n",
    "        \n",
    "        res = [[0] * w for _ in range(h)]\n",
    "        \n",
    "        # 求和\n",
    "        for i in range(h):\n",
    "            for j in range(w):\n",
    "                res[i][j] = sum(i, j)\n",
    "        \n",
    "        return res"
   ]
  },
  {
   "cell_type": "code",
   "execution_count": 24,
   "metadata": {},
   "outputs": [
    {
     "data": {
      "text/plain": [
       "[[0, 0, 0], [0, 0, 0], [0, 0, 0]]"
      ]
     },
     "execution_count": 24,
     "metadata": {},
     "output_type": "execute_result"
    }
   ],
   "source": [
    "Solution().imageSmoother([[1,1,1],[1,0,1],[1,1,1]])"
   ]
  },
  {
   "cell_type": "code",
   "execution_count": 5,
   "metadata": {},
   "outputs": [],
   "source": [
    "b = (0 > 0 and a[-1]) + 2"
   ]
  },
  {
   "cell_type": "code",
   "execution_count": 6,
   "metadata": {},
   "outputs": [
    {
     "data": {
      "text/plain": [
       "2"
      ]
     },
     "execution_count": 6,
     "metadata": {},
     "output_type": "execute_result"
    }
   ],
   "source": [
    "b"
   ]
  },
  {
   "cell_type": "code",
   "execution_count": null,
   "metadata": {},
   "outputs": [],
   "source": []
  }
 ],
 "metadata": {
  "kernelspec": {
   "display_name": "Python 3",
   "language": "python",
   "name": "python3"
  },
  "language_info": {
   "codemirror_mode": {
    "name": "ipython",
    "version": 3
   },
   "file_extension": ".py",
   "mimetype": "text/x-python",
   "name": "python",
   "nbconvert_exporter": "python",
   "pygments_lexer": "ipython3",
   "version": "3.6.7"
  }
 },
 "nbformat": 4,
 "nbformat_minor": 2
}
