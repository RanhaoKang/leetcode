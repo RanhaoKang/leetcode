{
 "cells": [
  {
   "cell_type": "markdown",
   "metadata": {},
   "source": [
    "[949. Largest Time for Given Digits](https://leetcode.com/problems/largest-time-for-given-digits/)"
   ]
  },
  {
   "cell_type": "code",
   "execution_count": 1,
   "metadata": {},
   "outputs": [],
   "source": [
    "import itertools\n",
    "\n",
    "class Solution:\n",
    "    def largestTimeFromDigits(self, A) -> str:\n",
    "        ans = -1\n",
    "        for h1, h2, m1, m2 in itertools.permutations(A):\n",
    "            hours = 10 * h1 + h2\n",
    "            mins = 10 * m1 + m2\n",
    "            time = 60 * hours + mins\n",
    "            if 0 <= hours < 24 and 0 <= mins < 60 and time > ans:\n",
    "                ans = time\n",
    "\n",
    "        return \"{:02}:{:02}\".format(*divmod(ans, 60)) if ans >= 0 else \"\""
   ]
  },
  {
   "cell_type": "code",
   "execution_count": null,
   "metadata": {},
   "outputs": [],
   "source": []
  }
 ],
 "metadata": {
  "kernelspec": {
   "display_name": "Python 3",
   "language": "python",
   "name": "python3"
  },
  "language_info": {
   "codemirror_mode": {
    "name": "ipython",
    "version": 3
   },
   "file_extension": ".py",
   "mimetype": "text/x-python",
   "name": "python",
   "nbconvert_exporter": "python",
   "pygments_lexer": "ipython3",
   "version": "3.6.7"
  }
 },
 "nbformat": 4,
 "nbformat_minor": 2
}
