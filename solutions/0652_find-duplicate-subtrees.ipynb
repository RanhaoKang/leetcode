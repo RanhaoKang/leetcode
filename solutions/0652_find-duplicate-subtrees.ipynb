{
 "cells": [
  {
   "cell_type": "markdown",
   "metadata": {},
   "source": [
    "[652. Find Duplicate Subtrees](https://leetcode.com/problems/find-duplicate-subtrees/)"
   ]
  },
  {
   "cell_type": "code",
   "execution_count": 1,
   "metadata": {},
   "outputs": [],
   "source": [
    "# Definition for a binary tree node.\n",
    "class TreeNode:\n",
    "    def __init__(self, x):\n",
    "        self.val = x\n",
    "        self.left = None\n",
    "        self.right = None\n",
    "\n",
    "class Solution:\n",
    "    def findDuplicateSubtrees(self, root):\n",
    "        def is_same(p, q):\n",
    "            if p and q:\n",
    "                return p.val == q.val and is_same(p.left, q.left) and is_same(p.right, q.right)\n",
    "            elif p is None and q is None:\n",
    "                return True\n",
    "            else:\n",
    "                return False\n",
    "        \n",
    "        from collections import defaultdict\n",
    "        val_to_nodes = defaultdict(list)\n",
    "        res = []\n",
    "        \n",
    "        \n",
    "        "
   ]
  },
  {
   "cell_type": "code",
   "execution_count": null,
   "metadata": {},
   "outputs": [],
   "source": []
  }
 ],
 "metadata": {
  "kernelspec": {
   "display_name": "Python 3",
   "language": "python",
   "name": "python3"
  },
  "language_info": {
   "codemirror_mode": {
    "name": "ipython",
    "version": 3
   },
   "file_extension": ".py",
   "mimetype": "text/x-python",
   "name": "python",
   "nbconvert_exporter": "python",
   "pygments_lexer": "ipython3",
   "version": "3.6.7"
  }
 },
 "nbformat": 4,
 "nbformat_minor": 2
}
