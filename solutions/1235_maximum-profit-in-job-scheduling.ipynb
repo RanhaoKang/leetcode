{
 "cells": [
  {
   "cell_type": "markdown",
   "metadata": {},
   "source": [
    "[1235. Maximum Profit in Job Scheduling](https://leetcode.com/problems/maximum-profit-in-job-scheduling/)"
   ]
  },
  {
   "cell_type": "markdown",
   "metadata": {},
   "source": [
    "`endTime`是离散的，所以用`dict`来做的DP。没用`bisect`结果超时了"
   ]
  },
  {
   "cell_type": "code",
   "execution_count": 17,
   "metadata": {},
   "outputs": [],
   "source": [
    "class Solution:\n",
    "    def jobScheduling(self, startTime, endTime, profit) -> int:\n",
    "        from collections import defaultdict\n",
    "        job = sorted(zip(startTime, endTime, profit))\n",
    "        \n",
    "        end_at = defaultdict(int)\n",
    "        for s, e, p in job:\n",
    "            t = max((k for k in end_at if k <= s), default = 0, key = lambda k: end_at[k])\n",
    "            end_at[e] = max(end_at[e], end_at[t] + p)\n",
    "        print(end_at)\n",
    "        \n",
    "        return max(end_at.values())"
   ]
  },
  {
   "cell_type": "code",
   "execution_count": 18,
   "metadata": {},
   "outputs": [
    {
     "name": "stdout",
     "output_type": "stream",
     "text": [
      "defaultdict(<class 'int'>, {3: 50, 0: 0, 4: 10, 5: 90, 6: 120})\n"
     ]
    },
    {
     "data": {
      "text/plain": [
       "120"
      ]
     },
     "execution_count": 18,
     "metadata": {},
     "output_type": "execute_result"
    }
   ],
   "source": [
    "Solution().jobScheduling(startTime = [1,2,3,3], endTime = [3,4,5,6], profit = [50,10,40,70])"
   ]
  },
  {
   "cell_type": "markdown",
   "metadata": {},
   "source": [
    "改了之后照旧，如果纯`bisect`不能确保`(e, profit)`的`profit`最大，用`max`就会TLE"
   ]
  },
  {
   "cell_type": "code",
   "execution_count": 69,
   "metadata": {},
   "outputs": [],
   "source": [
    "class Solution:\n",
    "    def jobScheduling(self, startTime, endTime, profit) -> int:\n",
    "        from math import inf\n",
    "        from bisect import bisect, insort\n",
    "        \n",
    "        job = sorted(zip(startTime, endTime, profit))\n",
    "        dp = [(0, 0)]\n",
    "        for s, e, p in job:\n",
    "            i = bisect(dp, (s, inf))\n",
    "            new = max((j[1] for j in dp[: i]), default = 0) + p\n",
    "            insort(dp, (e, new))\n",
    "            print(s, e, p, dp)\n",
    "        # print(end_at)\n",
    "        \n",
    "        return max(i[1] for i in dp)"
   ]
  },
  {
   "cell_type": "code",
   "execution_count": 67,
   "metadata": {},
   "outputs": [
    {
     "name": "stdout",
     "output_type": "stream",
     "text": [
      "1 3 50 [(0, 0), (3, 50)]\n",
      "2 4 10 [(0, 0), (3, 50), (4, 10)]\n",
      "3 5 40 [(0, 0), (3, 50), (4, 10), (5, 90)]\n",
      "3 6 70 [(0, 0), (3, 50), (4, 10), (5, 90), (6, 120)]\n"
     ]
    },
    {
     "data": {
      "text/plain": [
       "120"
      ]
     },
     "execution_count": 67,
     "metadata": {},
     "output_type": "execute_result"
    }
   ],
   "source": [
    "Solution().jobScheduling(startTime = [1,2,3,3], endTime = [3,4,5,6], profit = [50,10,40,70])"
   ]
  },
  {
   "cell_type": "code",
   "execution_count": 68,
   "metadata": {},
   "outputs": [
    {
     "name": "stdout",
     "output_type": "stream",
     "text": [
      "2 5 2 [(0, 0), (5, 2)]\n",
      "2 8 4 [(0, 0), (5, 2), (8, 4)]\n",
      "4 5 1 [(0, 0), (5, 1), (5, 2), (8, 4)]\n",
      "4 5 8 [(0, 0), (5, 1), (5, 2), (5, 8), (8, 4)]\n",
      "8 10 10 [(0, 0), (5, 1), (5, 2), (5, 8), (8, 4), (10, 18)]\n"
     ]
    },
    {
     "data": {
      "text/plain": [
       "18"
      ]
     },
     "execution_count": 68,
     "metadata": {},
     "output_type": "execute_result"
    }
   ],
   "source": [
    "Solution().jobScheduling(\n",
    "[4,2,4,8,2],\n",
    "[5,5,5,10,8],\n",
    "[1,2,8,10,4])"
   ]
  },
  {
   "cell_type": "markdown",
   "metadata": {},
   "source": [
    "向lee学习\n",
    "- 不需要`inf`参与构建元素，只需要用`s + 1`搜索即可\n",
    "- 还是像大部分interval题型用`endTime`来排序, 可以贪心地少存一些东西\n",
    "    按`startTime`处理，我们不能简单的只对`dp[-1]`做比较\n",
    "- 因为可以贪心地少存东西，就可以直接`append`而不用`insort`了"
   ]
  },
  {
   "cell_type": "code",
   "execution_count": 70,
   "metadata": {},
   "outputs": [],
   "source": [
    "class Solution:\n",
    "    def jobScheduling(self, startTime, endTime, profit) -> int:\n",
    "        from bisect import bisect\n",
    "        \n",
    "        job = sorted(zip(startTime, endTime, profit), key = lambda x: x[1])\n",
    "        dp = [(0, 0)]\n",
    "        for s, e, p in job:\n",
    "            i = bisect(dp, (s + 1, )) - 1\n",
    "            new_p = dp[i][1] + p\n",
    "            if new_p > dp[-1][1]:\n",
    "                dp.append((e, new_p))\n",
    "        \n",
    "        return max(dp[-1][1])"
   ]
  },
  {
   "cell_type": "code",
   "execution_count": null,
   "metadata": {},
   "outputs": [],
   "source": []
  }
 ],
 "metadata": {
  "kernelspec": {
   "display_name": "Python 3",
   "language": "python",
   "name": "python3"
  },
  "language_info": {
   "codemirror_mode": {
    "name": "ipython",
    "version": 3
   },
   "file_extension": ".py",
   "mimetype": "text/x-python",
   "name": "python",
   "nbconvert_exporter": "python",
   "pygments_lexer": "ipython3",
   "version": "3.8.1"
  }
 },
 "nbformat": 4,
 "nbformat_minor": 4
}
