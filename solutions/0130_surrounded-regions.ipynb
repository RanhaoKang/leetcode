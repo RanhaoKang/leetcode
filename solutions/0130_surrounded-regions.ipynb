{
 "cells": [
  {
   "cell_type": "markdown",
   "metadata": {},
   "source": [
    "[130. Surrounded Regions](https://leetcode.com/problems/surrounded-regions/)"
   ]
  },
  {
   "cell_type": "markdown",
   "metadata": {},
   "source": [
    "从边缘向里推"
   ]
  },
  {
   "cell_type": "code",
   "execution_count": 1,
   "metadata": {},
   "outputs": [],
   "source": [
    "class Solution:\n",
    "    def solve(self, board):\n",
    "        if not any(board): return\n",
    "\n",
    "        m, n = len(board), len(board[0])\n",
    "        save = [ij for k in range(m+n) for ij in ((0, k), (m-1, k), (k, 0), (k, n-1))]\n",
    "        while save:\n",
    "            i, j = save.pop()\n",
    "            if 0 <= i < m and 0 <= j < n and board[i][j] == 'O':\n",
    "                board[i][j] = 'S'\n",
    "                save += (i, j-1), (i, j+1), (i-1, j), (i+1, j)\n",
    "\n",
    "        board[:] = [['XO'[c == 'S'] for c in row] for row in board]"
   ]
  },
  {
   "cell_type": "code",
   "execution_count": null,
   "metadata": {},
   "outputs": [],
   "source": []
  }
 ],
 "metadata": {
  "kernelspec": {
   "display_name": "Python 3",
   "language": "python",
   "name": "python3"
  },
  "language_info": {
   "codemirror_mode": {
    "name": "ipython",
    "version": 3
   },
   "file_extension": ".py",
   "mimetype": "text/x-python",
   "name": "python",
   "nbconvert_exporter": "python",
   "pygments_lexer": "ipython3",
   "version": "3.6.7"
  }
 },
 "nbformat": 4,
 "nbformat_minor": 2
}
