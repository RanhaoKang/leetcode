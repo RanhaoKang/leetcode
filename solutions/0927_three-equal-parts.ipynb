{
 "cells": [
  {
   "cell_type": "markdown",
   "metadata": {},
   "source": [
    "[927. Three Equal Parts](https://leetcode.com/problems/three-equal-parts/)"
   ]
  },
  {
   "cell_type": "code",
   "execution_count": 1,
   "metadata": {},
   "outputs": [],
   "source": [
    "class Solution:\n",
    "    def threeEqualParts(self, A):\n",
    "        N = len(A)\n",
    "        if N < 3:\n",
    "            return [-1, -1]\n",
    "        \n",
    "        num_ones = sum(A)\n",
    "\n",
    "        if num_ones % 3 != 0:\n",
    "            return [-1, -1]\n",
    "        \n",
    "        if num_ones == 0:\n",
    "            return [0, 2]\n",
    "        \n",
    "        need_ones = num_ones // 3\n",
    "        str_input_reverse = ''.join(map(str, reversed(A)))\n",
    "        count_1 = 0\n",
    "        i = 0\n",
    "        while count_1 != need_ones:\n",
    "            if str_input_reverse[i] == '1':\n",
    "                count_1 += 1\n",
    "            i += 1\n",
    "            \n",
    "        second = str_input_reverse.find(str_input_reverse[:i], i)\n",
    "        if(second == -1):\n",
    "            return [-1, -1]\n",
    "        third = str_input_reverse.find(str_input_reverse[:i], second + i)\n",
    "        if(third == -1):\n",
    "            return [-1, -1]\n",
    "        return [N - 1 - third, N - second]"
   ]
  },
  {
   "cell_type": "code",
   "execution_count": null,
   "metadata": {},
   "outputs": [],
   "source": []
  }
 ],
 "metadata": {
  "kernelspec": {
   "display_name": "Python 3",
   "language": "python",
   "name": "python3"
  },
  "language_info": {
   "codemirror_mode": {
    "name": "ipython",
    "version": 3
   },
   "file_extension": ".py",
   "mimetype": "text/x-python",
   "name": "python",
   "nbconvert_exporter": "python",
   "pygments_lexer": "ipython3",
   "version": "3.8.1"
  }
 },
 "nbformat": 4,
 "nbformat_minor": 4
}
