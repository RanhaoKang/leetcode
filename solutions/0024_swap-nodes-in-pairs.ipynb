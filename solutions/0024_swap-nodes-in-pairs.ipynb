{
 "cells": [
  {
   "cell_type": "markdown",
   "metadata": {},
   "source": [
    "[24. Swap Nodes in Pairs](https://leetcode.com/problems/swap-nodes-in-pairs/)"
   ]
  },
  {
   "cell_type": "code",
   "execution_count": 24,
   "metadata": {},
   "outputs": [],
   "source": [
    "# Definition for singly-linked list.\n",
    "class ListNode:\n",
    "    def __init__(self, x):\n",
    "        self.val = x\n",
    "        self.next = None\n",
    "\n",
    "class Solution:\n",
    "    def swapPairs(self, head: ListNode) -> ListNode:\n",
    "        dummy = ListNode(None)\n",
    "        dummy.next = head\n",
    "        \n",
    "        i = dummy\n",
    "        j = k = head\n",
    "        swap = False\n",
    "        \n",
    "        while k:\n",
    "            # print(i.val, j.val, k.val)\n",
    "            next_ = k.next\n",
    "            if swap:\n",
    "                i.next = k\n",
    "                i, k.next, j.next = j, j, k.next\n",
    "            swap ^= True\n",
    "            \n",
    "            j, k = k, next_\n",
    "        \n",
    "        return dummy.next"
   ]
  },
  {
   "cell_type": "code",
   "execution_count": 25,
   "metadata": {},
   "outputs": [
    {
     "name": "stdout",
     "output_type": "stream",
     "text": [
      "None 1 1\n",
      "None 1 2\n",
      "1 2 3\n",
      "1 3 4\n"
     ]
    }
   ],
   "source": [
    "p = ListNode(1)\n",
    "p.next = ListNode(2)\n",
    "p.next.next = ListNode(3)\n",
    "p.next.next.next = ListNode(4)\n",
    "q = Solution().swapPairs(p)"
   ]
  },
  {
   "cell_type": "code",
   "execution_count": 26,
   "metadata": {},
   "outputs": [
    {
     "name": "stdout",
     "output_type": "stream",
     "text": [
      "2\n",
      "1\n",
      "4\n",
      "3\n"
     ]
    }
   ],
   "source": [
    "while q:\n",
    "    print(q.val)\n",
    "    q = q.next"
   ]
  },
  {
   "cell_type": "code",
   "execution_count": null,
   "metadata": {},
   "outputs": [],
   "source": []
  }
 ],
 "metadata": {
  "kernelspec": {
   "display_name": "Python 3",
   "language": "python",
   "name": "python3"
  },
  "language_info": {
   "codemirror_mode": {
    "name": "ipython",
    "version": 3
   },
   "file_extension": ".py",
   "mimetype": "text/x-python",
   "name": "python",
   "nbconvert_exporter": "python",
   "pygments_lexer": "ipython3",
   "version": "3.6.7"
  }
 },
 "nbformat": 4,
 "nbformat_minor": 2
}
