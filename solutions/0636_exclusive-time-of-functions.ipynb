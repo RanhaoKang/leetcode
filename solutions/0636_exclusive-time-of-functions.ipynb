{
 "cells": [
  {
   "cell_type": "markdown",
   "metadata": {},
   "source": [
    "[636. Exclusive Time of Functions](https://leetcode.com/problems/exclusive-time-of-functions/)"
   ]
  },
  {
   "cell_type": "code",
   "execution_count": 21,
   "metadata": {},
   "outputs": [],
   "source": [
    "class Solution:\n",
    "    def exclusiveTime(self, n: int, logs):\n",
    "        from collections import defaultdict\n",
    "        res, stack = [0] * (n + 1), [[n, 0]]\n",
    "        for log in logs:\n",
    "            id, type, ts = log.split(':')\n",
    "            id, ts = int(id), int(ts)\n",
    "            \n",
    "            if type == 'start':\n",
    "                res[stack[-1][0]] += ts - stack[-1][1]\n",
    "                stack.append([id, ts])\n",
    "            else:\n",
    "                res[stack[-1][0]] += ts - stack[-1][1] + 1\n",
    "                stack.pop()\n",
    "                stack[-1][1] = ts + 1\n",
    "        \n",
    "        return res[:-1]"
   ]
  },
  {
   "cell_type": "code",
   "execution_count": 22,
   "metadata": {},
   "outputs": [
    {
     "data": {
      "text/plain": [
       "[3, 4]"
      ]
     },
     "execution_count": 22,
     "metadata": {},
     "output_type": "execute_result"
    }
   ],
   "source": [
    "Solution().exclusiveTime(2, [\"0:start:0\",\"1:start:2\",\"1:end:5\",\"0:end:6\"])"
   ]
  },
  {
   "cell_type": "code",
   "execution_count": null,
   "metadata": {},
   "outputs": [],
   "source": []
  }
 ],
 "metadata": {
  "kernelspec": {
   "display_name": "Python 3",
   "language": "python",
   "name": "python3"
  },
  "language_info": {
   "codemirror_mode": {
    "name": "ipython",
    "version": 3
   },
   "file_extension": ".py",
   "mimetype": "text/x-python",
   "name": "python",
   "nbconvert_exporter": "python",
   "pygments_lexer": "ipython3",
   "version": "3.8.0b3"
  }
 },
 "nbformat": 4,
 "nbformat_minor": 2
}
