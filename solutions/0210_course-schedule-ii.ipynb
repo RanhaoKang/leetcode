{
 "cells": [
  {
   "cell_type": "markdown",
   "metadata": {},
   "source": [
    "[210. Course Schedule II](https://leetcode.com/problems/course-schedule-ii/)"
   ]
  },
  {
   "cell_type": "code",
   "execution_count": 7,
   "metadata": {},
   "outputs": [],
   "source": [
    "class Solution:\n",
    "    def findOrder(self, numCourses: int, prerequisites):\n",
    "        from collections import deque\n",
    "        q = deque()\n",
    "        \n",
    "        res = []\n",
    "        \n",
    "        from collections import defaultdict\n",
    "        g = defaultdict(set)\n",
    "        in_ = [0] * numCourses\n",
    "        for i, j in prerequisites:\n",
    "            in_[i] += 1\n",
    "            g[j].add(i)\n",
    "        \n",
    "        for i in range(numCourses):\n",
    "            if in_[i] == 0:\n",
    "                q.appendleft(i)\n",
    "                res.append(i)\n",
    "        \n",
    "        while q:\n",
    "            i = q.pop()\n",
    "            \n",
    "            for j in g[i]:\n",
    "                in_[j] -= 1\n",
    "                if in_[j] == 0:\n",
    "                    q.appendleft(j)\n",
    "                    res.append(j)\n",
    "       \n",
    "        return res if len(res) == numCourses else []"
   ]
  },
  {
   "cell_type": "code",
   "execution_count": 8,
   "metadata": {},
   "outputs": [
    {
     "data": {
      "text/plain": [
       "[0, 1, 2, 3]"
      ]
     },
     "execution_count": 8,
     "metadata": {},
     "output_type": "execute_result"
    }
   ],
   "source": [
    "Solution().findOrder(4, [[1,0],[2,0],[3,1],[3,2]])"
   ]
  },
  {
   "cell_type": "code",
   "execution_count": null,
   "metadata": {},
   "outputs": [],
   "source": []
  }
 ],
 "metadata": {
  "kernelspec": {
   "display_name": "Python 3",
   "language": "python",
   "name": "python3"
  },
  "language_info": {
   "codemirror_mode": {
    "name": "ipython",
    "version": 3
   },
   "file_extension": ".py",
   "mimetype": "text/x-python",
   "name": "python",
   "nbconvert_exporter": "python",
   "pygments_lexer": "ipython3",
   "version": "3.6.7"
  }
 },
 "nbformat": 4,
 "nbformat_minor": 2
}
