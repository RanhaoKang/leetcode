{
 "cells": [
  {
   "cell_type": "markdown",
   "metadata": {},
   "source": [
    "[836. Rectangle Overlap](https://leetcode.com/problems/rectangle-overlap/)"
   ]
  },
  {
   "cell_type": "code",
   "execution_count": 3,
   "metadata": {},
   "outputs": [],
   "source": [
    "class Solution:\n",
    "    def isRectangleOverlap(self, rec1, rec2) -> bool:\n",
    "        xa1, ya1, xa2, ya2 = rec1\n",
    "        xb1, yb1, xb2, yb2 = rec2\n",
    "\n",
    "        return not (xa2 <= xb1 or\n",
    "                    ya2 <= yb1 or\n",
    "                    xa1 >= xb2 or\n",
    "                    ya1 >= yb2)"
   ]
  },
  {
   "cell_type": "code",
   "execution_count": null,
   "metadata": {},
   "outputs": [],
   "source": []
  }
 ],
 "metadata": {
  "kernelspec": {
   "display_name": "Python 3",
   "language": "python",
   "name": "python3"
  },
  "language_info": {
   "codemirror_mode": {
    "name": "ipython",
    "version": 3
   },
   "file_extension": ".py",
   "mimetype": "text/x-python",
   "name": "python",
   "nbconvert_exporter": "python",
   "pygments_lexer": "ipython3",
   "version": "3.6.7"
  }
 },
 "nbformat": 4,
 "nbformat_minor": 2
}
