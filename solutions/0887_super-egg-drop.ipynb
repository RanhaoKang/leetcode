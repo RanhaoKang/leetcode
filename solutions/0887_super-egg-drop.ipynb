{
 "cells": [
  {
   "cell_type": "markdown",
   "metadata": {},
   "source": [
    "[887. Super Egg Drop](https://leetcode.com/problems/super-egg-drop/)"
   ]
  },
  {
   "cell_type": "markdown",
   "metadata": {},
   "source": [
    "He has turned the problem around from\n",
    "\"How many moves do you need to check N floors if you have K eggs\"\n",
    "to:\n",
    "\"How many floors can you check given M moves available and K eggs\".\n",
    "\n",
    "If you can solve this second problem than you can just increase the moves M one by one until you are able to check a number of floors larger or equal to the number N which the problem requires.\n",
    "He then defined\n",
    "dp[M][K] as the maximum number of floors that you can check within M moves given K eggs\n",
    "\n",
    "A move essentially is dropping an egg and it either breaks or doesn't break.\n",
    "Case A: The egg breaks and now you have spent 1 move (M=M-1) and also lost 1 egg (K=K-1). You can still check dp[M-1][K-1] floors, with your remaining eggs and moves.\n",
    "Case B: The egg remains and you only loose one move (M=M-1). You can still check dp[M-1][K] floors.\n",
    "Additionally you just checked a floor by dropping the egg from it.\n",
    "Therefore dp[M][K] = dp[M - 1][k - 1] + dp[M - 1][K] + 1\n",
    "As you can see we can easily calculate how many floors we can check in M moves if we know how many floors we can check in M-1 moves.\n",
    "\n",
    "However we not only have to know how many floors we can can check with one move less, but also how many we can check with one move and one egg less. Therefore we have to calculate how many moves we can check for all number off eggs from 1 to K.\n",
    "\n",
    "An example:\n",
    "N = 6 and K = 2\n",
    "Turn the problem around: How many floors can you check with 2 eggs and M moves:\n",
    "\n",
    "Solve for M=1, K=1,2\n",
    "you can only check 1 floor (since afterwards you have no more moves left)\n",
    "\n",
    "Solve for M=2, K=1\n",
    "Case A: Your egg breaks, you have no more eggs left and can check nothing. dp[M=1,K=0]=0\n",
    "Case B: your egg survives and you can use it to test an additional floor above the floor you just tested. dp[M=1,K=1]=1\n",
    "dp[2][1]=dp[1][0]+dp[1][1]+1=0+1+1=2\n",
    "\n",
    "Solve for M=2, K=2\n",
    "Case A: Your egg breaks: you have 1 move left and 1 egg. Since you know that the floor F where the eggs break is below the floor you just tested you can now check dp[M=1,K=1] floors below you, with only 1 move left you check 1 additional floor below. dp[M=1,K=1]=1\n",
    "Case B: Your eggs survives and you start to search above the current floor. dp[1][2] is still only 1 move and we can check 1 floor. dp[1][2]\n",
    "dp[2][2]=1+1+1=3\n",
    "\n",
    "Solve for M=3, K=1\n",
    "Case A: Your egg breaks and you are out of eggs, no chance to check anything anymore\n",
    "Case B: Your egg survives and you can use it for 2 more moves dp[2][1], which as we established above is enough to check 2 floors.\n",
    "dp[3][1]=0+2+1=3\n",
    "\n",
    "Solve for M=3, K=2\n",
    "Case A: Your egg breaks and you check dp[2][1]=2 additional floors\n",
    "Case B: Your egg survives and you check dp[2][2]=3 additional floors\n",
    "dp[3][2]=2+3+1=6\n",
    "\n",
    "As you can see 3 moves and 2 eggs allows you to check 6 floors. Which answers the original question how many moves you need to check 6 floors given 2 eggs,\n",
    "The answer is 3\n",
    "\n",
    "I hope this helps to make it more clear."
   ]
  },
  {
   "cell_type": "markdown",
   "metadata": {},
   "source": [
    "`dp[m][k] = dp[m - 1][k - 1] + dp[m - 1][k] + 1`\n",
    "\n",
    "扔鸡蛋作为经典问题，不能用二分思想的关键在于如果没扔好，这个鸡蛋就碎了，如果`N`不够用，靠二分扔着扔着有可能最后一个鸡蛋碎了都没试出来`F`\n",
    "\n",
    "`dp[M][K]`means that, given `K` eggs and `M` moves,\n",
    "what is the maximum number of floor that we can check.\n",
    "\n",
    "\n",
    "`moves`是个虚的概念，定义时以最大可能的长度定义（我们通过逐层试验的方式可以试到 `N+1`次）。\n",
    "\n",
    "每一步我们扔出一个鸡蛋，\n",
    "- 如果碎了，我们检查`dp[m - 1][k - 1]`\n",
    "- 如果没碎，我们检查`dp[m - 1][k]`\n",
    "\n",
    "\n",
    "（这一段想的还不是很清楚，先不误导之后的自己了）"
   ]
  },
  {
   "cell_type": "code",
   "execution_count": 1,
   "metadata": {},
   "outputs": [],
   "source": [
    "class Solution:\n",
    "    def superEggDrop(self, K: int, N: int) -> int:\n",
    "        dp = [[0] * (K + 1) for i in range(N + 1)]\n",
    "        for m in range(1, N + 1):\n",
    "            for k in range(1, K + 1):\n",
    "                dp[m][k] = dp[m - 1][k - 1] + dp[m - 1][k] + 1\n",
    "            if dp[m][K] >= N: return m"
   ]
  },
  {
   "cell_type": "code",
   "execution_count": null,
   "metadata": {},
   "outputs": [],
   "source": []
  }
 ],
 "metadata": {
  "kernelspec": {
   "display_name": "Python 3",
   "language": "python",
   "name": "python3"
  },
  "language_info": {
   "codemirror_mode": {
    "name": "ipython",
    "version": 3
   },
   "file_extension": ".py",
   "mimetype": "text/x-python",
   "name": "python",
   "nbconvert_exporter": "python",
   "pygments_lexer": "ipython3",
   "version": "3.8.1"
  }
 },
 "nbformat": 4,
 "nbformat_minor": 4
}
