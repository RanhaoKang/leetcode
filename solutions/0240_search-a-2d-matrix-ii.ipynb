{
 "cells": [
  {
   "cell_type": "markdown",
   "metadata": {},
   "source": [
    "[240. Search a 2D Matrix II](https://leetcode.com/problems/search-a-2d-matrix-ii/)"
   ]
  },
  {
   "cell_type": "markdown",
   "metadata": {},
   "source": [
    "如果按照list的思维从左上角开始搜索, 判断之后不知道进一步应该向下搜索还是向右搜索.\n",
    "\n",
    "但是从右上角开始搜索的话, 如果比目标数小, 则整行都比目标数小; 如果比目标数大, 则整列都比目标数大."
   ]
  },
  {
   "cell_type": "code",
   "execution_count": 1,
   "metadata": {},
   "outputs": [],
   "source": [
    "class Solution:\n",
    "    def searchMatrix(self, matrix, target):\n",
    "        \"\"\"\n",
    "        :type matrix: List[List[int]]\n",
    "        :type target: int\n",
    "        :rtype: bool\n",
    "        \"\"\"\n",
    "        h, w = len(matrix), len(matrix and matrix[0])\n",
    "        i, j = 0, w - 1\n",
    "        \n",
    "        while i < h and j >= 0:\n",
    "            if target == matrix[i][j]:\n",
    "                return True\n",
    "            elif target < matrix[i][j]:\n",
    "                j -= 1\n",
    "            else:\n",
    "                i += 1\n",
    "        \n",
    "        return False"
   ]
  },
  {
   "cell_type": "code",
   "execution_count": null,
   "metadata": {},
   "outputs": [],
   "source": []
  }
 ],
 "metadata": {
  "kernelspec": {
   "display_name": "Python 3",
   "language": "python",
   "name": "python3"
  },
  "language_info": {
   "codemirror_mode": {
    "name": "ipython",
    "version": 3
   },
   "file_extension": ".py",
   "mimetype": "text/x-python",
   "name": "python",
   "nbconvert_exporter": "python",
   "pygments_lexer": "ipython3",
   "version": "3.6.7"
  }
 },
 "nbformat": 4,
 "nbformat_minor": 2
}
