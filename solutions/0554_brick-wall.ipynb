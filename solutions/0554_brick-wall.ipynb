{
 "cells": [
  {
   "cell_type": "markdown",
   "metadata": {},
   "source": [
    "[554. Brick Wall](https://leetcode.com/problems/brick-wall/)"
   ]
  },
  {
   "cell_type": "markdown",
   "metadata": {},
   "source": [
    "自己的答案，没法处理`wall = [[1], [1], [1]]`的情况"
   ]
  },
  {
   "cell_type": "code",
   "execution_count": 34,
   "metadata": {},
   "outputs": [],
   "source": [
    "class Solution:\n",
    "    def leastBricks(self, wall) -> int:\n",
    "        N = sum(wall[0])\n",
    "        res = [0] * (N - 1)\n",
    "        for i in range(len(wall)):\n",
    "            new = []\n",
    "            for brick in wall[i]:\n",
    "                new.extend([1] * (brick - 1) + [0])\n",
    "            \n",
    "            res = [r + n for r, n in zip(res, new[:-1])]\n",
    "        \n",
    "        return min(res, default = 0)"
   ]
  },
  {
   "cell_type": "code",
   "execution_count": 35,
   "metadata": {},
   "outputs": [
    {
     "data": {
      "text/plain": [
       "2"
      ]
     },
     "execution_count": 35,
     "metadata": {},
     "output_type": "execute_result"
    }
   ],
   "source": [
    "Solution().leastBricks([[1,2,2,1],\n",
    "        [3,1,2],\n",
    "        [1,3,2],\n",
    "        [2,4],\n",
    "        [3,1,2],\n",
    "        [1,3,1,1]])"
   ]
  },
  {
   "cell_type": "code",
   "execution_count": 36,
   "metadata": {},
   "outputs": [],
   "source": [
    "class Solution:\n",
    "    def leastBricks(self, wall):\n",
    "        \"\"\"\n",
    "        :type wall: List[List[int]]\n",
    "        :rtype: int\n",
    "        \"\"\"\n",
    "        import collections\n",
    "        d = collections.defaultdict(int)\n",
    "        for line in wall:\n",
    "            i = 0\n",
    "            for brick in line[:-1]:\n",
    "                i += brick\n",
    "                d[i] += 1\n",
    "        # print len(wall), d\n",
    "        return len(wall) - max(d.values(), default = 0)"
   ]
  },
  {
   "cell_type": "code",
   "execution_count": 37,
   "metadata": {},
   "outputs": [
    {
     "data": {
      "text/plain": [
       "2"
      ]
     },
     "execution_count": 37,
     "metadata": {},
     "output_type": "execute_result"
    }
   ],
   "source": [
    "Solution().leastBricks([[1,2,2,1],\n",
    "        [3,1,2],\n",
    "        [1,3,2],\n",
    "        [2,4],\n",
    "        [3,1,2],\n",
    "        [1,3,1,1]])"
   ]
  },
  {
   "cell_type": "code",
   "execution_count": null,
   "metadata": {},
   "outputs": [],
   "source": []
  }
 ],
 "metadata": {
  "kernelspec": {
   "display_name": "Python 3",
   "language": "python",
   "name": "python3"
  },
  "language_info": {
   "codemirror_mode": {
    "name": "ipython",
    "version": 3
   },
   "file_extension": ".py",
   "mimetype": "text/x-python",
   "name": "python",
   "nbconvert_exporter": "python",
   "pygments_lexer": "ipython3",
   "version": "3.8.1"
  }
 },
 "nbformat": 4,
 "nbformat_minor": 4
}
