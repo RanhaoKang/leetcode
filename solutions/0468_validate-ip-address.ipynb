{
 "cells": [
  {
   "cell_type": "markdown",
   "metadata": {},
   "source": [
    "[468. Validate IP Address](https://leetcode.com/problems/validate-ip-address/)"
   ]
  },
  {
   "cell_type": "code",
   "execution_count": null,
   "metadata": {},
   "outputs": [],
   "source": [
    "class Solution:\n",
    "    def validIPAddress(self, IP: str) -> str:\n",
    "        \n",
    "        def is_valid_ipv4():\n",
    "            ls = IP.split('.')\n",
    "            if len(ls) == 4 and all(g.isdigit() and str(int(g)) == g and 0 <= int(g) <= 255 for g in ls):\n",
    "                return True\n",
    "            return False\n",
    "\n",
    "        def is_valid_ipv6():\n",
    "            ls = IP.split(':')\n",
    "            if len(ls) == 8 and all(0 < len(g) <= 4 and all(c in '0123456789abcdefABCDEF' for c in g) for g in ls):\n",
    "                return True\n",
    "            return False   \n",
    "        \n",
    "        if is_valid_ipv4():\n",
    "            return 'IPv4'\n",
    "        elif is_valid_ipv6():\n",
    "            return  'IPv6'\n",
    "        else:\n",
    "            return 'Neither'"
   ]
  }
 ],
 "metadata": {
  "kernelspec": {
   "display_name": "Python 3",
   "language": "python",
   "name": "python3"
  },
  "language_info": {
   "codemirror_mode": {
    "name": "ipython",
    "version": 3
   },
   "file_extension": ".py",
   "mimetype": "text/x-python",
   "name": "python",
   "nbconvert_exporter": "python",
   "pygments_lexer": "ipython3",
   "version": "3.6.7"
  }
 },
 "nbformat": 4,
 "nbformat_minor": 2
}
