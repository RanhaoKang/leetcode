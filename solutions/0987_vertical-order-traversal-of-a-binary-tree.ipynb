{
 "cells": [
  {
   "cell_type": "markdown",
   "metadata": {},
   "source": [
    "[987. Vertical Order Traversal of a Binary Tree](https://leetcode.com/problems/vertical-order-traversal-of-a-binary-tree/)"
   ]
  },
  {
   "cell_type": "code",
   "execution_count": 1,
   "metadata": {},
   "outputs": [],
   "source": [
    "# Definition for a binary tree node.\n",
    "class TreeNode:\n",
    "    def __init__(self, x):\n",
    "        self.val = x\n",
    "        self.left = None\n",
    "        self.right = None"
   ]
  },
  {
   "cell_type": "code",
   "execution_count": null,
   "metadata": {},
   "outputs": [],
   "source": [
    "class Solution:\n",
    "    def verticalTraversal(self, root: TreeNode):\n",
    "        def solve(node, idx = 0, depth = 0):\n",
    "            if not node:\n",
    "                return\n",
    "            res[idx].append((depth, node.val))\n",
    "            solve(node.left, idx - 1, depth + 1)\n",
    "            solve(node.right, idx + 1, depth + 1)\n",
    "        \n",
    "        from collections import defaultdict\n",
    "        res = defaultdict(list)\n",
    "        solve(root)\n",
    "        ans = []\n",
    "        for i in sorted(res.keys()):\n",
    "            col = [j[1] for j in sorted(res[i])]\n",
    "            ans.append(col)\n",
    "        return ans"
   ]
  },
  {
   "cell_type": "code",
   "execution_count": null,
   "metadata": {},
   "outputs": [],
   "source": []
  }
 ],
 "metadata": {
  "kernelspec": {
   "display_name": "Python 3",
   "language": "python",
   "name": "python3"
  },
  "language_info": {
   "codemirror_mode": {
    "name": "ipython",
    "version": 3
   },
   "file_extension": ".py",
   "mimetype": "text/x-python",
   "name": "python",
   "nbconvert_exporter": "python",
   "pygments_lexer": "ipython3",
   "version": "3.6.7"
  }
 },
 "nbformat": 4,
 "nbformat_minor": 2
}
