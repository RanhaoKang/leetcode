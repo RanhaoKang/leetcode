{
 "cells": [
  {
   "cell_type": "markdown",
   "metadata": {},
   "source": [
    "[1319. Number of Operations to Make Network Connected](https://leetcode.com/problems/number-of-operations-to-make-network-connected/)"
   ]
  },
  {
   "cell_type": "markdown",
   "metadata": {},
   "source": [
    "Union-Find的思想"
   ]
  },
  {
   "cell_type": "code",
   "execution_count": 1,
   "metadata": {},
   "outputs": [],
   "source": [
    "class Solution:\n",
    "    def makeConnected(self, n: int, connections) -> int:\n",
    "        if n - 1 > len(connections):\n",
    "            return -1\n",
    "        \n",
    "        s = ''.join(map(chr, range(n)))\n",
    "        for a, b in connections:\n",
    "            s = s.replace(s[a], s[b])\n",
    "        return len(set(s)) - 1"
   ]
  },
  {
   "cell_type": "code",
   "execution_count": 2,
   "metadata": {},
   "outputs": [],
   "source": [
    "class Solution:\n",
    "    def makeConnected(self, n, connections):\n",
    "        if len(connections) < n - 1: return -1\n",
    "        G = [set() for i in range(n)]\n",
    "        for i, j in connections:\n",
    "            G[i].add(j)\n",
    "            G[j].add(i)\n",
    "        seen = [0] * n\n",
    "\n",
    "        def dfs(i):\n",
    "            if seen[i]: return 0\n",
    "            seen[i] = 1\n",
    "            for j in G[i]: dfs(j)\n",
    "            return 1\n",
    "\n",
    "        return sum(dfs(i) for i in range(n)) - 1"
   ]
  }
 ],
 "metadata": {
  "kernelspec": {
   "display_name": "Python 3",
   "language": "python",
   "name": "python3"
  },
  "language_info": {
   "codemirror_mode": {
    "name": "ipython",
    "version": 3
   },
   "file_extension": ".py",
   "mimetype": "text/x-python",
   "name": "python",
   "nbconvert_exporter": "python",
   "pygments_lexer": "ipython3",
   "version": "3.8.1"
  }
 },
 "nbformat": 4,
 "nbformat_minor": 4
}
