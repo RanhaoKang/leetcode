{
 "cells": [
  {
   "cell_type": "markdown",
   "metadata": {},
   "source": [
    "[1053. Previous Permutation With One Swap](https://leetcode.com/problems/previous-permutation-with-one-swap/)"
   ]
  },
  {
   "cell_type": "code",
   "execution_count": 1,
   "metadata": {},
   "outputs": [],
   "source": [
    "class Solution:\n",
    "    def prevPermOpt1(self, A: List[int]) -> List[int]:\n",
    " \n",
    "        # 1. 边界情况处理\n",
    "        if len(A) == 1 :\n",
    "            return A\n",
    " \n",
    "        # 2. 找左边要交换的位置\n",
    "        left = len(A) - 2\n",
    "        while left >= 0 :\n",
    "            if A[left] > A[left + 1] :\n",
    "                break\n",
    "            left -= 1\n",
    "        else :\n",
    "            # 2.1 如果一直递减\n",
    "            return A\n",
    " \n",
    "        # 3. 找右边 第一个小于 left 的值\n",
    "        right = len(A) - 1\n",
    "        while A[right] >= A[left] :\n",
    "            right -= 1\n",
    "        \n",
    "        # 4. 向左错位，如果 right 的左边 跟 right 一样\n",
    "        right_value = A[right]\n",
    "        while (A[right] == right_value) :\n",
    "            right -= 1\n",
    "        right += 1\n",
    " \n",
    "        # 5. 交换\n",
    "        A[left], A[right] = A[right], A[left]\n",
    " \n",
    "        return A"
   ]
  },
  {
   "cell_type": "code",
   "execution_count": null,
   "metadata": {},
   "outputs": [],
   "source": []
  }
 ],
 "metadata": {
  "kernelspec": {
   "display_name": "Python 3",
   "language": "python",
   "name": "python3"
  },
  "language_info": {
   "codemirror_mode": {
    "name": "ipython",
    "version": 3
   },
   "file_extension": ".py",
   "mimetype": "text/x-python",
   "name": "python",
   "nbconvert_exporter": "python",
   "pygments_lexer": "ipython3",
   "version": "3.8.1"
  }
 },
 "nbformat": 4,
 "nbformat_minor": 4
}
