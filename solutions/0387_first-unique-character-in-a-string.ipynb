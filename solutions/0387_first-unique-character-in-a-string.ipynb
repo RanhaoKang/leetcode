{
 "cells": [
  {
   "cell_type": "markdown",
   "metadata": {},
   "source": [
    "[387. First Unique Character in a String](https://leetcode.com/problems/first-unique-character-in-a-string/)"
   ]
  },
  {
   "cell_type": "markdown",
   "metadata": {},
   "source": [
    "dict"
   ]
  },
  {
   "cell_type": "code",
   "execution_count": 11,
   "metadata": {},
   "outputs": [
    {
     "name": "stdout",
     "output_type": "stream",
     "text": [
      "{'c': 0}\n",
      "{'c': inf}\n"
     ]
    },
    {
     "data": {
      "text/plain": [
       "-1"
      ]
     },
     "execution_count": 11,
     "metadata": {},
     "output_type": "execute_result"
    }
   ],
   "source": [
    "class Solution:\n",
    "    def firstUniqChar(self, s: str) -> int:\n",
    "        if not s:\n",
    "            return -1\n",
    "        seen = {}\n",
    "        for idx, i in enumerate(s):\n",
    "            if i in seen:\n",
    "                seen[i] = float('inf')\n",
    "            else:\n",
    "                seen[i] = idx\n",
    "            print(seen)\n",
    "        \n",
    "        res = min(seen.values())\n",
    "        if res == float('inf'):\n",
    "            return -1\n",
    "        else:\n",
    "            return res\n",
    "Solution().firstUniqChar('cc')"
   ]
  }
 ],
 "metadata": {
  "kernelspec": {
   "display_name": "Python 3",
   "language": "python",
   "name": "python3"
  },
  "language_info": {
   "codemirror_mode": {
    "name": "ipython",
    "version": 3
   },
   "file_extension": ".py",
   "mimetype": "text/x-python",
   "name": "python",
   "nbconvert_exporter": "python",
   "pygments_lexer": "ipython3",
   "version": "3.6.7"
  }
 },
 "nbformat": 4,
 "nbformat_minor": 2
}
