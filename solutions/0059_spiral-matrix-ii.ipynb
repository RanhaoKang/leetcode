{
 "cells": [
  {
   "cell_type": "markdown",
   "metadata": {},
   "source": [
    "[59. Spiral Matrix II](https://leetcode.com/problems/spiral-matrix-ii/)"
   ]
  },
  {
   "cell_type": "markdown",
   "metadata": {},
   "source": [
    "反过来看, Spiral Matrix是由从大到小的元素由内向外逆时针螺旋排列得到的, 每次完成了内圈的一部分, 进行顺时针旋转并将新结果排到第一行"
   ]
  },
  {
   "cell_type": "code",
   "execution_count": null,
   "metadata": {},
   "outputs": [],
   "source": [
    "class Solution:\n",
    "    def generateMatrix(self, n: int):\n",
    "        A, lo = [], n*n+1\n",
    "        while lo > 1:\n",
    "            lo, hi = lo - len(A), lo\n",
    "            A = [range(lo, hi)] + zip(*A[::-1])\n",
    "        return A"
   ]
  },
  {
   "cell_type": "markdown",
   "metadata": {},
   "source": [
    "先生成目标大小的矩阵, 然后一次填充, 这里值得学习的是, 不需要事先算出`i`, `j`, 我们只需要知道其速度`di`, `dj`即可, 每次转弯时只更改速度即可."
   ]
  },
  {
   "cell_type": "code",
   "execution_count": 1,
   "metadata": {},
   "outputs": [],
   "source": [
    "class Solution:\n",
    "    def generateMatrix(self, n: int):\n",
    "        A = [[0] * n for _ in range(n)]\n",
    "        i, j, di, dj = 0, 0, 0, 1\n",
    "        for k in range(n*n):\n",
    "            A[i][j] = k + 1\n",
    "            if A[(i+di)%n][(j+dj)%n]:\n",
    "                # 顺时针旋转\n",
    "                di, dj = dj, -di\n",
    "            i += di\n",
    "            j += dj\n",
    "        return A"
   ]
  },
  {
   "cell_type": "code",
   "execution_count": 4,
   "metadata": {},
   "outputs": [
    {
     "data": {
      "text/plain": [
       "[(4, 1), (5, 2), (6, 3)]"
      ]
     },
     "execution_count": 4,
     "metadata": {},
     "output_type": "execute_result"
    }
   ],
   "source": [
    "f([[1,2,3], [4,5,6]])"
   ]
  },
  {
   "cell_type": "code",
   "execution_count": null,
   "metadata": {},
   "outputs": [],
   "source": []
  }
 ],
 "metadata": {
  "kernelspec": {
   "display_name": "Python 3",
   "language": "python",
   "name": "python3"
  },
  "language_info": {
   "codemirror_mode": {
    "name": "ipython",
    "version": 3
   },
   "file_extension": ".py",
   "mimetype": "text/x-python",
   "name": "python",
   "nbconvert_exporter": "python",
   "pygments_lexer": "ipython3",
   "version": "3.6.7"
  }
 },
 "nbformat": 4,
 "nbformat_minor": 2
}
