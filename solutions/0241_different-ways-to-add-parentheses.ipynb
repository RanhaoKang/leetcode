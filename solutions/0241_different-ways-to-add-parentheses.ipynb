{
 "cells": [
  {
   "cell_type": "markdown",
   "metadata": {},
   "source": [
    "[241. Different Ways to Add Parentheses](https://leetcode.com/problems/different-ways-to-add-parentheses/)"
   ]
  },
  {
   "cell_type": "code",
   "execution_count": 1,
   "metadata": {},
   "outputs": [],
   "source": [
    "import re\n",
    "import operator\n",
    "\n",
    "class Solution:\n",
    "    def diffWaysToCompute(self, input):\n",
    "        tokens = re.split('(\\D)', input)\n",
    "        nums = list(map(int, tokens[::2]))\n",
    "        ops = list(map({'+': operator.add, '-': operator.sub, '*': operator.mul}.get, tokens[1::2]))\n",
    "        def build(lo, hi):\n",
    "            if lo == hi:\n",
    "                return [nums[lo]]\n",
    "            return [ops[i](a, b)\n",
    "                for i in range(lo, hi)\n",
    "                for a in build(lo, i)\n",
    "                for b in build(i + 1, hi)]\n",
    "        return build(0, len(nums) - 1)"
   ]
  },
  {
   "cell_type": "code",
   "execution_count": 2,
   "metadata": {},
   "outputs": [
    {
     "data": {
      "text/plain": [
       "[-34, -10, -14, -10, 10]"
      ]
     },
     "execution_count": 2,
     "metadata": {},
     "output_type": "execute_result"
    }
   ],
   "source": [
    "Solution().diffWaysToCompute('2*3-4*5')"
   ]
  },
  {
   "cell_type": "code",
   "execution_count": null,
   "metadata": {},
   "outputs": [],
   "source": []
  }
 ],
 "metadata": {
  "kernelspec": {
   "display_name": "Python 3",
   "language": "python",
   "name": "python3"
  },
  "language_info": {
   "codemirror_mode": {
    "name": "ipython",
    "version": 3
   },
   "file_extension": ".py",
   "mimetype": "text/x-python",
   "name": "python",
   "nbconvert_exporter": "python",
   "pygments_lexer": "ipython3",
   "version": "3.8.1"
  }
 },
 "nbformat": 4,
 "nbformat_minor": 2
}
