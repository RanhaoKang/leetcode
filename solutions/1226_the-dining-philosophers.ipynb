{
 "cells": [
  {
   "cell_type": "markdown",
   "metadata": {},
   "source": [
    "[1226. The Dining Philosophers](https://leetcode.com/problems/the-dining-philosophers/)"
   ]
  },
  {
   "cell_type": "code",
   "execution_count": 2,
   "metadata": {},
   "outputs": [],
   "source": [
    "class DiningPhilosophers:\n",
    "    def __init__(self):\n",
    "        from threading import Semaphore\n",
    "        self.sizelock = Semaphore(4)\n",
    "        self.locks = [Semaphore(1) for _ in range(5)]\n",
    "\n",
    "    # call the functions directly to execute, for example, eat()\n",
    "    def wantsToEat(self, index, *actions) -> None:\n",
    "        left, right = index, (index - 1) % 5\n",
    "        with self.sizelock:\n",
    "            with self.locks[left], self.locks[right]:\n",
    "                for action in actions:\n",
    "                    action()"
   ]
  },
  {
   "cell_type": "code",
   "execution_count": null,
   "metadata": {},
   "outputs": [],
   "source": []
  }
 ],
 "metadata": {
  "kernelspec": {
   "display_name": "Python 3",
   "language": "python",
   "name": "python3"
  },
  "language_info": {
   "codemirror_mode": {
    "name": "ipython",
    "version": 3
   },
   "file_extension": ".py",
   "mimetype": "text/x-python",
   "name": "python",
   "nbconvert_exporter": "python",
   "pygments_lexer": "ipython3",
   "version": "3.8.1"
  }
 },
 "nbformat": 4,
 "nbformat_minor": 4
}
