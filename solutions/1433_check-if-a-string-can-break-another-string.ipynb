{
 "cells": [
  {
   "cell_type": "markdown",
   "metadata": {},
   "source": [
    "[1433. Check If a String Can Break Another String](https://leetcode.com/problems/check-if-a-string-can-break-another-string/)"
   ]
  },
  {
   "cell_type": "code",
   "execution_count": 1,
   "metadata": {},
   "outputs": [],
   "source": [
    "class Solution:\n",
    "    def checkIfCanBreak(self, s1: str, s2: str) -> bool:\n",
    "        from collections import Counter\n",
    "        from string import ascii_lowercase\n",
    "        s1, s2 = Counter(s1), Counter(s2)\n",
    "        \n",
    "        def check(d1, d2):\n",
    "            s = 0\n",
    "            for c in ascii_lowercase:\n",
    "                s += d1[c] - d2[c]\n",
    "                if s < 0:\n",
    "                    return False\n",
    "            return True\n",
    "        \n",
    "        return check(s1, s2) | check(s2, s1)"
   ]
  },
  {
   "cell_type": "code",
   "execution_count": 12,
   "metadata": {},
   "outputs": [
    {
     "data": {
      "text/plain": [
       "True"
      ]
     },
     "execution_count": 12,
     "metadata": {},
     "output_type": "execute_result"
    }
   ],
   "source": [
    "Solution().checkIfCanBreak('abc', 'xya')"
   ]
  }
 ],
 "metadata": {
  "kernelspec": {
   "display_name": "Python 3",
   "language": "python",
   "name": "python3"
  },
  "language_info": {
   "codemirror_mode": {
    "name": "ipython",
    "version": 3
   },
   "file_extension": ".py",
   "mimetype": "text/x-python",
   "name": "python",
   "nbconvert_exporter": "python",
   "pygments_lexer": "ipython3",
   "version": "3.8.0b3"
  }
 },
 "nbformat": 4,
 "nbformat_minor": 2
}
