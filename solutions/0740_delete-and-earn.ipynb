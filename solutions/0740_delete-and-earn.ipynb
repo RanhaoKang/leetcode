{
 "cells": [
  {
   "cell_type": "markdown",
   "metadata": {},
   "source": [
    "[740. Delete and Earn](https://leetcode.com/problems/delete-and-earn/)"
   ]
  },
  {
   "cell_type": "markdown",
   "metadata": {},
   "source": [
    "建表bottom-up"
   ]
  },
  {
   "cell_type": "code",
   "execution_count": 27,
   "metadata": {},
   "outputs": [],
   "source": [
    "class Solution:\n",
    "    def deleteAndEarn(self, nums) -> int:\n",
    "        from collections import Counter\n",
    "        counter = Counter(nums)\n",
    "        nums = sorted(counter)\n",
    "        N = len(nums)\n",
    "        if N == 0:\n",
    "            return 0\n",
    "        dp = [0] * N\n",
    "        dp[0] = nums[0] * counter[nums[0]]\n",
    "        \n",
    "        for i in range(1, N):\n",
    "            # 相邻\n",
    "            if nums[i]-1 == nums[i-1]:\n",
    "                dp[i] = max(\n",
    "                    (dp[i-2] if i >= 2 else 0) + nums[i] * counter[nums[i]],\n",
    "                    dp[i-1]\n",
    "                )\n",
    "            \n",
    "            # 不相邻\n",
    "            else:\n",
    "                dp[i] = dp[i-1] + nums[i] * counter[nums[i]]\n",
    "        \n",
    "        return dp[-1]"
   ]
  },
  {
   "cell_type": "code",
   "execution_count": 26,
   "metadata": {},
   "outputs": [
    {
     "name": "stdout",
     "output_type": "stream",
     "text": [
      "[2, 0, 0]\n",
      "[2, 9, 0]\n"
     ]
    },
    {
     "data": {
      "text/plain": [
       "9"
      ]
     },
     "execution_count": 26,
     "metadata": {},
     "output_type": "execute_result"
    }
   ],
   "source": [
    "Solution().deleteAndEarn([3,3,3,4,2])"
   ]
  },
  {
   "cell_type": "markdown",
   "metadata": {},
   "source": [
    "K-variables, 降低了内存使用(空间复杂度没降)还省去了边界检查, 枯了."
   ]
  },
  {
   "cell_type": "code",
   "execution_count": 28,
   "metadata": {},
   "outputs": [],
   "source": [
    "class Solution:\n",
    "    def deleteAndEarn(self, nums):\n",
    "        from collections import Counter\n",
    "        count = collections.Counter(nums)\n",
    "        prev = None\n",
    "        avoid = using = 0\n",
    "        for k in sorted(count):\n",
    "            if k - 1 != prev:\n",
    "                avoid, using = max(avoid, using), k * count[k] + max(avoid, using)\n",
    "            else:\n",
    "                avoid, using = max(avoid, using), k * count[k] + avoid\n",
    "            prev = k\n",
    "        return max(avoid, using)"
   ]
  },
  {
   "cell_type": "code",
   "execution_count": null,
   "metadata": {},
   "outputs": [],
   "source": []
  }
 ],
 "metadata": {
  "kernelspec": {
   "display_name": "Python 3",
   "language": "python",
   "name": "python3"
  },
  "language_info": {
   "codemirror_mode": {
    "name": "ipython",
    "version": 3
   },
   "file_extension": ".py",
   "mimetype": "text/x-python",
   "name": "python",
   "nbconvert_exporter": "python",
   "pygments_lexer": "ipython3",
   "version": "3.6.7"
  }
 },
 "nbformat": 4,
 "nbformat_minor": 2
}
