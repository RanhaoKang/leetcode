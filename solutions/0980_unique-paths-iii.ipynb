{
 "cells": [
  {
   "cell_type": "markdown",
   "metadata": {},
   "source": [
    "[980. Unique Paths III](https://leetcode.com/problems/unique-paths-iii/)"
   ]
  },
  {
   "cell_type": "code",
   "execution_count": 4,
   "metadata": {},
   "outputs": [],
   "source": [
    "class Solution:\n",
    "    def uniquePathsIII(self, grid) -> int:\n",
    "        h, w = len(grid), len(grid and grid[0])\n",
    "        num_nodes = sum(1 for i in range(h) for j in range(w) if grid[i][j] == 0) + 1\n",
    "        self.res = 0\n",
    "    \n",
    "        def solve(i, j, path = []):\n",
    "            if grid[i][j] == 2:\n",
    "                if len(path) == num_nodes:\n",
    "                    self.res += 1\n",
    "                else:\n",
    "                    return\n",
    "\n",
    "            # move top\n",
    "            if i > 0 and grid[i-1][j] != -1 and (i-1, j) not in path:\n",
    "                solve(i - 1, j, path + [(i, j)])\n",
    "            \n",
    "            # move bottom\n",
    "            if i < h - 1 and grid[i+1][j] != -1 and (i+1, j) not in path:\n",
    "                solve(i + 1, j, path + [(i, j)])\n",
    "            \n",
    "            # move left\n",
    "            if j > 0 and grid[i][j-1] != -1 and (i, j-1) not in path:\n",
    "                solve(i, j - 1, path + [(i, j)])\n",
    "            \n",
    "            # move right\n",
    "            if j < w - 1 and grid[i][j+1] != -1 and (i, j+1) not in path:\n",
    "                solve(i, j + 1, path + [(i, j)])\n",
    "            \n",
    "        for i in range(h):\n",
    "            for j in range(w):\n",
    "                if grid[i][j] == 1:\n",
    "                    solve(i, j)\n",
    "                    return self.res\n",
    "            "
   ]
  },
  {
   "cell_type": "code",
   "execution_count": 5,
   "metadata": {},
   "outputs": [
    {
     "data": {
      "text/plain": [
       "2"
      ]
     },
     "execution_count": 5,
     "metadata": {},
     "output_type": "execute_result"
    }
   ],
   "source": [
    "Solution().uniquePathsIII([[1,0,0,0],[0,0,0,0],[0,0,2,-1]])"
   ]
  },
  {
   "cell_type": "code",
   "execution_count": null,
   "metadata": {},
   "outputs": [],
   "source": []
  }
 ],
 "metadata": {
  "kernelspec": {
   "display_name": "Python 3",
   "language": "python",
   "name": "python3"
  },
  "language_info": {
   "codemirror_mode": {
    "name": "ipython",
    "version": 3
   },
   "file_extension": ".py",
   "mimetype": "text/x-python",
   "name": "python",
   "nbconvert_exporter": "python",
   "pygments_lexer": "ipython3",
   "version": "3.6.7"
  }
 },
 "nbformat": 4,
 "nbformat_minor": 2
}
