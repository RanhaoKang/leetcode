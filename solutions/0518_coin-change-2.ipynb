{
 "cells": [
  {
   "cell_type": "markdown",
   "metadata": {},
   "source": [
    "[518. Coin Change 2](https://leetcode.com/problems/coin-change-2/)"
   ]
  },
  {
   "cell_type": "code",
   "execution_count": 2,
   "metadata": {},
   "outputs": [],
   "source": [
    "class Solution:\n",
    "    def change(self, amount: int, coins) -> int:\n",
    "        dp = [0] * (amount + 1)\n",
    "        dp[0] = 1\n",
    "        \n",
    "        for coin in coins:\n",
    "            for i in range(1, amount + 1):\n",
    "                if i >= coin:\n",
    "                    dp[i] += dp[i - coin]\n",
    "        \n",
    "        return dp[amount]"
   ]
  },
  {
   "cell_type": "code",
   "execution_count": null,
   "metadata": {},
   "outputs": [],
   "source": []
  }
 ],
 "metadata": {
  "kernelspec": {
   "display_name": "Python 3",
   "language": "python",
   "name": "python3"
  },
  "language_info": {
   "codemirror_mode": {
    "name": "ipython",
    "version": 3
   },
   "file_extension": ".py",
   "mimetype": "text/x-python",
   "name": "python",
   "nbconvert_exporter": "python",
   "pygments_lexer": "ipython3",
   "version": "3.6.7"
  }
 },
 "nbformat": 4,
 "nbformat_minor": 2
}
