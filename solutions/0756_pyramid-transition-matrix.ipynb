{
 "cells": [
  {
   "cell_type": "markdown",
   "metadata": {},
   "source": [
    "[756. Pyramid Transition Matrix](https://leetcode.com/problems/pyramid-transition-matrix/)"
   ]
  },
  {
   "cell_type": "code",
   "execution_count": 10,
   "metadata": {},
   "outputs": [],
   "source": [
    "class Solution:\n",
    "    def pyramidTransition(self, bottom: str, allowed) -> bool:\n",
    "        from collections import defaultdict\n",
    "        from itertools import product\n",
    "        \n",
    "        f = defaultdict(lambda: defaultdict(list))\n",
    "        for a, b, c in allowed:\n",
    "            f[a][b] = c\n",
    "        print(f)\n",
    "        \n",
    "        def pyramid(bottom):\n",
    "            print(bottom)\n",
    "            return (len(bottom) == 1 or\n",
    "                   any(pyramid(i) for i in product(*(f[a][b] for a, b in zip(bottom, bottom[1:])))))\n",
    "\n",
    "        return pyramid(bottom)"
   ]
  },
  {
   "cell_type": "code",
   "execution_count": 11,
   "metadata": {},
   "outputs": [
    {
     "name": "stdout",
     "output_type": "stream",
     "text": [
      "defaultdict(<function Solution.pyramidTransition.<locals>.<lambda> at 0x112e0fca0>, {'C': defaultdict(<class 'list'>, {'B': 'C', 'D': 'B', 'A': 'A', 'C': 'B'}), 'A': defaultdict(<class 'list'>, {'C': 'B', 'B': 'D'}), 'B': defaultdict(<class 'list'>, {'D': 'D', 'C': 'C', 'A': 'A'}), 'D': defaultdict(<class 'list'>, {'B': 'B', 'D': 'D'})})\n",
      "CCC\n",
      "('B', 'B')\n"
     ]
    },
    {
     "data": {
      "text/plain": [
       "False"
      ]
     },
     "execution_count": 11,
     "metadata": {},
     "output_type": "execute_result"
    }
   ],
   "source": [
    "Solution().pyramidTransition(\"CCC\",\n",
    "[\"CBB\",\"ACB\",\"ABD\",\"CDB\",\"BDC\",\"CBC\",\"DBA\",\"DBB\",\"CAB\",\"BCB\",\"BCC\",\"BAA\",\"CCD\",\"BDD\",\"DDD\",\"CCA\",\"CAA\",\"CCC\",\"CCB\"])"
   ]
  },
  {
   "cell_type": "code",
   "execution_count": 14,
   "metadata": {},
   "outputs": [],
   "source": [
    "class Solution(object):\n",
    "    def pyramidTransition(self, bottom, allowed):\n",
    "        T = collections.defaultdict(set)\n",
    "        for u, v, w in allowed:\n",
    "            T[u, v].add(w)\n",
    "\n",
    "        #Comments can be used to cache intermediate results\n",
    "        #seen = set()\n",
    "        def solve(A):\n",
    "            if len(A) == 1: return True\n",
    "            #if A in seen: return False\n",
    "            #seen.add(A)\n",
    "            return any(solve(cand) for cand in build(A, []))\n",
    "\n",
    "        def build(A, ans, i = 0):\n",
    "            if i + 1 == len(A):\n",
    "                yield \"\".join(ans)\n",
    "            else:\n",
    "                for w in T[A[i], A[i+1]]:\n",
    "                    ans.append(w)\n",
    "                    for result in build(A, ans, i+1):\n",
    "                        yield result\n",
    "                    ans.pop()\n",
    "\n",
    "        return solve(bottom)"
   ]
  },
  {
   "cell_type": "code",
   "execution_count": null,
   "metadata": {},
   "outputs": [],
   "source": []
  }
 ],
 "metadata": {
  "kernelspec": {
   "display_name": "Python 3",
   "language": "python",
   "name": "python3"
  },
  "language_info": {
   "codemirror_mode": {
    "name": "ipython",
    "version": 3
   },
   "file_extension": ".py",
   "mimetype": "text/x-python",
   "name": "python",
   "nbconvert_exporter": "python",
   "pygments_lexer": "ipython3",
   "version": "3.8.1"
  }
 },
 "nbformat": 4,
 "nbformat_minor": 4
}
