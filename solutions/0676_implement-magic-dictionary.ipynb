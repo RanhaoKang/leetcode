{
 "cells": [
  {
   "cell_type": "markdown",
   "metadata": {},
   "source": [
    "[676. Implement Magic Dictionary](https://leetcode.com/problems/implement-magic-dictionary/)"
   ]
  },
  {
   "cell_type": "markdown",
   "metadata": {},
   "source": [
    "不太确信预先生成neighbors是不是好的做法, 看了一眼Solution还真有. 另一种是桶排在search环节多花时间."
   ]
  },
  {
   "cell_type": "code",
   "execution_count": 1,
   "metadata": {},
   "outputs": [],
   "source": [
    "import collections\n",
    "\n",
    "class MagicDictionary:\n",
    "\n",
    "    def neighbors(self, word):\n",
    "        for i in range(len(word)):\n",
    "            yield word[:i] + '*' + word[i+1:]\n",
    "        \n",
    "    \n",
    "\n",
    "    def buildDict(self, dict) -> None:\n",
    "        \"\"\"\n",
    "        Build a dictionary through a list of words\n",
    "        \"\"\"\n",
    "        self.words = set(dict)\n",
    "        self.count = collections.Counter(nei for word in dict\n",
    "                                        for nei in self.neighbors(word))\n",
    "    \n",
    "        \n",
    "    def search(self, word: str) -> bool:\n",
    "        \"\"\"\n",
    "        Returns if there is any word in the trie that equals to the given word after modifying exactly one character\n",
    "        \"\"\"\n",
    "        return any(self.count[nei] > 1 or\n",
    "                   self.count[nei] == 1 and word not in self.words\n",
    "                   for nei in self.neighbors(word))\n",
    "\n",
    "\n",
    "# Your MagicDictionary object will be instantiated and called as such:\n",
    "# obj = MagicDictionary()\n",
    "# obj.buildDict(dict)\n",
    "# param_2 = obj.search(word)"
   ]
  },
  {
   "cell_type": "code",
   "execution_count": 2,
   "metadata": {},
   "outputs": [],
   "source": [
    "md = MagicDictionary()\n",
    "\n",
    "md.buildDict([\"hello\", \"leetcode\"])"
   ]
  },
  {
   "cell_type": "code",
   "execution_count": null,
   "metadata": {},
   "outputs": [],
   "source": []
  }
 ],
 "metadata": {
  "kernelspec": {
   "display_name": "Python 3",
   "language": "python",
   "name": "python3"
  },
  "language_info": {
   "codemirror_mode": {
    "name": "ipython",
    "version": 3
   },
   "file_extension": ".py",
   "mimetype": "text/x-python",
   "name": "python",
   "nbconvert_exporter": "python",
   "pygments_lexer": "ipython3",
   "version": "3.6.7"
  }
 },
 "nbformat": 4,
 "nbformat_minor": 2
}
