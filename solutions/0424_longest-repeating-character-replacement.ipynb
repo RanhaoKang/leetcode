{
 "cells": [
  {
   "cell_type": "markdown",
   "metadata": {},
   "source": [
    "[424. Longest Repeating Character Replacement](https://leetcode.com/problems/longest-repeating-character-replacement/)"
   ]
  },
  {
   "cell_type": "code",
   "execution_count": 1,
   "metadata": {},
   "outputs": [],
   "source": [
    "class Solution:\n",
    "    def characterReplacement(self, s: str, k: int) -> int:\n",
    "        res = lo = hi = 0\n",
    "        counts = collections.Counter()\n",
    "        for hi in range(1, len(s)+1):\n",
    "            counts[s[hi-1]] += 1\n",
    "            max_char_n = counts.most_common(1)[0][1]\n",
    "            if hi - lo - max_char_n > k:\n",
    "                counts[s[lo]] -= 1\n",
    "                lo += 1\n",
    "        return hi - lo"
   ]
  },
  {
   "cell_type": "code",
   "execution_count": null,
   "metadata": {},
   "outputs": [],
   "source": []
  }
 ],
 "metadata": {
  "kernelspec": {
   "display_name": "Python 3",
   "language": "python",
   "name": "python3"
  },
  "language_info": {
   "codemirror_mode": {
    "name": "ipython",
    "version": 3
   },
   "file_extension": ".py",
   "mimetype": "text/x-python",
   "name": "python",
   "nbconvert_exporter": "python",
   "pygments_lexer": "ipython3",
   "version": "3.8.1"
  }
 },
 "nbformat": 4,
 "nbformat_minor": 4
}
