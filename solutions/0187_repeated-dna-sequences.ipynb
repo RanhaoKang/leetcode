{
 "cells": [
  {
   "cell_type": "markdown",
   "metadata": {},
   "source": [
    "[187. Repeated DNA Sequences](https://leetcode.com/problems/repeated-dna-sequences/)"
   ]
  },
  {
   "cell_type": "code",
   "execution_count": 1,
   "metadata": {},
   "outputs": [],
   "source": [
    "class Solution:\n",
    "    def findRepeatedDnaSequences(self, s: str):\n",
    "        from collections import Counter\n",
    "        encode = {\n",
    "            'A': 0b001,\n",
    "            'C': 0b010,\n",
    "            'G': 0b011,\n",
    "            'T': 0b100,\n",
    "        }\n",
    "        \n",
    "        pattern, seen, res = 0, set(), []\n",
    "        for i in range(len(s)):\n",
    "            c = s[i]\n",
    "            pattern = ((pattern << 3) | encode[c]) & 1073741823 # 0b1...1 (1 * 30)\n",
    "            if pattern in seen:\n",
    "                res.append(s[i-9: i+1])\n",
    "            seen.add(pattern)\n",
    "        \n",
    "        return list(set(res))"
   ]
  },
  {
   "cell_type": "code",
   "execution_count": 2,
   "metadata": {},
   "outputs": [
    {
     "data": {
      "text/plain": [
       "['CCCCCAAAAA', 'AAAAACCCCC']"
      ]
     },
     "execution_count": 2,
     "metadata": {},
     "output_type": "execute_result"
    }
   ],
   "source": [
    "Solution().findRepeatedDnaSequences('AAAAACCCCCAAAAACCCCCCAAAAAGGGTTT')"
   ]
  },
  {
   "cell_type": "code",
   "execution_count": null,
   "metadata": {},
   "outputs": [],
   "source": []
  }
 ],
 "metadata": {
  "kernelspec": {
   "display_name": "Python 3",
   "language": "python",
   "name": "python3"
  },
  "language_info": {
   "codemirror_mode": {
    "name": "ipython",
    "version": 3
   },
   "file_extension": ".py",
   "mimetype": "text/x-python",
   "name": "python",
   "nbconvert_exporter": "python",
   "pygments_lexer": "ipython3",
   "version": "3.8.0b3"
  }
 },
 "nbformat": 4,
 "nbformat_minor": 2
}
