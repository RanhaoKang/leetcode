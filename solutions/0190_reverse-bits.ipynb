{
 "cells": [
  {
   "cell_type": "markdown",
   "metadata": {},
   "source": [
    "[190. Reverse Bits](https://leetcode.com/problems/reverse-bits/)"
   ]
  },
  {
   "cell_type": "markdown",
   "metadata": {},
   "source": [
    "```cpp\n",
    "class Solution {\n",
    "public:\n",
    "    uint32_t reverseBits(uint32_t x) {\n",
    "        x = ((x & 0xaaaaaaaa) >> 1) | ((x & 0x55555555) << 1);\n",
    "        x = ((x & 0xcccccccc) >> 2) | ((x & 0x33333333) << 2);\n",
    "        x = ((x & 0xf0f0f0f0) >> 4) | ((x & 0x0f0f0f0f) << 4);\n",
    "        x = ((x & 0xff00ff00) >> 8) | ((x & 0x00ff00ff) << 8);\n",
    "        x = ((x & 0xffff0000) >> 16) | ((x & 0x0000ffff) << 16);\n",
    "        return x;\n",
    "    }\n",
    "};\n",
    "```"
   ]
  },
  {
   "cell_type": "code",
   "execution_count": 2,
   "metadata": {},
   "outputs": [],
   "source": [
    "class Solution:\n",
    "    # @param n, an integer\n",
    "    # @return an integer\n",
    "    def reverseBits(self, n):\n",
    "        \n",
    "        res = 0\n",
    "        for i in range(32):\n",
    "            res = (res << 1) + (n & 1)\n",
    "            n >>= 1\n",
    "        \n",
    "        return res"
   ]
  },
  {
   "cell_type": "code",
   "execution_count": null,
   "metadata": {},
   "outputs": [],
   "source": []
  }
 ],
 "metadata": {
  "kernelspec": {
   "display_name": "Python 3",
   "language": "python",
   "name": "python3"
  },
  "language_info": {
   "codemirror_mode": {
    "name": "ipython",
    "version": 3
   },
   "file_extension": ".py",
   "mimetype": "text/x-python",
   "name": "python",
   "nbconvert_exporter": "python",
   "pygments_lexer": "ipython3",
   "version": "3.6.7"
  }
 },
 "nbformat": 4,
 "nbformat_minor": 2
}
