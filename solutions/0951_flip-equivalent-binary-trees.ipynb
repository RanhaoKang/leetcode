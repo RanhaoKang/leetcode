{
 "cells": [
  {
   "cell_type": "markdown",
   "metadata": {},
   "source": [
    "[51. Flip Equivalent Binary Trees](https://leetcode.com/problems/flip-equivalent-binary-trees/)"
   ]
  },
  {
   "cell_type": "code",
   "execution_count": 1,
   "metadata": {},
   "outputs": [],
   "source": [
    "# Definition for a binary tree node.\n",
    "class TreeNode:\n",
    "    def __init__(self, x):\n",
    "        self.val = x\n",
    "        self.left = None\n",
    "        self.right = None"
   ]
  },
  {
   "cell_type": "code",
   "execution_count": 2,
   "metadata": {},
   "outputs": [],
   "source": [
    "class Solution:\n",
    "    def flipEquiv(self, root1: TreeNode, root2: TreeNode) -> bool:\n",
    "        \n",
    "        def solve(n1, n2):\n",
    "            if n1 and n2:\n",
    "                if n1.val != n2.val:\n",
    "                    return False\n",
    "                \n",
    "                res1 = solve(n1.left, n2.left) and solve(n1.right, n2.right)\n",
    "                res2 = solve(n1.left, n2.right) and solve(n1.right, n2.left)\n",
    "                return res1 or res2\n",
    "            else:\n",
    "                return not (n1 or n2)\n",
    "        \n",
    "        return solve(root1, root2)"
   ]
  },
  {
   "cell_type": "code",
   "execution_count": null,
   "metadata": {},
   "outputs": [],
   "source": []
  }
 ],
 "metadata": {
  "kernelspec": {
   "display_name": "Python 3",
   "language": "python",
   "name": "python3"
  },
  "language_info": {
   "codemirror_mode": {
    "name": "ipython",
    "version": 3
   },
   "file_extension": ".py",
   "mimetype": "text/x-python",
   "name": "python",
   "nbconvert_exporter": "python",
   "pygments_lexer": "ipython3",
   "version": "3.6.7"
  }
 },
 "nbformat": 4,
 "nbformat_minor": 2
}
