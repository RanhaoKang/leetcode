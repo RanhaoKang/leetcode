{
 "cells": [
  {
   "cell_type": "markdown",
   "metadata": {},
   "source": [
    "[1330. Reverse Subarray To Maximize Array Value](https://leetcode.com/problems/reverse-subarray-to-maximize-array-value/)"
   ]
  },
  {
   "cell_type": "markdown",
   "metadata": {},
   "source": [
    "根据定义，有变数的只有翻转的边界"
   ]
  },
  {
   "cell_type": "code",
   "execution_count": 2,
   "metadata": {},
   "outputs": [],
   "source": [
    "class Solution:\n",
    "    def maxValueAfterReverse(self, A) -> int:\n",
    "        total, res, min2, max2 = 0, 0, float('inf'), -float('inf')\n",
    "        for a, b in zip(A, A[1:]):\n",
    "            total += abs(a - b)\n",
    "            res = max(res, abs(A[0] - b) - abs(a - b))\n",
    "            res = max(res, abs(A[-1] - a) - abs(a - b))\n",
    "            min2, max2 = min(min2, max(a, b)), max(max2, min(a, b))\n",
    "        return total + max(res, (max2 - min2) * 2)"
   ]
  },
  {
   "cell_type": "code",
   "execution_count": null,
   "metadata": {},
   "outputs": [],
   "source": []
  }
 ],
 "metadata": {
  "kernelspec": {
   "display_name": "Python 3",
   "language": "python",
   "name": "python3"
  },
  "language_info": {
   "codemirror_mode": {
    "name": "ipython",
    "version": 3
   },
   "file_extension": ".py",
   "mimetype": "text/x-python",
   "name": "python",
   "nbconvert_exporter": "python",
   "pygments_lexer": "ipython3",
   "version": "3.8.1"
  }
 },
 "nbformat": 4,
 "nbformat_minor": 4
}
