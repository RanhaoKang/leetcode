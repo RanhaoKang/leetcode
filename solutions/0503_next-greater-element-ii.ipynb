{
 "cells": [
  {
   "cell_type": "markdown",
   "metadata": {},
   "source": [
    "[503. Next Greater Element II](https://leetcode.com/problems/next-greater-element-ii/)"
   ]
  },
  {
   "cell_type": "code",
   "execution_count": 4,
   "metadata": {},
   "outputs": [],
   "source": [
    "class Solution:\n",
    "    def nextGreaterElements(self, nums):\n",
    "        from collections import deque\n",
    "        stack = deque()\n",
    "        length = len(nums)\n",
    "        res = [-1] * length\n",
    "        for idx, num in enumerate(nums):\n",
    "            while stack and stack[-1][0] < num:\n",
    "                val, index = stack.pop()\n",
    "                res[index] = num\n",
    "            stack.append((num, idx))\n",
    "        # cyclic\n",
    "        for idx, num in enumerate(nums):\n",
    "            while stack and stack[-1][0] < num:\n",
    "                val, index = stack.pop()\n",
    "                res[index] = num\n",
    "        return res"
   ]
  },
  {
   "cell_type": "code",
   "execution_count": 5,
   "metadata": {},
   "outputs": [
    {
     "data": {
      "text/plain": [
       "[2, -1, 2]"
      ]
     },
     "execution_count": 5,
     "metadata": {},
     "output_type": "execute_result"
    }
   ],
   "source": [
    "Solution().nextGreaterElements([1,2,1])"
   ]
  },
  {
   "cell_type": "code",
   "execution_count": null,
   "metadata": {},
   "outputs": [],
   "source": []
  }
 ],
 "metadata": {
  "kernelspec": {
   "display_name": "Python 3",
   "language": "python",
   "name": "python3"
  },
  "language_info": {
   "codemirror_mode": {
    "name": "ipython",
    "version": 3
   },
   "file_extension": ".py",
   "mimetype": "text/x-python",
   "name": "python",
   "nbconvert_exporter": "python",
   "pygments_lexer": "ipython3",
   "version": "3.6.7"
  }
 },
 "nbformat": 4,
 "nbformat_minor": 2
}
