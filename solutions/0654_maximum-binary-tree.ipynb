{
 "cells": [
  {
   "cell_type": "markdown",
   "metadata": {},
   "source": [
    "[654. Maximum Binary Tree](https://leetcode.com/problems/maximum-binary-tree/)"
   ]
  },
  {
   "cell_type": "markdown",
   "metadata": {},
   "source": [
    "1. 寻找最大的元素作为根节点, 安回原来的树上\n",
    "2. 递归调用生成左子树\n",
    "3. 递归调用生成右子树\n",
    "4. 返回根节点"
   ]
  },
  {
   "cell_type": "code",
   "execution_count": 16,
   "metadata": {},
   "outputs": [],
   "source": [
    "# Definition for a binary tree node.\n",
    "# class TreeNode:\n",
    "#     def __init__(self, x):\n",
    "#         self.val = x\n",
    "#         self.left = None\n",
    "#         self.right = None\n",
    "\n",
    "class Solution:\n",
    "    def constructMaximumBinaryTree(self, nums: 'List[int]') -> 'TreeNode':\n",
    "        def f(x): self.root = x\n",
    "        self._construct(nums, install)\n",
    "        return self.root\n",
    "\n",
    "    def _construct(self, nums: 'List[int]', install = None) -> 'TreeNode':\n",
    "        # 边界条件\n",
    "        if len(nums) == 0:\n",
    "            return\n",
    "\n",
    "        max_num = max(nums)\n",
    "        max_idx = nums.index(max_num)\n",
    "        \n",
    "        node = TreeNode(max_num)\n",
    "        install(node)\n",
    "        \n",
    "        def f1(x): node.left = x\n",
    "        def f2(x): node.right = x\n",
    "        self._construct(nums[:max_idx], f1)\n",
    "        self._construct(nums[max_idx + 1:], f2)"
   ]
  },
  {
   "cell_type": "markdown",
   "metadata": {},
   "source": [
    "单调栈"
   ]
  },
  {
   "cell_type": "code",
   "execution_count": 10,
   "metadata": {},
   "outputs": [],
   "source": [
    "# Definition for a binary tree node.\n",
    "class TreeNode:\n",
    "    def __init__(self, x):\n",
    "        self.val = x\n",
    "        self.left = None\n",
    "        self.right = None\n",
    "\n",
    "class Solution:\n",
    "    def constructMaximumBinaryTree(self, nums: 'List[int]') -> 'TreeNode':\n",
    "        from collections import deque\n",
    "        stack = deque()\n",
    "        \n",
    "        for i in nums:\n",
    "            print(i)\n",
    "            t = TreeNode(i)\n",
    "            while stack and stack[-1].val < i:\n",
    "                print('poping', stack[-1].val)\n",
    "                t.left = stack.pop()\n",
    "            \n",
    "            if stack:\n",
    "                stack[-1].right = t\n",
    "                \n",
    "            stack.append(t)\n",
    "        \n",
    "        return stack[0]"
   ]
  },
  {
   "cell_type": "code",
   "execution_count": 11,
   "metadata": {},
   "outputs": [
    {
     "name": "stdout",
     "output_type": "stream",
     "text": [
      "3\n",
      "2\n",
      "1\n",
      "6\n",
      "poping 1\n",
      "poping 2\n",
      "poping 3\n",
      "0\n",
      "5\n",
      "poping 0\n"
     ]
    }
   ],
   "source": [
    "p = Solution().constructMaximumBinaryTree([3,2,1,6,0,5])"
   ]
  },
  {
   "cell_type": "code",
   "execution_count": 9,
   "metadata": {},
   "outputs": [
    {
     "data": {
      "text/plain": [
       "2"
      ]
     },
     "execution_count": 9,
     "metadata": {},
     "output_type": "execute_result"
    }
   ],
   "source": [
    "p.left.right.val"
   ]
  },
  {
   "cell_type": "code",
   "execution_count": null,
   "metadata": {},
   "outputs": [],
   "source": []
  }
 ],
 "metadata": {
  "kernelspec": {
   "display_name": "Python 3",
   "language": "python",
   "name": "python3"
  },
  "language_info": {
   "codemirror_mode": {
    "name": "ipython",
    "version": 3
   },
   "file_extension": ".py",
   "mimetype": "text/x-python",
   "name": "python",
   "nbconvert_exporter": "python",
   "pygments_lexer": "ipython3",
   "version": "3.6.7"
  }
 },
 "nbformat": 4,
 "nbformat_minor": 2
}
