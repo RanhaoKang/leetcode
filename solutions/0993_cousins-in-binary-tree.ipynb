{
 "cells": [
  {
   "cell_type": "markdown",
   "metadata": {},
   "source": [
    "[993. Cousins in Binary Tree](https://leetcode.com/problems/cousins-in-binary-tree/)"
   ]
  },
  {
   "cell_type": "markdown",
   "metadata": {},
   "source": [
    "- BFS\n",
    "- "
   ]
  },
  {
   "cell_type": "code",
   "execution_count": null,
   "metadata": {},
   "outputs": [],
   "source": [
    "# Definition for a binary tree node.\n",
    "# class TreeNode:\n",
    "#     def __init__(self, x):\n",
    "#         self.val = x\n",
    "#         self.left = None\n",
    "#         self.right = None\n",
    "\n",
    "class Solution:\n",
    "    def isCousins(self, root: 'TreeNode', x: 'int', y: 'int') -> 'bool':\n",
    "        s1 = [root]\n",
    "        s2 = []\n",
    "        cur_level = 0\n",
    "        \n",
    "        while s:\n",
    "            p = s.pop(0)\n",
    "            if p.val == x or p.val == y:\n",
    "                while s1:\n",
    "                    p = s1.pop(0)\n",
    "                    if p.val == x or p.val == y:\n",
    "                        return True\n",
    "                return False\n",
    "            \n",
    "            if root.left:\n",
    "                s.append(root.left)\n",
    "            if root.right:\n",
    "                s.append(root.right)\n",
    "        \n",
    "        \n",
    "        "
   ]
  },
  {
   "cell_type": "code",
   "execution_count": 4,
   "metadata": {},
   "outputs": [],
   "source": [
    "a = [2,3,34]"
   ]
  },
  {
   "cell_type": "code",
   "execution_count": null,
   "metadata": {},
   "outputs": [],
   "source": []
  }
 ],
 "metadata": {
  "kernelspec": {
   "display_name": "Python 3",
   "language": "python",
   "name": "python3"
  },
  "language_info": {
   "codemirror_mode": {
    "name": "ipython",
    "version": 3
   },
   "file_extension": ".py",
   "mimetype": "text/x-python",
   "name": "python",
   "nbconvert_exporter": "python",
   "pygments_lexer": "ipython3",
   "version": "3.6.7"
  }
 },
 "nbformat": 4,
 "nbformat_minor": 2
}
