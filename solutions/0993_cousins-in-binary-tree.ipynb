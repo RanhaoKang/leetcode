{
 "cells": [
  {
   "cell_type": "markdown",
   "metadata": {},
   "source": [
    "[993. Cousins in Binary Tree](https://leetcode.com/problems/cousins-in-binary-tree/)"
   ]
  },
  {
   "cell_type": "code",
   "execution_count": 1,
   "metadata": {},
   "outputs": [],
   "source": [
    "# Definition for a binary tree node.\n",
    "# class TreeNode:\n",
    "#     def __init__(self, x):\n",
    "#         self.val = x\n",
    "#         self.left = None\n",
    "#         self.right = None\n",
    "\n",
    "class Solution:\n",
    "    def isCousins(self, root: 'TreeNode', x: 'int', y: 'int') -> 'bool':\n",
    "        parent, depth = {}, {}\n",
    "        \n",
    "        def dfs(node, par = None):\n",
    "            if not node:\n",
    "                return\n",
    "            depth[node.val] = 1 + depth[par.val] if par else 0\n",
    "            parent[node.val] = par\n",
    "            dfs(node.left, node)\n",
    "            dfs(node.right, node)\n",
    "        \n",
    "        dfs(root)\n",
    "        return depth[x] == depth[y] and parent[x] != parent[y]\n",
    "        "
   ]
  }
 ],
 "metadata": {
  "kernelspec": {
   "display_name": "Python 3",
   "language": "python",
   "name": "python3"
  },
  "language_info": {
   "codemirror_mode": {
    "name": "ipython",
    "version": 3
   },
   "file_extension": ".py",
   "mimetype": "text/x-python",
   "name": "python",
   "nbconvert_exporter": "python",
   "pygments_lexer": "ipython3",
   "version": "3.6.7"
  }
 },
 "nbformat": 4,
 "nbformat_minor": 2
}
