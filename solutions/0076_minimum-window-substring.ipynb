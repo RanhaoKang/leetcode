{
 "cells": [
  {
   "cell_type": "markdown",
   "metadata": {},
   "source": [
    "[76. Minimum Window Substring](https://leetcode.com/problems/minimum-window-substring/)"
   ]
  },
  {
   "cell_type": "markdown",
   "metadata": {},
   "source": [
    "如果`t`中无重复字符, `seen`的值可以存`index`, 写法如下"
   ]
  },
  {
   "cell_type": "code",
   "execution_count": 37,
   "metadata": {},
   "outputs": [],
   "source": [
    "class Solution:\n",
    "    def minWindow(self, s: str, t: str) -> str:\n",
    "        from itertools import repeat\n",
    "        seen = dict(zip(t, repeat(-1)))\n",
    "        \n",
    "        for i in range(len(s)):\n",
    "            if s[i] in seen:\n",
    "                seen[s[i]] = i\n",
    "        \n",
    "        l = seen.values()\n",
    "        if -1 in l:\n",
    "            return ''\n",
    "        \n",
    "        return s[min(l): max(l) + 1]"
   ]
  },
  {
   "cell_type": "code",
   "execution_count": 22,
   "metadata": {
    "scrolled": true
   },
   "outputs": [
    {
     "name": "stdout",
     "output_type": "stream",
     "text": [
      "{'a': -1}\n"
     ]
    },
    {
     "data": {
      "text/plain": [
       "'a'"
      ]
     },
     "execution_count": 22,
     "metadata": {},
     "output_type": "execute_result"
    }
   ],
   "source": [
    "Solution().minWindow('a', 'aa')"
   ]
  },
  {
   "cell_type": "markdown",
   "metadata": {},
   "source": [
    "可惜`t`是有重复字符的, 改用quque依然有问题"
   ]
  },
  {
   "cell_type": "code",
   "execution_count": 53,
   "metadata": {},
   "outputs": [],
   "source": [
    "class Solution:\n",
    "    def minWindow(self, s: str, t: str) -> str:\n",
    "        from collections import Counter, deque\n",
    "        seen = Counter(t)\n",
    "        for i in seen:\n",
    "            seen[i] = deque(maxlen = seen[i])\n",
    "        \n",
    "        for i in range(len(s)):\n",
    "            if s[i] in seen:\n",
    "                seen[s[i]].append(i)\n",
    "\n",
    "        l, r = float('inf'), float('-inf')\n",
    "        for i in seen:\n",
    "            if not seen[i] or len(seen[i]) != seen[i].maxlen:\n",
    "                return ''\n",
    "            l = min(l, seen[i][0])\n",
    "            r = max(r, seen[i][-1])\n",
    "        print(seen)\n",
    "        return s[l: r + 1]"
   ]
  },
  {
   "cell_type": "code",
   "execution_count": 54,
   "metadata": {},
   "outputs": [
    {
     "name": "stdout",
     "output_type": "stream",
     "text": [
      "Counter({'c': deque([15], maxlen=1), 'e': deque([12], maxlen=1), 'a': deque([11], maxlen=1)})\n"
     ]
    },
    {
     "data": {
      "text/plain": [
       "'aefgc'"
      ]
     },
     "execution_count": 54,
     "metadata": {},
     "output_type": "execute_result"
    }
   ],
   "source": [
    "Solution().minWindow('cabwefgewcwaefgcf', 'cae')"
   ]
  },
  {
   "cell_type": "code",
   "execution_count": 44,
   "metadata": {},
   "outputs": [],
   "source": [
    "a = deque(maxlen = 3)"
   ]
  },
  {
   "cell_type": "code",
   "execution_count": 46,
   "metadata": {},
   "outputs": [
    {
     "data": {
      "text/plain": [
       "3"
      ]
     },
     "execution_count": 46,
     "metadata": {},
     "output_type": "execute_result"
    }
   ],
   "source": [
    "a.maxlen"
   ]
  },
  {
   "cell_type": "code",
   "execution_count": null,
   "metadata": {},
   "outputs": [],
   "source": [
    "\"cabwefgewcwaefgcf\"\n",
    "\"cae\""
   ]
  }
 ],
 "metadata": {
  "kernelspec": {
   "display_name": "Python 3",
   "language": "python",
   "name": "python3"
  },
  "language_info": {
   "codemirror_mode": {
    "name": "ipython",
    "version": 3
   },
   "file_extension": ".py",
   "mimetype": "text/x-python",
   "name": "python",
   "nbconvert_exporter": "python",
   "pygments_lexer": "ipython3",
   "version": "3.6.7"
  }
 },
 "nbformat": 4,
 "nbformat_minor": 2
}
