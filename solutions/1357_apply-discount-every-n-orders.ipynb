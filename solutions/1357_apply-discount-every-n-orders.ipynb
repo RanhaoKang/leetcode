{
 "cells": [
  {
   "cell_type": "markdown",
   "metadata": {},
   "source": [
    "[1357. Apply Discount Every n Orders](https://leetcode.com/problems/apply-discount-every-n-orders/)"
   ]
  },
  {
   "cell_type": "code",
   "execution_count": 2,
   "metadata": {},
   "outputs": [],
   "source": [
    "class Cashier:\n",
    "\n",
    "    def __init__(self, n: int, discount: int, products, prices):\n",
    "        self._prices = {k: v for k, v in zip(products, prices)}\n",
    "        self._n = n\n",
    "        self._cur = 0\n",
    "        self._discount = discount\n",
    "\n",
    "\n",
    "    def getBill(self, product, amount) -> float:\n",
    "        total = sum(self._prices[p] * num for p, num in zip(product, amount))\n",
    "        self._cur += 1\n",
    "        if self._cur == self._n:\n",
    "            self._cur = 0\n",
    "            total = total - (self._discount * total) / 100\n",
    "        \n",
    "        return total\n",
    "        \n",
    "\n",
    "# Your Cashier object will be instantiated and called as such:\n",
    "# obj = Cashier(n, discount, products, prices)\n",
    "# param_1 = obj.getBill(product,amount)"
   ]
  },
  {
   "cell_type": "code",
   "execution_count": null,
   "metadata": {},
   "outputs": [],
   "source": []
  }
 ],
 "metadata": {
  "kernelspec": {
   "display_name": "Python 3",
   "language": "python",
   "name": "python3"
  },
  "language_info": {
   "codemirror_mode": {
    "name": "ipython",
    "version": 3
   },
   "file_extension": ".py",
   "mimetype": "text/x-python",
   "name": "python",
   "nbconvert_exporter": "python",
   "pygments_lexer": "ipython3",
   "version": "3.8.1"
  }
 },
 "nbformat": 4,
 "nbformat_minor": 4
}
