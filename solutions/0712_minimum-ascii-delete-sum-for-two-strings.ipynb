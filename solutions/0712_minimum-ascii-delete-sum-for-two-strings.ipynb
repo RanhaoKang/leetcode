{
 "cells": [
  {
   "cell_type": "markdown",
   "metadata": {},
   "source": [
    "[712. Minimum ASCII Delete Sum for Two Strings](https://leetcode.com/problems/minimum-ascii-delete-sum-for-two-strings/)"
   ]
  },
  {
   "cell_type": "code",
   "execution_count": 1,
   "metadata": {},
   "outputs": [],
   "source": [
    "class Solution:\n",
    "    def minimumDeleteSum(self, s1: str, s2: str) -> int:\n",
    "        N1, N2 = len(s1), len(s2)\n",
    "        # dp[i][j]: answer wo s1[i:], s2[j:]\n",
    "        dp = [[0] * (N2 + 1) for  _ in  range(N1 + 1)]\n",
    "        \n",
    "        for i in range(N1-1, -1, -1):\n",
    "            # 相当于minimumDeleteSum(s1[i:], ''), 下同\n",
    "            dp[i][N2] = dp[i+1][N2] + ord(s1[i])\n",
    "        for j in range(N2-1, -1, -1):\n",
    "            dp[N1][j] = dp[N1][j+1] + ord(s2[j])\n",
    "            \n",
    "        for i in range(N1-1, -1, -1):\n",
    "            for j in range(N2-1, -1, -1):\n",
    "                if s1[i] == s2[j]:\n",
    "                    dp[i][j] = dp[i+1][j+1]\n",
    "                else:\n",
    "                    dp[i][j] = min(\n",
    "                        dp[i+1][j] + ord(s1[i]),\n",
    "                        dp[i][j+1] + ord(s2[j])\n",
    "                    )\n",
    "        \n",
    "        return dp[0][0]"
   ]
  },
  {
   "cell_type": "code",
   "execution_count": null,
   "metadata": {},
   "outputs": [],
   "source": []
  }
 ],
 "metadata": {
  "kernelspec": {
   "display_name": "Python 3",
   "language": "python",
   "name": "python3"
  },
  "language_info": {
   "codemirror_mode": {
    "name": "ipython",
    "version": 3
   },
   "file_extension": ".py",
   "mimetype": "text/x-python",
   "name": "python",
   "nbconvert_exporter": "python",
   "pygments_lexer": "ipython3",
   "version": "3.6.7"
  }
 },
 "nbformat": 4,
 "nbformat_minor": 2
}
