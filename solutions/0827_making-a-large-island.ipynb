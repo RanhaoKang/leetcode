{
 "cells": [
  {
   "cell_type": "markdown",
   "metadata": {},
   "source": [
    "[827. Making A Large Island](https://leetcode.com/problems/making-a-large-island/)"
   ]
  },
  {
   "cell_type": "markdown",
   "metadata": {},
   "source": [
    "- DFS计算面积, 并为每个岛屿填不同的`index`作为标识\n",
    "- 找一个`grid[r][c] == 0`的点，尝试连接相邻的岛屿"
   ]
  },
  {
   "cell_type": "code",
   "execution_count": 1,
   "metadata": {},
   "outputs": [],
   "source": [
    "class Solution:\n",
    "    def largestIsland(self, grid) -> int:\n",
    "        N = len(grid)\n",
    "\n",
    "        def neighbors(r, c):\n",
    "            for nr, nc in ((r-1, c), (r+1, c), (r, c-1), (r, c+1)):\n",
    "                if 0 <= nr < N and 0 <= nc < N:\n",
    "                    yield nr, nc\n",
    "\n",
    "        def dfs(r, c, index):\n",
    "            ans = 1\n",
    "            grid[r][c] = index\n",
    "            for nr, nc in neighbors(r, c):\n",
    "                if grid[nr][nc] == 1:\n",
    "                    ans += dfs(nr, nc, index)\n",
    "            return ans\n",
    "\n",
    "        area = {}\n",
    "        index = 2\n",
    "        for r in range(N):\n",
    "            for c in range(N):\n",
    "                if grid[r][c] == 1:\n",
    "                    area[index] = dfs(r, c, index)\n",
    "                    index += 1\n",
    "\n",
    "        ans = max(area.values(), default = 0)\n",
    "        for r in range(N):\n",
    "            for c in range(N):\n",
    "                if grid[r][c] == 0:\n",
    "                    seen = {grid[nr][nc] for nr, nc in neighbors(r, c) if grid[nr][nc] > 1}\n",
    "                    ans = max(ans, 1 + sum(area[i] for i in seen))\n",
    "        return ans"
   ]
  },
  {
   "cell_type": "code",
   "execution_count": null,
   "metadata": {},
   "outputs": [],
   "source": []
  }
 ],
 "metadata": {
  "kernelspec": {
   "display_name": "Python 3",
   "language": "python",
   "name": "python3"
  },
  "language_info": {
   "codemirror_mode": {
    "name": "ipython",
    "version": 3
   },
   "file_extension": ".py",
   "mimetype": "text/x-python",
   "name": "python",
   "nbconvert_exporter": "python",
   "pygments_lexer": "ipython3",
   "version": "3.8.1"
  }
 },
 "nbformat": 4,
 "nbformat_minor": 4
}
