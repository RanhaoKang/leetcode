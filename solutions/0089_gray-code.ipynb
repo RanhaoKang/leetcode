{
 "cells": [
  {
   "cell_type": "markdown",
   "metadata": {},
   "source": [
    "[89. Gray Code](https://leetcode.com/problems/gray-code/)"
   ]
  },
  {
   "cell_type": "code",
   "execution_count": null,
   "metadata": {},
   "outputs": [],
   "source": [
    "class Solution:\n",
    "    # @return a list of integers\n",
    "    '''\n",
    "    from up to down, then left to right\n",
    "    \n",
    "    0   1   11  110\n",
    "            10  111\n",
    "                101\n",
    "                100\n",
    "                \n",
    "    start:      [0]\n",
    "    i = 0:      [0, 1]\n",
    "    i = 1:      [0, 1, 3, 2]\n",
    "    i = 2:      [0, 1, 3, 2, 6, 7, 5, 4]\n",
    "    '''\n",
    "    def grayCode(self, n):\n",
    "        results = [0]\n",
    "        for i in range(n):\n",
    "            results += [x + pow(2, i) for x in reversed(results)]\n",
    "        return results"
   ]
  }
 ],
 "metadata": {
  "kernelspec": {
   "display_name": "Python 3",
   "language": "python",
   "name": "python3"
  },
  "language_info": {
   "codemirror_mode": {
    "name": "ipython",
    "version": 3
   },
   "file_extension": ".py",
   "mimetype": "text/x-python",
   "name": "python",
   "nbconvert_exporter": "python",
   "pygments_lexer": "ipython3",
   "version": "3.6.7"
  }
 },
 "nbformat": 4,
 "nbformat_minor": 2
}
