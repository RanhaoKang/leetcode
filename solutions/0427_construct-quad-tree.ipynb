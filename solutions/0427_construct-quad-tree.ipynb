{
 "cells": [
  {
   "cell_type": "markdown",
   "metadata": {},
   "source": [
    "[427. Construct Quad Tree](https://leetcode.com/problems/construct-quad-tree/)"
   ]
  },
  {
   "cell_type": "code",
   "execution_count": 52,
   "metadata": {},
   "outputs": [],
   "source": [
    "# Definition for a QuadTree node.\n",
    "class Node:\n",
    "    def __init__(self, val, isLeaf, topLeft, topRight, bottomLeft, bottomRight):\n",
    "        self.val = val\n",
    "        self.isLeaf = isLeaf\n",
    "        self.topLeft = topLeft\n",
    "        self.topRight = topRight\n",
    "        self.bottomLeft = bottomLeft\n",
    "        self.bottomRight = bottomRight\n",
    "\n",
    "class Solution:\n",
    "    def construct(self, grid) -> 'Node':\n",
    "        def solve(l, r, t, b):\n",
    "            node = Node(True, False, None, None, None, None)\n",
    "            if l < r or t < b:\n",
    "                m1 = (l + r) // 2\n",
    "                m2 = (t + b) // 2\n",
    "                node.topLeft = solve(l, m1, t, m2)\n",
    "                node.topRight = solve(m1+1, r, t, m2)\n",
    "                node.bottomLeft = solve(l, m1, m2+1, b)\n",
    "                node.bottomRight = solve(m1+1, r, m2+1, b)\n",
    "                \n",
    "                all_true = all_false = True\n",
    "                for child in [node.topLeft, node.topRight, node.bottomLeft, node.bottomRight]:\n",
    "                    if child.isLeaf is False:\n",
    "                        return node\n",
    "                    \n",
    "                    if child.val is True:\n",
    "                        all_false = False\n",
    "                    elif child.val is False:\n",
    "                        all_true = False\n",
    "                if all_true or all_false:\n",
    "                    node.val = all_true\n",
    "                    node.isLeaf = True\n",
    "                    node.topLeft = node.topRight = node.bottomLeft = node.bottomRight = None\n",
    "                    \n",
    "            else:\n",
    "                node.val = grid[t][l] == 1\n",
    "                node.isLeaf = True\n",
    "            return node\n",
    "\n",
    "        N = len(grid)\n",
    "        return solve(0, N-1, 0, N-1)"
   ]
  },
  {
   "cell_type": "code",
   "execution_count": 53,
   "metadata": {},
   "outputs": [],
   "source": [
    "p = Solution().construct(\n",
    "[[1,1,1,1,0,0,0,0],[1,1,1,1,0,0,0,0],[1,1,1,1,1,1,1,1],[1,1,1,1,1,1,1,1],[1,1,1,1,0,0,0,0],[1,1,1,1,0,0,0,0],[1,1,1,1,0,0,0,0],[1,1,1,1,0,0,0,0]])"
   ]
  },
  {
   "cell_type": "code",
   "execution_count": 51,
   "metadata": {},
   "outputs": [
    {
     "data": {
      "text/plain": [
       "False"
      ]
     },
     "execution_count": 51,
     "metadata": {},
     "output_type": "execute_result"
    }
   ],
   "source": [
    "p.topRight.isLeaf"
   ]
  },
  {
   "cell_type": "code",
   "execution_count": null,
   "metadata": {},
   "outputs": [],
   "source": []
  }
 ],
 "metadata": {
  "kernelspec": {
   "display_name": "Python 3",
   "language": "python",
   "name": "python3"
  },
  "language_info": {
   "codemirror_mode": {
    "name": "ipython",
    "version": 3
   },
   "file_extension": ".py",
   "mimetype": "text/x-python",
   "name": "python",
   "nbconvert_exporter": "python",
   "pygments_lexer": "ipython3",
   "version": "3.6.7"
  }
 },
 "nbformat": 4,
 "nbformat_minor": 2
}
