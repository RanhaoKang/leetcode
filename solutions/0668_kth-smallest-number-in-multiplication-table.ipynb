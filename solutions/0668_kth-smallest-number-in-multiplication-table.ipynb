{
 "cells": [
  {
   "cell_type": "markdown",
   "metadata": {},
   "source": [
    "[668. Kth Smallest Number in Multiplication Table](https://leetcode.com/problems/kth-smallest-number-in-multiplication-table/)"
   ]
  },
  {
   "cell_type": "markdown",
   "metadata": {},
   "source": [
    "整张表其实是一个每行每列有序的矩阵, 不过由于全部生成会导致MLE, 不考虑[378. Kth Smallest Element in a Sorted Matrix](https://github.com/RanhaoKang/leetcode/blob/master/solutions/0378_kth-smallest-element-in-a-sorted-matrix.ipynb)的$O(n)$做法."
   ]
  },
  {
   "cell_type": "markdown",
   "metadata": {},
   "source": [
    "binary search"
   ]
  },
  {
   "cell_type": "code",
   "execution_count": 3,
   "metadata": {},
   "outputs": [],
   "source": [
    "class Solution:\n",
    "    def findKthNumber(self, m: int, n: int, k: int) -> int:\n",
    "        def enough(x):\n",
    "            cnt = 0\n",
    "            for i in range(1, m + 1):\n",
    "                cnt += min(x // i, n)\n",
    "            return cnt >= k\n",
    "        \n",
    "        \n",
    "        lo, hi = 1, m * n\n",
    "        while lo < hi:\n",
    "            mi = (lo + hi) // 2\n",
    "            if enough(mi):\n",
    "                hi = mi\n",
    "            else:\n",
    "                lo = mi + 1\n",
    "\n",
    "        return lo"
   ]
  },
  {
   "cell_type": "code",
   "execution_count": null,
   "metadata": {},
   "outputs": [],
   "source": []
  }
 ],
 "metadata": {
  "kernelspec": {
   "display_name": "Python 3",
   "language": "python",
   "name": "python3"
  },
  "language_info": {
   "codemirror_mode": {
    "name": "ipython",
    "version": 3
   },
   "file_extension": ".py",
   "mimetype": "text/x-python",
   "name": "python",
   "nbconvert_exporter": "python",
   "pygments_lexer": "ipython3",
   "version": "3.6.7"
  }
 },
 "nbformat": 4,
 "nbformat_minor": 2
}
