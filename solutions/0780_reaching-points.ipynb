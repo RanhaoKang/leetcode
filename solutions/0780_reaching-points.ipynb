{
 "cells": [
  {
   "cell_type": "markdown",
   "metadata": {},
   "source": [
    "[780. Reaching Points](https://leetcode.com/problems/reaching-points/)"
   ]
  },
  {
   "cell_type": "markdown",
   "metadata": {},
   "source": [
    "Impressive! It looks like a tree, if you know one node, it's always easy to get the root because you have exact one way to get the parent node."
   ]
  },
  {
   "cell_type": "code",
   "execution_count": null,
   "metadata": {},
   "outputs": [],
   "source": [
    "class Solution:\n",
    "    def reachingPoints(self, sx: int, sy: int, tx: int, ty: int) -> bool:\n",
    "        while sx < tx and sy < ty:\n",
    "            tx, ty = tx % ty, ty % tx\n",
    "        \n",
    "        return sx == tx and sy <= ty and (ty - sy) % sx == 0 or\\\n",
    "                sy == ty and sx <= tx and (tx - sx) % sy == 0"
   ]
  }
 ],
 "metadata": {
  "kernelspec": {
   "display_name": "Python 3",
   "language": "python",
   "name": "python3"
  },
  "language_info": {
   "codemirror_mode": {
    "name": "ipython",
    "version": 3
   },
   "file_extension": ".py",
   "mimetype": "text/x-python",
   "name": "python",
   "nbconvert_exporter": "python",
   "pygments_lexer": "ipython3",
   "version": "3.8.1"
  }
 },
 "nbformat": 4,
 "nbformat_minor": 4
}
