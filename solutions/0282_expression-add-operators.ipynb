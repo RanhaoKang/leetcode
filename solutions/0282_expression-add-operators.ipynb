{
 "cells": [
  {
   "cell_type": "markdown",
   "metadata": {},
   "source": [
    "[282. Expression Add Operators](https://leetcode.com/problems/expression-add-operators/)"
   ]
  },
  {
   "cell_type": "code",
   "execution_count": 22,
   "metadata": {},
   "outputs": [],
   "source": [
    "class Solution:\n",
    "    def addOperators(self, s: str, target: int):\n",
    "        res = []\n",
    "        def dfs(s, temp, last, cur):\n",
    "            # print(s, temp, last, cur)\n",
    "            if not s:\n",
    "                if cur == target:\n",
    "                    res.append(temp)\n",
    "                return\n",
    "\n",
    "            for i in range(1, len(s) + 1):\n",
    "                if i == 1 or (i > 1 and s[0] != '0'):\n",
    "                    x = int(s[:i])\n",
    "                    dfs(s[i:], '+'.join([temp, s[:i]]), x, cur + x)\n",
    "                    dfs(s[i:], '-'.join([temp, s[:i]]), -x, cur - x)\n",
    "                    dfs(s[i:], '*'.join([temp, s[:i]]), last * x, cur-last+last*x)\n",
    "                    \n",
    "        for i in range(1, len(s) + 1):\n",
    "            if i == 1 or (i > 1 and s[0] != '0'):\n",
    "                dfs(s[i:], s[:i], int(s[:i]), int(s[:i]))\n",
    "        \n",
    "        return res"
   ]
  },
  {
   "cell_type": "code",
   "execution_count": 23,
   "metadata": {},
   "outputs": [
    {
     "data": {
      "text/plain": [
       "['1+2+3', '1*2*3']"
      ]
     },
     "execution_count": 23,
     "metadata": {},
     "output_type": "execute_result"
    }
   ],
   "source": [
    "Solution().addOperators('123', 6)"
   ]
  },
  {
   "cell_type": "code",
   "execution_count": 24,
   "metadata": {},
   "outputs": [
    {
     "data": {
      "text/plain": [
       "['2+3*2', '2*3+2']"
      ]
     },
     "execution_count": 24,
     "metadata": {},
     "output_type": "execute_result"
    }
   ],
   "source": [
    "Solution().addOperators('232', 8)"
   ]
  },
  {
   "cell_type": "code",
   "execution_count": null,
   "metadata": {},
   "outputs": [],
   "source": []
  }
 ],
 "metadata": {
  "kernelspec": {
   "display_name": "Python 3",
   "language": "python",
   "name": "python3"
  },
  "language_info": {
   "codemirror_mode": {
    "name": "ipython",
    "version": 3
   },
   "file_extension": ".py",
   "mimetype": "text/x-python",
   "name": "python",
   "nbconvert_exporter": "python",
   "pygments_lexer": "ipython3",
   "version": "3.8.1"
  }
 },
 "nbformat": 4,
 "nbformat_minor": 4
}
