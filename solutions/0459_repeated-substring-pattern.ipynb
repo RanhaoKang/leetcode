{
 "cells": [
  {
   "cell_type": "markdown",
   "metadata": {},
   "source": [
    "[459. Repeated Substring Pattern](https://leetcode.com/problems/repeated-substring-pattern/)"
   ]
  },
  {
   "cell_type": "markdown",
   "metadata": {},
   "source": [
    "利用two pointer找可能的pattern, 之后用了顺序遍历的方法确认是否是repeated pattern.\n",
    "\n",
    "总的应该是$O(N)$"
   ]
  },
  {
   "cell_type": "code",
   "execution_count": 18,
   "metadata": {},
   "outputs": [],
   "source": [
    "class Solution:\n",
    "    def repeatedSubstringPattern(self, S: str) -> bool:\n",
    "        def match(string, pattern):\n",
    "            print('pattern', pattern)\n",
    "            n = len(pattern)\n",
    "            while string[:n] == pattern:\n",
    "                string = string[n:]\n",
    "            \n",
    "            return string == ''\n",
    "                \n",
    "        N = len(S)\n",
    "        s, e = 1, N - 1\n",
    "        while s <= e:\n",
    "            print('左:', S[:s])\n",
    "            print('右:', S[e:])\n",
    "            if S[:s] == S[e:] and match(S, S[:s]):\n",
    "                return True\n",
    "            s, e = s + 1, e - 1\n",
    "        \n",
    "        return False"
   ]
  },
  {
   "cell_type": "code",
   "execution_count": 19,
   "metadata": {},
   "outputs": [
    {
     "name": "stdout",
     "output_type": "stream",
     "text": [
      "左: a\n",
      "右: b\n",
      "左: ab\n",
      "右: ab\n",
      "pattern ab\n"
     ]
    },
    {
     "data": {
      "text/plain": [
       "True"
      ]
     },
     "execution_count": 19,
     "metadata": {},
     "output_type": "execute_result"
    }
   ],
   "source": [
    "Solution().repeatedSubstringPattern('abab')"
   ]
  },
  {
   "cell_type": "code",
   "execution_count": 20,
   "metadata": {},
   "outputs": [
    {
     "name": "stdout",
     "output_type": "stream",
     "text": [
      "左: a\n",
      "右: a\n",
      "pattern a\n"
     ]
    },
    {
     "data": {
      "text/plain": [
       "False"
      ]
     },
     "execution_count": 20,
     "metadata": {},
     "output_type": "execute_result"
    }
   ],
   "source": [
    "Solution().repeatedSubstringPattern('aba')"
   ]
  },
  {
   "cell_type": "code",
   "execution_count": 21,
   "metadata": {},
   "outputs": [
    {
     "name": "stdout",
     "output_type": "stream",
     "text": [
      "左: a\n",
      "右: c\n",
      "左: ab\n",
      "右: bc\n",
      "左: abc\n",
      "右: abc\n",
      "pattern abc\n"
     ]
    },
    {
     "data": {
      "text/plain": [
       "True"
      ]
     },
     "execution_count": 21,
     "metadata": {},
     "output_type": "execute_result"
    }
   ],
   "source": [
    "Solution().repeatedSubstringPattern('abcabcabcabc')"
   ]
  },
  {
   "cell_type": "code",
   "execution_count": null,
   "metadata": {},
   "outputs": [],
   "source": []
  }
 ],
 "metadata": {
  "kernelspec": {
   "display_name": "Python 3",
   "language": "python",
   "name": "python3"
  },
  "language_info": {
   "codemirror_mode": {
    "name": "ipython",
    "version": 3
   },
   "file_extension": ".py",
   "mimetype": "text/x-python",
   "name": "python",
   "nbconvert_exporter": "python",
   "pygments_lexer": "ipython3",
   "version": "3.6.7"
  }
 },
 "nbformat": 4,
 "nbformat_minor": 2
}
