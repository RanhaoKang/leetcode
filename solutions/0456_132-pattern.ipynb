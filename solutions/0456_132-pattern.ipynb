{
 "cells": [
  {
   "cell_type": "markdown",
   "metadata": {},
   "source": [
    "[456. 132 Pattern](https://leetcode.com/problems/132-pattern/)"
   ]
  },
  {
   "cell_type": "markdown",
   "metadata": {},
   "source": [
    "132这个pattern, 数值上1和3最特殊好处理, 位置上1最好处理(只需要one-pass). 我们记录从左到右的最小值`_min`, `_min[i]`表示`min(A[:i])`. 接着从右到左使用单调递减栈即可"
   ]
  },
  {
   "cell_type": "code",
   "execution_count": 1,
   "metadata": {},
   "outputs": [],
   "source": [
    "from collections import deque\n",
    "\n",
    "class Solution:\n",
    "    def find132pattern(self, A) -> bool:\n",
    "        \n",
    "        # build _min array\n",
    "        _min = [float('inf')]\n",
    "        for i in A:\n",
    "            _min.append(min(_min[-1], i))\n",
    "        \n",
    "        # build monotonous stack\n",
    "        stack = deque()\n",
    "        for i in range(len(A) - 1, -1 , -1):\n",
    "            \n",
    "            # pop numbers too small\n",
    "            while stack and stack[-1] <= _min[i]:\n",
    "                stack.pop()\n",
    "                \n",
    "            # check the goal \n",
    "            if stack and _min[i] < stack[-1] < A[i]:\n",
    "                return True\n",
    "            \n",
    "            stack.append(A[i])\n",
    "        \n",
    "        return False"
   ]
  },
  {
   "cell_type": "code",
   "execution_count": 2,
   "metadata": {},
   "outputs": [
    {
     "data": {
      "text/plain": [
       "True"
      ]
     },
     "execution_count": 2,
     "metadata": {},
     "output_type": "execute_result"
    }
   ],
   "source": [
    "Solution().find132pattern([1,3,2])"
   ]
  },
  {
   "cell_type": "code",
   "execution_count": 3,
   "metadata": {},
   "outputs": [
    {
     "data": {
      "text/plain": [
       "True"
      ]
     },
     "execution_count": 3,
     "metadata": {},
     "output_type": "execute_result"
    }
   ],
   "source": [
    "Solution().find132pattern([3,5,0,3,4])"
   ]
  },
  {
   "cell_type": "code",
   "execution_count": null,
   "metadata": {},
   "outputs": [],
   "source": []
  }
 ],
 "metadata": {
  "kernelspec": {
   "display_name": "Python 3",
   "language": "python",
   "name": "python3"
  },
  "language_info": {
   "codemirror_mode": {
    "name": "ipython",
    "version": 3
   },
   "file_extension": ".py",
   "mimetype": "text/x-python",
   "name": "python",
   "nbconvert_exporter": "python",
   "pygments_lexer": "ipython3",
   "version": "3.6.7"
  }
 },
 "nbformat": 4,
 "nbformat_minor": 2
}
