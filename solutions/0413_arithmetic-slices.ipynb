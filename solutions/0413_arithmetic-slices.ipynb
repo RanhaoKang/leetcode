{
 "cells": [
  {
   "cell_type": "markdown",
   "metadata": {},
   "source": [
    "[413. Arithmetic Slices](https://leetcode.com/problems/arithmetic-slices/)"
   ]
  },
  {
   "cell_type": "code",
   "execution_count": 1,
   "metadata": {},
   "outputs": [],
   "source": [
    "class Solution:\n",
    "    def numberOfArithmeticSlices(self, A) -> int:\n",
    "        N = len(A)\n",
    "        # dp[i]: [0:i]的slices数量\n",
    "        dp = [0] * N\n",
    "        res = 0\n",
    "        \n",
    "        for i in range(2, N):\n",
    "            # 是等差\n",
    "            if A[i] - A[i-1] == A[i-1] - A[i-2]:\n",
    "                # 如果有个长度为5的等差数列, 那么合法的slices有1+2+3个\n",
    "                dp[i] = dp[i-1] + 1\n",
    "                res += dp[i]\n",
    "        \n",
    "        return res"
   ]
  },
  {
   "cell_type": "code",
   "execution_count": null,
   "metadata": {},
   "outputs": [],
   "source": []
  }
 ],
 "metadata": {
  "kernelspec": {
   "display_name": "Python 3",
   "language": "python",
   "name": "python3"
  },
  "language_info": {
   "codemirror_mode": {
    "name": "ipython",
    "version": 3
   },
   "file_extension": ".py",
   "mimetype": "text/x-python",
   "name": "python",
   "nbconvert_exporter": "python",
   "pygments_lexer": "ipython3",
   "version": "3.6.7"
  }
 },
 "nbformat": 4,
 "nbformat_minor": 2
}
