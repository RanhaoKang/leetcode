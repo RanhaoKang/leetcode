{
 "cells": [
  {
   "cell_type": "markdown",
   "metadata": {},
   "source": [
    "[181. Employees Earning More Than Their Managers](https://leetcode.com/problems/employees-earning-more-than-their-managers/)"
   ]
  },
  {
   "cell_type": "markdown",
   "metadata": {},
   "source": [
    "找到工资倒挂的员工, 充满恶意的一道题hhhhh"
   ]
  },
  {
   "cell_type": "markdown",
   "metadata": {},
   "source": [
    "```sql\n",
    "# Write your MySQL query statement below\n",
    "SELECT\n",
    "    a.NAME as Employee\n",
    "FROM Employee AS a JOIN Employee AS b\n",
    "    ON a.ManagerId = b.Id\n",
    "    AND a.Salary > b.Salary\n",
    "```"
   ]
  },
  {
   "cell_type": "code",
   "execution_count": 5,
   "metadata": {},
   "outputs": [],
   "source": [
    "import sqlite3\n",
    "con = sqlite3.connect(':memory:')\n",
    "c = con.cursor()\n",
    "for i in [\"Create table If Not Exists Employee (Id int, Name varchar(255), Salary int, ManagerId int)\",\n",
    "\"insert into Employee (Id, Name, Salary, ManagerId) values ('1', 'Joe', '70000', '3')\",\n",
    "\"insert into Employee (Id, Name, Salary, ManagerId) values ('2', 'Henry', '80000', '4')\",\n",
    "\"insert into Employee (Id, Name, Salary, ManagerId) values ('3', 'Sam', '60000', 'None')\",\n",
    "\"insert into Employee (Id, Name, Salary, ManagerId) values ('4', 'Max', '90000', 'None')\",]:\n",
    "    c.execute(i)"
   ]
  },
  {
   "cell_type": "code",
   "execution_count": 6,
   "metadata": {},
   "outputs": [
    {
     "data": {
      "text/plain": [
       "[('Joe',)]"
      ]
     },
     "execution_count": 6,
     "metadata": {},
     "output_type": "execute_result"
    }
   ],
   "source": [
    "c.execute('''\n",
    "SELECT\n",
    "    a.NAME as Employee\n",
    "FROM Employee AS a JOIN Employee AS b\n",
    "    ON a.ManagerId = b.Id\n",
    "    AND a.Salary > b.Salary\n",
    "''').fetchall()"
   ]
  },
  {
   "cell_type": "code",
   "execution_count": null,
   "metadata": {},
   "outputs": [],
   "source": []
  }
 ],
 "metadata": {
  "kernelspec": {
   "display_name": "Python 3",
   "language": "python",
   "name": "python3"
  },
  "language_info": {
   "codemirror_mode": {
    "name": "ipython",
    "version": 3
   },
   "file_extension": ".py",
   "mimetype": "text/x-python",
   "name": "python",
   "nbconvert_exporter": "python",
   "pygments_lexer": "ipython3",
   "version": "3.6.7"
  }
 },
 "nbformat": 4,
 "nbformat_minor": 2
}
