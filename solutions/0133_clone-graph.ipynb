{
 "cells": [
  {
   "cell_type": "markdown",
   "metadata": {},
   "source": [
    "[133. Clone Graph](https://leetcode.com/problems/clone-graph/)"
   ]
  },
  {
   "cell_type": "code",
   "execution_count": 7,
   "metadata": {},
   "outputs": [],
   "source": [
    "\n",
    "# Definition for a Node.\n",
    "class Node:\n",
    "    def __init__(self, val, neighbors):\n",
    "        self.val = val\n",
    "        self.neighbors = neighbors\n",
    "\n",
    "class Solution:\n",
    "    def cloneGraph(self, node: 'Node') -> 'Node':\n",
    "        \n",
    "        visited = {}\n",
    "        \n",
    "        def solve(node):\n",
    "            if node.val in visited:\n",
    "                return visited[node.val]\n",
    "            \n",
    "            new_node = Node(node.val, [])\n",
    "            visited[node.val] = new_node   \n",
    "            new_node.neighbors = [solve(i) for i in node.neighbors]\n",
    "            return new_node\n",
    "        \n",
    "        return solve(node)"
   ]
  },
  {
   "cell_type": "code",
   "execution_count": 8,
   "metadata": {},
   "outputs": [
    {
     "name": "stdout",
     "output_type": "stream",
     "text": [
      "1\n",
      "2\n",
      "1\n",
      "3\n",
      "2\n",
      "4\n",
      "1\n",
      "3\n",
      "4\n"
     ]
    }
   ],
   "source": [
    "a = Node(1, [])\n",
    "b = Node(2, [])\n",
    "c = Node(3, [])\n",
    "d = Node(4, [])\n",
    "a.neighbors = [b, d]\n",
    "b.neighbors = [a, c]\n",
    "c.neighbors = [b, d]\n",
    "d.neighbors = [a, c]\n",
    "\n",
    "res = Solution().cloneGraph(a)"
   ]
  },
  {
   "cell_type": "code",
   "execution_count": 9,
   "metadata": {},
   "outputs": [
    {
     "data": {
      "text/plain": [
       "1"
      ]
     },
     "execution_count": 9,
     "metadata": {},
     "output_type": "execute_result"
    }
   ],
   "source": [
    "res.val"
   ]
  },
  {
   "cell_type": "code",
   "execution_count": 13,
   "metadata": {},
   "outputs": [
    {
     "data": {
      "text/plain": [
       "4"
      ]
     },
     "execution_count": 13,
     "metadata": {},
     "output_type": "execute_result"
    }
   ],
   "source": [
    "res.neighbors[1].val"
   ]
  },
  {
   "cell_type": "code",
   "execution_count": 1,
   "metadata": {},
   "outputs": [],
   "source": [
    "class Solution:\n",
    "    def cloneGraph(self, root):\n",
    "        def clone(node):\n",
    "            cloned[node.val] = Node(node.val)\n",
    "            cloned[node.val].neighbors = list(map(lambda n: cloned[n.val] if n.val in cloned else clone(n), node.neighbors))\n",
    "            return cloned[node.val]\n",
    "        cloned = {}\n",
    "        return clone(root) if root else None"
   ]
  },
  {
   "cell_type": "code",
   "execution_count": null,
   "metadata": {},
   "outputs": [],
   "source": []
  }
 ],
 "metadata": {
  "kernelspec": {
   "display_name": "Python 3",
   "language": "python",
   "name": "python3"
  },
  "language_info": {
   "codemirror_mode": {
    "name": "ipython",
    "version": 3
   },
   "file_extension": ".py",
   "mimetype": "text/x-python",
   "name": "python",
   "nbconvert_exporter": "python",
   "pygments_lexer": "ipython3",
   "version": "3.8.0b3"
  }
 },
 "nbformat": 4,
 "nbformat_minor": 2
}
