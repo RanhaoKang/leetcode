{
 "cells": [
  {
   "cell_type": "markdown",
   "metadata": {},
   "source": [
    "[547. Friend Circles](https://leetcode.com/problems/friend-circles/)"
   ]
  },
  {
   "cell_type": "code",
   "execution_count": 1,
   "metadata": {},
   "outputs": [],
   "source": [
    "class Solution:\n",
    "    def findCircleNum(self, M: \"List[List[int]]\") -> int:\n",
    "        \n",
    "        def dfs(i):\n",
    "            if visited[i]:\n",
    "                return 0\n",
    "            \n",
    "            visited[i] = True\n",
    "            for j in range(N):\n",
    "                if M[i][j] == 1:\n",
    "                    dfs(j)\n",
    "            \n",
    "            return 1\n",
    "            \n",
    "            \n",
    "        N = len(M)\n",
    "        \n",
    "        visited = [False] * N\n",
    "        return sum(dfs(i) for i in range(N))\n",
    "                "
   ]
  },
  {
   "cell_type": "code",
   "execution_count": null,
   "metadata": {},
   "outputs": [],
   "source": []
  }
 ],
 "metadata": {
  "kernelspec": {
   "display_name": "Python 3",
   "language": "python",
   "name": "python3"
  },
  "language_info": {
   "codemirror_mode": {
    "name": "ipython",
    "version": 3
   },
   "file_extension": ".py",
   "mimetype": "text/x-python",
   "name": "python",
   "nbconvert_exporter": "python",
   "pygments_lexer": "ipython3",
   "version": "3.8.1"
  }
 },
 "nbformat": 4,
 "nbformat_minor": 4
}
