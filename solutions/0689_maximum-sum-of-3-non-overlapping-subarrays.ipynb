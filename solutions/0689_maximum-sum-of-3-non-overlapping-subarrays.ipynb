{
 "cells": [
  {
   "cell_type": "markdown",
   "metadata": {},
   "source": [
    "[689. Maximum Sum of 3 Non-Overlapping Subarrays](https://leetcode.com/problems/maximum-sum-of-3-non-overlapping-subarrays/)"
   ]
  },
  {
   "cell_type": "code",
   "execution_count": 2,
   "metadata": {},
   "outputs": [],
   "source": [
    "class Solution:\n",
    "    def maxSumOfThreeSubarrays(self, nums, k: int):\n",
    "        \n",
    "        # Best single, double, and triple sequence found so far\n",
    "        bestSeq = 0\n",
    "        bestTwoSeq = [0, k]\n",
    "        bestThreeSeq = [0, k, k*2]\n",
    "\n",
    "        # Sums of each window\n",
    "        seqSum = sum(nums[0:k])\n",
    "        seqTwoSum = sum(nums[k:k*2])\n",
    "        seqThreeSum = sum(nums[k*2:k*3])\n",
    "\n",
    "        # Sums of combined best windows\n",
    "        bestSeqSum = seqSum\n",
    "        bestTwoSum = seqSum + seqTwoSum\n",
    "        bestThreeSum = seqSum + seqTwoSum + seqThreeSum\n",
    "\n",
    "        # Current window positions\n",
    "        seqIndex = 1\n",
    "        twoSeqIndex = k + 1\n",
    "        threeSeqIndex = k*2 + 1\n",
    "        while threeSeqIndex <= len(nums) - k:\n",
    "            # Update the three sliding windows\n",
    "            seqSum = seqSum - nums[seqIndex - 1] + nums[seqIndex + k - 1]\n",
    "            seqTwoSum = seqTwoSum - nums[twoSeqIndex - 1] + nums[twoSeqIndex + k - 1]\n",
    "            seqThreeSum = seqThreeSum - nums[threeSeqIndex - 1] + nums[threeSeqIndex + k - 1]\n",
    "            \n",
    "            # Update best single window\n",
    "            if seqSum > bestSeqSum:\n",
    "                bestSeq = seqIndex\n",
    "                bestSeqSum = seqSum\n",
    "\n",
    "            # Update best two windows\n",
    "            if seqTwoSum + bestSeqSum > bestTwoSum:\n",
    "                bestTwoSeq = [bestSeq, twoSeqIndex]\n",
    "                bestTwoSum = seqTwoSum + bestSeqSum\n",
    "\n",
    "            # Update best three windows\n",
    "            if seqThreeSum + bestTwoSum > bestThreeSum:\n",
    "                bestThreeSeq = bestTwoSeq + [threeSeqIndex]\n",
    "                bestThreeSum = seqThreeSum + bestTwoSum\n",
    "\n",
    "            # Update the current positions\n",
    "            seqIndex += 1\n",
    "            twoSeqIndex += 1\n",
    "            threeSeqIndex += 1\n",
    "\n",
    "        return bestThreeSeq"
   ]
  },
  {
   "cell_type": "code",
   "execution_count": null,
   "metadata": {},
   "outputs": [],
   "source": []
  }
 ],
 "metadata": {
  "kernelspec": {
   "display_name": "Python 3",
   "language": "python",
   "name": "python3"
  },
  "language_info": {
   "codemirror_mode": {
    "name": "ipython",
    "version": 3
   },
   "file_extension": ".py",
   "mimetype": "text/x-python",
   "name": "python",
   "nbconvert_exporter": "python",
   "pygments_lexer": "ipython3",
   "version": "3.8.1"
  }
 },
 "nbformat": 4,
 "nbformat_minor": 4
}
