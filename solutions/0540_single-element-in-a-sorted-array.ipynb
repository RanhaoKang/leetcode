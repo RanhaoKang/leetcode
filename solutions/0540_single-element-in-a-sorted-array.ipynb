{
 "cells": [
  {
   "cell_type": "markdown",
   "metadata": {},
   "source": [
    "[540. Single Element in a Sorted Array](https://leetcode.com/problems/single-element-in-a-sorted-array/)"
   ]
  },
  {
   "cell_type": "markdown",
   "metadata": {},
   "source": [
    "重点不在有序, 而是每个pair都在一起, 且如果没出现过单独元素, pair的出现顺序应该是偶奇的(index)"
   ]
  },
  {
   "cell_type": "code",
   "execution_count": 16,
   "metadata": {},
   "outputs": [],
   "source": [
    "class Solution(object):\n",
    "    def singleNonDuplicate(self, nums):\n",
    "        \"\"\"\n",
    "        :type nums: List[int]\n",
    "        :rtype: int\n",
    "        \"\"\"\n",
    "        if len(nums) < 1:\n",
    "            return None\n",
    "        l, r = 0, len(nums)-1\n",
    "        while l < r:\n",
    "            m = l + (r - l)//2\n",
    "            if m - 1 < l or m + 1 > r:\n",
    "                break\n",
    "            if m % 2 == 0:\n",
    "                if nums[m] == nums[m+1]:\n",
    "                    l = m + 2\n",
    "                else:\n",
    "                    r = m\n",
    "            else:\n",
    "                if nums[m] == nums[m-1]:\n",
    "                    l = m + 1\n",
    "                else:\n",
    "                    r = m\n",
    "        return nums[l]"
   ]
  },
  {
   "cell_type": "code",
   "execution_count": 17,
   "metadata": {},
   "outputs": [
    {
     "data": {
      "text/plain": [
       "2"
      ]
     },
     "execution_count": 17,
     "metadata": {},
     "output_type": "execute_result"
    }
   ],
   "source": [
    "Solution().singleNonDuplicate([1,1,2,3,3,4,4,8,8])"
   ]
  },
  {
   "cell_type": "code",
   "execution_count": null,
   "metadata": {},
   "outputs": [],
   "source": []
  }
 ],
 "metadata": {
  "kernelspec": {
   "display_name": "Python 3",
   "language": "python",
   "name": "python3"
  },
  "language_info": {
   "codemirror_mode": {
    "name": "ipython",
    "version": 3
   },
   "file_extension": ".py",
   "mimetype": "text/x-python",
   "name": "python",
   "nbconvert_exporter": "python",
   "pygments_lexer": "ipython3",
   "version": "3.6.7"
  }
 },
 "nbformat": 4,
 "nbformat_minor": 2
}
