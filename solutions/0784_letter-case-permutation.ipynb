{
 "cells": [
  {
   "cell_type": "markdown",
   "metadata": {},
   "source": [
    "[784. Letter Case Permutation](https://leetcode.com/problems/letter-case-permutation/)"
   ]
  },
  {
   "cell_type": "code",
   "execution_count": 4,
   "metadata": {},
   "outputs": [],
   "source": [
    "class Solution:\n",
    "    def letterCasePermutation(self, S: str):\n",
    "        length = len(S)\n",
    "        def solve(idx, s = ''):\n",
    "            if idx == length:\n",
    "                yield s\n",
    "            else:\n",
    "                if S[idx].isalpha():\n",
    "                    yield from solve(idx + 1, s + S[idx].lower())\n",
    "                    yield from solve(idx + 1, s + S[idx].upper())\n",
    "                else:\n",
    "                    yield from solve(idx + 1, s + S[idx])\n",
    "        \n",
    "        return list(solve(0))"
   ]
  },
  {
   "cell_type": "code",
   "execution_count": null,
   "metadata": {},
   "outputs": [],
   "source": []
  }
 ],
 "metadata": {
  "kernelspec": {
   "display_name": "Python 3",
   "language": "python",
   "name": "python3"
  },
  "language_info": {
   "codemirror_mode": {
    "name": "ipython",
    "version": 3
   },
   "file_extension": ".py",
   "mimetype": "text/x-python",
   "name": "python",
   "nbconvert_exporter": "python",
   "pygments_lexer": "ipython3",
   "version": "3.6.7"
  }
 },
 "nbformat": 4,
 "nbformat_minor": 2
}
