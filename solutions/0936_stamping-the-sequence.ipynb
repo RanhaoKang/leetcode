{
 "cells": [
  {
   "cell_type": "markdown",
   "metadata": {},
   "source": [
    "[936. Stamping The Sequence](https://leetcode.com/problems/stamping-the-sequence/)"
   ]
  },
  {
   "cell_type": "code",
   "execution_count": 1,
   "metadata": {},
   "outputs": [],
   "source": [
    "class Solution:\n",
    "    def movesToStamp(self, s: str, t: str):\n",
    "        n, m, t, s, res = len(t), len(s), list(t), list(s), []\n",
    "\n",
    "        def check(i):\n",
    "            changed = False\n",
    "            for j in range(m):\n",
    "                if t[i + j] == '?': continue\n",
    "                if t[i + j] != s[j]: return False\n",
    "                changed = True\n",
    "            if changed:\n",
    "                t[i:i + m] = ['?'] * m\n",
    "                res.append(i)\n",
    "            return changed\n",
    "\n",
    "        changed = True\n",
    "        while changed:\n",
    "            changed = False\n",
    "            for i in range(n - m + 1):\n",
    "                changed |= check(i)\n",
    "        return res[::-1] if t == ['?'] * n else []"
   ]
  },
  {
   "cell_type": "code",
   "execution_count": null,
   "metadata": {},
   "outputs": [],
   "source": []
  }
 ],
 "metadata": {
  "kernelspec": {
   "display_name": "Python 3",
   "language": "python",
   "name": "python3"
  },
  "language_info": {
   "codemirror_mode": {
    "name": "ipython",
    "version": 3
   },
   "file_extension": ".py",
   "mimetype": "text/x-python",
   "name": "python",
   "nbconvert_exporter": "python",
   "pygments_lexer": "ipython3",
   "version": "3.8.1"
  }
 },
 "nbformat": 4,
 "nbformat_minor": 4
}
