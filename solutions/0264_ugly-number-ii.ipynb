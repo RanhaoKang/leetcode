{
 "cells": [
  {
   "cell_type": "markdown",
   "metadata": {},
   "source": [
    "[264. Ugly Number II](https://leetcode.com/problems/ugly-number-ii/)"
   ]
  },
  {
   "cell_type": "code",
   "execution_count": 5,
   "metadata": {},
   "outputs": [],
   "source": [
    "class Solution:\n",
    "    ugly = sorted(2**a * 3**b * 5**c\n",
    "                  for a in range(32) for b in range(20) for c in range(14))\n",
    "    def nthUglyNumber(self, n):\n",
    "        return self.ugly[n-1]"
   ]
  },
  {
   "cell_type": "code",
   "execution_count": 6,
   "metadata": {},
   "outputs": [],
   "source": [
    "class Solution:\n",
    "    def nthUglyNumber(self, n):\n",
    "        ugly = [1]\n",
    "        i2 = i3 = i5 = 0\n",
    "        while len(ugly) < n:\n",
    "            while ugly[i2] * 2 <= ugly[-1]: i2 += 1\n",
    "            while ugly[i3] * 3 <= ugly[-1]: i3 += 1\n",
    "            while ugly[i5] * 5 <= ugly[-1]: i5 += 1\n",
    "            ugly.append(min(ugly[i2] * 2, ugly[i3] * 3, ugly[i5] * 5))\n",
    "        return ugly[-1]"
   ]
  },
  {
   "cell_type": "code",
   "execution_count": null,
   "metadata": {},
   "outputs": [],
   "source": []
  }
 ],
 "metadata": {
  "kernelspec": {
   "display_name": "Python 3",
   "language": "python",
   "name": "python3"
  },
  "language_info": {
   "codemirror_mode": {
    "name": "ipython",
    "version": 3
   },
   "file_extension": ".py",
   "mimetype": "text/x-python",
   "name": "python",
   "nbconvert_exporter": "python",
   "pygments_lexer": "ipython3",
   "version": "3.6.7"
  }
 },
 "nbformat": 4,
 "nbformat_minor": 2
}
