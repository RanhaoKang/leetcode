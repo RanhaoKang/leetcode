{
 "cells": [
  {
   "cell_type": "markdown",
   "metadata": {},
   "source": [
    "[785. Is Graph Bipartite?](https://leetcode.com/problems/is-graph-bipartite/)"
   ]
  },
  {
   "cell_type": "code",
   "execution_count": null,
   "metadata": {},
   "outputs": [],
   "source": [
    "class Solution:\n",
    "    def isBipartite(self, graph: List[List[int]]) -> bool:\n",
    "        \n",
    "        def dfs(g):\n",
    "            visited = set()\n",
    "            for i in g:\n",
    "                if i not in visited:\n",
    "                    yield i\n",
    "                for j in i:\n",
    "                    if j not in visited:\n",
    "                        yield j\n",
    "        \n",
    "        def bfs(g):\n",
    "            visited = set()\n",
    "            q = [g[0]]\n",
    "            while q:\n",
    "                node = q.pop(0)\n",
    "                if node not in visited:\n",
    "                    yield node\n",
    "                for linked_node in node:\n",
    "                    q.append(linked_node)\n",
    "                    \n",
    "        \n",
    "        colors = [-1] * len(graph)\n",
    "        color = 1\n",
    "        for node in dfs(graph):\n",
    "            colors[i] = color\n",
    "            color ^= 1\n",
    "            if colors[]"
   ]
  },
  {
   "cell_type": "code",
   "execution_count": null,
   "metadata": {},
   "outputs": [],
   "source": [
    "class Solution:\n",
    "    def isBipartite(self, graph: List[List[int]]) -> bool:\n",
    "        colors = [-1] * len(graph)\n",
    "        color = 1\n",
    "        for node in graph:\n",
    "            colors[i] = color\n",
    "            color ^= 1\n",
    "            if colors[]"
   ]
  }
 ],
 "metadata": {
  "kernelspec": {
   "display_name": "Python 3",
   "language": "python",
   "name": "python3"
  },
  "language_info": {
   "codemirror_mode": {
    "name": "ipython",
    "version": 3
   },
   "file_extension": ".py",
   "mimetype": "text/x-python",
   "name": "python",
   "nbconvert_exporter": "python",
   "pygments_lexer": "ipython3",
   "version": "3.6.7"
  }
 },
 "nbformat": 4,
 "nbformat_minor": 2
}
