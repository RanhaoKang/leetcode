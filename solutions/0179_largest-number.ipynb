{
 "cells": [
  {
   "cell_type": "markdown",
   "metadata": {},
   "source": [
    "[179. Largest Number](https://leetcode.com/problems/largest-number/)"
   ]
  },
  {
   "cell_type": "markdown",
   "metadata": {},
   "source": [
    "- 尽量选头n位最大的\n",
    "- 如果两个数头n位相同且一个数到了末尾, 选择位数更少的. 如`987`和`98`, `98987 > 98798`"
   ]
  },
  {
   "cell_type": "code",
   "execution_count": 2,
   "metadata": {},
   "outputs": [],
   "source": [
    "class Solution:\n",
    "    def largestNumber(self, nums) -> str:\n",
    "        nums = sorted([str(num) for num in nums])\n",
    "        N = len(nums)\n",
    "        i = N - 1\n",
    "        while i > 0:\n",
    "            if len(nums[i]) < len(nums[i-1]) and all(i == j for i,j in zip(nums[i], nums[i-1])):\n",
    "                nums[i], nums[i-1] = nums[i-1], nums[i]\n",
    "        \n",
    "        \n",
    "        \n",
    "        \n",
    "        \n",
    "        l = []\n",
    "        for n in nums:\n",
    "            l.extend(list(iterate(n)))\n",
    "        \n",
    "        return ''.join(str(i) for i in sorted(l, reverse = True))"
   ]
  },
  {
   "cell_type": "code",
   "execution_count": 7,
   "metadata": {},
   "outputs": [
    {
     "data": {
      "text/plain": [
       "['123', '45', '456', '5']"
      ]
     },
     "execution_count": 7,
     "metadata": {},
     "output_type": "execute_result"
    }
   ],
   "source": [
    "sorted(['123', '456', '45', '5'])"
   ]
  },
  {
   "cell_type": "code",
   "execution_count": 8,
   "metadata": {},
   "outputs": [
    {
     "data": {
      "text/plain": [
       "True"
      ]
     },
     "execution_count": 8,
     "metadata": {},
     "output_type": "execute_result"
    }
   ],
   "source": [
    "'456' > '45'"
   ]
  },
  {
   "cell_type": "markdown",
   "metadata": {},
   "source": [
    "如`[9, 98, 979]`, `998979 > 979989`"
   ]
  },
  {
   "cell_type": "markdown",
   "metadata": {},
   "source": [
    "这答案真牛逼..."
   ]
  },
  {
   "cell_type": "code",
   "execution_count": 1,
   "metadata": {},
   "outputs": [],
   "source": [
    "class LargerNumKey(str):\n",
    "    def __lt__(x, y):\n",
    "        return x+y > y+x\n",
    "        \n",
    "class Solution:\n",
    "    def largestNumber(self, nums):\n",
    "        largest_num = ''.join(sorted(map(str, nums), key=LargerNumKey))\n",
    "        return '0' if largest_num[0] == '0' else largest_num"
   ]
  },
  {
   "cell_type": "code",
   "execution_count": 2,
   "metadata": {},
   "outputs": [
    {
     "data": {
      "text/plain": [
       "'9534330'"
      ]
     },
     "execution_count": 2,
     "metadata": {},
     "output_type": "execute_result"
    }
   ],
   "source": [
    "Solution().largestNumber([3,30,34,5,9])"
   ]
  },
  {
   "cell_type": "code",
   "execution_count": null,
   "metadata": {},
   "outputs": [],
   "source": []
  }
 ],
 "metadata": {
  "kernelspec": {
   "display_name": "Python 3",
   "language": "python",
   "name": "python3"
  },
  "language_info": {
   "codemirror_mode": {
    "name": "ipython",
    "version": 3
   },
   "file_extension": ".py",
   "mimetype": "text/x-python",
   "name": "python",
   "nbconvert_exporter": "python",
   "pygments_lexer": "ipython3",
   "version": "3.6.7"
  }
 },
 "nbformat": 4,
 "nbformat_minor": 2
}
