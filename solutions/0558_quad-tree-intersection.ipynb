{
 "cells": [
  {
   "cell_type": "markdown",
   "metadata": {},
   "source": [
    "[558. Quad Tree Intersection](https://leetcode.com/problems/quad-tree-intersection/)"
   ]
  },
  {
   "cell_type": "code",
   "execution_count": 1,
   "metadata": {},
   "outputs": [],
   "source": [
    "class Solution:\n",
    "    def intersect(self, q1, q2):\n",
    "        if q1.isLeaf:\n",
    "            return q1.val and q1 or q2\n",
    "        elif q2.isLeaf:\n",
    "            return q2.val and q2 or q1\n",
    "        else:\n",
    "            tLeft = self.intersect(q1.topLeft, q2.topLeft)\n",
    "            tRight = self.intersect(q1.topRight, q2.topRight)\n",
    "            bLeft = self.intersect(q1.bottomLeft, q2.bottomLeft)\n",
    "            bRight = self.intersect(q1.bottomRight, q2.bottomRight)\n",
    "            if tLeft.isLeaf and tRight.isLeaf and bLeft.isLeaf and bRight.isLeaf and tLeft.val == tRight.val == bLeft.val == bRight.val:\n",
    "                node = Node(tLeft.val, True, None, None, None, None) \n",
    "            else:\n",
    "                node = Node(False, False, tLeft, tRight, bLeft, bRight)\n",
    "        return node"
   ]
  },
  {
   "cell_type": "code",
   "execution_count": 1,
   "metadata": {},
   "outputs": [],
   "source": [
    "# Definition for a QuadTree node.\n",
    "class Node:\n",
    "    def __init__(self, val, isLeaf, topLeft, topRight, bottomLeft, bottomRight):\n",
    "        self.val = val\n",
    "        self.isLeaf = isLeaf\n",
    "        self.topLeft = topLeft\n",
    "        self.topRight = topRight\n",
    "        self.bottomLeft = bottomLeft\n",
    "        self.bottomRight = bottomRight"
   ]
  },
  {
   "cell_type": "code",
   "execution_count": null,
   "metadata": {},
   "outputs": [],
   "source": [
    "class Solution:\n",
    "    def intersect(self, p: 'Node', q: 'Node') -> 'Node':\n",
    "        def solve(p, q, attach):\n",
    "            if p and q:\n",
    "                if p.val:\n",
    "                    pass\n",
    "                elif q.val:\n",
    "                    attach(q)\n",
    "                else:\n",
    "                    attach(p)\n",
    "\n",
    "                    def f(node): p.topLeft = node\n",
    "                    solve(p.topLeft, q.topLeft, f)\n",
    "\n",
    "                    def f(node): p.topRight = node\n",
    "                    solve(p.topRight, q.topRight, f)\n",
    "\n",
    "                    def f(node): p.bottomLeft = node\n",
    "                    solve(p.bottomLeft, q.bottomLeft, f)\n",
    "\n",
    "                    def f(node): p.bottomRight = node\n",
    "                    solve(p.bottomRight, q.bottomRight, f)\n",
    "            else:\n",
    "                attach(p or q)\n",
    "        \n",
    "        def f(node): pass\n",
    "        solve(p, q, f)\n",
    "        return p"
   ]
  }
 ],
 "metadata": {
  "kernelspec": {
   "display_name": "Python 3",
   "language": "python",
   "name": "python3"
  },
  "language_info": {
   "codemirror_mode": {
    "name": "ipython",
    "version": 3
   },
   "file_extension": ".py",
   "mimetype": "text/x-python",
   "name": "python",
   "nbconvert_exporter": "python",
   "pygments_lexer": "ipython3",
   "version": "3.6.7"
  }
 },
 "nbformat": 4,
 "nbformat_minor": 2
}
