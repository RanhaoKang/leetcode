{
 "cells": [
  {
   "cell_type": "markdown",
   "metadata": {},
   "source": [
    "[997. Find the Town Judge](https://leetcode.com/problems/find-the-town-judge/)"
   ]
  },
  {
   "cell_type": "code",
   "execution_count": 1,
   "metadata": {},
   "outputs": [],
   "source": [
    "class Solution:\n",
    "    def findJudge(self, N: int, trust) -> int:\n",
    "        if N == 1:\n",
    "            return 1\n",
    "\n",
    "        _in  = [0] * (N+1)\n",
    "        _out = [0] * (N+1)\n",
    "        \n",
    "        for a, b in trust:\n",
    "            _in[b] += 1\n",
    "            _out[a] += 1\n",
    "        \n",
    "        res = None\n",
    "        for i in range(1, N+1):\n",
    "            if _in[i] == N-1 and _out[i] == 0:\n",
    "                if res:\n",
    "                    return -1\n",
    "                res = i\n",
    "        \n",
    "        return res or -1"
   ]
  }
 ],
 "metadata": {
  "kernelspec": {
   "display_name": "Python 3",
   "language": "python",
   "name": "python3"
  },
  "language_info": {
   "codemirror_mode": {
    "name": "ipython",
    "version": 3
   },
   "file_extension": ".py",
   "mimetype": "text/x-python",
   "name": "python",
   "nbconvert_exporter": "python",
   "pygments_lexer": "ipython3",
   "version": "3.8.1"
  }
 },
 "nbformat": 4,
 "nbformat_minor": 4
}
