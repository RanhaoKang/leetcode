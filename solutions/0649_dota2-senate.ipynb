{
 "cells": [
  {
   "cell_type": "markdown",
   "metadata": {},
   "source": [
    "[649. Dota2 Senate](https://leetcode.com/problems/dota2-senate/)"
   ]
  },
  {
   "cell_type": "markdown",
   "metadata": {},
   "source": [
    "自己的初始想法，觉得一轮够了"
   ]
  },
  {
   "cell_type": "code",
   "execution_count": 4,
   "metadata": {},
   "outputs": [],
   "source": [
    "class Solution:\n",
    "    def predictPartyVictory(self, s: str) -> str:\n",
    "        ban = [0, 0] # D, R\n",
    "        for c in s:\n",
    "            r = c == 'R'\n",
    "            if ban[r]:\n",
    "                ban[r] -= 1\n",
    "            else:\n",
    "                ban[1 - r] += 1\n",
    "        \n",
    "        if ban[0] != ban[1]:\n",
    "            return 'RD'"
   ]
  },
  {
   "cell_type": "markdown",
   "metadata": {},
   "source": [
    "然而并不够"
   ]
  },
  {
   "cell_type": "code",
   "execution_count": 2,
   "metadata": {},
   "outputs": [
    {
     "name": "stdout",
     "output_type": "stream",
     "text": [
      "[0, 0]\n"
     ]
    }
   ],
   "source": [
    "class Solution:\n",
    "    def predictPartyVictory(self, senate: str) -> str:\n",
    "        A = collections.deque()\n",
    "        people = [0, 0]\n",
    "        bans = [0, 0]\n",
    "\n",
    "        for person in senate:\n",
    "            x = person == 'R'\n",
    "            people[x] += 1\n",
    "            A.append(x)\n",
    "\n",
    "        while all(people):\n",
    "            x = A.popleft()\n",
    "            people[x] -= 1\n",
    "            if bans[x]:\n",
    "                bans[x] -= 1\n",
    "            else:\n",
    "                bans[x^1] += 1\n",
    "                A.append(x)\n",
    "                people[x] += 1\n",
    "    \n",
    "        return \"Radiant\" if people[1] else \"Dire\""
   ]
  },
  {
   "cell_type": "code",
   "execution_count": 3,
   "metadata": {},
   "outputs": [
    {
     "name": "stdout",
     "output_type": "stream",
     "text": [
      "[0, 1]\n"
     ]
    }
   ],
   "source": [
    "Solution().predictPartyVictory('RDD')"
   ]
  },
  {
   "cell_type": "code",
   "execution_count": null,
   "metadata": {},
   "outputs": [],
   "source": [
    "Solution().predictPartyVictory('RD')"
   ]
  }
 ],
 "metadata": {
  "kernelspec": {
   "display_name": "Python 3",
   "language": "python",
   "name": "python3"
  },
  "language_info": {
   "codemirror_mode": {
    "name": "ipython",
    "version": 3
   },
   "file_extension": ".py",
   "mimetype": "text/x-python",
   "name": "python",
   "nbconvert_exporter": "python",
   "pygments_lexer": "ipython3",
   "version": "3.8.1"
  }
 },
 "nbformat": 4,
 "nbformat_minor": 4
}
