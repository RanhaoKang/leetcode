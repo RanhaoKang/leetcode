{
 "cells": [
  {
   "cell_type": "markdown",
   "metadata": {},
   "source": [
    "[84. Largest Rectangle in Histogram](https://leetcode.com/problems/largest-rectangle-in-histogram/)"
   ]
  },
  {
   "cell_type": "markdown",
   "metadata": {},
   "source": [
    "第一个想法, 用一条水平线不断地卡高度, 只要测试用例出现一个特别大的数就TLE了, 如`[0,0,0,0,0,0,0,0,2147483647]`"
   ]
  },
  {
   "cell_type": "code",
   "execution_count": 3,
   "metadata": {},
   "outputs": [],
   "source": [
    "class Solution:\n",
    "    def largestRectangleArea(self, heights) -> int:\n",
    "        length = len(heights)\n",
    "        if not length:\n",
    "            return 0\n",
    "        max_h = max(heights)\n",
    "        res = 0\n",
    "        \n",
    "        for h in range(1, max_h + 1):\n",
    "            ws = [1 if i >= h else 0 for i in heights]\n",
    "            for i in range(1, length):\n",
    "                if ws[i] == 1:\n",
    "                    ws[i] = ws[i - 1] + 1\n",
    "            w = max(ws)\n",
    "            res = max(res, h * w)\n",
    "        \n",
    "        return res\n",
    "            "
   ]
  },
  {
   "cell_type": "code",
   "execution_count": 4,
   "metadata": {},
   "outputs": [
    {
     "data": {
      "text/plain": [
       "10"
      ]
     },
     "execution_count": 4,
     "metadata": {},
     "output_type": "execute_result"
    }
   ],
   "source": [
    "Solution().largestRectangleArea([2,1,5,6,2,3])"
   ]
  },
  {
   "cell_type": "markdown",
   "metadata": {},
   "source": [
    "从挂掉的用例就可以想到, `h`不应该是递增的, 而是从`heights`中选择. 然而当`heights`特别多时还是会挂"
   ]
  },
  {
   "cell_type": "code",
   "execution_count": 6,
   "metadata": {},
   "outputs": [],
   "source": [
    "class Solution:\n",
    "    def largestRectangleArea(self, heights) -> int:\n",
    "        length = len(heights)\n",
    "        if not length:\n",
    "            return 0\n",
    "        res = 0\n",
    "        \n",
    "        for h in heights:\n",
    "            ws = [1 if i >= h else 0 for i in heights]\n",
    "            for i in range(1, length):\n",
    "                if ws[i] == 1:\n",
    "                    ws[i] = ws[i - 1] + 1\n",
    "            w = max(ws)\n",
    "            res = max(res, h * w)\n",
    "        \n",
    "        return res"
   ]
  },
  {
   "cell_type": "code",
   "execution_count": 7,
   "metadata": {},
   "outputs": [
    {
     "data": {
      "text/plain": [
       "10"
      ]
     },
     "execution_count": 7,
     "metadata": {},
     "output_type": "execute_result"
    }
   ],
   "source": [
    "Solution().largestRectangleArea([2,1,5,6,2,3])"
   ]
  },
  {
   "cell_type": "markdown",
   "metadata": {},
   "source": [
    "开始考虑有哪些重复计算的地方, 当我们用`heights[i]`替代`range(max_h)`之后, 每一次计算的`w`实际上是重复的, 因为对每一根柱子, 左右相邻比它高或相同的柱子的数量是一定的, 与高度无关."
   ]
  },
  {
   "cell_type": "markdown",
   "metadata": {},
   "source": [
    "关于计算`less_left`,`less_right`, 最朴素的想法是对每个`heights[i]`, 向左向右各尝试推移, 这里就不记录了, 留出篇幅记录一个trick"
   ]
  },
  {
   "cell_type": "code",
   "execution_count": 9,
   "metadata": {},
   "outputs": [],
   "source": [
    "class Solution:\n",
    "    def largestRectangleArea(self, heights) -> int:\n",
    "\n",
    "        length = len(heights)\n",
    "        if not length:\n",
    "            return 0\n",
    "        less_left, less_right = [0] * length, [0] * length\n",
    "        less_left[0] = -1\n",
    "        less_right[-1] = length\n",
    "        \n",
    "        for i in range(1, length):\n",
    "            p = i - 1\n",
    "            while p >= 0 and heights[p] >= heights[i]:\n",
    "                p = less_left[p]\n",
    "            less_left[i] = p\n",
    "            \n",
    "        for i in range(length - 2, -1, -1):\n",
    "            p = i + 1\n",
    "            while p < length and heights[p] >= heights[i]:\n",
    "                p = less_right[p]\n",
    "            less_right[i] = p\n",
    "\n",
    "        return max(h * (r - l - 1) for h, l, r in zip(heights, less_left, less_right))"
   ]
  },
  {
   "cell_type": "code",
   "execution_count": 10,
   "metadata": {},
   "outputs": [
    {
     "data": {
      "text/plain": [
       "10"
      ]
     },
     "execution_count": 10,
     "metadata": {},
     "output_type": "execute_result"
    }
   ],
   "source": [
    "Solution().largestRectangleArea([2,1,5,6,2,3])"
   ]
  },
  {
   "cell_type": "markdown",
   "metadata": {},
   "source": [
    "摘出其中的trick部分单独跑一下, 核心思想还是memo, 设置哨兵的想法非常棒"
   ]
  },
  {
   "cell_type": "code",
   "execution_count": 13,
   "metadata": {},
   "outputs": [
    {
     "name": "stdout",
     "output_type": "stream",
     "text": [
      "计算1中\n",
      "从0跳到了-1\n",
      "计算2中\n",
      "计算3中\n",
      "计算4中\n",
      "从3跳到了2\n",
      "从2跳到了1\n",
      "计算5中\n"
     ]
    }
   ],
   "source": [
    "heights = [2,1,5,6,2,3]\n",
    "length = len(heights)\n",
    "less_left = [0] * length\n",
    "less_left[0] = -1\n",
    "\n",
    "for i in range(1, length):\n",
    "    print(f'计算{i}中')\n",
    "    p = i - 1\n",
    "    while p >= 0 and heights[p] >= heights[i]:\n",
    "        print(f'从{p}跳到了{less_left[p]}')\n",
    "        p = less_left[p]\n",
    "    less_left[i] = p"
   ]
  },
  {
   "cell_type": "code",
   "execution_count": null,
   "metadata": {},
   "outputs": [],
   "source": []
  }
 ],
 "metadata": {
  "kernelspec": {
   "display_name": "Python 3",
   "language": "python",
   "name": "python3"
  },
  "language_info": {
   "codemirror_mode": {
    "name": "ipython",
    "version": 3
   },
   "file_extension": ".py",
   "mimetype": "text/x-python",
   "name": "python",
   "nbconvert_exporter": "python",
   "pygments_lexer": "ipython3",
   "version": "3.6.7"
  }
 },
 "nbformat": 4,
 "nbformat_minor": 2
}
