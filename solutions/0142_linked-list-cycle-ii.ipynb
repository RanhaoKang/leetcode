{
 "cells": [
  {
   "cell_type": "markdown",
   "metadata": {},
   "source": [
    "[142. Linked List Cycle II](https://leetcode.com/problems/linked-list-cycle-ii/)"
   ]
  },
  {
   "cell_type": "markdown",
   "metadata": {},
   "source": [
    "从[141. Linked List Cycle](http://localhost:8888/notebooks/0/Algrithem/LeetCode/%E9%A2%98%E5%BA%93/Linked%20List/141.%20Linked%20List%20Cycle.ipynb)抄来模板改了改, 40ms beats 100%"
   ]
  },
  {
   "cell_type": "code",
   "execution_count": 17,
   "metadata": {},
   "outputs": [],
   "source": [
    "# Definition for singly-linked list.\n",
    "class ListNode(object):\n",
    "    def __init__(self, x):\n",
    "        self.val = x\n",
    "        self.next = None\n",
    "\n",
    "class Solution(object):\n",
    "    def detectCycle(self, head):\n",
    "        if not head:\n",
    "            return None\n",
    "        if head.next is head:\n",
    "            return head\n",
    "        \n",
    "        try:\n",
    "            slow = head\n",
    "            fast = head.next\n",
    "            while slow is not fast:\n",
    "                slow, fast = slow.next, fast.next.next\n",
    "            \n",
    "            slow, fast = head, fast.next\n",
    "            while slow is not fast:\n",
    "                slow, fast = slow.next, fast.next\n",
    "            \n",
    "            return slow\n",
    "        except:\n",
    "            return None"
   ]
  },
  {
   "cell_type": "code",
   "execution_count": 18,
   "metadata": {},
   "outputs": [
    {
     "data": {
      "text/plain": [
       "2"
      ]
     },
     "execution_count": 18,
     "metadata": {},
     "output_type": "execute_result"
    }
   ],
   "source": [
    "p = ListNode(3)\n",
    "p.next = ListNode(2)\n",
    "p.next.next = ListNode(0)\n",
    "p.next.next.next = ListNode(-4)\n",
    "p.next.next.next.next = p.next\n",
    "\n",
    "Solution().detectCycle(p).val"
   ]
  },
  {
   "cell_type": "markdown",
   "metadata": {},
   "source": [
    "值得一提的是讨论区大多数选择了`slow`, `fast`都从`head`开始. 从代码精简度来说, `fast`从`head.next`开始更好. 这就涉及一个问题: 相遇节点, 环长, 总长, 开始节点之间的关系."
   ]
  },
  {
   "cell_type": "code",
   "execution_count": null,
   "metadata": {},
   "outputs": [],
   "source": []
  }
 ],
 "metadata": {
  "kernelspec": {
   "display_name": "Python 3",
   "language": "python",
   "name": "python3"
  },
  "language_info": {
   "codemirror_mode": {
    "name": "ipython",
    "version": 3
   },
   "file_extension": ".py",
   "mimetype": "text/x-python",
   "name": "python",
   "nbconvert_exporter": "python",
   "pygments_lexer": "ipython3",
   "version": "3.6.7"
  }
 },
 "nbformat": 4,
 "nbformat_minor": 2
}
