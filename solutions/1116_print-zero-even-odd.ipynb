{
 "cells": [
  {
   "cell_type": "markdown",
   "metadata": {},
   "source": [
    "[1116. Print Zero Even Odd](https://leetcode.com/problems/print-zero-even-odd/)"
   ]
  },
  {
   "cell_type": "code",
   "execution_count": 1,
   "metadata": {},
   "outputs": [],
   "source": [
    "from threading import Barrier, Lock\n",
    "\n",
    "class ZeroEvenOdd:\n",
    "    def __init__(self, n):\n",
    "        self.n = n\n",
    "        self.ct = 0\n",
    "        self.barriers = [Barrier(2),Barrier(2)]\n",
    "        self.zero_lock = Lock()\n",
    "\n",
    "    def zero(self, printNumber):\n",
    "        for _ in range(self.n):\n",
    "            self.zero_lock.acquire()\n",
    "            printNumber(0)\n",
    "            self.ct += 1\n",
    "            self.barriers[self.ct % 2].wait()\n",
    "        \n",
    "    def even(self, printNumber):\n",
    "        for _ in range(self.n//2):\n",
    "            self.barriers[0].wait()\n",
    "            printNumber(self.ct)\n",
    "            self.zero_lock.release()\n",
    "        \n",
    "    def odd(self, printNumber):\n",
    "        for _ in range((self.n+1)//2):\n",
    "            self.barriers[1].wait()\n",
    "            printNumber(self.ct)\n",
    "            self.zero_lock.release()"
   ]
  },
  {
   "cell_type": "code",
   "execution_count": null,
   "metadata": {},
   "outputs": [],
   "source": []
  }
 ],
 "metadata": {
  "kernelspec": {
   "display_name": "Python 3",
   "language": "python",
   "name": "python3"
  },
  "language_info": {
   "codemirror_mode": {
    "name": "ipython",
    "version": 3
   },
   "file_extension": ".py",
   "mimetype": "text/x-python",
   "name": "python",
   "nbconvert_exporter": "python",
   "pygments_lexer": "ipython3",
   "version": "3.8.0b3"
  }
 },
 "nbformat": 4,
 "nbformat_minor": 2
}
