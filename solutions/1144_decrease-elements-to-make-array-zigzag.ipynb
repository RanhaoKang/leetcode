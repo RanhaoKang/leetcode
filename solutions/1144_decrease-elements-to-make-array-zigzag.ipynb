{
 "cells": [
  {
   "cell_type": "markdown",
   "metadata": {},
   "source": [
    "[1144. Decrease Elements To Make Array Zigzag](https://leetcode.com/problems/decrease-elements-to-make-array-zigzag/)"
   ]
  },
  {
   "cell_type": "markdown",
   "metadata": {},
   "source": [
    "根据索引来，$O(N)$，没细究索引的边界，所以还有问题"
   ]
  },
  {
   "cell_type": "code",
   "execution_count": 5,
   "metadata": {},
   "outputs": [],
   "source": [
    "class Solution:\n",
    "    def movesToMakeZigzag(self, nums) -> int:\n",
    "        even = odd = 0; N = len(nums) // 2\n",
    "        for i in range(N):\n",
    "            mn = min(nums[2*i-1], nums[2*i+1])\n",
    "            if nums[2*i] >= mn:\n",
    "                even += nums[2*i] - mn + 1\n",
    "            \n",
    "            mn = min(nums[2*i], nums[2*(i+1)])\n",
    "            if nums[2*i+1] >= mn:\n",
    "                odd += nums[2*i+1] - mn + 1\n",
    "        \n",
    "        print(even, odd)\n",
    "        return max(even, odd)"
   ]
  },
  {
   "cell_type": "code",
   "execution_count": 6,
   "metadata": {},
   "outputs": [
    {
     "name": "stdout",
     "output_type": "stream",
     "text": [
      "0 2\n"
     ]
    },
    {
     "data": {
      "text/plain": [
       "2"
      ]
     },
     "execution_count": 6,
     "metadata": {},
     "output_type": "execute_result"
    }
   ],
   "source": [
    "Solution().movesToMakeZigzag([1,2,3])"
   ]
  },
  {
   "cell_type": "code",
   "execution_count": 7,
   "metadata": {},
   "outputs": [
    {
     "name": "stdout",
     "output_type": "stream",
     "text": [
      "8 12\n"
     ]
    },
    {
     "data": {
      "text/plain": [
       "12"
      ]
     },
     "execution_count": 7,
     "metadata": {},
     "output_type": "execute_result"
    }
   ],
   "source": [
    "Solution().movesToMakeZigzag([9,6,1,6,2])"
   ]
  },
  {
   "cell_type": "markdown",
   "metadata": {},
   "source": [
    "lee的答案，不用区分开odd和even只需要对前后做处理然后看需要加给谁即可"
   ]
  },
  {
   "cell_type": "code",
   "execution_count": 4,
   "metadata": {},
   "outputs": [],
   "source": [
    "class Solution:\n",
    "    def movesToMakeZigzag(self, A):\n",
    "        A = [float('inf')] + A + [float('inf')]\n",
    "        res = [0, 0]\n",
    "        for i in range(1, len(A) - 1):\n",
    "            res[i % 2] += max(0, A[i] - min(A[i - 1], A[i + 1]) + 1)\n",
    "        return min(res)"
   ]
  },
  {
   "cell_type": "code",
   "execution_count": null,
   "metadata": {},
   "outputs": [],
   "source": []
  }
 ],
 "metadata": {
  "kernelspec": {
   "display_name": "Python 3",
   "language": "python",
   "name": "python3"
  },
  "language_info": {
   "codemirror_mode": {
    "name": "ipython",
    "version": 3
   },
   "file_extension": ".py",
   "mimetype": "text/x-python",
   "name": "python",
   "nbconvert_exporter": "python",
   "pygments_lexer": "ipython3",
   "version": "3.8.1"
  }
 },
 "nbformat": 4,
 "nbformat_minor": 4
}
