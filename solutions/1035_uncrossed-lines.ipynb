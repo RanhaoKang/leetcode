{
 "cells": [
  {
   "cell_type": "markdown",
   "metadata": {},
   "source": [
    "[1035. Uncrossed Lines](https://leetcode.com/problems/uncrossed-lines/)"
   ]
  },
  {
   "cell_type": "code",
   "execution_count": 1,
   "metadata": {},
   "outputs": [],
   "source": [
    "from functools import lru_cache\n",
    "\n",
    "class Solution:\n",
    "    def maxUncrossedLines(self, A, B) -> int:\n",
    "        @lru_cache(None)\n",
    "        def dp(i, j):\n",
    "            if i == len(A) or j == len(B):\n",
    "                return 0\n",
    "            \n",
    "            if A[i] == B[j]:\n",
    "                return max(\n",
    "                    dp(i+1, j+1) + 1,\n",
    "                    dp(i,   j+1),\n",
    "                    dp(i+1, j)\n",
    "                )\n",
    "            else:\n",
    "                return max(\n",
    "                    dp(i,   j+1),\n",
    "                    dp(i+1, j),\n",
    "                    dp(i+1, j+1)\n",
    "                )\n",
    "            \n",
    "        \n",
    "        return dp(0, 0)"
   ]
  },
  {
   "cell_type": "code",
   "execution_count": null,
   "metadata": {},
   "outputs": [],
   "source": []
  }
 ],
 "metadata": {
  "kernelspec": {
   "display_name": "Python 3",
   "language": "python",
   "name": "python3"
  },
  "language_info": {
   "codemirror_mode": {
    "name": "ipython",
    "version": 3
   },
   "file_extension": ".py",
   "mimetype": "text/x-python",
   "name": "python",
   "nbconvert_exporter": "python",
   "pygments_lexer": "ipython3",
   "version": "3.8.1"
  }
 },
 "nbformat": 4,
 "nbformat_minor": 4
}
