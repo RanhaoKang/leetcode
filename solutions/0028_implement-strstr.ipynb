{
 "cells": [
  {
   "cell_type": "markdown",
   "metadata": {},
   "source": [
    "[28. Implement strStr()](https://leetcode.com/problems/implement-strstr/)"
   ]
  },
  {
   "cell_type": "markdown",
   "metadata": {},
   "source": [
    "Brute Force"
   ]
  },
  {
   "cell_type": "code",
   "execution_count": 5,
   "metadata": {},
   "outputs": [],
   "source": [
    "class Solution:\n",
    "    def strStr(self, haystack: 'str', needle: 'str') -> 'int':\n",
    "        \n",
    "        len1, len2 = len(haystack), len(needle)\n",
    "        \n",
    "        def iterate(idx):\n",
    "            if idx <= len1 - len2:\n",
    "                yield haystack[idx: idx + len2]\n",
    "                yield from iterate(idx + 1)\n",
    "            \n",
    "        for idx, i in enumerate(iterate(0)):\n",
    "            print(i)\n",
    "            if i == needle:\n",
    "                return idx\n",
    "        \n",
    "        return -1"
   ]
  },
  {
   "cell_type": "code",
   "execution_count": 7,
   "metadata": {},
   "outputs": [
    {
     "name": "stdout",
     "output_type": "stream",
     "text": [
      "ab\n",
      "bc\n",
      "cd\n",
      "de\n",
      "ef\n",
      "fg\n"
     ]
    },
    {
     "data": {
      "text/plain": [
       "-1"
      ]
     },
     "execution_count": 7,
     "metadata": {},
     "output_type": "execute_result"
    }
   ],
   "source": [
    "Solution().strStr('abcdefg', 'kb')"
   ]
  },
  {
   "cell_type": "markdown",
   "metadata": {},
   "source": [
    "KMP"
   ]
  },
  {
   "cell_type": "code",
   "execution_count": 8,
   "metadata": {},
   "outputs": [
    {
     "ename": "SyntaxError",
     "evalue": "invalid syntax (<ipython-input-8-74125c2de9ed>, line 8)",
     "output_type": "error",
     "traceback": [
      "\u001b[0;36m  File \u001b[0;32m\"<ipython-input-8-74125c2de9ed>\"\u001b[0;36m, line \u001b[0;32m8\u001b[0m\n\u001b[0;31m    if\u001b[0m\n\u001b[0m      ^\u001b[0m\n\u001b[0;31mSyntaxError\u001b[0m\u001b[0;31m:\u001b[0m invalid syntax\n"
     ]
    }
   ],
   "source": [
    "class Solution:\n",
    "    def strStr(self, haystack: 'str', needle: 'str') -> 'int':\n",
    "        len1, len2 = len(haystack), len(needle)\n",
    "        i = j = 0\n",
    "        \n",
    "        next_ = [-1] * len2\n",
    "        while j < len2 - 1:\n",
    "            if\n",
    "        \n",
    "        \n",
    "        while i < len1 and j < len2:\n",
    "        \n",
    "            if haystack[i] == needle[j]:\n",
    "                i += 1\n",
    "                j += 1\n",
    "            \n",
    "            else:\n",
    "                if next_[j] != -1:\n",
    "                    j = next_[j]\n",
    "                else:\n",
    "                    i = i - j\n",
    "                    j = 0"
   ]
  },
  {
   "cell_type": "code",
   "execution_count": null,
   "metadata": {},
   "outputs": [],
   "source": []
  }
 ],
 "metadata": {
  "kernelspec": {
   "display_name": "Python 3",
   "language": "python",
   "name": "python3"
  },
  "language_info": {
   "codemirror_mode": {
    "name": "ipython",
    "version": 3
   },
   "file_extension": ".py",
   "mimetype": "text/x-python",
   "name": "python",
   "nbconvert_exporter": "python",
   "pygments_lexer": "ipython3",
   "version": "3.6.7"
  }
 },
 "nbformat": 4,
 "nbformat_minor": 2
}
