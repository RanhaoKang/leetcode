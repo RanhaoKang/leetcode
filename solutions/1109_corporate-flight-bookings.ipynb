{
 "cells": [
  {
   "cell_type": "markdown",
   "metadata": {},
   "source": [
    "[1109. Corporate Flight Bookings](https://leetcode.com/problems/corporate-flight-bookings/)"
   ]
  },
  {
   "cell_type": "markdown",
   "metadata": {},
   "source": [
    "$O(N * K_{max})$, 在`n=20000`时TLE了"
   ]
  },
  {
   "cell_type": "code",
   "execution_count": 23,
   "metadata": {},
   "outputs": [],
   "source": [
    "class Solution:\n",
    "    def corpFlightBookings(self, bookings, n: int):\n",
    "        res = [0] * n\n",
    "        \n",
    "        for i, j, k in bookings:\n",
    "            res[i-1: j] = [i + k for i in res[i-1: j]]\n",
    "\n",
    "        return res"
   ]
  },
  {
   "cell_type": "code",
   "execution_count": 24,
   "metadata": {},
   "outputs": [
    {
     "data": {
      "text/plain": [
       "[10, 55, 45, 25, 25]"
      ]
     },
     "execution_count": 24,
     "metadata": {},
     "output_type": "execute_result"
    }
   ],
   "source": [
    "Solution().corpFlightBookings([[1,2,10],[2,3,20],[2,5,25]], 5)"
   ]
  },
  {
   "cell_type": "markdown",
   "metadata": {},
   "source": [
    "转变为累计, $O(N)$"
   ]
  },
  {
   "cell_type": "code",
   "execution_count": 28,
   "metadata": {},
   "outputs": [],
   "source": [
    "class Solution:\n",
    "    def corpFlightBookings(self, bookings, n: int):\n",
    "        res = [0] * (n + 1)\n",
    "        \n",
    "        for i, j, k in bookings:\n",
    "            res[i-1] += k\n",
    "            res[j] -= k\n",
    "            \n",
    "        for i in range(1, n):\n",
    "            res[i] += res[i-1]\n",
    "\n",
    "        return res[:-1]"
   ]
  },
  {
   "cell_type": "code",
   "execution_count": 29,
   "metadata": {},
   "outputs": [
    {
     "data": {
      "text/plain": [
       "[10, 55, 45, 25, 25]"
      ]
     },
     "execution_count": 29,
     "metadata": {},
     "output_type": "execute_result"
    }
   ],
   "source": [
    "Solution().corpFlightBookings([[1,2,10],[2,3,20],[2,5,25]], 5)"
   ]
  },
  {
   "cell_type": "code",
   "execution_count": null,
   "metadata": {},
   "outputs": [],
   "source": []
  }
 ],
 "metadata": {
  "kernelspec": {
   "display_name": "Python 3",
   "language": "python",
   "name": "python3"
  },
  "language_info": {
   "codemirror_mode": {
    "name": "ipython",
    "version": 3
   },
   "file_extension": ".py",
   "mimetype": "text/x-python",
   "name": "python",
   "nbconvert_exporter": "python",
   "pygments_lexer": "ipython3",
   "version": "3.6.7"
  }
 },
 "nbformat": 4,
 "nbformat_minor": 2
}
