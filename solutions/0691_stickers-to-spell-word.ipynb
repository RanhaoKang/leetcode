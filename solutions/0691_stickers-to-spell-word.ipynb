{
 "cells": [
  {
   "cell_type": "markdown",
   "metadata": {},
   "source": [
    "[691. Stickers to Spell Word](https://leetcode.com/problems/stickers-to-spell-word/)"
   ]
  },
  {
   "cell_type": "markdown",
   "metadata": {},
   "source": [
    "一开始忘记了sticker是可以重复使用的, 还在想这里做cache有些繁琐, 多谢Counter和cache, 写出来的代码还算比较简练, DFS"
   ]
  },
  {
   "cell_type": "code",
   "execution_count": 27,
   "metadata": {},
   "outputs": [],
   "source": [
    "import collections, functools\n",
    "\n",
    "class Solution:\n",
    "    def minStickers(self, stickers, target: str) -> int:\n",
    "        target_counter = collections.Counter(target)\n",
    "        stickers = [collections.Counter(i) & target_counter for i in stickers]\n",
    "        \n",
    "        @functools.lru_cache(None)\n",
    "        def dfs(s):\n",
    "            if not s:\n",
    "                return 0\n",
    "            \n",
    "            c = collections.Counter(s)\n",
    "            res = float('inf')\n",
    "            for i in stickers:\n",
    "                if s[-1] not in i:\n",
    "                    continue\n",
    "                ns = ''\n",
    "                \n",
    "                for k, v in (c - i).items():\n",
    "                    ns += k * v\n",
    "                    \n",
    "                res = min(res, dfs(ns) + 1)\n",
    "            return res\n",
    "        \n",
    "        res = dfs(target)\n",
    "        if res == float('inf'):\n",
    "            return -1\n",
    "        else:\n",
    "            return res\n",
    "            "
   ]
  },
  {
   "cell_type": "code",
   "execution_count": 28,
   "metadata": {},
   "outputs": [
    {
     "name": "stdout",
     "output_type": "stream",
     "text": [
      "thea\n",
      "th\n",
      "\n"
     ]
    },
    {
     "data": {
      "text/plain": [
       "3"
      ]
     },
     "execution_count": 28,
     "metadata": {},
     "output_type": "execute_result"
    }
   ],
   "source": [
    "Solution().minStickers([\"with\", \"example\", \"science\"], \"thehat\")"
   ]
  },
  {
   "cell_type": "code",
   "execution_count": 14,
   "metadata": {},
   "outputs": [
    {
     "data": {
      "text/plain": [
       "Counter({'t': 1, 'h': 1, 'e': 1, 'a': 1})"
      ]
     },
     "execution_count": 14,
     "metadata": {},
     "output_type": "execute_result"
    }
   ],
   "source": [
    "collections.Counter('thehat') - collections.Counter('with')"
   ]
  },
  {
   "cell_type": "code",
   "execution_count": null,
   "metadata": {},
   "outputs": [],
   "source": []
  }
 ],
 "metadata": {
  "kernelspec": {
   "display_name": "Python 3",
   "language": "python",
   "name": "python3"
  },
  "language_info": {
   "codemirror_mode": {
    "name": "ipython",
    "version": 3
   },
   "file_extension": ".py",
   "mimetype": "text/x-python",
   "name": "python",
   "nbconvert_exporter": "python",
   "pygments_lexer": "ipython3",
   "version": "3.7.3"
  }
 },
 "nbformat": 4,
 "nbformat_minor": 2
}
