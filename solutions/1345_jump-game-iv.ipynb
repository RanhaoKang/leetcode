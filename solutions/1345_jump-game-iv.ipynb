{
 "cells": [
  {
   "cell_type": "markdown",
   "metadata": {},
   "source": [
    "[1345. Jump Game IV](https://leetcode.com/problems/jump-game-iv/)"
   ]
  },
  {
   "cell_type": "markdown",
   "metadata": {},
   "source": [
    "比起常规的BFS额外的操作：\n",
    "- Early Break:\n",
    "    ```python\n",
    "    if j == END:\n",
    "        return d + 1\n",
    "    ```\n",
    "- 由大的index指向小的index\n",
    "    ```python\n",
    "    a_i[arr[i]][::-1]\n",
    "    ```"
   ]
  },
  {
   "cell_type": "code",
   "execution_count": 7,
   "metadata": {},
   "outputs": [],
   "source": [
    "class Solution:\n",
    "    def minJumps(self, arr) -> int:\n",
    "        from collections import defaultdict, deque\n",
    "        \n",
    "        a_i = defaultdict(list)\n",
    "        for i, a in enumerate(arr):\n",
    "            a_i[a].append(i)\n",
    "            \n",
    "        Q, seen, END = deque([(0, 0)]), {0}, len(arr) - 1\n",
    "        while Q:\n",
    "            i, d = Q.popleft()\n",
    "            if i == END:\n",
    "                return d\n",
    "            \n",
    "            for j in [i-1, i+1] + a_i[arr[i]][::-1]:\n",
    "                if 0 <= j <= END and j != i and j not in seen:\n",
    "                    seen.add(i)\n",
    "                    if j == END:\n",
    "                        return d + 1\n",
    "                    Q.append((j, d + 1))"
   ]
  },
  {
   "cell_type": "code",
   "execution_count": 8,
   "metadata": {},
   "outputs": [
    {
     "data": {
      "text/plain": [
       "1"
      ]
     },
     "execution_count": 8,
     "metadata": {},
     "output_type": "execute_result"
    }
   ],
   "source": [
    "Solution().minJumps([7,6,9,6,9,6,9,7])"
   ]
  },
  {
   "cell_type": "markdown",
   "metadata": {},
   "source": [
    "有点喜欢这个`count`和`set`的方式"
   ]
  },
  {
   "cell_type": "code",
   "execution_count": null,
   "metadata": {},
   "outputs": [],
   "source": [
    "class Solution:\n",
    "    def minJumps(self, A):\n",
    "        indices = collections.defaultdict(list)\n",
    "        for i, a in enumerate(A):\n",
    "            indices[a].append(i)\n",
    "        done, now = {-1}, {0}\n",
    "        for steps in itertools.count():\n",
    "            done |= now\n",
    "            if len(A) - 1 in done:\n",
    "                return steps\n",
    "            now = {j for i in now for j in [i-1, i+1] + indices.pop(A[i], [])} - done"
   ]
  }
 ],
 "metadata": {
  "kernelspec": {
   "display_name": "Python 3",
   "language": "python",
   "name": "python3"
  },
  "language_info": {
   "codemirror_mode": {
    "name": "ipython",
    "version": 3
   },
   "file_extension": ".py",
   "mimetype": "text/x-python",
   "name": "python",
   "nbconvert_exporter": "python",
   "pygments_lexer": "ipython3",
   "version": "3.8.1"
  }
 },
 "nbformat": 4,
 "nbformat_minor": 4
}
