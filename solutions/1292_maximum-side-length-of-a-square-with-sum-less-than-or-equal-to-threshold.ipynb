{
 "cells": [
  {
   "cell_type": "markdown",
   "metadata": {},
   "source": [
    "[1292. Maximum Side Length of a Square with Sum Less than or Equal to Threshold](https://leetcode.com/problems/maximum-side-length-of-a-square-with-sum-less-than-or-equal-to-threshold/)"
   ]
  },
  {
   "cell_type": "markdown",
   "metadata": {},
   "source": [
    "https://leetcode.com/problems/maximum-side-length-of-a-square-with-sum-less-than-or-equal-to-threshold/discuss/452701/8-lines-O(mn)"
   ]
  },
  {
   "cell_type": "code",
   "execution_count": 6,
   "metadata": {},
   "outputs": [],
   "source": [
    "class Solution:\n",
    "    def maxSideLength(self, mat, threshold: int) -> int:\n",
    "        H, W = len(mat), len(mat and mat[0])\n",
    "        \n",
    "        # build prefix sum\n",
    "        res, sums = 0, [[0] * (W+1) for _ in range(H+1)]\n",
    "\n",
    "        for i in range(H):\n",
    "            for j in range(W):\n",
    "                sums[i][j] = sums[i-1][j] + sums[i][j-1] - sums[i-1][j-1] + mat[i][j]\n",
    "        \n",
    "        for i in sums:\n",
    "            print(i)"
   ]
  },
  {
   "cell_type": "code",
   "execution_count": 7,
   "metadata": {},
   "outputs": [
    {
     "name": "stdout",
     "output_type": "stream",
     "text": [
      "[1, 2, 5, 7, 11, 14, 16, 0]\n",
      "[2, 4, 10, 14, 22, 28, 32, 0]\n",
      "[3, 6, 15, 21, 33, 42, 48, 0]\n",
      "[0, 0, 0, 0, 0, 0, 0, 0]\n"
     ]
    }
   ],
   "source": [
    "Solution().maxSideLength([[1,1,3,2,4,3,2],[1,1,3,2,4,3,2],[1,1,3,2,4,3,2]], 4)"
   ]
  },
  {
   "cell_type": "code",
   "execution_count": 8,
   "metadata": {},
   "outputs": [],
   "source": [
    "class Solution:\n",
    "    def maxSideLength(self, A, threshold: int) -> int:\n",
    "        s = 0\n",
    "        def a(i, j):\n",
    "            return A[i][j] if i >= 0 <= j else 0\n",
    "        for i in range(len(A)):\n",
    "            for j in range(len(A[0])):\n",
    "                A[i][j] += a(i-1, j) + a(i, j-1) - a(i-1, j-1)\n",
    "                s += i >= s <= j and a(i, j) - a(i-s-1, j) - a(i, j-s-1) + a(i-s-1, j-s-1) <= threshold\n",
    "        return s"
   ]
  },
  {
   "cell_type": "code",
   "execution_count": null,
   "metadata": {},
   "outputs": [],
   "source": []
  }
 ],
 "metadata": {
  "kernelspec": {
   "display_name": "Python 3",
   "language": "python",
   "name": "python3"
  },
  "language_info": {
   "codemirror_mode": {
    "name": "ipython",
    "version": 3
   },
   "file_extension": ".py",
   "mimetype": "text/x-python",
   "name": "python",
   "nbconvert_exporter": "python",
   "pygments_lexer": "ipython3",
   "version": "3.8.1"
  }
 },
 "nbformat": 4,
 "nbformat_minor": 4
}
