{
 "cells": [
  {
   "cell_type": "markdown",
   "metadata": {},
   "source": [
    "[209. Minimum Size Subarray Sum](https://leetcode.com/problems/minimum-size-subarray-sum/)"
   ]
  },
  {
   "cell_type": "code",
   "execution_count": 12,
   "metadata": {},
   "outputs": [],
   "source": [
    "class Solution:\n",
    "    def minSubArrayLen(self, s: int, nums) -> int:\n",
    "        length = len(nums)\n",
    "        for i in range(1, length):\n",
    "            nums[i] += nums[i - 1]\n",
    "        \n",
    "        if not nums or nums[-1] < s:\n",
    "            return 0\n",
    "        \n",
    "        res = length\n",
    "        slow = fast = 0\n",
    "        nums = [0] + nums\n",
    "        while fast < length + 1:\n",
    "            \n",
    "            # 满足要求, 尝试缩小slow\n",
    "            if nums[fast] - nums[slow] >= s:\n",
    "                print(nums[fast], nums[slow])\n",
    "                res = min(res, fast - slow)\n",
    "                slow += 1\n",
    "            # 不满足要求, 扩大slow\n",
    "            else:\n",
    "                fast += 1\n",
    "        \n",
    "        return res"
   ]
  },
  {
   "cell_type": "code",
   "execution_count": 13,
   "metadata": {},
   "outputs": [
    {
     "name": "stdout",
     "output_type": "stream",
     "text": [
      "8 0\n",
      "12 2\n",
      "12 5\n",
      "15 6\n",
      "15 8\n"
     ]
    },
    {
     "data": {
      "text/plain": [
       "2"
      ]
     },
     "execution_count": 13,
     "metadata": {},
     "output_type": "execute_result"
    }
   ],
   "source": [
    "Solution().minSubArrayLen(7, [2,3,1,2,4,3])"
   ]
  },
  {
   "cell_type": "code",
   "execution_count": null,
   "metadata": {},
   "outputs": [],
   "source": []
  }
 ],
 "metadata": {
  "kernelspec": {
   "display_name": "Python 3",
   "language": "python",
   "name": "python3"
  },
  "language_info": {
   "codemirror_mode": {
    "name": "ipython",
    "version": 3
   },
   "file_extension": ".py",
   "mimetype": "text/x-python",
   "name": "python",
   "nbconvert_exporter": "python",
   "pygments_lexer": "ipython3",
   "version": "3.6.7"
  }
 },
 "nbformat": 4,
 "nbformat_minor": 2
}
