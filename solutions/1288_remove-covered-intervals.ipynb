{
 "cells": [
  {
   "cell_type": "markdown",
   "metadata": {},
   "source": [
    "[1288. Remove Covered Intervals](https://leetcode.com/problems/remove-covered-intervals/)"
   ]
  },
  {
   "cell_type": "markdown",
   "metadata": {},
   "source": [
    "对于区间题，很好用的思考路径是：有序的序列是否对题目有帮助？对于这一题，如果将列表排序：\n",
    "```python\n",
    "[[1,4],[3,6],[2,8]] => [[1,4],[2,8],[3,6]]\n",
    "```\n",
    "那么我们处理每一个`(start, end)`时，都知道`start`已经被包含进来了，再去判断`end`是否小于当前的`max_end`即可。"
   ]
  },
  {
   "cell_type": "markdown",
   "metadata": {},
   "source": [
    "$O(N\\log{N})$"
   ]
  },
  {
   "cell_type": "code",
   "execution_count": 1,
   "metadata": {},
   "outputs": [],
   "source": [
    "class Solution:\n",
    "    def removeCoveredIntervals(self, intervals) -> int:\n",
    "        intervals.sort(key = lambda x: x[0])\n",
    "        max_end = float('-inf')\n",
    "        res = len(intervals)\n",
    "        for start, end in intervals:\n",
    "            if end <= max_end:\n",
    "                res -= 1\n",
    "            else:\n",
    "                max_end = end\n",
    "        \n",
    "        return res"
   ]
  },
  {
   "cell_type": "code",
   "execution_count": 2,
   "metadata": {},
   "outputs": [
    {
     "data": {
      "text/plain": [
       "2"
      ]
     },
     "execution_count": 2,
     "metadata": {},
     "output_type": "execute_result"
    }
   ],
   "source": [
    "Solution().removeCoveredIntervals([[1,4],[3,6],[2,8]])"
   ]
  },
  {
   "cell_type": "code",
   "execution_count": null,
   "metadata": {},
   "outputs": [],
   "source": []
  }
 ],
 "metadata": {
  "kernelspec": {
   "display_name": "Python 3",
   "language": "python",
   "name": "python3"
  },
  "language_info": {
   "codemirror_mode": {
    "name": "ipython",
    "version": 3
   },
   "file_extension": ".py",
   "mimetype": "text/x-python",
   "name": "python",
   "nbconvert_exporter": "python",
   "pygments_lexer": "ipython3",
   "version": "3.8.0b3"
  }
 },
 "nbformat": 4,
 "nbformat_minor": 2
}
