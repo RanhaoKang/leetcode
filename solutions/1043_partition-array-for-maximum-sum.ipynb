{
 "cells": [
  {
   "cell_type": "markdown",
   "metadata": {},
   "source": [
    "[1043. Partition Array for Maximum Sum](https://leetcode.com/problems/partition-array-for-maximum-sum/)"
   ]
  },
  {
   "cell_type": "code",
   "execution_count": 1,
   "metadata": {},
   "outputs": [],
   "source": [
    "class Solution:\n",
    "    def maxSumAfterPartitioning(self, A, K: int) -> int:\n",
    "        # subarray长度最多为K, 是一道K variables的DP, 这里简单写就写成填表式了\n",
    "        N = len(A)\n",
    "        \n",
    "        # dp[i]: A[:i]的结果\n",
    "        dp = [0] * (N + 1)\n",
    "        \n",
    "        for i in range(N):\n",
    "            curMax = 0\n",
    "            for k in range(1, min(K, i + 1) + 1):\n",
    "                curMax = max(curMax, A[i - k + 1])\n",
    "                dp[i] = max(dp[i], dp[i - k] + curMax * k)\n",
    "        \n",
    "        return dp[N - 1]"
   ]
  },
  {
   "cell_type": "code",
   "execution_count": 2,
   "metadata": {},
   "outputs": [
    {
     "data": {
      "text/plain": [
       "84"
      ]
     },
     "execution_count": 2,
     "metadata": {},
     "output_type": "execute_result"
    }
   ],
   "source": [
    "Solution().maxSumAfterPartitioning([1,15,7,9,2,5,10], 3)"
   ]
  },
  {
   "cell_type": "code",
   "execution_count": null,
   "metadata": {},
   "outputs": [],
   "source": []
  }
 ],
 "metadata": {
  "kernelspec": {
   "display_name": "Python 3",
   "language": "python",
   "name": "python3"
  },
  "language_info": {
   "codemirror_mode": {
    "name": "ipython",
    "version": 3
   },
   "file_extension": ".py",
   "mimetype": "text/x-python",
   "name": "python",
   "nbconvert_exporter": "python",
   "pygments_lexer": "ipython3",
   "version": "3.6.7"
  }
 },
 "nbformat": 4,
 "nbformat_minor": 2
}
