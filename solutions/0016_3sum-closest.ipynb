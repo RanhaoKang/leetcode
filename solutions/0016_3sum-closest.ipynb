{
 "cells": [
  {
   "cell_type": "markdown",
   "metadata": {},
   "source": [
    "[16. 3Sum Closest](https://leetcode.com/problems/3sum-closest/)"
   ]
  },
  {
   "cell_type": "code",
   "execution_count": 17,
   "metadata": {},
   "outputs": [],
   "source": [
    "class Solution:\n",
    "    def threeSumClosest(self, nums, target: int) -> int:\n",
    "        res = float('inf')\n",
    "        nums.sort()\n",
    "        \n",
    "        if nums[0] >= target // 3:\n",
    "            return nums[0] + nums[1] + nums[2]\n",
    "        \n",
    "        \n",
    "        # 选定nums[i], 在(i+1, -1)区间寻找答案\n",
    "        for i in range(len(nums)-2):\n",
    "            \n",
    "            if i > 0 and nums[i] == nums[i-1]:\n",
    "                continue\n",
    "            \n",
    "            l, r = i + 1, len(nums)-1\n",
    "            while l < r:\n",
    "                s = nums[i] + nums[l] + nums[r]\n",
    "                \n",
    "                if s < target:\n",
    "                    l += 1 \n",
    "                elif s > target:\n",
    "                    r -= 1\n",
    "                else:\n",
    "                    return target\n",
    "                \n",
    "                if abs(s - target) < abs(res - target):\n",
    "                    res = s\n",
    "        return res"
   ]
  },
  {
   "cell_type": "code",
   "execution_count": 18,
   "metadata": {},
   "outputs": [
    {
     "data": {
      "text/plain": [
       "27"
      ]
     },
     "execution_count": 18,
     "metadata": {},
     "output_type": "execute_result"
    }
   ],
   "source": [
    "Solution().threeSumClosest([-4,-7,-2,2,5,-2,1,9,3,9,4,9,-9,-3,7,4,1,0,8,5,-7,-7], 29)"
   ]
  }
 ],
 "metadata": {
  "kernelspec": {
   "display_name": "Python 3",
   "language": "python",
   "name": "python3"
  },
  "language_info": {
   "codemirror_mode": {
    "name": "ipython",
    "version": 3
   },
   "file_extension": ".py",
   "mimetype": "text/x-python",
   "name": "python",
   "nbconvert_exporter": "python",
   "pygments_lexer": "ipython3",
   "version": "3.6.7"
  }
 },
 "nbformat": 4,
 "nbformat_minor": 2
}
