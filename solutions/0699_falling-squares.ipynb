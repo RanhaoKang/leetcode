{
 "cells": [
  {
   "cell_type": "markdown",
   "metadata": {},
   "source": [
    "[699. Falling Squares](https://leetcode.com/problems/falling-squares/)"
   ]
  },
  {
   "cell_type": "code",
   "execution_count": 5,
   "metadata": {},
   "outputs": [],
   "source": [
    "class Solution:\n",
    "    def fallingSquares(self, A):\n",
    "        height, pos, res, max_h = [0], [0], [], 0\n",
    "\n",
    "        for left, side in A:\n",
    "            i = bisect.bisect_right(pos, left)\n",
    "            j = bisect.bisect_left(pos, left + side)\n",
    "            high = max(height[i - 1: j], default = 0) + side\n",
    "            pos[i: j] = [left, left + side]\n",
    "            height[i:j] = [high, height[j - 1]]\n",
    "            max_h = max(max_h, high)\n",
    "            res.append(max_h)\n",
    "\n",
    "        return res"
   ]
  },
  {
   "cell_type": "code",
   "execution_count": null,
   "metadata": {},
   "outputs": [],
   "source": []
  }
 ],
 "metadata": {
  "kernelspec": {
   "display_name": "Python 3",
   "language": "python",
   "name": "python3"
  },
  "language_info": {
   "codemirror_mode": {
    "name": "ipython",
    "version": 3
   },
   "file_extension": ".py",
   "mimetype": "text/x-python",
   "name": "python",
   "nbconvert_exporter": "python",
   "pygments_lexer": "ipython3",
   "version": "3.8.1"
  }
 },
 "nbformat": 4,
 "nbformat_minor": 4
}
