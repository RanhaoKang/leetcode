{
 "cells": [
  {
   "cell_type": "markdown",
   "metadata": {},
   "source": [
    "[940. Distinct Subsequences II](https://leetcode.com/problems/distinct-subsequences-ii/)"
   ]
  },
  {
   "cell_type": "code",
   "execution_count": 9,
   "metadata": {},
   "outputs": [],
   "source": [
    "class Solution:\n",
    "    def distinctSubseqII(self, S: str) -> int:\n",
    "        # dp[i]: S[:i]的解\n",
    "        dp = [1] * (len(S) + 1)\n",
    "        last = {}\n",
    "        \n",
    "        for idx, char in enumerate(S):\n",
    "            # 不考虑重复字符, 倍增\n",
    "            dp[idx+1] = dp[idx] * 2\n",
    "            if char in last:\n",
    "                dp[idx+1] -= dp[last[char]]\n",
    "            last[char] = idx\n",
    "        print(dp)\n",
    "        return (dp[-1] - 1) % (10**9 + 7)"
   ]
  },
  {
   "cell_type": "code",
   "execution_count": 10,
   "metadata": {},
   "outputs": [
    {
     "name": "stdout",
     "output_type": "stream",
     "text": [
      "[1, 2, 4, 8]\n"
     ]
    },
    {
     "data": {
      "text/plain": [
       "7"
      ]
     },
     "execution_count": 10,
     "metadata": {},
     "output_type": "execute_result"
    }
   ],
   "source": [
    "Solution().distinctSubseqII('abc')"
   ]
  },
  {
   "cell_type": "code",
   "execution_count": null,
   "metadata": {},
   "outputs": [],
   "source": []
  }
 ],
 "metadata": {
  "kernelspec": {
   "display_name": "Python 3",
   "language": "python",
   "name": "python3"
  },
  "language_info": {
   "codemirror_mode": {
    "name": "ipython",
    "version": 3
   },
   "file_extension": ".py",
   "mimetype": "text/x-python",
   "name": "python",
   "nbconvert_exporter": "python",
   "pygments_lexer": "ipython3",
   "version": "3.6.7"
  }
 },
 "nbformat": 4,
 "nbformat_minor": 2
}
