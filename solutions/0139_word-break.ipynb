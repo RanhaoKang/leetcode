{
 "cells": [
  {
   "cell_type": "markdown",
   "metadata": {},
   "source": [
    "[139. Word Break](https://leetcode.com/problems/word-break/)"
   ]
  },
  {
   "cell_type": "markdown",
   "metadata": {},
   "source": [
    "TLE"
   ]
  },
  {
   "cell_type": "code",
   "execution_count": 11,
   "metadata": {},
   "outputs": [],
   "source": [
    "class Solution:\n",
    "    def wordBreak(self, s: str, wordDict) -> bool:\n",
    "        length = len(s)\n",
    "        \n",
    "        def solve(idx):\n",
    "            for i in range(idx, length):\n",
    "                if s[idx: i + 1] in wordDict:\n",
    "                    if solve(i + 1):\n",
    "                        return True\n",
    "            if idx == length:\n",
    "                return True\n",
    "            return False\n",
    "    \n",
    "        return solve(0)"
   ]
  },
  {
   "cell_type": "code",
   "execution_count": 12,
   "metadata": {},
   "outputs": [
    {
     "data": {
      "text/plain": [
       "True"
      ]
     },
     "execution_count": 12,
     "metadata": {},
     "output_type": "execute_result"
    }
   ],
   "source": [
    "Solution().wordBreak('leetcode', ['leet', 'code'])"
   ]
  },
  {
   "cell_type": "markdown",
   "metadata": {},
   "source": [
    "用word找, 还是TLE"
   ]
  },
  {
   "cell_type": "code",
   "execution_count": 1,
   "metadata": {},
   "outputs": [],
   "source": [
    "from functools import lru_cache\n",
    "\n",
    "class Solution:\n",
    "    def wordBreak(self, s: str, wordDict) -> bool:\n",
    "        \n",
    "        @lru_cache(None)\n",
    "        def solve(s):\n",
    "            if set(s) == {'-'}:\n",
    "                raise StopIteration\n",
    "            \n",
    "            for word in wordDict:\n",
    "                idx = s.find(word)\n",
    "                if idx != -1:\n",
    "                    solve(s[:idx] + '-' + s[idx+len(word):])\n",
    "        \n",
    "        try:\n",
    "            solve(s)\n",
    "        except StopIteration:\n",
    "            return True\n",
    "        return False"
   ]
  },
  {
   "cell_type": "code",
   "execution_count": 2,
   "metadata": {},
   "outputs": [
    {
     "data": {
      "text/plain": [
       "True"
      ]
     },
     "execution_count": 2,
     "metadata": {},
     "output_type": "execute_result"
    }
   ],
   "source": [
    "Solution().wordBreak('leetcode', [\"leet\", \"code\"])"
   ]
  },
  {
   "cell_type": "code",
   "execution_count": 3,
   "metadata": {},
   "outputs": [
    {
     "data": {
      "text/plain": [
       "True"
      ]
     },
     "execution_count": 3,
     "metadata": {},
     "output_type": "execute_result"
    }
   ],
   "source": [
    "Solution().wordBreak('applepenapple', [\"apple\", \"pen\"])"
   ]
  },
  {
   "cell_type": "code",
   "execution_count": 4,
   "metadata": {},
   "outputs": [
    {
     "data": {
      "text/plain": [
       "False"
      ]
     },
     "execution_count": 4,
     "metadata": {},
     "output_type": "execute_result"
    }
   ],
   "source": [
    "Solution().wordBreak('catsandog', [\"cats\", \"dog\", \"sand\", \"and\", \"cat\"])"
   ]
  },
  {
   "cell_type": "code",
   "execution_count": 5,
   "metadata": {},
   "outputs": [],
   "source": [
    "class Solution:\n",
    "    def wordBreak(self, s: str, wordDict) -> bool:\n",
    "        # dp[i]: s[:i]可以被构建\n",
    "        dp = [True]\n",
    "        \n",
    "        for i in range(1, len(s)+1):\n",
    "            dp += any(dp[j] and s[j:i] in wordDict for j in range(i)),\n",
    "        \n",
    "        return dp[-1]"
   ]
  },
  {
   "cell_type": "markdown",
   "metadata": {},
   "source": [
    "emmmmm, 重做完才发现自己一开始的写法只需要一个memo"
   ]
  },
  {
   "cell_type": "code",
   "execution_count": 6,
   "metadata": {},
   "outputs": [],
   "source": [
    "import functools\n",
    "\n",
    "class Solution:\n",
    "    def wordBreak(self, s: str, wordDict) -> bool:\n",
    "        length = len(s)\n",
    "        \n",
    "        @functools.lru_cache(None)\n",
    "        def solve(idx):\n",
    "            for i in range(idx, length):\n",
    "                if s[idx: i + 1] in wordDict:\n",
    "                    if solve(i + 1):\n",
    "                        return True\n",
    "            if idx == length:\n",
    "                return True\n",
    "            return False\n",
    "    \n",
    "        return solve(0)"
   ]
  },
  {
   "cell_type": "code",
   "execution_count": null,
   "metadata": {},
   "outputs": [],
   "source": []
  }
 ],
 "metadata": {
  "kernelspec": {
   "display_name": "Python 3",
   "language": "python",
   "name": "python3"
  },
  "language_info": {
   "codemirror_mode": {
    "name": "ipython",
    "version": 3
   },
   "file_extension": ".py",
   "mimetype": "text/x-python",
   "name": "python",
   "nbconvert_exporter": "python",
   "pygments_lexer": "ipython3",
   "version": "3.6.7"
  }
 },
 "nbformat": 4,
 "nbformat_minor": 2
}
