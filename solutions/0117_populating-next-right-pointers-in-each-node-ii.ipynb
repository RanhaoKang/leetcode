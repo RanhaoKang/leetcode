{
 "cells": [
  {
   "cell_type": "markdown",
   "metadata": {},
   "source": [
    "[117. Populating Next Right Pointers in Each Node II](https://leetcode.com/problems/populating-next-right-pointers-in-each-node-ii/submissions/)"
   ]
  },
  {
   "cell_type": "markdown",
   "metadata": {},
   "source": [
    "套用完全二叉树的题, 188ms, 比起那题慢了很多, 应当是用例里稀疏的树居多, 针对稀疏的树有更好的解法"
   ]
  },
  {
   "cell_type": "code",
   "execution_count": 1,
   "metadata": {},
   "outputs": [],
   "source": [
    "\"\"\"\n",
    "# Definition for a Node.\n",
    "class Node:\n",
    "    def __init__(self, val, left, right, next):\n",
    "        self.val = val\n",
    "        self.left = left\n",
    "        self.right = right\n",
    "        self.next = next\n",
    "\"\"\"\n",
    "class Solution:\n",
    "    \n",
    "    def level_order_traversal(self, root):\n",
    "        from collections import deque\n",
    "        \n",
    "        self.cur_level, self.next_level = deque([root]), deque()\n",
    "\n",
    "        def one_level():\n",
    "            res = []\n",
    "            while self.cur_level:\n",
    "                node = self.cur_level.pop()\n",
    "                if node:\n",
    "                    res.append(node)\n",
    "                    self.next_level.appendleft(node.left)\n",
    "                    self.next_level.appendleft(node.right)\n",
    "            if res:\n",
    "                yield res\n",
    "            if self.next_level:\n",
    "                self.cur_level, self.next_level = self.next_level, deque()\n",
    "                yield from one_level()\n",
    "        \n",
    "        return list(one_level())\n",
    "    \n",
    "    def connect(self, root: 'Node') -> 'Node':\n",
    "        \n",
    "        levels = self.level_order_traversal(root)\n",
    "        for level in levels:\n",
    "            last = None\n",
    "            for i in level[::-1]:\n",
    "                i.next, last = last, i\n",
    "        return root"
   ]
  },
  {
   "cell_type": "code",
   "execution_count": null,
   "metadata": {},
   "outputs": [],
   "source": []
  }
 ],
 "metadata": {
  "kernelspec": {
   "display_name": "Python 3",
   "language": "python",
   "name": "python3"
  },
  "language_info": {
   "codemirror_mode": {
    "name": "ipython",
    "version": 3
   },
   "file_extension": ".py",
   "mimetype": "text/x-python",
   "name": "python",
   "nbconvert_exporter": "python",
   "pygments_lexer": "ipython3",
   "version": "3.6.7"
  }
 },
 "nbformat": 4,
 "nbformat_minor": 2
}
