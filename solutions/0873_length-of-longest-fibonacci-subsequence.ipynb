{
 "cells": [
  {
   "cell_type": "markdown",
   "metadata": {},
   "source": [
    "[873. Length of Longest Fibonacci Subsequence](https://leetcode.com/problems/length-of-longest-fibonacci-subsequence/)"
   ]
  },
  {
   "cell_type": "code",
   "execution_count": 4,
   "metadata": {},
   "outputs": [],
   "source": [
    "class Solution:\n",
    "    def lenLongestFibSubseq(self, A) -> int:\n",
    "        from collections import defaultdict\n",
    "\n",
    "        dp = defaultdict(lambda: 2)\n",
    "        s = set(A)\n",
    "        \n",
    "        for j in range(len(A)):\n",
    "            for i in range(j):\n",
    "                if A[j] < 2 * A[i] and A[j] - A[i] in s:\n",
    "                    dp[A[i], A[j]] = dp[(A[j] - A[i], A[i])] + 1\n",
    "        \n",
    "        return max(dp.values(), default = 0)"
   ]
  },
  {
   "cell_type": "code",
   "execution_count": null,
   "metadata": {},
   "outputs": [],
   "source": []
  }
 ],
 "metadata": {
  "kernelspec": {
   "display_name": "Python 3",
   "language": "python",
   "name": "python3"
  },
  "language_info": {
   "codemirror_mode": {
    "name": "ipython",
    "version": 3
   },
   "file_extension": ".py",
   "mimetype": "text/x-python",
   "name": "python",
   "nbconvert_exporter": "python",
   "pygments_lexer": "ipython3",
   "version": "3.8.0b3"
  }
 },
 "nbformat": 4,
 "nbformat_minor": 2
}
