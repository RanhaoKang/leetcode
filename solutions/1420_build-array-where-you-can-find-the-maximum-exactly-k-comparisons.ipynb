{
 "cells": [
  {
   "cell_type": "markdown",
   "metadata": {},
   "source": [
    "[1420. Build Array Where You Can Find The Maximum Exactly K Comparisons](https://leetcode.com/problems/build-array-where-you-can-find-the-maximum-exactly-k-comparisons/)"
   ]
  },
  {
   "cell_type": "markdown",
   "metadata": {},
   "source": [
    "提供的算法：顺序遍历数组，每次找到更大的数时计数器加`1`\n",
    "\n",
    "求这样数组的个数，其中数组长度为`n`，每个数范围在`[1, m]`，要求计数器值为`k`"
   ]
  },
  {
   "cell_type": "code",
   "execution_count": 18,
   "metadata": {},
   "outputs": [],
   "source": [
    "class Solution:\n",
    "    def numOfArrays(self, N: int, M: int, K: int) -> int:\n",
    "        dp = [[[0 for _ in range(M + 1)] for _ in range(K + 1)] for _ in range(N + 1)]\n",
    "        # the array has length of 1, and 1 jump, only 1 way to do that, for any k\n",
    "        for k in range(1, M + 1):\n",
    "            dp[1][1][k] = 1\n",
    "        \n",
    "        for i, j, k in itertools.product(range(1, N + 1), range(1, K + 1), range(M + 1)):\n",
    "            dp[i][j][k] += dp[i - 1][j][k] * k\n",
    "            dp[i][j][k] += sum(dp[i - 1][j - 1][1:k])\n",
    "        \n",
    "        return sum(dp[N][K][1:]) % (10 ** 9 + 7)"
   ]
  },
  {
   "cell_type": "code",
   "execution_count": null,
   "metadata": {},
   "outputs": [],
   "source": []
  }
 ],
 "metadata": {
  "kernelspec": {
   "display_name": "Python 3",
   "language": "python",
   "name": "python3"
  },
  "language_info": {
   "codemirror_mode": {
    "name": "ipython",
    "version": 3
   },
   "file_extension": ".py",
   "mimetype": "text/x-python",
   "name": "python",
   "nbconvert_exporter": "python",
   "pygments_lexer": "ipython3",
   "version": "3.8.0b3"
  }
 },
 "nbformat": 4,
 "nbformat_minor": 2
}
