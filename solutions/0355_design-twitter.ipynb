{
 "cells": [
  {
   "cell_type": "markdown",
   "metadata": {},
   "source": [
    "[355. Design Twitter](https://leetcode.com/problems/design-twitter/)"
   ]
  },
  {
   "cell_type": "code",
   "execution_count": 1,
   "metadata": {},
   "outputs": [],
   "source": [
    "import itertools, collections, heapq\n",
    "\n",
    "class Twitter:\n",
    "\n",
    "    def __init__(self):\n",
    "        self.timer = itertools.count(step=-1)\n",
    "        self.tweets = collections.defaultdict(collections.deque)\n",
    "        self.followees = collections.defaultdict(set)\n",
    "\n",
    "    def postTweet(self, userId, tweetId):\n",
    "        self.tweets[userId].appendleft((next(self.timer), tweetId))\n",
    "\n",
    "    def getNewsFeed(self, userId):\n",
    "        tweets = heapq.merge(*(self.tweets[u] for u in self.followees[userId] | {userId}))\n",
    "        return [t for _, t in itertools.islice(tweets, 10)]\n",
    "\n",
    "    def follow(self, followerId, followeeId):\n",
    "        self.followees[followerId].add(followeeId)\n",
    "\n",
    "    def unfollow(self, followerId, followeeId):\n",
    "        self.followees[followerId].discard(followeeId)\n",
    "        \n",
    "\n",
    "\n",
    "# Your Twitter object will be instantiated and called as such:\n",
    "# obj = Twitter()\n",
    "# obj.postTweet(userId,tweetId)\n",
    "# param_2 = obj.getNewsFeed(userId)\n",
    "# obj.follow(followerId,followeeId)\n",
    "# obj.unfollow(followerId,followeeId)"
   ]
  },
  {
   "cell_type": "code",
   "execution_count": null,
   "metadata": {},
   "outputs": [],
   "source": []
  }
 ],
 "metadata": {
  "kernelspec": {
   "display_name": "Python 3",
   "language": "python",
   "name": "python3"
  },
  "language_info": {
   "codemirror_mode": {
    "name": "ipython",
    "version": 3
   },
   "file_extension": ".py",
   "mimetype": "text/x-python",
   "name": "python",
   "nbconvert_exporter": "python",
   "pygments_lexer": "ipython3",
   "version": "3.6.7"
  }
 },
 "nbformat": 4,
 "nbformat_minor": 2
}
