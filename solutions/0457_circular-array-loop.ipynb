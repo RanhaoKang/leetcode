{
 "cells": [
  {
   "cell_type": "markdown",
   "metadata": {},
   "source": [
    "[457. Circular Array Loop](https://leetcode.com/problems/circular-array-loop/)"
   ]
  },
  {
   "cell_type": "markdown",
   "metadata": {},
   "source": [
    "标记法"
   ]
  },
  {
   "cell_type": "code",
   "execution_count": 1,
   "metadata": {},
   "outputs": [],
   "source": [
    "class Solution:\n",
    "    def circularArrayLoop(self, nums) -> bool:\n",
    "        for i, num in enumerate(nums):\n",
    "            # use a distinct marker for each starting point\n",
    "            mark = str(i)\n",
    "            \n",
    "            # explore while node is new, direction is same, and is not self loop\n",
    "            # note: if node has been marked by a different marker, no need to proceed. This gives O(n) time.\n",
    "            while (type(nums[i]) == int) and (num * nums[i] > 0) and (nums[i] % len(nums) != 0):\n",
    "                jump = nums[i] \n",
    "                nums[i] = mark\n",
    "                i = (i + jump) % len(nums)\n",
    "            \n",
    "            # if self loop, nums[i] is never marked\n",
    "            # if nums[i] is marked, a cycle is found\n",
    "            if nums[i] == mark:\n",
    "                return True\n",
    "            \n",
    "        return False"
   ]
  },
  {
   "cell_type": "code",
   "execution_count": null,
   "metadata": {},
   "outputs": [],
   "source": []
  }
 ],
 "metadata": {
  "kernelspec": {
   "display_name": "Python 3",
   "language": "python",
   "name": "python3"
  },
  "language_info": {
   "codemirror_mode": {
    "name": "ipython",
    "version": 3
   },
   "file_extension": ".py",
   "mimetype": "text/x-python",
   "name": "python",
   "nbconvert_exporter": "python",
   "pygments_lexer": "ipython3",
   "version": "3.8.1"
  }
 },
 "nbformat": 4,
 "nbformat_minor": 4
}
