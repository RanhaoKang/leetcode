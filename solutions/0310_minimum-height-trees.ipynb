{
 "cells": [
  {
   "cell_type": "markdown",
   "metadata": {},
   "source": [
    "[310. Minimum Height Trees](https://leetcode.com/problems/minimum-height-trees/)"
   ]
  },
  {
   "cell_type": "markdown",
   "metadata": {},
   "source": [
    "Hint 1的问题: How many MHTs can a graph have at most?\n",
    "\n",
    "假设当前一边的深度是`i`, 另一边则是`j`,移动一格后, 一边深度是`i+1`, 另一边则是`j-1`. 当`j-1 == i`时graph拥有2个MHT"
   ]
  },
  {
   "cell_type": "markdown",
   "metadata": {},
   "source": [
    "上面自己的回答是对的，不过解题思路没怎么想出来\n",
    "\n",
    "https://leetcode.com/problems/minimum-height-trees/discuss/76055/Share-some-thoughts\n",
    "\n",
    "这个下面的earlme的评论很棒"
   ]
  },
  {
   "cell_type": "code",
   "execution_count": 20,
   "metadata": {},
   "outputs": [],
   "source": [
    "class Solution:\n",
    "    def findMinHeightTrees(self, n: int, edges):\n",
    "        if n == 1: return [0] \n",
    "        adj = [set() for _ in range(n)]\n",
    "        for i, j in edges:\n",
    "            adj[i].add(j)\n",
    "            adj[j].add(i)\n",
    "\n",
    "        leaves = [i for i in range(n) if len(adj[i]) == 1]\n",
    "\n",
    "        while n > 2:\n",
    "            n -= len(leaves)\n",
    "            newLeaves = []\n",
    "            for i in leaves:\n",
    "                j = adj[i].pop()\n",
    "                adj[j].remove(i)\n",
    "                if len(adj[j]) == 1:\n",
    "                    newLeaves.append(j)\n",
    "            leaves = newLeaves\n",
    "\n",
    "        return leaves"
   ]
  },
  {
   "cell_type": "code",
   "execution_count": 21,
   "metadata": {},
   "outputs": [
    {
     "data": {
      "text/plain": [
       "[3, 4]"
      ]
     },
     "execution_count": 21,
     "metadata": {},
     "output_type": "execute_result"
    }
   ],
   "source": [
    "Solution().findMinHeightTrees(n = 6, edges = [[0, 3], [1, 3], [2, 3], [4, 3], [5, 4]])"
   ]
  },
  {
   "cell_type": "code",
   "execution_count": 22,
   "metadata": {},
   "outputs": [
    {
     "data": {
      "text/plain": [
       "[1]"
      ]
     },
     "execution_count": 22,
     "metadata": {},
     "output_type": "execute_result"
    }
   ],
   "source": [
    "Solution().findMinHeightTrees(n = 4, edges = [[1, 0], [1, 2], [1, 3]])"
   ]
  },
  {
   "cell_type": "code",
   "execution_count": null,
   "metadata": {},
   "outputs": [],
   "source": []
  }
 ],
 "metadata": {
  "kernelspec": {
   "display_name": "Python 3",
   "language": "python",
   "name": "python3"
  },
  "language_info": {
   "codemirror_mode": {
    "name": "ipython",
    "version": 3
   },
   "file_extension": ".py",
   "mimetype": "text/x-python",
   "name": "python",
   "nbconvert_exporter": "python",
   "pygments_lexer": "ipython3",
   "version": "3.8.1"
  }
 },
 "nbformat": 4,
 "nbformat_minor": 4
}
