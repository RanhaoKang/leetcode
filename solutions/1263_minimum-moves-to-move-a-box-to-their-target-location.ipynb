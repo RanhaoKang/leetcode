{
 "cells": [
  {
   "cell_type": "markdown",
   "metadata": {},
   "source": [
    "[1263. Minimum Moves to Move a Box to Their Target Location](https://leetcode.com/problems/minimum-moves-to-move-a-box-to-their-target-location/)"
   ]
  },
  {
   "cell_type": "code",
   "execution_count": 4,
   "metadata": {},
   "outputs": [],
   "source": [
    "class Solution:\n",
    "    def minPushBox(self, grid) -> int:\n",
    "        H, W = len(grid), len(grid and grid[0])\n",
    "        for i in range(H):\n",
    "            for j in range(W):\n",
    "                if grid[i][j] == 'B': box = (i, j)\n",
    "                if grid[i][j] == 'T': target = (i, j)\n",
    "                if grid[i][j] == 'S': player = (i, j)\n",
    "        \n",
    "        if target == box: return 0\n",
    "        \n",
    "        def can_get(cur_b, cur_p, pos): # can player get to a certain position pos\n",
    "            if cur_p == pos: return True\n",
    "            seen = {cur_p}\n",
    "            q = [cur_p]\n",
    "            for x, y in q:\n",
    "                for X, Y in ([(x-1, y), (x+1, y), (x, y-1), (x, y+1)]):\n",
    "                    if 0 <= X < H and 0 <= Y < W and (X, Y) not in seen and grid[X][Y] != '#' and (X, Y) != cur_b:\n",
    "                        if (X, Y) == pos:\n",
    "                            return True\n",
    "                        seen.add((X, Y))\n",
    "                        q.append((X, Y))\n",
    "            return False\n",
    "        \n",
    "        Q, seen, res = {(box, player)}, {(box, player)}, 0\n",
    "        dire = [(-1, 0), (1, 0), (0, -1), (0, 1)]\n",
    "        \n",
    "        while Q:\n",
    "            tmp = []\n",
    "            res += 1\n",
    "            for b, p in Q:\n",
    "                if b == target:\n",
    "                    return res - 1\n",
    "                for d in dire:\n",
    "                    nb = (b[0] + d[0], b[1] + d[1])\n",
    "                    oppo = (b[0] - d[0], b[1] - d[1]) # player is required to be the opposite side of the box to push\n",
    "                    if 0 <= nb[0] < H and 0 <= nb[1] < W and grid[nb[0]][nb[1]] != '#' and can_get(b, p, oppo) and (nb, b) not in seen:\n",
    "                        tmp.append((nb, b))\n",
    "            Q = set(tmp)\n",
    "            seen |= Q\n",
    "        \n",
    "        return -1"
   ]
  },
  {
   "cell_type": "code",
   "execution_count": 5,
   "metadata": {},
   "outputs": [
    {
     "data": {
      "text/plain": [
       "3"
      ]
     },
     "execution_count": 5,
     "metadata": {},
     "output_type": "execute_result"
    }
   ],
   "source": [
    "Solution().minPushBox([[\"#\",\"#\",\"#\",\"#\",\"#\",\"#\"],\n",
    "               [\"#\",\"T\",\"#\",\"#\",\"#\",\"#\"],\n",
    "               [\"#\",\".\",\".\",\"B\",\".\",\"#\"],\n",
    "               [\"#\",\".\",\"#\",\"#\",\".\",\"#\"],\n",
    "               [\"#\",\".\",\".\",\".\",\"S\",\"#\"],\n",
    "               [\"#\",\"#\",\"#\",\"#\",\"#\",\"#\"]])"
   ]
  },
  {
   "cell_type": "code",
   "execution_count": null,
   "metadata": {},
   "outputs": [],
   "source": []
  }
 ],
 "metadata": {
  "kernelspec": {
   "display_name": "Python 3",
   "language": "python",
   "name": "python3"
  },
  "language_info": {
   "codemirror_mode": {
    "name": "ipython",
    "version": 3
   },
   "file_extension": ".py",
   "mimetype": "text/x-python",
   "name": "python",
   "nbconvert_exporter": "python",
   "pygments_lexer": "ipython3",
   "version": "3.8.1"
  }
 },
 "nbformat": 4,
 "nbformat_minor": 4
}
