{
 "cells": [
  {
   "cell_type": "markdown",
   "metadata": {},
   "source": [
    "[966. Vowel Spellchecker](https://leetcode.com/problems/vowel-spellchecker/)"
   ]
  },
  {
   "cell_type": "code",
   "execution_count": 1,
   "metadata": {},
   "outputs": [],
   "source": [
    "class Solution:\n",
    "    def spellchecker(self, wordlist, queries):\n",
    "        def devowel(word):\n",
    "            return ''.join('*' if c in 'aeiou' else c\n",
    "                           for c in word)\n",
    "\n",
    "        words_perfect = set(wordlist)\n",
    "        words_cap, words_vow = {}, {}\n",
    "\n",
    "        for word in wordlist:\n",
    "            wordlow = word.lower()\n",
    "            words_cap.setdefault(wordlow, word)\n",
    "            words_vow.setdefault(devowel(wordlow), word)\n",
    "\n",
    "        def solve(query):\n",
    "            if query in words_perfect:\n",
    "                return query\n",
    "\n",
    "            queryL = query.lower()\n",
    "            if queryL in words_cap:\n",
    "                return words_cap[queryL]\n",
    "\n",
    "            queryLV = devowel(queryL)\n",
    "            if queryLV in words_vow:\n",
    "                return words_vow[queryLV]\n",
    "            return ''\n",
    "\n",
    "        return list(map(solve, queries))"
   ]
  },
  {
   "cell_type": "code",
   "execution_count": null,
   "metadata": {},
   "outputs": [],
   "source": []
  }
 ],
 "metadata": {
  "kernelspec": {
   "display_name": "Python 3",
   "language": "python",
   "name": "python3"
  },
  "language_info": {
   "codemirror_mode": {
    "name": "ipython",
    "version": 3
   },
   "file_extension": ".py",
   "mimetype": "text/x-python",
   "name": "python",
   "nbconvert_exporter": "python",
   "pygments_lexer": "ipython3",
   "version": "3.8.1"
  }
 },
 "nbformat": 4,
 "nbformat_minor": 4
}
