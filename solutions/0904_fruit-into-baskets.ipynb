{
 "cells": [
  {
   "cell_type": "markdown",
   "metadata": {},
   "source": [
    "[904. Fruit Into Baskets](https://leetcode.com/problems/fruit-into-baskets/)"
   ]
  },
  {
   "cell_type": "markdown",
   "metadata": {},
   "source": [
    "一开始写了个倒序处理的，发现自己审错题了，如果不能放进篮子的时候就已经要停止了"
   ]
  },
  {
   "cell_type": "markdown",
   "metadata": {},
   "source": [
    "果然discuss哈哈哈哈哈哈\n",
    "\n",
    "Question with better phrasing:\n",
    "\n",
    "What is the length of longest subarray that contains up to two distinct integers?"
   ]
  },
  {
   "cell_type": "code",
   "execution_count": 12,
   "metadata": {},
   "outputs": [],
   "source": [
    "class Solution:\n",
    "    def totalFruit(self, tree) -> int:\n",
    "        from collections import Counter\n",
    "\n",
    "        res, cnt = 0, Counter()\n",
    "        for i in reversed(tree):\n",
    "            cnt[i] += 1\n",
    "            print(i, cnt.most_common(2))\n",
    "            res = max(res, sum(v for k, v in cnt.most_common(2)))\n",
    "        \n",
    "        return res"
   ]
  },
  {
   "cell_type": "code",
   "execution_count": 13,
   "metadata": {},
   "outputs": [
    {
     "name": "stdout",
     "output_type": "stream",
     "text": [
      "4 [(4, 1)]\n",
      "3 [(4, 1), (3, 1)]\n",
      "3 [(3, 2), (4, 1)]\n",
      "2 [(3, 2), (4, 1)]\n",
      "1 [(3, 2), (4, 1)]\n",
      "1 [(3, 2), (1, 2)]\n",
      "2 [(3, 2), (2, 2)]\n",
      "1 [(1, 3), (3, 2)]\n",
      "3 [(3, 3), (1, 3)]\n",
      "3 [(3, 4), (1, 3)]\n",
      "3 [(3, 5), (1, 3)]\n"
     ]
    },
    {
     "data": {
      "text/plain": [
       "8"
      ]
     },
     "execution_count": 13,
     "metadata": {},
     "output_type": "execute_result"
    }
   ],
   "source": [
    "Solution().totalFruit([3,3,3,1,2,1,1,2,3,3,4])"
   ]
  },
  {
   "cell_type": "code",
   "execution_count": null,
   "metadata": {},
   "outputs": [],
   "source": [
    "class Solution:\n",
    "    def totalFruit(self, tree) -> int:\n",
    "        res = cur = count_b = a = b = 0\n",
    "        for c in tree:\n",
    "            cur = cur + 1 if c in (a, b) else count_b + 1\n",
    "            count_b = count_b + 1 if c == b else 1\n",
    "            if b != c:\n",
    "                a, b = b, c\n",
    "            res = max(res, cur)\n",
    "        return res"
   ]
  }
 ],
 "metadata": {
  "kernelspec": {
   "display_name": "Python 3",
   "language": "python",
   "name": "python3"
  },
  "language_info": {
   "codemirror_mode": {
    "name": "ipython",
    "version": 3
   },
   "file_extension": ".py",
   "mimetype": "text/x-python",
   "name": "python",
   "nbconvert_exporter": "python",
   "pygments_lexer": "ipython3",
   "version": "3.8.1"
  }
 },
 "nbformat": 4,
 "nbformat_minor": 4
}
