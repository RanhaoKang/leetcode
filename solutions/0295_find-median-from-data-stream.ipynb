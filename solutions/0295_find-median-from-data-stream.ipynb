{
 "cells": [
  {
   "cell_type": "markdown",
   "metadata": {},
   "source": [
    "[295. Find Median from Data Stream](https://leetcode.com/problems/find-median-from-data-stream/)"
   ]
  },
  {
   "cell_type": "code",
   "execution_count": 5,
   "metadata": {},
   "outputs": [],
   "source": [
    "from heapq import *\n",
    "\n",
    "\n",
    "class MedianFinder:\n",
    "\n",
    "    def __init__(self):\n",
    "        \"\"\"\n",
    "        initialize your data structure here.\n",
    "        \"\"\"\n",
    "        self.heaps = [], []\n",
    "\n",
    "\n",
    "    def addNum(self, num: int) -> None:\n",
    "        small, large = self.heaps\n",
    "        heappush(small, -heappushpop(large, num))\n",
    "        if len(large) < len(small):\n",
    "            heappush(large, -heappop(small))\n",
    "\n",
    "\n",
    "    def findMedian(self) -> float:\n",
    "        small, large = self.heaps\n",
    "        if len(large) > len(small):\n",
    "            return large[0]\n",
    "        return (large[0] - small[0]) / 2\n",
    "\n",
    "\n",
    "# Your MedianFinder object will be instantiated and called as such:\n",
    "# obj = MedianFinder()\n",
    "# obj.addNum(num)\n",
    "# param_2 = obj.findMedian()"
   ]
  },
  {
   "cell_type": "code",
   "execution_count": 6,
   "metadata": {},
   "outputs": [
    {
     "name": "stdout",
     "output_type": "stream",
     "text": [
      "1.5\n",
      "2.0\n"
     ]
    }
   ],
   "source": [
    "mf = MedianFinder()\n",
    "mf.addNum(1)\n",
    "mf.addNum(2)\n",
    "print(mf.findMedian())\n",
    "mf.addNum(3)\n",
    "print(mf.findMedian())"
   ]
  },
  {
   "cell_type": "code",
   "execution_count": null,
   "metadata": {},
   "outputs": [],
   "source": []
  }
 ],
 "metadata": {
  "kernelspec": {
   "display_name": "Python 3",
   "language": "python",
   "name": "python3"
  },
  "language_info": {
   "codemirror_mode": {
    "name": "ipython",
    "version": 3
   },
   "file_extension": ".py",
   "mimetype": "text/x-python",
   "name": "python",
   "nbconvert_exporter": "python",
   "pygments_lexer": "ipython3",
   "version": "3.8.1"
  }
 },
 "nbformat": 4,
 "nbformat_minor": 4
}
