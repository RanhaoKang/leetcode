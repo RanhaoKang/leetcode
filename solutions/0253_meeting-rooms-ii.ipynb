{
 "cells": [
  {
   "cell_type": "markdown",
   "metadata": {},
   "source": [
    "[253. Meeting Rooms II](https://leetcode.com/problems/meeting-rooms-ii)"
   ]
  },
  {
   "cell_type": "markdown",
   "metadata": {},
   "source": [
    "申请`min(intervals.starts)`到`max(intervals.ends)`的数组.\n",
    "\n",
    "如果数据中出现一个差的特别远的`interval`, 将导致`MLE`"
   ]
  },
  {
   "cell_type": "markdown",
   "metadata": {},
   "source": [
    "直观地理解, `d`相当于是离散的时间轴, 在`i.start`时增加房间, 并在`i.end`时收回房间, 是很符合直觉的思考方式.\n",
    "\n",
    "而计算最终需要多少间房间时, 实际上是one-pass求和的最大值. 尝试画几个区间来思考, 很容易发现:\n",
    "- 重叠的区间, 其所有的结束时间都在开始时间之后, 也就是说变换所得的\"离散时间轴\", 正数在前, 负数在后, 从左向右one-pass求和的最大值刚好符合要求\n",
    "- 对于不重叠的区间, 一次会议产生的房间数增减不会影响到其他会议"
   ]
  },
  {
   "cell_type": "markdown",
   "metadata": {},
   "source": [
    "$O(n)$"
   ]
  },
  {
   "cell_type": "code",
   "execution_count": 1,
   "metadata": {},
   "outputs": [],
   "source": [
    "class Solution:\n",
    "    def minMeetingRooms(self, intervals):\n",
    "        from collections import defaultdict\n",
    "        d = defaultdict(int)\n",
    "        for i in intervals:\n",
    "            d[i.start] += 1\n",
    "            d[i.end] -= 1\n",
    "        \n",
    "        rooms = res = 0\n",
    "        for i in d:\n",
    "            rooms += d[i]\n",
    "            res = max(res, rooms)\n",
    "        \n",
    "        return res"
   ]
  },
  {
   "cell_type": "markdown",
   "metadata": {},
   "source": [
    "另一种方案, 在解[Meeting Rooms]()时有一种解法就是遍历判断开始时间和结束时间.\n",
    "\n",
    "在第一种解法时, 我们已经明确了: 重叠区间的开始时间都在结束时间之前."
   ]
  },
  {
   "cell_type": "code",
   "execution_count": 2,
   "metadata": {},
   "outputs": [],
   "source": [
    "class Solution:\n",
    "    def minMeetingRooms(self, intervals):\n",
    "        starts = sorted(i.start for i in intervals)\n",
    "        ends = sorted(i.end for i in intervals)\n",
    "        \n",
    "        res = i = j = 0\n",
    "        \n",
    "        for i in range(len(intervals)):\n",
    "            if starts[i] < ends[j]:\n",
    "                res += 1\n",
    "            else:\n",
    "                j += 1\n",
    "        \n",
    "        return res"
   ]
  },
  {
   "cell_type": "code",
   "execution_count": 3,
   "metadata": {},
   "outputs": [],
   "source": [
    "starts = [1,2,3, 7,8,9,10]\n",
    "ends = [4,5,6, 15,16,17,18]"
   ]
  },
  {
   "cell_type": "code",
   "execution_count": 5,
   "metadata": {},
   "outputs": [
    {
     "name": "stdout",
     "output_type": "stream",
     "text": [
      "1 4\n",
      "2 4\n",
      "3 4\n",
      "7 4\n",
      "8 5\n",
      "9 6\n",
      "10 15\n"
     ]
    }
   ],
   "source": [
    "res = i = j = 0\n",
    "\n",
    "for i in range(len(starts)):\n",
    "    print(starts[i], ends[j])\n",
    "    if starts[i] < ends[j]:\n",
    "        res += 1\n",
    "    else:\n",
    "        j += 1"
   ]
  },
  {
   "cell_type": "code",
   "execution_count": 6,
   "metadata": {},
   "outputs": [
    {
     "data": {
      "text/plain": [
       "4"
      ]
     },
     "execution_count": 6,
     "metadata": {},
     "output_type": "execute_result"
    }
   ],
   "source": [
    "res"
   ]
  },
  {
   "cell_type": "code",
   "execution_count": null,
   "metadata": {},
   "outputs": [],
   "source": []
  }
 ],
 "metadata": {
  "kernelspec": {
   "display_name": "Python 3",
   "language": "python",
   "name": "python3"
  },
  "language_info": {
   "codemirror_mode": {
    "name": "ipython",
    "version": 3
   },
   "file_extension": ".py",
   "mimetype": "text/x-python",
   "name": "python",
   "nbconvert_exporter": "python",
   "pygments_lexer": "ipython3",
   "version": "3.6.7"
  }
 },
 "nbformat": 4,
 "nbformat_minor": 2
}
