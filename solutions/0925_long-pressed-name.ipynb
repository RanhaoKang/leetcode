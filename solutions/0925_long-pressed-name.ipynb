{
 "cells": [
  {
   "cell_type": "markdown",
   "metadata": {},
   "source": [
    "[925. Long Pressed Name](https://leetcode.com/problems/long-pressed-name/)"
   ]
  },
  {
   "cell_type": "code",
   "execution_count": 1,
   "metadata": {},
   "outputs": [],
   "source": [
    "class Solution:\n",
    "    def isLongPressedName(self, name: str, typed: str) -> bool:\n",
    "        i = j = 0\n",
    "        last = None\n",
    "        N1, N2 = len(name), len(typed)\n",
    "        \n",
    "        while i < N1 and j < N2:\n",
    "            if name[i] == typed[j]:\n",
    "                i += 1\n",
    "                j += 1\n",
    "            elif last and last == typed[j]:\n",
    "                j += 1\n",
    "            else:\n",
    "                return False\n",
    "            last = typed[j-1]\n",
    "    \n",
    "        return i == N1 and all(typed[k] == last for k in range(j+1, N2))"
   ]
  },
  {
   "cell_type": "code",
   "execution_count": null,
   "metadata": {},
   "outputs": [],
   "source": []
  }
 ],
 "metadata": {
  "kernelspec": {
   "display_name": "Python 3",
   "language": "python",
   "name": "python3"
  },
  "language_info": {
   "codemirror_mode": {
    "name": "ipython",
    "version": 3
   },
   "file_extension": ".py",
   "mimetype": "text/x-python",
   "name": "python",
   "nbconvert_exporter": "python",
   "pygments_lexer": "ipython3",
   "version": "3.8.1"
  }
 },
 "nbformat": 4,
 "nbformat_minor": 4
}
