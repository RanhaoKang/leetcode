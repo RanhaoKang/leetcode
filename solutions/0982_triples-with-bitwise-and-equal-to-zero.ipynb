{
 "cells": [
  {
   "cell_type": "markdown",
   "metadata": {},
   "source": [
    "[982. Triples with Bitwise AND Equal To Zero](https://leetcode.com/problems/triples-with-bitwise-and-equal-to-zero/)"
   ]
  },
  {
   "cell_type": "markdown",
   "metadata": {},
   "source": [
    "$O(3 \\cdot 2^{16}N)$, TLE"
   ]
  },
  {
   "cell_type": "code",
   "execution_count": 9,
   "metadata": {},
   "outputs": [],
   "source": [
    "class Solution:\n",
    "    def countTriplets(self, A) -> int:\n",
    "        M, N = 3, 1 << 16\n",
    "        dp = [[0] * N for _ in range(M + 1)]\n",
    "        dp[0][N - 1] = 1\n",
    "        \n",
    "        for i in range(M):\n",
    "            for bit in range(N):\n",
    "                for a in A:\n",
    "                    dp[i + 1][bit & a] += dp[i][bit]\n",
    "        \n",
    "        # print(dp)\n",
    "        return dp[-1][0]"
   ]
  },
  {
   "cell_type": "code",
   "execution_count": 10,
   "metadata": {},
   "outputs": [
    {
     "data": {
      "text/plain": [
       "12"
      ]
     },
     "execution_count": 10,
     "metadata": {},
     "output_type": "execute_result"
    }
   ],
   "source": [
    "Solution().countTriplets([2,1,3])"
   ]
  },
  {
   "cell_type": "code",
   "execution_count": 16,
   "metadata": {},
   "outputs": [],
   "source": [
    "class Solution:\n",
    "    def countTriplets(self, A) -> int:\n",
    "        M, N = 3, 1 << 16\n",
    "        from collections import Counter\n",
    "        dp = Counter({(0, 65535): 1})\n",
    "        \n",
    "        for i in range(M):\n",
    "            for bit in range(N):\n",
    "                for a in A:\n",
    "                    dp[i + 1, bit & a] += dp[i, bit]\n",
    "        \n",
    "        # print(dp)\n",
    "        return dp[M, 0]"
   ]
  },
  {
   "cell_type": "code",
   "execution_count": 17,
   "metadata": {},
   "outputs": [
    {
     "data": {
      "text/plain": [
       "12"
      ]
     },
     "execution_count": 17,
     "metadata": {},
     "output_type": "execute_result"
    }
   ],
   "source": [
    "Solution().countTriplets([2,1,3])"
   ]
  },
  {
   "cell_type": "markdown",
   "metadata": {},
   "source": [
    "$O(N^3)$, 4508 ms"
   ]
  },
  {
   "cell_type": "code",
   "execution_count": 11,
   "metadata": {},
   "outputs": [],
   "source": [
    "class Solution:\n",
    "    def countTriplets(self, A) -> int:\n",
    "        combo = collections.Counter(x & y for x in A for y in A)\n",
    "        return sum(combo[k] for z in A for k in combo if z & k == 0)"
   ]
  },
  {
   "cell_type": "code",
   "execution_count": null,
   "metadata": {},
   "outputs": [],
   "source": []
  }
 ],
 "metadata": {
  "kernelspec": {
   "display_name": "Python 3",
   "language": "python",
   "name": "python3"
  },
  "language_info": {
   "codemirror_mode": {
    "name": "ipython",
    "version": 3
   },
   "file_extension": ".py",
   "mimetype": "text/x-python",
   "name": "python",
   "nbconvert_exporter": "python",
   "pygments_lexer": "ipython3",
   "version": "3.8.1"
  }
 },
 "nbformat": 4,
 "nbformat_minor": 2
}
