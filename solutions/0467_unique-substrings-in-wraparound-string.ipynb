{
 "cells": [
  {
   "cell_type": "markdown",
   "metadata": {},
   "source": [
    "[467. Unique Substrings in Wraparound String](https://leetcode.com/problems/unique-substrings-in-wraparound-string/)"
   ]
  },
  {
   "cell_type": "markdown",
   "metadata": {},
   "source": [
    "wraparound指`abcd...xyzabc...`这样的, unique指substring中出现的字符是unique的"
   ]
  },
  {
   "cell_type": "code",
   "execution_count": 4,
   "metadata": {},
   "outputs": [],
   "source": [
    "import collections\n",
    "\n",
    "class Solution:\n",
    "    def findSubstringInWraproundString(self, p: str) -> int:\n",
    "        res = {i: 1 for i in p}\n",
    "        l = 1\n",
    "        for i, j in zip(p, p[1:]):\n",
    "            l = l + 1 if (ord(j) - ord(i)) % 26 == 1 else 1\n",
    "            res[j] = max(res[j], l)\n",
    "        return sum(res.values())"
   ]
  }
 ],
 "metadata": {
  "kernelspec": {
   "display_name": "Python 3",
   "language": "python",
   "name": "python3"
  },
  "language_info": {
   "codemirror_mode": {
    "name": "ipython",
    "version": 3
   },
   "file_extension": ".py",
   "mimetype": "text/x-python",
   "name": "python",
   "nbconvert_exporter": "python",
   "pygments_lexer": "ipython3",
   "version": "3.6.7"
  }
 },
 "nbformat": 4,
 "nbformat_minor": 2
}
