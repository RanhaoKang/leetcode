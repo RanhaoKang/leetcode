{
 "cells": [
  {
   "cell_type": "markdown",
   "metadata": {},
   "source": [
    "[95. Unique Binary Search Trees II](https://leetcode.com/problems/unique-binary-search-trees-ii/)"
   ]
  },
  {
   "cell_type": "code",
   "execution_count": 7,
   "metadata": {},
   "outputs": [],
   "source": [
    "# Definition for a binary tree node.\n",
    "class TreeNode:\n",
    "    def __init__(self, x):\n",
    "        self.val = x\n",
    "        self.left = None\n",
    "        self.right = None\n",
    "\n",
    "class Solution:\n",
    "    def generateTrees(self, n: int):\n",
    "        \n",
    "        def solve(l, r):\n",
    "            if l > r:\n",
    "                return [None]\n",
    "            elif l == r:\n",
    "                return [TreeNode(l)]\n",
    "            res = []\n",
    "            for i in range(l, r + 1):\n",
    "                for left in solve(l, i - 1):\n",
    "                    for right in solve(i + 1, r):\n",
    "                        node = TreeNode(i)\n",
    "                        node.left = left\n",
    "                        node.right = right\n",
    "                        res.append(node)\n",
    "\n",
    "            return res\n",
    "        \n",
    "        return solve(1, n) if n else []\n",
    "        "
   ]
  },
  {
   "cell_type": "code",
   "execution_count": 8,
   "metadata": {},
   "outputs": [
    {
     "data": {
      "text/plain": [
       "[<__main__.TreeNode at 0x7f62b0351dd8>,\n",
       " <__main__.TreeNode at 0x7f62b032f898>,\n",
       " <__main__.TreeNode at 0x7f62b032f8d0>,\n",
       " <__main__.TreeNode at 0x7f62b045bac8>,\n",
       " <__main__.TreeNode at 0x7f62b045bc50>]"
      ]
     },
     "execution_count": 8,
     "metadata": {},
     "output_type": "execute_result"
    }
   ],
   "source": [
    "Solution().generateTrees(3)"
   ]
  },
  {
   "cell_type": "code",
   "execution_count": null,
   "metadata": {},
   "outputs": [],
   "source": []
  }
 ],
 "metadata": {
  "kernelspec": {
   "display_name": "Python 3",
   "language": "python",
   "name": "python3"
  },
  "language_info": {
   "codemirror_mode": {
    "name": "ipython",
    "version": 3
   },
   "file_extension": ".py",
   "mimetype": "text/x-python",
   "name": "python",
   "nbconvert_exporter": "python",
   "pygments_lexer": "ipython3",
   "version": "3.6.7"
  }
 },
 "nbformat": 4,
 "nbformat_minor": 2
}
