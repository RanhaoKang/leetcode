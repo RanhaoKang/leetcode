{
 "cells": [
  {
   "cell_type": "markdown",
   "metadata": {},
   "source": [
    "[1201. Ugly Number III](https://leetcode.com/problems/ugly-number-iii/)"
   ]
  },
  {
   "cell_type": "code",
   "execution_count": 1,
   "metadata": {},
   "outputs": [],
   "source": [
    "class Solution:\n",
    "    def nthUglyNumber(self, n: int, a: int, b: int, c: int) -> int:\n",
    "        def lcm(a, b):\n",
    "            return abs(a*b) // math.gcd(a, b)\n",
    "        def count(val,a,b,c):\n",
    "            return val//a + val//b + val//c -val//lcm(a, b)-val//lcm(a, c)-val//lcm(c, b) + val//lcm(lcm(a, b),c)\n",
    "        l = 1\n",
    "        r = min([a,b,c]) * n\n",
    "        tmp = (l+r)//2\n",
    "        while count(tmp,a,b,c) != n-1:\n",
    "            if count(tmp,a,b,c) > n-1:\n",
    "                r = tmp\n",
    "            else:\n",
    "                l = tmp\n",
    "            tmp = (l+r)//2\n",
    "        while count(tmp,a,b,c) != n:\n",
    "            tmp += 1\n",
    "        return tmp"
   ]
  },
  {
   "cell_type": "code",
   "execution_count": null,
   "metadata": {},
   "outputs": [],
   "source": []
  }
 ],
 "metadata": {
  "kernelspec": {
   "display_name": "Python 3",
   "language": "python",
   "name": "python3"
  },
  "language_info": {
   "codemirror_mode": {
    "name": "ipython",
    "version": 3
   },
   "file_extension": ".py",
   "mimetype": "text/x-python",
   "name": "python",
   "nbconvert_exporter": "python",
   "pygments_lexer": "ipython3",
   "version": "3.8.1"
  }
 },
 "nbformat": 4,
 "nbformat_minor": 4
}
