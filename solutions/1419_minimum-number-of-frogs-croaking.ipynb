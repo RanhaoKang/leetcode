{
 "cells": [
  {
   "cell_type": "markdown",
   "metadata": {},
   "source": [
    "[1419. Minimum Number of Frogs Croaking](https://leetcode.com/problems/minimum-number-of-frogs-croaking/)"
   ]
  },
  {
   "cell_type": "markdown",
   "metadata": {},
   "source": [
    "日志筛选类题目？`'croak'`中不包含重复字符，比较好处理。"
   ]
  },
  {
   "cell_type": "code",
   "execution_count": 3,
   "metadata": {},
   "outputs": [],
   "source": [
    "class Solution:\n",
    "    def minNumberOfFrogs(self, s: str) -> int:\n",
    "        c, r, o, a, k, in_use, answer = 0, 0, 0, 0, 0, 0, 0\n",
    "        for d in s:\n",
    "            if d == 'c':\n",
    "                c, in_use = c+1, in_use+1\n",
    "            elif d == 'r':\n",
    "                r += 1\n",
    "            elif d == 'o':\n",
    "                o += 1\n",
    "            elif d == 'a':\n",
    "                a += 1\n",
    "            else:\n",
    "                k, in_use = k+1, in_use-1\n",
    "                \n",
    "            answer = max(answer, in_use)\n",
    "            \n",
    "            if c < r or r < o or o < a or a < k:\n",
    "                return -1\n",
    "            \n",
    "        if in_use == 0 and c == r and r == o and o == a and a == k:\n",
    "            return answer\n",
    "        \n",
    "        return -1"
   ]
  }
 ],
 "metadata": {
  "kernelspec": {
   "display_name": "Python 3",
   "language": "python",
   "name": "python3"
  },
  "language_info": {
   "codemirror_mode": {
    "name": "ipython",
    "version": 3
   },
   "file_extension": ".py",
   "mimetype": "text/x-python",
   "name": "python",
   "nbconvert_exporter": "python",
   "pygments_lexer": "ipython3",
   "version": "3.8.0b3"
  }
 },
 "nbformat": 4,
 "nbformat_minor": 2
}
