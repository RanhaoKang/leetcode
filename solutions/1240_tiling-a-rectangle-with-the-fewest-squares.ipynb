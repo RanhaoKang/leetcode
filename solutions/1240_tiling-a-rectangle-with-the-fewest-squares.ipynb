{
 "cells": [
  {
   "cell_type": "markdown",
   "metadata": {},
   "source": [
    "[1240. Tiling a Rectangle with the Fewest Squares](https://leetcode.com/problems/tiling-a-rectangle-with-the-fewest-squares/)"
   ]
  },
  {
   "cell_type": "code",
   "execution_count": 1,
   "metadata": {},
   "outputs": [],
   "source": [
    "class Solution:\n",
    "    def tilingRectangle(self, n: int, m: int) -> int:      \n",
    "        self.best = m * n    \n",
    "\n",
    "        def dfs(height, moves):\n",
    "            if all(h == n for h in height):\n",
    "                self.best = min(self.best, moves)\n",
    "                return\n",
    "            if moves >= self.best:\n",
    "                return\n",
    "            min_height = min(height)\n",
    "            idx = height.index(min_height)\n",
    "            ridx = idx + 1\n",
    "            while ridx < m and height[ridx] == min_height:\n",
    "                ridx += 1\n",
    "            for i in range(min(ridx - idx, n - min_height), 0, -1):\n",
    "                new_height = height[:]\n",
    "                for j in range(i):\n",
    "                    new_height[idx + j] += i\n",
    "                dfs(new_height, moves + 1) \n",
    "\n",
    "        dfs([0] * m, 0)\n",
    "        return self.best"
   ]
  },
  {
   "cell_type": "code",
   "execution_count": null,
   "metadata": {},
   "outputs": [],
   "source": []
  }
 ],
 "metadata": {
  "kernelspec": {
   "display_name": "Python 3",
   "language": "python",
   "name": "python3"
  },
  "language_info": {
   "codemirror_mode": {
    "name": "ipython",
    "version": 3
   },
   "file_extension": ".py",
   "mimetype": "text/x-python",
   "name": "python",
   "nbconvert_exporter": "python",
   "pygments_lexer": "ipython3",
   "version": "3.8.1"
  }
 },
 "nbformat": 4,
 "nbformat_minor": 4
}
