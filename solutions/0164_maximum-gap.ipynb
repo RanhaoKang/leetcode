{
 "cells": [
  {
   "cell_type": "markdown",
   "metadata": {},
   "source": [
    "[164. Maximum Gap](https://leetcode.com/problems/maximum-gap/)"
   ]
  },
  {
   "cell_type": "markdown",
   "metadata": {},
   "source": [
    "- sort + one-pass, $O(nlogn)$\n",
    "- d"
   ]
  },
  {
   "cell_type": "markdown",
   "metadata": {},
   "source": [
    "The Pigeonhole Principle一直是理解容易应用难, 此处.\n",
    "\n",
    "top-down\n",
    "\n",
    "bottom-up的想法, 如处理`[3, 6, 9, 1]`\n",
    "- 处理`3`, 此时维护单个`3`\n",
    "- 处理`6`, 此时维护`(3, 6)`这个区间\n",
    "- 处理`9`, 此时维护`(3, 6)`, `(6, 9)`两个区间\n",
    "如\n",
    "\n",
    "- 分成多个`bucket`\n",
    "- 放入\n"
   ]
  },
  {
   "cell_type": "code",
   "execution_count": 9,
   "metadata": {},
   "outputs": [],
   "source": [
    "class Bucket:\n",
    "    def __init__(self):\n",
    "        self.used = False\n",
    "        self.min = float('inf')\n",
    "        self.max = float('-inf')\n",
    "\n",
    "class Solution:\n",
    "    def maximumGap(self, nums) -> int:\n",
    "        if len(nums) < 2:\n",
    "            return 0\n",
    "        \n",
    "        \n",
    "        max_, min_ = max(nums), min(nums)\n",
    "        size_buckets = max(1, (max_ - min_) // (len(nums) - 1))\n",
    "        num_buckets = (max_ - min_) // size_buckets + 1\n",
    "        buckets = [Bucket() for _ in range(num_buckets)]\n",
    "        \n",
    "        # put num into bucket\n",
    "        for num in nums:\n",
    "            bucket_idx = (num - min_) // size_buckets\n",
    "            buckets[bucket_idx].used = True\n",
    "            buckets[bucket_idx].min = min(num, buckets[bucket_idx].min)\n",
    "            buckets[bucket_idx].max = max(num, buckets[bucket_idx].max)\n",
    "            \n",
    "        prev_bucket_max = min_\n",
    "        gap = 0\n",
    "        \n",
    "        for bucket in buckets:\n",
    "            print(bucket.min, bucket.max)\n",
    "            if not bucket.used:\n",
    "                continue\n",
    "            gap = max(gap, bucket.min - prev_bucket_max)\n",
    "            prev_bucket_max = bucket.max\n",
    "        \n",
    "        return gap"
   ]
  },
  {
   "cell_type": "code",
   "execution_count": 8,
   "metadata": {},
   "outputs": [
    {
     "name": "stdout",
     "output_type": "stream",
     "text": [
      "1 1\n",
      "3 3\n",
      "6 6\n",
      "inf -inf\n",
      "9 9\n"
     ]
    },
    {
     "data": {
      "text/plain": [
       "3"
      ]
     },
     "execution_count": 8,
     "metadata": {},
     "output_type": "execute_result"
    }
   ],
   "source": [
    "Solution().maximumGap([3,6,9,1])"
   ]
  },
  {
   "cell_type": "code",
   "execution_count": null,
   "metadata": {},
   "outputs": [],
   "source": []
  }
 ],
 "metadata": {
  "kernelspec": {
   "display_name": "Python 3",
   "language": "python",
   "name": "python3"
  },
  "language_info": {
   "codemirror_mode": {
    "name": "ipython",
    "version": 3
   },
   "file_extension": ".py",
   "mimetype": "text/x-python",
   "name": "python",
   "nbconvert_exporter": "python",
   "pygments_lexer": "ipython3",
   "version": "3.6.7"
  }
 },
 "nbformat": 4,
 "nbformat_minor": 2
}
