{
 "cells": [
  {
   "cell_type": "markdown",
   "metadata": {},
   "source": [
    "[739. Daily Temperatures](https://leetcode.com/problems/daily-temperatures/)"
   ]
  },
  {
   "cell_type": "markdown",
   "metadata": {},
   "source": [
    "题干的应用场景写挺细... 直说抽象含义不好吗看半天.\n",
    "\n",
    "单调栈牛逼!"
   ]
  },
  {
   "cell_type": "code",
   "execution_count": 3,
   "metadata": {},
   "outputs": [],
   "source": [
    "from collections import deque\n",
    "\n",
    "class Solution:\n",
    "    def dailyTemperatures(self, T):\n",
    "        stack = deque()\n",
    "        res = []\n",
    "        \n",
    "        for i in range(len(T)-1, -1, -1):\n",
    "            while stack and stack[-1][0] <= T[i]:\n",
    "                stack.pop()\n",
    "            if stack:\n",
    "                res.append(stack[-1][1] - i)\n",
    "            else:\n",
    "                res.append(0)\n",
    "            stack.append((T[i], i))\n",
    "        \n",
    "        return res[::-1]"
   ]
  },
  {
   "cell_type": "code",
   "execution_count": 4,
   "metadata": {},
   "outputs": [
    {
     "data": {
      "text/plain": [
       "[1, 1, 4, 2, 1, 1, 0, 0]"
      ]
     },
     "execution_count": 4,
     "metadata": {},
     "output_type": "execute_result"
    }
   ],
   "source": [
    "Solution().dailyTemperatures([73, 74, 75, 71, 69, 72, 76, 73])"
   ]
  },
  {
   "cell_type": "code",
   "execution_count": null,
   "metadata": {},
   "outputs": [],
   "source": []
  }
 ],
 "metadata": {
  "kernelspec": {
   "display_name": "Python 3",
   "language": "python",
   "name": "python3"
  },
  "language_info": {
   "codemirror_mode": {
    "name": "ipython",
    "version": 3
   },
   "file_extension": ".py",
   "mimetype": "text/x-python",
   "name": "python",
   "nbconvert_exporter": "python",
   "pygments_lexer": "ipython3",
   "version": "3.6.7"
  }
 },
 "nbformat": 4,
 "nbformat_minor": 2
}
