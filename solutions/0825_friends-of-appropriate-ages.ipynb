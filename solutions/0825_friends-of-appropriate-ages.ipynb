{
 "cells": [
  {
   "cell_type": "markdown",
   "metadata": {},
   "source": [
    "[825. Friends Of Appropriate Ages](https://leetcode.com/problems/friends-of-appropriate-ages/)"
   ]
  },
  {
   "cell_type": "code",
   "execution_count": 1,
   "metadata": {},
   "outputs": [],
   "source": [
    "class Solution:\n",
    "    def numFriendRequests(self, ages) -> int:\n",
    "        def request(a, b):\n",
    "            return not (b <= 0.5 * a + 7 or b > a or b > 100 and a < 100)\n",
    "        \n",
    "        from collections import Counter\n",
    "        c = Counter(ages)\n",
    "        \n",
    "        return sum(request(a, b) * c[a] * (c[b] - (a == b)) for a in c for b in c)"
   ]
  },
  {
   "cell_type": "code",
   "execution_count": null,
   "metadata": {},
   "outputs": [],
   "source": []
  }
 ],
 "metadata": {
  "kernelspec": {
   "display_name": "Python 3",
   "language": "python",
   "name": "python3"
  },
  "language_info": {
   "codemirror_mode": {
    "name": "ipython",
    "version": 3
   },
   "file_extension": ".py",
   "mimetype": "text/x-python",
   "name": "python",
   "nbconvert_exporter": "python",
   "pygments_lexer": "ipython3",
   "version": "3.8.1"
  }
 },
 "nbformat": 4,
 "nbformat_minor": 4
}
