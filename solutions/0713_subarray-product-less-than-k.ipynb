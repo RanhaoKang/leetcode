{
 "cells": [
  {
   "cell_type": "markdown",
   "metadata": {},
   "source": [
    "[713. Subarray Product Less Than K](https://leetcode.com/problems/subarray-product-less-than-k/)"
   ]
  },
  {
   "cell_type": "code",
   "execution_count": 4,
   "metadata": {},
   "outputs": [],
   "source": [
    "class Solution:\n",
    "    def numSubarrayProductLessThanK(self, nums, k: int) -> int:\n",
    "        # dp[i]: (0, i)的乘积\n",
    "        dp = [1]\n",
    "        for num in nums:\n",
    "            dp.append(dp[-1] * num)\n",
    "        \n",
    "        res = 0\n",
    "        for i in range(1, len(dp)):\n",
    "            for j in range(i):\n",
    "                if dp[i] // dp[j] < k:\n",
    "                    res += 1\n",
    "        \n",
    "        return res"
   ]
  },
  {
   "cell_type": "code",
   "execution_count": 5,
   "metadata": {},
   "outputs": [
    {
     "data": {
      "text/plain": [
       "8"
      ]
     },
     "execution_count": 5,
     "metadata": {},
     "output_type": "execute_result"
    }
   ],
   "source": [
    "Solution().numSubarrayProductLessThanK([10, 5, 2, 6], 100)"
   ]
  },
  {
   "cell_type": "markdown",
   "metadata": {},
   "source": [
    "$$\\log(\\prod_{i}{x_i}) = \\sum_{i}{\\log{x_i}}$$"
   ]
  },
  {
   "cell_type": "code",
   "execution_count": 6,
   "metadata": {},
   "outputs": [],
   "source": [
    "class Solution:\n",
    "    def numSubarrayProductLessThanK(self, nums, k: int) -> int:\n",
    "        import math, bisect\n",
    "        \n",
    "        if k == 0:\n",
    "            return 0\n",
    "        \n",
    "        k = math.log(k)\n",
    "\n",
    "        prefix = [0]\n",
    "        for x in nums:\n",
    "            prefix.append(prefix[-1] + math.log(x))\n",
    "\n",
    "        res = 0\n",
    "        for i, x in enumerate(prefix):\n",
    "            j = bisect.bisect(prefix, x + k - 1e-9, i+1)\n",
    "            res += j - i - 1\n",
    "        return res"
   ]
  },
  {
   "cell_type": "code",
   "execution_count": null,
   "metadata": {},
   "outputs": [],
   "source": []
  }
 ],
 "metadata": {
  "kernelspec": {
   "display_name": "Python 3",
   "language": "python",
   "name": "python3"
  },
  "language_info": {
   "codemirror_mode": {
    "name": "ipython",
    "version": 3
   },
   "file_extension": ".py",
   "mimetype": "text/x-python",
   "name": "python",
   "nbconvert_exporter": "python",
   "pygments_lexer": "ipython3",
   "version": "3.6.7"
  }
 },
 "nbformat": 4,
 "nbformat_minor": 2
}
