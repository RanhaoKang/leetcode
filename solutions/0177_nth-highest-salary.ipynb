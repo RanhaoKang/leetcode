{
 "cells": [
  {
   "cell_type": "markdown",
   "metadata": {},
   "source": [
    "[177. Nth Highest Salary](https://leetcode.com/problems/nth-highest-salary/)"
   ]
  },
  {
   "cell_type": "markdown",
   "metadata": {},
   "source": [
    "```sql\n",
    "CREATE FUNCTION getNthHighestSalary(N INT) RETURNS INT\n",
    "BEGIN\n",
    "  set N = N-1;\n",
    "  RETURN (\n",
    "      # Write your MySQL query statement below.\n",
    "    SELECT DISTINCT\n",
    "      Salary\n",
    "    FROM\n",
    "      Employee\n",
    "    ORDER BY\n",
    "      Salary DESC\n",
    "    LIMIT 1\n",
    "    OFFSET N\n",
    "  );\n",
    "END\n",
    "```"
   ]
  },
  {
   "cell_type": "code",
   "execution_count": 2,
   "metadata": {},
   "outputs": [
    {
     "data": {
      "text/plain": [
       "<sqlite3.Cursor at 0x7f6cbc17a8f0>"
      ]
     },
     "execution_count": 2,
     "metadata": {},
     "output_type": "execute_result"
    }
   ],
   "source": [
    "import sqlite3\n",
    "con = sqlite3.connect(':memory:')\n",
    "c = con.cursor()\n",
    "c.execute('''\n",
    "CREATE TABLE Employee\n",
    "    (Id int, Salary int)\n",
    "''')\n",
    "c.execute(\"INSERT INTO Employee values(1, 100)\")\n",
    "c.execute(\"INSERT INTO Employee values(2, 200)\")\n",
    "c.execute(\"INSERT INTO Employee values(3, 300)\")"
   ]
  },
  {
   "cell_type": "code",
   "execution_count": 3,
   "metadata": {},
   "outputs": [
    {
     "data": {
      "text/plain": [
       "[(1, 100), (2, 200), (3, 300)]"
      ]
     },
     "execution_count": 3,
     "metadata": {},
     "output_type": "execute_result"
    }
   ],
   "source": [
    "c.execute('select * from Employee').fetchall()"
   ]
  },
  {
   "cell_type": "code",
   "execution_count": 8,
   "metadata": {},
   "outputs": [
    {
     "data": {
      "text/plain": [
       "[(200,)]"
      ]
     },
     "execution_count": 8,
     "metadata": {},
     "output_type": "execute_result"
    }
   ],
   "source": [
    "c.execute('''\n",
    "SELECT DISTINCT\n",
    "    Salary\n",
    "FROM\n",
    "    Employee\n",
    "ORDER BY\n",
    "    Salary DESC\n",
    "LIMIT 1\n",
    "OFFSET 1\n",
    "''').fetchall()"
   ]
  },
  {
   "cell_type": "code",
   "execution_count": null,
   "metadata": {},
   "outputs": [],
   "source": []
  }
 ],
 "metadata": {
  "kernelspec": {
   "display_name": "Python 3",
   "language": "python",
   "name": "python3"
  },
  "language_info": {
   "codemirror_mode": {
    "name": "ipython",
    "version": 3
   },
   "file_extension": ".py",
   "mimetype": "text/x-python",
   "name": "python",
   "nbconvert_exporter": "python",
   "pygments_lexer": "ipython3",
   "version": "3.6.7"
  }
 },
 "nbformat": 4,
 "nbformat_minor": 2
}
