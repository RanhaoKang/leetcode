{
 "cells": [
  {
   "cell_type": "markdown",
   "metadata": {},
   "source": [
    "[376. Wiggle Subsequence](https://leetcode.com/problems/wiggle-subsequence/)"
   ]
  },
  {
   "cell_type": "markdown",
   "metadata": {},
   "source": [
    "https://leetcode.com/problems/wiggle-subsequence/discuss/84921/3-lines-O(n)-Python-with-explanationproof"
   ]
  },
  {
   "cell_type": "code",
   "execution_count": 2,
   "metadata": {},
   "outputs": [],
   "source": [
    "class Solution:\n",
    "    def wiggleMaxLength(self, nums) -> int:\n",
    "        nan = float('nan')\n",
    "        diffs = [a-b for a, b in zip([nan] + nums, nums + [nan]) if a-b]\n",
    "        return sum(not d*e >= 0 for d, e in zip(diffs, diffs[1:]))"
   ]
  },
  {
   "cell_type": "code",
   "execution_count": null,
   "metadata": {},
   "outputs": [],
   "source": []
  }
 ],
 "metadata": {
  "kernelspec": {
   "display_name": "Python 3",
   "language": "python",
   "name": "python3"
  },
  "language_info": {
   "codemirror_mode": {
    "name": "ipython",
    "version": 3
   },
   "file_extension": ".py",
   "mimetype": "text/x-python",
   "name": "python",
   "nbconvert_exporter": "python",
   "pygments_lexer": "ipython3",
   "version": "3.8.1"
  }
 },
 "nbformat": 4,
 "nbformat_minor": 4
}
