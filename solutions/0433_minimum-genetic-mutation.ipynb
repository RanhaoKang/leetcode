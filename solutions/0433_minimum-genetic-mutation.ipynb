{
 "cells": [
  {
   "cell_type": "markdown",
   "metadata": {},
   "source": [
    "[433. Minimum Genetic Mutation](https://leetcode.com/problems/minimum-genetic-mutation/)"
   ]
  },
  {
   "cell_type": "markdown",
   "metadata": {},
   "source": [
    "初版, 28ms"
   ]
  },
  {
   "cell_type": "code",
   "execution_count": 5,
   "metadata": {},
   "outputs": [],
   "source": [
    "class Solution:\n",
    "    def minMutation(self, start: str, end: str, bank) -> int:\n",
    "        from functools import lru_cache\n",
    "        @lru_cache(None)\n",
    "        def edge(s1, s2):\n",
    "            return sum(c1 != c2 for c1, c2 in zip(s1, s2)) == 1\n",
    "                \n",
    "        bfs = [(start, 0)]\n",
    "        seen = {start}\n",
    "        \n",
    "        for i, step in bfs:\n",
    "            if i == end:\n",
    "                return step\n",
    "\n",
    "            for j in bank:\n",
    "                if edge(i, j) and j not in seen:\n",
    "                    bfs.append((j, step + 1))\n",
    "                    seen.add(j)\n",
    "        \n",
    "        return -1"
   ]
  },
  {
   "cell_type": "code",
   "execution_count": 6,
   "metadata": {},
   "outputs": [
    {
     "data": {
      "text/plain": [
       "3"
      ]
     },
     "execution_count": 6,
     "metadata": {},
     "output_type": "execute_result"
    }
   ],
   "source": [
    "Solution().minMutation('AAAAACCC', 'AACCCCCC', [\"AAAACCCC\", \"AAACCCCC\", \"AACCCCCC\"])"
   ]
  },
  {
   "cell_type": "markdown",
   "metadata": {},
   "source": [
    "发现不需要`seen`，20ms"
   ]
  },
  {
   "cell_type": "code",
   "execution_count": 7,
   "metadata": {},
   "outputs": [],
   "source": [
    "class Solution:\n",
    "    def minMutation(self, s: str, e: str, bank) -> int:\n",
    "        from functools import lru_cache\n",
    "        @lru_cache(None)\n",
    "        def edge(s1, s2):\n",
    "            return sum(c1 != c2 for c1, c2 in zip(s1, s2)) == 1\n",
    "                \n",
    "        bfs = [(s, s, 0)]\n",
    "        \n",
    "        for a, b, step in bfs:\n",
    "            if b == e:\n",
    "                return step\n",
    "\n",
    "            for c in bank:\n",
    "                if a != c and edge(b, c):\n",
    "                    bfs.append((b, c, step + 1))\n",
    "        \n",
    "        return -1"
   ]
  },
  {
   "cell_type": "markdown",
   "metadata": {},
   "source": [
    "优化了一下`sum`加了个early break，又变成28ms，冤"
   ]
  },
  {
   "cell_type": "code",
   "execution_count": 8,
   "metadata": {},
   "outputs": [],
   "source": [
    "class Solution:\n",
    "    def minMutation(self, s: str, e: str, bank) -> int:\n",
    "        from functools import lru_cache\n",
    "        @lru_cache(None)\n",
    "        def edge(s1, s2):\n",
    "            s1, s2 = iter(s1), iter(s2)\n",
    "            return any(c1 != c2 for c1, c2 in zip(s1, s2)) and all(c1 == c2 for c1, c2 in zip(s1, s2))\n",
    "                \n",
    "        bfs = [(s, s, 0)]\n",
    "        \n",
    "        for a, b, step in bfs:\n",
    "            if b == e:\n",
    "                return step\n",
    "\n",
    "            for c in bank:\n",
    "                if a != c and edge(b, c):\n",
    "                    bfs.append((b, c, step + 1))\n",
    "        \n",
    "        return -1"
   ]
  },
  {
   "cell_type": "code",
   "execution_count": null,
   "metadata": {},
   "outputs": [],
   "source": []
  }
 ],
 "metadata": {
  "kernelspec": {
   "display_name": "Python 3",
   "language": "python",
   "name": "python3"
  },
  "language_info": {
   "codemirror_mode": {
    "name": "ipython",
    "version": 3
   },
   "file_extension": ".py",
   "mimetype": "text/x-python",
   "name": "python",
   "nbconvert_exporter": "python",
   "pygments_lexer": "ipython3",
   "version": "3.8.1"
  }
 },
 "nbformat": 4,
 "nbformat_minor": 4
}
