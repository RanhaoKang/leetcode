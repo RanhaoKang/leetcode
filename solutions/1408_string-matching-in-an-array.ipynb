{
 "cells": [
  {
   "cell_type": "markdown",
   "metadata": {},
   "source": [
    "[1408. String Matching in an Array](https://leetcode.com/problems/string-matching-in-an-array/)"
   ]
  },
  {
   "cell_type": "code",
   "execution_count": 2,
   "metadata": {},
   "outputs": [],
   "source": [
    "class Solution:\n",
    "    def stringMatching(self, words):\n",
    "        def add(word: str):\n",
    "            node = trie\n",
    "            for c in word:\n",
    "                node = node.setdefault(c, {})\n",
    "\n",
    "        def get(word: str) -> bool:\n",
    "            node = trie\n",
    "            for c in word:\n",
    "                if (node := node.get(c)) is None: return False\n",
    "            return True\n",
    "\n",
    "        words.sort(key=len, reverse=True)\n",
    "        trie, result = {}, []\n",
    "        for word in words:\n",
    "            if get(word): result.append(word)\n",
    "            for i in range(len(word)):\n",
    "                add(word[i:])\n",
    "        return result"
   ]
  },
  {
   "cell_type": "code",
   "execution_count": null,
   "metadata": {},
   "outputs": [],
   "source": []
  }
 ],
 "metadata": {
  "kernelspec": {
   "display_name": "Python 3",
   "language": "python",
   "name": "python3"
  },
  "language_info": {
   "codemirror_mode": {
    "name": "ipython",
    "version": 3
   },
   "file_extension": ".py",
   "mimetype": "text/x-python",
   "name": "python",
   "nbconvert_exporter": "python",
   "pygments_lexer": "ipython3",
   "version": "3.8.0b3"
  }
 },
 "nbformat": 4,
 "nbformat_minor": 2
}
