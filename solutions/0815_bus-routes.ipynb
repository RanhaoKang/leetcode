{
 "cells": [
  {
   "cell_type": "markdown",
   "metadata": {},
   "source": [
    "[815. Bus Routes](https://leetcode.com/problems/bus-routes/)"
   ]
  },
  {
   "cell_type": "code",
   "execution_count": 1,
   "metadata": {},
   "outputs": [],
   "source": [
    "import collections\n",
    "\n",
    "class Solution:\n",
    "    def numBusesToDestination(self, routes, S, T):\n",
    "        to_routes = collections.defaultdict(set)\n",
    "        for i, route in enumerate(routes):\n",
    "            for j in route:\n",
    "                to_routes[j].add(i)\n",
    "        bfs = [(S, 0)]\n",
    "        seen = set([S])\n",
    "        for stop, bus in bfs:\n",
    "            if stop == T: return bus\n",
    "            for i in to_routes[stop]:\n",
    "                for j in routes[i]:\n",
    "                    if j not in seen:\n",
    "                        bfs.append((j, bus + 1))\n",
    "                        seen.add(j)\n",
    "                routes[i] = []  # seen route\n",
    "        return -1"
   ]
  },
  {
   "cell_type": "code",
   "execution_count": null,
   "metadata": {},
   "outputs": [],
   "source": []
  }
 ],
 "metadata": {
  "kernelspec": {
   "display_name": "Python 3",
   "language": "python",
   "name": "python3"
  },
  "language_info": {
   "codemirror_mode": {
    "name": "ipython",
    "version": 3
   },
   "file_extension": ".py",
   "mimetype": "text/x-python",
   "name": "python",
   "nbconvert_exporter": "python",
   "pygments_lexer": "ipython3",
   "version": "3.8.1"
  }
 },
 "nbformat": 4,
 "nbformat_minor": 4
}
