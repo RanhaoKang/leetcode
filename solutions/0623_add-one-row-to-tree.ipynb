{
 "cells": [
  {
   "cell_type": "markdown",
   "metadata": {},
   "source": [
    "[623. Add One Row to Tree](add-one-row-to-tree)"
   ]
  },
  {
   "cell_type": "code",
   "execution_count": 2,
   "metadata": {},
   "outputs": [],
   "source": [
    "# Definition for a binary tree node.\n",
    "class TreeNode:\n",
    "    def __init__(self, x):\n",
    "        self.val = x\n",
    "        self.left = None\n",
    "        self.right = None\n",
    "\n",
    "class Solution:\n",
    "    def addOneRow(self, root: TreeNode, v: int, d: int) -> TreeNode:\n",
    "        def solve(node, depth):\n",
    "            if node:\n",
    "                print(node.val)\n",
    "                if depth == d - 1:\n",
    "                    node.left, node.left.left = TreeNode(v), node.left\n",
    "                    print(node.left.val)\n",
    "                    node.right, node.right.right = TreeNode(v), node.right\n",
    "                else:\n",
    "                    solve(node.left, depth + 1)\n",
    "                    solve(node.right, depth + 1)\n",
    "        \n",
    "        dummy = TreeNode(None)\n",
    "        dummy.left = root\n",
    "        solve(dummy, 0)\n",
    "        return dummy.left"
   ]
  },
  {
   "cell_type": "code",
   "execution_count": 3,
   "metadata": {},
   "outputs": [
    {
     "name": "stdout",
     "output_type": "stream",
     "text": [
      "None\n",
      "1\n"
     ]
    }
   ],
   "source": [
    "p = TreeNode(4)\n",
    "p.left = TreeNode(2)\n",
    "p.right = TreeNode(6)\n",
    "p.left.left = TreeNode(3)\n",
    "p.left.right = TreeNode(1)\n",
    "p.right.left = TreeNode(5)\n",
    "\n",
    "q = Solution().addOneRow(p, 1, 1)"
   ]
  },
  {
   "cell_type": "code",
   "execution_count": null,
   "metadata": {},
   "outputs": [],
   "source": []
  }
 ],
 "metadata": {
  "kernelspec": {
   "display_name": "Python 3",
   "language": "python",
   "name": "python3"
  },
  "language_info": {
   "codemirror_mode": {
    "name": "ipython",
    "version": 3
   },
   "file_extension": ".py",
   "mimetype": "text/x-python",
   "name": "python",
   "nbconvert_exporter": "python",
   "pygments_lexer": "ipython3",
   "version": "3.6.7"
  }
 },
 "nbformat": 4,
 "nbformat_minor": 2
}
