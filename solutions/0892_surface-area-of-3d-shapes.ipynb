{
 "cells": [
  {
   "cell_type": "markdown",
   "metadata": {},
   "source": [
    "[892. Surface Area of 3D Shapes](https://leetcode.com/problems/surface-area-of-3d-shapes/)"
   ]
  },
  {
   "cell_type": "markdown",
   "metadata": {},
   "source": [
    "错误解法, 不能解决有孔洞的图形"
   ]
  },
  {
   "cell_type": "code",
   "execution_count": 2,
   "metadata": {},
   "outputs": [],
   "source": [
    "class Solution:\n",
    "    def surfaceArea(self, grid) -> int:\n",
    "        h = w = len(grid)\n",
    "\n",
    "        # 上/下表面\n",
    "        res = sum(2 for i in range(h) for j in range(w) if grid[i][j])\n",
    "\n",
    "        # 正/背面\n",
    "        res += 2 * sum(max(i) for i in grid)\n",
    "        \n",
    "        # 侧面\n",
    "        res += 2 * sum(max(grid[i][j] for i in range(h)) for j in range(w))\n",
    "        \n",
    "        return res"
   ]
  },
  {
   "cell_type": "code",
   "execution_count": 7,
   "metadata": {},
   "outputs": [],
   "source": [
    "class Solution:\n",
    "    def surfaceArea(self, grid) -> int:\n",
    "        N = len(grid)\n",
    "        res = 0\n",
    "        \n",
    "        for i in range(N):\n",
    "            for j in range(N):\n",
    "                if grid[i][j]:\n",
    "                    # 上下表面\n",
    "                    res += 2\n",
    "                    \n",
    "                    for I, J in ((i-1, j), (i+1, j), (i, j-1), (i, j+1)):\n",
    "                        # 当(i, j)比周围高的时候增加侧面, 这样不会重复计数\n",
    "                        res += max(0, grid[i][j] - (grid[I][J] if 0 <= I < N and 0 <= J < N else 0))\n",
    "        \n",
    "        return res"
   ]
  },
  {
   "cell_type": "code",
   "execution_count": 8,
   "metadata": {},
   "outputs": [
    {
     "data": {
      "text/plain": [
       "10"
      ]
     },
     "execution_count": 8,
     "metadata": {},
     "output_type": "execute_result"
    }
   ],
   "source": [
    "Solution().surfaceArea([[2]])"
   ]
  },
  {
   "cell_type": "code",
   "execution_count": null,
   "metadata": {},
   "outputs": [],
   "source": []
  }
 ],
 "metadata": {
  "kernelspec": {
   "display_name": "Python 3",
   "language": "python",
   "name": "python3"
  },
  "language_info": {
   "codemirror_mode": {
    "name": "ipython",
    "version": 3
   },
   "file_extension": ".py",
   "mimetype": "text/x-python",
   "name": "python",
   "nbconvert_exporter": "python",
   "pygments_lexer": "ipython3",
   "version": "3.6.7"
  }
 },
 "nbformat": 4,
 "nbformat_minor": 2
}
