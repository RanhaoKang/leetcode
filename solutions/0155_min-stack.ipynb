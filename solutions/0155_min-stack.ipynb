{
 "cells": [
  {
   "cell_type": "markdown",
   "metadata": {},
   "source": [
    "[155. Min Stack](https://leetcode.com/problems/min-stack/)"
   ]
  },
  {
   "cell_type": "code",
   "execution_count": 1,
   "metadata": {},
   "outputs": [],
   "source": [
    "class MinStack:\n",
    "\n",
    "    def __init__(self):\n",
    "        \"\"\"\n",
    "        initialize your data structure here.\n",
    "        \"\"\"\n",
    "        from collections import deque\n",
    "        self.s = deque()\n",
    "        self.min = float('inf')\n",
    "        \n",
    "\n",
    "    def push(self, x: int) -> None:\n",
    "        self.s.append(x)\n",
    "        self.min = min(self.min, x)\n",
    "\n",
    "    def pop(self) -> None:\n",
    "        self.s.pop()\n",
    "        if self.s:\n",
    "            self.min = min(self.s)\n",
    "        else:\n",
    "            self.min = float('inf')\n",
    "\n",
    "    def top(self) -> int:\n",
    "        return self.s[-1]\n",
    "\n",
    "    def getMin(self) -> int:\n",
    "        return self.min\n",
    "\n",
    "\n",
    "# Your MinStack object will be instantiated and called as such:\n",
    "# obj = MinStack()\n",
    "# obj.push(x)\n",
    "# obj.pop()\n",
    "# param_3 = obj.top()\n",
    "# param_4 = obj.getMin()"
   ]
  },
  {
   "cell_type": "code",
   "execution_count": 2,
   "metadata": {},
   "outputs": [],
   "source": [
    "s = MinStack()\n",
    "s.push(-2)\n",
    "s.push(0)\n",
    "s.push(-3)"
   ]
  },
  {
   "cell_type": "code",
   "execution_count": 3,
   "metadata": {},
   "outputs": [
    {
     "data": {
      "text/plain": [
       "-inf"
      ]
     },
     "execution_count": 3,
     "metadata": {},
     "output_type": "execute_result"
    }
   ],
   "source": [
    "s.getMin()"
   ]
  },
  {
   "cell_type": "code",
   "execution_count": 5,
   "metadata": {},
   "outputs": [
    {
     "data": {
      "text/plain": [
       "-3"
      ]
     },
     "execution_count": 5,
     "metadata": {},
     "output_type": "execute_result"
    }
   ],
   "source": [
    "min(s.s)"
   ]
  },
  {
   "cell_type": "markdown",
   "metadata": {},
   "source": [
    "通过存差值的方式, 在`pop`时可以以`O(1)`的复杂度知道`pop`的元素是不是栈里最小的元素"
   ]
  },
  {
   "cell_type": "code",
   "execution_count": 7,
   "metadata": {},
   "outputs": [],
   "source": [
    "class MinStack:\n",
    "\n",
    "    def __init__(self):\n",
    "        \"\"\"\n",
    "        initialize your data structure here.\n",
    "        \"\"\"\n",
    "        from collections import deque\n",
    "        self.s = deque()\n",
    "        self.min = float('inf')\n",
    "        \n",
    "\n",
    "    def push(self, x: int) -> None:\n",
    "        if self.s:\n",
    "            self.s.append(x - self.min)\n",
    "            self.min = min(self.min, x)\n",
    "        else:\n",
    "            self.s.append(0)\n",
    "            self.min = x\n",
    "\n",
    "    def pop(self) -> None:\n",
    "        if not self.s:\n",
    "            return\n",
    "        \n",
    "        x = self.s.pop()\n",
    "        if x < 0:\n",
    "            self.min = self.min - x\n",
    "\n",
    "    def top(self) -> int:\n",
    "        x = self.s[-1]\n",
    "        return x + self.min if x > 0 else self.min\n",
    "\n",
    "    def getMin(self) -> int:\n",
    "        return self.min\n",
    "\n",
    "\n",
    "# Your MinStack object will be instantiated and called as such:\n",
    "# obj = MinStack()\n",
    "# obj.push(x)\n",
    "# obj.pop()\n",
    "# param_3 = obj.top()\n",
    "# param_4 = obj.getMin()"
   ]
  },
  {
   "cell_type": "code",
   "execution_count": null,
   "metadata": {},
   "outputs": [],
   "source": []
  }
 ],
 "metadata": {
  "kernelspec": {
   "display_name": "Python 3",
   "language": "python",
   "name": "python3"
  },
  "language_info": {
   "codemirror_mode": {
    "name": "ipython",
    "version": 3
   },
   "file_extension": ".py",
   "mimetype": "text/x-python",
   "name": "python",
   "nbconvert_exporter": "python",
   "pygments_lexer": "ipython3",
   "version": "3.6.7"
  }
 },
 "nbformat": 4,
 "nbformat_minor": 2
}
