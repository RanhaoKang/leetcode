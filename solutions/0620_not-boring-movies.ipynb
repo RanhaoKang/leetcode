{
 "cells": [
  {
   "cell_type": "markdown",
   "metadata": {},
   "source": [
    "[620. Not Boring Movies](https://leetcode.com/problems/not-boring-movies/)"
   ]
  },
  {
   "cell_type": "markdown",
   "metadata": {},
   "source": [
    "```sql\n",
    "# Write your MySQL query statement below\n",
    "SELECT *\n",
    "FROM\n",
    "    cinema\n",
    "WHERE\n",
    "    id % 2 != 0 and\n",
    "    description != 'boring'\n",
    "ORDER BY\n",
    "    rating DESC;\n",
    "```"
   ]
  },
  {
   "cell_type": "code",
   "execution_count": 5,
   "metadata": {},
   "outputs": [
    {
     "data": {
      "text/plain": [
       "<sqlite3.Cursor at 0x7f2c74313a40>"
      ]
     },
     "execution_count": 5,
     "metadata": {},
     "output_type": "execute_result"
    }
   ],
   "source": [
    "import sqlite3\n",
    "con = sqlite3.connect(':memory:')\n",
    "c = con.cursor()\n",
    "c.execute('''\n",
    "Create table If Not Exists cinema (id int, movie varchar(255), description varchar(255), rating float(2, 1));\n",
    "''')\n",
    "c.execute('''\n",
    "insert into cinema (id, movie, description, rating) values ('1', 'War', 'great 3D', '8.9');\n",
    "''')\n",
    "c.execute('''\n",
    "insert into cinema (id, movie, description, rating) values ('2', 'Science', 'fiction', '8.5');\n",
    "''')\n",
    "c.execute('''\n",
    "insert into cinema (id, movie, description, rating) values ('3', 'irish', 'boring', '6.2');\n",
    "''')\n",
    "c.execute('''\n",
    "insert into cinema (id, movie, description, rating) values ('4', 'Ice song', 'Fantacy', '8.6');\n",
    "''')\n",
    "c.execute('''\n",
    "insert into cinema (id, movie, description, rating) values ('5', 'House card', 'Interesting', '9.1');\n",
    "''')"
   ]
  },
  {
   "cell_type": "code",
   "execution_count": 8,
   "metadata": {},
   "outputs": [
    {
     "data": {
      "text/plain": [
       "[(5, 'House card', 'Interesting', 9.1), (1, 'War', 'great 3D', 8.9)]"
      ]
     },
     "execution_count": 8,
     "metadata": {},
     "output_type": "execute_result"
    }
   ],
   "source": [
    "c.execute('''\n",
    "SELECT *\n",
    "FROM\n",
    "    cinema\n",
    "WHERE\n",
    "    id % 2 != 0 and\n",
    "    description != 'boring'\n",
    "ORDER BY\n",
    "    rating DESC\n",
    "''').fetchall()"
   ]
  },
  {
   "cell_type": "code",
   "execution_count": null,
   "metadata": {},
   "outputs": [],
   "source": []
  }
 ],
 "metadata": {
  "kernelspec": {
   "display_name": "Python 3",
   "language": "python",
   "name": "python3"
  },
  "language_info": {
   "codemirror_mode": {
    "name": "ipython",
    "version": 3
   },
   "file_extension": ".py",
   "mimetype": "text/x-python",
   "name": "python",
   "nbconvert_exporter": "python",
   "pygments_lexer": "ipython3",
   "version": "3.6.7"
  }
 },
 "nbformat": 4,
 "nbformat_minor": 2
}
