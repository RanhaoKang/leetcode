{
 "cells": [
  {
   "cell_type": "markdown",
   "metadata": {},
   "source": [
    "[1388. Pizza With 3n Slices](https://leetcode.com/problems/pizza-with-3n-slices/)"
   ]
  },
  {
   "cell_type": "markdown",
   "metadata": {},
   "source": [
    "下述思路错误，因为是可以随意取而非按序取\n",
    "\n",
    "决定我们能否选择当前块的只有「我们是否选了上一块」，所以可以用2-varibale DP做。\n",
    "\n",
    "但是披萨是成环的，到了最后一块的时候我们记不得是不是选过第一块了，看来还是需要填表。"
   ]
  },
  {
   "cell_type": "code",
   "execution_count": 5,
   "metadata": {},
   "outputs": [],
   "source": [
    "class Solution:\n",
    "    def maxSizeSlices(self, A) -> int:\n",
    "        dp = [0] * len(A)\n",
    "        for i, v in enumerate(A):\n",
    "            dp[i] = max(dp[i-1], dp[i-2] + v)\n",
    "        \n",
    "        dp[-1] = max(dp[1] + A[-1], dp[0], dp[-2])\n",
    "        print(dp)\n",
    "        return max(dp)"
   ]
  },
  {
   "cell_type": "markdown",
   "metadata": {},
   "source": [
    "https://leetcode.com/problems/pizza-with-3n-slices/discuss/546474/Python-Robber-n3-Houses-in-Cycle"
   ]
  },
  {
   "cell_type": "code",
   "execution_count": 11,
   "metadata": {},
   "outputs": [],
   "source": [
    "class Solution:\n",
    "    def maxSizeSlices(self, A) -> int:\n",
    "        from functools import lru_cache\n",
    "        @lru_cache\n",
    "        def dp(i, j, k, cycle = 0):\n",
    "            if k == 1:\n",
    "                return max(A[i:j + 1])\n",
    "            if j - i + 1 < k * 2 - 1:\n",
    "                return -float('inf')\n",
    "            return max(dp(i + cycle, j - 2, k - 1) + A[j], dp(i, j - 1, k))\n",
    "        return dp(0, len(A) - 1, len(A) // 3, 1)"
   ]
  },
  {
   "cell_type": "code",
   "execution_count": 12,
   "metadata": {},
   "outputs": [
    {
     "data": {
      "text/plain": [
       "10"
      ]
     },
     "execution_count": 12,
     "metadata": {},
     "output_type": "execute_result"
    }
   ],
   "source": [
    "Solution().maxSizeSlices([1,2,3,4,5,6])"
   ]
  },
  {
   "cell_type": "code",
   "execution_count": 13,
   "metadata": {},
   "outputs": [
    {
     "data": {
      "text/plain": [
       "16"
      ]
     },
     "execution_count": 13,
     "metadata": {},
     "output_type": "execute_result"
    }
   ],
   "source": [
    "Solution().maxSizeSlices([8,9,8,6,1,1])"
   ]
  },
  {
   "cell_type": "code",
   "execution_count": 14,
   "metadata": {},
   "outputs": [
    {
     "data": {
      "text/plain": [
       "21"
      ]
     },
     "execution_count": 14,
     "metadata": {},
     "output_type": "execute_result"
    }
   ],
   "source": [
    "Solution().maxSizeSlices([4,1,2,5,8,3,1,9,7])"
   ]
  },
  {
   "cell_type": "code",
   "execution_count": 15,
   "metadata": {},
   "outputs": [
    {
     "data": {
      "text/plain": [
       "3"
      ]
     },
     "execution_count": 15,
     "metadata": {},
     "output_type": "execute_result"
    }
   ],
   "source": [
    "Solution().maxSizeSlices([3,1,2])"
   ]
  },
  {
   "cell_type": "code",
   "execution_count": null,
   "metadata": {},
   "outputs": [],
   "source": []
  }
 ],
 "metadata": {
  "kernelspec": {
   "display_name": "Python 3",
   "language": "python",
   "name": "python3"
  },
  "language_info": {
   "codemirror_mode": {
    "name": "ipython",
    "version": 3
   },
   "file_extension": ".py",
   "mimetype": "text/x-python",
   "name": "python",
   "nbconvert_exporter": "python",
   "pygments_lexer": "ipython3",
   "version": "3.8.1"
  }
 },
 "nbformat": 4,
 "nbformat_minor": 4
}
