{
 "cells": [
  {
   "cell_type": "markdown",
   "metadata": {},
   "source": [
    "[474. Ones and Zeroes](https://leetcode.com/problems/ones-and-zeroes/)"
   ]
  },
  {
   "cell_type": "code",
   "execution_count": 1,
   "metadata": {},
   "outputs": [],
   "source": [
    "class Solution:\n",
    "    def findMaxForm(self, strs, m: int, n: int) -> int:\n",
    "        dp = [[0] * (n + 1) for _ in range(m + 1)]\n",
    "\n",
    "        def count(s):\n",
    "            return s.count('0'), s.count('1')\n",
    "        \n",
    "        for z, o in map(count, strs):\n",
    "            for x in range(m + 1)[::-1]:\n",
    "                for y in range(n + 1)[::-1]:\n",
    "                    if x >= z and y >= o:\n",
    "                        dp[x][y] = max(1 + dp[x - z][y - o], dp[x][y])\n",
    "        \n",
    "        return dp[m][n]"
   ]
  },
  {
   "cell_type": "code",
   "execution_count": null,
   "metadata": {},
   "outputs": [],
   "source": []
  }
 ],
 "metadata": {
  "kernelspec": {
   "display_name": "Python 3",
   "language": "python",
   "name": "python3"
  },
  "language_info": {
   "codemirror_mode": {
    "name": "ipython",
    "version": 3
   },
   "file_extension": ".py",
   "mimetype": "text/x-python",
   "name": "python",
   "nbconvert_exporter": "python",
   "pygments_lexer": "ipython3",
   "version": "3.8.1"
  }
 },
 "nbformat": 4,
 "nbformat_minor": 4
}
