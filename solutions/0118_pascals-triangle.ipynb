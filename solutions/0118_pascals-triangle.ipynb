{
 "cells": [
  {
   "cell_type": "markdown",
   "metadata": {},
   "source": [
    "[118. Pascal's Triangle](https://leetcode.com/problems/pascals-triangle/)"
   ]
  },
  {
   "cell_type": "code",
   "execution_count": 9,
   "metadata": {},
   "outputs": [],
   "source": [
    "class Solution:\n",
    "    def generate(self, numRows: int):\n",
    "        def iterate(prev_level):\n",
    "            next_level = []\n",
    "            for i in range(1, len(prev_level)):\n",
    "                next_level.append(prev_level[i] + prev_level[i - 1])\n",
    "            next_level = [1] + next_level + [1]\n",
    "            yield next_level\n",
    "            yield from iterate(next_level)\n",
    "        \n",
    "        from itertools import islice\n",
    "        if numRows == 0:\n",
    "            return []\n",
    "        elif numRows == 1:\n",
    "            return [[1]]\n",
    "        else:\n",
    "            return [[1]] + list(islice(iterate([1]),  numRows - 1))"
   ]
  },
  {
   "cell_type": "code",
   "execution_count": 12,
   "metadata": {},
   "outputs": [
    {
     "data": {
      "text/plain": [
       "[[1], [1, 1], [1, 2, 1]]"
      ]
     },
     "execution_count": 12,
     "metadata": {},
     "output_type": "execute_result"
    }
   ],
   "source": [
    "Solution().generate(3)"
   ]
  },
  {
   "cell_type": "code",
   "execution_count": null,
   "metadata": {},
   "outputs": [],
   "source": []
  }
 ],
 "metadata": {
  "kernelspec": {
   "display_name": "Python 3",
   "language": "python",
   "name": "python3"
  },
  "language_info": {
   "codemirror_mode": {
    "name": "ipython",
    "version": 3
   },
   "file_extension": ".py",
   "mimetype": "text/x-python",
   "name": "python",
   "nbconvert_exporter": "python",
   "pygments_lexer": "ipython3",
   "version": "3.6.7"
  }
 },
 "nbformat": 4,
 "nbformat_minor": 2
}
