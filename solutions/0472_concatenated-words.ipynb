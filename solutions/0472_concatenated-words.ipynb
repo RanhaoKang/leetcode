{
 "cells": [
  {
   "cell_type": "markdown",
   "metadata": {},
   "source": [
    "[472. Concatenated Words](https://leetcode.com/problems/concatenated-words/)"
   ]
  },
  {
   "cell_type": "code",
   "execution_count": 1,
   "metadata": {},
   "outputs": [],
   "source": [
    "class Solution:\n",
    "    def findAllConcatenatedWordsInADict(self, words):\n",
    "        d = set(words)\n",
    "        memo = {}\n",
    "        def dfs(word):\n",
    "            if word in memo:\n",
    "                return memo[word]\n",
    "            memo[word] = False\n",
    "            for i in range(1, len(word)):\n",
    "                prefix = word[:i]\n",
    "                suffix = word[i:]\n",
    "                if prefix in d and suffix in d:\n",
    "                    memo[word] = True \n",
    "                    break\n",
    "                if prefix in d and dfs(suffix):\n",
    "                    memo[word] = True \n",
    "                    break\n",
    "                if suffix in d and dfs(prefix):\n",
    "                    memo[word] = True \n",
    "                    break\n",
    "            return memo[word] \n",
    "        return [word for word in words if dfs(word)] "
   ]
  },
  {
   "cell_type": "code",
   "execution_count": null,
   "metadata": {},
   "outputs": [],
   "source": []
  }
 ],
 "metadata": {
  "kernelspec": {
   "display_name": "Python 3",
   "language": "python",
   "name": "python3"
  },
  "language_info": {
   "codemirror_mode": {
    "name": "ipython",
    "version": 3
   },
   "file_extension": ".py",
   "mimetype": "text/x-python",
   "name": "python",
   "nbconvert_exporter": "python",
   "pygments_lexer": "ipython3",
   "version": "3.8.1"
  }
 },
 "nbformat": 4,
 "nbformat_minor": 4
}
