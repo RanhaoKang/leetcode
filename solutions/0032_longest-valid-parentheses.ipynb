{
 "cells": [
  {
   "cell_type": "markdown",
   "metadata": {},
   "source": [
    "[32. Longest Valid Parentheses](https://leetcode.com/problems/longest-valid-parentheses/)\n",
    "\n",
    "- [solution](https://leetcode.com/problems/longest-valid-parentheses/solution/)"
   ]
  },
  {
   "cell_type": "markdown",
   "metadata": {},
   "source": [
    "# 栈"
   ]
  },
  {
   "cell_type": "markdown",
   "metadata": {},
   "source": [
    "使用栈和文法可以简单地写出`is_valid`的判断, 在其基础上记录长度.\n",
    "\n",
    "入栈的为`index`,"
   ]
  },
  {
   "cell_type": "markdown",
   "metadata": {},
   "source": [
    "## 哨兵的应用\n",
    "\n",
    "栈底哨兵是常见的用法, 在扫描到`\")\"`时逻辑如下\n",
    "```python3\n",
    "stack.pop()\n",
    "if stack:\n",
    "    max_len = max(max_len, i - stack[-1])\n",
    "else:\n",
    "    stack.append(i)\n",
    "```\n",
    "\n",
    "如果不用哨兵, 则需要\n",
    "```python3\n",
    "last = -1\n",
    "\n",
    "if stack:\n",
    "\n",
    "else:\n",
    "    \n",
    "```"
   ]
  },
  {
   "cell_type": "markdown",
   "metadata": {},
   "source": [
    "52 ms"
   ]
  },
  {
   "cell_type": "code",
   "execution_count": 4,
   "metadata": {},
   "outputs": [],
   "source": [
    "class Solution:\n",
    "    def longestValidParentheses(self, s: str) -> int:\n",
    "        from collections import deque\n",
    "        # stack含义, 当前处理串的最左端\n",
    "        stack = deque([-1])\n",
    "        max_len = 0\n",
    "        \n",
    "        for i in range(len(s)):\n",
    "            # '('有可能是合法子串的起始, 记录下来\n",
    "            if s[i] == '(':\n",
    "                stack.append(i)\n",
    "            else:\n",
    "                \n",
    "                stack.pop()\n",
    "                if stack:\n",
    "                    max_len = max(max_len, i - stack[-1])\n",
    "                \n",
    "                # 如果栈空了, 说明先遇到了')', 是不合法的, 我们同样存下此时的index\n",
    "                # 用以处理右侧的子串时计算长度\n",
    "                else:\n",
    "                    stack.append(i)\n",
    "                    \n",
    "        return max_len"
   ]
  },
  {
   "cell_type": "code",
   "execution_count": 2,
   "metadata": {},
   "outputs": [
    {
     "data": {
      "text/plain": [
       "2"
      ]
     },
     "execution_count": 2,
     "metadata": {},
     "output_type": "execute_result"
    }
   ],
   "source": [
    "Solution().longestValidParentheses(\"()(()\")"
   ]
  },
  {
   "cell_type": "code",
   "execution_count": 18,
   "metadata": {},
   "outputs": [],
   "source": [
    "stack.clear()"
   ]
  },
  {
   "cell_type": "code",
   "execution_count": null,
   "metadata": {},
   "outputs": [],
   "source": []
  }
 ],
 "metadata": {
  "kernelspec": {
   "display_name": "Python 3",
   "language": "python",
   "name": "python3"
  },
  "language_info": {
   "codemirror_mode": {
    "name": "ipython",
    "version": 3
   },
   "file_extension": ".py",
   "mimetype": "text/x-python",
   "name": "python",
   "nbconvert_exporter": "python",
   "pygments_lexer": "ipython3",
   "version": "3.6.7"
  }
 },
 "nbformat": 4,
 "nbformat_minor": 2
}
