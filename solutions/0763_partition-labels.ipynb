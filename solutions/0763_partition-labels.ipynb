{
 "cells": [
  {
   "cell_type": "markdown",
   "metadata": {},
   "source": [
    "[763. Partition Labels](https://leetcode.com/problems/partition-labels/)"
   ]
  },
  {
   "cell_type": "markdown",
   "metadata": {},
   "source": [
    "和merge interval其实是一道题"
   ]
  },
  {
   "cell_type": "code",
   "execution_count": 43,
   "metadata": {},
   "outputs": [],
   "source": [
    "class Solution:\n",
    "    def merge(self, intervals):\n",
    "        out = []\n",
    "        for i in sorted(intervals, key=lambda i: i[0]):\n",
    "            if out and i[0] <= out[-1][1]:\n",
    "                out[-1][1] = max(out[-1][1], i[1])\n",
    "            else:\n",
    "                out += i,\n",
    "        return out\n",
    "\n",
    "    def partitionLabels(self, S: str):\n",
    "        from string import ascii_lowercase\n",
    "        intervals = dict(zip(ascii_lowercase, [[None, None] for _ in range(26)]))\n",
    "  \n",
    "        for idx, char in enumerate(S):\n",
    "            if intervals[char][0] is None:\n",
    "                intervals[char][0] = idx\n",
    "            else:\n",
    "                intervals[char][1] = idx\n",
    "        \n",
    "        intervals = [[intervals[i][0], intervals[i][1] if intervals[i][1] else intervals[i][0]] for i in intervals if intervals[i][0] is not None]\n",
    "    \n",
    "        return [end - start + 1 for start, end in self.merge(intervals)]"
   ]
  },
  {
   "cell_type": "code",
   "execution_count": 44,
   "metadata": {},
   "outputs": [
    {
     "name": "stdout",
     "output_type": "stream",
     "text": [
      "[[0, 8], [1, 5], [4, 7], [9, 14], [10, 15], [11, 11], [13, 13], [16, 19], [17, 22], [18, 23], [20, 20], [21, 21]]\n"
     ]
    },
    {
     "data": {
      "text/plain": [
       "[9, 7, 8]"
      ]
     },
     "execution_count": 44,
     "metadata": {},
     "output_type": "execute_result"
    }
   ],
   "source": [
    "Solution().partitionLabels('ababcbacadefegdehijhklij')"
   ]
  },
  {
   "cell_type": "code",
   "execution_count": null,
   "metadata": {},
   "outputs": [],
   "source": []
  }
 ],
 "metadata": {
  "kernelspec": {
   "display_name": "Python 3",
   "language": "python",
   "name": "python3"
  },
  "language_info": {
   "codemirror_mode": {
    "name": "ipython",
    "version": 3
   },
   "file_extension": ".py",
   "mimetype": "text/x-python",
   "name": "python",
   "nbconvert_exporter": "python",
   "pygments_lexer": "ipython3",
   "version": "3.6.7"
  }
 },
 "nbformat": 4,
 "nbformat_minor": 2
}
