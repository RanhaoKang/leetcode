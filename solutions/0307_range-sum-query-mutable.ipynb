{
 "cells": [
  {
   "cell_type": "markdown",
   "metadata": {},
   "source": [
    "[307. Range Sum Query - Mutable](https://leetcode.com/problems/range-sum-query-mutable/)"
   ]
  },
  {
   "cell_type": "code",
   "execution_count": 1,
   "metadata": {},
   "outputs": [],
   "source": [
    "import operator\n",
    "\n",
    "class NumArray:\n",
    "\n",
    "    def __init__(self, _list, f = operator.add):\n",
    "        self.list = _list\n",
    "        h = 0\n",
    "        while 2**h <= len(_list):\n",
    "            h += 1\n",
    "        self._data = [0] * (2**(h+1) - 1)\n",
    "        \n",
    "        self.empty = len(_list) == 0\n",
    "        if not self.empty:\n",
    "            self._buildTree(0, len(_list)-1, 0, f)\n",
    "        self.f = f\n",
    "        \n",
    "\n",
    "\n",
    "    def _buildTree(self, lo, hi, idx, f):\n",
    "        if lo == hi:\n",
    "            self._data[idx] = self.list[lo]\n",
    "            return\n",
    "        \n",
    "        mid = (lo + hi) // 2\n",
    "        \n",
    "        self._buildTree(lo, mid, idx*2+1, f)\n",
    "        self._buildTree(mid+1, hi, idx*2+2, f)\n",
    "        self._data[idx] = f(self._data[idx*2+1], self._data[idx*2+2])\n",
    "\n",
    "\n",
    "    def update(self, idx, val):\n",
    "        def _update(idx, lo, hi):\n",
    "            if lo == hi:\n",
    "                self._data[idx] = val\n",
    "                return\n",
    "            \n",
    "            mid = (lo + hi) // 2\n",
    "            \n",
    "            if idx > mid:\n",
    "                _update(idx*2+2, mid+1, hi)\n",
    "            else:\n",
    "                _update(idx*2+1, lo, mid)\n",
    "            \n",
    "            self._data[idx] = self.f(self._data[idx*2+1], self._data[idx*2+2])\n",
    "        \n",
    "        if self.empty:\n",
    "            return\n",
    "        _update(0, 0, len(self.list) - 1)\n",
    "\n",
    "\n",
    "    def sumRange(self, i, j):\n",
    "        def _query(idx, lo, hi):\n",
    "            if lo > j or hi < i:\n",
    "                return 0\n",
    "            \n",
    "            if i <= lo and j >= hi:\n",
    "                return self._data[idx]\n",
    "            \n",
    "            mid = (lo + hi) // 2\n",
    "            if i > mid:\n",
    "                return _query(idx*2+2, mid+1, hi)\n",
    "            elif j <= mid:\n",
    "                return _query(idx*2+1, lo, mid)\n",
    "            \n",
    "            left = _query(idx*2+1, lo, mid)\n",
    "            right = _query(idx*2+2, mid+1, hi)\n",
    "            \n",
    "            return self.f(left, right)\n",
    "        \n",
    "        if self.empty:\n",
    "            return 0\n",
    "        return _query(0, 0, len(self.list) - 1)"
   ]
  },
  {
   "cell_type": "code",
   "execution_count": 19,
   "metadata": {},
   "outputs": [],
   "source": [
    "class NumArray:\n",
    "\n",
    "    def __init__(self, nums):\n",
    "        self.sums = [0]\n",
    "        for num in nums:\n",
    "            self.sums.append(self.sums[-1] + num)\n",
    "        self.nums = nums\n",
    "\n",
    "    def update(self, i: int, val: int) -> None:\n",
    "        print('Before:', self.sums)\n",
    "        delta = val - self.nums[i]\n",
    "        self.nums[i] = val\n",
    "        \n",
    "        for j in range(i+1, len(self.sums)):\n",
    "            self.sums[j] += delta\n",
    "        print('After:', self.sums)\n",
    "\n",
    "    def sumRange(self, i: int, j: int) -> int:\n",
    "        return self.sums[j+1] - self.sums[i]\n",
    "\n",
    "\n",
    "# Your NumArray object will be instantiated and called as such:\n",
    "# obj = NumArray(nums)\n",
    "# obj.update(i,val)\n",
    "# param_2 = obj.sumRange(i,j)"
   ]
  },
  {
   "cell_type": "code",
   "execution_count": null,
   "metadata": {},
   "outputs": [],
   "source": [
    "clas"
   ]
  },
  {
   "cell_type": "code",
   "execution_count": 20,
   "metadata": {},
   "outputs": [
    {
     "data": {
      "text/plain": [
       "9"
      ]
     },
     "execution_count": 20,
     "metadata": {},
     "output_type": "execute_result"
    }
   ],
   "source": [
    "NumArray([1,3,5]).sumRange(0, 2)"
   ]
  },
  {
   "cell_type": "code",
   "execution_count": 21,
   "metadata": {},
   "outputs": [
    {
     "name": "stdout",
     "output_type": "stream",
     "text": [
      "Before: [0, 1, 4, 9]\n",
      "After: [0, 1, 3, 8]\n"
     ]
    },
    {
     "data": {
      "text/plain": [
       "8"
      ]
     },
     "execution_count": 21,
     "metadata": {},
     "output_type": "execute_result"
    }
   ],
   "source": [
    "a = NumArray([1,3,5])\n",
    "a.update(1, 2)\n",
    "a.sumRange(0, 2)"
   ]
  },
  {
   "cell_type": "code",
   "execution_count": null,
   "metadata": {},
   "outputs": [],
   "source": [
    "[1,2,5]"
   ]
  }
 ],
 "metadata": {
  "kernelspec": {
   "display_name": "Python 3",
   "language": "python",
   "name": "python3"
  },
  "language_info": {
   "codemirror_mode": {
    "name": "ipython",
    "version": 3
   },
   "file_extension": ".py",
   "mimetype": "text/x-python",
   "name": "python",
   "nbconvert_exporter": "python",
   "pygments_lexer": "ipython3",
   "version": "3.6.7"
  }
 },
 "nbformat": 4,
 "nbformat_minor": 2
}
