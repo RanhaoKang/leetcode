{
 "cells": [
  {
   "cell_type": "markdown",
   "metadata": {},
   "source": [
    "[996. Number of Squareful Arrays](https://leetcode.com/problems/number-of-squareful-arrays/)"
   ]
  },
  {
   "cell_type": "markdown",
   "metadata": {},
   "source": [
    "184 ms"
   ]
  },
  {
   "cell_type": "code",
   "execution_count": 1,
   "metadata": {},
   "outputs": [],
   "source": [
    "class Solution:\n",
    "    def numSquarefulPerms(self, A) -> int:\n",
    "        N = len(A)\n",
    "\n",
    "        def edge(x, y):\n",
    "            r = math.sqrt(x+y)\n",
    "            return int(r + 0.5) ** 2 == x+y\n",
    "\n",
    "        G = collections.defaultdict(list)\n",
    "        for i, x in enumerate(A):\n",
    "            for j in range(i):\n",
    "                if edge(x, A[j]):\n",
    "                    G[i].append(j)\n",
    "                    G[j].append(i)\n",
    "        \n",
    "        from functools import lru_cache\n",
    "        @lru_cache(None)\n",
    "        def dfs(node, visited):\n",
    "            if visited == (1 << N) - 1:\n",
    "                return 1\n",
    "            \n",
    "            return sum((visited >> nei) & 1 == 0 and dfs(nei, visited | (1 << nei)) for nei in G[node])\n",
    "        \n",
    "        res = sum(dfs(i, 1 << i) for i in range(N))\n",
    "        for v in collections.Counter(A).values():\n",
    "            res //= math.factorial(v)\n",
    "        return res"
   ]
  },
  {
   "cell_type": "markdown",
   "metadata": {},
   "source": [
    "32 ms"
   ]
  },
  {
   "cell_type": "code",
   "execution_count": 2,
   "metadata": {},
   "outputs": [],
   "source": [
    "class Solution:\n",
    "    def numSquarefulPerms(self, A) -> int:\n",
    "        c = collections.Counter(A)\n",
    "        cand = {i: {j for j in c if int((i + j)**0.5) ** 2 == i + j} for i in c}\n",
    "        self.res = 0\n",
    "        def dfs(x, left=len(A) - 1):\n",
    "            c[x] -= 1\n",
    "            if left == 0: self.res += 1\n",
    "            for y in cand[x]:\n",
    "                if c[y]: dfs(y, left - 1)\n",
    "            c[x] += 1\n",
    "        for x in c: dfs(x)\n",
    "        return self.res"
   ]
  },
  {
   "cell_type": "code",
   "execution_count": null,
   "metadata": {},
   "outputs": [],
   "source": []
  }
 ],
 "metadata": {
  "kernelspec": {
   "display_name": "Python 3",
   "language": "python",
   "name": "python3"
  },
  "language_info": {
   "codemirror_mode": {
    "name": "ipython",
    "version": 3
   },
   "file_extension": ".py",
   "mimetype": "text/x-python",
   "name": "python",
   "nbconvert_exporter": "python",
   "pygments_lexer": "ipython3",
   "version": "3.8.1"
  }
 },
 "nbformat": 4,
 "nbformat_minor": 4
}
