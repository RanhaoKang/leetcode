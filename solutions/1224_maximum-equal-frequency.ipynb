{
 "cells": [
  {
   "cell_type": "markdown",
   "metadata": {},
   "source": [
    "[1224. Maximum Equal Frequency](https://leetcode.com/problems/maximum-equal-frequency/)"
   ]
  },
  {
   "cell_type": "code",
   "execution_count": 1,
   "metadata": {},
   "outputs": [],
   "source": [
    "class Solution:\n",
    "    def maxEqualFreq(self, nums) -> int:\n",
    "        cnt = collections.Counter()\n",
    "        freq = [0] * (len(A) + 1)\n",
    "        res = 0\n",
    "        for n, a in enumerate(A, 1):\n",
    "            freq[cnt[a]] -= 1\n",
    "            freq[cnt[a] + 1] += 1\n",
    "            c = cnt[a] = cnt[a] + 1\n",
    "            if freq[c] * c == n and n < len(A):\n",
    "                res = n + 1\n",
    "            d = n - freq[c] * c\n",
    "            if d in [c + 1, 1] and freq[d] == 1:\n",
    "                res = n\n",
    "        \n",
    "        return res"
   ]
  },
  {
   "cell_type": "code",
   "execution_count": null,
   "metadata": {},
   "outputs": [],
   "source": []
  }
 ],
 "metadata": {
  "kernelspec": {
   "display_name": "Python 3",
   "language": "python",
   "name": "python3"
  },
  "language_info": {
   "codemirror_mode": {
    "name": "ipython",
    "version": 3
   },
   "file_extension": ".py",
   "mimetype": "text/x-python",
   "name": "python",
   "nbconvert_exporter": "python",
   "pygments_lexer": "ipython3",
   "version": "3.8.1"
  }
 },
 "nbformat": 4,
 "nbformat_minor": 4
}
