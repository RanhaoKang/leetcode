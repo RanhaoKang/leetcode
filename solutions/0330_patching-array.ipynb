{
 "cells": [
  {
   "cell_type": "markdown",
   "metadata": {},
   "source": [
    "[330. Patching Array](https://leetcode.com/problems/patching-array/)"
   ]
  },
  {
   "cell_type": "code",
   "execution_count": 1,
   "metadata": {},
   "outputs": [],
   "source": [
    "class Solution:\n",
    "    def minPatches(self, A, n: int) -> int:\n",
    "        # 尽可能增加小而需要的\n",
    "        res, i, miss, N = 0, 0, 1, len(A)\n",
    "        while miss <= n:\n",
    "            if i < N and A[i] <= miss:\n",
    "                miss += A[i]\n",
    "                i += 1\n",
    "            else:\n",
    "                miss += miss\n",
    "                res += 1\n",
    "\n",
    "        return res"
   ]
  },
  {
   "cell_type": "code",
   "execution_count": null,
   "metadata": {},
   "outputs": [],
   "source": []
  }
 ],
 "metadata": {
  "kernelspec": {
   "display_name": "Python 3",
   "language": "python",
   "name": "python3"
  },
  "language_info": {
   "codemirror_mode": {
    "name": "ipython",
    "version": 3
   },
   "file_extension": ".py",
   "mimetype": "text/x-python",
   "name": "python",
   "nbconvert_exporter": "python",
   "pygments_lexer": "ipython3",
   "version": "3.8.1"
  }
 },
 "nbformat": 4,
 "nbformat_minor": 4
}
