{
 "cells": [
  {
   "cell_type": "markdown",
   "metadata": {},
   "source": [
    "[1171. Remove Zero Sum Consecutive Nodes from Linked List](https://leetcode.com/problems/remove-zero-sum-consecutive-nodes-from-linked-list/)"
   ]
  },
  {
   "cell_type": "code",
   "execution_count": 13,
   "metadata": {},
   "outputs": [],
   "source": [
    "# Definition for singly-linked list.\n",
    "class ListNode:\n",
    "    def __init__(self, x):\n",
    "        self.val = x\n",
    "        self.next = None\n",
    "\n",
    "class Solution:\n",
    "    def removeZeroSumSublists(self, head: ListNode) -> ListNode:\n",
    "        seen = {}\n",
    "        seen[0] = dummy = ListNode(0)\n",
    "        dummy.next = head\n",
    "        \n",
    "        p, prefix = dummy, 0\n",
    "        while p:\n",
    "            prefix += p.val\n",
    "            seen[prefix] = p\n",
    "            p = p.next\n",
    "        for k in seen:\n",
    "            print(k, seen[k].val)\n",
    "        p, prefix = dummy, 0\n",
    "        while p:\n",
    "            prefix += p.val\n",
    "            p.next = seen[prefix].next\n",
    "            p = p.next\n",
    "        \n",
    "        return dummy.next"
   ]
  },
  {
   "cell_type": "code",
   "execution_count": 15,
   "metadata": {},
   "outputs": [
    {
     "name": "stdout",
     "output_type": "stream",
     "text": [
      "0 -3\n",
      "1 1\n",
      "3 3\n",
      "4 1\n",
      "res:\n",
      "3\n",
      "1\n"
     ]
    }
   ],
   "source": [
    "from utils import linkedlist\n",
    "p = linkedlist([1, 2, -3, 3, 1])\n",
    "p = Solution().removeZeroSumSublists(p)\n",
    "\n",
    "print('res:')\n",
    "while p:\n",
    "    print(p.val)\n",
    "    p = p.next"
   ]
  },
  {
   "cell_type": "raw",
   "metadata": {},
   "source": [
    "1 > 2 > -3 > 3 > 1\n",
    "1      0   3  4"
   ]
  },
  {
   "cell_type": "code",
   "execution_count": null,
   "metadata": {},
   "outputs": [],
   "source": []
  }
 ],
 "metadata": {
  "kernelspec": {
   "display_name": "Python 3",
   "language": "python",
   "name": "python3"
  },
  "language_info": {
   "codemirror_mode": {
    "name": "ipython",
    "version": 3
   },
   "file_extension": ".py",
   "mimetype": "text/x-python",
   "name": "python",
   "nbconvert_exporter": "python",
   "pygments_lexer": "ipython3",
   "version": "3.8.0b3"
  }
 },
 "nbformat": 4,
 "nbformat_minor": 2
}
