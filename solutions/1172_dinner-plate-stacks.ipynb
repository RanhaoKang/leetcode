{
 "cells": [
  {
   "cell_type": "markdown",
   "metadata": {},
   "source": [
    "[1172. Dinner Plate Stacks](https://leetcode.com/problems/dinner-plate-stacks/)"
   ]
  },
  {
   "cell_type": "code",
   "execution_count": null,
   "metadata": {},
   "outputs": [],
   "source": [
    "class DinnerPlates:\n",
    "\n",
    "    def __init__(self, capacity: int):\n",
    "        self.c = capacity\n",
    "        self.q = []\n",
    "        self.stacks = []\n",
    "        \n",
    "\n",
    "    def push(self, val: int) -> None:\n",
    "        while self.q and self.q[0] < len(self.stacks) and len(self.stacks[self.q[0]]) == self.c:\n",
    "            heapq.heappop(self.q)\n",
    "        if not self.q:\n",
    "            heapq.heappush(self.q, len(self.stacks))\n",
    "        if self.q[0] == len(self.stacks):\n",
    "            self.stacks.append([])\n",
    "        self.stacks[self.q[0]].append(val)\n",
    "        \n",
    "\n",
    "    def pop(self) -> int:\n",
    "        while self.stacks and not self.stacks[-1]:\n",
    "            self.stacks.pop()\n",
    "        return self.popAtStack(len(self.stacks) - 1)\n",
    "        \n",
    "\n",
    "    def popAtStack(self, index: int) -> int:\n",
    "        if 0 <= index < len(self.stacks) and self.stacks[index]:\n",
    "            heapq.heappush(self.q, index)\n",
    "            return self.stacks[index].pop()\n",
    "        return -1\n",
    "        \n",
    "\n",
    "\n",
    "# Your DinnerPlates object will be instantiated and called as such:\n",
    "# obj = DinnerPlates(capacity)\n",
    "# obj.push(val)\n",
    "# param_2 = obj.pop()\n",
    "# param_3 = obj.popAtStack(index)"
   ]
  }
 ],
 "metadata": {
  "kernelspec": {
   "display_name": "Python 3",
   "language": "python",
   "name": "python3"
  },
  "language_info": {
   "codemirror_mode": {
    "name": "ipython",
    "version": 3
   },
   "file_extension": ".py",
   "mimetype": "text/x-python",
   "name": "python",
   "nbconvert_exporter": "python",
   "pygments_lexer": "ipython3",
   "version": "3.8.1"
  }
 },
 "nbformat": 4,
 "nbformat_minor": 4
}
