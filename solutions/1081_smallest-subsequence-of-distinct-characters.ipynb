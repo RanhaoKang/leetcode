{
 "cells": [
  {
   "cell_type": "markdown",
   "metadata": {},
   "source": [
    "[1081. Smallest Subsequence of Distinct Characters](https://leetcode.com/problems/smallest-subsequence-of-distinct-characters/)"
   ]
  },
  {
   "cell_type": "markdown",
   "metadata": {},
   "source": [
    "自己的写法，发现为了等第一个`c`反而把`t`放在前头了"
   ]
  },
  {
   "cell_type": "code",
   "execution_count": 28,
   "metadata": {},
   "outputs": [],
   "source": [
    "class Solution:\n",
    "    def smallestSubsequence(self, s: str) -> str:\n",
    "        from string import ascii_lowercase\n",
    "        from collections import Counter\n",
    "        \n",
    "        cnt, dis = Counter(s), sorted(set(ascii_lowercase) & set(s))\n",
    "        res, it = '', iter(dis)\n",
    "        cur = next(it)\n",
    "        print(dis)\n",
    "        try:\n",
    "            for c in s:\n",
    "                print(c, cur)\n",
    "                if cnt[c] == 1:\n",
    "                    res += c\n",
    "                elif c == cur:\n",
    "                    res += c\n",
    "                    cur = next(it)\n",
    "                else:\n",
    "                    cnt[c] -= 1\n",
    "        except StopIteration:\n",
    "            pass\n",
    "        \n",
    "        return res"
   ]
  },
  {
   "cell_type": "code",
   "execution_count": 29,
   "metadata": {},
   "outputs": [
    {
     "name": "stdout",
     "output_type": "stream",
     "text": [
      "['c', 'd', 'e', 'l', 'o', 't']\n",
      "l c\n",
      "e c\n",
      "e c\n",
      "t c\n",
      "c c\n",
      "o c\n",
      "d c\n",
      "e c\n"
     ]
    },
    {
     "data": {
      "text/plain": [
       "'ltcode'"
      ]
     },
     "execution_count": 29,
     "metadata": {},
     "output_type": "execute_result"
    }
   ],
   "source": [
    "Solution().smallestSubsequence('leetcode')"
   ]
  },
  {
   "cell_type": "code",
   "execution_count": 30,
   "metadata": {},
   "outputs": [],
   "source": [
    "class Solution:\n",
    "    def smallestSubsequence(self, S: str) -> str:\n",
    "        last = {c: i for i, c in enumerate(S)}\n",
    "        stack = []\n",
    "        for i, c in enumerate(S):\n",
    "            if c in stack:\n",
    "                continue\n",
    "            while stack and stack[-1] > c and i < last[stack[-1]]:\n",
    "                stack.pop()\n",
    "            stack.append(c)\n",
    "        \n",
    "        return ''.join(stack)"
   ]
  },
  {
   "cell_type": "code",
   "execution_count": null,
   "metadata": {},
   "outputs": [],
   "source": []
  }
 ],
 "metadata": {
  "kernelspec": {
   "display_name": "Python 3",
   "language": "python",
   "name": "python3"
  },
  "language_info": {
   "codemirror_mode": {
    "name": "ipython",
    "version": 3
   },
   "file_extension": ".py",
   "mimetype": "text/x-python",
   "name": "python",
   "nbconvert_exporter": "python",
   "pygments_lexer": "ipython3",
   "version": "3.8.1"
  }
 },
 "nbformat": 4,
 "nbformat_minor": 4
}
