{
 "cells": [
  {
   "cell_type": "markdown",
   "metadata": {},
   "source": [
    "[828. Count Unique Characters of All Substrings of a Given String](https://leetcode.com/problems/count-unique-characters-of-all-substrings-of-a-given-string/)"
   ]
  },
  {
   "cell_type": "code",
   "execution_count": 2,
   "metadata": {},
   "outputs": [],
   "source": [
    "class Solution:\n",
    "    def uniqueLetterString(self, S: str) -> int:\n",
    "        index = collections.defaultdict(list)\n",
    "        for i, c in enumerate(S):\n",
    "            index[c].append(i)\n",
    "\n",
    "        res = 0\n",
    "        for A in index.values():\n",
    "            A = [-1] + A + [len(S)]\n",
    "            for i in range(1, len(A) - 1):\n",
    "                res += (A[i] - A[i-1]) * (A[i+1] - A[i])\n",
    "        return res % (10**9 + 7)"
   ]
  },
  {
   "cell_type": "code",
   "execution_count": null,
   "metadata": {},
   "outputs": [],
   "source": []
  }
 ],
 "metadata": {
  "kernelspec": {
   "display_name": "Python 3",
   "language": "python",
   "name": "python3"
  },
  "language_info": {
   "codemirror_mode": {
    "name": "ipython",
    "version": 3
   },
   "file_extension": ".py",
   "mimetype": "text/x-python",
   "name": "python",
   "nbconvert_exporter": "python",
   "pygments_lexer": "ipython3",
   "version": "3.8.1"
  }
 },
 "nbformat": 4,
 "nbformat_minor": 4
}
