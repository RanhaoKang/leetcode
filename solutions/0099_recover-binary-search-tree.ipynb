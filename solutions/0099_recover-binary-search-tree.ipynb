{
 "cells": [
  {
   "cell_type": "markdown",
   "metadata": {},
   "source": [
    "[99. Recover Binary Search Tree](https://leetcode.com/problems/recover-binary-search-tree/)"
   ]
  },
  {
   "cell_type": "markdown",
   "metadata": {},
   "source": [
    "因为出现的错误只是交换了两个节点的值, 所以问题上实际是一个有序数组中有两个元素颠倒了, 导致了比前一个元素小"
   ]
  },
  {
   "cell_type": "code",
   "execution_count": 1,
   "metadata": {},
   "outputs": [],
   "source": [
    "# Definition for a binary tree node.\n",
    "class TreeNode:\n",
    "    def __init__(self, x):\n",
    "        self.val = x\n",
    "        self.left = None\n",
    "        self.right = None\n",
    "\n",
    "class Solution:\n",
    "    def recoverTree(self, root: TreeNode) -> None:\n",
    "        \"\"\"\n",
    "        Do not return anything, modify root in-place instead.\n",
    "        \"\"\"\n",
    "        def dfs(node):\n",
    "            if node:\n",
    "                yield from dfs(node.left)\n",
    "                yield node\n",
    "                yield from dfs(node.right)\n",
    "        \n",
    "        l = dfs(root)\n",
    "        i = next(l)\n",
    "        swap = [None, None]\n",
    "        for j in l:\n",
    "            if i.val > j.val:\n",
    "                if not swap[0]:\n",
    "                    swap[0] = i\n",
    "                swap[1] = j\n",
    "            i = j\n",
    "        \n",
    "        swap[0].val, swap[1].val = swap[1].val, swap[0].val"
   ]
  },
  {
   "cell_type": "code",
   "execution_count": null,
   "metadata": {},
   "outputs": [],
   "source": []
  }
 ],
 "metadata": {
  "kernelspec": {
   "display_name": "Python 3",
   "language": "python",
   "name": "python3"
  },
  "language_info": {
   "codemirror_mode": {
    "name": "ipython",
    "version": 3
   },
   "file_extension": ".py",
   "mimetype": "text/x-python",
   "name": "python",
   "nbconvert_exporter": "python",
   "pygments_lexer": "ipython3",
   "version": "3.6.7"
  }
 },
 "nbformat": 4,
 "nbformat_minor": 2
}
