{
 "cells": [
  {
   "cell_type": "markdown",
   "metadata": {},
   "source": [
    "[998. Maximum Binary Tree II](https://leetcode.com/problems/maximum-binary-tree-ii/)"
   ]
  },
  {
   "cell_type": "code",
   "execution_count": 2,
   "metadata": {},
   "outputs": [],
   "source": [
    "# Definition for a binary tree node.\n",
    "class TreeNode:\n",
    "    def __init__(self, x):\n",
    "        self.val = x\n",
    "        self.left = None\n",
    "        self.right = None\n",
    "\n",
    "class Solution:\n",
    "    def insertIntoMaxTree(self, root: TreeNode, val: int) -> TreeNode:\n",
    "        def solve(node):\n",
    "            if node.val < val:\n",
    "                new = TreeNode(val)\n",
    "                new.left = node\n",
    "                return new\n",
    "\n",
    "            elif node.right:\n",
    "                if node.right.val < val:\n",
    "                    new = TreeNode(val)\n",
    "                    new.left = node.right\n",
    "                    node.right = new\n",
    "                else:\n",
    "                    solve(node.right)\n",
    "                return node\n",
    "                \n",
    "            else:\n",
    "                node.right = TreeNode(val)\n",
    "                return node\n",
    "        \n",
    "        return solve(root)"
   ]
  },
  {
   "cell_type": "code",
   "execution_count": null,
   "metadata": {},
   "outputs": [],
   "source": []
  }
 ],
 "metadata": {
  "kernelspec": {
   "display_name": "Python 3",
   "language": "python",
   "name": "python3"
  },
  "language_info": {
   "codemirror_mode": {
    "name": "ipython",
    "version": 3
   },
   "file_extension": ".py",
   "mimetype": "text/x-python",
   "name": "python",
   "nbconvert_exporter": "python",
   "pygments_lexer": "ipython3",
   "version": "3.8.1"
  }
 },
 "nbformat": 4,
 "nbformat_minor": 4
}
