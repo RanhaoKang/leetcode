{
 "cells": [
  {
   "cell_type": "markdown",
   "metadata": {},
   "source": [
    "[1178. Number of Valid Words for Each Puzzle](https://leetcode.com/problems/number-of-valid-words-for-each-puzzle/)"
   ]
  },
  {
   "cell_type": "markdown",
   "metadata": {},
   "source": [
    "TLE了"
   ]
  },
  {
   "cell_type": "code",
   "execution_count": 60,
   "metadata": {},
   "outputs": [],
   "source": [
    "class Solution:\n",
    "    def findNumOfValidWords(self, words, puzzles):\n",
    "        def bit(word: str) -> int:\n",
    "            mask = 0\n",
    "            for c in word:\n",
    "                mask |= 1 << (ord(c) - ord('a'))\n",
    "            return mask\n",
    "    \n",
    "        words = [bit(s) for s in words]\n",
    "        bits = [bit(s) for s in puzzles]\n",
    "        cap = [1 << (ord(s[0]) - ord('a')) for s in puzzles]\n",
    "\n",
    "        # print(words)\n",
    "        # print(puzzles[0], bin(bits[0]), cap[0], bin(words[0]))\n",
    "        return [sum(t & y and (x | y == x) for y in words) for t, x in zip(cap, bits)]"
   ]
  },
  {
   "cell_type": "code",
   "execution_count": 61,
   "metadata": {},
   "outputs": [
    {
     "data": {
      "text/plain": [
       "[1, 1, 3, 2, 4, 0]"
      ]
     },
     "execution_count": 61,
     "metadata": {},
     "output_type": "execute_result"
    }
   ],
   "source": [
    "Solution().findNumOfValidWords(words = [\"aaaa\",\"asas\",\"able\",\"ability\",\"actt\",\"actor\",\"access\"], \n",
    "puzzles = [\"aboveyz\",\"abrodyz\",\"abslute\",\"absoryz\",\"actresz\",\"gaswxyz\"])"
   ]
  },
  {
   "cell_type": "code",
   "execution_count": 62,
   "metadata": {},
   "outputs": [],
   "source": [
    "class Solution:\n",
    "    def findNumOfValidWords(self, words, puzzles):\n",
    "        count = collections.Counter()\n",
    "        for w in words:\n",
    "            if len(set(w)) > 7:\n",
    "                continue\n",
    "            m = 0\n",
    "            for c in w:\n",
    "                m |= 1 << (ord(c) - 97)\n",
    "            count[m] += 1\n",
    "        res = []\n",
    "        for p in puzzles:\n",
    "            bfs = [1 << (ord(p[0]) - 97)]\n",
    "            for c in p[1:]:\n",
    "                bfs += [m | 1 << (ord(c) - 97) for m in bfs]\n",
    "            res.append(sum(count[m] for m in bfs))\n",
    "        return res"
   ]
  },
  {
   "cell_type": "markdown",
   "metadata": {},
   "source": [
    "改了还是TLE，不花时间了"
   ]
  },
  {
   "cell_type": "code",
   "execution_count": 63,
   "metadata": {},
   "outputs": [],
   "source": [
    "class Solution:\n",
    "    def findNumOfValidWords(self, words, puzzles):\n",
    "        def bit(word: str) -> int:\n",
    "            mask = 0\n",
    "            for c in word:\n",
    "                mask |= 1 << (ord(c) - ord('a'))\n",
    "            return mask\n",
    "\n",
    "        words = collections.Counter(bit(s) for s in words if len(set(s)) <= 7)\n",
    "        bits = [bit(s) for s in puzzles]\n",
    "        cap = [1 << (ord(s[0]) - ord('a')) for s in puzzles]\n",
    "\n",
    "        # print(words)\n",
    "        # print(puzzles[0], bin(bits[0]), cap[0], bin(words[0]))\n",
    "        return [sum((t & y and (x | y == x)) * words[y] for y in words) for t, x in zip(cap, bits)]"
   ]
  },
  {
   "cell_type": "code",
   "execution_count": 64,
   "metadata": {},
   "outputs": [
    {
     "data": {
      "text/plain": [
       "[1, 1, 3, 2, 4, 0]"
      ]
     },
     "execution_count": 64,
     "metadata": {},
     "output_type": "execute_result"
    }
   ],
   "source": [
    "import collections\n",
    "\n",
    "Solution().findNumOfValidWords(words = [\"aaaa\",\"asas\",\"able\",\"ability\",\"actt\",\"actor\",\"access\"], \n",
    "puzzles = [\"aboveyz\",\"abrodyz\",\"abslute\",\"absoryz\",\"actresz\",\"gaswxyz\"])"
   ]
  },
  {
   "cell_type": "code",
   "execution_count": null,
   "metadata": {},
   "outputs": [],
   "source": []
  }
 ],
 "metadata": {
  "kernelspec": {
   "display_name": "Python 3",
   "language": "python",
   "name": "python3"
  },
  "language_info": {
   "codemirror_mode": {
    "name": "ipython",
    "version": 3
   },
   "file_extension": ".py",
   "mimetype": "text/x-python",
   "name": "python",
   "nbconvert_exporter": "python",
   "pygments_lexer": "ipython3",
   "version": "3.8.1"
  }
 },
 "nbformat": 4,
 "nbformat_minor": 4
}
