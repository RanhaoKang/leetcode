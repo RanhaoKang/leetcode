{
 "cells": [
  {
   "cell_type": "markdown",
   "metadata": {},
   "source": [
    "[639. Decode Ways II](https://leetcode.com/problems/decode-ways-ii/)"
   ]
  },
  {
   "cell_type": "code",
   "execution_count": null,
   "metadata": {},
   "outputs": [],
   "source": [
    "class Solution:\n",
    "    def numDecodings(self, s: str) -> int:\n",
    "        # dp[i]: s[:i+1]的decode数量\n",
    "        # dp[i] = dp[i-1] if s[i] != '0'\n",
    "        #       + dp[i-2] if '09' < s[i-1:i+1] < '27'\n",
    "        dp = [0] * (len(s) + 1)\n",
    "        dp[0] = 1\n",
    "        \n",
    "        \n",
    "        \n",
    "        for i in range(1, len(s) + 1):\n",
    "            if s[i] == '*':\n",
    "                if s[i-1] != '0':\n",
    "                    dp[i] += dp[i-1]\n",
    "            \n",
    "            \n",
    "            # s[i]为0, 那么dp[i-1]应该减去独立decode的次数\n",
    "            elif s[i] == '0':\n",
    "                dp[i-1] -= 9\n",
    "                \n",
    "            else:\n",
    "            \n",
    "            if s[i-1]\n",
    "            \n",
    "        \n",
    "        return dp[len(s)]"
   ]
  },
  {
   "cell_type": "markdown",
   "metadata": {},
   "source": [
    "https://leetcode.com/problems/decode-ways-ii/discuss/105274/Python-Straightforward-with-Explanation\n",
    "\n",
    "太好看了呜呜呜呜, 还是constant space的DP, 用bool->int的转换少了很多if"
   ]
  },
  {
   "cell_type": "code",
   "execution_count": 3,
   "metadata": {},
   "outputs": [],
   "source": [
    "class Solution:\n",
    "    def numDecodings(self, S):\n",
    "        MOD = 10**9 + 7\n",
    "        e0, e1, e2 = 1, 0, 0\n",
    "        for c in S:\n",
    "            if c == '*':\n",
    "                f0 = 9*e0 + 9*e1 + 6*e2\n",
    "                f1 = e0\n",
    "                f2 = e0\n",
    "            else:\n",
    "                f0 = (c > '0') * e0 + e1 + (c <= '6') * e2\n",
    "                f1 = (c == '1') * e0\n",
    "                f2 = (c == '2') * e0\n",
    "            e0, e1, e2 = f0 % MOD, f1, f2\n",
    "        return e0"
   ]
  },
  {
   "cell_type": "code",
   "execution_count": null,
   "metadata": {},
   "outputs": [],
   "source": []
  }
 ],
 "metadata": {
  "kernelspec": {
   "display_name": "Python 3",
   "language": "python",
   "name": "python3"
  },
  "language_info": {
   "codemirror_mode": {
    "name": "ipython",
    "version": 3
   },
   "file_extension": ".py",
   "mimetype": "text/x-python",
   "name": "python",
   "nbconvert_exporter": "python",
   "pygments_lexer": "ipython3",
   "version": "3.7.3"
  }
 },
 "nbformat": 4,
 "nbformat_minor": 2
}
