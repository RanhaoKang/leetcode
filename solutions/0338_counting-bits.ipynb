{
 "cells": [
  {
   "cell_type": "markdown",
   "metadata": {},
   "source": [
    "[338. Counting Bits](https://leetcode.com/problems/counting-bits/)"
   ]
  },
  {
   "cell_type": "markdown",
   "metadata": {},
   "source": [
    "recurrence 1: `f(i) = f(i >> 1) + (i & 1)`\n",
    "\n",
    "具体解释https://leetcode.com/problems/counting-bits/discuss/79539/Three-Line-Java-Solution"
   ]
  },
  {
   "cell_type": "code",
   "execution_count": 4,
   "metadata": {},
   "outputs": [],
   "source": [
    "class Solution:\n",
    "    def countBits(self, num: int) -> 'List[int]':\n",
    "        res = [0] * (num + 1)\n",
    "        for i in range(1, num + 1):\n",
    "            res[i] = res[i >> 1] + (i & 1)\n",
    "        \n",
    "        return res"
   ]
  },
  {
   "cell_type": "markdown",
   "metadata": {},
   "source": [
    "recurrence 2, `f(i) = f(i & (i - 1)) + 1`, `i -> i & (i -1)`会把从右至左的第一个1置为0."
   ]
  },
  {
   "cell_type": "code",
   "execution_count": 3,
   "metadata": {},
   "outputs": [],
   "source": [
    "class Solution:\n",
    "    def countBits(self, num: int) -> 'List[int]':\n",
    "        res = [0] * (num + 1)\n",
    "        for i in range(1, num + 1):\n",
    "            res[i] = res[i & (i - 1)] + 1\n",
    "        \n",
    "        return res"
   ]
  },
  {
   "cell_type": "code",
   "execution_count": null,
   "metadata": {},
   "outputs": [],
   "source": []
  }
 ],
 "metadata": {
  "kernelspec": {
   "display_name": "Python 3",
   "language": "python",
   "name": "python3"
  },
  "language_info": {
   "codemirror_mode": {
    "name": "ipython",
    "version": 3
   },
   "file_extension": ".py",
   "mimetype": "text/x-python",
   "name": "python",
   "nbconvert_exporter": "python",
   "pygments_lexer": "ipython3",
   "version": "3.6.7"
  }
 },
 "nbformat": 4,
 "nbformat_minor": 2
}
