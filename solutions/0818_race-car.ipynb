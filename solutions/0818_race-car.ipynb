{
 "cells": [
  {
   "cell_type": "markdown",
   "metadata": {},
   "source": [
    "[818. Race Car](https://leetcode.com/problems/race-car/)"
   ]
  },
  {
   "cell_type": "markdown",
   "metadata": {},
   "source": [
    "倍增找`target`"
   ]
  },
  {
   "cell_type": "code",
   "execution_count": 8,
   "metadata": {},
   "outputs": [],
   "source": [
    "class Solution:\n",
    "    def __init__(self): self.dp = {0: 0}\n",
    "\n",
    "    def racecar(self, t):\n",
    "        if t in self.dp: return self.dp[t]\n",
    "        n = t.bit_length()\n",
    "        if 2**n - 1 == t: self.dp[t] = n\n",
    "        else:\n",
    "            self.dp[t] = self.racecar(2**n - 1 - t) + n + 1\n",
    "            for m in range(n - 1):\n",
    "                self.dp[t] = min(self.dp[t], self.racecar(t - 2**(n - 1) + 2**m) + n + m + 1)\n",
    "        return self.dp[t]"
   ]
  },
  {
   "cell_type": "code",
   "execution_count": 9,
   "metadata": {},
   "outputs": [
    {
     "data": {
      "text/plain": [
       "2"
      ]
     },
     "execution_count": 9,
     "metadata": {},
     "output_type": "execute_result"
    }
   ],
   "source": [
    "Solution().racecar(3)"
   ]
  },
  {
   "cell_type": "code",
   "execution_count": null,
   "metadata": {},
   "outputs": [],
   "source": []
  }
 ],
 "metadata": {
  "kernelspec": {
   "display_name": "Python 3",
   "language": "python",
   "name": "python3"
  },
  "language_info": {
   "codemirror_mode": {
    "name": "ipython",
    "version": 3
   },
   "file_extension": ".py",
   "mimetype": "text/x-python",
   "name": "python",
   "nbconvert_exporter": "python",
   "pygments_lexer": "ipython3",
   "version": "3.8.1"
  }
 },
 "nbformat": 4,
 "nbformat_minor": 4
}
