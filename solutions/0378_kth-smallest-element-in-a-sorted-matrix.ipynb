{
 "cells": [
  {
   "cell_type": "markdown",
   "metadata": {},
   "source": [
    "[378. Kth Smallest Element in a Sorted Matrix](https://leetcode.com/problems/kth-smallest-element-in-a-sorted-matrix/)"
   ]
  },
  {
   "cell_type": "code",
   "execution_count": 16,
   "metadata": {},
   "outputs": [],
   "source": [
    "class Solution:\n",
    "    def kthSmallest(self, matrix, k: int) -> int:\n",
    "        def enough(x):\n",
    "            cnt = 0\n",
    "            j = w - 1\n",
    "            for i in range(h):\n",
    "                while j >= 0 and  matrix[i][j] > x:\n",
    "                    j -= 1\n",
    "                cnt += j + 1\n",
    "\n",
    "            return cnt >= k\n",
    "        \n",
    "        h, w = len(matrix), len(matrix and matrix[0])\n",
    "        lo, hi = matrix[0][0], matrix[-1][-1]\n",
    "        while lo < hi:\n",
    "            print(lo, hi)\n",
    "            mi = (lo + hi) // 2\n",
    "            if enough(mi):\n",
    "                hi = mi\n",
    "            else:\n",
    "                lo = mi + 1\n",
    "        \n",
    "        return lo"
   ]
  },
  {
   "cell_type": "code",
   "execution_count": 17,
   "metadata": {},
   "outputs": [
    {
     "name": "stdout",
     "output_type": "stream",
     "text": [
      "1 15\n",
      "9 15\n",
      "13 15\n",
      "13 14\n"
     ]
    },
    {
     "data": {
      "text/plain": [
       "13"
      ]
     },
     "execution_count": 17,
     "metadata": {},
     "output_type": "execute_result"
    }
   ],
   "source": [
    "Solution().kthSmallest([\n",
    "   [ 1,  5,  9],\n",
    "   [10, 11, 13],\n",
    "   [12, 13, 15]\n",
    "], 8)"
   ]
  },
  {
   "cell_type": "code",
   "execution_count": null,
   "metadata": {},
   "outputs": [],
   "source": []
  }
 ],
 "metadata": {
  "kernelspec": {
   "display_name": "Python 3",
   "language": "python",
   "name": "python3"
  },
  "language_info": {
   "codemirror_mode": {
    "name": "ipython",
    "version": 3
   },
   "file_extension": ".py",
   "mimetype": "text/x-python",
   "name": "python",
   "nbconvert_exporter": "python",
   "pygments_lexer": "ipython3",
   "version": "3.6.7"
  }
 },
 "nbformat": 4,
 "nbformat_minor": 2
}
