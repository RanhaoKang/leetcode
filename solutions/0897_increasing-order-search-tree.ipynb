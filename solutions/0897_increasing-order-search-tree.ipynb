{
 "cells": [
  {
   "cell_type": "markdown",
   "metadata": {},
   "source": [
    "# 问题描述\n",
    "Given a tree, rearrange the tree in **in-order** so that the leftmost node in the tree is now the root of the tree, and every node has no left child and only 1 right child.\n",
    "```\n",
    "Example 1:\n",
    "Input: [5,3,6,2,4,null,8,1,null,null,null,7,9]\n",
    "\n",
    "       5\n",
    "      / \\\n",
    "    3    6\n",
    "   / \\    \\\n",
    "  2   4    8\n",
    " /        / \\ \n",
    "1        7   9\n",
    "\n",
    "Output: [1,null,2,null,3,null,4,null,5,null,6,null,7,null,8,null,9]\n",
    "\n",
    " 1\n",
    "  \\\n",
    "   2\n",
    "    \\\n",
    "     3\n",
    "      \\\n",
    "       4\n",
    "        \\\n",
    "         5\n",
    "          \\\n",
    "           6\n",
    "            \\\n",
    "             7\n",
    "              \\\n",
    "               8\n",
    "                \\\n",
    "                 9 \n",
    "```\n",
    "**Note:**\n",
    "\n",
    "The number of nodes in the given tree will be between 1 and 100.\n",
    "Each node will have a unique integer value from 0 to 1000."
   ]
  },
  {
   "cell_type": "markdown",
   "metadata": {},
   "source": [
    "# 个人Solutions\n",
    "input是中序升序排列的, 故这个问题就是visit函数为添加新node到output tree的末尾即可. 比较繁琐的地方在于新树的根要为旧树的最左子节点, 这样的实现在遍历每个节点的时候都会有一次if的消耗."
   ]
  },
  {
   "cell_type": "code",
   "execution_count": 3,
   "metadata": {},
   "outputs": [],
   "source": [
    "# Definition for a binary tree node.\n",
    "# class TreeNode:\n",
    "#     def __init__(self, x):\n",
    "#         self.val = x\n",
    "#         self.left = None\n",
    "#         self.right = None\n",
    "\n",
    "class Solution:\n",
    "    \n",
    "    # 为了写递归来一个中规中矩的wrapper\n",
    "    def increasingBST(self, root):\n",
    "        \"\"\"\n",
    "        :type root: TreeNode\n",
    "        :rtype: TreeNode\n",
    "        \"\"\"\n",
    "        self.first_visit = True\n",
    "        self._increasingBST(root)\n",
    "        \n",
    "        return self.root\n",
    "        \n",
    "    def _increasingBST(self, root):\n",
    "        if root is None: return\n",
    "        \n",
    "        self._increasingBST(root.left)\n",
    "        \n",
    "        # visit\n",
    "        if self.first_visit:\n",
    "            self.root = TreeNode(root.val)\n",
    "            self.p = self.root\n",
    "            self.first_visit = False\n",
    "        else:\n",
    "            self.p.right = TreeNode(root.val)\n",
    "            self.p = self.p.right\n",
    "        \n",
    "        self._increasingBST(root.right)"
   ]
  },
  {
   "cell_type": "code",
   "execution_count": 2,
   "metadata": {},
   "outputs": [],
   "source": [
    "from utils import TreeNode"
   ]
  },
  {
   "cell_type": "markdown",
   "metadata": {},
   "source": [
    "# Solution&Discuss精选"
   ]
  },
  {
   "cell_type": "markdown",
   "metadata": {},
   "source": [
    "同样是中序遍历, 使用yield好处如下:\n",
    "- 遍历逻辑(算上镜像的总共有6种)和visit逻辑更加的松耦合\n",
    "\n",
    "又涉及到python里的`yield`和`yield from`语法了, 还有stackful协程的坑, 跟algrithom关系不大."
   ]
  },
  {
   "cell_type": "code",
   "execution_count": 4,
   "metadata": {},
   "outputs": [],
   "source": [
    "class Solution:\n",
    "    def increasingBST(self, root):\n",
    "        def inorder(node):\n",
    "            if node:\n",
    "                yield from inorder(node.left)\n",
    "                yield node.val\n",
    "                yield from inorder(node.right)\n",
    "\n",
    "        ans = cur = TreeNode(None)\n",
    "        for v in inorder(root):\n",
    "            cur.right = cur = TreeNode(v)\n",
    "        return ans.right"
   ]
  },
  {
   "cell_type": "markdown",
   "metadata": {},
   "source": [
    "[\\[C++/Java/Python\\] Self-Explained, 5-line, O(N) - LeetCode Discuss](https://leetcode.com/problems/increasing-order-search-tree/discuss/165885/C++JavaPython-Self-Explained-5-line-O(N))很精妙的一个"
   ]
  },
  {
   "cell_type": "code",
   "execution_count": 5,
   "metadata": {},
   "outputs": [],
   "source": [
    "class Solution:\n",
    "    def increasingBST(self, root, tail = None):\n",
    "        if not root: return tail\n",
    "        res = self.increasingBST(root.left, root)\n",
    "        root.left = None\n",
    "        root.right = self.increasingBST(root.right, tail)\n",
    "        return res"
   ]
  },
  {
   "cell_type": "code",
   "execution_count": null,
   "metadata": {},
   "outputs": [],
   "source": []
  }
 ],
 "metadata": {
  "kernelspec": {
   "display_name": "Python 3",
   "language": "python",
   "name": "python3"
  },
  "language_info": {
   "codemirror_mode": {
    "name": "ipython",
    "version": 3
   },
   "file_extension": ".py",
   "mimetype": "text/x-python",
   "name": "python",
   "nbconvert_exporter": "python",
   "pygments_lexer": "ipython3",
   "version": "3.6.7"
  }
 },
 "nbformat": 4,
 "nbformat_minor": 2
}
