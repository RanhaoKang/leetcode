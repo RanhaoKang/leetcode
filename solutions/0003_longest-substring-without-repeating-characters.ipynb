{
 "cells": [
  {
   "cell_type": "markdown",
   "metadata": {},
   "source": [
    "[3. Longest Substring Without Repeating Characters](https://leetcode.com/problems/longest-substring-without-repeating-characters/)"
   ]
  },
  {
   "cell_type": "code",
   "execution_count": 31,
   "metadata": {},
   "outputs": [],
   "source": [
    "class Solution:\n",
    "    def lengthOfLongestSubstring(self, s: 'str') -> 'int':\n",
    "        l = 0\n",
    "        seen = set()\n",
    "        for i in s:\n",
    "            if i in seen:\n",
    "                l = max(l, len(seen))\n",
    "                while seen.pop() != i:\n",
    "                    ...\n",
    "            seen.add(i)\n",
    "            print(i, seen)\n",
    "                \n",
    "        return max(l, len(seen))"
   ]
  },
  {
   "cell_type": "markdown",
   "metadata": {},
   "source": [
    "Runtime: 88 ms, faster than 73.19% of Python3 online submissions for Longest Substring Without Repeating Characters.\n",
    "Memory Usage: 12.7 MB, less than 45.09% of Python3 online submissions for Longest Substring Without Repeating Characters."
   ]
  },
  {
   "cell_type": "code",
   "execution_count": 33,
   "metadata": {},
   "outputs": [
    {
     "name": "stdout",
     "output_type": "stream",
     "text": [
      "p {'p'}\n",
      "w {'p', 'w'}\n",
      "w {'w'}\n",
      "k {'w', 'k'}\n",
      "e {'e', 'w', 'k'}\n",
      "w {'w', 'k'}\n"
     ]
    },
    {
     "data": {
      "text/plain": [
       "3"
      ]
     },
     "execution_count": 33,
     "metadata": {},
     "output_type": "execute_result"
    }
   ],
   "source": [
    "Solution().lengthOfLongestSubstring('pwwkew')"
   ]
  },
  {
   "cell_type": "code",
   "execution_count": null,
   "metadata": {},
   "outputs": [],
   "source": []
  }
 ],
 "metadata": {
  "kernelspec": {
   "display_name": "Python 3",
   "language": "python",
   "name": "python3"
  },
  "language_info": {
   "codemirror_mode": {
    "name": "ipython",
    "version": 3
   },
   "file_extension": ".py",
   "mimetype": "text/x-python",
   "name": "python",
   "nbconvert_exporter": "python",
   "pygments_lexer": "ipython3",
   "version": "3.6.7"
  }
 },
 "nbformat": 4,
 "nbformat_minor": 2
}
