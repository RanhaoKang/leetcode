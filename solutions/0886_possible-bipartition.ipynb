{
 "cells": [
  {
   "cell_type": "markdown",
   "metadata": {},
   "source": [
    "[886. Possible Bipartition](https://leetcode.com/problems/possible-bipartition/)"
   ]
  },
  {
   "cell_type": "markdown",
   "metadata": {},
   "source": [
    "二分图判断, BFS/DFS着色法"
   ]
  },
  {
   "cell_type": "code",
   "execution_count": 1,
   "metadata": {},
   "outputs": [],
   "source": [
    "import collections\n",
    "\n",
    "class Solution:\n",
    "    def possibleBipartition(self, N, dislikes):\n",
    "        graph = collections.defaultdict(list)\n",
    "        for u, v in dislikes:\n",
    "            graph[u].append(v)\n",
    "            graph[v].append(u)\n",
    "\n",
    "        color = {}\n",
    "        def dfs(node, c = 0):\n",
    "            if node in color:\n",
    "                return color[node] == c\n",
    "            color[node] = c\n",
    "            return all(dfs(nei, c ^ 1) for nei in graph[node])\n",
    "\n",
    "        return all(dfs(node)\n",
    "                   for node in range(1, N+1)\n",
    "                   if node not in color)"
   ]
  },
  {
   "cell_type": "code",
   "execution_count": null,
   "metadata": {},
   "outputs": [],
   "source": []
  }
 ],
 "metadata": {
  "kernelspec": {
   "display_name": "Python 3",
   "language": "python",
   "name": "python3"
  },
  "language_info": {
   "codemirror_mode": {
    "name": "ipython",
    "version": 3
   },
   "file_extension": ".py",
   "mimetype": "text/x-python",
   "name": "python",
   "nbconvert_exporter": "python",
   "pygments_lexer": "ipython3",
   "version": "3.6.7"
  }
 },
 "nbformat": 4,
 "nbformat_minor": 2
}
