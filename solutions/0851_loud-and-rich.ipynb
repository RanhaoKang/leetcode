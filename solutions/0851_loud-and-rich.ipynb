{
 "cells": [
  {
   "cell_type": "markdown",
   "metadata": {},
   "source": [
    "[851. Loud and Rich](https://leetcode.com/problems/loud-and-rich/)"
   ]
  },
  {
   "cell_type": "code",
   "execution_count": 1,
   "metadata": {},
   "outputs": [],
   "source": [
    "class Solution(object):\n",
    "    def loudAndRich(self, richer, quiet):\n",
    "        m = collections.defaultdict(list)\n",
    "        for i, j in richer: m[j].append(i)\n",
    "        res = [-1] * len(quiet)\n",
    "\n",
    "        def dfs(i):\n",
    "            if res[i] >= 0: return res[i]\n",
    "            res[i] = i\n",
    "            for j in m[i]:\n",
    "                if quiet[res[i]] > quiet[dfs(j)]: res[i] = res[j]\n",
    "            return res[i]\n",
    "\n",
    "        for i in range(len(quiet)): dfs(i)\n",
    "        return res"
   ]
  },
  {
   "cell_type": "code",
   "execution_count": null,
   "metadata": {},
   "outputs": [],
   "source": []
  }
 ],
 "metadata": {
  "kernelspec": {
   "display_name": "Python 3",
   "language": "python",
   "name": "python3"
  },
  "language_info": {
   "codemirror_mode": {
    "name": "ipython",
    "version": 3
   },
   "file_extension": ".py",
   "mimetype": "text/x-python",
   "name": "python",
   "nbconvert_exporter": "python",
   "pygments_lexer": "ipython3",
   "version": "3.8.1"
  }
 },
 "nbformat": 4,
 "nbformat_minor": 4
}
