{
 "cells": [
  {
   "cell_type": "markdown",
   "metadata": {},
   "source": [
    "[1163. Last Substring in Lexicographical Order](https://leetcode.com/problems/last-substring-in-lexicographical-order/)"
   ]
  },
  {
   "cell_type": "code",
   "execution_count": 1,
   "metadata": {},
   "outputs": [],
   "source": [
    "class Solution:\n",
    "    def lastSubstring(self, s: str) -> str:\n",
    "        i, j, k = 0, 1, 0\n",
    "        n = len(s)\n",
    "        while j + k < n:\n",
    "            if s[i+k] == s[j+k]:\n",
    "                k += 1\n",
    "                continue\n",
    "            elif s[i+k] > s[j+k]:\n",
    "                j = j + k + 1\n",
    "            else:\n",
    "                i = max(i + k + 1, j)\n",
    "                j = i + 1\n",
    "            k = 0\n",
    "        return s[i:]"
   ]
  },
  {
   "cell_type": "code",
   "execution_count": null,
   "metadata": {},
   "outputs": [],
   "source": []
  }
 ],
 "metadata": {
  "kernelspec": {
   "display_name": "Python 3",
   "language": "python",
   "name": "python3"
  },
  "language_info": {
   "codemirror_mode": {
    "name": "ipython",
    "version": 3
   },
   "file_extension": ".py",
   "mimetype": "text/x-python",
   "name": "python",
   "nbconvert_exporter": "python",
   "pygments_lexer": "ipython3",
   "version": "3.8.1"
  }
 },
 "nbformat": 4,
 "nbformat_minor": 4
}
