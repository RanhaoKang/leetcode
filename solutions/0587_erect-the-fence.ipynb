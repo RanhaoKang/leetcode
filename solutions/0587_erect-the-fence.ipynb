{
 "cells": [
  {
   "cell_type": "markdown",
   "metadata": {},
   "source": [
    "[587. Erect the Fence](https://leetcode.com/problems/erect-the-fence/)"
   ]
  },
  {
   "cell_type": "code",
   "execution_count": null,
   "metadata": {},
   "outputs": [],
   "source": [
    "# http://www.algorithmist.com/index.php/Monotone_Chain_Convex_Hull.py\n",
    "\n",
    "\n",
    "class Solution(object):\n",
    "\n",
    "    def outerTrees(self, points):\n",
    "        \"\"\"Computes the convex hull of a set of 2D points.\n",
    "\n",
    "        Input: an iterable sequence of (x, y) pairs representing the points.\n",
    "        Output: a list of vertices of the convex hull in counter-clockwise order,\n",
    "          starting from the vertex with the lexicographically smallest coordinates.\n",
    "        Implements Andrew's monotone chain algorithm. O(n log n) complexity.\n",
    "        \"\"\"\n",
    "\n",
    "        # Sort the points lexicographically (tuples are compared lexicographically).\n",
    "        # Remove duplicates to detect the case we have just one unique point.\n",
    "        # points = sorted(set(points))\n",
    "        points = sorted(points, key=lambda p: (p.x, p.y))\n",
    "\n",
    "        # Boring case: no points or a single point, possibly repeated multiple times.\n",
    "        if len(points) <= 1:\n",
    "            return points\n",
    "\n",
    "        # 2D cross product of OA and OB vectors, i.e. z-component of their 3D cross product.\n",
    "        # Returns a positive value, if OAB makes a counter-clockwise turn,\n",
    "        # negative for clockwise turn, and zero if the points are collinear.\n",
    "        def cross(o, a, b):\n",
    "            # return (a[0] - o[0]) * (b[1] - o[1]) - (a[1] - o[1]) * (b[0] - o[0])\n",
    "            return (a.x - o.x) * (b.y - o.y) - (a.y - o.y) * (b.x - o.x)\n",
    "\n",
    "        # Build lower hull\n",
    "        lower = []\n",
    "        for p in points:\n",
    "            while len(lower) >= 2 and cross(lower[-2], lower[-1], p) < 0:\n",
    "                lower.pop()\n",
    "            lower.append(p)\n",
    "\n",
    "        # Build upper hull\n",
    "        upper = []\n",
    "        for p in reversed(points):\n",
    "            while len(upper) >= 2 and cross(upper[-2], upper[-1], p) < 0:\n",
    "                upper.pop()\n",
    "            upper.append(p)\n",
    "\n",
    "        # Concatenation of the lower and upper hulls gives the convex hull.\n",
    "        # Last point of each list is omitted because it is repeated at the\n",
    "        # beginning of the other list.\n",
    "        # return lower[:-1] + upper[:-1]\n",
    "        return list(set(lower[:-1] + upper[:-1]))"
   ]
  },
  {
   "cell_type": "code",
   "execution_count": 1,
   "metadata": {},
   "outputs": [
    {
     "ename": "NameError",
     "evalue": "name 'List' is not defined",
     "output_type": "error",
     "traceback": [
      "\u001b[0;31m---------------------------------------------------------------------------\u001b[0m",
      "\u001b[0;31mNameError\u001b[0m                                 Traceback (most recent call last)",
      "\u001b[0;32m<ipython-input-1-32a6009a58de>\u001b[0m in \u001b[0;36m<module>\u001b[0;34m\u001b[0m\n\u001b[0;32m----> 1\u001b[0;31m \u001b[0;32mclass\u001b[0m \u001b[0mSolution\u001b[0m\u001b[0;34m:\u001b[0m\u001b[0;34m\u001b[0m\u001b[0;34m\u001b[0m\u001b[0m\n\u001b[0m\u001b[1;32m      2\u001b[0m     \u001b[0;32mdef\u001b[0m \u001b[0mouterTrees\u001b[0m\u001b[0;34m(\u001b[0m\u001b[0mself\u001b[0m\u001b[0;34m,\u001b[0m \u001b[0mpoints\u001b[0m\u001b[0;34m:\u001b[0m \u001b[0mList\u001b[0m\u001b[0;34m[\u001b[0m\u001b[0mList\u001b[0m\u001b[0;34m[\u001b[0m\u001b[0mint\u001b[0m\u001b[0;34m]\u001b[0m\u001b[0;34m]\u001b[0m\u001b[0;34m)\u001b[0m \u001b[0;34m->\u001b[0m \u001b[0mList\u001b[0m\u001b[0;34m[\u001b[0m\u001b[0mList\u001b[0m\u001b[0;34m[\u001b[0m\u001b[0mint\u001b[0m\u001b[0;34m]\u001b[0m\u001b[0;34m]\u001b[0m\u001b[0;34m:\u001b[0m\u001b[0;34m\u001b[0m\u001b[0;34m\u001b[0m\u001b[0m\n\u001b[1;32m      3\u001b[0m         \u001b[0;32mif\u001b[0m \u001b[0mlen\u001b[0m\u001b[0;34m(\u001b[0m\u001b[0mpoints\u001b[0m\u001b[0;34m)\u001b[0m \u001b[0;34m<=\u001b[0m \u001b[0;36m2\u001b[0m\u001b[0;34m:\u001b[0m\u001b[0;34m\u001b[0m\u001b[0;34m\u001b[0m\u001b[0m\n\u001b[1;32m      4\u001b[0m             \u001b[0;32mreturn\u001b[0m \u001b[0mpoints\u001b[0m\u001b[0;34m\u001b[0m\u001b[0;34m\u001b[0m\u001b[0m\n\u001b[1;32m      5\u001b[0m \u001b[0;34m\u001b[0m\u001b[0m\n",
      "\u001b[0;32m<ipython-input-1-32a6009a58de>\u001b[0m in \u001b[0;36mSolution\u001b[0;34m()\u001b[0m\n\u001b[1;32m      1\u001b[0m \u001b[0;32mclass\u001b[0m \u001b[0mSolution\u001b[0m\u001b[0;34m:\u001b[0m\u001b[0;34m\u001b[0m\u001b[0;34m\u001b[0m\u001b[0m\n\u001b[0;32m----> 2\u001b[0;31m     \u001b[0;32mdef\u001b[0m \u001b[0mouterTrees\u001b[0m\u001b[0;34m(\u001b[0m\u001b[0mself\u001b[0m\u001b[0;34m,\u001b[0m \u001b[0mpoints\u001b[0m\u001b[0;34m:\u001b[0m \u001b[0mList\u001b[0m\u001b[0;34m[\u001b[0m\u001b[0mList\u001b[0m\u001b[0;34m[\u001b[0m\u001b[0mint\u001b[0m\u001b[0;34m]\u001b[0m\u001b[0;34m]\u001b[0m\u001b[0;34m)\u001b[0m \u001b[0;34m->\u001b[0m \u001b[0mList\u001b[0m\u001b[0;34m[\u001b[0m\u001b[0mList\u001b[0m\u001b[0;34m[\u001b[0m\u001b[0mint\u001b[0m\u001b[0;34m]\u001b[0m\u001b[0;34m]\u001b[0m\u001b[0;34m:\u001b[0m\u001b[0;34m\u001b[0m\u001b[0;34m\u001b[0m\u001b[0m\n\u001b[0m\u001b[1;32m      3\u001b[0m         \u001b[0;32mif\u001b[0m \u001b[0mlen\u001b[0m\u001b[0;34m(\u001b[0m\u001b[0mpoints\u001b[0m\u001b[0;34m)\u001b[0m \u001b[0;34m<=\u001b[0m \u001b[0;36m2\u001b[0m\u001b[0;34m:\u001b[0m\u001b[0;34m\u001b[0m\u001b[0;34m\u001b[0m\u001b[0m\n\u001b[1;32m      4\u001b[0m             \u001b[0;32mreturn\u001b[0m \u001b[0mpoints\u001b[0m\u001b[0;34m\u001b[0m\u001b[0;34m\u001b[0m\u001b[0m\n\u001b[1;32m      5\u001b[0m \u001b[0;34m\u001b[0m\u001b[0m\n",
      "\u001b[0;31mNameError\u001b[0m: name 'List' is not defined"
     ]
    }
   ],
   "source": [
    "class Solution:\n",
    "    def outerTrees(self, points: List[List[int]]) -> List[List[int]]:\n",
    "        if len(points) <= 2:\n",
    "            return points\n",
    "        \n",
    "        def cross(o, a, b):\n",
    "            return (a[0]-o[0])*(b[1]-o[1])-(b[0]-o[0])*(a[1]-o[1])\n",
    "        \n",
    "        points.sort()\n",
    "        upper = []\n",
    "        for p in points:\n",
    "            while len(upper) >= 2 and cross(upper[-2], upper[-1], p) > 0:\n",
    "                upper.pop()\n",
    "            upper.append(p)\n",
    "        \n",
    "        lower = []\n",
    "        for p in reversed(points):\n",
    "            while len(lower) >= 2 and cross(lower[-2], lower[-1], p) > 0:\n",
    "                lower.pop()\n",
    "            lower.append(p)\n",
    "        return list(map(list, set(map(tuple, lower[:-1] + upper[:-1]))))"
   ]
  },
  {
   "cell_type": "code",
   "execution_count": null,
   "metadata": {},
   "outputs": [],
   "source": []
  }
 ],
 "metadata": {
  "kernelspec": {
   "display_name": "Python 3",
   "language": "python",
   "name": "python3"
  },
  "language_info": {
   "codemirror_mode": {
    "name": "ipython",
    "version": 3
   },
   "file_extension": ".py",
   "mimetype": "text/x-python",
   "name": "python",
   "nbconvert_exporter": "python",
   "pygments_lexer": "ipython3",
   "version": "3.8.1"
  }
 },
 "nbformat": 4,
 "nbformat_minor": 4
}
