{
 "cells": [
  {
   "cell_type": "markdown",
   "metadata": {},
   "source": [
    "[188. Best Time to Buy and Sell Stock IV](https://leetcode.com/problems/best-time-to-buy-and-sell-stock-iv/)"
   ]
  },
  {
   "cell_type": "code",
   "execution_count": 30,
   "metadata": {},
   "outputs": [],
   "source": [
    "class Solution:\n",
    "    def maxProfit(self, k: int, prices) -> int:\n",
    "        if k >= len(prices) // 2:\n",
    "            return sum(sell - buy for sell, buy in zip(prices[1:], prices[:-1]) if sell - buy > 0)\n",
    "        dp = [[0, -float(\"inf\")] for _ in range(k + 1)]\n",
    "        for p in prices:\n",
    "            for i in range(k + 1):\n",
    "                if i and dp[i - 1][1] + p > dp[i][0]:\n",
    "                    dp[i][0] = dp[i - 1][1] + p \n",
    "                if dp[i][0] - p > dp[i][1]:\n",
    "                    dp[i][1] = dp[i][0] - p\n",
    "        return dp[-1][0]"
   ]
  },
  {
   "cell_type": "code",
   "execution_count": 31,
   "metadata": {},
   "outputs": [
    {
     "data": {
      "text/plain": [
       "2"
      ]
     },
     "execution_count": 31,
     "metadata": {},
     "output_type": "execute_result"
    }
   ],
   "source": [
    "Solution().maxProfit(2, [2,4,1])"
   ]
  },
  {
   "cell_type": "code",
   "execution_count": 32,
   "metadata": {},
   "outputs": [
    {
     "data": {
      "text/plain": [
       "7"
      ]
     },
     "execution_count": 32,
     "metadata": {},
     "output_type": "execute_result"
    }
   ],
   "source": [
    "Solution().maxProfit(2, [3,2,6,5,0,3])"
   ]
  },
  {
   "cell_type": "code",
   "execution_count": null,
   "metadata": {},
   "outputs": [],
   "source": []
  }
 ],
 "metadata": {
  "kernelspec": {
   "display_name": "Python 3",
   "language": "python",
   "name": "python3"
  },
  "language_info": {
   "codemirror_mode": {
    "name": "ipython",
    "version": 3
   },
   "file_extension": ".py",
   "mimetype": "text/x-python",
   "name": "python",
   "nbconvert_exporter": "python",
   "pygments_lexer": "ipython3",
   "version": "3.8.1"
  }
 },
 "nbformat": 4,
 "nbformat_minor": 4
}
