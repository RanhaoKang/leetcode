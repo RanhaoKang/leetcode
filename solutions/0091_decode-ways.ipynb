{
 "cells": [
  {
   "cell_type": "markdown",
   "metadata": {},
   "source": [
    "[91. Decode Ways](https://leetcode.com/problems/decode-ways/)"
   ]
  },
  {
   "cell_type": "markdown",
   "metadata": {},
   "source": [
    "又是个TLE的方案"
   ]
  },
  {
   "cell_type": "code",
   "execution_count": 1,
   "metadata": {},
   "outputs": [],
   "source": [
    "class Solution:\n",
    "    # @param s, a string\n",
    "    # @return an integer\n",
    "    def numDecodings(self, s):\n",
    "        #dp[i] = dp[i-1] if s[i] != \"0\"\n",
    "        #       +dp[i-2] if \"09\" < s[i-1:i+1] < \"27\"\n",
    "        if s == \"\": return 0\n",
    "        dp = [0 for x in range(len(s)+1)]\n",
    "        dp[0] = 1\n",
    "        for i in range(1, len(s)+1):\n",
    "            if s[i-1] != \"0\":\n",
    "                dp[i] += dp[i-1]\n",
    "            if i != 1 and s[i-2:i] < \"27\" and s[i-2:i] > \"09\":  #\"01\"ways = 0\n",
    "                dp[i] += dp[i-2]\n",
    "        return dp[len(s)]"
   ]
  },
  {
   "cell_type": "code",
   "execution_count": 13,
   "metadata": {},
   "outputs": [
    {
     "data": {
      "text/plain": [
       "1"
      ]
     },
     "execution_count": 13,
     "metadata": {},
     "output_type": "execute_result"
    }
   ],
   "source": [
    "Solution().numDecodings('10')"
   ]
  },
  {
   "cell_type": "code",
   "execution_count": null,
   "metadata": {},
   "outputs": [],
   "source": []
  }
 ],
 "metadata": {
  "kernelspec": {
   "display_name": "Python 3",
   "language": "python",
   "name": "python3"
  },
  "language_info": {
   "codemirror_mode": {
    "name": "ipython",
    "version": 3
   },
   "file_extension": ".py",
   "mimetype": "text/x-python",
   "name": "python",
   "nbconvert_exporter": "python",
   "pygments_lexer": "ipython3",
   "version": "3.6.7"
  }
 },
 "nbformat": 4,
 "nbformat_minor": 2
}
