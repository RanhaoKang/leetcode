{
 "cells": [
  {
   "cell_type": "markdown",
   "metadata": {},
   "source": [
    "[91. Decode Ways](https://leetcode.com/problems/decode-ways/)"
   ]
  },
  {
   "cell_type": "markdown",
   "metadata": {},
   "source": [
    "又是个TLE的方案"
   ]
  },
  {
   "cell_type": "code",
   "execution_count": 14,
   "metadata": {},
   "outputs": [],
   "source": [
    "class Solution:\n",
    "    def numDecodings(self, s: str) -> int:\n",
    "        \n",
    "        def solve(s):\n",
    "            if len(s) == 0:\n",
    "                return 0\n",
    "            elif len(s) == 1:\n",
    "                return 1 if s[0] != '0' else 0\n",
    "            elif len(s) == 2:\n",
    "                if s[0] == '0':\n",
    "                    return 0\n",
    "                elif s[1] == '0':\n",
    "                    return 1\n",
    "                elif int(s) <= 26:\n",
    "                    return 2\n",
    "                else:\n",
    "                    return 1\n",
    "            \n",
    "            \n",
    "            return solve(s[1:]) + solve(s[2:])\n",
    "        \n",
    "        if s and s[0] == '0':\n",
    "            return 0\n",
    "        return solve(s)"
   ]
  },
  {
   "cell_type": "code",
   "execution_count": 13,
   "metadata": {},
   "outputs": [
    {
     "data": {
      "text/plain": [
       "1"
      ]
     },
     "execution_count": 13,
     "metadata": {},
     "output_type": "execute_result"
    }
   ],
   "source": [
    "Solution().numDecodings('10')"
   ]
  },
  {
   "cell_type": "code",
   "execution_count": null,
   "metadata": {},
   "outputs": [],
   "source": []
  }
 ],
 "metadata": {
  "kernelspec": {
   "display_name": "Python 3",
   "language": "python",
   "name": "python3"
  },
  "language_info": {
   "codemirror_mode": {
    "name": "ipython",
    "version": 3
   },
   "file_extension": ".py",
   "mimetype": "text/x-python",
   "name": "python",
   "nbconvert_exporter": "python",
   "pygments_lexer": "ipython3",
   "version": "3.6.7"
  }
 },
 "nbformat": 4,
 "nbformat_minor": 2
}
