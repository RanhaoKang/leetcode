{
 "cells": [
  {
   "cell_type": "markdown",
   "metadata": {},
   "source": [
    "[630. Course Schedule III](https://leetcode.com/problems/course-schedule-iii/)"
   ]
  },
  {
   "cell_type": "code",
   "execution_count": 1,
   "metadata": {},
   "outputs": [],
   "source": [
    "class Solution:\n",
    "    def scheduleCourse(self, courses) -> int:\n",
    "        pq, start = [], 0\n",
    "        for t, end in sorted(courses, key = lambda x: x[1]):\n",
    "            start += t\n",
    "            heapq.heappush(pq, -t)\n",
    "            while start > end:\n",
    "                start += heapq.heappop(pq)\n",
    "        \n",
    "        return len(pq)"
   ]
  },
  {
   "cell_type": "code",
   "execution_count": null,
   "metadata": {},
   "outputs": [],
   "source": []
  }
 ],
 "metadata": {
  "kernelspec": {
   "display_name": "Python 3",
   "language": "python",
   "name": "python3"
  },
  "language_info": {
   "codemirror_mode": {
    "name": "ipython",
    "version": 3
   },
   "file_extension": ".py",
   "mimetype": "text/x-python",
   "name": "python",
   "nbconvert_exporter": "python",
   "pygments_lexer": "ipython3",
   "version": "3.8.1"
  }
 },
 "nbformat": 4,
 "nbformat_minor": 4
}
