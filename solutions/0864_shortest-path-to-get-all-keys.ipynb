{
 "cells": [
  {
   "cell_type": "markdown",
   "metadata": {},
   "source": [
    "[864. Shortest Path to Get All Keys](https://leetcode.com/problems/shortest-path-to-get-all-keys/)"
   ]
  },
  {
   "cell_type": "code",
   "execution_count": 3,
   "metadata": {},
   "outputs": [],
   "source": [
    "class Solution:\n",
    "    def shortestPathAllKeys(self, grid) -> int:\n",
    "        n, m = len(grid), len(grid[0])\n",
    "        numOfKeys = 0\n",
    "        direc = [[0,1],[0,-1],[1,0],[-1,0]]\n",
    "        visited = set()\n",
    "        \n",
    "        for i in range(n):\n",
    "            for j in range(m):\n",
    "                if grid[i][j] == '@':\n",
    "                    starti = i\n",
    "                    startj = j\n",
    "                elif grid[i][j] in \"abcdef\":\n",
    "                    numOfKeys += 1\n",
    "        \n",
    "        deque = collections.deque()\n",
    "        deque.append([starti, startj, 0, \".@abcdef\", 0])\n",
    "        \n",
    "        while deque:\n",
    "            i, j, steps, keys, collectedKeys = deque.popleft()\n",
    "\n",
    "            if grid[i][j] in \"abcdef\" and grid[i][j].upper() not in keys:\n",
    "                keys += grid[i][j].upper()\n",
    "                collectedKeys += 1\n",
    "            \n",
    "            if collectedKeys == numOfKeys:\n",
    "                return steps\n",
    "\n",
    "            for x, y in direc:\n",
    "                ni = i+x\n",
    "                nj = j+y\n",
    "                if 0<=ni<n and 0<=nj<m and grid[ni][nj] in keys:\n",
    "                    if (ni, nj, keys) not in visited:\n",
    "                        visited.add((ni,nj,keys))\n",
    "                        deque.append([ni, nj, steps + 1, keys, collectedKeys])\n",
    "                \n",
    "        return -1"
   ]
  },
  {
   "cell_type": "code",
   "execution_count": 4,
   "metadata": {},
   "outputs": [
    {
     "ename": "NameError",
     "evalue": "name 'collections' is not defined",
     "output_type": "error",
     "traceback": [
      "\u001b[0;31m---------------------------------------------------------------------------\u001b[0m",
      "\u001b[0;31mNameError\u001b[0m                                 Traceback (most recent call last)",
      "\u001b[0;32m<ipython-input-4-7d891932d62d>\u001b[0m in \u001b[0;36m<module>\u001b[0;34m\u001b[0m\n\u001b[0;32m----> 1\u001b[0;31m Solution().shortestPathAllKeys(\n\u001b[0m\u001b[1;32m      2\u001b[0m     [\"@.a.#\",\n\u001b[1;32m      3\u001b[0m      \u001b[0;34m\"###.#\"\u001b[0m\u001b[0;34m,\u001b[0m\u001b[0;34m\u001b[0m\u001b[0;34m\u001b[0m\u001b[0m\n\u001b[1;32m      4\u001b[0m      \"b.A.B\"])\n",
      "\u001b[0;32m<ipython-input-3-d36a91ea6462>\u001b[0m in \u001b[0;36mshortestPathAllKeys\u001b[0;34m(self, grid)\u001b[0m\n\u001b[1;32m     14\u001b[0m                     \u001b[0mnumOfKeys\u001b[0m \u001b[0;34m+=\u001b[0m \u001b[0;36m1\u001b[0m\u001b[0;34m\u001b[0m\u001b[0;34m\u001b[0m\u001b[0m\n\u001b[1;32m     15\u001b[0m \u001b[0;34m\u001b[0m\u001b[0m\n\u001b[0;32m---> 16\u001b[0;31m         \u001b[0mdeque\u001b[0m \u001b[0;34m=\u001b[0m \u001b[0mcollections\u001b[0m\u001b[0;34m.\u001b[0m\u001b[0mdeque\u001b[0m\u001b[0;34m(\u001b[0m\u001b[0;34m)\u001b[0m\u001b[0;34m\u001b[0m\u001b[0;34m\u001b[0m\u001b[0m\n\u001b[0m\u001b[1;32m     17\u001b[0m         \u001b[0mdeque\u001b[0m\u001b[0;34m.\u001b[0m\u001b[0mappend\u001b[0m\u001b[0;34m(\u001b[0m\u001b[0;34m[\u001b[0m\u001b[0mstarti\u001b[0m\u001b[0;34m,\u001b[0m \u001b[0mstartj\u001b[0m\u001b[0;34m,\u001b[0m \u001b[0;36m0\u001b[0m\u001b[0;34m,\u001b[0m \u001b[0;34m\".@abcdef\"\u001b[0m\u001b[0;34m,\u001b[0m \u001b[0;36m0\u001b[0m\u001b[0;34m]\u001b[0m\u001b[0;34m)\u001b[0m\u001b[0;34m\u001b[0m\u001b[0;34m\u001b[0m\u001b[0m\n\u001b[1;32m     18\u001b[0m \u001b[0;34m\u001b[0m\u001b[0m\n",
      "\u001b[0;31mNameError\u001b[0m: name 'collections' is not defined"
     ]
    }
   ],
   "source": [
    "Solution().shortestPathAllKeys(\n",
    "    [\"@.a.#\",\n",
    "     \"###.#\",\n",
    "     \"b.A.B\"])"
   ]
  },
  {
   "cell_type": "code",
   "execution_count": null,
   "metadata": {},
   "outputs": [],
   "source": []
  }
 ],
 "metadata": {
  "kernelspec": {
   "display_name": "Python 3",
   "language": "python",
   "name": "python3"
  },
  "language_info": {
   "codemirror_mode": {
    "name": "ipython",
    "version": 3
   },
   "file_extension": ".py",
   "mimetype": "text/x-python",
   "name": "python",
   "nbconvert_exporter": "python",
   "pygments_lexer": "ipython3",
   "version": "3.8.1"
  }
 },
 "nbformat": 4,
 "nbformat_minor": 4
}
