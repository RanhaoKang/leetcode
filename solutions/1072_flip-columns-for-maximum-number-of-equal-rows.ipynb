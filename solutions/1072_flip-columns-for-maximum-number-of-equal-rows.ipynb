{
 "cells": [
  {
   "cell_type": "markdown",
   "metadata": {},
   "source": [
    "[1072. Flip Columns For Maximum Number of Equal Rows](https://leetcode.com/problems/flip-columns-for-maximum-number-of-equal-rows/)"
   ]
  },
  {
   "cell_type": "markdown",
   "metadata": {},
   "source": [
    "按hint 1的思路的Brute Force，TLE了"
   ]
  },
  {
   "cell_type": "code",
   "execution_count": 41,
   "metadata": {},
   "outputs": [],
   "source": [
    "class Solution:\n",
    "    def maxEqualRowsAfterFlips(self, matrix) -> int:\n",
    "        H, W = len(matrix), len(matrix and matrix[0])\n",
    "        N = 2 ** W - 1\n",
    "        M = [0] * H\n",
    "        for i in range(H):\n",
    "            for j in matrix[i]:\n",
    "                M[i] = (M[i] << 1) | j\n",
    "                \n",
    "        return max(sum(x ^ k in (0, N) for x in M) for k in range(N))"
   ]
  },
  {
   "cell_type": "code",
   "execution_count": 42,
   "metadata": {},
   "outputs": [
    {
     "data": {
      "text/plain": [
       "2"
      ]
     },
     "execution_count": 42,
     "metadata": {},
     "output_type": "execute_result"
    }
   ],
   "source": [
    "Solution().maxEqualRowsAfterFlips([\n",
    "    [1,0,0,0,1,1,1,0,1,1,1],\n",
    "    [1,0,0,0,1,0,0,0,1,0,0],\n",
    "    [1,0,0,0,1,1,1,0,1,1,1],\n",
    "    [1,0,0,0,1,0,0,0,1,0,0],\n",
    "    [1,1,1,0,1,1,1,0,1,1,1]])"
   ]
  },
  {
   "cell_type": "code",
   "execution_count": 43,
   "metadata": {},
   "outputs": [],
   "source": [
    "class Solution:\n",
    "    def maxEqualRowsAfterFlips(self, A) -> int:\n",
    "        return max(collections.Counter(tuple(x ^ r[0] for x in r) for r in A).values())"
   ]
  },
  {
   "cell_type": "code",
   "execution_count": null,
   "metadata": {},
   "outputs": [],
   "source": []
  }
 ],
 "metadata": {
  "kernelspec": {
   "display_name": "Python 3",
   "language": "python",
   "name": "python3"
  },
  "language_info": {
   "codemirror_mode": {
    "name": "ipython",
    "version": 3
   },
   "file_extension": ".py",
   "mimetype": "text/x-python",
   "name": "python",
   "nbconvert_exporter": "python",
   "pygments_lexer": "ipython3",
   "version": "3.8.1"
  }
 },
 "nbformat": 4,
 "nbformat_minor": 4
}
