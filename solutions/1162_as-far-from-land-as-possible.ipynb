{
 "cells": [
  {
   "cell_type": "markdown",
   "metadata": {},
   "source": [
    "[1162. As Far from Land as Possible](https://leetcode.com/problems/as-far-from-land-as-possible/)"
   ]
  },
  {
   "cell_type": "code",
   "execution_count": 3,
   "metadata": {},
   "outputs": [],
   "source": [
    "class Solution:\n",
    "    def maxDistance(self, grid) -> int:\n",
    "        H, W = len(grid), len(grid and grid[0])\n",
    "        cur = [(i, j) for i in range(H) for j in range(W) if grid[i][j]]\n",
    "        \n",
    "        # 根据题意返回-1\n",
    "        if len(cur) in (H * W, 0):\n",
    "            return -1\n",
    "\n",
    "        level = 0\n",
    "        while cur:\n",
    "            next = []\n",
    "            for i, j in cur:\n",
    "                for ii, jj in ((1,0), (-1, 0), (0, 1), (0, -1)):\n",
    "                    I, J = i + ii, j + jj\n",
    "                    if 0 <= I < H and 0 <= J < W and grid[I][J] == 0:\n",
    "                        next.append((I, J))\n",
    "                        grid[I][J] = 1\n",
    "            cur = next\n",
    "            level += 1\n",
    "        \n",
    "        return level - 1"
   ]
  },
  {
   "cell_type": "code",
   "execution_count": null,
   "metadata": {},
   "outputs": [],
   "source": []
  }
 ],
 "metadata": {
  "kernelspec": {
   "display_name": "Python 3",
   "language": "python",
   "name": "python3"
  },
  "language_info": {
   "codemirror_mode": {
    "name": "ipython",
    "version": 3
   },
   "file_extension": ".py",
   "mimetype": "text/x-python",
   "name": "python",
   "nbconvert_exporter": "python",
   "pygments_lexer": "ipython3",
   "version": "3.8.1"
  }
 },
 "nbformat": 4,
 "nbformat_minor": 4
}
