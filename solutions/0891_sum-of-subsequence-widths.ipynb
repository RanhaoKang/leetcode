{
 "cells": [
  {
   "cell_type": "markdown",
   "metadata": {},
   "source": [
    "[891. Sum of Subsequence Widths](https://leetcode.com/problems/sum-of-subsequence-widths/)"
   ]
  },
  {
   "cell_type": "code",
   "execution_count": 2,
   "metadata": {},
   "outputs": [],
   "source": [
    "class Solution:\n",
    "    def sumSubseqWidths(self, A) -> int:\n",
    "        return sum(\n",
    "            ((1 << i) - (1 << len(A) - i - 1)) * a\n",
    "            for i, a in enumerate(sorted(A))) % (10 ** 9 + 7)"
   ]
  },
  {
   "cell_type": "code",
   "execution_count": null,
   "metadata": {},
   "outputs": [],
   "source": []
  }
 ],
 "metadata": {
  "kernelspec": {
   "display_name": "Python 3",
   "language": "python",
   "name": "python3"
  },
  "language_info": {
   "codemirror_mode": {
    "name": "ipython",
    "version": 3
   },
   "file_extension": ".py",
   "mimetype": "text/x-python",
   "name": "python",
   "nbconvert_exporter": "python",
   "pygments_lexer": "ipython3",
   "version": "3.8.1"
  }
 },
 "nbformat": 4,
 "nbformat_minor": 4
}
