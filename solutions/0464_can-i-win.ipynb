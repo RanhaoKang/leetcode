{
 "cells": [
  {
   "cell_type": "markdown",
   "metadata": {},
   "source": [
    "[464. Can I Win](https://leetcode.com/problems/can-i-win/)"
   ]
  },
  {
   "cell_type": "code",
   "execution_count": 1,
   "metadata": {},
   "outputs": [],
   "source": [
    "class Solution:\n",
    "    def canIWin(self, MaxInt, Target):\n",
    "        # 1, Check Edge Cases\n",
    "        if Target == 0: return True\n",
    "        MaxPossible = (1 + MaxInt) * MaxInt / 2\n",
    "        if MaxPossible  < Target: return False\n",
    "        if MaxPossible == Target: return bool(MaxInt % 2)\n",
    "\n",
    "        # 2, Recursive Method\n",
    "        memo = {}\n",
    "        def isNim(opts, left):\n",
    "            if left <= 0: return False\n",
    "            key = (tuple(sorted(opts)), left)\n",
    "            if key not in memo:\n",
    "                memo[key] = any(not isNim(opts - {n}, left - n) for n in opts)\n",
    "            return memo[key]\n",
    "        return isNim(set(range(1, MaxInt + 1)), Target)"
   ]
  },
  {
   "cell_type": "code",
   "execution_count": 2,
   "metadata": {},
   "outputs": [
    {
     "data": {
      "text/plain": [
       "False"
      ]
     },
     "execution_count": 2,
     "metadata": {},
     "output_type": "execute_result"
    }
   ],
   "source": [
    "Solution().canIWin(10, 40)"
   ]
  },
  {
   "cell_type": "code",
   "execution_count": null,
   "metadata": {},
   "outputs": [],
   "source": []
  }
 ],
 "metadata": {
  "kernelspec": {
   "display_name": "Python 3",
   "language": "python",
   "name": "python3"
  },
  "language_info": {
   "codemirror_mode": {
    "name": "ipython",
    "version": 3
   },
   "file_extension": ".py",
   "mimetype": "text/x-python",
   "name": "python",
   "nbconvert_exporter": "python",
   "pygments_lexer": "ipython3",
   "version": "3.8.1"
  }
 },
 "nbformat": 4,
 "nbformat_minor": 2
}
