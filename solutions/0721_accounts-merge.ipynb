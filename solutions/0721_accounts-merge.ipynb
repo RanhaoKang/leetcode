{
 "cells": [
  {
   "cell_type": "markdown",
   "metadata": {},
   "source": [
    "[721. Accounts Merge](https://leetcode.com/problems/accounts-merge/)"
   ]
  },
  {
   "cell_type": "code",
   "execution_count": 1,
   "metadata": {},
   "outputs": [],
   "source": [
    "class DSU:\n",
    "    def __init__(self):\n",
    "        self.p = range(10001)\n",
    "    def find(self, x):\n",
    "        if self.p[x] != x:\n",
    "            self.p[x] = self.find(self.p[x])\n",
    "        return self.p[x]\n",
    "    def union(self, x, y):\n",
    "        self.p[self.find(x)] = self.find(y)\n",
    "\n",
    "class Solution(object):\n",
    "    def accountsMerge(self, accounts):\n",
    "        dsu = DSU()\n",
    "        em_to_name = {}\n",
    "        em_to_id = {}\n",
    "        i = 0\n",
    "        for acc in accounts:\n",
    "            name = acc[0]\n",
    "            for email in acc[1:]:\n",
    "                em_to_name[email] = name\n",
    "                if email not in em_to_id:\n",
    "                    em_to_id[email] = i\n",
    "                    i += 1\n",
    "                dsu.union(em_to_id[acc[1]], em_to_id[email])\n",
    "\n",
    "        ans = collections.defaultdict(list)\n",
    "        for email in em_to_name:\n",
    "            ans[dsu.find(em_to_id[email])].append(email)\n",
    "\n",
    "        return [[em_to_name[v[0]]] + sorted(v) for v in ans.values()]"
   ]
  },
  {
   "cell_type": "code",
   "execution_count": null,
   "metadata": {},
   "outputs": [],
   "source": []
  }
 ],
 "metadata": {
  "kernelspec": {
   "display_name": "Python 3",
   "language": "python",
   "name": "python3"
  },
  "language_info": {
   "codemirror_mode": {
    "name": "ipython",
    "version": 3
   },
   "file_extension": ".py",
   "mimetype": "text/x-python",
   "name": "python",
   "nbconvert_exporter": "python",
   "pygments_lexer": "ipython3",
   "version": "3.8.1"
  }
 },
 "nbformat": 4,
 "nbformat_minor": 4
}
