{
 "cells": [
  {
   "cell_type": "markdown",
   "metadata": {},
   "source": [
    "[529. Minesweeper](https://leetcode.com/problems/minesweeper/)"
   ]
  },
  {
   "cell_type": "code",
   "execution_count": 1,
   "metadata": {},
   "outputs": [],
   "source": [
    "class Solution:\n",
    "    def updateBoard(self, board, click):\n",
    "        H, W = len(board), len(board and board[0])\n",
    "        res = [list('B' * W) for i in range(H)]\n",
    "        \n",
    "        i, j = click\n",
    "        \n",
    "        if board[i][j] == 'M':\n",
    "            res[i][j]"
   ]
  },
  {
   "cell_type": "code",
   "execution_count": 2,
   "metadata": {},
   "outputs": [
    {
     "name": "stdout",
     "output_type": "stream",
     "text": [
      "[['B', 'B', 'B', 'B', 'B'], ['B', 'B', 'B', 'B', 'B'], ['B', 'B', 'B', 'B', 'B'], ['B', 'B', 'B', 'B', 'B']]\n"
     ]
    }
   ],
   "source": [
    "Solution().updateBoard(\n",
    "    [['E', 'E', 'E', 'E', 'E'],\n",
    " ['E', 'E', 'M', 'E', 'E'],\n",
    " ['E', 'E', 'E', 'E', 'E'],\n",
    " ['E', 'E', 'E', 'E', 'E']], [3, 0]\n",
    ")"
   ]
  },
  {
   "cell_type": "code",
   "execution_count": null,
   "metadata": {},
   "outputs": [],
   "source": []
  }
 ],
 "metadata": {
  "kernelspec": {
   "display_name": "Python 3",
   "language": "python",
   "name": "python3"
  },
  "language_info": {
   "codemirror_mode": {
    "name": "ipython",
    "version": 3
   },
   "file_extension": ".py",
   "mimetype": "text/x-python",
   "name": "python",
   "nbconvert_exporter": "python",
   "pygments_lexer": "ipython3",
   "version": "3.7.3"
  }
 },
 "nbformat": 4,
 "nbformat_minor": 2
}
