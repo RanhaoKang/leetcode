{
 "cells": [
  {
   "cell_type": "markdown",
   "metadata": {},
   "source": [
    "[529. Minesweeper](https://leetcode.com/problems/minesweeper/)"
   ]
  },
  {
   "cell_type": "code",
   "execution_count": 10,
   "metadata": {},
   "outputs": [],
   "source": [
    "class Solution:\n",
    "    def updateBoard(self, board, click):\n",
    "        H, W = len(board), len(board and board[0])\n",
    "        I, J = click\n",
    "        def change(I, J):\n",
    "            res = 0\n",
    "            dirs = ((I-1,J-1), (I-1,J+1), (I+1,J-1), (I+1,J+1), (I-1, J), (I, J-1), (I+1, J), (I, J+1))\n",
    "            for i, j in dirs:\n",
    "                if 0 <= i < H and 0 <= j < W:\n",
    "                    res += board[i][j] == 'M'\n",
    "            board[I][J] = str(res or 'B')\n",
    "            if board[I][J] == 'B':\n",
    "                for i, j in dirs:\n",
    "                    if 0 <= i < H and 0 <= j < W and board[i][j]:\n",
    "                        res += board[i][j] == 'M'\n",
    "                        if board[i][j] == 'E':\n",
    "                            change(i, j)\n",
    "\n",
    "        if board[I][J] == 'M':\n",
    "            board[I][J] = 'X'\n",
    "        elif board[I][J] == 'E':\n",
    "            change(I, J)\n",
    "        \n",
    "        return board"
   ]
  },
  {
   "cell_type": "code",
   "execution_count": 11,
   "metadata": {},
   "outputs": [
    {
     "data": {
      "text/plain": [
       "[['B', '1', 'E', '1', 'B'],\n",
       " ['B', '1', 'M', '1', 'B'],\n",
       " ['B', '1', '1', '1', 'B'],\n",
       " ['B', 'B', 'B', 'B', 'B']]"
      ]
     },
     "execution_count": 11,
     "metadata": {},
     "output_type": "execute_result"
    }
   ],
   "source": [
    "Solution().updateBoard([\n",
    "    ['E', 'E', 'E', 'E', 'E'],\n",
    "    ['E', 'E', 'M', 'E', 'E'],\n",
    "    ['E', 'E', 'E', 'E', 'E'],\n",
    "    ['E', 'E', 'E', 'E', 'E']],\n",
    "    [3, 0])"
   ]
  },
  {
   "cell_type": "code",
   "execution_count": null,
   "metadata": {},
   "outputs": [],
   "source": [
    "[[\"E\",\"E\",\"E\",\"E\",\"E\"],\n",
    " [\"E\",\"E\",\"M\",\"E\",\"E\"],\n",
    " [\"E\",\"E\",\"E\",\"E\",\"E\"],\n",
    " [\"E\",\"E\",\"E\",\"E\",\"E\"]]\n",
    "[3,0]b"
   ]
  },
  {
   "cell_type": "code",
   "execution_count": null,
   "metadata": {},
   "outputs": [],
   "source": [
    "[[\"B\",\"1\",\"1\",\"1\",\"B\"],\n",
    " [\"B\",\"1\",\"M\",\"1\",\"B\"],\n",
    " [\"B\",\"1\",\"1\",\"1\",\"B\"],\n",
    " [\"B\",\"B\",\"B\",\"B\",\"B\"]]"
   ]
  },
  {
   "cell_type": "code",
   "execution_count": null,
   "metadata": {},
   "outputs": [],
   "source": [
    "[[\"B\",\"1\",\"E\",\"1\",\"B\"],\n",
    " [\"B\",\"1\",\"M\",\"1\",\"B\"],\n",
    " [\"B\",\"1\",\"1\",\"1\",\"B\"],\n",
    " [\"B\",\"B\",\"B\",\"B\",\"B\"]]\n",
    "\n"
   ]
  }
 ],
 "metadata": {
  "kernelspec": {
   "display_name": "Python 3",
   "language": "python",
   "name": "python3"
  },
  "language_info": {
   "codemirror_mode": {
    "name": "ipython",
    "version": 3
   },
   "file_extension": ".py",
   "mimetype": "text/x-python",
   "name": "python",
   "nbconvert_exporter": "python",
   "pygments_lexer": "ipython3",
   "version": "3.8.1"
  }
 },
 "nbformat": 4,
 "nbformat_minor": 2
}
