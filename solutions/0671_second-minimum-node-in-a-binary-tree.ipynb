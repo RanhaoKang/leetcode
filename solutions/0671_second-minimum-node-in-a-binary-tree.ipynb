{
 "cells": [
  {
   "cell_type": "markdown",
   "metadata": {},
   "source": [
    "[671. Second Minimum Node In a Binary Tree](https://leetcode.com/problems/second-minimum-node-in-a-binary-tree/)"
   ]
  },
  {
   "cell_type": "code",
   "execution_count": 12,
   "metadata": {},
   "outputs": [],
   "source": [
    "# Definition for a binary tree node.\n",
    "class TreeNode:\n",
    "    def __init__(self, x):\n",
    "        self.val = x\n",
    "        self.left = None\n",
    "        self.right = None\n",
    "\n",
    "class Solution:\n",
    "    def findSecondMinimumValue(self, root: TreeNode) -> int:\n",
    "        def iterate(node):\n",
    "            if node:\n",
    "                yield node.val\n",
    "                yield from iterate(node.left)\n",
    "                yield from iterate(node.right)\n",
    "        \n",
    "        first = second = float('inf')\n",
    "        for i in iterate(root):\n",
    "            if i < first:\n",
    "                first, second = i, first\n",
    "            elif i < second and i != first:\n",
    "                second = i\n",
    "        \n",
    "        return -1 if second == float('inf') else second"
   ]
  },
  {
   "cell_type": "code",
   "execution_count": 11,
   "metadata": {},
   "outputs": [
    {
     "name": "stdout",
     "output_type": "stream",
     "text": [
      "2 inf\n",
      "2 inf\n",
      "2 5\n",
      "2 5\n",
      "2 5\n"
     ]
    },
    {
     "data": {
      "text/plain": [
       "5"
      ]
     },
     "execution_count": 11,
     "metadata": {},
     "output_type": "execute_result"
    }
   ],
   "source": [
    "p = TreeNode(2)\n",
    "p.left = TreeNode(2)\n",
    "p.right = TreeNode(5)\n",
    "p.right.left = TreeNode(5)\n",
    "p.right.right = TreeNode(7)\n",
    "\n",
    "Solution().findSecondMinimumValue(p)"
   ]
  },
  {
   "cell_type": "code",
   "execution_count": null,
   "metadata": {},
   "outputs": [],
   "source": []
  }
 ],
 "metadata": {
  "kernelspec": {
   "display_name": "Python 3",
   "language": "python",
   "name": "python3"
  },
  "language_info": {
   "codemirror_mode": {
    "name": "ipython",
    "version": 3
   },
   "file_extension": ".py",
   "mimetype": "text/x-python",
   "name": "python",
   "nbconvert_exporter": "python",
   "pygments_lexer": "ipython3",
   "version": "3.6.7"
  }
 },
 "nbformat": 4,
 "nbformat_minor": 2
}
