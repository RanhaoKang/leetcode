{
 "cells": [
  {
   "cell_type": "markdown",
   "metadata": {},
   "source": [
    "[6. ZigZag Conversion](https://leetcode.com/problems/zigzag-conversion/)"
   ]
  },
  {
   "cell_type": "code",
   "execution_count": 47,
   "metadata": {},
   "outputs": [],
   "source": [
    "class Solution:\n",
    "    def convert(self, s: str, numRows: int) -> str:\n",
    "        res = [''] * numRows\n",
    "        from itertools import cycle, chain\n",
    "        indexes = cycle(chain(range(numRows), range(numRows - 2, 0, -1)))\n",
    "        \n",
    "        for idx, char in zip(indexes, s):\n",
    "            res[idx] += char\n",
    "        \n",
    "        return ''.join(res)"
   ]
  },
  {
   "cell_type": "code",
   "execution_count": 48,
   "metadata": {},
   "outputs": [
    {
     "name": "stdout",
     "output_type": "stream",
     "text": [
      "P 0\n",
      "A 1\n",
      "Y 2\n",
      "P 1\n",
      "A 0\n",
      "L 1\n",
      "I 2\n",
      "S 1\n",
      "H 0\n",
      "I 1\n",
      "R 2\n",
      "I 1\n",
      "N 0\n",
      "G 1\n",
      "['PAHN', 'APLSIIG', 'YIR']\n"
     ]
    }
   ],
   "source": [
    "Solution().convert('PAYPALISHIRING', 3)"
   ]
  },
  {
   "cell_type": "code",
   "execution_count": null,
   "metadata": {},
   "outputs": [],
   "source": []
  }
 ],
 "metadata": {
  "kernelspec": {
   "display_name": "Python 3",
   "language": "python",
   "name": "python3"
  },
  "language_info": {
   "codemirror_mode": {
    "name": "ipython",
    "version": 3
   },
   "file_extension": ".py",
   "mimetype": "text/x-python",
   "name": "python",
   "nbconvert_exporter": "python",
   "pygments_lexer": "ipython3",
   "version": "3.6.7"
  }
 },
 "nbformat": 4,
 "nbformat_minor": 2
}
