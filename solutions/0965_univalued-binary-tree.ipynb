{
 "cells": [
  {
   "cell_type": "markdown",
   "metadata": {},
   "source": [
    "[965. Univalued Binary Tree](https://leetcode.com/problems/univalued-binary-tree/)"
   ]
  },
  {
   "cell_type": "code",
   "execution_count": 1,
   "metadata": {},
   "outputs": [],
   "source": [
    "# Definition for a binary tree node.\n",
    "# class TreeNode:\n",
    "#     def __init__(self, x):\n",
    "#         self.val = x\n",
    "#         self.left = None\n",
    "#         self.right = None\n",
    "\n",
    "class Solution:\n",
    "    \n",
    "    def isUnivalTree(self, root: 'TreeNode') -> 'bool':\n",
    "        self.val = root.val\n",
    "        return self._solve(root)\n",
    "    \n",
    "    def _solve(self, root):\n",
    "        if root is None:\n",
    "            return True\n",
    "        if root.val != self.val:\n",
    "            return False\n",
    "        return self._solve(root.left) and self._solve(root.right)"
   ]
  },
  {
   "cell_type": "markdown",
   "metadata": {},
   "source": [
    "class A"
   ]
  }
 ],
 "metadata": {
  "kernelspec": {
   "display_name": "Python 3",
   "language": "python",
   "name": "python3"
  },
  "language_info": {
   "codemirror_mode": {
    "name": "ipython",
    "version": 3
   },
   "file_extension": ".py",
   "mimetype": "text/x-python",
   "name": "python",
   "nbconvert_exporter": "python",
   "pygments_lexer": "ipython3",
   "version": "3.6.7"
  }
 },
 "nbformat": 4,
 "nbformat_minor": 2
}
