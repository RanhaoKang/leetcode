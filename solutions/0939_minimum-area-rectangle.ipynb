{
 "cells": [
  {
   "cell_type": "markdown",
   "metadata": {},
   "source": [
    "[939. Minimum Area Rectangle](https://leetcode.com/problems/minimum-area-rectangle/)"
   ]
  },
  {
   "cell_type": "markdown",
   "metadata": {},
   "source": [
    "取半memo的思想，未做优化，$O(N^2)$，TLE了"
   ]
  },
  {
   "cell_type": "code",
   "execution_count": 33,
   "metadata": {},
   "outputs": [],
   "source": [
    "class Solution:\n",
    "    def minAreaRect(self, pts) -> int:\n",
    "        seen, N = set(), len(pts)\n",
    "        \n",
    "        # 按x坐标排序\n",
    "        # pts.sort()\n",
    "        # 记录左下角, 右上角的点集\n",
    "        for i in range(N):\n",
    "            for j in range(N):\n",
    "                (x1, y1), (x2, y2) = pts[i], pts[j]\n",
    "                # if x1 < x2 and y1 < y2:\n",
    "                seen.add((x1, y1, x2, y2))\n",
    "        # print(seen)\n",
    "        # 寻找\n",
    "        res = INF = float('inf')\n",
    "        # 根据左上角，右下角的顶点，寻找合适的矩形\n",
    "        for i in range(N):\n",
    "            for j in range(N):\n",
    "                (x1, y1), (x2, y2) = pts[i], pts[j]\n",
    "                # print((x1, y2, x2, y1))\n",
    "                if (x1, y2, x2, y1) in seen and (x2-x1)*(y2-y1) > 0:\n",
    "                    res = min(res, (x2-x1)*(y2-y1))\n",
    "        \n",
    "        return 0 if res == INF else res"
   ]
  },
  {
   "cell_type": "markdown",
   "metadata": {},
   "source": [
    "尝试优化，依然TLE"
   ]
  },
  {
   "cell_type": "code",
   "execution_count": 44,
   "metadata": {},
   "outputs": [],
   "source": [
    "class Solution:\n",
    "    def minAreaRect(self, pts) -> int:\n",
    "        from collections import defaultdict\n",
    "        res = INF = float('inf')\n",
    "        area, N = defaultdict(lambda: INF), len(pts)\n",
    "        \n",
    "        # 按x坐标排序\n",
    "        pts.sort()\n",
    "        # 记录左下角, 右上角对应的面积\n",
    "        for i in range(N):\n",
    "            for j in range(i+1, N):\n",
    "                (x1, y1), (x2, y2) = pts[i], pts[j]\n",
    "                if x1 < x2 and y1 < y2:\n",
    "                    area[x1, y1, x2, y2] = (x2 - x1) * (y2 - y1)\n",
    "        # print(area)\n",
    "        # 寻找\n",
    "        # 根据左上角，右下角的顶点，寻找合适的矩形\n",
    "        for i in range(N):\n",
    "            for j in range(i+1, N):\n",
    "                (x1, y1), (x2, y2) = pts[i], pts[j]\n",
    "                res = min(res, area[x1, y2, x2, y1])\n",
    "        \n",
    "        return 0 if res == INF else res"
   ]
  },
  {
   "cell_type": "markdown",
   "metadata": {},
   "source": [
    "依然TLE"
   ]
  },
  {
   "cell_type": "code",
   "execution_count": 53,
   "metadata": {},
   "outputs": [],
   "source": [
    "class Solution:\n",
    "    def minAreaRect(self, pts) -> int:\n",
    "        from collections import defaultdict\n",
    "        res = INF = float('inf')\n",
    "        area, N = defaultdict(lambda: INF), len(pts)\n",
    "\n",
    "        # 记录左下角, 右上角对应的面积\n",
    "        for i in range(N):\n",
    "            for j in range(jeeeeqqq):\n",
    "                (x1, y1), (x2, y2) = pts[i], pts[j]\n",
    "                area[x1, y1, x2, y2] = max((x2 - x1) * (y2 - y1), 0)\n",
    "                res = min(res, area[x1, y2, x2, y1])\n",
    "        \n",
    "        return 0 if res == INF else res"
   ]
  },
  {
   "cell_type": "code",
   "execution_count": 54,
   "metadata": {},
   "outputs": [
    {
     "ename": "UnboundLocalError",
     "evalue": "local variable 'j' referenced before assignment",
     "output_type": "error",
     "traceback": [
      "\u001b[0;31m---------------------------------------------------------------------------\u001b[0m",
      "\u001b[0;31mUnboundLocalError\u001b[0m                         Traceback (most recent call last)",
      "\u001b[0;32m<ipython-input-54-d3dc18a994d0>\u001b[0m in \u001b[0;36m<module>\u001b[0;34m\u001b[0m\n\u001b[0;32m----> 1\u001b[0;31m \u001b[0mSolution\u001b[0m\u001b[0;34m(\u001b[0m\u001b[0;34m)\u001b[0m\u001b[0;34m.\u001b[0m\u001b[0mminAreaRect\u001b[0m\u001b[0;34m(\u001b[0m\u001b[0;34m[\u001b[0m\u001b[0;34m[\u001b[0m\u001b[0;36m1\u001b[0m\u001b[0;34m,\u001b[0m\u001b[0;36m1\u001b[0m\u001b[0;34m]\u001b[0m\u001b[0;34m,\u001b[0m\u001b[0;34m[\u001b[0m\u001b[0;36m1\u001b[0m\u001b[0;34m,\u001b[0m\u001b[0;36m3\u001b[0m\u001b[0;34m]\u001b[0m\u001b[0;34m,\u001b[0m\u001b[0;34m[\u001b[0m\u001b[0;36m3\u001b[0m\u001b[0;34m,\u001b[0m\u001b[0;36m1\u001b[0m\u001b[0;34m]\u001b[0m\u001b[0;34m,\u001b[0m\u001b[0;34m[\u001b[0m\u001b[0;36m3\u001b[0m\u001b[0;34m,\u001b[0m\u001b[0;36m3\u001b[0m\u001b[0;34m]\u001b[0m\u001b[0;34m,\u001b[0m\u001b[0;34m[\u001b[0m\u001b[0;36m2\u001b[0m\u001b[0;34m,\u001b[0m\u001b[0;36m2\u001b[0m\u001b[0;34m]\u001b[0m\u001b[0;34m]\u001b[0m\u001b[0;34m)\u001b[0m\u001b[0;34m\u001b[0m\u001b[0;34m\u001b[0m\u001b[0m\n\u001b[0m",
      "\u001b[0;32m<ipython-input-53-7a50b933c4bc>\u001b[0m in \u001b[0;36mminAreaRect\u001b[0;34m(self, pts)\u001b[0m\n\u001b[1;32m      7\u001b[0m         \u001b[0;31m# 记录左下角, 右上角对应的面积\u001b[0m\u001b[0;34m\u001b[0m\u001b[0;34m\u001b[0m\u001b[0;34m\u001b[0m\u001b[0m\n\u001b[1;32m      8\u001b[0m         \u001b[0;32mfor\u001b[0m \u001b[0mi\u001b[0m \u001b[0;32min\u001b[0m \u001b[0mrange\u001b[0m\u001b[0;34m(\u001b[0m\u001b[0mN\u001b[0m\u001b[0;34m)\u001b[0m\u001b[0;34m:\u001b[0m\u001b[0;34m\u001b[0m\u001b[0;34m\u001b[0m\u001b[0m\n\u001b[0;32m----> 9\u001b[0;31m             \u001b[0;32mfor\u001b[0m \u001b[0mj\u001b[0m \u001b[0;32min\u001b[0m \u001b[0mrange\u001b[0m\u001b[0;34m(\u001b[0m\u001b[0mj\u001b[0m\u001b[0;34m)\u001b[0m\u001b[0;34m:\u001b[0m\u001b[0;34m\u001b[0m\u001b[0;34m\u001b[0m\u001b[0m\n\u001b[0m\u001b[1;32m     10\u001b[0m                 \u001b[0;34m(\u001b[0m\u001b[0mx1\u001b[0m\u001b[0;34m,\u001b[0m \u001b[0my1\u001b[0m\u001b[0;34m)\u001b[0m\u001b[0;34m,\u001b[0m \u001b[0;34m(\u001b[0m\u001b[0mx2\u001b[0m\u001b[0;34m,\u001b[0m \u001b[0my2\u001b[0m\u001b[0;34m)\u001b[0m \u001b[0;34m=\u001b[0m \u001b[0mpts\u001b[0m\u001b[0;34m[\u001b[0m\u001b[0mi\u001b[0m\u001b[0;34m]\u001b[0m\u001b[0;34m,\u001b[0m \u001b[0mpts\u001b[0m\u001b[0;34m[\u001b[0m\u001b[0mj\u001b[0m\u001b[0;34m]\u001b[0m\u001b[0;34m\u001b[0m\u001b[0;34m\u001b[0m\u001b[0m\n\u001b[1;32m     11\u001b[0m                 \u001b[0marea\u001b[0m\u001b[0;34m[\u001b[0m\u001b[0mx1\u001b[0m\u001b[0;34m,\u001b[0m \u001b[0my1\u001b[0m\u001b[0;34m,\u001b[0m \u001b[0mx2\u001b[0m\u001b[0;34m,\u001b[0m \u001b[0my2\u001b[0m\u001b[0;34m]\u001b[0m \u001b[0;34m=\u001b[0m \u001b[0mmax\u001b[0m\u001b[0;34m(\u001b[0m\u001b[0;34m(\u001b[0m\u001b[0mx2\u001b[0m \u001b[0;34m-\u001b[0m \u001b[0mx1\u001b[0m\u001b[0;34m)\u001b[0m \u001b[0;34m*\u001b[0m \u001b[0;34m(\u001b[0m\u001b[0my2\u001b[0m \u001b[0;34m-\u001b[0m \u001b[0my1\u001b[0m\u001b[0;34m)\u001b[0m\u001b[0;34m,\u001b[0m \u001b[0;36m0\u001b[0m\u001b[0;34m)\u001b[0m\u001b[0;34m\u001b[0m\u001b[0;34m\u001b[0m\u001b[0m\n",
      "\u001b[0;31mUnboundLocalError\u001b[0m: local variable 'j' referenced before assignment"
     ]
    }
   ],
   "source": [
    "Solution().minAreaRect([[1,1],[1,3],[3,1],[3,3],[2,2]])"
   ]
  },
  {
   "cell_type": "code",
   "execution_count": 52,
   "metadata": {},
   "outputs": [
    {
     "data": {
      "text/plain": [
       "2"
      ]
     },
     "execution_count": 52,
     "metadata": {},
     "output_type": "execute_result"
    }
   ],
   "source": [
    "Solution().minAreaRect([[1,1],[1,3],[3,1],[3,3],[4,1],[4,3]])"
   ]
  },
  {
   "cell_type": "markdown",
   "metadata": {},
   "source": [
    "Solution的答案，也是$O(N^2)$"
   ]
  },
  {
   "cell_type": "code",
   "execution_count": null,
   "metadata": {},
   "outputs": [],
   "source": [
    "class Solution(object):\n",
    "    def minAreaRect(self, points):\n",
    "        S = set(map(tuple, points))\n",
    "        ans = float('inf')\n",
    "        for j, p2 in enumerate(points):\n",
    "            for i in range(j):\n",
    "                p1 = points[i]\n",
    "                if (p1[0] != p2[0] and p1[1] != p2[1] and\n",
    "                        (p1[0], p2[1]) in S and (p2[0], p1[1]) in S):\n",
    "                    ans = min(ans, abs(p2[0] - p1[0]) * abs(p2[1] - p1[1]))\n",
    "        return ans if ans < float('inf') else 0"
   ]
  }
 ],
 "metadata": {
  "kernelspec": {
   "display_name": "Python 3",
   "language": "python",
   "name": "python3"
  },
  "language_info": {
   "codemirror_mode": {
    "name": "ipython",
    "version": 3
   },
   "file_extension": ".py",
   "mimetype": "text/x-python",
   "name": "python",
   "nbconvert_exporter": "python",
   "pygments_lexer": "ipython3",
   "version": "3.8.1"
  }
 },
 "nbformat": 4,
 "nbformat_minor": 2
}
