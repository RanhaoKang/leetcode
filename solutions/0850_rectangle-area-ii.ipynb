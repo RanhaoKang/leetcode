{
 "cells": [
  {
   "cell_type": "markdown",
   "metadata": {},
   "source": [
    "[850. Rectangle Area II](https://leetcode.com/problems/rectangle-area-ii/)"
   ]
  },
  {
   "cell_type": "code",
   "execution_count": 1,
   "metadata": {},
   "outputs": [],
   "source": [
    "class Node(object):\n",
    "\n",
    "    def __init__(self, x, start, end):\n",
    "        self.start = start\n",
    "        self.end = end\n",
    "        self.cover = x[end] - x[start]\n",
    "        self.total = 0\n",
    "        self.count = 0\n",
    "        self.left = None\n",
    "        self.right = None\n",
    "\n",
    "class NumArray(object):\n",
    "\n",
    "    def __init__(self, x):\n",
    "        self.x_i = {v: i for i, v in enumerate(x)}\n",
    "        self.x = x\n",
    "        def createTree(x, l, r):\n",
    "            if l >= r:\n",
    "                return None\n",
    "            root = Node(x, l, r)\n",
    "            if l + 1 == r:\n",
    "                return root\n",
    "            mid = (l + r) / 2\n",
    "            root.left = createTree(x, l, mid)\n",
    "            root.right = createTree(x, mid, r)\n",
    "            return root\n",
    "        self.root = createTree(x, 0, len(x) - 1)\n",
    "\n",
    "    def update(self, x1, x2, val):\n",
    "        def updateVal(root, i, j):\n",
    "            if root.start == i and root.end == j:\n",
    "                root.count += val\n",
    "            else:\n",
    "                mid = (root.start + root.end) / 2\n",
    "                if i < mid:\n",
    "                    updateVal(root.left, i, min(mid, j))\n",
    "                if mid < j:\n",
    "                    updateVal(root.right, max(mid, i), j)\n",
    "            if root.count > 0:\n",
    "                root.total = root.cover\n",
    "            else:\n",
    "                root.total = (root.left.total if root.left else 0) + (root.right.total if root.right else 0)\n",
    "            return root.total\n",
    "        return updateVal(self.root, self.x_i[x1], self.x_i[x2])\n",
    "    \n",
    "\n",
    "class Solution:\n",
    "    def rectangleArea(self, rectangles):\n",
    "        xs = sorted(set([x for x1, y1, x2, y2 in rectangles for x in [x1, x2]] + [0]))\n",
    "        st = NumArray(xs)\n",
    "        L = []\n",
    "        for x1, y1, x2, y2 in rectangles:\n",
    "            L.append([y1, 1, x1, x2])\n",
    "            L.append([y2, -1, x1, x2])\n",
    "        L.sort()\n",
    "        cur_y = cur_x_sum = area = 0\n",
    "        for y, sig, x1, x2 in L:\n",
    "            area += (y - cur_y) * cur_x_sum\n",
    "            cur_y = y\n",
    "            cur_x_sum = st.update(x1, x2, sig)\n",
    "        return area % (10 ** 9 + 7)"
   ]
  },
  {
   "cell_type": "code",
   "execution_count": null,
   "metadata": {},
   "outputs": [],
   "source": []
  }
 ],
 "metadata": {
  "kernelspec": {
   "display_name": "Python 3",
   "language": "python",
   "name": "python3"
  },
  "language_info": {
   "codemirror_mode": {
    "name": "ipython",
    "version": 3
   },
   "file_extension": ".py",
   "mimetype": "text/x-python",
   "name": "python",
   "nbconvert_exporter": "python",
   "pygments_lexer": "ipython3",
   "version": "3.8.1"
  }
 },
 "nbformat": 4,
 "nbformat_minor": 4
}
