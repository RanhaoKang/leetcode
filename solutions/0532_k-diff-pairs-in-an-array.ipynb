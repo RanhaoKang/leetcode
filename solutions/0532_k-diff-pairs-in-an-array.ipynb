{
 "cells": [
  {
   "cell_type": "markdown",
   "metadata": {},
   "source": [
    "[532. K-diff Pairs in an Array](https://leetcode.com/problems/k-diff-pairs-in-an-array/)"
   ]
  },
  {
   "cell_type": "code",
   "execution_count": 5,
   "metadata": {},
   "outputs": [],
   "source": [
    "class Solution:\n",
    "    def findPairs(self, nums, k: int) -> int:\n",
    "        if k < 0:\n",
    "            return 0\n",
    "        elif k == 0:\n",
    "            from collections import Counter\n",
    "            nums = Counter(nums)\n",
    "            return sum(1 for i in nums if nums[i] > 1)\n",
    "        else:\n",
    "            nums = set(nums)\n",
    "            return sum(1 for i in nums if i + k in nums)"
   ]
  },
  {
   "cell_type": "code",
   "execution_count": 6,
   "metadata": {},
   "outputs": [
    {
     "data": {
      "text/plain": [
       "1"
      ]
     },
     "execution_count": 6,
     "metadata": {},
     "output_type": "execute_result"
    }
   ],
   "source": [
    "Solution().findPairs([1,3,1,5,4], 0)"
   ]
  },
  {
   "cell_type": "code",
   "execution_count": null,
   "metadata": {},
   "outputs": [],
   "source": []
  }
 ],
 "metadata": {
  "kernelspec": {
   "display_name": "Python 3",
   "language": "python",
   "name": "python3"
  },
  "language_info": {
   "codemirror_mode": {
    "name": "ipython",
    "version": 3
   },
   "file_extension": ".py",
   "mimetype": "text/x-python",
   "name": "python",
   "nbconvert_exporter": "python",
   "pygments_lexer": "ipython3",
   "version": "3.8.0b3"
  }
 },
 "nbformat": 4,
 "nbformat_minor": 2
}
