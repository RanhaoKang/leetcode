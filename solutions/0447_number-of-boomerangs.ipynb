{
 "cells": [
  {
   "cell_type": "markdown",
   "metadata": {},
   "source": [
    "[447. Number of Boomerangs](https://leetcode.com/problems/number-of-boomerangs/)"
   ]
  },
  {
   "cell_type": "code",
   "execution_count": 1,
   "metadata": {},
   "outputs": [],
   "source": [
    "class Solution:\n",
    "    def numberOfBoomerangs(self, points) -> int:\n",
    "        from collections import defaultdict\n",
    "        \n",
    "        res = 0\n",
    "        for p in points:\n",
    "            d = defaultdict(int)\n",
    "            for q in points:\n",
    "                f = p[0] - q[0]\n",
    "                s = p[1] - q[1]\n",
    "                d[f*f + s*s] = 1 + d[f*f + s*s]\n",
    "            \n",
    "            for k in d:\n",
    "                res += d[k] * (d[k] - 1)\n",
    "        \n",
    "        return res"
   ]
  },
  {
   "cell_type": "code",
   "execution_count": null,
   "metadata": {},
   "outputs": [],
   "source": []
  }
 ],
 "metadata": {
  "kernelspec": {
   "display_name": "Python 3",
   "language": "python",
   "name": "python3"
  },
  "language_info": {
   "codemirror_mode": {
    "name": "ipython",
    "version": 3
   },
   "file_extension": ".py",
   "mimetype": "text/x-python",
   "name": "python",
   "nbconvert_exporter": "python",
   "pygments_lexer": "ipython3",
   "version": "3.8.0b3"
  }
 },
 "nbformat": 4,
 "nbformat_minor": 2
}
