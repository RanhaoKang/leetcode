{
 "cells": [
  {
   "cell_type": "markdown",
   "metadata": {},
   "source": [
    "[349. Intersection of Two Arrays](https://leetcode.com/problems/intersection-of-two-arrays/)\n",
    "\n",
    "[article](https://leetcode.com/articles/intersection-of-two-arrays/)"
   ]
  },
  {
   "cell_type": "markdown",
   "metadata": {},
   "source": [
    "two sets, 其实判断长度不需要做, 因为转换`set`需要$O(n)$, 遍历`list`需要$O(m)$, `in`需要$O(1)$, 最终都是$O(n + m)$"
   ]
  },
  {
   "cell_type": "code",
   "execution_count": null,
   "metadata": {},
   "outputs": [],
   "source": [
    "class Solution:\n",
    "    def intersection(self, nums1: List[int], nums2: List[int]) -> List[int]:\n",
    "        len1, len2 = len(nums1), len(nums2)\n",
    "        \n",
    "        if len1 > len2:\n",
    "            set_ = set(nums1)\n",
    "            return list(set(i for i in nums2 if i in set_))\n",
    "        else:\n",
    "            set_ = set(nums2)\n",
    "            return list(set(i for i in nums1 if i in set_))"
   ]
  },
  {
   "cell_type": "markdown",
   "metadata": {},
   "source": [
    "内置的intersection, 最坏会到$O(n \\times m)$"
   ]
  },
  {
   "cell_type": "code",
   "execution_count": 2,
   "metadata": {},
   "outputs": [],
   "source": [
    "class Solution:\n",
    "    def intersection(self, nums1, nums2):\n",
    "        \"\"\"\n",
    "        :type nums1: List[int]\n",
    "        :type nums2: List[int]\n",
    "        :rtype: List[int]\n",
    "        \"\"\"\n",
    "        return list(set(nums1) & set(nums2))"
   ]
  },
  {
   "cell_type": "code",
   "execution_count": null,
   "metadata": {},
   "outputs": [],
   "source": []
  }
 ],
 "metadata": {
  "kernelspec": {
   "display_name": "Python 3",
   "language": "python",
   "name": "python3"
  },
  "language_info": {
   "codemirror_mode": {
    "name": "ipython",
    "version": 3
   },
   "file_extension": ".py",
   "mimetype": "text/x-python",
   "name": "python",
   "nbconvert_exporter": "python",
   "pygments_lexer": "ipython3",
   "version": "3.6.7"
  }
 },
 "nbformat": 4,
 "nbformat_minor": 2
}
