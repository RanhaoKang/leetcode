{
 "cells": [
  {
   "cell_type": "markdown",
   "metadata": {},
   "source": [
    "[109. Convert Sorted List to Binary Search Tree](https://leetcode.com/problems/convert-sorted-list-to-binary-search-tree/)"
   ]
  },
  {
   "cell_type": "markdown",
   "metadata": {},
   "source": [
    "1. 找到位于中间的元素\n",
    "2. 该元素作为父节点, 左侧的元素位于左子树, 右侧的元素位于右子树\n",
    "3. 递归调用\n",
    "\n",
    "- 不做链表到顺序表的转换, 每次通过快慢指针找中间元素$O(N/2)$, 二分处理$O(logN)$, 最终时间复杂度$O(NlogN)$\n",
    "- 做转换, 转换需要, 每次通过索引找中间元素$O(1)$, 二分处理$O(logN)$, 最终时间复杂度$O(logN)$"
   ]
  },
  {
   "cell_type": "code",
   "execution_count": null,
   "metadata": {},
   "outputs": [],
   "source": [
    "# Definition for singly-linked list.\n",
    "# class ListNode:\n",
    "#     def __init__(self, x):\n",
    "#         self.val = x\n",
    "#         self.next = None\n",
    "\n",
    "# Definition for a binary tree node.\n",
    "# class TreeNode:\n",
    "#     def __init__(self, x):\n",
    "#         self.val = x\n",
    "#         self.left = None\n",
    "#         self.right = None\n",
    "\n",
    "class Solution:\n",
    "    def linked_list_to_sequence\n",
    "    def sortedListToBST(self, head: 'ListNode') -> 'TreeNode':\n",
    "        pass\n",
    "    \n",
    "    def _solve(self, )"
   ]
  }
 ],
 "metadata": {
  "kernelspec": {
   "display_name": "Python 3",
   "language": "python",
   "name": "python3"
  },
  "language_info": {
   "codemirror_mode": {
    "name": "ipython",
    "version": 3
   },
   "file_extension": ".py",
   "mimetype": "text/x-python",
   "name": "python",
   "nbconvert_exporter": "python",
   "pygments_lexer": "ipython3",
   "version": "3.6.7"
  }
 },
 "nbformat": 4,
 "nbformat_minor": 2
}
