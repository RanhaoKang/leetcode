{
 "cells": [
  {
   "cell_type": "markdown",
   "metadata": {},
   "source": [
    "[109. Convert Sorted List to Binary Search Tree](https://leetcode.com/problems/convert-sorted-list-to-binary-search-tree/)"
   ]
  },
  {
   "cell_type": "markdown",
   "metadata": {},
   "source": [
    "1. 找到位于中间的元素\n",
    "2. 该元素作为父节点, 左侧的元素位于左子树, 右侧的元素位于右子树\n",
    "3. 递归调用\n",
    "\n",
    "- 不做链表到顺序表的转换, 每次通过快慢指针找中间元素$O(N/2)$, 二分处理$O(logN)$, 最终时间复杂度$O(NlogN)$\n",
    "- 做转换, 转换需要$O(N)$, 每次通过索引找中间元素$O(1)$, 二分处理$O(logN)$, 最终时间复杂度$O(N)$"
   ]
  },
  {
   "cell_type": "markdown",
   "metadata": {},
   "source": [
    "BST的中序遍历即是我们的输入链表, 所以以中序构建BST时, 我们只需要单指针one-pass即可"
   ]
  },
  {
   "cell_type": "code",
   "execution_count": 8,
   "metadata": {},
   "outputs": [],
   "source": [
    "# Definition for singly-linked list.\n",
    "# class ListNode:\n",
    "#     def __init__(self, x):\n",
    "#         self.val = x\n",
    "#         self.next = None\n",
    "\n",
    "# Definition for a binary tree node.\n",
    "# class TreeNode:\n",
    "#     def __init__(self, x):\n",
    "#         self.val = x\n",
    "#         self.left = None\n",
    "#         self.right = None\n",
    "\n",
    "class Solution:\n",
    "    def sortedListToBST(self, head: 'ListNode') -> 'TreeNode':\n",
    "\n",
    "        def iterate(p):\n",
    "            while p:\n",
    "                yield p.val\n",
    "                p = p.next\n",
    "\n",
    "        size = len(list(iterate(head)))\n",
    "        iter = iterate(head)\n",
    "        \n",
    "        def solve(l, r):\n",
    "            if l > r:\n",
    "                return None\n",
    "            \n",
    "            m = (l + r) // 2\n",
    "            left = solve(l, m - 1)\n",
    "            \n",
    "            node = TreeNode(next(iter))\n",
    "            node.left = left\n",
    "            node.right = solve(m + 1, r)\n",
    "            return node\n",
    "        \n",
    "        return solve(0, size - 1)"
   ]
  },
  {
   "cell_type": "code",
   "execution_count": 1,
   "metadata": {},
   "outputs": [],
   "source": [
    "from itertools import count"
   ]
  },
  {
   "cell_type": "code",
   "execution_count": 3,
   "metadata": {},
   "outputs": [],
   "source": [
    "def iterate(n):\n",
    "    if n > 0:\n",
    "        yield n\n",
    "        yield from iterate(n - 1)"
   ]
  },
  {
   "cell_type": "code",
   "execution_count": 4,
   "metadata": {},
   "outputs": [
    {
     "data": {
      "text/plain": [
       "[10, 9, 8, 7, 6, 5, 4, 3, 2, 1]"
      ]
     },
     "execution_count": 4,
     "metadata": {},
     "output_type": "execute_result"
    }
   ],
   "source": [
    "list(iterate(10))"
   ]
  },
  {
   "cell_type": "code",
   "execution_count": 7,
   "metadata": {},
   "outputs": [
    {
     "data": {
      "text/plain": [
       "(10, 1)"
      ]
     },
     "execution_count": 7,
     "metadata": {},
     "output_type": "execute_result"
    }
   ],
   "source": [
    "next(zip(iterate(10), count(1)))"
   ]
  },
  {
   "cell_type": "code",
   "execution_count": null,
   "metadata": {},
   "outputs": [],
   "source": []
  }
 ],
 "metadata": {
  "kernelspec": {
   "display_name": "Python 3",
   "language": "python",
   "name": "python3"
  },
  "language_info": {
   "codemirror_mode": {
    "name": "ipython",
    "version": 3
   },
   "file_extension": ".py",
   "mimetype": "text/x-python",
   "name": "python",
   "nbconvert_exporter": "python",
   "pygments_lexer": "ipython3",
   "version": "3.6.7"
  }
 },
 "nbformat": 4,
 "nbformat_minor": 2
}
