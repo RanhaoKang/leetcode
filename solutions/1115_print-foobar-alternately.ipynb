{
 "cells": [
  {
   "cell_type": "markdown",
   "metadata": {},
   "source": [
    "[1115. Print FooBar Alternately](https://leetcode.com/problems/print-foobar-alternately/)"
   ]
  },
  {
   "cell_type": "code",
   "execution_count": 1,
   "metadata": {},
   "outputs": [],
   "source": [
    "from threading import Barrier\n",
    "\n",
    "class FooBar:\n",
    "    def __init__(self, n):\n",
    "        self.n = n\n",
    "        self.barrier = Barrier(2)\n",
    "\n",
    "        \n",
    "    def foo(self, printFoo: 'Callable[[], None]') -> None:\n",
    "        for i in range(self.n):\n",
    "            printFoo()\n",
    "            self.barrier.wait()\n",
    "\n",
    "\n",
    "    def bar(self, printBar: 'Callable[[], None]') -> None:\n",
    "        for i in range(self.n):\n",
    "            self.barrier.wait()\n",
    "            printBar()"
   ]
  },
  {
   "cell_type": "code",
   "execution_count": null,
   "metadata": {},
   "outputs": [],
   "source": []
  }
 ],
 "metadata": {
  "kernelspec": {
   "display_name": "Python 3",
   "language": "python",
   "name": "python3"
  },
  "language_info": {
   "codemirror_mode": {
    "name": "ipython",
    "version": 3
   },
   "file_extension": ".py",
   "mimetype": "text/x-python",
   "name": "python",
   "nbconvert_exporter": "python",
   "pygments_lexer": "ipython3",
   "version": "3.8.1"
  }
 },
 "nbformat": 4,
 "nbformat_minor": 4
}
