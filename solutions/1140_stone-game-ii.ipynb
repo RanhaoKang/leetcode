{
 "cells": [
  {
   "cell_type": "markdown",
   "metadata": {},
   "source": [
    "[1140. Stone Game II](https://leetcode.com/problems/stone-game-ii/)"
   ]
  },
  {
   "cell_type": "markdown",
   "metadata": {},
   "source": [
    "最原始版本"
   ]
  },
  {
   "cell_type": "code",
   "execution_count": 10,
   "metadata": {},
   "outputs": [],
   "source": [
    "class Solution:\n",
    "    def stoneGameII(self, piles) -> int:\n",
    "        from functools import lru_cache\n",
    "        @lru_cache(None)\n",
    "        def dp(i = 0, m = 1):\n",
    "            # dp(i, m): piles[i:], M = m\n",
    "            if  i >= len(piles):\n",
    "                return 0\n",
    "            return max(sum(piles[i: i + x]) + dp(i + x, max(m, x)) for x in range(1, 2 * m + 1))\n",
    "        \n",
    "        return dp()"
   ]
  },
  {
   "cell_type": "markdown",
   "metadata": {},
   "source": [
    "- 发现`sum`存在重复计算，改为累加数组\n",
    "- 意识到这是两个人的游戏"
   ]
  },
  {
   "cell_type": "code",
   "execution_count": 16,
   "metadata": {},
   "outputs": [],
   "source": [
    "class Solution:\n",
    "    def stoneGameII(self, A) -> int:\n",
    "        N = len(A)\n",
    "        for i in range(N - 2, -1, -1):\n",
    "            A[i] += A[i + 1]\n",
    "        from functools import lru_cache\n",
    "        @lru_cache(None)\n",
    "        def dp(i, m):\n",
    "            if i + 2 * m >= N:\n",
    "                return A[i]\n",
    "            return A[i] - min(dp(i + x, max(m, x)) for x in range(1, 2 * m + 1))\n",
    "        return dp(0, 1)"
   ]
  },
  {
   "cell_type": "code",
   "execution_count": null,
   "metadata": {},
   "outputs": [],
   "source": []
  }
 ],
 "metadata": {
  "kernelspec": {
   "display_name": "Python 3",
   "language": "python",
   "name": "python3"
  },
  "language_info": {
   "codemirror_mode": {
    "name": "ipython",
    "version": 3
   },
   "file_extension": ".py",
   "mimetype": "text/x-python",
   "name": "python",
   "nbconvert_exporter": "python",
   "pygments_lexer": "ipython3",
   "version": "3.8.1"
  }
 },
 "nbformat": 4,
 "nbformat_minor": 4
}
