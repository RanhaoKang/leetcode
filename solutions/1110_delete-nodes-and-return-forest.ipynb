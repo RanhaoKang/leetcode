{
 "cells": [
  {
   "cell_type": "markdown",
   "metadata": {},
   "source": [
    "[1110. Delete Nodes And Return Forest](https://leetcode.com/problems/delete-nodes-and-return-forest/)"
   ]
  },
  {
   "cell_type": "markdown",
   "metadata": {},
   "source": [
    "如果Python支持匿名函数就好了"
   ]
  },
  {
   "cell_type": "code",
   "execution_count": 87,
   "metadata": {},
   "outputs": [],
   "source": [
    "# Definition for a binary tree node.\n",
    "class TreeNode:\n",
    "    def __init__(self, x):\n",
    "        self.val = x\n",
    "        self.left = None\n",
    "        self.right = None\n",
    "\n",
    "class Solution:\n",
    "    def delNodes(self, root: TreeNode, to_delete):\n",
    "        \n",
    "        def solve(node, f):\n",
    "            if not node:\n",
    "                return\n",
    "\n",
    "            if node.val in to_delete:\n",
    "                f()\n",
    "                res.add(node.left)\n",
    "                res.add(node.right)\n",
    "\n",
    "            def f():\n",
    "                if node.left in res:\n",
    "                    res.remove(node.left)\n",
    "                node.left = None\n",
    "            solve(node.left, f)\n",
    "            \n",
    "            def f():\n",
    "                if node.right in res:\n",
    "                    res.remove(node.right)\n",
    "                node.right = None\n",
    "            solve(node.right, f)\n",
    "\n",
    "        to_delete = set(to_delete)\n",
    "        res = {root}\n",
    "        def f():\n",
    "            res.remove(root)\n",
    "        solve(root, f)\n",
    "        if None in res:\n",
    "            res.remove(None)\n",
    "        \n",
    "        return list(res)"
   ]
  },
  {
   "cell_type": "code",
   "execution_count": 88,
   "metadata": {},
   "outputs": [],
   "source": [
    "p = TreeNode(1)\n",
    "p.left = TreeNode(2)\n",
    "p.right = TreeNode(3)\n",
    "p.left.left = TreeNode(4)\n",
    "p.left.right = TreeNode(5)\n",
    "p.right.left = TreeNode(4)\n",
    "p.right.right = TreeNode(5)"
   ]
  },
  {
   "cell_type": "code",
   "execution_count": 89,
   "metadata": {
    "scrolled": true
   },
   "outputs": [
    {
     "data": {
      "text/plain": [
       "[<__main__.TreeNode at 0x11435e048>, <__main__.TreeNode at 0x1142057f0>]"
      ]
     },
     "execution_count": 89,
     "metadata": {},
     "output_type": "execute_result"
    }
   ],
   "source": [
    "Solution().delNodes(p, [3, 5])"
   ]
  },
  {
   "cell_type": "code",
   "execution_count": null,
   "metadata": {},
   "outputs": [],
   "source": []
  }
 ],
 "metadata": {
  "kernelspec": {
   "display_name": "Python 3",
   "language": "python",
   "name": "python3"
  },
  "language_info": {
   "codemirror_mode": {
    "name": "ipython",
    "version": 3
   },
   "file_extension": ".py",
   "mimetype": "text/x-python",
   "name": "python",
   "nbconvert_exporter": "python",
   "pygments_lexer": "ipython3",
   "version": "3.8.1"
  }
 },
 "nbformat": 4,
 "nbformat_minor": 2
}
