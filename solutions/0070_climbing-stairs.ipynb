{
 "cells": [
  {
   "cell_type": "markdown",
   "metadata": {},
   "source": [
    "[70. Climbing Stairs](https://leetcode.com/problems/climbing-stairs/)"
   ]
  },
  {
   "cell_type": "markdown",
   "metadata": {},
   "source": [
    "竟然TLE了"
   ]
  },
  {
   "cell_type": "code",
   "execution_count": 5,
   "metadata": {},
   "outputs": [],
   "source": [
    "class Solution:\n",
    "    def climbStairs(self, n: int) -> int:\n",
    "        \n",
    "        def solve(n, path = []):\n",
    "            \n",
    "            if n == 0:\n",
    "                yield path\n",
    "            elif n > 0:\n",
    "                yield from solve(n - 1, path + [1])\n",
    "                yield from solve(n - 2, path + [2])\n",
    "        \n",
    "        return len(list(solve(n)))"
   ]
  },
  {
   "cell_type": "markdown",
   "metadata": {},
   "source": [
    "有点像DP"
   ]
  },
  {
   "cell_type": "code",
   "execution_count": 6,
   "metadata": {},
   "outputs": [],
   "source": [
    "class Solution:\n",
    "    def climbStairs(self, n: int) -> int:\n",
    "        if n == 1:\n",
    "            return 1\n",
    "        res = [0] * n\n",
    "        # 爬1层有1种方法, 爬2层有两种方法\n",
    "        res[0], res[1] = 1, 2\n",
    "        for i in range(2, n):\n",
    "            # 爬到i层可能是从i-1层爬了2层来的, 也可能是从i-2层爬了2层来的\n",
    "            res[i] = res[i - 1] + res[i - 2]\n",
    "        return res[-1]"
   ]
  },
  {
   "cell_type": "code",
   "execution_count": null,
   "metadata": {},
   "outputs": [],
   "source": []
  }
 ],
 "metadata": {
  "kernelspec": {
   "display_name": "Python 3",
   "language": "python",
   "name": "python3"
  },
  "language_info": {
   "codemirror_mode": {
    "name": "ipython",
    "version": 3
   },
   "file_extension": ".py",
   "mimetype": "text/x-python",
   "name": "python",
   "nbconvert_exporter": "python",
   "pygments_lexer": "ipython3",
   "version": "3.6.7"
  }
 },
 "nbformat": 4,
 "nbformat_minor": 2
}
