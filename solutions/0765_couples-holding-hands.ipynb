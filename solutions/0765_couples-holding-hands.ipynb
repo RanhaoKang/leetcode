{
 "cells": [
  {
   "cell_type": "markdown",
   "metadata": {},
   "source": [
    "[765. Couples Holding Hands](https://leetcode.com/problems/couples-holding-hands/)"
   ]
  },
  {
   "cell_type": "code",
   "execution_count": 2,
   "metadata": {},
   "outputs": [],
   "source": [
    "class Solution:\n",
    "    def minSwapsCouples(self, row) -> int:\n",
    "        N = len(row)\n",
    "        d = [0] * N\n",
    "        \n",
    "        def find(a):\n",
    "            if d[a] != a:\n",
    "                d[a] = find(d[a])\n",
    "            return d[a]\n",
    "    \n",
    "        def union(a,b):\n",
    "            d[find(a)] = find(b)\n",
    "        \n",
    "        # Initialize DS\n",
    "        for i in range(0, N, 2):\n",
    "            d[i] = d[i+1] = i\n",
    "        \n",
    "        # Union find\n",
    "        for i in range(0, N, 2):    \n",
    "            union(row[i], row[i+1])\n",
    "        \n",
    "        # Total sets - available sets\n",
    "        return N // 2 - sum(i == d[i] == d[i+1] for i in range(0, N, 2))"
   ]
  },
  {
   "cell_type": "code",
   "execution_count": null,
   "metadata": {},
   "outputs": [],
   "source": []
  }
 ],
 "metadata": {
  "kernelspec": {
   "display_name": "Python 3",
   "language": "python",
   "name": "python3"
  },
  "language_info": {
   "codemirror_mode": {
    "name": "ipython",
    "version": 3
   },
   "file_extension": ".py",
   "mimetype": "text/x-python",
   "name": "python",
   "nbconvert_exporter": "python",
   "pygments_lexer": "ipython3",
   "version": "3.8.1"
  }
 },
 "nbformat": 4,
 "nbformat_minor": 4
}
