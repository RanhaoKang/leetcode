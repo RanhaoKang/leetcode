{
 "cells": [
  {
   "cell_type": "markdown",
   "metadata": {},
   "source": [
    "[1423. Maximum Points You Can Obtain from Cards](https://leetcode.com/problems/maximum-points-you-can-obtain-from-cards/)"
   ]
  },
  {
   "cell_type": "markdown",
   "metadata": {},
   "source": [
    "- 全头\n",
    "- 全尾\n",
    "- 一部分选头，一部分选尾\n",
    "\n",
    "三种情况中「未被选取」的部分总是连续的，所以转换最大问题为最小可以简化代码\n",
    "\n",
    "剩下的就是$O(N)$看看最小值为多少即可，套一下滑动窗口的模板（也不是滑动窗口了而是固定窗口，更简单）"
   ]
  },
  {
   "cell_type": "code",
   "execution_count": 56,
   "metadata": {},
   "outputs": [],
   "source": [
    "class Solution:\n",
    "    def maxScore(self, A, k: int) -> int:\n",
    "        total, N = sum(A), len(A)\n",
    "        cur = res = sum(A[:N - k])\n",
    "        \n",
    "        for i in range(N - k, N):\n",
    "            cur += A[i] - A[i - N + k]\n",
    "            res = min(res, cur)\n",
    "        \n",
    "        return total - res"
   ]
  },
  {
   "cell_type": "code",
   "execution_count": 57,
   "metadata": {},
   "outputs": [
    {
     "data": {
      "text/plain": [
       "1"
      ]
     },
     "execution_count": 57,
     "metadata": {},
     "output_type": "execute_result"
    }
   ],
   "source": [
    "Solution().maxScore([1, 1000, 1], 1)"
   ]
  },
  {
   "cell_type": "markdown",
   "metadata": {},
   "source": [
    "发现头尾双指针的代码也挺好写的，为什么比我的快！"
   ]
  },
  {
   "cell_type": "code",
   "execution_count": null,
   "metadata": {},
   "outputs": [],
   "source": [
    "class Solution:\n",
    "    def maxScore(self, cardPoints: List[int], k: int) -> int:\n",
    "        i = k - 1\n",
    "        j = len(cardPoints)-1\n",
    "        ans = sum(cardPoints[:k])\n",
    "        cur = ans\n",
    "        while(i>=0):\n",
    "            cur -= cardPoints[i]\n",
    "            cur += cardPoints[j]\n",
    "            i -= 1\n",
    "            j -= 1\n",
    "            ans = max(ans, cur)\n",
    "        return ans"
   ]
  },
  {
   "cell_type": "markdown",
   "metadata": {},
   "source": [
    "discuss发现有用模拟 + DP的，自己试了下TLE/MLE了"
   ]
  },
  {
   "cell_type": "code",
   "execution_count": null,
   "metadata": {},
   "outputs": [],
   "source": []
  }
 ],
 "metadata": {
  "kernelspec": {
   "display_name": "Python 3",
   "language": "python",
   "name": "python3"
  },
  "language_info": {
   "codemirror_mode": {
    "name": "ipython",
    "version": 3
   },
   "file_extension": ".py",
   "mimetype": "text/x-python",
   "name": "python",
   "nbconvert_exporter": "python",
   "pygments_lexer": "ipython3",
   "version": "3.8.0b3"
  }
 },
 "nbformat": 4,
 "nbformat_minor": 2
}
