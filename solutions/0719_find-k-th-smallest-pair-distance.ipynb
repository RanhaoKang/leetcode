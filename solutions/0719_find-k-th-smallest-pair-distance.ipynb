{
 "cells": [
  {
   "cell_type": "markdown",
   "metadata": {},
   "source": [
    "[719. Find K-th Smallest Pair Distance](https://leetcode.com/problems/find-k-th-smallest-pair-distance/)"
   ]
  },
  {
   "cell_type": "code",
   "execution_count": 2,
   "metadata": {},
   "outputs": [],
   "source": [
    "class Solution:\n",
    "    def smallestDistancePair(self, nums, k: int) -> int:\n",
    "        def enough(x):\n",
    "            cnt = l = 0\n",
    "            for r, i in enumerate(nums):\n",
    "                while i - nums[l] > x:\n",
    "                    l += 1\n",
    "                cnt += r - l\n",
    "\n",
    "            return cnt >= k\n",
    "\n",
    "        \n",
    "        nums.sort()\n",
    "        lo, hi = 0, nums[-1] - nums[0]\n",
    "        while lo < hi:\n",
    "            mi = (lo + hi) // 2\n",
    "            if enough(mi):\n",
    "                hi = mi\n",
    "            else:\n",
    "                lo = mi + 1\n",
    "\n",
    "        return lo"
   ]
  },
  {
   "cell_type": "code",
   "execution_count": null,
   "metadata": {},
   "outputs": [],
   "source": []
  }
 ],
 "metadata": {
  "kernelspec": {
   "display_name": "Python 3",
   "language": "python",
   "name": "python3"
  },
  "language_info": {
   "codemirror_mode": {
    "name": "ipython",
    "version": 3
   },
   "file_extension": ".py",
   "mimetype": "text/x-python",
   "name": "python",
   "nbconvert_exporter": "python",
   "pygments_lexer": "ipython3",
   "version": "3.6.7"
  }
 },
 "nbformat": 4,
 "nbformat_minor": 2
}
