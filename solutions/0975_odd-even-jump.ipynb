{
 "cells": [
  {
   "cell_type": "markdown",
   "metadata": {},
   "source": [
    "[975. Odd Even Jump](https://leetcode.com/problems/odd-even-jump/)"
   ]
  },
  {
   "cell_type": "markdown",
   "metadata": {},
   "source": [
    "在`A[i]`处跳跃\n",
    "- 奇数次跳跃会跳到大于等于`A[i]`的数中最小的一个\n",
    "- 偶数次跳跃会跳到小于等于`A[i]`的数中最大的一个\n",
    "\n",
    "返回能跳到`A[-1]`的起点个数"
   ]
  },
  {
   "cell_type": "markdown",
   "metadata": {},
   "source": [
    "自己想到了从右向左去找，但是没意识到higher first和lower first查找的复杂性，这里使用单调栈先构建出对应的数组，然后模拟跳跃就好了。\n",
    "\n",
    "另一个学到的是，Python可以这样写数组的从右向左遍历，比较直观：`range(10)[::-1]`"
   ]
  },
  {
   "cell_type": "code",
   "execution_count": 7,
   "metadata": {},
   "outputs": [],
   "source": [
    "class Solution:\n",
    "    def oddEvenJumps(self, A) -> int:\n",
    "        N = len(A)\n",
    "        next_higher, next_lower = [0] * N, [0] * N\n",
    "        \n",
    "        # 单调栈为每个元素找到下一个higher first和lower first\n",
    "        stack = []\n",
    "        for a, i in sorted([a, i] for i, a in enumerate(A)):\n",
    "            while stack and stack[-1] < i:\n",
    "                next_higher[stack.pop()] = i\n",
    "            stack.append(i)\n",
    "\n",
    "        stack = []\n",
    "        for a, i in sorted([-a, i] for i, a in enumerate(A)):\n",
    "            while stack and stack[-1] < i:\n",
    "                next_lower[stack.pop()] = i\n",
    "            stack.append(i)\n",
    "        \n",
    "        higher, lower = [0] * N, [0] * N\n",
    "        higher[-1] = lower[-1] = 1 # 最后一个点算作一种解\n",
    "        for i in range(N - 1)[::-1]:\n",
    "            higher[i] = lower[next_higher[i]]\n",
    "            lower[i] = higher[next_lower[i]]\n",
    "        \n",
    "        return sum(higher)"
   ]
  },
  {
   "cell_type": "code",
   "execution_count": null,
   "metadata": {},
   "outputs": [],
   "source": []
  }
 ],
 "metadata": {
  "kernelspec": {
   "display_name": "Python 3",
   "language": "python",
   "name": "python3"
  },
  "language_info": {
   "codemirror_mode": {
    "name": "ipython",
    "version": 3
   },
   "file_extension": ".py",
   "mimetype": "text/x-python",
   "name": "python",
   "nbconvert_exporter": "python",
   "pygments_lexer": "ipython3",
   "version": "3.8.0b3"
  }
 },
 "nbformat": 4,
 "nbformat_minor": 2
}
