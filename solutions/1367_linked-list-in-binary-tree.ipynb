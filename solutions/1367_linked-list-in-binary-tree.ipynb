{
 "cells": [
  {
   "cell_type": "markdown",
   "metadata": {},
   "source": [
    "[1367. Linked List in Binary Tree](https://leetcode.com/problems/linked-list-in-binary-tree/)"
   ]
  },
  {
   "cell_type": "markdown",
   "metadata": {},
   "source": [
    "DFS的BruteForce, TLE"
   ]
  },
  {
   "cell_type": "code",
   "execution_count": 13,
   "metadata": {},
   "outputs": [],
   "source": [
    "# Definition for singly-linked list.\n",
    "class ListNode:\n",
    "    def __init__(self, x):\n",
    "        self.val = x\n",
    "        self.next = None\n",
    "\n",
    "# Definition for a binary tree node.\n",
    "class TreeNode:\n",
    "    def __init__(self, x):\n",
    "        self.val = x\n",
    "        self.left = None\n",
    "        self.right = None\n",
    "\n",
    "class Solution:\n",
    "    def isSubPath(self, head: ListNode, root: TreeNode) -> bool:\n",
    "        \n",
    "        # p: ListNode\n",
    "        # q: TreeNode\n",
    "        def dfs(p, q):\n",
    "            if p and q:\n",
    "                return ((p.val == q.val and \n",
    "                    (dfs(p.next, q.left) or dfs(p.next, q.right))) or\n",
    "                    dfs(p, q.left) or\n",
    "                    dfs(p, q.right))\n",
    "            else:\n",
    "                return p is None\n",
    "            \n",
    "        \n",
    "        return dfs(head, root)"
   ]
  },
  {
   "cell_type": "code",
   "execution_count": 14,
   "metadata": {},
   "outputs": [
    {
     "data": {
      "text/plain": [
       "False"
      ]
     },
     "execution_count": 14,
     "metadata": {},
     "output_type": "execute_result"
    }
   ],
   "source": [
    "import utils\n",
    "p = utils.linkedlist([1,4,2,6,8])\n",
    "q = TreeNode(1)\n",
    "q.right = TreeNode(4)\n",
    "q.right.left = TreeNode(2)\n",
    "q.right.left.left = TreeNode(6)\n",
    "q.right.left.right = TreeNode(8)\n",
    "\n",
    "Solution().isSubPath(p, q)"
   ]
  },
  {
   "cell_type": "code",
   "execution_count": 16,
   "metadata": {},
   "outputs": [
    {
     "name": "stdout",
     "output_type": "stream",
     "text": [
      "False\n",
      "False\n",
      "True\n",
      "True\n"
     ]
    },
    {
     "data": {
      "text/plain": [
       "False"
      ]
     },
     "execution_count": 16,
     "metadata": {},
     "output_type": "execute_result"
    }
   ],
   "source": [
    "def f():\n",
    "    print('False')\n",
    "    \n",
    "def g():\n",
    "    print('True')\n",
    "    \n",
    "any((f(), f(), g(), g()))"
   ]
  },
  {
   "cell_type": "markdown",
   "metadata": {},
   "source": [
    "抄了个"
   ]
  },
  {
   "cell_type": "code",
   "execution_count": 17,
   "metadata": {},
   "outputs": [],
   "source": [
    "class Solution:\n",
    "    def isSubPath(self, head: ListNode, root: TreeNode) -> bool:\n",
    "        res = []\n",
    "        while head:\n",
    "            res.append(str(head.val))\n",
    "            head = head.next\n",
    "        head = \"\".join(res)\n",
    "    \n",
    "        def dfs(root, path):\n",
    "            if head in path:\n",
    "                return True\n",
    "            if not root:\n",
    "                return False\n",
    "            return dfs(root.left, path+str(root.val)) or dfs(root.right, path+str(root.val))\n",
    "            \n",
    "        return dfs(root, \"\")"
   ]
  },
  {
   "cell_type": "code",
   "execution_count": null,
   "metadata": {},
   "outputs": [],
   "source": []
  }
 ],
 "metadata": {
  "kernelspec": {
   "display_name": "Python 3",
   "language": "python",
   "name": "python3"
  },
  "language_info": {
   "codemirror_mode": {
    "name": "ipython",
    "version": 3
   },
   "file_extension": ".py",
   "mimetype": "text/x-python",
   "name": "python",
   "nbconvert_exporter": "python",
   "pygments_lexer": "ipython3",
   "version": "3.8.1"
  }
 },
 "nbformat": 4,
 "nbformat_minor": 4
}
