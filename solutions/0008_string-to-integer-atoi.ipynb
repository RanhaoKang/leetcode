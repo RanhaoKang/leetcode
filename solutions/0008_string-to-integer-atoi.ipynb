{
 "cells": [
  {
   "cell_type": "markdown",
   "metadata": {},
   "source": [
    "[8. String to Integer (atoi)](https://leetcode.com/problems/string-to-integer-atoi/)"
   ]
  },
  {
   "cell_type": "code",
   "execution_count": 1,
   "metadata": {},
   "outputs": [],
   "source": [
    "class Solution:\n",
    "    def myAtoi(self, str: str) -> int:\n",
    "        num, sign = 0, 1\n",
    "        has_sign = False\n",
    "        \n",
    "        for char in str:\n",
    "            if has_sign and char in '+-':\n",
    "                break\n",
    "            if char == ' ':\n",
    "                continue\n",
    "            elif char == '+':\n",
    "                has_sign = True\n",
    "            elif char == '-':\n",
    "                sign *= -1\n",
    "                has_sign = True\n",
    "            elif '0' <= char <= '9':\n",
    "                num = num * 10 + ord(char) - 48\n",
    "            else:\n",
    "                break\n",
    "        \n",
    "        num *= sign\n",
    "        MAX = int(2 ** 31 - 1)\n",
    "        MIN = int(- 2 ** 31)\n",
    "        if num > MAX:\n",
    "            return MAX\n",
    "        elif num < MIN:\n",
    "            return MIN\n",
    "        else:\n",
    "            return num"
   ]
  },
  {
   "cell_type": "code",
   "execution_count": 6,
   "metadata": {},
   "outputs": [
    {
     "ename": "SyntaxError",
     "evalue": "invalid syntax (<ipython-input-6-f6d5d3f0991c>, line 9)",
     "output_type": "error",
     "traceback": [
      "\u001b[0;36m  File \u001b[0;32m\"<ipython-input-6-f6d5d3f0991c>\"\u001b[0;36m, line \u001b[0;32m9\u001b[0m\n\u001b[0;31m    if res\u001b[0m\n\u001b[0m          ^\u001b[0m\n\u001b[0;31mSyntaxError\u001b[0m\u001b[0;31m:\u001b[0m invalid syntax\n"
     ]
    }
   ],
   "source": [
    "class Solution:\n",
    "    # @return an integer\n",
    "    def atoi(self, str):\n",
    "        str = str.strip()\n",
    "        str = re.findall('(^[\\+\\-0]*\\d+)\\D*', str)\n",
    "\n",
    "        try:\n",
    "            result = int(''.join(str))\n",
    "            MAX_INT = 2147483647\n",
    "            MIN_INT = -2147483648\n",
    "            if result > MAX_INT > 0:\n",
    "                return MAX_INT\n",
    "            elif result < MIN_INT < 0:\n",
    "                return MIN_INT\n",
    "            else:\n",
    "                return result\n",
    "        except:\n",
    "            return 0"
   ]
  },
  {
   "cell_type": "code",
   "execution_count": null,
   "metadata": {},
   "outputs": [],
   "source": []
  }
 ],
 "metadata": {
  "kernelspec": {
   "display_name": "Python 3",
   "language": "python",
   "name": "python3"
  },
  "language_info": {
   "codemirror_mode": {
    "name": "ipython",
    "version": 3
   },
   "file_extension": ".py",
   "mimetype": "text/x-python",
   "name": "python",
   "nbconvert_exporter": "python",
   "pygments_lexer": "ipython3",
   "version": "3.6.7"
  }
 },
 "nbformat": 4,
 "nbformat_minor": 2
}
