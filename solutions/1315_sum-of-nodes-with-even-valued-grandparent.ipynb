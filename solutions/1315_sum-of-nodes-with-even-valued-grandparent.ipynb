{
 "cells": [
  {
   "cell_type": "markdown",
   "metadata": {},
   "source": [
    "[1315. Sum of Nodes with Even-Valued Grandparent](https://leetcode.com/problems/sum-of-nodes-with-even-valued-grandparent/)"
   ]
  },
  {
   "cell_type": "markdown",
   "metadata": {},
   "source": [
    "使用`yield`, 168ms"
   ]
  },
  {
   "cell_type": "code",
   "execution_count": 18,
   "metadata": {},
   "outputs": [],
   "source": [
    "# Definition for a binary tree node.\n",
    "class TreeNode:\n",
    "    def __init__(self, x):\n",
    "        self.val = x\n",
    "        self.left = None\n",
    "        self.right = None\n",
    "\n",
    "class Solution:\n",
    "    def sumEvenGrandparent(self, root: TreeNode) -> int:\n",
    "        def solve(p, parent = False, grandparent = False):\n",
    "            if p:\n",
    "                if grandparent:\n",
    "                    yield p.val\n",
    "                new_parent = p.val % 2 == 0\n",
    "                yield from solve(p.left, new_parent, parent)\n",
    "                yield from solve(p.right, new_parent, parent)\n",
    "        \n",
    "        return sum(solve(root))"
   ]
  },
  {
   "cell_type": "code",
   "execution_count": 23,
   "metadata": {},
   "outputs": [
    {
     "data": {
      "text/plain": [
       "18"
      ]
     },
     "execution_count": 23,
     "metadata": {},
     "output_type": "execute_result"
    }
   ],
   "source": [
    "p = TreeNode(6)\n",
    "p.left = TreeNode(7)\n",
    "p.right = TreeNode(8)\n",
    "p.left.left = TreeNode(2)\n",
    "p.left.right = TreeNode(7)\n",
    "p.left.left.left = TreeNode(9)\n",
    "p.left.right.left = TreeNode(1)\n",
    "p.left.right.right = TreeNode(4)\n",
    "p.right.left = TreeNode(1)\n",
    "p.right.right = TreeNode(3)\n",
    "p.right.right.right = TreeNode(5)\n",
    "\n",
    "Solution().sumEvenGrandparent(p)"
   ]
  },
  {
   "cell_type": "markdown",
   "metadata": {},
   "source": [
    "不用`yield`, 100ms"
   ]
  },
  {
   "cell_type": "code",
   "execution_count": 22,
   "metadata": {},
   "outputs": [],
   "source": [
    "class Solution:\n",
    "    def sumEvenGrandparent(self, root: TreeNode) -> int:\n",
    "        def solve(p, parent = False, grandparent = False):\n",
    "            if p:\n",
    "                new_parent = p.val % 2 == 0\n",
    "                return (p.val if grandparent else 0) + solve(p.left, new_parent, parent) + solve(p.right, new_parent, parent)\n",
    "            else:\n",
    "                return 0\n",
    "        \n",
    "        return solve(root)"
   ]
  }
 ],
 "metadata": {
  "kernelspec": {
   "display_name": "Python 3",
   "language": "python",
   "name": "python3"
  },
  "language_info": {
   "codemirror_mode": {
    "name": "ipython",
    "version": 3
   },
   "file_extension": ".py",
   "mimetype": "text/x-python",
   "name": "python",
   "nbconvert_exporter": "python",
   "pygments_lexer": "ipython3",
   "version": "3.8.1"
  }
 },
 "nbformat": 4,
 "nbformat_minor": 2
}
