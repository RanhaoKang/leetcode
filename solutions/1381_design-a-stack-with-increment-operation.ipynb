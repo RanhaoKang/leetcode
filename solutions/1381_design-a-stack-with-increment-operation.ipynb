{
 "cells": [
  {
   "cell_type": "markdown",
   "metadata": {},
   "source": [
    "[1381. Design a Stack With Increment Operation](https://leetcode.com/problems/design-a-stack-with-increment-operation/)"
   ]
  },
  {
   "cell_type": "code",
   "execution_count": 1,
   "metadata": {},
   "outputs": [],
   "source": [
    "class CustomStack:\n",
    "\n",
    "    def __init__(self, maxSize: int):\n",
    "        self.n = maxSize\n",
    "        self.stack = []\n",
    "        self.inc = [0] * maxSize\n",
    "        \n",
    "\n",
    "    def push(self, x: int) -> None:\n",
    "        if len(self.stack) < self.n:\n",
    "            self.stack.append(x)\n",
    "        \n",
    "\n",
    "    def pop(self) -> int:\n",
    "        i = len(self.stack) - 1\n",
    "        if i < 0:\n",
    "            return -1\n",
    "        inc = self.inc[i]\n",
    "        self.inc[i] = 0\n",
    "        if i: self.inc[i - 1] += inc\n",
    "        return self.stack.pop() + inc\n",
    "        \n",
    "\n",
    "    def increment(self, k: int, val: int) -> None:\n",
    "        i = min(k, len(self.stack)) - 1\n",
    "        if i >= 0:\n",
    "            self.inc[i] += val\n",
    "        \n",
    "\n",
    "\n",
    "# Your CustomStack object will be instantiated and called as such:\n",
    "# obj = CustomStack(maxSize)\n",
    "# obj.push(x)\n",
    "# param_2 = obj.pop()\n",
    "# obj.increment(k,val)"
   ]
  },
  {
   "cell_type": "code",
   "execution_count": null,
   "metadata": {},
   "outputs": [],
   "source": []
  }
 ],
 "metadata": {
  "kernelspec": {
   "display_name": "Python 3",
   "language": "python",
   "name": "python3"
  },
  "language_info": {
   "codemirror_mode": {
    "name": "ipython",
    "version": 3
   },
   "file_extension": ".py",
   "mimetype": "text/x-python",
   "name": "python",
   "nbconvert_exporter": "python",
   "pygments_lexer": "ipython3",
   "version": "3.8.1"
  }
 },
 "nbformat": 4,
 "nbformat_minor": 4
}
