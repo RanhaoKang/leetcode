{
 "cells": [
  {
   "cell_type": "markdown",
   "metadata": {},
   "source": [
    "[1352. Product of the Last K Numbers](https://leetcode.com/problems/product-of-the-last-k-numbers/)"
   ]
  },
  {
   "cell_type": "markdown",
   "metadata": {},
   "source": [
    "初版Prefix，TLE了"
   ]
  },
  {
   "cell_type": "code",
   "execution_count": 6,
   "metadata": {},
   "outputs": [],
   "source": [
    "class ProductOfNumbers:\n",
    "\n",
    "    def __init__(self):\n",
    "        self._l = []\n",
    "\n",
    "\n",
    "    def add(self, num: int) -> None:\n",
    "        self._l = [i * num for i in self._l] + [num]\n",
    "        \n",
    "\n",
    "    def getProduct(self, k: int) -> int:\n",
    "        return self._l[-k]\n",
    "\n",
    "\n",
    "# Your ProductOfNumbers object will be instantiated and called as such:\n",
    "# obj = ProductOfNumbers()\n",
    "# obj.add(num)\n",
    "# param_2 = obj.getProduct(k)"
   ]
  },
  {
   "cell_type": "code",
   "execution_count": 7,
   "metadata": {},
   "outputs": [
    {
     "name": "stdout",
     "output_type": "stream",
     "text": [
      "20\n",
      "40\n",
      "0\n",
      "32\n"
     ]
    }
   ],
   "source": [
    "productOfNumbers = ProductOfNumbers();\n",
    "productOfNumbers.add(3);        # [3]\n",
    "productOfNumbers.add(0);        # [3,0]\n",
    "productOfNumbers.add(2);        # [3,0,2]\n",
    "productOfNumbers.add(5);        # [3,0,2,5]\n",
    "productOfNumbers.add(4);        # [3,0,2,5,4]\n",
    "print(productOfNumbers.getProduct(2)); # return 20. The product of the last 2 numbers is 5 * 4 = 20\n",
    "print(productOfNumbers.getProduct(3)); # return 40. The product of the last 3 numbers is 2 * 5 * 4 = 40\n",
    "print(productOfNumbers.getProduct(4)); # return 0. The product of the last 4 numbers is 0 * 2 * 5 * 4 = 0\n",
    "productOfNumbers.add(8);        # [3,0,2,5,4,8]\n",
    "print(productOfNumbers.getProduct(2)); # return 32. The product of the last 2 numbers is 4 * 8 = 32 "
   ]
  },
  {
   "cell_type": "code",
   "execution_count": 10,
   "metadata": {},
   "outputs": [],
   "source": [
    "class ProductOfNumbers:\n",
    "    def __init__(self):\n",
    "        self.A = [1]\n",
    "\n",
    "    def add(self, a):\n",
    "        if a == 0:\n",
    "            self.A = [1]\n",
    "        else:\n",
    "            self.A.append(self.A[-1] * a)\n",
    "\n",
    "    def getProduct(self, k):\n",
    "        if k >= len(self.A): return 0\n",
    "        return self.A[-1] // self.A[-k - 1]"
   ]
  },
  {
   "cell_type": "code",
   "execution_count": 11,
   "metadata": {},
   "outputs": [
    {
     "name": "stdout",
     "output_type": "stream",
     "text": [
      "20\n",
      "40\n",
      "0\n",
      "32\n"
     ]
    }
   ],
   "source": [
    "productOfNumbers = ProductOfNumbers();\n",
    "productOfNumbers.add(3);        # [3]\n",
    "productOfNumbers.add(0);        # [3,0]\n",
    "productOfNumbers.add(2);        # [3,0,2]\n",
    "productOfNumbers.add(5);        # [3,0,2,5]\n",
    "productOfNumbers.add(4);        # [3,0,2,5,4]\n",
    "print(productOfNumbers.getProduct(2)); # return 20. The product of the last 2 numbers is 5 * 4 = 20\n",
    "print(productOfNumbers.getProduct(3)); # return 40. The product of the last 3 numbers is 2 * 5 * 4 = 40\n",
    "print(productOfNumbers.getProduct(4)); # return 0. The product of the last 4 numbers is 0 * 2 * 5 * 4 = 0\n",
    "productOfNumbers.add(8);        # [3,0,2,5,4,8]\n",
    "print(productOfNumbers.getProduct(2)); # return 32. The product of the last 2 numbers is 4 * 8 = 32 "
   ]
  },
  {
   "cell_type": "code",
   "execution_count": null,
   "metadata": {},
   "outputs": [],
   "source": []
  }
 ],
 "metadata": {
  "kernelspec": {
   "display_name": "Python 3",
   "language": "python",
   "name": "python3"
  },
  "language_info": {
   "codemirror_mode": {
    "name": "ipython",
    "version": 3
   },
   "file_extension": ".py",
   "mimetype": "text/x-python",
   "name": "python",
   "nbconvert_exporter": "python",
   "pygments_lexer": "ipython3",
   "version": "3.8.1"
  }
 },
 "nbformat": 4,
 "nbformat_minor": 4
}
