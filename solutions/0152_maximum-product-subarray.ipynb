{
 "cells": [
  {
   "cell_type": "markdown",
   "metadata": {},
   "source": [
    "[152. Maximum Product Subarray](https://leetcode.com/problems/maximum-product-subarray/)"
   ]
  },
  {
   "cell_type": "markdown",
   "metadata": {},
   "source": [
    "个人想法:\n",
    "- 把list根据0分割开来\n",
    "- 对每个区间, 计算乘积以及左右第一次出现负数时的乘积\n",
    "- 如果最后乘积是正的, 直接返回. 否则跟第二步的两个乘积运算后返回\n",
    "\n",
    "\n",
    "- 第一步直接$O(n)$遍历就可以\n",
    "- 第二步为了记录两端乘积采用头尾双指针, 虽然会繁琐一些, 但是还是$O(n)$\n"
   ]
  },
  {
   "cell_type": "markdown",
   "metadata": {},
   "source": [
    "52ms\n",
    "\n",
    "想到one-pass的思路, 最关键的是记住可能成为最大值的是当前的最大值和最小值"
   ]
  },
  {
   "cell_type": "code",
   "execution_count": 2,
   "metadata": {},
   "outputs": [],
   "source": [
    "class Solution:\n",
    "    def maxProduct(self, nums) -> int:\n",
    "        max_ = min_ = res = nums[0]\n",
    "        \n",
    "        for i in range(1, len(nums)):\n",
    "            if nums[i] < 0:\n",
    "                max_, min_ = min_, max_\n",
    "            \n",
    "            max_ = max(nums[i], max_ * nums[i])\n",
    "            min_ = min(nums[i], min_ * nums[i])\n",
    "            \n",
    "            res = max(res, max_)\n",
    "        \n",
    "        return res"
   ]
  },
  {
   "cell_type": "code",
   "execution_count": null,
   "metadata": {},
   "outputs": [],
   "source": []
  }
 ],
 "metadata": {
  "kernelspec": {
   "display_name": "Python 3",
   "language": "python",
   "name": "python3"
  },
  "language_info": {
   "codemirror_mode": {
    "name": "ipython",
    "version": 3
   },
   "file_extension": ".py",
   "mimetype": "text/x-python",
   "name": "python",
   "nbconvert_exporter": "python",
   "pygments_lexer": "ipython3",
   "version": "3.6.7"
  }
 },
 "nbformat": 4,
 "nbformat_minor": 2
}
