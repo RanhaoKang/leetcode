{
 "cells": [
  {
   "cell_type": "markdown",
   "metadata": {},
   "source": [
    "[486. Predict the Winner](https://leetcode.com/problems/predict-the-winner/)"
   ]
  },
  {
   "cell_type": "markdown",
   "metadata": {},
   "source": [
    "区间DP, Top-down并通过LRU cache简化写memo的操作, 状态转换比较简单, 只有取左取右两种方法, 区间上的最优分差等于两种情况分差的较大者."
   ]
  },
  {
   "cell_type": "code",
   "execution_count": 4,
   "metadata": {},
   "outputs": [],
   "source": [
    "from functools import lru_cache\n",
    "\n",
    "class Solution:\n",
    "    def PredictTheWinner(self, nums) -> bool:\n",
    "        @lru_cache(None)\n",
    "        def dp(s, e):\n",
    "            if s == e:\n",
    "                return nums[s]\n",
    "            # 取左\n",
    "            a = nums[s] - dp(s+1, e)\n",
    "            # 取右\n",
    "            b = nums[e] - dp(s, e-1)\n",
    "            return max(a, b)\n",
    "        \n",
    "        \n",
    "        return dp(0, len(nums) - 1) >= 0"
   ]
  },
  {
   "cell_type": "code",
   "execution_count": null,
   "metadata": {},
   "outputs": [],
   "source": []
  }
 ],
 "metadata": {
  "kernelspec": {
   "display_name": "Python 3",
   "language": "python",
   "name": "python3"
  },
  "language_info": {
   "codemirror_mode": {
    "name": "ipython",
    "version": 3
   },
   "file_extension": ".py",
   "mimetype": "text/x-python",
   "name": "python",
   "nbconvert_exporter": "python",
   "pygments_lexer": "ipython3",
   "version": "3.6.7"
  }
 },
 "nbformat": 4,
 "nbformat_minor": 2
}
