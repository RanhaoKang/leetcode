{
 "cells": [
  {
   "cell_type": "markdown",
   "metadata": {},
   "source": [
    "[1071. Greatest Common Divisor of Strings](https://leetcode.com/problems/greatest-common-divisor-of-strings/)"
   ]
  },
  {
   "cell_type": "code",
   "execution_count": 1,
   "metadata": {},
   "outputs": [],
   "source": [
    "class Solution:\n",
    "    def gcdOfStrings(self, str1: str, str2: str) -> str:\n",
    "        def check(common):\n",
    "            N = len(common)\n",
    "            return N1/N == N1//N and N2/N == N2//N and (N1//N) * common == str1 and (N2//N) * common == str2\n",
    "        \n",
    "        N1, N2 = len(str1), len(str2)\n",
    "        i = 0\n",
    "        \n",
    "        while i < N1 and i < N2 and str1[i] == str2[i]:\n",
    "            i += 1\n",
    "        \n",
    "        common = str1[:i]\n",
    "            \n",
    "        while common:\n",
    "            if check(common):\n",
    "                return common\n",
    "            else:\n",
    "                common = common[:-1]\n",
    "        \n",
    "        return ''"
   ]
  },
  {
   "cell_type": "code",
   "execution_count": null,
   "metadata": {},
   "outputs": [],
   "source": []
  }
 ],
 "metadata": {
  "kernelspec": {
   "display_name": "Python 3",
   "language": "python",
   "name": "python3"
  },
  "language_info": {
   "codemirror_mode": {
    "name": "ipython",
    "version": 3
   },
   "file_extension": ".py",
   "mimetype": "text/x-python",
   "name": "python",
   "nbconvert_exporter": "python",
   "pygments_lexer": "ipython3",
   "version": "3.8.1"
  }
 },
 "nbformat": 4,
 "nbformat_minor": 4
}
