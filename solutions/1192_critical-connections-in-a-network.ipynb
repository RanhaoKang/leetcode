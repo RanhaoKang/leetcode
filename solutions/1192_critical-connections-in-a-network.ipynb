{
 "cells": [
  {
   "cell_type": "markdown",
   "metadata": {},
   "source": [
    "[1192. Critical Connections in a Network](https://leetcode.com/problems/critical-connections-in-a-network/)"
   ]
  },
  {
   "cell_type": "code",
   "execution_count": 1,
   "metadata": {},
   "outputs": [],
   "source": [
    "class Solution:\n",
    "    def criticalConnections(self, n: int, connections):\n",
    "        def makeGraph(connections):\n",
    "            graph = collections.defaultdict(list)\n",
    "            for conn in connections:\n",
    "                graph[conn[0]].append(conn[1])\n",
    "                graph[conn[1]].append(conn[0])\n",
    "            return graph\n",
    "\n",
    "        graph = makeGraph(connections)\n",
    "        connections = set(map(tuple, (map(sorted, connections))))\n",
    "        rank = [-2] * n\n",
    "\n",
    "        def dfs(node, depth):\n",
    "            if rank[node] >= 0:\n",
    "                # visiting (0<=rank<n), or visited (rank=n)\n",
    "                return rank[node]\n",
    "            rank[node] = depth\n",
    "            min_back_depth = n\n",
    "            for neighbor in graph[node]:\n",
    "                if rank[neighbor] == depth - 1:\n",
    "                    continue  # don't immmediately go back to parent. that's why i didn't choose -1 as the special value, in case depth==0.\n",
    "                back_depth = dfs(neighbor, depth + 1)\n",
    "                if back_depth <= depth:\n",
    "                    connections.discard(tuple(sorted((node, neighbor))))\n",
    "                min_back_depth = min(min_back_depth, back_depth)\n",
    "            rank[node] = n  # this line is not necessary. see the \"brain teaser\" section below\n",
    "            return min_back_depth\n",
    "            \n",
    "        dfs(0, 0)  # since this is a connected graph, we don't have to loop over all nodes.\n",
    "        return list(connections)"
   ]
  },
  {
   "cell_type": "code",
   "execution_count": null,
   "metadata": {},
   "outputs": [],
   "source": []
  }
 ],
 "metadata": {
  "kernelspec": {
   "display_name": "Python 3",
   "language": "python",
   "name": "python3"
  },
  "language_info": {
   "codemirror_mode": {
    "name": "ipython",
    "version": 3
   },
   "file_extension": ".py",
   "mimetype": "text/x-python",
   "name": "python",
   "nbconvert_exporter": "python",
   "pygments_lexer": "ipython3",
   "version": "3.8.1"
  }
 },
 "nbformat": 4,
 "nbformat_minor": 4
}
