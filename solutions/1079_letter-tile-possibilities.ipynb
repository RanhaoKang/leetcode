{
 "cells": [
  {
   "cell_type": "markdown",
   "metadata": {},
   "source": [
    "[1079. Letter Tile Possibilities](https://leetcode.com/problems/letter-tile-possibilities/)"
   ]
  },
  {
   "cell_type": "code",
   "execution_count": 11,
   "metadata": {},
   "outputs": [],
   "source": [
    "class Solution:\n",
    "    def numTilePossibilities(self, tiles: str) -> int:\n",
    "        from collections import Counter\n",
    "        from math import factorial, prod\n",
    "        cnt = Counter(tiles)\n",
    "        \n",
    "        res = 0\n",
    "        p = prod(i + 1 for i in cnt.values())\n",
    "        for i in range(1, p):\n",
    "            digits = []\n",
    "            for j in cnt.values():\n",
    "                digits.append(i % (j + 1))\n",
    "                i = i // (j + 1)\n",
    "            tmp = factorial(sum(digits))\n",
    "            for d in digits:\n",
    "                tmp //= factorial(d)\n",
    "            \n",
    "            res += tmp\n",
    "        \n",
    "        return res"
   ]
  }
 ],
 "metadata": {
  "kernelspec": {
   "display_name": "Python 3",
   "language": "python",
   "name": "python3"
  },
  "language_info": {
   "codemirror_mode": {
    "name": "ipython",
    "version": 3
   },
   "file_extension": ".py",
   "mimetype": "text/x-python",
   "name": "python",
   "nbconvert_exporter": "python",
   "pygments_lexer": "ipython3",
   "version": "3.8.0b3"
  }
 },
 "nbformat": 4,
 "nbformat_minor": 2
}
