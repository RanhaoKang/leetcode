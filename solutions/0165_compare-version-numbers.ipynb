{
 "cells": [
  {
   "cell_type": "markdown",
   "metadata": {},
   "source": [
    "[165. Compare Version Numbers](https://leetcode.com/problems/compare-version-numbers/)"
   ]
  },
  {
   "cell_type": "markdown",
   "metadata": {},
   "source": [
    "这类题不知道意义何在, 抄作业了"
   ]
  },
  {
   "cell_type": "code",
   "execution_count": 2,
   "metadata": {},
   "outputs": [],
   "source": [
    "from itertools import zip_longest\n",
    "\n",
    "class Solution:\n",
    "    def compareVersion(self, v1: str, v2: str) -> int:\n",
    "        v1, v2 = map(int, v1.split('.')), map(int, v2.split('.'))\n",
    "        v1, v2 = zip(*zip_longest(v1, v2, fillvalue = 0))\n",
    "        return (0, 1, -1)[(v1 > v2) - (v1 < v2)]"
   ]
  },
  {
   "cell_type": "code",
   "execution_count": null,
   "metadata": {},
   "outputs": [],
   "source": []
  }
 ],
 "metadata": {
  "kernelspec": {
   "display_name": "Python 3",
   "language": "python",
   "name": "python3"
  },
  "language_info": {
   "codemirror_mode": {
    "name": "ipython",
    "version": 3
   },
   "file_extension": ".py",
   "mimetype": "text/x-python",
   "name": "python",
   "nbconvert_exporter": "python",
   "pygments_lexer": "ipython3",
   "version": "3.6.7"
  }
 },
 "nbformat": 4,
 "nbformat_minor": 2
}
