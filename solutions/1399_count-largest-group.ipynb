{
 "cells": [
  {
   "cell_type": "markdown",
   "metadata": {},
   "source": [
    "[1399. Count Largest Group](https://leetcode.com/problems/count-largest-group/)"
   ]
  },
  {
   "cell_type": "code",
   "execution_count": null,
   "metadata": {},
   "outputs": [],
   "source": [
    "class Solution:\n",
    "    def countLargestGroup(self, n: int) -> int:\n",
    "        from collections import Counter\n",
    "        count = Counter()\n",
    "        for i in range(1,n+1):\n",
    "            sum_ = sum(int(c) for c in str(i))\n",
    "            count[sum_] += 1\n",
    "        max_freq = count.most_common(1)[0][1]\n",
    "        ret = len([freq for sum_, freq in count.most_common() if freq == max_freq])\n",
    "        return ret "
   ]
  }
 ],
 "metadata": {
  "kernelspec": {
   "display_name": "Python 3",
   "language": "python",
   "name": "python3"
  },
  "language_info": {
   "codemirror_mode": {
    "name": "ipython",
    "version": 3
   },
   "file_extension": ".py",
   "mimetype": "text/x-python",
   "name": "python",
   "nbconvert_exporter": "python",
   "pygments_lexer": "ipython3",
   "version": "3.8.0b3"
  }
 },
 "nbformat": 4,
 "nbformat_minor": 2
}
