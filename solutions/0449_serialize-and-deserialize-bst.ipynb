{
 "cells": [
  {
   "cell_type": "markdown",
   "metadata": {},
   "source": [
    "[449. Serialize and Deserialize BST](https://leetcode.com/problems/serialize-and-deserialize-bst/)"
   ]
  },
  {
   "cell_type": "code",
   "execution_count": 1,
   "metadata": {},
   "outputs": [],
   "source": [
    "# Definition for a binary tree node.\n",
    "class TreeNode(object):\n",
    "    def __init__(self, x):\n",
    "        self.val = x\n",
    "        self.left = None\n",
    "        self.right = None\n",
    "\n",
    "class Codec:\n",
    "\n",
    "    def serialize(self, root):\n",
    "        \"\"\"Encodes a tree to a single string.\n",
    "        \n",
    "        :type root: TreeNode\n",
    "        :rtype: str\n",
    "        \"\"\"\n",
    "        def iterate(node):\n",
    "            if node:\n",
    "                yield str(node.val)\n",
    "                yield from iterate(node.left)\n",
    "                yield from iterate(node.right)\n",
    "            else:\n",
    "                yield '#'\n",
    "        \n",
    "        return ','.join(iterate(root))\n",
    "\n",
    "    def deserialize(self, data):\n",
    "        \"\"\"Decodes your encoded data to tree.\n",
    "        \n",
    "        :type data: str\n",
    "        :rtype: TreeNode\n",
    "        \"\"\"\n",
    "        data = iter(data.split(','))\n",
    "        \n",
    "        def f(x): self.root = x\n",
    "        \n",
    "        def iterate(attach):\n",
    "            val = next(data)\n",
    "            if val == '#':\n",
    "                return\n",
    "\n",
    "            p = TreeNode(val)\n",
    "            attach(p)\n",
    "            def f1(x): p.left = x\n",
    "            def f2(x): p.right = x\n",
    "            iterate(f1)\n",
    "            iterate(f2)\n",
    "        \n",
    "        iterate(f)\n",
    "        if hasattr(self, 'root'):\n",
    "            return self.root\n",
    "        else:\n",
    "            return None\n",
    "        \n",
    "\n",
    "# Your Codec object will be instantiated and called as such:\n",
    "# codec = Codec()\n",
    "# codec.deserialize(codec.serialize(root))"
   ]
  },
  {
   "cell_type": "code",
   "execution_count": null,
   "metadata": {},
   "outputs": [],
   "source": []
  }
 ],
 "metadata": {
  "kernelspec": {
   "display_name": "Python 3",
   "language": "python",
   "name": "python3"
  },
  "language_info": {
   "codemirror_mode": {
    "name": "ipython",
    "version": 3
   },
   "file_extension": ".py",
   "mimetype": "text/x-python",
   "name": "python",
   "nbconvert_exporter": "python",
   "pygments_lexer": "ipython3",
   "version": "3.8.1"
  }
 },
 "nbformat": 4,
 "nbformat_minor": 2
}
