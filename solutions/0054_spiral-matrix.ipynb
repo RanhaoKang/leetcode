{
 "cells": [
  {
   "cell_type": "markdown",
   "metadata": {},
   "source": [
    "[54. Spiral Matrix](https://leetcode.com/problems/spiral-matrix/)"
   ]
  },
  {
   "cell_type": "code",
   "execution_count": 48,
   "metadata": {},
   "outputs": [],
   "source": [
    "class Solution:\n",
    "    def spiralOrder(self, matrix):\n",
    "        if not matrix or not matrix[0]:\n",
    "            return []\n",
    "        ans = []\n",
    "        m, n = len(matrix), len(matrix[0])\n",
    "        u, d, l, r = 0, m - 1, 0, n - 1\n",
    "        while l < r and u < d:\n",
    "            ans.extend([matrix[u][j] for j in range(l, r)])\n",
    "            ans.extend([matrix[i][r] for i in range(u, d)])\n",
    "            ans.extend([matrix[d][j] for j in range(r, l, -1)])\n",
    "            ans.extend([matrix[i][l] for i in range(d, u, -1)])\n",
    "            u, d, l, r = u + 1, d - 1, l + 1, r - 1\n",
    "        if l == r:\n",
    "            ans.extend([matrix[i][r] for i in range(u, d + 1)])\n",
    "        elif u == d:\n",
    "            ans.extend([matrix[u][j] for j in range(l, r + 1)])\n",
    "        return ans\n",
    "\n"
   ]
  },
  {
   "cell_type": "markdown",
   "metadata": {},
   "source": [
    "[1-liner in Python + Ruby](https://leetcode.com/problems/spiral-matrix/discuss/20571/1-liner-in-Python-%2B-Ruby)\n",
    "核心思想是list of lists的旋转"
   ]
  },
  {
   "cell_type": "code",
   "execution_count": 10,
   "metadata": {},
   "outputs": [],
   "source": [
    "class Solution2:\n",
    "    def spiralOrder(self, matrix):\n",
    "        return matrix and [*matrix.pop(0)] + self.spiralOrder([*zip(*matrix)][::-1])"
   ]
  },
  {
   "cell_type": "code",
   "execution_count": null,
   "metadata": {},
   "outputs": [],
   "source": []
  }
 ],
 "metadata": {
  "kernelspec": {
   "display_name": "Python 3",
   "language": "python",
   "name": "python3"
  },
  "language_info": {
   "codemirror_mode": {
    "name": "ipython",
    "version": 3
   },
   "file_extension": ".py",
   "mimetype": "text/x-python",
   "name": "python",
   "nbconvert_exporter": "python",
   "pygments_lexer": "ipython3",
   "version": "3.6.7"
  }
 },
 "nbformat": 4,
 "nbformat_minor": 2
}
