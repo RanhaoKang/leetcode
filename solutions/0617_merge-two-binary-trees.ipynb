{
 "cells": [
  {
   "cell_type": "markdown",
   "metadata": {},
   "source": [
    "[617. Merge Two Binary Trees](https://leetcode.com/problems/merge-two-binary-trees/)"
   ]
  },
  {
   "cell_type": "code",
   "execution_count": 1,
   "metadata": {},
   "outputs": [],
   "source": [
    "# Definition for a binary tree node.\n",
    "# class TreeNode:\n",
    "#     def __init__(self, x):\n",
    "#         self.val = x\n",
    "#         self.left = None\n",
    "#         self.right = None\n",
    "\n",
    "class Solution:\n",
    "    def mergeTrees(self, t1: 'TreeNode', t2: 'TreeNode') -> 'TreeNode':\n",
    "        if t1:\n",
    "            self.root = t1\n",
    "        elif t2:\n",
    "            self.root = t2\n",
    "            t2, t1 = t1, t2\n",
    "        else:\n",
    "            return\n",
    "        self._solve(t1, t2)\n",
    "        return self.root\n",
    "\n",
    "    def _solve(self, t1, t2, install = lambda x: x):\n",
    "        def f1(x): t1.left = x\n",
    "        def f2(x): t1.right = x\n",
    "        if t1 and t2:\n",
    "            t1.val += t2.val\n",
    "            self._solve(t1.left, t2.left, install = f1)\n",
    "            self._solve(t1.right, t2.right, install = f2)\n",
    "        elif t1:\n",
    "            self._solve(t1.left, None, install = f1)\n",
    "            self._solve(t1.right, None, install = f2)\n",
    "        elif t2:\n",
    "            def f1(x): t2.left = x\n",
    "            def f2(x): t2.right = x\n",
    "            install(t2)\n",
    "            self._solve(None, t2.left, install = f1)\n",
    "            self._solve(None, t2.right, install = f2)\n"
   ]
  },
  {
   "cell_type": "code",
   "execution_count": null,
   "metadata": {},
   "outputs": [],
   "source": [
    "# Definition for a binary tree node.\n",
    "class TreeNode:\n",
    "    def __init__(self, x):\n",
    "        self.val = x\n",
    "        self.left = None\n",
    "        self.right = None\n",
    "\n",
    "class Solution:\n",
    "    def mergeTrees(self, t1: 'TreeNode', t2: 'TreeNode') -> 'TreeNode':\n",
    "        \n",
    "        def solve(p1, p2):\n",
    "            if p1 and p2:\n",
    "                p1.val += p2.val\n",
    "                p1.left = solve(p1.left, p2.left)\n",
    "                p1.right = solve(p1.right, p2.right)\n",
    "                return p1\n",
    "            else:\n",
    "                return p1 or p2\n",
    "\n",
    "        return solve(t1, t2)\n"
   ]
  },
  {
   "cell_type": "code",
   "execution_count": null,
   "metadata": {},
   "outputs": [],
   "source": []
  }
 ],
 "metadata": {
  "kernelspec": {
   "display_name": "Python 3",
   "language": "python",
   "name": "python3"
  },
  "language_info": {
   "codemirror_mode": {
    "name": "ipython",
    "version": 3
   },
   "file_extension": ".py",
   "mimetype": "text/x-python",
   "name": "python",
   "nbconvert_exporter": "python",
   "pygments_lexer": "ipython3",
   "version": "3.6.7"
  }
 },
 "nbformat": 4,
 "nbformat_minor": 2
}
