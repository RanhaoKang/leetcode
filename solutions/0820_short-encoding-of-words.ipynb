{
 "cells": [
  {
   "cell_type": "markdown",
   "metadata": {},
   "source": [
    "[820. Short Encoding of Words](https://leetcode.com/problems/short-encoding-of-words/)"
   ]
  },
  {
   "cell_type": "markdown",
   "metadata": {},
   "source": [
    "如果有共同的后缀即可使用同样的字符串"
   ]
  },
  {
   "cell_type": "markdown",
   "metadata": {},
   "source": [
    "暴力存法，112ms"
   ]
  },
  {
   "cell_type": "code",
   "execution_count": 2,
   "metadata": {},
   "outputs": [],
   "source": [
    "class Solution:\n",
    "    def minimumLengthEncoding(self, words) -> int:\n",
    "        good = set(words)\n",
    "        for word in words:\n",
    "            for k in range(1, len(word)):\n",
    "                good.discard(word[k:])\n",
    "\n",
    "        return sum(len(word) + 1 for word in good)"
   ]
  },
  {
   "cell_type": "markdown",
   "metadata": {},
   "source": [
    "Trie"
   ]
  },
  {
   "cell_type": "code",
   "execution_count": 28,
   "metadata": {},
   "outputs": [],
   "source": [
    "class Solution:\n",
    "    def minimumLengthEncoding(self, words) -> int:\n",
    "        from collections import defaultdict\n",
    "        from functools import reduce\n",
    "        \n",
    "        Trie = lambda: defaultdict(Trie)\n",
    "        trie = Trie()\n",
    "        \n",
    "        nodes = [reduce(dict.__getitem__, word[::-1], trie) for word in words]\n",
    "        for k in trie:\n",
    "            print(k, trie[k])\n",
    "        return sum(len(word) + 1\n",
    "                    for i, word in enumerate(words)\n",
    "                    if len(nodes[i]) == 0)"
   ]
  },
  {
   "cell_type": "code",
   "execution_count": 29,
   "metadata": {},
   "outputs": [
    {
     "name": "stdout",
     "output_type": "stream",
     "text": [
      "e defaultdict(<function Solution.minimumLengthEncoding.<locals>.<lambda> at 0x10f127a60>, {'m': defaultdict(<function Solution.minimumLengthEncoding.<locals>.<lambda> at 0x10f127a60>, {'i': defaultdict(<function Solution.minimumLengthEncoding.<locals>.<lambda> at 0x10f127a60>, {'t': defaultdict(<function Solution.minimumLengthEncoding.<locals>.<lambda> at 0x10f127a60>, {})})})})\n"
     ]
    },
    {
     "data": {
      "text/plain": [
       "20"
      ]
     },
     "execution_count": 29,
     "metadata": {},
     "output_type": "execute_result"
    }
   ],
   "source": [
    "Solution().minimumLengthEncoding([\"time\", \"time\", \"time\", \"time\"])"
   ]
  },
  {
   "cell_type": "code",
   "execution_count": null,
   "metadata": {},
   "outputs": [],
   "source": []
  }
 ],
 "metadata": {
  "kernelspec": {
   "display_name": "Python 3",
   "language": "python",
   "name": "python3"
  },
  "language_info": {
   "codemirror_mode": {
    "name": "ipython",
    "version": 3
   },
   "file_extension": ".py",
   "mimetype": "text/x-python",
   "name": "python",
   "nbconvert_exporter": "python",
   "pygments_lexer": "ipython3",
   "version": "3.8.1"
  }
 },
 "nbformat": 4,
 "nbformat_minor": 4
}
