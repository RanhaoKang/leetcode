{
 "cells": [
  {
   "cell_type": "markdown",
   "metadata": {},
   "source": [
    "[761. Special Binary String](https://leetcode.com/problems/special-binary-string/)"
   ]
  },
  {
   "cell_type": "markdown",
   "metadata": {},
   "source": [
    "https://leetcode.com/problems/special-binary-string/discuss/113212/Think-of-it-as-Valid-Parentheses\n",
    "\n",
    "解释太棒了"
   ]
  },
  {
   "cell_type": "code",
   "execution_count": 34,
   "metadata": {},
   "outputs": [],
   "source": [
    "class Solution:\n",
    "    def makeLargestSpecial(self, s: str) -> str:\n",
    "        specials, cnt = [], 0\n",
    "        for c in s:\n",
    "            if cnt == 0:\n",
    "                specials.append('')\n",
    "            cnt += 1 if c == '1' else -1\n",
    "            specials[-1] += c\n",
    "        \n",
    "        return ''.join(sorted(map(lambda x: '1' + self.makeLargestSpecial(x[1:-1]) + '0', specials), reverse = True))"
   ]
  },
  {
   "cell_type": "code",
   "execution_count": 35,
   "metadata": {
    "scrolled": true
   },
   "outputs": [
    {
     "data": {
      "text/plain": [
       "'11100100'"
      ]
     },
     "execution_count": 35,
     "metadata": {},
     "output_type": "execute_result"
    }
   ],
   "source": [
    "Solution().makeLargestSpecial('11011000')"
   ]
  },
  {
   "cell_type": "code",
   "execution_count": null,
   "metadata": {},
   "outputs": [],
   "source": []
  }
 ],
 "metadata": {
  "kernelspec": {
   "display_name": "Python 3",
   "language": "python",
   "name": "python3"
  },
  "language_info": {
   "codemirror_mode": {
    "name": "ipython",
    "version": 3
   },
   "file_extension": ".py",
   "mimetype": "text/x-python",
   "name": "python",
   "nbconvert_exporter": "python",
   "pygments_lexer": "ipython3",
   "version": "3.8.1"
  }
 },
 "nbformat": 4,
 "nbformat_minor": 4
}
