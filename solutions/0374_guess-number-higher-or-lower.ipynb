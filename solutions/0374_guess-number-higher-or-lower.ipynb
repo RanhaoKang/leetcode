{
 "cells": [
  {
   "cell_type": "markdown",
   "metadata": {},
   "source": [
    "[374. Guess Number Higher or Lower](https://leetcode.com/problems/guess-number-higher-or-lower/)"
   ]
  },
  {
   "cell_type": "code",
   "execution_count": 8,
   "metadata": {},
   "outputs": [],
   "source": [
    "# The guess API is already defined for you.\n",
    "# @param num, your guess\n",
    "# @return -1 if my number is lower, 1 if my number is higher, otherwise return 0\n",
    "# def guess(num):\n",
    "\n",
    "class Solution(object):\n",
    "    def guessNumber(self, n):\n",
    "        \"\"\"\n",
    "        :type n: int\n",
    "        :rtype: int\n",
    "        \"\"\"\n",
    "        l, r, step = 1, n, 0\n",
    "        \n",
    "        while True:\n",
    "            m = (l + r) // 2\n",
    "            print(m)\n",
    "            res = guess(m)\n",
    "            step += 1\n",
    "            if res == 0:\n",
    "                return m\n",
    "            elif res == 1:\n",
    "                l = m + 1\n",
    "            else:\n",
    "                r = m - 1"
   ]
  },
  {
   "cell_type": "code",
   "execution_count": null,
   "metadata": {},
   "outputs": [],
   "source": []
  }
 ],
 "metadata": {
  "kernelspec": {
   "display_name": "Python 3",
   "language": "python",
   "name": "python3"
  },
  "language_info": {
   "codemirror_mode": {
    "name": "ipython",
    "version": 3
   },
   "file_extension": ".py",
   "mimetype": "text/x-python",
   "name": "python",
   "nbconvert_exporter": "python",
   "pygments_lexer": "ipython3",
   "version": "3.6.7"
  }
 },
 "nbformat": 4,
 "nbformat_minor": 2
}
