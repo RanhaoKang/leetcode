{
 "cells": [
  {
   "cell_type": "markdown",
   "metadata": {},
   "source": [
    "[658. Find K Closest Elements](https://leetcode.com/problems/find-k-closest-elements/)"
   ]
  },
  {
   "cell_type": "code",
   "execution_count": 38,
   "metadata": {},
   "outputs": [],
   "source": [
    "class Solution:\n",
    "    def findClosestElements(self, arr, k: int, x: int):\n",
    "        import bisect\n",
    "        idx = bisect.bisect_left(arr, x)\n",
    "\n",
    "        l = r = idx\n",
    "        N = len(arr)\n",
    "        while r - l < k:\n",
    "            if l == 0:\n",
    "                return arr[:k]\n",
    "            elif r == N:\n",
    "                return arr[-k:]\n",
    "            else:\n",
    "                if x - arr[l] <= arr[r] - x:\n",
    "                    l -= 1\n",
    "                else:\n",
    "                    r += 1\n",
    "        \n",
    "        return arr[l: r]"
   ]
  },
  {
   "cell_type": "code",
   "execution_count": 39,
   "metadata": {},
   "outputs": [
    {
     "data": {
      "text/plain": [
       "[3, 3, 4]"
      ]
     },
     "execution_count": 39,
     "metadata": {},
     "output_type": "execute_result"
    }
   ],
   "source": [
    "Solution().findClosestElements([0,0,1,2,3,3,4,7,7,8],3,5)"
   ]
  },
  {
   "cell_type": "code",
   "execution_count": null,
   "metadata": {},
   "outputs": [],
   "source": []
  }
 ],
 "metadata": {
  "kernelspec": {
   "display_name": "Python 3",
   "language": "python",
   "name": "python3"
  },
  "language_info": {
   "codemirror_mode": {
    "name": "ipython",
    "version": 3
   },
   "file_extension": ".py",
   "mimetype": "text/x-python",
   "name": "python",
   "nbconvert_exporter": "python",
   "pygments_lexer": "ipython3",
   "version": "3.6.7"
  }
 },
 "nbformat": 4,
 "nbformat_minor": 2
}
