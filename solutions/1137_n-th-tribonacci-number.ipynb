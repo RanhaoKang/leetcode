{
 "cells": [
  {
   "cell_type": "markdown",
   "metadata": {},
   "source": [
    "[1137. N-th Tribonacci Number](https://leetcode.com/problems/n-th-tribonacci-number/)"
   ]
  },
  {
   "cell_type": "markdown",
   "metadata": {},
   "source": [
    "和经典的斐波那契没变化"
   ]
  },
  {
   "cell_type": "markdown",
   "metadata": {},
   "source": [
    "Top-down DP"
   ]
  },
  {
   "cell_type": "code",
   "execution_count": 1,
   "metadata": {},
   "outputs": [],
   "source": [
    "class Solution:\n",
    "    def tribonacci(self, n: int) -> int:\n",
    "        from functools import lru_cache\n",
    "        \n",
    "        @lru_cache(None)\n",
    "        def f(n):\n",
    "            if n == 0:\n",
    "                return 0\n",
    "            elif n <= 2:\n",
    "                return 1\n",
    "            else:\n",
    "                return f(n-3) + f(n-2) + f(n-1)\n",
    "        \n",
    "        return f(n)"
   ]
  },
  {
   "cell_type": "markdown",
   "metadata": {},
   "source": [
    "K-variable DP"
   ]
  },
  {
   "cell_type": "code",
   "execution_count": 2,
   "metadata": {},
   "outputs": [],
   "source": [
    "class Solution:\n",
    "    def tribonacci(self, n: int) -> int:\n",
    "        a, b, c = 1, 0, 0\n",
    "        for _ in range(n):\n",
    "            a, b, c = b, c, a + b + c\n",
    "\n",
    "        return c"
   ]
  },
  {
   "cell_type": "code",
   "execution_count": null,
   "metadata": {},
   "outputs": [],
   "source": []
  }
 ],
 "metadata": {
  "kernelspec": {
   "display_name": "Python 3",
   "language": "python",
   "name": "python3"
  },
  "language_info": {
   "codemirror_mode": {
    "name": "ipython",
    "version": 3
   },
   "file_extension": ".py",
   "mimetype": "text/x-python",
   "name": "python",
   "nbconvert_exporter": "python",
   "pygments_lexer": "ipython3",
   "version": "3.7.3"
  }
 },
 "nbformat": 4,
 "nbformat_minor": 2
}
