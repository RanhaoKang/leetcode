{
 "cells": [
  {
   "cell_type": "markdown",
   "metadata": {},
   "source": [
    "[92. Reverse Linked List II](https://leetcode.com/problems/reverse-linked-list-ii/)"
   ]
  },
  {
   "cell_type": "markdown",
   "metadata": {},
   "source": [
    "- 新建一个链表, 维护链表尾\n",
    "- 顺序的地方, 头节点插入到链表尾\n",
    "- 反序的地方, 当前链表尾作为逆序部分的链表头, 通过不断在\"链表头\"插入进行反序"
   ]
  },
  {
   "cell_type": "code",
   "execution_count": 100,
   "metadata": {},
   "outputs": [],
   "source": [
    "# Definition for singly-linked list.\n",
    "class ListNode:\n",
    "    def __init__(self, x):\n",
    "        self.val = x\n",
    "        self.next = None\n",
    "\n",
    "class Solution:\n",
    "    def reverseBetween(self, head: 'ListNode', m: 'int', n: 'int') -> 'ListNode':\n",
    "        # 使用dummy来避免m = 1的情况\n",
    "        dummy = ListNode(None)\n",
    "        dummy.next = head\n",
    "        \n",
    "        p = dummy\n",
    "        for i in range(m - 1):\n",
    "            p = p.next\n",
    "            \n",
    "        rev = ListNode(None)\n",
    "        rev_end = p.next\n",
    "        q, p.next = p.next, None\n",
    "        \n",
    "        for i in range(n - m + 1):\n",
    "            tmp = q.next\n",
    "            q.next, rev.next = rev.next, q\n",
    "            q = tmp\n",
    "        print('rev_end', rev_end.val)\n",
    "            \n",
    "        print('rev-------')\n",
    "        o = rev.next\n",
    "        while o:\n",
    "            print(o.val)\n",
    "            o = o.next\n",
    "            \n",
    "        print('head-------')\n",
    "        o = dummy.next\n",
    "        while o:\n",
    "            print(o.val)\n",
    "            o = o.next\n",
    "            \n",
    "        print('tail-------')\n",
    "        o = q\n",
    "        while o:\n",
    "            print(o.val)\n",
    "            o = o.next\n",
    "        \n",
    "        # p.next.next, p.next = q, rev.next\n",
    "        \n",
    "        # attach rev to head\n",
    "        p.next = rev.next\n",
    "        \n",
    "        # attach tail to rev\n",
    "        rev_end.next = q\n",
    "        \n",
    "        return dummy.next"
   ]
  },
  {
   "cell_type": "code",
   "execution_count": 102,
   "metadata": {},
   "outputs": [],
   "source": [
    "p = head = ListNode(None)\n",
    "for i in range(1, 6):\n",
    "    p.next = p = ListNode(i)\n"
   ]
  },
  {
   "cell_type": "code",
   "execution_count": 85,
   "metadata": {},
   "outputs": [
    {
     "name": "stdout",
     "output_type": "stream",
     "text": [
      "1\n",
      "4\n",
      "5\n"
     ]
    }
   ],
   "source": [
    "p = head.next\n",
    "while p:\n",
    "    print(p.val)\n",
    "    p = p.next"
   ]
  },
  {
   "cell_type": "code",
   "execution_count": 103,
   "metadata": {},
   "outputs": [
    {
     "name": "stdout",
     "output_type": "stream",
     "text": [
      "rev_end 2\n",
      "rev-------\n",
      "4\n",
      "3\n",
      "2\n",
      "head-------\n",
      "1\n",
      "tail-------\n",
      "5\n"
     ]
    }
   ],
   "source": [
    "q = Solution().reverseBetween(head.next, 2, 4)"
   ]
  },
  {
   "cell_type": "code",
   "execution_count": 104,
   "metadata": {},
   "outputs": [
    {
     "name": "stdout",
     "output_type": "stream",
     "text": [
      "1\n",
      "4\n",
      "3\n",
      "2\n",
      "5\n"
     ]
    }
   ],
   "source": [
    "while q:\n",
    "    print(q.val)\n",
    "    q = q.next"
   ]
  },
  {
   "cell_type": "code",
   "execution_count": null,
   "metadata": {},
   "outputs": [],
   "source": []
  },
  {
   "cell_type": "code",
   "execution_count": null,
   "metadata": {},
   "outputs": [],
   "source": []
  }
 ],
 "metadata": {
  "kernelspec": {
   "display_name": "Python 3",
   "language": "python",
   "name": "python3"
  },
  "language_info": {
   "codemirror_mode": {
    "name": "ipython",
    "version": 3
   },
   "file_extension": ".py",
   "mimetype": "text/x-python",
   "name": "python",
   "nbconvert_exporter": "python",
   "pygments_lexer": "ipython3",
   "version": "3.6.7"
  }
 },
 "nbformat": 4,
 "nbformat_minor": 2
}
