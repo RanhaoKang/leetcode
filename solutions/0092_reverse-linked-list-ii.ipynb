{
 "cells": [
  {
   "cell_type": "markdown",
   "metadata": {},
   "source": [
    "[92. Reverse Linked List II](https://leetcode.com/problems/reverse-linked-list-ii/)"
   ]
  },
  {
   "cell_type": "markdown",
   "metadata": {},
   "source": [
    "- 新建一个链表, 维护链表尾\n",
    "- 顺序的地方, 头节点插入到链表尾\n",
    "- 反序的地方, 当前链表尾作为逆序部分的链表头, 通过不断在\"链表头\"插入进行反序"
   ]
  },
  {
   "cell_type": "code",
   "execution_count": null,
   "metadata": {},
   "outputs": [],
   "source": [
    "# Definition for singly-linked list.\n",
    "# class ListNode:\n",
    "#     def __init__(self, x):\n",
    "#         self.val = x\n",
    "#         self.next = None\n",
    "\n",
    "class Solution:\n",
    "    def reverseBetween(self, head: 'ListNode', m: 'int', n: 'int') -> 'ListNode':\n",
    "        idx = 1\n",
    "        p = head\n",
    "        new_head = ListNode(-1)\n",
    "        new_tail = new_head\n",
    "        \n",
    "        while p:\n",
    "            # 顺序部分\n",
    "            if idx == m - 1 or idx == n + 1:\n",
    "                new_head\n",
    "            # 反序部分\n",
    "            elif:\n",
    "                tmp = p.next\n",
    "                p.next = new_head.next\n",
    "                new_head.next = p\n",
    "                p = tmp\n",
    "                new_tail = new_tail.\n",
    "            else:\n",
    "                p = p.next"
   ]
  }
 ],
 "metadata": {
  "kernelspec": {
   "display_name": "Python 3",
   "language": "python",
   "name": "python3"
  },
  "language_info": {
   "codemirror_mode": {
    "name": "ipython",
    "version": 3
   },
   "file_extension": ".py",
   "mimetype": "text/x-python",
   "name": "python",
   "nbconvert_exporter": "python",
   "pygments_lexer": "ipython3",
   "version": "3.6.7"
  }
 },
 "nbformat": 4,
 "nbformat_minor": 2
}
