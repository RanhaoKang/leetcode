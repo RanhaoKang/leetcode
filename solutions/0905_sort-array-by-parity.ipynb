{
 "cells": [
  {
   "cell_type": "markdown",
   "metadata": {},
   "source": [
    "Given an array `A` of non-negative integers, return an array consisting of all the even elements of `A`, followed by all the odd elements of `A`.\n",
    "\n",
    "You may return any answer array that satisfies this condition.\n",
    "\n",
    " \n",
    "\n",
    "**Example 1:**\n",
    "```\n",
    "Input: [3,1,2,4]\n",
    "Output: [2,4,3,1]\n",
    "The outputs [4,2,3,1], [2,4,1,3], and [4,2,1,3] would also be accepted.\n",
    "```\n",
    "\n",
    "**Note:**\n",
    "\n",
    "1. `<= A.length <= 5000`\n",
    "0. `<= A[i] <= 5000`"
   ]
  },
  {
   "cell_type": "code",
   "execution_count": 1,
   "metadata": {},
   "outputs": [],
   "source": [
    "class Solution:\n",
    "    def sortArrayByParity(self, A):\n",
    "        \"\"\"\n",
    "        :type A: List[int]\n",
    "        :rtype: List[int]\n",
    "        \"\"\"\n",
    "        first_odd = len(A) - 1\n",
    "        \n",
    "        for last_even in range(len(A)):\n",
    "            \n",
    "            if A[last_even] % 2 == 0: # is even\n",
    "                continue\n",
    "            \n",
    "            while A[first_odd] % 2 == 1 and first_odd != last_even:\n",
    "                first_odd -= 1\n",
    "            \n",
    "            if first_odd == last_even:\n",
    "                return A\n",
    "            \n",
    "            A[first_odd], A[last_even] = A[last_even], A[first_odd]\n",
    "        \n",
    "        return A"
   ]
  },
  {
   "cell_type": "code",
   "execution_count": null,
   "metadata": {},
   "outputs": [],
   "source": []
  }
 ],
 "metadata": {
  "kernelspec": {
   "display_name": "Python 3",
   "language": "python",
   "name": "python3"
  },
  "language_info": {
   "codemirror_mode": {
    "name": "ipython",
    "version": 3
   },
   "file_extension": ".py",
   "mimetype": "text/x-python",
   "name": "python",
   "nbconvert_exporter": "python",
   "pygments_lexer": "ipython3",
   "version": "3.6.7"
  }
 },
 "nbformat": 4,
 "nbformat_minor": 2
}
