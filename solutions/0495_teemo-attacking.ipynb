{
 "cells": [
  {
   "cell_type": "markdown",
   "metadata": {},
   "source": [
    "[495. Teemo Attacking](https://leetcode.com/problems/teemo-attacking/)"
   ]
  },
  {
   "cell_type": "markdown",
   "metadata": {},
   "source": [
    "给定施加\"中毒\"buff的时间点数组, 问最终的总中毒时长"
   ]
  },
  {
   "cell_type": "markdown",
   "metadata": {},
   "source": [
    "按游戏的做法应该是每次施加直接用新的dot替代旧的, 每一tick都记录log"
   ]
  },
  {
   "cell_type": "code",
   "execution_count": 2,
   "metadata": {},
   "outputs": [],
   "source": [
    "class Solution:\n",
    "    def findPoisonedDuration(self, timeSeries, duration: int) -> int:\n",
    "        timeSeries = [-duration] + timeSeries\n",
    "        \n",
    "        res = 0\n",
    "        for i in range(1, len(timeSeries)):\n",
    "            res += min(duration, timeSeries[i] - timeSeries[i-1])\n",
    "        \n",
    "        return  res"
   ]
  },
  {
   "cell_type": "code",
   "execution_count": 5,
   "metadata": {},
   "outputs": [
    {
     "data": {
      "text/plain": [
       "3"
      ]
     },
     "execution_count": 5,
     "metadata": {},
     "output_type": "execute_result"
    }
   ],
   "source": [
    "Solution().findPoisonedDuration([1,2], 2)"
   ]
  },
  {
   "cell_type": "code",
   "execution_count": null,
   "metadata": {},
   "outputs": [],
   "source": []
  }
 ],
 "metadata": {
  "kernelspec": {
   "display_name": "Python 3",
   "language": "python",
   "name": "python3"
  },
  "language_info": {
   "codemirror_mode": {
    "name": "ipython",
    "version": 3
   },
   "file_extension": ".py",
   "mimetype": "text/x-python",
   "name": "python",
   "nbconvert_exporter": "python",
   "pygments_lexer": "ipython3",
   "version": "3.6.7"
  }
 },
 "nbformat": 4,
 "nbformat_minor": 2
}
