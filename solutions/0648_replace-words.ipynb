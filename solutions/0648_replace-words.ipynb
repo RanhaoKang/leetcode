{
 "cells": [
  {
   "cell_type": "markdown",
   "metadata": {},
   "source": [
    "[648. Replace Words](https://leetcode.com/problems/replace-words/)"
   ]
  },
  {
   "cell_type": "markdown",
   "metadata": {},
   "source": [
    "自己写的总不过"
   ]
  },
  {
   "cell_type": "code",
   "execution_count": 39,
   "metadata": {},
   "outputs": [],
   "source": [
    "class Solution:\n",
    "    def replaceWords(self, dict, sentence: str) -> str:\n",
    "        # build trie\n",
    "        trie, roots = {}, {}\n",
    "        for root in dict:\n",
    "            p = trie\n",
    "            for c in root:\n",
    "                p = p.setdefault(c, {})\n",
    "            roots[id(p)] = root\n",
    "        \n",
    "        # find roots\n",
    "        res = []\n",
    "        for word in sentence.split():\n",
    "            p = trie\n",
    "            for c in word:\n",
    "                if c in p:\n",
    "                    p = p[c]\n",
    "                    if id(p) in roots:\n",
    "                        res.append(roots[id(p)])\n",
    "                        break\n",
    "                else:\n",
    "                    res.append(word)\n",
    "                    break\n",
    "        \n",
    "        return ' '.join(res)"
   ]
  },
  {
   "cell_type": "code",
   "execution_count": 40,
   "metadata": {},
   "outputs": [
    {
     "data": {
      "text/plain": [
       "'a a a a a a a a bbb baba a'"
      ]
     },
     "execution_count": 40,
     "metadata": {},
     "output_type": "execute_result"
    }
   ],
   "source": [
    "Solution().replaceWords([\"a\", \"aa\", \"aaa\", \"aaaa\"],\n",
    "\"a aa a aaaa aaa aaa aaa aaaaaa bbb baba ababa\")#, \"the cattle was rattled by the battery\")"
   ]
  },
  {
   "cell_type": "markdown",
   "metadata": {},
   "source": [
    "抄了一个"
   ]
  },
  {
   "cell_type": "code",
   "execution_count": 41,
   "metadata": {},
   "outputs": [],
   "source": [
    "class TrieNode:\n",
    "    # Initialize your data structure here.\n",
    "    def __init__(self):\n",
    "        self.word = False\n",
    "        self.children = {}\n",
    "\n",
    "\n",
    "class Trie:\n",
    "    # https://leetcode.com/explore/learn/card/trie/147/basic-operations/1047/\n",
    "    def __init__(self):\n",
    "        \"\"\"\n",
    "        Initialize your data structure here.\n",
    "        \"\"\"\n",
    "        self.root = TrieNode()\n",
    "\n",
    "    def insert(self, word):\n",
    "        \"\"\"\n",
    "        Inserts a word into the trie.\n",
    "        :type word: str\n",
    "        :rtype: void\n",
    "        \"\"\"\n",
    "        node = self.root\n",
    "        for i in word:\n",
    "            if i not in node.children:\n",
    "                node.children[i] = TrieNode()\n",
    "            node = node.children[i]\n",
    "        node.word = True\n",
    "\n",
    "    def find_prefix(self, word):\n",
    "        node = self.root\n",
    "        prefix = ''\n",
    "        for i in word:\n",
    "            prefix += i\n",
    "            if i not in node.children:\n",
    "                return word\n",
    "            else:\n",
    "                if node.children[i].word:\n",
    "                    return prefix\n",
    "                else:\n",
    "                    node = node.children[i]\n",
    "        return word\n",
    "\n",
    "\n",
    "class Solution:\n",
    "    def replaceWords(self, dict, sentence):\n",
    "        \"\"\"\n",
    "        :type dict: List[str]\n",
    "        :type sentence: str\n",
    "        :rtype: str\n",
    "        \"\"\"\n",
    "        tire = Trie()\n",
    "        for i in dict:\n",
    "            tire.insert(i)\n",
    "\n",
    "        words=[]\n",
    "        for i in sentence.split(sep=' '):\n",
    "            words.append(tire.find_prefix(i))\n",
    "        return ' '.join(words)"
   ]
  },
  {
   "cell_type": "code",
   "execution_count": null,
   "metadata": {},
   "outputs": [],
   "source": []
  }
 ],
 "metadata": {
  "kernelspec": {
   "display_name": "Python 3",
   "language": "python",
   "name": "python3"
  },
  "language_info": {
   "codemirror_mode": {
    "name": "ipython",
    "version": 3
   },
   "file_extension": ".py",
   "mimetype": "text/x-python",
   "name": "python",
   "nbconvert_exporter": "python",
   "pygments_lexer": "ipython3",
   "version": "3.8.1"
  }
 },
 "nbformat": 4,
 "nbformat_minor": 4
}
