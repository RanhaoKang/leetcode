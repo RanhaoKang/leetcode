{
 "cells": [
  {
   "cell_type": "markdown",
   "metadata": {},
   "source": [
    "[446. Arithmetic Slices II - Subsequence](https://leetcode.com/problems/arithmetic-slices-ii-subsequence/)"
   ]
  },
  {
   "cell_type": "markdown",
   "metadata": {},
   "source": [
    "`dp3[a, sub] = dp3[b, sub] + 1`这句有问题，新增`a`也会引起`dp3[b, sub]`的变化"
   ]
  },
  {
   "cell_type": "code",
   "execution_count": 53,
   "metadata": {},
   "outputs": [],
   "source": [
    "class Solution:\n",
    "    def numberOfArithmeticSlices(self, A) -> int:\n",
    "        res = 0\n",
    "        # 长度为1/2/3+\n",
    "        dp1, dp2, dp3 = set(), set(), {}\n",
    "        \n",
    "        for a in A:\n",
    "            for b, sub in list(dp3.keys()):\n",
    "                if a - b == sub:\n",
    "                    dp3[a, sub] = dp3[b, sub] + 1\n",
    "                    res += dp3[b, sub]\n",
    "\n",
    "            for b, sub in dp2:\n",
    "                if (a, sub) not in dp3 and a - b == sub:\n",
    "                    dp3[a, sub] = 3\n",
    "                    # res += 1\n",
    "\n",
    "            dp2 |= {(a, a - b) for b in dp1}\n",
    "            dp1.add(a)\n",
    "\n",
    "        print(dp3)\n",
    "        return max(res, len(dp3))"
   ]
  },
  {
   "cell_type": "code",
   "execution_count": 54,
   "metadata": {
    "scrolled": true
   },
   "outputs": [
    {
     "name": "stdout",
     "output_type": "stream",
     "text": [
      "{(6, 2): 3, (8, 2): 4, (10, 2): 5, (10, 4): 3}\n"
     ]
    },
    {
     "data": {
      "text/plain": [
       "7"
      ]
     },
     "execution_count": 54,
     "metadata": {},
     "output_type": "execute_result"
    }
   ],
   "source": [
    "Solution().numberOfArithmeticSlices([2,4,6,8,10])"
   ]
  },
  {
   "cell_type": "code",
   "execution_count": 55,
   "metadata": {},
   "outputs": [
    {
     "name": "stdout",
     "output_type": "stream",
     "text": [
      "{(3, 1): 3}\n"
     ]
    },
    {
     "data": {
      "text/plain": [
       "1"
      ]
     },
     "execution_count": 55,
     "metadata": {},
     "output_type": "execute_result"
    }
   ],
   "source": [
    "Solution().numberOfArithmeticSlices([1,2,3])"
   ]
  },
  {
   "cell_type": "code",
   "execution_count": 26,
   "metadata": {},
   "outputs": [],
   "source": [
    "class Solution:\n",
    "    def numberOfArithmeticSlices(self, A) -> int:\n",
    "        from collections import defaultdict\n",
    "        res, dp = 0, [defaultdict(int) for _ in A]\n",
    "        for i in range(len(A)):\n",
    "            for j in range(i):\n",
    "                k = A[i] - A[j]\n",
    "                dp[i][k] += 1\n",
    "                if k in dp[j]:\n",
    "                    dp[i][k] += dp[j][k]\n",
    "                    res += dp[j][k]\n",
    "        \n",
    "        return res"
   ]
  },
  {
   "cell_type": "code",
   "execution_count": 27,
   "metadata": {},
   "outputs": [
    {
     "data": {
      "text/plain": [
       "7"
      ]
     },
     "execution_count": 27,
     "metadata": {},
     "output_type": "execute_result"
    }
   ],
   "source": [
    "Solution().numberOfArithmeticSlices([2,4,6,8,10])"
   ]
  },
  {
   "cell_type": "code",
   "execution_count": null,
   "metadata": {},
   "outputs": [],
   "source": []
  }
 ],
 "metadata": {
  "kernelspec": {
   "display_name": "Python 3",
   "language": "python",
   "name": "python3"
  },
  "language_info": {
   "codemirror_mode": {
    "name": "ipython",
    "version": 3
   },
   "file_extension": ".py",
   "mimetype": "text/x-python",
   "name": "python",
   "nbconvert_exporter": "python",
   "pygments_lexer": "ipython3",
   "version": "3.8.1"
  }
 },
 "nbformat": 4,
 "nbformat_minor": 4
}
