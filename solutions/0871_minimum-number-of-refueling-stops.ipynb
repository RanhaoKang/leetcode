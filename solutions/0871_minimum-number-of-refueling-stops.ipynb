{
 "cells": [
  {
   "cell_type": "markdown",
   "metadata": {},
   "source": [
    "[871. Minimum Number of Refueling Stops](https://leetcode.com/problems/minimum-number-of-refueling-stops/)"
   ]
  },
  {
   "cell_type": "code",
   "execution_count": 1,
   "metadata": {},
   "outputs": [],
   "source": [
    "class Solution:\n",
    "    def minRefuelStops(self, target: int, tank: int, stations) -> int:\n",
    "        pq = []\n",
    "        stations.append((target, float('inf')))\n",
    "        \n",
    "        res = prev = 0\n",
    "        for loc, cap in stations:\n",
    "            tank -= loc - prev\n",
    "            while pq and tank < 0:\n",
    "                tank += -heapq.heappop(pq)\n",
    "                res += 1\n",
    "            if tank < 0:\n",
    "                return -1\n",
    "            heapq.heappush(pq, -cap)\n",
    "            prev = loc\n",
    "        \n",
    "        return res"
   ]
  },
  {
   "cell_type": "code",
   "execution_count": null,
   "metadata": {},
   "outputs": [],
   "source": []
  }
 ],
 "metadata": {
  "kernelspec": {
   "display_name": "Python 3",
   "language": "python",
   "name": "python3"
  },
  "language_info": {
   "codemirror_mode": {
    "name": "ipython",
    "version": 3
   },
   "file_extension": ".py",
   "mimetype": "text/x-python",
   "name": "python",
   "nbconvert_exporter": "python",
   "pygments_lexer": "ipython3",
   "version": "3.8.1"
  }
 },
 "nbformat": 4,
 "nbformat_minor": 4
}
