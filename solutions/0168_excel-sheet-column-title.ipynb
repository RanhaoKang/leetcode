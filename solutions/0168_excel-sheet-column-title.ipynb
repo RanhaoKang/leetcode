{
 "cells": [
  {
   "cell_type": "markdown",
   "metadata": {},
   "source": [
    "[168. Excel Sheet Column Title](https://leetcode.com/problems/excel-sheet-column-title/)"
   ]
  },
  {
   "cell_type": "code",
   "execution_count": 24,
   "metadata": {},
   "outputs": [],
   "source": [
    "class Solution:\n",
    "    def convertToTitle(self, n: int) -> str:\n",
    "        from string import ascii_uppercase\n",
    "        def iterate(n):\n",
    "            while n:\n",
    "                yield (n - 1) % 26\n",
    "                n = (n - 1) // 26\n",
    "        \n",
    "        return ''.join([ascii_uppercase[i] for i in iterate(n)][::-1])"
   ]
  },
  {
   "cell_type": "code",
   "execution_count": null,
   "metadata": {},
   "outputs": [],
   "source": []
  }
 ],
 "metadata": {
  "kernelspec": {
   "display_name": "Python 3",
   "language": "python",
   "name": "python3"
  },
  "language_info": {
   "codemirror_mode": {
    "name": "ipython",
    "version": 3
   },
   "file_extension": ".py",
   "mimetype": "text/x-python",
   "name": "python",
   "nbconvert_exporter": "python",
   "pygments_lexer": "ipython3",
   "version": "3.6.7"
  }
 },
 "nbformat": 4,
 "nbformat_minor": 2
}
