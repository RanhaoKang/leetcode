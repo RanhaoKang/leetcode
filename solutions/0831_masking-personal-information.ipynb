{
 "cells": [
  {
   "cell_type": "markdown",
   "metadata": {},
   "source": [
    "[831. Masking Personal Information](https://leetcode.com/problems/masking-personal-information/)"
   ]
  },
  {
   "cell_type": "code",
   "execution_count": 13,
   "metadata": {},
   "outputs": [],
   "source": [
    "class Solution:\n",
    "    def maskPII(self, S: str) -> str:\n",
    "        if '@' in S:\n",
    "            a, b = S.split('@')\n",
    "            return f'{a[0]}*****{a[-1]}@{b}'.lower()\n",
    "        else:\n",
    "            digits = ''.join(filter(lambda x: x.isdigit(), S))\n",
    "            local = f'***-***-{digits[-4:]}'\n",
    "            if len(digits) == 10:\n",
    "                return local\n",
    "            return f'+{\"*\" * (len(digits) - 10)}-{local}' "
   ]
  },
  {
   "cell_type": "code",
   "execution_count": 14,
   "metadata": {},
   "outputs": [
    {
     "data": {
      "text/plain": [
       "'***-***-7890'"
      ]
     },
     "execution_count": 14,
     "metadata": {},
     "output_type": "execute_result"
    }
   ],
   "source": [
    "Solution().maskPII('1(234)567-890')"
   ]
  },
  {
   "cell_type": "code",
   "execution_count": null,
   "metadata": {},
   "outputs": [],
   "source": []
  }
 ],
 "metadata": {
  "kernelspec": {
   "display_name": "Python 3",
   "language": "python",
   "name": "python3"
  },
  "language_info": {
   "codemirror_mode": {
    "name": "ipython",
    "version": 3
   },
   "file_extension": ".py",
   "mimetype": "text/x-python",
   "name": "python",
   "nbconvert_exporter": "python",
   "pygments_lexer": "ipython3",
   "version": "3.8.1"
  }
 },
 "nbformat": 4,
 "nbformat_minor": 4
}
