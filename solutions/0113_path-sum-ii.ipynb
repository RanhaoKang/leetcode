{
 "cells": [
  {
   "cell_type": "markdown",
   "metadata": {},
   "source": [
    "[113. Path Sum II](https://leetcode.com/problems/path-sum-ii/)"
   ]
  },
  {
   "cell_type": "code",
   "execution_count": 4,
   "metadata": {},
   "outputs": [],
   "source": [
    "# Definition for a binary tree node.\n",
    "class TreeNode:\n",
    "    def __init__(self, x):\n",
    "        self.val = x\n",
    "        self.left = None\n",
    "        self.right = None\n",
    "\n",
    "class Solution:\n",
    "    def pathSum(self, root: TreeNode, sum: int):\n",
    "        def iterate(node, path, total):\n",
    "            if node:\n",
    "                if not node.left and not node.right:\n",
    "                    if total + node.val == sum:\n",
    "                        yield path + [node.val]\n",
    "\n",
    "                yield from iterate(node.left, path + [node.val], total + node.val)\n",
    "                yield from iterate(node.right, path + [node.val], total + node.val)\n",
    "\n",
    "        return list(iterate(root, [], 0))"
   ]
  },
  {
   "cell_type": "code",
   "execution_count": null,
   "metadata": {},
   "outputs": [],
   "source": []
  }
 ],
 "metadata": {
  "kernelspec": {
   "display_name": "Python 3",
   "language": "python",
   "name": "python3"
  },
  "language_info": {
   "codemirror_mode": {
    "name": "ipython",
    "version": 3
   },
   "file_extension": ".py",
   "mimetype": "text/x-python",
   "name": "python",
   "nbconvert_exporter": "python",
   "pygments_lexer": "ipython3",
   "version": "3.6.7"
  }
 },
 "nbformat": 4,
 "nbformat_minor": 2
}
