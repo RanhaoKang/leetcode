{
 "cells": [
  {
   "cell_type": "markdown",
   "metadata": {},
   "source": [
    "[1177. Can Make Palindrome from Substring](https://leetcode.com/problems/can-make-palindrome-from-substring/)"
   ]
  },
  {
   "cell_type": "markdown",
   "metadata": {},
   "source": [
    "`Counter`作prefix sum的overhead实在太大了, 6392ms"
   ]
  },
  {
   "cell_type": "code",
   "execution_count": 11,
   "metadata": {},
   "outputs": [],
   "source": [
    "class Solution:\n",
    "    def canMakePaliQueries(self, s: str, queries):\n",
    "        from collections import Counter\n",
    "        S = [Counter()]\n",
    "        for c in s:\n",
    "            S.append(S[-1] + Counter(c))\n",
    "        \n",
    "        res = []\n",
    "        for l, r, k in queries:\n",
    "            rem = 0\n",
    "            for c, n in (S[r + 1] - S[l]).items():\n",
    "                rem += n % 2\n",
    "            need = rem // 2\n",
    "            res.append(need <= k)\n",
    "        \n",
    "        return res"
   ]
  },
  {
   "cell_type": "code",
   "execution_count": 12,
   "metadata": {},
   "outputs": [
    {
     "data": {
      "text/plain": [
       "[False]"
      ]
     },
     "execution_count": 12,
     "metadata": {},
     "output_type": "execute_result"
    }
   ],
   "source": [
    "Solution().canMakePaliQueries('abcda', [[1,2,0]])"
   ]
  },
  {
   "cell_type": "markdown",
   "metadata": {},
   "source": [
    "https://leetcode.com/problems/can-make-palindrome-from-substring/discuss/371999/Python-100-runtime-and-memory\n",
    "\n",
    "对lowercase特化, 1416ms"
   ]
  },
  {
   "cell_type": "code",
   "execution_count": 13,
   "metadata": {},
   "outputs": [],
   "source": [
    "class Solution:\n",
    "    def canMakePaliQueries(self, s: str, queries):\n",
    "        N = 26\n",
    "        S = len(s) + 1\n",
    "        ints = list(map(lambda c: ord(c) - ord('a'), s))\n",
    "\n",
    "        dp = [0] * S\n",
    "        for i in range(1, S):\n",
    "            dp[i] = dp[i-1] ^ (1 << ints[i-1])\n",
    "\n",
    "        ones = lambda x: bin(x).count('1')\n",
    "        return [\n",
    "            ones(dp[r+1] ^ dp[l]) >> 1 <= k\n",
    "            for l, r, k in queries\n",
    "        ]"
   ]
  },
  {
   "cell_type": "code",
   "execution_count": null,
   "metadata": {},
   "outputs": [],
   "source": []
  }
 ],
 "metadata": {
  "kernelspec": {
   "display_name": "Python 3",
   "language": "python",
   "name": "python3"
  },
  "language_info": {
   "codemirror_mode": {
    "name": "ipython",
    "version": 3
   },
   "file_extension": ".py",
   "mimetype": "text/x-python",
   "name": "python",
   "nbconvert_exporter": "python",
   "pygments_lexer": "ipython3",
   "version": "3.8.1"
  }
 },
 "nbformat": 4,
 "nbformat_minor": 4
}
