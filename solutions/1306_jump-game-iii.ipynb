{
 "cells": [
  {
   "cell_type": "markdown",
   "metadata": {},
   "source": [
    "[1306. Jump Game III](https://leetcode.com/problems/jump-game-iii/)"
   ]
  },
  {
   "cell_type": "markdown",
   "metadata": {},
   "source": [
    "使用`set`"
   ]
  },
  {
   "cell_type": "code",
   "execution_count": 17,
   "metadata": {},
   "outputs": [],
   "source": [
    "class Solution:\n",
    "    def canReach(self, A, start: int) -> bool:\n",
    "        end = {i for i, v in enumerate(A) if v == 0}\n",
    "        \n",
    "        \n",
    "        cur, N = set({start}), len(A)\n",
    "        while True:\n",
    "            new = (cur | {i - A[i] for i in cur if i - A[i] >= 0}\n",
    "                       | {i + A[i] for i in cur if i + A[i] < N})\n",
    "\n",
    "            if new & end:\n",
    "                return True\n",
    "            elif cur == new:\n",
    "                return False\n",
    "            else:\n",
    "                cur = new"
   ]
  },
  {
   "cell_type": "code",
   "execution_count": 18,
   "metadata": {},
   "outputs": [
    {
     "data": {
      "text/plain": [
       "True"
      ]
     },
     "execution_count": 18,
     "metadata": {},
     "output_type": "execute_result"
    }
   ],
   "source": [
    "Solution().canReach([4,2,3,0,3,1,2], start = 5)"
   ]
  },
  {
   "cell_type": "code",
   "execution_count": 19,
   "metadata": {},
   "outputs": [
    {
     "data": {
      "text/plain": [
       "True"
      ]
     },
     "execution_count": 19,
     "metadata": {},
     "output_type": "execute_result"
    }
   ],
   "source": [
    "Solution().canReach([0,1], start = 1)"
   ]
  },
  {
   "cell_type": "markdown",
   "metadata": {},
   "source": [
    "也可用标记法"
   ]
  },
  {
   "cell_type": "code",
   "execution_count": 20,
   "metadata": {},
   "outputs": [],
   "source": [
    "class Solution:\n",
    "    def canReach(self, A, i: int) -> bool:\n",
    "        if 0 <= i < len(A) and A[i] >= 0:\n",
    "            A[i] = -A[i]\n",
    "            return A[i] == 0 or self.canReach(A, i + A[i]) or self.canReach(A, i - A[i])\n",
    "        return False"
   ]
  },
  {
   "cell_type": "code",
   "execution_count": null,
   "metadata": {},
   "outputs": [],
   "source": []
  }
 ],
 "metadata": {
  "kernelspec": {
   "display_name": "Python 3",
   "language": "python",
   "name": "python3"
  },
  "language_info": {
   "codemirror_mode": {
    "name": "ipython",
    "version": 3
   },
   "file_extension": ".py",
   "mimetype": "text/x-python",
   "name": "python",
   "nbconvert_exporter": "python",
   "pygments_lexer": "ipython3",
   "version": "3.8.1"
  }
 },
 "nbformat": 4,
 "nbformat_minor": 4
}
