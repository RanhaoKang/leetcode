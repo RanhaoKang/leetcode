{
 "cells": [
  {
   "cell_type": "markdown",
   "metadata": {},
   "source": [
    "[823. Binary Trees With Factors](https://leetcode.com/problems/binary-trees-with-factors/)"
   ]
  },
  {
   "cell_type": "code",
   "execution_count": 1,
   "metadata": {},
   "outputs": [],
   "source": [
    "from functools import lru_cache\n",
    "\n",
    "class Solution:\n",
    "    def numFactoredBinaryTrees(self, A) -> int:\n",
    "        @lru_cache(None)\n",
    "        def dp(val):\n",
    "            res = 1\n",
    "            for i in A:\n",
    "                j = val // i\n",
    "                if j in set_A and i * j == val:\n",
    "                    res += dp(i) * dp(j)\n",
    "                            \n",
    "            # print(val, res)\n",
    "            return res\n",
    "        \n",
    "        set_A = set(A)\n",
    "        return sum(dp(i) for i in A) % (10**9 + 7)"
   ]
  },
  {
   "cell_type": "code",
   "execution_count": null,
   "metadata": {},
   "outputs": [],
   "source": []
  }
 ],
 "metadata": {
  "kernelspec": {
   "display_name": "Python 3",
   "language": "python",
   "name": "python3"
  },
  "language_info": {
   "codemirror_mode": {
    "name": "ipython",
    "version": 3
   },
   "file_extension": ".py",
   "mimetype": "text/x-python",
   "name": "python",
   "nbconvert_exporter": "python",
   "pygments_lexer": "ipython3",
   "version": "3.8.1"
  }
 },
 "nbformat": 4,
 "nbformat_minor": 4
}
