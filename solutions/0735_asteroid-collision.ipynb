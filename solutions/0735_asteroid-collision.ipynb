{
 "cells": [
  {
   "cell_type": "markdown",
   "metadata": {},
   "source": [
    "[735. Asteroid Collision](https://leetcode.com/problems/asteroid-collision/)"
   ]
  },
  {
   "cell_type": "markdown",
   "metadata": {},
   "source": [
    "正负表明了方向(以原点向右为正方向), 数值表明了质量."
   ]
  },
  {
   "cell_type": "code",
   "execution_count": 24,
   "metadata": {},
   "outputs": [],
   "source": [
    "from collections import deque\n",
    "\n",
    "class Solution:\n",
    "    def asteroidCollision(self, asteroids):\n",
    "        stack = deque()\n",
    "        res = []\n",
    "        \n",
    "        for i in asteroids:\n",
    "            if i > 0:\n",
    "                stack.append(i)\n",
    "            else:\n",
    "                while stack and stack[-1] < -i:\n",
    "                    stack.pop()\n",
    "                if stack and stack[-1] == -i:\n",
    "                    stack.pop()\n",
    "                elif not stack:\n",
    "                    res.append(i)\n",
    "        \n",
    "        return res + list(stack)"
   ]
  },
  {
   "cell_type": "code",
   "execution_count": 27,
   "metadata": {},
   "outputs": [
    {
     "data": {
      "text/plain": [
       "[-2, -1, 1, 2]"
      ]
     },
     "execution_count": 27,
     "metadata": {},
     "output_type": "execute_result"
    }
   ],
   "source": [
    "Solution().asteroidCollision([-2, -1, 1, 2])"
   ]
  },
  {
   "cell_type": "code",
   "execution_count": null,
   "metadata": {},
   "outputs": [],
   "source": []
  }
 ],
 "metadata": {
  "kernelspec": {
   "display_name": "Python 3",
   "language": "python",
   "name": "python3"
  },
  "language_info": {
   "codemirror_mode": {
    "name": "ipython",
    "version": 3
   },
   "file_extension": ".py",
   "mimetype": "text/x-python",
   "name": "python",
   "nbconvert_exporter": "python",
   "pygments_lexer": "ipython3",
   "version": "3.6.7"
  }
 },
 "nbformat": 4,
 "nbformat_minor": 2
}
