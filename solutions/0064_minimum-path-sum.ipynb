{
 "cells": [
  {
   "cell_type": "markdown",
   "metadata": {},
   "source": [
    "[64. Minimum Path Sum](https://leetcode.com/problems/minimum-path-sum/)"
   ]
  },
  {
   "cell_type": "markdown",
   "metadata": {},
   "source": [
    "bottom-up的DP"
   ]
  },
  {
   "cell_type": "code",
   "execution_count": 6,
   "metadata": {},
   "outputs": [],
   "source": [
    "class Solution:\n",
    "    def minPathSum(self, grid) -> int:\n",
    "        h, w = len(grid), len(grid and grid[0])\n",
    "        dp = [[0] * w for _ in range(h)]\n",
    "        \n",
    "        dp[0][0] = grid[0][0]\n",
    "        \n",
    "        for i in range(1, h):\n",
    "            dp[i][0] = dp[i-1][0] + grid[i][0]\n",
    "        for j in range(1, w):\n",
    "            dp[0][j] = dp[0][j-1] + grid[0][j]\n",
    "        \n",
    "        for i in range(1, h):\n",
    "            for j in range(1, w):\n",
    "                \n",
    "                dp[i][j] = min(dp[i-1][j], dp[i][j-1]) + grid[i][j]\n",
    "        \n",
    "        return dp[-1][-1]"
   ]
  },
  {
   "cell_type": "code",
   "execution_count": null,
   "metadata": {},
   "outputs": [],
   "source": []
  }
 ],
 "metadata": {
  "kernelspec": {
   "display_name": "Python 3",
   "language": "python",
   "name": "python3"
  },
  "language_info": {
   "codemirror_mode": {
    "name": "ipython",
    "version": 3
   },
   "file_extension": ".py",
   "mimetype": "text/x-python",
   "name": "python",
   "nbconvert_exporter": "python",
   "pygments_lexer": "ipython3",
   "version": "3.6.7"
  }
 },
 "nbformat": 4,
 "nbformat_minor": 2
}
