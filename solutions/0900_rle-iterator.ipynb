{
 "cells": [
  {
   "cell_type": "markdown",
   "metadata": {},
   "source": [
    "[900. RLE Iterator](https://leetcode.com/problems/rle-iterator/)"
   ]
  },
  {
   "cell_type": "markdown",
   "metadata": {},
   "source": [
    "虽然是Iterator-style的题, 但是实在不懂老外为什么喜欢这种计数"
   ]
  },
  {
   "cell_type": "code",
   "execution_count": null,
   "metadata": {},
   "outputs": [],
   "source": [
    "from collections import deque\n",
    "\n",
    "class RLEIterator:\n",
    "\n",
    "    def __init__(self, A: List[int]):\n",
    "        self.q = deque([[a, b] for a, b in zip(A[::2], A[1::2])])\n",
    "\n",
    "    def next(self, n: int) -> int:\n",
    "        while self.q:\n",
    "            a, b = self.q[0]\n",
    "            self.q[0][0] -= n\n",
    "            n -= a\n",
    "            a = self.q[0][0]\n",
    "            \n",
    "            if a <= 0:\n",
    "                self.q.popleft()\n",
    "            if a >= 0:\n",
    "                return b\n",
    "        \n",
    "        return -1\n",
    "\n",
    "\n",
    "# Your RLEIterator object will be instantiated and called as such:\n",
    "# obj = RLEIterator(A)\n",
    "# param_1 = obj.next(n)"
   ]
  }
 ],
 "metadata": {
  "kernelspec": {
   "display_name": "Python 3",
   "language": "python",
   "name": "python3"
  },
  "language_info": {
   "codemirror_mode": {
    "name": "ipython",
    "version": 3
   },
   "file_extension": ".py",
   "mimetype": "text/x-python",
   "name": "python",
   "nbconvert_exporter": "python",
   "pygments_lexer": "ipython3",
   "version": "3.6.7"
  }
 },
 "nbformat": 4,
 "nbformat_minor": 2
}
