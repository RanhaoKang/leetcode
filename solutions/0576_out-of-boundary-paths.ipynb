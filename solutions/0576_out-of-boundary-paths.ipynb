{
 "cells": [
  {
   "cell_type": "markdown",
   "metadata": {},
   "source": [
    "[576. Out of Boundary Paths](https://leetcode.com/problems/out-of-boundary-paths/)"
   ]
  },
  {
   "cell_type": "markdown",
   "metadata": {},
   "source": [
    "自己的传统写法, 156ms"
   ]
  },
  {
   "cell_type": "code",
   "execution_count": 70,
   "metadata": {},
   "outputs": [],
   "source": [
    "class Solution:\n",
    "    def findPaths(self, H: int, W: int, N: int, i: int, j: int) -> int:\n",
    "        from functools import lru_cache\n",
    "\n",
    "        @lru_cache(None)\n",
    "        def dp(i, j, n):\n",
    "            if i < 0 or i >= H or j < 0 or j >= W:\n",
    "                return 1\n",
    "            if n == 0:\n",
    "                return 0\n",
    "\n",
    "            return sum([\n",
    "                 dp(i - 1, j, n - 1),\n",
    "                 dp(i, j - 1, n - 1),\n",
    "                 dp(i + 1, j, n - 1),\n",
    "                 dp(i, j + 1, n - 1),\n",
    "             ])\n",
    "    \n",
    "        return dp(i, j, N) % (10 ** 9 + 7)"
   ]
  },
  {
   "cell_type": "code",
   "execution_count": 71,
   "metadata": {},
   "outputs": [
    {
     "data": {
      "text/plain": [
       "6"
      ]
     },
     "execution_count": 71,
     "metadata": {},
     "output_type": "execute_result"
    }
   ],
   "source": [
    "Solution().findPaths(2,2,2,0,0)"
   ]
  },
  {
   "cell_type": "code",
   "execution_count": 72,
   "metadata": {},
   "outputs": [
    {
     "data": {
      "text/plain": [
       "12"
      ]
     },
     "execution_count": 72,
     "metadata": {},
     "output_type": "execute_result"
    }
   ],
   "source": [
    "Solution().findPaths(1,3,3,0,1)"
   ]
  },
  {
   "cell_type": "markdown",
   "metadata": {},
   "source": [
    "lee的写法，很有画面感"
   ]
  },
  {
   "cell_type": "code",
   "execution_count": 73,
   "metadata": {},
   "outputs": [],
   "source": [
    "class Solution:\n",
    "    def findPaths(self, m, n, N, x, y):\n",
    "        M = [[0 for i in range(n)] for j in range(m)]\n",
    "        for _ in range(N):\n",
    "            M = [[(i == 0 or M[i - 1][j]) + (i + 1 == m or M[i + 1][j])\n",
    "                  + (j == 0 or M[i][j - 1]) + (j + 1 == n or M[i][j + 1])\n",
    "                  for j in range(n)] for i in range(m)]\n",
    "        return M[x][y] % (10 ** 9 + 7)"
   ]
  },
  {
   "cell_type": "code",
   "execution_count": null,
   "metadata": {},
   "outputs": [],
   "source": []
  }
 ],
 "metadata": {
  "kernelspec": {
   "display_name": "Python 3",
   "language": "python",
   "name": "python3"
  },
  "language_info": {
   "codemirror_mode": {
    "name": "ipython",
    "version": 3
   },
   "file_extension": ".py",
   "mimetype": "text/x-python",
   "name": "python",
   "nbconvert_exporter": "python",
   "pygments_lexer": "ipython3",
   "version": "3.8.1"
  }
 },
 "nbformat": 4,
 "nbformat_minor": 4
}
