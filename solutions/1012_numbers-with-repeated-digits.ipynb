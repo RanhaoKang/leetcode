{
 "cells": [
  {
   "cell_type": "markdown",
   "metadata": {},
   "source": [
    "[1012. Numbers With Repeated Digits](https://leetcode.com/problems/numbers-with-repeated-digits/)"
   ]
  },
  {
   "cell_type": "code",
   "execution_count": 1,
   "metadata": {},
   "outputs": [],
   "source": [
    "class Solution:\n",
    "    def numDupDigitsAtMostN(self, N: int) -> int:\n",
    "        L = list(map(int, str(N + 1)))\n",
    "        res, n = 0, len(L)\n",
    "\n",
    "        def A(m, n):\n",
    "            return 1 if n == 0 else A(m, n - 1) * (m - n + 1)\n",
    "\n",
    "        for i in range(1, n): res += 9 * A(9, i - 1)\n",
    "        s = set()\n",
    "        for i, x in enumerate(L):\n",
    "            for y in range(0 if i else 1, x):\n",
    "                if y not in s:\n",
    "                    res += A(9 - i, n - i - 1)\n",
    "            if x in s: break\n",
    "            s.add(x)\n",
    "        return N - res"
   ]
  },
  {
   "cell_type": "code",
   "execution_count": null,
   "metadata": {},
   "outputs": [],
   "source": []
  }
 ],
 "metadata": {
  "kernelspec": {
   "display_name": "Python 3",
   "language": "python",
   "name": "python3"
  },
  "language_info": {
   "codemirror_mode": {
    "name": "ipython",
    "version": 3
   },
   "file_extension": ".py",
   "mimetype": "text/x-python",
   "name": "python",
   "nbconvert_exporter": "python",
   "pygments_lexer": "ipython3",
   "version": "3.8.1"
  }
 },
 "nbformat": 4,
 "nbformat_minor": 4
}
