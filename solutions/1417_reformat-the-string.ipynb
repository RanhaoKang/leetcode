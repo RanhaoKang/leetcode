{
 "cells": [
  {
   "cell_type": "markdown",
   "metadata": {},
   "source": [
    "[1417. Reformat The String](https://leetcode.com/problems/reformat-the-string/)"
   ]
  },
  {
   "cell_type": "code",
   "execution_count": 19,
   "metadata": {},
   "outputs": [],
   "source": [
    "class Solution:\n",
    "    def reformat(self, s: str) -> str:\n",
    "        a, b = [], []\n",
    "        for c in s:\n",
    "            if 'a' <= c <= 'z':\n",
    "                a.append(c)\n",
    "            else:\n",
    "                b.append(c)\n",
    "        if len(a) < len(b):\n",
    "            a, b = b, a\n",
    "        if len(a) - len(b) >= 2:\n",
    "            return ''\n",
    "        ans = ''\n",
    "        for i in range(len(a)+len(b)):\n",
    "            if i % 2 == 0:\n",
    "                ans += a[i//2]\n",
    "            else:\n",
    "                ans += b[i//2]\n",
    "        return ans"
   ]
  },
  {
   "cell_type": "code",
   "execution_count": null,
   "metadata": {},
   "outputs": [],
   "source": []
  }
 ],
 "metadata": {
  "kernelspec": {
   "display_name": "Python 3",
   "language": "python",
   "name": "python3"
  },
  "language_info": {
   "codemirror_mode": {
    "name": "ipython",
    "version": 3
   },
   "file_extension": ".py",
   "mimetype": "text/x-python",
   "name": "python",
   "nbconvert_exporter": "python",
   "pygments_lexer": "ipython3",
   "version": "3.8.0b3"
  }
 },
 "nbformat": 4,
 "nbformat_minor": 2
}
