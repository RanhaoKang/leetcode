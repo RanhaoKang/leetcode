{
 "cells": [
  {
   "cell_type": "markdown",
   "metadata": {},
   "source": [
    "[519. Random Flip Matrix](https://leetcode.com/problems/random-flip-matrix/)"
   ]
  },
  {
   "cell_type": "code",
   "execution_count": 1,
   "metadata": {},
   "outputs": [],
   "source": [
    "class Solution:\n",
    "\n",
    "    def __init__(self, n_rows: int, n_cols: int):\n",
    "        self.c = n_cols\n",
    "        self.end = n_rows * n_cols - 1\n",
    "        self.d = {}\n",
    "        self.start = 0\n",
    "\n",
    "\n",
    "    def flip(self):\n",
    "        rand = random.randint(self.start, self.end)\n",
    "        res = self.d.get(rand, rand)\n",
    "        self.d[rand] = self.d.get(self.start, self.start)\n",
    "        self.start += 1\n",
    "        \n",
    "        return divmod(res, self.c)\n",
    "\n",
    "\n",
    "    def reset(self) -> None:\n",
    "        self.d = {}\n",
    "        self.start = 0\n",
    "\n",
    "\n",
    "# Your Solution object will be instantiated and called as such:\n",
    "# obj = Solution(n_rows, n_cols)\n",
    "# param_1 = obj.flip()\n",
    "# obj.reset()"
   ]
  },
  {
   "cell_type": "code",
   "execution_count": null,
   "metadata": {},
   "outputs": [],
   "source": []
  }
 ],
 "metadata": {
  "kernelspec": {
   "display_name": "Python 3",
   "language": "python",
   "name": "python3"
  },
  "language_info": {
   "codemirror_mode": {
    "name": "ipython",
    "version": 3
   },
   "file_extension": ".py",
   "mimetype": "text/x-python",
   "name": "python",
   "nbconvert_exporter": "python",
   "pygments_lexer": "ipython3",
   "version": "3.8.1"
  }
 },
 "nbformat": 4,
 "nbformat_minor": 4
}
