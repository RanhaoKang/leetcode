{
 "cells": [
  {
   "cell_type": "markdown",
   "metadata": {},
   "source": [
    "[764. Largest Plus Sign](https://leetcode.com/problems/largest-plus-sign/)"
   ]
  },
  {
   "cell_type": "code",
   "execution_count": 1,
   "metadata": {},
   "outputs": [],
   "source": [
    "class Solution:\n",
    "    def orderOfLargestPlusSign(self, N: int, mines) -> int:\n",
    "        #up, left, down, right\n",
    "        dp, res, mines = [[[0, 0, 0, 0] for j in range(N)] for i in range(N)], 0, {(i, j) for i, j in mines}\n",
    "        for i in range(N):\n",
    "            for j in range(N):\n",
    "                if (i, j) not in mines:\n",
    "                    try:\n",
    "                        dp[i][j][0] = dp[i - 1][j][0] + 1\n",
    "                    except:\n",
    "                        dp[i][j][0] = 1\n",
    "                    try:\n",
    "                        dp[i][j][1] = dp[i][j - 1][1] + 1\n",
    "                    except:\n",
    "                        dp[i][j][1] = 1\n",
    "        for i in range(N - 1, -1, -1):\n",
    "            for j in range(N - 1, -1, -1):\n",
    "                if (i, j) not in mines:\n",
    "                    try:\n",
    "                        dp[i][j][2] = dp[i + 1][j][2] + 1\n",
    "                    except:\n",
    "                        dp[i][j][2] = 1\n",
    "                    try:\n",
    "                        dp[i][j][3] = dp[i][j + 1][3] + 1\n",
    "                    except:\n",
    "                        dp[i][j][3] = 1\n",
    "                    res = max(res, min(dp[i][j]))\n",
    "        return res"
   ]
  },
  {
   "cell_type": "code",
   "execution_count": null,
   "metadata": {},
   "outputs": [],
   "source": []
  }
 ],
 "metadata": {
  "kernelspec": {
   "display_name": "Python 3",
   "language": "python",
   "name": "python3"
  },
  "language_info": {
   "codemirror_mode": {
    "name": "ipython",
    "version": 3
   },
   "file_extension": ".py",
   "mimetype": "text/x-python",
   "name": "python",
   "nbconvert_exporter": "python",
   "pygments_lexer": "ipython3",
   "version": "3.8.1"
  }
 },
 "nbformat": 4,
 "nbformat_minor": 4
}
