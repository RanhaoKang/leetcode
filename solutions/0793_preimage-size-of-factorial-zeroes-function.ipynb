{
 "cells": [
  {
   "cell_type": "markdown",
   "metadata": {},
   "source": [
    "[793. Preimage Size of Factorial Zeroes Function](https://leetcode.com/problems/preimage-size-of-factorial-zeroes-function/)"
   ]
  },
  {
   "cell_type": "code",
   "execution_count": 1,
   "metadata": {},
   "outputs": [],
   "source": [
    "class Solution:\n",
    "    def preimageSizeFZF(self, K: int) -> int:\n",
    "        def nzero(n):\n",
    "            f = 5\n",
    "            cnt = 0\n",
    "            while f <= n:\n",
    "                cnt += n // f\n",
    "                f *= 5\n",
    "            return cnt\n",
    "\n",
    "        if K == 0:\n",
    "            return 5\n",
    "\n",
    "        min = 1\n",
    "        max = K * 5\n",
    "        while min < max:\n",
    "            mid = (min + max) // 2\n",
    "            if nzero(mid) < K:\n",
    "                min = mid + 1\n",
    "            else:\n",
    "                max = mid\n",
    "\n",
    "        if nzero(min) != K:\n",
    "            return 0\n",
    "        else:\n",
    "            # next = (min // 5 + 1) * 5\n",
    "            # return next - min\n",
    "            return 5"
   ]
  },
  {
   "cell_type": "code",
   "execution_count": null,
   "metadata": {},
   "outputs": [],
   "source": []
  }
 ],
 "metadata": {
  "kernelspec": {
   "display_name": "Python 3",
   "language": "python",
   "name": "python3"
  },
  "language_info": {
   "codemirror_mode": {
    "name": "ipython",
    "version": 3
   },
   "file_extension": ".py",
   "mimetype": "text/x-python",
   "name": "python",
   "nbconvert_exporter": "python",
   "pygments_lexer": "ipython3",
   "version": "3.8.1"
  }
 },
 "nbformat": 4,
 "nbformat_minor": 4
}
