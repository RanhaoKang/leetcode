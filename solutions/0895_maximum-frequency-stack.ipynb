{
 "cells": [
  {
   "cell_type": "markdown",
   "metadata": {},
   "source": [
    "[895. Maximum Frequency Stack](https://leetcode.com/problems/maximum-frequency-stack/)"
   ]
  },
  {
   "cell_type": "code",
   "execution_count": 1,
   "metadata": {},
   "outputs": [],
   "source": [
    "from collections import Counter, defaultdict\n",
    "\n",
    "class FreqStack:\n",
    "\n",
    "    def __init__(self):\n",
    "        self.frequency = Counter()\n",
    "        self.group = defaultdict(list)\n",
    "        self.max_frequency = 0\n",
    "\n",
    "    def push(self, x):\n",
    "        self.frequency[x] += 1\n",
    "        self.max_frequency = max(self.max_frequency, self.frequency[x])\n",
    "        self.group[self.frequency[x]].append(x)\n",
    "\n",
    "    def pop(self):\n",
    "        x = self.group[self.max_frequency].pop()\n",
    "        self.frequency[x] -= 1\n",
    "        if not self.group[self.max_frequency]:\n",
    "            self.max_frequency -= 1\n",
    "        return x\n",
    "\n",
    "# Your FreqStack object will be instantiated and called as such:\n",
    "# obj = FreqStack()\n",
    "# obj.push(x)\n",
    "# param_2 = obj.pop()"
   ]
  },
  {
   "cell_type": "code",
   "execution_count": null,
   "metadata": {},
   "outputs": [],
   "source": []
  }
 ],
 "metadata": {
  "kernelspec": {
   "display_name": "Python 3",
   "language": "python",
   "name": "python3"
  },
  "language_info": {
   "codemirror_mode": {
    "name": "ipython",
    "version": 3
   },
   "file_extension": ".py",
   "mimetype": "text/x-python",
   "name": "python",
   "nbconvert_exporter": "python",
   "pygments_lexer": "ipython3",
   "version": "3.6.7"
  }
 },
 "nbformat": 4,
 "nbformat_minor": 2
}
