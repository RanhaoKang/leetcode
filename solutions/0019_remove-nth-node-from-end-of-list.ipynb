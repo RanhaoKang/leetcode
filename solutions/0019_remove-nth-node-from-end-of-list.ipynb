{
 "cells": [
  {
   "cell_type": "markdown",
   "metadata": {},
   "source": [
    "[19. Remove Nth Node From End of List](https://leetcode.com/problems/remove-nth-node-from-end-of-list/)"
   ]
  },
  {
   "cell_type": "markdown",
   "metadata": {},
   "source": [
    "two-scan"
   ]
  },
  {
   "cell_type": "code",
   "execution_count": 28,
   "metadata": {},
   "outputs": [],
   "source": [
    "# Definition for singly-linked list.\n",
    "class ListNode:\n",
    "    def __init__(self, x):\n",
    "        self.val = x\n",
    "        self.next = None\n",
    "\n",
    "class Solution:\n",
    "    def removeNthFromEnd(self, head: ListNode, n: int) -> ListNode:\n",
    "        # 第一趟, 确定链表长度\n",
    "        p = head\n",
    "        length = 0\n",
    "        while p:\n",
    "            p = p.next\n",
    "            length += 1\n",
    "        \n",
    "        print(length)\n",
    "        if length < n + 1:\n",
    "            return head.next\n",
    "        \n",
    "        # 第二趟, 移除后n个节点\n",
    "        p = head\n",
    "        cnt = 1\n",
    "        while p:\n",
    "            if cnt == length - n:\n",
    "                p.next = p.next.next if p.next else None\n",
    "                return head\n",
    "            p = p.next\n",
    "            cnt += 1\n",
    "        \n",
    "        return head"
   ]
  },
  {
   "cell_type": "code",
   "execution_count": 31,
   "metadata": {},
   "outputs": [
    {
     "name": "stdout",
     "output_type": "stream",
     "text": [
      "2\n"
     ]
    }
   ],
   "source": [
    "p = ListNode(1)\n",
    "p.next = ListNode(2)\n",
    "res = Solution().removeNthFromEnd(p, 2)"
   ]
  },
  {
   "cell_type": "code",
   "execution_count": 32,
   "metadata": {},
   "outputs": [
    {
     "name": "stdout",
     "output_type": "stream",
     "text": [
      "2\n"
     ]
    }
   ],
   "source": [
    "while res:\n",
    "    print(res.val)\n",
    "    res = res.next"
   ]
  },
  {
   "cell_type": "markdown",
   "metadata": {},
   "source": [
    "快慢指针, 实际上也是two-scan"
   ]
  },
  {
   "cell_type": "code",
   "execution_count": 51,
   "metadata": {},
   "outputs": [],
   "source": [
    "# Definition for singly-linked list.\n",
    "class ListNode:\n",
    "    def __init__(self, x):\n",
    "        self.val = x\n",
    "        self.next = None\n",
    "\n",
    "class Solution:\n",
    "    def removeNthFromEnd(self, head: ListNode, n: int) -> ListNode:\n",
    "        slow = fast = head\n",
    "        for i in range(n):\n",
    "            fast = fast.next\n",
    "        \n",
    "        if not fast:\n",
    "            return head.next\n",
    "        fast = fast.next\n",
    "        \n",
    "        while fast:\n",
    "            print(slow.val, fast.val)\n",
    "            slow, fast = slow.next, fast.next\n",
    "        \n",
    "        slow.next = slow.next.next if slow.next else None\n",
    "        \n",
    "        return head"
   ]
  },
  {
   "cell_type": "code",
   "execution_count": 52,
   "metadata": {},
   "outputs": [
    {
     "name": "stdout",
     "output_type": "stream",
     "text": [
      "2\n"
     ]
    }
   ],
   "source": [
    "p = ListNode(1)\n",
    "p.next = ListNode(2)\n",
    "res = Solution().removeNthFromEnd(p, 2)\n",
    "while res:\n",
    "    print(res.val)\n",
    "    res = res.next"
   ]
  },
  {
   "cell_type": "markdown",
   "metadata": {},
   "source": [
    "存队列, 真正意义上的one pass, 不过空间复杂度是$O(n)$"
   ]
  },
  {
   "cell_type": "code",
   "execution_count": 59,
   "metadata": {},
   "outputs": [],
   "source": [
    "# Definition for singly-linked list.\n",
    "class ListNode:\n",
    "    def __init__(self, x):\n",
    "        self.val = x\n",
    "        self.next = None\n",
    "\n",
    "class Solution:\n",
    "    def removeNthFromEnd(self, head: ListNode, n: int) -> ListNode:\n",
    "        if n == 1:\n",
    "            \n",
    "        from collections import deque\n",
    "        q = deque(maxlen = n)\n",
    "        p = head\n",
    "        while p:\n",
    "            q.append(p)\n",
    "            p = p.next\n",
    "        \n",
    "        q[0].next = \n",
    "        \n",
    "        return head"
   ]
  },
  {
   "cell_type": "code",
   "execution_count": 60,
   "metadata": {},
   "outputs": [
    {
     "name": "stdout",
     "output_type": "stream",
     "text": [
      "2\n"
     ]
    }
   ],
   "source": [
    "p = ListNode(1)\n",
    "p.next = ListNode(2)\n",
    "res = Solution().removeNthFromEnd(p, 1)\n",
    "while res:\n",
    "    print(res.val)\n",
    "    res = res.next"
   ]
  },
  {
   "cell_type": "code",
   "execution_count": null,
   "metadata": {},
   "outputs": [],
   "source": []
  }
 ],
 "metadata": {
  "kernelspec": {
   "display_name": "Python 3",
   "language": "python",
   "name": "python3"
  },
  "language_info": {
   "codemirror_mode": {
    "name": "ipython",
    "version": 3
   },
   "file_extension": ".py",
   "mimetype": "text/x-python",
   "name": "python",
   "nbconvert_exporter": "python",
   "pygments_lexer": "ipython3",
   "version": "3.6.7"
  }
 },
 "nbformat": 4,
 "nbformat_minor": 2
}
