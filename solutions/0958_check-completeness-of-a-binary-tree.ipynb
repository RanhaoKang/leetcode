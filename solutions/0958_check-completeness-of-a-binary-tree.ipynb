{
 "cells": [
  {
   "cell_type": "markdown",
   "metadata": {},
   "source": [
    "[958. Check Completeness of a Binary Tree](https://leetcode.com/problems/check-completeness-of-a-binary-tree/)"
   ]
  },
  {
   "cell_type": "code",
   "execution_count": 2,
   "metadata": {},
   "outputs": [],
   "source": [
    "# Definition for a binary tree node.\n",
    "class TreeNode:\n",
    "    def __init__(self, x):\n",
    "        self.val = x\n",
    "        self.left = None\n",
    "        self.right = None\n",
    "\n",
    "class Solution:\n",
    "    def isCompleteTree(self, root: TreeNode) -> bool:\n",
    "        def bfs(level, should_be_all_none = False):\n",
    "            if should_be_all_none and any(level):\n",
    "                raise StopIteration\n",
    "            \n",
    "            next_level = []\n",
    "            \n",
    "            seen_leaf = False\n",
    "            for node in level:\n",
    "                if node:\n",
    "                    if seen_leaf:\n",
    "                        raise StopIteration\n",
    "                    next_level.append(node.left)\n",
    "                    next_level.append(node.right)\n",
    "                else:\n",
    "                    seen_leaf = True\n",
    "                    \n",
    "            if next_level:\n",
    "                bfs(next_level, seen_leaf)\n",
    "        \n",
    "        \n",
    "        try:\n",
    "            bfs([root])\n",
    "        except StopIteration:\n",
    "            return False\n",
    "        return True"
   ]
  },
  {
   "cell_type": "code",
   "execution_count": null,
   "metadata": {},
   "outputs": [],
   "source": []
  }
 ],
 "metadata": {
  "kernelspec": {
   "display_name": "Python 3",
   "language": "python",
   "name": "python3"
  },
  "language_info": {
   "codemirror_mode": {
    "name": "ipython",
    "version": 3
   },
   "file_extension": ".py",
   "mimetype": "text/x-python",
   "name": "python",
   "nbconvert_exporter": "python",
   "pygments_lexer": "ipython3",
   "version": "3.6.7"
  }
 },
 "nbformat": 4,
 "nbformat_minor": 2
}
