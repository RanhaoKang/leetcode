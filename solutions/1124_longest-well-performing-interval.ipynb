{
 "cells": [
  {
   "cell_type": "markdown",
   "metadata": {},
   "source": [
    "[1124. Longest Well-Performing Interval](https://leetcode.com/problems/longest-well-performing-interval/)"
   ]
  },
  {
   "cell_type": "markdown",
   "metadata": {},
   "source": [
    "自己的想法是用deque,记录所有的元素"
   ]
  },
  {
   "cell_type": "markdown",
   "metadata": {},
   "source": [
    "看到的discuss是通过map记录了一下每种`balance`出现的位置"
   ]
  },
  {
   "cell_type": "code",
   "execution_count": 3,
   "metadata": {},
   "outputs": [],
   "source": [
    "class Solution:\n",
    "    def longestWPI(self, hours) -> int:\n",
    "        out = balance = 0\n",
    "        first = {0: -1}\n",
    "        \n",
    "        for i, h in enumerate(hours):\n",
    "            if h > 8:\n",
    "                balance += 1\n",
    "            else:\n",
    "                balance -= 1\n",
    "            \n",
    "            if balance not in first:\n",
    "                first[balance] = i\n",
    "            \n",
    "            if balance - 1 in first:\n",
    "                out = max(out, i - first[balance - 1])\n",
    "            \n",
    "        return len(hours) if balance > 0 else out"
   ]
  },
  {
   "cell_type": "code",
   "execution_count": null,
   "metadata": {},
   "outputs": [],
   "source": []
  }
 ],
 "metadata": {
  "kernelspec": {
   "display_name": "Python 3",
   "language": "python",
   "name": "python3"
  },
  "language_info": {
   "codemirror_mode": {
    "name": "ipython",
    "version": 3
   },
   "file_extension": ".py",
   "mimetype": "text/x-python",
   "name": "python",
   "nbconvert_exporter": "python",
   "pygments_lexer": "ipython3",
   "version": "3.8.0b3"
  }
 },
 "nbformat": 4,
 "nbformat_minor": 2
}
