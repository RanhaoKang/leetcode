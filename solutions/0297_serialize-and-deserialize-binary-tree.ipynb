{
 "cells": [
  {
   "cell_type": "markdown",
   "metadata": {},
   "source": [
    "[297. Serialize and Deserialize Binary Tree](https://leetcode.com/problems/serialize-and-deserialize-binary-tree/)"
   ]
  },
  {
   "cell_type": "markdown",
   "metadata": {},
   "source": [
    "可以改进的地方是不用闭包传递*attach*的方法, 而是用返回值来在上层直接连接.\n",
    "\n",
    "最精髓的地方是通过iterator避免了管理处理的字符串, 抄大佬的"
   ]
  },
  {
   "cell_type": "code",
   "execution_count": 27,
   "metadata": {},
   "outputs": [],
   "source": [
    "# Definition for a binary tree node.\n",
    "class TreeNode(object):\n",
    "    def __init__(self, x):\n",
    "        self.val = x\n",
    "        self.left = None\n",
    "        self.right = None\n",
    "\n",
    "class Codec:\n",
    "\n",
    "    def serialize(self, root):\n",
    "        \"\"\"Encodes a tree to a single string.\n",
    "        \n",
    "        :type root: TreeNode\n",
    "        :rtype: str\n",
    "        \"\"\"\n",
    "        def iterate(node):\n",
    "            if node:\n",
    "                yield str(node.val)\n",
    "                yield from iterate(node.left)\n",
    "                yield from iterate(node.right)\n",
    "            else:\n",
    "                yield '#'\n",
    "        \n",
    "        return ','.join(iterate(root))\n",
    "\n",
    "    def deserialize(self, data):\n",
    "        \"\"\"Decodes your encoded data to tree.\n",
    "        \n",
    "        :type data: str\n",
    "        :rtype: TreeNode\n",
    "        \"\"\"\n",
    "        data = iter(data.split(','))\n",
    "        \n",
    "        def f(x): self.root = x\n",
    "        \n",
    "        def iterate(attach):\n",
    "            val = next(data)\n",
    "            if val == '#':\n",
    "                return\n",
    "\n",
    "            p = TreeNode(val)\n",
    "            attach(p)\n",
    "            def f1(x): p.left = x\n",
    "            def f2(x): p.right = x\n",
    "            iterate(f1)\n",
    "            iterate(f2)\n",
    "        \n",
    "        iterate(f)\n",
    "        if hasattr(self, 'root'):\n",
    "            return self.root\n",
    "        else:\n",
    "            return None\n",
    "    \n",
    "# Your Codec object will be instantiated and called as such:\n",
    "# codec = Codec()\n",
    "# codec.deserialize(codec.serialize(root))"
   ]
  },
  {
   "cell_type": "code",
   "execution_count": 28,
   "metadata": {},
   "outputs": [
    {
     "name": "stdout",
     "output_type": "stream",
     "text": [
      "1,2,#,#,3,4,#,#,5,#,#\n"
     ]
    }
   ],
   "source": [
    "p = TreeNode(1)\n",
    "p.left = TreeNode(2)\n",
    "p.right = TreeNode(3)\n",
    "p.right.left = TreeNode(4)\n",
    "p.right.right = TreeNode(5)\n",
    "\n",
    "codec = Codec()\n",
    "s = codec.serialize(p)\n",
    "print(s)\n",
    "p = codec.deserialize(s)"
   ]
  },
  {
   "cell_type": "code",
   "execution_count": 29,
   "metadata": {},
   "outputs": [
    {
     "data": {
      "text/plain": [
       "'3'"
      ]
     },
     "execution_count": 29,
     "metadata": {},
     "output_type": "execute_result"
    }
   ],
   "source": [
    "p.right.val"
   ]
  },
  {
   "cell_type": "code",
   "execution_count": null,
   "metadata": {},
   "outputs": [],
   "source": []
  }
 ],
 "metadata": {
  "kernelspec": {
   "display_name": "Python 3",
   "language": "python",
   "name": "python3"
  },
  "language_info": {
   "codemirror_mode": {
    "name": "ipython",
    "version": 3
   },
   "file_extension": ".py",
   "mimetype": "text/x-python",
   "name": "python",
   "nbconvert_exporter": "python",
   "pygments_lexer": "ipython3",
   "version": "3.6.7"
  }
 },
 "nbformat": 4,
 "nbformat_minor": 2
}
