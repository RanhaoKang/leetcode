{
 "cells": [
  {
   "cell_type": "markdown",
   "metadata": {},
   "source": [
    "[119. Pascal's Triangle II](https://leetcode.com/problems/pascals-triangle-ii/)"
   ]
  },
  {
   "cell_type": "code",
   "execution_count": 3,
   "metadata": {},
   "outputs": [],
   "source": [
    "class Solution:\n",
    "    def getRow(self, rowIndex: int):\n",
    "        def iterate(prev_level):\n",
    "            next_level = []\n",
    "            for i in range(1, len(prev_level)):\n",
    "                next_level.append(prev_level[i] + prev_level[i - 1])\n",
    "            next_level = [1] + next_level + [1]\n",
    "            yield next_level\n",
    "            yield from iterate(next_level)\n",
    "        \n",
    "        if rowIndex == 0:\n",
    "            return [1]\n",
    "        else:\n",
    "            iter = iterate([1])\n",
    "            for i in range(rowIndex):\n",
    "                res = next(iter)\n",
    "            return res"
   ]
  },
  {
   "cell_type": "code",
   "execution_count": 4,
   "metadata": {},
   "outputs": [
    {
     "data": {
      "text/plain": [
       "[1, 3, 3, 1]"
      ]
     },
     "execution_count": 4,
     "metadata": {},
     "output_type": "execute_result"
    }
   ],
   "source": [
    "Solution().getRow(3)"
   ]
  },
  {
   "cell_type": "code",
   "execution_count": null,
   "metadata": {},
   "outputs": [],
   "source": []
  }
 ],
 "metadata": {
  "kernelspec": {
   "display_name": "Python 3",
   "language": "python",
   "name": "python3"
  },
  "language_info": {
   "codemirror_mode": {
    "name": "ipython",
    "version": 3
   },
   "file_extension": ".py",
   "mimetype": "text/x-python",
   "name": "python",
   "nbconvert_exporter": "python",
   "pygments_lexer": "ipython3",
   "version": "3.6.7"
  }
 },
 "nbformat": 4,
 "nbformat_minor": 2
}
