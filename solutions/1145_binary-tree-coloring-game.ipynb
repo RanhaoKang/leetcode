{
 "cells": [
  {
   "cell_type": "markdown",
   "metadata": {},
   "source": [
    "[1145. Binary Tree Coloring Game](https://leetcode-cn.com/problems/binary-tree-coloring-game/)"
   ]
  },
  {
   "cell_type": "markdown",
   "metadata": {},
   "source": [
    "在选定之后就只能以floodfill的方式填色了，存在以下情况\n",
    "\n",
    "- 选择`x`的父节点，玩家一获得`x`及其子树得分，玩家二获得总分减这部分\n",
    "- 选择`x`的子节点，玩家二获得该节点及其子树得分，玩家一获得总数减这部分"
   ]
  },
  {
   "cell_type": "code",
   "execution_count": 1,
   "metadata": {},
   "outputs": [],
   "source": [
    "# Definition for a binary tree node.\n",
    "class TreeNode:\n",
    "    def __init__(self, x):\n",
    "        self.val = x\n",
    "        self.left = None\n",
    "        self.right = None\n",
    "\n",
    "class Solution:\n",
    "    def btreeGameWinningMove(self, root: TreeNode, n: int, x: int) -> bool:\n",
    "        def find(p):\n",
    "            if p:\n",
    "                if p.val == x:\n",
    "                    return p\n",
    "                return find(p.left) or find(p.right)\n",
    "        \n",
    "        def cnt(p):\n",
    "            if p:\n",
    "                return 1 + cnt(p.left) + cnt(p.right)\n",
    "            else:\n",
    "                return 0\n",
    "        \n",
    "        p = find(root)\n",
    "        left, right = cnt(p.left), cnt(p.right)\n",
    "        s1 = left > n // 2\n",
    "        s2 = right > n // 2\n",
    "        s3 = 1 + left + right <= n // 2\n",
    "        \n",
    "        return s1 or s2 or s3"
   ]
  },
  {
   "cell_type": "code",
   "execution_count": null,
   "metadata": {},
   "outputs": [],
   "source": []
  }
 ],
 "metadata": {
  "kernelspec": {
   "display_name": "Python 3",
   "language": "python",
   "name": "python3"
  },
  "language_info": {
   "codemirror_mode": {
    "name": "ipython",
    "version": 3
   },
   "file_extension": ".py",
   "mimetype": "text/x-python",
   "name": "python",
   "nbconvert_exporter": "python",
   "pygments_lexer": "ipython3",
   "version": "3.8.1"
  }
 },
 "nbformat": 4,
 "nbformat_minor": 2
}
