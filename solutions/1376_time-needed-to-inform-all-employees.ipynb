{
 "cells": [
  {
   "cell_type": "markdown",
   "metadata": {},
   "source": [
    "[1376. Time Needed to Inform All Employees](https://leetcode.com/problems/time-needed-to-inform-all-employees/)"
   ]
  },
  {
   "cell_type": "markdown",
   "metadata": {},
   "source": [
    "有错误，比如a->b->c, 其中a->b需要1分钟, b->c需要10分钟, 最终需要11分钟. 如果有一条d->e需要2分钟超出了a->b的时间被记录了，最后会算成12分钟"
   ]
  },
  {
   "cell_type": "code",
   "execution_count": 6,
   "metadata": {},
   "outputs": [],
   "source": [
    "class Solution:\n",
    "    def numOfMinutes(self, n: int, headID: int, manager, informTime) -> int:\n",
    "        res, level, sub = 0, [headID], collections.defaultdict(list)\n",
    "        for i, node in enumerate(manager):\n",
    "            sub[node].append(i)\n",
    "\n",
    "        while level:\n",
    "            next_level = []\n",
    "            for i in level:\n",
    "                next_level.extend(sub[i])\n",
    "            res += max((informTime[i] for i in level), default = 0)\n",
    "            level = next_level\n",
    "        \n",
    "        return res"
   ]
  },
  {
   "cell_type": "code",
   "execution_count": 7,
   "metadata": {},
   "outputs": [
    {
     "data": {
      "text/plain": [
       "0"
      ]
     },
     "execution_count": 7,
     "metadata": {},
     "output_type": "execute_result"
    }
   ],
   "source": [
    "import collections\n",
    "Solution().numOfMinutes(n = 1, headID = 0, manager = [-1], informTime = [0])"
   ]
  },
  {
   "cell_type": "code",
   "execution_count": 8,
   "metadata": {},
   "outputs": [
    {
     "data": {
      "text/plain": [
       "1"
      ]
     },
     "execution_count": 8,
     "metadata": {},
     "output_type": "execute_result"
    }
   ],
   "source": [
    "Solution().numOfMinutes(n = 6, headID = 2, manager = [2,2,-1,2,2,2], informTime = [0,0,1,0,0,0])"
   ]
  },
  {
   "cell_type": "code",
   "execution_count": 9,
   "metadata": {},
   "outputs": [],
   "source": [
    "class Solution:\n",
    "    def numOfMinutes(self, n: int, headID: int, manager, informTime) -> int:\n",
    "        children = [[] for i in range(n)]\n",
    "        for i, m in enumerate(manager):\n",
    "            if m >= 0: children[m].append(i)\n",
    "\n",
    "        def dfs(i):\n",
    "            return max([dfs(j) for j in children[i]] or [0]) + informTime[i]\n",
    "        return dfs(headID)"
   ]
  },
  {
   "cell_type": "code",
   "execution_count": null,
   "metadata": {},
   "outputs": [],
   "source": []
  }
 ],
 "metadata": {
  "kernelspec": {
   "display_name": "Python 3",
   "language": "python",
   "name": "python3"
  },
  "language_info": {
   "codemirror_mode": {
    "name": "ipython",
    "version": 3
   },
   "file_extension": ".py",
   "mimetype": "text/x-python",
   "name": "python",
   "nbconvert_exporter": "python",
   "pygments_lexer": "ipython3",
   "version": "3.8.1"
  }
 },
 "nbformat": 4,
 "nbformat_minor": 4
}
