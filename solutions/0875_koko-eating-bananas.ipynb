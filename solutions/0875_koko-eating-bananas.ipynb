{
 "cells": [
  {
   "cell_type": "markdown",
   "metadata": {},
   "source": [
    "[875. Koko Eating Bananas](https://leetcode.com/problems/koko-eating-bananas/)"
   ]
  },
  {
   "cell_type": "markdown",
   "metadata": {},
   "source": [
    "给定的hour `H`, 每小时可以消耗一个元素的`K`个值, 求能在`H`之内消耗完所有元素的最小`K`"
   ]
  },
  {
   "cell_type": "markdown",
   "metadata": {},
   "source": [
    "以`piles = [3,6,7,11], H = 8`举例\n",
    "\n",
    "- 一开始各分配1个小时, `hours = [1, 1, 1, 1]`\n"
   ]
  },
  {
   "cell_type": "markdown",
   "metadata": {},
   "source": [
    "`N = len(piles)`\n",
    "\n",
    "- `H=N`时, 只能每次吃`max(piles)`.\n",
    "- `H=N+1`时, 如果第一大小于第二大的两倍, 那么可以每次吃`sec_max(piles)`, 否则还是只能每次吃`max(piles)`.\n",
    "- `H=N+2`时, 如果第一、第二均小于第三的两倍, ...\n",
    "- ...\n",
    "- `H=2N`时, 可以直接将所有元素减半, 然后回到`H=N`的问题"
   ]
  },
  {
   "cell_type": "code",
   "execution_count": 3,
   "metadata": {},
   "outputs": [
    {
     "ename": "SyntaxError",
     "evalue": "invalid syntax (<ipython-input-3-c971e2781570>, line 10)",
     "output_type": "error",
     "traceback": [
      "\u001b[0;36m  File \u001b[0;32m\"<ipython-input-3-c971e2781570>\"\u001b[0;36m, line \u001b[0;32m10\u001b[0m\n\u001b[0;31m    piles[]\u001b[0m\n\u001b[0m          ^\u001b[0m\n\u001b[0;31mSyntaxError\u001b[0m\u001b[0;31m:\u001b[0m invalid syntax\n"
     ]
    }
   ],
   "source": [
    "class Solution:\n",
    "    def minEatingSpeed(self, piles, H: int) -> int:\n",
    "        N = len(piles)\n",
    "        piles.sort(reverse = True)\n",
    "        \n",
    "        if H > N:\n",
    "            H %= N\n",
    "        \n",
    "        if H == N:\n",
    "            return piles[0]\n",
    "        \n",
    "        while H > N:\n",
    "            piles[1]\n",
    "            H -= 1\n",
    "            \n",
    "            "
   ]
  },
  {
   "cell_type": "markdown",
   "metadata": {},
   "source": [
    "数值上的二分"
   ]
  },
  {
   "cell_type": "code",
   "execution_count": 5,
   "metadata": {},
   "outputs": [],
   "source": [
    "class Solution:\n",
    "    def minEatingSpeed(self, piles, H):\n",
    "        # Can Koko eat all bananas in H hours with eating speed K?\n",
    "        def possible(K):\n",
    "            return sum((p-1) // K + 1 for p in piles) <= H\n",
    "\n",
    "        lo, hi = 1, max(piles)\n",
    "        while lo < hi:\n",
    "            mi = (lo + hi) // 2\n",
    "            if not possible(mi):\n",
    "                lo = mi + 1\n",
    "            else:\n",
    "                hi = mi\n",
    "        return lo"
   ]
  },
  {
   "cell_type": "code",
   "execution_count": null,
   "metadata": {},
   "outputs": [],
   "source": []
  }
 ],
 "metadata": {
  "kernelspec": {
   "display_name": "Python 3",
   "language": "python",
   "name": "python3"
  },
  "language_info": {
   "codemirror_mode": {
    "name": "ipython",
    "version": 3
   },
   "file_extension": ".py",
   "mimetype": "text/x-python",
   "name": "python",
   "nbconvert_exporter": "python",
   "pygments_lexer": "ipython3",
   "version": "3.6.7"
  }
 },
 "nbformat": 4,
 "nbformat_minor": 2
}
