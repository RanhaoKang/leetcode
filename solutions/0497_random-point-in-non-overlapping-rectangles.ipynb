{
 "cells": [
  {
   "cell_type": "markdown",
   "metadata": {},
   "source": [
    "[497. Random Point in Non-overlapping Rectangles](https://leetcode.com/problems/random-point-in-non-overlapping-rectangles/)"
   ]
  },
  {
   "cell_type": "markdown",
   "metadata": {},
   "source": [
    "做这种题还是不太会, 抄了个解, 与按权随机不同. 如果把矩形区域分割成`xs`和`ys`就出错了. 这里利用`accumulate_counts`记录点数的累加, 继而通过二分查找快速找到矩形的`index`, 学习学习."
   ]
  },
  {
   "cell_type": "code",
   "execution_count": 9,
   "metadata": {},
   "outputs": [],
   "source": [
    "import bisect\n",
    "import random\n",
    "\n",
    "class Solution:\n",
    "\n",
    "    def __init__(self, rects):\n",
    "        self.rects = rects\n",
    "        \n",
    "        self.counts = [(x2 - x1 + 1) * (y2 - y1 + 1) \n",
    "                       for x1, y1, x2, y2 in rects]\n",
    "        self.total = sum(self.counts)\n",
    "        \n",
    "        self.accumulate_counts = []\n",
    "        accumulated = 0\n",
    "        for count in self.counts:\n",
    "            accumulated += count\n",
    "            self.accumulate_counts.append(accumulated)\n",
    "\n",
    "\n",
    "    def pick(self):\n",
    "        rand = random.randint(1, self.total)\n",
    "        rect_index = bisect.bisect_left(self.accumulate_counts, rand)\n",
    "        point_index = rand - self.accumulate_counts[rect_index] + self.counts[rect_index] - 1\n",
    "        x1, y1, x2, y2 = self.rects[rect_index]\n",
    "        i, j = divmod(point_index, y2 - y1 + 1)\n",
    "        return [x1 + i, y1 + j]\n",
    "\n",
    "\n",
    "# Your Solution object will be instantiated and called as such:\n",
    "# obj = Solution(rects)\n",
    "# param_1 = obj.pick()"
   ]
  },
  {
   "cell_type": "code",
   "execution_count": 10,
   "metadata": {},
   "outputs": [
    {
     "data": {
      "text/plain": [
       "[3, 4]"
      ]
     },
     "execution_count": 10,
     "metadata": {},
     "output_type": "execute_result"
    }
   ],
   "source": [
    "Solution([[1,1,5,5]]).pick()"
   ]
  },
  {
   "cell_type": "code",
   "execution_count": null,
   "metadata": {},
   "outputs": [],
   "source": []
  }
 ],
 "metadata": {
  "kernelspec": {
   "display_name": "Python 3",
   "language": "python",
   "name": "python3"
  },
  "language_info": {
   "codemirror_mode": {
    "name": "ipython",
    "version": 3
   },
   "file_extension": ".py",
   "mimetype": "text/x-python",
   "name": "python",
   "nbconvert_exporter": "python",
   "pygments_lexer": "ipython3",
   "version": "3.6.7"
  }
 },
 "nbformat": 4,
 "nbformat_minor": 2
}
