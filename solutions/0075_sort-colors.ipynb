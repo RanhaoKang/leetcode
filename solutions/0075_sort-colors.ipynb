{
 "cells": [
  {
   "cell_type": "markdown",
   "metadata": {},
   "source": [
    "[75. Sort Colors](https://leetcode.com/problems/sort-colors/)"
   ]
  },
  {
   "cell_type": "markdown",
   "metadata": {},
   "source": [
    "one-pass, $O(1)$ space complexity, 类似快排的思想. 以red为核心, 因为出现了[i+1], 所以边界情况很多, 而且出现white时, 会不断交换, 有问题"
   ]
  },
  {
   "cell_type": "code",
   "execution_count": 20,
   "metadata": {},
   "outputs": [],
   "source": [
    "class Solution:\n",
    "    def sortColors(self, nums) -> None:\n",
    "        \"\"\"\n",
    "        Do not return anything, modify nums in-place instead.\n",
    "        \"\"\"\n",
    "        length = len(nums)\n",
    "        red, white, blue = 0, 0, length - 1\n",
    "        while red + white <= blue:\n",
    "            # red, 直接过\n",
    "            if nums[red] == 0:\n",
    "                red += 1\n",
    "            # white, 冒泡往后推\n",
    "            elif nums[red] == 1:\n",
    "                if red + 1 == length:\n",
    "                    break\n",
    "                nums[red], nums[red + 1] = nums[red + 1], nums[red]\n",
    "                white += 1\n",
    "            # blue, 交换\n",
    "            else:\n",
    "                nums[blue], nums[red] = nums[red], nums[blue]\n",
    "                blue -= 1\n",
    "        \n",
    "        return nums"
   ]
  },
  {
   "cell_type": "code",
   "execution_count": 21,
   "metadata": {},
   "outputs": [
    {
     "data": {
      "text/plain": [
       "[2, 1]"
      ]
     },
     "execution_count": 21,
     "metadata": {},
     "output_type": "execute_result"
    }
   ],
   "source": [
    "Solution().sortColors([2, 1])"
   ]
  },
  {
   "cell_type": "markdown",
   "metadata": {},
   "source": [
    "Discussion高票, 以white为核心, 少了很多边界情况"
   ]
  },
  {
   "cell_type": "code",
   "execution_count": 15,
   "metadata": {},
   "outputs": [],
   "source": [
    "class Solution:\n",
    "    def sortColors(self, nums):\n",
    "        red, white, blue = 0, 0, len(nums)-1\n",
    "\n",
    "        while white <= blue:\n",
    "            if nums[white] == 0:\n",
    "                nums[red], nums[white] = nums[white], nums[red]\n",
    "                white += 1\n",
    "                red += 1\n",
    "            elif nums[white] == 1:\n",
    "                white += 1\n",
    "            else:\n",
    "                nums[white], nums[blue] = nums[blue], nums[white]\n",
    "                blue -= 1"
   ]
  },
  {
   "cell_type": "code",
   "execution_count": null,
   "metadata": {},
   "outputs": [],
   "source": []
  }
 ],
 "metadata": {
  "kernelspec": {
   "display_name": "Python 3",
   "language": "python",
   "name": "python3"
  },
  "language_info": {
   "codemirror_mode": {
    "name": "ipython",
    "version": 3
   },
   "file_extension": ".py",
   "mimetype": "text/x-python",
   "name": "python",
   "nbconvert_exporter": "python",
   "pygments_lexer": "ipython3",
   "version": "3.6.7"
  }
 },
 "nbformat": 4,
 "nbformat_minor": 2
}
