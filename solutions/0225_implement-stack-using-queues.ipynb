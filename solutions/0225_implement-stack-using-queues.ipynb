{
 "cells": [
  {
   "cell_type": "markdown",
   "metadata": {},
   "source": [
    "[225. Implement Stack using Queues](https://leetcode.com/problems/implement-stack-using-queues/)"
   ]
  },
  {
   "cell_type": "code",
   "execution_count": 1,
   "metadata": {},
   "outputs": [],
   "source": [
    "from collections import deque\n",
    "\n",
    "class MyStack:\n",
    "\n",
    "    def __init__(self):\n",
    "        \"\"\"\n",
    "        Initialize your data structure here.\n",
    "        \"\"\"\n",
    "        self.q1 = deque()\n",
    "        self.q2 = deque()\n",
    "        \n",
    "\n",
    "    def push(self, x: int) -> None:\n",
    "        \"\"\"\n",
    "        Push element x onto stack.\n",
    "        \"\"\"\n",
    "        self.q1.appendleft(x)\n",
    "\n",
    "    def pop(self) -> int:\n",
    "        \"\"\"\n",
    "        Removes the element on top of the stack and returns that element.\n",
    "        \"\"\"\n",
    "        while self.q1 and len(self.q1) > 1:\n",
    "            self.q2.appendleft(self.q1.pop())\n",
    "            \n",
    "        self.q1, self.q2 = self.q2, self.q1\n",
    "        return self.q2.pop()\n",
    "        \n",
    "\n",
    "    def top(self) -> int:\n",
    "        \"\"\"\n",
    "        Get the top element.\n",
    "        \"\"\"\n",
    "        while self.q1 and len(self.q1) > 1:\n",
    "            self.q2.appendleft(self.q1.pop())\n",
    "\n",
    "        res = self.q1[-1]\n",
    "        self.q1, self.q2 = self.q2, self.q1\n",
    "        self.q1.appendleft(self.q2.pop())\n",
    "        return res\n",
    "        \n",
    "\n",
    "    def empty(self) -> bool:\n",
    "        \"\"\"\n",
    "        Returns whether the stack is empty.\n",
    "        \"\"\"\n",
    "        return not self.q1 and not self.q2\n",
    "\n",
    "\n",
    "# Your MyStack object will be instantiated and called as such:\n",
    "# obj = MyStack()\n",
    "# obj.push(x)\n",
    "# param_2 = obj.pop()\n",
    "# param_3 = obj.top()\n",
    "# param_4 = obj.empty()"
   ]
  },
  {
   "cell_type": "code",
   "execution_count": 2,
   "metadata": {},
   "outputs": [
    {
     "data": {
      "text/plain": [
       "False"
      ]
     },
     "execution_count": 2,
     "metadata": {},
     "output_type": "execute_result"
    }
   ],
   "source": [
    "stack = MyStack()\n",
    "\n",
    "stack.push(1)\n",
    "stack.push(2)\n",
    "stack.top()\n",
    "stack.pop()\n",
    "stack.empty()"
   ]
  },
  {
   "cell_type": "code",
   "execution_count": null,
   "metadata": {},
   "outputs": [],
   "source": []
  }
 ],
 "metadata": {
  "kernelspec": {
   "display_name": "Python 3",
   "language": "python",
   "name": "python3"
  },
  "language_info": {
   "codemirror_mode": {
    "name": "ipython",
    "version": 3
   },
   "file_extension": ".py",
   "mimetype": "text/x-python",
   "name": "python",
   "nbconvert_exporter": "python",
   "pygments_lexer": "ipython3",
   "version": "3.6.7"
  }
 },
 "nbformat": 4,
 "nbformat_minor": 2
}
