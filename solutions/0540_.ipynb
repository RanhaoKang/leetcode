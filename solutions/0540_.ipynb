{
 "cells": [
  {
   "cell_type": "code",
   "execution_count": 2,
   "metadata": {},
   "outputs": [],
   "source": [
    "class Solution:\n",
    "    def singleNonDuplicate(self, nums):\n",
    "        \"\"\"\n",
    "        :type nums: List[int]\n",
    "        :rtype: int\n",
    "        \"\"\"\n",
    "        \n",
    "        length = len(nums)\n",
    "        \n",
    "        \n",
    "        if length == 1:\n",
    "            return nums[length - 1]\n",
    "        elif length == 3:\n",
    "            return nums[2] if nums[0] == nums[1] else nums[0]\n",
    "\n",
    "        if nums[length // 2] == nums[length // 2 - 1]:\n",
    "            if length % 2 == 0:\n",
    "                return self.singleNonDuplicate(nums[length // 2 - 1:])\n",
    "            else:\n",
    "                return self.singleNonDuplicate(nums[length // 2 + 1:])\n",
    "        elif nums[length // 2] == nums[length // 2 + 1]:\n",
    "            if length % 2 == 0:\n",
    "                return self.singleNonDuplicate(nums[length // 2 + 2:])\n",
    "            else:\n",
    "                return self.singleNonDuplicate(nums[:length // 2])\n",
    "        \n",
    "        else:\n",
    "            return nums[length // 2]"
   ]
  },
  {
   "cell_type": "markdown",
   "metadata": {},
   "source": [
    "出现的indexing, 最小为`length // 2 - 1`, 最大为`length // 2 + 1`, 前者要求`length >= 3`, 后者要求`length >= 2`\n",
    "出现的slicing, \n"
   ]
  }
 ],
 "metadata": {
  "kernelspec": {
   "display_name": "Python 3",
   "language": "python",
   "name": "python3"
  },
  "language_info": {
   "codemirror_mode": {
    "name": "ipython",
    "version": 3
   },
   "file_extension": ".py",
   "mimetype": "text/x-python",
   "name": "python",
   "nbconvert_exporter": "python",
   "pygments_lexer": "ipython3",
   "version": "3.6.7"
  }
 },
 "nbformat": 4,
 "nbformat_minor": 2
}
