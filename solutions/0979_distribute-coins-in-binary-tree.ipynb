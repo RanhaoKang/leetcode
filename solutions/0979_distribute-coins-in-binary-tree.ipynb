{
 "cells": [
  {
   "cell_type": "markdown",
   "metadata": {},
   "source": [
    "[979. Distribute Coins in Binary Tree](https://leetcode.com/problems/distribute-coins-in-binary-tree/)"
   ]
  },
  {
   "cell_type": "markdown",
   "metadata": {},
   "source": [
    "由于只需要知道移动次数而不需要移动方案, 此处的递归操作是: 如果左右子树缺少硬币, 那么从本节点传递过去即可. 如果本节点数目不够呢? 只要\"赊\"就好了, 我们得到一个当前硬币数为负数的节点, 那么在处理它的父节点时要传递的硬币数目也会增多, 所以是可以找到答案的."
   ]
  },
  {
   "cell_type": "code",
   "execution_count": 1,
   "metadata": {},
   "outputs": [],
   "source": [
    "# Definition for a binary tree node.\n",
    "class TreeNode:\n",
    "    def __init__(self, x):\n",
    "        self.val = x\n",
    "        self.left = None\n",
    "        self.right = None"
   ]
  },
  {
   "cell_type": "code",
   "execution_count": 4,
   "metadata": {},
   "outputs": [],
   "source": [
    "class Solution:\n",
    "    def distributeCoins(self, root: 'TreeNode') -> 'int':\n",
    "        self.res = 0\n",
    "        \n",
    "        def solve(node):\n",
    "            # 如果是空节点, 则不需要硬币\n",
    "            if node is None:\n",
    "                return 0\n",
    "            # left, right为左右子树需要的硬币数\n",
    "            left = solve(node.left)\n",
    "            right = solve(node.right)\n",
    "            \n",
    "            # 子树内部的交换计数\n",
    "            # 如left = -2, right = 3\n",
    "            # 本节点向左子树传递2个硬币\n",
    "            # 右子树向本节点传递3个硬币\n",
    "            # 共计五次操作\n",
    "            self.res += abs(left) + abs(right)\n",
    "            \n",
    "            # 0: 这棵子树自给自足了\n",
    "            # 正数: 这棵子树需要向父节点传递n个硬币\n",
    "            # 负数: 这棵子树需要从父节点传递过来n个硬币\n",
    "            return node.val + left + right - 1\n",
    "        \n",
    "        solve(root)\n",
    "        return self.res"
   ]
  },
  {
   "cell_type": "code",
   "execution_count": null,
   "metadata": {},
   "outputs": [],
   "source": []
  }
 ],
 "metadata": {
  "kernelspec": {
   "display_name": "Python 3",
   "language": "python",
   "name": "python3"
  },
  "language_info": {
   "codemirror_mode": {
    "name": "ipython",
    "version": 3
   },
   "file_extension": ".py",
   "mimetype": "text/x-python",
   "name": "python",
   "nbconvert_exporter": "python",
   "pygments_lexer": "ipython3",
   "version": "3.6.7"
  }
 },
 "nbformat": 4,
 "nbformat_minor": 2
}
