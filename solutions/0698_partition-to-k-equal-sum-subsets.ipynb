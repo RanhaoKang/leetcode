{
 "cells": [
  {
   "cell_type": "markdown",
   "metadata": {},
   "source": [
    "[698. Partition to K Equal Sum Subsets](https://leetcode.com/problems/partition-to-k-equal-sum-subsets/)"
   ]
  },
  {
   "cell_type": "markdown",
   "metadata": {},
   "source": [
    "尝试把每一个数放入每一个subset内, 如果达到目标数则将此subset排除在外\n",
    "\n",
    "- 如果`subsets[i]`达到了`target`, 则把它以及集合元素排除在外, 简化剩余的搜索过程\n"
   ]
  },
  {
   "cell_type": "code",
   "execution_count": 3,
   "metadata": {},
   "outputs": [],
   "source": [
    "class Solution:\n",
    "    def canPartitionKSubsets(self, nums, k: int) -> bool:\n",
    "        total, length = sum(nums), len(nums)\n",
    "        if total % k:\n",
    "            return False\n",
    "        target = total // k\n",
    "        \n",
    "        subsets = [0] * k\n",
    "        self.subset_idx = 0\n",
    "        \n",
    "        def solve(i):\n",
    "            if self.subset_idx == k:\n",
    "                return True\n",
    "            \n",
    "            for j in range(self.subset_idx, k):\n",
    "                # 尝试放入第j个集合\n",
    "                subsets[j] += nums[i]\n",
    "                # 第j集合恰好达到了target\n",
    "                if subsets[j] == target:\n",
    "                    self.subset_idx += 1\n",
    "                    \n",
    "                if subsets[j] < target and solve(i + 1):\n",
    "                    return True\n",
    "                el\n",
    "                    self.subset_idx += 1\n",
    "                    return solve(i + 1)\n",
    "                subsets[j] -= nums[i]\n",
    "                \n",
    "            return False\n",
    "        \n",
    "        return solve(0)"
   ]
  },
  {
   "cell_type": "code",
   "execution_count": 4,
   "metadata": {},
   "outputs": [
    {
     "data": {
      "text/plain": [
       "True"
      ]
     },
     "execution_count": 4,
     "metadata": {},
     "output_type": "execute_result"
    }
   ],
   "source": [
    "Solution().canPartitionKSubsets([4, 3, 2, 3, 5, 2, 1], 4)"
   ]
  },
  {
   "cell_type": "code",
   "execution_count": null,
   "metadata": {},
   "outputs": [],
   "source": [
    "class Solution:\n",
    "    def canPartitionKSubsets(self, nums, k: int) -> bool:\n",
    "        total, length = sum(nums), len(nums)\n",
    "        if total % k:\n",
    "            return False\n",
    "        target = total // k\n",
    "        \n",
    "        subsets = [[0,[]] for _ in range(k)]\n",
    "        \n",
    "        def solve(nums):\n",
    "            if not subsets:\n",
    "                return True\n",
    "            \n",
    "            for i, num in enumerate(nums):\n",
    "                \n",
    "                # 尝试放入每一个集合\n",
    "                for j, subset in enumerate(subsets):\n",
    "                    subset[0] += num\n",
    "                    subset[1].append(i)\n",
    "                    \n",
    "                    # 第j个集合恰好达到了target\n",
    "                    if subset == target:\n",
    "                        rest = nums[:]\n",
    "                        for idx in subset[1]: \n",
    "                            rest.pop(idx)\n",
    "                        subsets.pop(j)\n",
    "                        return solve(rest)\n",
    "                    \n",
    "                    \n",
    "            \n",
    "            \n",
    "            return False\n",
    "\n",
    "        \n",
    "        return solve(nums)"
   ]
  }
 ],
 "metadata": {
  "kernelspec": {
   "display_name": "Python 3",
   "language": "python",
   "name": "python3"
  },
  "language_info": {
   "codemirror_mode": {
    "name": "ipython",
    "version": 3
   },
   "file_extension": ".py",
   "mimetype": "text/x-python",
   "name": "python",
   "nbconvert_exporter": "python",
   "pygments_lexer": "ipython3",
   "version": "3.6.7"
  }
 },
 "nbformat": 4,
 "nbformat_minor": 2
}
