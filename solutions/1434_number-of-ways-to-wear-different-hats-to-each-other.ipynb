{
 "cells": [
  {
   "cell_type": "markdown",
   "metadata": {},
   "source": [
    "[1434. Number of Ways to Wear Different Hats to Each Other](https://leetcode.com/problems/number-of-ways-to-wear-different-hats-to-each-other/)"
   ]
  },
  {
   "cell_type": "code",
   "execution_count": 13,
   "metadata": {},
   "outputs": [],
   "source": [
    "class Solution:\n",
    "    def numberWays(self, hats) -> int:\n",
    "        from functools import lru_cache\n",
    "        h2p = collections.defaultdict(list)\n",
    "        for p, hs in enumerate(hats):\n",
    "            for h in hs: h2p[h].append(p)\n",
    "        \n",
    "        AllMasked = 2 ** len(hats) - 1\n",
    "        \n",
    "        @lru_cache(None)\n",
    "        def f(H, mask): \n",
    "            if mask==AllMasked: return 1\n",
    "            if H==41: return 0\n",
    "            ans = f(H+1, mask)\n",
    "            for p in h2p[H]:\n",
    "                p = 1<<p;\n",
    "                if not (p & mask): ans += f(H+1, mask|p)\n",
    "            return ans % (10**9+7)\n",
    "        \n",
    "        return f(1,0)"
   ]
  }
 ],
 "metadata": {
  "kernelspec": {
   "display_name": "Python 3",
   "language": "python",
   "name": "python3"
  },
  "language_info": {
   "codemirror_mode": {
    "name": "ipython",
    "version": 3
   },
   "file_extension": ".py",
   "mimetype": "text/x-python",
   "name": "python",
   "nbconvert_exporter": "python",
   "pygments_lexer": "ipython3",
   "version": "3.8.0b3"
  }
 },
 "nbformat": 4,
 "nbformat_minor": 2
}
