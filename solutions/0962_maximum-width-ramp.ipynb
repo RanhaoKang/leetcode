{
 "cells": [
  {
   "cell_type": "markdown",
   "metadata": {},
   "source": [
    "[962. Maximum Width Ramp](https://leetcode.com/problems/maximum-width-ramp/)"
   ]
  },
  {
   "cell_type": "markdown",
   "metadata": {},
   "source": [
    "看似双指针, 实则Brute Force, TLE."
   ]
  },
  {
   "cell_type": "code",
   "execution_count": 1,
   "metadata": {},
   "outputs": [],
   "source": [
    "class Solution:\n",
    "    def maxWidthRamp(self, A) -> int:\n",
    "        \n",
    "        def solve(l, r):\n",
    "            if l >= r:\n",
    "                return 0\n",
    "            if A[l] <= A[r]:\n",
    "                return r - l\n",
    "            else:\n",
    "                return max(solve(l+1, r), solve(l, r-1))\n",
    "            \n",
    "        return solve(0, len(A) - 1)"
   ]
  },
  {
   "cell_type": "markdown",
   "metadata": {},
   "source": [
    "排序$O(NlogN)$, 之后one-pass. 在**元素有序**的基础上做题"
   ]
  },
  {
   "cell_type": "code",
   "execution_count": 4,
   "metadata": {},
   "outputs": [],
   "source": [
    "class Solution:\n",
    "    def maxWidthRamp(self, A) -> int:\n",
    "        res = 0\n",
    "        # 我们按元素由小到大遍历, 记录one-pass能达到的最小index\n",
    "        min_idx = len(A)\n",
    "        \n",
    "        # 这句有点厉害\n",
    "        for i in sorted(range(len(A)), key = A.__getitem__):\n",
    "            res = max(res, i - min_idx)\n",
    "            min_idx = min(min_idx, i)\n",
    "       \n",
    "        return res"
   ]
  },
  {
   "cell_type": "markdown",
   "metadata": {},
   "source": [
    "有点像插入排序的意味"
   ]
  },
  {
   "cell_type": "code",
   "execution_count": 7,
   "metadata": {},
   "outputs": [],
   "source": [
    "class Solution:\n",
    "    def maxWidthRamp(self, A) -> int:\n",
    "        from bisect import bisect\n",
    "        N = len(A)\n",
    "        \n",
    "        res = 0\n",
    "        # 元素升序, index降序, 相当于在无序的数组中, 记录几个\"规格\"\n",
    "        candidates = [(A[-1],  N-1)]\n",
    "        for i in range(N-2, -1, -1):\n",
    "            print(candidates)\n",
    "            j = bisect(candidates, (A[i], ))\n",
    "            if j < len(candidates):\n",
    "                res = max(res, candidates[j][1] - i)\n",
    "            else:\n",
    "                candidates.append((A[i], i))\n",
    "        \n",
    "        return res"
   ]
  },
  {
   "cell_type": "code",
   "execution_count": 8,
   "metadata": {},
   "outputs": [
    {
     "name": "stdout",
     "output_type": "stream",
     "text": [
      "[(5, 5)]\n",
      "[(5, 5)]\n",
      "[(5, 5)]\n",
      "[(5, 5), (8, 2)]\n",
      "[(5, 5), (8, 2)]\n"
     ]
    },
    {
     "data": {
      "text/plain": [
       "4"
      ]
     },
     "execution_count": 8,
     "metadata": {},
     "output_type": "execute_result"
    }
   ],
   "source": [
    "Solution().maxWidthRamp([6,0,8,2,1,5])"
   ]
  },
  {
   "cell_type": "code",
   "execution_count": null,
   "metadata": {},
   "outputs": [],
   "source": []
  }
 ],
 "metadata": {
  "kernelspec": {
   "display_name": "Python 3",
   "language": "python",
   "name": "python3"
  },
  "language_info": {
   "codemirror_mode": {
    "name": "ipython",
    "version": 3
   },
   "file_extension": ".py",
   "mimetype": "text/x-python",
   "name": "python",
   "nbconvert_exporter": "python",
   "pygments_lexer": "ipython3",
   "version": "3.6.7"
  }
 },
 "nbformat": 4,
 "nbformat_minor": 2
}
