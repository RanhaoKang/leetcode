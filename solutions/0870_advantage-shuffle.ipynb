{
 "cells": [
  {
   "cell_type": "markdown",
   "metadata": {},
   "source": [
    "[870. Advantage Shuffle](https://leetcode.com/problems/advantage-shuffle/)"
   ]
  },
  {
   "cell_type": "code",
   "execution_count": 1,
   "metadata": {},
   "outputs": [],
   "source": [
    "class Solution:\n",
    "    def advantageCount(self, A, B):\n",
    "        import collections\n",
    "        \n",
    "        A = sorted(A)\n",
    "        take = collections.defaultdict(list)\n",
    "        for b in sorted(B)[::-1]:\n",
    "            if b < A[-1]: take[b].append(A.pop())\n",
    "        return [(take[b] or A).pop() for b in B]"
   ]
  },
  {
   "cell_type": "code",
   "execution_count": null,
   "metadata": {},
   "outputs": [],
   "source": []
  }
 ],
 "metadata": {
  "kernelspec": {
   "display_name": "Python 3",
   "language": "python",
   "name": "python3"
  },
  "language_info": {
   "codemirror_mode": {
    "name": "ipython",
    "version": 3
   },
   "file_extension": ".py",
   "mimetype": "text/x-python",
   "name": "python",
   "nbconvert_exporter": "python",
   "pygments_lexer": "ipython3",
   "version": "3.6.7"
  }
 },
 "nbformat": 4,
 "nbformat_minor": 2
}
