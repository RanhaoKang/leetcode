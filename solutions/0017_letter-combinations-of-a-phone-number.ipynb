{
 "cells": [
  {
   "cell_type": "markdown",
   "metadata": {},
   "source": [
    "[17. Letter Combinations of a Phone Number](https://leetcode.com/problems/letter-combinations-of-a-phone-number/)"
   ]
  },
  {
   "cell_type": "code",
   "execution_count": 53,
   "metadata": {},
   "outputs": [],
   "source": [
    "class Solution:\n",
    "    def letterCombinations(self, digits: str):\n",
    "        d = {\n",
    "            '2': 'abc',\n",
    "            '3': 'def',\n",
    "            '4': 'ghi',\n",
    "            '5': 'jkl',\n",
    "            '6': 'mno',\n",
    "            '7': 'pqrs',\n",
    "            '8': 'tuv',\n",
    "            '9': 'wxyz'\n",
    "        }\n",
    "        l = [d[i] for i in digits]\n",
    "        length = len(l)\n",
    "        \n",
    "        def iterate(idx = 0, path = ''):\n",
    "            if idx < length:\n",
    "                for i in l[idx]:\n",
    "                    yield from iterate(idx + 1, path + i)\n",
    "            else:\n",
    "                yield path\n",
    "        \n",
    "        return list(iterate()) if length else []"
   ]
  },
  {
   "cell_type": "code",
   "execution_count": 52,
   "metadata": {},
   "outputs": [
    {
     "name": "stdout",
     "output_type": "stream",
     "text": [
      "['adgjm', 'adgjn', 'adgjo', 'adgkm', 'adgkn', 'adgko', 'adglm', 'adgln', 'adglo', 'adhjm', 'adhjn', 'adhjo', 'adhkm', 'adhkn', 'adhko', 'adhlm', 'adhln', 'adhlo', 'adijm', 'adijn', 'adijo', 'adikm', 'adikn', 'adiko', 'adilm', 'adiln', 'adilo', 'aegjm', 'aegjn', 'aegjo', 'aegkm', 'aegkn', 'aegko', 'aeglm', 'aegln', 'aeglo', 'aehjm', 'aehjn', 'aehjo', 'aehkm', 'aehkn', 'aehko', 'aehlm', 'aehln', 'aehlo', 'aeijm', 'aeijn', 'aeijo', 'aeikm', 'aeikn', 'aeiko', 'aeilm', 'aeiln', 'aeilo', 'afgjm', 'afgjn', 'afgjo', 'afgkm', 'afgkn', 'afgko', 'afglm', 'afgln', 'afglo', 'afhjm', 'afhjn', 'afhjo', 'afhkm', 'afhkn', 'afhko', 'afhlm', 'afhln', 'afhlo', 'afijm', 'afijn', 'afijo', 'afikm', 'afikn', 'afiko', 'afilm', 'afiln', 'afilo', 'bdgjm', 'bdgjn', 'bdgjo', 'bdgkm', 'bdgkn', 'bdgko', 'bdglm', 'bdgln', 'bdglo', 'bdhjm', 'bdhjn', 'bdhjo', 'bdhkm', 'bdhkn', 'bdhko', 'bdhlm', 'bdhln', 'bdhlo', 'bdijm', 'bdijn', 'bdijo', 'bdikm', 'bdikn', 'bdiko', 'bdilm', 'bdiln', 'bdilo', 'begjm', 'begjn', 'begjo', 'begkm', 'begkn', 'begko', 'beglm', 'begln', 'beglo', 'behjm', 'behjn', 'behjo', 'behkm', 'behkn', 'behko', 'behlm', 'behln', 'behlo', 'beijm', 'beijn', 'beijo', 'beikm', 'beikn', 'beiko', 'beilm', 'beiln', 'beilo', 'bfgjm', 'bfgjn', 'bfgjo', 'bfgkm', 'bfgkn', 'bfgko', 'bfglm', 'bfgln', 'bfglo', 'bfhjm', 'bfhjn', 'bfhjo', 'bfhkm', 'bfhkn', 'bfhko', 'bfhlm', 'bfhln', 'bfhlo', 'bfijm', 'bfijn', 'bfijo', 'bfikm', 'bfikn', 'bfiko', 'bfilm', 'bfiln', 'bfilo', 'cdgjm', 'cdgjn', 'cdgjo', 'cdgkm', 'cdgkn', 'cdgko', 'cdglm', 'cdgln', 'cdglo', 'cdhjm', 'cdhjn', 'cdhjo', 'cdhkm', 'cdhkn', 'cdhko', 'cdhlm', 'cdhln', 'cdhlo', 'cdijm', 'cdijn', 'cdijo', 'cdikm', 'cdikn', 'cdiko', 'cdilm', 'cdiln', 'cdilo', 'cegjm', 'cegjn', 'cegjo', 'cegkm', 'cegkn', 'cegko', 'ceglm', 'cegln', 'ceglo', 'cehjm', 'cehjn', 'cehjo', 'cehkm', 'cehkn', 'cehko', 'cehlm', 'cehln', 'cehlo', 'ceijm', 'ceijn', 'ceijo', 'ceikm', 'ceikn', 'ceiko', 'ceilm', 'ceiln', 'ceilo', 'cfgjm', 'cfgjn', 'cfgjo', 'cfgkm', 'cfgkn', 'cfgko', 'cfglm', 'cfgln', 'cfglo', 'cfhjm', 'cfhjn', 'cfhjo', 'cfhkm', 'cfhkn', 'cfhko', 'cfhlm', 'cfhln', 'cfhlo', 'cfijm', 'cfijn', 'cfijo', 'cfikm', 'cfikn', 'cfiko', 'cfilm', 'cfiln', 'cfilo']\n"
     ]
    }
   ],
   "source": [
    "Solution().letterCombinations('23456')"
   ]
  },
  {
   "cell_type": "code",
   "execution_count": null,
   "metadata": {},
   "outputs": [],
   "source": []
  }
 ],
 "metadata": {
  "kernelspec": {
   "display_name": "Python 3",
   "language": "python",
   "name": "python3"
  },
  "language_info": {
   "codemirror_mode": {
    "name": "ipython",
    "version": 3
   },
   "file_extension": ".py",
   "mimetype": "text/x-python",
   "name": "python",
   "nbconvert_exporter": "python",
   "pygments_lexer": "ipython3",
   "version": "3.6.7"
  }
 },
 "nbformat": 4,
 "nbformat_minor": 2
}
