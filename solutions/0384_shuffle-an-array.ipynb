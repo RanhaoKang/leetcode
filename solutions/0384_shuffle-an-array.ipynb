{
 "cells": [
  {
   "cell_type": "markdown",
   "metadata": {},
   "source": [
    "[384. Shuffle an Array](https://leetcode.com/problems/shuffle-an-array/)"
   ]
  },
  {
   "cell_type": "code",
   "execution_count": 2,
   "metadata": {},
   "outputs": [],
   "source": [
    "import random\n",
    "\n",
    "class Solution:\n",
    "\n",
    "    def __init__(self, nums):\n",
    "        self.array = nums\n",
    "        self.origin = list(nums)\n",
    "\n",
    "\n",
    "    def reset(self):\n",
    "        \"\"\"\n",
    "        Resets the array to its original configuration and return it.\n",
    "        \"\"\"\n",
    "        self.array = self.origin\n",
    "        self.origin = list(self.origin)\n",
    "        \n",
    "        return self.array\n",
    "        \n",
    "\n",
    "    def shuffle(self):\n",
    "        \"\"\"\n",
    "        Returns a random shuffling of the array.\n",
    "        \"\"\"\n",
    "        for i in range(len(self.array)):\n",
    "            swap_idx = random.randrange(i, len(self.array))\n",
    "            self.array[i], self.array[swap_idx] = self.array[swap_idx], self.array[i]\n",
    "        \n",
    "        return self.array\n",
    "\n",
    "# Your Solution object will be instantiated and called as such:\n",
    "# obj = Solution(nums)\n",
    "# param_1 = obj.reset()\n",
    "# param_2 = obj.shuffle()"
   ]
  },
  {
   "cell_type": "code",
   "execution_count": null,
   "metadata": {},
   "outputs": [],
   "source": []
  }
 ],
 "metadata": {
  "kernelspec": {
   "display_name": "Python 3",
   "language": "python",
   "name": "python3"
  },
  "language_info": {
   "codemirror_mode": {
    "name": "ipython",
    "version": 3
   },
   "file_extension": ".py",
   "mimetype": "text/x-python",
   "name": "python",
   "nbconvert_exporter": "python",
   "pygments_lexer": "ipython3",
   "version": "3.6.7"
  }
 },
 "nbformat": 4,
 "nbformat_minor": 2
}
