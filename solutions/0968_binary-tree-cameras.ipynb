{
 "cells": [
  {
   "cell_type": "markdown",
   "metadata": {},
   "source": [
    "[968. Binary Tree Cameras](https://leetcode.com/problems/binary-tree-cameras/)"
   ]
  },
  {
   "cell_type": "code",
   "execution_count": 1,
   "metadata": {},
   "outputs": [],
   "source": [
    "# Definition for a binary tree node.\n",
    "class TreeNode:\n",
    "    def __init__(self, x):\n",
    "        self.val = x\n",
    "        self.left = None\n",
    "        self.right = None\n",
    "\n",
    "class Solution:\n",
    "    def minCameraCover(self, root: TreeNode) -> int:\n",
    "        res = 0\n",
    "        \n",
    "        def solve(node):\n",
    "            if node is None:\n",
    "                return 0, 0, float('inf')\n",
    "            L = solve(node.left)\n",
    "            R = solve(node.right)\n",
    "            \n",
    "            # dp0: 子树都已覆盖\n",
    "            # dp1: 子树及本节点都已覆盖, 没有在本节点放置相机\n",
    "            # dp2: 子树及本节点都已覆盖, 在本节点放置相机\n",
    "            dp0 = L[1] + R[1]\n",
    "            dp1 = min(L[2] + min(R[1:]),\n",
    "                     R[2] + min(L[1:])\n",
    "                     )\n",
    "            dp2 = 1 + min(L) + min(R)\n",
    "            \n",
    "            return dp0, dp1, dp2\n",
    "        \n",
    "        return min(solve(root)[1:])"
   ]
  },
  {
   "cell_type": "code",
   "execution_count": null,
   "metadata": {},
   "outputs": [],
   "source": []
  }
 ],
 "metadata": {
  "kernelspec": {
   "display_name": "Python 3",
   "language": "python",
   "name": "python3"
  },
  "language_info": {
   "codemirror_mode": {
    "name": "ipython",
    "version": 3
   },
   "file_extension": ".py",
   "mimetype": "text/x-python",
   "name": "python",
   "nbconvert_exporter": "python",
   "pygments_lexer": "ipython3",
   "version": "3.6.7"
  }
 },
 "nbformat": 4,
 "nbformat_minor": 2
}
