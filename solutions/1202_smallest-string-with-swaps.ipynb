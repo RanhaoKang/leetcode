{
 "cells": [
  {
   "cell_type": "markdown",
   "metadata": {},
   "source": [
    "[1202. Smallest String With Swaps](https://leetcode.com/problems/smallest-string-with-swaps/)"
   ]
  },
  {
   "cell_type": "markdown",
   "metadata": {},
   "source": [
    "Graph对每个联通子图排序"
   ]
  },
  {
   "cell_type": "code",
   "execution_count": 1,
   "metadata": {},
   "outputs": [],
   "source": [
    "class Solution:\n",
    "    def smallestStringWithSwaps(self, s: str, pairs) -> str:\n",
    "        def dfs(i):\n",
    "            visited[i] = True\n",
    "            component.append(i)\n",
    "            for j in adj_lst[i]:\n",
    "                if not visited[j]:\n",
    "                    dfs(j)\n",
    "            \n",
    "        n = len(s)\n",
    "        adj_lst = [[] for _ in range(n)]\n",
    "        for i, j in pairs:\n",
    "            adj_lst[i].append(j)\n",
    "            adj_lst[j].append(i)\n",
    "        visited = [False for _ in range(n)]\n",
    "        lst = list(s)\n",
    "        for i in range(n):\n",
    "            if not visited[i]:\n",
    "                component = []\n",
    "                dfs(i)\n",
    "                component.sort()\n",
    "                chars = [lst[k] for k in component]\n",
    "                chars.sort()\n",
    "                for i in range(len(component)):\n",
    "                    lst[component[i]] = chars[i]\n",
    "        return ''.join(lst)"
   ]
  },
  {
   "cell_type": "code",
   "execution_count": null,
   "metadata": {},
   "outputs": [],
   "source": []
  }
 ],
 "metadata": {
  "kernelspec": {
   "display_name": "Python 3",
   "language": "python",
   "name": "python3"
  },
  "language_info": {
   "codemirror_mode": {
    "name": "ipython",
    "version": 3
   },
   "file_extension": ".py",
   "mimetype": "text/x-python",
   "name": "python",
   "nbconvert_exporter": "python",
   "pygments_lexer": "ipython3",
   "version": "3.8.1"
  }
 },
 "nbformat": 4,
 "nbformat_minor": 4
}
