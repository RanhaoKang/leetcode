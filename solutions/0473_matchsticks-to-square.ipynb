{
 "cells": [
  {
   "cell_type": "markdown",
   "metadata": {},
   "source": [
    "[473. Matchsticks to Square](https://leetcode.com/problems/matchsticks-to-square/)"
   ]
  },
  {
   "cell_type": "markdown",
   "metadata": {},
   "source": [
    "回溯DFS, 2704ms"
   ]
  },
  {
   "cell_type": "code",
   "execution_count": 26,
   "metadata": {},
   "outputs": [],
   "source": [
    "class Solution:\n",
    "    def makesquare(self, A) -> bool:\n",
    "        side, mod = divmod(sum(A), 4)\n",
    "        if mod or len(A) < 4 or any(a > side for a in A):\n",
    "            return False\n",
    "        \n",
    "        from collections import Counter\n",
    "        cnt = Counter(A)\n",
    "        A = sorted(cnt, reverse = True)\n",
    "        \n",
    "        def dfs(target):\n",
    "            if target == 0:\n",
    "                return True\n",
    "\n",
    "            for i in A:\n",
    "                if i <= target and cnt[i]:\n",
    "                    cnt[i] -= 1\n",
    "                    if dfs(target - i):\n",
    "                        return True\n",
    "                    cnt[i] += 1\n",
    "            \n",
    "            return False\n",
    "        \n",
    "        return all(dfs(side) for _ in range(4))"
   ]
  },
  {
   "cell_type": "code",
   "execution_count": 27,
   "metadata": {},
   "outputs": [
    {
     "data": {
      "text/plain": [
       "True"
      ]
     },
     "execution_count": 27,
     "metadata": {},
     "output_type": "execute_result"
    }
   ],
   "source": [
    "Solution().makesquare([1,1,2,2,2])"
   ]
  },
  {
   "cell_type": "markdown",
   "metadata": {},
   "source": [
    "Solution的答案, 448ms"
   ]
  },
  {
   "cell_type": "code",
   "execution_count": null,
   "metadata": {},
   "outputs": [],
   "source": [
    "class Solution:\n",
    "    def makesquare(self, nums):\n",
    "        \"\"\"\n",
    "        :type nums: List[int]\n",
    "        :rtype: bool\n",
    "        \"\"\"\n",
    "        if not nums:\n",
    "            return False\n",
    "        L = len(nums)\n",
    "        perimeter = sum(nums)\n",
    "        possible_side =  perimeter // 4\n",
    "        if possible_side * 4 != perimeter:\n",
    "            return False\n",
    "\n",
    "        memo = {}\n",
    "        def recurse(mask, sides_done):\n",
    "\n",
    "            # This will calculate the total sum of matchsticks used till now using the bits of the mask.\n",
    "            total = 0\n",
    "            for i in range(L - 1, -1, -1):\n",
    "                if not (mask & (1 << i)):\n",
    "                    total += nums[L - 1 - i]\n",
    "\n",
    "            # If some of the matchsticks have been used and the sum is divisible by our square's side, then we increment the number of sides completed.\n",
    "            if total > 0 and total % possible_side == 0:\n",
    "                sides_done += 1\n",
    "\n",
    "            # If we were successfully able to form 3 sides, return True\n",
    "            if sides_done == 3:\n",
    "                return True\n",
    "\n",
    "            # If this recursion state has already been calculated, just return the stored value.\n",
    "            if (mask, sides_done) in memo:\n",
    "                return memo[(mask, sides_done)]\n",
    "\n",
    "            # Common variable to store answer from all possible further recursions from this step.\n",
    "            ans = False\n",
    "\n",
    "            # rem stores available space in the current side (incomplete).\n",
    "            c = int(total / possible_side)\n",
    "            rem = possible_side * (c + 1) - total\n",
    "\n",
    "            # Iterate over all the matchsticks\n",
    "            for i in range(L - 1, -1, -1):\n",
    "\n",
    "                # If the current one can fit in the remaining space of the side and it hasn't already been taken, then try it out\n",
    "                if nums[L - 1 - i] <= rem and mask&(1 << i):\n",
    "\n",
    "                    # If the recursion after considering this matchstick gives a True result, just break. No need to look any further.\n",
    "                    # mask ^ (1 << i) makes the i^th from the right, 0 making it unavailable in future recursions.\n",
    "                    if recurse(mask ^ (1 << i), sides_done):\n",
    "                        ans = True\n",
    "                        break\n",
    "            # cache the result for the current recursion state.            \n",
    "            memo[(mask, sides_done)] = ans\n",
    "            return ans\n",
    "\n",
    "        # recurse with the initial mask with all matchsticks available.\n",
    "        return recurse((1 << L) - 1, 0)"
   ]
  }
 ],
 "metadata": {
  "kernelspec": {
   "display_name": "Python 3",
   "language": "python",
   "name": "python3"
  },
  "language_info": {
   "codemirror_mode": {
    "name": "ipython",
    "version": 3
   },
   "file_extension": ".py",
   "mimetype": "text/x-python",
   "name": "python",
   "nbconvert_exporter": "python",
   "pygments_lexer": "ipython3",
   "version": "3.8.1"
  }
 },
 "nbformat": 4,
 "nbformat_minor": 4
}
