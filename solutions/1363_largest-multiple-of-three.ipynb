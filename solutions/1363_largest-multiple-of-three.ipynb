{
 "cells": [
  {
   "cell_type": "markdown",
   "metadata": {},
   "source": [
    "[1363. Largest Multiple of Three](https://leetcode.com/problems/largest-multiple-of-three/)"
   ]
  },
  {
   "cell_type": "code",
   "execution_count": 2,
   "metadata": {},
   "outputs": [],
   "source": [
    "class Solution:\n",
    "    def largestMultipleOfThree(self, A) -> str:\n",
    "        total = sum(A)\n",
    "        count = collections.Counter(A)\n",
    "        A.sort(reverse = True)\n",
    "\n",
    "        def f(i):\n",
    "            if count[i]:\n",
    "                A.remove(i)\n",
    "                count[i] -= 1\n",
    "            if not A:\n",
    "                return ''\n",
    "            if not any(A):\n",
    "                return '0'\n",
    "            if sum(A) % 3 == 0:\n",
    "                return ''.join(map(str, A))\n",
    "\n",
    "        if total % 3 == 0:\n",
    "            return f(-1)\n",
    "        if total % 3 == 1 and count[1] + count[4] + count[7]:\n",
    "            return f(1) or f(4) or f(7)\n",
    "        if total % 3 == 2 and count[2] + count[5] + count[8]:\n",
    "            return f(2) or f(5) or f(8)\n",
    "        if total % 3 == 2:\n",
    "            return f(1) or f(1) or f(4) or f(4) or f(7) or f(7)\n",
    "        return f(2) or f(2) or f(5) or f(5) or f(8) or f(8)"
   ]
  },
  {
   "cell_type": "code",
   "execution_count": null,
   "metadata": {},
   "outputs": [],
   "source": []
  }
 ],
 "metadata": {
  "kernelspec": {
   "display_name": "Python 3",
   "language": "python",
   "name": "python3"
  },
  "language_info": {
   "codemirror_mode": {
    "name": "ipython",
    "version": 3
   },
   "file_extension": ".py",
   "mimetype": "text/x-python",
   "name": "python",
   "nbconvert_exporter": "python",
   "pygments_lexer": "ipython3",
   "version": "3.8.1"
  }
 },
 "nbformat": 4,
 "nbformat_minor": 4
}
