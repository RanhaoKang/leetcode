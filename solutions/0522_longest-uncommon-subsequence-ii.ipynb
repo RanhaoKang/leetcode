{
 "cells": [
  {
   "cell_type": "markdown",
   "metadata": {},
   "source": [
    "[522. Longest Uncommon Subsequence II](https://leetcode.com/problems/longest-uncommon-subsequence-ii/)"
   ]
  },
  {
   "cell_type": "code",
   "execution_count": 2,
   "metadata": {},
   "outputs": [],
   "source": [
    "class Solution:\n",
    "    def findLUSlength(self, A) -> int:\n",
    "        def subseq(s1, s2):\n",
    "            it = iter(s2)\n",
    "            return all(i in it for i in s1)\n",
    "        \n",
    "        A.sort(key = len, reverse = True)\n",
    "        for i, w1 in enumerate(A):\n",
    "            if all(not subseq(w1, w2) for j, w2 in enumerate(A) if i != j):\n",
    "                return len(w1)\n",
    "        \n",
    "        return -1"
   ]
  },
  {
   "cell_type": "code",
   "execution_count": null,
   "metadata": {},
   "outputs": [],
   "source": []
  }
 ],
 "metadata": {
  "kernelspec": {
   "display_name": "Python 3",
   "language": "python",
   "name": "python3"
  },
  "language_info": {
   "codemirror_mode": {
    "name": "ipython",
    "version": 3
   },
   "file_extension": ".py",
   "mimetype": "text/x-python",
   "name": "python",
   "nbconvert_exporter": "python",
   "pygments_lexer": "ipython3",
   "version": "3.8.1"
  }
 },
 "nbformat": 4,
 "nbformat_minor": 4
}
