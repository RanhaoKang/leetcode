{
 "cells": [
  {
   "cell_type": "markdown",
   "metadata": {},
   "source": [
    "[844. Backspace String Compare](https://leetcode.com/problems/backspace-string-compare/)"
   ]
  },
  {
   "cell_type": "code",
   "execution_count": 1,
   "metadata": {},
   "outputs": [],
   "source": [
    "import itertools\n",
    "\n",
    "class Solution:\n",
    "    def backspaceCompare(self, S, T):\n",
    "        def F(S):\n",
    "            skip = 0\n",
    "            for x in reversed(S):\n",
    "                if x == '#':\n",
    "                    skip += 1\n",
    "                elif skip:\n",
    "                    skip -= 1\n",
    "                else:\n",
    "                    yield x\n",
    "\n",
    "        return all(x == y for x, y in itertools.zip_longest(F(S), F(T)))"
   ]
  },
  {
   "cell_type": "code",
   "execution_count": null,
   "metadata": {},
   "outputs": [],
   "source": []
  }
 ],
 "metadata": {
  "kernelspec": {
   "display_name": "Python 3",
   "language": "python",
   "name": "python3"
  },
  "language_info": {
   "codemirror_mode": {
    "name": "ipython",
    "version": 3
   },
   "file_extension": ".py",
   "mimetype": "text/x-python",
   "name": "python",
   "nbconvert_exporter": "python",
   "pygments_lexer": "ipython3",
   "version": "3.6.7"
  }
 },
 "nbformat": 4,
 "nbformat_minor": 2
}
