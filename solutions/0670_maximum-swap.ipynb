{
 "cells": [
  {
   "cell_type": "markdown",
   "metadata": {},
   "source": [
    "[670. Maximum Swap](https://leetcode.com/problems/maximum-swap/)"
   ]
  },
  {
   "cell_type": "markdown",
   "metadata": {},
   "source": [
    "自己写的, 24ms"
   ]
  },
  {
   "cell_type": "code",
   "execution_count": 64,
   "metadata": {},
   "outputs": [],
   "source": [
    "class Solution:\n",
    "    def maximumSwap(self, num: int) -> int:\n",
    "        from collections import Counter\n",
    "        s = str(num)\n",
    "        cnt = Counter(s)\n",
    "        stack = sorted(cnt)\n",
    "        \n",
    "        for i, n in enumerate(s):\n",
    "            if n == stack[-1]:\n",
    "                cnt[n] -= 1\n",
    "                if cnt[n] == 0:\n",
    "                    stack.pop()\n",
    "            else:\n",
    "                j = s.rfind(stack[-1])\n",
    "                \n",
    "                l = list(s)\n",
    "                l[i], l[j] = l[j], l[i]\n",
    "                return int(''.join(l))\n",
    "        \n",
    "        return num"
   ]
  },
  {
   "cell_type": "code",
   "execution_count": 65,
   "metadata": {},
   "outputs": [
    {
     "data": {
      "text/plain": [
       "7236"
      ]
     },
     "execution_count": 65,
     "metadata": {},
     "output_type": "execute_result"
    }
   ],
   "source": [
    "Solution().maximumSwap(2736)"
   ]
  },
  {
   "cell_type": "code",
   "execution_count": 66,
   "metadata": {},
   "outputs": [
    {
     "data": {
      "text/plain": [
       "9973"
      ]
     },
     "execution_count": 66,
     "metadata": {},
     "output_type": "execute_result"
    }
   ],
   "source": [
    "Solution().maximumSwap(9973)"
   ]
  },
  {
   "cell_type": "markdown",
   "metadata": {},
   "source": [
    "缩减一下代码, 28ms"
   ]
  },
  {
   "cell_type": "code",
   "execution_count": 67,
   "metadata": {},
   "outputs": [],
   "source": [
    "class Solution:\n",
    "    def maximumSwap(self, num: int) -> int:\n",
    "        s = str(num)\n",
    "        stack = sorted(s)\n",
    "        \n",
    "        for i, n in enumerate(s):\n",
    "            if n == stack[-1]:\n",
    "                stack.pop()\n",
    "            else:\n",
    "                j = s.rfind(stack[-1])\n",
    "                \n",
    "                l = list(s)\n",
    "                l[i], l[j] = l[j], l[i]\n",
    "                return int(''.join(l))\n",
    "        \n",
    "        return num"
   ]
  },
  {
   "cell_type": "markdown",
   "metadata": {},
   "source": [
    "大佬的答案, 24ms"
   ]
  },
  {
   "cell_type": "code",
   "execution_count": 68,
   "metadata": {},
   "outputs": [],
   "source": [
    "class Solution:\n",
    "    def maximumSwap(self, num):\n",
    "        places = [10 ** i for i in range(len(str(num)))]\n",
    "        return max(num + num // p % 10 * (q - p) + num // q % 10 * (p - q)\n",
    "                   for p in places for q in places)"
   ]
  },
  {
   "cell_type": "code",
   "execution_count": null,
   "metadata": {},
   "outputs": [],
   "source": []
  }
 ],
 "metadata": {
  "kernelspec": {
   "display_name": "Python 3",
   "language": "python",
   "name": "python3"
  },
  "language_info": {
   "codemirror_mode": {
    "name": "ipython",
    "version": 3
   },
   "file_extension": ".py",
   "mimetype": "text/x-python",
   "name": "python",
   "nbconvert_exporter": "python",
   "pygments_lexer": "ipython3",
   "version": "3.8.1"
  }
 },
 "nbformat": 4,
 "nbformat_minor": 4
}
