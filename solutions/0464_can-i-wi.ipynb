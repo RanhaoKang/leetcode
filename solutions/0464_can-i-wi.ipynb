{
 "cells": [
  {
   "cell_type": "markdown",
   "metadata": {},
   "source": [
    "[464. Can I Wi](https://leetcode.com/problems/can-i-win/)"
   ]
  },
  {
   "cell_type": "code",
   "execution_count": 6,
   "metadata": {},
   "outputs": [],
   "source": [
    "class Solution:\n",
    "    def canIWin(self, maxChoosableInteger: int, desiredTotal: int) -> bool:\n",
    "        # 如果目标和在可选数范围内, 必胜\n",
    "        if maxChoosableInteger >= desiredTotal:\n",
    "            return True\n",
    "    \n",
    "        # 无法整除时, 会留下一次\n",
    "        if desiredTotal % maxChoosableInteger:\n",
    "            # 如果是奇数倍, 如10 11, 先手必输, 10 31时, \n",
    "            return (desiredTotal // maxChoosableInteger) % 2 == 0\n",
    "        else:\n",
    "            return (desiredTotal // maxChoosableInteger) % 2 != 0"
   ]
  },
  {
   "cell_type": "code",
   "execution_count": 7,
   "metadata": {},
   "outputs": [
    {
     "data": {
      "text/plain": [
       "True"
      ]
     },
     "execution_count": 7,
     "metadata": {},
     "output_type": "execute_result"
    }
   ],
   "source": [
    "Solution().canIWin(10, 40)"
   ]
  },
  {
   "cell_type": "code",
   "execution_count": null,
   "metadata": {},
   "outputs": [],
   "source": []
  }
 ],
 "metadata": {
  "kernelspec": {
   "display_name": "Python 3",
   "language": "python",
   "name": "python3"
  },
  "language_info": {
   "codemirror_mode": {
    "name": "ipython",
    "version": 3
   },
   "file_extension": ".py",
   "mimetype": "text/x-python",
   "name": "python",
   "nbconvert_exporter": "python",
   "pygments_lexer": "ipython3",
   "version": "3.6.7"
  }
 },
 "nbformat": 4,
 "nbformat_minor": 2
}
