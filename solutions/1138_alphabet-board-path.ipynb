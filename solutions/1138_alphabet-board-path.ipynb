{
 "cells": [
  {
   "cell_type": "markdown",
   "metadata": {},
   "source": [
    "[1138. Alphabet Board Path](https://leetcode.com/problems/alphabet-board-path/)"
   ]
  },
  {
   "cell_type": "markdown",
   "metadata": {},
   "source": [
    "主要问题是`z`处在一个尴尬的位置"
   ]
  },
  {
   "cell_type": "code",
   "execution_count": 29,
   "metadata": {},
   "outputs": [],
   "source": [
    "class Solution:\n",
    "    def alphabetBoardPath(self, target: str) -> str:\n",
    "        # save position\n",
    "        from string import ascii_lowercase\n",
    "        pos = {k: (i // 5, i % 5) for i, k in enumerate(ascii_lowercase)}\n",
    "        \n",
    "        def path(y1, x1, y2, x2):\n",
    "            ud = ('U', 'D')[y2 - y1 > 0] * abs(y2 - y1)\n",
    "            lr = ('L', 'R')[x2 - x1 > 0] * abs(x2 - x1)\n",
    "            return ((lr + ud) if y2 - y1 > 0 else (ud + lr)) + '!'\n",
    "            \n",
    "        \n",
    "        s1, s2 = iter('a' + target), iter(target)\n",
    "        return ''.join(path(*pos[i], *pos[j]) for i, j in zip(s1, s2))"
   ]
  },
  {
   "cell_type": "code",
   "execution_count": 30,
   "metadata": {},
   "outputs": [
    {
     "data": {
      "text/plain": [
       "'DDDDD!UUUUURRR!LLLDDDDD!'"
      ]
     },
     "execution_count": 30,
     "metadata": {},
     "output_type": "execute_result"
    }
   ],
   "source": [
    "Solution().alphabetBoardPath('zdz')"
   ]
  },
  {
   "cell_type": "code",
   "execution_count": null,
   "metadata": {},
   "outputs": [],
   "source": []
  }
 ],
 "metadata": {
  "kernelspec": {
   "display_name": "Python 3",
   "language": "python",
   "name": "python3"
  },
  "language_info": {
   "codemirror_mode": {
    "name": "ipython",
    "version": 3
   },
   "file_extension": ".py",
   "mimetype": "text/x-python",
   "name": "python",
   "nbconvert_exporter": "python",
   "pygments_lexer": "ipython3",
   "version": "3.8.1"
  }
 },
 "nbformat": 4,
 "nbformat_minor": 4
}
