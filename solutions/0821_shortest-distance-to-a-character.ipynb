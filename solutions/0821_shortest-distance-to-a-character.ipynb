{
 "cells": [
  {
   "cell_type": "markdown",
   "metadata": {},
   "source": [
    "[821. Shortest Distance to a Character](https://leetcode.com/problems/shortest-distance-to-a-character/)"
   ]
  },
  {
   "cell_type": "code",
   "execution_count": 2,
   "metadata": {},
   "outputs": [],
   "source": [
    "class Solution:\n",
    "    def shortestToChar(self, S: str, C: str):\n",
    "        length = len(S)\n",
    "        res = [0] * length\n",
    "        \n",
    "        res[0] = 0 if S[0] == C else length\n",
    "        for i in range(1, length):\n",
    "            if S[i] == C:\n",
    "                res[i] = 0\n",
    "            else:\n",
    "                res[i] = res[i - 1] + 1\n",
    "        \n",
    "        for i in range(length - 2, -1, -1):\n",
    "            if S[i] == C:\n",
    "                res[i] = 0\n",
    "            else:\n",
    "                res[i] = min(res[i], res[i + 1] + 1)\n",
    "        \n",
    "        return res"
   ]
  },
  {
   "cell_type": "code",
   "execution_count": 3,
   "metadata": {},
   "outputs": [
    {
     "data": {
      "text/plain": [
       "[3, 2, 1, 0, 1, 0, 0, 1, 2, 2, 1, 0]"
      ]
     },
     "execution_count": 3,
     "metadata": {},
     "output_type": "execute_result"
    }
   ],
   "source": [
    "Solution().shortestToChar('loveleetcode', 'e')"
   ]
  },
  {
   "cell_type": "code",
   "execution_count": null,
   "metadata": {},
   "outputs": [],
   "source": []
  }
 ],
 "metadata": {
  "kernelspec": {
   "display_name": "Python 3",
   "language": "python",
   "name": "python3"
  },
  "language_info": {
   "codemirror_mode": {
    "name": "ipython",
    "version": 3
   },
   "file_extension": ".py",
   "mimetype": "text/x-python",
   "name": "python",
   "nbconvert_exporter": "python",
   "pygments_lexer": "ipython3",
   "version": "3.6.7"
  }
 },
 "nbformat": 4,
 "nbformat_minor": 2
}
