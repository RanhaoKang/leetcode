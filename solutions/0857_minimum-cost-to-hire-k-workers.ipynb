{
 "cells": [
  {
   "cell_type": "markdown",
   "metadata": {},
   "source": [
    "[857. Minimum Cost to Hire K Workers](https://leetcode.com/problems/minimum-cost-to-hire-k-workers/)"
   ]
  },
  {
   "cell_type": "markdown",
   "metadata": {},
   "source": [
    "把实际工资的结算从$w_i * ratio_i$求和改为`ratio * sum`是核心！"
   ]
  },
  {
   "cell_type": "code",
   "execution_count": 8,
   "metadata": {},
   "outputs": [],
   "source": [
    "class Solution:\n",
    "    def mincostToHireWorkers(self, quality, wage, K: int) -> float:\n",
    "        from fractions import Fraction\n",
    "        from heapq import heappush, heappop\n",
    "\n",
    "        # 优先考虑质量高要的少的\n",
    "        workers = sorted((Fraction(w, q), q, w) for q, w in zip(quality, wage))        \n",
    "        res, sum, pool = float('inf'), 0, []\n",
    "\n",
    "        for ratio, q, w in workers:\n",
    "            heappush(pool, -q)\n",
    "            sum += q\n",
    "            \n",
    "            # 如果超了，去掉质量最高的，理由见==K的逻辑\n",
    "            if len(pool) > K:\n",
    "                sum += heappop(pool)\n",
    "            \n",
    "            # 是按w/q从小到大处理的，w = max(w/q) * q = w/q * q\n",
    "            if len(pool) == K:\n",
    "                res = min(res, ratio * sum)\n",
    "        \n",
    "        return res"
   ]
  },
  {
   "cell_type": "code",
   "execution_count": 7,
   "metadata": {},
   "outputs": [
    {
     "name": "stdout",
     "output_type": "stream",
     "text": [
      "[-10]\n",
      "[-10, -10]\n",
      "[-10, -10, -3]\n",
      "[-10, -1, -3]\n",
      "[-3, -1, -1]\n"
     ]
    },
    {
     "data": {
      "text/plain": [
       "Fraction(92, 3)"
      ]
     },
     "execution_count": 7,
     "metadata": {},
     "output_type": "execute_result"
    }
   ],
   "source": [
    "Solution().mincostToHireWorkers([3,1,10,10,1], [4,8,2,2,7], 3)"
   ]
  },
  {
   "cell_type": "code",
   "execution_count": null,
   "metadata": {},
   "outputs": [],
   "source": []
  }
 ],
 "metadata": {
  "kernelspec": {
   "display_name": "Python 3",
   "language": "python",
   "name": "python3"
  },
  "language_info": {
   "codemirror_mode": {
    "name": "ipython",
    "version": 3
   },
   "file_extension": ".py",
   "mimetype": "text/x-python",
   "name": "python",
   "nbconvert_exporter": "python",
   "pygments_lexer": "ipython3",
   "version": "3.8.1"
  }
 },
 "nbformat": 4,
 "nbformat_minor": 4
}
