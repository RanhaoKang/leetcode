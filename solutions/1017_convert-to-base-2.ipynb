{
 "cells": [
  {
   "cell_type": "markdown",
   "metadata": {},
   "source": [
    "[1017. Convert to Base -2](https://leetcode.com/problems/convert-to-base-2/)"
   ]
  },
  {
   "cell_type": "code",
   "execution_count": 4,
   "metadata": {},
   "outputs": [],
   "source": [
    "class Solution:\n",
    "    def baseNeg2(self, N: int) -> str:\n",
    "        # get highest\n",
    "        bit = 0\n",
    "        while (2) ** bit <= N:\n",
    "            bit += 1\n",
    "        res = ['0'] * bit\n",
    "        \n",
    "        while bit >= 0:\n",
    "            if N >= (2) ** bit:\n",
    "                N -= (-2) ** bit\n",
    "                res[bit] = '1'\n",
    "            bit -= 1\n",
    "        \n",
    "        return ''.join(res)"
   ]
  },
  {
   "cell_type": "code",
   "execution_count": 17,
   "metadata": {},
   "outputs": [],
   "source": [
    "class Solution:\n",
    "    def baseNeg2(self, N: int) -> str:\n",
    "        if N == 0:\n",
    "            return '0'\n",
    "        \n",
    "        odd = need = False\n",
    "        res = []\n",
    "        while N:\n",
    "            print()\n",
    "            if not odd and need:\n",
    "                res.append('1')\n",
    "                need = False\n",
    "            else:\n",
    "                res.append(str(N & 1))\n",
    "                if N & 1:\n",
    "                    need = odd\n",
    "            \n",
    "            N >>= 1\n",
    "            odd ^= True\n",
    "        if need:\n",
    "            res.append('1')\n",
    "        return ''.join(reversed(res))"
   ]
  },
  {
   "cell_type": "code",
   "execution_count": 18,
   "metadata": {},
   "outputs": [
    {
     "data": {
      "text/plain": [
       "'110'"
      ]
     },
     "execution_count": 18,
     "metadata": {},
     "output_type": "execute_result"
    }
   ],
   "source": [
    "Solution().baseNeg2(6)"
   ]
  },
  {
   "cell_type": "code",
   "execution_count": 32,
   "metadata": {},
   "outputs": [
    {
     "data": {
      "text/plain": [
       "'0b101'"
      ]
     },
     "execution_count": 32,
     "metadata": {},
     "output_type": "execute_result"
    }
   ],
   "source": [
    "bin(5)"
   ]
  },
  {
   "cell_type": "code",
   "execution_count": 7,
   "metadata": {},
   "outputs": [],
   "source": [
    "a = True"
   ]
  },
  {
   "cell_type": "code",
   "execution_count": 9,
   "metadata": {},
   "outputs": [],
   "source": [
    "a ^= True"
   ]
  },
  {
   "cell_type": "code",
   "execution_count": 10,
   "metadata": {},
   "outputs": [
    {
     "data": {
      "text/plain": [
       "False"
      ]
     },
     "execution_count": 10,
     "metadata": {},
     "output_type": "execute_result"
    }
   ],
   "source": [
    "a"
   ]
  },
  {
   "cell_type": "markdown",
   "metadata": {},
   "source": [
    "位运算博大精深...32-bit的mask博大精深..."
   ]
  },
  {
   "cell_type": "code",
   "execution_count": 1,
   "metadata": {},
   "outputs": [],
   "source": [
    "class Solution:\n",
    "    def baseNeg2(self, N: int) -> str:\n",
    "        return bin(1431655765 ^ (1431655765 - N))[2:]"
   ]
  },
  {
   "cell_type": "code",
   "execution_count": null,
   "metadata": {},
   "outputs": [],
   "source": []
  }
 ],
 "metadata": {
  "kernelspec": {
   "display_name": "Python 3",
   "language": "python",
   "name": "python3"
  },
  "language_info": {
   "codemirror_mode": {
    "name": "ipython",
    "version": 3
   },
   "file_extension": ".py",
   "mimetype": "text/x-python",
   "name": "python",
   "nbconvert_exporter": "python",
   "pygments_lexer": "ipython3",
   "version": "3.6.7"
  }
 },
 "nbformat": 4,
 "nbformat_minor": 2
}
