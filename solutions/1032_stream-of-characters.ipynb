{
 "cells": [
  {
   "cell_type": "markdown",
   "metadata": {},
   "source": [
    "[1032. Stream of Characters](https://leetcode.com/problems/stream-of-characters/)"
   ]
  },
  {
   "cell_type": "markdown",
   "metadata": {},
   "source": [
    "Runtime: 8236 ms, faster than 9.18% of Python3 online submissions for Stream of Characters.\n",
    "\n",
    "Memory Usage: 28 MB, less than 93.97% of Python3 online submissions for Stream of Characters.\n",
    "\n",
    "震撼..."
   ]
  },
  {
   "cell_type": "code",
   "execution_count": 23,
   "metadata": {},
   "outputs": [],
   "source": [
    "from collections import deque\n",
    "\n",
    "class StreamChecker:\n",
    "\n",
    "    def __init__(self, words):\n",
    "        self.words = set(words)\n",
    "        self.queue = deque(maxlen = len(max(words, key = len)))\n",
    "\n",
    "        \n",
    "    def query(self, letter: str) -> bool:\n",
    "        self.queue.append(letter)\n",
    "        tmp = ''.join(self.queue)\n",
    "        return any(tmp[-len(word):] == word for word in self.words)\n",
    "\n",
    "\n",
    "# Your StreamChecker object will be instantiated and called as such:\n",
    "# obj = StreamChecker(words)\n",
    "# param_1 = obj.query(letter)"
   ]
  },
  {
   "cell_type": "code",
   "execution_count": 21,
   "metadata": {},
   "outputs": [],
   "source": [
    "sc = StreamChecker(['cd', 'f', 'kl'])"
   ]
  },
  {
   "cell_type": "code",
   "execution_count": 22,
   "metadata": {},
   "outputs": [
    {
     "name": "stdout",
     "output_type": "stream",
     "text": [
      "a False\n",
      "b False\n",
      "c False\n",
      "d True\n",
      "e False\n",
      "f True\n",
      "g False\n",
      "h False\n",
      "i False\n",
      "j False\n",
      "k False\n",
      "l True\n"
     ]
    }
   ],
   "source": [
    "for char in 'abcdefghijkl':\n",
    "    print(char, sc.query(char))"
   ]
  },
  {
   "cell_type": "code",
   "execution_count": 15,
   "metadata": {},
   "outputs": [],
   "source": [
    "a = '1234567'"
   ]
  },
  {
   "cell_type": "code",
   "execution_count": 16,
   "metadata": {},
   "outputs": [
    {
     "data": {
      "text/plain": [
       "'67'"
      ]
     },
     "execution_count": 16,
     "metadata": {},
     "output_type": "execute_result"
    }
   ],
   "source": [
    "a[-2:]"
   ]
  },
  {
   "cell_type": "code",
   "execution_count": null,
   "metadata": {},
   "outputs": [],
   "source": []
  }
 ],
 "metadata": {
  "kernelspec": {
   "display_name": "Python 3",
   "language": "python",
   "name": "python3"
  },
  "language_info": {
   "codemirror_mode": {
    "name": "ipython",
    "version": 3
   },
   "file_extension": ".py",
   "mimetype": "text/x-python",
   "name": "python",
   "nbconvert_exporter": "python",
   "pygments_lexer": "ipython3",
   "version": "3.6.7"
  }
 },
 "nbformat": 4,
 "nbformat_minor": 2
}
