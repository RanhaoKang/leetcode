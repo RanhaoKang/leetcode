{
 "cells": [
  {
   "cell_type": "markdown",
   "metadata": {},
   "source": [
    "[324. Wiggle Sort II](https://leetcode.com/problems/wiggle-sort-ii/)"
   ]
  },
  {
   "cell_type": "markdown",
   "metadata": {},
   "source": [
    "自己的想法"
   ]
  },
  {
   "cell_type": "code",
   "execution_count": 1,
   "metadata": {},
   "outputs": [],
   "source": [
    "class Solution:\n",
    "    def wiggleSort(self, nums) -> None:\n",
    "        nums.sort()\n",
    "        half = len(nums[::2])\n",
    "        nums[::2], nums[1::2] = nums[:half][::-1], nums[half:][::-1]"
   ]
  },
  {
   "cell_type": "markdown",
   "metadata": {},
   "source": [
    "https://leetcode.com/problems/wiggle-sort-ii/discuss/77677/O(n)%2BO(1)-after-median-Virtual-Indexing\n",
    "\n",
    "用Python重写过之后WA但是还没太理解"
   ]
  },
  {
   "cell_type": "code",
   "execution_count": 13,
   "metadata": {},
   "outputs": [],
   "source": [
    "class Solution:\n",
    "    def wiggleSort(self, nums) -> None:\n",
    "        \"\"\"\n",
    "        Do not return anything, modify nums in-place instead.\n",
    "        \"\"\"\n",
    "        from heapq import nsmallest\n",
    "        \n",
    "        N = len(nums)\n",
    "        nth = nsmallest(N//2, nums)\n",
    "        mid = nums[N//2]\n",
    "        \n",
    "        # index-rewiring\n",
    "        A = lambda i: nums[(1 + 2 * i) % (N | 1)]\n",
    "            \n",
    "        \n",
    "        i, j, k = 0, 0, N - 1\n",
    "        while j <= k:\n",
    "            if A(j) > mid:\n",
    "                nums[(1 + 2 * i) % (N | 1)], nums[(1 + 2 * j) % (N | 1)] = nums[(1 + 2 * j) % (N | 1)], nums[(1 + 2 * i) % (N | 1)]\n",
    "                i += 1; j += 1\n",
    "                \n",
    "            elif A(j) < mid:\n",
    "                nums[(1 + 2 * j) % (N | 1)], nums[(1 + 2 * k) % (N | 1)] = nums[(1 + 2 * k) % (N | 1)], nums[(1 + 2 * j) % (N | 1)]\n",
    "                k -= 1\n",
    "            else:\n",
    "                j += 1\n",
    "            \n",
    "            "
   ]
  },
  {
   "cell_type": "code",
   "execution_count": 14,
   "metadata": {},
   "outputs": [
    {
     "data": {
      "text/plain": [
       "[1, 5, 1, 4, 1, 6]"
      ]
     },
     "execution_count": 14,
     "metadata": {},
     "output_type": "execute_result"
    }
   ],
   "source": [
    "A = [1, 5, 1, 1, 6, 4]\n",
    "Solution().wiggleSort(A)\n",
    "A"
   ]
  },
  {
   "cell_type": "code",
   "execution_count": 9,
   "metadata": {},
   "outputs": [],
   "source": [
    "exec('x=2')"
   ]
  },
  {
   "cell_type": "code",
   "execution_count": 10,
   "metadata": {},
   "outputs": [
    {
     "data": {
      "text/plain": [
       "2"
      ]
     },
     "execution_count": 10,
     "metadata": {},
     "output_type": "execute_result"
    }
   ],
   "source": [
    "x"
   ]
  },
  {
   "cell_type": "code",
   "execution_count": null,
   "metadata": {},
   "outputs": [],
   "source": []
  }
 ],
 "metadata": {
  "kernelspec": {
   "display_name": "Python 3",
   "language": "python",
   "name": "python3"
  },
  "language_info": {
   "codemirror_mode": {
    "name": "ipython",
    "version": 3
   },
   "file_extension": ".py",
   "mimetype": "text/x-python",
   "name": "python",
   "nbconvert_exporter": "python",
   "pygments_lexer": "ipython3",
   "version": "3.8.1"
  }
 },
 "nbformat": 4,
 "nbformat_minor": 4
}
