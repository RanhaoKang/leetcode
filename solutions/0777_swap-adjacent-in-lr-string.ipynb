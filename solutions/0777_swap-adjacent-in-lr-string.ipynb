{
 "cells": [
  {
   "cell_type": "markdown",
   "metadata": {},
   "source": [
    "[777. Swap Adjacent in LR String](https://leetcode.com/problems/swap-adjacent-in-lr-string/)"
   ]
  },
  {
   "cell_type": "markdown",
   "metadata": {},
   "source": [
    "一开始的想法：既然`R`和`L`的相对位置没有变化就删掉"
   ]
  },
  {
   "cell_type": "code",
   "execution_count": 1,
   "metadata": {},
   "outputs": [],
   "source": [
    "class Solution:\n",
    "    def canTransform(self, start: str, end: str) -> bool:\n",
    "        return start.replace('X', '') == end.replace('X', '')"
   ]
  },
  {
   "cell_type": "markdown",
   "metadata": {},
   "source": [
    "发现处理不了这样的case"
   ]
  },
  {
   "cell_type": "code",
   "execution_count": null,
   "metadata": {},
   "outputs": [],
   "source": [
    "\"XXRXXLXXXX\"\n",
    "\"XXXXRXXLXX\""
   ]
  },
  {
   "cell_type": "markdown",
   "metadata": {},
   "source": [
    "之后的想法：都处理到同样的位置（极致），发现写处理函数很麻烦"
   ]
  },
  {
   "cell_type": "code",
   "execution_count": null,
   "metadata": {},
   "outputs": [],
   "source": [
    "class Solution:\n",
    "    def canTransform(self, start: str, end: str) -> bool:\n",
    "        s = [(c, i) for i, c in enumerate(start) if c == 'L' or c == 'R']\n",
    "        e = [(c, i) for i, c in enumerate(end) if c == 'L' or c == 'R']\n",
    "        return len(s) == len(e) and all(\n",
    "            c1 == c2 and\n",
    "            (i1 >= i2 and \n",
    "             c1 == 'L' or \n",
    "             i1 <= i2 and \n",
    "             c1 == 'R') for (c1, i1), (c2, i2) in zip(s,e))"
   ]
  }
 ],
 "metadata": {
  "kernelspec": {
   "display_name": "Python 3",
   "language": "python",
   "name": "python3"
  },
  "language_info": {
   "codemirror_mode": {
    "name": "ipython",
    "version": 3
   },
   "file_extension": ".py",
   "mimetype": "text/x-python",
   "name": "python",
   "nbconvert_exporter": "python",
   "pygments_lexer": "ipython3",
   "version": "3.8.1"
  }
 },
 "nbformat": 4,
 "nbformat_minor": 4
}
