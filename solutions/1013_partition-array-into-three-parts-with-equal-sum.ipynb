{
 "cells": [
  {
   "cell_type": "markdown",
   "metadata": {},
   "source": [
    "[1013. Partition Array Into Three Parts With Equal Sum](https://leetcode.com/problems/partition-array-into-three-parts-with-equal-sum/)"
   ]
  },
  {
   "cell_type": "markdown",
   "metadata": {},
   "source": [
    "首先把Equal Sum问题化简为Subarray Sum问题, 然后从两端找, 降低代码复杂度."
   ]
  },
  {
   "cell_type": "code",
   "execution_count": 21,
   "metadata": {},
   "outputs": [],
   "source": [
    "class Solution:\n",
    "    def canThreePartsEqualSum(self, A) -> bool:\n",
    "        N = len(A)\n",
    "        l, r = 0, N - 1\n",
    "        \n",
    "        sum_ = sum(A)\n",
    "        if sum_ % 3:\n",
    "            return False\n",
    "        sum_ //= 3\n",
    "        \n",
    "        \n",
    "        left = A[l]\n",
    "        while l < N - 2 and left != sum_:\n",
    "            l += 1\n",
    "            left += A[l]\n",
    "            \n",
    "        right = A[r]\n",
    "        while r > l and right != sum_:\n",
    "            r -= 1\n",
    "            right += A[r]\n",
    "\n",
    "        return sum(A[l + 1: r]) == sum_"
   ]
  },
  {
   "cell_type": "code",
   "execution_count": 20,
   "metadata": {},
   "outputs": [
    {
     "name": "stdout",
     "output_type": "stream",
     "text": [
      "3 3\n"
     ]
    },
    {
     "data": {
      "text/plain": [
       "True"
      ]
     },
     "execution_count": 20,
     "metadata": {},
     "output_type": "execute_result"
    }
   ],
   "source": [
    "Solution().canThreePartsEqualSum([0,2,1,-6,6,-7,9,1,2,0,1])"
   ]
  },
  {
   "cell_type": "code",
   "execution_count": null,
   "metadata": {},
   "outputs": [],
   "source": []
  }
 ],
 "metadata": {
  "kernelspec": {
   "display_name": "Python 3",
   "language": "python",
   "name": "python3"
  },
  "language_info": {
   "codemirror_mode": {
    "name": "ipython",
    "version": 3
   },
   "file_extension": ".py",
   "mimetype": "text/x-python",
   "name": "python",
   "nbconvert_exporter": "python",
   "pygments_lexer": "ipython3",
   "version": "3.6.7"
  }
 },
 "nbformat": 4,
 "nbformat_minor": 2
}
