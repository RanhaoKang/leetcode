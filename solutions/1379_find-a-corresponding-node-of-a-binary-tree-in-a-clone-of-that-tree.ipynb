{
 "cells": [
  {
   "cell_type": "markdown",
   "metadata": {},
   "source": [
    "[1379. Find a Corresponding Node of a Binary Tree in a Clone of That Tree](https://leetcode.com/problems/find-a-corresponding-node-of-a-binary-tree-in-a-clone-of-that-tree/)"
   ]
  },
  {
   "cell_type": "markdown",
   "metadata": {},
   "source": [
    "既然是克隆树，按同样的步调`iterate`就可以, 756 ms, 好慢"
   ]
  },
  {
   "cell_type": "code",
   "execution_count": 6,
   "metadata": {},
   "outputs": [],
   "source": [
    "# Definition for a binary tree node.\n",
    "class TreeNode:\n",
    "    def __init__(self, x):\n",
    "        self.val = x\n",
    "        self.left = None\n",
    "        self.right = None\n",
    "\n",
    "class Solution:\n",
    "    def getTargetCopy(self, P: TreeNode, Q: TreeNode, target: TreeNode) -> TreeNode:\n",
    "        def it(node):\n",
    "            if node:\n",
    "                yield node\n",
    "                yield from it(node.left)\n",
    "                yield from it(node.right)\n",
    "\n",
    "        return next(q for p, q in zip(it(P), it(Q)) if p is target)"
   ]
  },
  {
   "cell_type": "markdown",
   "metadata": {},
   "source": [
    "660 ms"
   ]
  },
  {
   "cell_type": "code",
   "execution_count": 4,
   "metadata": {},
   "outputs": [],
   "source": [
    "class Solution:\n",
    "    def getTargetCopy(self, original: TreeNode, cloned: TreeNode, target: TreeNode) -> TreeNode:\n",
    "        if original is target:\n",
    "            return cloned\n",
    "        lnode = None\n",
    "        if original.left:\n",
    "            lnode = self.getTargetCopy(original.left, cloned.left, target)\n",
    "        if lnode:\n",
    "            return lnode\n",
    "        if original.right:\n",
    "            return self.getTargetCopy(original.right, cloned.right, target)\n",
    "        return lnode"
   ]
  },
  {
   "cell_type": "code",
   "execution_count": null,
   "metadata": {},
   "outputs": [],
   "source": []
  }
 ],
 "metadata": {
  "kernelspec": {
   "display_name": "Python 3",
   "language": "python",
   "name": "python3"
  },
  "language_info": {
   "codemirror_mode": {
    "name": "ipython",
    "version": 3
   },
   "file_extension": ".py",
   "mimetype": "text/x-python",
   "name": "python",
   "nbconvert_exporter": "python",
   "pygments_lexer": "ipython3",
   "version": "3.8.1"
  }
 },
 "nbformat": 4,
 "nbformat_minor": 4
}
