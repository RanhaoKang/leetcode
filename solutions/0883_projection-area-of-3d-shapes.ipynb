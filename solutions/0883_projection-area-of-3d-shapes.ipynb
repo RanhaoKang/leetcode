{
 "cells": [
  {
   "cell_type": "markdown",
   "metadata": {},
   "source": [
    "[883. Projection Area of 3D Shapes](https://leetcode.com/problems/projection-area-of-3d-shapes/)"
   ]
  },
  {
   "cell_type": "code",
   "execution_count": 1,
   "metadata": {},
   "outputs": [],
   "source": [
    "class Solution:\n",
    "    def projectionArea(self, grid) -> int:\n",
    "        h, w = len(grid), len(grid and grid[0])\n",
    "        \n",
    "        # x\n",
    "        area_x = 0\n",
    "        for j in range(w):\n",
    "            area_x += max(grid[i][j] for i in range(h))\n",
    "        \n",
    "        # y\n",
    "        area_y = 0\n",
    "        for i in range(h):\n",
    "            area_y += max(grid[i])\n",
    "        \n",
    "        # z\n",
    "        area_z = 0\n",
    "        for i in range(h):\n",
    "            for j in range(w):\n",
    "                area_z += 1 if grid[i][j] else 0\n",
    "        \n",
    "        return area_x + area_y + area_z"
   ]
  },
  {
   "cell_type": "code",
   "execution_count": 2,
   "metadata": {},
   "outputs": [
    {
     "data": {
      "text/plain": [
       "5"
      ]
     },
     "execution_count": 2,
     "metadata": {},
     "output_type": "execute_result"
    }
   ],
   "source": [
    "Solution().projectionArea([[2]])"
   ]
  },
  {
   "cell_type": "code",
   "execution_count": null,
   "metadata": {},
   "outputs": [],
   "source": []
  }
 ],
 "metadata": {
  "kernelspec": {
   "display_name": "Python 3",
   "language": "python",
   "name": "python3"
  },
  "language_info": {
   "codemirror_mode": {
    "name": "ipython",
    "version": 3
   },
   "file_extension": ".py",
   "mimetype": "text/x-python",
   "name": "python",
   "nbconvert_exporter": "python",
   "pygments_lexer": "ipython3",
   "version": "3.6.7"
  }
 },
 "nbformat": 4,
 "nbformat_minor": 2
}
