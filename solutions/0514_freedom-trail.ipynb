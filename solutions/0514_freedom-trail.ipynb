{
 "cells": [
  {
   "cell_type": "markdown",
   "metadata": {},
   "source": [
    "[514. Freedom Trail](https://leetcode.com/problems/freedom-trail/)"
   ]
  },
  {
   "cell_type": "markdown",
   "metadata": {},
   "source": [
    "如果`ring`包含唯一的字符，问题很简单。\n",
    "如果包含不同的字符，则问题转换为在不同的拼写上一个字符的情况下，拼写当前字符的最小代价这样一个状态转移。"
   ]
  },
  {
   "cell_type": "code",
   "execution_count": 2,
   "metadata": {},
   "outputs": [],
   "source": [
    "class Solution:\n",
    "    def findRotateSteps(self, ring: str, key: str) -> int:\n",
    "        indices, N, dp, pre = collections.defaultdict(list), len(ring), [0] * len(ring), key[0]\n",
    "        for i, c in enumerate(ring):\n",
    "            indices[c].append(i)\n",
    "        for i in indices[key[0]]:\n",
    "            dp[i] = min(i, N - i) + 1\n",
    "        for c in key[1:]:\n",
    "            for i in indices[c]:\n",
    "                dp[i] = min(dp[j] + min(i - j, j + N - i) if i >= j else dp[j] + min(j - i, i + N - j) for j in indices[pre]) + 1\n",
    "            pre = c\n",
    "\n",
    "        return min(dp[i] for i in indices[key[-1]])"
   ]
  },
  {
   "cell_type": "code",
   "execution_count": 29,
   "metadata": {},
   "outputs": [],
   "source": [
    "from collections import defaultdict\n",
    "\n",
    "class Solution:\n",
    "    def findRotateSteps(self, ring: str, key: str) -> int:\n",
    "        N = len(ring)\n",
    "        def dist(i, j):\n",
    "            return (min(i - j, j + N - i) if i >= j else min(j - i, i + N - j)) + 1\n",
    "\n",
    "        indices = defaultdict(list)\n",
    "        for i, c in enumerate(ring):\n",
    "            indices[c].append(i)\n",
    "        dp = {i: dist(0, i) for i in indices[key[0]]}\n",
    "        for c in key[1:]:\n",
    "            dp = {j: min(d + dist(i, j) for i, d in dp.items()) for j in indices[c]}\n",
    "        return min(dp.values())"
   ]
  },
  {
   "cell_type": "code",
   "execution_count": 30,
   "metadata": {},
   "outputs": [
    {
     "data": {
      "text/plain": [
       "13"
      ]
     },
     "execution_count": 30,
     "metadata": {},
     "output_type": "execute_result"
    }
   ],
   "source": [
    "Solution().findRotateSteps(ring = \"pqwcx\", key = \"cpqwx\")"
   ]
  },
  {
   "cell_type": "code",
   "execution_count": null,
   "metadata": {},
   "outputs": [],
   "source": []
  }
 ],
 "metadata": {
  "kernelspec": {
   "display_name": "Python 3",
   "language": "python",
   "name": "python3"
  },
  "language_info": {
   "codemirror_mode": {
    "name": "ipython",
    "version": 3
   },
   "file_extension": ".py",
   "mimetype": "text/x-python",
   "name": "python",
   "nbconvert_exporter": "python",
   "pygments_lexer": "ipython3",
   "version": "3.8.1"
  }
 },
 "nbformat": 4,
 "nbformat_minor": 4
}
