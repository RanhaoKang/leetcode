{
 "cells": [
  {
   "cell_type": "markdown",
   "metadata": {},
   "source": [
    "[235. Lowest Common Ancestor of a Binary Search Tree](https://leetcode.com/problems/lowest-common-ancestor-of-a-binary-search-tree/)\n",
    "\n",
    "Given a binary search tree (BST), find the lowest common ancestor (LCA) of two given nodes in the BST.\n",
    "\n",
    "According to the [definition of LCA on Wikipedia](https://en.wikipedia.org/wiki/Lowest_common_ancestor): “The lowest common ancestor is defined between two nodes p and q as the lowest node in T that has both p and q as descendants (where we allow **a node to be a descendant of itself**).”\n",
    "\n",
    "Given binary search tree:  root = [6,2,8,0,4,7,9,null,null,3,5]\n",
    "```\n",
    "        _______6______\n",
    "       /              \\\n",
    "    ___2__          ___8__\n",
    "   /      \\        /      \\\n",
    "   0      _4       7       9\n",
    "         /  \\\n",
    "         3   5\n",
    "```\n",
    "**Example 1:**\n",
    "```\n",
    "Input: root = [6,2,8,0,4,7,9,null,null,3,5], p = 2, q = 8\n",
    "Output: 6\n",
    "Explanation: The LCA of nodes 2 and 8 is 6.\n",
    "```\n",
    "**Example 2:**\n",
    "```\n",
    "Input: root = [6,2,8,0,4,7,9,null,null,3,5], p = 2, q = 4\n",
    "Output: 2\n",
    "Explanation: The LCA of nodes 2 and 4 is 2, since a node can be a descendant of itself \n",
    "             according to the LCA definition.\n",
    "```\n",
    "**Note:**\n",
    "\n",
    "All of the nodes' values will be unique.\n",
    "p and q are different and both values will exist in the BST."
   ]
  },
  {
   "cell_type": "code",
   "execution_count": 1,
   "metadata": {},
   "outputs": [],
   "source": [
    "# Definition for a binary tree node.\n",
    "# class TreeNode:\n",
    "#     def __init__(self, x):\n",
    "#         self.val = x\n",
    "#         self.left = None\n",
    "#         self.right = None\n",
    "\n",
    "class Solution:\n",
    "    def lowestCommonAncestor(self, root: 'TreeNode', p: 'TreeNode', q: 'TreeNode') -> 'TreeNode':\n",
    "        # p, q在同侧树\n",
    "        if root.val < min(p.val, q.val):\n",
    "            return self.lowestCommonAncestor(root.right, p, q)\n",
    "        elif root.val > max(p.val, q.val):\n",
    "            return self.lowestCommonAncestor(root.left, p, q)\n",
    "        # p, q在不同侧树\n",
    "        else:\n",
    "            return root\n",
    "        "
   ]
  },
  {
   "cell_type": "code",
   "execution_count": null,
   "metadata": {},
   "outputs": [],
   "source": []
  }
 ],
 "metadata": {
  "kernelspec": {
   "display_name": "Python 3",
   "language": "python",
   "name": "python3"
  },
  "language_info": {
   "codemirror_mode": {
    "name": "ipython",
    "version": 3
   },
   "file_extension": ".py",
   "mimetype": "text/x-python",
   "name": "python",
   "nbconvert_exporter": "python",
   "pygments_lexer": "ipython3",
   "version": "3.6.7"
  }
 },
 "nbformat": 4,
 "nbformat_minor": 2
}
