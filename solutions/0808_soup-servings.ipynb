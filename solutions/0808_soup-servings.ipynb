{
 "cells": [
  {
   "cell_type": "markdown",
   "metadata": {},
   "source": [
    "[808. Soup Servings](https://leetcode.com/problems/soup-servings/)"
   ]
  },
  {
   "cell_type": "code",
   "execution_count": 13,
   "metadata": {},
   "outputs": [],
   "source": [
    "class Solution:\n",
    "    def soupServings(self, N: int) -> float:\n",
    "        if N >= 4800:\n",
    "            return 1\n",
    "\n",
    "        from functools import lru_cache\n",
    "        @lru_cache(None)\n",
    "        def dp(a, b):\n",
    "            if a <= 0 and b <= 0:\n",
    "                return 0.5\n",
    "            if a <= 0:\n",
    "                return 1\n",
    "            if b <= 0:\n",
    "                return 0\n",
    "\n",
    "            return 0.25 * (dp(a - 100, b) +\n",
    "                    dp(a - 75, b - 25) +\n",
    "                    dp(a - 50, b - 50) +\n",
    "                    dp(a - 25, b - 75))\n",
    "        \n",
    "        return dp(N, N)"
   ]
  },
  {
   "cell_type": "code",
   "execution_count": 12,
   "metadata": {},
   "outputs": [
    {
     "data": {
      "text/plain": [
       "0.625"
      ]
     },
     "execution_count": 12,
     "metadata": {},
     "output_type": "execute_result"
    }
   ],
   "source": [
    "Solution().soupServings(50)"
   ]
  },
  {
   "cell_type": "code",
   "execution_count": null,
   "metadata": {},
   "outputs": [],
   "source": []
  }
 ],
 "metadata": {
  "kernelspec": {
   "display_name": "Python 3",
   "language": "python",
   "name": "python3"
  },
  "language_info": {
   "codemirror_mode": {
    "name": "ipython",
    "version": 3
   },
   "file_extension": ".py",
   "mimetype": "text/x-python",
   "name": "python",
   "nbconvert_exporter": "python",
   "pygments_lexer": "ipython3",
   "version": "3.8.1"
  }
 },
 "nbformat": 4,
 "nbformat_minor": 4
}
