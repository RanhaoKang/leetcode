{
 "cells": [
  {
   "cell_type": "markdown",
   "metadata": {},
   "source": [
    "[1074. Number of Submatrices That Sum to Target](https://leetcode.com/problems/number-of-submatrices-that-sum-to-target/)"
   ]
  },
  {
   "cell_type": "code",
   "execution_count": 3,
   "metadata": {},
   "outputs": [],
   "source": [
    "class Solution:\n",
    "    def numSubmatrixSumTarget(self, A, target: int) -> int:\n",
    "        H, W = len(A), len(A and A[0])\n",
    "        for row in A:\n",
    "            for i in range(W - 1):\n",
    "                row[i + 1] += row[i]\n",
    "        \n",
    "        res = 0\n",
    "        for i in range(W):\n",
    "            for j in range(i, W):\n",
    "                c = collections.Counter()\n",
    "                cur, c[0] = 0, 1\n",
    "                for k in range(H):\n",
    "                    cur += A[k][j] - (A[k][i - 1] if i > 0 else 0)\n",
    "                    res += c[cur - target]\n",
    "                    c[cur] += 1\n",
    "        \n",
    "        return res"
   ]
  },
  {
   "cell_type": "code",
   "execution_count": null,
   "metadata": {},
   "outputs": [],
   "source": []
  }
 ],
 "metadata": {
  "kernelspec": {
   "display_name": "Python 3",
   "language": "python",
   "name": "python3"
  },
  "language_info": {
   "codemirror_mode": {
    "name": "ipython",
    "version": 3
   },
   "file_extension": ".py",
   "mimetype": "text/x-python",
   "name": "python",
   "nbconvert_exporter": "python",
   "pygments_lexer": "ipython3",
   "version": "3.8.1"
  }
 },
 "nbformat": 4,
 "nbformat_minor": 4
}
