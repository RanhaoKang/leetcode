{
 "cells": [
  {
   "cell_type": "markdown",
   "metadata": {},
   "source": [
    "[1383. Maximum Performance of a Team](https://leetcode.com/problems/maximum-performance-of-a-team/)"
   ]
  },
  {
   "cell_type": "code",
   "execution_count": 2,
   "metadata": {},
   "outputs": [],
   "source": [
    "class Solution:\n",
    "    def maxPerformance(self, n: int, speed, efficiency, k: int) -> int:\n",
    "        from heapq import heappush, heappop\n",
    "        h = []\n",
    "        res = sSum = 0\n",
    "        for e, s in sorted(zip(efficiency, speed), reverse = True):\n",
    "            heappush(h, s)\n",
    "            sSum +=s\n",
    "            if len(h) > k:\n",
    "                sSum -= heappop(h)\n",
    "            res = max(res, sSum * e)\n",
    "        \n",
    "        return res % (10 ** 9 + 7)"
   ]
  },
  {
   "cell_type": "code",
   "execution_count": null,
   "metadata": {},
   "outputs": [],
   "source": []
  }
 ],
 "metadata": {
  "kernelspec": {
   "display_name": "Python 3",
   "language": "python",
   "name": "python3"
  },
  "language_info": {
   "codemirror_mode": {
    "name": "ipython",
    "version": 3
   },
   "file_extension": ".py",
   "mimetype": "text/x-python",
   "name": "python",
   "nbconvert_exporter": "python",
   "pygments_lexer": "ipython3",
   "version": "3.8.1"
  }
 },
 "nbformat": 4,
 "nbformat_minor": 4
}
