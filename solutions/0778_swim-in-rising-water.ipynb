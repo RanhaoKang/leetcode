{
 "cells": [
  {
   "cell_type": "markdown",
   "metadata": {},
   "source": [
    "[778. Swim in Rising Water](https://leetcode.com/problems/swim-in-rising-water/)"
   ]
  },
  {
   "cell_type": "markdown",
   "metadata": {},
   "source": [
    "优先队列，优先走代价低的路线"
   ]
  },
  {
   "cell_type": "code",
   "execution_count": 3,
   "metadata": {},
   "outputs": [],
   "source": [
    "class Solution:\n",
    "    def swimInWater(self, A) -> int:\n",
    "        from heapq import heappop, heappush\n",
    "        \n",
    "        N, queue, visited, T = len(A), [(A[0][0], 0, 0)], set(), 0\n",
    "        \n",
    "        while queue:\n",
    "            t, i, j = heappop(queue)\n",
    "            T = max(T, t)\n",
    "            if i == j == N - 1:\n",
    "                return T\n",
    "            visited.add((i, j))\n",
    "            \n",
    "            for I, J in [(i-1, j), (i+1, j), (i, j-1), (i, j+1)]:\n",
    "                if 0 <= I < N and 0 <= J < N and (I, J) not in visited:\n",
    "                    heappush(queue, (A[I][J], I, J))"
   ]
  },
  {
   "cell_type": "markdown",
   "metadata": {},
   "source": [
    "bisect"
   ]
  },
  {
   "cell_type": "code",
   "execution_count": 1,
   "metadata": {},
   "outputs": [],
   "source": [
    "class Solution:\n",
    "    def swimInWater(self, grid):\n",
    "        N = len(grid)\n",
    "        l, r = grid[0][0], N * N - 1\n",
    "\n",
    "        def reachable(T):\n",
    "            bfs = [(0, 0)]\n",
    "            seen = {(0, 0)}\n",
    "            for x, y in bfs:\n",
    "                if grid[x][y] <= T:\n",
    "                    if x == y == N - 1: return True\n",
    "                    for i, j in [(0, 1), (1, 0), (-1, 0), (0, -1)]:\n",
    "                        if 0 <= x + i < N and 0 <= y + j < N and (x + i, y + j) not in seen:\n",
    "                            seen.add((x + i, y + j))\n",
    "                            bfs.append((x + i, y + j))\n",
    "            return False\n",
    "\n",
    "        while l < r:\n",
    "            m = (l + r) / 2\n",
    "            if reachable(m): r = m\n",
    "            else: l = m + 1\n",
    "        return r"
   ]
  },
  {
   "cell_type": "code",
   "execution_count": null,
   "metadata": {},
   "outputs": [],
   "source": []
  }
 ],
 "metadata": {
  "kernelspec": {
   "display_name": "Python 3",
   "language": "python",
   "name": "python3"
  },
  "language_info": {
   "codemirror_mode": {
    "name": "ipython",
    "version": 3
   },
   "file_extension": ".py",
   "mimetype": "text/x-python",
   "name": "python",
   "nbconvert_exporter": "python",
   "pygments_lexer": "ipython3",
   "version": "3.8.1"
  }
 },
 "nbformat": 4,
 "nbformat_minor": 4
}
