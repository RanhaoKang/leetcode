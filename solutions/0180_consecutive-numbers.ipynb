{
 "cells": [
  {
   "cell_type": "markdown",
   "metadata": {},
   "source": [
    "[180. Consecutive Numbers](https://leetcode.com/problems/consecutive-numbers/)"
   ]
  },
  {
   "cell_type": "markdown",
   "metadata": {},
   "source": [
    "```sql\n",
    "# Write your MySQL query statement below\n",
    "SELECT DISTINCT\n",
    "    l1.Num AS ConsecutiveNums\n",
    "FROM\n",
    "    Logs l1,\n",
    "    Logs l2,\n",
    "    Logs l3\n",
    "WHERE\n",
    "    l1.Id = l2.Id - 1\n",
    "    AND l2.Id = l3.Id - 1\n",
    "    AND l1.Num = l2.Num\n",
    "    AND l2.Num = l3.Num\n",
    ";\n",
    "```"
   ]
  },
  {
   "cell_type": "code",
   "execution_count": 1,
   "metadata": {},
   "outputs": [],
   "source": [
    "import sqlite3\n",
    "con = sqlite3.connect(':memory:')\n",
    "cur = con.cursor()\n",
    "cur.execute(\"Create table If Not Exists Logs (Id int, Num int)\")\n",
    "\n",
    "cur.execute(\"insert into Logs (Id, Num) values ('1', '1')\")\n",
    "cur.execute(\"insert into Logs (Id, Num) values ('2', '1')\")\n",
    "cur.execute(\"insert into Logs (Id, Num) values ('3', '1')\")\n",
    "cur.execute(\"insert into Logs (Id, Num) values ('4', '2')\")\n",
    "cur.execute(\"insert into Logs (Id, Num) values ('5', '1')\")\n",
    "cur.execute(\"insert into Logs (Id, Num) values ('6', '2')\")\n",
    "cur.execute(\"insert into Logs (Id, Num) values ('7', '2')\")\n",
    "\n",
    "con.commit()"
   ]
  },
  {
   "cell_type": "code",
   "execution_count": 2,
   "metadata": {},
   "outputs": [
    {
     "data": {
      "text/plain": [
       "[(1, 1), (2, 1), (3, 1), (4, 2), (5, 1), (6, 2), (7, 2)]"
      ]
     },
     "execution_count": 2,
     "metadata": {},
     "output_type": "execute_result"
    }
   ],
   "source": [
    "cur.execute('select * from Logs;').fetchall()"
   ]
  },
  {
   "cell_type": "code",
   "execution_count": 3,
   "metadata": {},
   "outputs": [
    {
     "data": {
      "text/plain": [
       "[(1,)]"
      ]
     },
     "execution_count": 3,
     "metadata": {},
     "output_type": "execute_result"
    }
   ],
   "source": [
    "cur.execute('''\n",
    "SELECT DISTINCT\n",
    "    l1.Num AS ConsecutiveNums\n",
    "FROM\n",
    "    Logs l1,\n",
    "    Logs l2,\n",
    "    Logs l3\n",
    "WHERE\n",
    "    l1.Id = l2.Id - 1\n",
    "    AND l2.Id = l3.Id - 1\n",
    "    AND l1.Num = l2.Num\n",
    "    AND l2.Num = l3.Num\n",
    ";\n",
    "''').fetchall()"
   ]
  },
  {
   "cell_type": "code",
   "execution_count": null,
   "metadata": {},
   "outputs": [],
   "source": []
  }
 ],
 "metadata": {
  "kernelspec": {
   "display_name": "Python 3",
   "language": "python",
   "name": "python3"
  },
  "language_info": {
   "codemirror_mode": {
    "name": "ipython",
    "version": 3
   },
   "file_extension": ".py",
   "mimetype": "text/x-python",
   "name": "python",
   "nbconvert_exporter": "python",
   "pygments_lexer": "ipython3",
   "version": "3.6.7"
  }
 },
 "nbformat": 4,
 "nbformat_minor": 2
}
