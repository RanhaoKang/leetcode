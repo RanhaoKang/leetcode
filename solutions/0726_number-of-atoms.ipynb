{
 "cells": [
  {
   "cell_type": "markdown",
   "metadata": {},
   "source": [
    "[726. Number of Atoms](https://leetcode.com/problems/number-of-atoms/)"
   ]
  },
  {
   "cell_type": "code",
   "execution_count": 17,
   "metadata": {},
   "outputs": [],
   "source": [
    "class Solution:\n",
    "    def countOfAtoms(self, formula: str) -> str:\n",
    "        from collections import Counter\n",
    "        \n",
    "        dic, coeff, stack, elem, cnt, i = Counter(), 1, [], \"\", 0, 0\n",
    "        \n",
    "        for c in reversed(formula):\n",
    "            if c.isdigit():\n",
    "                cnt += int(c) * 10 ** i\n",
    "                i += 1\n",
    "            elif c == ')':\n",
    "                stack.append(cnt)\n",
    "                coeff *= cnt\n",
    "                i = cnt = 0\n",
    "            elif c == '(':\n",
    "                coeff //= stack.pop()\n",
    "                i = cnt = 0\n",
    "            elif c.isupper():\n",
    "                elem += c\n",
    "                dic[elem[::-1]] += (cnt or 1) * coeff\n",
    "                elem = \"\"\n",
    "                i = cnt = 0\n",
    "            elif c.islower():\n",
    "                elem += c\n",
    "            \n",
    "        return \"\".join(k + str(v > 1 and v or \"\") for k, v in sorted(dic.items()))"
   ]
  },
  {
   "cell_type": "code",
   "execution_count": null,
   "metadata": {},
   "outputs": [],
   "source": []
  }
 ],
 "metadata": {
  "kernelspec": {
   "display_name": "Python 3",
   "language": "python",
   "name": "python3"
  },
  "language_info": {
   "codemirror_mode": {
    "name": "ipython",
    "version": 3
   },
   "file_extension": ".py",
   "mimetype": "text/x-python",
   "name": "python",
   "nbconvert_exporter": "python",
   "pygments_lexer": "ipython3",
   "version": "3.8.0b3"
  }
 },
 "nbformat": 4,
 "nbformat_minor": 2
}
