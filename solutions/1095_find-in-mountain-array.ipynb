{
 "cells": [
  {
   "cell_type": "markdown",
   "metadata": {},
   "source": [
    "[1095. Find in Mountain Array](https://leetcode.com/problems/find-in-mountain-array/)"
   ]
  },
  {
   "cell_type": "code",
   "execution_count": 5,
   "metadata": {},
   "outputs": [],
   "source": [
    "# \"\"\"\n",
    "# This is MountainArray's API interface.\n",
    "# You should not implement it, or speculate about its implementation\n",
    "# \"\"\"\n",
    "#class MountainArray:\n",
    "#    def get(self, index: int) -> int:\n",
    "#    def length(self) -> int:\n",
    "\n",
    "class Solution:\n",
    "    def findInMountainArray(self, target: int, A: 'MountainArray') -> int:\n",
    "        N = A.length()\n",
    "        \n",
    "        # 找山顶\n",
    "        l, r = 0, N - 1\n",
    "        while l < r:\n",
    "            m = (l + r) // 2\n",
    "            if A.get(m) < A.get(m + 1):\n",
    "                l = peak = m + 1\n",
    "            else:\n",
    "                r = m\n",
    "        \n",
    "        # 左侧找元素\n",
    "        l, r = 0, peak\n",
    "        while l <= r:\n",
    "            m = (l + r) // 2\n",
    "            if A.get(m) < target:\n",
    "                l = m + 1\n",
    "            elif A.get(m) > target:\n",
    "                r = m - 1\n",
    "            else:\n",
    "                return m\n",
    "        \n",
    "        # 右侧找元素\n",
    "        l, r = peak, N - 1\n",
    "        while l <= r:\n",
    "            m = (l + r) // 2\n",
    "            if A.get(m) > target:\n",
    "                l = m + 1\n",
    "            elif A.get(m) < target:\n",
    "                r = m - 1\n",
    "            else:\n",
    "                return m\n",
    "        \n",
    "        return -1"
   ]
  },
  {
   "cell_type": "code",
   "execution_count": null,
   "metadata": {},
   "outputs": [],
   "source": []
  }
 ],
 "metadata": {
  "kernelspec": {
   "display_name": "Python 3",
   "language": "python",
   "name": "python3"
  },
  "language_info": {
   "codemirror_mode": {
    "name": "ipython",
    "version": 3
   },
   "file_extension": ".py",
   "mimetype": "text/x-python",
   "name": "python",
   "nbconvert_exporter": "python",
   "pygments_lexer": "ipython3",
   "version": "3.8.1"
  }
 },
 "nbformat": 4,
 "nbformat_minor": 4
}
