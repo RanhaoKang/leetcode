{
 "cells": [
  {
   "cell_type": "markdown",
   "metadata": {},
   "source": [
    "[393. UTF-8 Validation](https://leetcode.com/problems/utf-8-validation/)"
   ]
  },
  {
   "cell_type": "markdown",
   "metadata": {},
   "source": [
    "需求描述太复杂，本质很简单，抄了一个"
   ]
  },
  {
   "cell_type": "code",
   "execution_count": 1,
   "metadata": {},
   "outputs": [],
   "source": [
    "class Solution:\n",
    "    def validUtf8(self, data):\n",
    "        \"\"\"\n",
    "        :type data: List[int]\n",
    "        :rtype: bool\n",
    "        \"\"\"\n",
    "        count = 0\n",
    "        \n",
    "        for byte in data:\n",
    "            if byte >= 128 and byte <= 191:\n",
    "                if not count:\n",
    "                    return False\n",
    "                count -= 1\n",
    "            else:\n",
    "                if count:\n",
    "                    return False\n",
    "                if byte < 128:\n",
    "                    continue\n",
    "                elif byte < 224:\n",
    "                    count = 1\n",
    "                elif byte < 240:\n",
    "                    count = 2\n",
    "                elif byte < 248:\n",
    "                    count = 3\n",
    "                else:\n",
    "                    return False\n",
    "                    \n",
    "        return count == 0"
   ]
  },
  {
   "cell_type": "code",
   "execution_count": null,
   "metadata": {},
   "outputs": [],
   "source": []
  }
 ],
 "metadata": {
  "kernelspec": {
   "display_name": "Python 3",
   "language": "python",
   "name": "python3"
  },
  "language_info": {
   "codemirror_mode": {
    "name": "ipython",
    "version": 3
   },
   "file_extension": ".py",
   "mimetype": "text/x-python",
   "name": "python",
   "nbconvert_exporter": "python",
   "pygments_lexer": "ipython3",
   "version": "3.8.0b3"
  }
 },
 "nbformat": 4,
 "nbformat_minor": 2
}
