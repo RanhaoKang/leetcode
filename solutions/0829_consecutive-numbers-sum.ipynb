{
 "cells": [
  {
   "cell_type": "markdown",
   "metadata": {},
   "source": [
    "[829. Consecutive Numbers Sum](https://leetcode.com/problems/consecutive-numbers-sum/)"
   ]
  },
  {
   "cell_type": "code",
   "execution_count": 1,
   "metadata": {},
   "outputs": [],
   "source": [
    "class Solution:\n",
    "    def consecutiveNumbersSum(self, N: int) -> int:\n",
    "        res = 1\n",
    "        i = 3\n",
    "        while N % 2 == 0:\n",
    "            N /= 2\n",
    "        while i * i <= N:\n",
    "            count = 0\n",
    "            while N % i == 0:\n",
    "                N /= i\n",
    "                count += 1\n",
    "            res *= count + 1\n",
    "            i += 2\n",
    "        return res if N == 1 else res * 2"
   ]
  },
  {
   "cell_type": "code",
   "execution_count": null,
   "metadata": {},
   "outputs": [],
   "source": []
  }
 ],
 "metadata": {
  "kernelspec": {
   "display_name": "Python 3",
   "language": "python",
   "name": "python3"
  },
  "language_info": {
   "codemirror_mode": {
    "name": "ipython",
    "version": 3
   },
   "file_extension": ".py",
   "mimetype": "text/x-python",
   "name": "python",
   "nbconvert_exporter": "python",
   "pygments_lexer": "ipython3",
   "version": "3.8.1"
  }
 },
 "nbformat": 4,
 "nbformat_minor": 4
}
