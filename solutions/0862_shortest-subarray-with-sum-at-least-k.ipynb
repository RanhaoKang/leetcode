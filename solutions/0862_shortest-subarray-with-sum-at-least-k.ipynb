{
 "cells": [
  {
   "cell_type": "markdown",
   "metadata": {},
   "source": [
    "[862. Shortest Subarray with Sum at Least K](https://leetcode.com/problems/shortest-subarray-with-sum-at-least-k/)"
   ]
  },
  {
   "cell_type": "markdown",
   "metadata": {},
   "source": [
    "前面是subarry sum类型题的模板, 后面则通过一定的推理实现了$O(n)$.\n",
    "\n",
    "- 为什么`sum(0, i) <= sum(0, j)`时可以丢弃`j`的记录呢? 未来有没有可能出现`k > i`, 使得`sum(0, k) - sum(0, j) = sum(j, k) >= K`呢? 有可能, 不过此时`sum(0, k) - sum(0, i) = sum(i, k)`同样满足要求且长度更短.\n",
    "```python3\n",
    "...\n",
    "while queue and sum <= A[queue[-1]]:\n",
    "    queue.pop()\n",
    "...\n",
    "```\n",
    "- `queue`中`index`是自左向右递增, 我们从最左端开始判断. 当`sum(0, i) - sum(0, j) = sum(j, i)`满足要求时, 我们可以不再记录`j`了, 因为即便未来出现`k > i`同样满足情况, 长度也比`(j, i)`长了.\n",
    "```\n",
    "...\n",
    "while queue and sum - A[queue[0]] >= K:\n",
    "    res = min(res, idx - queue.popleft())\n",
    "...\n",
    "```\n",
    "- 自己有一个一开始没想明白的点, 这里记录下. 从第二点看容易觉得如果出现`[0, 3, 2, 1, 7]`(求和后)且目标为`6`这种, 左侧可以pop出`0`但会卡在`3`. 其实根据第一点, 这个队列是个单调递增队列, 此处的`3`和`2`已经在遍历到`1`时被pop掉了."
   ]
  },
  {
   "cell_type": "code",
   "execution_count": 39,
   "metadata": {},
   "outputs": [],
   "source": [
    "class Solution:\n",
    "    def shortestSubarray(self, A, K: int) -> int:\n",
    "        length = len(A)\n",
    "        res = length + 1\n",
    "        \n",
    "        if A[0] >= K:\n",
    "            return 1\n",
    "        \n",
    "        for i in range(1, length):\n",
    "            if A[i] >= K:\n",
    "                return 1\n",
    "            A[i] += A[i - 1]\n",
    "        \n",
    "        A = [0] + A\n",
    "        \n",
    "        from collections import deque\n",
    "        queue = deque()\n",
    "        \n",
    "        for idx, sum in enumerate(A):\n",
    "            \n",
    "            while queue and sum <= A[queue[-1]]:\n",
    "                queue.pop()\n",
    "            \n",
    "            while queue and sum - A[queue[0]] >= K:\n",
    "                res = min(res, idx - queue.popleft())\n",
    "        \n",
    "            queue.append(idx)\n",
    "        \n",
    "        return res if res <= length else -1"
   ]
  },
  {
   "cell_type": "code",
   "execution_count": 40,
   "metadata": {},
   "outputs": [
    {
     "data": {
      "text/plain": [
       "3"
      ]
     },
     "execution_count": 40,
     "metadata": {},
     "output_type": "execute_result"
    }
   ],
   "source": [
    "Solution().shortestSubarray([2, -1, 2], 3)"
   ]
  },
  {
   "cell_type": "code",
   "execution_count": null,
   "metadata": {},
   "outputs": [],
   "source": []
  }
 ],
 "metadata": {
  "kernelspec": {
   "display_name": "Python 3",
   "language": "python",
   "name": "python3"
  },
  "language_info": {
   "codemirror_mode": {
    "name": "ipython",
    "version": 3
   },
   "file_extension": ".py",
   "mimetype": "text/x-python",
   "name": "python",
   "nbconvert_exporter": "python",
   "pygments_lexer": "ipython3",
   "version": "3.6.7"
  }
 },
 "nbformat": 4,
 "nbformat_minor": 2
}
